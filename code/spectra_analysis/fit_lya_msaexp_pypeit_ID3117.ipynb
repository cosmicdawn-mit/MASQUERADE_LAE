{
 "cells": [
  {
   "cell_type": "code",
   "execution_count": 16,
   "id": "564ba0f3-571b-4107-8965-d9aa272f5456",
   "metadata": {},
   "outputs": [
    {
     "name": "stdout",
     "output_type": "stream",
     "text": [
      "The history saving thread hit an unexpected error (OperationalError('attempt to write a readonly database')).History will not be written to the database.\n"
     ]
    }
   ],
   "source": [
    "import os, sys\n",
    "sys.path.append('/Users/myue/Research/Projects/JWST/dependencies/msa_spec_utils/')\n",
    "\n",
    "import LAE_spec_utils as LAE\n",
    "\n",
    "import numpy as np\n",
    "from astropy.io import fits\n",
    "\n",
    "import matplotlib.pyplot as plt\n",
    "from astropy.table import Table, vstack, hstack\n",
    "from astropy import units\n",
    "\n",
    "import bilby\n",
    "from dynesty import utils as dyfunc\n",
    "\n",
    "#from mylib.spectrum.spec_measurement import Spectrum, read_filter, instru_filter_dict\n"
   ]
  },
  {
   "cell_type": "code",
   "execution_count": 17,
   "id": "b4b05e9e-ce4b-4557-b19b-43991d94c6db",
   "metadata": {},
   "outputs": [],
   "source": [
    "from astropy.cosmology import FlatLambdaCDM\n",
    "cosmo = FlatLambdaCDM(H0=70, Om0=0.3)\n",
    "RAq, Decq = 15.0542500, 28.0405000\n"
   ]
  },
  {
   "cell_type": "code",
   "execution_count": 18,
   "id": "89a53f71-fbf0-4bdc-b805-eb7ccca1c95c",
   "metadata": {},
   "outputs": [],
   "source": [
    "allinfo = Table.read('../../J1148_photcat_v2_O3CANDIDATES_all_CLUMPS.fits')"
   ]
  },
  {
   "cell_type": "code",
   "execution_count": 19,
   "id": "ec09b246-ad5b-47e8-861e-f4faec3468da",
   "metadata": {},
   "outputs": [],
   "source": [
    "if not os.path.isdir('../../data/lya_saves/J1148/plotfit_msaexp_pypeit/'):\n",
    "    os.system('mkdir -p ../../data/lya_saves/J1148/plotfit_msaexp_pypeit/corner/')\n",
    "    os.system('mkdir -p ../../data/lya_saves/J1148/plotfit_msaexp_pypeit/bestfit/')"
   ]
  },
  {
   "cell_type": "code",
   "execution_count": 22,
   "id": "843ac69b-835a-446e-a80b-39c922921bef",
   "metadata": {},
   "outputs": [
    {
     "name": "stderr",
     "output_type": "stream",
     "text": [
      "/Users/myue/Research/Projects/JWST/dependencies/msa_spec_utils/LAE_spec_utils.py:464: RuntimeWarning: divide by zero encountered in power\n",
      "  self.err_fnu = (self.ivar_fnu)**-0.5\n",
      "/Users/myue/Research/Projects/JWST/dependencies/msa_spec_utils/LAE_spec_utils.py:470: RuntimeWarning: invalid value encountered in divide\n",
      "  self.flam = self.fnu * speed_of_light_angstrom / (self.wave)**2 * 1e-29 * 1e18\n",
      "/Users/myue/Research/Projects/JWST/dependencies/msa_spec_utils/LAE_spec_utils.py:471: RuntimeWarning: divide by zero encountered in divide\n",
      "  self.err_flam = self.err_fnu * (speed_of_light_angstrom / (self.wave)**2 * 1e-29 * 1e18)\n",
      "13:42 bilby INFO    : Running for label '3117_2429', output will be saved to '../../data/lya_saves/J1148/bilby_fit_lya_msaexp_pypeit_v2/'\n",
      "13:42 bilby INFO    : Search parameters:\n",
      "13:42 bilby INFO    :   center = Uniform(minimum=7983.409905532775, maximum=8015.4075404246905, name='center', latex_label='center', unit=None, boundary=None)\n",
      "13:42 bilby INFO    :   fwhm = Uniform(minimum=300, maximum=1000, name='fwhm', latex_label='fwhm', unit=None, boundary=None)\n",
      "13:42 bilby INFO    :   flux = Uniform(minimum=-26.923898622085176, maximum=26.923898622085176, name='flux', latex_label='flux', unit=None, boundary=None)\n",
      "13:42 bilby INFO    :   A = Uniform(minimum=-0.18972837498736408, maximum=0.37945674997472817, name='A', latex_label='A', unit=None, boundary=None)\n",
      "13:42 bilby INFO    :   beta = Uniform(minimum=-4, maximum=0, name='beta', latex_label='beta', unit=None, boundary=None)\n",
      "13:42 bilby INFO    :   wave0 = 7999.408722978733\n",
      "13:42 bilby INFO    : Single likelihood evaluation took 8.397e-05 s\n"
     ]
    },
    {
     "data": {
      "application/vnd.jupyter.widget-view+json": {
       "model_id": "3f433efec5974772933ceabda88cb713",
       "version_major": 2,
       "version_minor": 0
      },
      "text/plain": [
       "0it [00:00, ?it/s]"
      ]
     },
     "metadata": {},
     "output_type": "display_data"
    },
    {
     "name": "stderr",
     "output_type": "stream",
     "text": [
      "13:42 bilby INFO    : Checkpoint every check_point_delta_t = 600s\n",
      "13:42 bilby WARNING : Using cached result\n",
      "13:42 bilby INFO    : Summary of results:\n",
      "nsamples: 2585\n",
      "ln_noise_evidence:    nan\n",
      "ln_evidence: 532.970 +/-  0.277\n",
      "ln_bayes_factor:    nan +/-  0.277\n",
      "\n",
      "/Users/myue/Research/Projects/JWST/dependencies/msa_spec_utils/LAE_spec_utils.py:464: RuntimeWarning: divide by zero encountered in power\n",
      "  self.err_fnu = (self.ivar_fnu)**-0.5\n",
      "/Users/myue/Research/Projects/JWST/dependencies/msa_spec_utils/LAE_spec_utils.py:470: RuntimeWarning: invalid value encountered in divide\n",
      "  self.flam = self.fnu * speed_of_light_angstrom / (self.wave)**2 * 1e-29 * 1e18\n",
      "/Users/myue/Research/Projects/JWST/dependencies/msa_spec_utils/LAE_spec_utils.py:471: RuntimeWarning: divide by zero encountered in divide\n",
      "  self.err_flam = self.err_fnu * (speed_of_light_angstrom / (self.wave)**2 * 1e-29 * 1e18)\n",
      "13:42 bilby INFO    : Running for label '3117_2637', output will be saved to '../../data/lya_saves/J1148/bilby_fit_lya_msaexp_pypeit_v2/'\n",
      "13:42 bilby INFO    : Search parameters:\n",
      "13:42 bilby INFO    :   center = Uniform(minimum=8537.77045503313, maximum=8571.989975894987, name='center', latex_label='center', unit=None, boundary=None)\n",
      "13:42 bilby INFO    :   fwhm = Uniform(minimum=300, maximum=1000, name='fwhm', latex_label='fwhm', unit=None, boundary=None)\n",
      "13:42 bilby INFO    :   flux = Uniform(minimum=-18.687875404546332, maximum=18.687875404546332, name='flux', latex_label='flux', unit=None, boundary=None)\n",
      "13:42 bilby INFO    :   A = Uniform(minimum=-0.1231397378281335, maximum=0.246279475656267, name='A', latex_label='A', unit=None, boundary=None)\n",
      "13:42 bilby INFO    :   beta = Uniform(minimum=-4, maximum=0, name='beta', latex_label='beta', unit=None, boundary=None)\n",
      "13:42 bilby INFO    :   wave0 = 8554.880215464058\n",
      "13:42 bilby INFO    : Single likelihood evaluation took 3.736e-05 s\n"
     ]
    },
    {
     "data": {
      "application/vnd.jupyter.widget-view+json": {
       "model_id": "346a137e4fd54d33b342fb98e4c8cd07",
       "version_major": 2,
       "version_minor": 0
      },
      "text/plain": [
       "0it [00:00, ?it/s]"
      ]
     },
     "metadata": {},
     "output_type": "display_data"
    },
    {
     "name": "stderr",
     "output_type": "stream",
     "text": [
      "13:42 bilby INFO    : Checkpoint every check_point_delta_t = 600s\n",
      "13:42 bilby WARNING : Using cached result\n",
      "13:42 bilby INFO    : Summary of results:\n",
      "nsamples: 2946\n",
      "ln_noise_evidence:    nan\n",
      "ln_evidence: 736.642 +/-  0.309\n",
      "ln_bayes_factor:    nan +/-  0.309\n",
      "\n",
      "/Users/myue/Research/Projects/JWST/dependencies/msa_spec_utils/LAE_spec_utils.py:464: RuntimeWarning: divide by zero encountered in power\n",
      "  self.err_fnu = (self.ivar_fnu)**-0.5\n",
      "/Users/myue/Research/Projects/JWST/dependencies/msa_spec_utils/LAE_spec_utils.py:470: RuntimeWarning: invalid value encountered in divide\n",
      "  self.flam = self.fnu * speed_of_light_angstrom / (self.wave)**2 * 1e-29 * 1e18\n",
      "/Users/myue/Research/Projects/JWST/dependencies/msa_spec_utils/LAE_spec_utils.py:471: RuntimeWarning: divide by zero encountered in divide\n",
      "  self.err_flam = self.err_fnu * (speed_of_light_angstrom / (self.wave)**2 * 1e-29 * 1e18)\n",
      "13:42 bilby INFO    : Running for label '3117_3052', output will be saved to '../../data/lya_saves/J1148/bilby_fit_lya_msaexp_pypeit_v2/'\n",
      "13:42 bilby INFO    : Search parameters:\n",
      "13:42 bilby INFO    :   center = Uniform(minimum=9086.895340431336, maximum=9123.315762637474, name='center', latex_label='center', unit=None, boundary=None)\n",
      "13:42 bilby INFO    :   fwhm = Uniform(minimum=300, maximum=1000, name='fwhm', latex_label='fwhm', unit=None, boundary=None)\n",
      "13:42 bilby INFO    :   flux = Uniform(minimum=-45.32649317786329, maximum=45.32649317786329, name='flux', latex_label='flux', unit=None, boundary=None)\n",
      "13:42 bilby INFO    :   A = Uniform(minimum=-0.2806204797507736, maximum=0.5612409595015472, name='A', latex_label='A', unit=None, boundary=None)\n",
      "13:42 bilby INFO    :   beta = Uniform(minimum=-4, maximum=0, name='beta', latex_label='beta', unit=None, boundary=None)\n",
      "13:42 bilby INFO    :   wave0 = 9105.105551534405\n",
      "13:42 bilby INFO    : Single likelihood evaluation took 3.761e-05 s\n"
     ]
    },
    {
     "data": {
      "application/vnd.jupyter.widget-view+json": {
       "model_id": "f3a818271fa44c42be0d3737dbec934b",
       "version_major": 2,
       "version_minor": 0
      },
      "text/plain": [
       "0it [00:00, ?it/s]"
      ]
     },
     "metadata": {},
     "output_type": "display_data"
    },
    {
     "name": "stderr",
     "output_type": "stream",
     "text": [
      "13:42 bilby INFO    : Checkpoint every check_point_delta_t = 600s\n",
      "13:42 bilby WARNING : Using cached result\n",
      "13:42 bilby INFO    : Summary of results:\n",
      "nsamples: 3949\n",
      "ln_noise_evidence:    nan\n",
      "ln_evidence: 791.343 +/-  0.378\n",
      "ln_bayes_factor:    nan +/-  0.378\n",
      "\n",
      "/Users/myue/Research/Projects/JWST/dependencies/msa_spec_utils/LAE_spec_utils.py:464: RuntimeWarning: divide by zero encountered in power\n",
      "  self.err_fnu = (self.ivar_fnu)**-0.5\n",
      "/Users/myue/Research/Projects/JWST/dependencies/msa_spec_utils/LAE_spec_utils.py:470: RuntimeWarning: invalid value encountered in divide\n",
      "  self.flam = self.fnu * speed_of_light_angstrom / (self.wave)**2 * 1e-29 * 1e18\n",
      "/Users/myue/Research/Projects/JWST/dependencies/msa_spec_utils/LAE_spec_utils.py:471: RuntimeWarning: divide by zero encountered in divide\n",
      "  self.err_flam = self.err_fnu * (speed_of_light_angstrom / (self.wave)**2 * 1e-29 * 1e18)\n",
      "13:42 bilby INFO    : Running for label '3117_3391', output will be saved to '../../data/lya_saves/J1148/bilby_fit_lya_msaexp_pypeit_v2/'\n",
      "13:42 bilby INFO    : Search parameters:\n",
      "13:42 bilby INFO    :   center = Uniform(minimum=8583.79934810285, maximum=8618.20335350607, name='center', latex_label='center', unit=None, boundary=None)\n",
      "13:42 bilby INFO    :   fwhm = Uniform(minimum=300, maximum=1000, name='fwhm', latex_label='fwhm', unit=None, boundary=None)\n",
      "13:42 bilby INFO    :   flux = Uniform(minimum=-18.611759008224404, maximum=18.611759008224404, name='flux', latex_label='flux', unit=None, boundary=None)\n",
      "13:42 bilby INFO    :   A = Uniform(minimum=-0.12198056265860424, maximum=0.24396112531720848, name='A', latex_label='A', unit=None, boundary=None)\n",
      "13:42 bilby INFO    :   beta = Uniform(minimum=-4, maximum=0, name='beta', latex_label='beta', unit=None, boundary=None)\n",
      "13:42 bilby INFO    :   wave0 = 8601.00135080446\n",
      "13:42 bilby INFO    : Single likelihood evaluation took 3.681e-05 s\n"
     ]
    },
    {
     "data": {
      "application/vnd.jupyter.widget-view+json": {
       "model_id": "6dd52333349242149fad1cc76d2e89e9",
       "version_major": 2,
       "version_minor": 0
      },
      "text/plain": [
       "0it [00:00, ?it/s]"
      ]
     },
     "metadata": {},
     "output_type": "display_data"
    },
    {
     "name": "stderr",
     "output_type": "stream",
     "text": [
      "13:42 bilby INFO    : Checkpoint every check_point_delta_t = 600s\n",
      "13:42 bilby WARNING : Using cached result\n",
      "13:42 bilby INFO    : Summary of results:\n",
      "nsamples: 2749\n",
      "ln_noise_evidence:    nan\n",
      "ln_evidence: 608.834 +/-  0.295\n",
      "ln_bayes_factor:    nan +/-  0.295\n",
      "\n",
      "/Users/myue/Research/Projects/JWST/dependencies/msa_spec_utils/LAE_spec_utils.py:464: RuntimeWarning: divide by zero encountered in power\n",
      "  self.err_fnu = (self.ivar_fnu)**-0.5\n",
      "/Users/myue/Research/Projects/JWST/dependencies/msa_spec_utils/LAE_spec_utils.py:470: RuntimeWarning: invalid value encountered in divide\n",
      "  self.flam = self.fnu * speed_of_light_angstrom / (self.wave)**2 * 1e-29 * 1e18\n",
      "/Users/myue/Research/Projects/JWST/dependencies/msa_spec_utils/LAE_spec_utils.py:471: RuntimeWarning: divide by zero encountered in divide\n",
      "  self.err_flam = self.err_fnu * (speed_of_light_angstrom / (self.wave)**2 * 1e-29 * 1e18)\n",
      "13:42 bilby INFO    : Running for label '3117_3461', output will be saved to '../../data/lya_saves/J1148/bilby_fit_lya_msaexp_pypeit_v2/'\n",
      "13:42 bilby INFO    : Search parameters:\n",
      "13:42 bilby INFO    :   center = Uniform(minimum=8539.521885311682, maximum=8573.748425934173, name='center', latex_label='center', unit=None, boundary=None)\n",
      "13:42 bilby INFO    :   fwhm = Uniform(minimum=300, maximum=1000, name='fwhm', latex_label='fwhm', unit=None, boundary=None)\n",
      "13:42 bilby INFO    :   flux = Uniform(minimum=-17.218222159547313, maximum=17.218222159547313, name='flux', latex_label='flux', unit=None, boundary=None)\n",
      "13:42 bilby INFO    :   A = Uniform(minimum=-0.11343250424895845, maximum=0.2268650084979169, name='A', latex_label='A', unit=None, boundary=None)\n",
      "13:42 bilby INFO    :   beta = Uniform(minimum=-4, maximum=0, name='beta', latex_label='beta', unit=None, boundary=None)\n",
      "13:42 bilby INFO    :   wave0 = 8556.635155622927\n",
      "13:42 bilby INFO    : Single likelihood evaluation took 3.769e-05 s\n"
     ]
    },
    {
     "data": {
      "application/vnd.jupyter.widget-view+json": {
       "model_id": "b953c87a1a774a729d7a055cd45b6843",
       "version_major": 2,
       "version_minor": 0
      },
      "text/plain": [
       "0it [00:00, ?it/s]"
      ]
     },
     "metadata": {},
     "output_type": "display_data"
    },
    {
     "name": "stderr",
     "output_type": "stream",
     "text": [
      "13:42 bilby INFO    : Checkpoint every check_point_delta_t = 600s\n",
      "13:42 bilby WARNING : Using cached result\n",
      "13:42 bilby INFO    : Summary of results:\n",
      "nsamples: 3134\n",
      "ln_noise_evidence:    nan\n",
      "ln_evidence: 728.851 +/-  0.317\n",
      "ln_bayes_factor:    nan +/-  0.317\n",
      "\n",
      "/Users/myue/Research/Projects/JWST/dependencies/msa_spec_utils/LAE_spec_utils.py:464: RuntimeWarning: divide by zero encountered in power\n",
      "  self.err_fnu = (self.ivar_fnu)**-0.5\n",
      "/Users/myue/Research/Projects/JWST/dependencies/msa_spec_utils/LAE_spec_utils.py:470: RuntimeWarning: invalid value encountered in divide\n",
      "  self.flam = self.fnu * speed_of_light_angstrom / (self.wave)**2 * 1e-29 * 1e18\n",
      "/Users/myue/Research/Projects/JWST/dependencies/msa_spec_utils/LAE_spec_utils.py:471: RuntimeWarning: divide by zero encountered in divide\n",
      "  self.err_flam = self.err_fnu * (speed_of_light_angstrom / (self.wave)**2 * 1e-29 * 1e18)\n",
      "13:42 bilby INFO    : Running for label '3117_3607', output will be saved to '../../data/lya_saves/J1148/bilby_fit_lya_msaexp_pypeit_v2/'\n",
      "13:42 bilby INFO    : Search parameters:\n",
      "13:42 bilby INFO    :   center = Uniform(minimum=7824.456681868216, maximum=7855.817229691334, name='center', latex_label='center', unit=None, boundary=None)\n",
      "13:42 bilby INFO    :   fwhm = Uniform(minimum=300, maximum=1000, name='fwhm', latex_label='fwhm', unit=None, boundary=None)\n",
      "13:42 bilby INFO    :   flux = Uniform(minimum=-177.75379353228328, maximum=177.75379353228328, name='flux', latex_label='flux', unit=None, boundary=None)\n",
      "13:42 bilby INFO    :   A = Uniform(minimum=-1.278048857466183, maximum=2.556097714932366, name='A', latex_label='A', unit=None, boundary=None)\n",
      "13:42 bilby INFO    :   beta = Uniform(minimum=-4, maximum=0, name='beta', latex_label='beta', unit=None, boundary=None)\n",
      "13:42 bilby INFO    :   wave0 = 7840.136955779775\n",
      "13:42 bilby INFO    : Single likelihood evaluation took 3.778e-05 s\n"
     ]
    },
    {
     "data": {
      "application/vnd.jupyter.widget-view+json": {
       "model_id": "61526105d9974bc6a513e426450e36f1",
       "version_major": 2,
       "version_minor": 0
      },
      "text/plain": [
       "0it [00:00, ?it/s]"
      ]
     },
     "metadata": {},
     "output_type": "display_data"
    },
    {
     "name": "stderr",
     "output_type": "stream",
     "text": [
      "13:42 bilby INFO    : Checkpoint every check_point_delta_t = 600s\n",
      "13:42 bilby WARNING : Using cached result\n",
      "13:42 bilby INFO    : Summary of results:\n",
      "nsamples: 4338\n",
      "ln_noise_evidence:    nan\n",
      "ln_evidence: 511.568 +/-  0.404\n",
      "ln_bayes_factor:    nan +/-  0.404\n",
      "\n",
      "/Users/myue/Research/Projects/JWST/dependencies/msa_spec_utils/LAE_spec_utils.py:464: RuntimeWarning: divide by zero encountered in power\n",
      "  self.err_fnu = (self.ivar_fnu)**-0.5\n",
      "/Users/myue/Research/Projects/JWST/dependencies/msa_spec_utils/LAE_spec_utils.py:470: RuntimeWarning: invalid value encountered in divide\n",
      "  self.flam = self.fnu * speed_of_light_angstrom / (self.wave)**2 * 1e-29 * 1e18\n",
      "/Users/myue/Research/Projects/JWST/dependencies/msa_spec_utils/LAE_spec_utils.py:471: RuntimeWarning: divide by zero encountered in divide\n",
      "  self.err_flam = self.err_fnu * (speed_of_light_angstrom / (self.wave)**2 * 1e-29 * 1e18)\n",
      "13:42 bilby INFO    : Running for label '3117_3608', output will be saved to '../../data/lya_saves/J1148/bilby_fit_lya_msaexp_pypeit_v2/'\n",
      "13:42 bilby INFO    : Search parameters:\n",
      "13:42 bilby INFO    :   center = Uniform(minimum=8543.37412363239, maximum=8577.61610408783, name='center', latex_label='center', unit=None, boundary=None)\n",
      "13:42 bilby INFO    :   fwhm = Uniform(minimum=300, maximum=1000, name='fwhm', latex_label='fwhm', unit=None, boundary=None)\n",
      "13:42 bilby INFO    :   flux = Uniform(minimum=-40.663757962214966, maximum=40.663757962214966, name='flux', latex_label='flux', unit=None, boundary=None)\n",
      "13:42 bilby INFO    :   A = Uniform(minimum=-0.2677693446350411, maximum=0.5355386892700822, name='A', latex_label='A', unit=None, boundary=None)\n",
      "13:42 bilby INFO    :   beta = Uniform(minimum=-4, maximum=0, name='beta', latex_label='beta', unit=None, boundary=None)\n",
      "13:42 bilby INFO    :   wave0 = 8560.49511386011\n",
      "13:42 bilby INFO    : Single likelihood evaluation took 3.858e-05 s\n"
     ]
    },
    {
     "data": {
      "application/vnd.jupyter.widget-view+json": {
       "model_id": "303a47ff2e1043678d6213c2b8691469",
       "version_major": 2,
       "version_minor": 0
      },
      "text/plain": [
       "0it [00:00, ?it/s]"
      ]
     },
     "metadata": {},
     "output_type": "display_data"
    },
    {
     "name": "stderr",
     "output_type": "stream",
     "text": [
      "13:42 bilby INFO    : Checkpoint every check_point_delta_t = 600s\n",
      "13:42 bilby WARNING : Using cached result\n",
      "13:42 bilby INFO    : Summary of results:\n",
      "nsamples: 3359\n",
      "ln_noise_evidence:    nan\n",
      "ln_evidence: 685.024 +/-  0.341\n",
      "ln_bayes_factor:    nan +/-  0.341\n",
      "\n",
      "/Users/myue/Research/Projects/JWST/dependencies/msa_spec_utils/LAE_spec_utils.py:464: RuntimeWarning: divide by zero encountered in power\n",
      "  self.err_fnu = (self.ivar_fnu)**-0.5\n",
      "/Users/myue/Research/Projects/JWST/dependencies/msa_spec_utils/LAE_spec_utils.py:470: RuntimeWarning: invalid value encountered in divide\n",
      "  self.flam = self.fnu * speed_of_light_angstrom / (self.wave)**2 * 1e-29 * 1e18\n",
      "/Users/myue/Research/Projects/JWST/dependencies/msa_spec_utils/LAE_spec_utils.py:471: RuntimeWarning: divide by zero encountered in divide\n",
      "  self.err_flam = self.err_fnu * (speed_of_light_angstrom / (self.wave)**2 * 1e-29 * 1e18)\n",
      "13:42 bilby INFO    : Running for label '3117_3609', output will be saved to '../../data/lya_saves/J1148/bilby_fit_lya_msaexp_pypeit_v2/'\n",
      "13:42 bilby INFO    : Search parameters:\n",
      "13:42 bilby INFO    :   center = Uniform(minimum=9594.430288059171, maximum=9632.884918472235, name='center', latex_label='center', unit=None, boundary=None)\n",
      "13:42 bilby INFO    :   fwhm = Uniform(minimum=300, maximum=1000, name='fwhm', latex_label='fwhm', unit=None, boundary=None)\n",
      "13:42 bilby INFO    :   flux = Uniform(minimum=-11.42901933122511, maximum=11.42901933122511, name='flux', latex_label='flux', unit=None, boundary=None)\n",
      "13:42 bilby INFO    :   A = Uniform(minimum=-0.06701508064854166, maximum=0.1340301612970833, name='A', latex_label='A', unit=None, boundary=None)\n",
      "13:42 bilby INFO    :   beta = Uniform(minimum=-4, maximum=0, name='beta', latex_label='beta', unit=None, boundary=None)\n",
      "13:42 bilby INFO    :   wave0 = 9613.657603265703\n",
      "13:42 bilby INFO    : Single likelihood evaluation took 4.804e-05 s\n"
     ]
    },
    {
     "data": {
      "application/vnd.jupyter.widget-view+json": {
       "model_id": "65fd7188deff421ebb53ef88ceb38723",
       "version_major": 2,
       "version_minor": 0
      },
      "text/plain": [
       "0it [00:00, ?it/s]"
      ]
     },
     "metadata": {},
     "output_type": "display_data"
    },
    {
     "name": "stderr",
     "output_type": "stream",
     "text": [
      "13:42 bilby INFO    : Checkpoint every check_point_delta_t = 600s\n",
      "13:42 bilby WARNING : Using cached result\n",
      "13:42 bilby INFO    : Summary of results:\n",
      "nsamples: 2350\n",
      "ln_noise_evidence:    nan\n",
      "ln_evidence: 885.733 +/-  0.265\n",
      "ln_bayes_factor:    nan +/-  0.265\n",
      "\n",
      "/Users/myue/Research/Projects/JWST/dependencies/msa_spec_utils/LAE_spec_utils.py:464: RuntimeWarning: divide by zero encountered in power\n",
      "  self.err_fnu = (self.ivar_fnu)**-0.5\n",
      "/Users/myue/Research/Projects/JWST/dependencies/msa_spec_utils/LAE_spec_utils.py:470: RuntimeWarning: invalid value encountered in divide\n",
      "  self.flam = self.fnu * speed_of_light_angstrom / (self.wave)**2 * 1e-29 * 1e18\n",
      "/Users/myue/Research/Projects/JWST/dependencies/msa_spec_utils/LAE_spec_utils.py:471: RuntimeWarning: divide by zero encountered in divide\n",
      "  self.err_flam = self.err_fnu * (speed_of_light_angstrom / (self.wave)**2 * 1e-29 * 1e18)\n",
      "13:42 bilby INFO    : Running for label '3117_3781', output will be saved to '../../data/lya_saves/J1148/bilby_fit_lya_msaexp_pypeit_v2/'\n",
      "13:42 bilby INFO    : Search parameters:\n",
      "13:42 bilby INFO    :   center = Uniform(minimum=8400.003260184872, maximum=8433.670607921085, name='center', latex_label='center', unit=None, boundary=None)\n",
      "13:42 bilby INFO    :   fwhm = Uniform(minimum=300, maximum=1000, name='fwhm', latex_label='fwhm', unit=None, boundary=None)\n",
      "13:42 bilby INFO    :   flux = Uniform(minimum=-18.686469445821253, maximum=18.686469445821253, name='flux', latex_label='flux', unit=None, boundary=None)\n",
      "13:42 bilby INFO    :   A = Uniform(minimum=-0.12514991801291983, maximum=0.25029983602583966, name='A', latex_label='A', unit=None, boundary=None)\n",
      "13:42 bilby INFO    :   beta = Uniform(minimum=-4, maximum=0, name='beta', latex_label='beta', unit=None, boundary=None)\n",
      "13:42 bilby INFO    :   wave0 = 8416.836934052979\n",
      "13:42 bilby INFO    : Single likelihood evaluation took 3.833e-05 s\n"
     ]
    },
    {
     "data": {
      "application/vnd.jupyter.widget-view+json": {
       "model_id": "47ae18069da640a2991fbcc83384c402",
       "version_major": 2,
       "version_minor": 0
      },
      "text/plain": [
       "0it [00:00, ?it/s]"
      ]
     },
     "metadata": {},
     "output_type": "display_data"
    },
    {
     "name": "stderr",
     "output_type": "stream",
     "text": [
      "13:42 bilby INFO    : Checkpoint every check_point_delta_t = 600s\n",
      "13:42 bilby WARNING : Using cached result\n",
      "13:42 bilby INFO    : Summary of results:\n",
      "nsamples: 2691\n",
      "ln_noise_evidence:    nan\n",
      "ln_evidence: 617.809 +/-  0.277\n",
      "ln_bayes_factor:    nan +/-  0.277\n",
      "\n",
      "/Users/myue/Research/Projects/JWST/dependencies/msa_spec_utils/LAE_spec_utils.py:464: RuntimeWarning: divide by zero encountered in power\n",
      "  self.err_fnu = (self.ivar_fnu)**-0.5\n",
      "/Users/myue/Research/Projects/JWST/dependencies/msa_spec_utils/LAE_spec_utils.py:470: RuntimeWarning: invalid value encountered in divide\n",
      "  self.flam = self.fnu * speed_of_light_angstrom / (self.wave)**2 * 1e-29 * 1e18\n",
      "/Users/myue/Research/Projects/JWST/dependencies/msa_spec_utils/LAE_spec_utils.py:471: RuntimeWarning: divide by zero encountered in divide\n",
      "  self.err_flam = self.err_fnu * (speed_of_light_angstrom / (self.wave)**2 * 1e-29 * 1e18)\n",
      "13:42 bilby INFO    : Running for label '3117_3822', output will be saved to '../../data/lya_saves/J1148/bilby_fit_lya_msaexp_pypeit_v2/'\n",
      "13:42 bilby INFO    : Search parameters:\n",
      "13:42 bilby INFO    :   center = Uniform(minimum=8947.56208019419, maximum=8983.424052459495, name='center', latex_label='center', unit=None, boundary=None)\n",
      "13:42 bilby INFO    :   fwhm = Uniform(minimum=300, maximum=1000, name='fwhm', latex_label='fwhm', unit=None, boundary=None)\n",
      "13:42 bilby INFO    :   flux = Uniform(minimum=-14.151967603726588, maximum=14.151967603726588, name='flux', latex_label='flux', unit=None, boundary=None)\n",
      "13:42 bilby INFO    :   A = Uniform(minimum=-0.08898050667311937, maximum=0.17796101334623873, name='A', latex_label='A', unit=None, boundary=None)\n",
      "13:42 bilby INFO    :   beta = Uniform(minimum=-4, maximum=0, name='beta', latex_label='beta', unit=None, boundary=None)\n",
      "13:42 bilby INFO    :   wave0 = 8965.493066326842\n",
      "13:42 bilby INFO    : Single likelihood evaluation took 3.984e-05 s\n"
     ]
    },
    {
     "data": {
      "application/vnd.jupyter.widget-view+json": {
       "model_id": "97b765af54024c9c9d849378c93d76c7",
       "version_major": 2,
       "version_minor": 0
      },
      "text/plain": [
       "0it [00:00, ?it/s]"
      ]
     },
     "metadata": {},
     "output_type": "display_data"
    },
    {
     "name": "stderr",
     "output_type": "stream",
     "text": [
      "13:42 bilby INFO    : Checkpoint every check_point_delta_t = 600s\n",
      "13:42 bilby WARNING : Using cached result\n",
      "13:42 bilby INFO    : Summary of results:\n",
      "nsamples: 2897\n",
      "ln_noise_evidence:    nan\n",
      "ln_evidence: 794.278 +/-  0.286\n",
      "ln_bayes_factor:    nan +/-  0.286\n",
      "\n",
      "/Users/myue/Research/Projects/JWST/dependencies/msa_spec_utils/LAE_spec_utils.py:464: RuntimeWarning: divide by zero encountered in power\n",
      "  self.err_fnu = (self.ivar_fnu)**-0.5\n",
      "/Users/myue/Research/Projects/JWST/dependencies/msa_spec_utils/LAE_spec_utils.py:470: RuntimeWarning: invalid value encountered in divide\n",
      "  self.flam = self.fnu * speed_of_light_angstrom / (self.wave)**2 * 1e-29 * 1e18\n",
      "/Users/myue/Research/Projects/JWST/dependencies/msa_spec_utils/LAE_spec_utils.py:471: RuntimeWarning: divide by zero encountered in divide\n",
      "  self.err_flam = self.err_fnu * (speed_of_light_angstrom / (self.wave)**2 * 1e-29 * 1e18)\n",
      "13:42 bilby INFO    : Running for label '3117_4246', output will be saved to '../../data/lya_saves/J1148/bilby_fit_lya_msaexp_pypeit_v2/'\n",
      "13:42 bilby INFO    : Search parameters:\n",
      "13:42 bilby INFO    :   center = Uniform(minimum=9080.659260160068, maximum=9117.054688056502, name='center', latex_label='center', unit=None, boundary=None)\n",
      "13:42 bilby INFO    :   fwhm = Uniform(minimum=300, maximum=1000, name='fwhm', latex_label='fwhm', unit=None, boundary=None)\n",
      "13:42 bilby INFO    :   flux = Uniform(minimum=-19.063661826080487, maximum=19.063661826080487, name='flux', latex_label='flux', unit=None, boundary=None)\n",
      "13:42 bilby INFO    :   A = Uniform(minimum=-0.11810593297970653, maximum=0.23621186595941307, name='A', latex_label='A', unit=None, boundary=None)\n",
      "13:42 bilby INFO    :   beta = Uniform(minimum=-4, maximum=0, name='beta', latex_label='beta', unit=None, boundary=None)\n",
      "13:42 bilby INFO    :   wave0 = 9098.856974108285\n",
      "13:42 bilby INFO    : Single likelihood evaluation took 3.907e-05 s\n"
     ]
    },
    {
     "data": {
      "application/vnd.jupyter.widget-view+json": {
       "model_id": "afba04143ac54d02a30cfa5fc2f01f7d",
       "version_major": 2,
       "version_minor": 0
      },
      "text/plain": [
       "0it [00:00, ?it/s]"
      ]
     },
     "metadata": {},
     "output_type": "display_data"
    },
    {
     "name": "stderr",
     "output_type": "stream",
     "text": [
      "13:42 bilby INFO    : Checkpoint every check_point_delta_t = 600s\n",
      "13:42 bilby WARNING : Using cached result\n",
      "13:42 bilby INFO    : Summary of results:\n",
      "nsamples: 2718\n",
      "ln_noise_evidence:    nan\n",
      "ln_evidence: 733.986 +/-  0.282\n",
      "ln_bayes_factor:    nan +/-  0.282\n",
      "\n",
      "/Users/myue/Research/Projects/JWST/dependencies/msa_spec_utils/LAE_spec_utils.py:464: RuntimeWarning: divide by zero encountered in power\n",
      "  self.err_fnu = (self.ivar_fnu)**-0.5\n",
      "/Users/myue/Research/Projects/JWST/dependencies/msa_spec_utils/LAE_spec_utils.py:470: RuntimeWarning: invalid value encountered in divide\n",
      "  self.flam = self.fnu * speed_of_light_angstrom / (self.wave)**2 * 1e-29 * 1e18\n",
      "/Users/myue/Research/Projects/JWST/dependencies/msa_spec_utils/LAE_spec_utils.py:471: RuntimeWarning: divide by zero encountered in divide\n",
      "  self.err_flam = self.err_fnu * (speed_of_light_angstrom / (self.wave)**2 * 1e-29 * 1e18)\n",
      "13:42 bilby INFO    : Running for label '3117_4376', output will be saved to '../../data/lya_saves/J1148/bilby_fit_lya_msaexp_pypeit_v2/'\n",
      "13:42 bilby INFO    : Search parameters:\n",
      "13:42 bilby INFO    :   center = Uniform(minimum=9084.904750996131, maximum=9121.317194887899, name='center', latex_label='center', unit=None, boundary=None)\n",
      "13:42 bilby INFO    :   fwhm = Uniform(minimum=300, maximum=1000, name='fwhm', latex_label='fwhm', unit=None, boundary=None)\n",
      "13:42 bilby INFO    :   flux = Uniform(minimum=-15.192092386482281, maximum=15.192092386482281, name='flux', latex_label='flux', unit=None, boundary=None)\n",
      "13:42 bilby INFO    :   A = Uniform(minimum=-0.09407624692514613, maximum=0.18815249385029226, name='A', latex_label='A', unit=None, boundary=None)\n",
      "13:42 bilby INFO    :   beta = Uniform(minimum=-4, maximum=0, name='beta', latex_label='beta', unit=None, boundary=None)\n",
      "13:42 bilby INFO    :   wave0 = 9103.110972942015\n",
      "13:42 bilby INFO    : Single likelihood evaluation took 3.815e-05 s\n"
     ]
    },
    {
     "data": {
      "application/vnd.jupyter.widget-view+json": {
       "model_id": "3338cb41cdab4858bd77173ca44b85a5",
       "version_major": 2,
       "version_minor": 0
      },
      "text/plain": [
       "0it [00:00, ?it/s]"
      ]
     },
     "metadata": {},
     "output_type": "display_data"
    },
    {
     "name": "stderr",
     "output_type": "stream",
     "text": [
      "13:42 bilby INFO    : Checkpoint every check_point_delta_t = 600s\n",
      "13:42 bilby WARNING : Using cached result\n",
      "13:42 bilby INFO    : Summary of results:\n",
      "nsamples: 2778\n",
      "ln_noise_evidence:    nan\n",
      "ln_evidence: 867.620 +/-  0.292\n",
      "ln_bayes_factor:    nan +/-  0.292\n",
      "\n",
      "/Users/myue/Research/Projects/JWST/dependencies/msa_spec_utils/LAE_spec_utils.py:464: RuntimeWarning: divide by zero encountered in power\n",
      "  self.err_fnu = (self.ivar_fnu)**-0.5\n",
      "/Users/myue/Research/Projects/JWST/dependencies/msa_spec_utils/LAE_spec_utils.py:470: RuntimeWarning: invalid value encountered in divide\n",
      "  self.flam = self.fnu * speed_of_light_angstrom / (self.wave)**2 * 1e-29 * 1e18\n",
      "/Users/myue/Research/Projects/JWST/dependencies/msa_spec_utils/LAE_spec_utils.py:471: RuntimeWarning: divide by zero encountered in divide\n",
      "  self.err_flam = self.err_fnu * (speed_of_light_angstrom / (self.wave)**2 * 1e-29 * 1e18)\n",
      "13:42 bilby INFO    : Running for label '3117_5123', output will be saved to '../../data/lya_saves/J1148/bilby_fit_lya_msaexp_pypeit_v2/'\n",
      "13:42 bilby INFO    : Search parameters:\n",
      "13:42 bilby INFO    :   center = Uniform(minimum=9074.10001676501, maximum=9110.469155108758, name='center', latex_label='center', unit=None, boundary=None)\n",
      "13:42 bilby INFO    :   fwhm = Uniform(minimum=300, maximum=1000, name='fwhm', latex_label='fwhm', unit=None, boundary=None)\n",
      "13:42 bilby INFO    :   flux = Uniform(minimum=-11.866174451570348, maximum=11.866174451570348, name='flux', latex_label='flux', unit=None, boundary=None)\n",
      "13:42 bilby INFO    :   A = Uniform(minimum=-0.07356816709055179, maximum=0.14713633418110358, name='A', latex_label='A', unit=None, boundary=None)\n",
      "13:42 bilby INFO    :   beta = Uniform(minimum=-4, maximum=0, name='beta', latex_label='beta', unit=None, boundary=None)\n",
      "13:42 bilby INFO    :   wave0 = 9092.284585936884\n",
      "13:42 bilby INFO    : Single likelihood evaluation took 3.869e-05 s\n"
     ]
    },
    {
     "data": {
      "application/vnd.jupyter.widget-view+json": {
       "model_id": "89911dd90a32453e860a2159b860bd16",
       "version_major": 2,
       "version_minor": 0
      },
      "text/plain": [
       "0it [00:00, ?it/s]"
      ]
     },
     "metadata": {},
     "output_type": "display_data"
    },
    {
     "name": "stderr",
     "output_type": "stream",
     "text": [
      "13:42 bilby INFO    : Checkpoint every check_point_delta_t = 600s\n",
      "13:42 bilby WARNING : Using cached result\n",
      "13:42 bilby INFO    : Summary of results:\n",
      "nsamples: 2494\n",
      "ln_noise_evidence:    nan\n",
      "ln_evidence: 806.723 +/-  0.266\n",
      "ln_bayes_factor:    nan +/-  0.266\n",
      "\n",
      "/Users/myue/Research/Projects/JWST/dependencies/msa_spec_utils/LAE_spec_utils.py:464: RuntimeWarning: divide by zero encountered in power\n",
      "  self.err_fnu = (self.ivar_fnu)**-0.5\n",
      "/Users/myue/Research/Projects/JWST/dependencies/msa_spec_utils/LAE_spec_utils.py:470: RuntimeWarning: invalid value encountered in divide\n",
      "  self.flam = self.fnu * speed_of_light_angstrom / (self.wave)**2 * 1e-29 * 1e18\n",
      "/Users/myue/Research/Projects/JWST/dependencies/msa_spec_utils/LAE_spec_utils.py:471: RuntimeWarning: divide by zero encountered in divide\n",
      "  self.err_flam = self.err_fnu * (speed_of_light_angstrom / (self.wave)**2 * 1e-29 * 1e18)\n",
      "13:42 bilby INFO    : Running for label '3117_6406', output will be saved to '../../data/lya_saves/J1148/bilby_fit_lya_msaexp_pypeit_v2/'\n",
      "13:42 bilby INFO    : Search parameters:\n",
      "13:42 bilby INFO    :   center = Uniform(minimum=9081.23453708716, maximum=9117.632270702741, name='center', latex_label='center', unit=None, boundary=None)\n",
      "13:42 bilby INFO    :   fwhm = Uniform(minimum=300, maximum=1000, name='fwhm', latex_label='fwhm', unit=None, boundary=None)\n",
      "13:42 bilby INFO    :   flux = Uniform(minimum=-8.626118747550471, maximum=8.626118747550471, name='flux', latex_label='flux', unit=None, boundary=None)\n",
      "13:42 bilby INFO    :   A = Uniform(minimum=-0.10734715512395362, maximum=0.21469431024790725, name='A', latex_label='A', unit=None, boundary=None)\n",
      "13:42 bilby INFO    :   beta = Uniform(minimum=-4, maximum=0, name='beta', latex_label='beta', unit=None, boundary=None)\n",
      "13:42 bilby INFO    :   wave0 = 9099.433403894951\n",
      "13:42 bilby INFO    : Single likelihood evaluation took 3.744e-05 s\n"
     ]
    },
    {
     "data": {
      "application/vnd.jupyter.widget-view+json": {
       "model_id": "93501001c6a9457e8fb26ede5e99534e",
       "version_major": 2,
       "version_minor": 0
      },
      "text/plain": [
       "0it [00:00, ?it/s]"
      ]
     },
     "metadata": {},
     "output_type": "display_data"
    },
    {
     "name": "stderr",
     "output_type": "stream",
     "text": [
      "13:42 bilby INFO    : Checkpoint every check_point_delta_t = 600s\n",
      "13:42 bilby WARNING : Using cached result\n",
      "13:42 bilby INFO    : Summary of results:\n",
      "nsamples: 2787\n",
      "ln_noise_evidence:    nan\n",
      "ln_evidence: 726.992 +/-  0.288\n",
      "ln_bayes_factor:    nan +/-  0.288\n",
      "\n",
      "/Users/myue/Research/Projects/JWST/dependencies/msa_spec_utils/LAE_spec_utils.py:464: RuntimeWarning: divide by zero encountered in power\n",
      "  self.err_fnu = (self.ivar_fnu)**-0.5\n",
      "/Users/myue/Research/Projects/JWST/dependencies/msa_spec_utils/LAE_spec_utils.py:470: RuntimeWarning: invalid value encountered in divide\n",
      "  self.flam = self.fnu * speed_of_light_angstrom / (self.wave)**2 * 1e-29 * 1e18\n",
      "/Users/myue/Research/Projects/JWST/dependencies/msa_spec_utils/LAE_spec_utils.py:471: RuntimeWarning: divide by zero encountered in divide\n",
      "  self.err_flam = self.err_fnu * (speed_of_light_angstrom / (self.wave)**2 * 1e-29 * 1e18)\n",
      "13:42 bilby INFO    : Running for label '3117_6584', output will be saved to '../../data/lya_saves/J1148/bilby_fit_lya_msaexp_pypeit_v2/'\n",
      "13:42 bilby INFO    : Search parameters:\n",
      "13:42 bilby INFO    :   center = Uniform(minimum=9196.926227623826, maximum=9233.787655389853, name='center', latex_label='center', unit=None, boundary=None)\n",
      "13:42 bilby INFO    :   fwhm = Uniform(minimum=300, maximum=1000, name='fwhm', latex_label='fwhm', unit=None, boundary=None)\n",
      "13:42 bilby INFO    :   flux = Uniform(minimum=-12.561562170270506, maximum=12.561562170270506, name='flux', latex_label='flux', unit=None, boundary=None)\n",
      "13:42 bilby INFO    :   A = Uniform(minimum=-0.07683935633694543, maximum=0.15367871267389085, name='A', latex_label='A', unit=None, boundary=None)\n",
      "13:42 bilby INFO    :   beta = Uniform(minimum=-4, maximum=0, name='beta', latex_label='beta', unit=None, boundary=None)\n",
      "13:42 bilby INFO    :   wave0 = 9215.35694150684\n",
      "13:42 bilby INFO    : Single likelihood evaluation took 3.655e-05 s\n"
     ]
    },
    {
     "data": {
      "application/vnd.jupyter.widget-view+json": {
       "model_id": "98778fadec8942619e2f9c309e8c194a",
       "version_major": 2,
       "version_minor": 0
      },
      "text/plain": [
       "0it [00:00, ?it/s]"
      ]
     },
     "metadata": {},
     "output_type": "display_data"
    },
    {
     "name": "stderr",
     "output_type": "stream",
     "text": [
      "13:42 bilby INFO    : Checkpoint every check_point_delta_t = 600s\n",
      "13:42 bilby WARNING : Using cached result\n",
      "13:42 bilby INFO    : Summary of results:\n",
      "nsamples: 2322\n",
      "ln_noise_evidence:    nan\n",
      "ln_evidence: 860.820 +/-  0.257\n",
      "ln_bayes_factor:    nan +/-  0.257\n",
      "\n",
      "/Users/myue/Research/Projects/JWST/dependencies/msa_spec_utils/LAE_spec_utils.py:464: RuntimeWarning: divide by zero encountered in power\n",
      "  self.err_fnu = (self.ivar_fnu)**-0.5\n",
      "/Users/myue/Research/Projects/JWST/dependencies/msa_spec_utils/LAE_spec_utils.py:470: RuntimeWarning: invalid value encountered in divide\n",
      "  self.flam = self.fnu * speed_of_light_angstrom / (self.wave)**2 * 1e-29 * 1e18\n",
      "/Users/myue/Research/Projects/JWST/dependencies/msa_spec_utils/LAE_spec_utils.py:471: RuntimeWarning: divide by zero encountered in divide\n",
      "  self.err_flam = self.err_fnu * (speed_of_light_angstrom / (self.wave)**2 * 1e-29 * 1e18)\n",
      "13:42 bilby INFO    : Running for label '3117_7217', output will be saved to '../../data/lya_saves/J1148/bilby_fit_lya_msaexp_pypeit_v2/'\n",
      "13:42 bilby INFO    : Search parameters:\n",
      "13:42 bilby INFO    :   center = Uniform(minimum=9005.01657817849, maximum=9041.108828992832, name='center', latex_label='center', unit=None, boundary=None)\n",
      "13:42 bilby INFO    :   fwhm = Uniform(minimum=300, maximum=1000, name='fwhm', latex_label='fwhm', unit=None, boundary=None)\n",
      "13:42 bilby INFO    :   flux = Uniform(minimum=-12.596876627053613, maximum=12.596876627053613, name='flux', latex_label='flux', unit=None, boundary=None)\n",
      "13:42 bilby INFO    :   A = Uniform(minimum=-0.0786975347811922, maximum=0.1573950695623844, name='A', latex_label='A', unit=None, boundary=None)\n",
      "13:42 bilby INFO    :   beta = Uniform(minimum=-4, maximum=0, name='beta', latex_label='beta', unit=None, boundary=None)\n",
      "13:42 bilby INFO    :   wave0 = 9023.062703585661\n",
      "13:42 bilby INFO    : Single likelihood evaluation took 3.914e-05 s\n"
     ]
    },
    {
     "data": {
      "application/vnd.jupyter.widget-view+json": {
       "model_id": "d3bd8bb2cf9242479509120331d733e0",
       "version_major": 2,
       "version_minor": 0
      },
      "text/plain": [
       "0it [00:00, ?it/s]"
      ]
     },
     "metadata": {},
     "output_type": "display_data"
    },
    {
     "name": "stderr",
     "output_type": "stream",
     "text": [
      "13:42 bilby INFO    : Checkpoint every check_point_delta_t = 600s\n",
      "13:42 bilby WARNING : Using cached result\n",
      "13:42 bilby INFO    : Summary of results:\n",
      "nsamples: 2716\n",
      "ln_noise_evidence:    nan\n",
      "ln_evidence: 822.166 +/-  0.278\n",
      "ln_bayes_factor:    nan +/-  0.278\n",
      "\n",
      "/Users/myue/Research/Projects/JWST/dependencies/msa_spec_utils/LAE_spec_utils.py:464: RuntimeWarning: divide by zero encountered in power\n",
      "  self.err_fnu = (self.ivar_fnu)**-0.5\n",
      "/Users/myue/Research/Projects/JWST/dependencies/msa_spec_utils/LAE_spec_utils.py:470: RuntimeWarning: invalid value encountered in divide\n",
      "  self.flam = self.fnu * speed_of_light_angstrom / (self.wave)**2 * 1e-29 * 1e18\n",
      "/Users/myue/Research/Projects/JWST/dependencies/msa_spec_utils/LAE_spec_utils.py:471: RuntimeWarning: divide by zero encountered in divide\n",
      "  self.err_flam = self.err_fnu * (speed_of_light_angstrom / (self.wave)**2 * 1e-29 * 1e18)\n",
      "13:42 bilby INFO    : Running for label '3117_8234', output will be saved to '../../data/lya_saves/J1148/bilby_fit_lya_msaexp_pypeit_v2/'\n",
      "13:42 bilby INFO    : Search parameters:\n",
      "13:42 bilby INFO    :   center = Uniform(minimum=8803.687012573477, maximum=8838.972331261148, name='center', latex_label='center', unit=None, boundary=None)\n",
      "13:42 bilby INFO    :   fwhm = Uniform(minimum=300, maximum=1000, name='fwhm', latex_label='fwhm', unit=None, boundary=None)\n",
      "13:42 bilby INFO    :   flux = Uniform(minimum=-12.062555674663852, maximum=12.062555674663852, name='flux', latex_label='flux', unit=None, boundary=None)\n",
      "13:42 bilby INFO    :   A = Uniform(minimum=-0.13540659086759269, maximum=0.27081318173518537, name='A', latex_label='A', unit=None, boundary=None)\n",
      "13:42 bilby INFO    :   beta = Uniform(minimum=-4, maximum=0, name='beta', latex_label='beta', unit=None, boundary=None)\n",
      "13:42 bilby INFO    :   wave0 = 8821.329671917312\n",
      "13:42 bilby INFO    : Single likelihood evaluation took 3.725e-05 s\n"
     ]
    },
    {
     "data": {
      "application/vnd.jupyter.widget-view+json": {
       "model_id": "8609568dc20944da8f46097575e70f24",
       "version_major": 2,
       "version_minor": 0
      },
      "text/plain": [
       "0it [00:00, ?it/s]"
      ]
     },
     "metadata": {},
     "output_type": "display_data"
    },
    {
     "name": "stderr",
     "output_type": "stream",
     "text": [
      "13:42 bilby INFO    : Checkpoint every check_point_delta_t = 600s\n",
      "13:42 bilby WARNING : Using cached result\n",
      "13:42 bilby INFO    : Summary of results:\n",
      "nsamples: 2419\n",
      "ln_noise_evidence:    nan\n",
      "ln_evidence: 805.993 +/-  0.271\n",
      "ln_bayes_factor:    nan +/-  0.271\n",
      "\n",
      "13:42 bilby INFO    : Running for label '3117_8871', output will be saved to '../../data/lya_saves/J1148/bilby_fit_lya_msaexp_pypeit_v2/'\n",
      "13:42 bilby INFO    : Search parameters:\n",
      "13:42 bilby INFO    :   center = Uniform(minimum=8963.551817481839, maximum=8999.477876870544, name='center', latex_label='center', unit=None, boundary=None)\n",
      "13:42 bilby INFO    :   fwhm = Uniform(minimum=300, maximum=1000, name='fwhm', latex_label='fwhm', unit=None, boundary=None)\n",
      "13:42 bilby INFO    :   flux = Uniform(minimum=-41.83872363875909, maximum=41.83872363875909, name='flux', latex_label='flux', unit=None, boundary=None)\n",
      "13:42 bilby INFO    :   A = Uniform(minimum=-0.262591741053433, maximum=0.525183482106866, name='A', latex_label='A', unit=None, boundary=None)\n",
      "13:42 bilby INFO    :   beta = Uniform(minimum=-4, maximum=0, name='beta', latex_label='beta', unit=None, boundary=None)\n",
      "13:42 bilby INFO    :   wave0 = 8981.514847176191\n",
      "13:42 bilby INFO    : Single likelihood evaluation took 3.727e-05 s\n"
     ]
    },
    {
     "data": {
      "application/vnd.jupyter.widget-view+json": {
       "model_id": "29cd6052e8fd48b691e2befdf5a18d7a",
       "version_major": 2,
       "version_minor": 0
      },
      "text/plain": [
       "0it [00:00, ?it/s]"
      ]
     },
     "metadata": {},
     "output_type": "display_data"
    },
    {
     "name": "stderr",
     "output_type": "stream",
     "text": [
      "13:42 bilby INFO    : Checkpoint every check_point_delta_t = 600s\n",
      "13:42 bilby WARNING : Using cached result\n",
      "13:42 bilby INFO    : Summary of results:\n",
      "nsamples: 4034\n",
      "ln_noise_evidence:    nan\n",
      "ln_evidence: 932.412 +/-  0.384\n",
      "ln_bayes_factor:    nan +/-  0.384\n",
      "\n",
      "13:42 bilby INFO    : Running for label '3117_9192', output will be saved to '../../data/lya_saves/J1148/bilby_fit_lya_msaexp_pypeit_v2/'\n",
      "13:42 bilby INFO    : Search parameters:\n",
      "13:42 bilby INFO    :   center = Uniform(minimum=9072.576615356988, maximum=9108.93964788347, name='center', latex_label='center', unit=None, boundary=None)\n",
      "13:42 bilby INFO    :   fwhm = Uniform(minimum=300, maximum=1000, name='fwhm', latex_label='fwhm', unit=None, boundary=None)\n",
      "13:42 bilby INFO    :   flux = Uniform(minimum=-24.245999345431443, maximum=24.245999345431443, name='flux', latex_label='flux', unit=None, boundary=None)\n",
      "13:42 bilby INFO    :   A = Uniform(minimum=-0.15034611618620367, maximum=0.30069223237240733, name='A', latex_label='A', unit=None, boundary=None)\n",
      "13:42 bilby INFO    :   beta = Uniform(minimum=-4, maximum=0, name='beta', latex_label='beta', unit=None, boundary=None)\n",
      "13:42 bilby INFO    :   wave0 = 9090.758131620229\n",
      "13:42 bilby INFO    : Single likelihood evaluation took 3.781e-05 s\n"
     ]
    },
    {
     "data": {
      "application/vnd.jupyter.widget-view+json": {
       "model_id": "7867c3edc1a240aca15e8701045b1634",
       "version_major": 2,
       "version_minor": 0
      },
      "text/plain": [
       "0it [00:00, ?it/s]"
      ]
     },
     "metadata": {},
     "output_type": "display_data"
    },
    {
     "name": "stderr",
     "output_type": "stream",
     "text": [
      "13:42 bilby INFO    : Checkpoint every check_point_delta_t = 600s\n",
      "13:42 bilby WARNING : Using cached result\n",
      "13:42 bilby INFO    : Summary of results:\n",
      "nsamples: 3799\n",
      "ln_noise_evidence:    nan\n",
      "ln_evidence: 766.818 +/-  0.355\n",
      "ln_bayes_factor:    nan +/-  0.355\n",
      "\n",
      "/Users/myue/Research/Projects/JWST/dependencies/msa_spec_utils/LAE_spec_utils.py:464: RuntimeWarning: divide by zero encountered in power\n",
      "  self.err_fnu = (self.ivar_fnu)**-0.5\n",
      "/Users/myue/Research/Projects/JWST/dependencies/msa_spec_utils/LAE_spec_utils.py:470: RuntimeWarning: invalid value encountered in divide\n",
      "  self.flam = self.fnu * speed_of_light_angstrom / (self.wave)**2 * 1e-29 * 1e18\n",
      "/Users/myue/Research/Projects/JWST/dependencies/msa_spec_utils/LAE_spec_utils.py:471: RuntimeWarning: divide by zero encountered in divide\n",
      "  self.err_flam = self.err_fnu * (speed_of_light_angstrom / (self.wave)**2 * 1e-29 * 1e18)\n",
      "13:42 bilby INFO    : Running for label '3117_9232', output will be saved to '../../data/lya_saves/J1148/bilby_fit_lya_msaexp_pypeit_v2/'\n",
      "13:42 bilby INFO    : Search parameters:\n",
      "13:42 bilby INFO    :   center = Uniform(minimum=8572.999255790312, maximum=8607.359974250392, name='center', latex_label='center', unit=None, boundary=None)\n",
      "13:42 bilby INFO    :   fwhm = Uniform(minimum=300, maximum=1000, name='fwhm', latex_label='fwhm', unit=None, boundary=None)\n",
      "13:42 bilby INFO    :   flux = Uniform(minimum=-10.066059733966, maximum=10.066059733966, name='flux', latex_label='flux', unit=None, boundary=None)\n",
      "13:42 bilby INFO    :   A = Uniform(minimum=-0.13625689105638097, maximum=0.27251378211276195, name='A', latex_label='A', unit=None, boundary=None)\n",
      "13:42 bilby INFO    :   beta = Uniform(minimum=-4, maximum=0, name='beta', latex_label='beta', unit=None, boundary=None)\n",
      "13:42 bilby INFO    :   wave0 = 8590.179615020352\n",
      "13:42 bilby INFO    : Single likelihood evaluation took 3.813e-05 s\n"
     ]
    },
    {
     "data": {
      "application/vnd.jupyter.widget-view+json": {
       "model_id": "204c008cddac41279e1fe1775d8c6f08",
       "version_major": 2,
       "version_minor": 0
      },
      "text/plain": [
       "0it [00:00, ?it/s]"
      ]
     },
     "metadata": {},
     "output_type": "display_data"
    },
    {
     "name": "stderr",
     "output_type": "stream",
     "text": [
      "13:42 bilby INFO    : Checkpoint every check_point_delta_t = 600s\n",
      "13:42 bilby WARNING : Using cached result\n",
      "13:42 bilby INFO    : Summary of results:\n",
      "nsamples: 2731\n",
      "ln_noise_evidence:    nan\n",
      "ln_evidence: 782.779 +/-  0.289\n",
      "ln_bayes_factor:    nan +/-  0.289\n",
      "\n",
      "/Users/myue/Research/Projects/JWST/dependencies/msa_spec_utils/LAE_spec_utils.py:464: RuntimeWarning: divide by zero encountered in power\n",
      "  self.err_fnu = (self.ivar_fnu)**-0.5\n",
      "/Users/myue/Research/Projects/JWST/dependencies/msa_spec_utils/LAE_spec_utils.py:470: RuntimeWarning: invalid value encountered in divide\n",
      "  self.flam = self.fnu * speed_of_light_angstrom / (self.wave)**2 * 1e-29 * 1e18\n",
      "/Users/myue/Research/Projects/JWST/dependencies/msa_spec_utils/LAE_spec_utils.py:471: RuntimeWarning: divide by zero encountered in divide\n",
      "  self.err_flam = self.err_fnu * (speed_of_light_angstrom / (self.wave)**2 * 1e-29 * 1e18)\n",
      "13:42 bilby INFO    : Running for label '3117_9314', output will be saved to '../../data/lya_saves/J1148/bilby_fit_lya_msaexp_pypeit_v2/'\n",
      "13:42 bilby INFO    : Search parameters:\n",
      "13:42 bilby INFO    :   center = Uniform(minimum=8682.035532961097, maximum=8716.833270568157, name='center', latex_label='center', unit=None, boundary=None)\n",
      "13:42 bilby INFO    :   fwhm = Uniform(minimum=300, maximum=1000, name='fwhm', latex_label='fwhm', unit=None, boundary=None)\n",
      "13:42 bilby INFO    :   flux = Uniform(minimum=-175.2964727971094, maximum=175.2964727971094, name='flux', latex_label='flux', unit=None, boundary=None)\n",
      "13:42 bilby INFO    :   A = Uniform(minimum=-1.1358850604749327, maximum=2.2717701209498653, name='A', latex_label='A', unit=None, boundary=None)\n",
      "13:42 bilby INFO    :   beta = Uniform(minimum=-4, maximum=0, name='beta', latex_label='beta', unit=None, boundary=None)\n",
      "13:42 bilby INFO    :   wave0 = 8699.434401764627\n",
      "13:42 bilby INFO    : Single likelihood evaluation took 4.106e-05 s\n"
     ]
    },
    {
     "data": {
      "application/vnd.jupyter.widget-view+json": {
       "model_id": "3e7546c7d0a94c78954adb2fc4fbae78",
       "version_major": 2,
       "version_minor": 0
      },
      "text/plain": [
       "0it [00:00, ?it/s]"
      ]
     },
     "metadata": {},
     "output_type": "display_data"
    },
    {
     "name": "stderr",
     "output_type": "stream",
     "text": [
      "13:42 bilby INFO    : Checkpoint every check_point_delta_t = 600s\n",
      "13:42 bilby WARNING : Using cached result\n",
      "13:42 bilby INFO    : Summary of results:\n",
      "nsamples: 4835\n",
      "ln_noise_evidence:    nan\n",
      "ln_evidence: 728.522 +/-  0.433\n",
      "ln_bayes_factor:    nan +/-  0.433\n",
      "\n",
      "/Users/myue/Research/Projects/JWST/dependencies/msa_spec_utils/LAE_spec_utils.py:464: RuntimeWarning: divide by zero encountered in power\n",
      "  self.err_fnu = (self.ivar_fnu)**-0.5\n",
      "/Users/myue/Research/Projects/JWST/dependencies/msa_spec_utils/LAE_spec_utils.py:470: RuntimeWarning: invalid value encountered in divide\n",
      "  self.flam = self.fnu * speed_of_light_angstrom / (self.wave)**2 * 1e-29 * 1e18\n",
      "/Users/myue/Research/Projects/JWST/dependencies/msa_spec_utils/LAE_spec_utils.py:471: RuntimeWarning: divide by zero encountered in divide\n",
      "  self.err_flam = self.err_fnu * (speed_of_light_angstrom / (self.wave)**2 * 1e-29 * 1e18)\n",
      "13:42 bilby INFO    : Running for label '3117_9428', output will be saved to '../../data/lya_saves/J1148/bilby_fit_lya_msaexp_pypeit_v2/'\n",
      "13:42 bilby INFO    : Search parameters:\n",
      "13:42 bilby INFO    :   center = Uniform(minimum=9425.325743146703, maximum=9463.102599832662, name='center', latex_label='center', unit=None, boundary=None)\n",
      "13:42 bilby INFO    :   fwhm = Uniform(minimum=300, maximum=1000, name='fwhm', latex_label='fwhm', unit=None, boundary=None)\n",
      "13:42 bilby INFO    :   flux = Uniform(minimum=-19.08082628204086, maximum=19.08082628204086, name='flux', latex_label='flux', unit=None, boundary=None)\n",
      "13:42 bilby INFO    :   A = Uniform(minimum=-0.11388947160333704, maximum=0.22777894320667408, name='A', latex_label='A', unit=None, boundary=None)\n",
      "13:42 bilby INFO    :   beta = Uniform(minimum=-4, maximum=0, name='beta', latex_label='beta', unit=None, boundary=None)\n",
      "13:42 bilby INFO    :   wave0 = 9444.214171489682\n",
      "13:42 bilby INFO    : Single likelihood evaluation took 3.795e-05 s\n"
     ]
    },
    {
     "data": {
      "application/vnd.jupyter.widget-view+json": {
       "model_id": "9227dd93650f4bbe86ffce563802fa53",
       "version_major": 2,
       "version_minor": 0
      },
      "text/plain": [
       "0it [00:00, ?it/s]"
      ]
     },
     "metadata": {},
     "output_type": "display_data"
    },
    {
     "name": "stderr",
     "output_type": "stream",
     "text": [
      "13:42 bilby INFO    : Checkpoint every check_point_delta_t = 600s\n",
      "13:42 bilby WARNING : Using cached result\n",
      "13:42 bilby INFO    : Summary of results:\n",
      "nsamples: 2551\n",
      "ln_noise_evidence:    nan\n",
      "ln_evidence: 788.013 +/-  0.282\n",
      "ln_bayes_factor:    nan +/-  0.282\n",
      "\n",
      "/Users/myue/Research/Projects/JWST/dependencies/msa_spec_utils/LAE_spec_utils.py:464: RuntimeWarning: divide by zero encountered in power\n",
      "  self.err_fnu = (self.ivar_fnu)**-0.5\n",
      "/Users/myue/Research/Projects/JWST/dependencies/msa_spec_utils/LAE_spec_utils.py:470: RuntimeWarning: invalid value encountered in divide\n",
      "  self.flam = self.fnu * speed_of_light_angstrom / (self.wave)**2 * 1e-29 * 1e18\n",
      "/Users/myue/Research/Projects/JWST/dependencies/msa_spec_utils/LAE_spec_utils.py:471: RuntimeWarning: divide by zero encountered in divide\n",
      "  self.err_flam = self.err_fnu * (speed_of_light_angstrom / (self.wave)**2 * 1e-29 * 1e18)\n",
      "13:42 bilby INFO    : Running for label '3117_9799', output will be saved to '../../data/lya_saves/J1148/bilby_fit_lya_msaexp_pypeit_v2/'\n",
      "13:42 bilby INFO    : Search parameters:\n",
      "13:42 bilby INFO    :   center = Uniform(minimum=9071.573329399487, maximum=9107.932340739766, name='center', latex_label='center', unit=None, boundary=None)\n",
      "13:42 bilby INFO    :   fwhm = Uniform(minimum=300, maximum=1000, name='fwhm', latex_label='fwhm', unit=None, boundary=None)\n",
      "13:42 bilby INFO    :   flux = Uniform(minimum=-37.49924170809343, maximum=37.49924170809343, name='flux', latex_label='flux', unit=None, boundary=None)\n",
      "13:42 bilby INFO    :   A = Uniform(minimum=-0.2325533709557074, maximum=0.4651067419114148, name='A', latex_label='A', unit=None, boundary=None)\n",
      "13:42 bilby INFO    :   beta = Uniform(minimum=-4, maximum=0, name='beta', latex_label='beta', unit=None, boundary=None)\n",
      "13:42 bilby INFO    :   wave0 = 9089.752835069627\n",
      "13:42 bilby INFO    : Single likelihood evaluation took 3.784e-05 s\n"
     ]
    },
    {
     "data": {
      "application/vnd.jupyter.widget-view+json": {
       "model_id": "e904c6bc095b40d89ed799346802b2e7",
       "version_major": 2,
       "version_minor": 0
      },
      "text/plain": [
       "0it [00:00, ?it/s]"
      ]
     },
     "metadata": {},
     "output_type": "display_data"
    },
    {
     "name": "stderr",
     "output_type": "stream",
     "text": [
      "13:42 bilby INFO    : Checkpoint every check_point_delta_t = 600s\n",
      "13:42 bilby WARNING : Using cached result\n",
      "13:42 bilby INFO    : Summary of results:\n",
      "nsamples: 3523\n",
      "ln_noise_evidence:    nan\n",
      "ln_evidence: 810.410 +/-  0.352\n",
      "ln_bayes_factor:    nan +/-  0.352\n",
      "\n",
      "13:42 bilby INFO    : Running for label '3117_10290', output will be saved to '../../data/lya_saves/J1148/bilby_fit_lya_msaexp_pypeit_v2/'\n",
      "13:42 bilby INFO    : Search parameters:\n",
      "13:42 bilby INFO    :   center = Uniform(minimum=9003.599891583455, maximum=9039.686464295211, name='center', latex_label='center', unit=None, boundary=None)\n",
      "13:42 bilby INFO    :   fwhm = Uniform(minimum=300, maximum=1000, name='fwhm', latex_label='fwhm', unit=None, boundary=None)\n",
      "13:42 bilby INFO    :   flux = Uniform(minimum=-15.32314731547541, maximum=15.32314731547541, name='flux', latex_label='flux', unit=None, boundary=None)\n",
      "13:42 bilby INFO    :   A = Uniform(minimum=-0.09574465940526687, maximum=0.19148931881053374, name='A', latex_label='A', unit=None, boundary=None)\n",
      "13:42 bilby INFO    :   beta = Uniform(minimum=-4, maximum=0, name='beta', latex_label='beta', unit=None, boundary=None)\n",
      "13:42 bilby INFO    :   wave0 = 9021.643177939333\n",
      "13:42 bilby INFO    : Single likelihood evaluation took 3.702e-05 s\n"
     ]
    },
    {
     "data": {
      "application/vnd.jupyter.widget-view+json": {
       "model_id": "d8f305ba736b4f7c84158c7f6e8bd3fe",
       "version_major": 2,
       "version_minor": 0
      },
      "text/plain": [
       "0it [00:00, ?it/s]"
      ]
     },
     "metadata": {},
     "output_type": "display_data"
    },
    {
     "name": "stderr",
     "output_type": "stream",
     "text": [
      "13:42 bilby INFO    : Checkpoint every check_point_delta_t = 600s\n",
      "13:42 bilby WARNING : Using cached result\n",
      "13:42 bilby INFO    : Summary of results:\n",
      "nsamples: 3801\n",
      "ln_noise_evidence:    nan\n",
      "ln_evidence: 918.392 +/-  0.356\n",
      "ln_bayes_factor:    nan +/-  0.356\n",
      "\n",
      "/Users/myue/Research/Projects/JWST/dependencies/msa_spec_utils/LAE_spec_utils.py:464: RuntimeWarning: divide by zero encountered in power\n",
      "  self.err_fnu = (self.ivar_fnu)**-0.5\n",
      "/Users/myue/Research/Projects/JWST/dependencies/msa_spec_utils/LAE_spec_utils.py:470: RuntimeWarning: invalid value encountered in divide\n",
      "  self.flam = self.fnu * speed_of_light_angstrom / (self.wave)**2 * 1e-29 * 1e18\n",
      "/Users/myue/Research/Projects/JWST/dependencies/msa_spec_utils/LAE_spec_utils.py:471: RuntimeWarning: divide by zero encountered in divide\n",
      "  self.err_flam = self.err_fnu * (speed_of_light_angstrom / (self.wave)**2 * 1e-29 * 1e18)\n",
      "13:42 bilby INFO    : Running for label '3117_10586', output will be saved to '../../data/lya_saves/J1148/bilby_fit_lya_msaexp_pypeit_v2/'\n",
      "13:42 bilby INFO    : Search parameters:\n",
      "13:42 bilby INFO    :   center = Uniform(minimum=8270.881150272944, maximum=8304.030974522535, name='center', latex_label='center', unit=None, boundary=None)\n",
      "13:42 bilby INFO    :   fwhm = Uniform(minimum=300, maximum=1000, name='fwhm', latex_label='fwhm', unit=None, boundary=None)\n",
      "13:42 bilby INFO    :   flux = Uniform(minimum=-39.161160215697976, maximum=39.161160215697976, name='flux', latex_label='flux', unit=None, boundary=None)\n",
      "13:42 bilby INFO    :   A = Uniform(minimum=-0.26637075322666764, maximum=0.5327415064533353, name='A', latex_label='A', unit=None, boundary=None)\n",
      "13:42 bilby INFO    :   beta = Uniform(minimum=-4, maximum=0, name='beta', latex_label='beta', unit=None, boundary=None)\n",
      "13:42 bilby INFO    :   wave0 = 8287.45606239774\n",
      "13:42 bilby INFO    : Single likelihood evaluation took 4.091e-05 s\n"
     ]
    },
    {
     "data": {
      "application/vnd.jupyter.widget-view+json": {
       "model_id": "7ef878d7be9c47338bdc23be1dc1cb04",
       "version_major": 2,
       "version_minor": 0
      },
      "text/plain": [
       "0it [00:00, ?it/s]"
      ]
     },
     "metadata": {},
     "output_type": "display_data"
    },
    {
     "name": "stderr",
     "output_type": "stream",
     "text": [
      "13:42 bilby INFO    : Checkpoint every check_point_delta_t = 600s\n",
      "13:42 bilby WARNING : Using cached result\n",
      "13:42 bilby INFO    : Summary of results:\n",
      "nsamples: 3070\n",
      "ln_noise_evidence:    nan\n",
      "ln_evidence: 586.289 +/-  0.318\n",
      "ln_bayes_factor:    nan +/-  0.318\n",
      "\n",
      "/Users/myue/Research/Projects/JWST/dependencies/msa_spec_utils/LAE_spec_utils.py:464: RuntimeWarning: divide by zero encountered in power\n",
      "  self.err_fnu = (self.ivar_fnu)**-0.5\n",
      "/Users/myue/Research/Projects/JWST/dependencies/msa_spec_utils/LAE_spec_utils.py:470: RuntimeWarning: invalid value encountered in divide\n",
      "  self.flam = self.fnu * speed_of_light_angstrom / (self.wave)**2 * 1e-29 * 1e18\n",
      "/Users/myue/Research/Projects/JWST/dependencies/msa_spec_utils/LAE_spec_utils.py:471: RuntimeWarning: divide by zero encountered in divide\n",
      "  self.err_flam = self.err_fnu * (speed_of_light_angstrom / (self.wave)**2 * 1e-29 * 1e18)\n",
      "13:42 bilby INFO    : Running for label '3117_10727', output will be saved to '../../data/lya_saves/J1148/bilby_fit_lya_msaexp_pypeit_v2/'\n",
      "13:42 bilby INFO    : Search parameters:\n",
      "13:42 bilby INFO    :   center = Uniform(minimum=8132.390999173396, maximum=8164.9857526770975, name='center', latex_label='center', unit=None, boundary=None)\n",
      "13:42 bilby INFO    :   fwhm = Uniform(minimum=300, maximum=1000, name='fwhm', latex_label='fwhm', unit=None, boundary=None)\n",
      "13:42 bilby INFO    :   flux = Uniform(minimum=-155.95657503474945, maximum=155.95657503474945, name='flux', latex_label='flux', unit=None, boundary=None)\n",
      "13:42 bilby INFO    :   A = Uniform(minimum=-1.07886773968216, maximum=2.15773547936432, name='A', latex_label='A', unit=None, boundary=None)\n",
      "13:42 bilby INFO    :   beta = Uniform(minimum=-4, maximum=0, name='beta', latex_label='beta', unit=None, boundary=None)\n",
      "13:42 bilby INFO    :   wave0 = 8148.688375925247\n",
      "13:42 bilby INFO    : Single likelihood evaluation took 3.821e-05 s\n"
     ]
    },
    {
     "data": {
      "application/vnd.jupyter.widget-view+json": {
       "model_id": "ad4695a6efcf481f8210ba0761e5738a",
       "version_major": 2,
       "version_minor": 0
      },
      "text/plain": [
       "0it [00:00, ?it/s]"
      ]
     },
     "metadata": {},
     "output_type": "display_data"
    },
    {
     "name": "stderr",
     "output_type": "stream",
     "text": [
      "13:42 bilby INFO    : Checkpoint every check_point_delta_t = 600s\n",
      "13:42 bilby WARNING : Using cached result\n",
      "13:42 bilby INFO    : Summary of results:\n",
      "nsamples: 4117\n",
      "ln_noise_evidence:    nan\n",
      "ln_evidence: 562.146 +/-  0.391\n",
      "ln_bayes_factor:    nan +/-  0.391\n",
      "\n",
      "/Users/myue/Research/Projects/JWST/dependencies/msa_spec_utils/LAE_spec_utils.py:464: RuntimeWarning: divide by zero encountered in power\n",
      "  self.err_fnu = (self.ivar_fnu)**-0.5\n",
      "/Users/myue/Research/Projects/JWST/dependencies/msa_spec_utils/LAE_spec_utils.py:470: RuntimeWarning: invalid value encountered in divide\n",
      "  self.flam = self.fnu * speed_of_light_angstrom / (self.wave)**2 * 1e-29 * 1e18\n",
      "/Users/myue/Research/Projects/JWST/dependencies/msa_spec_utils/LAE_spec_utils.py:471: RuntimeWarning: divide by zero encountered in divide\n",
      "  self.err_flam = self.err_fnu * (speed_of_light_angstrom / (self.wave)**2 * 1e-29 * 1e18)\n",
      "13:42 bilby INFO    : Running for label '3117_11709', output will be saved to '../../data/lya_saves/J1148/bilby_fit_lya_msaexp_pypeit_v2/'\n",
      "13:42 bilby INFO    : Search parameters:\n",
      "13:42 bilby INFO    :   center = Uniform(minimum=9103.102390710252, maximum=9139.587771033739, name='center', latex_label='center', unit=None, boundary=None)\n",
      "13:42 bilby INFO    :   fwhm = Uniform(minimum=300, maximum=1000, name='fwhm', latex_label='fwhm', unit=None, boundary=None)\n",
      "13:42 bilby INFO    :   flux = Uniform(minimum=-18.118181648013874, maximum=18.118181648013874, name='flux', latex_label='flux', unit=None, boundary=None)\n",
      "13:42 bilby INFO    :   A = Uniform(minimum=-0.11197161720481792, maximum=0.22394323440963584, name='A', latex_label='A', unit=None, boundary=None)\n",
      "13:42 bilby INFO    :   beta = Uniform(minimum=-4, maximum=0, name='beta', latex_label='beta', unit=None, boundary=None)\n",
      "13:42 bilby INFO    :   wave0 = 9121.345080871995\n",
      "13:42 bilby INFO    : Single likelihood evaluation took 4.009e-05 s\n"
     ]
    },
    {
     "data": {
      "application/vnd.jupyter.widget-view+json": {
       "model_id": "8039277aa32646db8640f15fb51b01e5",
       "version_major": 2,
       "version_minor": 0
      },
      "text/plain": [
       "0it [00:00, ?it/s]"
      ]
     },
     "metadata": {},
     "output_type": "display_data"
    },
    {
     "name": "stderr",
     "output_type": "stream",
     "text": [
      "13:42 bilby INFO    : Checkpoint every check_point_delta_t = 600s\n",
      "13:42 bilby WARNING : Using cached result\n",
      "13:42 bilby INFO    : Summary of results:\n",
      "nsamples: 3030\n",
      "ln_noise_evidence:    nan\n",
      "ln_evidence: 828.273 +/-  0.308\n",
      "ln_bayes_factor:    nan +/-  0.308\n",
      "\n",
      "/Users/myue/Research/Projects/JWST/dependencies/msa_spec_utils/LAE_spec_utils.py:464: RuntimeWarning: divide by zero encountered in power\n",
      "  self.err_fnu = (self.ivar_fnu)**-0.5\n",
      "/Users/myue/Research/Projects/JWST/dependencies/msa_spec_utils/LAE_spec_utils.py:470: RuntimeWarning: invalid value encountered in divide\n",
      "  self.flam = self.fnu * speed_of_light_angstrom / (self.wave)**2 * 1e-29 * 1e18\n",
      "/Users/myue/Research/Projects/JWST/dependencies/msa_spec_utils/LAE_spec_utils.py:471: RuntimeWarning: divide by zero encountered in divide\n",
      "  self.err_flam = self.err_fnu * (speed_of_light_angstrom / (self.wave)**2 * 1e-29 * 1e18)\n",
      "13:42 bilby INFO    : Running for label '3117_11725', output will be saved to '../../data/lya_saves/J1148/bilby_fit_lya_msaexp_pypeit_v2/'\n",
      "13:42 bilby INFO    : Search parameters:\n",
      "13:42 bilby INFO    :   center = Uniform(minimum=8742.885966403555, maximum=8777.92759352341, name='center', latex_label='center', unit=None, boundary=None)\n",
      "13:42 bilby INFO    :   fwhm = Uniform(minimum=300, maximum=1000, name='fwhm', latex_label='fwhm', unit=None, boundary=None)\n",
      "13:42 bilby INFO    :   flux = Uniform(minimum=-66.3164726043117, maximum=66.3164726043117, name='flux', latex_label='flux', unit=None, boundary=None)\n",
      "13:42 bilby INFO    :   A = Uniform(minimum=-0.4267262634486094, maximum=0.8534525268972188, name='A', latex_label='A', unit=None, boundary=None)\n",
      "13:42 bilby INFO    :   beta = Uniform(minimum=-4, maximum=0, name='beta', latex_label='beta', unit=None, boundary=None)\n",
      "13:42 bilby INFO    :   wave0 = 8760.406779963483\n",
      "13:42 bilby INFO    : Single likelihood evaluation took 3.864e-05 s\n"
     ]
    },
    {
     "data": {
      "application/vnd.jupyter.widget-view+json": {
       "model_id": "0ff54ee495774f398d431d1620b1163f",
       "version_major": 2,
       "version_minor": 0
      },
      "text/plain": [
       "0it [00:00, ?it/s]"
      ]
     },
     "metadata": {},
     "output_type": "display_data"
    },
    {
     "name": "stderr",
     "output_type": "stream",
     "text": [
      "13:42 bilby INFO    : Checkpoint every check_point_delta_t = 600s\n",
      "13:42 bilby WARNING : Using cached result\n",
      "13:42 bilby INFO    : Summary of results:\n",
      "nsamples: 4205\n",
      "ln_noise_evidence:    nan\n",
      "ln_evidence: 701.070 +/-  0.393\n",
      "ln_bayes_factor:    nan +/-  0.393\n",
      "\n",
      "/Users/myue/Research/Projects/JWST/dependencies/msa_spec_utils/LAE_spec_utils.py:464: RuntimeWarning: divide by zero encountered in power\n",
      "  self.err_fnu = (self.ivar_fnu)**-0.5\n",
      "/Users/myue/Research/Projects/JWST/dependencies/msa_spec_utils/LAE_spec_utils.py:470: RuntimeWarning: invalid value encountered in divide\n",
      "  self.flam = self.fnu * speed_of_light_angstrom / (self.wave)**2 * 1e-29 * 1e18\n",
      "/Users/myue/Research/Projects/JWST/dependencies/msa_spec_utils/LAE_spec_utils.py:471: RuntimeWarning: divide by zero encountered in divide\n",
      "  self.err_flam = self.err_fnu * (speed_of_light_angstrom / (self.wave)**2 * 1e-29 * 1e18)\n",
      "13:42 bilby INFO    : Running for label '3117_12115', output will be saved to '../../data/lya_saves/J1148/bilby_fit_lya_msaexp_pypeit_v2/'\n",
      "13:42 bilby INFO    : Search parameters:\n",
      "13:42 bilby INFO    :   center = Uniform(minimum=9589.035324565692, maximum=9627.46833187858, name='center', latex_label='center', unit=None, boundary=None)\n",
      "13:42 bilby INFO    :   fwhm = Uniform(minimum=300, maximum=1000, name='fwhm', latex_label='fwhm', unit=None, boundary=None)\n",
      "13:42 bilby INFO    :   flux = Uniform(minimum=-10.408922524470821, maximum=10.408922524470821, name='flux', latex_label='flux', unit=None, boundary=None)\n",
      "13:42 bilby INFO    :   A = Uniform(minimum=-0.06106799009287904, maximum=0.12213598018575808, name='A', latex_label='A', unit=None, boundary=None)\n",
      "13:42 bilby INFO    :   beta = Uniform(minimum=-4, maximum=0, name='beta', latex_label='beta', unit=None, boundary=None)\n",
      "13:42 bilby INFO    :   wave0 = 9608.251828222135\n",
      "13:42 bilby INFO    : Single likelihood evaluation took 3.783e-05 s\n"
     ]
    },
    {
     "data": {
      "application/vnd.jupyter.widget-view+json": {
       "model_id": "e47571a6400342b78d02731ac76b1fce",
       "version_major": 2,
       "version_minor": 0
      },
      "text/plain": [
       "0it [00:00, ?it/s]"
      ]
     },
     "metadata": {},
     "output_type": "display_data"
    },
    {
     "name": "stderr",
     "output_type": "stream",
     "text": [
      "13:42 bilby INFO    : Checkpoint every check_point_delta_t = 600s\n",
      "13:42 bilby WARNING : Using cached result\n",
      "13:42 bilby INFO    : Summary of results:\n",
      "nsamples: 2648\n",
      "ln_noise_evidence:    nan\n",
      "ln_evidence: 914.145 +/-  0.283\n",
      "ln_bayes_factor:    nan +/-  0.283\n",
      "\n",
      "13:42 bilby INFO    : Running for label '3117_12277', output will be saved to '../../data/lya_saves/J1148/bilby_fit_lya_msaexp_pypeit_v2/'\n",
      "13:42 bilby INFO    : Search parameters:\n",
      "13:42 bilby INFO    :   center = Uniform(minimum=8995.10227440718, maximum=9031.15478853306, name='center', latex_label='center', unit=None, boundary=None)\n",
      "13:42 bilby INFO    :   fwhm = Uniform(minimum=300, maximum=1000, name='fwhm', latex_label='fwhm', unit=None, boundary=None)\n",
      "13:42 bilby INFO    :   flux = Uniform(minimum=-23.55707810738691, maximum=23.55707810738691, name='flux', latex_label='flux', unit=None, boundary=None)\n",
      "13:42 bilby INFO    :   A = Uniform(minimum=-0.14733233954524227, maximum=0.29466467909048455, name='A', latex_label='A', unit=None, boundary=None)\n",
      "13:42 bilby INFO    :   beta = Uniform(minimum=-4, maximum=0, name='beta', latex_label='beta', unit=None, boundary=None)\n",
      "13:42 bilby INFO    :   wave0 = 9013.12853147012\n",
      "13:42 bilby INFO    : Single likelihood evaluation took 3.813e-05 s\n"
     ]
    },
    {
     "data": {
      "application/vnd.jupyter.widget-view+json": {
       "model_id": "12ae09cc0eb54349b4980c4b4cb8cc51",
       "version_major": 2,
       "version_minor": 0
      },
      "text/plain": [
       "0it [00:00, ?it/s]"
      ]
     },
     "metadata": {},
     "output_type": "display_data"
    },
    {
     "name": "stderr",
     "output_type": "stream",
     "text": [
      "13:42 bilby INFO    : Checkpoint every check_point_delta_t = 600s\n",
      "13:42 bilby WARNING : Using cached result\n",
      "13:42 bilby INFO    : Summary of results:\n",
      "nsamples: 3594\n",
      "ln_noise_evidence:    nan\n",
      "ln_evidence: 888.676 +/-  0.354\n",
      "ln_bayes_factor:    nan +/-  0.354\n",
      "\n",
      "/Users/myue/Research/Projects/JWST/dependencies/msa_spec_utils/LAE_spec_utils.py:464: RuntimeWarning: divide by zero encountered in power\n",
      "  self.err_fnu = (self.ivar_fnu)**-0.5\n",
      "/Users/myue/Research/Projects/JWST/dependencies/msa_spec_utils/LAE_spec_utils.py:470: RuntimeWarning: invalid value encountered in divide\n",
      "  self.flam = self.fnu * speed_of_light_angstrom / (self.wave)**2 * 1e-29 * 1e18\n",
      "/Users/myue/Research/Projects/JWST/dependencies/msa_spec_utils/LAE_spec_utils.py:471: RuntimeWarning: divide by zero encountered in divide\n",
      "  self.err_flam = self.err_fnu * (speed_of_light_angstrom / (self.wave)**2 * 1e-29 * 1e18)\n",
      "13:42 bilby INFO    : Running for label '3117_13418', output will be saved to '../../data/lya_saves/J1148/bilby_fit_lya_msaexp_pypeit_v2/'\n",
      "13:42 bilby INFO    : Search parameters:\n",
      "13:42 bilby INFO    :   center = Uniform(minimum=7799.00278733602, maximum=7830.261315541776, name='center', latex_label='center', unit=None, boundary=None)\n",
      "13:42 bilby INFO    :   fwhm = Uniform(minimum=300, maximum=1000, name='fwhm', latex_label='fwhm', unit=None, boundary=None)\n",
      "13:42 bilby INFO    :   flux = Uniform(minimum=-29.358779657762494, maximum=29.358779657762494, name='flux', latex_label='flux', unit=None, boundary=None)\n",
      "13:42 bilby INFO    :   A = Uniform(minimum=-0.2117784146548038, maximum=0.4235568293096076, name='A', latex_label='A', unit=None, boundary=None)\n",
      "13:42 bilby INFO    :   beta = Uniform(minimum=-4, maximum=0, name='beta', latex_label='beta', unit=None, boundary=None)\n",
      "13:42 bilby INFO    :   wave0 = 7814.632051438898\n",
      "13:42 bilby INFO    : Single likelihood evaluation took 3.957e-05 s\n"
     ]
    },
    {
     "data": {
      "application/vnd.jupyter.widget-view+json": {
       "model_id": "31a0621c85804ef3b5c6bb0214bf0ad0",
       "version_major": 2,
       "version_minor": 0
      },
      "text/plain": [
       "0it [00:00, ?it/s]"
      ]
     },
     "metadata": {},
     "output_type": "display_data"
    },
    {
     "name": "stderr",
     "output_type": "stream",
     "text": [
      "13:42 bilby INFO    : Checkpoint every check_point_delta_t = 600s\n",
      "13:42 bilby WARNING : Using cached result\n",
      "13:42 bilby INFO    : Summary of results:\n",
      "nsamples: 2363\n",
      "ln_noise_evidence:    nan\n",
      "ln_evidence: 455.012 +/-  0.265\n",
      "ln_bayes_factor:    nan +/-  0.265\n",
      "\n",
      "/Users/myue/Research/Projects/JWST/dependencies/msa_spec_utils/LAE_spec_utils.py:464: RuntimeWarning: divide by zero encountered in power\n",
      "  self.err_fnu = (self.ivar_fnu)**-0.5\n",
      "/Users/myue/Research/Projects/JWST/dependencies/msa_spec_utils/LAE_spec_utils.py:470: RuntimeWarning: invalid value encountered in divide\n",
      "  self.flam = self.fnu * speed_of_light_angstrom / (self.wave)**2 * 1e-29 * 1e18\n",
      "/Users/myue/Research/Projects/JWST/dependencies/msa_spec_utils/LAE_spec_utils.py:471: RuntimeWarning: divide by zero encountered in divide\n",
      "  self.err_flam = self.err_fnu * (speed_of_light_angstrom / (self.wave)**2 * 1e-29 * 1e18)\n",
      "13:42 bilby INFO    : Running for label '3117_14101', output will be saved to '../../data/lya_saves/J1148/bilby_fit_lya_msaexp_pypeit_v2/'\n",
      "13:42 bilby INFO    : Search parameters:\n",
      "13:42 bilby INFO    :   center = Uniform(minimum=9571.800729780367, maximum=9610.164660561051, name='center', latex_label='center', unit=None, boundary=None)\n",
      "13:42 bilby INFO    :   fwhm = Uniform(minimum=300, maximum=1000, name='fwhm', latex_label='fwhm', unit=None, boundary=None)\n",
      "13:42 bilby INFO    :   flux = Uniform(minimum=-66.12824465924623, maximum=66.12824465924623, name='flux', latex_label='flux', unit=None, boundary=None)\n",
      "13:42 bilby INFO    :   A = Uniform(minimum=-0.38866561000884425, maximum=0.7773312200176885, name='A', latex_label='A', unit=None, boundary=None)\n",
      "13:42 bilby INFO    :   beta = Uniform(minimum=-4, maximum=0, name='beta', latex_label='beta', unit=None, boundary=None)\n",
      "13:42 bilby INFO    :   wave0 = 9590.98269517071\n",
      "13:42 bilby INFO    : Single likelihood evaluation took 3.821e-05 s\n"
     ]
    },
    {
     "data": {
      "application/vnd.jupyter.widget-view+json": {
       "model_id": "5f11dda48d784c858c3bfa509ac1a0b3",
       "version_major": 2,
       "version_minor": 0
      },
      "text/plain": [
       "0it [00:00, ?it/s]"
      ]
     },
     "metadata": {},
     "output_type": "display_data"
    },
    {
     "name": "stderr",
     "output_type": "stream",
     "text": [
      "13:42 bilby INFO    : Checkpoint every check_point_delta_t = 600s\n",
      "13:42 bilby WARNING : Using cached result\n",
      "13:42 bilby INFO    : Summary of results:\n",
      "nsamples: 4232\n",
      "ln_noise_evidence:    nan\n",
      "ln_evidence: 925.466 +/-  0.396\n",
      "ln_bayes_factor:    nan +/-  0.396\n",
      "\n",
      "13:42 bilby INFO    : Running for label '3117_14236', output will be saved to '../../data/lya_saves/J1148/bilby_fit_lya_msaexp_pypeit_v2/'\n",
      "13:42 bilby INFO    : Search parameters:\n",
      "13:42 bilby INFO    :   center = Uniform(minimum=9001.999270269402, maximum=9038.079427665272, name='center', latex_label='center', unit=None, boundary=None)\n",
      "13:42 bilby INFO    :   fwhm = Uniform(minimum=300, maximum=1000, name='fwhm', latex_label='fwhm', unit=None, boundary=None)\n",
      "13:42 bilby INFO    :   flux = Uniform(minimum=-135.40875933772014, maximum=135.40875933772014, name='flux', latex_label='flux', unit=None, boundary=None)\n",
      "13:42 bilby INFO    :   A = Uniform(minimum=-0.8462341638225769, maximum=1.6924683276451538, name='A', latex_label='A', unit=None, boundary=None)\n",
      "13:42 bilby INFO    :   beta = Uniform(minimum=-4, maximum=0, name='beta', latex_label='beta', unit=None, boundary=None)\n",
      "13:42 bilby INFO    :   wave0 = 9020.039348967337\n",
      "13:42 bilby INFO    : Single likelihood evaluation took 4.018e-05 s\n"
     ]
    },
    {
     "data": {
      "application/vnd.jupyter.widget-view+json": {
       "model_id": "369309199ed849a18cd4b24769b85b72",
       "version_major": 2,
       "version_minor": 0
      },
      "text/plain": [
       "0it [00:00, ?it/s]"
      ]
     },
     "metadata": {},
     "output_type": "display_data"
    },
    {
     "name": "stderr",
     "output_type": "stream",
     "text": [
      "13:42 bilby INFO    : Checkpoint every check_point_delta_t = 600s\n",
      "13:42 bilby WARNING : Using cached result\n",
      "13:42 bilby INFO    : Summary of results:\n",
      "nsamples: 4557\n",
      "ln_noise_evidence:    nan\n",
      "ln_evidence: 760.197 +/-  0.419\n",
      "ln_bayes_factor:    nan +/-  0.419\n",
      "\n",
      "/Users/myue/Research/Projects/JWST/dependencies/msa_spec_utils/LAE_spec_utils.py:464: RuntimeWarning: divide by zero encountered in power\n",
      "  self.err_fnu = (self.ivar_fnu)**-0.5\n",
      "/Users/myue/Research/Projects/JWST/dependencies/msa_spec_utils/LAE_spec_utils.py:470: RuntimeWarning: invalid value encountered in divide\n",
      "  self.flam = self.fnu * speed_of_light_angstrom / (self.wave)**2 * 1e-29 * 1e18\n",
      "/Users/myue/Research/Projects/JWST/dependencies/msa_spec_utils/LAE_spec_utils.py:471: RuntimeWarning: divide by zero encountered in divide\n",
      "  self.err_flam = self.err_fnu * (speed_of_light_angstrom / (self.wave)**2 * 1e-29 * 1e18)\n",
      "13:42 bilby INFO    : Running for label '3117_14780', output will be saved to '../../data/lya_saves/J1148/bilby_fit_lya_msaexp_pypeit_v2/'\n",
      "13:42 bilby INFO    : Search parameters:\n",
      "13:42 bilby INFO    :   center = Uniform(minimum=9569.154390613181, maximum=9607.507714824056, name='center', latex_label='center', unit=None, boundary=None)\n",
      "13:42 bilby INFO    :   fwhm = Uniform(minimum=300, maximum=1000, name='fwhm', latex_label='fwhm', unit=None, boundary=None)\n",
      "13:42 bilby INFO    :   flux = Uniform(minimum=-22.848492413171076, maximum=22.848492413171076, name='flux', latex_label='flux', unit=None, boundary=None)\n",
      "13:42 bilby INFO    :   A = Uniform(minimum=-0.13432806448504034, maximum=0.2686561289700807, name='A', latex_label='A', unit=None, boundary=None)\n",
      "13:42 bilby INFO    :   beta = Uniform(minimum=-4, maximum=0, name='beta', latex_label='beta', unit=None, boundary=None)\n",
      "13:42 bilby INFO    :   wave0 = 9588.331052718619\n",
      "13:42 bilby INFO    : Single likelihood evaluation took 3.846e-05 s\n"
     ]
    },
    {
     "data": {
      "application/vnd.jupyter.widget-view+json": {
       "model_id": "d93e534d211a44d3bd902831dfe71ad5",
       "version_major": 2,
       "version_minor": 0
      },
      "text/plain": [
       "0it [00:00, ?it/s]"
      ]
     },
     "metadata": {},
     "output_type": "display_data"
    },
    {
     "name": "stderr",
     "output_type": "stream",
     "text": [
      "13:42 bilby INFO    : Checkpoint every check_point_delta_t = 600s\n",
      "13:42 bilby WARNING : Using cached result\n",
      "13:42 bilby INFO    : Summary of results:\n",
      "nsamples: 3542\n",
      "ln_noise_evidence:    nan\n",
      "ln_evidence: 886.360 +/-  0.346\n",
      "ln_bayes_factor:    nan +/-  0.346\n",
      "\n",
      "/Users/myue/Research/Projects/JWST/dependencies/msa_spec_utils/LAE_spec_utils.py:464: RuntimeWarning: divide by zero encountered in power\n",
      "  self.err_fnu = (self.ivar_fnu)**-0.5\n",
      "/Users/myue/Research/Projects/JWST/dependencies/msa_spec_utils/LAE_spec_utils.py:470: RuntimeWarning: invalid value encountered in divide\n",
      "  self.flam = self.fnu * speed_of_light_angstrom / (self.wave)**2 * 1e-29 * 1e18\n",
      "/Users/myue/Research/Projects/JWST/dependencies/msa_spec_utils/LAE_spec_utils.py:471: RuntimeWarning: divide by zero encountered in divide\n",
      "  self.err_flam = self.err_fnu * (speed_of_light_angstrom / (self.wave)**2 * 1e-29 * 1e18)\n",
      "13:42 bilby INFO    : Running for label '3117_15411', output will be saved to '../../data/lya_saves/J1148/bilby_fit_lya_msaexp_pypeit_v2/'\n",
      "13:42 bilby INFO    : Search parameters:\n",
      "13:42 bilby INFO    :   center = Uniform(minimum=9598.220726789497, maximum=9636.69054934176, name='center', latex_label='center', unit=None, boundary=None)\n",
      "13:42 bilby INFO    :   fwhm = Uniform(minimum=300, maximum=1000, name='fwhm', latex_label='fwhm', unit=None, boundary=None)\n",
      "13:42 bilby INFO    :   flux = Uniform(minimum=-10.619788147383247, maximum=10.619788147383247, name='flux', latex_label='flux', unit=None, boundary=None)\n",
      "13:42 bilby INFO    :   A = Uniform(minimum=-0.06224548985777045, maximum=0.1244909797155409, name='A', latex_label='A', unit=None, boundary=None)\n",
      "13:42 bilby INFO    :   beta = Uniform(minimum=-4, maximum=0, name='beta', latex_label='beta', unit=None, boundary=None)\n",
      "13:42 bilby INFO    :   wave0 = 9617.455638065629\n",
      "13:42 bilby INFO    : Single likelihood evaluation took 3.658e-05 s\n"
     ]
    },
    {
     "data": {
      "application/vnd.jupyter.widget-view+json": {
       "model_id": "ad635fed9739457a8bb3fc83cc3e148e",
       "version_major": 2,
       "version_minor": 0
      },
      "text/plain": [
       "0it [00:00, ?it/s]"
      ]
     },
     "metadata": {},
     "output_type": "display_data"
    },
    {
     "name": "stderr",
     "output_type": "stream",
     "text": [
      "13:42 bilby INFO    : Checkpoint every check_point_delta_t = 600s\n",
      "13:42 bilby WARNING : Using cached result\n",
      "13:42 bilby INFO    : Summary of results:\n",
      "nsamples: 2674\n",
      "ln_noise_evidence:    nan\n",
      "ln_evidence: 598.593 +/-  0.286\n",
      "ln_bayes_factor:    nan +/-  0.286\n",
      "\n",
      "/Users/myue/Research/Projects/JWST/dependencies/msa_spec_utils/LAE_spec_utils.py:464: RuntimeWarning: divide by zero encountered in power\n",
      "  self.err_fnu = (self.ivar_fnu)**-0.5\n",
      "/Users/myue/Research/Projects/JWST/dependencies/msa_spec_utils/LAE_spec_utils.py:470: RuntimeWarning: invalid value encountered in divide\n",
      "  self.flam = self.fnu * speed_of_light_angstrom / (self.wave)**2 * 1e-29 * 1e18\n",
      "/Users/myue/Research/Projects/JWST/dependencies/msa_spec_utils/LAE_spec_utils.py:471: RuntimeWarning: divide by zero encountered in divide\n",
      "  self.err_flam = self.err_fnu * (speed_of_light_angstrom / (self.wave)**2 * 1e-29 * 1e18)\n",
      "13:42 bilby INFO    : Running for label '3117_16651', output will be saved to '../../data/lya_saves/J1148/bilby_fit_lya_msaexp_pypeit_v2/'\n",
      "13:42 bilby INFO    : Search parameters:\n",
      "13:42 bilby INFO    :   center = Uniform(minimum=9588.63397066933, maximum=9627.065369349368, name='center', latex_label='center', unit=None, boundary=None)\n",
      "13:42 bilby INFO    :   fwhm = Uniform(minimum=300, maximum=1000, name='fwhm', latex_label='fwhm', unit=None, boundary=None)\n",
      "13:42 bilby INFO    :   flux = Uniform(minimum=-12.27264105762597, maximum=12.27264105762597, name='flux', latex_label='flux', unit=None, boundary=None)\n",
      "13:42 bilby INFO    :   A = Uniform(minimum=-0.07200523313800823, maximum=0.14401046627601646, name='A', latex_label='A', unit=None, boundary=None)\n",
      "13:42 bilby INFO    :   beta = Uniform(minimum=-4, maximum=0, name='beta', latex_label='beta', unit=None, boundary=None)\n",
      "13:42 bilby INFO    :   wave0 = 9607.84967000935\n",
      "13:42 bilby INFO    : Single likelihood evaluation took 3.818e-05 s\n"
     ]
    },
    {
     "data": {
      "application/vnd.jupyter.widget-view+json": {
       "model_id": "6098b952ad4140cf91f988fa96577a71",
       "version_major": 2,
       "version_minor": 0
      },
      "text/plain": [
       "0it [00:00, ?it/s]"
      ]
     },
     "metadata": {},
     "output_type": "display_data"
    },
    {
     "name": "stderr",
     "output_type": "stream",
     "text": [
      "13:42 bilby INFO    : Checkpoint every check_point_delta_t = 600s\n",
      "13:42 bilby WARNING : Using cached result\n",
      "13:42 bilby INFO    : Summary of results:\n",
      "nsamples: 2766\n",
      "ln_noise_evidence:    nan\n",
      "ln_evidence: 966.313 +/-  0.291\n",
      "ln_bayes_factor:    nan +/-  0.291\n",
      "\n",
      "/Users/myue/Research/Projects/JWST/dependencies/msa_spec_utils/LAE_spec_utils.py:464: RuntimeWarning: divide by zero encountered in power\n",
      "  self.err_fnu = (self.ivar_fnu)**-0.5\n",
      "/Users/myue/Research/Projects/JWST/dependencies/msa_spec_utils/LAE_spec_utils.py:470: RuntimeWarning: invalid value encountered in divide\n",
      "  self.flam = self.fnu * speed_of_light_angstrom / (self.wave)**2 * 1e-29 * 1e18\n",
      "/Users/myue/Research/Projects/JWST/dependencies/msa_spec_utils/LAE_spec_utils.py:471: RuntimeWarning: divide by zero encountered in divide\n",
      "  self.err_flam = self.err_fnu * (speed_of_light_angstrom / (self.wave)**2 * 1e-29 * 1e18)\n",
      "13:42 bilby INFO    : Running for label '3117_16736', output will be saved to '../../data/lya_saves/J1148/bilby_fit_lya_msaexp_pypeit_v2/'\n",
      "13:42 bilby INFO    : Search parameters:\n",
      "13:42 bilby INFO    :   center = Uniform(minimum=9593.293224072086, maximum=9631.743297114457, name='center', latex_label='center', unit=None, boundary=None)\n",
      "13:42 bilby INFO    :   fwhm = Uniform(minimum=300, maximum=1000, name='fwhm', latex_label='fwhm', unit=None, boundary=None)\n",
      "13:42 bilby INFO    :   flux = Uniform(minimum=-12.082105001675673, maximum=12.082105001675673, name='flux', latex_label='flux', unit=None, boundary=None)\n",
      "13:42 bilby INFO    :   A = Uniform(minimum=-0.07085290407909565, maximum=0.1417058081581913, name='A', latex_label='A', unit=None, boundary=None)\n",
      "13:42 bilby INFO    :   beta = Uniform(minimum=-4, maximum=0, name='beta', latex_label='beta', unit=None, boundary=None)\n",
      "13:42 bilby INFO    :   wave0 = 9612.518260593271\n",
      "13:42 bilby INFO    : Single likelihood evaluation took 3.890e-05 s\n"
     ]
    },
    {
     "data": {
      "application/vnd.jupyter.widget-view+json": {
       "model_id": "f0d6e4d52eca4a8f8607e02a1316e7d2",
       "version_major": 2,
       "version_minor": 0
      },
      "text/plain": [
       "0it [00:00, ?it/s]"
      ]
     },
     "metadata": {},
     "output_type": "display_data"
    },
    {
     "name": "stderr",
     "output_type": "stream",
     "text": [
      "13:42 bilby INFO    : Checkpoint every check_point_delta_t = 600s\n",
      "13:42 bilby WARNING : Using cached result\n",
      "13:42 bilby INFO    : Summary of results:\n",
      "nsamples: 3590\n",
      "ln_noise_evidence:    nan\n",
      "ln_evidence: 1006.089 +/-  0.355\n",
      "ln_bayes_factor:    nan +/-  0.355\n",
      "\n",
      "/Users/myue/Research/Projects/JWST/dependencies/msa_spec_utils/LAE_spec_utils.py:464: RuntimeWarning: divide by zero encountered in power\n",
      "  self.err_fnu = (self.ivar_fnu)**-0.5\n",
      "/Users/myue/Research/Projects/JWST/dependencies/msa_spec_utils/LAE_spec_utils.py:470: RuntimeWarning: invalid value encountered in divide\n",
      "  self.flam = self.fnu * speed_of_light_angstrom / (self.wave)**2 * 1e-29 * 1e18\n",
      "/Users/myue/Research/Projects/JWST/dependencies/msa_spec_utils/LAE_spec_utils.py:471: RuntimeWarning: divide by zero encountered in divide\n",
      "  self.err_flam = self.err_fnu * (speed_of_light_angstrom / (self.wave)**2 * 1e-29 * 1e18)\n",
      "13:42 bilby INFO    : Running for label '3117_16802', output will be saved to '../../data/lya_saves/J1148/bilby_fit_lya_msaexp_pypeit_v2/'\n",
      "13:42 bilby INFO    : Search parameters:\n",
      "13:42 bilby INFO    :   center = Uniform(minimum=8971.818785900037, maximum=9007.777979430697, name='center', latex_label='center', unit=None, boundary=None)\n",
      "13:42 bilby INFO    :   fwhm = Uniform(minimum=300, maximum=1000, name='fwhm', latex_label='fwhm', unit=None, boundary=None)\n",
      "13:42 bilby INFO    :   flux = Uniform(minimum=-30.056273309915756, maximum=30.056273309915756, name='flux', latex_label='flux', unit=None, boundary=None)\n",
      "13:42 bilby INFO    :   A = Uniform(minimum=-0.18846790679908323, maximum=0.37693581359816647, name='A', latex_label='A', unit=None, boundary=None)\n",
      "13:42 bilby INFO    :   beta = Uniform(minimum=-4, maximum=0, name='beta', latex_label='beta', unit=None, boundary=None)\n",
      "13:42 bilby INFO    :   wave0 = 8989.798382665367\n",
      "13:42 bilby INFO    : Single likelihood evaluation took 3.849e-05 s\n"
     ]
    },
    {
     "data": {
      "application/vnd.jupyter.widget-view+json": {
       "model_id": "d12e268c07a74d409e47e8c9100733ed",
       "version_major": 2,
       "version_minor": 0
      },
      "text/plain": [
       "0it [00:00, ?it/s]"
      ]
     },
     "metadata": {},
     "output_type": "display_data"
    },
    {
     "name": "stderr",
     "output_type": "stream",
     "text": [
      "13:42 bilby INFO    : Checkpoint every check_point_delta_t = 600s\n",
      "13:42 bilby WARNING : Using cached result\n",
      "13:42 bilby INFO    : Summary of results:\n",
      "nsamples: 2961\n",
      "ln_noise_evidence:    nan\n",
      "ln_evidence: 729.701 +/-  0.305\n",
      "ln_bayes_factor:    nan +/-  0.305\n",
      "\n",
      "/Users/myue/Research/Projects/JWST/dependencies/msa_spec_utils/LAE_spec_utils.py:464: RuntimeWarning: divide by zero encountered in power\n",
      "  self.err_fnu = (self.ivar_fnu)**-0.5\n",
      "/Users/myue/Research/Projects/JWST/dependencies/msa_spec_utils/LAE_spec_utils.py:470: RuntimeWarning: invalid value encountered in divide\n",
      "  self.flam = self.fnu * speed_of_light_angstrom / (self.wave)**2 * 1e-29 * 1e18\n",
      "/Users/myue/Research/Projects/JWST/dependencies/msa_spec_utils/LAE_spec_utils.py:471: RuntimeWarning: divide by zero encountered in divide\n",
      "  self.err_flam = self.err_fnu * (speed_of_light_angstrom / (self.wave)**2 * 1e-29 * 1e18)\n",
      "13:42 bilby INFO    : Running for label '3117_16972', output will be saved to '../../data/lya_saves/J1148/bilby_fit_lya_msaexp_pypeit_v2/'\n",
      "13:42 bilby INFO    : Search parameters:\n",
      "13:42 bilby INFO    :   center = Uniform(minimum=9590.472969374116, maximum=9628.911738790446, name='center', latex_label='center', unit=None, boundary=None)\n",
      "13:42 bilby INFO    :   fwhm = Uniform(minimum=300, maximum=1000, name='fwhm', latex_label='fwhm', unit=None, boundary=None)\n",
      "13:42 bilby INFO    :   flux = Uniform(minimum=-12.424766124017621, maximum=12.424766124017621, name='flux', latex_label='flux', unit=None, boundary=None)\n",
      "13:42 bilby INFO    :   A = Uniform(minimum=-0.07288379298932889, maximum=0.14576758597865777, name='A', latex_label='A', unit=None, boundary=None)\n",
      "13:42 bilby INFO    :   beta = Uniform(minimum=-4, maximum=0, name='beta', latex_label='beta', unit=None, boundary=None)\n",
      "13:42 bilby INFO    :   wave0 = 9609.69235408228\n",
      "13:42 bilby INFO    : Single likelihood evaluation took 3.899e-05 s\n"
     ]
    },
    {
     "data": {
      "application/vnd.jupyter.widget-view+json": {
       "model_id": "095670fa0c6c4360ae82bfa9a97bacc9",
       "version_major": 2,
       "version_minor": 0
      },
      "text/plain": [
       "0it [00:00, ?it/s]"
      ]
     },
     "metadata": {},
     "output_type": "display_data"
    },
    {
     "name": "stderr",
     "output_type": "stream",
     "text": [
      "13:42 bilby INFO    : Checkpoint every check_point_delta_t = 600s\n",
      "13:42 bilby WARNING : Using cached result\n",
      "13:42 bilby INFO    : Summary of results:\n",
      "nsamples: 3151\n",
      "ln_noise_evidence:    nan\n",
      "ln_evidence: 991.075 +/-  0.307\n",
      "ln_bayes_factor:    nan +/-  0.307\n",
      "\n",
      "/Users/myue/Research/Projects/JWST/dependencies/msa_spec_utils/LAE_spec_utils.py:464: RuntimeWarning: divide by zero encountered in power\n",
      "  self.err_fnu = (self.ivar_fnu)**-0.5\n",
      "/Users/myue/Research/Projects/JWST/dependencies/msa_spec_utils/LAE_spec_utils.py:470: RuntimeWarning: invalid value encountered in divide\n",
      "  self.flam = self.fnu * speed_of_light_angstrom / (self.wave)**2 * 1e-29 * 1e18\n",
      "/Users/myue/Research/Projects/JWST/dependencies/msa_spec_utils/LAE_spec_utils.py:471: RuntimeWarning: divide by zero encountered in divide\n",
      "  self.err_flam = self.err_fnu * (speed_of_light_angstrom / (self.wave)**2 * 1e-29 * 1e18)\n",
      "13:42 bilby INFO    : Running for label '3117_17076', output will be saved to '../../data/lya_saves/J1148/bilby_fit_lya_msaexp_pypeit_v2/'\n",
      "13:42 bilby INFO    : Search parameters:\n",
      "13:42 bilby INFO    :   center = Uniform(minimum=9042.553698179274, maximum=9078.796398372377, name='center', latex_label='center', unit=None, boundary=None)\n",
      "13:42 bilby INFO    :   fwhm = Uniform(minimum=300, maximum=1000, name='fwhm', latex_label='fwhm', unit=None, boundary=None)\n",
      "13:42 bilby INFO    :   flux = Uniform(minimum=-57.15821201987395, maximum=57.15821201987395, name='flux', latex_label='flux', unit=None, boundary=None)\n",
      "13:42 bilby INFO    :   A = Uniform(minimum=-0.3556070051156798, maximum=0.7112140102313596, name='A', latex_label='A', unit=None, boundary=None)\n",
      "13:42 bilby INFO    :   beta = Uniform(minimum=-4, maximum=0, name='beta', latex_label='beta', unit=None, boundary=None)\n",
      "13:42 bilby INFO    :   wave0 = 9060.675048275825\n",
      "13:42 bilby INFO    : Single likelihood evaluation took 3.693e-05 s\n"
     ]
    },
    {
     "data": {
      "application/vnd.jupyter.widget-view+json": {
       "model_id": "6170b1c467644010993cc78b7b9c7908",
       "version_major": 2,
       "version_minor": 0
      },
      "text/plain": [
       "0it [00:00, ?it/s]"
      ]
     },
     "metadata": {},
     "output_type": "display_data"
    },
    {
     "name": "stderr",
     "output_type": "stream",
     "text": [
      "13:42 bilby INFO    : Checkpoint every check_point_delta_t = 600s\n",
      "13:42 bilby WARNING : Using cached result\n",
      "13:42 bilby INFO    : Summary of results:\n",
      "nsamples: 3819\n",
      "ln_noise_evidence:    nan\n",
      "ln_evidence: 459.159 +/-  0.371\n",
      "ln_bayes_factor:    nan +/-  0.371\n",
      "\n",
      "/Users/myue/Research/Projects/JWST/dependencies/msa_spec_utils/LAE_spec_utils.py:464: RuntimeWarning: divide by zero encountered in power\n",
      "  self.err_fnu = (self.ivar_fnu)**-0.5\n",
      "/Users/myue/Research/Projects/JWST/dependencies/msa_spec_utils/LAE_spec_utils.py:470: RuntimeWarning: invalid value encountered in divide\n",
      "  self.flam = self.fnu * speed_of_light_angstrom / (self.wave)**2 * 1e-29 * 1e18\n",
      "/Users/myue/Research/Projects/JWST/dependencies/msa_spec_utils/LAE_spec_utils.py:471: RuntimeWarning: divide by zero encountered in divide\n",
      "  self.err_flam = self.err_fnu * (speed_of_light_angstrom / (self.wave)**2 * 1e-29 * 1e18)\n",
      "13:42 bilby INFO    : Running for label '3117_17242', output will be saved to '../../data/lya_saves/J1148/bilby_fit_lya_msaexp_pypeit_v2/'\n",
      "13:42 bilby INFO    : Search parameters:\n",
      "13:42 bilby INFO    :   center = Uniform(minimum=9456.574184222647, maximum=9494.476285161416, name='center', latex_label='center', unit=None, boundary=None)\n",
      "13:42 bilby INFO    :   fwhm = Uniform(minimum=300, maximum=1000, name='fwhm', latex_label='fwhm', unit=None, boundary=None)\n",
      "13:42 bilby INFO    :   flux = Uniform(minimum=-60.705894699701446, maximum=60.705894699701446, name='flux', latex_label='flux', unit=None, boundary=None)\n",
      "13:42 bilby INFO    :   A = Uniform(minimum=-0.3611434972595755, maximum=0.722286994519151, name='A', latex_label='A', unit=None, boundary=None)\n",
      "13:42 bilby INFO    :   beta = Uniform(minimum=-4, maximum=0, name='beta', latex_label='beta', unit=None, boundary=None)\n",
      "13:42 bilby INFO    :   wave0 = 9475.525234692032\n",
      "13:42 bilby INFO    : Single likelihood evaluation took 3.715e-05 s\n"
     ]
    },
    {
     "data": {
      "application/vnd.jupyter.widget-view+json": {
       "model_id": "ec7e8114c45840359d4a8363ac85a4b0",
       "version_major": 2,
       "version_minor": 0
      },
      "text/plain": [
       "0it [00:00, ?it/s]"
      ]
     },
     "metadata": {},
     "output_type": "display_data"
    },
    {
     "name": "stderr",
     "output_type": "stream",
     "text": [
      "13:42 bilby INFO    : Checkpoint every check_point_delta_t = 600s\n",
      "13:42 bilby WARNING : Using cached result\n",
      "13:42 bilby INFO    : Summary of results:\n",
      "nsamples: 4100\n",
      "ln_noise_evidence:    nan\n",
      "ln_evidence: 469.089 +/-  0.391\n",
      "ln_bayes_factor:    nan +/-  0.391\n",
      "\n",
      "/Users/myue/Research/Projects/JWST/dependencies/msa_spec_utils/LAE_spec_utils.py:464: RuntimeWarning: divide by zero encountered in power\n",
      "  self.err_fnu = (self.ivar_fnu)**-0.5\n",
      "/Users/myue/Research/Projects/JWST/dependencies/msa_spec_utils/LAE_spec_utils.py:470: RuntimeWarning: invalid value encountered in divide\n",
      "  self.flam = self.fnu * speed_of_light_angstrom / (self.wave)**2 * 1e-29 * 1e18\n",
      "/Users/myue/Research/Projects/JWST/dependencies/msa_spec_utils/LAE_spec_utils.py:471: RuntimeWarning: divide by zero encountered in divide\n",
      "  self.err_flam = self.err_fnu * (speed_of_light_angstrom / (self.wave)**2 * 1e-29 * 1e18)\n",
      "13:42 bilby INFO    : Running for label '3117_17433', output will be saved to '../../data/lya_saves/J1148/bilby_fit_lya_msaexp_pypeit_v2/'\n",
      "13:42 bilby INFO    : Search parameters:\n",
      "13:42 bilby INFO    :   center = Uniform(minimum=8802.78727172216, maximum=8838.06898423407, name='center', latex_label='center', unit=None, boundary=None)\n",
      "13:42 bilby INFO    :   fwhm = Uniform(minimum=300, maximum=1000, name='fwhm', latex_label='fwhm', unit=None, boundary=None)\n",
      "13:42 bilby INFO    :   flux = Uniform(minimum=-12.245219594042716, maximum=12.245219594042716, name='flux', latex_label='flux', unit=None, boundary=None)\n",
      "13:42 bilby INFO    :   A = Uniform(minimum=-0.07825807121866662, maximum=0.15651614243733325, name='A', latex_label='A', unit=None, boundary=None)\n",
      "13:42 bilby INFO    :   beta = Uniform(minimum=-4, maximum=0, name='beta', latex_label='beta', unit=None, boundary=None)\n",
      "13:42 bilby INFO    :   wave0 = 8820.428127978115\n",
      "13:42 bilby INFO    : Single likelihood evaluation took 5.080e-05 s\n"
     ]
    },
    {
     "data": {
      "application/vnd.jupyter.widget-view+json": {
       "model_id": "ab7492f6540a4cf399e4496467dd59bf",
       "version_major": 2,
       "version_minor": 0
      },
      "text/plain": [
       "0it [00:00, ?it/s]"
      ]
     },
     "metadata": {},
     "output_type": "display_data"
    },
    {
     "name": "stderr",
     "output_type": "stream",
     "text": [
      "13:42 bilby INFO    : Checkpoint every check_point_delta_t = 600s\n",
      "13:42 bilby WARNING : Using cached result\n",
      "13:42 bilby INFO    : Summary of results:\n",
      "nsamples: 2545\n",
      "ln_noise_evidence:    nan\n",
      "ln_evidence: 804.762 +/-  0.272\n",
      "ln_bayes_factor:    nan +/-  0.272\n",
      "\n",
      "/Users/myue/Research/Projects/JWST/dependencies/msa_spec_utils/LAE_spec_utils.py:464: RuntimeWarning: divide by zero encountered in power\n",
      "  self.err_fnu = (self.ivar_fnu)**-0.5\n",
      "/Users/myue/Research/Projects/JWST/dependencies/msa_spec_utils/LAE_spec_utils.py:470: RuntimeWarning: invalid value encountered in divide\n",
      "  self.flam = self.fnu * speed_of_light_angstrom / (self.wave)**2 * 1e-29 * 1e18\n",
      "/Users/myue/Research/Projects/JWST/dependencies/msa_spec_utils/LAE_spec_utils.py:471: RuntimeWarning: divide by zero encountered in divide\n",
      "  self.err_flam = self.err_fnu * (speed_of_light_angstrom / (self.wave)**2 * 1e-29 * 1e18)\n",
      "13:42 bilby INFO    : Running for label '3117_17783', output will be saved to '../../data/lya_saves/J1148/bilby_fit_lya_msaexp_pypeit_v2/'\n",
      "13:42 bilby INFO    : Search parameters:\n",
      "13:42 bilby INFO    :   center = Uniform(minimum=8402.625927474497, maximum=8436.303786903254, name='center', latex_label='center', unit=None, boundary=None)\n",
      "13:42 bilby INFO    :   fwhm = Uniform(minimum=300, maximum=1000, name='fwhm', latex_label='fwhm', unit=None, boundary=None)\n",
      "13:42 bilby INFO    :   flux = Uniform(minimum=-19.465195099655045, maximum=19.465195099655045, name='flux', latex_label='flux', unit=None, boundary=None)\n",
      "13:42 bilby INFO    :   A = Uniform(minimum=-0.13032462985972404, maximum=0.2606492597194481, name='A', latex_label='A', unit=None, boundary=None)\n",
      "13:42 bilby INFO    :   beta = Uniform(minimum=-4, maximum=0, name='beta', latex_label='beta', unit=None, boundary=None)\n",
      "13:42 bilby INFO    :   wave0 = 8419.464857188876\n",
      "13:42 bilby INFO    : Single likelihood evaluation took 4.111e-05 s\n"
     ]
    },
    {
     "data": {
      "application/vnd.jupyter.widget-view+json": {
       "model_id": "ef391fd4a409487faaa32d41db39ad61",
       "version_major": 2,
       "version_minor": 0
      },
      "text/plain": [
       "0it [00:00, ?it/s]"
      ]
     },
     "metadata": {},
     "output_type": "display_data"
    },
    {
     "name": "stderr",
     "output_type": "stream",
     "text": [
      "13:42 bilby INFO    : Checkpoint every check_point_delta_t = 600s\n",
      "13:42 bilby WARNING : Using cached result\n",
      "13:42 bilby INFO    : Summary of results:\n",
      "nsamples: 2572\n",
      "ln_noise_evidence:    nan\n",
      "ln_evidence: 330.850 +/-  0.280\n",
      "ln_bayes_factor:    nan +/-  0.280\n",
      "\n",
      "/Users/myue/Research/Projects/JWST/dependencies/msa_spec_utils/LAE_spec_utils.py:464: RuntimeWarning: divide by zero encountered in power\n",
      "  self.err_fnu = (self.ivar_fnu)**-0.5\n",
      "/Users/myue/Research/Projects/JWST/dependencies/msa_spec_utils/LAE_spec_utils.py:470: RuntimeWarning: invalid value encountered in divide\n",
      "  self.flam = self.fnu * speed_of_light_angstrom / (self.wave)**2 * 1e-29 * 1e18\n",
      "/Users/myue/Research/Projects/JWST/dependencies/msa_spec_utils/LAE_spec_utils.py:471: RuntimeWarning: divide by zero encountered in divide\n",
      "  self.err_flam = self.err_fnu * (speed_of_light_angstrom / (self.wave)**2 * 1e-29 * 1e18)\n",
      "13:42 bilby INFO    : Running for label '3117_18178', output will be saved to '../../data/lya_saves/J1148/bilby_fit_lya_msaexp_pypeit_v2/'\n",
      "13:42 bilby INFO    : Search parameters:\n",
      "13:42 bilby INFO    :   center = Uniform(minimum=8164.295560438181, maximum=8197.018187934927, name='center', latex_label='center', unit=None, boundary=None)\n",
      "13:42 bilby INFO    :   fwhm = Uniform(minimum=300, maximum=1000, name='fwhm', latex_label='fwhm', unit=None, boundary=None)\n",
      "13:42 bilby INFO    :   flux = Uniform(minimum=-46.367435407287985, maximum=46.367435407287985, name='flux', latex_label='flux', unit=None, boundary=None)\n",
      "13:42 bilby INFO    :   A = Uniform(minimum=-0.3195046080316036, maximum=0.6390092160632072, name='A', latex_label='A', unit=None, boundary=None)\n",
      "13:42 bilby INFO    :   beta = Uniform(minimum=-4, maximum=0, name='beta', latex_label='beta', unit=None, boundary=None)\n",
      "13:42 bilby INFO    :   wave0 = 8180.656874186555\n",
      "13:42 bilby INFO    : Single likelihood evaluation took 4.684e-05 s\n"
     ]
    },
    {
     "data": {
      "application/vnd.jupyter.widget-view+json": {
       "model_id": "c88ace2c3be7445ab06e7bdcbeb29b5d",
       "version_major": 2,
       "version_minor": 0
      },
      "text/plain": [
       "0it [00:00, ?it/s]"
      ]
     },
     "metadata": {},
     "output_type": "display_data"
    },
    {
     "name": "stderr",
     "output_type": "stream",
     "text": [
      "13:42 bilby INFO    : Checkpoint every check_point_delta_t = 600s\n",
      "13:42 bilby WARNING : Using cached result\n",
      "13:42 bilby INFO    : Summary of results:\n",
      "nsamples: 5299\n",
      "ln_noise_evidence:    nan\n",
      "ln_evidence: 386.586 +/-  0.451\n",
      "ln_bayes_factor:    nan +/-  0.451\n",
      "\n",
      "/Users/myue/Research/Projects/JWST/dependencies/msa_spec_utils/LAE_spec_utils.py:464: RuntimeWarning: divide by zero encountered in power\n",
      "  self.err_fnu = (self.ivar_fnu)**-0.5\n",
      "/Users/myue/Research/Projects/JWST/dependencies/msa_spec_utils/LAE_spec_utils.py:470: RuntimeWarning: invalid value encountered in divide\n",
      "  self.flam = self.fnu * speed_of_light_angstrom / (self.wave)**2 * 1e-29 * 1e18\n",
      "/Users/myue/Research/Projects/JWST/dependencies/msa_spec_utils/LAE_spec_utils.py:471: RuntimeWarning: divide by zero encountered in divide\n",
      "  self.err_flam = self.err_fnu * (speed_of_light_angstrom / (self.wave)**2 * 1e-29 * 1e18)\n",
      "13:42 bilby INFO    : Running for label '3117_18852', output will be saved to '../../data/lya_saves/J1148/bilby_fit_lya_msaexp_pypeit_v2/'\n",
      "13:42 bilby INFO    : Search parameters:\n",
      "13:42 bilby INFO    :   center = Uniform(minimum=7811.734492757056, maximum=7843.044049842254, name='center', latex_label='center', unit=None, boundary=None)\n",
      "13:42 bilby INFO    :   fwhm = Uniform(minimum=300, maximum=1000, name='fwhm', latex_label='fwhm', unit=None, boundary=None)\n",
      "13:42 bilby INFO    :   flux = Uniform(minimum=-38.15913325854141, maximum=38.15913325854141, name='flux', latex_label='flux', unit=None, boundary=None)\n",
      "13:42 bilby INFO    :   A = Uniform(minimum=-0.2748108001555785, maximum=0.549621600311157, name='A', latex_label='A', unit=None, boundary=None)\n",
      "13:42 bilby INFO    :   beta = Uniform(minimum=-4, maximum=0, name='beta', latex_label='beta', unit=None, boundary=None)\n",
      "13:42 bilby INFO    :   wave0 = 7827.389271299655\n",
      "13:42 bilby INFO    : Single likelihood evaluation took 4.680e-05 s\n"
     ]
    },
    {
     "data": {
      "application/vnd.jupyter.widget-view+json": {
       "model_id": "868af72daf864b31848dfdc4b241f0e9",
       "version_major": 2,
       "version_minor": 0
      },
      "text/plain": [
       "0it [00:00, ?it/s]"
      ]
     },
     "metadata": {},
     "output_type": "display_data"
    },
    {
     "name": "stderr",
     "output_type": "stream",
     "text": [
      "13:42 bilby INFO    : Checkpoint every check_point_delta_t = 600s\n",
      "13:42 bilby WARNING : Using cached result\n",
      "13:42 bilby INFO    : Summary of results:\n",
      "nsamples: 2516\n",
      "ln_noise_evidence:    nan\n",
      "ln_evidence: 486.244 +/-  0.274\n",
      "ln_bayes_factor:    nan +/-  0.274\n",
      "\n",
      "/Users/myue/Research/Projects/JWST/dependencies/msa_spec_utils/LAE_spec_utils.py:464: RuntimeWarning: divide by zero encountered in power\n",
      "  self.err_fnu = (self.ivar_fnu)**-0.5\n",
      "/Users/myue/Research/Projects/JWST/dependencies/msa_spec_utils/LAE_spec_utils.py:470: RuntimeWarning: invalid value encountered in divide\n",
      "  self.flam = self.fnu * speed_of_light_angstrom / (self.wave)**2 * 1e-29 * 1e18\n",
      "/Users/myue/Research/Projects/JWST/dependencies/msa_spec_utils/LAE_spec_utils.py:471: RuntimeWarning: divide by zero encountered in divide\n",
      "  self.err_flam = self.err_fnu * (speed_of_light_angstrom / (self.wave)**2 * 1e-29 * 1e18)\n",
      "13:42 bilby INFO    : Running for label '3117_18887', output will be saved to '../../data/lya_saves/J1148/bilby_fit_lya_msaexp_pypeit_v2/'\n",
      "13:42 bilby INFO    : Search parameters:\n",
      "13:42 bilby INFO    :   center = Uniform(minimum=8505.598328326343, maximum=8539.688902788572, name='center', latex_label='center', unit=None, boundary=None)\n",
      "13:42 bilby INFO    :   fwhm = Uniform(minimum=300, maximum=1000, name='fwhm', latex_label='fwhm', unit=None, boundary=None)\n",
      "13:42 bilby INFO    :   flux = Uniform(minimum=-20.13522590914544, maximum=20.13522590914544, name='flux', latex_label='flux', unit=None, boundary=None)\n",
      "13:42 bilby INFO    :   A = Uniform(minimum=-0.133178587971671, maximum=0.266357175943342, name='A', latex_label='A', unit=None, boundary=None)\n",
      "13:42 bilby INFO    :   beta = Uniform(minimum=-4, maximum=0, name='beta', latex_label='beta', unit=None, boundary=None)\n",
      "13:42 bilby INFO    :   wave0 = 8522.643615557457\n",
      "13:42 bilby INFO    : Single likelihood evaluation took 5.325e-05 s\n"
     ]
    },
    {
     "data": {
      "application/vnd.jupyter.widget-view+json": {
       "model_id": "2acf1a76102445a38144b5e81d578ffb",
       "version_major": 2,
       "version_minor": 0
      },
      "text/plain": [
       "0it [00:00, ?it/s]"
      ]
     },
     "metadata": {},
     "output_type": "display_data"
    },
    {
     "name": "stderr",
     "output_type": "stream",
     "text": [
      "13:42 bilby INFO    : Checkpoint every check_point_delta_t = 600s\n",
      "13:42 bilby WARNING : Using cached result\n",
      "13:42 bilby INFO    : Summary of results:\n",
      "nsamples: 2725\n",
      "ln_noise_evidence:    nan\n",
      "ln_evidence: 489.342 +/-  0.296\n",
      "ln_bayes_factor:    nan +/-  0.296\n",
      "\n",
      "/Users/myue/Research/Projects/JWST/dependencies/msa_spec_utils/LAE_spec_utils.py:464: RuntimeWarning: divide by zero encountered in power\n",
      "  self.err_fnu = (self.ivar_fnu)**-0.5\n",
      "/Users/myue/Research/Projects/JWST/dependencies/msa_spec_utils/LAE_spec_utils.py:470: RuntimeWarning: invalid value encountered in divide\n",
      "  self.flam = self.fnu * speed_of_light_angstrom / (self.wave)**2 * 1e-29 * 1e18\n",
      "/Users/myue/Research/Projects/JWST/dependencies/msa_spec_utils/LAE_spec_utils.py:471: RuntimeWarning: divide by zero encountered in divide\n",
      "  self.err_flam = self.err_fnu * (speed_of_light_angstrom / (self.wave)**2 * 1e-29 * 1e18)\n",
      "13:42 bilby INFO    : Running for label '3117_19229', output will be saved to '../../data/lya_saves/J1148/bilby_fit_lya_msaexp_pypeit_v2/'\n",
      "13:42 bilby INFO    : Search parameters:\n",
      "13:42 bilby INFO    :   center = Uniform(minimum=9401.886789081618, maximum=9439.569702063909, name='center', latex_label='center', unit=None, boundary=None)\n",
      "13:42 bilby INFO    :   fwhm = Uniform(minimum=300, maximum=1000, name='fwhm', latex_label='fwhm', unit=None, boundary=None)\n",
      "13:42 bilby INFO    :   flux = Uniform(minimum=-14.038202780298707, maximum=14.038202780298707, name='flux', latex_label='flux', unit=None, boundary=None)\n",
      "13:42 bilby INFO    :   A = Uniform(minimum=-0.08399999553943029, maximum=0.16799999107886057, name='A', latex_label='A', unit=None, boundary=None)\n",
      "13:42 bilby INFO    :   beta = Uniform(minimum=-4, maximum=0, name='beta', latex_label='beta', unit=None, boundary=None)\n",
      "13:42 bilby INFO    :   wave0 = 9420.728245572764\n",
      "13:42 bilby INFO    : Single likelihood evaluation took 3.819e-05 s\n"
     ]
    },
    {
     "data": {
      "application/vnd.jupyter.widget-view+json": {
       "model_id": "41eb94712efd4cf489deed23260b8207",
       "version_major": 2,
       "version_minor": 0
      },
      "text/plain": [
       "0it [00:00, ?it/s]"
      ]
     },
     "metadata": {},
     "output_type": "display_data"
    },
    {
     "name": "stderr",
     "output_type": "stream",
     "text": [
      "13:42 bilby INFO    : Checkpoint every check_point_delta_t = 600s\n",
      "13:42 bilby WARNING : Using cached result\n",
      "13:42 bilby INFO    : Summary of results:\n",
      "nsamples: 3520\n",
      "ln_noise_evidence:    nan\n",
      "ln_evidence: 965.544 +/-  0.344\n",
      "ln_bayes_factor:    nan +/-  0.344\n",
      "\n",
      "/Users/myue/Research/Projects/JWST/dependencies/msa_spec_utils/LAE_spec_utils.py:464: RuntimeWarning: divide by zero encountered in power\n",
      "  self.err_fnu = (self.ivar_fnu)**-0.5\n",
      "/Users/myue/Research/Projects/JWST/dependencies/msa_spec_utils/LAE_spec_utils.py:470: RuntimeWarning: invalid value encountered in divide\n",
      "  self.flam = self.fnu * speed_of_light_angstrom / (self.wave)**2 * 1e-29 * 1e18\n",
      "/Users/myue/Research/Projects/JWST/dependencies/msa_spec_utils/LAE_spec_utils.py:471: RuntimeWarning: divide by zero encountered in divide\n",
      "  self.err_flam = self.err_fnu * (speed_of_light_angstrom / (self.wave)**2 * 1e-29 * 1e18)\n",
      "13:42 bilby INFO    : Running for label '3117_19514', output will be saved to '../../data/lya_saves/J1148/bilby_fit_lya_msaexp_pypeit_v2/'\n",
      "13:42 bilby INFO    : Search parameters:\n",
      "13:42 bilby INFO    :   center = Uniform(minimum=8112.138113932352, maximum=8144.651693547311, name='center', latex_label='center', unit=None, boundary=None)\n",
      "13:42 bilby INFO    :   fwhm = Uniform(minimum=300, maximum=1000, name='fwhm', latex_label='fwhm', unit=None, boundary=None)\n",
      "13:42 bilby INFO    :   flux = Uniform(minimum=-15.70988272834822, maximum=15.70988272834822, name='flux', latex_label='flux', unit=None, boundary=None)\n",
      "13:42 bilby INFO    :   A = Uniform(minimum=-0.11622658122977385, maximum=0.2324531624595477, name='A', latex_label='A', unit=None, boundary=None)\n",
      "13:42 bilby INFO    :   beta = Uniform(minimum=-4, maximum=0, name='beta', latex_label='beta', unit=None, boundary=None)\n",
      "13:42 bilby INFO    :   wave0 = 8128.3949037398315\n",
      "13:42 bilby INFO    : Single likelihood evaluation took 4.021e-05 s\n"
     ]
    },
    {
     "data": {
      "application/vnd.jupyter.widget-view+json": {
       "model_id": "16459805255446d888e17ab318869d74",
       "version_major": 2,
       "version_minor": 0
      },
      "text/plain": [
       "0it [00:00, ?it/s]"
      ]
     },
     "metadata": {},
     "output_type": "display_data"
    },
    {
     "name": "stderr",
     "output_type": "stream",
     "text": [
      "13:42 bilby INFO    : Checkpoint every check_point_delta_t = 600s\n",
      "13:42 bilby WARNING : Using cached result\n",
      "13:42 bilby INFO    : Summary of results:\n",
      "nsamples: 2297\n",
      "ln_noise_evidence:    nan\n",
      "ln_evidence: 525.355 +/-  0.256\n",
      "ln_bayes_factor:    nan +/-  0.256\n",
      "\n",
      "/Users/myue/Research/Projects/JWST/dependencies/msa_spec_utils/LAE_spec_utils.py:464: RuntimeWarning: divide by zero encountered in power\n",
      "  self.err_fnu = (self.ivar_fnu)**-0.5\n",
      "/Users/myue/Research/Projects/JWST/dependencies/msa_spec_utils/LAE_spec_utils.py:470: RuntimeWarning: invalid value encountered in divide\n",
      "  self.flam = self.fnu * speed_of_light_angstrom / (self.wave)**2 * 1e-29 * 1e18\n",
      "/Users/myue/Research/Projects/JWST/dependencies/msa_spec_utils/LAE_spec_utils.py:471: RuntimeWarning: divide by zero encountered in divide\n",
      "  self.err_flam = self.err_fnu * (speed_of_light_angstrom / (self.wave)**2 * 1e-29 * 1e18)\n",
      "13:42 bilby INFO    : Running for label '3117_19692', output will be saved to '../../data/lya_saves/J1148/bilby_fit_lya_msaexp_pypeit_v2/'\n",
      "13:42 bilby INFO    : Search parameters:\n",
      "13:42 bilby INFO    :   center = Uniform(minimum=9586.487658492713, maximum=9624.910454719136, name='center', latex_label='center', unit=None, boundary=None)\n",
      "13:42 bilby INFO    :   fwhm = Uniform(minimum=300, maximum=1000, name='fwhm', latex_label='fwhm', unit=None, boundary=None)\n",
      "13:42 bilby INFO    :   flux = Uniform(minimum=-13.49540816885336, maximum=13.49540816885336, name='flux', latex_label='flux', unit=None, boundary=None)\n",
      "13:42 bilby INFO    :   A = Uniform(minimum=-0.07919709939651681, maximum=0.15839419879303362, name='A', latex_label='A', unit=None, boundary=None)\n",
      "13:42 bilby INFO    :   beta = Uniform(minimum=-4, maximum=0, name='beta', latex_label='beta', unit=None, boundary=None)\n",
      "13:42 bilby INFO    :   wave0 = 9605.699056605925\n",
      "13:42 bilby INFO    : Single likelihood evaluation took 5.188e-05 s\n"
     ]
    },
    {
     "data": {
      "application/vnd.jupyter.widget-view+json": {
       "model_id": "d58ce948fa454886b85acfa1fd80c7d9",
       "version_major": 2,
       "version_minor": 0
      },
      "text/plain": [
       "0it [00:00, ?it/s]"
      ]
     },
     "metadata": {},
     "output_type": "display_data"
    },
    {
     "name": "stderr",
     "output_type": "stream",
     "text": [
      "13:42 bilby INFO    : Checkpoint every check_point_delta_t = 600s\n",
      "13:42 bilby WARNING : Using cached result\n",
      "13:42 bilby INFO    : Summary of results:\n",
      "nsamples: 3270\n",
      "ln_noise_evidence:    nan\n",
      "ln_evidence: 951.335 +/-  0.327\n",
      "ln_bayes_factor:    nan +/-  0.327\n",
      "\n"
     ]
    },
    {
     "data": {
      "image/png": "[encoded data removed]",
      "text/plain": [
       "<Figure size 640x480 with 1 Axes>"
      ]
     },
     "metadata": {},
     "output_type": "display_data"
    }
   ],
   "source": [
    "# fit msaexp\n",
    "\n",
    "outdir_msaexp = '../../data/lya_saves/J1148/bilby_fit_lya_msaexp_pypeit_v2/'\n",
    "outdir_plot = '../../data/lya_saves/J1148/plotfit_msaexp_pypeit/'\n",
    "selectidx_msaexp = []\n",
    "\n",
    "spec1ddir = os.path.abspath(f'../../../ID3117/pypeit-reduc/data-release-2/reduced_spec_msaexp_pypeit/')\n",
    "\n",
    "for index in range(len(allinfo)):\n",
    "    \n",
    "    z = allinfo['z_O3doublet_combined_n'][index]\n",
    "    isource = '3117_%d'%(allinfo['NUMBER'][index])\n",
    "\n",
    "    # find the spec1d file\n",
    "    spec1dfile = os.path.join(spec1ddir,'spec1d_%s_stack.fits'%isource)\n",
    "    if not os.path.exists(spec1dfile):        \n",
    "        spec1dfile = os.path.join(spec1ddir,'manu1d_%s_stack.fits'%isource)\n",
    "    if not os.path.exists(spec1dfile):\n",
    "        continue\n",
    "        \n",
    "    label = isource\n",
    "    msaexp_spec = LAE.PypeItSpecStacked(filename=spec1dfile, zO3=z, outdir=outdir_msaexp, label=label)\n",
    "    \n",
    "    plot_info = dict(title=isource, bestfit=f'{outdir_plot}/bestfit/%s.pdf'%isource, \\\n",
    "                    corner=f'{outdir_plot}/corner/%s.pdf'%isource)\n",
    "\n",
    "    try:\n",
    "        msaexp_spec.fit_lya_profile_bilby()\n",
    "        msaexp_spec.plot_best_fit(plot_info, linename='lya')\n",
    "        msaexp_spec.plot_contour_fit(plot_info)\n",
    "        selectidx_msaexp.append(index)\n",
    "\n",
    "    except:\n",
    "        pass"
   ]
  },
  {
   "cell_type": "code",
   "execution_count": 23,
   "id": "fc7171e6-9d4d-4d0f-83f7-36374e664737",
   "metadata": {},
   "outputs": [
    {
     "name": "stdout",
     "output_type": "stream",
     "text": [
      "3117_2429\n",
      "3117_2637\n",
      "3117_3052\n",
      "3117_3391\n",
      "3117_3461\n",
      "3117_3607\n"
     ]
    },
    {
     "name": "stderr",
     "output_type": "stream",
     "text": [
      "/Users/myue/Research/Projects/JWST/dependencies/msa_spec_utils/LAE_spec_utils.py:464: RuntimeWarning: divide by zero encountered in power\n",
      "  self.err_fnu = (self.ivar_fnu)**-0.5\n",
      "/Users/myue/Research/Projects/JWST/dependencies/msa_spec_utils/LAE_spec_utils.py:470: RuntimeWarning: invalid value encountered in divide\n",
      "  self.flam = self.fnu * speed_of_light_angstrom / (self.wave)**2 * 1e-29 * 1e18\n",
      "/Users/myue/Research/Projects/JWST/dependencies/msa_spec_utils/LAE_spec_utils.py:471: RuntimeWarning: divide by zero encountered in divide\n",
      "  self.err_flam = self.err_fnu * (speed_of_light_angstrom / (self.wave)**2 * 1e-29 * 1e18)\n"
     ]
    },
    {
     "name": "stdout",
     "output_type": "stream",
     "text": [
      "3117_3608\n",
      "3117_3609\n",
      "3117_3781\n",
      "3117_3822\n",
      "3117_4246\n",
      "3117_4376\n",
      "3117_5123\n",
      "3117_6406\n",
      "3117_6584\n",
      "3117_7217\n",
      "3117_8234\n",
      "3117_8871\n",
      "3117_9192\n",
      "3117_9232\n",
      "3117_9314\n",
      "3117_9428\n",
      "3117_9799\n",
      "3117_10290\n",
      "3117_10586\n",
      "3117_10727\n",
      "3117_11709\n",
      "3117_11725\n",
      "3117_12115\n",
      "3117_12277\n",
      "3117_13418\n",
      "3117_14101\n",
      "3117_14236\n",
      "3117_14780\n",
      "3117_15411\n",
      "3117_16651\n",
      "3117_16736\n",
      "3117_16802\n",
      "3117_16972\n",
      "3117_17076\n",
      "3117_17242\n",
      "3117_17433\n",
      "3117_17783\n",
      "3117_18178\n",
      "3117_18852\n",
      "3117_18887\n",
      "3117_19229\n",
      "3117_19514\n",
      "3117_19692\n"
     ]
    },
    {
     "name": "stderr",
     "output_type": "stream",
     "text": [
      "/var/folders/26/2d71k7kx5850kmtprc1hb3dr0000gn/T/ipykernel_67313/2667745361.py:68: RuntimeWarning: divide by zero encountered in divide\n",
      "  fesc = msaexp_spec.EW_quantile / EW_from_Hb[0]\n"
     ]
    }
   ],
   "source": [
    "\n",
    "selectidx_msaexp = []\n",
    "zlyalist_msaexp = []\n",
    "fwhmlist_msaexp = []\n",
    "fluxlist_msaexp = []\n",
    "EWlist_msaexp = []\n",
    "Muvlist_msaexp = []\n",
    "EWfromHb_msaexp = []\n",
    "fesclist_msaexp = []\n",
    "\n",
    "\n",
    "hb_masked = np.ma.is_masked(allinfo['f_Hb'])\n",
    "\n",
    "\n",
    "for index in range(len(allinfo)):\n",
    "    \n",
    "    z = allinfo['z_O3doublet_combined_n'][index]\n",
    "        \n",
    "    isource = '3117_%d'%(allinfo['NUMBER'][index])\n",
    "    label = isource\n",
    "    \n",
    "    if not os.path.exists(outdir_msaexp+f'{isource}_result.json'):\n",
    "        continue\n",
    "    else:\n",
    "        print(isource)\n",
    "        \n",
    "    # find the spec1d file\n",
    "    spec1dfile = os.path.join(spec1ddir,'spec1d_%s_stack.fits'%isource)\n",
    "\n",
    "    if not os.path.exists(spec1dfile):\n",
    "        \n",
    "        spec1dfile = os.path.join(spec1ddir,'manu1d_%s_stack.fits'%isource)\n",
    "    \n",
    "    if not os.path.exists(spec1dfile):\n",
    "        continue\n",
    "        \n",
    "    msaexp_spec = LAE.PypeItSpecStacked(filename=spec1dfile, zO3=z, outdir=outdir_msaexp, label=label)\n",
    "    \n",
    "    # read info for fitting\n",
    "    mag_F115W = allinfo['MAG_AUTO_F115W_apcor'][index]\n",
    "    mag_F200W = allinfo['MAG_AUTO_F200W_apcor'][index]\n",
    "    emag_F115W = allinfo['enu_F115W_aper_model'][index]/\\\n",
    "                allinfo['fnu_F115W_AUTO_apcor'][index]*2.5/np.log(10)\n",
    "    emag_F200W = allinfo['enu_F200W_aper_model'][index]/\\\n",
    "                allinfo['fnu_F200W_AUTO_apcor'][index]*2.5/np.log(10)\n",
    "    fHb = allinfo['f_Hb'][index]\n",
    "    fHb_err = allinfo['f_Hb_err'][index]\n",
    "    \n",
    "    mags = [mag_F115W,mag_F200W]\n",
    "    magerrs = [emag_F115W,emag_F200W]\n",
    "    Muv = LAE.get_Muv_from_mag(mags, magerrs, z, cosmo)\n",
    "    \n",
    "    # only include objects with Hb\n",
    "    fHb = allinfo['f_Hb'][index]\n",
    "    fHb_err = allinfo['f_Hb_err'][index]\n",
    "        \n",
    "    EW_from_Hb = LAE.EW_Lya_from_NIRCam(fHb, fHb_err, mags, magerrs, z)\n",
    "\n",
    "    # gather necessary info\n",
    "    msaexp_spec.get_line_properties()\n",
    "    selectidx_msaexp.append(index)\n",
    "    zlyalist_msaexp.append(msaexp_spec.zlya_quantile)\n",
    "    fwhmlist_msaexp.append(msaexp_spec.fwhm_quantile)\n",
    "    fluxlist_msaexp.append(msaexp_spec.flam_quantile)\n",
    "    EWlist_msaexp.append(msaexp_spec.EW_quantile)\n",
    "    Muvlist_msaexp.append(Muv)\n",
    "    EWfromHb_msaexp.append(EW_from_Hb)\n",
    "        \n",
    "    fesc = msaexp_spec.EW_quantile / EW_from_Hb[0]\n",
    "    fesclist_msaexp.append(fesc)\n"
   ]
  },
  {
   "cell_type": "code",
   "execution_count": 24,
   "id": "d7d460b4-1391-4f74-b66b-71c7a27fbb32",
   "metadata": {},
   "outputs": [
    {
     "name": "stderr",
     "output_type": "stream",
     "text": [
      "/var/folders/26/2d71k7kx5850kmtprc1hb3dr0000gn/T/ipykernel_67313/2632279435.py:9: UserWarning: Warning: converting a masked element to nan.\n",
      "  selectedinfo_msaexp['EWfromHb'] = np.array(EWfromHb_msaexp)\n"
     ]
    }
   ],
   "source": [
    "# selected tbl\n",
    "selectedinfo_msaexp = allinfo[selectidx_msaexp][:]\n",
    "\n",
    "selectedinfo_msaexp['EWquantile'] = np.array(EWlist_msaexp)\n",
    "selectedinfo_msaexp['FWHMquantile'] = np.array(fwhmlist_msaexp)\n",
    "selectedinfo_msaexp['zlyaquantile'] = np.array(zlyalist_msaexp)\n",
    "selectedinfo_msaexp['fluxquantile'] = np.array(fluxlist_msaexp)\n",
    "selectedinfo_msaexp['Muv'] = np.array(Muvlist_msaexp)\n",
    "selectedinfo_msaexp['EWfromHb'] = np.array(EWfromHb_msaexp)\n",
    "selectedinfo_msaexp['fesc'] = np.array(fesclist_msaexp)\n",
    "\n",
    "\n",
    "selectedinfo_msaexp.write('../../data/lya_saves/lyainfo_J1148_msaexp_pypeit.fits', overwrite=True)\n"
   ]
  },
  {
   "cell_type": "code",
   "execution_count": 25,
   "id": "02481898-c852-4c6a-90f4-f93f3146427e",
   "metadata": {},
   "outputs": [
    {
     "name": "stdout",
     "output_type": "stream",
     "text": [
      "-rw-r--r--  1 myue  staff    51K May  6 13:42 ../../data/lya_saves/lyainfo_J1148_msaexp_pypeit.fits\n"
     ]
    }
   ],
   "source": [
    "ls -lh ../../data/lya_saves/lyainfo_J1148_msaexp_pypeit.fits\n"
   ]
  },
  {
   "cell_type": "code",
   "execution_count": null,
   "id": "7b6fac6c-c625-4b6a-bdbb-44b5c5ffb62f",
   "metadata": {},
   "outputs": [],
   "source": []
  }
 ],
 "metadata": {
  "kernelspec": {
   "display_name": "Python 3 (ipykernel)",
   "language": "python",
   "name": "python3"
  },
  "language_info": {
   "codemirror_mode": {
    "name": "ipython",
    "version": 3
   },
   "file_extension": ".py",
   "mimetype": "text/x-python",
   "name": "python",
   "nbconvert_exporter": "python",
   "pygments_lexer": "ipython3",
   "version": "3.12.9"
  }
 },
 "nbformat": 4,
 "nbformat_minor": 5
}
