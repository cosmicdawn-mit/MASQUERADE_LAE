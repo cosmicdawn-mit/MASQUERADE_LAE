{
 "cells": [
  {
   "cell_type": "code",
   "execution_count": 46,
   "id": "040a3b5d-36c3-4dc2-a025-f65fbce334f9",
   "metadata": {},
   "outputs": [
    {
     "data": {
      "text/plain": [
       "<module 'LAE_spec_utils' from '/Users/myue/Research/Projects/JWST/dependencies/msa_spec_utils/LAE_spec_utils.py'>"
      ]
     },
     "execution_count": 46,
     "metadata": {},
     "output_type": "execute_result"
    }
   ],
   "source": [
    "import os, sys\n",
    "sys.path.append('/Users/myue/Research/Projects/JWST/dependencies/msa_spec_utils/')\n",
    "\n",
    "import LAE_spec_utils as LAE\n",
    "\n",
    "import numpy as np\n",
    "from astropy.io import fits\n",
    "\n",
    "import matplotlib.pyplot as plt\n",
    "from astropy.table import Table, vstack, hstack\n",
    "from astropy import units\n",
    "\n",
    "import bilby\n",
    "from dynesty import utils as dyfunc\n",
    "\n",
    "import importlib\n",
    "importlib.reload(LAE)"
   ]
  },
  {
   "cell_type": "code",
   "execution_count": 47,
   "id": "2b118da9-98fc-4d2e-91fa-de960d5e3a7b",
   "metadata": {},
   "outputs": [],
   "source": [
    "LAEinfo = Table.read('./lyainfo_J0100_pypeit.fits')"
   ]
  },
  {
   "cell_type": "code",
   "execution_count": 5,
   "id": "bb706f31-2d98-4f4a-a7ca-9dad69ca6dd4",
   "metadata": {},
   "outputs": [],
   "source": [
    "!mkdir -p ./plotfit_pypeit/corner_civ\n",
    "!mkdir -p ./plotfit_pypeit/bestfit_civ\n",
    "\n",
    "!mkdir -p ./plotfit_msexp/corner_civ\n",
    "!mkdir -p ./plotfit_msaexp/bestfit_civ"
   ]
  },
  {
   "cell_type": "code",
   "execution_count": 45,
   "id": "7bc29d3c-139f-460a-a47a-f4b3de8c81d0",
   "metadata": {},
   "outputs": [
    {
     "name": "stderr",
     "output_type": "stream",
     "text": [
      "/Users/myue/Research/Projects/JWST/dependencies/msa_spec_utils/LAE_spec_utils.py:426: RuntimeWarning: divide by zero encountered in power\n",
      "  self.err_fnu = (self.ivar_fnu)**-0.5\n",
      "/Users/myue/Research/Projects/JWST/dependencies/msa_spec_utils/LAE_spec_utils.py:432: RuntimeWarning: invalid value encountered in divide\n",
      "  self.flam = self.fnu * speed_of_light_angstrom / (self.wave)**2 * 1e-29 * 1e18\n",
      "/Users/myue/Research/Projects/JWST/dependencies/msa_spec_utils/LAE_spec_utils.py:433: RuntimeWarning: divide by zero encountered in divide\n",
      "  self.err_flam = self.err_fnu * (speed_of_light_angstrom / (self.wave)**2 * 1e-29 * 1e18)\n",
      "14:54 bilby INFO    : Running for label '4713_30', output will be saved to './bilby_fit_civ_pypeit_v1/'\n",
      "14:54 bilby INFO    : Search parameters:\n",
      "14:54 bilby INFO    :   center = Uniform(minimum=10734.074267730564, maximum=10777.096609484994, name='center', latex_label='center', unit=None, boundary=None)\n",
      "14:54 bilby INFO    :   fwhm = Uniform(minimum=300, maximum=1000, name='fwhm', latex_label='fwhm', unit=None, boundary=None)\n",
      "14:54 bilby INFO    :   flux = Uniform(minimum=-15.074299130500709, maximum=15.074299130500709, name='flux', latex_label='flux', unit=None, boundary=None)\n",
      "14:54 bilby INFO    :   A = Uniform(minimum=-0.07900513185289527, maximum=0.15801026370579055, name='A', latex_label='A', unit=None, boundary=None)\n",
      "14:54 bilby INFO    :   beta = Uniform(minimum=-4, maximum=2, name='beta', latex_label='beta', unit=None, boundary=None)\n",
      "14:54 bilby INFO    :   wave0 = 10755.585438607779\n",
      "14:54 bilby INFO    : Single likelihood evaluation took 7.835e-05 s\n"
     ]
    },
    {
     "data": {
      "application/vnd.jupyter.widget-view+json": {
       "model_id": "14584ef8088c41b792240561a599aeb6",
       "version_major": 2,
       "version_minor": 0
      },
      "text/plain": [
       "0it [00:00, ?it/s]"
      ]
     },
     "metadata": {},
     "output_type": "display_data"
    },
    {
     "name": "stderr",
     "output_type": "stream",
     "text": [
      "14:54 bilby INFO    : Checkpoint every check_point_delta_t = 600s\n",
      "14:54 bilby WARNING : Using cached result\n",
      "14:54 bilby INFO    : Summary of results:\n",
      "nsamples: 2833\n",
      "ln_noise_evidence:    nan\n",
      "ln_evidence: 270.866 +/-  0.299\n",
      "ln_bayes_factor:    nan +/-  0.299\n",
      "\n",
      "/Users/myue/Research/Projects/JWST/dependencies/msa_spec_utils/LAE_spec_utils.py:426: RuntimeWarning: divide by zero encountered in power\n",
      "  self.err_fnu = (self.ivar_fnu)**-0.5\n",
      "/Users/myue/Research/Projects/JWST/dependencies/msa_spec_utils/LAE_spec_utils.py:432: RuntimeWarning: invalid value encountered in divide\n",
      "  self.flam = self.fnu * speed_of_light_angstrom / (self.wave)**2 * 1e-29 * 1e18\n",
      "/Users/myue/Research/Projects/JWST/dependencies/msa_spec_utils/LAE_spec_utils.py:433: RuntimeWarning: divide by zero encountered in divide\n",
      "  self.err_flam = self.err_fnu * (speed_of_light_angstrom / (self.wave)**2 * 1e-29 * 1e18)\n",
      "14:54 bilby INFO    : Running for label '4713_1228', output will be saved to './bilby_fit_civ_pypeit_v1/'\n",
      "14:54 bilby INFO    : Search parameters:\n",
      "14:54 bilby INFO    :   center = Uniform(minimum=11335.796561087665, maximum=11381.230615440722, name='center', latex_label='center', unit=None, boundary=None)\n",
      "14:54 bilby INFO    :   fwhm = Uniform(minimum=300, maximum=1000, name='fwhm', latex_label='fwhm', unit=None, boundary=None)\n",
      "14:54 bilby INFO    :   flux = Uniform(minimum=-15.76723841335765, maximum=15.76723841335765, name='flux', latex_label='flux', unit=None, boundary=None)\n",
      "14:54 bilby INFO    :   A = Uniform(minimum=-0.07825036289406583, maximum=0.15650072578813165, name='A', latex_label='A', unit=None, boundary=None)\n",
      "14:54 bilby INFO    :   beta = Uniform(minimum=-4, maximum=2, name='beta', latex_label='beta', unit=None, boundary=None)\n",
      "14:54 bilby INFO    :   wave0 = 11358.513588264193\n",
      "14:54 bilby INFO    : Single likelihood evaluation took 3.966e-05 s\n"
     ]
    },
    {
     "data": {
      "application/vnd.jupyter.widget-view+json": {
       "model_id": "72a7b9cfb8fe47e3a0418abd5687846f",
       "version_major": 2,
       "version_minor": 0
      },
      "text/plain": [
       "0it [00:00, ?it/s]"
      ]
     },
     "metadata": {},
     "output_type": "display_data"
    },
    {
     "name": "stderr",
     "output_type": "stream",
     "text": [
      "14:54 bilby INFO    : Checkpoint every check_point_delta_t = 600s\n",
      "14:54 bilby WARNING : Using cached result\n",
      "14:54 bilby INFO    : Summary of results:\n",
      "nsamples: 2627\n",
      "ln_noise_evidence:    nan\n",
      "ln_evidence: 292.532 +/-  0.281\n",
      "ln_bayes_factor:    nan +/-  0.281\n",
      "\n",
      "/Users/myue/Research/Projects/JWST/dependencies/msa_spec_utils/LAE_spec_utils.py:426: RuntimeWarning: divide by zero encountered in power\n",
      "  self.err_fnu = (self.ivar_fnu)**-0.5\n",
      "/Users/myue/Research/Projects/JWST/dependencies/msa_spec_utils/LAE_spec_utils.py:432: RuntimeWarning: invalid value encountered in divide\n",
      "  self.flam = self.fnu * speed_of_light_angstrom / (self.wave)**2 * 1e-29 * 1e18\n",
      "/Users/myue/Research/Projects/JWST/dependencies/msa_spec_utils/LAE_spec_utils.py:433: RuntimeWarning: divide by zero encountered in divide\n",
      "  self.err_flam = self.err_fnu * (speed_of_light_angstrom / (self.wave)**2 * 1e-29 * 1e18)\n",
      "14:54 bilby INFO    : Running for label '4713_2007', output will be saved to './bilby_fit_civ_pypeit_v1/'\n",
      "14:54 bilby INFO    : Search parameters:\n",
      "14:54 bilby INFO    :   center = Uniform(minimum=12011.103312398072, maximum=12059.244007036943, name='center', latex_label='center', unit=None, boundary=None)\n",
      "14:54 bilby INFO    :   fwhm = Uniform(minimum=300, maximum=1000, name='fwhm', latex_label='fwhm', unit=None, boundary=None)\n",
      "14:54 bilby INFO    :   flux = Uniform(minimum=-9.046609012568211, maximum=9.046609012568211, name='flux', latex_label='flux', unit=None, boundary=None)\n",
      "14:54 bilby INFO    :   A = Uniform(minimum=-0.042372656000589246, maximum=0.08474531200117849, name='A', latex_label='A', unit=None, boundary=None)\n",
      "14:54 bilby INFO    :   beta = Uniform(minimum=-4, maximum=2, name='beta', latex_label='beta', unit=None, boundary=None)\n",
      "14:54 bilby INFO    :   wave0 = 12035.173659717508\n",
      "14:54 bilby INFO    : Single likelihood evaluation took 4.231e-05 s\n"
     ]
    },
    {
     "data": {
      "application/vnd.jupyter.widget-view+json": {
       "model_id": "363f3f1eaada4cc3bb1092b5b9aa26eb",
       "version_major": 2,
       "version_minor": 0
      },
      "text/plain": [
       "0it [00:00, ?it/s]"
      ]
     },
     "metadata": {},
     "output_type": "display_data"
    },
    {
     "name": "stderr",
     "output_type": "stream",
     "text": [
      "14:54 bilby INFO    : Checkpoint every check_point_delta_t = 600s\n",
      "14:54 bilby WARNING : Using cached result\n",
      "14:54 bilby INFO    : Summary of results:\n",
      "nsamples: 2506\n",
      "ln_noise_evidence:    nan\n",
      "ln_evidence: 341.881 +/-  0.266\n",
      "ln_bayes_factor:    nan +/-  0.266\n",
      "\n",
      "/Users/myue/Research/Projects/JWST/dependencies/msa_spec_utils/LAE_spec_utils.py:426: RuntimeWarning: divide by zero encountered in power\n",
      "  self.err_fnu = (self.ivar_fnu)**-0.5\n",
      "/Users/myue/Research/Projects/JWST/dependencies/msa_spec_utils/LAE_spec_utils.py:432: RuntimeWarning: invalid value encountered in divide\n",
      "  self.flam = self.fnu * speed_of_light_angstrom / (self.wave)**2 * 1e-29 * 1e18\n",
      "/Users/myue/Research/Projects/JWST/dependencies/msa_spec_utils/LAE_spec_utils.py:433: RuntimeWarning: divide by zero encountered in divide\n",
      "  self.err_flam = self.err_fnu * (speed_of_light_angstrom / (self.wave)**2 * 1e-29 * 1e18)\n",
      "14:54 bilby INFO    : Running for label '4713_2084', output will be saved to './bilby_fit_civ_pypeit_v1/'\n",
      "14:54 bilby INFO    : Search parameters:\n",
      "14:54 bilby INFO    :   center = Uniform(minimum=12008.041788874192, maximum=12056.170212877694, name='center', latex_label='center', unit=None, boundary=None)\n",
      "14:54 bilby INFO    :   fwhm = Uniform(minimum=300, maximum=1000, name='fwhm', latex_label='fwhm', unit=None, boundary=None)\n",
      "14:54 bilby INFO    :   flux = Uniform(minimum=-7.305800895184066, maximum=7.305800895184066, name='flux', latex_label='flux', unit=None, boundary=None)\n",
      "14:54 bilby INFO    :   A = Uniform(minimum=-0.03422775467568067, maximum=0.06845550935136134, name='A', latex_label='A', unit=None, boundary=None)\n",
      "14:54 bilby INFO    :   beta = Uniform(minimum=-4, maximum=2, name='beta', latex_label='beta', unit=None, boundary=None)\n",
      "14:54 bilby INFO    :   wave0 = 12032.106000875943\n",
      "14:54 bilby INFO    : Single likelihood evaluation took 3.846e-05 s\n"
     ]
    },
    {
     "data": {
      "application/vnd.jupyter.widget-view+json": {
       "model_id": "c55cb2b572474c498a248805016b913e",
       "version_major": 2,
       "version_minor": 0
      },
      "text/plain": [
       "0it [00:00, ?it/s]"
      ]
     },
     "metadata": {},
     "output_type": "display_data"
    },
    {
     "name": "stderr",
     "output_type": "stream",
     "text": [
      "14:54 bilby INFO    : Checkpoint every check_point_delta_t = 600s\n",
      "14:54 bilby WARNING : Using cached result\n",
      "14:54 bilby INFO    : Summary of results:\n",
      "nsamples: 3035\n",
      "ln_noise_evidence:    nan\n",
      "ln_evidence: 376.698 +/-  0.305\n",
      "ln_bayes_factor:    nan +/-  0.305\n",
      "\n",
      "/Users/myue/Research/Projects/JWST/dependencies/msa_spec_utils/LAE_spec_utils.py:426: RuntimeWarning: divide by zero encountered in power\n",
      "  self.err_fnu = (self.ivar_fnu)**-0.5\n",
      "/Users/myue/Research/Projects/JWST/dependencies/msa_spec_utils/LAE_spec_utils.py:432: RuntimeWarning: invalid value encountered in divide\n",
      "  self.flam = self.fnu * speed_of_light_angstrom / (self.wave)**2 * 1e-29 * 1e18\n",
      "/Users/myue/Research/Projects/JWST/dependencies/msa_spec_utils/LAE_spec_utils.py:433: RuntimeWarning: divide by zero encountered in divide\n",
      "  self.err_flam = self.err_fnu * (speed_of_light_angstrom / (self.wave)**2 * 1e-29 * 1e18)\n",
      "14:54 bilby INFO    : Running for label '4713_2159', output will be saved to './bilby_fit_civ_pypeit_v1/'\n",
      "14:54 bilby INFO    : Search parameters:\n",
      "14:54 bilby INFO    :   center = Uniform(minimum=10833.576460870463, maximum=10876.997609010225, name='center', latex_label='center', unit=None, boundary=None)\n",
      "14:54 bilby INFO    :   fwhm = Uniform(minimum=300, maximum=1000, name='fwhm', latex_label='fwhm', unit=None, boundary=None)\n",
      "14:54 bilby INFO    :   flux = Uniform(minimum=-20.089090443149882, maximum=20.089090443149882, name='flux', latex_label='flux', unit=None, boundary=None)\n",
      "14:54 bilby INFO    :   A = Uniform(minimum=-0.10432086756754254, maximum=0.20864173513508508, name='A', latex_label='A', unit=None, boundary=None)\n",
      "14:54 bilby INFO    :   beta = Uniform(minimum=-4, maximum=2, name='beta', latex_label='beta', unit=None, boundary=None)\n",
      "14:54 bilby INFO    :   wave0 = 10855.287034940344\n",
      "14:54 bilby INFO    : Single likelihood evaluation took 4.587e-05 s\n"
     ]
    },
    {
     "data": {
      "application/vnd.jupyter.widget-view+json": {
       "model_id": "2273b16fd7a54de19a218b643f95177b",
       "version_major": 2,
       "version_minor": 0
      },
      "text/plain": [
       "0it [00:00, ?it/s]"
      ]
     },
     "metadata": {},
     "output_type": "display_data"
    },
    {
     "name": "stderr",
     "output_type": "stream",
     "text": [
      "14:54 bilby INFO    : Checkpoint every check_point_delta_t = 600s\n",
      "14:54 bilby WARNING : Using cached result\n",
      "14:54 bilby INFO    : Summary of results:\n",
      "nsamples: 1443\n",
      "ln_noise_evidence:    nan\n",
      "ln_evidence: 83.756 +/-  0.168\n",
      "ln_bayes_factor:    nan +/-  0.168\n",
      "\n",
      "/Users/myue/Research/Projects/JWST/dependencies/msa_spec_utils/LAE_spec_utils.py:426: RuntimeWarning: divide by zero encountered in power\n",
      "  self.err_fnu = (self.ivar_fnu)**-0.5\n",
      "/Users/myue/Research/Projects/JWST/dependencies/msa_spec_utils/LAE_spec_utils.py:432: RuntimeWarning: invalid value encountered in divide\n",
      "  self.flam = self.fnu * speed_of_light_angstrom / (self.wave)**2 * 1e-29 * 1e18\n",
      "/Users/myue/Research/Projects/JWST/dependencies/msa_spec_utils/LAE_spec_utils.py:433: RuntimeWarning: divide by zero encountered in divide\n",
      "  self.err_flam = self.err_fnu * (speed_of_light_angstrom / (self.wave)**2 * 1e-29 * 1e18)\n",
      "14:54 bilby INFO    : Running for label '4713_2355', output will be saved to './bilby_fit_civ_pypeit_v1/'\n",
      "14:54 bilby INFO    : Search parameters:\n",
      "14:54 bilby INFO    :   center = Uniform(minimum=11103.356134929933, maximum=11147.858564328448, name='center', latex_label='center', unit=None, boundary=None)\n",
      "14:54 bilby INFO    :   fwhm = Uniform(minimum=300, maximum=1000, name='fwhm', latex_label='fwhm', unit=None, boundary=None)\n",
      "14:54 bilby INFO    :   flux = Uniform(minimum=-14.31286114147176, maximum=14.31286114147176, name='flux', latex_label='flux', unit=None, boundary=None)\n",
      "14:54 bilby INFO    :   A = Uniform(minimum=-0.0725195260398332, maximum=0.1450390520796664, name='A', latex_label='A', unit=None, boundary=None)\n",
      "14:54 bilby INFO    :   beta = Uniform(minimum=-4, maximum=2, name='beta', latex_label='beta', unit=None, boundary=None)\n",
      "14:54 bilby INFO    :   wave0 = 11125.60734962919\n",
      "14:54 bilby INFO    : Single likelihood evaluation took 4.216e-05 s\n"
     ]
    },
    {
     "data": {
      "application/vnd.jupyter.widget-view+json": {
       "model_id": "bc41b7ddbd844fefa238c300385a15c6",
       "version_major": 2,
       "version_minor": 0
      },
      "text/plain": [
       "0it [00:00, ?it/s]"
      ]
     },
     "metadata": {},
     "output_type": "display_data"
    },
    {
     "name": "stderr",
     "output_type": "stream",
     "text": [
      "14:54 bilby INFO    : Checkpoint every check_point_delta_t = 600s\n",
      "14:54 bilby WARNING : Using cached result\n",
      "14:54 bilby INFO    : Summary of results:\n",
      "nsamples: 2867\n",
      "ln_noise_evidence:    nan\n",
      "ln_evidence: 266.559 +/-  0.291\n",
      "ln_bayes_factor:    nan +/-  0.291\n",
      "\n",
      "14:54 bilby INFO    : Running for label '4713_3783', output will be saved to './bilby_fit_civ_pypeit_v1/'\n",
      "14:54 bilby INFO    : Search parameters:\n",
      "14:54 bilby INFO    :   center = Uniform(minimum=11103.656796882598, maximum=11148.160431339042, name='center', latex_label='center', unit=None, boundary=None)\n",
      "14:54 bilby INFO    :   fwhm = Uniform(minimum=300, maximum=1000, name='fwhm', latex_label='fwhm', unit=None, boundary=None)\n",
      "14:54 bilby INFO    :   flux = Uniform(minimum=-12.031706343869219, maximum=12.031706343869219, name='flux', latex_label='flux', unit=None, boundary=None)\n",
      "14:54 bilby INFO    :   A = Uniform(minimum=-0.06095986027133399, maximum=0.12191972054266798, name='A', latex_label='A', unit=None, boundary=None)\n",
      "14:54 bilby INFO    :   beta = Uniform(minimum=-4, maximum=2, name='beta', latex_label='beta', unit=None, boundary=None)\n",
      "14:54 bilby INFO    :   wave0 = 11125.90861411082\n",
      "14:54 bilby INFO    : Single likelihood evaluation took 4.179e-05 s\n"
     ]
    },
    {
     "data": {
      "application/vnd.jupyter.widget-view+json": {
       "model_id": "d999b9210257453fabd2cf6ffdb5bd21",
       "version_major": 2,
       "version_minor": 0
      },
      "text/plain": [
       "0it [00:00, ?it/s]"
      ]
     },
     "metadata": {},
     "output_type": "display_data"
    },
    {
     "name": "stderr",
     "output_type": "stream",
     "text": [
      "14:54 bilby INFO    : Checkpoint every check_point_delta_t = 600s\n",
      "14:54 bilby WARNING : Using cached result\n",
      "14:54 bilby INFO    : Summary of results:\n",
      "nsamples: 2329\n",
      "ln_noise_evidence:    nan\n",
      "ln_evidence: 284.224 +/-  0.259\n",
      "ln_bayes_factor:    nan +/-  0.259\n",
      "\n",
      "/Users/myue/Research/Projects/JWST/dependencies/msa_spec_utils/LAE_spec_utils.py:426: RuntimeWarning: divide by zero encountered in power\n",
      "  self.err_fnu = (self.ivar_fnu)**-0.5\n",
      "/Users/myue/Research/Projects/JWST/dependencies/msa_spec_utils/LAE_spec_utils.py:432: RuntimeWarning: invalid value encountered in divide\n",
      "  self.flam = self.fnu * speed_of_light_angstrom / (self.wave)**2 * 1e-29 * 1e18\n",
      "/Users/myue/Research/Projects/JWST/dependencies/msa_spec_utils/LAE_spec_utils.py:433: RuntimeWarning: divide by zero encountered in divide\n",
      "  self.err_flam = self.err_fnu * (speed_of_light_angstrom / (self.wave)**2 * 1e-29 * 1e18)\n",
      "14:54 bilby INFO    : Running for label '4713_4184', output will be saved to './bilby_fit_civ_pypeit_v1/'\n",
      "14:54 bilby INFO    : Search parameters:\n",
      "14:54 bilby INFO    :   center = Uniform(minimum=11109.84370472653, maximum=11154.3721364088, name='center', latex_label='center', unit=None, boundary=None)\n",
      "14:54 bilby INFO    :   fwhm = Uniform(minimum=300, maximum=1000, name='fwhm', latex_label='fwhm', unit=None, boundary=None)\n",
      "14:54 bilby INFO    :   flux = Uniform(minimum=-8.86777236235745, maximum=8.86777236235745, name='flux', latex_label='flux', unit=None, boundary=None)\n",
      "14:54 bilby INFO    :   A = Uniform(minimum=-0.04490444735699978, maximum=0.08980889471399955, name='A', latex_label='A', unit=None, boundary=None)\n",
      "14:54 bilby INFO    :   beta = Uniform(minimum=-4, maximum=2, name='beta', latex_label='beta', unit=None, boundary=None)\n",
      "14:54 bilby INFO    :   wave0 = 11132.107920567665\n",
      "14:54 bilby INFO    : Single likelihood evaluation took 4.030e-05 s\n"
     ]
    },
    {
     "name": "stdout",
     "output_type": "stream",
     "text": [
      "4713_4080\n"
     ]
    },
    {
     "data": {
      "application/vnd.jupyter.widget-view+json": {
       "model_id": "7f73088e4b7b403894935206518989a0",
       "version_major": 2,
       "version_minor": 0
      },
      "text/plain": [
       "0it [00:00, ?it/s]"
      ]
     },
     "metadata": {},
     "output_type": "display_data"
    },
    {
     "name": "stderr",
     "output_type": "stream",
     "text": [
      "14:54 bilby INFO    : Checkpoint every check_point_delta_t = 600s\n",
      "14:54 bilby WARNING : Using cached result\n",
      "14:54 bilby INFO    : Summary of results:\n",
      "nsamples: 2417\n",
      "ln_noise_evidence:    nan\n",
      "ln_evidence: 310.217 +/-  0.264\n",
      "ln_bayes_factor:    nan +/-  0.264\n",
      "\n",
      "/Users/myue/Research/Projects/JWST/dependencies/msa_spec_utils/LAE_spec_utils.py:426: RuntimeWarning: divide by zero encountered in power\n",
      "  self.err_fnu = (self.ivar_fnu)**-0.5\n",
      "/Users/myue/Research/Projects/JWST/dependencies/msa_spec_utils/LAE_spec_utils.py:432: RuntimeWarning: invalid value encountered in divide\n",
      "  self.flam = self.fnu * speed_of_light_angstrom / (self.wave)**2 * 1e-29 * 1e18\n",
      "/Users/myue/Research/Projects/JWST/dependencies/msa_spec_utils/LAE_spec_utils.py:433: RuntimeWarning: divide by zero encountered in divide\n",
      "  self.err_flam = self.err_fnu * (speed_of_light_angstrom / (self.wave)**2 * 1e-29 * 1e18)\n",
      "14:54 bilby INFO    : Running for label '4713_4222', output will be saved to './bilby_fit_civ_pypeit_v1/'\n",
      "14:54 bilby INFO    : Search parameters:\n",
      "14:54 bilby INFO    :   center = Uniform(minimum=11331.508698517113, maximum=11376.925567048243, name='center', latex_label='center', unit=None, boundary=None)\n",
      "14:54 bilby INFO    :   fwhm = Uniform(minimum=300, maximum=1000, name='fwhm', latex_label='fwhm', unit=None, boundary=None)\n",
      "14:54 bilby INFO    :   flux = Uniform(minimum=-11.480475514726178, maximum=11.480475514726178, name='flux', latex_label='flux', unit=None, boundary=None)\n",
      "14:54 bilby INFO    :   A = Uniform(minimum=-0.05699738212767365, maximum=0.1139947642553473, name='A', latex_label='A', unit=None, boundary=None)\n",
      "14:54 bilby INFO    :   beta = Uniform(minimum=-4, maximum=2, name='beta', latex_label='beta', unit=None, boundary=None)\n",
      "14:54 bilby INFO    :   wave0 = 11354.217132782678\n",
      "14:54 bilby INFO    : Single likelihood evaluation took 4.853e-05 s\n"
     ]
    },
    {
     "data": {
      "application/vnd.jupyter.widget-view+json": {
       "model_id": "33dd8e0f4855491bad6a5dead874e43b",
       "version_major": 2,
       "version_minor": 0
      },
      "text/plain": [
       "0it [00:00, ?it/s]"
      ]
     },
     "metadata": {},
     "output_type": "display_data"
    },
    {
     "name": "stderr",
     "output_type": "stream",
     "text": [
      "14:54 bilby INFO    : Checkpoint every check_point_delta_t = 600s\n",
      "14:54 bilby WARNING : Using cached result\n",
      "14:54 bilby INFO    : Summary of results:\n",
      "nsamples: 2437\n",
      "ln_noise_evidence:    nan\n",
      "ln_evidence: 223.403 +/-  0.267\n",
      "ln_bayes_factor:    nan +/-  0.267\n",
      "\n",
      "/Users/myue/Research/Projects/JWST/dependencies/msa_spec_utils/LAE_spec_utils.py:426: RuntimeWarning: divide by zero encountered in power\n",
      "  self.err_fnu = (self.ivar_fnu)**-0.5\n",
      "/Users/myue/Research/Projects/JWST/dependencies/msa_spec_utils/LAE_spec_utils.py:432: RuntimeWarning: invalid value encountered in divide\n",
      "  self.flam = self.fnu * speed_of_light_angstrom / (self.wave)**2 * 1e-29 * 1e18\n",
      "/Users/myue/Research/Projects/JWST/dependencies/msa_spec_utils/LAE_spec_utils.py:433: RuntimeWarning: divide by zero encountered in divide\n",
      "  self.err_flam = self.err_fnu * (speed_of_light_angstrom / (self.wave)**2 * 1e-29 * 1e18)\n",
      "14:54 bilby INFO    : Running for label '4713_5378', output will be saved to './bilby_fit_civ_pypeit_v1/'\n",
      "14:54 bilby INFO    : Search parameters:\n",
      "14:54 bilby INFO    :   center = Uniform(minimum=10153.718033123501, maximum=10194.41429778532, name='center', latex_label='center', unit=None, boundary=None)\n",
      "14:54 bilby INFO    :   fwhm = Uniform(minimum=300, maximum=1000, name='fwhm', latex_label='fwhm', unit=None, boundary=None)\n",
      "14:54 bilby INFO    :   flux = Uniform(minimum=-6.289735207877083, maximum=6.289735207877083, name='flux', latex_label='flux', unit=None, boundary=None)\n",
      "14:54 bilby INFO    :   A = Uniform(minimum=-0.03698523690408525, maximum=0.0739704738081705, name='A', latex_label='A', unit=None, boundary=None)\n",
      "14:54 bilby INFO    :   beta = Uniform(minimum=-4, maximum=2, name='beta', latex_label='beta', unit=None, boundary=None)\n",
      "14:54 bilby INFO    :   wave0 = 10174.066165454411\n",
      "14:54 bilby INFO    : Single likelihood evaluation took 3.343e-05 s\n"
     ]
    },
    {
     "data": {
      "application/vnd.jupyter.widget-view+json": {
       "model_id": "2cf97a94eda64faaa27feae0a56610df",
       "version_major": 2,
       "version_minor": 0
      },
      "text/plain": [
       "0it [00:00, ?it/s]"
      ]
     },
     "metadata": {},
     "output_type": "display_data"
    },
    {
     "name": "stderr",
     "output_type": "stream",
     "text": [
      "14:54 bilby INFO    : Checkpoint every check_point_delta_t = 600s\n",
      "14:54 bilby WARNING : Using cached result\n",
      "14:54 bilby INFO    : Summary of results:\n",
      "nsamples: 2538\n",
      "ln_noise_evidence:    nan\n",
      "ln_evidence: 277.697 +/-  0.263\n",
      "ln_bayes_factor:    nan +/-  0.263\n",
      "\n",
      "/Users/myue/Research/Projects/JWST/dependencies/msa_spec_utils/LAE_spec_utils.py:426: RuntimeWarning: divide by zero encountered in power\n",
      "  self.err_fnu = (self.ivar_fnu)**-0.5\n",
      "/Users/myue/Research/Projects/JWST/dependencies/msa_spec_utils/LAE_spec_utils.py:432: RuntimeWarning: invalid value encountered in divide\n",
      "  self.flam = self.fnu * speed_of_light_angstrom / (self.wave)**2 * 1e-29 * 1e18\n",
      "/Users/myue/Research/Projects/JWST/dependencies/msa_spec_utils/LAE_spec_utils.py:433: RuntimeWarning: divide by zero encountered in divide\n",
      "  self.err_flam = self.err_fnu * (speed_of_light_angstrom / (self.wave)**2 * 1e-29 * 1e18)\n",
      "14:54 bilby INFO    : Running for label '4713_5581', output will be saved to './bilby_fit_civ_pypeit_v1/'\n",
      "14:54 bilby INFO    : Search parameters:\n",
      "14:54 bilby INFO    :   center = Uniform(minimum=10063.088579751504, maximum=10103.421600111229, name='center', latex_label='center', unit=None, boundary=None)\n",
      "14:54 bilby INFO    :   fwhm = Uniform(minimum=300, maximum=1000, name='fwhm', latex_label='fwhm', unit=None, boundary=None)\n",
      "14:54 bilby INFO    :   flux = Uniform(minimum=-8.063667216261829, maximum=8.063667216261829, name='flux', latex_label='flux', unit=None, boundary=None)\n",
      "14:54 bilby INFO    :   A = Uniform(minimum=-0.045461392651073136, maximum=0.09092278530214627, name='A', latex_label='A', unit=None, boundary=None)\n",
      "14:54 bilby INFO    :   beta = Uniform(minimum=-4, maximum=2, name='beta', latex_label='beta', unit=None, boundary=None)\n",
      "14:54 bilby INFO    :   wave0 = 10083.255089931366\n",
      "14:54 bilby INFO    : Single likelihood evaluation took 3.356e-05 s\n"
     ]
    },
    {
     "data": {
      "application/vnd.jupyter.widget-view+json": {
       "model_id": "6636fa33936d4b608c022459d53c7afe",
       "version_major": 2,
       "version_minor": 0
      },
      "text/plain": [
       "0it [00:00, ?it/s]"
      ]
     },
     "metadata": {},
     "output_type": "display_data"
    },
    {
     "name": "stderr",
     "output_type": "stream",
     "text": [
      "14:54 bilby INFO    : Checkpoint every check_point_delta_t = 600s\n",
      "14:54 bilby WARNING : Using cached result\n",
      "14:54 bilby INFO    : Summary of results:\n",
      "nsamples: 2417\n",
      "ln_noise_evidence:    nan\n",
      "ln_evidence: 252.821 +/-  0.258\n",
      "ln_bayes_factor:    nan +/-  0.258\n",
      "\n",
      "/Users/myue/Research/Projects/JWST/dependencies/msa_spec_utils/LAE_spec_utils.py:426: RuntimeWarning: divide by zero encountered in power\n",
      "  self.err_fnu = (self.ivar_fnu)**-0.5\n",
      "/Users/myue/Research/Projects/JWST/dependencies/msa_spec_utils/LAE_spec_utils.py:432: RuntimeWarning: invalid value encountered in divide\n",
      "  self.flam = self.fnu * speed_of_light_angstrom / (self.wave)**2 * 1e-29 * 1e18\n",
      "/Users/myue/Research/Projects/JWST/dependencies/msa_spec_utils/LAE_spec_utils.py:433: RuntimeWarning: divide by zero encountered in divide\n",
      "  self.err_flam = self.err_fnu * (speed_of_light_angstrom / (self.wave)**2 * 1e-29 * 1e18)\n",
      "14:54 bilby INFO    : Running for label '4713_5595', output will be saved to './bilby_fit_civ_pypeit_v1/'\n",
      "14:54 bilby INFO    : Search parameters:\n",
      "14:54 bilby INFO    :   center = Uniform(minimum=10805.382079003715, maximum=10848.690223608939, name='center', latex_label='center', unit=None, boundary=None)\n",
      "14:54 bilby INFO    :   fwhm = Uniform(minimum=300, maximum=1000, name='fwhm', latex_label='fwhm', unit=None, boundary=None)\n",
      "14:54 bilby INFO    :   flux = Uniform(minimum=-5.7547770988474, maximum=5.7547770988474, name='flux', latex_label='flux', unit=None, boundary=None)\n",
      "14:54 bilby INFO    :   A = Uniform(minimum=-0.04381718051344733, maximum=0.08763436102689466, name='A', latex_label='A', unit=None, boundary=None)\n",
      "14:54 bilby INFO    :   beta = Uniform(minimum=-4, maximum=2, name='beta', latex_label='beta', unit=None, boundary=None)\n",
      "14:54 bilby INFO    :   wave0 = 10827.036151306327\n",
      "14:54 bilby INFO    : Single likelihood evaluation took 3.378e-05 s\n"
     ]
    },
    {
     "data": {
      "application/vnd.jupyter.widget-view+json": {
       "model_id": "467ee05a55b947b0b52082068ecfe83d",
       "version_major": 2,
       "version_minor": 0
      },
      "text/plain": [
       "0it [00:00, ?it/s]"
      ]
     },
     "metadata": {},
     "output_type": "display_data"
    },
    {
     "name": "stderr",
     "output_type": "stream",
     "text": [
      "14:54 bilby INFO    : Checkpoint every check_point_delta_t = 600s\n",
      "14:54 bilby WARNING : Using cached result\n",
      "14:54 bilby INFO    : Summary of results:\n",
      "nsamples: 2322\n",
      "ln_noise_evidence:    nan\n",
      "ln_evidence: 293.890 +/-  0.251\n",
      "ln_bayes_factor:    nan +/-  0.251\n",
      "\n",
      "/Users/myue/Research/Projects/JWST/dependencies/msa_spec_utils/LAE_spec_utils.py:426: RuntimeWarning: divide by zero encountered in power\n",
      "  self.err_fnu = (self.ivar_fnu)**-0.5\n",
      "/Users/myue/Research/Projects/JWST/dependencies/msa_spec_utils/LAE_spec_utils.py:432: RuntimeWarning: invalid value encountered in divide\n",
      "  self.flam = self.fnu * speed_of_light_angstrom / (self.wave)**2 * 1e-29 * 1e18\n",
      "/Users/myue/Research/Projects/JWST/dependencies/msa_spec_utils/LAE_spec_utils.py:433: RuntimeWarning: divide by zero encountered in divide\n",
      "  self.err_flam = self.err_fnu * (speed_of_light_angstrom / (self.wave)**2 * 1e-29 * 1e18)\n",
      "14:54 bilby INFO    : Running for label '4713_5671', output will be saved to './bilby_fit_civ_pypeit_v1/'\n",
      "14:54 bilby INFO    : Search parameters:\n",
      "14:54 bilby INFO    :   center = Uniform(minimum=10800.2117502139, maximum=10843.499172058444, name='center', latex_label='center', unit=None, boundary=None)\n",
      "14:54 bilby INFO    :   fwhm = Uniform(minimum=300, maximum=1000, name='fwhm', latex_label='fwhm', unit=None, boundary=None)\n",
      "14:54 bilby INFO    :   flux = Uniform(minimum=-14.491818345168015, maximum=14.491818345168015, name='flux', latex_label='flux', unit=None, boundary=None)\n",
      "14:54 bilby INFO    :   A = Uniform(minimum=-0.08527631388307673, maximum=0.17055262776615346, name='A', latex_label='A', unit=None, boundary=None)\n",
      "14:54 bilby INFO    :   beta = Uniform(minimum=-4, maximum=2, name='beta', latex_label='beta', unit=None, boundary=None)\n",
      "14:54 bilby INFO    :   wave0 = 10821.855461136172\n",
      "14:54 bilby INFO    : Single likelihood evaluation took 3.236e-05 s\n"
     ]
    },
    {
     "data": {
      "application/vnd.jupyter.widget-view+json": {
       "model_id": "32a45e8e37cf4ce396f241e1616ce8ee",
       "version_major": 2,
       "version_minor": 0
      },
      "text/plain": [
       "0it [00:00, ?it/s]"
      ]
     },
     "metadata": {},
     "output_type": "display_data"
    },
    {
     "name": "stderr",
     "output_type": "stream",
     "text": [
      "14:54 bilby INFO    : Checkpoint every check_point_delta_t = 600s\n",
      "14:54 bilby WARNING : Using cached result\n",
      "14:54 bilby INFO    : Summary of results:\n",
      "nsamples: 2792\n",
      "ln_noise_evidence:    nan\n",
      "ln_evidence: 226.150 +/-  0.291\n",
      "ln_bayes_factor:    nan +/-  0.291\n",
      "\n",
      "/Users/myue/Research/Projects/JWST/dependencies/msa_spec_utils/LAE_spec_utils.py:426: RuntimeWarning: divide by zero encountered in power\n",
      "  self.err_fnu = (self.ivar_fnu)**-0.5\n",
      "/Users/myue/Research/Projects/JWST/dependencies/msa_spec_utils/LAE_spec_utils.py:432: RuntimeWarning: invalid value encountered in divide\n",
      "  self.flam = self.fnu * speed_of_light_angstrom / (self.wave)**2 * 1e-29 * 1e18\n",
      "/Users/myue/Research/Projects/JWST/dependencies/msa_spec_utils/LAE_spec_utils.py:433: RuntimeWarning: divide by zero encountered in divide\n",
      "  self.err_flam = self.err_fnu * (speed_of_light_angstrom / (self.wave)**2 * 1e-29 * 1e18)\n",
      "14:54 bilby INFO    : Running for label '4713_6733', output will be saved to './bilby_fit_civ_pypeit_v1/'\n",
      "14:54 bilby INFO    : Search parameters:\n",
      "14:54 bilby INFO    :   center = Uniform(minimum=12008.673582573636, maximum=12056.804538816417, name='center', latex_label='center', unit=None, boundary=None)\n",
      "14:54 bilby INFO    :   fwhm = Uniform(minimum=300, maximum=1000, name='fwhm', latex_label='fwhm', unit=None, boundary=None)\n",
      "14:54 bilby INFO    :   flux = Uniform(minimum=-25.9823587915912, maximum=25.9823587915912, name='flux', latex_label='flux', unit=None, boundary=None)\n",
      "14:54 bilby INFO    :   A = Uniform(minimum=-0.12172122222813904, maximum=0.24344244445627808, name='A', latex_label='A', unit=None, boundary=None)\n",
      "14:54 bilby INFO    :   beta = Uniform(minimum=-4, maximum=2, name='beta', latex_label='beta', unit=None, boundary=None)\n",
      "14:54 bilby INFO    :   wave0 = 12032.739060695027\n",
      "14:54 bilby INFO    : Single likelihood evaluation took 4.199e-05 s\n"
     ]
    },
    {
     "data": {
      "application/vnd.jupyter.widget-view+json": {
       "model_id": "1c30b9118a5040d199f96b9f6e8c2d99",
       "version_major": 2,
       "version_minor": 0
      },
      "text/plain": [
       "0it [00:00, ?it/s]"
      ]
     },
     "metadata": {},
     "output_type": "display_data"
    },
    {
     "name": "stderr",
     "output_type": "stream",
     "text": [
      "14:54 bilby INFO    : Checkpoint every check_point_delta_t = 600s\n",
      "14:54 bilby WARNING : Using cached result\n",
      "14:54 bilby INFO    : Summary of results:\n",
      "nsamples: 3539\n",
      "ln_noise_evidence:    nan\n",
      "ln_evidence: 300.413 +/-  0.354\n",
      "ln_bayes_factor:    nan +/-  0.354\n",
      "\n",
      "/Users/myue/Research/Projects/JWST/dependencies/msa_spec_utils/LAE_spec_utils.py:426: RuntimeWarning: divide by zero encountered in power\n",
      "  self.err_fnu = (self.ivar_fnu)**-0.5\n",
      "/Users/myue/Research/Projects/JWST/dependencies/msa_spec_utils/LAE_spec_utils.py:432: RuntimeWarning: invalid value encountered in divide\n",
      "  self.flam = self.fnu * speed_of_light_angstrom / (self.wave)**2 * 1e-29 * 1e18\n",
      "/Users/myue/Research/Projects/JWST/dependencies/msa_spec_utils/LAE_spec_utils.py:433: RuntimeWarning: divide by zero encountered in divide\n",
      "  self.err_flam = self.err_fnu * (speed_of_light_angstrom / (self.wave)**2 * 1e-29 * 1e18)\n",
      "14:54 bilby INFO    : Running for label '4713_7194', output will be saved to './bilby_fit_civ_pypeit_v1/'\n",
      "14:54 bilby INFO    : Search parameters:\n",
      "14:54 bilby INFO    :   center = Uniform(minimum=11112.558033925088, maximum=11157.097344682305, name='center', latex_label='center', unit=None, boundary=None)\n",
      "14:54 bilby INFO    :   fwhm = Uniform(minimum=300, maximum=1000, name='fwhm', latex_label='fwhm', unit=None, boundary=None)\n",
      "14:54 bilby INFO    :   flux = Uniform(minimum=-6.979151420560389, maximum=6.979151420560389, name='flux', latex_label='flux', unit=None, boundary=None)\n",
      "14:54 bilby INFO    :   A = Uniform(minimum=-0.03533225432430731, maximum=0.07066450864861462, name='A', latex_label='A', unit=None, boundary=None)\n",
      "14:54 bilby INFO    :   beta = Uniform(minimum=-4, maximum=2, name='beta', latex_label='beta', unit=None, boundary=None)\n",
      "14:54 bilby INFO    :   wave0 = 11134.827689303696\n",
      "14:54 bilby INFO    : Single likelihood evaluation took 3.951e-05 s\n"
     ]
    },
    {
     "data": {
      "application/vnd.jupyter.widget-view+json": {
       "model_id": "2a6c633f7cb14b4c97a7d38aad2fd5fe",
       "version_major": 2,
       "version_minor": 0
      },
      "text/plain": [
       "0it [00:00, ?it/s]"
      ]
     },
     "metadata": {},
     "output_type": "display_data"
    },
    {
     "name": "stderr",
     "output_type": "stream",
     "text": [
      "14:54 bilby INFO    : Checkpoint every check_point_delta_t = 600s\n",
      "14:54 bilby WARNING : Using cached result\n",
      "14:54 bilby INFO    : Summary of results:\n",
      "nsamples: 2516\n",
      "ln_noise_evidence:    nan\n",
      "ln_evidence: 308.744 +/-  0.262\n",
      "ln_bayes_factor:    nan +/-  0.262\n",
      "\n",
      "/Users/myue/Research/Projects/JWST/dependencies/msa_spec_utils/LAE_spec_utils.py:426: RuntimeWarning: divide by zero encountered in power\n",
      "  self.err_fnu = (self.ivar_fnu)**-0.5\n",
      "/Users/myue/Research/Projects/JWST/dependencies/msa_spec_utils/LAE_spec_utils.py:432: RuntimeWarning: invalid value encountered in divide\n",
      "  self.flam = self.fnu * speed_of_light_angstrom / (self.wave)**2 * 1e-29 * 1e18\n",
      "/Users/myue/Research/Projects/JWST/dependencies/msa_spec_utils/LAE_spec_utils.py:433: RuntimeWarning: divide by zero encountered in divide\n",
      "  self.err_flam = self.err_fnu * (speed_of_light_angstrom / (self.wave)**2 * 1e-29 * 1e18)\n",
      "14:54 bilby INFO    : Running for label '4713_7230', output will be saved to './bilby_fit_civ_pypeit_v1/'\n",
      "14:54 bilby INFO    : Search parameters:\n",
      "14:54 bilby INFO    :   center = Uniform(minimum=12104.417208510113, maximum=12152.931906740614, name='center', latex_label='center', unit=None, boundary=None)\n",
      "14:54 bilby INFO    :   fwhm = Uniform(minimum=300, maximum=1000, name='fwhm', latex_label='fwhm', unit=None, boundary=None)\n",
      "14:54 bilby INFO    :   flux = Uniform(minimum=-7.6972274704698584, maximum=7.6972274704698584, name='flux', latex_label='flux', unit=None, boundary=None)\n",
      "14:54 bilby INFO    :   A = Uniform(minimum=-0.04970328041227035, maximum=0.0994065608245407, name='A', latex_label='A', unit=None, boundary=None)\n",
      "14:54 bilby INFO    :   beta = Uniform(minimum=-4, maximum=2, name='beta', latex_label='beta', unit=None, boundary=None)\n",
      "14:54 bilby INFO    :   wave0 = 12128.674557625363\n",
      "14:54 bilby INFO    : Single likelihood evaluation took 3.662e-05 s\n"
     ]
    },
    {
     "data": {
      "application/vnd.jupyter.widget-view+json": {
       "model_id": "0a0a03cb248947aeaa8e109972bd04c3",
       "version_major": 2,
       "version_minor": 0
      },
      "text/plain": [
       "0it [00:00, ?it/s]"
      ]
     },
     "metadata": {},
     "output_type": "display_data"
    },
    {
     "name": "stderr",
     "output_type": "stream",
     "text": [
      "14:54 bilby INFO    : Checkpoint every check_point_delta_t = 600s\n",
      "14:54 bilby WARNING : Using cached result\n",
      "14:54 bilby INFO    : Summary of results:\n",
      "nsamples: 2730\n",
      "ln_noise_evidence:    nan\n",
      "ln_evidence: 337.698 +/-  0.298\n",
      "ln_bayes_factor:    nan +/-  0.298\n",
      "\n",
      "/Users/myue/Research/Projects/JWST/dependencies/msa_spec_utils/LAE_spec_utils.py:426: RuntimeWarning: divide by zero encountered in power\n",
      "  self.err_fnu = (self.ivar_fnu)**-0.5\n",
      "/Users/myue/Research/Projects/JWST/dependencies/msa_spec_utils/LAE_spec_utils.py:432: RuntimeWarning: invalid value encountered in divide\n",
      "  self.flam = self.fnu * speed_of_light_angstrom / (self.wave)**2 * 1e-29 * 1e18\n",
      "/Users/myue/Research/Projects/JWST/dependencies/msa_spec_utils/LAE_spec_utils.py:433: RuntimeWarning: divide by zero encountered in divide\n",
      "  self.err_flam = self.err_fnu * (speed_of_light_angstrom / (self.wave)**2 * 1e-29 * 1e18)\n",
      "14:54 bilby INFO    : Running for label '4713_7430', output will be saved to './bilby_fit_civ_pypeit_v1/'\n",
      "14:54 bilby INFO    : Search parameters:\n",
      "14:54 bilby INFO    :   center = Uniform(minimum=11846.322826330714, maximum=11893.803078139656, name='center', latex_label='center', unit=None, boundary=None)\n",
      "14:54 bilby INFO    :   fwhm = Uniform(minimum=300, maximum=1000, name='fwhm', latex_label='fwhm', unit=None, boundary=None)\n",
      "14:54 bilby INFO    :   flux = Uniform(minimum=-8.325541470135052, maximum=8.325541470135052, name='flux', latex_label='flux', unit=None, boundary=None)\n",
      "14:54 bilby INFO    :   A = Uniform(minimum=-0.03953772658933813, maximum=0.07907545317867626, name='A', latex_label='A', unit=None, boundary=None)\n",
      "14:54 bilby INFO    :   beta = Uniform(minimum=-4, maximum=2, name='beta', latex_label='beta', unit=None, boundary=None)\n",
      "14:54 bilby INFO    :   wave0 = 11870.062952235185\n",
      "14:54 bilby INFO    : Single likelihood evaluation took 4.098e-05 s\n"
     ]
    },
    {
     "data": {
      "application/vnd.jupyter.widget-view+json": {
       "model_id": "643140b41ad145738957ac9216b2d9da",
       "version_major": 2,
       "version_minor": 0
      },
      "text/plain": [
       "0it [00:00, ?it/s]"
      ]
     },
     "metadata": {},
     "output_type": "display_data"
    },
    {
     "name": "stderr",
     "output_type": "stream",
     "text": [
      "14:54 bilby INFO    : Checkpoint every check_point_delta_t = 600s\n",
      "14:54 bilby WARNING : Using cached result\n",
      "14:54 bilby INFO    : Summary of results:\n",
      "nsamples: 2405\n",
      "ln_noise_evidence:    nan\n",
      "ln_evidence: 344.219 +/-  0.262\n",
      "ln_bayes_factor:    nan +/-  0.262\n",
      "\n",
      "/Users/myue/Research/Projects/JWST/dependencies/msa_spec_utils/LAE_spec_utils.py:426: RuntimeWarning: divide by zero encountered in power\n",
      "  self.err_fnu = (self.ivar_fnu)**-0.5\n",
      "/Users/myue/Research/Projects/JWST/dependencies/msa_spec_utils/LAE_spec_utils.py:432: RuntimeWarning: invalid value encountered in divide\n",
      "  self.flam = self.fnu * speed_of_light_angstrom / (self.wave)**2 * 1e-29 * 1e18\n",
      "/Users/myue/Research/Projects/JWST/dependencies/msa_spec_utils/LAE_spec_utils.py:433: RuntimeWarning: divide by zero encountered in divide\n",
      "  self.err_flam = self.err_fnu * (speed_of_light_angstrom / (self.wave)**2 * 1e-29 * 1e18)\n",
      "14:54 bilby INFO    : Running for label '4713_8514', output will be saved to './bilby_fit_civ_pypeit_v1/'\n",
      "14:54 bilby INFO    : Search parameters:\n",
      "14:54 bilby INFO    :   center = Uniform(minimum=11102.555482880885, maximum=11147.054703253154, name='center', latex_label='center', unit=None, boundary=None)\n",
      "14:54 bilby INFO    :   fwhm = Uniform(minimum=300, maximum=1000, name='fwhm', latex_label='fwhm', unit=None, boundary=None)\n",
      "14:54 bilby INFO    :   flux = Uniform(minimum=-8.866576317392298, maximum=8.866576317392298, name='flux', latex_label='flux', unit=None, boundary=None)\n",
      "14:54 bilby INFO    :   A = Uniform(minimum=-0.04492786419219667, maximum=0.08985572838439335, name='A', latex_label='A', unit=None, boundary=None)\n",
      "14:54 bilby INFO    :   beta = Uniform(minimum=-4, maximum=2, name='beta', latex_label='beta', unit=None, boundary=None)\n",
      "14:54 bilby INFO    :   wave0 = 11124.80509306702\n",
      "14:54 bilby INFO    : Single likelihood evaluation took 3.179e-05 s\n"
     ]
    },
    {
     "data": {
      "application/vnd.jupyter.widget-view+json": {
       "model_id": "ec785a285c4d40ffb0e28d89e16159dd",
       "version_major": 2,
       "version_minor": 0
      },
      "text/plain": [
       "0it [00:00, ?it/s]"
      ]
     },
     "metadata": {},
     "output_type": "display_data"
    },
    {
     "name": "stderr",
     "output_type": "stream",
     "text": [
      "14:54 bilby INFO    : Checkpoint every check_point_delta_t = 600s\n",
      "14:54 bilby WARNING : Using cached result\n",
      "14:54 bilby INFO    : Summary of results:\n",
      "nsamples: 2676\n",
      "ln_noise_evidence:    nan\n",
      "ln_evidence: 307.513 +/-  0.275\n",
      "ln_bayes_factor:    nan +/-  0.275\n",
      "\n",
      "/Users/myue/Research/Projects/JWST/dependencies/msa_spec_utils/LAE_spec_utils.py:426: RuntimeWarning: divide by zero encountered in power\n",
      "  self.err_fnu = (self.ivar_fnu)**-0.5\n",
      "/Users/myue/Research/Projects/JWST/dependencies/msa_spec_utils/LAE_spec_utils.py:432: RuntimeWarning: invalid value encountered in divide\n",
      "  self.flam = self.fnu * speed_of_light_angstrom / (self.wave)**2 * 1e-29 * 1e18\n",
      "/Users/myue/Research/Projects/JWST/dependencies/msa_spec_utils/LAE_spec_utils.py:433: RuntimeWarning: divide by zero encountered in divide\n",
      "  self.err_flam = self.err_fnu * (speed_of_light_angstrom / (self.wave)**2 * 1e-29 * 1e18)\n",
      "14:54 bilby INFO    : Running for label '4713_9273', output will be saved to './bilby_fit_civ_pypeit_v1/'\n",
      "14:54 bilby INFO    : Search parameters:\n",
      "14:54 bilby INFO    :   center = Uniform(minimum=11109.80120907925, maximum=11154.329470438286, name='center', latex_label='center', unit=None, boundary=None)\n",
      "14:54 bilby INFO    :   fwhm = Uniform(minimum=300, maximum=1000, name='fwhm', latex_label='fwhm', unit=None, boundary=None)\n",
      "14:54 bilby INFO    :   flux = Uniform(minimum=-7.982491968325341, maximum=7.982491968325341, name='flux', latex_label='flux', unit=None, boundary=None)\n",
      "14:54 bilby INFO    :   A = Uniform(minimum=-0.040421736915694055, maximum=0.08084347383138811, name='A', latex_label='A', unit=None, boundary=None)\n",
      "14:54 bilby INFO    :   beta = Uniform(minimum=-4, maximum=2, name='beta', latex_label='beta', unit=None, boundary=None)\n",
      "14:54 bilby INFO    :   wave0 = 11132.065339758768\n",
      "14:54 bilby INFO    : Single likelihood evaluation took 3.338e-05 s\n"
     ]
    },
    {
     "data": {
      "application/vnd.jupyter.widget-view+json": {
       "model_id": "1fb5de19f0d9418f9c956abf6ffaae3e",
       "version_major": 2,
       "version_minor": 0
      },
      "text/plain": [
       "0it [00:00, ?it/s]"
      ]
     },
     "metadata": {},
     "output_type": "display_data"
    },
    {
     "name": "stderr",
     "output_type": "stream",
     "text": [
      "14:54 bilby INFO    : Checkpoint every check_point_delta_t = 600s\n",
      "14:54 bilby WARNING : Using cached result\n",
      "14:54 bilby INFO    : Summary of results:\n",
      "nsamples: 2712\n",
      "ln_noise_evidence:    nan\n",
      "ln_evidence: 310.256 +/-  0.288\n",
      "ln_bayes_factor:    nan +/-  0.288\n",
      "\n",
      "/Users/myue/Research/Projects/JWST/dependencies/msa_spec_utils/LAE_spec_utils.py:426: RuntimeWarning: divide by zero encountered in power\n",
      "  self.err_fnu = (self.ivar_fnu)**-0.5\n",
      "/Users/myue/Research/Projects/JWST/dependencies/msa_spec_utils/LAE_spec_utils.py:432: RuntimeWarning: invalid value encountered in divide\n",
      "  self.flam = self.fnu * speed_of_light_angstrom / (self.wave)**2 * 1e-29 * 1e18\n",
      "/Users/myue/Research/Projects/JWST/dependencies/msa_spec_utils/LAE_spec_utils.py:433: RuntimeWarning: divide by zero encountered in divide\n",
      "  self.err_flam = self.err_fnu * (speed_of_light_angstrom / (self.wave)**2 * 1e-29 * 1e18)\n",
      "14:54 bilby INFO    : Running for label '4713_9970', output will be saved to './bilby_fit_civ_pypeit_v1/'\n",
      "14:54 bilby INFO    : Search parameters:\n",
      "14:54 bilby INFO    :   center = Uniform(minimum=11322.865889053968, maximum=11368.248117066209, name='center', latex_label='center', unit=None, boundary=None)\n",
      "14:54 bilby INFO    :   fwhm = Uniform(minimum=300, maximum=1000, name='fwhm', latex_label='fwhm', unit=None, boundary=None)\n",
      "14:54 bilby INFO    :   flux = Uniform(minimum=-14.601591692834347, maximum=14.601591692834347, name='flux', latex_label='flux', unit=None, boundary=None)\n",
      "14:54 bilby INFO    :   A = Uniform(minimum=-0.07254819397512596, maximum=0.14509638795025193, name='A', latex_label='A', unit=None, boundary=None)\n",
      "14:54 bilby INFO    :   beta = Uniform(minimum=-4, maximum=2, name='beta', latex_label='beta', unit=None, boundary=None)\n",
      "14:54 bilby INFO    :   wave0 = 11345.557003060088\n",
      "14:54 bilby INFO    : Single likelihood evaluation took 4.052e-05 s\n"
     ]
    },
    {
     "data": {
      "application/vnd.jupyter.widget-view+json": {
       "model_id": "ca9e9cfeb6f14a7bb235214792c90799",
       "version_major": 2,
       "version_minor": 0
      },
      "text/plain": [
       "0it [00:00, ?it/s]"
      ]
     },
     "metadata": {},
     "output_type": "display_data"
    },
    {
     "name": "stderr",
     "output_type": "stream",
     "text": [
      "14:54 bilby INFO    : Checkpoint every check_point_delta_t = 600s\n",
      "14:54 bilby WARNING : Using cached result\n",
      "14:54 bilby INFO    : Summary of results:\n",
      "nsamples: 2830\n",
      "ln_noise_evidence:    nan\n",
      "ln_evidence: 329.764 +/-  0.300\n",
      "ln_bayes_factor:    nan +/-  0.300\n",
      "\n",
      "/Users/myue/Research/Projects/JWST/dependencies/msa_spec_utils/LAE_spec_utils.py:426: RuntimeWarning: divide by zero encountered in power\n",
      "  self.err_fnu = (self.ivar_fnu)**-0.5\n",
      "/Users/myue/Research/Projects/JWST/dependencies/msa_spec_utils/LAE_spec_utils.py:432: RuntimeWarning: invalid value encountered in divide\n",
      "  self.flam = self.fnu * speed_of_light_angstrom / (self.wave)**2 * 1e-29 * 1e18\n",
      "/Users/myue/Research/Projects/JWST/dependencies/msa_spec_utils/LAE_spec_utils.py:433: RuntimeWarning: divide by zero encountered in divide\n",
      "  self.err_flam = self.err_fnu * (speed_of_light_angstrom / (self.wave)**2 * 1e-29 * 1e18)\n",
      "14:54 bilby INFO    : Running for label '4713_10116', output will be saved to './bilby_fit_civ_pypeit_v1/'\n",
      "14:54 bilby INFO    : Search parameters:\n",
      "14:54 bilby INFO    :   center = Uniform(minimum=10482.450384425796, maximum=10524.46421362189, name='center', latex_label='center', unit=None, boundary=None)\n",
      "14:54 bilby INFO    :   fwhm = Uniform(minimum=300, maximum=1000, name='fwhm', latex_label='fwhm', unit=None, boundary=None)\n",
      "14:54 bilby INFO    :   flux = Uniform(minimum=-10.812445428909054, maximum=10.812445428909054, name='flux', latex_label='flux', unit=None, boundary=None)\n",
      "14:54 bilby INFO    :   A = Uniform(minimum=-0.058028839060554976, maximum=0.11605767812110995, name='A', latex_label='A', unit=None, boundary=None)\n",
      "14:54 bilby INFO    :   beta = Uniform(minimum=-4, maximum=2, name='beta', latex_label='beta', unit=None, boundary=None)\n",
      "14:54 bilby INFO    :   wave0 = 10503.457299023843\n",
      "14:54 bilby INFO    : Single likelihood evaluation took 3.581e-05 s\n"
     ]
    },
    {
     "data": {
      "application/vnd.jupyter.widget-view+json": {
       "model_id": "e04ef7d62ab64d46b02869642d73063d",
       "version_major": 2,
       "version_minor": 0
      },
      "text/plain": [
       "0it [00:00, ?it/s]"
      ]
     },
     "metadata": {},
     "output_type": "display_data"
    },
    {
     "name": "stderr",
     "output_type": "stream",
     "text": [
      "14:54 bilby INFO    : Checkpoint every check_point_delta_t = 600s\n",
      "14:54 bilby WARNING : Using cached result\n",
      "14:54 bilby INFO    : Summary of results:\n",
      "nsamples: 3034\n",
      "ln_noise_evidence:    nan\n",
      "ln_evidence: 246.962 +/-  0.311\n",
      "ln_bayes_factor:    nan +/-  0.311\n",
      "\n",
      "/Users/myue/Research/Projects/JWST/dependencies/msa_spec_utils/LAE_spec_utils.py:426: RuntimeWarning: divide by zero encountered in power\n",
      "  self.err_fnu = (self.ivar_fnu)**-0.5\n",
      "/Users/myue/Research/Projects/JWST/dependencies/msa_spec_utils/LAE_spec_utils.py:432: RuntimeWarning: invalid value encountered in divide\n",
      "  self.flam = self.fnu * speed_of_light_angstrom / (self.wave)**2 * 1e-29 * 1e18\n",
      "/Users/myue/Research/Projects/JWST/dependencies/msa_spec_utils/LAE_spec_utils.py:433: RuntimeWarning: divide by zero encountered in divide\n",
      "  self.err_flam = self.err_fnu * (speed_of_light_angstrom / (self.wave)**2 * 1e-29 * 1e18)\n",
      "14:54 bilby INFO    : Running for label '4713_10235', output will be saved to './bilby_fit_civ_pypeit_v1/'\n",
      "14:54 bilby INFO    : Search parameters:\n",
      "14:54 bilby INFO    :   center = Uniform(minimum=11353.198030094665, maximum=11398.701829814485, name='center', latex_label='center', unit=None, boundary=None)\n",
      "14:54 bilby INFO    :   fwhm = Uniform(minimum=300, maximum=1000, name='fwhm', latex_label='fwhm', unit=None, boundary=None)\n",
      "14:54 bilby INFO    :   flux = Uniform(minimum=-8.723460655553398, maximum=8.723460655553398, name='flux', latex_label='flux', unit=None, boundary=None)\n",
      "14:54 bilby INFO    :   A = Uniform(minimum=-0.043226827444692244, maximum=0.08645365488938449, name='A', latex_label='A', unit=None, boundary=None)\n",
      "14:54 bilby INFO    :   beta = Uniform(minimum=-4, maximum=2, name='beta', latex_label='beta', unit=None, boundary=None)\n",
      "14:54 bilby INFO    :   wave0 = 11375.949929954575\n",
      "14:54 bilby INFO    : Single likelihood evaluation took 3.346e-05 s\n"
     ]
    },
    {
     "data": {
      "application/vnd.jupyter.widget-view+json": {
       "model_id": "d0e0d2948a124769acbbce8aaa6bfa2e",
       "version_major": 2,
       "version_minor": 0
      },
      "text/plain": [
       "0it [00:00, ?it/s]"
      ]
     },
     "metadata": {},
     "output_type": "display_data"
    },
    {
     "name": "stderr",
     "output_type": "stream",
     "text": [
      "14:54 bilby INFO    : Checkpoint every check_point_delta_t = 600s\n",
      "14:54 bilby WARNING : Using cached result\n",
      "14:54 bilby INFO    : Summary of results:\n",
      "nsamples: 2371\n",
      "ln_noise_evidence:    nan\n",
      "ln_evidence: 330.405 +/-  0.260\n",
      "ln_bayes_factor:    nan +/-  0.260\n",
      "\n",
      "/Users/myue/Research/Projects/JWST/dependencies/msa_spec_utils/LAE_spec_utils.py:426: RuntimeWarning: divide by zero encountered in power\n",
      "  self.err_fnu = (self.ivar_fnu)**-0.5\n",
      "/Users/myue/Research/Projects/JWST/dependencies/msa_spec_utils/LAE_spec_utils.py:432: RuntimeWarning: invalid value encountered in divide\n",
      "  self.flam = self.fnu * speed_of_light_angstrom / (self.wave)**2 * 1e-29 * 1e18\n",
      "/Users/myue/Research/Projects/JWST/dependencies/msa_spec_utils/LAE_spec_utils.py:433: RuntimeWarning: divide by zero encountered in divide\n",
      "  self.err_flam = self.err_fnu * (speed_of_light_angstrom / (self.wave)**2 * 1e-29 * 1e18)\n",
      "14:54 bilby INFO    : Running for label '4713_10287', output will be saved to './bilby_fit_civ_pypeit_v1/'\n",
      "14:54 bilby INFO    : Search parameters:\n",
      "14:54 bilby INFO    :   center = Uniform(minimum=12011.086008713708, maximum=12059.226633999133, name='center', latex_label='center', unit=None, boundary=None)\n",
      "14:54 bilby INFO    :   fwhm = Uniform(minimum=300, maximum=1000, name='fwhm', latex_label='fwhm', unit=None, boundary=None)\n",
      "14:54 bilby INFO    :   flux = Uniform(minimum=-15.307484839996338, maximum=15.307484839996338, name='flux', latex_label='flux', unit=None, boundary=None)\n",
      "14:54 bilby INFO    :   A = Uniform(minimum=-0.07169755240734588, maximum=0.14339510481469175, name='A', latex_label='A', unit=None, boundary=None)\n",
      "14:54 bilby INFO    :   beta = Uniform(minimum=-4, maximum=2, name='beta', latex_label='beta', unit=None, boundary=None)\n",
      "14:54 bilby INFO    :   wave0 = 12035.15632135642\n",
      "14:54 bilby INFO    : Single likelihood evaluation took 3.302e-05 s\n"
     ]
    },
    {
     "data": {
      "application/vnd.jupyter.widget-view+json": {
       "model_id": "52762c08326840d581995e15a964c0b6",
       "version_major": 2,
       "version_minor": 0
      },
      "text/plain": [
       "0it [00:00, ?it/s]"
      ]
     },
     "metadata": {},
     "output_type": "display_data"
    },
    {
     "name": "stderr",
     "output_type": "stream",
     "text": [
      "14:54 bilby INFO    : Checkpoint every check_point_delta_t = 600s\n",
      "14:54 bilby WARNING : Using cached result\n",
      "14:54 bilby INFO    : Summary of results:\n",
      "nsamples: 3220\n",
      "ln_noise_evidence:    nan\n",
      "ln_evidence: 359.479 +/-  0.329\n",
      "ln_bayes_factor:    nan +/-  0.329\n",
      "\n",
      "/Users/myue/Research/Projects/JWST/dependencies/msa_spec_utils/LAE_spec_utils.py:426: RuntimeWarning: divide by zero encountered in power\n",
      "  self.err_fnu = (self.ivar_fnu)**-0.5\n",
      "/Users/myue/Research/Projects/JWST/dependencies/msa_spec_utils/LAE_spec_utils.py:432: RuntimeWarning: invalid value encountered in divide\n",
      "  self.flam = self.fnu * speed_of_light_angstrom / (self.wave)**2 * 1e-29 * 1e18\n",
      "/Users/myue/Research/Projects/JWST/dependencies/msa_spec_utils/LAE_spec_utils.py:433: RuntimeWarning: divide by zero encountered in divide\n",
      "  self.err_flam = self.err_fnu * (speed_of_light_angstrom / (self.wave)**2 * 1e-29 * 1e18)\n",
      "14:54 bilby INFO    : Running for label '4713_10683', output will be saved to './bilby_fit_civ_pypeit_v1/'\n",
      "14:54 bilby INFO    : Search parameters:\n",
      "14:54 bilby INFO    :   center = Uniform(minimum=11328.125321910586, maximum=11373.528629814035, name='center', latex_label='center', unit=None, boundary=None)\n",
      "14:54 bilby INFO    :   fwhm = Uniform(minimum=300, maximum=1000, name='fwhm', latex_label='fwhm', unit=None, boundary=None)\n",
      "14:54 bilby INFO    :   flux = Uniform(minimum=-9.508904274277914, maximum=9.508904274277914, name='flux', latex_label='flux', unit=None, boundary=None)\n",
      "14:54 bilby INFO    :   A = Uniform(minimum=-0.04722317678030492, maximum=0.09444635356060983, name='A', latex_label='A', unit=None, boundary=None)\n",
      "14:54 bilby INFO    :   beta = Uniform(minimum=-4, maximum=2, name='beta', latex_label='beta', unit=None, boundary=None)\n",
      "14:54 bilby INFO    :   wave0 = 11350.82697586231\n",
      "14:54 bilby INFO    : Single likelihood evaluation took 4.114e-05 s\n"
     ]
    },
    {
     "data": {
      "application/vnd.jupyter.widget-view+json": {
       "model_id": "e476f3610bd743858644f9eec8290bc0",
       "version_major": 2,
       "version_minor": 0
      },
      "text/plain": [
       "0it [00:00, ?it/s]"
      ]
     },
     "metadata": {},
     "output_type": "display_data"
    },
    {
     "name": "stderr",
     "output_type": "stream",
     "text": [
      "14:54 bilby INFO    : Checkpoint every check_point_delta_t = 600s\n",
      "14:54 bilby WARNING : Using cached result\n",
      "14:54 bilby INFO    : Summary of results:\n",
      "nsamples: 2618\n",
      "ln_noise_evidence:    nan\n",
      "ln_evidence: 315.452 +/-  0.278\n",
      "ln_bayes_factor:    nan +/-  0.278\n",
      "\n",
      "/Users/myue/Research/Projects/JWST/dependencies/msa_spec_utils/LAE_spec_utils.py:426: RuntimeWarning: divide by zero encountered in power\n",
      "  self.err_fnu = (self.ivar_fnu)**-0.5\n",
      "/Users/myue/Research/Projects/JWST/dependencies/msa_spec_utils/LAE_spec_utils.py:432: RuntimeWarning: invalid value encountered in divide\n",
      "  self.flam = self.fnu * speed_of_light_angstrom / (self.wave)**2 * 1e-29 * 1e18\n",
      "/Users/myue/Research/Projects/JWST/dependencies/msa_spec_utils/LAE_spec_utils.py:433: RuntimeWarning: divide by zero encountered in divide\n",
      "  self.err_flam = self.err_fnu * (speed_of_light_angstrom / (self.wave)**2 * 1e-29 * 1e18)\n",
      "14:54 bilby INFO    : Running for label '4713_10998', output will be saved to './bilby_fit_civ_pypeit_v1/'\n",
      "14:54 bilby INFO    : Search parameters:\n",
      "14:54 bilby INFO    :   center = Uniform(minimum=11325.188502385712, maximum=11370.580039469422, name='center', latex_label='center', unit=None, boundary=None)\n",
      "14:54 bilby INFO    :   fwhm = Uniform(minimum=300, maximum=1000, name='fwhm', latex_label='fwhm', unit=None, boundary=None)\n",
      "14:54 bilby INFO    :   flux = Uniform(minimum=-13.983644597293292, maximum=13.983644597293292, name='flux', latex_label='flux', unit=None, boundary=None)\n",
      "14:54 bilby INFO    :   A = Uniform(minimum=-0.06946366717521661, maximum=0.13892733435043322, name='A', latex_label='A', unit=None, boundary=None)\n",
      "14:54 bilby INFO    :   beta = Uniform(minimum=-4, maximum=2, name='beta', latex_label='beta', unit=None, boundary=None)\n",
      "14:54 bilby INFO    :   wave0 = 11347.884270927567\n",
      "14:54 bilby INFO    : Single likelihood evaluation took 3.417e-05 s\n"
     ]
    },
    {
     "data": {
      "application/vnd.jupyter.widget-view+json": {
       "model_id": "c7544445ce914a26845534a5a9a07e85",
       "version_major": 2,
       "version_minor": 0
      },
      "text/plain": [
       "0it [00:00, ?it/s]"
      ]
     },
     "metadata": {},
     "output_type": "display_data"
    },
    {
     "name": "stderr",
     "output_type": "stream",
     "text": [
      "14:54 bilby INFO    : Checkpoint every check_point_delta_t = 600s\n",
      "14:54 bilby WARNING : Using cached result\n",
      "14:54 bilby INFO    : Summary of results:\n",
      "nsamples: 3049\n",
      "ln_noise_evidence:    nan\n",
      "ln_evidence: 305.834 +/-  0.306\n",
      "ln_bayes_factor:    nan +/-  0.306\n",
      "\n",
      "/Users/myue/Research/Projects/JWST/dependencies/msa_spec_utils/LAE_spec_utils.py:426: RuntimeWarning: divide by zero encountered in power\n",
      "  self.err_fnu = (self.ivar_fnu)**-0.5\n",
      "/Users/myue/Research/Projects/JWST/dependencies/msa_spec_utils/LAE_spec_utils.py:432: RuntimeWarning: invalid value encountered in divide\n",
      "  self.flam = self.fnu * speed_of_light_angstrom / (self.wave)**2 * 1e-29 * 1e18\n",
      "/Users/myue/Research/Projects/JWST/dependencies/msa_spec_utils/LAE_spec_utils.py:433: RuntimeWarning: divide by zero encountered in divide\n",
      "  self.err_flam = self.err_fnu * (speed_of_light_angstrom / (self.wave)**2 * 1e-29 * 1e18)\n",
      "14:54 bilby INFO    : Running for label '4713_11362', output will be saved to './bilby_fit_civ_pypeit_v1/'\n",
      "14:54 bilby INFO    : Search parameters:\n",
      "14:54 bilby INFO    :   center = Uniform(minimum=11328.653778905109, maximum=11374.059204872663, name='center', latex_label='center', unit=None, boundary=None)\n",
      "14:54 bilby INFO    :   fwhm = Uniform(minimum=300, maximum=1000, name='fwhm', latex_label='fwhm', unit=None, boundary=None)\n",
      "14:54 bilby INFO    :   flux = Uniform(minimum=-9.43210515760702, maximum=9.43210515760702, name='flux', latex_label='flux', unit=None, boundary=None)\n",
      "14:54 bilby INFO    :   A = Uniform(minimum=-0.04683959148506278, maximum=0.09367918297012556, name='A', latex_label='A', unit=None, boundary=None)\n",
      "14:54 bilby INFO    :   beta = Uniform(minimum=-4, maximum=2, name='beta', latex_label='beta', unit=None, boundary=None)\n",
      "14:54 bilby INFO    :   wave0 = 11351.356491888886\n",
      "14:54 bilby INFO    : Single likelihood evaluation took 4.186e-05 s\n"
     ]
    },
    {
     "data": {
      "application/vnd.jupyter.widget-view+json": {
       "model_id": "0648b812360f4feb97679da6b9f1442f",
       "version_major": 2,
       "version_minor": 0
      },
      "text/plain": [
       "0it [00:00, ?it/s]"
      ]
     },
     "metadata": {},
     "output_type": "display_data"
    },
    {
     "name": "stderr",
     "output_type": "stream",
     "text": [
      "14:54 bilby INFO    : Checkpoint every check_point_delta_t = 600s\n",
      "14:54 bilby WARNING : Using cached result\n",
      "14:54 bilby INFO    : Summary of results:\n",
      "nsamples: 2792\n",
      "ln_noise_evidence:    nan\n",
      "ln_evidence: 307.027 +/-  0.279\n",
      "ln_bayes_factor:    nan +/-  0.279\n",
      "\n",
      "/Users/myue/Research/Projects/JWST/dependencies/msa_spec_utils/LAE_spec_utils.py:426: RuntimeWarning: divide by zero encountered in power\n",
      "  self.err_fnu = (self.ivar_fnu)**-0.5\n",
      "/Users/myue/Research/Projects/JWST/dependencies/msa_spec_utils/LAE_spec_utils.py:432: RuntimeWarning: invalid value encountered in divide\n",
      "  self.flam = self.fnu * speed_of_light_angstrom / (self.wave)**2 * 1e-29 * 1e18\n",
      "/Users/myue/Research/Projects/JWST/dependencies/msa_spec_utils/LAE_spec_utils.py:433: RuntimeWarning: divide by zero encountered in divide\n",
      "  self.err_flam = self.err_fnu * (speed_of_light_angstrom / (self.wave)**2 * 1e-29 * 1e18)\n",
      "14:54 bilby INFO    : Running for label '4713_11743', output will be saved to './bilby_fit_civ_pypeit_v1/'\n",
      "14:54 bilby INFO    : Search parameters:\n",
      "14:54 bilby INFO    :   center = Uniform(minimum=12075.333120127561, maximum=12123.731248865548, name='center', latex_label='center', unit=None, boundary=None)\n",
      "14:54 bilby INFO    :   fwhm = Uniform(minimum=300, maximum=1000, name='fwhm', latex_label='fwhm', unit=None, boundary=None)\n",
      "14:54 bilby INFO    :   flux = Uniform(minimum=-11.129823261533327, maximum=11.129823261533327, name='flux', latex_label='flux', unit=None, boundary=None)\n",
      "14:54 bilby INFO    :   A = Uniform(minimum=-0.05185276461655156, maximum=0.10370552923310312, name='A', latex_label='A', unit=None, boundary=None)\n",
      "14:54 bilby INFO    :   beta = Uniform(minimum=-4, maximum=2, name='beta', latex_label='beta', unit=None, boundary=None)\n",
      "14:54 bilby INFO    :   wave0 = 12099.532184496555\n",
      "14:54 bilby INFO    : Single likelihood evaluation took 3.877e-05 s\n"
     ]
    },
    {
     "data": {
      "application/vnd.jupyter.widget-view+json": {
       "model_id": "5c3e69060c0540c784a27133d718a9e5",
       "version_major": 2,
       "version_minor": 0
      },
      "text/plain": [
       "0it [00:00, ?it/s]"
      ]
     },
     "metadata": {},
     "output_type": "display_data"
    },
    {
     "name": "stderr",
     "output_type": "stream",
     "text": [
      "14:54 bilby INFO    : Checkpoint every check_point_delta_t = 600s\n",
      "14:54 bilby WARNING : Using cached result\n",
      "14:54 bilby INFO    : Summary of results:\n",
      "nsamples: 1716\n",
      "ln_noise_evidence:    nan\n",
      "ln_evidence: 175.069 +/-  0.200\n",
      "ln_bayes_factor:    nan +/-  0.200\n",
      "\n",
      "/Users/myue/Research/Projects/JWST/dependencies/msa_spec_utils/LAE_spec_utils.py:426: RuntimeWarning: divide by zero encountered in power\n",
      "  self.err_fnu = (self.ivar_fnu)**-0.5\n",
      "/Users/myue/Research/Projects/JWST/dependencies/msa_spec_utils/LAE_spec_utils.py:432: RuntimeWarning: invalid value encountered in divide\n",
      "  self.flam = self.fnu * speed_of_light_angstrom / (self.wave)**2 * 1e-29 * 1e18\n",
      "/Users/myue/Research/Projects/JWST/dependencies/msa_spec_utils/LAE_spec_utils.py:433: RuntimeWarning: divide by zero encountered in divide\n",
      "  self.err_flam = self.err_fnu * (speed_of_light_angstrom / (self.wave)**2 * 1e-29 * 1e18)\n",
      "14:54 bilby INFO    : Running for label '4713_11981', output will be saved to './bilby_fit_civ_pypeit_v1/'\n",
      "14:54 bilby INFO    : Search parameters:\n",
      "14:54 bilby INFO    :   center = Uniform(minimum=12091.71655705124, maximum=12140.180350867078, name='center', latex_label='center', unit=None, boundary=None)\n",
      "14:54 bilby INFO    :   fwhm = Uniform(minimum=300, maximum=1000, name='fwhm', latex_label='fwhm', unit=None, boundary=None)\n",
      "14:54 bilby INFO    :   flux = Uniform(minimum=-15.236558564230718, maximum=15.236558564230718, name='flux', latex_label='flux', unit=None, boundary=None)\n",
      "14:54 bilby INFO    :   A = Uniform(minimum=-0.07088946454174888, maximum=0.14177892908349776, name='A', latex_label='A', unit=None, boundary=None)\n",
      "14:54 bilby INFO    :   beta = Uniform(minimum=-4, maximum=2, name='beta', latex_label='beta', unit=None, boundary=None)\n",
      "14:54 bilby INFO    :   wave0 = 12115.94845395916\n",
      "14:54 bilby INFO    : Single likelihood evaluation took 3.309e-05 s\n"
     ]
    },
    {
     "data": {
      "application/vnd.jupyter.widget-view+json": {
       "model_id": "2b76b4886b52479fbfe7efdf5ec0bff6",
       "version_major": 2,
       "version_minor": 0
      },
      "text/plain": [
       "0it [00:00, ?it/s]"
      ]
     },
     "metadata": {},
     "output_type": "display_data"
    },
    {
     "name": "stderr",
     "output_type": "stream",
     "text": [
      "14:54 bilby INFO    : Checkpoint every check_point_delta_t = 600s\n",
      "14:54 bilby WARNING : Using cached result\n",
      "14:54 bilby INFO    : Summary of results:\n",
      "nsamples: 3401\n",
      "ln_noise_evidence:    nan\n",
      "ln_evidence: 184.832 +/-  0.327\n",
      "ln_bayes_factor:    nan +/-  0.327\n",
      "\n",
      "14:54 bilby INFO    : Running for label '4713_12217', output will be saved to './bilby_fit_civ_pypeit_v1/'\n",
      "14:54 bilby INFO    : Search parameters:\n",
      "14:54 bilby INFO    :   center = Uniform(minimum=12016.514105159486, maximum=12064.676486342489, name='center', latex_label='center', unit=None, boundary=None)\n",
      "14:54 bilby INFO    :   fwhm = Uniform(minimum=300, maximum=1000, name='fwhm', latex_label='fwhm', unit=None, boundary=None)\n",
      "14:54 bilby INFO    :   flux = Uniform(minimum=-8.350389974719382, maximum=8.350389974719382, name='flux', latex_label='flux', unit=None, boundary=None)\n",
      "14:54 bilby INFO    :   A = Uniform(minimum=-0.03909408262366459, maximum=0.07818816524732917, name='A', latex_label='A', unit=None, boundary=None)\n",
      "14:54 bilby INFO    :   beta = Uniform(minimum=-4, maximum=2, name='beta', latex_label='beta', unit=None, boundary=None)\n",
      "14:54 bilby INFO    :   wave0 = 12040.595295750987\n",
      "14:54 bilby INFO    : Single likelihood evaluation took 3.390e-05 s\n"
     ]
    },
    {
     "data": {
      "application/vnd.jupyter.widget-view+json": {
       "model_id": "3500fd4fbe324a1288bd13fa2263f561",
       "version_major": 2,
       "version_minor": 0
      },
      "text/plain": [
       "0it [00:00, ?it/s]"
      ]
     },
     "metadata": {},
     "output_type": "display_data"
    },
    {
     "name": "stderr",
     "output_type": "stream",
     "text": [
      "14:54 bilby INFO    : Checkpoint every check_point_delta_t = 600s\n",
      "14:54 bilby WARNING : Using cached result\n",
      "14:54 bilby INFO    : Summary of results:\n",
      "nsamples: 2579\n",
      "ln_noise_evidence:    nan\n",
      "ln_evidence: 377.285 +/-  0.275\n",
      "ln_bayes_factor:    nan +/-  0.275\n",
      "\n",
      "/Users/myue/Research/Projects/JWST/dependencies/msa_spec_utils/LAE_spec_utils.py:426: RuntimeWarning: divide by zero encountered in power\n",
      "  self.err_fnu = (self.ivar_fnu)**-0.5\n",
      "/Users/myue/Research/Projects/JWST/dependencies/msa_spec_utils/LAE_spec_utils.py:432: RuntimeWarning: invalid value encountered in divide\n",
      "  self.flam = self.fnu * speed_of_light_angstrom / (self.wave)**2 * 1e-29 * 1e18\n",
      "/Users/myue/Research/Projects/JWST/dependencies/msa_spec_utils/LAE_spec_utils.py:433: RuntimeWarning: divide by zero encountered in divide\n",
      "  self.err_flam = self.err_fnu * (speed_of_light_angstrom / (self.wave)**2 * 1e-29 * 1e18)\n",
      "14:54 bilby INFO    : Running for label '4713_12285', output will be saved to './bilby_fit_civ_pypeit_v1/'\n",
      "14:54 bilby INFO    : Search parameters:\n",
      "14:54 bilby INFO    :   center = Uniform(minimum=11134.864406885576, maximum=11179.493121943233, name='center', latex_label='center', unit=None, boundary=None)\n",
      "14:54 bilby INFO    :   fwhm = Uniform(minimum=300, maximum=1000, name='fwhm', latex_label='fwhm', unit=None, boundary=None)\n",
      "14:54 bilby INFO    :   flux = Uniform(minimum=-10.030567323681714, maximum=10.030567323681714, name='flux', latex_label='flux', unit=None, boundary=None)\n",
      "14:54 bilby INFO    :   A = Uniform(minimum=-0.05067845114052994, maximum=0.10135690228105988, name='A', latex_label='A', unit=None, boundary=None)\n",
      "14:54 bilby INFO    :   beta = Uniform(minimum=-4, maximum=2, name='beta', latex_label='beta', unit=None, boundary=None)\n",
      "14:54 bilby INFO    :   wave0 = 11157.178764414404\n",
      "14:54 bilby INFO    : Single likelihood evaluation took 3.857e-05 s\n"
     ]
    },
    {
     "data": {
      "application/vnd.jupyter.widget-view+json": {
       "model_id": "06d9dc83c9404259bbc864df712995d2",
       "version_major": 2,
       "version_minor": 0
      },
      "text/plain": [
       "0it [00:00, ?it/s]"
      ]
     },
     "metadata": {},
     "output_type": "display_data"
    },
    {
     "name": "stderr",
     "output_type": "stream",
     "text": [
      "14:54 bilby INFO    : Checkpoint every check_point_delta_t = 600s\n",
      "14:54 bilby WARNING : Using cached result\n",
      "14:54 bilby INFO    : Summary of results:\n",
      "nsamples: 2579\n",
      "ln_noise_evidence:    nan\n",
      "ln_evidence: 313.741 +/-  0.279\n",
      "ln_bayes_factor:    nan +/-  0.279\n",
      "\n",
      "/Users/myue/Research/Projects/JWST/dependencies/msa_spec_utils/LAE_spec_utils.py:426: RuntimeWarning: divide by zero encountered in power\n",
      "  self.err_fnu = (self.ivar_fnu)**-0.5\n",
      "/Users/myue/Research/Projects/JWST/dependencies/msa_spec_utils/LAE_spec_utils.py:432: RuntimeWarning: invalid value encountered in divide\n",
      "  self.flam = self.fnu * speed_of_light_angstrom / (self.wave)**2 * 1e-29 * 1e18\n",
      "/Users/myue/Research/Projects/JWST/dependencies/msa_spec_utils/LAE_spec_utils.py:433: RuntimeWarning: divide by zero encountered in divide\n",
      "  self.err_flam = self.err_fnu * (speed_of_light_angstrom / (self.wave)**2 * 1e-29 * 1e18)\n",
      "14:54 bilby INFO    : Running for label '4713_12643', output will be saved to './bilby_fit_civ_pypeit_v1/'\n",
      "14:54 bilby INFO    : Search parameters:\n",
      "14:54 bilby INFO    :   center = Uniform(minimum=11731.897844666879, maximum=11778.919479314844, name='center', latex_label='center', unit=None, boundary=None)\n",
      "14:54 bilby INFO    :   fwhm = Uniform(minimum=300, maximum=1000, name='fwhm', latex_label='fwhm', unit=None, boundary=None)\n",
      "14:54 bilby INFO    :   flux = Uniform(minimum=-7.178052941998968, maximum=7.178052941998968, name='flux', latex_label='flux', unit=None, boundary=None)\n",
      "14:54 bilby INFO    :   A = Uniform(minimum=-0.0352444471090831, maximum=0.0704888942181662, name='A', latex_label='A', unit=None, boundary=None)\n",
      "14:54 bilby INFO    :   beta = Uniform(minimum=-4, maximum=2, name='beta', latex_label='beta', unit=None, boundary=None)\n",
      "14:54 bilby INFO    :   wave0 = 11755.408661990861\n",
      "14:54 bilby INFO    : Single likelihood evaluation took 4.079e-05 s\n"
     ]
    },
    {
     "data": {
      "application/vnd.jupyter.widget-view+json": {
       "model_id": "490271fe9b434a90853c9b522b081614",
       "version_major": 2,
       "version_minor": 0
      },
      "text/plain": [
       "0it [00:00, ?it/s]"
      ]
     },
     "metadata": {},
     "output_type": "display_data"
    },
    {
     "name": "stderr",
     "output_type": "stream",
     "text": [
      "14:54 bilby INFO    : Checkpoint every check_point_delta_t = 600s\n",
      "14:54 bilby WARNING : Using cached result\n",
      "14:54 bilby INFO    : Summary of results:\n",
      "nsamples: 2221\n",
      "ln_noise_evidence:    nan\n",
      "ln_evidence: 336.118 +/-  0.253\n",
      "ln_bayes_factor:    nan +/-  0.253\n",
      "\n",
      "/Users/myue/Research/Projects/JWST/dependencies/msa_spec_utils/LAE_spec_utils.py:426: RuntimeWarning: divide by zero encountered in power\n",
      "  self.err_fnu = (self.ivar_fnu)**-0.5\n",
      "/Users/myue/Research/Projects/JWST/dependencies/msa_spec_utils/LAE_spec_utils.py:432: RuntimeWarning: invalid value encountered in divide\n",
      "  self.flam = self.fnu * speed_of_light_angstrom / (self.wave)**2 * 1e-29 * 1e18\n",
      "/Users/myue/Research/Projects/JWST/dependencies/msa_spec_utils/LAE_spec_utils.py:433: RuntimeWarning: divide by zero encountered in divide\n",
      "  self.err_flam = self.err_fnu * (speed_of_light_angstrom / (self.wave)**2 * 1e-29 * 1e18)\n",
      "14:54 bilby INFO    : Running for label '4713_12754', output will be saved to './bilby_fit_civ_pypeit_v1/'\n",
      "14:54 bilby INFO    : Search parameters:\n",
      "14:54 bilby INFO    :   center = Uniform(minimum=11327.146651291176, maximum=11372.546036667092, name='center', latex_label='center', unit=None, boundary=None)\n",
      "14:54 bilby INFO    :   fwhm = Uniform(minimum=300, maximum=1000, name='fwhm', latex_label='fwhm', unit=None, boundary=None)\n",
      "14:54 bilby INFO    :   flux = Uniform(minimum=-6.364483237195717, maximum=6.364483237195717, name='flux', latex_label='flux', unit=None, boundary=None)\n",
      "14:54 bilby INFO    :   A = Uniform(minimum=-0.04853926462785631, maximum=0.09707852925571261, name='A', latex_label='A', unit=None, boundary=None)\n",
      "14:54 bilby INFO    :   beta = Uniform(minimum=-4, maximum=2, name='beta', latex_label='beta', unit=None, boundary=None)\n",
      "14:54 bilby INFO    :   wave0 = 11349.846343979134\n",
      "14:54 bilby INFO    : Single likelihood evaluation took 3.849e-05 s\n"
     ]
    },
    {
     "data": {
      "application/vnd.jupyter.widget-view+json": {
       "model_id": "11cd62ac048f4abbbfbdaa0608949fd2",
       "version_major": 2,
       "version_minor": 0
      },
      "text/plain": [
       "0it [00:00, ?it/s]"
      ]
     },
     "metadata": {},
     "output_type": "display_data"
    },
    {
     "name": "stderr",
     "output_type": "stream",
     "text": [
      "14:54 bilby INFO    : Checkpoint every check_point_delta_t = 600s\n",
      "14:54 bilby WARNING : Using cached result\n",
      "14:54 bilby INFO    : Summary of results:\n",
      "nsamples: 2156\n",
      "ln_noise_evidence:    nan\n",
      "ln_evidence: 271.642 +/-  0.249\n",
      "ln_bayes_factor:    nan +/-  0.249\n",
      "\n",
      "/Users/myue/Research/Projects/JWST/dependencies/msa_spec_utils/LAE_spec_utils.py:426: RuntimeWarning: divide by zero encountered in power\n",
      "  self.err_fnu = (self.ivar_fnu)**-0.5\n",
      "/Users/myue/Research/Projects/JWST/dependencies/msa_spec_utils/LAE_spec_utils.py:432: RuntimeWarning: invalid value encountered in divide\n",
      "  self.flam = self.fnu * speed_of_light_angstrom / (self.wave)**2 * 1e-29 * 1e18\n",
      "/Users/myue/Research/Projects/JWST/dependencies/msa_spec_utils/LAE_spec_utils.py:433: RuntimeWarning: divide by zero encountered in divide\n",
      "  self.err_flam = self.err_fnu * (speed_of_light_angstrom / (self.wave)**2 * 1e-29 * 1e18)\n",
      "14:54 bilby INFO    : Running for label '4713_12817', output will be saved to './bilby_fit_civ_pypeit_v1/'\n",
      "14:54 bilby INFO    : Search parameters:\n",
      "14:54 bilby INFO    :   center = Uniform(minimum=10676.77891721344, maximum=10719.571618284437, name='center', latex_label='center', unit=None, boundary=None)\n",
      "14:54 bilby INFO    :   fwhm = Uniform(minimum=300, maximum=1000, name='fwhm', latex_label='fwhm', unit=None, boundary=None)\n",
      "14:54 bilby INFO    :   flux = Uniform(minimum=-5.178077906940791, maximum=5.178077906940791, name='flux', latex_label='flux', unit=None, boundary=None)\n",
      "14:54 bilby INFO    :   A = Uniform(minimum=-0.031028857516899884, maximum=0.06205771503379977, name='A', latex_label='A', unit=None, boundary=None)\n",
      "14:54 bilby INFO    :   beta = Uniform(minimum=-4, maximum=2, name='beta', latex_label='beta', unit=None, boundary=None)\n",
      "14:54 bilby INFO    :   wave0 = 10698.175267748938\n",
      "14:54 bilby INFO    : Single likelihood evaluation took 4.840e-05 s\n"
     ]
    },
    {
     "data": {
      "application/vnd.jupyter.widget-view+json": {
       "model_id": "44c21c3d2b0e404fa6629dc3f40a8ed7",
       "version_major": 2,
       "version_minor": 0
      },
      "text/plain": [
       "0it [00:00, ?it/s]"
      ]
     },
     "metadata": {},
     "output_type": "display_data"
    },
    {
     "name": "stderr",
     "output_type": "stream",
     "text": [
      "14:54 bilby INFO    : Checkpoint every check_point_delta_t = 600s\n",
      "14:54 bilby WARNING : Using cached result\n",
      "14:54 bilby INFO    : Summary of results:\n",
      "nsamples: 2354\n",
      "ln_noise_evidence:    nan\n",
      "ln_evidence: 314.152 +/-  0.255\n",
      "ln_bayes_factor:    nan +/-  0.255\n",
      "\n",
      "/Users/myue/Research/Projects/JWST/dependencies/msa_spec_utils/LAE_spec_utils.py:426: RuntimeWarning: divide by zero encountered in power\n",
      "  self.err_fnu = (self.ivar_fnu)**-0.5\n",
      "/Users/myue/Research/Projects/JWST/dependencies/msa_spec_utils/LAE_spec_utils.py:432: RuntimeWarning: invalid value encountered in divide\n",
      "  self.flam = self.fnu * speed_of_light_angstrom / (self.wave)**2 * 1e-29 * 1e18\n",
      "/Users/myue/Research/Projects/JWST/dependencies/msa_spec_utils/LAE_spec_utils.py:433: RuntimeWarning: divide by zero encountered in divide\n",
      "  self.err_flam = self.err_fnu * (speed_of_light_angstrom / (self.wave)**2 * 1e-29 * 1e18)\n",
      "14:54 bilby INFO    : Running for label '4713_13590', output will be saved to './bilby_fit_civ_pypeit_v1/'\n",
      "14:54 bilby INFO    : Search parameters:\n",
      "14:54 bilby INFO    :   center = Uniform(minimum=11111.67899336657, maximum=11156.214780915134, name='center', latex_label='center', unit=None, boundary=None)\n",
      "14:54 bilby INFO    :   fwhm = Uniform(minimum=300, maximum=1000, name='fwhm', latex_label='fwhm', unit=None, boundary=None)\n",
      "14:54 bilby INFO    :   flux = Uniform(minimum=-12.010937898929189, maximum=12.010937898929189, name='flux', latex_label='flux', unit=None, boundary=None)\n",
      "14:54 bilby INFO    :   A = Uniform(minimum=-0.060810700179099356, maximum=0.12162140035819871, name='A', latex_label='A', unit=None, boundary=None)\n",
      "14:54 bilby INFO    :   beta = Uniform(minimum=-4, maximum=2, name='beta', latex_label='beta', unit=None, boundary=None)\n",
      "14:54 bilby INFO    :   wave0 = 11133.946887140852\n",
      "14:54 bilby INFO    : Single likelihood evaluation took 3.452e-05 s\n"
     ]
    },
    {
     "data": {
      "application/vnd.jupyter.widget-view+json": {
       "model_id": "4f68207fc82e416c9d30e756fec6857b",
       "version_major": 2,
       "version_minor": 0
      },
      "text/plain": [
       "0it [00:00, ?it/s]"
      ]
     },
     "metadata": {},
     "output_type": "display_data"
    },
    {
     "name": "stderr",
     "output_type": "stream",
     "text": [
      "14:54 bilby INFO    : Checkpoint every check_point_delta_t = 600s\n",
      "14:54 bilby WARNING : Using cached result\n",
      "14:54 bilby INFO    : Summary of results:\n",
      "nsamples: 2709\n",
      "ln_noise_evidence:    nan\n",
      "ln_evidence: 283.192 +/-  0.273\n",
      "ln_bayes_factor:    nan +/-  0.273\n",
      "\n",
      "/Users/myue/Research/Projects/JWST/dependencies/msa_spec_utils/LAE_spec_utils.py:426: RuntimeWarning: divide by zero encountered in power\n",
      "  self.err_fnu = (self.ivar_fnu)**-0.5\n",
      "/Users/myue/Research/Projects/JWST/dependencies/msa_spec_utils/LAE_spec_utils.py:432: RuntimeWarning: invalid value encountered in divide\n",
      "  self.flam = self.fnu * speed_of_light_angstrom / (self.wave)**2 * 1e-29 * 1e18\n",
      "/Users/myue/Research/Projects/JWST/dependencies/msa_spec_utils/LAE_spec_utils.py:433: RuntimeWarning: divide by zero encountered in divide\n",
      "  self.err_flam = self.err_fnu * (speed_of_light_angstrom / (self.wave)**2 * 1e-29 * 1e18)\n",
      "14:54 bilby INFO    : Running for label '4713_13753', output will be saved to './bilby_fit_civ_pypeit_v1/'\n",
      "14:54 bilby INFO    : Search parameters:\n",
      "14:54 bilby INFO    :   center = Uniform(minimum=11100.178111432055, maximum=11144.66780326144, name='center', latex_label='center', unit=None, boundary=None)\n",
      "14:54 bilby INFO    :   fwhm = Uniform(minimum=300, maximum=1000, name='fwhm', latex_label='fwhm', unit=None, boundary=None)\n",
      "14:54 bilby INFO    :   flux = Uniform(minimum=-12.153898220116488, maximum=12.153898220116488, name='flux', latex_label='flux', unit=None, boundary=None)\n",
      "14:54 bilby INFO    :   A = Uniform(minimum=-0.06159825603635128, maximum=0.12319651207270256, name='A', latex_label='A', unit=None, boundary=None)\n",
      "14:54 bilby INFO    :   beta = Uniform(minimum=-4, maximum=2, name='beta', latex_label='beta', unit=None, boundary=None)\n",
      "14:54 bilby INFO    :   wave0 = 11122.422957346747\n",
      "14:54 bilby INFO    : Single likelihood evaluation took 3.942e-05 s\n"
     ]
    },
    {
     "data": {
      "application/vnd.jupyter.widget-view+json": {
       "model_id": "da39942c8a0d4dc3997d538fc3fee314",
       "version_major": 2,
       "version_minor": 0
      },
      "text/plain": [
       "0it [00:00, ?it/s]"
      ]
     },
     "metadata": {},
     "output_type": "display_data"
    },
    {
     "name": "stderr",
     "output_type": "stream",
     "text": [
      "14:54 bilby INFO    : Checkpoint every check_point_delta_t = 600s\n",
      "14:54 bilby WARNING : Using cached result\n",
      "14:54 bilby INFO    : Summary of results:\n",
      "nsamples: 2388\n",
      "ln_noise_evidence:    nan\n",
      "ln_evidence: 311.967 +/-  0.268\n",
      "ln_bayes_factor:    nan +/-  0.268\n",
      "\n",
      "/Users/myue/Research/Projects/JWST/dependencies/msa_spec_utils/LAE_spec_utils.py:426: RuntimeWarning: divide by zero encountered in power\n",
      "  self.err_fnu = (self.ivar_fnu)**-0.5\n",
      "/Users/myue/Research/Projects/JWST/dependencies/msa_spec_utils/LAE_spec_utils.py:432: RuntimeWarning: invalid value encountered in divide\n",
      "  self.flam = self.fnu * speed_of_light_angstrom / (self.wave)**2 * 1e-29 * 1e18\n",
      "/Users/myue/Research/Projects/JWST/dependencies/msa_spec_utils/LAE_spec_utils.py:433: RuntimeWarning: divide by zero encountered in divide\n",
      "  self.err_flam = self.err_fnu * (speed_of_light_angstrom / (self.wave)**2 * 1e-29 * 1e18)\n",
      "14:54 bilby INFO    : Running for label '4713_13864', output will be saved to './bilby_fit_civ_pypeit_v1/'\n",
      "14:54 bilby INFO    : Search parameters:\n",
      "14:54 bilby INFO    :   center = Uniform(minimum=11248.370695601068, maximum=11293.454345683636, name='center', latex_label='center', unit=None, boundary=None)\n",
      "14:54 bilby INFO    :   fwhm = Uniform(minimum=300, maximum=1000, name='fwhm', latex_label='fwhm', unit=None, boundary=None)\n",
      "14:54 bilby INFO    :   flux = Uniform(minimum=-6.942626425536118, maximum=6.942626425536118, name='flux', latex_label='flux', unit=None, boundary=None)\n",
      "14:54 bilby INFO    :   A = Uniform(minimum=-0.034722976441514924, maximum=0.06944595288302985, name='A', latex_label='A', unit=None, boundary=None)\n",
      "14:54 bilby INFO    :   beta = Uniform(minimum=-4, maximum=2, name='beta', latex_label='beta', unit=None, boundary=None)\n",
      "14:54 bilby INFO    :   wave0 = 11270.912520642352\n",
      "14:54 bilby INFO    : Single likelihood evaluation took 3.496e-05 s\n"
     ]
    },
    {
     "data": {
      "application/vnd.jupyter.widget-view+json": {
       "model_id": "0f1445465b1a47be860ef902a9bca3de",
       "version_major": 2,
       "version_minor": 0
      },
      "text/plain": [
       "0it [00:00, ?it/s]"
      ]
     },
     "metadata": {},
     "output_type": "display_data"
    },
    {
     "name": "stderr",
     "output_type": "stream",
     "text": [
      "14:54 bilby INFO    : Checkpoint every check_point_delta_t = 600s\n",
      "14:54 bilby WARNING : Using cached result\n",
      "14:54 bilby INFO    : Summary of results:\n",
      "nsamples: 2204\n",
      "ln_noise_evidence:    nan\n",
      "ln_evidence: 329.305 +/-  0.248\n",
      "ln_bayes_factor:    nan +/-  0.248\n",
      "\n",
      "/Users/myue/Research/Projects/JWST/dependencies/msa_spec_utils/LAE_spec_utils.py:426: RuntimeWarning: divide by zero encountered in power\n",
      "  self.err_fnu = (self.ivar_fnu)**-0.5\n",
      "/Users/myue/Research/Projects/JWST/dependencies/msa_spec_utils/LAE_spec_utils.py:432: RuntimeWarning: invalid value encountered in divide\n",
      "  self.flam = self.fnu * speed_of_light_angstrom / (self.wave)**2 * 1e-29 * 1e18\n",
      "/Users/myue/Research/Projects/JWST/dependencies/msa_spec_utils/LAE_spec_utils.py:433: RuntimeWarning: divide by zero encountered in divide\n",
      "  self.err_flam = self.err_fnu * (speed_of_light_angstrom / (self.wave)**2 * 1e-29 * 1e18)\n",
      "14:54 bilby INFO    : Running for label '4713_15437', output will be saved to './bilby_fit_civ_pypeit_v1/'\n",
      "14:54 bilby INFO    : Search parameters:\n",
      "14:54 bilby INFO    :   center = Uniform(minimum=12008.38638407024, maximum=12056.516189216814, name='center', latex_label='center', unit=None, boundary=None)\n",
      "14:54 bilby INFO    :   fwhm = Uniform(minimum=300, maximum=1000, name='fwhm', latex_label='fwhm', unit=None, boundary=None)\n",
      "14:54 bilby INFO    :   flux = Uniform(minimum=-9.088026481586143, maximum=9.088026481586143, name='flux', latex_label='flux', unit=None, boundary=None)\n",
      "14:54 bilby INFO    :   A = Uniform(minimum=-0.04257627863642525, maximum=0.0851525572728505, name='A', latex_label='A', unit=None, boundary=None)\n",
      "14:54 bilby INFO    :   beta = Uniform(minimum=-4, maximum=2, name='beta', latex_label='beta', unit=None, boundary=None)\n",
      "14:54 bilby INFO    :   wave0 = 12032.451286643527\n",
      "14:54 bilby INFO    : Single likelihood evaluation took 4.126e-05 s\n"
     ]
    },
    {
     "name": "stdout",
     "output_type": "stream",
     "text": [
      "4713_15162\n"
     ]
    },
    {
     "data": {
      "application/vnd.jupyter.widget-view+json": {
       "model_id": "f621cc6f85f94860a900890aa832234a",
       "version_major": 2,
       "version_minor": 0
      },
      "text/plain": [
       "0it [00:00, ?it/s]"
      ]
     },
     "metadata": {},
     "output_type": "display_data"
    },
    {
     "name": "stderr",
     "output_type": "stream",
     "text": [
      "14:54 bilby INFO    : Checkpoint every check_point_delta_t = 600s\n",
      "14:54 bilby WARNING : Using cached result\n",
      "14:54 bilby INFO    : Summary of results:\n",
      "nsamples: 2345\n",
      "ln_noise_evidence:    nan\n",
      "ln_evidence: 323.622 +/-  0.263\n",
      "ln_bayes_factor:    nan +/-  0.263\n",
      "\n",
      "/Users/myue/Research/Projects/JWST/dependencies/msa_spec_utils/LAE_spec_utils.py:426: RuntimeWarning: divide by zero encountered in power\n",
      "  self.err_fnu = (self.ivar_fnu)**-0.5\n",
      "/Users/myue/Research/Projects/JWST/dependencies/msa_spec_utils/LAE_spec_utils.py:432: RuntimeWarning: invalid value encountered in divide\n",
      "  self.flam = self.fnu * speed_of_light_angstrom / (self.wave)**2 * 1e-29 * 1e18\n",
      "/Users/myue/Research/Projects/JWST/dependencies/msa_spec_utils/LAE_spec_utils.py:433: RuntimeWarning: divide by zero encountered in divide\n",
      "  self.err_flam = self.err_fnu * (speed_of_light_angstrom / (self.wave)**2 * 1e-29 * 1e18)\n",
      "14:54 bilby INFO    : Running for label '4713_15612', output will be saved to './bilby_fit_civ_pypeit_v1/'\n",
      "14:54 bilby INFO    : Search parameters:\n",
      "14:54 bilby INFO    :   center = Uniform(minimum=12002.191294095759, maximum=12050.296269222395, name='center', latex_label='center', unit=None, boundary=None)\n",
      "14:54 bilby INFO    :   fwhm = Uniform(minimum=300, maximum=1000, name='fwhm', latex_label='fwhm', unit=None, boundary=None)\n",
      "14:54 bilby INFO    :   flux = Uniform(minimum=-8.87506883862695, maximum=8.87506883862695, name='flux', latex_label='flux', unit=None, boundary=None)\n",
      "14:54 bilby INFO    :   A = Uniform(minimum=-0.04160005979529201, maximum=0.08320011959058402, name='A', latex_label='A', unit=None, boundary=None)\n",
      "14:54 bilby INFO    :   beta = Uniform(minimum=-4, maximum=2, name='beta', latex_label='beta', unit=None, boundary=None)\n",
      "14:54 bilby INFO    :   wave0 = 12026.243781659077\n",
      "14:54 bilby INFO    : Single likelihood evaluation took 3.306e-05 s\n"
     ]
    },
    {
     "data": {
      "application/vnd.jupyter.widget-view+json": {
       "model_id": "d83a9bb30bef41ea93b791ed168a9b97",
       "version_major": 2,
       "version_minor": 0
      },
      "text/plain": [
       "0it [00:00, ?it/s]"
      ]
     },
     "metadata": {},
     "output_type": "display_data"
    },
    {
     "name": "stderr",
     "output_type": "stream",
     "text": [
      "14:54 bilby INFO    : Checkpoint every check_point_delta_t = 600s\n",
      "14:54 bilby WARNING : Using cached result\n",
      "14:54 bilby INFO    : Summary of results:\n",
      "nsamples: 2591\n",
      "ln_noise_evidence:    nan\n",
      "ln_evidence: 196.726 +/-  0.278\n",
      "ln_bayes_factor:    nan +/-  0.278\n",
      "\n",
      "/Users/myue/Research/Projects/JWST/dependencies/msa_spec_utils/LAE_spec_utils.py:426: RuntimeWarning: divide by zero encountered in power\n",
      "  self.err_fnu = (self.ivar_fnu)**-0.5\n",
      "/Users/myue/Research/Projects/JWST/dependencies/msa_spec_utils/LAE_spec_utils.py:432: RuntimeWarning: invalid value encountered in divide\n",
      "  self.flam = self.fnu * speed_of_light_angstrom / (self.wave)**2 * 1e-29 * 1e18\n",
      "/Users/myue/Research/Projects/JWST/dependencies/msa_spec_utils/LAE_spec_utils.py:433: RuntimeWarning: divide by zero encountered in divide\n",
      "  self.err_flam = self.err_fnu * (speed_of_light_angstrom / (self.wave)**2 * 1e-29 * 1e18)\n",
      "14:54 bilby INFO    : Running for label '4713_15627', output will be saved to './bilby_fit_civ_pypeit_v1/'\n",
      "14:54 bilby INFO    : Search parameters:\n",
      "14:54 bilby INFO    :   center = Uniform(minimum=11136.727755409363, maximum=11181.363938797778, name='center', latex_label='center', unit=None, boundary=None)\n",
      "14:54 bilby INFO    :   fwhm = Uniform(minimum=300, maximum=1000, name='fwhm', latex_label='fwhm', unit=None, boundary=None)\n",
      "14:54 bilby INFO    :   flux = Uniform(minimum=-5.758444006447774, maximum=5.758444006447774, name='flux', latex_label='flux', unit=None, boundary=None)\n",
      "14:54 bilby INFO    :   A = Uniform(minimum=-0.03089743739904617, maximum=0.06179487479809234, name='A', latex_label='A', unit=None, boundary=None)\n",
      "14:54 bilby INFO    :   beta = Uniform(minimum=-4, maximum=2, name='beta', latex_label='beta', unit=None, boundary=None)\n",
      "14:54 bilby INFO    :   wave0 = 11159.04584710357\n",
      "14:54 bilby INFO    : Single likelihood evaluation took 3.835e-05 s\n"
     ]
    },
    {
     "data": {
      "application/vnd.jupyter.widget-view+json": {
       "model_id": "60d44949163b46c1b7d791f6ab458c0a",
       "version_major": 2,
       "version_minor": 0
      },
      "text/plain": [
       "0it [00:00, ?it/s]"
      ]
     },
     "metadata": {},
     "output_type": "display_data"
    },
    {
     "name": "stderr",
     "output_type": "stream",
     "text": [
      "14:54 bilby INFO    : Checkpoint every check_point_delta_t = 600s\n",
      "14:54 bilby WARNING : Using cached result\n",
      "14:54 bilby INFO    : Summary of results:\n",
      "nsamples: 2329\n",
      "ln_noise_evidence:    nan\n",
      "ln_evidence: 185.517 +/-  0.259\n",
      "ln_bayes_factor:    nan +/-  0.259\n",
      "\n",
      "/Users/myue/Research/Projects/JWST/dependencies/msa_spec_utils/LAE_spec_utils.py:426: RuntimeWarning: divide by zero encountered in power\n",
      "  self.err_fnu = (self.ivar_fnu)**-0.5\n",
      "/Users/myue/Research/Projects/JWST/dependencies/msa_spec_utils/LAE_spec_utils.py:432: RuntimeWarning: invalid value encountered in divide\n",
      "  self.flam = self.fnu * speed_of_light_angstrom / (self.wave)**2 * 1e-29 * 1e18\n",
      "/Users/myue/Research/Projects/JWST/dependencies/msa_spec_utils/LAE_spec_utils.py:433: RuntimeWarning: divide by zero encountered in divide\n",
      "  self.err_flam = self.err_fnu * (speed_of_light_angstrom / (self.wave)**2 * 1e-29 * 1e18)\n",
      "14:54 bilby INFO    : Running for label '4713_16184', output will be saved to './bilby_fit_civ_pypeit_v1/'\n",
      "14:54 bilby INFO    : Search parameters:\n",
      "14:54 bilby INFO    :   center = Uniform(minimum=10464.227458110698, maximum=10506.16824952597, name='center', latex_label='center', unit=None, boundary=None)\n",
      "14:54 bilby INFO    :   fwhm = Uniform(minimum=300, maximum=1000, name='fwhm', latex_label='fwhm', unit=None, boundary=None)\n",
      "14:54 bilby INFO    :   flux = Uniform(minimum=-10.272624168405109, maximum=10.272624168405109, name='flux', latex_label='flux', unit=None, boundary=None)\n",
      "14:54 bilby INFO    :   A = Uniform(minimum=-0.06638438957073448, maximum=0.13276877914146895, name='A', latex_label='A', unit=None, boundary=None)\n",
      "14:54 bilby INFO    :   beta = Uniform(minimum=-4, maximum=2, name='beta', latex_label='beta', unit=None, boundary=None)\n",
      "14:54 bilby INFO    :   wave0 = 10485.197853818334\n",
      "14:54 bilby INFO    : Single likelihood evaluation took 3.443e-05 s\n"
     ]
    },
    {
     "data": {
      "application/vnd.jupyter.widget-view+json": {
       "model_id": "e1918061e5734d12956adcc380727ef6",
       "version_major": 2,
       "version_minor": 0
      },
      "text/plain": [
       "0it [00:00, ?it/s]"
      ]
     },
     "metadata": {},
     "output_type": "display_data"
    },
    {
     "name": "stderr",
     "output_type": "stream",
     "text": [
      "14:54 bilby INFO    : Checkpoint every check_point_delta_t = 600s\n",
      "14:54 bilby WARNING : Using cached result\n",
      "14:54 bilby INFO    : Summary of results:\n",
      "nsamples: 2273\n",
      "ln_noise_evidence:    nan\n",
      "ln_evidence: 251.191 +/-  0.246\n",
      "ln_bayes_factor:    nan +/-  0.246\n",
      "\n",
      "/Users/myue/Research/Projects/JWST/dependencies/msa_spec_utils/LAE_spec_utils.py:426: RuntimeWarning: divide by zero encountered in power\n",
      "  self.err_fnu = (self.ivar_fnu)**-0.5\n",
      "/Users/myue/Research/Projects/JWST/dependencies/msa_spec_utils/LAE_spec_utils.py:432: RuntimeWarning: invalid value encountered in divide\n",
      "  self.flam = self.fnu * speed_of_light_angstrom / (self.wave)**2 * 1e-29 * 1e18\n",
      "/Users/myue/Research/Projects/JWST/dependencies/msa_spec_utils/LAE_spec_utils.py:433: RuntimeWarning: divide by zero encountered in divide\n",
      "  self.err_flam = self.err_fnu * (speed_of_light_angstrom / (self.wave)**2 * 1e-29 * 1e18)\n",
      "14:54 bilby INFO    : Running for label '4713_16322', output will be saved to './bilby_fit_civ_pypeit_v1/'\n",
      "14:54 bilby INFO    : Search parameters:\n",
      "14:54 bilby INFO    :   center = Uniform(minimum=11320.695045732913, maximum=11366.06857297032, name='center', latex_label='center', unit=None, boundary=None)\n",
      "14:54 bilby INFO    :   fwhm = Uniform(minimum=300, maximum=1000, name='fwhm', latex_label='fwhm', unit=None, boundary=None)\n",
      "14:54 bilby INFO    :   flux = Uniform(minimum=-8.751759024924649, maximum=8.751759024924649, name='flux', latex_label='flux', unit=None, boundary=None)\n",
      "14:54 bilby INFO    :   A = Uniform(minimum=-0.04349156428084834, maximum=0.08698312856169668, name='A', latex_label='A', unit=None, boundary=None)\n",
      "14:54 bilby INFO    :   beta = Uniform(minimum=-4, maximum=2, name='beta', latex_label='beta', unit=None, boundary=None)\n",
      "14:54 bilby INFO    :   wave0 = 11343.381809351617\n",
      "14:54 bilby INFO    : Single likelihood evaluation took 3.867e-05 s\n"
     ]
    },
    {
     "data": {
      "application/vnd.jupyter.widget-view+json": {
       "model_id": "13b83ff43efd47239a02b1e6baa0cd2a",
       "version_major": 2,
       "version_minor": 0
      },
      "text/plain": [
       "0it [00:00, ?it/s]"
      ]
     },
     "metadata": {},
     "output_type": "display_data"
    },
    {
     "name": "stderr",
     "output_type": "stream",
     "text": [
      "14:54 bilby INFO    : Checkpoint every check_point_delta_t = 600s\n",
      "14:54 bilby WARNING : Using cached result\n",
      "14:54 bilby INFO    : Summary of results:\n",
      "nsamples: 2470\n",
      "ln_noise_evidence:    nan\n",
      "ln_evidence: 244.128 +/-  0.263\n",
      "ln_bayes_factor:    nan +/-  0.263\n",
      "\n",
      "/Users/myue/Research/Projects/JWST/dependencies/msa_spec_utils/LAE_spec_utils.py:426: RuntimeWarning: divide by zero encountered in power\n",
      "  self.err_fnu = (self.ivar_fnu)**-0.5\n",
      "/Users/myue/Research/Projects/JWST/dependencies/msa_spec_utils/LAE_spec_utils.py:432: RuntimeWarning: invalid value encountered in divide\n",
      "  self.flam = self.fnu * speed_of_light_angstrom / (self.wave)**2 * 1e-29 * 1e18\n",
      "/Users/myue/Research/Projects/JWST/dependencies/msa_spec_utils/LAE_spec_utils.py:433: RuntimeWarning: divide by zero encountered in divide\n",
      "  self.err_flam = self.err_fnu * (speed_of_light_angstrom / (self.wave)**2 * 1e-29 * 1e18)\n",
      "14:54 bilby INFO    : Running for label '4713_16479', output will be saved to './bilby_fit_civ_pypeit_v1/'\n",
      "14:54 bilby INFO    : Search parameters:\n",
      "14:54 bilby INFO    :   center = Uniform(minimum=11337.285003457579, maximum=11382.725023511517, name='center', latex_label='center', unit=None, boundary=None)\n",
      "14:54 bilby INFO    :   fwhm = Uniform(minimum=300, maximum=1000, name='fwhm', latex_label='fwhm', unit=None, boundary=None)\n",
      "14:54 bilby INFO    :   flux = Uniform(minimum=-14.577872599438743, maximum=14.577872599438743, name='flux', latex_label='flux', unit=None, boundary=None)\n",
      "14:54 bilby INFO    :   A = Uniform(minimum=-0.07233822617466026, maximum=0.14467645234932053, name='A', latex_label='A', unit=None, boundary=None)\n",
      "14:54 bilby INFO    :   beta = Uniform(minimum=-4, maximum=2, name='beta', latex_label='beta', unit=None, boundary=None)\n",
      "14:54 bilby INFO    :   wave0 = 11360.005013484548\n",
      "14:54 bilby INFO    : Single likelihood evaluation took 3.275e-05 s\n"
     ]
    },
    {
     "data": {
      "application/vnd.jupyter.widget-view+json": {
       "model_id": "0b086c3dded2423797d1eeb0ac709de3",
       "version_major": 2,
       "version_minor": 0
      },
      "text/plain": [
       "0it [00:00, ?it/s]"
      ]
     },
     "metadata": {},
     "output_type": "display_data"
    },
    {
     "name": "stderr",
     "output_type": "stream",
     "text": [
      "14:54 bilby INFO    : Checkpoint every check_point_delta_t = 600s\n",
      "14:54 bilby WARNING : Using cached result\n",
      "14:54 bilby INFO    : Summary of results:\n",
      "nsamples: 3291\n",
      "ln_noise_evidence:    nan\n",
      "ln_evidence: 292.538 +/-  0.316\n",
      "ln_bayes_factor:    nan +/-  0.316\n",
      "\n",
      "/Users/myue/Research/Projects/JWST/dependencies/msa_spec_utils/LAE_spec_utils.py:426: RuntimeWarning: divide by zero encountered in power\n",
      "  self.err_fnu = (self.ivar_fnu)**-0.5\n",
      "/Users/myue/Research/Projects/JWST/dependencies/msa_spec_utils/LAE_spec_utils.py:432: RuntimeWarning: invalid value encountered in divide\n",
      "  self.flam = self.fnu * speed_of_light_angstrom / (self.wave)**2 * 1e-29 * 1e18\n",
      "/Users/myue/Research/Projects/JWST/dependencies/msa_spec_utils/LAE_spec_utils.py:433: RuntimeWarning: divide by zero encountered in divide\n",
      "  self.err_flam = self.err_fnu * (speed_of_light_angstrom / (self.wave)**2 * 1e-29 * 1e18)\n",
      "14:54 bilby INFO    : Running for label '4713_16759', output will be saved to './bilby_fit_civ_pypeit_v1/'\n",
      "14:54 bilby INFO    : Search parameters:\n",
      "14:54 bilby INFO    :   center = Uniform(minimum=11406.384354774236, maximum=11452.101326136057, name='center', latex_label='center', unit=None, boundary=None)\n",
      "14:54 bilby INFO    :   fwhm = Uniform(minimum=300, maximum=1000, name='fwhm', latex_label='fwhm', unit=None, boundary=None)\n",
      "14:54 bilby INFO    :   flux = Uniform(minimum=-10.180815021789769, maximum=10.180815021789769, name='flux', latex_label='flux', unit=None, boundary=None)\n",
      "14:54 bilby INFO    :   A = Uniform(minimum=-0.050213132348314087, maximum=0.10042626469662817, name='A', latex_label='A', unit=None, boundary=None)\n",
      "14:54 bilby INFO    :   beta = Uniform(minimum=-4, maximum=2, name='beta', latex_label='beta', unit=None, boundary=None)\n",
      "14:54 bilby INFO    :   wave0 = 11429.242840455147\n",
      "14:54 bilby INFO    : Single likelihood evaluation took 4.110e-05 s\n"
     ]
    },
    {
     "data": {
      "application/vnd.jupyter.widget-view+json": {
       "model_id": "9fbfb18ced2647f9a8c3673d9b286996",
       "version_major": 2,
       "version_minor": 0
      },
      "text/plain": [
       "0it [00:00, ?it/s]"
      ]
     },
     "metadata": {},
     "output_type": "display_data"
    },
    {
     "name": "stderr",
     "output_type": "stream",
     "text": [
      "14:54 bilby INFO    : Checkpoint every check_point_delta_t = 600s\n",
      "14:54 bilby WARNING : Using cached result\n",
      "14:54 bilby INFO    : Summary of results:\n",
      "nsamples: 2566\n",
      "ln_noise_evidence:    nan\n",
      "ln_evidence: 323.466 +/-  0.277\n",
      "ln_bayes_factor:    nan +/-  0.277\n",
      "\n",
      "/Users/myue/Research/Projects/JWST/dependencies/msa_spec_utils/LAE_spec_utils.py:426: RuntimeWarning: divide by zero encountered in power\n",
      "  self.err_fnu = (self.ivar_fnu)**-0.5\n",
      "/Users/myue/Research/Projects/JWST/dependencies/msa_spec_utils/LAE_spec_utils.py:432: RuntimeWarning: invalid value encountered in divide\n",
      "  self.flam = self.fnu * speed_of_light_angstrom / (self.wave)**2 * 1e-29 * 1e18\n",
      "/Users/myue/Research/Projects/JWST/dependencies/msa_spec_utils/LAE_spec_utils.py:433: RuntimeWarning: divide by zero encountered in divide\n",
      "  self.err_flam = self.err_fnu * (speed_of_light_angstrom / (self.wave)**2 * 1e-29 * 1e18)\n",
      "14:54 bilby INFO    : Running for label '4713_17352', output will be saved to './bilby_fit_civ_pypeit_v1/'\n",
      "14:54 bilby INFO    : Search parameters:\n",
      "14:54 bilby INFO    :   center = Uniform(minimum=11106.12900673014, maximum=11150.642549843285, name='center', latex_label='center', unit=None, boundary=None)\n",
      "14:54 bilby INFO    :   fwhm = Uniform(minimum=300, maximum=1000, name='fwhm', latex_label='fwhm', unit=None, boundary=None)\n",
      "14:54 bilby INFO    :   flux = Uniform(minimum=-9.078213330985642, maximum=9.078213330985642, name='flux', latex_label='flux', unit=None, boundary=None)\n",
      "14:54 bilby INFO    :   A = Uniform(minimum=-0.04857043440849169, maximum=0.09714086881698338, name='A', latex_label='A', unit=None, boundary=None)\n",
      "14:54 bilby INFO    :   beta = Uniform(minimum=-4, maximum=2, name='beta', latex_label='beta', unit=None, boundary=None)\n",
      "14:54 bilby INFO    :   wave0 = 11128.385778286713\n",
      "14:54 bilby INFO    : Single likelihood evaluation took 3.849e-05 s\n"
     ]
    },
    {
     "data": {
      "application/vnd.jupyter.widget-view+json": {
       "model_id": "c001c55225ba4f9fae667b828257bc2c",
       "version_major": 2,
       "version_minor": 0
      },
      "text/plain": [
       "0it [00:00, ?it/s]"
      ]
     },
     "metadata": {},
     "output_type": "display_data"
    },
    {
     "name": "stderr",
     "output_type": "stream",
     "text": [
      "14:54 bilby INFO    : Checkpoint every check_point_delta_t = 600s\n",
      "14:54 bilby WARNING : Using cached result\n",
      "14:54 bilby INFO    : Summary of results:\n",
      "nsamples: 2251\n",
      "ln_noise_evidence:    nan\n",
      "ln_evidence: 286.181 +/-  0.253\n",
      "ln_bayes_factor:    nan +/-  0.253\n",
      "\n",
      "14:54 bilby INFO    : Running for label '4713_17385', output will be saved to './bilby_fit_civ_pypeit_v1/'\n",
      "14:54 bilby INFO    : Search parameters:\n",
      "14:54 bilby INFO    :   center = Uniform(minimum=12012.672763305729, maximum=12060.819748328997, name='center', latex_label='center', unit=None, boundary=None)\n",
      "14:54 bilby INFO    :   fwhm = Uniform(minimum=300, maximum=1000, name='fwhm', latex_label='fwhm', unit=None, boundary=None)\n",
      "14:54 bilby INFO    :   flux = Uniform(minimum=-10.726197270793085, maximum=10.726197270793085, name='flux', latex_label='flux', unit=None, boundary=None)\n",
      "14:54 bilby INFO    :   A = Uniform(minimum=-0.050232975317661986, maximum=0.10046595063532397, name='A', latex_label='A', unit=None, boundary=None)\n",
      "14:54 bilby INFO    :   beta = Uniform(minimum=-4, maximum=2, name='beta', latex_label='beta', unit=None, boundary=None)\n",
      "14:54 bilby INFO    :   wave0 = 12036.746255817363\n",
      "14:54 bilby INFO    : Single likelihood evaluation took 4.120e-05 s\n"
     ]
    },
    {
     "data": {
      "application/vnd.jupyter.widget-view+json": {
       "model_id": "4816ffbef63c4640adfa092a8b7e30cc",
       "version_major": 2,
       "version_minor": 0
      },
      "text/plain": [
       "0it [00:00, ?it/s]"
      ]
     },
     "metadata": {},
     "output_type": "display_data"
    },
    {
     "name": "stderr",
     "output_type": "stream",
     "text": [
      "14:54 bilby INFO    : Checkpoint every check_point_delta_t = 600s\n",
      "14:54 bilby WARNING : Using cached result\n",
      "14:54 bilby INFO    : Summary of results:\n",
      "nsamples: 3039\n",
      "ln_noise_evidence:    nan\n",
      "ln_evidence: 400.148 +/-  0.311\n",
      "ln_bayes_factor:    nan +/-  0.311\n",
      "\n",
      "/Users/myue/Research/Projects/JWST/dependencies/msa_spec_utils/LAE_spec_utils.py:426: RuntimeWarning: divide by zero encountered in power\n",
      "  self.err_fnu = (self.ivar_fnu)**-0.5\n",
      "/Users/myue/Research/Projects/JWST/dependencies/msa_spec_utils/LAE_spec_utils.py:432: RuntimeWarning: invalid value encountered in divide\n",
      "  self.flam = self.fnu * speed_of_light_angstrom / (self.wave)**2 * 1e-29 * 1e18\n",
      "/Users/myue/Research/Projects/JWST/dependencies/msa_spec_utils/LAE_spec_utils.py:433: RuntimeWarning: divide by zero encountered in divide\n",
      "  self.err_flam = self.err_fnu * (speed_of_light_angstrom / (self.wave)**2 * 1e-29 * 1e18)\n",
      "14:54 bilby INFO    : Running for label '4713_17492', output will be saved to './bilby_fit_civ_pypeit_v1/'\n",
      "14:54 bilby INFO    : Search parameters:\n",
      "14:54 bilby INFO    :   center = Uniform(minimum=11946.318400436516, maximum=11994.19943610961, name='center', latex_label='center', unit=None, boundary=None)\n",
      "14:54 bilby INFO    :   fwhm = Uniform(minimum=300, maximum=1000, name='fwhm', latex_label='fwhm', unit=None, boundary=None)\n",
      "14:54 bilby INFO    :   flux = Uniform(minimum=-7.623817169498172, maximum=7.623817169498172, name='flux', latex_label='flux', unit=None, boundary=None)\n",
      "14:54 bilby INFO    :   A = Uniform(minimum=-0.03590220778164259, maximum=0.07180441556328518, name='A', latex_label='A', unit=None, boundary=None)\n",
      "14:54 bilby INFO    :   beta = Uniform(minimum=-4, maximum=2, name='beta', latex_label='beta', unit=None, boundary=None)\n",
      "14:54 bilby INFO    :   wave0 = 11970.258918273063\n",
      "14:54 bilby INFO    : Single likelihood evaluation took 3.934e-05 s\n"
     ]
    },
    {
     "name": "stdout",
     "output_type": "stream",
     "text": [
      "4713_17435\n"
     ]
    },
    {
     "data": {
      "application/vnd.jupyter.widget-view+json": {
       "model_id": "8ca7ff736dbd42238986486d7b5ce6ae",
       "version_major": 2,
       "version_minor": 0
      },
      "text/plain": [
       "0it [00:00, ?it/s]"
      ]
     },
     "metadata": {},
     "output_type": "display_data"
    },
    {
     "name": "stderr",
     "output_type": "stream",
     "text": [
      "14:54 bilby INFO    : Checkpoint every check_point_delta_t = 600s\n",
      "14:54 bilby WARNING : Using cached result\n",
      "14:54 bilby INFO    : Summary of results:\n",
      "nsamples: 2436\n",
      "ln_noise_evidence:    nan\n",
      "ln_evidence: 375.605 +/-  0.270\n",
      "ln_bayes_factor:    nan +/-  0.270\n",
      "\n",
      "14:54 bilby INFO    : Running for label '4713_17577', output will be saved to './bilby_fit_civ_pypeit_v1/'\n",
      "14:54 bilby INFO    : Search parameters:\n",
      "14:54 bilby INFO    :   center = Uniform(minimum=12011.987465094771, maximum=12060.131703431824, name='center', latex_label='center', unit=None, boundary=None)\n",
      "14:54 bilby INFO    :   fwhm = Uniform(minimum=300, maximum=1000, name='fwhm', latex_label='fwhm', unit=None, boundary=None)\n",
      "14:54 bilby INFO    :   flux = Uniform(minimum=-13.889266312408239, maximum=13.889266312408239, name='flux', latex_label='flux', unit=None, boundary=None)\n",
      "14:54 bilby INFO    :   A = Uniform(minimum=-0.06504998545210522, maximum=0.13009997090421044, name='A', latex_label='A', unit=None, boundary=None)\n",
      "14:54 bilby INFO    :   beta = Uniform(minimum=-4, maximum=2, name='beta', latex_label='beta', unit=None, boundary=None)\n",
      "14:54 bilby INFO    :   wave0 = 12036.059584263297\n",
      "14:54 bilby INFO    : Single likelihood evaluation took 4.316e-05 s\n"
     ]
    },
    {
     "data": {
      "application/vnd.jupyter.widget-view+json": {
       "model_id": "40f0d59ce3424930ae63f51feaf1e4e0",
       "version_major": 2,
       "version_minor": 0
      },
      "text/plain": [
       "0it [00:00, ?it/s]"
      ]
     },
     "metadata": {},
     "output_type": "display_data"
    },
    {
     "name": "stderr",
     "output_type": "stream",
     "text": [
      "14:54 bilby INFO    : Checkpoint every check_point_delta_t = 600s\n",
      "14:54 bilby WARNING : Using cached result\n",
      "14:54 bilby INFO    : Summary of results:\n",
      "nsamples: 2717\n",
      "ln_noise_evidence:    nan\n",
      "ln_evidence: 310.380 +/-  0.279\n",
      "ln_bayes_factor:    nan +/-  0.279\n",
      "\n",
      "/Users/myue/Research/Projects/JWST/dependencies/msa_spec_utils/LAE_spec_utils.py:426: RuntimeWarning: divide by zero encountered in power\n",
      "  self.err_fnu = (self.ivar_fnu)**-0.5\n",
      "/Users/myue/Research/Projects/JWST/dependencies/msa_spec_utils/LAE_spec_utils.py:432: RuntimeWarning: invalid value encountered in divide\n",
      "  self.flam = self.fnu * speed_of_light_angstrom / (self.wave)**2 * 1e-29 * 1e18\n",
      "/Users/myue/Research/Projects/JWST/dependencies/msa_spec_utils/LAE_spec_utils.py:433: RuntimeWarning: divide by zero encountered in divide\n",
      "  self.err_flam = self.err_fnu * (speed_of_light_angstrom / (self.wave)**2 * 1e-29 * 1e18)\n",
      "14:54 bilby INFO    : Running for label '4713_18061', output will be saved to './bilby_fit_civ_pypeit_v1/'\n",
      "14:54 bilby INFO    : Search parameters:\n",
      "14:54 bilby INFO    :   center = Uniform(minimum=11332.903588974339, maximum=11378.326048248786, name='center', latex_label='center', unit=None, boundary=None)\n",
      "14:54 bilby INFO    :   fwhm = Uniform(minimum=300, maximum=1000, name='fwhm', latex_label='fwhm', unit=None, boundary=None)\n",
      "14:54 bilby INFO    :   flux = Uniform(minimum=-9.584119857015093, maximum=9.584119857015093, name='flux', latex_label='flux', unit=None, boundary=None)\n",
      "14:54 bilby INFO    :   A = Uniform(minimum=-0.047576644756486264, maximum=0.09515328951297253, name='A', latex_label='A', unit=None, boundary=None)\n",
      "14:54 bilby INFO    :   beta = Uniform(minimum=-4, maximum=2, name='beta', latex_label='beta', unit=None, boundary=None)\n",
      "14:54 bilby INFO    :   wave0 = 11355.614818611562\n",
      "14:54 bilby INFO    : Single likelihood evaluation took 4.093e-05 s\n"
     ]
    },
    {
     "name": "stdout",
     "output_type": "stream",
     "text": [
      "4713_18057\n"
     ]
    },
    {
     "data": {
      "application/vnd.jupyter.widget-view+json": {
       "model_id": "4fefe8e22c3440688d7bd63930ef4c1a",
       "version_major": 2,
       "version_minor": 0
      },
      "text/plain": [
       "0it [00:00, ?it/s]"
      ]
     },
     "metadata": {},
     "output_type": "display_data"
    },
    {
     "name": "stderr",
     "output_type": "stream",
     "text": [
      "14:54 bilby INFO    : Checkpoint every check_point_delta_t = 600s\n",
      "14:54 bilby WARNING : Using cached result\n",
      "14:54 bilby INFO    : Summary of results:\n",
      "nsamples: 2622\n",
      "ln_noise_evidence:    nan\n",
      "ln_evidence: 340.248 +/-  0.275\n",
      "ln_bayes_factor:    nan +/-  0.275\n",
      "\n",
      "/Users/myue/Research/Projects/JWST/dependencies/msa_spec_utils/LAE_spec_utils.py:426: RuntimeWarning: divide by zero encountered in power\n",
      "  self.err_fnu = (self.ivar_fnu)**-0.5\n",
      "/Users/myue/Research/Projects/JWST/dependencies/msa_spec_utils/LAE_spec_utils.py:432: RuntimeWarning: invalid value encountered in divide\n",
      "  self.flam = self.fnu * speed_of_light_angstrom / (self.wave)**2 * 1e-29 * 1e18\n",
      "/Users/myue/Research/Projects/JWST/dependencies/msa_spec_utils/LAE_spec_utils.py:433: RuntimeWarning: divide by zero encountered in divide\n",
      "  self.err_flam = self.err_fnu * (speed_of_light_angstrom / (self.wave)**2 * 1e-29 * 1e18)\n",
      "14:54 bilby INFO    : Running for label '4713_18268', output will be saved to './bilby_fit_civ_pypeit_v1/'\n",
      "14:54 bilby INFO    : Search parameters:\n",
      "14:54 bilby INFO    :   center = Uniform(minimum=11804.045375653399, maximum=11851.35617876223, name='center', latex_label='center', unit=None, boundary=None)\n",
      "14:54 bilby INFO    :   fwhm = Uniform(minimum=300, maximum=1000, name='fwhm', latex_label='fwhm', unit=None, boundary=None)\n",
      "14:54 bilby INFO    :   flux = Uniform(minimum=-11.513239990819525, maximum=11.513239990819525, name='flux', latex_label='flux', unit=None, boundary=None)\n",
      "14:54 bilby INFO    :   A = Uniform(minimum=-0.05487183149551188, maximum=0.10974366299102375, name='A', latex_label='A', unit=None, boundary=None)\n",
      "14:54 bilby INFO    :   beta = Uniform(minimum=-4, maximum=2, name='beta', latex_label='beta', unit=None, boundary=None)\n",
      "14:54 bilby INFO    :   wave0 = 11827.700777207814\n",
      "14:54 bilby INFO    : Single likelihood evaluation took 3.865e-05 s\n"
     ]
    },
    {
     "data": {
      "application/vnd.jupyter.widget-view+json": {
       "model_id": "1fa20cbb23a6467786d20aa72f8c401c",
       "version_major": 2,
       "version_minor": 0
      },
      "text/plain": [
       "0it [00:00, ?it/s]"
      ]
     },
     "metadata": {},
     "output_type": "display_data"
    },
    {
     "name": "stderr",
     "output_type": "stream",
     "text": [
      "14:54 bilby INFO    : Checkpoint every check_point_delta_t = 600s\n",
      "14:54 bilby WARNING : Using cached result\n",
      "14:54 bilby INFO    : Summary of results:\n",
      "nsamples: 2853\n",
      "ln_noise_evidence:    nan\n",
      "ln_evidence: 342.663 +/-  0.299\n",
      "ln_bayes_factor:    nan +/-  0.299\n",
      "\n"
     ]
    },
    {
     "data": {
      "image/png": "[encoded data removed]",
      "text/plain": [
       "<Figure size 640x480 with 1 Axes>"
      ]
     },
     "metadata": {},
     "output_type": "display_data"
    }
   ],
   "source": [
    "outdir_pypeit = './bilby_fit_civ_pypeit_v1/'\n",
    "selectidx_pypeit = []\n",
    "\n",
    "    \n",
    "spec1ddir = os.path.abspath(f'../pypeit-reduc/data-release-2/reduced_spec_2/')\n",
    "\n",
    "for index in range(len(LAEinfo)):\n",
    "    \n",
    "    z = LAEinfo['z_O3doublet_combined_n'][index]\n",
    "    isource = '4713_%d'%(LAEinfo['NUMBER'][index])\n",
    "\n",
    "    # find the spec1d file\n",
    "    spec1dfile = os.path.join(spec1ddir,'spec1d_%s_stack.fits'%isource)\n",
    "    if not os.path.exists(spec1dfile):\n",
    "        spec1dfile = os.path.join(spec1ddir,'manu1d_%s_stack.fits'%isource)\n",
    "\n",
    "    label = isource\n",
    "    pypeit_spec = LAE.PypeItSpecStacked(filename=spec1dfile, zO3=z, outdir=outdir_pypeit, label=label)\n",
    "\n",
    "    plot_info = dict(title=isource, bestfit='./plotfit_pypeit/bestfit_civ/%s.pdf'%isource, \\\n",
    "                    corner='./plotfit_pypeit/corner_civ/%s.pdf'%isource, restwave=1549)\n",
    "\n",
    "    try:\n",
    "        pypeit_spec.fit_civ_profile_bilby()\n",
    "        \n",
    "        pypeit_spec.plot_best_fit(plot_info, linename='civ')\n",
    "        pypeit_spec.plot_contour_fit(plot_info)\n",
    "    except LAE.LineNotCoveredError:\n",
    "        print(isource)\n",
    "        pass\n",
    "        \n"
   ]
  },
  {
   "cell_type": "code",
   "execution_count": 52,
   "id": "96b1ac04-4685-4e07-a71c-f50e67d6f085",
   "metadata": {},
   "outputs": [
    {
     "name": "stderr",
     "output_type": "stream",
     "text": [
      "/Users/myue/Research/Projects/JWST/dependencies/msa_spec_utils/LAE_spec_utils.py:426: RuntimeWarning: divide by zero encountered in power\n",
      "  self.err_fnu = (self.ivar_fnu)**-0.5\n",
      "/Users/myue/Research/Projects/JWST/dependencies/msa_spec_utils/LAE_spec_utils.py:432: RuntimeWarning: invalid value encountered in divide\n",
      "  self.flam = self.fnu * speed_of_light_angstrom / (self.wave)**2 * 1e-29 * 1e18\n",
      "/Users/myue/Research/Projects/JWST/dependencies/msa_spec_utils/LAE_spec_utils.py:433: RuntimeWarning: divide by zero encountered in divide\n",
      "  self.err_flam = self.err_fnu * (speed_of_light_angstrom / (self.wave)**2 * 1e-29 * 1e18)\n",
      "20:50 bilby INFO    : Running for label '4713_30', output will be saved to './bilby_fit_civ_pypeit_v1/'\n",
      "20:50 bilby INFO    : Search parameters:\n",
      "20:50 bilby INFO    :   center = Uniform(minimum=10734.074267730564, maximum=10777.096609484994, name='center', latex_label='center', unit=None, boundary=None)\n",
      "20:50 bilby INFO    :   fwhm = Uniform(minimum=300, maximum=1000, name='fwhm', latex_label='fwhm', unit=None, boundary=None)\n",
      "20:50 bilby INFO    :   flux = Uniform(minimum=-15.074299130500709, maximum=15.074299130500709, name='flux', latex_label='flux', unit=None, boundary=None)\n",
      "20:50 bilby INFO    :   A = Uniform(minimum=-0.07900513185289527, maximum=0.15801026370579055, name='A', latex_label='A', unit=None, boundary=None)\n",
      "20:50 bilby INFO    :   beta = Uniform(minimum=-4, maximum=2, name='beta', latex_label='beta', unit=None, boundary=None)\n",
      "20:50 bilby INFO    :   wave0 = 10755.585438607779\n",
      "20:50 bilby INFO    : Single likelihood evaluation took 6.133e-05 s\n"
     ]
    },
    {
     "data": {
      "application/vnd.jupyter.widget-view+json": {
       "model_id": "2463019efd264d9fa65afc94f88fbcb9",
       "version_major": 2,
       "version_minor": 0
      },
      "text/plain": [
       "0it [00:00, ?it/s]"
      ]
     },
     "metadata": {},
     "output_type": "display_data"
    },
    {
     "name": "stderr",
     "output_type": "stream",
     "text": [
      "20:50 bilby INFO    : Checkpoint every check_point_delta_t = 600s\n",
      "20:50 bilby WARNING : Using cached result\n",
      "20:50 bilby INFO    : Summary of results:\n",
      "nsamples: 2833\n",
      "ln_noise_evidence:    nan\n",
      "ln_evidence: 270.866 +/-  0.299\n",
      "ln_bayes_factor:    nan +/-  0.299\n",
      "\n",
      "/Users/myue/Research/Projects/JWST/dependencies/msa_spec_utils/LAE_spec_utils.py:426: RuntimeWarning: divide by zero encountered in power\n",
      "  self.err_fnu = (self.ivar_fnu)**-0.5\n",
      "/Users/myue/Research/Projects/JWST/dependencies/msa_spec_utils/LAE_spec_utils.py:432: RuntimeWarning: invalid value encountered in divide\n",
      "  self.flam = self.fnu * speed_of_light_angstrom / (self.wave)**2 * 1e-29 * 1e18\n",
      "/Users/myue/Research/Projects/JWST/dependencies/msa_spec_utils/LAE_spec_utils.py:433: RuntimeWarning: divide by zero encountered in divide\n",
      "  self.err_flam = self.err_fnu * (speed_of_light_angstrom / (self.wave)**2 * 1e-29 * 1e18)\n",
      "20:50 bilby INFO    : Running for label '4713_1228', output will be saved to './bilby_fit_civ_pypeit_v1/'\n",
      "20:50 bilby INFO    : Search parameters:\n",
      "20:50 bilby INFO    :   center = Uniform(minimum=11335.796561087665, maximum=11381.230615440722, name='center', latex_label='center', unit=None, boundary=None)\n",
      "20:50 bilby INFO    :   fwhm = Uniform(minimum=300, maximum=1000, name='fwhm', latex_label='fwhm', unit=None, boundary=None)\n",
      "20:50 bilby INFO    :   flux = Uniform(minimum=-15.76723841335765, maximum=15.76723841335765, name='flux', latex_label='flux', unit=None, boundary=None)\n",
      "20:50 bilby INFO    :   A = Uniform(minimum=-0.07825036289406583, maximum=0.15650072578813165, name='A', latex_label='A', unit=None, boundary=None)\n",
      "20:50 bilby INFO    :   beta = Uniform(minimum=-4, maximum=2, name='beta', latex_label='beta', unit=None, boundary=None)\n",
      "20:50 bilby INFO    :   wave0 = 11358.513588264193\n",
      "20:50 bilby INFO    : Single likelihood evaluation took 3.266e-05 s\n"
     ]
    },
    {
     "data": {
      "application/vnd.jupyter.widget-view+json": {
       "model_id": "068bfc80aa6a4cafad413197a86d1302",
       "version_major": 2,
       "version_minor": 0
      },
      "text/plain": [
       "0it [00:00, ?it/s]"
      ]
     },
     "metadata": {},
     "output_type": "display_data"
    },
    {
     "name": "stderr",
     "output_type": "stream",
     "text": [
      "20:50 bilby INFO    : Checkpoint every check_point_delta_t = 600s\n",
      "20:50 bilby WARNING : Using cached result\n",
      "20:50 bilby INFO    : Summary of results:\n",
      "nsamples: 2627\n",
      "ln_noise_evidence:    nan\n",
      "ln_evidence: 292.532 +/-  0.281\n",
      "ln_bayes_factor:    nan +/-  0.281\n",
      "\n",
      "/Users/myue/Research/Projects/JWST/dependencies/msa_spec_utils/LAE_spec_utils.py:426: RuntimeWarning: divide by zero encountered in power\n",
      "  self.err_fnu = (self.ivar_fnu)**-0.5\n",
      "/Users/myue/Research/Projects/JWST/dependencies/msa_spec_utils/LAE_spec_utils.py:432: RuntimeWarning: invalid value encountered in divide\n",
      "  self.flam = self.fnu * speed_of_light_angstrom / (self.wave)**2 * 1e-29 * 1e18\n",
      "/Users/myue/Research/Projects/JWST/dependencies/msa_spec_utils/LAE_spec_utils.py:433: RuntimeWarning: divide by zero encountered in divide\n",
      "  self.err_flam = self.err_fnu * (speed_of_light_angstrom / (self.wave)**2 * 1e-29 * 1e18)\n",
      "20:50 bilby INFO    : Running for label '4713_2007', output will be saved to './bilby_fit_civ_pypeit_v1/'\n",
      "20:50 bilby INFO    : Search parameters:\n",
      "20:50 bilby INFO    :   center = Uniform(minimum=12011.103312398072, maximum=12059.244007036943, name='center', latex_label='center', unit=None, boundary=None)\n",
      "20:50 bilby INFO    :   fwhm = Uniform(minimum=300, maximum=1000, name='fwhm', latex_label='fwhm', unit=None, boundary=None)\n",
      "20:50 bilby INFO    :   flux = Uniform(minimum=-9.046609012568211, maximum=9.046609012568211, name='flux', latex_label='flux', unit=None, boundary=None)\n",
      "20:50 bilby INFO    :   A = Uniform(minimum=-0.042372656000589246, maximum=0.08474531200117849, name='A', latex_label='A', unit=None, boundary=None)\n",
      "20:50 bilby INFO    :   beta = Uniform(minimum=-4, maximum=2, name='beta', latex_label='beta', unit=None, boundary=None)\n",
      "20:50 bilby INFO    :   wave0 = 12035.173659717508\n",
      "20:50 bilby INFO    : Single likelihood evaluation took 3.617e-05 s\n"
     ]
    },
    {
     "data": {
      "application/vnd.jupyter.widget-view+json": {
       "model_id": "806ea0f0e6024cf881a9814e1925e5aa",
       "version_major": 2,
       "version_minor": 0
      },
      "text/plain": [
       "0it [00:00, ?it/s]"
      ]
     },
     "metadata": {},
     "output_type": "display_data"
    },
    {
     "name": "stderr",
     "output_type": "stream",
     "text": [
      "20:50 bilby INFO    : Checkpoint every check_point_delta_t = 600s\n",
      "20:50 bilby WARNING : Using cached result\n",
      "20:50 bilby INFO    : Summary of results:\n",
      "nsamples: 2506\n",
      "ln_noise_evidence:    nan\n",
      "ln_evidence: 341.881 +/-  0.266\n",
      "ln_bayes_factor:    nan +/-  0.266\n",
      "\n",
      "/Users/myue/Research/Projects/JWST/dependencies/msa_spec_utils/LAE_spec_utils.py:426: RuntimeWarning: divide by zero encountered in power\n",
      "  self.err_fnu = (self.ivar_fnu)**-0.5\n",
      "/Users/myue/Research/Projects/JWST/dependencies/msa_spec_utils/LAE_spec_utils.py:432: RuntimeWarning: invalid value encountered in divide\n",
      "  self.flam = self.fnu * speed_of_light_angstrom / (self.wave)**2 * 1e-29 * 1e18\n",
      "/Users/myue/Research/Projects/JWST/dependencies/msa_spec_utils/LAE_spec_utils.py:433: RuntimeWarning: divide by zero encountered in divide\n",
      "  self.err_flam = self.err_fnu * (speed_of_light_angstrom / (self.wave)**2 * 1e-29 * 1e18)\n",
      "20:50 bilby INFO    : Running for label '4713_2084', output will be saved to './bilby_fit_civ_pypeit_v1/'\n",
      "20:50 bilby INFO    : Search parameters:\n",
      "20:50 bilby INFO    :   center = Uniform(minimum=12008.041788874192, maximum=12056.170212877694, name='center', latex_label='center', unit=None, boundary=None)\n",
      "20:50 bilby INFO    :   fwhm = Uniform(minimum=300, maximum=1000, name='fwhm', latex_label='fwhm', unit=None, boundary=None)\n",
      "20:50 bilby INFO    :   flux = Uniform(minimum=-7.305800895184066, maximum=7.305800895184066, name='flux', latex_label='flux', unit=None, boundary=None)\n",
      "20:50 bilby INFO    :   A = Uniform(minimum=-0.03422775467568067, maximum=0.06845550935136134, name='A', latex_label='A', unit=None, boundary=None)\n",
      "20:50 bilby INFO    :   beta = Uniform(minimum=-4, maximum=2, name='beta', latex_label='beta', unit=None, boundary=None)\n",
      "20:50 bilby INFO    :   wave0 = 12032.106000875943\n",
      "20:50 bilby INFO    : Single likelihood evaluation took 3.239e-05 s\n"
     ]
    },
    {
     "data": {
      "application/vnd.jupyter.widget-view+json": {
       "model_id": "8fd2326b361a498aaec3342f934f5daa",
       "version_major": 2,
       "version_minor": 0
      },
      "text/plain": [
       "0it [00:00, ?it/s]"
      ]
     },
     "metadata": {},
     "output_type": "display_data"
    },
    {
     "name": "stderr",
     "output_type": "stream",
     "text": [
      "20:50 bilby INFO    : Checkpoint every check_point_delta_t = 600s\n",
      "20:50 bilby WARNING : Using cached result\n",
      "20:50 bilby INFO    : Summary of results:\n",
      "nsamples: 3035\n",
      "ln_noise_evidence:    nan\n",
      "ln_evidence: 376.698 +/-  0.305\n",
      "ln_bayes_factor:    nan +/-  0.305\n",
      "\n",
      "/Users/myue/Research/Projects/JWST/dependencies/msa_spec_utils/LAE_spec_utils.py:426: RuntimeWarning: divide by zero encountered in power\n",
      "  self.err_fnu = (self.ivar_fnu)**-0.5\n",
      "/Users/myue/Research/Projects/JWST/dependencies/msa_spec_utils/LAE_spec_utils.py:432: RuntimeWarning: invalid value encountered in divide\n",
      "  self.flam = self.fnu * speed_of_light_angstrom / (self.wave)**2 * 1e-29 * 1e18\n",
      "/Users/myue/Research/Projects/JWST/dependencies/msa_spec_utils/LAE_spec_utils.py:433: RuntimeWarning: divide by zero encountered in divide\n",
      "  self.err_flam = self.err_fnu * (speed_of_light_angstrom / (self.wave)**2 * 1e-29 * 1e18)\n",
      "20:50 bilby INFO    : Running for label '4713_2159', output will be saved to './bilby_fit_civ_pypeit_v1/'\n",
      "20:50 bilby INFO    : Search parameters:\n",
      "20:50 bilby INFO    :   center = Uniform(minimum=10833.576460870463, maximum=10876.997609010225, name='center', latex_label='center', unit=None, boundary=None)\n",
      "20:50 bilby INFO    :   fwhm = Uniform(minimum=300, maximum=1000, name='fwhm', latex_label='fwhm', unit=None, boundary=None)\n",
      "20:50 bilby INFO    :   flux = Uniform(minimum=-20.089090443149882, maximum=20.089090443149882, name='flux', latex_label='flux', unit=None, boundary=None)\n",
      "20:50 bilby INFO    :   A = Uniform(minimum=-0.10432086756754254, maximum=0.20864173513508508, name='A', latex_label='A', unit=None, boundary=None)\n",
      "20:50 bilby INFO    :   beta = Uniform(minimum=-4, maximum=2, name='beta', latex_label='beta', unit=None, boundary=None)\n",
      "20:50 bilby INFO    :   wave0 = 10855.287034940344\n",
      "20:50 bilby INFO    : Single likelihood evaluation took 3.281e-05 s\n"
     ]
    },
    {
     "data": {
      "application/vnd.jupyter.widget-view+json": {
       "model_id": "c6b595114baf41b89875bf22933430bf",
       "version_major": 2,
       "version_minor": 0
      },
      "text/plain": [
       "0it [00:00, ?it/s]"
      ]
     },
     "metadata": {},
     "output_type": "display_data"
    },
    {
     "name": "stderr",
     "output_type": "stream",
     "text": [
      "20:50 bilby INFO    : Checkpoint every check_point_delta_t = 600s\n",
      "20:50 bilby WARNING : Using cached result\n",
      "20:50 bilby INFO    : Summary of results:\n",
      "nsamples: 1443\n",
      "ln_noise_evidence:    nan\n",
      "ln_evidence: 83.756 +/-  0.168\n",
      "ln_bayes_factor:    nan +/-  0.168\n",
      "\n",
      "/Users/myue/Research/Projects/JWST/dependencies/msa_spec_utils/LAE_spec_utils.py:426: RuntimeWarning: divide by zero encountered in power\n",
      "  self.err_fnu = (self.ivar_fnu)**-0.5\n",
      "/Users/myue/Research/Projects/JWST/dependencies/msa_spec_utils/LAE_spec_utils.py:432: RuntimeWarning: invalid value encountered in divide\n",
      "  self.flam = self.fnu * speed_of_light_angstrom / (self.wave)**2 * 1e-29 * 1e18\n",
      "/Users/myue/Research/Projects/JWST/dependencies/msa_spec_utils/LAE_spec_utils.py:433: RuntimeWarning: divide by zero encountered in divide\n",
      "  self.err_flam = self.err_fnu * (speed_of_light_angstrom / (self.wave)**2 * 1e-29 * 1e18)\n",
      "20:50 bilby INFO    : Running for label '4713_2355', output will be saved to './bilby_fit_civ_pypeit_v1/'\n",
      "20:50 bilby INFO    : Search parameters:\n",
      "20:50 bilby INFO    :   center = Uniform(minimum=11103.356134929933, maximum=11147.858564328448, name='center', latex_label='center', unit=None, boundary=None)\n",
      "20:50 bilby INFO    :   fwhm = Uniform(minimum=300, maximum=1000, name='fwhm', latex_label='fwhm', unit=None, boundary=None)\n",
      "20:50 bilby INFO    :   flux = Uniform(minimum=-14.31286114147176, maximum=14.31286114147176, name='flux', latex_label='flux', unit=None, boundary=None)\n",
      "20:50 bilby INFO    :   A = Uniform(minimum=-0.0725195260398332, maximum=0.1450390520796664, name='A', latex_label='A', unit=None, boundary=None)\n",
      "20:50 bilby INFO    :   beta = Uniform(minimum=-4, maximum=2, name='beta', latex_label='beta', unit=None, boundary=None)\n",
      "20:50 bilby INFO    :   wave0 = 11125.60734962919\n",
      "20:50 bilby INFO    : Single likelihood evaluation took 3.561e-05 s\n"
     ]
    },
    {
     "data": {
      "application/vnd.jupyter.widget-view+json": {
       "model_id": "b8b33ab8e0f94b0cb575d8aabaecacf8",
       "version_major": 2,
       "version_minor": 0
      },
      "text/plain": [
       "0it [00:00, ?it/s]"
      ]
     },
     "metadata": {},
     "output_type": "display_data"
    },
    {
     "name": "stderr",
     "output_type": "stream",
     "text": [
      "20:50 bilby INFO    : Checkpoint every check_point_delta_t = 600s\n",
      "20:50 bilby WARNING : Using cached result\n",
      "20:50 bilby INFO    : Summary of results:\n",
      "nsamples: 2867\n",
      "ln_noise_evidence:    nan\n",
      "ln_evidence: 266.559 +/-  0.291\n",
      "ln_bayes_factor:    nan +/-  0.291\n",
      "\n",
      "20:50 bilby INFO    : Running for label '4713_3783', output will be saved to './bilby_fit_civ_pypeit_v1/'\n",
      "20:50 bilby INFO    : Search parameters:\n",
      "20:50 bilby INFO    :   center = Uniform(minimum=11103.656796882598, maximum=11148.160431339042, name='center', latex_label='center', unit=None, boundary=None)\n",
      "20:50 bilby INFO    :   fwhm = Uniform(minimum=300, maximum=1000, name='fwhm', latex_label='fwhm', unit=None, boundary=None)\n",
      "20:50 bilby INFO    :   flux = Uniform(minimum=-12.031706343869219, maximum=12.031706343869219, name='flux', latex_label='flux', unit=None, boundary=None)\n",
      "20:50 bilby INFO    :   A = Uniform(minimum=-0.06095986027133399, maximum=0.12191972054266798, name='A', latex_label='A', unit=None, boundary=None)\n",
      "20:50 bilby INFO    :   beta = Uniform(minimum=-4, maximum=2, name='beta', latex_label='beta', unit=None, boundary=None)\n",
      "20:50 bilby INFO    :   wave0 = 11125.90861411082\n",
      "20:50 bilby INFO    : Single likelihood evaluation took 3.658e-05 s\n"
     ]
    },
    {
     "data": {
      "application/vnd.jupyter.widget-view+json": {
       "model_id": "a2e86c9a599e4815bc70b5b4f5e7dc71",
       "version_major": 2,
       "version_minor": 0
      },
      "text/plain": [
       "0it [00:00, ?it/s]"
      ]
     },
     "metadata": {},
     "output_type": "display_data"
    },
    {
     "name": "stderr",
     "output_type": "stream",
     "text": [
      "20:50 bilby INFO    : Checkpoint every check_point_delta_t = 600s\n",
      "20:50 bilby WARNING : Using cached result\n",
      "20:50 bilby INFO    : Summary of results:\n",
      "nsamples: 2329\n",
      "ln_noise_evidence:    nan\n",
      "ln_evidence: 284.224 +/-  0.259\n",
      "ln_bayes_factor:    nan +/-  0.259\n",
      "\n",
      "/Users/myue/Research/Projects/JWST/dependencies/msa_spec_utils/LAE_spec_utils.py:426: RuntimeWarning: divide by zero encountered in power\n",
      "  self.err_fnu = (self.ivar_fnu)**-0.5\n",
      "/Users/myue/Research/Projects/JWST/dependencies/msa_spec_utils/LAE_spec_utils.py:432: RuntimeWarning: invalid value encountered in divide\n",
      "  self.flam = self.fnu * speed_of_light_angstrom / (self.wave)**2 * 1e-29 * 1e18\n",
      "/Users/myue/Research/Projects/JWST/dependencies/msa_spec_utils/LAE_spec_utils.py:433: RuntimeWarning: divide by zero encountered in divide\n",
      "  self.err_flam = self.err_fnu * (speed_of_light_angstrom / (self.wave)**2 * 1e-29 * 1e18)\n",
      "20:50 bilby INFO    : Running for label '4713_4184', output will be saved to './bilby_fit_civ_pypeit_v1/'\n",
      "20:50 bilby INFO    : Search parameters:\n",
      "20:50 bilby INFO    :   center = Uniform(minimum=11109.84370472653, maximum=11154.3721364088, name='center', latex_label='center', unit=None, boundary=None)\n",
      "20:50 bilby INFO    :   fwhm = Uniform(minimum=300, maximum=1000, name='fwhm', latex_label='fwhm', unit=None, boundary=None)\n",
      "20:50 bilby INFO    :   flux = Uniform(minimum=-8.86777236235745, maximum=8.86777236235745, name='flux', latex_label='flux', unit=None, boundary=None)\n",
      "20:50 bilby INFO    :   A = Uniform(minimum=-0.04490444735699978, maximum=0.08980889471399955, name='A', latex_label='A', unit=None, boundary=None)\n",
      "20:50 bilby INFO    :   beta = Uniform(minimum=-4, maximum=2, name='beta', latex_label='beta', unit=None, boundary=None)\n",
      "20:50 bilby INFO    :   wave0 = 11132.107920567665\n",
      "20:50 bilby INFO    : Single likelihood evaluation took 3.215e-05 s\n"
     ]
    },
    {
     "data": {
      "application/vnd.jupyter.widget-view+json": {
       "model_id": "1071fdc2fd7d4043818e849384baf86d",
       "version_major": 2,
       "version_minor": 0
      },
      "text/plain": [
       "0it [00:00, ?it/s]"
      ]
     },
     "metadata": {},
     "output_type": "display_data"
    },
    {
     "name": "stderr",
     "output_type": "stream",
     "text": [
      "20:50 bilby INFO    : Checkpoint every check_point_delta_t = 600s\n",
      "20:50 bilby WARNING : Using cached result\n",
      "20:50 bilby INFO    : Summary of results:\n",
      "nsamples: 2417\n",
      "ln_noise_evidence:    nan\n",
      "ln_evidence: 310.217 +/-  0.264\n",
      "ln_bayes_factor:    nan +/-  0.264\n",
      "\n",
      "/Users/myue/Research/Projects/JWST/dependencies/msa_spec_utils/LAE_spec_utils.py:426: RuntimeWarning: divide by zero encountered in power\n",
      "  self.err_fnu = (self.ivar_fnu)**-0.5\n",
      "/Users/myue/Research/Projects/JWST/dependencies/msa_spec_utils/LAE_spec_utils.py:432: RuntimeWarning: invalid value encountered in divide\n",
      "  self.flam = self.fnu * speed_of_light_angstrom / (self.wave)**2 * 1e-29 * 1e18\n",
      "/Users/myue/Research/Projects/JWST/dependencies/msa_spec_utils/LAE_spec_utils.py:433: RuntimeWarning: divide by zero encountered in divide\n",
      "  self.err_flam = self.err_fnu * (speed_of_light_angstrom / (self.wave)**2 * 1e-29 * 1e18)\n",
      "20:50 bilby INFO    : Running for label '4713_4222', output will be saved to './bilby_fit_civ_pypeit_v1/'\n",
      "20:50 bilby INFO    : Search parameters:\n",
      "20:50 bilby INFO    :   center = Uniform(minimum=11331.508698517113, maximum=11376.925567048243, name='center', latex_label='center', unit=None, boundary=None)\n",
      "20:50 bilby INFO    :   fwhm = Uniform(minimum=300, maximum=1000, name='fwhm', latex_label='fwhm', unit=None, boundary=None)\n",
      "20:50 bilby INFO    :   flux = Uniform(minimum=-11.480475514726178, maximum=11.480475514726178, name='flux', latex_label='flux', unit=None, boundary=None)\n",
      "20:50 bilby INFO    :   A = Uniform(minimum=-0.05699738212767365, maximum=0.1139947642553473, name='A', latex_label='A', unit=None, boundary=None)\n",
      "20:50 bilby INFO    :   beta = Uniform(minimum=-4, maximum=2, name='beta', latex_label='beta', unit=None, boundary=None)\n",
      "20:50 bilby INFO    :   wave0 = 11354.217132782678\n",
      "20:50 bilby INFO    : Single likelihood evaluation took 3.164e-05 s\n"
     ]
    },
    {
     "data": {
      "application/vnd.jupyter.widget-view+json": {
       "model_id": "9692292de332434ab4526a335839e97c",
       "version_major": 2,
       "version_minor": 0
      },
      "text/plain": [
       "0it [00:00, ?it/s]"
      ]
     },
     "metadata": {},
     "output_type": "display_data"
    },
    {
     "name": "stderr",
     "output_type": "stream",
     "text": [
      "20:50 bilby INFO    : Checkpoint every check_point_delta_t = 600s\n",
      "20:50 bilby WARNING : Using cached result\n",
      "20:50 bilby INFO    : Summary of results:\n",
      "nsamples: 2437\n",
      "ln_noise_evidence:    nan\n",
      "ln_evidence: 223.403 +/-  0.267\n",
      "ln_bayes_factor:    nan +/-  0.267\n",
      "\n",
      "/Users/myue/Research/Projects/JWST/dependencies/msa_spec_utils/LAE_spec_utils.py:426: RuntimeWarning: divide by zero encountered in power\n",
      "  self.err_fnu = (self.ivar_fnu)**-0.5\n",
      "/Users/myue/Research/Projects/JWST/dependencies/msa_spec_utils/LAE_spec_utils.py:432: RuntimeWarning: invalid value encountered in divide\n",
      "  self.flam = self.fnu * speed_of_light_angstrom / (self.wave)**2 * 1e-29 * 1e18\n",
      "/Users/myue/Research/Projects/JWST/dependencies/msa_spec_utils/LAE_spec_utils.py:433: RuntimeWarning: divide by zero encountered in divide\n",
      "  self.err_flam = self.err_fnu * (speed_of_light_angstrom / (self.wave)**2 * 1e-29 * 1e18)\n",
      "20:50 bilby INFO    : Running for label '4713_5378', output will be saved to './bilby_fit_civ_pypeit_v1/'\n",
      "20:50 bilby INFO    : Search parameters:\n",
      "20:50 bilby INFO    :   center = Uniform(minimum=10153.718033123501, maximum=10194.41429778532, name='center', latex_label='center', unit=None, boundary=None)\n",
      "20:50 bilby INFO    :   fwhm = Uniform(minimum=300, maximum=1000, name='fwhm', latex_label='fwhm', unit=None, boundary=None)\n",
      "20:50 bilby INFO    :   flux = Uniform(minimum=-6.289735207877083, maximum=6.289735207877083, name='flux', latex_label='flux', unit=None, boundary=None)\n",
      "20:50 bilby INFO    :   A = Uniform(minimum=-0.03698523690408525, maximum=0.0739704738081705, name='A', latex_label='A', unit=None, boundary=None)\n",
      "20:50 bilby INFO    :   beta = Uniform(minimum=-4, maximum=2, name='beta', latex_label='beta', unit=None, boundary=None)\n",
      "20:50 bilby INFO    :   wave0 = 10174.066165454411\n",
      "20:50 bilby INFO    : Single likelihood evaluation took 3.263e-05 s\n"
     ]
    },
    {
     "data": {
      "application/vnd.jupyter.widget-view+json": {
       "model_id": "5f2949496a614e2cb2cad0e84348793b",
       "version_major": 2,
       "version_minor": 0
      },
      "text/plain": [
       "0it [00:00, ?it/s]"
      ]
     },
     "metadata": {},
     "output_type": "display_data"
    },
    {
     "name": "stderr",
     "output_type": "stream",
     "text": [
      "20:50 bilby INFO    : Checkpoint every check_point_delta_t = 600s\n",
      "20:50 bilby WARNING : Using cached result\n",
      "20:50 bilby INFO    : Summary of results:\n",
      "nsamples: 2538\n",
      "ln_noise_evidence:    nan\n",
      "ln_evidence: 277.697 +/-  0.263\n",
      "ln_bayes_factor:    nan +/-  0.263\n",
      "\n",
      "/Users/myue/Research/Projects/JWST/dependencies/msa_spec_utils/LAE_spec_utils.py:426: RuntimeWarning: divide by zero encountered in power\n",
      "  self.err_fnu = (self.ivar_fnu)**-0.5\n",
      "/Users/myue/Research/Projects/JWST/dependencies/msa_spec_utils/LAE_spec_utils.py:432: RuntimeWarning: invalid value encountered in divide\n",
      "  self.flam = self.fnu * speed_of_light_angstrom / (self.wave)**2 * 1e-29 * 1e18\n",
      "/Users/myue/Research/Projects/JWST/dependencies/msa_spec_utils/LAE_spec_utils.py:433: RuntimeWarning: divide by zero encountered in divide\n",
      "  self.err_flam = self.err_fnu * (speed_of_light_angstrom / (self.wave)**2 * 1e-29 * 1e18)\n",
      "20:50 bilby INFO    : Running for label '4713_5581', output will be saved to './bilby_fit_civ_pypeit_v1/'\n",
      "20:50 bilby INFO    : Search parameters:\n",
      "20:50 bilby INFO    :   center = Uniform(minimum=10063.088579751504, maximum=10103.421600111229, name='center', latex_label='center', unit=None, boundary=None)\n",
      "20:50 bilby INFO    :   fwhm = Uniform(minimum=300, maximum=1000, name='fwhm', latex_label='fwhm', unit=None, boundary=None)\n",
      "20:50 bilby INFO    :   flux = Uniform(minimum=-8.063667216261829, maximum=8.063667216261829, name='flux', latex_label='flux', unit=None, boundary=None)\n",
      "20:50 bilby INFO    :   A = Uniform(minimum=-0.045461392651073136, maximum=0.09092278530214627, name='A', latex_label='A', unit=None, boundary=None)\n",
      "20:50 bilby INFO    :   beta = Uniform(minimum=-4, maximum=2, name='beta', latex_label='beta', unit=None, boundary=None)\n",
      "20:50 bilby INFO    :   wave0 = 10083.255089931366\n",
      "20:50 bilby INFO    : Single likelihood evaluation took 3.321e-05 s\n"
     ]
    },
    {
     "data": {
      "application/vnd.jupyter.widget-view+json": {
       "model_id": "3a1e0eabca30480399adb97f4b437f49",
       "version_major": 2,
       "version_minor": 0
      },
      "text/plain": [
       "0it [00:00, ?it/s]"
      ]
     },
     "metadata": {},
     "output_type": "display_data"
    },
    {
     "name": "stderr",
     "output_type": "stream",
     "text": [
      "20:50 bilby INFO    : Checkpoint every check_point_delta_t = 600s\n",
      "20:50 bilby WARNING : Using cached result\n",
      "20:50 bilby INFO    : Summary of results:\n",
      "nsamples: 2417\n",
      "ln_noise_evidence:    nan\n",
      "ln_evidence: 252.821 +/-  0.258\n",
      "ln_bayes_factor:    nan +/-  0.258\n",
      "\n",
      "/Users/myue/Research/Projects/JWST/dependencies/msa_spec_utils/LAE_spec_utils.py:426: RuntimeWarning: divide by zero encountered in power\n",
      "  self.err_fnu = (self.ivar_fnu)**-0.5\n",
      "/Users/myue/Research/Projects/JWST/dependencies/msa_spec_utils/LAE_spec_utils.py:432: RuntimeWarning: invalid value encountered in divide\n",
      "  self.flam = self.fnu * speed_of_light_angstrom / (self.wave)**2 * 1e-29 * 1e18\n",
      "/Users/myue/Research/Projects/JWST/dependencies/msa_spec_utils/LAE_spec_utils.py:433: RuntimeWarning: divide by zero encountered in divide\n",
      "  self.err_flam = self.err_fnu * (speed_of_light_angstrom / (self.wave)**2 * 1e-29 * 1e18)\n",
      "20:50 bilby INFO    : Running for label '4713_5595', output will be saved to './bilby_fit_civ_pypeit_v1/'\n",
      "20:50 bilby INFO    : Search parameters:\n",
      "20:50 bilby INFO    :   center = Uniform(minimum=10805.382079003715, maximum=10848.690223608939, name='center', latex_label='center', unit=None, boundary=None)\n",
      "20:50 bilby INFO    :   fwhm = Uniform(minimum=300, maximum=1000, name='fwhm', latex_label='fwhm', unit=None, boundary=None)\n",
      "20:50 bilby INFO    :   flux = Uniform(minimum=-5.7547770988474, maximum=5.7547770988474, name='flux', latex_label='flux', unit=None, boundary=None)\n",
      "20:50 bilby INFO    :   A = Uniform(minimum=-0.04381718051344733, maximum=0.08763436102689466, name='A', latex_label='A', unit=None, boundary=None)\n",
      "20:50 bilby INFO    :   beta = Uniform(minimum=-4, maximum=2, name='beta', latex_label='beta', unit=None, boundary=None)\n",
      "20:50 bilby INFO    :   wave0 = 10827.036151306327\n",
      "20:50 bilby INFO    : Single likelihood evaluation took 3.354e-05 s\n"
     ]
    },
    {
     "data": {
      "application/vnd.jupyter.widget-view+json": {
       "model_id": "0b736ca8a912402a9dfabdacdfa4ef65",
       "version_major": 2,
       "version_minor": 0
      },
      "text/plain": [
       "0it [00:00, ?it/s]"
      ]
     },
     "metadata": {},
     "output_type": "display_data"
    },
    {
     "name": "stderr",
     "output_type": "stream",
     "text": [
      "20:50 bilby INFO    : Checkpoint every check_point_delta_t = 600s\n",
      "20:50 bilby WARNING : Using cached result\n",
      "20:50 bilby INFO    : Summary of results:\n",
      "nsamples: 2322\n",
      "ln_noise_evidence:    nan\n",
      "ln_evidence: 293.890 +/-  0.251\n",
      "ln_bayes_factor:    nan +/-  0.251\n",
      "\n",
      "/Users/myue/Research/Projects/JWST/dependencies/msa_spec_utils/LAE_spec_utils.py:426: RuntimeWarning: divide by zero encountered in power\n",
      "  self.err_fnu = (self.ivar_fnu)**-0.5\n",
      "/Users/myue/Research/Projects/JWST/dependencies/msa_spec_utils/LAE_spec_utils.py:432: RuntimeWarning: invalid value encountered in divide\n",
      "  self.flam = self.fnu * speed_of_light_angstrom / (self.wave)**2 * 1e-29 * 1e18\n",
      "/Users/myue/Research/Projects/JWST/dependencies/msa_spec_utils/LAE_spec_utils.py:433: RuntimeWarning: divide by zero encountered in divide\n",
      "  self.err_flam = self.err_fnu * (speed_of_light_angstrom / (self.wave)**2 * 1e-29 * 1e18)\n",
      "20:50 bilby INFO    : Running for label '4713_5671', output will be saved to './bilby_fit_civ_pypeit_v1/'\n",
      "20:50 bilby INFO    : Search parameters:\n",
      "20:50 bilby INFO    :   center = Uniform(minimum=10800.2117502139, maximum=10843.499172058444, name='center', latex_label='center', unit=None, boundary=None)\n",
      "20:50 bilby INFO    :   fwhm = Uniform(minimum=300, maximum=1000, name='fwhm', latex_label='fwhm', unit=None, boundary=None)\n",
      "20:50 bilby INFO    :   flux = Uniform(minimum=-14.491818345168015, maximum=14.491818345168015, name='flux', latex_label='flux', unit=None, boundary=None)\n",
      "20:50 bilby INFO    :   A = Uniform(minimum=-0.08527631388307673, maximum=0.17055262776615346, name='A', latex_label='A', unit=None, boundary=None)\n",
      "20:50 bilby INFO    :   beta = Uniform(minimum=-4, maximum=2, name='beta', latex_label='beta', unit=None, boundary=None)\n",
      "20:50 bilby INFO    :   wave0 = 10821.855461136172\n",
      "20:50 bilby INFO    : Single likelihood evaluation took 3.450e-05 s\n"
     ]
    },
    {
     "data": {
      "application/vnd.jupyter.widget-view+json": {
       "model_id": "ec45146df90f4b9292f4f8b2260a6b69",
       "version_major": 2,
       "version_minor": 0
      },
      "text/plain": [
       "0it [00:00, ?it/s]"
      ]
     },
     "metadata": {},
     "output_type": "display_data"
    },
    {
     "name": "stderr",
     "output_type": "stream",
     "text": [
      "20:50 bilby INFO    : Checkpoint every check_point_delta_t = 600s\n",
      "20:50 bilby WARNING : Using cached result\n",
      "20:50 bilby INFO    : Summary of results:\n",
      "nsamples: 2792\n",
      "ln_noise_evidence:    nan\n",
      "ln_evidence: 226.150 +/-  0.291\n",
      "ln_bayes_factor:    nan +/-  0.291\n",
      "\n",
      "/Users/myue/Research/Projects/JWST/dependencies/msa_spec_utils/LAE_spec_utils.py:426: RuntimeWarning: divide by zero encountered in power\n",
      "  self.err_fnu = (self.ivar_fnu)**-0.5\n",
      "/Users/myue/Research/Projects/JWST/dependencies/msa_spec_utils/LAE_spec_utils.py:432: RuntimeWarning: invalid value encountered in divide\n",
      "  self.flam = self.fnu * speed_of_light_angstrom / (self.wave)**2 * 1e-29 * 1e18\n",
      "/Users/myue/Research/Projects/JWST/dependencies/msa_spec_utils/LAE_spec_utils.py:433: RuntimeWarning: divide by zero encountered in divide\n",
      "  self.err_flam = self.err_fnu * (speed_of_light_angstrom / (self.wave)**2 * 1e-29 * 1e18)\n",
      "20:50 bilby INFO    : Running for label '4713_6733', output will be saved to './bilby_fit_civ_pypeit_v1/'\n",
      "20:50 bilby INFO    : Search parameters:\n",
      "20:50 bilby INFO    :   center = Uniform(minimum=12008.673582573636, maximum=12056.804538816417, name='center', latex_label='center', unit=None, boundary=None)\n",
      "20:50 bilby INFO    :   fwhm = Uniform(minimum=300, maximum=1000, name='fwhm', latex_label='fwhm', unit=None, boundary=None)\n",
      "20:50 bilby INFO    :   flux = Uniform(minimum=-25.9823587915912, maximum=25.9823587915912, name='flux', latex_label='flux', unit=None, boundary=None)\n",
      "20:50 bilby INFO    :   A = Uniform(minimum=-0.12172122222813904, maximum=0.24344244445627808, name='A', latex_label='A', unit=None, boundary=None)\n",
      "20:50 bilby INFO    :   beta = Uniform(minimum=-4, maximum=2, name='beta', latex_label='beta', unit=None, boundary=None)\n",
      "20:50 bilby INFO    :   wave0 = 12032.739060695027\n",
      "20:50 bilby INFO    : Single likelihood evaluation took 3.655e-05 s\n"
     ]
    },
    {
     "data": {
      "application/vnd.jupyter.widget-view+json": {
       "model_id": "6a72a507b031420bbece107eec882ff2",
       "version_major": 2,
       "version_minor": 0
      },
      "text/plain": [
       "0it [00:00, ?it/s]"
      ]
     },
     "metadata": {},
     "output_type": "display_data"
    },
    {
     "name": "stderr",
     "output_type": "stream",
     "text": [
      "20:50 bilby INFO    : Checkpoint every check_point_delta_t = 600s\n",
      "20:50 bilby WARNING : Using cached result\n",
      "20:50 bilby INFO    : Summary of results:\n",
      "nsamples: 3539\n",
      "ln_noise_evidence:    nan\n",
      "ln_evidence: 300.413 +/-  0.354\n",
      "ln_bayes_factor:    nan +/-  0.354\n",
      "\n",
      "/Users/myue/Research/Projects/JWST/dependencies/msa_spec_utils/LAE_spec_utils.py:426: RuntimeWarning: divide by zero encountered in power\n",
      "  self.err_fnu = (self.ivar_fnu)**-0.5\n",
      "/Users/myue/Research/Projects/JWST/dependencies/msa_spec_utils/LAE_spec_utils.py:432: RuntimeWarning: invalid value encountered in divide\n",
      "  self.flam = self.fnu * speed_of_light_angstrom / (self.wave)**2 * 1e-29 * 1e18\n",
      "/Users/myue/Research/Projects/JWST/dependencies/msa_spec_utils/LAE_spec_utils.py:433: RuntimeWarning: divide by zero encountered in divide\n",
      "  self.err_flam = self.err_fnu * (speed_of_light_angstrom / (self.wave)**2 * 1e-29 * 1e18)\n",
      "20:50 bilby INFO    : Running for label '4713_7194', output will be saved to './bilby_fit_civ_pypeit_v1/'\n",
      "20:50 bilby INFO    : Search parameters:\n",
      "20:50 bilby INFO    :   center = Uniform(minimum=11112.558033925088, maximum=11157.097344682305, name='center', latex_label='center', unit=None, boundary=None)\n",
      "20:50 bilby INFO    :   fwhm = Uniform(minimum=300, maximum=1000, name='fwhm', latex_label='fwhm', unit=None, boundary=None)\n",
      "20:50 bilby INFO    :   flux = Uniform(minimum=-6.979151420560389, maximum=6.979151420560389, name='flux', latex_label='flux', unit=None, boundary=None)\n",
      "20:50 bilby INFO    :   A = Uniform(minimum=-0.03533225432430731, maximum=0.07066450864861462, name='A', latex_label='A', unit=None, boundary=None)\n",
      "20:50 bilby INFO    :   beta = Uniform(minimum=-4, maximum=2, name='beta', latex_label='beta', unit=None, boundary=None)\n",
      "20:50 bilby INFO    :   wave0 = 11134.827689303696\n",
      "20:50 bilby INFO    : Single likelihood evaluation took 4.153e-05 s\n"
     ]
    },
    {
     "data": {
      "application/vnd.jupyter.widget-view+json": {
       "model_id": "208d050201984ada88b48a213e52974b",
       "version_major": 2,
       "version_minor": 0
      },
      "text/plain": [
       "0it [00:00, ?it/s]"
      ]
     },
     "metadata": {},
     "output_type": "display_data"
    },
    {
     "name": "stderr",
     "output_type": "stream",
     "text": [
      "20:50 bilby INFO    : Checkpoint every check_point_delta_t = 600s\n",
      "20:50 bilby WARNING : Using cached result\n",
      "20:50 bilby INFO    : Summary of results:\n",
      "nsamples: 2516\n",
      "ln_noise_evidence:    nan\n",
      "ln_evidence: 308.744 +/-  0.262\n",
      "ln_bayes_factor:    nan +/-  0.262\n",
      "\n",
      "/Users/myue/Research/Projects/JWST/dependencies/msa_spec_utils/LAE_spec_utils.py:426: RuntimeWarning: divide by zero encountered in power\n",
      "  self.err_fnu = (self.ivar_fnu)**-0.5\n",
      "/Users/myue/Research/Projects/JWST/dependencies/msa_spec_utils/LAE_spec_utils.py:432: RuntimeWarning: invalid value encountered in divide\n",
      "  self.flam = self.fnu * speed_of_light_angstrom / (self.wave)**2 * 1e-29 * 1e18\n",
      "/Users/myue/Research/Projects/JWST/dependencies/msa_spec_utils/LAE_spec_utils.py:433: RuntimeWarning: divide by zero encountered in divide\n",
      "  self.err_flam = self.err_fnu * (speed_of_light_angstrom / (self.wave)**2 * 1e-29 * 1e18)\n",
      "20:50 bilby INFO    : Running for label '4713_7230', output will be saved to './bilby_fit_civ_pypeit_v1/'\n",
      "20:50 bilby INFO    : Search parameters:\n",
      "20:50 bilby INFO    :   center = Uniform(minimum=12104.417208510113, maximum=12152.931906740614, name='center', latex_label='center', unit=None, boundary=None)\n",
      "20:50 bilby INFO    :   fwhm = Uniform(minimum=300, maximum=1000, name='fwhm', latex_label='fwhm', unit=None, boundary=None)\n",
      "20:50 bilby INFO    :   flux = Uniform(minimum=-7.6972274704698584, maximum=7.6972274704698584, name='flux', latex_label='flux', unit=None, boundary=None)\n",
      "20:50 bilby INFO    :   A = Uniform(minimum=-0.04970328041227035, maximum=0.0994065608245407, name='A', latex_label='A', unit=None, boundary=None)\n",
      "20:50 bilby INFO    :   beta = Uniform(minimum=-4, maximum=2, name='beta', latex_label='beta', unit=None, boundary=None)\n",
      "20:50 bilby INFO    :   wave0 = 12128.674557625363\n",
      "20:50 bilby INFO    : Single likelihood evaluation took 3.393e-05 s\n"
     ]
    },
    {
     "data": {
      "application/vnd.jupyter.widget-view+json": {
       "model_id": "d1ae127c1016462c897c424880c8623a",
       "version_major": 2,
       "version_minor": 0
      },
      "text/plain": [
       "0it [00:00, ?it/s]"
      ]
     },
     "metadata": {},
     "output_type": "display_data"
    },
    {
     "name": "stderr",
     "output_type": "stream",
     "text": [
      "20:50 bilby INFO    : Checkpoint every check_point_delta_t = 600s\n",
      "20:50 bilby WARNING : Using cached result\n",
      "20:50 bilby INFO    : Summary of results:\n",
      "nsamples: 2730\n",
      "ln_noise_evidence:    nan\n",
      "ln_evidence: 337.698 +/-  0.298\n",
      "ln_bayes_factor:    nan +/-  0.298\n",
      "\n",
      "/Users/myue/Research/Projects/JWST/dependencies/msa_spec_utils/LAE_spec_utils.py:426: RuntimeWarning: divide by zero encountered in power\n",
      "  self.err_fnu = (self.ivar_fnu)**-0.5\n",
      "/Users/myue/Research/Projects/JWST/dependencies/msa_spec_utils/LAE_spec_utils.py:432: RuntimeWarning: invalid value encountered in divide\n",
      "  self.flam = self.fnu * speed_of_light_angstrom / (self.wave)**2 * 1e-29 * 1e18\n",
      "/Users/myue/Research/Projects/JWST/dependencies/msa_spec_utils/LAE_spec_utils.py:433: RuntimeWarning: divide by zero encountered in divide\n",
      "  self.err_flam = self.err_fnu * (speed_of_light_angstrom / (self.wave)**2 * 1e-29 * 1e18)\n",
      "20:50 bilby INFO    : Running for label '4713_7430', output will be saved to './bilby_fit_civ_pypeit_v1/'\n",
      "20:50 bilby INFO    : Search parameters:\n",
      "20:50 bilby INFO    :   center = Uniform(minimum=11846.322826330714, maximum=11893.803078139656, name='center', latex_label='center', unit=None, boundary=None)\n",
      "20:50 bilby INFO    :   fwhm = Uniform(minimum=300, maximum=1000, name='fwhm', latex_label='fwhm', unit=None, boundary=None)\n",
      "20:50 bilby INFO    :   flux = Uniform(minimum=-8.325541470135052, maximum=8.325541470135052, name='flux', latex_label='flux', unit=None, boundary=None)\n",
      "20:50 bilby INFO    :   A = Uniform(minimum=-0.03953772658933813, maximum=0.07907545317867626, name='A', latex_label='A', unit=None, boundary=None)\n",
      "20:50 bilby INFO    :   beta = Uniform(minimum=-4, maximum=2, name='beta', latex_label='beta', unit=None, boundary=None)\n",
      "20:50 bilby INFO    :   wave0 = 11870.062952235185\n",
      "20:50 bilby INFO    : Single likelihood evaluation took 3.550e-05 s\n"
     ]
    },
    {
     "data": {
      "application/vnd.jupyter.widget-view+json": {
       "model_id": "e70f0d81463349708af11e5f9fc099ed",
       "version_major": 2,
       "version_minor": 0
      },
      "text/plain": [
       "0it [00:00, ?it/s]"
      ]
     },
     "metadata": {},
     "output_type": "display_data"
    },
    {
     "name": "stderr",
     "output_type": "stream",
     "text": [
      "20:50 bilby INFO    : Checkpoint every check_point_delta_t = 600s\n",
      "20:50 bilby WARNING : Using cached result\n",
      "20:50 bilby INFO    : Summary of results:\n",
      "nsamples: 2405\n",
      "ln_noise_evidence:    nan\n",
      "ln_evidence: 344.219 +/-  0.262\n",
      "ln_bayes_factor:    nan +/-  0.262\n",
      "\n",
      "/Users/myue/Research/Projects/JWST/dependencies/msa_spec_utils/LAE_spec_utils.py:426: RuntimeWarning: divide by zero encountered in power\n",
      "  self.err_fnu = (self.ivar_fnu)**-0.5\n",
      "/Users/myue/Research/Projects/JWST/dependencies/msa_spec_utils/LAE_spec_utils.py:432: RuntimeWarning: invalid value encountered in divide\n",
      "  self.flam = self.fnu * speed_of_light_angstrom / (self.wave)**2 * 1e-29 * 1e18\n",
      "/Users/myue/Research/Projects/JWST/dependencies/msa_spec_utils/LAE_spec_utils.py:433: RuntimeWarning: divide by zero encountered in divide\n",
      "  self.err_flam = self.err_fnu * (speed_of_light_angstrom / (self.wave)**2 * 1e-29 * 1e18)\n",
      "20:50 bilby INFO    : Running for label '4713_8514', output will be saved to './bilby_fit_civ_pypeit_v1/'\n",
      "20:50 bilby INFO    : Search parameters:\n",
      "20:50 bilby INFO    :   center = Uniform(minimum=11102.555482880885, maximum=11147.054703253154, name='center', latex_label='center', unit=None, boundary=None)\n",
      "20:50 bilby INFO    :   fwhm = Uniform(minimum=300, maximum=1000, name='fwhm', latex_label='fwhm', unit=None, boundary=None)\n",
      "20:50 bilby INFO    :   flux = Uniform(minimum=-8.866576317392298, maximum=8.866576317392298, name='flux', latex_label='flux', unit=None, boundary=None)\n",
      "20:50 bilby INFO    :   A = Uniform(minimum=-0.04492786419219667, maximum=0.08985572838439335, name='A', latex_label='A', unit=None, boundary=None)\n",
      "20:50 bilby INFO    :   beta = Uniform(minimum=-4, maximum=2, name='beta', latex_label='beta', unit=None, boundary=None)\n",
      "20:50 bilby INFO    :   wave0 = 11124.80509306702\n",
      "20:50 bilby INFO    : Single likelihood evaluation took 3.672e-05 s\n"
     ]
    },
    {
     "data": {
      "application/vnd.jupyter.widget-view+json": {
       "model_id": "5a9b8bb74ff9490e8b72e40584d9c87e",
       "version_major": 2,
       "version_minor": 0
      },
      "text/plain": [
       "0it [00:00, ?it/s]"
      ]
     },
     "metadata": {},
     "output_type": "display_data"
    },
    {
     "name": "stderr",
     "output_type": "stream",
     "text": [
      "20:50 bilby INFO    : Checkpoint every check_point_delta_t = 600s\n",
      "20:50 bilby WARNING : Using cached result\n",
      "20:50 bilby INFO    : Summary of results:\n",
      "nsamples: 2676\n",
      "ln_noise_evidence:    nan\n",
      "ln_evidence: 307.513 +/-  0.275\n",
      "ln_bayes_factor:    nan +/-  0.275\n",
      "\n",
      "/Users/myue/Research/Projects/JWST/dependencies/msa_spec_utils/LAE_spec_utils.py:426: RuntimeWarning: divide by zero encountered in power\n",
      "  self.err_fnu = (self.ivar_fnu)**-0.5\n",
      "/Users/myue/Research/Projects/JWST/dependencies/msa_spec_utils/LAE_spec_utils.py:432: RuntimeWarning: invalid value encountered in divide\n",
      "  self.flam = self.fnu * speed_of_light_angstrom / (self.wave)**2 * 1e-29 * 1e18\n",
      "/Users/myue/Research/Projects/JWST/dependencies/msa_spec_utils/LAE_spec_utils.py:433: RuntimeWarning: divide by zero encountered in divide\n",
      "  self.err_flam = self.err_fnu * (speed_of_light_angstrom / (self.wave)**2 * 1e-29 * 1e18)\n",
      "20:50 bilby INFO    : Running for label '4713_9273', output will be saved to './bilby_fit_civ_pypeit_v1/'\n",
      "20:50 bilby INFO    : Search parameters:\n",
      "20:50 bilby INFO    :   center = Uniform(minimum=11109.80120907925, maximum=11154.329470438286, name='center', latex_label='center', unit=None, boundary=None)\n",
      "20:50 bilby INFO    :   fwhm = Uniform(minimum=300, maximum=1000, name='fwhm', latex_label='fwhm', unit=None, boundary=None)\n",
      "20:50 bilby INFO    :   flux = Uniform(minimum=-7.982491968325341, maximum=7.982491968325341, name='flux', latex_label='flux', unit=None, boundary=None)\n",
      "20:50 bilby INFO    :   A = Uniform(minimum=-0.040421736915694055, maximum=0.08084347383138811, name='A', latex_label='A', unit=None, boundary=None)\n",
      "20:50 bilby INFO    :   beta = Uniform(minimum=-4, maximum=2, name='beta', latex_label='beta', unit=None, boundary=None)\n",
      "20:50 bilby INFO    :   wave0 = 11132.065339758768\n",
      "20:50 bilby INFO    : Single likelihood evaluation took 3.324e-05 s\n"
     ]
    },
    {
     "data": {
      "application/vnd.jupyter.widget-view+json": {
       "model_id": "d9c81896df1645119ec32e2b11180421",
       "version_major": 2,
       "version_minor": 0
      },
      "text/plain": [
       "0it [00:00, ?it/s]"
      ]
     },
     "metadata": {},
     "output_type": "display_data"
    },
    {
     "name": "stderr",
     "output_type": "stream",
     "text": [
      "20:50 bilby INFO    : Checkpoint every check_point_delta_t = 600s\n",
      "20:50 bilby WARNING : Using cached result\n",
      "20:50 bilby INFO    : Summary of results:\n",
      "nsamples: 2712\n",
      "ln_noise_evidence:    nan\n",
      "ln_evidence: 310.256 +/-  0.288\n",
      "ln_bayes_factor:    nan +/-  0.288\n",
      "\n",
      "/Users/myue/Research/Projects/JWST/dependencies/msa_spec_utils/LAE_spec_utils.py:426: RuntimeWarning: divide by zero encountered in power\n",
      "  self.err_fnu = (self.ivar_fnu)**-0.5\n",
      "/Users/myue/Research/Projects/JWST/dependencies/msa_spec_utils/LAE_spec_utils.py:432: RuntimeWarning: invalid value encountered in divide\n",
      "  self.flam = self.fnu * speed_of_light_angstrom / (self.wave)**2 * 1e-29 * 1e18\n",
      "/Users/myue/Research/Projects/JWST/dependencies/msa_spec_utils/LAE_spec_utils.py:433: RuntimeWarning: divide by zero encountered in divide\n",
      "  self.err_flam = self.err_fnu * (speed_of_light_angstrom / (self.wave)**2 * 1e-29 * 1e18)\n",
      "20:50 bilby INFO    : Running for label '4713_9970', output will be saved to './bilby_fit_civ_pypeit_v1/'\n",
      "20:50 bilby INFO    : Search parameters:\n",
      "20:50 bilby INFO    :   center = Uniform(minimum=11322.865889053968, maximum=11368.248117066209, name='center', latex_label='center', unit=None, boundary=None)\n",
      "20:50 bilby INFO    :   fwhm = Uniform(minimum=300, maximum=1000, name='fwhm', latex_label='fwhm', unit=None, boundary=None)\n",
      "20:50 bilby INFO    :   flux = Uniform(minimum=-14.601591692834347, maximum=14.601591692834347, name='flux', latex_label='flux', unit=None, boundary=None)\n",
      "20:50 bilby INFO    :   A = Uniform(minimum=-0.07254819397512596, maximum=0.14509638795025193, name='A', latex_label='A', unit=None, boundary=None)\n",
      "20:50 bilby INFO    :   beta = Uniform(minimum=-4, maximum=2, name='beta', latex_label='beta', unit=None, boundary=None)\n",
      "20:50 bilby INFO    :   wave0 = 11345.557003060088\n",
      "20:50 bilby INFO    : Single likelihood evaluation took 3.479e-05 s\n"
     ]
    },
    {
     "data": {
      "application/vnd.jupyter.widget-view+json": {
       "model_id": "955a78bb0d744b9b82d050d403610072",
       "version_major": 2,
       "version_minor": 0
      },
      "text/plain": [
       "0it [00:00, ?it/s]"
      ]
     },
     "metadata": {},
     "output_type": "display_data"
    },
    {
     "name": "stderr",
     "output_type": "stream",
     "text": [
      "20:50 bilby INFO    : Checkpoint every check_point_delta_t = 600s\n",
      "20:50 bilby WARNING : Using cached result\n",
      "20:50 bilby INFO    : Summary of results:\n",
      "nsamples: 2830\n",
      "ln_noise_evidence:    nan\n",
      "ln_evidence: 329.764 +/-  0.300\n",
      "ln_bayes_factor:    nan +/-  0.300\n",
      "\n",
      "/Users/myue/Research/Projects/JWST/dependencies/msa_spec_utils/LAE_spec_utils.py:426: RuntimeWarning: divide by zero encountered in power\n",
      "  self.err_fnu = (self.ivar_fnu)**-0.5\n",
      "/Users/myue/Research/Projects/JWST/dependencies/msa_spec_utils/LAE_spec_utils.py:432: RuntimeWarning: invalid value encountered in divide\n",
      "  self.flam = self.fnu * speed_of_light_angstrom / (self.wave)**2 * 1e-29 * 1e18\n",
      "/Users/myue/Research/Projects/JWST/dependencies/msa_spec_utils/LAE_spec_utils.py:433: RuntimeWarning: divide by zero encountered in divide\n",
      "  self.err_flam = self.err_fnu * (speed_of_light_angstrom / (self.wave)**2 * 1e-29 * 1e18)\n",
      "20:50 bilby INFO    : Running for label '4713_10116', output will be saved to './bilby_fit_civ_pypeit_v1/'\n",
      "20:50 bilby INFO    : Search parameters:\n",
      "20:50 bilby INFO    :   center = Uniform(minimum=10482.450384425796, maximum=10524.46421362189, name='center', latex_label='center', unit=None, boundary=None)\n",
      "20:50 bilby INFO    :   fwhm = Uniform(minimum=300, maximum=1000, name='fwhm', latex_label='fwhm', unit=None, boundary=None)\n",
      "20:50 bilby INFO    :   flux = Uniform(minimum=-10.812445428909054, maximum=10.812445428909054, name='flux', latex_label='flux', unit=None, boundary=None)\n",
      "20:50 bilby INFO    :   A = Uniform(minimum=-0.058028839060554976, maximum=0.11605767812110995, name='A', latex_label='A', unit=None, boundary=None)\n",
      "20:50 bilby INFO    :   beta = Uniform(minimum=-4, maximum=2, name='beta', latex_label='beta', unit=None, boundary=None)\n",
      "20:50 bilby INFO    :   wave0 = 10503.457299023843\n",
      "20:50 bilby INFO    : Single likelihood evaluation took 3.376e-05 s\n"
     ]
    },
    {
     "data": {
      "application/vnd.jupyter.widget-view+json": {
       "model_id": "794584e03d324871842060bcdc643b69",
       "version_major": 2,
       "version_minor": 0
      },
      "text/plain": [
       "0it [00:00, ?it/s]"
      ]
     },
     "metadata": {},
     "output_type": "display_data"
    },
    {
     "name": "stderr",
     "output_type": "stream",
     "text": [
      "20:50 bilby INFO    : Checkpoint every check_point_delta_t = 600s\n",
      "20:50 bilby WARNING : Using cached result\n",
      "20:50 bilby INFO    : Summary of results:\n",
      "nsamples: 3034\n",
      "ln_noise_evidence:    nan\n",
      "ln_evidence: 246.962 +/-  0.311\n",
      "ln_bayes_factor:    nan +/-  0.311\n",
      "\n",
      "/Users/myue/Research/Projects/JWST/dependencies/msa_spec_utils/LAE_spec_utils.py:426: RuntimeWarning: divide by zero encountered in power\n",
      "  self.err_fnu = (self.ivar_fnu)**-0.5\n",
      "/Users/myue/Research/Projects/JWST/dependencies/msa_spec_utils/LAE_spec_utils.py:432: RuntimeWarning: invalid value encountered in divide\n",
      "  self.flam = self.fnu * speed_of_light_angstrom / (self.wave)**2 * 1e-29 * 1e18\n",
      "/Users/myue/Research/Projects/JWST/dependencies/msa_spec_utils/LAE_spec_utils.py:433: RuntimeWarning: divide by zero encountered in divide\n",
      "  self.err_flam = self.err_fnu * (speed_of_light_angstrom / (self.wave)**2 * 1e-29 * 1e18)\n",
      "20:50 bilby INFO    : Running for label '4713_10235', output will be saved to './bilby_fit_civ_pypeit_v1/'\n",
      "20:50 bilby INFO    : Search parameters:\n",
      "20:50 bilby INFO    :   center = Uniform(minimum=11353.198030094665, maximum=11398.701829814485, name='center', latex_label='center', unit=None, boundary=None)\n",
      "20:50 bilby INFO    :   fwhm = Uniform(minimum=300, maximum=1000, name='fwhm', latex_label='fwhm', unit=None, boundary=None)\n",
      "20:50 bilby INFO    :   flux = Uniform(minimum=-8.723460655553398, maximum=8.723460655553398, name='flux', latex_label='flux', unit=None, boundary=None)\n",
      "20:50 bilby INFO    :   A = Uniform(minimum=-0.043226827444692244, maximum=0.08645365488938449, name='A', latex_label='A', unit=None, boundary=None)\n",
      "20:50 bilby INFO    :   beta = Uniform(minimum=-4, maximum=2, name='beta', latex_label='beta', unit=None, boundary=None)\n",
      "20:50 bilby INFO    :   wave0 = 11375.949929954575\n",
      "20:50 bilby INFO    : Single likelihood evaluation took 3.201e-05 s\n"
     ]
    },
    {
     "data": {
      "application/vnd.jupyter.widget-view+json": {
       "model_id": "e4a9949d7d5d4a85a9ec5313b138f0b2",
       "version_major": 2,
       "version_minor": 0
      },
      "text/plain": [
       "0it [00:00, ?it/s]"
      ]
     },
     "metadata": {},
     "output_type": "display_data"
    },
    {
     "name": "stderr",
     "output_type": "stream",
     "text": [
      "20:50 bilby INFO    : Checkpoint every check_point_delta_t = 600s\n",
      "20:50 bilby WARNING : Using cached result\n",
      "20:50 bilby INFO    : Summary of results:\n",
      "nsamples: 2371\n",
      "ln_noise_evidence:    nan\n",
      "ln_evidence: 330.405 +/-  0.260\n",
      "ln_bayes_factor:    nan +/-  0.260\n",
      "\n",
      "/Users/myue/Research/Projects/JWST/dependencies/msa_spec_utils/LAE_spec_utils.py:426: RuntimeWarning: divide by zero encountered in power\n",
      "  self.err_fnu = (self.ivar_fnu)**-0.5\n",
      "/Users/myue/Research/Projects/JWST/dependencies/msa_spec_utils/LAE_spec_utils.py:432: RuntimeWarning: invalid value encountered in divide\n",
      "  self.flam = self.fnu * speed_of_light_angstrom / (self.wave)**2 * 1e-29 * 1e18\n",
      "/Users/myue/Research/Projects/JWST/dependencies/msa_spec_utils/LAE_spec_utils.py:433: RuntimeWarning: divide by zero encountered in divide\n",
      "  self.err_flam = self.err_fnu * (speed_of_light_angstrom / (self.wave)**2 * 1e-29 * 1e18)\n",
      "20:50 bilby INFO    : Running for label '4713_10287', output will be saved to './bilby_fit_civ_pypeit_v1/'\n",
      "20:50 bilby INFO    : Search parameters:\n",
      "20:50 bilby INFO    :   center = Uniform(minimum=12011.086008713708, maximum=12059.226633999133, name='center', latex_label='center', unit=None, boundary=None)\n",
      "20:50 bilby INFO    :   fwhm = Uniform(minimum=300, maximum=1000, name='fwhm', latex_label='fwhm', unit=None, boundary=None)\n",
      "20:50 bilby INFO    :   flux = Uniform(minimum=-15.307484839996338, maximum=15.307484839996338, name='flux', latex_label='flux', unit=None, boundary=None)\n",
      "20:50 bilby INFO    :   A = Uniform(minimum=-0.07169755240734588, maximum=0.14339510481469175, name='A', latex_label='A', unit=None, boundary=None)\n",
      "20:50 bilby INFO    :   beta = Uniform(minimum=-4, maximum=2, name='beta', latex_label='beta', unit=None, boundary=None)\n",
      "20:50 bilby INFO    :   wave0 = 12035.15632135642\n",
      "20:50 bilby INFO    : Single likelihood evaluation took 3.528e-05 s\n"
     ]
    },
    {
     "data": {
      "application/vnd.jupyter.widget-view+json": {
       "model_id": "c43ca2293c144c4f92ad28f57c6727e4",
       "version_major": 2,
       "version_minor": 0
      },
      "text/plain": [
       "0it [00:00, ?it/s]"
      ]
     },
     "metadata": {},
     "output_type": "display_data"
    },
    {
     "name": "stderr",
     "output_type": "stream",
     "text": [
      "20:50 bilby INFO    : Checkpoint every check_point_delta_t = 600s\n",
      "20:50 bilby WARNING : Using cached result\n",
      "20:50 bilby INFO    : Summary of results:\n",
      "nsamples: 3220\n",
      "ln_noise_evidence:    nan\n",
      "ln_evidence: 359.479 +/-  0.329\n",
      "ln_bayes_factor:    nan +/-  0.329\n",
      "\n",
      "/Users/myue/Research/Projects/JWST/dependencies/msa_spec_utils/LAE_spec_utils.py:426: RuntimeWarning: divide by zero encountered in power\n",
      "  self.err_fnu = (self.ivar_fnu)**-0.5\n",
      "/Users/myue/Research/Projects/JWST/dependencies/msa_spec_utils/LAE_spec_utils.py:432: RuntimeWarning: invalid value encountered in divide\n",
      "  self.flam = self.fnu * speed_of_light_angstrom / (self.wave)**2 * 1e-29 * 1e18\n",
      "/Users/myue/Research/Projects/JWST/dependencies/msa_spec_utils/LAE_spec_utils.py:433: RuntimeWarning: divide by zero encountered in divide\n",
      "  self.err_flam = self.err_fnu * (speed_of_light_angstrom / (self.wave)**2 * 1e-29 * 1e18)\n",
      "20:50 bilby INFO    : Running for label '4713_10683', output will be saved to './bilby_fit_civ_pypeit_v1/'\n",
      "20:50 bilby INFO    : Search parameters:\n",
      "20:50 bilby INFO    :   center = Uniform(minimum=11328.125321910586, maximum=11373.528629814035, name='center', latex_label='center', unit=None, boundary=None)\n",
      "20:50 bilby INFO    :   fwhm = Uniform(minimum=300, maximum=1000, name='fwhm', latex_label='fwhm', unit=None, boundary=None)\n",
      "20:50 bilby INFO    :   flux = Uniform(minimum=-9.508904274277914, maximum=9.508904274277914, name='flux', latex_label='flux', unit=None, boundary=None)\n",
      "20:50 bilby INFO    :   A = Uniform(minimum=-0.04722317678030492, maximum=0.09444635356060983, name='A', latex_label='A', unit=None, boundary=None)\n",
      "20:50 bilby INFO    :   beta = Uniform(minimum=-4, maximum=2, name='beta', latex_label='beta', unit=None, boundary=None)\n",
      "20:50 bilby INFO    :   wave0 = 11350.82697586231\n",
      "20:50 bilby INFO    : Single likelihood evaluation took 3.852e-05 s\n"
     ]
    },
    {
     "data": {
      "application/vnd.jupyter.widget-view+json": {
       "model_id": "df6c8f18c4fe401f825c63eee2ff87de",
       "version_major": 2,
       "version_minor": 0
      },
      "text/plain": [
       "0it [00:00, ?it/s]"
      ]
     },
     "metadata": {},
     "output_type": "display_data"
    },
    {
     "name": "stderr",
     "output_type": "stream",
     "text": [
      "20:50 bilby INFO    : Checkpoint every check_point_delta_t = 600s\n",
      "20:50 bilby WARNING : Using cached result\n",
      "20:50 bilby INFO    : Summary of results:\n",
      "nsamples: 2618\n",
      "ln_noise_evidence:    nan\n",
      "ln_evidence: 315.452 +/-  0.278\n",
      "ln_bayes_factor:    nan +/-  0.278\n",
      "\n",
      "/Users/myue/Research/Projects/JWST/dependencies/msa_spec_utils/LAE_spec_utils.py:426: RuntimeWarning: divide by zero encountered in power\n",
      "  self.err_fnu = (self.ivar_fnu)**-0.5\n",
      "/Users/myue/Research/Projects/JWST/dependencies/msa_spec_utils/LAE_spec_utils.py:432: RuntimeWarning: invalid value encountered in divide\n",
      "  self.flam = self.fnu * speed_of_light_angstrom / (self.wave)**2 * 1e-29 * 1e18\n",
      "/Users/myue/Research/Projects/JWST/dependencies/msa_spec_utils/LAE_spec_utils.py:433: RuntimeWarning: divide by zero encountered in divide\n",
      "  self.err_flam = self.err_fnu * (speed_of_light_angstrom / (self.wave)**2 * 1e-29 * 1e18)\n",
      "20:50 bilby INFO    : Running for label '4713_10998', output will be saved to './bilby_fit_civ_pypeit_v1/'\n",
      "20:50 bilby INFO    : Search parameters:\n",
      "20:50 bilby INFO    :   center = Uniform(minimum=11325.188502385712, maximum=11370.580039469422, name='center', latex_label='center', unit=None, boundary=None)\n",
      "20:50 bilby INFO    :   fwhm = Uniform(minimum=300, maximum=1000, name='fwhm', latex_label='fwhm', unit=None, boundary=None)\n",
      "20:50 bilby INFO    :   flux = Uniform(minimum=-13.983644597293292, maximum=13.983644597293292, name='flux', latex_label='flux', unit=None, boundary=None)\n",
      "20:50 bilby INFO    :   A = Uniform(minimum=-0.06946366717521661, maximum=0.13892733435043322, name='A', latex_label='A', unit=None, boundary=None)\n",
      "20:50 bilby INFO    :   beta = Uniform(minimum=-4, maximum=2, name='beta', latex_label='beta', unit=None, boundary=None)\n",
      "20:50 bilby INFO    :   wave0 = 11347.884270927567\n",
      "20:50 bilby INFO    : Single likelihood evaluation took 3.273e-05 s\n"
     ]
    },
    {
     "data": {
      "application/vnd.jupyter.widget-view+json": {
       "model_id": "db9a1c88eb334f38b9143d71530ccd63",
       "version_major": 2,
       "version_minor": 0
      },
      "text/plain": [
       "0it [00:00, ?it/s]"
      ]
     },
     "metadata": {},
     "output_type": "display_data"
    },
    {
     "name": "stderr",
     "output_type": "stream",
     "text": [
      "20:50 bilby INFO    : Checkpoint every check_point_delta_t = 600s\n",
      "20:50 bilby WARNING : Using cached result\n",
      "20:50 bilby INFO    : Summary of results:\n",
      "nsamples: 3049\n",
      "ln_noise_evidence:    nan\n",
      "ln_evidence: 305.834 +/-  0.306\n",
      "ln_bayes_factor:    nan +/-  0.306\n",
      "\n",
      "/Users/myue/Research/Projects/JWST/dependencies/msa_spec_utils/LAE_spec_utils.py:426: RuntimeWarning: divide by zero encountered in power\n",
      "  self.err_fnu = (self.ivar_fnu)**-0.5\n",
      "/Users/myue/Research/Projects/JWST/dependencies/msa_spec_utils/LAE_spec_utils.py:432: RuntimeWarning: invalid value encountered in divide\n",
      "  self.flam = self.fnu * speed_of_light_angstrom / (self.wave)**2 * 1e-29 * 1e18\n",
      "/Users/myue/Research/Projects/JWST/dependencies/msa_spec_utils/LAE_spec_utils.py:433: RuntimeWarning: divide by zero encountered in divide\n",
      "  self.err_flam = self.err_fnu * (speed_of_light_angstrom / (self.wave)**2 * 1e-29 * 1e18)\n",
      "20:50 bilby INFO    : Running for label '4713_11362', output will be saved to './bilby_fit_civ_pypeit_v1/'\n",
      "20:50 bilby INFO    : Search parameters:\n",
      "20:50 bilby INFO    :   center = Uniform(minimum=11328.653778905109, maximum=11374.059204872663, name='center', latex_label='center', unit=None, boundary=None)\n",
      "20:50 bilby INFO    :   fwhm = Uniform(minimum=300, maximum=1000, name='fwhm', latex_label='fwhm', unit=None, boundary=None)\n",
      "20:50 bilby INFO    :   flux = Uniform(minimum=-9.43210515760702, maximum=9.43210515760702, name='flux', latex_label='flux', unit=None, boundary=None)\n",
      "20:50 bilby INFO    :   A = Uniform(minimum=-0.04683959148506278, maximum=0.09367918297012556, name='A', latex_label='A', unit=None, boundary=None)\n",
      "20:50 bilby INFO    :   beta = Uniform(minimum=-4, maximum=2, name='beta', latex_label='beta', unit=None, boundary=None)\n",
      "20:50 bilby INFO    :   wave0 = 11351.356491888886\n",
      "20:50 bilby INFO    : Single likelihood evaluation took 3.404e-05 s\n"
     ]
    },
    {
     "data": {
      "application/vnd.jupyter.widget-view+json": {
       "model_id": "131371fb09d64bde9873f229e3c7769f",
       "version_major": 2,
       "version_minor": 0
      },
      "text/plain": [
       "0it [00:00, ?it/s]"
      ]
     },
     "metadata": {},
     "output_type": "display_data"
    },
    {
     "name": "stderr",
     "output_type": "stream",
     "text": [
      "20:50 bilby INFO    : Checkpoint every check_point_delta_t = 600s\n",
      "20:50 bilby WARNING : Using cached result\n",
      "20:50 bilby INFO    : Summary of results:\n",
      "nsamples: 2792\n",
      "ln_noise_evidence:    nan\n",
      "ln_evidence: 307.027 +/-  0.279\n",
      "ln_bayes_factor:    nan +/-  0.279\n",
      "\n",
      "/Users/myue/Research/Projects/JWST/dependencies/msa_spec_utils/LAE_spec_utils.py:426: RuntimeWarning: divide by zero encountered in power\n",
      "  self.err_fnu = (self.ivar_fnu)**-0.5\n",
      "/Users/myue/Research/Projects/JWST/dependencies/msa_spec_utils/LAE_spec_utils.py:432: RuntimeWarning: invalid value encountered in divide\n",
      "  self.flam = self.fnu * speed_of_light_angstrom / (self.wave)**2 * 1e-29 * 1e18\n",
      "/Users/myue/Research/Projects/JWST/dependencies/msa_spec_utils/LAE_spec_utils.py:433: RuntimeWarning: divide by zero encountered in divide\n",
      "  self.err_flam = self.err_fnu * (speed_of_light_angstrom / (self.wave)**2 * 1e-29 * 1e18)\n",
      "20:50 bilby INFO    : Running for label '4713_11743', output will be saved to './bilby_fit_civ_pypeit_v1/'\n",
      "20:50 bilby INFO    : Search parameters:\n",
      "20:50 bilby INFO    :   center = Uniform(minimum=12075.333120127561, maximum=12123.731248865548, name='center', latex_label='center', unit=None, boundary=None)\n",
      "20:50 bilby INFO    :   fwhm = Uniform(minimum=300, maximum=1000, name='fwhm', latex_label='fwhm', unit=None, boundary=None)\n",
      "20:50 bilby INFO    :   flux = Uniform(minimum=-11.129823261533327, maximum=11.129823261533327, name='flux', latex_label='flux', unit=None, boundary=None)\n",
      "20:50 bilby INFO    :   A = Uniform(minimum=-0.05185276461655156, maximum=0.10370552923310312, name='A', latex_label='A', unit=None, boundary=None)\n",
      "20:50 bilby INFO    :   beta = Uniform(minimum=-4, maximum=2, name='beta', latex_label='beta', unit=None, boundary=None)\n",
      "20:50 bilby INFO    :   wave0 = 12099.532184496555\n",
      "20:50 bilby INFO    : Single likelihood evaluation took 3.684e-05 s\n"
     ]
    },
    {
     "data": {
      "application/vnd.jupyter.widget-view+json": {
       "model_id": "bae3466b65174aeca25d671375823227",
       "version_major": 2,
       "version_minor": 0
      },
      "text/plain": [
       "0it [00:00, ?it/s]"
      ]
     },
     "metadata": {},
     "output_type": "display_data"
    },
    {
     "name": "stderr",
     "output_type": "stream",
     "text": [
      "20:50 bilby INFO    : Checkpoint every check_point_delta_t = 600s\n",
      "20:50 bilby WARNING : Using cached result\n",
      "20:50 bilby INFO    : Summary of results:\n",
      "nsamples: 1716\n",
      "ln_noise_evidence:    nan\n",
      "ln_evidence: 175.069 +/-  0.200\n",
      "ln_bayes_factor:    nan +/-  0.200\n",
      "\n",
      "/Users/myue/Research/Projects/JWST/dependencies/msa_spec_utils/LAE_spec_utils.py:426: RuntimeWarning: divide by zero encountered in power\n",
      "  self.err_fnu = (self.ivar_fnu)**-0.5\n",
      "/Users/myue/Research/Projects/JWST/dependencies/msa_spec_utils/LAE_spec_utils.py:432: RuntimeWarning: invalid value encountered in divide\n",
      "  self.flam = self.fnu * speed_of_light_angstrom / (self.wave)**2 * 1e-29 * 1e18\n",
      "/Users/myue/Research/Projects/JWST/dependencies/msa_spec_utils/LAE_spec_utils.py:433: RuntimeWarning: divide by zero encountered in divide\n",
      "  self.err_flam = self.err_fnu * (speed_of_light_angstrom / (self.wave)**2 * 1e-29 * 1e18)\n",
      "20:50 bilby INFO    : Running for label '4713_11981', output will be saved to './bilby_fit_civ_pypeit_v1/'\n",
      "20:50 bilby INFO    : Search parameters:\n",
      "20:50 bilby INFO    :   center = Uniform(minimum=12091.71655705124, maximum=12140.180350867078, name='center', latex_label='center', unit=None, boundary=None)\n",
      "20:50 bilby INFO    :   fwhm = Uniform(minimum=300, maximum=1000, name='fwhm', latex_label='fwhm', unit=None, boundary=None)\n",
      "20:50 bilby INFO    :   flux = Uniform(minimum=-15.236558564230718, maximum=15.236558564230718, name='flux', latex_label='flux', unit=None, boundary=None)\n",
      "20:50 bilby INFO    :   A = Uniform(minimum=-0.07088946454174888, maximum=0.14177892908349776, name='A', latex_label='A', unit=None, boundary=None)\n",
      "20:50 bilby INFO    :   beta = Uniform(minimum=-4, maximum=2, name='beta', latex_label='beta', unit=None, boundary=None)\n",
      "20:50 bilby INFO    :   wave0 = 12115.94845395916\n",
      "20:50 bilby INFO    : Single likelihood evaluation took 3.497e-05 s\n"
     ]
    },
    {
     "data": {
      "application/vnd.jupyter.widget-view+json": {
       "model_id": "752a9ad1c8cc4b13972d8c3554c097ff",
       "version_major": 2,
       "version_minor": 0
      },
      "text/plain": [
       "0it [00:00, ?it/s]"
      ]
     },
     "metadata": {},
     "output_type": "display_data"
    },
    {
     "name": "stderr",
     "output_type": "stream",
     "text": [
      "20:50 bilby INFO    : Checkpoint every check_point_delta_t = 600s\n",
      "20:50 bilby WARNING : Using cached result\n",
      "20:50 bilby INFO    : Summary of results:\n",
      "nsamples: 3401\n",
      "ln_noise_evidence:    nan\n",
      "ln_evidence: 184.832 +/-  0.327\n",
      "ln_bayes_factor:    nan +/-  0.327\n",
      "\n",
      "20:50 bilby INFO    : Running for label '4713_12217', output will be saved to './bilby_fit_civ_pypeit_v1/'\n",
      "20:50 bilby INFO    : Search parameters:\n",
      "20:50 bilby INFO    :   center = Uniform(minimum=12016.514105159486, maximum=12064.676486342489, name='center', latex_label='center', unit=None, boundary=None)\n",
      "20:50 bilby INFO    :   fwhm = Uniform(minimum=300, maximum=1000, name='fwhm', latex_label='fwhm', unit=None, boundary=None)\n",
      "20:50 bilby INFO    :   flux = Uniform(minimum=-8.350389974719382, maximum=8.350389974719382, name='flux', latex_label='flux', unit=None, boundary=None)\n",
      "20:50 bilby INFO    :   A = Uniform(minimum=-0.03909408262366459, maximum=0.07818816524732917, name='A', latex_label='A', unit=None, boundary=None)\n",
      "20:50 bilby INFO    :   beta = Uniform(minimum=-4, maximum=2, name='beta', latex_label='beta', unit=None, boundary=None)\n",
      "20:50 bilby INFO    :   wave0 = 12040.595295750987\n",
      "20:50 bilby INFO    : Single likelihood evaluation took 3.337e-05 s\n"
     ]
    },
    {
     "data": {
      "application/vnd.jupyter.widget-view+json": {
       "model_id": "0aca5f5953ee4f07ae98ba6022506daa",
       "version_major": 2,
       "version_minor": 0
      },
      "text/plain": [
       "0it [00:00, ?it/s]"
      ]
     },
     "metadata": {},
     "output_type": "display_data"
    },
    {
     "name": "stderr",
     "output_type": "stream",
     "text": [
      "20:50 bilby INFO    : Checkpoint every check_point_delta_t = 600s\n",
      "20:50 bilby WARNING : Using cached result\n",
      "20:50 bilby INFO    : Summary of results:\n",
      "nsamples: 2579\n",
      "ln_noise_evidence:    nan\n",
      "ln_evidence: 377.285 +/-  0.275\n",
      "ln_bayes_factor:    nan +/-  0.275\n",
      "\n",
      "/Users/myue/Research/Projects/JWST/dependencies/msa_spec_utils/LAE_spec_utils.py:426: RuntimeWarning: divide by zero encountered in power\n",
      "  self.err_fnu = (self.ivar_fnu)**-0.5\n",
      "/Users/myue/Research/Projects/JWST/dependencies/msa_spec_utils/LAE_spec_utils.py:432: RuntimeWarning: invalid value encountered in divide\n",
      "  self.flam = self.fnu * speed_of_light_angstrom / (self.wave)**2 * 1e-29 * 1e18\n",
      "/Users/myue/Research/Projects/JWST/dependencies/msa_spec_utils/LAE_spec_utils.py:433: RuntimeWarning: divide by zero encountered in divide\n",
      "  self.err_flam = self.err_fnu * (speed_of_light_angstrom / (self.wave)**2 * 1e-29 * 1e18)\n",
      "20:50 bilby INFO    : Running for label '4713_12285', output will be saved to './bilby_fit_civ_pypeit_v1/'\n",
      "20:50 bilby INFO    : Search parameters:\n",
      "20:50 bilby INFO    :   center = Uniform(minimum=11134.864406885576, maximum=11179.493121943233, name='center', latex_label='center', unit=None, boundary=None)\n",
      "20:50 bilby INFO    :   fwhm = Uniform(minimum=300, maximum=1000, name='fwhm', latex_label='fwhm', unit=None, boundary=None)\n",
      "20:50 bilby INFO    :   flux = Uniform(minimum=-10.030567323681714, maximum=10.030567323681714, name='flux', latex_label='flux', unit=None, boundary=None)\n",
      "20:50 bilby INFO    :   A = Uniform(minimum=-0.05067845114052994, maximum=0.10135690228105988, name='A', latex_label='A', unit=None, boundary=None)\n",
      "20:50 bilby INFO    :   beta = Uniform(minimum=-4, maximum=2, name='beta', latex_label='beta', unit=None, boundary=None)\n",
      "20:50 bilby INFO    :   wave0 = 11157.178764414404\n",
      "20:50 bilby INFO    : Single likelihood evaluation took 3.607e-05 s\n"
     ]
    },
    {
     "data": {
      "application/vnd.jupyter.widget-view+json": {
       "model_id": "fb0bd860a30f4bc18f3228bff0bd18e6",
       "version_major": 2,
       "version_minor": 0
      },
      "text/plain": [
       "0it [00:00, ?it/s]"
      ]
     },
     "metadata": {},
     "output_type": "display_data"
    },
    {
     "name": "stderr",
     "output_type": "stream",
     "text": [
      "20:50 bilby INFO    : Checkpoint every check_point_delta_t = 600s\n",
      "20:50 bilby WARNING : Using cached result\n",
      "20:50 bilby INFO    : Summary of results:\n",
      "nsamples: 2579\n",
      "ln_noise_evidence:    nan\n",
      "ln_evidence: 313.741 +/-  0.279\n",
      "ln_bayes_factor:    nan +/-  0.279\n",
      "\n",
      "/Users/myue/Research/Projects/JWST/dependencies/msa_spec_utils/LAE_spec_utils.py:426: RuntimeWarning: divide by zero encountered in power\n",
      "  self.err_fnu = (self.ivar_fnu)**-0.5\n",
      "/Users/myue/Research/Projects/JWST/dependencies/msa_spec_utils/LAE_spec_utils.py:432: RuntimeWarning: invalid value encountered in divide\n",
      "  self.flam = self.fnu * speed_of_light_angstrom / (self.wave)**2 * 1e-29 * 1e18\n",
      "/Users/myue/Research/Projects/JWST/dependencies/msa_spec_utils/LAE_spec_utils.py:433: RuntimeWarning: divide by zero encountered in divide\n",
      "  self.err_flam = self.err_fnu * (speed_of_light_angstrom / (self.wave)**2 * 1e-29 * 1e18)\n",
      "20:50 bilby INFO    : Running for label '4713_12643', output will be saved to './bilby_fit_civ_pypeit_v1/'\n",
      "20:50 bilby INFO    : Search parameters:\n",
      "20:50 bilby INFO    :   center = Uniform(minimum=11731.897844666879, maximum=11778.919479314844, name='center', latex_label='center', unit=None, boundary=None)\n",
      "20:50 bilby INFO    :   fwhm = Uniform(minimum=300, maximum=1000, name='fwhm', latex_label='fwhm', unit=None, boundary=None)\n",
      "20:50 bilby INFO    :   flux = Uniform(minimum=-7.178052941998968, maximum=7.178052941998968, name='flux', latex_label='flux', unit=None, boundary=None)\n",
      "20:50 bilby INFO    :   A = Uniform(minimum=-0.0352444471090831, maximum=0.0704888942181662, name='A', latex_label='A', unit=None, boundary=None)\n",
      "20:50 bilby INFO    :   beta = Uniform(minimum=-4, maximum=2, name='beta', latex_label='beta', unit=None, boundary=None)\n",
      "20:50 bilby INFO    :   wave0 = 11755.408661990861\n",
      "20:50 bilby INFO    : Single likelihood evaluation took 4.375e-05 s\n"
     ]
    },
    {
     "data": {
      "application/vnd.jupyter.widget-view+json": {
       "model_id": "3eba92260e6e4a6a8b92d8cf8419240d",
       "version_major": 2,
       "version_minor": 0
      },
      "text/plain": [
       "0it [00:00, ?it/s]"
      ]
     },
     "metadata": {},
     "output_type": "display_data"
    },
    {
     "name": "stderr",
     "output_type": "stream",
     "text": [
      "20:50 bilby INFO    : Checkpoint every check_point_delta_t = 600s\n",
      "20:50 bilby WARNING : Using cached result\n",
      "20:50 bilby INFO    : Summary of results:\n",
      "nsamples: 2221\n",
      "ln_noise_evidence:    nan\n",
      "ln_evidence: 336.118 +/-  0.253\n",
      "ln_bayes_factor:    nan +/-  0.253\n",
      "\n",
      "/Users/myue/Research/Projects/JWST/dependencies/msa_spec_utils/LAE_spec_utils.py:426: RuntimeWarning: divide by zero encountered in power\n",
      "  self.err_fnu = (self.ivar_fnu)**-0.5\n",
      "/Users/myue/Research/Projects/JWST/dependencies/msa_spec_utils/LAE_spec_utils.py:432: RuntimeWarning: invalid value encountered in divide\n",
      "  self.flam = self.fnu * speed_of_light_angstrom / (self.wave)**2 * 1e-29 * 1e18\n",
      "/Users/myue/Research/Projects/JWST/dependencies/msa_spec_utils/LAE_spec_utils.py:433: RuntimeWarning: divide by zero encountered in divide\n",
      "  self.err_flam = self.err_fnu * (speed_of_light_angstrom / (self.wave)**2 * 1e-29 * 1e18)\n",
      "20:50 bilby INFO    : Running for label '4713_12754', output will be saved to './bilby_fit_civ_pypeit_v1/'\n",
      "20:50 bilby INFO    : Search parameters:\n",
      "20:50 bilby INFO    :   center = Uniform(minimum=11327.146651291176, maximum=11372.546036667092, name='center', latex_label='center', unit=None, boundary=None)\n",
      "20:50 bilby INFO    :   fwhm = Uniform(minimum=300, maximum=1000, name='fwhm', latex_label='fwhm', unit=None, boundary=None)\n",
      "20:50 bilby INFO    :   flux = Uniform(minimum=-6.364483237195717, maximum=6.364483237195717, name='flux', latex_label='flux', unit=None, boundary=None)\n",
      "20:50 bilby INFO    :   A = Uniform(minimum=-0.04853926462785631, maximum=0.09707852925571261, name='A', latex_label='A', unit=None, boundary=None)\n",
      "20:50 bilby INFO    :   beta = Uniform(minimum=-4, maximum=2, name='beta', latex_label='beta', unit=None, boundary=None)\n",
      "20:50 bilby INFO    :   wave0 = 11349.846343979134\n",
      "20:50 bilby INFO    : Single likelihood evaluation took 3.978e-05 s\n"
     ]
    },
    {
     "data": {
      "application/vnd.jupyter.widget-view+json": {
       "model_id": "225ee84ab3cf4f82a560fa1ed43aefdb",
       "version_major": 2,
       "version_minor": 0
      },
      "text/plain": [
       "0it [00:00, ?it/s]"
      ]
     },
     "metadata": {},
     "output_type": "display_data"
    },
    {
     "name": "stderr",
     "output_type": "stream",
     "text": [
      "20:50 bilby INFO    : Checkpoint every check_point_delta_t = 600s\n",
      "20:50 bilby WARNING : Using cached result\n",
      "20:50 bilby INFO    : Summary of results:\n",
      "nsamples: 2156\n",
      "ln_noise_evidence:    nan\n",
      "ln_evidence: 271.642 +/-  0.249\n",
      "ln_bayes_factor:    nan +/-  0.249\n",
      "\n",
      "/Users/myue/Research/Projects/JWST/dependencies/msa_spec_utils/LAE_spec_utils.py:426: RuntimeWarning: divide by zero encountered in power\n",
      "  self.err_fnu = (self.ivar_fnu)**-0.5\n",
      "/Users/myue/Research/Projects/JWST/dependencies/msa_spec_utils/LAE_spec_utils.py:432: RuntimeWarning: invalid value encountered in divide\n",
      "  self.flam = self.fnu * speed_of_light_angstrom / (self.wave)**2 * 1e-29 * 1e18\n",
      "/Users/myue/Research/Projects/JWST/dependencies/msa_spec_utils/LAE_spec_utils.py:433: RuntimeWarning: divide by zero encountered in divide\n",
      "  self.err_flam = self.err_fnu * (speed_of_light_angstrom / (self.wave)**2 * 1e-29 * 1e18)\n",
      "20:50 bilby INFO    : Running for label '4713_12817', output will be saved to './bilby_fit_civ_pypeit_v1/'\n",
      "20:50 bilby INFO    : Search parameters:\n",
      "20:50 bilby INFO    :   center = Uniform(minimum=10676.77891721344, maximum=10719.571618284437, name='center', latex_label='center', unit=None, boundary=None)\n",
      "20:50 bilby INFO    :   fwhm = Uniform(minimum=300, maximum=1000, name='fwhm', latex_label='fwhm', unit=None, boundary=None)\n",
      "20:50 bilby INFO    :   flux = Uniform(minimum=-5.178077906940791, maximum=5.178077906940791, name='flux', latex_label='flux', unit=None, boundary=None)\n",
      "20:50 bilby INFO    :   A = Uniform(minimum=-0.031028857516899884, maximum=0.06205771503379977, name='A', latex_label='A', unit=None, boundary=None)\n",
      "20:50 bilby INFO    :   beta = Uniform(minimum=-4, maximum=2, name='beta', latex_label='beta', unit=None, boundary=None)\n",
      "20:50 bilby INFO    :   wave0 = 10698.175267748938\n",
      "20:50 bilby INFO    : Single likelihood evaluation took 4.027e-05 s\n"
     ]
    },
    {
     "data": {
      "application/vnd.jupyter.widget-view+json": {
       "model_id": "c7917ce1147e471bbc5159ce167b23c5",
       "version_major": 2,
       "version_minor": 0
      },
      "text/plain": [
       "0it [00:00, ?it/s]"
      ]
     },
     "metadata": {},
     "output_type": "display_data"
    },
    {
     "name": "stderr",
     "output_type": "stream",
     "text": [
      "20:50 bilby INFO    : Checkpoint every check_point_delta_t = 600s\n",
      "20:50 bilby WARNING : Using cached result\n",
      "20:50 bilby INFO    : Summary of results:\n",
      "nsamples: 2354\n",
      "ln_noise_evidence:    nan\n",
      "ln_evidence: 314.152 +/-  0.255\n",
      "ln_bayes_factor:    nan +/-  0.255\n",
      "\n",
      "/Users/myue/Research/Projects/JWST/dependencies/msa_spec_utils/LAE_spec_utils.py:426: RuntimeWarning: divide by zero encountered in power\n",
      "  self.err_fnu = (self.ivar_fnu)**-0.5\n",
      "/Users/myue/Research/Projects/JWST/dependencies/msa_spec_utils/LAE_spec_utils.py:432: RuntimeWarning: invalid value encountered in divide\n",
      "  self.flam = self.fnu * speed_of_light_angstrom / (self.wave)**2 * 1e-29 * 1e18\n",
      "/Users/myue/Research/Projects/JWST/dependencies/msa_spec_utils/LAE_spec_utils.py:433: RuntimeWarning: divide by zero encountered in divide\n",
      "  self.err_flam = self.err_fnu * (speed_of_light_angstrom / (self.wave)**2 * 1e-29 * 1e18)\n",
      "20:50 bilby INFO    : Running for label '4713_13590', output will be saved to './bilby_fit_civ_pypeit_v1/'\n",
      "20:50 bilby INFO    : Search parameters:\n",
      "20:50 bilby INFO    :   center = Uniform(minimum=11111.67899336657, maximum=11156.214780915134, name='center', latex_label='center', unit=None, boundary=None)\n",
      "20:50 bilby INFO    :   fwhm = Uniform(minimum=300, maximum=1000, name='fwhm', latex_label='fwhm', unit=None, boundary=None)\n",
      "20:50 bilby INFO    :   flux = Uniform(minimum=-12.010937898929189, maximum=12.010937898929189, name='flux', latex_label='flux', unit=None, boundary=None)\n",
      "20:50 bilby INFO    :   A = Uniform(minimum=-0.060810700179099356, maximum=0.12162140035819871, name='A', latex_label='A', unit=None, boundary=None)\n",
      "20:50 bilby INFO    :   beta = Uniform(minimum=-4, maximum=2, name='beta', latex_label='beta', unit=None, boundary=None)\n",
      "20:50 bilby INFO    :   wave0 = 11133.946887140852\n",
      "20:50 bilby INFO    : Single likelihood evaluation took 3.334e-05 s\n"
     ]
    },
    {
     "data": {
      "application/vnd.jupyter.widget-view+json": {
       "model_id": "e11a58e5c19c43549a242f155937010f",
       "version_major": 2,
       "version_minor": 0
      },
      "text/plain": [
       "0it [00:00, ?it/s]"
      ]
     },
     "metadata": {},
     "output_type": "display_data"
    },
    {
     "name": "stderr",
     "output_type": "stream",
     "text": [
      "20:50 bilby INFO    : Checkpoint every check_point_delta_t = 600s\n",
      "20:50 bilby WARNING : Using cached result\n",
      "20:50 bilby INFO    : Summary of results:\n",
      "nsamples: 2709\n",
      "ln_noise_evidence:    nan\n",
      "ln_evidence: 283.192 +/-  0.273\n",
      "ln_bayes_factor:    nan +/-  0.273\n",
      "\n",
      "/Users/myue/Research/Projects/JWST/dependencies/msa_spec_utils/LAE_spec_utils.py:426: RuntimeWarning: divide by zero encountered in power\n",
      "  self.err_fnu = (self.ivar_fnu)**-0.5\n",
      "/Users/myue/Research/Projects/JWST/dependencies/msa_spec_utils/LAE_spec_utils.py:432: RuntimeWarning: invalid value encountered in divide\n",
      "  self.flam = self.fnu * speed_of_light_angstrom / (self.wave)**2 * 1e-29 * 1e18\n",
      "/Users/myue/Research/Projects/JWST/dependencies/msa_spec_utils/LAE_spec_utils.py:433: RuntimeWarning: divide by zero encountered in divide\n",
      "  self.err_flam = self.err_fnu * (speed_of_light_angstrom / (self.wave)**2 * 1e-29 * 1e18)\n",
      "20:50 bilby INFO    : Running for label '4713_13753', output will be saved to './bilby_fit_civ_pypeit_v1/'\n",
      "20:50 bilby INFO    : Search parameters:\n",
      "20:50 bilby INFO    :   center = Uniform(minimum=11100.178111432055, maximum=11144.66780326144, name='center', latex_label='center', unit=None, boundary=None)\n",
      "20:50 bilby INFO    :   fwhm = Uniform(minimum=300, maximum=1000, name='fwhm', latex_label='fwhm', unit=None, boundary=None)\n",
      "20:50 bilby INFO    :   flux = Uniform(minimum=-12.153898220116488, maximum=12.153898220116488, name='flux', latex_label='flux', unit=None, boundary=None)\n",
      "20:50 bilby INFO    :   A = Uniform(minimum=-0.06159825603635128, maximum=0.12319651207270256, name='A', latex_label='A', unit=None, boundary=None)\n",
      "20:50 bilby INFO    :   beta = Uniform(minimum=-4, maximum=2, name='beta', latex_label='beta', unit=None, boundary=None)\n",
      "20:50 bilby INFO    :   wave0 = 11122.422957346747\n",
      "20:50 bilby INFO    : Single likelihood evaluation took 3.644e-05 s\n"
     ]
    },
    {
     "data": {
      "application/vnd.jupyter.widget-view+json": {
       "model_id": "717d8047d0ee42d0a8af875aebe4dfce",
       "version_major": 2,
       "version_minor": 0
      },
      "text/plain": [
       "0it [00:00, ?it/s]"
      ]
     },
     "metadata": {},
     "output_type": "display_data"
    },
    {
     "name": "stderr",
     "output_type": "stream",
     "text": [
      "20:50 bilby INFO    : Checkpoint every check_point_delta_t = 600s\n",
      "20:50 bilby WARNING : Using cached result\n",
      "20:50 bilby INFO    : Summary of results:\n",
      "nsamples: 2388\n",
      "ln_noise_evidence:    nan\n",
      "ln_evidence: 311.967 +/-  0.268\n",
      "ln_bayes_factor:    nan +/-  0.268\n",
      "\n",
      "/Users/myue/Research/Projects/JWST/dependencies/msa_spec_utils/LAE_spec_utils.py:426: RuntimeWarning: divide by zero encountered in power\n",
      "  self.err_fnu = (self.ivar_fnu)**-0.5\n",
      "/Users/myue/Research/Projects/JWST/dependencies/msa_spec_utils/LAE_spec_utils.py:432: RuntimeWarning: invalid value encountered in divide\n",
      "  self.flam = self.fnu * speed_of_light_angstrom / (self.wave)**2 * 1e-29 * 1e18\n",
      "/Users/myue/Research/Projects/JWST/dependencies/msa_spec_utils/LAE_spec_utils.py:433: RuntimeWarning: divide by zero encountered in divide\n",
      "  self.err_flam = self.err_fnu * (speed_of_light_angstrom / (self.wave)**2 * 1e-29 * 1e18)\n",
      "20:50 bilby INFO    : Running for label '4713_13864', output will be saved to './bilby_fit_civ_pypeit_v1/'\n",
      "20:50 bilby INFO    : Search parameters:\n",
      "20:50 bilby INFO    :   center = Uniform(minimum=11248.370695601068, maximum=11293.454345683636, name='center', latex_label='center', unit=None, boundary=None)\n",
      "20:50 bilby INFO    :   fwhm = Uniform(minimum=300, maximum=1000, name='fwhm', latex_label='fwhm', unit=None, boundary=None)\n",
      "20:50 bilby INFO    :   flux = Uniform(minimum=-6.942626425536118, maximum=6.942626425536118, name='flux', latex_label='flux', unit=None, boundary=None)\n",
      "20:50 bilby INFO    :   A = Uniform(minimum=-0.034722976441514924, maximum=0.06944595288302985, name='A', latex_label='A', unit=None, boundary=None)\n",
      "20:50 bilby INFO    :   beta = Uniform(minimum=-4, maximum=2, name='beta', latex_label='beta', unit=None, boundary=None)\n",
      "20:50 bilby INFO    :   wave0 = 11270.912520642352\n",
      "20:50 bilby INFO    : Single likelihood evaluation took 3.296e-05 s\n"
     ]
    },
    {
     "data": {
      "application/vnd.jupyter.widget-view+json": {
       "model_id": "2c1475ea74fa443c8655d58f0b7cca49",
       "version_major": 2,
       "version_minor": 0
      },
      "text/plain": [
       "0it [00:00, ?it/s]"
      ]
     },
     "metadata": {},
     "output_type": "display_data"
    },
    {
     "name": "stderr",
     "output_type": "stream",
     "text": [
      "20:50 bilby INFO    : Checkpoint every check_point_delta_t = 600s\n",
      "20:50 bilby WARNING : Using cached result\n",
      "20:50 bilby INFO    : Summary of results:\n",
      "nsamples: 2204\n",
      "ln_noise_evidence:    nan\n",
      "ln_evidence: 329.305 +/-  0.248\n",
      "ln_bayes_factor:    nan +/-  0.248\n",
      "\n",
      "/Users/myue/Research/Projects/JWST/dependencies/msa_spec_utils/LAE_spec_utils.py:426: RuntimeWarning: divide by zero encountered in power\n",
      "  self.err_fnu = (self.ivar_fnu)**-0.5\n",
      "/Users/myue/Research/Projects/JWST/dependencies/msa_spec_utils/LAE_spec_utils.py:432: RuntimeWarning: invalid value encountered in divide\n",
      "  self.flam = self.fnu * speed_of_light_angstrom / (self.wave)**2 * 1e-29 * 1e18\n",
      "/Users/myue/Research/Projects/JWST/dependencies/msa_spec_utils/LAE_spec_utils.py:433: RuntimeWarning: divide by zero encountered in divide\n",
      "  self.err_flam = self.err_fnu * (speed_of_light_angstrom / (self.wave)**2 * 1e-29 * 1e18)\n",
      "20:50 bilby INFO    : Running for label '4713_15437', output will be saved to './bilby_fit_civ_pypeit_v1/'\n",
      "20:50 bilby INFO    : Search parameters:\n",
      "20:50 bilby INFO    :   center = Uniform(minimum=12008.38638407024, maximum=12056.516189216814, name='center', latex_label='center', unit=None, boundary=None)\n",
      "20:50 bilby INFO    :   fwhm = Uniform(minimum=300, maximum=1000, name='fwhm', latex_label='fwhm', unit=None, boundary=None)\n",
      "20:50 bilby INFO    :   flux = Uniform(minimum=-9.088026481586143, maximum=9.088026481586143, name='flux', latex_label='flux', unit=None, boundary=None)\n",
      "20:50 bilby INFO    :   A = Uniform(minimum=-0.04257627863642525, maximum=0.0851525572728505, name='A', latex_label='A', unit=None, boundary=None)\n",
      "20:50 bilby INFO    :   beta = Uniform(minimum=-4, maximum=2, name='beta', latex_label='beta', unit=None, boundary=None)\n",
      "20:50 bilby INFO    :   wave0 = 12032.451286643527\n",
      "20:50 bilby INFO    : Single likelihood evaluation took 3.857e-05 s\n"
     ]
    },
    {
     "data": {
      "application/vnd.jupyter.widget-view+json": {
       "model_id": "704b999fc7564e02b12a8750ad9ade8a",
       "version_major": 2,
       "version_minor": 0
      },
      "text/plain": [
       "0it [00:00, ?it/s]"
      ]
     },
     "metadata": {},
     "output_type": "display_data"
    },
    {
     "name": "stderr",
     "output_type": "stream",
     "text": [
      "20:50 bilby INFO    : Checkpoint every check_point_delta_t = 600s\n",
      "20:50 bilby WARNING : Using cached result\n",
      "20:50 bilby INFO    : Summary of results:\n",
      "nsamples: 2345\n",
      "ln_noise_evidence:    nan\n",
      "ln_evidence: 323.622 +/-  0.263\n",
      "ln_bayes_factor:    nan +/-  0.263\n",
      "\n",
      "/Users/myue/Research/Projects/JWST/dependencies/msa_spec_utils/LAE_spec_utils.py:426: RuntimeWarning: divide by zero encountered in power\n",
      "  self.err_fnu = (self.ivar_fnu)**-0.5\n",
      "/Users/myue/Research/Projects/JWST/dependencies/msa_spec_utils/LAE_spec_utils.py:432: RuntimeWarning: invalid value encountered in divide\n",
      "  self.flam = self.fnu * speed_of_light_angstrom / (self.wave)**2 * 1e-29 * 1e18\n",
      "/Users/myue/Research/Projects/JWST/dependencies/msa_spec_utils/LAE_spec_utils.py:433: RuntimeWarning: divide by zero encountered in divide\n",
      "  self.err_flam = self.err_fnu * (speed_of_light_angstrom / (self.wave)**2 * 1e-29 * 1e18)\n",
      "20:50 bilby INFO    : Running for label '4713_15612', output will be saved to './bilby_fit_civ_pypeit_v1/'\n",
      "20:50 bilby INFO    : Search parameters:\n",
      "20:50 bilby INFO    :   center = Uniform(minimum=12002.191294095759, maximum=12050.296269222395, name='center', latex_label='center', unit=None, boundary=None)\n",
      "20:50 bilby INFO    :   fwhm = Uniform(minimum=300, maximum=1000, name='fwhm', latex_label='fwhm', unit=None, boundary=None)\n",
      "20:50 bilby INFO    :   flux = Uniform(minimum=-8.87506883862695, maximum=8.87506883862695, name='flux', latex_label='flux', unit=None, boundary=None)\n",
      "20:50 bilby INFO    :   A = Uniform(minimum=-0.04160005979529201, maximum=0.08320011959058402, name='A', latex_label='A', unit=None, boundary=None)\n",
      "20:50 bilby INFO    :   beta = Uniform(minimum=-4, maximum=2, name='beta', latex_label='beta', unit=None, boundary=None)\n",
      "20:50 bilby INFO    :   wave0 = 12026.243781659077\n",
      "20:50 bilby INFO    : Single likelihood evaluation took 3.145e-05 s\n"
     ]
    },
    {
     "data": {
      "application/vnd.jupyter.widget-view+json": {
       "model_id": "57144702be054341824e4d70246443d6",
       "version_major": 2,
       "version_minor": 0
      },
      "text/plain": [
       "0it [00:00, ?it/s]"
      ]
     },
     "metadata": {},
     "output_type": "display_data"
    },
    {
     "name": "stderr",
     "output_type": "stream",
     "text": [
      "20:50 bilby INFO    : Checkpoint every check_point_delta_t = 600s\n",
      "20:50 bilby WARNING : Using cached result\n",
      "20:50 bilby INFO    : Summary of results:\n",
      "nsamples: 2591\n",
      "ln_noise_evidence:    nan\n",
      "ln_evidence: 196.726 +/-  0.278\n",
      "ln_bayes_factor:    nan +/-  0.278\n",
      "\n",
      "/Users/myue/Research/Projects/JWST/dependencies/msa_spec_utils/LAE_spec_utils.py:426: RuntimeWarning: divide by zero encountered in power\n",
      "  self.err_fnu = (self.ivar_fnu)**-0.5\n",
      "/Users/myue/Research/Projects/JWST/dependencies/msa_spec_utils/LAE_spec_utils.py:432: RuntimeWarning: invalid value encountered in divide\n",
      "  self.flam = self.fnu * speed_of_light_angstrom / (self.wave)**2 * 1e-29 * 1e18\n",
      "/Users/myue/Research/Projects/JWST/dependencies/msa_spec_utils/LAE_spec_utils.py:433: RuntimeWarning: divide by zero encountered in divide\n",
      "  self.err_flam = self.err_fnu * (speed_of_light_angstrom / (self.wave)**2 * 1e-29 * 1e18)\n",
      "20:50 bilby INFO    : Running for label '4713_15627', output will be saved to './bilby_fit_civ_pypeit_v1/'\n",
      "20:50 bilby INFO    : Search parameters:\n",
      "20:50 bilby INFO    :   center = Uniform(minimum=11136.727755409363, maximum=11181.363938797778, name='center', latex_label='center', unit=None, boundary=None)\n",
      "20:50 bilby INFO    :   fwhm = Uniform(minimum=300, maximum=1000, name='fwhm', latex_label='fwhm', unit=None, boundary=None)\n",
      "20:50 bilby INFO    :   flux = Uniform(minimum=-5.758444006447774, maximum=5.758444006447774, name='flux', latex_label='flux', unit=None, boundary=None)\n",
      "20:50 bilby INFO    :   A = Uniform(minimum=-0.03089743739904617, maximum=0.06179487479809234, name='A', latex_label='A', unit=None, boundary=None)\n",
      "20:50 bilby INFO    :   beta = Uniform(minimum=-4, maximum=2, name='beta', latex_label='beta', unit=None, boundary=None)\n",
      "20:50 bilby INFO    :   wave0 = 11159.04584710357\n",
      "20:50 bilby INFO    : Single likelihood evaluation took 3.136e-05 s\n"
     ]
    },
    {
     "data": {
      "application/vnd.jupyter.widget-view+json": {
       "model_id": "baf434fa429b468f8053c7508e837599",
       "version_major": 2,
       "version_minor": 0
      },
      "text/plain": [
       "0it [00:00, ?it/s]"
      ]
     },
     "metadata": {},
     "output_type": "display_data"
    },
    {
     "name": "stderr",
     "output_type": "stream",
     "text": [
      "20:50 bilby INFO    : Checkpoint every check_point_delta_t = 600s\n",
      "20:50 bilby WARNING : Using cached result\n",
      "20:50 bilby INFO    : Summary of results:\n",
      "nsamples: 2329\n",
      "ln_noise_evidence:    nan\n",
      "ln_evidence: 185.517 +/-  0.259\n",
      "ln_bayes_factor:    nan +/-  0.259\n",
      "\n",
      "/Users/myue/Research/Projects/JWST/dependencies/msa_spec_utils/LAE_spec_utils.py:426: RuntimeWarning: divide by zero encountered in power\n",
      "  self.err_fnu = (self.ivar_fnu)**-0.5\n",
      "/Users/myue/Research/Projects/JWST/dependencies/msa_spec_utils/LAE_spec_utils.py:432: RuntimeWarning: invalid value encountered in divide\n",
      "  self.flam = self.fnu * speed_of_light_angstrom / (self.wave)**2 * 1e-29 * 1e18\n",
      "/Users/myue/Research/Projects/JWST/dependencies/msa_spec_utils/LAE_spec_utils.py:433: RuntimeWarning: divide by zero encountered in divide\n",
      "  self.err_flam = self.err_fnu * (speed_of_light_angstrom / (self.wave)**2 * 1e-29 * 1e18)\n",
      "20:50 bilby INFO    : Running for label '4713_16184', output will be saved to './bilby_fit_civ_pypeit_v1/'\n",
      "20:50 bilby INFO    : Search parameters:\n",
      "20:50 bilby INFO    :   center = Uniform(minimum=10464.227458110698, maximum=10506.16824952597, name='center', latex_label='center', unit=None, boundary=None)\n",
      "20:50 bilby INFO    :   fwhm = Uniform(minimum=300, maximum=1000, name='fwhm', latex_label='fwhm', unit=None, boundary=None)\n",
      "20:50 bilby INFO    :   flux = Uniform(minimum=-10.272624168405109, maximum=10.272624168405109, name='flux', latex_label='flux', unit=None, boundary=None)\n",
      "20:50 bilby INFO    :   A = Uniform(minimum=-0.06638438957073448, maximum=0.13276877914146895, name='A', latex_label='A', unit=None, boundary=None)\n",
      "20:50 bilby INFO    :   beta = Uniform(minimum=-4, maximum=2, name='beta', latex_label='beta', unit=None, boundary=None)\n",
      "20:50 bilby INFO    :   wave0 = 10485.197853818334\n",
      "20:50 bilby INFO    : Single likelihood evaluation took 3.215e-05 s\n"
     ]
    },
    {
     "data": {
      "application/vnd.jupyter.widget-view+json": {
       "model_id": "51c043a9228f4430ac33b7209b546a70",
       "version_major": 2,
       "version_minor": 0
      },
      "text/plain": [
       "0it [00:00, ?it/s]"
      ]
     },
     "metadata": {},
     "output_type": "display_data"
    },
    {
     "name": "stderr",
     "output_type": "stream",
     "text": [
      "20:50 bilby INFO    : Checkpoint every check_point_delta_t = 600s\n",
      "20:50 bilby WARNING : Using cached result\n",
      "20:50 bilby INFO    : Summary of results:\n",
      "nsamples: 2273\n",
      "ln_noise_evidence:    nan\n",
      "ln_evidence: 251.191 +/-  0.246\n",
      "ln_bayes_factor:    nan +/-  0.246\n",
      "\n",
      "/Users/myue/Research/Projects/JWST/dependencies/msa_spec_utils/LAE_spec_utils.py:426: RuntimeWarning: divide by zero encountered in power\n",
      "  self.err_fnu = (self.ivar_fnu)**-0.5\n",
      "/Users/myue/Research/Projects/JWST/dependencies/msa_spec_utils/LAE_spec_utils.py:432: RuntimeWarning: invalid value encountered in divide\n",
      "  self.flam = self.fnu * speed_of_light_angstrom / (self.wave)**2 * 1e-29 * 1e18\n",
      "/Users/myue/Research/Projects/JWST/dependencies/msa_spec_utils/LAE_spec_utils.py:433: RuntimeWarning: divide by zero encountered in divide\n",
      "  self.err_flam = self.err_fnu * (speed_of_light_angstrom / (self.wave)**2 * 1e-29 * 1e18)\n",
      "20:50 bilby INFO    : Running for label '4713_16322', output will be saved to './bilby_fit_civ_pypeit_v1/'\n",
      "20:50 bilby INFO    : Search parameters:\n",
      "20:50 bilby INFO    :   center = Uniform(minimum=11320.695045732913, maximum=11366.06857297032, name='center', latex_label='center', unit=None, boundary=None)\n",
      "20:50 bilby INFO    :   fwhm = Uniform(minimum=300, maximum=1000, name='fwhm', latex_label='fwhm', unit=None, boundary=None)\n",
      "20:50 bilby INFO    :   flux = Uniform(minimum=-8.751759024924649, maximum=8.751759024924649, name='flux', latex_label='flux', unit=None, boundary=None)\n",
      "20:50 bilby INFO    :   A = Uniform(minimum=-0.04349156428084834, maximum=0.08698312856169668, name='A', latex_label='A', unit=None, boundary=None)\n",
      "20:50 bilby INFO    :   beta = Uniform(minimum=-4, maximum=2, name='beta', latex_label='beta', unit=None, boundary=None)\n",
      "20:50 bilby INFO    :   wave0 = 11343.381809351617\n",
      "20:50 bilby INFO    : Single likelihood evaluation took 3.708e-05 s\n"
     ]
    },
    {
     "data": {
      "application/vnd.jupyter.widget-view+json": {
       "model_id": "c0315b79800e46fe9bd57dae0497ad81",
       "version_major": 2,
       "version_minor": 0
      },
      "text/plain": [
       "0it [00:00, ?it/s]"
      ]
     },
     "metadata": {},
     "output_type": "display_data"
    },
    {
     "name": "stderr",
     "output_type": "stream",
     "text": [
      "20:50 bilby INFO    : Checkpoint every check_point_delta_t = 600s\n",
      "20:50 bilby WARNING : Using cached result\n",
      "20:50 bilby INFO    : Summary of results:\n",
      "nsamples: 2470\n",
      "ln_noise_evidence:    nan\n",
      "ln_evidence: 244.128 +/-  0.263\n",
      "ln_bayes_factor:    nan +/-  0.263\n",
      "\n",
      "/Users/myue/Research/Projects/JWST/dependencies/msa_spec_utils/LAE_spec_utils.py:426: RuntimeWarning: divide by zero encountered in power\n",
      "  self.err_fnu = (self.ivar_fnu)**-0.5\n",
      "/Users/myue/Research/Projects/JWST/dependencies/msa_spec_utils/LAE_spec_utils.py:432: RuntimeWarning: invalid value encountered in divide\n",
      "  self.flam = self.fnu * speed_of_light_angstrom / (self.wave)**2 * 1e-29 * 1e18\n",
      "/Users/myue/Research/Projects/JWST/dependencies/msa_spec_utils/LAE_spec_utils.py:433: RuntimeWarning: divide by zero encountered in divide\n",
      "  self.err_flam = self.err_fnu * (speed_of_light_angstrom / (self.wave)**2 * 1e-29 * 1e18)\n",
      "20:50 bilby INFO    : Running for label '4713_16479', output will be saved to './bilby_fit_civ_pypeit_v1/'\n",
      "20:50 bilby INFO    : Search parameters:\n",
      "20:50 bilby INFO    :   center = Uniform(minimum=11337.285003457579, maximum=11382.725023511517, name='center', latex_label='center', unit=None, boundary=None)\n",
      "20:50 bilby INFO    :   fwhm = Uniform(minimum=300, maximum=1000, name='fwhm', latex_label='fwhm', unit=None, boundary=None)\n",
      "20:50 bilby INFO    :   flux = Uniform(minimum=-14.577872599438743, maximum=14.577872599438743, name='flux', latex_label='flux', unit=None, boundary=None)\n",
      "20:50 bilby INFO    :   A = Uniform(minimum=-0.07233822617466026, maximum=0.14467645234932053, name='A', latex_label='A', unit=None, boundary=None)\n",
      "20:50 bilby INFO    :   beta = Uniform(minimum=-4, maximum=2, name='beta', latex_label='beta', unit=None, boundary=None)\n",
      "20:50 bilby INFO    :   wave0 = 11360.005013484548\n",
      "20:50 bilby INFO    : Single likelihood evaluation took 3.256e-05 s\n"
     ]
    },
    {
     "data": {
      "application/vnd.jupyter.widget-view+json": {
       "model_id": "20a947727b0e4ea288ec3626265848e1",
       "version_major": 2,
       "version_minor": 0
      },
      "text/plain": [
       "0it [00:00, ?it/s]"
      ]
     },
     "metadata": {},
     "output_type": "display_data"
    },
    {
     "name": "stderr",
     "output_type": "stream",
     "text": [
      "20:50 bilby INFO    : Checkpoint every check_point_delta_t = 600s\n",
      "20:50 bilby WARNING : Using cached result\n",
      "20:50 bilby INFO    : Summary of results:\n",
      "nsamples: 3291\n",
      "ln_noise_evidence:    nan\n",
      "ln_evidence: 292.538 +/-  0.316\n",
      "ln_bayes_factor:    nan +/-  0.316\n",
      "\n",
      "/Users/myue/Research/Projects/JWST/dependencies/msa_spec_utils/LAE_spec_utils.py:426: RuntimeWarning: divide by zero encountered in power\n",
      "  self.err_fnu = (self.ivar_fnu)**-0.5\n",
      "/Users/myue/Research/Projects/JWST/dependencies/msa_spec_utils/LAE_spec_utils.py:432: RuntimeWarning: invalid value encountered in divide\n",
      "  self.flam = self.fnu * speed_of_light_angstrom / (self.wave)**2 * 1e-29 * 1e18\n",
      "/Users/myue/Research/Projects/JWST/dependencies/msa_spec_utils/LAE_spec_utils.py:433: RuntimeWarning: divide by zero encountered in divide\n",
      "  self.err_flam = self.err_fnu * (speed_of_light_angstrom / (self.wave)**2 * 1e-29 * 1e18)\n",
      "20:50 bilby INFO    : Running for label '4713_16759', output will be saved to './bilby_fit_civ_pypeit_v1/'\n",
      "20:50 bilby INFO    : Search parameters:\n",
      "20:50 bilby INFO    :   center = Uniform(minimum=11406.384354774236, maximum=11452.101326136057, name='center', latex_label='center', unit=None, boundary=None)\n",
      "20:50 bilby INFO    :   fwhm = Uniform(minimum=300, maximum=1000, name='fwhm', latex_label='fwhm', unit=None, boundary=None)\n",
      "20:50 bilby INFO    :   flux = Uniform(minimum=-10.180815021789769, maximum=10.180815021789769, name='flux', latex_label='flux', unit=None, boundary=None)\n",
      "20:50 bilby INFO    :   A = Uniform(minimum=-0.050213132348314087, maximum=0.10042626469662817, name='A', latex_label='A', unit=None, boundary=None)\n",
      "20:50 bilby INFO    :   beta = Uniform(minimum=-4, maximum=2, name='beta', latex_label='beta', unit=None, boundary=None)\n",
      "20:50 bilby INFO    :   wave0 = 11429.242840455147\n",
      "20:50 bilby INFO    : Single likelihood evaluation took 3.704e-05 s\n"
     ]
    },
    {
     "data": {
      "application/vnd.jupyter.widget-view+json": {
       "model_id": "7f033e47effa4dd09767bfcaa1145ee0",
       "version_major": 2,
       "version_minor": 0
      },
      "text/plain": [
       "0it [00:00, ?it/s]"
      ]
     },
     "metadata": {},
     "output_type": "display_data"
    },
    {
     "name": "stderr",
     "output_type": "stream",
     "text": [
      "20:50 bilby INFO    : Checkpoint every check_point_delta_t = 600s\n",
      "20:50 bilby WARNING : Using cached result\n",
      "20:50 bilby INFO    : Summary of results:\n",
      "nsamples: 2566\n",
      "ln_noise_evidence:    nan\n",
      "ln_evidence: 323.466 +/-  0.277\n",
      "ln_bayes_factor:    nan +/-  0.277\n",
      "\n",
      "/Users/myue/Research/Projects/JWST/dependencies/msa_spec_utils/LAE_spec_utils.py:426: RuntimeWarning: divide by zero encountered in power\n",
      "  self.err_fnu = (self.ivar_fnu)**-0.5\n",
      "/Users/myue/Research/Projects/JWST/dependencies/msa_spec_utils/LAE_spec_utils.py:432: RuntimeWarning: invalid value encountered in divide\n",
      "  self.flam = self.fnu * speed_of_light_angstrom / (self.wave)**2 * 1e-29 * 1e18\n",
      "/Users/myue/Research/Projects/JWST/dependencies/msa_spec_utils/LAE_spec_utils.py:433: RuntimeWarning: divide by zero encountered in divide\n",
      "  self.err_flam = self.err_fnu * (speed_of_light_angstrom / (self.wave)**2 * 1e-29 * 1e18)\n",
      "20:50 bilby INFO    : Running for label '4713_17352', output will be saved to './bilby_fit_civ_pypeit_v1/'\n",
      "20:50 bilby INFO    : Search parameters:\n",
      "20:50 bilby INFO    :   center = Uniform(minimum=11106.12900673014, maximum=11150.642549843285, name='center', latex_label='center', unit=None, boundary=None)\n",
      "20:50 bilby INFO    :   fwhm = Uniform(minimum=300, maximum=1000, name='fwhm', latex_label='fwhm', unit=None, boundary=None)\n",
      "20:50 bilby INFO    :   flux = Uniform(minimum=-9.078213330985642, maximum=9.078213330985642, name='flux', latex_label='flux', unit=None, boundary=None)\n",
      "20:50 bilby INFO    :   A = Uniform(minimum=-0.04857043440849169, maximum=0.09714086881698338, name='A', latex_label='A', unit=None, boundary=None)\n",
      "20:50 bilby INFO    :   beta = Uniform(minimum=-4, maximum=2, name='beta', latex_label='beta', unit=None, boundary=None)\n",
      "20:50 bilby INFO    :   wave0 = 11128.385778286713\n",
      "20:50 bilby INFO    : Single likelihood evaluation took 3.654e-05 s\n"
     ]
    },
    {
     "data": {
      "application/vnd.jupyter.widget-view+json": {
       "model_id": "01efcdbd961b48c28b5628838ce32e3f",
       "version_major": 2,
       "version_minor": 0
      },
      "text/plain": [
       "0it [00:00, ?it/s]"
      ]
     },
     "metadata": {},
     "output_type": "display_data"
    },
    {
     "name": "stderr",
     "output_type": "stream",
     "text": [
      "20:50 bilby INFO    : Checkpoint every check_point_delta_t = 600s\n",
      "20:50 bilby WARNING : Using cached result\n",
      "20:50 bilby INFO    : Summary of results:\n",
      "nsamples: 2251\n",
      "ln_noise_evidence:    nan\n",
      "ln_evidence: 286.181 +/-  0.253\n",
      "ln_bayes_factor:    nan +/-  0.253\n",
      "\n",
      "20:50 bilby INFO    : Running for label '4713_17385', output will be saved to './bilby_fit_civ_pypeit_v1/'\n",
      "20:50 bilby INFO    : Search parameters:\n",
      "20:50 bilby INFO    :   center = Uniform(minimum=12012.672763305729, maximum=12060.819748328997, name='center', latex_label='center', unit=None, boundary=None)\n",
      "20:50 bilby INFO    :   fwhm = Uniform(minimum=300, maximum=1000, name='fwhm', latex_label='fwhm', unit=None, boundary=None)\n",
      "20:50 bilby INFO    :   flux = Uniform(minimum=-10.726197270793085, maximum=10.726197270793085, name='flux', latex_label='flux', unit=None, boundary=None)\n",
      "20:50 bilby INFO    :   A = Uniform(minimum=-0.050232975317661986, maximum=0.10046595063532397, name='A', latex_label='A', unit=None, boundary=None)\n",
      "20:50 bilby INFO    :   beta = Uniform(minimum=-4, maximum=2, name='beta', latex_label='beta', unit=None, boundary=None)\n",
      "20:50 bilby INFO    :   wave0 = 12036.746255817363\n",
      "20:50 bilby INFO    : Single likelihood evaluation took 3.993e-05 s\n"
     ]
    },
    {
     "data": {
      "application/vnd.jupyter.widget-view+json": {
       "model_id": "049968e6fd0542d98f07dbb712acc22c",
       "version_major": 2,
       "version_minor": 0
      },
      "text/plain": [
       "0it [00:00, ?it/s]"
      ]
     },
     "metadata": {},
     "output_type": "display_data"
    },
    {
     "name": "stderr",
     "output_type": "stream",
     "text": [
      "20:50 bilby INFO    : Checkpoint every check_point_delta_t = 600s\n",
      "20:50 bilby WARNING : Using cached result\n",
      "20:50 bilby INFO    : Summary of results:\n",
      "nsamples: 3039\n",
      "ln_noise_evidence:    nan\n",
      "ln_evidence: 400.148 +/-  0.311\n",
      "ln_bayes_factor:    nan +/-  0.311\n",
      "\n",
      "/Users/myue/Research/Projects/JWST/dependencies/msa_spec_utils/LAE_spec_utils.py:426: RuntimeWarning: divide by zero encountered in power\n",
      "  self.err_fnu = (self.ivar_fnu)**-0.5\n",
      "/Users/myue/Research/Projects/JWST/dependencies/msa_spec_utils/LAE_spec_utils.py:432: RuntimeWarning: invalid value encountered in divide\n",
      "  self.flam = self.fnu * speed_of_light_angstrom / (self.wave)**2 * 1e-29 * 1e18\n",
      "/Users/myue/Research/Projects/JWST/dependencies/msa_spec_utils/LAE_spec_utils.py:433: RuntimeWarning: divide by zero encountered in divide\n",
      "  self.err_flam = self.err_fnu * (speed_of_light_angstrom / (self.wave)**2 * 1e-29 * 1e18)\n",
      "20:50 bilby INFO    : Running for label '4713_17492', output will be saved to './bilby_fit_civ_pypeit_v1/'\n",
      "20:50 bilby INFO    : Search parameters:\n",
      "20:50 bilby INFO    :   center = Uniform(minimum=11946.318400436516, maximum=11994.19943610961, name='center', latex_label='center', unit=None, boundary=None)\n",
      "20:50 bilby INFO    :   fwhm = Uniform(minimum=300, maximum=1000, name='fwhm', latex_label='fwhm', unit=None, boundary=None)\n",
      "20:50 bilby INFO    :   flux = Uniform(minimum=-7.623817169498172, maximum=7.623817169498172, name='flux', latex_label='flux', unit=None, boundary=None)\n",
      "20:50 bilby INFO    :   A = Uniform(minimum=-0.03590220778164259, maximum=0.07180441556328518, name='A', latex_label='A', unit=None, boundary=None)\n",
      "20:50 bilby INFO    :   beta = Uniform(minimum=-4, maximum=2, name='beta', latex_label='beta', unit=None, boundary=None)\n",
      "20:50 bilby INFO    :   wave0 = 11970.258918273063\n",
      "20:50 bilby INFO    : Single likelihood evaluation took 4.076e-05 s\n"
     ]
    },
    {
     "data": {
      "application/vnd.jupyter.widget-view+json": {
       "model_id": "87cc7e7700ea4bb397e8dd52e68e8ea6",
       "version_major": 2,
       "version_minor": 0
      },
      "text/plain": [
       "0it [00:00, ?it/s]"
      ]
     },
     "metadata": {},
     "output_type": "display_data"
    },
    {
     "name": "stderr",
     "output_type": "stream",
     "text": [
      "20:50 bilby INFO    : Checkpoint every check_point_delta_t = 600s\n",
      "20:50 bilby WARNING : Using cached result\n",
      "20:50 bilby INFO    : Summary of results:\n",
      "nsamples: 2436\n",
      "ln_noise_evidence:    nan\n",
      "ln_evidence: 375.605 +/-  0.270\n",
      "ln_bayes_factor:    nan +/-  0.270\n",
      "\n",
      "20:50 bilby INFO    : Running for label '4713_17577', output will be saved to './bilby_fit_civ_pypeit_v1/'\n",
      "20:50 bilby INFO    : Search parameters:\n",
      "20:50 bilby INFO    :   center = Uniform(minimum=12011.987465094771, maximum=12060.131703431824, name='center', latex_label='center', unit=None, boundary=None)\n",
      "20:50 bilby INFO    :   fwhm = Uniform(minimum=300, maximum=1000, name='fwhm', latex_label='fwhm', unit=None, boundary=None)\n",
      "20:50 bilby INFO    :   flux = Uniform(minimum=-13.889266312408239, maximum=13.889266312408239, name='flux', latex_label='flux', unit=None, boundary=None)\n",
      "20:50 bilby INFO    :   A = Uniform(minimum=-0.06504998545210522, maximum=0.13009997090421044, name='A', latex_label='A', unit=None, boundary=None)\n",
      "20:50 bilby INFO    :   beta = Uniform(minimum=-4, maximum=2, name='beta', latex_label='beta', unit=None, boundary=None)\n",
      "20:50 bilby INFO    :   wave0 = 12036.059584263297\n",
      "20:50 bilby INFO    : Single likelihood evaluation took 4.232e-05 s\n"
     ]
    },
    {
     "data": {
      "application/vnd.jupyter.widget-view+json": {
       "model_id": "af9eb255078747cea6d8e339df46108b",
       "version_major": 2,
       "version_minor": 0
      },
      "text/plain": [
       "0it [00:00, ?it/s]"
      ]
     },
     "metadata": {},
     "output_type": "display_data"
    },
    {
     "name": "stderr",
     "output_type": "stream",
     "text": [
      "20:50 bilby INFO    : Checkpoint every check_point_delta_t = 600s\n",
      "20:50 bilby WARNING : Using cached result\n",
      "20:50 bilby INFO    : Summary of results:\n",
      "nsamples: 2717\n",
      "ln_noise_evidence:    nan\n",
      "ln_evidence: 310.380 +/-  0.279\n",
      "ln_bayes_factor:    nan +/-  0.279\n",
      "\n",
      "/Users/myue/Research/Projects/JWST/dependencies/msa_spec_utils/LAE_spec_utils.py:426: RuntimeWarning: divide by zero encountered in power\n",
      "  self.err_fnu = (self.ivar_fnu)**-0.5\n",
      "/Users/myue/Research/Projects/JWST/dependencies/msa_spec_utils/LAE_spec_utils.py:432: RuntimeWarning: invalid value encountered in divide\n",
      "  self.flam = self.fnu * speed_of_light_angstrom / (self.wave)**2 * 1e-29 * 1e18\n",
      "/Users/myue/Research/Projects/JWST/dependencies/msa_spec_utils/LAE_spec_utils.py:433: RuntimeWarning: divide by zero encountered in divide\n",
      "  self.err_flam = self.err_fnu * (speed_of_light_angstrom / (self.wave)**2 * 1e-29 * 1e18)\n",
      "20:50 bilby INFO    : Running for label '4713_18061', output will be saved to './bilby_fit_civ_pypeit_v1/'\n",
      "20:50 bilby INFO    : Search parameters:\n",
      "20:50 bilby INFO    :   center = Uniform(minimum=11332.903588974339, maximum=11378.326048248786, name='center', latex_label='center', unit=None, boundary=None)\n",
      "20:50 bilby INFO    :   fwhm = Uniform(minimum=300, maximum=1000, name='fwhm', latex_label='fwhm', unit=None, boundary=None)\n",
      "20:50 bilby INFO    :   flux = Uniform(minimum=-9.584119857015093, maximum=9.584119857015093, name='flux', latex_label='flux', unit=None, boundary=None)\n",
      "20:50 bilby INFO    :   A = Uniform(minimum=-0.047576644756486264, maximum=0.09515328951297253, name='A', latex_label='A', unit=None, boundary=None)\n",
      "20:50 bilby INFO    :   beta = Uniform(minimum=-4, maximum=2, name='beta', latex_label='beta', unit=None, boundary=None)\n",
      "20:50 bilby INFO    :   wave0 = 11355.614818611562\n",
      "20:50 bilby INFO    : Single likelihood evaluation took 3.667e-05 s\n"
     ]
    },
    {
     "data": {
      "application/vnd.jupyter.widget-view+json": {
       "model_id": "060f52a0574948a0b8016beb4cbeca86",
       "version_major": 2,
       "version_minor": 0
      },
      "text/plain": [
       "0it [00:00, ?it/s]"
      ]
     },
     "metadata": {},
     "output_type": "display_data"
    },
    {
     "name": "stderr",
     "output_type": "stream",
     "text": [
      "20:50 bilby INFO    : Checkpoint every check_point_delta_t = 600s\n",
      "20:50 bilby WARNING : Using cached result\n",
      "20:50 bilby INFO    : Summary of results:\n",
      "nsamples: 2622\n",
      "ln_noise_evidence:    nan\n",
      "ln_evidence: 340.248 +/-  0.275\n",
      "ln_bayes_factor:    nan +/-  0.275\n",
      "\n",
      "/Users/myue/Research/Projects/JWST/dependencies/msa_spec_utils/LAE_spec_utils.py:426: RuntimeWarning: divide by zero encountered in power\n",
      "  self.err_fnu = (self.ivar_fnu)**-0.5\n",
      "/Users/myue/Research/Projects/JWST/dependencies/msa_spec_utils/LAE_spec_utils.py:432: RuntimeWarning: invalid value encountered in divide\n",
      "  self.flam = self.fnu * speed_of_light_angstrom / (self.wave)**2 * 1e-29 * 1e18\n",
      "/Users/myue/Research/Projects/JWST/dependencies/msa_spec_utils/LAE_spec_utils.py:433: RuntimeWarning: divide by zero encountered in divide\n",
      "  self.err_flam = self.err_fnu * (speed_of_light_angstrom / (self.wave)**2 * 1e-29 * 1e18)\n",
      "20:50 bilby INFO    : Running for label '4713_18268', output will be saved to './bilby_fit_civ_pypeit_v1/'\n",
      "20:50 bilby INFO    : Search parameters:\n",
      "20:50 bilby INFO    :   center = Uniform(minimum=11804.045375653399, maximum=11851.35617876223, name='center', latex_label='center', unit=None, boundary=None)\n",
      "20:50 bilby INFO    :   fwhm = Uniform(minimum=300, maximum=1000, name='fwhm', latex_label='fwhm', unit=None, boundary=None)\n",
      "20:50 bilby INFO    :   flux = Uniform(minimum=-11.513239990819525, maximum=11.513239990819525, name='flux', latex_label='flux', unit=None, boundary=None)\n",
      "20:50 bilby INFO    :   A = Uniform(minimum=-0.05487183149551188, maximum=0.10974366299102375, name='A', latex_label='A', unit=None, boundary=None)\n",
      "20:50 bilby INFO    :   beta = Uniform(minimum=-4, maximum=2, name='beta', latex_label='beta', unit=None, boundary=None)\n",
      "20:50 bilby INFO    :   wave0 = 11827.700777207814\n",
      "20:50 bilby INFO    : Single likelihood evaluation took 3.619e-05 s\n"
     ]
    },
    {
     "data": {
      "application/vnd.jupyter.widget-view+json": {
       "model_id": "ece29743c88f4784804615b4461d301e",
       "version_major": 2,
       "version_minor": 0
      },
      "text/plain": [
       "0it [00:00, ?it/s]"
      ]
     },
     "metadata": {},
     "output_type": "display_data"
    },
    {
     "name": "stderr",
     "output_type": "stream",
     "text": [
      "20:50 bilby INFO    : Checkpoint every check_point_delta_t = 600s\n",
      "20:50 bilby WARNING : Using cached result\n",
      "20:50 bilby INFO    : Summary of results:\n",
      "nsamples: 2853\n",
      "ln_noise_evidence:    nan\n",
      "ln_evidence: 342.663 +/-  0.299\n",
      "ln_bayes_factor:    nan +/-  0.299\n",
      "\n"
     ]
    }
   ],
   "source": [
    "# summarize the fitting results\n",
    "\n",
    "# I want to compile a table that contain all information I needed for Lya analysis.\n",
    "\n",
    "outdir_pypeit = './bilby_fit_civ_pypeit_v1/'\n",
    "\n",
    "\n",
    "zcivlist_pypeit = []\n",
    "fwhmlist_pypeit = []\n",
    "fluxlist_pypeit = []\n",
    "\n",
    "#hb_masked = np.ma.is_masked(allinfo['f_Hb'])\n",
    "\n",
    "spec1ddir = os.path.abspath(f'../pypeit-reduc/data-release-2/reduced_spec_2/')\n",
    "\n",
    "for index in range(len(LAEinfo)):\n",
    "    \n",
    "    z = LAEinfo['z_O3doublet_combined_n'][index]\n",
    "        \n",
    "    isource = '4713_%d'%(LAEinfo['NUMBER'][index])\n",
    "    label = isource\n",
    "    \n",
    "    if not os.path.exists(outdir_pypeit+f'{isource}_result.json'):\n",
    "        \n",
    "        zcivlist_pypeit.append(-np.ones(7))\n",
    "        fwhmlist_pypeit.append(-np.ones(7))\n",
    "        fluxlist_pypeit.append(-np.ones(7))\n",
    "        continue\n",
    "\n",
    "    spec1dfile = os.path.join(spec1ddir,'spec1d_%s_stack.fits'%isource)\n",
    "    if not os.path.exists(spec1dfile):\n",
    "        spec1dfile = os.path.join(spec1ddir,'manu1d_%s_stack.fits'%isource)\n",
    "    pypeit_spec = LAE.PypeItSpecStacked(filename=spec1dfile, zO3=z, outdir=outdir_pypeit, label=label)\n",
    "\n",
    "    # gather necessary info\n",
    "    pypeit_spec.fit_civ_profile_bilby()\n",
    "    #selectidx_pypeit.append(index)\n",
    "\n",
    "    # generate a uniform sample\n",
    "    samples = pypeit_spec.civ_result.nested_samples\n",
    "    weights = np.array(samples['weights'])\n",
    "    \n",
    "    center_sample = dyfunc.resample_equal(np.array(samples['center']), weights)\n",
    "    fwhm_sample = dyfunc.resample_equal(np.array(samples['fwhm']), weights)\n",
    "    flux_sample = dyfunc.resample_equal(np.array(samples['flux']), weights)\n",
    "    A_sample = dyfunc.resample_equal(np.array(samples['A']), weights)\n",
    "    beta_sample = dyfunc.resample_equal(np.array(samples['beta']), weights)\n",
    "    \n",
    "    zciv_quantile = np.percentile(center_sample, [0.135,2.5,16,50,84,97.5, 99.865]) / 1549\n",
    "    fwhm_quantile = np.percentile(fwhm_sample, [0.135,2.5,16,50,84,97.5, 99.865])\n",
    "    flam_quantile = np.percentile(flux_sample, [0.135,2.5,16,50,84,97.5, 99.865])\n",
    "\n",
    "    zcivlist_pypeit.append(zciv_quantile)\n",
    "    fwhmlist_pypeit.append(fwhm_quantile)\n",
    "    fluxlist_pypeit.append(flam_quantile)\n"
   ]
  },
  {
   "cell_type": "code",
   "execution_count": 53,
   "id": "4b0d9b6a-d945-4fc1-8351-812f21530f7f",
   "metadata": {},
   "outputs": [],
   "source": [
    "LAEinfo['zcivquantile'] = np.array(zcivlist_pypeit)\n",
    "LAEinfo['fwhmcivquantile'] = np.array(fwhmlist_pypeit)\n",
    "LAEinfo['fcivquantile'] = np.array(fluxlist_pypeit)"
   ]
  },
  {
   "cell_type": "code",
   "execution_count": 54,
   "id": "51a43111-2d20-407d-bdcb-caf90f442db4",
   "metadata": {},
   "outputs": [
    {
     "data": {
      "text/html": [
       "<div><i>Table length=3</i>\n",
       "<table id=\"table14986743152\" class=\"table-striped table-bordered table-condensed\">\n",
       "<thead><tr><th>NUMBERv4</th><th>NUMBER</th><th>ID_1</th><th>RA</th><th>DEC</th><th>zguess</th><th>DK_JM_ave_score</th><th>Nclumps_Y</th><th>Nclumps_spec</th><th>Module_ignore</th><th>REDO_1D</th><th>comments_fitting</th><th>MANUAL_CHANGE_zspec</th><th>comments_zspec</th><th>z_O3doublet_combined_n</th><th>f_Hb</th><th>f_O3_4960</th><th>f_O3_5008</th><th>f_Hb_err</th><th>f_O3_4960_err</th><th>f_O3_5008_err</th><th>id_1a</th><th>ID_PARENT_det</th><th>ALPHA_J2000_det</th><th>DELTA_J2000_det</th><th>X_IMAGE_det</th><th>Y_IMAGE_det</th><th>A_IMAGE_det</th><th>B_IMAGE_det</th><th>THETA_IMAGE_det</th><th>ELONGATION_det</th><th>ELLIPTICITY_det</th><th>FWHM_WORLD_det</th><th>CLASS_STAR_det</th><th>BACKGROUND_det</th><th>ap_corr</th><th>MAG_AUTO_F356W_apcor</th><th>MAG_AUTO_F200W_apcor</th><th>MAG_AUTO_F115W_apcor</th><th>MAG_AUTO_F850LP_apcor</th><th>MAG_AUTO_F775W_apcor</th><th>MAG_AUTO_F606W_apcor</th><th>fnu_F356W_AUTO_apcor</th><th>enu_F356W_aper_model</th><th>fnu_F200W_AUTO_apcor</th><th>enu_F200W_aper_model</th><th>fnu_F115W_AUTO_apcor</th><th>enu_F115W_aper_model</th><th>fnu_F850LP_AUTO_apcor</th><th>enu_F850LP_aper_model</th><th>fnu_F775W_AUTO_apcor</th><th>enu_F775W_aper_model</th><th>fnu_F606W_AUTO_apcor</th><th>enu_F606W_aper_model</th><th>good_mag</th><th>good_nrc</th><th>CHECK_PHOTOMETRY</th><th>BACKWARD_ONLY</th><th>CATALOG_MISSED</th><th>BACKWARD</th><th>BACKWARD_INFO</th><th>CONFID</th><th>EWquantile</th><th>FWHMquantile</th><th>zlyaquantile</th><th>fluxquantile</th><th>Muv</th><th>EWfromHb</th><th>fesc</th><th>zcivquantile</th><th>fwhmcivquantile</th><th>fcivquantile</th></tr></thead>\n",
       "<thead><tr><th></th><th></th><th></th><th></th><th></th><th></th><th></th><th></th><th></th><th></th><th></th><th></th><th></th><th></th><th></th><th></th><th></th><th></th><th></th><th></th><th></th><th></th><th></th><th>deg</th><th>deg</th><th>pix</th><th>pix</th><th>pix</th><th>pix</th><th>deg</th><th></th><th></th><th>deg</th><th></th><th>ct</th><th>mag</th><th>mag</th><th>mag</th><th>mag</th><th>mag</th><th>mag</th><th>mag</th><th>ct</th><th>ct</th><th>ct</th><th>ct</th><th>ct</th><th>ct</th><th>ct</th><th>ct</th><th>ct</th><th>ct</th><th>ct</th><th>ct</th><th></th><th></th><th></th><th></th><th></th><th></th><th></th><th></th><th></th><th></th><th></th><th></th><th></th><th></th><th></th><th></th><th></th><th></th></tr></thead>\n",
       "<thead><tr><th>float64</th><th>float64</th><th>bytes7</th><th>float64</th><th>float64</th><th>float64</th><th>float64</th><th>float64</th><th>float64</th><th>bytes5</th><th>bool</th><th>bytes17</th><th>bool</th><th>bytes51</th><th>float64</th><th>float64</th><th>float64</th><th>float64</th><th>float64</th><th>float64</th><th>float64</th><th>bytes7</th><th>int32</th><th>float64</th><th>float64</th><th>float32</th><th>float32</th><th>float32</th><th>float32</th><th>float32</th><th>float32</th><th>float32</th><th>float32</th><th>float32</th><th>float32</th><th>float32</th><th>float32</th><th>float32</th><th>float32</th><th>float32</th><th>float32</th><th>float32</th><th>float32</th><th>float64</th><th>float32</th><th>float64</th><th>float32</th><th>float64</th><th>float32</th><th>float32</th><th>float32</th><th>float32</th><th>float32</th><th>float32</th><th>bool</th><th>bool</th><th>bool</th><th>bool</th><th>bool</th><th>bool</th><th>bytes32</th><th>float64</th><th>float64[7]</th><th>float64[7]</th><th>float64[7]</th><th>float64[7]</th><th>float64</th><th>float64[2]</th><th>float64[7]</th><th>float64[7]</th><th>float64[7]</th><th>float64[7]</th></tr></thead>\n",
       "<tr><td>7230.0</td><td>7230.0</td><td>7230_1</td><td>15.033697624210424</td><td>28.07535750430549</td><td>6.8330530555642355</td><td>3.5</td><td>1.0</td><td>1.0</td><td>--</td><td>False</td><td>--</td><td>False</td><td>--</td><td>6.83000294230172</td><td>0.3580956072666397</td><td>0.33867824200135566</td><td>0.8451903522185167</td><td>0.08303257058802076</td><td>0.06707470128295491</td><td>0.11857032306969274</td><td>7230_1</td><td>6951</td><td>15.033697624210424</td><td>28.07535750430549</td><td>2612.9512</td><td>3231.6995</td><td>2.105536</td><td>1.6702152</td><td>-85.156746</td><td>1.2606375</td><td>0.20675057</td><td>0.0018020408</td><td>0.00032154183</td><td>0.0016363012</td><td>-0.6571506</td><td>27.516563</td><td>27.502377</td><td>27.614328</td><td>98.34285</td><td>98.34285</td><td>98.34285</td><td>35.75812</td><td>4.193910021748695</td><td>36.228466</td><td>4.1916092871919055</td><td>32.679024</td><td>7.0266507714220126</td><td>-99.0</td><td>-99.0</td><td>-99.0</td><td>-99.0</td><td>-99.0</td><td>-99.0</td><td>False</td><td>True</td><td>False</td><td>False</td><td>False</td><td>False</td><td>--</td><td>1.0</td><td>19.318778509022906 .. 129.93101493131317</td><td>306.57829595414904 .. 846.8826316457801</td><td>6.829443119983977 .. 6.835320200233291</td><td>1.0123543637607422 .. 2.331239242837219</td><td>-19.289986536107225</td><td>102.69935464328914 .. 23.813169557853712</td><td>0.18811002830664122 .. 1.2651590205470047</td><td>7.814370026823061 .. 7.834859993615805</td><td>314.53932048088194 .. 999.6202243928302</td><td>0.25716653406824 .. 1.2399485643403603</td></tr>\n",
       "<tr><td>9970.0</td><td>9970.0</td><td>9970_3</td><td>15.061164993060032</td><td>28.033206983705938</td><td>6.325641670505484</td><td>7.5</td><td>1.0</td><td>1.0</td><td>--</td><td>False</td><td>--</td><td>False</td><td>--</td><td>6.324439640451962</td><td>0.7334724017741601</td><td>1.4556714193569409</td><td>3.533152625346686</td><td>0.12289573304414254</td><td>0.13446685941847056</td><td>0.21181664621951576</td><td>9970_3</td><td>7989</td><td>15.061164993060032</td><td>28.033206983705938</td><td>8438.431</td><td>3561.7307</td><td>3.1424482</td><td>2.107724</td><td>42.44622</td><td>1.4909202</td><td>0.32927328</td><td>0.00230404</td><td>0.00056684494</td><td>-0.00021081888</td><td>-0.51778257</td><td>26.688564</td><td>27.260859</td><td>27.602295</td><td>27.924433</td><td>28.964605</td><td>28.289377</td><td>76.661</td><td>4.368475813483983</td><td>45.25398</td><td>4.7174667692793495</td><td>33.043224</td><td>7.391764443553072</td><td>24.559938</td><td>19.342379</td><td>9.422321</td><td>14.44464</td><td>17.548853</td><td>9.321066</td><td>True</td><td>True</td><td>False</td><td>False</td><td>False</td><td>True</td><td>3b_2106,4b_723,</td><td>3.0</td><td>-14.700789354909721 .. 20.98299783263274</td><td>300.49629539164994 .. 997.7517558487375</td><td>6.309994362870731 .. 6.33877322230894</td><td>-1.2793120184891227 .. 1.8437424443597106</td><td>-19.149953355206428</td><td>217.30522498811968 .. 36.410211010857054</td><td>-0.06765041823413787 .. 0.09656002442545919</td><td>7.318714039822758 .. 7.33321408455372</td><td>334.48030781608975 .. 998.4817424356131</td><td>0.36979127388926275 .. 1.8473862259097755</td></tr>\n",
       "<tr><td>10287.0</td><td>10287.0</td><td>10287_2</td><td>15.03756850963396</td><td>28.011260915386156</td><td>6.770385096803718</td><td>7.0</td><td>1.0</td><td>1.0</td><td>--</td><td>False</td><td>--</td><td>False</td><td>--</td><td>6.769629645807889</td><td>0.8626619191980156</td><td>2.8105595372797887</td><td>5.681304048153379</td><td>0.2519418224717149</td><td>0.4283884085339823</td><td>0.5177531077029968</td><td>10287_2</td><td>17092</td><td>15.03756850963396</td><td>28.011260915386156</td><td>9276.824</td><td>7094.5293</td><td>2.3043547</td><td>2.0956156</td><td>27.337143</td><td>1.0996075</td><td>0.090584576</td><td>0.0018249748</td><td>0.0009586867</td><td>0.0003301064</td><td>-0.42320287</td><td>26.615221</td><td>27.284912</td><td>27.192863</td><td>28.636532</td><td>98.5768</td><td>29.19872</td><td>82.01853</td><td>4.0068346751732715</td><td>44.262493</td><td>4.393121031086886</td><td>48.17868</td><td>9.139473796957189</td><td>12.746399</td><td>11.01746</td><td>-5.6016707</td><td>8.178412</td><td>7.594722</td><td>5.468461</td><td>False</td><td>True</td><td>False</td><td>False</td><td>False</td><td>True</td><td>1b_2576,4b_2742,</td><td>2.0</td><td>93.59578569956966 .. 360.26461818501986</td><td>300.13118250487867 .. 490.9215373557762</td><td>6.775417319753284 .. 6.778994687908523</td><td>18.794685252599486 .. 67.44463070428827</td><td>-19.688694399569485</td><td>156.12247162062357 .. 45.59582282878053</td><td>0.5995023312659737 .. 2.307576958302711</td><td>7.766408879185005 .. 7.778924392050434</td><td>678.0484873767828 .. 999.9045876782045</td><td>0.9096194006722944 .. 2.0992754181617785</td></tr>\n",
       "</table></div>"
      ],
      "text/plain": [
       "<Table length=3>\n",
       "NUMBERv4  NUMBER ...                fcivquantile              \n",
       "                 ...                                          \n",
       "float64  float64 ...                 float64[7]               \n",
       "-------- ------- ... -----------------------------------------\n",
       "  7230.0  7230.0 ...    0.25716653406824 .. 1.2399485643403603\n",
       "  9970.0  9970.0 ... 0.36979127388926275 .. 1.8473862259097755\n",
       " 10287.0 10287.0 ...  0.9096194006722944 .. 2.0992754181617785"
      ]
     },
     "execution_count": 54,
     "metadata": {},
     "output_type": "execute_result"
    }
   ],
   "source": [
    "LAEinfo[LAEinfo['fcivquantile'][:,0]>0]"
   ]
  },
  {
   "cell_type": "code",
   "execution_count": null,
   "id": "a1c13cac-2abb-43b3-bbfb-e34d68e601e7",
   "metadata": {},
   "outputs": [],
   "source": []
  }
 ],
 "metadata": {
  "kernelspec": {
   "display_name": "Python 3 (ipykernel)",
   "language": "python",
   "name": "python3"
  },
  "language_info": {
   "codemirror_mode": {
    "name": "ipython",
    "version": 3
   },
   "file_extension": ".py",
   "mimetype": "text/x-python",
   "name": "python",
   "nbconvert_exporter": "python",
   "pygments_lexer": "ipython3",
   "version": "3.12.9"
  }
 },
 "nbformat": 4,
 "nbformat_minor": 5
}
