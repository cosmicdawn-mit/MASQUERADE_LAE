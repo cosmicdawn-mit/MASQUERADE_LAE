{
 "cells": [
  {
   "cell_type": "code",
   "execution_count": 2,
   "id": "e67b4304-726d-47a6-ba9f-74cde0036b29",
   "metadata": {},
   "outputs": [],
   "source": [
    "import os, sys\n",
    "sys.path.append('/Users/minghao/Research/Projects/mylib/py3//')\n",
    "sys.path.append('/Users/minghao/Research/Projects/JWST/MASQUERADE_LAE/github/MASQUERADE_LAE/lya_stats/')\n",
    "\n",
    "import LAE_spec_utils as LAE\n",
    "\n",
    "import numpy as np\n",
    "from astropy.io import fits\n",
    "\n",
    "import matplotlib.pyplot as plt\n",
    "from astropy.table import Table, vstack, hstack\n",
    "from astropy import units\n",
    "\n",
    "import bilby\n",
    "from dynesty import utils as dyfunc\n",
    "\n",
    "import glob"
   ]
  },
  {
   "cell_type": "code",
   "execution_count": 3,
   "id": "781c89a0-ba61-4788-b592-8eab84ddaf75",
   "metadata": {},
   "outputs": [],
   "source": [
    "from astropy.cosmology import FlatLambdaCDM\n",
    "cosmo = FlatLambdaCDM(H0=70, Om0=0.3)\n",
    "RAq, Decq = 15.0542500, 28.0405000\n"
   ]
  },
  {
   "cell_type": "code",
   "execution_count": 4,
   "id": "9ebe6af2-62ca-424d-b040-6ba0a655b759",
   "metadata": {},
   "outputs": [],
   "source": [
    "allinfo = Table.read('../../MASQUERADE_LAE/J0100_photcat_v4_O3CANDIDATES_all_CLUMPS.fits')"
   ]
  },
  {
   "cell_type": "code",
   "execution_count": 5,
   "id": "d4ab6375-ff10-4826-8fa4-b419c7371419",
   "metadata": {},
   "outputs": [],
   "source": [
    "if not os.path.isdir('../../MASQUERADE_LAE/data/lya_saves/plotfit_testprior/'):\n",
    "    os.system('mkdir -p ../../MASQUERADE_LAE/data/lya_saves/J0100/plotfit_testprior/corner/')\n",
    "    os.system('mkdir -p ../../MASQUERADE_LAE/data/lya_saves/J0100/plotfit_testprior/bestfit/')"
   ]
  },
  {
   "cell_type": "markdown",
   "id": "5976f40b-57e2-4733-afa0-1c353d2a98f7",
   "metadata": {},
   "source": [
    "# Fit MSAExp+PypeIt spectra"
   ]
  },
  {
   "cell_type": "code",
   "execution_count": 7,
   "id": "c0ca8bdb-e9c9-448e-b212-dfef64366d17",
   "metadata": {
    "scrolled": true
   },
   "outputs": [
    {
     "name": "stderr",
     "output_type": "stream",
     "text": [
      "/Users/minghao/Research/Projects/JWST/MASQUERADE_LAE/github/MASQUERADE_LAE/lya_stats/LAE_spec_utils.py:535: RuntimeWarning: divide by zero encountered in power\n",
      "  self.err_fnu = (self.ivar_fnu)**-0.5\n",
      "/Users/minghao/Research/Projects/JWST/MASQUERADE_LAE/github/MASQUERADE_LAE/lya_stats/LAE_spec_utils.py:541: RuntimeWarning: invalid value encountered in divide\n",
      "  self.flam = self.fnu * speed_of_light_angstrom / (self.wave)**2 * 1e-29 * 1e18\n",
      "/Users/minghao/Research/Projects/JWST/MASQUERADE_LAE/github/MASQUERADE_LAE/lya_stats/LAE_spec_utils.py:542: RuntimeWarning: divide by zero encountered in divide\n",
      "  self.err_flam = self.err_fnu * (speed_of_light_angstrom / (self.wave)**2 * 1e-29 * 1e18)\n",
      "16:39 bilby INFO    : Running for label '4713_30', output will be saved to '../../MASQUERADE_LAE/data/lya_saves//J0100/bilby_fit_lya_testprior/'\n",
      "16:39 bilby INFO    : Search parameters:\n",
      "16:39 bilby INFO    :   center = Normal(mu=8441.086217012471, sigma=8.44108621701247, name='center', latex_label='center', unit=None, boundary=None)\n",
      "16:39 bilby INFO    :   fwhm = Normal(mu=600, sigma=200, name='fwhm', latex_label='fwhm', unit=None, boundary=None)\n",
      "16:39 bilby INFO    :   flux = Normal(mu=2.009013392772675, sigma=2.009013392772675, name='flux', latex_label='flux', unit=None, boundary=None)\n",
      "16:39 bilby INFO    :   A = Normal(mu=0.027048729173300243, sigma=0.027048729173300243, name='A', latex_label='A', unit=None, boundary=None)\n",
      "16:39 bilby INFO    :   beta = Normal(mu=-2, sigma=1, name='beta', latex_label='beta', unit=None, boundary=None)\n",
      "16:39 bilby INFO    :   wave0 = 8441.086217012471\n",
      "16:39 bilby INFO    : Single likelihood evaluation took 3.131e-04 s\n"
     ]
    },
    {
     "name": "stdout",
     "output_type": "stream",
     "text": [
      "found /Users/minghao/Research/Projects/JWST/ID4713/pypeit-reduc/data-release-2/reduced_spec_msaexp_pypeit/spec1d_4713_30_stack.fits\n"
     ]
    },
    {
     "data": {
      "application/vnd.jupyter.widget-view+json": {
       "model_id": "d09eafadd9ea4fa5981a52ea593749e1",
       "version_major": 2,
       "version_minor": 0
      },
      "text/plain": [
       "0it [00:00, ?it/s]"
      ]
     },
     "metadata": {},
     "output_type": "display_data"
    },
    {
     "name": "stderr",
     "output_type": "stream",
     "text": [
      "16:39 bilby INFO    : Checkpoint every check_point_delta_t = 600s\n",
      "16:39 bilby WARNING : Using cached result\n",
      "16:39 bilby INFO    : Summary of results:\n",
      "nsamples: 2020\n",
      "ln_noise_evidence:    nan\n",
      "ln_evidence: 345.283 +/-  0.198\n",
      "ln_bayes_factor:    nan +/-  0.198\n",
      "\n",
      "/Users/minghao/Research/Projects/JWST/MASQUERADE_LAE/github/MASQUERADE_LAE/lya_stats/LAE_spec_utils.py:535: RuntimeWarning: divide by zero encountered in power\n",
      "  self.err_fnu = (self.ivar_fnu)**-0.5\n",
      "/Users/minghao/Research/Projects/JWST/MASQUERADE_LAE/github/MASQUERADE_LAE/lya_stats/LAE_spec_utils.py:541: RuntimeWarning: invalid value encountered in divide\n",
      "  self.flam = self.fnu * speed_of_light_angstrom / (self.wave)**2 * 1e-29 * 1e18\n",
      "/Users/minghao/Research/Projects/JWST/MASQUERADE_LAE/github/MASQUERADE_LAE/lya_stats/LAE_spec_utils.py:542: RuntimeWarning: divide by zero encountered in divide\n",
      "  self.err_flam = self.err_fnu * (speed_of_light_angstrom / (self.wave)**2 * 1e-29 * 1e18)\n",
      "16:39 bilby INFO    : Running for label '4713_1228', output will be saved to '../../MASQUERADE_LAE/data/lya_saves//J0100/bilby_fit_lya_testprior/'\n",
      "16:39 bilby INFO    : Search parameters:\n",
      "16:39 bilby INFO    :   center = Normal(mu=8914.269989570776, sigma=8.914269989570776, name='center', latex_label='center', unit=None, boundary=None)\n",
      "16:39 bilby INFO    :   fwhm = Normal(mu=600, sigma=200, name='fwhm', latex_label='fwhm', unit=None, boundary=None)\n",
      "16:39 bilby INFO    :   flux = Normal(mu=2.650447361791777, sigma=2.650447361791777, name='flux', latex_label='flux', unit=None, boundary=None)\n",
      "16:39 bilby INFO    :   A = Normal(mu=0.03541871644688292, sigma=0.03541871644688292, name='A', latex_label='A', unit=None, boundary=None)\n",
      "16:39 bilby INFO    :   beta = Normal(mu=-2, sigma=1, name='beta', latex_label='beta', unit=None, boundary=None)\n",
      "16:39 bilby INFO    :   wave0 = 8914.269989570776\n",
      "16:39 bilby INFO    : Single likelihood evaluation took 1.752e-04 s\n"
     ]
    },
    {
     "name": "stdout",
     "output_type": "stream",
     "text": [
      "found /Users/minghao/Research/Projects/JWST/ID4713/pypeit-reduc/data-release-2/reduced_spec_msaexp_pypeit/spec1d_4713_452_stack.fits\n",
      "found /Users/minghao/Research/Projects/JWST/ID4713/pypeit-reduc/data-release-2/reduced_spec_msaexp_pypeit/spec1d_4713_812_stack.fits\n",
      "found /Users/minghao/Research/Projects/JWST/ID4713/pypeit-reduc/data-release-2/reduced_spec_msaexp_pypeit/spec1d_4713_1228_stack.fits\n"
     ]
    },
    {
     "data": {
      "application/vnd.jupyter.widget-view+json": {
       "model_id": "85460efcf3bf4c41ac7ccdc26fa34d34",
       "version_major": 2,
       "version_minor": 0
      },
      "text/plain": [
       "0it [00:00, ?it/s]"
      ]
     },
     "metadata": {},
     "output_type": "display_data"
    },
    {
     "name": "stderr",
     "output_type": "stream",
     "text": [
      "16:39 bilby INFO    : Using sampler Dynesty with kwargs {'bound': 'multi', 'sample': 'rwalk', 'print_progress': True, 'periodic': None, 'reflective': None, 'check_point_delta_t': 1800, 'nlive': 200, 'first_update': None, 'walks': 100, 'npdim': None, 'rstate': None, 'queue_size': 1, 'pool': None, 'use_pool': None, 'live_points': None, 'logl_args': None, 'logl_kwargs': None, 'ptform_args': None, 'ptform_kwargs': None, 'enlarge': 1.5, 'bootstrap': None, 'vol_dec': 0.5, 'vol_check': 8.0, 'facc': 0.2, 'slices': 5, 'update_interval': 120, 'print_func': <bound method Dynesty._print_func of <bilby.core.sampler.dynesty.Dynesty object at 0x12d0d2f60>>, 'dlogz': 0.1, 'maxiter': None, 'maxcall': None, 'logl_max': inf, 'add_live': True, 'save_bounds': False, 'n_effective': None, 'maxmcmc': 5000, 'nact': 5, 'print_method': 'tqdm'}\n",
      "16:39 bilby INFO    : Checkpoint every check_point_delta_t = 600s\n",
      "16:39 bilby INFO    : Using dynesty version 1.0.1\n",
      "16:39 bilby INFO    : Using the bilby-implemented rwalk sample method with ACT estimated walks\n",
      "16:39 bilby INFO    : Reading resume file ../../MASQUERADE_LAE/data/lya_saves//J0100/bilby_fit_lya_testprior//4713_1228_resume.pickle\n",
      "16:39 bilby INFO    : Resume file successfully loaded.\n",
      "16:40 bilby INFO    : Written checkpoint file ../../MASQUERADE_LAE/data/lya_saves//J0100/bilby_fit_lya_testprior//4713_1228_resume.pickle\n",
      "16:40 bilby INFO    : Sampling time: 0:01:29.927739\n"
     ]
    },
    {
     "name": "stdout",
     "output_type": "stream",
     "text": [
      "\n"
     ]
    },
    {
     "name": "stderr",
     "output_type": "stream",
     "text": [
      "16:40 bilby INFO    : Summary of results:\n",
      "nsamples: 2631\n",
      "ln_noise_evidence:    nan\n",
      "ln_evidence: 674.451 +/-  0.274\n",
      "ln_bayes_factor:    nan +/-  0.274\n",
      "\n",
      "/Users/minghao/Research/Projects/JWST/MASQUERADE_LAE/github/MASQUERADE_LAE/lya_stats/LAE_spec_utils.py:535: RuntimeWarning: divide by zero encountered in power\n",
      "  self.err_fnu = (self.ivar_fnu)**-0.5\n",
      "/Users/minghao/Research/Projects/JWST/MASQUERADE_LAE/github/MASQUERADE_LAE/lya_stats/LAE_spec_utils.py:541: RuntimeWarning: invalid value encountered in divide\n",
      "  self.flam = self.fnu * speed_of_light_angstrom / (self.wave)**2 * 1e-29 * 1e18\n",
      "/Users/minghao/Research/Projects/JWST/MASQUERADE_LAE/github/MASQUERADE_LAE/lya_stats/LAE_spec_utils.py:542: RuntimeWarning: divide by zero encountered in divide\n",
      "  self.err_flam = self.err_fnu * (speed_of_light_angstrom / (self.wave)**2 * 1e-29 * 1e18)\n",
      "16:40 bilby INFO    : Running for label '4713_2007', output will be saved to '../../MASQUERADE_LAE/data/lya_saves//J0100/bilby_fit_lya_testprior/'\n",
      "16:40 bilby INFO    : Search parameters:\n",
      "16:40 bilby INFO    :   center = Normal(mu=9445.319278830719, sigma=9.445319278830718, name='center', latex_label='center', unit=None, boundary=None)\n",
      "16:40 bilby INFO    :   fwhm = Normal(mu=600, sigma=200, name='fwhm', latex_label='fwhm', unit=None, boundary=None)\n",
      "16:40 bilby INFO    :   flux = Normal(mu=1.285473011877919, sigma=1.285473011877919, name='flux', latex_label='flux', unit=None, boundary=None)\n",
      "16:40 bilby INFO    :   A = Normal(mu=0.014633006563108614, sigma=0.014633006563108614, name='A', latex_label='A', unit=None, boundary=None)\n",
      "16:40 bilby INFO    :   beta = Normal(mu=-2, sigma=1, name='beta', latex_label='beta', unit=None, boundary=None)\n",
      "16:40 bilby INFO    :   wave0 = 9445.319278830719\n",
      "16:40 bilby INFO    : Single likelihood evaluation took 2.129e-04 s\n"
     ]
    },
    {
     "name": "stdout",
     "output_type": "stream",
     "text": [
      "found /Users/minghao/Research/Projects/JWST/ID4713/pypeit-reduc/data-release-2/reduced_spec_msaexp_pypeit/manu1d_4713_2007_stack.fits\n"
     ]
    },
    {
     "data": {
      "application/vnd.jupyter.widget-view+json": {
       "model_id": "cf090d8963db47ad9661d5256e30ab25",
       "version_major": 2,
       "version_minor": 0
      },
      "text/plain": [
       "0it [00:00, ?it/s]"
      ]
     },
     "metadata": {},
     "output_type": "display_data"
    },
    {
     "name": "stderr",
     "output_type": "stream",
     "text": [
      "16:40 bilby INFO    : Using sampler Dynesty with kwargs {'bound': 'multi', 'sample': 'rwalk', 'print_progress': True, 'periodic': None, 'reflective': None, 'check_point_delta_t': 1800, 'nlive': 200, 'first_update': None, 'walks': 100, 'npdim': None, 'rstate': None, 'queue_size': 1, 'pool': None, 'use_pool': None, 'live_points': None, 'logl_args': None, 'logl_kwargs': None, 'ptform_args': None, 'ptform_kwargs': None, 'enlarge': 1.5, 'bootstrap': None, 'vol_dec': 0.5, 'vol_check': 8.0, 'facc': 0.2, 'slices': 5, 'update_interval': 120, 'print_func': <bound method Dynesty._print_func of <bilby.core.sampler.dynesty.Dynesty object at 0x12d9003e0>>, 'dlogz': 0.1, 'maxiter': None, 'maxcall': None, 'logl_max': inf, 'add_live': True, 'save_bounds': False, 'n_effective': None, 'maxmcmc': 5000, 'nact': 5, 'print_method': 'tqdm'}\n",
      "16:40 bilby INFO    : Checkpoint every check_point_delta_t = 600s\n",
      "16:40 bilby INFO    : Using dynesty version 1.0.1\n",
      "16:40 bilby INFO    : Using the bilby-implemented rwalk sample method with ACT estimated walks\n",
      "16:40 bilby INFO    : Reading resume file ../../MASQUERADE_LAE/data/lya_saves//J0100/bilby_fit_lya_testprior//4713_2007_resume.pickle\n",
      "16:40 bilby INFO    : Resume file successfully loaded.\n",
      "16:41 bilby INFO    : Written checkpoint file ../../MASQUERADE_LAE/data/lya_saves//J0100/bilby_fit_lya_testprior//4713_2007_resume.pickle\n",
      "/Users/minghao/anaconda3/envs/jwst_pypeit/lib/python3.12/site-packages/dynesty/plotting.py:179: RuntimeWarning: overflow encountered in exp\n",
      "  data = [nlive, np.exp(logl), np.exp(logwt), np.exp(logz)]\n",
      "/Users/minghao/anaconda3/envs/jwst_pypeit/lib/python3.12/site-packages/dynesty/plotting.py:203: RuntimeWarning: overflow encountered in exp\n",
      "  zspan = (0., 1.05 * np.exp(logz[-1] + 3. * logzerr[-1]))\n",
      "16:41 bilby WARNING : Axis limits cannot be NaN or Inf\n",
      "16:41 bilby WARNING : Failed to create dynesty run plot at checkpoint\n",
      "16:41 bilby INFO    : Sampling time: 0:00:36.673942\n"
     ]
    },
    {
     "name": "stdout",
     "output_type": "stream",
     "text": [
      "\n"
     ]
    },
    {
     "name": "stderr",
     "output_type": "stream",
     "text": [
      "16:41 bilby INFO    : Summary of results:\n",
      "nsamples: 1679\n",
      "ln_noise_evidence:    nan\n",
      "ln_evidence: 855.780 +/-  0.186\n",
      "ln_bayes_factor:    nan +/-  0.186\n",
      "\n",
      "16:41 bilby INFO    : Running for label '4713_2084', output will be saved to '../../MASQUERADE_LAE/data/lya_saves//J0100/bilby_fit_lya_testprior/'\n",
      "16:41 bilby INFO    : Search parameters:\n",
      "16:41 bilby INFO    :   center = Normal(mu=9442.911750861756, sigma=9.442911750861757, name='center', latex_label='center', unit=None, boundary=None)\n",
      "16:41 bilby INFO    :   fwhm = Normal(mu=600, sigma=200, name='fwhm', latex_label='fwhm', unit=None, boundary=None)\n",
      "16:41 bilby INFO    :   flux = Normal(mu=1.0035781260216452, sigma=1.0035781260216452, name='flux', latex_label='flux', unit=None, boundary=None)\n",
      "16:41 bilby INFO    :   A = Normal(mu=0.015301475986851923, sigma=0.015301475986851923, name='A', latex_label='A', unit=None, boundary=None)\n",
      "16:41 bilby INFO    :   beta = Normal(mu=-2, sigma=1, name='beta', latex_label='beta', unit=None, boundary=None)\n",
      "16:41 bilby INFO    :   wave0 = 9442.911750861756\n",
      "16:41 bilby INFO    : Single likelihood evaluation took 2.582e-04 s\n"
     ]
    },
    {
     "name": "stdout",
     "output_type": "stream",
     "text": [
      "found /Users/minghao/Research/Projects/JWST/ID4713/pypeit-reduc/data-release-2/reduced_spec_msaexp_pypeit/spec1d_4713_2084_stack.fits\n"
     ]
    },
    {
     "data": {
      "application/vnd.jupyter.widget-view+json": {
       "model_id": "419d27f04fe545e98ff29e52b170e897",
       "version_major": 2,
       "version_minor": 0
      },
      "text/plain": [
       "0it [00:00, ?it/s]"
      ]
     },
     "metadata": {},
     "output_type": "display_data"
    },
    {
     "name": "stderr",
     "output_type": "stream",
     "text": [
      "16:41 bilby INFO    : Using sampler Dynesty with kwargs {'bound': 'multi', 'sample': 'rwalk', 'print_progress': True, 'periodic': None, 'reflective': None, 'check_point_delta_t': 1800, 'nlive': 200, 'first_update': None, 'walks': 100, 'npdim': None, 'rstate': None, 'queue_size': 1, 'pool': None, 'use_pool': None, 'live_points': None, 'logl_args': None, 'logl_kwargs': None, 'ptform_args': None, 'ptform_kwargs': None, 'enlarge': 1.5, 'bootstrap': None, 'vol_dec': 0.5, 'vol_check': 8.0, 'facc': 0.2, 'slices': 5, 'update_interval': 120, 'print_func': <bound method Dynesty._print_func of <bilby.core.sampler.dynesty.Dynesty object at 0x12efb2f60>>, 'dlogz': 0.1, 'maxiter': None, 'maxcall': None, 'logl_max': inf, 'add_live': True, 'save_bounds': False, 'n_effective': None, 'maxmcmc': 5000, 'nact': 5, 'print_method': 'tqdm'}\n",
      "16:41 bilby INFO    : Checkpoint every check_point_delta_t = 600s\n",
      "16:41 bilby INFO    : Using dynesty version 1.0.1\n",
      "16:41 bilby INFO    : Using the bilby-implemented rwalk sample method with ACT estimated walks\n",
      "16:41 bilby INFO    : Reading resume file ../../MASQUERADE_LAE/data/lya_saves//J0100/bilby_fit_lya_testprior//4713_2084_resume.pickle\n",
      "16:41 bilby INFO    : Resume file successfully loaded.\n",
      "16:41 bilby INFO    : Written checkpoint file ../../MASQUERADE_LAE/data/lya_saves//J0100/bilby_fit_lya_testprior//4713_2084_resume.pickle\n",
      "/Users/minghao/anaconda3/envs/jwst_pypeit/lib/python3.12/site-packages/dynesty/plotting.py:179: RuntimeWarning: overflow encountered in exp\n",
      "  data = [nlive, np.exp(logl), np.exp(logwt), np.exp(logz)]\n",
      "/Users/minghao/anaconda3/envs/jwst_pypeit/lib/python3.12/site-packages/dynesty/plotting.py:203: RuntimeWarning: overflow encountered in exp\n",
      "  zspan = (0., 1.05 * np.exp(logz[-1] + 3. * logzerr[-1]))\n",
      "16:41 bilby WARNING : Axis limits cannot be NaN or Inf\n",
      "16:41 bilby WARNING : Failed to create dynesty run plot at checkpoint\n",
      "16:41 bilby INFO    : Sampling time: 0:01:05.918954\n"
     ]
    },
    {
     "name": "stdout",
     "output_type": "stream",
     "text": [
      "\n"
     ]
    },
    {
     "name": "stderr",
     "output_type": "stream",
     "text": [
      "16:41 bilby INFO    : Summary of results:\n",
      "nsamples: 2503\n",
      "ln_noise_evidence:    nan\n",
      "ln_evidence: 1002.062 +/-  0.249\n",
      "ln_bayes_factor:    nan +/-  0.249\n",
      "\n",
      "/Users/minghao/Research/Projects/JWST/MASQUERADE_LAE/github/MASQUERADE_LAE/lya_stats/LAE_spec_utils.py:535: RuntimeWarning: divide by zero encountered in power\n",
      "  self.err_fnu = (self.ivar_fnu)**-0.5\n",
      "/Users/minghao/Research/Projects/JWST/MASQUERADE_LAE/github/MASQUERADE_LAE/lya_stats/LAE_spec_utils.py:541: RuntimeWarning: invalid value encountered in divide\n",
      "  self.flam = self.fnu * speed_of_light_angstrom / (self.wave)**2 * 1e-29 * 1e18\n",
      "/Users/minghao/Research/Projects/JWST/MASQUERADE_LAE/github/MASQUERADE_LAE/lya_stats/LAE_spec_utils.py:542: RuntimeWarning: divide by zero encountered in divide\n",
      "  self.err_flam = self.err_fnu * (speed_of_light_angstrom / (self.wave)**2 * 1e-29 * 1e18)\n",
      "16:41 bilby INFO    : Running for label '4713_2159', output will be saved to '../../MASQUERADE_LAE/data/lya_saves//J0100/bilby_fit_lya_testprior/'\n",
      "16:41 bilby INFO    : Search parameters:\n",
      "16:41 bilby INFO    :   center = Normal(mu=8519.332982418287, sigma=8.519332982418288, name='center', latex_label='center', unit=None, boundary=None)\n",
      "16:41 bilby INFO    :   fwhm = Normal(mu=600, sigma=200, name='fwhm', latex_label='fwhm', unit=None, boundary=None)\n",
      "16:41 bilby INFO    :   flux = Normal(mu=7.017230408479124, sigma=7.017230408479124, name='flux', latex_label='flux', unit=None, boundary=None)\n",
      "16:41 bilby INFO    :   A = Normal(mu=0.03897881289093785, sigma=0.03897881289093785, name='A', latex_label='A', unit=None, boundary=None)\n",
      "16:41 bilby INFO    :   beta = Normal(mu=-2, sigma=1, name='beta', latex_label='beta', unit=None, boundary=None)\n",
      "16:41 bilby INFO    :   wave0 = 8519.332982418287\n",
      "16:41 bilby INFO    : Single likelihood evaluation took 1.566e-04 s\n"
     ]
    },
    {
     "name": "stdout",
     "output_type": "stream",
     "text": [
      "found /Users/minghao/Research/Projects/JWST/ID4713/pypeit-reduc/data-release-2/reduced_spec_msaexp_pypeit/spec1d_4713_2159_stack.fits\n"
     ]
    },
    {
     "data": {
      "application/vnd.jupyter.widget-view+json": {
       "model_id": "2f045c0756f3481bad6642dc93f53de8",
       "version_major": 2,
       "version_minor": 0
      },
      "text/plain": [
       "0it [00:00, ?it/s]"
      ]
     },
     "metadata": {},
     "output_type": "display_data"
    },
    {
     "name": "stderr",
     "output_type": "stream",
     "text": [
      "16:41 bilby INFO    : Checkpoint every check_point_delta_t = 600s\n",
      "16:41 bilby WARNING : Using cached result\n",
      "16:41 bilby INFO    : Summary of results:\n",
      "nsamples: 2161\n",
      "ln_noise_evidence:    nan\n",
      "ln_evidence: 566.531 +/-  0.236\n",
      "ln_bayes_factor:    nan +/-  0.236\n",
      "\n",
      "/Users/minghao/Research/Projects/JWST/MASQUERADE_LAE/github/MASQUERADE_LAE/lya_stats/LAE_spec_utils.py:535: RuntimeWarning: divide by zero encountered in power\n",
      "  self.err_fnu = (self.ivar_fnu)**-0.5\n",
      "/Users/minghao/Research/Projects/JWST/MASQUERADE_LAE/github/MASQUERADE_LAE/lya_stats/LAE_spec_utils.py:541: RuntimeWarning: invalid value encountered in divide\n",
      "  self.flam = self.fnu * speed_of_light_angstrom / (self.wave)**2 * 1e-29 * 1e18\n",
      "/Users/minghao/Research/Projects/JWST/MASQUERADE_LAE/github/MASQUERADE_LAE/lya_stats/LAE_spec_utils.py:542: RuntimeWarning: divide by zero encountered in divide\n",
      "  self.err_flam = self.err_fnu * (speed_of_light_angstrom / (self.wave)**2 * 1e-29 * 1e18)\n",
      "16:41 bilby INFO    : Running for label '4713_2355', output will be saved to '../../MASQUERADE_LAE/data/lya_saves//J0100/bilby_fit_lya_testprior/'\n",
      "16:41 bilby INFO    : Search parameters:\n",
      "16:41 bilby INFO    :   center = Normal(mu=8731.482948175415, sigma=8.731482948175415, name='center', latex_label='center', unit=None, boundary=None)\n",
      "16:41 bilby INFO    :   fwhm = Normal(mu=600, sigma=200, name='fwhm', latex_label='fwhm', unit=None, boundary=None)\n",
      "16:41 bilby INFO    :   flux = Normal(mu=1.843943904291135, sigma=1.843943904291135, name='flux', latex_label='flux', unit=None, boundary=None)\n",
      "16:41 bilby INFO    :   A = Normal(mu=0.01727982962472506, sigma=0.01727982962472506, name='A', latex_label='A', unit=None, boundary=None)\n",
      "16:41 bilby INFO    :   beta = Normal(mu=-2, sigma=1, name='beta', latex_label='beta', unit=None, boundary=None)\n",
      "16:41 bilby INFO    :   wave0 = 8731.482948175415\n",
      "16:41 bilby INFO    : Single likelihood evaluation took 1.631e-04 s\n"
     ]
    },
    {
     "name": "stdout",
     "output_type": "stream",
     "text": [
      "found /Users/minghao/Research/Projects/JWST/ID4713/pypeit-reduc/data-release-2/reduced_spec_msaexp_pypeit/spec1d_4713_2355_stack.fits\n"
     ]
    },
    {
     "data": {
      "application/vnd.jupyter.widget-view+json": {
       "model_id": "d9d0d19416934acf9dbb488c195d5e2d",
       "version_major": 2,
       "version_minor": 0
      },
      "text/plain": [
       "0it [00:00, ?it/s]"
      ]
     },
     "metadata": {},
     "output_type": "display_data"
    },
    {
     "name": "stderr",
     "output_type": "stream",
     "text": [
      "16:41 bilby INFO    : Using sampler Dynesty with kwargs {'bound': 'multi', 'sample': 'rwalk', 'print_progress': True, 'periodic': None, 'reflective': None, 'check_point_delta_t': 1800, 'nlive': 200, 'first_update': None, 'walks': 100, 'npdim': None, 'rstate': None, 'queue_size': 1, 'pool': None, 'use_pool': None, 'live_points': None, 'logl_args': None, 'logl_kwargs': None, 'ptform_args': None, 'ptform_kwargs': None, 'enlarge': 1.5, 'bootstrap': None, 'vol_dec': 0.5, 'vol_check': 8.0, 'facc': 0.2, 'slices': 5, 'update_interval': 120, 'print_func': <bound method Dynesty._print_func of <bilby.core.sampler.dynesty.Dynesty object at 0x130682fc0>>, 'dlogz': 0.1, 'maxiter': None, 'maxcall': None, 'logl_max': inf, 'add_live': True, 'save_bounds': False, 'n_effective': None, 'maxmcmc': 5000, 'nact': 5, 'print_method': 'tqdm'}\n",
      "16:41 bilby INFO    : Checkpoint every check_point_delta_t = 600s\n",
      "16:41 bilby INFO    : Using dynesty version 1.0.1\n",
      "16:41 bilby INFO    : Using the bilby-implemented rwalk sample method with ACT estimated walks\n",
      "16:41 bilby INFO    : Resume file ../../MASQUERADE_LAE/data/lya_saves//J0100/bilby_fit_lya_testprior//4713_2355_resume.pickle does not exist.\n",
      "16:41 bilby INFO    : Generating initial points from the prior\n",
      "16:42 bilby INFO    : Written checkpoint file ../../MASQUERADE_LAE/data/lya_saves//J0100/bilby_fit_lya_testprior//4713_2355_resume.pickle\n",
      "/Users/minghao/anaconda3/envs/jwst_pypeit/lib/python3.12/site-packages/dynesty/plotting.py:179: RuntimeWarning: overflow encountered in exp\n",
      "  data = [nlive, np.exp(logl), np.exp(logwt), np.exp(logz)]\n",
      "/Users/minghao/anaconda3/envs/jwst_pypeit/lib/python3.12/site-packages/dynesty/plotting.py:203: RuntimeWarning: overflow encountered in exp\n",
      "  zspan = (0., 1.05 * np.exp(logz[-1] + 3. * logzerr[-1]))\n",
      "16:42 bilby WARNING : Axis limits cannot be NaN or Inf\n",
      "16:42 bilby WARNING : Failed to create dynesty run plot at checkpoint\n",
      "16:42 bilby INFO    : Sampling time: 0:00:37.023419\n",
      "16:42 bilby INFO    : Summary of results:\n",
      "nsamples: 1801\n",
      "ln_noise_evidence:    nan\n",
      "ln_evidence: 761.774 +/-  0.195\n",
      "ln_bayes_factor:    nan +/-  0.195\n",
      "\n"
     ]
    },
    {
     "name": "stdout",
     "output_type": "stream",
     "text": [
      "\n"
     ]
    },
    {
     "name": "stderr",
     "output_type": "stream",
     "text": [
      "16:42 bilby INFO    : Running for label '4713_3783', output will be saved to '../../MASQUERADE_LAE/data/lya_saves//J0100/bilby_fit_lya_testprior/'\n",
      "16:42 bilby INFO    : Search parameters:\n",
      "16:42 bilby INFO    :   center = Normal(mu=8731.719383419046, sigma=8.731719383419046, name='center', latex_label='center', unit=None, boundary=None)\n",
      "16:42 bilby INFO    :   fwhm = Normal(mu=600, sigma=200, name='fwhm', latex_label='fwhm', unit=None, boundary=None)\n",
      "16:42 bilby INFO    :   flux = Normal(mu=2.164091614985224, sigma=2.164091614985224, name='flux', latex_label='flux', unit=None, boundary=None)\n",
      "16:42 bilby INFO    :   A = Normal(mu=0.02765831491502467, sigma=0.02765831491502467, name='A', latex_label='A', unit=None, boundary=None)\n",
      "16:42 bilby INFO    :   beta = Normal(mu=-2, sigma=1, name='beta', latex_label='beta', unit=None, boundary=None)\n",
      "16:42 bilby INFO    :   wave0 = 8731.719383419046\n",
      "16:42 bilby INFO    : Single likelihood evaluation took 2.385e-04 s\n"
     ]
    },
    {
     "name": "stdout",
     "output_type": "stream",
     "text": [
      "found /Users/minghao/Research/Projects/JWST/ID4713/pypeit-reduc/data-release-2/reduced_spec_msaexp_pypeit/spec1d_4713_3783_stack.fits\n"
     ]
    },
    {
     "data": {
      "application/vnd.jupyter.widget-view+json": {
       "model_id": "6ec88c2b816647e9b72a0d1c8d1ad801",
       "version_major": 2,
       "version_minor": 0
      },
      "text/plain": [
       "0it [00:00, ?it/s]"
      ]
     },
     "metadata": {},
     "output_type": "display_data"
    },
    {
     "name": "stderr",
     "output_type": "stream",
     "text": [
      "16:42 bilby INFO    : Using sampler Dynesty with kwargs {'bound': 'multi', 'sample': 'rwalk', 'print_progress': True, 'periodic': None, 'reflective': None, 'check_point_delta_t': 1800, 'nlive': 200, 'first_update': None, 'walks': 100, 'npdim': None, 'rstate': None, 'queue_size': 1, 'pool': None, 'use_pool': None, 'live_points': None, 'logl_args': None, 'logl_kwargs': None, 'ptform_args': None, 'ptform_kwargs': None, 'enlarge': 1.5, 'bootstrap': None, 'vol_dec': 0.5, 'vol_check': 8.0, 'facc': 0.2, 'slices': 5, 'update_interval': 120, 'print_func': <bound method Dynesty._print_func of <bilby.core.sampler.dynesty.Dynesty object at 0x12f3c0320>>, 'dlogz': 0.1, 'maxiter': None, 'maxcall': None, 'logl_max': inf, 'add_live': True, 'save_bounds': False, 'n_effective': None, 'maxmcmc': 5000, 'nact': 5, 'print_method': 'tqdm'}\n",
      "16:42 bilby INFO    : Checkpoint every check_point_delta_t = 600s\n",
      "16:42 bilby INFO    : Using dynesty version 1.0.1\n",
      "16:42 bilby INFO    : Using the bilby-implemented rwalk sample method with ACT estimated walks\n",
      "16:42 bilby INFO    : Resume file ../../MASQUERADE_LAE/data/lya_saves//J0100/bilby_fit_lya_testprior//4713_3783_resume.pickle does not exist.\n",
      "16:42 bilby INFO    : Generating initial points from the prior\n",
      "16:43 bilby INFO    : Written checkpoint file ../../MASQUERADE_LAE/data/lya_saves//J0100/bilby_fit_lya_testprior//4713_3783_resume.pickle\n",
      "16:43 bilby INFO    : Sampling time: 0:00:27.033978\n",
      "16:43 bilby INFO    : Summary of results:\n",
      "nsamples: 1635\n",
      "ln_noise_evidence:    nan\n",
      "ln_evidence: 681.461 +/-  0.182\n",
      "ln_bayes_factor:    nan +/-  0.182\n",
      "\n"
     ]
    },
    {
     "name": "stdout",
     "output_type": "stream",
     "text": [
      "\n"
     ]
    },
    {
     "name": "stderr",
     "output_type": "stream",
     "text": [
      "/Users/minghao/Research/Projects/JWST/MASQUERADE_LAE/github/MASQUERADE_LAE/lya_stats/LAE_spec_utils.py:535: RuntimeWarning: divide by zero encountered in power\n",
      "  self.err_fnu = (self.ivar_fnu)**-0.5\n",
      "/Users/minghao/Research/Projects/JWST/MASQUERADE_LAE/github/MASQUERADE_LAE/lya_stats/LAE_spec_utils.py:541: RuntimeWarning: invalid value encountered in divide\n",
      "  self.flam = self.fnu * speed_of_light_angstrom / (self.wave)**2 * 1e-29 * 1e18\n",
      "/Users/minghao/Research/Projects/JWST/MASQUERADE_LAE/github/MASQUERADE_LAE/lya_stats/LAE_spec_utils.py:542: RuntimeWarning: divide by zero encountered in divide\n",
      "  self.err_flam = self.err_fnu * (speed_of_light_angstrom / (self.wave)**2 * 1e-29 * 1e18)\n",
      "16:43 bilby INFO    : Running for label '4713_4080', output will be saved to '../../MASQUERADE_LAE/data/lya_saves//J0100/bilby_fit_lya_testprior/'\n",
      "16:43 bilby INFO    : Search parameters:\n",
      "16:43 bilby INFO    :   center = Normal(mu=8439.27104956084, sigma=8.43927104956084, name='center', latex_label='center', unit=None, boundary=None)\n",
      "16:43 bilby INFO    :   fwhm = Normal(mu=600, sigma=200, name='fwhm', latex_label='fwhm', unit=None, boundary=None)\n",
      "16:43 bilby INFO    :   flux = Normal(mu=1.9803023948587692, sigma=1.9803023948587692, name='flux', latex_label='flux', unit=None, boundary=None)\n",
      "16:43 bilby INFO    :   A = Normal(mu=0.025789010084476184, sigma=0.025789010084476184, name='A', latex_label='A', unit=None, boundary=None)\n",
      "16:43 bilby INFO    :   beta = Normal(mu=-2, sigma=1, name='beta', latex_label='beta', unit=None, boundary=None)\n",
      "16:43 bilby INFO    :   wave0 = 8439.27104956084\n",
      "16:43 bilby INFO    : Single likelihood evaluation took 2.134e-04 s\n"
     ]
    },
    {
     "name": "stdout",
     "output_type": "stream",
     "text": [
      "found /Users/minghao/Research/Projects/JWST/ID4713/pypeit-reduc/data-release-2/reduced_spec_msaexp_pypeit/spec1d_4713_4080_stack.fits\n"
     ]
    },
    {
     "data": {
      "application/vnd.jupyter.widget-view+json": {
       "model_id": "4d11582044d44bfe9395ba839e5ab6cf",
       "version_major": 2,
       "version_minor": 0
      },
      "text/plain": [
       "0it [00:00, ?it/s]"
      ]
     },
     "metadata": {},
     "output_type": "display_data"
    },
    {
     "name": "stderr",
     "output_type": "stream",
     "text": [
      "16:43 bilby INFO    : Using sampler Dynesty with kwargs {'bound': 'multi', 'sample': 'rwalk', 'print_progress': True, 'periodic': None, 'reflective': None, 'check_point_delta_t': 1800, 'nlive': 200, 'first_update': None, 'walks': 100, 'npdim': None, 'rstate': None, 'queue_size': 1, 'pool': None, 'use_pool': None, 'live_points': None, 'logl_args': None, 'logl_kwargs': None, 'ptform_args': None, 'ptform_kwargs': None, 'enlarge': 1.5, 'bootstrap': None, 'vol_dec': 0.5, 'vol_check': 8.0, 'facc': 0.2, 'slices': 5, 'update_interval': 120, 'print_func': <bound method Dynesty._print_func of <bilby.core.sampler.dynesty.Dynesty object at 0x136deaf60>>, 'dlogz': 0.1, 'maxiter': None, 'maxcall': None, 'logl_max': inf, 'add_live': True, 'save_bounds': False, 'n_effective': None, 'maxmcmc': 5000, 'nact': 5, 'print_method': 'tqdm'}\n",
      "16:43 bilby INFO    : Checkpoint every check_point_delta_t = 600s\n",
      "16:43 bilby INFO    : Using dynesty version 1.0.1\n",
      "16:43 bilby INFO    : Using the bilby-implemented rwalk sample method with ACT estimated walks\n",
      "16:43 bilby INFO    : Resume file ../../MASQUERADE_LAE/data/lya_saves//J0100/bilby_fit_lya_testprior//4713_4080_resume.pickle does not exist.\n",
      "16:43 bilby INFO    : Generating initial points from the prior\n",
      "16:43 bilby INFO    : Written checkpoint file ../../MASQUERADE_LAE/data/lya_saves//J0100/bilby_fit_lya_testprior//4713_4080_resume.pickle\n",
      "16:43 bilby INFO    : Sampling time: 0:00:34.047599\n",
      "16:43 bilby INFO    : Summary of results:\n",
      "nsamples: 1911\n",
      "ln_noise_evidence:    nan\n",
      "ln_evidence: 561.827 +/-  0.200\n",
      "ln_bayes_factor:    nan +/-  0.200\n",
      "\n"
     ]
    },
    {
     "name": "stdout",
     "output_type": "stream",
     "text": [
      "\n"
     ]
    },
    {
     "name": "stderr",
     "output_type": "stream",
     "text": [
      "/Users/minghao/Research/Projects/JWST/MASQUERADE_LAE/github/MASQUERADE_LAE/lya_stats/LAE_spec_utils.py:535: RuntimeWarning: divide by zero encountered in power\n",
      "  self.err_fnu = (self.ivar_fnu)**-0.5\n",
      "/Users/minghao/Research/Projects/JWST/MASQUERADE_LAE/github/MASQUERADE_LAE/lya_stats/LAE_spec_utils.py:541: RuntimeWarning: invalid value encountered in divide\n",
      "  self.flam = self.fnu * speed_of_light_angstrom / (self.wave)**2 * 1e-29 * 1e18\n",
      "/Users/minghao/Research/Projects/JWST/MASQUERADE_LAE/github/MASQUERADE_LAE/lya_stats/LAE_spec_utils.py:542: RuntimeWarning: divide by zero encountered in divide\n",
      "  self.err_flam = self.err_fnu * (speed_of_light_angstrom / (self.wave)**2 * 1e-29 * 1e18)\n",
      "16:43 bilby INFO    : Running for label '4713_4184', output will be saved to '../../MASQUERADE_LAE/data/lya_saves//J0100/bilby_fit_lya_testprior/'\n",
      "16:43 bilby INFO    : Search parameters:\n",
      "16:43 bilby INFO    :   center = Normal(mu=8736.58465835797, sigma=8.73658465835797, name='center', latex_label='center', unit=None, boundary=None)\n",
      "16:43 bilby INFO    :   fwhm = Normal(mu=600, sigma=200, name='fwhm', latex_label='fwhm', unit=None, boundary=None)\n",
      "16:43 bilby INFO    :   flux = Normal(mu=3.7568402029676196, sigma=3.7568402029676196, name='flux', latex_label='flux', unit=None, boundary=None)\n",
      "16:43 bilby INFO    :   A = Normal(mu=0.02061863633458286, sigma=0.02061863633458286, name='A', latex_label='A', unit=None, boundary=None)\n",
      "16:43 bilby INFO    :   beta = Normal(mu=-2, sigma=1, name='beta', latex_label='beta', unit=None, boundary=None)\n",
      "16:43 bilby INFO    :   wave0 = 8736.58465835797\n",
      "16:43 bilby INFO    : Single likelihood evaluation took 2.323e-04 s\n"
     ]
    },
    {
     "name": "stdout",
     "output_type": "stream",
     "text": [
      "found /Users/minghao/Research/Projects/JWST/ID4713/pypeit-reduc/data-release-2/reduced_spec_msaexp_pypeit/spec1d_4713_4184_stack.fits\n"
     ]
    },
    {
     "data": {
      "application/vnd.jupyter.widget-view+json": {
       "model_id": "469f54c29d954a67a672a365fc5b7400",
       "version_major": 2,
       "version_minor": 0
      },
      "text/plain": [
       "0it [00:00, ?it/s]"
      ]
     },
     "metadata": {},
     "output_type": "display_data"
    },
    {
     "name": "stderr",
     "output_type": "stream",
     "text": [
      "16:43 bilby INFO    : Using sampler Dynesty with kwargs {'bound': 'multi', 'sample': 'rwalk', 'print_progress': True, 'periodic': None, 'reflective': None, 'check_point_delta_t': 1800, 'nlive': 200, 'first_update': None, 'walks': 100, 'npdim': None, 'rstate': None, 'queue_size': 1, 'pool': None, 'use_pool': None, 'live_points': None, 'logl_args': None, 'logl_kwargs': None, 'ptform_args': None, 'ptform_kwargs': None, 'enlarge': 1.5, 'bootstrap': None, 'vol_dec': 0.5, 'vol_check': 8.0, 'facc': 0.2, 'slices': 5, 'update_interval': 120, 'print_func': <bound method Dynesty._print_func of <bilby.core.sampler.dynesty.Dynesty object at 0x1396a03e0>>, 'dlogz': 0.1, 'maxiter': None, 'maxcall': None, 'logl_max': inf, 'add_live': True, 'save_bounds': False, 'n_effective': None, 'maxmcmc': 5000, 'nact': 5, 'print_method': 'tqdm'}\n",
      "16:43 bilby INFO    : Checkpoint every check_point_delta_t = 600s\n",
      "16:43 bilby INFO    : Using dynesty version 1.0.1\n",
      "16:43 bilby INFO    : Using the bilby-implemented rwalk sample method with ACT estimated walks\n",
      "16:43 bilby INFO    : Resume file ../../MASQUERADE_LAE/data/lya_saves//J0100/bilby_fit_lya_testprior//4713_4184_resume.pickle does not exist.\n",
      "16:43 bilby INFO    : Generating initial points from the prior\n",
      "16:44 bilby INFO    : Written checkpoint file ../../MASQUERADE_LAE/data/lya_saves//J0100/bilby_fit_lya_testprior//4713_4184_resume.pickle\n",
      "16:44 bilby INFO    : Sampling time: 0:00:46.807707\n"
     ]
    },
    {
     "name": "stdout",
     "output_type": "stream",
     "text": [
      "\n"
     ]
    },
    {
     "name": "stderr",
     "output_type": "stream",
     "text": [
      "16:44 bilby INFO    : Summary of results:\n",
      "nsamples: 2166\n",
      "ln_noise_evidence:    nan\n",
      "ln_evidence: 682.931 +/-  0.235\n",
      "ln_bayes_factor:    nan +/-  0.235\n",
      "\n",
      "/Users/minghao/Research/Projects/JWST/MASQUERADE_LAE/github/MASQUERADE_LAE/lya_stats/LAE_spec_utils.py:535: RuntimeWarning: divide by zero encountered in power\n",
      "  self.err_fnu = (self.ivar_fnu)**-0.5\n",
      "/Users/minghao/Research/Projects/JWST/MASQUERADE_LAE/github/MASQUERADE_LAE/lya_stats/LAE_spec_utils.py:541: RuntimeWarning: invalid value encountered in divide\n",
      "  self.flam = self.fnu * speed_of_light_angstrom / (self.wave)**2 * 1e-29 * 1e18\n",
      "/Users/minghao/Research/Projects/JWST/MASQUERADE_LAE/github/MASQUERADE_LAE/lya_stats/LAE_spec_utils.py:542: RuntimeWarning: divide by zero encountered in divide\n",
      "  self.err_flam = self.err_fnu * (speed_of_light_angstrom / (self.wave)**2 * 1e-29 * 1e18)\n",
      "16:44 bilby INFO    : Running for label '4713_4222', output will be saved to '../../MASQUERADE_LAE/data/lya_saves//J0100/bilby_fit_lya_testprior/'\n",
      "16:44 bilby INFO    : Search parameters:\n",
      "16:44 bilby INFO    :   center = Normal(mu=8910.898090258179, sigma=8.91089809025818, name='center', latex_label='center', unit=None, boundary=None)\n",
      "16:44 bilby INFO    :   fwhm = Normal(mu=600, sigma=200, name='fwhm', latex_label='fwhm', unit=None, boundary=None)\n",
      "16:44 bilby INFO    :   flux = Normal(mu=1.4749259738236213, sigma=1.4749259738236213, name='flux', latex_label='flux', unit=None, boundary=None)\n",
      "16:44 bilby INFO    :   A = Normal(mu=0.02753780073561445, sigma=0.02753780073561445, name='A', latex_label='A', unit=None, boundary=None)\n",
      "16:44 bilby INFO    :   beta = Normal(mu=-2, sigma=1, name='beta', latex_label='beta', unit=None, boundary=None)\n",
      "16:44 bilby INFO    :   wave0 = 8910.898090258179\n",
      "16:44 bilby INFO    : Single likelihood evaluation took 1.789e-04 s\n"
     ]
    },
    {
     "name": "stdout",
     "output_type": "stream",
     "text": [
      "found /Users/minghao/Research/Projects/JWST/ID4713/pypeit-reduc/data-release-2/reduced_spec_msaexp_pypeit/spec1d_4713_4222_stack.fits\n"
     ]
    },
    {
     "data": {
      "application/vnd.jupyter.widget-view+json": {
       "model_id": "048e4ec0a2254b5484c689814d4d1408",
       "version_major": 2,
       "version_minor": 0
      },
      "text/plain": [
       "0it [00:00, ?it/s]"
      ]
     },
     "metadata": {},
     "output_type": "display_data"
    },
    {
     "name": "stderr",
     "output_type": "stream",
     "text": [
      "16:44 bilby INFO    : Using sampler Dynesty with kwargs {'bound': 'multi', 'sample': 'rwalk', 'print_progress': True, 'periodic': None, 'reflective': None, 'check_point_delta_t': 1800, 'nlive': 200, 'first_update': None, 'walks': 100, 'npdim': None, 'rstate': None, 'queue_size': 1, 'pool': None, 'use_pool': None, 'live_points': None, 'logl_args': None, 'logl_kwargs': None, 'ptform_args': None, 'ptform_kwargs': None, 'enlarge': 1.5, 'bootstrap': None, 'vol_dec': 0.5, 'vol_check': 8.0, 'facc': 0.2, 'slices': 5, 'update_interval': 120, 'print_func': <bound method Dynesty._print_func of <bilby.core.sampler.dynesty.Dynesty object at 0x13a42af60>>, 'dlogz': 0.1, 'maxiter': None, 'maxcall': None, 'logl_max': inf, 'add_live': True, 'save_bounds': False, 'n_effective': None, 'maxmcmc': 5000, 'nact': 5, 'print_method': 'tqdm'}\n",
      "16:44 bilby INFO    : Checkpoint every check_point_delta_t = 600s\n",
      "16:44 bilby INFO    : Using dynesty version 1.0.1\n",
      "16:44 bilby INFO    : Using the bilby-implemented rwalk sample method with ACT estimated walks\n",
      "16:44 bilby INFO    : Resume file ../../MASQUERADE_LAE/data/lya_saves//J0100/bilby_fit_lya_testprior//4713_4222_resume.pickle does not exist.\n",
      "16:44 bilby INFO    : Generating initial points from the prior\n",
      "16:45 bilby INFO    : Written checkpoint file ../../MASQUERADE_LAE/data/lya_saves//J0100/bilby_fit_lya_testprior//4713_4222_resume.pickle\n",
      "/Users/minghao/anaconda3/envs/jwst_pypeit/lib/python3.12/site-packages/dynesty/plotting.py:179: RuntimeWarning: overflow encountered in exp\n",
      "  data = [nlive, np.exp(logl), np.exp(logwt), np.exp(logz)]\n",
      "/Users/minghao/anaconda3/envs/jwst_pypeit/lib/python3.12/site-packages/dynesty/plotting.py:203: RuntimeWarning: overflow encountered in exp\n",
      "  zspan = (0., 1.05 * np.exp(logz[-1] + 3. * logzerr[-1]))\n",
      "16:45 bilby WARNING : Axis limits cannot be NaN or Inf\n",
      "16:45 bilby WARNING : Failed to create dynesty run plot at checkpoint\n",
      "16:45 bilby INFO    : Sampling time: 0:00:46.184889\n"
     ]
    },
    {
     "name": "stdout",
     "output_type": "stream",
     "text": [
      "\n"
     ]
    },
    {
     "name": "stderr",
     "output_type": "stream",
     "text": [
      "16:45 bilby INFO    : Summary of results:\n",
      "nsamples: 2159\n",
      "ln_noise_evidence:    nan\n",
      "ln_evidence: 815.346 +/-  0.226\n",
      "ln_bayes_factor:    nan +/-  0.226\n",
      "\n",
      "/Users/minghao/Research/Projects/JWST/MASQUERADE_LAE/github/MASQUERADE_LAE/lya_stats/LAE_spec_utils.py:535: RuntimeWarning: divide by zero encountered in power\n",
      "  self.err_fnu = (self.ivar_fnu)**-0.5\n",
      "/Users/minghao/Research/Projects/JWST/MASQUERADE_LAE/github/MASQUERADE_LAE/lya_stats/LAE_spec_utils.py:541: RuntimeWarning: invalid value encountered in divide\n",
      "  self.flam = self.fnu * speed_of_light_angstrom / (self.wave)**2 * 1e-29 * 1e18\n",
      "/Users/minghao/Research/Projects/JWST/MASQUERADE_LAE/github/MASQUERADE_LAE/lya_stats/LAE_spec_utils.py:542: RuntimeWarning: divide by zero encountered in divide\n",
      "  self.err_flam = self.err_fnu * (speed_of_light_angstrom / (self.wave)**2 * 1e-29 * 1e18)\n",
      "16:45 bilby INFO    : Running for label '4713_5378', output will be saved to '../../MASQUERADE_LAE/data/lya_saves//J0100/bilby_fit_lya_testprior/'\n",
      "16:45 bilby INFO    : Search parameters:\n",
      "16:45 bilby INFO    :   center = Normal(mu=7984.704335285967, sigma=7.984704335285968, name='center', latex_label='center', unit=None, boundary=None)\n",
      "16:45 bilby INFO    :   fwhm = Normal(mu=600, sigma=200, name='fwhm', latex_label='fwhm', unit=None, boundary=None)\n",
      "16:45 bilby INFO    :   flux = Normal(mu=1.5968936900469781, sigma=1.5968936900469781, name='flux', latex_label='flux', unit=None, boundary=None)\n",
      "16:45 bilby INFO    :   A = Normal(mu=0.017051108600400187, sigma=0.017051108600400187, name='A', latex_label='A', unit=None, boundary=None)\n",
      "16:45 bilby INFO    :   beta = Normal(mu=-2, sigma=1, name='beta', latex_label='beta', unit=None, boundary=None)\n",
      "16:45 bilby INFO    :   wave0 = 7984.704335285967\n",
      "16:45 bilby INFO    : Single likelihood evaluation took 1.459e-04 s\n"
     ]
    },
    {
     "name": "stdout",
     "output_type": "stream",
     "text": [
      "found /Users/minghao/Research/Projects/JWST/ID4713/pypeit-reduc/data-release-2/reduced_spec_msaexp_pypeit/manu1d_4713_5378_stack.fits\n"
     ]
    },
    {
     "data": {
      "application/vnd.jupyter.widget-view+json": {
       "model_id": "ba0b710f56aa4e7681f62657df798c04",
       "version_major": 2,
       "version_minor": 0
      },
      "text/plain": [
       "0it [00:00, ?it/s]"
      ]
     },
     "metadata": {},
     "output_type": "display_data"
    },
    {
     "name": "stderr",
     "output_type": "stream",
     "text": [
      "16:45 bilby INFO    : Using sampler Dynesty with kwargs {'bound': 'multi', 'sample': 'rwalk', 'print_progress': True, 'periodic': None, 'reflective': None, 'check_point_delta_t': 1800, 'nlive': 200, 'first_update': None, 'walks': 100, 'npdim': None, 'rstate': None, 'queue_size': 1, 'pool': None, 'use_pool': None, 'live_points': None, 'logl_args': None, 'logl_kwargs': None, 'ptform_args': None, 'ptform_kwargs': None, 'enlarge': 1.5, 'bootstrap': None, 'vol_dec': 0.5, 'vol_check': 8.0, 'facc': 0.2, 'slices': 5, 'update_interval': 120, 'print_func': <bound method Dynesty._print_func of <bilby.core.sampler.dynesty.Dynesty object at 0x13aaa4c20>>, 'dlogz': 0.1, 'maxiter': None, 'maxcall': None, 'logl_max': inf, 'add_live': True, 'save_bounds': False, 'n_effective': None, 'maxmcmc': 5000, 'nact': 5, 'print_method': 'tqdm'}\n",
      "16:45 bilby INFO    : Checkpoint every check_point_delta_t = 600s\n",
      "16:45 bilby INFO    : Using dynesty version 1.0.1\n",
      "16:45 bilby INFO    : Using the bilby-implemented rwalk sample method with ACT estimated walks\n",
      "16:45 bilby INFO    : Resume file ../../MASQUERADE_LAE/data/lya_saves//J0100/bilby_fit_lya_testprior//4713_5378_resume.pickle does not exist.\n",
      "16:45 bilby INFO    : Generating initial points from the prior\n",
      "16:45 bilby INFO    : Written checkpoint file ../../MASQUERADE_LAE/data/lya_saves//J0100/bilby_fit_lya_testprior//4713_5378_resume.pickle\n",
      "16:45 bilby INFO    : Sampling time: 0:00:31.508417\n",
      "16:45 bilby INFO    : Summary of results:\n",
      "nsamples: 1662\n",
      "ln_noise_evidence:    nan\n",
      "ln_evidence: 659.254 +/-  0.178\n",
      "ln_bayes_factor:    nan +/-  0.178\n",
      "\n"
     ]
    },
    {
     "name": "stdout",
     "output_type": "stream",
     "text": [
      "\n"
     ]
    },
    {
     "name": "stderr",
     "output_type": "stream",
     "text": [
      "/Users/minghao/Research/Projects/JWST/MASQUERADE_LAE/github/MASQUERADE_LAE/lya_stats/LAE_spec_utils.py:535: RuntimeWarning: divide by zero encountered in power\n",
      "  self.err_fnu = (self.ivar_fnu)**-0.5\n",
      "/Users/minghao/Research/Projects/JWST/MASQUERADE_LAE/github/MASQUERADE_LAE/lya_stats/LAE_spec_utils.py:541: RuntimeWarning: invalid value encountered in divide\n",
      "  self.flam = self.fnu * speed_of_light_angstrom / (self.wave)**2 * 1e-29 * 1e18\n",
      "/Users/minghao/Research/Projects/JWST/MASQUERADE_LAE/github/MASQUERADE_LAE/lya_stats/LAE_spec_utils.py:542: RuntimeWarning: divide by zero encountered in divide\n",
      "  self.err_flam = self.err_fnu * (speed_of_light_angstrom / (self.wave)**2 * 1e-29 * 1e18)\n",
      "16:45 bilby INFO    : Running for label '4713_5581', output will be saved to '../../MASQUERADE_LAE/data/lya_saves//J0100/bilby_fit_lya_testprior/'\n",
      "16:45 bilby INFO    : Search parameters:\n",
      "16:45 bilby INFO    :   center = Normal(mu=7913.434935556402, sigma=7.913434935556402, name='center', latex_label='center', unit=None, boundary=None)\n",
      "16:45 bilby INFO    :   fwhm = Normal(mu=600, sigma=200, name='fwhm', latex_label='fwhm', unit=None, boundary=None)\n",
      "16:45 bilby INFO    :   flux = Normal(mu=2.3797556557589155, sigma=2.3797556557589155, name='flux', latex_label='flux', unit=None, boundary=None)\n",
      "16:45 bilby INFO    :   A = Normal(mu=0.023304977052494815, sigma=0.023304977052494815, name='A', latex_label='A', unit=None, boundary=None)\n",
      "16:45 bilby INFO    :   beta = Normal(mu=-2, sigma=1, name='beta', latex_label='beta', unit=None, boundary=None)\n",
      "16:45 bilby INFO    :   wave0 = 7913.434935556402\n",
      "16:45 bilby INFO    : Single likelihood evaluation took 2.330e-04 s\n"
     ]
    },
    {
     "name": "stdout",
     "output_type": "stream",
     "text": [
      "found /Users/minghao/Research/Projects/JWST/ID4713/pypeit-reduc/data-release-2/reduced_spec_msaexp_pypeit/spec1d_4713_5581_stack.fits\n"
     ]
    },
    {
     "data": {
      "application/vnd.jupyter.widget-view+json": {
       "model_id": "c5723fbc44084c0e9d6b66c9819b1a6a",
       "version_major": 2,
       "version_minor": 0
      },
      "text/plain": [
       "0it [00:00, ?it/s]"
      ]
     },
     "metadata": {},
     "output_type": "display_data"
    },
    {
     "name": "stderr",
     "output_type": "stream",
     "text": [
      "16:45 bilby INFO    : Using sampler Dynesty with kwargs {'bound': 'multi', 'sample': 'rwalk', 'print_progress': True, 'periodic': None, 'reflective': None, 'check_point_delta_t': 1800, 'nlive': 200, 'first_update': None, 'walks': 100, 'npdim': None, 'rstate': None, 'queue_size': 1, 'pool': None, 'use_pool': None, 'live_points': None, 'logl_args': None, 'logl_kwargs': None, 'ptform_args': None, 'ptform_kwargs': None, 'enlarge': 1.5, 'bootstrap': None, 'vol_dec': 0.5, 'vol_check': 8.0, 'facc': 0.2, 'slices': 5, 'update_interval': 120, 'print_func': <bound method Dynesty._print_func of <bilby.core.sampler.dynesty.Dynesty object at 0x13c284b30>>, 'dlogz': 0.1, 'maxiter': None, 'maxcall': None, 'logl_max': inf, 'add_live': True, 'save_bounds': False, 'n_effective': None, 'maxmcmc': 5000, 'nact': 5, 'print_method': 'tqdm'}\n",
      "16:45 bilby INFO    : Checkpoint every check_point_delta_t = 600s\n",
      "16:45 bilby INFO    : Using dynesty version 1.0.1\n",
      "16:45 bilby INFO    : Using the bilby-implemented rwalk sample method with ACT estimated walks\n",
      "16:45 bilby INFO    : Resume file ../../MASQUERADE_LAE/data/lya_saves//J0100/bilby_fit_lya_testprior//4713_5581_resume.pickle does not exist.\n",
      "16:45 bilby INFO    : Generating initial points from the prior\n",
      "16:46 bilby INFO    : Written checkpoint file ../../MASQUERADE_LAE/data/lya_saves//J0100/bilby_fit_lya_testprior//4713_5581_resume.pickle\n",
      "16:46 bilby INFO    : Sampling time: 0:00:32.436950\n",
      "16:46 bilby INFO    : Summary of results:\n",
      "nsamples: 1571\n",
      "ln_noise_evidence:    nan\n",
      "ln_evidence: 552.510 +/-  0.178\n",
      "ln_bayes_factor:    nan +/-  0.178\n",
      "\n"
     ]
    },
    {
     "name": "stdout",
     "output_type": "stream",
     "text": [
      "\n"
     ]
    },
    {
     "name": "stderr",
     "output_type": "stream",
     "text": [
      "/Users/minghao/Research/Projects/JWST/MASQUERADE_LAE/github/MASQUERADE_LAE/lya_stats/LAE_spec_utils.py:535: RuntimeWarning: divide by zero encountered in power\n",
      "  self.err_fnu = (self.ivar_fnu)**-0.5\n",
      "/Users/minghao/Research/Projects/JWST/MASQUERADE_LAE/github/MASQUERADE_LAE/lya_stats/LAE_spec_utils.py:541: RuntimeWarning: invalid value encountered in divide\n",
      "  self.flam = self.fnu * speed_of_light_angstrom / (self.wave)**2 * 1e-29 * 1e18\n",
      "/Users/minghao/Research/Projects/JWST/MASQUERADE_LAE/github/MASQUERADE_LAE/lya_stats/LAE_spec_utils.py:542: RuntimeWarning: divide by zero encountered in divide\n",
      "  self.err_flam = self.err_fnu * (speed_of_light_angstrom / (self.wave)**2 * 1e-29 * 1e18)\n",
      "16:46 bilby INFO    : Running for label '4713_5595', output will be saved to '../../MASQUERADE_LAE/data/lya_saves//J0100/bilby_fit_lya_testprior/'\n",
      "16:46 bilby INFO    : Search parameters:\n",
      "16:46 bilby INFO    :   center = Normal(mu=8497.161419017793, sigma=8.497161419017793, name='center', latex_label='center', unit=None, boundary=None)\n",
      "16:46 bilby INFO    :   fwhm = Normal(mu=600, sigma=200, name='fwhm', latex_label='fwhm', unit=None, boundary=None)\n",
      "16:46 bilby INFO    :   flux = Normal(mu=1.2988771144091782, sigma=1.2988771144091782, name='flux', latex_label='flux', unit=None, boundary=None)\n",
      "16:46 bilby INFO    :   A = Normal(mu=0.018398568151697596, sigma=0.018398568151697596, name='A', latex_label='A', unit=None, boundary=None)\n",
      "16:46 bilby INFO    :   beta = Normal(mu=-2, sigma=1, name='beta', latex_label='beta', unit=None, boundary=None)\n",
      "16:46 bilby INFO    :   wave0 = 8497.161419017793\n",
      "16:46 bilby INFO    : Single likelihood evaluation took 1.651e-04 s\n"
     ]
    },
    {
     "name": "stdout",
     "output_type": "stream",
     "text": [
      "found /Users/minghao/Research/Projects/JWST/ID4713/pypeit-reduc/data-release-2/reduced_spec_msaexp_pypeit/manu1d_4713_5595_stack.fits\n"
     ]
    },
    {
     "data": {
      "application/vnd.jupyter.widget-view+json": {
       "model_id": "c63d333d59b344cc98a8fcbd6eeab86f",
       "version_major": 2,
       "version_minor": 0
      },
      "text/plain": [
       "0it [00:00, ?it/s]"
      ]
     },
     "metadata": {},
     "output_type": "display_data"
    },
    {
     "name": "stderr",
     "output_type": "stream",
     "text": [
      "16:46 bilby INFO    : Using sampler Dynesty with kwargs {'bound': 'multi', 'sample': 'rwalk', 'print_progress': True, 'periodic': None, 'reflective': None, 'check_point_delta_t': 1800, 'nlive': 200, 'first_update': None, 'walks': 100, 'npdim': None, 'rstate': None, 'queue_size': 1, 'pool': None, 'use_pool': None, 'live_points': None, 'logl_args': None, 'logl_kwargs': None, 'ptform_args': None, 'ptform_kwargs': None, 'enlarge': 1.5, 'bootstrap': None, 'vol_dec': 0.5, 'vol_check': 8.0, 'facc': 0.2, 'slices': 5, 'update_interval': 120, 'print_func': <bound method Dynesty._print_func of <bilby.core.sampler.dynesty.Dynesty object at 0x13c07fe00>>, 'dlogz': 0.1, 'maxiter': None, 'maxcall': None, 'logl_max': inf, 'add_live': True, 'save_bounds': False, 'n_effective': None, 'maxmcmc': 5000, 'nact': 5, 'print_method': 'tqdm'}\n",
      "16:46 bilby INFO    : Checkpoint every check_point_delta_t = 600s\n",
      "16:46 bilby INFO    : Using dynesty version 1.0.1\n",
      "16:46 bilby INFO    : Using the bilby-implemented rwalk sample method with ACT estimated walks\n",
      "16:46 bilby INFO    : Resume file ../../MASQUERADE_LAE/data/lya_saves//J0100/bilby_fit_lya_testprior//4713_5595_resume.pickle does not exist.\n",
      "16:46 bilby INFO    : Generating initial points from the prior\n",
      "16:47 bilby INFO    : Written checkpoint file ../../MASQUERADE_LAE/data/lya_saves//J0100/bilby_fit_lya_testprior//4713_5595_resume.pickle\n",
      "/Users/minghao/anaconda3/envs/jwst_pypeit/lib/python3.12/site-packages/dynesty/plotting.py:179: RuntimeWarning: overflow encountered in exp\n",
      "  data = [nlive, np.exp(logl), np.exp(logwt), np.exp(logz)]\n",
      "/Users/minghao/anaconda3/envs/jwst_pypeit/lib/python3.12/site-packages/dynesty/plotting.py:203: RuntimeWarning: overflow encountered in exp\n",
      "  zspan = (0., 1.05 * np.exp(logz[-1] + 3. * logzerr[-1]))\n",
      "16:47 bilby WARNING : Axis limits cannot be NaN or Inf\n",
      "16:47 bilby WARNING : Failed to create dynesty run plot at checkpoint\n",
      "16:47 bilby INFO    : Sampling time: 0:01:04.167471\n"
     ]
    },
    {
     "name": "stdout",
     "output_type": "stream",
     "text": [
      "\n"
     ]
    },
    {
     "name": "stderr",
     "output_type": "stream",
     "text": [
      "16:47 bilby INFO    : Summary of results:\n",
      "nsamples: 2098\n",
      "ln_noise_evidence:    nan\n",
      "ln_evidence: 734.557 +/-  0.220\n",
      "ln_bayes_factor:    nan +/-  0.220\n",
      "\n",
      "/Users/minghao/Research/Projects/JWST/MASQUERADE_LAE/github/MASQUERADE_LAE/lya_stats/LAE_spec_utils.py:535: RuntimeWarning: divide by zero encountered in power\n",
      "  self.err_fnu = (self.ivar_fnu)**-0.5\n",
      "/Users/minghao/Research/Projects/JWST/MASQUERADE_LAE/github/MASQUERADE_LAE/lya_stats/LAE_spec_utils.py:541: RuntimeWarning: invalid value encountered in divide\n",
      "  self.flam = self.fnu * speed_of_light_angstrom / (self.wave)**2 * 1e-29 * 1e18\n",
      "/Users/minghao/Research/Projects/JWST/MASQUERADE_LAE/github/MASQUERADE_LAE/lya_stats/LAE_spec_utils.py:542: RuntimeWarning: divide by zero encountered in divide\n",
      "  self.err_flam = self.err_fnu * (speed_of_light_angstrom / (self.wave)**2 * 1e-29 * 1e18)\n",
      "16:47 bilby INFO    : Running for label '4713_5671', output will be saved to '../../MASQUERADE_LAE/data/lya_saves//J0100/bilby_fit_lya_testprior/'\n",
      "16:47 bilby INFO    : Search parameters:\n",
      "16:47 bilby INFO    :   center = Normal(mu=8493.095563873087, sigma=8.493095563873087, name='center', latex_label='center', unit=None, boundary=None)\n",
      "16:47 bilby INFO    :   fwhm = Normal(mu=600, sigma=200, name='fwhm', latex_label='fwhm', unit=None, boundary=None)\n",
      "16:47 bilby INFO    :   flux = Normal(mu=1.8332293025207231, sigma=1.8332293025207231, name='flux', latex_label='flux', unit=None, boundary=None)\n",
      "16:47 bilby INFO    :   A = Normal(mu=0.027308160094577646, sigma=0.027308160094577646, name='A', latex_label='A', unit=None, boundary=None)\n",
      "16:47 bilby INFO    :   beta = Normal(mu=-2, sigma=1, name='beta', latex_label='beta', unit=None, boundary=None)\n",
      "16:47 bilby INFO    :   wave0 = 8493.095563873087\n",
      "16:47 bilby INFO    : Single likelihood evaluation took 1.412e-04 s\n"
     ]
    },
    {
     "name": "stdout",
     "output_type": "stream",
     "text": [
      "found /Users/minghao/Research/Projects/JWST/ID4713/pypeit-reduc/data-release-2/reduced_spec_msaexp_pypeit/spec1d_4713_5671_stack.fits\n"
     ]
    },
    {
     "data": {
      "application/vnd.jupyter.widget-view+json": {
       "model_id": "bcbe955bbdd3420d92f6bbca6afb365d",
       "version_major": 2,
       "version_minor": 0
      },
      "text/plain": [
       "0it [00:00, ?it/s]"
      ]
     },
     "metadata": {},
     "output_type": "display_data"
    },
    {
     "name": "stderr",
     "output_type": "stream",
     "text": [
      "16:47 bilby INFO    : Using sampler Dynesty with kwargs {'bound': 'multi', 'sample': 'rwalk', 'print_progress': True, 'periodic': None, 'reflective': None, 'check_point_delta_t': 1800, 'nlive': 200, 'first_update': None, 'walks': 100, 'npdim': None, 'rstate': None, 'queue_size': 1, 'pool': None, 'use_pool': None, 'live_points': None, 'logl_args': None, 'logl_kwargs': None, 'ptform_args': None, 'ptform_kwargs': None, 'enlarge': 1.5, 'bootstrap': None, 'vol_dec': 0.5, 'vol_check': 8.0, 'facc': 0.2, 'slices': 5, 'update_interval': 120, 'print_func': <bound method Dynesty._print_func of <bilby.core.sampler.dynesty.Dynesty object at 0x13f053ec0>>, 'dlogz': 0.1, 'maxiter': None, 'maxcall': None, 'logl_max': inf, 'add_live': True, 'save_bounds': False, 'n_effective': None, 'maxmcmc': 5000, 'nact': 5, 'print_method': 'tqdm'}\n",
      "16:47 bilby INFO    : Checkpoint every check_point_delta_t = 600s\n",
      "16:47 bilby INFO    : Using dynesty version 1.0.1\n",
      "16:47 bilby INFO    : Using the bilby-implemented rwalk sample method with ACT estimated walks\n",
      "16:47 bilby INFO    : Resume file ../../MASQUERADE_LAE/data/lya_saves//J0100/bilby_fit_lya_testprior//4713_5671_resume.pickle does not exist.\n",
      "16:47 bilby INFO    : Generating initial points from the prior\n",
      "16:48 bilby INFO    : Written checkpoint file ../../MASQUERADE_LAE/data/lya_saves//J0100/bilby_fit_lya_testprior//4713_5671_resume.pickle\n",
      "16:48 bilby INFO    : Sampling time: 0:00:49.751097\n"
     ]
    },
    {
     "name": "stdout",
     "output_type": "stream",
     "text": [
      "\n"
     ]
    },
    {
     "name": "stderr",
     "output_type": "stream",
     "text": [
      "16:48 bilby INFO    : Summary of results:\n",
      "nsamples: 2277\n",
      "ln_noise_evidence:    nan\n",
      "ln_evidence: 606.198 +/-  0.230\n",
      "ln_bayes_factor:    nan +/-  0.230\n",
      "\n",
      "/Users/minghao/Research/Projects/JWST/MASQUERADE_LAE/github/MASQUERADE_LAE/lya_stats/LAE_spec_utils.py:535: RuntimeWarning: divide by zero encountered in power\n",
      "  self.err_fnu = (self.ivar_fnu)**-0.5\n",
      "/Users/minghao/Research/Projects/JWST/MASQUERADE_LAE/github/MASQUERADE_LAE/lya_stats/LAE_spec_utils.py:541: RuntimeWarning: invalid value encountered in divide\n",
      "  self.flam = self.fnu * speed_of_light_angstrom / (self.wave)**2 * 1e-29 * 1e18\n",
      "/Users/minghao/Research/Projects/JWST/MASQUERADE_LAE/github/MASQUERADE_LAE/lya_stats/LAE_spec_utils.py:542: RuntimeWarning: divide by zero encountered in divide\n",
      "  self.err_flam = self.err_fnu * (speed_of_light_angstrom / (self.wave)**2 * 1e-29 * 1e18)\n",
      "16:48 bilby INFO    : Running for label '4713_6733', output will be saved to '../../MASQUERADE_LAE/data/lya_saves//J0100/bilby_fit_lya_testprior/'\n",
      "16:48 bilby INFO    : Search parameters:\n",
      "16:48 bilby INFO    :   center = Normal(mu=9443.408582256376, sigma=9.443408582256376, name='center', latex_label='center', unit=None, boundary=None)\n",
      "16:48 bilby INFO    :   fwhm = Normal(mu=600, sigma=200, name='fwhm', latex_label='fwhm', unit=None, boundary=None)\n",
      "16:48 bilby INFO    :   flux = Normal(mu=17.496718862659677, sigma=17.496718862659677, name='flux', latex_label='flux', unit=None, boundary=None)\n",
      "16:48 bilby INFO    :   A = Normal(mu=0.08827434496161199, sigma=0.08827434496161199, name='A', latex_label='A', unit=None, boundary=None)\n",
      "16:48 bilby INFO    :   beta = Normal(mu=-2, sigma=1, name='beta', latex_label='beta', unit=None, boundary=None)\n",
      "16:48 bilby INFO    :   wave0 = 9443.408582256376\n",
      "16:48 bilby INFO    : Single likelihood evaluation took 1.574e-04 s\n"
     ]
    },
    {
     "name": "stdout",
     "output_type": "stream",
     "text": [
      "found /Users/minghao/Research/Projects/JWST/ID4713/pypeit-reduc/data-release-2/reduced_spec_msaexp_pypeit/spec1d_4713_6733_stack.fits\n"
     ]
    },
    {
     "data": {
      "application/vnd.jupyter.widget-view+json": {
       "model_id": "5f86dbbc4ee941a6b2d8833653cde8af",
       "version_major": 2,
       "version_minor": 0
      },
      "text/plain": [
       "0it [00:00, ?it/s]"
      ]
     },
     "metadata": {},
     "output_type": "display_data"
    },
    {
     "name": "stderr",
     "output_type": "stream",
     "text": [
      "16:48 bilby INFO    : Using sampler Dynesty with kwargs {'bound': 'multi', 'sample': 'rwalk', 'print_progress': True, 'periodic': None, 'reflective': None, 'check_point_delta_t': 1800, 'nlive': 200, 'first_update': None, 'walks': 100, 'npdim': None, 'rstate': None, 'queue_size': 1, 'pool': None, 'use_pool': None, 'live_points': None, 'logl_args': None, 'logl_kwargs': None, 'ptform_args': None, 'ptform_kwargs': None, 'enlarge': 1.5, 'bootstrap': None, 'vol_dec': 0.5, 'vol_check': 8.0, 'facc': 0.2, 'slices': 5, 'update_interval': 120, 'print_func': <bound method Dynesty._print_func of <bilby.core.sampler.dynesty.Dynesty object at 0x13e1383e0>>, 'dlogz': 0.1, 'maxiter': None, 'maxcall': None, 'logl_max': inf, 'add_live': True, 'save_bounds': False, 'n_effective': None, 'maxmcmc': 5000, 'nact': 5, 'print_method': 'tqdm'}\n",
      "16:48 bilby INFO    : Checkpoint every check_point_delta_t = 600s\n",
      "16:48 bilby INFO    : Using dynesty version 1.0.1\n",
      "16:48 bilby INFO    : Using the bilby-implemented rwalk sample method with ACT estimated walks\n",
      "16:48 bilby INFO    : Resume file ../../MASQUERADE_LAE/data/lya_saves//J0100/bilby_fit_lya_testprior//4713_6733_resume.pickle does not exist.\n",
      "16:48 bilby INFO    : Generating initial points from the prior\n",
      "16:49 bilby INFO    : Written checkpoint file ../../MASQUERADE_LAE/data/lya_saves//J0100/bilby_fit_lya_testprior//4713_6733_resume.pickle\n",
      "/Users/minghao/anaconda3/envs/jwst_pypeit/lib/python3.12/site-packages/dynesty/plotting.py:179: RuntimeWarning: overflow encountered in exp\n",
      "  data = [nlive, np.exp(logl), np.exp(logwt), np.exp(logz)]\n",
      "/Users/minghao/anaconda3/envs/jwst_pypeit/lib/python3.12/site-packages/dynesty/plotting.py:203: RuntimeWarning: overflow encountered in exp\n",
      "  zspan = (0., 1.05 * np.exp(logz[-1] + 3. * logzerr[-1]))\n",
      "16:49 bilby WARNING : Axis limits cannot be NaN or Inf\n",
      "16:49 bilby WARNING : Failed to create dynesty run plot at checkpoint\n"
     ]
    },
    {
     "name": "stdout",
     "output_type": "stream",
     "text": [
      "\n"
     ]
    },
    {
     "name": "stderr",
     "output_type": "stream",
     "text": [
      "16:49 bilby INFO    : Sampling time: 0:01:16.525019\n",
      "16:49 bilby INFO    : Summary of results:\n",
      "nsamples: 3795\n",
      "ln_noise_evidence:    nan\n",
      "ln_evidence: 777.161 +/-  0.369\n",
      "ln_bayes_factor:    nan +/-  0.369\n",
      "\n",
      "/Users/minghao/Research/Projects/JWST/MASQUERADE_LAE/github/MASQUERADE_LAE/lya_stats/LAE_spec_utils.py:535: RuntimeWarning: divide by zero encountered in power\n",
      "  self.err_fnu = (self.ivar_fnu)**-0.5\n",
      "/Users/minghao/Research/Projects/JWST/MASQUERADE_LAE/github/MASQUERADE_LAE/lya_stats/LAE_spec_utils.py:541: RuntimeWarning: invalid value encountered in divide\n",
      "  self.flam = self.fnu * speed_of_light_angstrom / (self.wave)**2 * 1e-29 * 1e18\n",
      "/Users/minghao/Research/Projects/JWST/MASQUERADE_LAE/github/MASQUERADE_LAE/lya_stats/LAE_spec_utils.py:542: RuntimeWarning: divide by zero encountered in divide\n",
      "  self.err_flam = self.err_fnu * (speed_of_light_angstrom / (self.wave)**2 * 1e-29 * 1e18)\n",
      "16:49 bilby INFO    : Running for label '4713_7194', output will be saved to '../../MASQUERADE_LAE/data/lya_saves//J0100/bilby_fit_lya_testprior/'\n",
      "16:49 bilby INFO    : Search parameters:\n",
      "16:49 bilby INFO    :   center = Normal(mu=8738.719158848176, sigma=8.738719158848177, name='center', latex_label='center', unit=None, boundary=None)\n",
      "16:49 bilby INFO    :   fwhm = Normal(mu=600, sigma=200, name='fwhm', latex_label='fwhm', unit=None, boundary=None)\n",
      "16:49 bilby INFO    :   flux = Normal(mu=1.3067857598236998, sigma=1.3067857598236998, name='flux', latex_label='flux', unit=None, boundary=None)\n",
      "16:49 bilby INFO    :   A = Normal(mu=0.014243308964275298, sigma=0.014243308964275298, name='A', latex_label='A', unit=None, boundary=None)\n",
      "16:49 bilby INFO    :   beta = Normal(mu=-2, sigma=1, name='beta', latex_label='beta', unit=None, boundary=None)\n",
      "16:49 bilby INFO    :   wave0 = 8738.719158848176\n",
      "16:49 bilby INFO    : Single likelihood evaluation took 1.505e-04 s\n"
     ]
    },
    {
     "name": "stdout",
     "output_type": "stream",
     "text": [
      "found /Users/minghao/Research/Projects/JWST/ID4713/pypeit-reduc/data-release-2/reduced_spec_msaexp_pypeit/manu1d_4713_7194_stack.fits\n"
     ]
    },
    {
     "data": {
      "application/vnd.jupyter.widget-view+json": {
       "model_id": "639cf3dbcfc348128d1aa827e6a9303b",
       "version_major": 2,
       "version_minor": 0
      },
      "text/plain": [
       "0it [00:00, ?it/s]"
      ]
     },
     "metadata": {},
     "output_type": "display_data"
    },
    {
     "name": "stderr",
     "output_type": "stream",
     "text": [
      "16:49 bilby INFO    : Using sampler Dynesty with kwargs {'bound': 'multi', 'sample': 'rwalk', 'print_progress': True, 'periodic': None, 'reflective': None, 'check_point_delta_t': 1800, 'nlive': 200, 'first_update': None, 'walks': 100, 'npdim': None, 'rstate': None, 'queue_size': 1, 'pool': None, 'use_pool': None, 'live_points': None, 'logl_args': None, 'logl_kwargs': None, 'ptform_args': None, 'ptform_kwargs': None, 'enlarge': 1.5, 'bootstrap': None, 'vol_dec': 0.5, 'vol_check': 8.0, 'facc': 0.2, 'slices': 5, 'update_interval': 120, 'print_func': <bound method Dynesty._print_func of <bilby.core.sampler.dynesty.Dynesty object at 0x141a183e0>>, 'dlogz': 0.1, 'maxiter': None, 'maxcall': None, 'logl_max': inf, 'add_live': True, 'save_bounds': False, 'n_effective': None, 'maxmcmc': 5000, 'nact': 5, 'print_method': 'tqdm'}\n",
      "16:49 bilby INFO    : Checkpoint every check_point_delta_t = 600s\n",
      "16:49 bilby INFO    : Using dynesty version 1.0.1\n",
      "16:49 bilby INFO    : Using the bilby-implemented rwalk sample method with ACT estimated walks\n",
      "16:49 bilby INFO    : Resume file ../../MASQUERADE_LAE/data/lya_saves//J0100/bilby_fit_lya_testprior//4713_7194_resume.pickle does not exist.\n",
      "16:49 bilby INFO    : Generating initial points from the prior\n",
      "16:50 bilby INFO    : Written checkpoint file ../../MASQUERADE_LAE/data/lya_saves//J0100/bilby_fit_lya_testprior//4713_7194_resume.pickle\n",
      "/Users/minghao/anaconda3/envs/jwst_pypeit/lib/python3.12/site-packages/dynesty/plotting.py:179: RuntimeWarning: overflow encountered in exp\n",
      "  data = [nlive, np.exp(logl), np.exp(logwt), np.exp(logz)]\n",
      "/Users/minghao/anaconda3/envs/jwst_pypeit/lib/python3.12/site-packages/dynesty/plotting.py:203: RuntimeWarning: overflow encountered in exp\n",
      "  zspan = (0., 1.05 * np.exp(logz[-1] + 3. * logzerr[-1]))\n",
      "16:50 bilby WARNING : Axis limits cannot be NaN or Inf\n",
      "16:50 bilby WARNING : Failed to create dynesty run plot at checkpoint\n",
      "16:50 bilby INFO    : Sampling time: 0:00:49.965665\n"
     ]
    },
    {
     "name": "stdout",
     "output_type": "stream",
     "text": [
      "\n"
     ]
    },
    {
     "name": "stderr",
     "output_type": "stream",
     "text": [
      "16:50 bilby INFO    : Summary of results:\n",
      "nsamples: 2181\n",
      "ln_noise_evidence:    nan\n",
      "ln_evidence: 754.617 +/-  0.226\n",
      "ln_bayes_factor:    nan +/-  0.226\n",
      "\n",
      "/Users/minghao/Research/Projects/JWST/MASQUERADE_LAE/github/MASQUERADE_LAE/lya_stats/LAE_spec_utils.py:535: RuntimeWarning: divide by zero encountered in power\n",
      "  self.err_fnu = (self.ivar_fnu)**-0.5\n",
      "/Users/minghao/Research/Projects/JWST/MASQUERADE_LAE/github/MASQUERADE_LAE/lya_stats/LAE_spec_utils.py:541: RuntimeWarning: invalid value encountered in divide\n",
      "  self.flam = self.fnu * speed_of_light_angstrom / (self.wave)**2 * 1e-29 * 1e18\n",
      "/Users/minghao/Research/Projects/JWST/MASQUERADE_LAE/github/MASQUERADE_LAE/lya_stats/LAE_spec_utils.py:542: RuntimeWarning: divide by zero encountered in divide\n",
      "  self.err_flam = self.err_fnu * (speed_of_light_angstrom / (self.wave)**2 * 1e-29 * 1e18)\n",
      "16:50 bilby INFO    : Running for label '4713_7230', output will be saved to '../../MASQUERADE_LAE/data/lya_saves//J0100/bilby_fit_lya_testprior/'\n",
      "16:50 bilby INFO    : Search parameters:\n",
      "16:50 bilby INFO    :   center = Normal(mu=9518.699676867933, sigma=9.518699676867932, name='center', latex_label='center', unit=None, boundary=None)\n",
      "16:50 bilby INFO    :   fwhm = Normal(mu=600, sigma=200, name='fwhm', latex_label='fwhm', unit=None, boundary=None)\n",
      "16:50 bilby INFO    :   flux = Normal(mu=3.001326031166091, sigma=3.001326031166091, name='flux', latex_label='flux', unit=None, boundary=None)\n",
      "16:50 bilby INFO    :   A = Normal(mu=0.009749217230774215, sigma=0.009749217230774215, name='A', latex_label='A', unit=None, boundary=None)\n",
      "16:50 bilby INFO    :   beta = Normal(mu=-2, sigma=1, name='beta', latex_label='beta', unit=None, boundary=None)\n",
      "16:50 bilby INFO    :   wave0 = 9518.699676867933\n",
      "16:50 bilby INFO    : Single likelihood evaluation took 1.879e-04 s\n"
     ]
    },
    {
     "name": "stdout",
     "output_type": "stream",
     "text": [
      "found /Users/minghao/Research/Projects/JWST/ID4713/pypeit-reduc/data-release-2/reduced_spec_msaexp_pypeit/manu1d_4713_7230_stack.fits\n"
     ]
    },
    {
     "data": {
      "application/vnd.jupyter.widget-view+json": {
       "model_id": "f722589530db4940b5771264427fa5b8",
       "version_major": 2,
       "version_minor": 0
      },
      "text/plain": [
       "0it [00:00, ?it/s]"
      ]
     },
     "metadata": {},
     "output_type": "display_data"
    },
    {
     "name": "stderr",
     "output_type": "stream",
     "text": [
      "16:50 bilby INFO    : Using sampler Dynesty with kwargs {'bound': 'multi', 'sample': 'rwalk', 'print_progress': True, 'periodic': None, 'reflective': None, 'check_point_delta_t': 1800, 'nlive': 200, 'first_update': None, 'walks': 100, 'npdim': None, 'rstate': None, 'queue_size': 1, 'pool': None, 'use_pool': None, 'live_points': None, 'logl_args': None, 'logl_kwargs': None, 'ptform_args': None, 'ptform_kwargs': None, 'enlarge': 1.5, 'bootstrap': None, 'vol_dec': 0.5, 'vol_check': 8.0, 'facc': 0.2, 'slices': 5, 'update_interval': 120, 'print_func': <bound method Dynesty._print_func of <bilby.core.sampler.dynesty.Dynesty object at 0x14130cb30>>, 'dlogz': 0.1, 'maxiter': None, 'maxcall': None, 'logl_max': inf, 'add_live': True, 'save_bounds': False, 'n_effective': None, 'maxmcmc': 5000, 'nact': 5, 'print_method': 'tqdm'}\n",
      "16:50 bilby INFO    : Checkpoint every check_point_delta_t = 600s\n",
      "16:50 bilby INFO    : Using dynesty version 1.0.1\n",
      "16:50 bilby INFO    : Using the bilby-implemented rwalk sample method with ACT estimated walks\n",
      "16:50 bilby INFO    : Resume file ../../MASQUERADE_LAE/data/lya_saves//J0100/bilby_fit_lya_testprior//4713_7230_resume.pickle does not exist.\n",
      "16:50 bilby INFO    : Generating initial points from the prior\n",
      "16:51 bilby INFO    : Written checkpoint file ../../MASQUERADE_LAE/data/lya_saves//J0100/bilby_fit_lya_testprior//4713_7230_resume.pickle\n",
      "/Users/minghao/anaconda3/envs/jwst_pypeit/lib/python3.12/site-packages/dynesty/plotting.py:179: RuntimeWarning: overflow encountered in exp\n",
      "  data = [nlive, np.exp(logl), np.exp(logwt), np.exp(logz)]\n",
      "/Users/minghao/anaconda3/envs/jwst_pypeit/lib/python3.12/site-packages/dynesty/plotting.py:203: RuntimeWarning: overflow encountered in exp\n",
      "  zspan = (0., 1.05 * np.exp(logz[-1] + 3. * logzerr[-1]))\n",
      "16:51 bilby WARNING : Axis limits cannot be NaN or Inf\n",
      "16:51 bilby WARNING : Failed to create dynesty run plot at checkpoint\n",
      "16:51 bilby INFO    : Sampling time: 0:00:48.210408\n"
     ]
    },
    {
     "name": "stdout",
     "output_type": "stream",
     "text": [
      "\n"
     ]
    },
    {
     "name": "stderr",
     "output_type": "stream",
     "text": [
      "16:51 bilby INFO    : Summary of results:\n",
      "nsamples: 2297\n",
      "ln_noise_evidence:    nan\n",
      "ln_evidence: 763.026 +/-  0.249\n",
      "ln_bayes_factor:    nan +/-  0.249\n",
      "\n",
      "/Users/minghao/Research/Projects/JWST/MASQUERADE_LAE/github/MASQUERADE_LAE/lya_stats/LAE_spec_utils.py:535: RuntimeWarning: divide by zero encountered in power\n",
      "  self.err_fnu = (self.ivar_fnu)**-0.5\n",
      "/Users/minghao/Research/Projects/JWST/MASQUERADE_LAE/github/MASQUERADE_LAE/lya_stats/LAE_spec_utils.py:541: RuntimeWarning: invalid value encountered in divide\n",
      "  self.flam = self.fnu * speed_of_light_angstrom / (self.wave)**2 * 1e-29 * 1e18\n",
      "/Users/minghao/Research/Projects/JWST/MASQUERADE_LAE/github/MASQUERADE_LAE/lya_stats/LAE_spec_utils.py:542: RuntimeWarning: divide by zero encountered in divide\n",
      "  self.err_flam = self.err_fnu * (speed_of_light_angstrom / (self.wave)**2 * 1e-29 * 1e18)\n",
      "16:51 bilby INFO    : Running for label '4713_7430', output will be saved to '../../MASQUERADE_LAE/data/lya_saves//J0100/bilby_fit_lya_testprior/'\n",
      "16:51 bilby INFO    : Search parameters:\n",
      "16:51 bilby INFO    :   center = Normal(mu=9315.738818039863, sigma=9.315738818039863, name='center', latex_label='center', unit=None, boundary=None)\n",
      "16:51 bilby INFO    :   fwhm = Normal(mu=600, sigma=200, name='fwhm', latex_label='fwhm', unit=None, boundary=None)\n",
      "16:51 bilby INFO    :   flux = Normal(mu=1.342691868722961, sigma=1.342691868722961, name='flux', latex_label='flux', unit=None, boundary=None)\n",
      "16:51 bilby INFO    :   A = Normal(mu=0.01593460955247305, sigma=0.01593460955247305, name='A', latex_label='A', unit=None, boundary=None)\n",
      "16:51 bilby INFO    :   beta = Normal(mu=-2, sigma=1, name='beta', latex_label='beta', unit=None, boundary=None)\n",
      "16:51 bilby INFO    :   wave0 = 9315.738818039863\n",
      "16:51 bilby INFO    : Single likelihood evaluation took 1.413e-04 s\n"
     ]
    },
    {
     "name": "stdout",
     "output_type": "stream",
     "text": [
      "found /Users/minghao/Research/Projects/JWST/ID4713/pypeit-reduc/data-release-2/reduced_spec_msaexp_pypeit/spec1d_4713_7430_stack.fits\n"
     ]
    },
    {
     "data": {
      "application/vnd.jupyter.widget-view+json": {
       "model_id": "cefab20743424549b86f2297779d43d2",
       "version_major": 2,
       "version_minor": 0
      },
      "text/plain": [
       "0it [00:00, ?it/s]"
      ]
     },
     "metadata": {},
     "output_type": "display_data"
    },
    {
     "name": "stderr",
     "output_type": "stream",
     "text": [
      "16:51 bilby INFO    : Using sampler Dynesty with kwargs {'bound': 'multi', 'sample': 'rwalk', 'print_progress': True, 'periodic': None, 'reflective': None, 'check_point_delta_t': 1800, 'nlive': 200, 'first_update': None, 'walks': 100, 'npdim': None, 'rstate': None, 'queue_size': 1, 'pool': None, 'use_pool': None, 'live_points': None, 'logl_args': None, 'logl_kwargs': None, 'ptform_args': None, 'ptform_kwargs': None, 'enlarge': 1.5, 'bootstrap': None, 'vol_dec': 0.5, 'vol_check': 8.0, 'facc': 0.2, 'slices': 5, 'update_interval': 120, 'print_func': <bound method Dynesty._print_func of <bilby.core.sampler.dynesty.Dynesty object at 0x140f2ac00>>, 'dlogz': 0.1, 'maxiter': None, 'maxcall': None, 'logl_max': inf, 'add_live': True, 'save_bounds': False, 'n_effective': None, 'maxmcmc': 5000, 'nact': 5, 'print_method': 'tqdm'}\n",
      "16:51 bilby INFO    : Checkpoint every check_point_delta_t = 600s\n",
      "16:51 bilby INFO    : Using dynesty version 1.0.1\n",
      "16:51 bilby INFO    : Using the bilby-implemented rwalk sample method with ACT estimated walks\n",
      "16:51 bilby INFO    : Resume file ../../MASQUERADE_LAE/data/lya_saves//J0100/bilby_fit_lya_testprior//4713_7430_resume.pickle does not exist.\n",
      "16:51 bilby INFO    : Generating initial points from the prior\n",
      "16:52 bilby INFO    : Written checkpoint file ../../MASQUERADE_LAE/data/lya_saves//J0100/bilby_fit_lya_testprior//4713_7430_resume.pickle\n",
      "/Users/minghao/anaconda3/envs/jwst_pypeit/lib/python3.12/site-packages/dynesty/plotting.py:179: RuntimeWarning: overflow encountered in exp\n",
      "  data = [nlive, np.exp(logl), np.exp(logwt), np.exp(logz)]\n",
      "/Users/minghao/anaconda3/envs/jwst_pypeit/lib/python3.12/site-packages/dynesty/plotting.py:203: RuntimeWarning: overflow encountered in exp\n",
      "  zspan = (0., 1.05 * np.exp(logz[-1] + 3. * logzerr[-1]))\n",
      "16:52 bilby WARNING : Axis limits cannot be NaN or Inf\n",
      "16:52 bilby WARNING : Failed to create dynesty run plot at checkpoint\n",
      "16:52 bilby INFO    : Sampling time: 0:00:41.292134\n",
      "16:52 bilby INFO    : Summary of results:\n",
      "nsamples: 1896\n",
      "ln_noise_evidence:    nan\n",
      "ln_evidence: 836.031 +/-  0.190\n",
      "ln_bayes_factor:    nan +/-  0.190\n",
      "\n"
     ]
    },
    {
     "name": "stdout",
     "output_type": "stream",
     "text": [
      "\n"
     ]
    },
    {
     "name": "stderr",
     "output_type": "stream",
     "text": [
      "/Users/minghao/Research/Projects/JWST/MASQUERADE_LAE/github/MASQUERADE_LAE/lya_stats/LAE_spec_utils.py:535: RuntimeWarning: divide by zero encountered in power\n",
      "  self.err_fnu = (self.ivar_fnu)**-0.5\n",
      "/Users/minghao/Research/Projects/JWST/MASQUERADE_LAE/github/MASQUERADE_LAE/lya_stats/LAE_spec_utils.py:541: RuntimeWarning: invalid value encountered in divide\n",
      "  self.flam = self.fnu * speed_of_light_angstrom / (self.wave)**2 * 1e-29 * 1e18\n",
      "/Users/minghao/Research/Projects/JWST/MASQUERADE_LAE/github/MASQUERADE_LAE/lya_stats/LAE_spec_utils.py:542: RuntimeWarning: divide by zero encountered in divide\n",
      "  self.err_flam = self.err_fnu * (speed_of_light_angstrom / (self.wave)**2 * 1e-29 * 1e18)\n",
      "16:52 bilby INFO    : Running for label '4713_8514', output will be saved to '../../MASQUERADE_LAE/data/lya_saves//J0100/bilby_fit_lya_testprior/'\n",
      "16:52 bilby INFO    : Search parameters:\n",
      "16:52 bilby INFO    :   center = Normal(mu=8730.853329560221, sigma=8.73085332956022, name='center', latex_label='center', unit=None, boundary=None)\n",
      "16:52 bilby INFO    :   fwhm = Normal(mu=600, sigma=200, name='fwhm', latex_label='fwhm', unit=None, boundary=None)\n",
      "16:52 bilby INFO    :   flux = Normal(mu=1.2186979173823396, sigma=1.2186979173823396, name='flux', latex_label='flux', unit=None, boundary=None)\n",
      "16:52 bilby INFO    :   A = Normal(mu=0.015094962668237146, sigma=0.015094962668237146, name='A', latex_label='A', unit=None, boundary=None)\n",
      "16:52 bilby INFO    :   beta = Normal(mu=-2, sigma=1, name='beta', latex_label='beta', unit=None, boundary=None)\n",
      "16:52 bilby INFO    :   wave0 = 8730.853329560221\n",
      "16:52 bilby INFO    : Single likelihood evaluation took 2.365e-04 s\n"
     ]
    },
    {
     "name": "stdout",
     "output_type": "stream",
     "text": [
      "found /Users/minghao/Research/Projects/JWST/ID4713/pypeit-reduc/data-release-2/reduced_spec_msaexp_pypeit/spec1d_4713_8514_stack.fits\n"
     ]
    },
    {
     "data": {
      "application/vnd.jupyter.widget-view+json": {
       "model_id": "996ca3a62cba4bedb0e6744d4493c217",
       "version_major": 2,
       "version_minor": 0
      },
      "text/plain": [
       "0it [00:00, ?it/s]"
      ]
     },
     "metadata": {},
     "output_type": "display_data"
    },
    {
     "name": "stderr",
     "output_type": "stream",
     "text": [
      "16:52 bilby INFO    : Using sampler Dynesty with kwargs {'bound': 'multi', 'sample': 'rwalk', 'print_progress': True, 'periodic': None, 'reflective': None, 'check_point_delta_t': 1800, 'nlive': 200, 'first_update': None, 'walks': 100, 'npdim': None, 'rstate': None, 'queue_size': 1, 'pool': None, 'use_pool': None, 'live_points': None, 'logl_args': None, 'logl_kwargs': None, 'ptform_args': None, 'ptform_kwargs': None, 'enlarge': 1.5, 'bootstrap': None, 'vol_dec': 0.5, 'vol_check': 8.0, 'facc': 0.2, 'slices': 5, 'update_interval': 120, 'print_func': <bound method Dynesty._print_func of <bilby.core.sampler.dynesty.Dynesty object at 0x143893170>>, 'dlogz': 0.1, 'maxiter': None, 'maxcall': None, 'logl_max': inf, 'add_live': True, 'save_bounds': False, 'n_effective': None, 'maxmcmc': 5000, 'nact': 5, 'print_method': 'tqdm'}\n",
      "16:52 bilby INFO    : Checkpoint every check_point_delta_t = 600s\n",
      "16:52 bilby INFO    : Using dynesty version 1.0.1\n",
      "16:52 bilby INFO    : Using the bilby-implemented rwalk sample method with ACT estimated walks\n",
      "16:52 bilby INFO    : Resume file ../../MASQUERADE_LAE/data/lya_saves//J0100/bilby_fit_lya_testprior//4713_8514_resume.pickle does not exist.\n",
      "16:52 bilby INFO    : Generating initial points from the prior\n",
      "16:52 bilby INFO    : Written checkpoint file ../../MASQUERADE_LAE/data/lya_saves//J0100/bilby_fit_lya_testprior//4713_8514_resume.pickle\n",
      "/Users/minghao/anaconda3/envs/jwst_pypeit/lib/python3.12/site-packages/dynesty/plotting.py:179: RuntimeWarning: overflow encountered in exp\n",
      "  data = [nlive, np.exp(logl), np.exp(logwt), np.exp(logz)]\n",
      "/Users/minghao/anaconda3/envs/jwst_pypeit/lib/python3.12/site-packages/dynesty/plotting.py:203: RuntimeWarning: overflow encountered in exp\n",
      "  zspan = (0., 1.05 * np.exp(logz[-1] + 3. * logzerr[-1]))\n",
      "16:52 bilby WARNING : Axis limits cannot be NaN or Inf\n",
      "16:52 bilby WARNING : Failed to create dynesty run plot at checkpoint\n",
      "16:52 bilby INFO    : Sampling time: 0:00:33.138374\n",
      "16:52 bilby INFO    : Summary of results:\n",
      "nsamples: 1813\n",
      "ln_noise_evidence:    nan\n",
      "ln_evidence: 784.031 +/-  0.189\n",
      "ln_bayes_factor:    nan +/-  0.189\n",
      "\n"
     ]
    },
    {
     "name": "stdout",
     "output_type": "stream",
     "text": [
      "\n"
     ]
    },
    {
     "name": "stderr",
     "output_type": "stream",
     "text": [
      "/Users/minghao/Research/Projects/JWST/MASQUERADE_LAE/github/MASQUERADE_LAE/lya_stats/LAE_spec_utils.py:535: RuntimeWarning: divide by zero encountered in power\n",
      "  self.err_fnu = (self.ivar_fnu)**-0.5\n",
      "/Users/minghao/Research/Projects/JWST/MASQUERADE_LAE/github/MASQUERADE_LAE/lya_stats/LAE_spec_utils.py:541: RuntimeWarning: invalid value encountered in divide\n",
      "  self.flam = self.fnu * speed_of_light_angstrom / (self.wave)**2 * 1e-29 * 1e18\n",
      "/Users/minghao/Research/Projects/JWST/MASQUERADE_LAE/github/MASQUERADE_LAE/lya_stats/LAE_spec_utils.py:542: RuntimeWarning: divide by zero encountered in divide\n",
      "  self.err_flam = self.err_fnu * (speed_of_light_angstrom / (self.wave)**2 * 1e-29 * 1e18)\n",
      "16:52 bilby INFO    : Running for label '4713_9273', output will be saved to '../../MASQUERADE_LAE/data/lya_saves//J0100/bilby_fit_lya_testprior/'\n",
      "16:52 bilby INFO    : Search parameters:\n",
      "16:52 bilby INFO    :   center = Normal(mu=8736.551240532306, sigma=8.736551240532306, name='center', latex_label='center', unit=None, boundary=None)\n",
      "16:52 bilby INFO    :   fwhm = Normal(mu=600, sigma=200, name='fwhm', latex_label='fwhm', unit=None, boundary=None)\n",
      "16:52 bilby INFO    :   flux = Normal(mu=1.89671919814957, sigma=1.89671919814957, name='flux', latex_label='flux', unit=None, boundary=None)\n",
      "16:52 bilby INFO    :   A = Normal(mu=0.017265852297891203, sigma=0.017265852297891203, name='A', latex_label='A', unit=None, boundary=None)\n",
      "16:52 bilby INFO    :   beta = Normal(mu=-2, sigma=1, name='beta', latex_label='beta', unit=None, boundary=None)\n",
      "16:52 bilby INFO    :   wave0 = 8736.551240532306\n",
      "16:52 bilby INFO    : Single likelihood evaluation took 1.636e-04 s\n"
     ]
    },
    {
     "name": "stdout",
     "output_type": "stream",
     "text": [
      "found /Users/minghao/Research/Projects/JWST/ID4713/pypeit-reduc/data-release-2/reduced_spec_msaexp_pypeit/spec1d_4713_9273_stack.fits\n"
     ]
    },
    {
     "data": {
      "application/vnd.jupyter.widget-view+json": {
       "model_id": "6f7665a8eb354f2a89ee7d044024f6b4",
       "version_major": 2,
       "version_minor": 0
      },
      "text/plain": [
       "0it [00:00, ?it/s]"
      ]
     },
     "metadata": {},
     "output_type": "display_data"
    },
    {
     "name": "stderr",
     "output_type": "stream",
     "text": [
      "16:52 bilby INFO    : Using sampler Dynesty with kwargs {'bound': 'multi', 'sample': 'rwalk', 'print_progress': True, 'periodic': None, 'reflective': None, 'check_point_delta_t': 1800, 'nlive': 200, 'first_update': None, 'walks': 100, 'npdim': None, 'rstate': None, 'queue_size': 1, 'pool': None, 'use_pool': None, 'live_points': None, 'logl_args': None, 'logl_kwargs': None, 'ptform_args': None, 'ptform_kwargs': None, 'enlarge': 1.5, 'bootstrap': None, 'vol_dec': 0.5, 'vol_check': 8.0, 'facc': 0.2, 'slices': 5, 'update_interval': 120, 'print_func': <bound method Dynesty._print_func of <bilby.core.sampler.dynesty.Dynesty object at 0x1453dc650>>, 'dlogz': 0.1, 'maxiter': None, 'maxcall': None, 'logl_max': inf, 'add_live': True, 'save_bounds': False, 'n_effective': None, 'maxmcmc': 5000, 'nact': 5, 'print_method': 'tqdm'}\n",
      "16:52 bilby INFO    : Checkpoint every check_point_delta_t = 600s\n",
      "16:52 bilby INFO    : Using dynesty version 1.0.1\n",
      "16:52 bilby INFO    : Using the bilby-implemented rwalk sample method with ACT estimated walks\n",
      "16:52 bilby INFO    : Resume file ../../MASQUERADE_LAE/data/lya_saves//J0100/bilby_fit_lya_testprior//4713_9273_resume.pickle does not exist.\n",
      "16:52 bilby INFO    : Generating initial points from the prior\n",
      "16:53 bilby INFO    : Written checkpoint file ../../MASQUERADE_LAE/data/lya_saves//J0100/bilby_fit_lya_testprior//4713_9273_resume.pickle\n",
      "16:53 bilby INFO    : Sampling time: 0:00:38.146743\n",
      "16:53 bilby INFO    : Summary of results:\n",
      "nsamples: 1930\n",
      "ln_noise_evidence:    nan\n",
      "ln_evidence: 667.753 +/-  0.209\n",
      "ln_bayes_factor:    nan +/-  0.209\n",
      "\n"
     ]
    },
    {
     "name": "stdout",
     "output_type": "stream",
     "text": [
      "\n"
     ]
    },
    {
     "name": "stderr",
     "output_type": "stream",
     "text": [
      "/Users/minghao/Research/Projects/JWST/MASQUERADE_LAE/github/MASQUERADE_LAE/lya_stats/LAE_spec_utils.py:535: RuntimeWarning: divide by zero encountered in power\n",
      "  self.err_fnu = (self.ivar_fnu)**-0.5\n",
      "/Users/minghao/Research/Projects/JWST/MASQUERADE_LAE/github/MASQUERADE_LAE/lya_stats/LAE_spec_utils.py:541: RuntimeWarning: invalid value encountered in divide\n",
      "  self.flam = self.fnu * speed_of_light_angstrom / (self.wave)**2 * 1e-29 * 1e18\n",
      "/Users/minghao/Research/Projects/JWST/MASQUERADE_LAE/github/MASQUERADE_LAE/lya_stats/LAE_spec_utils.py:542: RuntimeWarning: divide by zero encountered in divide\n",
      "  self.err_flam = self.err_fnu * (speed_of_light_angstrom / (self.wave)**2 * 1e-29 * 1e18)\n",
      "16:53 bilby INFO    : Running for label '4713_9970', output will be saved to '../../MASQUERADE_LAE/data/lya_saves//J0100/bilby_fit_lya_testprior/'\n",
      "16:53 bilby INFO    : Search parameters:\n",
      "16:53 bilby INFO    :   center = Normal(mu=8904.101537708237, sigma=8.904101537708236, name='center', latex_label='center', unit=None, boundary=None)\n",
      "16:53 bilby INFO    :   fwhm = Normal(mu=600, sigma=200, name='fwhm', latex_label='fwhm', unit=None, boundary=None)\n",
      "16:53 bilby INFO    :   flux = Normal(mu=1.4492423612812628, sigma=1.4492423612812628, name='flux', latex_label='flux', unit=None, boundary=None)\n",
      "16:53 bilby INFO    :   A = Normal(mu=0.015492610778012332, sigma=0.015492610778012332, name='A', latex_label='A', unit=None, boundary=None)\n",
      "16:53 bilby INFO    :   beta = Normal(mu=-2, sigma=1, name='beta', latex_label='beta', unit=None, boundary=None)\n",
      "16:53 bilby INFO    :   wave0 = 8904.101537708237\n",
      "16:53 bilby INFO    : Single likelihood evaluation took 2.093e-04 s\n"
     ]
    },
    {
     "name": "stdout",
     "output_type": "stream",
     "text": [
      "found /Users/minghao/Research/Projects/JWST/ID4713/pypeit-reduc/data-release-2/reduced_spec_msaexp_pypeit/spec1d_4713_9970_stack.fits\n"
     ]
    },
    {
     "data": {
      "application/vnd.jupyter.widget-view+json": {
       "model_id": "89f95129c7484ceb82adebe91dd06c24",
       "version_major": 2,
       "version_minor": 0
      },
      "text/plain": [
       "0it [00:00, ?it/s]"
      ]
     },
     "metadata": {},
     "output_type": "display_data"
    },
    {
     "name": "stderr",
     "output_type": "stream",
     "text": [
      "16:53 bilby INFO    : Using sampler Dynesty with kwargs {'bound': 'multi', 'sample': 'rwalk', 'print_progress': True, 'periodic': None, 'reflective': None, 'check_point_delta_t': 1800, 'nlive': 200, 'first_update': None, 'walks': 100, 'npdim': None, 'rstate': None, 'queue_size': 1, 'pool': None, 'use_pool': None, 'live_points': None, 'logl_args': None, 'logl_kwargs': None, 'ptform_args': None, 'ptform_kwargs': None, 'enlarge': 1.5, 'bootstrap': None, 'vol_dec': 0.5, 'vol_check': 8.0, 'facc': 0.2, 'slices': 5, 'update_interval': 120, 'print_func': <bound method Dynesty._print_func of <bilby.core.sampler.dynesty.Dynesty object at 0x145ddcc20>>, 'dlogz': 0.1, 'maxiter': None, 'maxcall': None, 'logl_max': inf, 'add_live': True, 'save_bounds': False, 'n_effective': None, 'maxmcmc': 5000, 'nact': 5, 'print_method': 'tqdm'}\n",
      "16:53 bilby INFO    : Checkpoint every check_point_delta_t = 600s\n",
      "16:53 bilby INFO    : Using dynesty version 1.0.1\n",
      "16:53 bilby INFO    : Using the bilby-implemented rwalk sample method with ACT estimated walks\n",
      "16:53 bilby INFO    : Resume file ../../MASQUERADE_LAE/data/lya_saves//J0100/bilby_fit_lya_testprior//4713_9970_resume.pickle does not exist.\n",
      "16:53 bilby INFO    : Generating initial points from the prior\n",
      "16:53 bilby INFO    : Written checkpoint file ../../MASQUERADE_LAE/data/lya_saves//J0100/bilby_fit_lya_testprior//4713_9970_resume.pickle\n",
      "/Users/minghao/anaconda3/envs/jwst_pypeit/lib/python3.12/site-packages/dynesty/plotting.py:179: RuntimeWarning: overflow encountered in exp\n",
      "  data = [nlive, np.exp(logl), np.exp(logwt), np.exp(logz)]\n",
      "/Users/minghao/anaconda3/envs/jwst_pypeit/lib/python3.12/site-packages/dynesty/plotting.py:203: RuntimeWarning: overflow encountered in exp\n",
      "  zspan = (0., 1.05 * np.exp(logz[-1] + 3. * logzerr[-1]))\n",
      "16:53 bilby WARNING : Axis limits cannot be NaN or Inf\n",
      "16:53 bilby WARNING : Failed to create dynesty run plot at checkpoint\n",
      "16:53 bilby INFO    : Sampling time: 0:00:31.415512\n",
      "16:53 bilby INFO    : Summary of results:\n",
      "nsamples: 1909\n",
      "ln_noise_evidence:    nan\n",
      "ln_evidence: 847.439 +/-  0.193\n",
      "ln_bayes_factor:    nan +/-  0.193\n",
      "\n"
     ]
    },
    {
     "name": "stdout",
     "output_type": "stream",
     "text": [
      "\n"
     ]
    },
    {
     "name": "stderr",
     "output_type": "stream",
     "text": [
      "/Users/minghao/Research/Projects/JWST/MASQUERADE_LAE/github/MASQUERADE_LAE/lya_stats/LAE_spec_utils.py:535: RuntimeWarning: divide by zero encountered in power\n",
      "  self.err_fnu = (self.ivar_fnu)**-0.5\n",
      "/Users/minghao/Research/Projects/JWST/MASQUERADE_LAE/github/MASQUERADE_LAE/lya_stats/LAE_spec_utils.py:541: RuntimeWarning: invalid value encountered in divide\n",
      "  self.flam = self.fnu * speed_of_light_angstrom / (self.wave)**2 * 1e-29 * 1e18\n",
      "/Users/minghao/Research/Projects/JWST/MASQUERADE_LAE/github/MASQUERADE_LAE/lya_stats/LAE_spec_utils.py:542: RuntimeWarning: divide by zero encountered in divide\n",
      "  self.err_flam = self.err_fnu * (speed_of_light_angstrom / (self.wave)**2 * 1e-29 * 1e18)\n",
      "16:53 bilby INFO    : Running for label '4713_10116', output will be saved to '../../MASQUERADE_LAE/data/lya_saves//J0100/bilby_fit_lya_testprior/'\n",
      "16:53 bilby INFO    : Search parameters:\n",
      "16:53 bilby INFO    :   center = Normal(mu=8243.21364409575, sigma=8.24321364409575, name='center', latex_label='center', unit=None, boundary=None)\n",
      "16:53 bilby INFO    :   fwhm = Normal(mu=600, sigma=200, name='fwhm', latex_label='fwhm', unit=None, boundary=None)\n",
      "16:53 bilby INFO    :   flux = Normal(mu=1.2583711931496067, sigma=1.2583711931496067, name='flux', latex_label='flux', unit=None, boundary=None)\n",
      "16:53 bilby INFO    :   A = Normal(mu=0.022959165601870318, sigma=0.022959165601870318, name='A', latex_label='A', unit=None, boundary=None)\n",
      "16:53 bilby INFO    :   beta = Normal(mu=-2, sigma=1, name='beta', latex_label='beta', unit=None, boundary=None)\n",
      "16:53 bilby INFO    :   wave0 = 8243.21364409575\n",
      "16:53 bilby INFO    : Single likelihood evaluation took 2.643e-04 s\n"
     ]
    },
    {
     "name": "stdout",
     "output_type": "stream",
     "text": [
      "found /Users/minghao/Research/Projects/JWST/ID4713/pypeit-reduc/data-release-2/reduced_spec_msaexp_pypeit/spec1d_4713_10116_stack.fits\n"
     ]
    },
    {
     "data": {
      "application/vnd.jupyter.widget-view+json": {
       "model_id": "61f9e06904da47db9d03a8cc762fc339",
       "version_major": 2,
       "version_minor": 0
      },
      "text/plain": [
       "0it [00:00, ?it/s]"
      ]
     },
     "metadata": {},
     "output_type": "display_data"
    },
    {
     "name": "stderr",
     "output_type": "stream",
     "text": [
      "16:53 bilby INFO    : Using sampler Dynesty with kwargs {'bound': 'multi', 'sample': 'rwalk', 'print_progress': True, 'periodic': None, 'reflective': None, 'check_point_delta_t': 1800, 'nlive': 200, 'first_update': None, 'walks': 100, 'npdim': None, 'rstate': None, 'queue_size': 1, 'pool': None, 'use_pool': None, 'live_points': None, 'logl_args': None, 'logl_kwargs': None, 'ptform_args': None, 'ptform_kwargs': None, 'enlarge': 1.5, 'bootstrap': None, 'vol_dec': 0.5, 'vol_check': 8.0, 'facc': 0.2, 'slices': 5, 'update_interval': 120, 'print_func': <bound method Dynesty._print_func of <bilby.core.sampler.dynesty.Dynesty object at 0x143ba8fb0>>, 'dlogz': 0.1, 'maxiter': None, 'maxcall': None, 'logl_max': inf, 'add_live': True, 'save_bounds': False, 'n_effective': None, 'maxmcmc': 5000, 'nact': 5, 'print_method': 'tqdm'}\n",
      "16:53 bilby INFO    : Checkpoint every check_point_delta_t = 600s\n",
      "16:53 bilby INFO    : Using dynesty version 1.0.1\n",
      "16:53 bilby INFO    : Using the bilby-implemented rwalk sample method with ACT estimated walks\n",
      "16:53 bilby INFO    : Resume file ../../MASQUERADE_LAE/data/lya_saves//J0100/bilby_fit_lya_testprior//4713_10116_resume.pickle does not exist.\n",
      "16:53 bilby INFO    : Generating initial points from the prior\n",
      "16:54 bilby INFO    : Written checkpoint file ../../MASQUERADE_LAE/data/lya_saves//J0100/bilby_fit_lya_testprior//4713_10116_resume.pickle\n",
      "16:54 bilby INFO    : Sampling time: 0:00:46.582500\n"
     ]
    },
    {
     "name": "stdout",
     "output_type": "stream",
     "text": [
      "\n"
     ]
    },
    {
     "name": "stderr",
     "output_type": "stream",
     "text": [
      "16:54 bilby INFO    : Summary of results:\n",
      "nsamples: 2178\n",
      "ln_noise_evidence:    nan\n",
      "ln_evidence: 655.880 +/-  0.212\n",
      "ln_bayes_factor:    nan +/-  0.212\n",
      "\n",
      "/Users/minghao/Research/Projects/JWST/MASQUERADE_LAE/github/MASQUERADE_LAE/lya_stats/LAE_spec_utils.py:535: RuntimeWarning: divide by zero encountered in power\n",
      "  self.err_fnu = (self.ivar_fnu)**-0.5\n",
      "/Users/minghao/Research/Projects/JWST/MASQUERADE_LAE/github/MASQUERADE_LAE/lya_stats/LAE_spec_utils.py:541: RuntimeWarning: invalid value encountered in divide\n",
      "  self.flam = self.fnu * speed_of_light_angstrom / (self.wave)**2 * 1e-29 * 1e18\n",
      "/Users/minghao/Research/Projects/JWST/MASQUERADE_LAE/github/MASQUERADE_LAE/lya_stats/LAE_spec_utils.py:542: RuntimeWarning: divide by zero encountered in divide\n",
      "  self.err_flam = self.err_fnu * (speed_of_light_angstrom / (self.wave)**2 * 1e-29 * 1e18)\n",
      "16:54 bilby INFO    : Running for label '4713_10235', output will be saved to '../../MASQUERADE_LAE/data/lya_saves//J0100/bilby_fit_lya_testprior/'\n",
      "16:54 bilby INFO    : Search parameters:\n",
      "16:54 bilby INFO    :   center = Normal(mu=8927.95419712581, sigma=8.927954197125809, name='center', latex_label='center', unit=None, boundary=None)\n",
      "16:54 bilby INFO    :   fwhm = Normal(mu=600, sigma=200, name='fwhm', latex_label='fwhm', unit=None, boundary=None)\n",
      "16:54 bilby INFO    :   flux = Normal(mu=1.5418852163082224, sigma=1.5418852163082224, name='flux', latex_label='flux', unit=None, boundary=None)\n",
      "16:54 bilby INFO    :   A = Normal(mu=0.01782537058059047, sigma=0.01782537058059047, name='A', latex_label='A', unit=None, boundary=None)\n",
      "16:54 bilby INFO    :   beta = Normal(mu=-2, sigma=1, name='beta', latex_label='beta', unit=None, boundary=None)\n",
      "16:54 bilby INFO    :   wave0 = 8927.95419712581\n",
      "16:54 bilby INFO    : Single likelihood evaluation took 2.403e-04 s\n"
     ]
    },
    {
     "name": "stdout",
     "output_type": "stream",
     "text": [
      "found /Users/minghao/Research/Projects/JWST/ID4713/pypeit-reduc/data-release-2/reduced_spec_msaexp_pypeit/spec1d_4713_10235_stack.fits\n"
     ]
    },
    {
     "data": {
      "application/vnd.jupyter.widget-view+json": {
       "model_id": "cc53a2271599416a8346b7d9ce943725",
       "version_major": 2,
       "version_minor": 0
      },
      "text/plain": [
       "0it [00:00, ?it/s]"
      ]
     },
     "metadata": {},
     "output_type": "display_data"
    },
    {
     "name": "stderr",
     "output_type": "stream",
     "text": [
      "16:54 bilby INFO    : Using sampler Dynesty with kwargs {'bound': 'multi', 'sample': 'rwalk', 'print_progress': True, 'periodic': None, 'reflective': None, 'check_point_delta_t': 1800, 'nlive': 200, 'first_update': None, 'walks': 100, 'npdim': None, 'rstate': None, 'queue_size': 1, 'pool': None, 'use_pool': None, 'live_points': None, 'logl_args': None, 'logl_kwargs': None, 'ptform_args': None, 'ptform_kwargs': None, 'enlarge': 1.5, 'bootstrap': None, 'vol_dec': 0.5, 'vol_check': 8.0, 'facc': 0.2, 'slices': 5, 'update_interval': 120, 'print_func': <bound method Dynesty._print_func of <bilby.core.sampler.dynesty.Dynesty object at 0x1471efe00>>, 'dlogz': 0.1, 'maxiter': None, 'maxcall': None, 'logl_max': inf, 'add_live': True, 'save_bounds': False, 'n_effective': None, 'maxmcmc': 5000, 'nact': 5, 'print_method': 'tqdm'}\n",
      "16:54 bilby INFO    : Checkpoint every check_point_delta_t = 600s\n",
      "16:54 bilby INFO    : Using dynesty version 1.0.1\n",
      "16:54 bilby INFO    : Using the bilby-implemented rwalk sample method with ACT estimated walks\n",
      "16:54 bilby INFO    : Resume file ../../MASQUERADE_LAE/data/lya_saves//J0100/bilby_fit_lya_testprior//4713_10235_resume.pickle does not exist.\n",
      "16:54 bilby INFO    : Generating initial points from the prior\n",
      "16:55 bilby INFO    : Written checkpoint file ../../MASQUERADE_LAE/data/lya_saves//J0100/bilby_fit_lya_testprior//4713_10235_resume.pickle\n",
      "/Users/minghao/anaconda3/envs/jwst_pypeit/lib/python3.12/site-packages/dynesty/plotting.py:179: RuntimeWarning: overflow encountered in exp\n",
      "  data = [nlive, np.exp(logl), np.exp(logwt), np.exp(logz)]\n",
      "/Users/minghao/anaconda3/envs/jwst_pypeit/lib/python3.12/site-packages/dynesty/plotting.py:203: RuntimeWarning: overflow encountered in exp\n",
      "  zspan = (0., 1.05 * np.exp(logz[-1] + 3. * logzerr[-1]))\n",
      "16:55 bilby WARNING : Axis limits cannot be NaN or Inf\n",
      "16:55 bilby WARNING : Failed to create dynesty run plot at checkpoint\n",
      "16:55 bilby INFO    : Sampling time: 0:00:22.448483\n",
      "16:55 bilby INFO    : Summary of results:\n",
      "nsamples: 1452\n",
      "ln_noise_evidence:    nan\n",
      "ln_evidence: 756.337 +/-  0.159\n",
      "ln_bayes_factor:    nan +/-  0.159\n",
      "\n"
     ]
    },
    {
     "name": "stdout",
     "output_type": "stream",
     "text": [
      "\n"
     ]
    },
    {
     "name": "stderr",
     "output_type": "stream",
     "text": [
      "/Users/minghao/Research/Projects/JWST/MASQUERADE_LAE/github/MASQUERADE_LAE/lya_stats/LAE_spec_utils.py:535: RuntimeWarning: divide by zero encountered in power\n",
      "  self.err_fnu = (self.ivar_fnu)**-0.5\n",
      "/Users/minghao/Research/Projects/JWST/MASQUERADE_LAE/github/MASQUERADE_LAE/lya_stats/LAE_spec_utils.py:541: RuntimeWarning: invalid value encountered in divide\n",
      "  self.flam = self.fnu * speed_of_light_angstrom / (self.wave)**2 * 1e-29 * 1e18\n",
      "/Users/minghao/Research/Projects/JWST/MASQUERADE_LAE/github/MASQUERADE_LAE/lya_stats/LAE_spec_utils.py:542: RuntimeWarning: divide by zero encountered in divide\n",
      "  self.err_flam = self.err_fnu * (speed_of_light_angstrom / (self.wave)**2 * 1e-29 * 1e18)\n",
      "16:55 bilby INFO    : Running for label '4713_10287', output will be saved to '../../MASQUERADE_LAE/data/lya_saves//J0100/bilby_fit_lya_testprior/'\n",
      "16:55 bilby INFO    : Search parameters:\n",
      "16:55 bilby INFO    :   center = Normal(mu=9445.305671519278, sigma=9.445305671519279, name='center', latex_label='center', unit=None, boundary=None)\n",
      "16:55 bilby INFO    :   fwhm = Normal(mu=600, sigma=200, name='fwhm', latex_label='fwhm', unit=None, boundary=None)\n",
      "16:55 bilby INFO    :   flux = Normal(mu=18.125774550011478, sigma=18.125774550011478, name='flux', latex_label='flux', unit=None, boundary=None)\n",
      "16:55 bilby INFO    :   A = Normal(mu=0.01806597070793287, sigma=0.01806597070793287, name='A', latex_label='A', unit=None, boundary=None)\n",
      "16:55 bilby INFO    :   beta = Normal(mu=-2, sigma=1, name='beta', latex_label='beta', unit=None, boundary=None)\n",
      "16:55 bilby INFO    :   wave0 = 9445.305671519278\n",
      "16:55 bilby INFO    : Single likelihood evaluation took 2.593e-04 s\n"
     ]
    },
    {
     "name": "stdout",
     "output_type": "stream",
     "text": [
      "found /Users/minghao/Research/Projects/JWST/ID4713/pypeit-reduc/data-release-2/reduced_spec_msaexp_pypeit/spec1d_4713_10287_stack.fits\n"
     ]
    },
    {
     "data": {
      "application/vnd.jupyter.widget-view+json": {
       "model_id": "a465abe62654442a94c0aa73269e4341",
       "version_major": 2,
       "version_minor": 0
      },
      "text/plain": [
       "0it [00:00, ?it/s]"
      ]
     },
     "metadata": {},
     "output_type": "display_data"
    },
    {
     "name": "stderr",
     "output_type": "stream",
     "text": [
      "16:55 bilby INFO    : Using sampler Dynesty with kwargs {'bound': 'multi', 'sample': 'rwalk', 'print_progress': True, 'periodic': None, 'reflective': None, 'check_point_delta_t': 1800, 'nlive': 200, 'first_update': None, 'walks': 100, 'npdim': None, 'rstate': None, 'queue_size': 1, 'pool': None, 'use_pool': None, 'live_points': None, 'logl_args': None, 'logl_kwargs': None, 'ptform_args': None, 'ptform_kwargs': None, 'enlarge': 1.5, 'bootstrap': None, 'vol_dec': 0.5, 'vol_check': 8.0, 'facc': 0.2, 'slices': 5, 'update_interval': 120, 'print_func': <bound method Dynesty._print_func of <bilby.core.sampler.dynesty.Dynesty object at 0x149264c20>>, 'dlogz': 0.1, 'maxiter': None, 'maxcall': None, 'logl_max': inf, 'add_live': True, 'save_bounds': False, 'n_effective': None, 'maxmcmc': 5000, 'nact': 5, 'print_method': 'tqdm'}\n",
      "16:55 bilby INFO    : Checkpoint every check_point_delta_t = 600s\n",
      "16:55 bilby INFO    : Using dynesty version 1.0.1\n",
      "16:55 bilby INFO    : Using the bilby-implemented rwalk sample method with ACT estimated walks\n",
      "16:55 bilby INFO    : Resume file ../../MASQUERADE_LAE/data/lya_saves//J0100/bilby_fit_lya_testprior//4713_10287_resume.pickle does not exist.\n",
      "16:55 bilby INFO    : Generating initial points from the prior\n",
      "16:56 bilby INFO    : Written checkpoint file ../../MASQUERADE_LAE/data/lya_saves//J0100/bilby_fit_lya_testprior//4713_10287_resume.pickle\n",
      "/Users/minghao/anaconda3/envs/jwst_pypeit/lib/python3.12/site-packages/dynesty/plotting.py:179: RuntimeWarning: overflow encountered in exp\n",
      "  data = [nlive, np.exp(logl), np.exp(logwt), np.exp(logz)]\n",
      "/Users/minghao/anaconda3/envs/jwst_pypeit/lib/python3.12/site-packages/dynesty/plotting.py:203: RuntimeWarning: overflow encountered in exp\n",
      "  zspan = (0., 1.05 * np.exp(logz[-1] + 3. * logzerr[-1]))\n",
      "16:56 bilby WARNING : Axis limits cannot be NaN or Inf\n",
      "16:56 bilby WARNING : Failed to create dynesty run plot at checkpoint\n",
      "16:56 bilby INFO    : Sampling time: 0:01:00.547728\n"
     ]
    },
    {
     "name": "stdout",
     "output_type": "stream",
     "text": [
      "\n"
     ]
    },
    {
     "name": "stderr",
     "output_type": "stream",
     "text": [
      "16:56 bilby INFO    : Summary of results:\n",
      "nsamples: 3063\n",
      "ln_noise_evidence:    nan\n",
      "ln_evidence: 975.868 +/-  0.322\n",
      "ln_bayes_factor:    nan +/-  0.322\n",
      "\n",
      "/Users/minghao/Research/Projects/JWST/MASQUERADE_LAE/github/MASQUERADE_LAE/lya_stats/LAE_spec_utils.py:535: RuntimeWarning: divide by zero encountered in power\n",
      "  self.err_fnu = (self.ivar_fnu)**-0.5\n",
      "/Users/minghao/Research/Projects/JWST/MASQUERADE_LAE/github/MASQUERADE_LAE/lya_stats/LAE_spec_utils.py:541: RuntimeWarning: invalid value encountered in divide\n",
      "  self.flam = self.fnu * speed_of_light_angstrom / (self.wave)**2 * 1e-29 * 1e18\n",
      "/Users/minghao/Research/Projects/JWST/MASQUERADE_LAE/github/MASQUERADE_LAE/lya_stats/LAE_spec_utils.py:542: RuntimeWarning: divide by zero encountered in divide\n",
      "  self.err_flam = self.err_fnu * (speed_of_light_angstrom / (self.wave)**2 * 1e-29 * 1e18)\n",
      "16:56 bilby INFO    : Running for label '4713_10683', output will be saved to '../../MASQUERADE_LAE/data/lya_saves//J0100/bilby_fit_lya_testprior/'\n",
      "16:56 bilby INFO    : Search parameters:\n",
      "16:56 bilby INFO    :   center = Normal(mu=8908.237462715646, sigma=8.908237462715645, name='center', latex_label='center', unit=None, boundary=None)\n",
      "16:56 bilby INFO    :   fwhm = Normal(mu=600, sigma=200, name='fwhm', latex_label='fwhm', unit=None, boundary=None)\n",
      "16:56 bilby INFO    :   flux = Normal(mu=1.3914784152553, sigma=1.3914784152553, name='flux', latex_label='flux', unit=None, boundary=None)\n",
      "16:56 bilby INFO    :   A = Normal(mu=0.01804107921747605, sigma=0.01804107921747605, name='A', latex_label='A', unit=None, boundary=None)\n",
      "16:56 bilby INFO    :   beta = Normal(mu=-2, sigma=1, name='beta', latex_label='beta', unit=None, boundary=None)\n",
      "16:56 bilby INFO    :   wave0 = 8908.237462715646\n",
      "16:56 bilby INFO    : Single likelihood evaluation took 2.470e-04 s\n"
     ]
    },
    {
     "name": "stdout",
     "output_type": "stream",
     "text": [
      "found /Users/minghao/Research/Projects/JWST/ID4713/pypeit-reduc/data-release-2/reduced_spec_msaexp_pypeit/spec1d_4713_10683_stack.fits\n"
     ]
    },
    {
     "data": {
      "application/vnd.jupyter.widget-view+json": {
       "model_id": "eb23fcfd011443a49fa89a6808d8b071",
       "version_major": 2,
       "version_minor": 0
      },
      "text/plain": [
       "0it [00:00, ?it/s]"
      ]
     },
     "metadata": {},
     "output_type": "display_data"
    },
    {
     "name": "stderr",
     "output_type": "stream",
     "text": [
      "16:56 bilby INFO    : Using sampler Dynesty with kwargs {'bound': 'multi', 'sample': 'rwalk', 'print_progress': True, 'periodic': None, 'reflective': None, 'check_point_delta_t': 1800, 'nlive': 200, 'first_update': None, 'walks': 100, 'npdim': None, 'rstate': None, 'queue_size': 1, 'pool': None, 'use_pool': None, 'live_points': None, 'logl_args': None, 'logl_kwargs': None, 'ptform_args': None, 'ptform_kwargs': None, 'enlarge': 1.5, 'bootstrap': None, 'vol_dec': 0.5, 'vol_check': 8.0, 'facc': 0.2, 'slices': 5, 'update_interval': 120, 'print_func': <bound method Dynesty._print_func of <bilby.core.sampler.dynesty.Dynesty object at 0x14a64af60>>, 'dlogz': 0.1, 'maxiter': None, 'maxcall': None, 'logl_max': inf, 'add_live': True, 'save_bounds': False, 'n_effective': None, 'maxmcmc': 5000, 'nact': 5, 'print_method': 'tqdm'}\n",
      "16:56 bilby INFO    : Checkpoint every check_point_delta_t = 600s\n",
      "16:56 bilby INFO    : Using dynesty version 1.0.1\n",
      "16:56 bilby INFO    : Using the bilby-implemented rwalk sample method with ACT estimated walks\n",
      "16:56 bilby INFO    : Resume file ../../MASQUERADE_LAE/data/lya_saves//J0100/bilby_fit_lya_testprior//4713_10683_resume.pickle does not exist.\n",
      "16:56 bilby INFO    : Generating initial points from the prior\n",
      "16:56 bilby INFO    : Written checkpoint file ../../MASQUERADE_LAE/data/lya_saves//J0100/bilby_fit_lya_testprior//4713_10683_resume.pickle\n",
      "/Users/minghao/anaconda3/envs/jwst_pypeit/lib/python3.12/site-packages/dynesty/plotting.py:179: RuntimeWarning: overflow encountered in exp\n",
      "  data = [nlive, np.exp(logl), np.exp(logwt), np.exp(logz)]\n",
      "/Users/minghao/anaconda3/envs/jwst_pypeit/lib/python3.12/site-packages/dynesty/plotting.py:203: RuntimeWarning: overflow encountered in exp\n",
      "  zspan = (0., 1.05 * np.exp(logz[-1] + 3. * logzerr[-1]))\n",
      "16:56 bilby WARNING : Axis limits cannot be NaN or Inf\n",
      "16:56 bilby WARNING : Failed to create dynesty run plot at checkpoint\n",
      "16:56 bilby INFO    : Sampling time: 0:00:29.599941\n",
      "16:56 bilby INFO    : Summary of results:\n",
      "nsamples: 1590\n",
      "ln_noise_evidence:    nan\n",
      "ln_evidence: 772.029 +/-  0.168\n",
      "ln_bayes_factor:    nan +/-  0.168\n",
      "\n"
     ]
    },
    {
     "name": "stdout",
     "output_type": "stream",
     "text": [
      "\n"
     ]
    },
    {
     "name": "stderr",
     "output_type": "stream",
     "text": [
      "/Users/minghao/Research/Projects/JWST/MASQUERADE_LAE/github/MASQUERADE_LAE/lya_stats/LAE_spec_utils.py:535: RuntimeWarning: divide by zero encountered in power\n",
      "  self.err_fnu = (self.ivar_fnu)**-0.5\n",
      "/Users/minghao/Research/Projects/JWST/MASQUERADE_LAE/github/MASQUERADE_LAE/lya_stats/LAE_spec_utils.py:541: RuntimeWarning: invalid value encountered in divide\n",
      "  self.flam = self.fnu * speed_of_light_angstrom / (self.wave)**2 * 1e-29 * 1e18\n",
      "/Users/minghao/Research/Projects/JWST/MASQUERADE_LAE/github/MASQUERADE_LAE/lya_stats/LAE_spec_utils.py:542: RuntimeWarning: divide by zero encountered in divide\n",
      "  self.err_flam = self.err_fnu * (speed_of_light_angstrom / (self.wave)**2 * 1e-29 * 1e18)\n",
      "16:56 bilby INFO    : Running for label '4713_10998', output will be saved to '../../MASQUERADE_LAE/data/lya_saves//J0100/bilby_fit_lya_testprior/'\n",
      "16:56 bilby INFO    : Search parameters:\n",
      "16:56 bilby INFO    :   center = Normal(mu=8905.927999766634, sigma=8.905927999766634, name='center', latex_label='center', unit=None, boundary=None)\n",
      "16:56 bilby INFO    :   fwhm = Normal(mu=600, sigma=200, name='fwhm', latex_label='fwhm', unit=None, boundary=None)\n",
      "16:56 bilby INFO    :   flux = Normal(mu=3.6091448699230737, sigma=3.6091448699230737, name='flux', latex_label='flux', unit=None, boundary=None)\n",
      "16:56 bilby INFO    :   A = Normal(mu=0.030437763051583137, sigma=0.030437763051583137, name='A', latex_label='A', unit=None, boundary=None)\n",
      "16:56 bilby INFO    :   beta = Normal(mu=-2, sigma=1, name='beta', latex_label='beta', unit=None, boundary=None)\n",
      "16:56 bilby INFO    :   wave0 = 8905.927999766634\n",
      "16:56 bilby INFO    : Single likelihood evaluation took 2.611e-04 s\n"
     ]
    },
    {
     "name": "stdout",
     "output_type": "stream",
     "text": [
      "found /Users/minghao/Research/Projects/JWST/ID4713/pypeit-reduc/data-release-2/reduced_spec_msaexp_pypeit/spec1d_4713_10998_stack.fits\n"
     ]
    },
    {
     "data": {
      "application/vnd.jupyter.widget-view+json": {
       "model_id": "a05099ea98784790b2e493a6d5d9d06e",
       "version_major": 2,
       "version_minor": 0
      },
      "text/plain": [
       "0it [00:00, ?it/s]"
      ]
     },
     "metadata": {},
     "output_type": "display_data"
    },
    {
     "name": "stderr",
     "output_type": "stream",
     "text": [
      "16:56 bilby INFO    : Using sampler Dynesty with kwargs {'bound': 'multi', 'sample': 'rwalk', 'print_progress': True, 'periodic': None, 'reflective': None, 'check_point_delta_t': 1800, 'nlive': 200, 'first_update': None, 'walks': 100, 'npdim': None, 'rstate': None, 'queue_size': 1, 'pool': None, 'use_pool': None, 'live_points': None, 'logl_args': None, 'logl_kwargs': None, 'ptform_args': None, 'ptform_kwargs': None, 'enlarge': 1.5, 'bootstrap': None, 'vol_dec': 0.5, 'vol_check': 8.0, 'facc': 0.2, 'slices': 5, 'update_interval': 120, 'print_func': <bound method Dynesty._print_func of <bilby.core.sampler.dynesty.Dynesty object at 0x14bbe83e0>>, 'dlogz': 0.1, 'maxiter': None, 'maxcall': None, 'logl_max': inf, 'add_live': True, 'save_bounds': False, 'n_effective': None, 'maxmcmc': 5000, 'nact': 5, 'print_method': 'tqdm'}\n",
      "16:56 bilby INFO    : Checkpoint every check_point_delta_t = 600s\n",
      "16:56 bilby INFO    : Using dynesty version 1.0.1\n",
      "16:56 bilby INFO    : Using the bilby-implemented rwalk sample method with ACT estimated walks\n",
      "16:56 bilby INFO    : Resume file ../../MASQUERADE_LAE/data/lya_saves//J0100/bilby_fit_lya_testprior//4713_10998_resume.pickle does not exist.\n",
      "16:56 bilby INFO    : Generating initial points from the prior\n",
      "16:57 bilby INFO    : Written checkpoint file ../../MASQUERADE_LAE/data/lya_saves//J0100/bilby_fit_lya_testprior//4713_10998_resume.pickle\n",
      "16:57 bilby INFO    : Sampling time: 0:00:43.040496\n",
      "16:57 bilby INFO    : Summary of results:\n",
      "nsamples: 2089\n",
      "ln_noise_evidence:    nan\n",
      "ln_evidence: 677.940 +/-  0.232\n",
      "ln_bayes_factor:    nan +/-  0.232\n",
      "\n"
     ]
    },
    {
     "name": "stdout",
     "output_type": "stream",
     "text": [
      "\n"
     ]
    },
    {
     "name": "stderr",
     "output_type": "stream",
     "text": [
      "/Users/minghao/Research/Projects/JWST/MASQUERADE_LAE/github/MASQUERADE_LAE/lya_stats/LAE_spec_utils.py:535: RuntimeWarning: divide by zero encountered in power\n",
      "  self.err_fnu = (self.ivar_fnu)**-0.5\n",
      "/Users/minghao/Research/Projects/JWST/MASQUERADE_LAE/github/MASQUERADE_LAE/lya_stats/LAE_spec_utils.py:541: RuntimeWarning: invalid value encountered in divide\n",
      "  self.flam = self.fnu * speed_of_light_angstrom / (self.wave)**2 * 1e-29 * 1e18\n",
      "/Users/minghao/Research/Projects/JWST/MASQUERADE_LAE/github/MASQUERADE_LAE/lya_stats/LAE_spec_utils.py:542: RuntimeWarning: divide by zero encountered in divide\n",
      "  self.err_flam = self.err_fnu * (speed_of_light_angstrom / (self.wave)**2 * 1e-29 * 1e18)\n",
      "16:57 bilby INFO    : Running for label '4713_11362', output will be saved to '../../MASQUERADE_LAE/data/lya_saves//J0100/bilby_fit_lya_testprior/'\n",
      "16:57 bilby INFO    : Search parameters:\n",
      "16:57 bilby INFO    :   center = Normal(mu=8908.65303195259, sigma=8.90865303195259, name='center', latex_label='center', unit=None, boundary=None)\n",
      "16:57 bilby INFO    :   fwhm = Normal(mu=600, sigma=200, name='fwhm', latex_label='fwhm', unit=None, boundary=None)\n",
      "16:57 bilby INFO    :   flux = Normal(mu=2.942694485095959, sigma=2.942694485095959, name='flux', latex_label='flux', unit=None, boundary=None)\n",
      "16:57 bilby INFO    :   A = Normal(mu=0.02151727454881329, sigma=0.02151727454881329, name='A', latex_label='A', unit=None, boundary=None)\n",
      "16:57 bilby INFO    :   beta = Normal(mu=-2, sigma=1, name='beta', latex_label='beta', unit=None, boundary=None)\n",
      "16:57 bilby INFO    :   wave0 = 8908.65303195259\n",
      "16:57 bilby INFO    : Single likelihood evaluation took 1.514e-04 s\n"
     ]
    },
    {
     "name": "stdout",
     "output_type": "stream",
     "text": [
      "found /Users/minghao/Research/Projects/JWST/ID4713/pypeit-reduc/data-release-2/reduced_spec_msaexp_pypeit/spec1d_4713_11362_stack.fits\n"
     ]
    },
    {
     "data": {
      "application/vnd.jupyter.widget-view+json": {
       "model_id": "67b37c05989545f49e01c4744821764e",
       "version_major": 2,
       "version_minor": 0
      },
      "text/plain": [
       "0it [00:00, ?it/s]"
      ]
     },
     "metadata": {},
     "output_type": "display_data"
    },
    {
     "name": "stderr",
     "output_type": "stream",
     "text": [
      "16:57 bilby INFO    : Using sampler Dynesty with kwargs {'bound': 'multi', 'sample': 'rwalk', 'print_progress': True, 'periodic': None, 'reflective': None, 'check_point_delta_t': 1800, 'nlive': 200, 'first_update': None, 'walks': 100, 'npdim': None, 'rstate': None, 'queue_size': 1, 'pool': None, 'use_pool': None, 'live_points': None, 'logl_args': None, 'logl_kwargs': None, 'ptform_args': None, 'ptform_kwargs': None, 'enlarge': 1.5, 'bootstrap': None, 'vol_dec': 0.5, 'vol_check': 8.0, 'facc': 0.2, 'slices': 5, 'update_interval': 120, 'print_func': <bound method Dynesty._print_func of <bilby.core.sampler.dynesty.Dynesty object at 0x14a59f3e0>>, 'dlogz': 0.1, 'maxiter': None, 'maxcall': None, 'logl_max': inf, 'add_live': True, 'save_bounds': False, 'n_effective': None, 'maxmcmc': 5000, 'nact': 5, 'print_method': 'tqdm'}\n",
      "16:57 bilby INFO    : Checkpoint every check_point_delta_t = 600s\n",
      "16:57 bilby INFO    : Using dynesty version 1.0.1\n",
      "16:57 bilby INFO    : Using the bilby-implemented rwalk sample method with ACT estimated walks\n",
      "16:57 bilby INFO    : Reading resume file ../../MASQUERADE_LAE/data/lya_saves//J0100/bilby_fit_lya_testprior//4713_11362_resume.pickle\n",
      "16:57 bilby INFO    : Resume file successfully loaded.\n",
      "16:57 bilby INFO    : Written checkpoint file ../../MASQUERADE_LAE/data/lya_saves//J0100/bilby_fit_lya_testprior//4713_11362_resume.pickle\n",
      "16:58 bilby INFO    : Written checkpoint file ../../MASQUERADE_LAE/data/lya_saves//J0100/bilby_fit_lya_testprior//4713_11362_resume.pickle\n",
      "16:58 bilby INFO    : Sampling time: 0:00:36.432747\n"
     ]
    },
    {
     "name": "stdout",
     "output_type": "stream",
     "text": [
      "\n"
     ]
    },
    {
     "name": "stderr",
     "output_type": "stream",
     "text": [
      "16:58 bilby INFO    : Summary of results:\n",
      "nsamples: 1866\n",
      "ln_noise_evidence:    nan\n",
      "ln_evidence: 698.190 +/-  0.192\n",
      "ln_bayes_factor:    nan +/-  0.192\n",
      "\n",
      "/Users/minghao/Research/Projects/JWST/MASQUERADE_LAE/github/MASQUERADE_LAE/lya_stats/LAE_spec_utils.py:535: RuntimeWarning: divide by zero encountered in power\n",
      "  self.err_fnu = (self.ivar_fnu)**-0.5\n",
      "/Users/minghao/Research/Projects/JWST/MASQUERADE_LAE/github/MASQUERADE_LAE/lya_stats/LAE_spec_utils.py:541: RuntimeWarning: invalid value encountered in divide\n",
      "  self.flam = self.fnu * speed_of_light_angstrom / (self.wave)**2 * 1e-29 * 1e18\n",
      "/Users/minghao/Research/Projects/JWST/MASQUERADE_LAE/github/MASQUERADE_LAE/lya_stats/LAE_spec_utils.py:542: RuntimeWarning: divide by zero encountered in divide\n",
      "  self.err_flam = self.err_fnu * (speed_of_light_angstrom / (self.wave)**2 * 1e-29 * 1e18)\n",
      "16:58 bilby INFO    : Running for label '4713_11743', output will be saved to '../../MASQUERADE_LAE/data/lya_saves//J0100/bilby_fit_lya_testprior/'\n",
      "16:58 bilby INFO    : Search parameters:\n",
      "16:58 bilby INFO    :   center = Normal(mu=9495.828463994143, sigma=9.495828463994142, name='center', latex_label='center', unit=None, boundary=None)\n",
      "16:58 bilby INFO    :   fwhm = Normal(mu=600, sigma=200, name='fwhm', latex_label='fwhm', unit=None, boundary=None)\n",
      "16:58 bilby INFO    :   flux = Normal(mu=1.9231548146815265, sigma=1.9231548146815265, name='flux', latex_label='flux', unit=None, boundary=None)\n",
      "16:58 bilby INFO    :   A = Normal(mu=0.04451995105396278, sigma=0.04451995105396278, name='A', latex_label='A', unit=None, boundary=None)\n",
      "16:58 bilby INFO    :   beta = Normal(mu=-2, sigma=1, name='beta', latex_label='beta', unit=None, boundary=None)\n",
      "16:58 bilby INFO    :   wave0 = 9495.828463994143\n",
      "16:58 bilby INFO    : Single likelihood evaluation took 2.168e-04 s\n"
     ]
    },
    {
     "name": "stdout",
     "output_type": "stream",
     "text": [
      "found /Users/minghao/Research/Projects/JWST/ID4713/pypeit-reduc/data-release-2/reduced_spec_msaexp_pypeit/spec1d_4713_11743_stack.fits\n"
     ]
    },
    {
     "data": {
      "application/vnd.jupyter.widget-view+json": {
       "model_id": "54f95f64dee54a43a5faae9ba1be27f9",
       "version_major": 2,
       "version_minor": 0
      },
      "text/plain": [
       "0it [00:00, ?it/s]"
      ]
     },
     "metadata": {},
     "output_type": "display_data"
    },
    {
     "name": "stderr",
     "output_type": "stream",
     "text": [
      "16:58 bilby INFO    : Using sampler Dynesty with kwargs {'bound': 'multi', 'sample': 'rwalk', 'print_progress': True, 'periodic': None, 'reflective': None, 'check_point_delta_t': 1800, 'nlive': 200, 'first_update': None, 'walks': 100, 'npdim': None, 'rstate': None, 'queue_size': 1, 'pool': None, 'use_pool': None, 'live_points': None, 'logl_args': None, 'logl_kwargs': None, 'ptform_args': None, 'ptform_kwargs': None, 'enlarge': 1.5, 'bootstrap': None, 'vol_dec': 0.5, 'vol_check': 8.0, 'facc': 0.2, 'slices': 5, 'update_interval': 120, 'print_func': <bound method Dynesty._print_func of <bilby.core.sampler.dynesty.Dynesty object at 0x14a109ee0>>, 'dlogz': 0.1, 'maxiter': None, 'maxcall': None, 'logl_max': inf, 'add_live': True, 'save_bounds': False, 'n_effective': None, 'maxmcmc': 5000, 'nact': 5, 'print_method': 'tqdm'}\n",
      "16:58 bilby INFO    : Checkpoint every check_point_delta_t = 600s\n",
      "16:58 bilby INFO    : Using dynesty version 1.0.1\n",
      "16:58 bilby INFO    : Using the bilby-implemented rwalk sample method with ACT estimated walks\n",
      "16:58 bilby INFO    : Reading resume file ../../MASQUERADE_LAE/data/lya_saves//J0100/bilby_fit_lya_testprior//4713_11743_resume.pickle\n",
      "16:58 bilby INFO    : Resume file successfully loaded.\n",
      "16:58 bilby INFO    : Written checkpoint file ../../MASQUERADE_LAE/data/lya_saves//J0100/bilby_fit_lya_testprior//4713_11743_resume.pickle\n",
      "16:59 bilby INFO    : Written checkpoint file ../../MASQUERADE_LAE/data/lya_saves//J0100/bilby_fit_lya_testprior//4713_11743_resume.pickle\n",
      "16:59 bilby INFO    : Sampling time: 0:01:24.915945\n"
     ]
    },
    {
     "name": "stdout",
     "output_type": "stream",
     "text": [
      "\n"
     ]
    },
    {
     "name": "stderr",
     "output_type": "stream",
     "text": [
      "16:59 bilby INFO    : Summary of results:\n",
      "nsamples: 3305\n",
      "ln_noise_evidence:    nan\n",
      "ln_evidence: 621.186 +/-  0.281\n",
      "ln_bayes_factor:    nan +/-  0.281\n",
      "\n",
      "/Users/minghao/Research/Projects/JWST/MASQUERADE_LAE/github/MASQUERADE_LAE/lya_stats/LAE_spec_utils.py:535: RuntimeWarning: divide by zero encountered in power\n",
      "  self.err_fnu = (self.ivar_fnu)**-0.5\n",
      "/Users/minghao/Research/Projects/JWST/MASQUERADE_LAE/github/MASQUERADE_LAE/lya_stats/LAE_spec_utils.py:541: RuntimeWarning: invalid value encountered in divide\n",
      "  self.flam = self.fnu * speed_of_light_angstrom / (self.wave)**2 * 1e-29 * 1e18\n",
      "/Users/minghao/Research/Projects/JWST/MASQUERADE_LAE/github/MASQUERADE_LAE/lya_stats/LAE_spec_utils.py:542: RuntimeWarning: divide by zero encountered in divide\n",
      "  self.err_flam = self.err_fnu * (speed_of_light_angstrom / (self.wave)**2 * 1e-29 * 1e18)\n",
      "16:59 bilby INFO    : Running for label '4713_11981', output will be saved to '../../MASQUERADE_LAE/data/lya_saves//J0100/bilby_fit_lya_testprior/'\n",
      "16:59 bilby INFO    : Search parameters:\n",
      "16:59 bilby INFO    :   center = Normal(mu=9508.712109118485, sigma=9.508712109118486, name='center', latex_label='center', unit=None, boundary=None)\n",
      "16:59 bilby INFO    :   fwhm = Normal(mu=600, sigma=200, name='fwhm', latex_label='fwhm', unit=None, boundary=None)\n",
      "16:59 bilby INFO    :   flux = Normal(mu=2.178897315214655, sigma=2.178897315214655, name='flux', latex_label='flux', unit=None, boundary=None)\n",
      "16:59 bilby INFO    :   A = Normal(mu=0.04670311929934752, sigma=0.04670311929934752, name='A', latex_label='A', unit=None, boundary=None)\n",
      "16:59 bilby INFO    :   beta = Normal(mu=-2, sigma=1, name='beta', latex_label='beta', unit=None, boundary=None)\n",
      "16:59 bilby INFO    :   wave0 = 9508.712109118485\n",
      "16:59 bilby INFO    : Single likelihood evaluation took 2.610e-04 s\n"
     ]
    },
    {
     "name": "stdout",
     "output_type": "stream",
     "text": [
      "found /Users/minghao/Research/Projects/JWST/ID4713/pypeit-reduc/data-release-2/reduced_spec_msaexp_pypeit/spec1d_4713_11981_stack.fits\n"
     ]
    },
    {
     "data": {
      "application/vnd.jupyter.widget-view+json": {
       "model_id": "b5e4c968baad4d41a402260754a72ba0",
       "version_major": 2,
       "version_minor": 0
      },
      "text/plain": [
       "0it [00:00, ?it/s]"
      ]
     },
     "metadata": {},
     "output_type": "display_data"
    },
    {
     "name": "stderr",
     "output_type": "stream",
     "text": [
      "16:59 bilby INFO    : Using sampler Dynesty with kwargs {'bound': 'multi', 'sample': 'rwalk', 'print_progress': True, 'periodic': None, 'reflective': None, 'check_point_delta_t': 1800, 'nlive': 200, 'first_update': None, 'walks': 100, 'npdim': None, 'rstate': None, 'queue_size': 1, 'pool': None, 'use_pool': None, 'live_points': None, 'logl_args': None, 'logl_kwargs': None, 'ptform_args': None, 'ptform_kwargs': None, 'enlarge': 1.5, 'bootstrap': None, 'vol_dec': 0.5, 'vol_check': 8.0, 'facc': 0.2, 'slices': 5, 'update_interval': 120, 'print_func': <bound method Dynesty._print_func of <bilby.core.sampler.dynesty.Dynesty object at 0x12eb2af60>>, 'dlogz': 0.1, 'maxiter': None, 'maxcall': None, 'logl_max': inf, 'add_live': True, 'save_bounds': False, 'n_effective': None, 'maxmcmc': 5000, 'nact': 5, 'print_method': 'tqdm'}\n",
      "16:59 bilby INFO    : Checkpoint every check_point_delta_t = 600s\n",
      "16:59 bilby INFO    : Using dynesty version 1.0.1\n",
      "16:59 bilby INFO    : Using the bilby-implemented rwalk sample method with ACT estimated walks\n",
      "16:59 bilby INFO    : Resume file ../../MASQUERADE_LAE/data/lya_saves//J0100/bilby_fit_lya_testprior//4713_11981_resume.pickle does not exist.\n",
      "16:59 bilby INFO    : Generating initial points from the prior\n",
      "17:01 bilby INFO    : Written checkpoint file ../../MASQUERADE_LAE/data/lya_saves//J0100/bilby_fit_lya_testprior//4713_11981_resume.pickle\n"
     ]
    },
    {
     "name": "stdout",
     "output_type": "stream",
     "text": [
      "\n"
     ]
    },
    {
     "name": "stderr",
     "output_type": "stream",
     "text": [
      "17:01 bilby INFO    : Sampling time: 0:01:43.167844\n",
      "17:01 bilby INFO    : Summary of results:\n",
      "nsamples: 4153\n",
      "ln_noise_evidence:    nan\n",
      "ln_evidence: 706.419 +/-  0.357\n",
      "ln_bayes_factor:    nan +/-  0.357\n",
      "\n",
      "17:01 bilby INFO    : Running for label '4713_12217', output will be saved to '../../MASQUERADE_LAE/data/lya_saves//J0100/bilby_fit_lya_testprior/'\n",
      "17:01 bilby INFO    : Search parameters:\n",
      "17:01 bilby INFO    :   center = Normal(mu=9449.574230591094, sigma=9.449574230591093, name='center', latex_label='center', unit=None, boundary=None)\n",
      "17:01 bilby INFO    :   fwhm = Normal(mu=600, sigma=200, name='fwhm', latex_label='fwhm', unit=None, boundary=None)\n",
      "17:01 bilby INFO    :   flux = Normal(mu=1.174985044904849, sigma=1.174985044904849, name='flux', latex_label='flux', unit=None, boundary=None)\n",
      "17:01 bilby INFO    :   A = Normal(mu=0.020456562143248095, sigma=0.020456562143248095, name='A', latex_label='A', unit=None, boundary=None)\n",
      "17:01 bilby INFO    :   beta = Normal(mu=-2, sigma=1, name='beta', latex_label='beta', unit=None, boundary=None)\n",
      "17:01 bilby INFO    :   wave0 = 9449.574230591094\n",
      "17:01 bilby INFO    : Single likelihood evaluation took 2.008e-04 s\n"
     ]
    },
    {
     "name": "stdout",
     "output_type": "stream",
     "text": [
      "found /Users/minghao/Research/Projects/JWST/ID4713/pypeit-reduc/data-release-2/reduced_spec_msaexp_pypeit/spec1d_4713_12217_stack.fits\n"
     ]
    },
    {
     "data": {
      "application/vnd.jupyter.widget-view+json": {
       "model_id": "09f1aa9af3bd470a895f243fd3db2542",
       "version_major": 2,
       "version_minor": 0
      },
      "text/plain": [
       "0it [00:00, ?it/s]"
      ]
     },
     "metadata": {},
     "output_type": "display_data"
    },
    {
     "name": "stderr",
     "output_type": "stream",
     "text": [
      "17:01 bilby INFO    : Using sampler Dynesty with kwargs {'bound': 'multi', 'sample': 'rwalk', 'print_progress': True, 'periodic': None, 'reflective': None, 'check_point_delta_t': 1800, 'nlive': 200, 'first_update': None, 'walks': 100, 'npdim': None, 'rstate': None, 'queue_size': 1, 'pool': None, 'use_pool': None, 'live_points': None, 'logl_args': None, 'logl_kwargs': None, 'ptform_args': None, 'ptform_kwargs': None, 'enlarge': 1.5, 'bootstrap': None, 'vol_dec': 0.5, 'vol_check': 8.0, 'facc': 0.2, 'slices': 5, 'update_interval': 120, 'print_func': <bound method Dynesty._print_func of <bilby.core.sampler.dynesty.Dynesty object at 0x151d983e0>>, 'dlogz': 0.1, 'maxiter': None, 'maxcall': None, 'logl_max': inf, 'add_live': True, 'save_bounds': False, 'n_effective': None, 'maxmcmc': 5000, 'nact': 5, 'print_method': 'tqdm'}\n",
      "17:01 bilby INFO    : Checkpoint every check_point_delta_t = 600s\n",
      "17:01 bilby INFO    : Using dynesty version 1.0.1\n",
      "17:01 bilby INFO    : Using the bilby-implemented rwalk sample method with ACT estimated walks\n",
      "17:01 bilby INFO    : Resume file ../../MASQUERADE_LAE/data/lya_saves//J0100/bilby_fit_lya_testprior//4713_12217_resume.pickle does not exist.\n",
      "17:01 bilby INFO    : Generating initial points from the prior\n",
      "17:01 bilby INFO    : Written checkpoint file ../../MASQUERADE_LAE/data/lya_saves//J0100/bilby_fit_lya_testprior//4713_12217_resume.pickle\n",
      "/Users/minghao/anaconda3/envs/jwst_pypeit/lib/python3.12/site-packages/dynesty/plotting.py:179: RuntimeWarning: overflow encountered in exp\n",
      "  data = [nlive, np.exp(logl), np.exp(logwt), np.exp(logz)]\n",
      "/Users/minghao/anaconda3/envs/jwst_pypeit/lib/python3.12/site-packages/dynesty/plotting.py:203: RuntimeWarning: overflow encountered in exp\n",
      "  zspan = (0., 1.05 * np.exp(logz[-1] + 3. * logzerr[-1]))\n",
      "17:01 bilby WARNING : Axis limits cannot be NaN or Inf\n",
      "17:01 bilby WARNING : Failed to create dynesty run plot at checkpoint\n",
      "17:02 bilby INFO    : Sampling time: 0:00:43.359925\n"
     ]
    },
    {
     "name": "stdout",
     "output_type": "stream",
     "text": [
      "\n"
     ]
    },
    {
     "name": "stderr",
     "output_type": "stream",
     "text": [
      "17:02 bilby INFO    : Summary of results:\n",
      "nsamples: 2196\n",
      "ln_noise_evidence:    nan\n",
      "ln_evidence: 1082.038 +/-  0.226\n",
      "ln_bayes_factor:    nan +/-  0.226\n",
      "\n",
      "/Users/minghao/Research/Projects/JWST/MASQUERADE_LAE/github/MASQUERADE_LAE/lya_stats/LAE_spec_utils.py:535: RuntimeWarning: divide by zero encountered in power\n",
      "  self.err_fnu = (self.ivar_fnu)**-0.5\n",
      "/Users/minghao/Research/Projects/JWST/MASQUERADE_LAE/github/MASQUERADE_LAE/lya_stats/LAE_spec_utils.py:541: RuntimeWarning: invalid value encountered in divide\n",
      "  self.flam = self.fnu * speed_of_light_angstrom / (self.wave)**2 * 1e-29 * 1e18\n",
      "/Users/minghao/Research/Projects/JWST/MASQUERADE_LAE/github/MASQUERADE_LAE/lya_stats/LAE_spec_utils.py:542: RuntimeWarning: divide by zero encountered in divide\n",
      "  self.err_flam = self.err_fnu * (speed_of_light_angstrom / (self.wave)**2 * 1e-29 * 1e18)\n",
      "17:02 bilby INFO    : Running for label '4713_12285', output will be saved to '../../MASQUERADE_LAE/data/lya_saves//J0100/bilby_fit_lya_testprior/'\n",
      "17:02 bilby INFO    : Search parameters:\n",
      "17:02 bilby INFO    :   center = Normal(mu=8756.260496149554, sigma=8.756260496149554, name='center', latex_label='center', unit=None, boundary=None)\n",
      "17:02 bilby INFO    :   fwhm = Normal(mu=600, sigma=200, name='fwhm', latex_label='fwhm', unit=None, boundary=None)\n",
      "17:02 bilby INFO    :   flux = Normal(mu=1.5330909675737812, sigma=1.5330909675737812, name='flux', latex_label='flux', unit=None, boundary=None)\n",
      "17:02 bilby INFO    :   A = Normal(mu=0.02571011140511245, sigma=0.02571011140511245, name='A', latex_label='A', unit=None, boundary=None)\n",
      "17:02 bilby INFO    :   beta = Normal(mu=-2, sigma=1, name='beta', latex_label='beta', unit=None, boundary=None)\n",
      "17:02 bilby INFO    :   wave0 = 8756.260496149554\n",
      "17:02 bilby INFO    : Single likelihood evaluation took 1.640e-04 s\n"
     ]
    },
    {
     "name": "stdout",
     "output_type": "stream",
     "text": [
      "found /Users/minghao/Research/Projects/JWST/ID4713/pypeit-reduc/data-release-2/reduced_spec_msaexp_pypeit/spec1d_4713_12285_stack.fits\n"
     ]
    },
    {
     "data": {
      "application/vnd.jupyter.widget-view+json": {
       "model_id": "da695d29787e4948a52c9d16418c0f72",
       "version_major": 2,
       "version_minor": 0
      },
      "text/plain": [
       "0it [00:00, ?it/s]"
      ]
     },
     "metadata": {},
     "output_type": "display_data"
    },
    {
     "name": "stderr",
     "output_type": "stream",
     "text": [
      "17:02 bilby INFO    : Using sampler Dynesty with kwargs {'bound': 'multi', 'sample': 'rwalk', 'print_progress': True, 'periodic': None, 'reflective': None, 'check_point_delta_t': 1800, 'nlive': 200, 'first_update': None, 'walks': 100, 'npdim': None, 'rstate': None, 'queue_size': 1, 'pool': None, 'use_pool': None, 'live_points': None, 'logl_args': None, 'logl_kwargs': None, 'ptform_args': None, 'ptform_kwargs': None, 'enlarge': 1.5, 'bootstrap': None, 'vol_dec': 0.5, 'vol_check': 8.0, 'facc': 0.2, 'slices': 5, 'update_interval': 120, 'print_func': <bound method Dynesty._print_func of <bilby.core.sampler.dynesty.Dynesty object at 0x1514ac380>>, 'dlogz': 0.1, 'maxiter': None, 'maxcall': None, 'logl_max': inf, 'add_live': True, 'save_bounds': False, 'n_effective': None, 'maxmcmc': 5000, 'nact': 5, 'print_method': 'tqdm'}\n",
      "17:02 bilby INFO    : Checkpoint every check_point_delta_t = 600s\n",
      "17:02 bilby INFO    : Using dynesty version 1.0.1\n",
      "17:02 bilby INFO    : Using the bilby-implemented rwalk sample method with ACT estimated walks\n",
      "17:02 bilby INFO    : Resume file ../../MASQUERADE_LAE/data/lya_saves//J0100/bilby_fit_lya_testprior//4713_12285_resume.pickle does not exist.\n",
      "17:02 bilby INFO    : Generating initial points from the prior\n",
      "17:02 bilby INFO    : Written checkpoint file ../../MASQUERADE_LAE/data/lya_saves//J0100/bilby_fit_lya_testprior//4713_12285_resume.pickle\n",
      "/Users/minghao/anaconda3/envs/jwst_pypeit/lib/python3.12/site-packages/dynesty/plotting.py:179: RuntimeWarning: overflow encountered in exp\n",
      "  data = [nlive, np.exp(logl), np.exp(logwt), np.exp(logz)]\n",
      "/Users/minghao/anaconda3/envs/jwst_pypeit/lib/python3.12/site-packages/dynesty/plotting.py:203: RuntimeWarning: overflow encountered in exp\n",
      "  zspan = (0., 1.05 * np.exp(logz[-1] + 3. * logzerr[-1]))\n",
      "17:02 bilby WARNING : Axis limits cannot be NaN or Inf\n",
      "17:02 bilby WARNING : Failed to create dynesty run plot at checkpoint\n",
      "17:02 bilby INFO    : Sampling time: 0:00:32.541316\n",
      "17:02 bilby INFO    : Summary of results:\n",
      "nsamples: 1819\n",
      "ln_noise_evidence:    nan\n",
      "ln_evidence: 790.162 +/-  0.205\n",
      "ln_bayes_factor:    nan +/-  0.205\n",
      "\n"
     ]
    },
    {
     "name": "stdout",
     "output_type": "stream",
     "text": [
      "\n"
     ]
    },
    {
     "name": "stderr",
     "output_type": "stream",
     "text": [
      "/Users/minghao/Research/Projects/JWST/MASQUERADE_LAE/github/MASQUERADE_LAE/lya_stats/LAE_spec_utils.py:535: RuntimeWarning: divide by zero encountered in power\n",
      "  self.err_fnu = (self.ivar_fnu)**-0.5\n",
      "/Users/minghao/Research/Projects/JWST/MASQUERADE_LAE/github/MASQUERADE_LAE/lya_stats/LAE_spec_utils.py:541: RuntimeWarning: invalid value encountered in divide\n",
      "  self.flam = self.fnu * speed_of_light_angstrom / (self.wave)**2 * 1e-29 * 1e18\n",
      "/Users/minghao/Research/Projects/JWST/MASQUERADE_LAE/github/MASQUERADE_LAE/lya_stats/LAE_spec_utils.py:542: RuntimeWarning: divide by zero encountered in divide\n",
      "  self.err_flam = self.err_fnu * (speed_of_light_angstrom / (self.wave)**2 * 1e-29 * 1e18)\n",
      "17:02 bilby INFO    : Running for label '4713_12643', output will be saved to '../../MASQUERADE_LAE/data/lya_saves//J0100/bilby_fit_lya_testprior/'\n",
      "17:02 bilby INFO    : Search parameters:\n",
      "17:02 bilby INFO    :   center = Normal(mu=9225.757035585817, sigma=9.225757035585817, name='center', latex_label='center', unit=None, boundary=None)\n",
      "17:02 bilby INFO    :   fwhm = Normal(mu=600, sigma=200, name='fwhm', latex_label='fwhm', unit=None, boundary=None)\n",
      "17:02 bilby INFO    :   flux = Normal(mu=1.5349296399417545, sigma=1.5349296399417545, name='flux', latex_label='flux', unit=None, boundary=None)\n",
      "17:02 bilby INFO    :   A = Normal(mu=0.01522958563037266, sigma=0.01522958563037266, name='A', latex_label='A', unit=None, boundary=None)\n",
      "17:02 bilby INFO    :   beta = Normal(mu=-2, sigma=1, name='beta', latex_label='beta', unit=None, boundary=None)\n",
      "17:02 bilby INFO    :   wave0 = 9225.757035585817\n",
      "17:02 bilby INFO    : Single likelihood evaluation took 2.449e-04 s\n"
     ]
    },
    {
     "name": "stdout",
     "output_type": "stream",
     "text": [
      "found /Users/minghao/Research/Projects/JWST/ID4713/pypeit-reduc/data-release-2/reduced_spec_msaexp_pypeit/manu1d_4713_12643_stack.fits\n"
     ]
    },
    {
     "data": {
      "application/vnd.jupyter.widget-view+json": {
       "model_id": "eeb7542619dc44838e1e06728d0a4275",
       "version_major": 2,
       "version_minor": 0
      },
      "text/plain": [
       "0it [00:00, ?it/s]"
      ]
     },
     "metadata": {},
     "output_type": "display_data"
    },
    {
     "name": "stderr",
     "output_type": "stream",
     "text": [
      "17:02 bilby INFO    : Using sampler Dynesty with kwargs {'bound': 'multi', 'sample': 'rwalk', 'print_progress': True, 'periodic': None, 'reflective': None, 'check_point_delta_t': 1800, 'nlive': 200, 'first_update': None, 'walks': 100, 'npdim': None, 'rstate': None, 'queue_size': 1, 'pool': None, 'use_pool': None, 'live_points': None, 'logl_args': None, 'logl_kwargs': None, 'ptform_args': None, 'ptform_kwargs': None, 'enlarge': 1.5, 'bootstrap': None, 'vol_dec': 0.5, 'vol_check': 8.0, 'facc': 0.2, 'slices': 5, 'update_interval': 120, 'print_func': <bound method Dynesty._print_func of <bilby.core.sampler.dynesty.Dynesty object at 0x152ef83e0>>, 'dlogz': 0.1, 'maxiter': None, 'maxcall': None, 'logl_max': inf, 'add_live': True, 'save_bounds': False, 'n_effective': None, 'maxmcmc': 5000, 'nact': 5, 'print_method': 'tqdm'}\n",
      "17:02 bilby INFO    : Checkpoint every check_point_delta_t = 600s\n",
      "17:02 bilby INFO    : Using dynesty version 1.0.1\n",
      "17:02 bilby INFO    : Using the bilby-implemented rwalk sample method with ACT estimated walks\n",
      "17:02 bilby INFO    : Resume file ../../MASQUERADE_LAE/data/lya_saves//J0100/bilby_fit_lya_testprior//4713_12643_resume.pickle does not exist.\n",
      "17:02 bilby INFO    : Generating initial points from the prior\n",
      "17:03 bilby INFO    : Written checkpoint file ../../MASQUERADE_LAE/data/lya_saves//J0100/bilby_fit_lya_testprior//4713_12643_resume.pickle\n",
      "/Users/minghao/anaconda3/envs/jwst_pypeit/lib/python3.12/site-packages/dynesty/plotting.py:179: RuntimeWarning: overflow encountered in exp\n",
      "  data = [nlive, np.exp(logl), np.exp(logwt), np.exp(logz)]\n",
      "/Users/minghao/anaconda3/envs/jwst_pypeit/lib/python3.12/site-packages/dynesty/plotting.py:203: RuntimeWarning: overflow encountered in exp\n",
      "  zspan = (0., 1.05 * np.exp(logz[-1] + 3. * logzerr[-1]))\n",
      "17:03 bilby WARNING : Axis limits cannot be NaN or Inf\n",
      "17:03 bilby WARNING : Failed to create dynesty run plot at checkpoint\n",
      "17:03 bilby INFO    : Sampling time: 0:00:34.628323\n",
      "17:03 bilby INFO    : Summary of results:\n",
      "nsamples: 1931\n",
      "ln_noise_evidence:    nan\n",
      "ln_evidence: 819.022 +/-  0.197\n",
      "ln_bayes_factor:    nan +/-  0.197\n",
      "\n"
     ]
    },
    {
     "name": "stdout",
     "output_type": "stream",
     "text": [
      "\n"
     ]
    },
    {
     "name": "stderr",
     "output_type": "stream",
     "text": [
      "/Users/minghao/Research/Projects/JWST/MASQUERADE_LAE/github/MASQUERADE_LAE/lya_stats/LAE_spec_utils.py:535: RuntimeWarning: divide by zero encountered in power\n",
      "  self.err_fnu = (self.ivar_fnu)**-0.5\n",
      "/Users/minghao/Research/Projects/JWST/MASQUERADE_LAE/github/MASQUERADE_LAE/lya_stats/LAE_spec_utils.py:541: RuntimeWarning: invalid value encountered in divide\n",
      "  self.flam = self.fnu * speed_of_light_angstrom / (self.wave)**2 * 1e-29 * 1e18\n",
      "/Users/minghao/Research/Projects/JWST/MASQUERADE_LAE/github/MASQUERADE_LAE/lya_stats/LAE_spec_utils.py:542: RuntimeWarning: divide by zero encountered in divide\n",
      "  self.err_flam = self.err_fnu * (speed_of_light_angstrom / (self.wave)**2 * 1e-29 * 1e18)\n",
      "17:03 bilby INFO    : Running for label '4713_12754', output will be saved to '../../MASQUERADE_LAE/data/lya_saves//J0100/bilby_fit_lya_testprior/'\n",
      "17:03 bilby INFO    : Search parameters:\n",
      "17:03 bilby INFO    :   center = Normal(mu=8907.467853444232, sigma=8.907467853444231, name='center', latex_label='center', unit=None, boundary=None)\n",
      "17:03 bilby INFO    :   fwhm = Normal(mu=600, sigma=200, name='fwhm', latex_label='fwhm', unit=None, boundary=None)\n",
      "17:03 bilby INFO    :   flux = Normal(mu=1.0844900535426523, sigma=1.0844900535426523, name='flux', latex_label='flux', unit=None, boundary=None)\n",
      "17:03 bilby INFO    :   A = Normal(mu=0.017150752374989482, sigma=0.017150752374989482, name='A', latex_label='A', unit=None, boundary=None)\n",
      "17:03 bilby INFO    :   beta = Normal(mu=-2, sigma=1, name='beta', latex_label='beta', unit=None, boundary=None)\n",
      "17:03 bilby INFO    :   wave0 = 8907.467853444232\n",
      "17:03 bilby INFO    : Single likelihood evaluation took 2.035e-04 s\n"
     ]
    },
    {
     "name": "stdout",
     "output_type": "stream",
     "text": [
      "found /Users/minghao/Research/Projects/JWST/ID4713/pypeit-reduc/data-release-2/reduced_spec_msaexp_pypeit/spec1d_4713_12754_stack.fits\n"
     ]
    },
    {
     "data": {
      "application/vnd.jupyter.widget-view+json": {
       "model_id": "2ee2f610a9d94f06b50dbc01d61e6e0f",
       "version_major": 2,
       "version_minor": 0
      },
      "text/plain": [
       "0it [00:00, ?it/s]"
      ]
     },
     "metadata": {},
     "output_type": "display_data"
    },
    {
     "name": "stderr",
     "output_type": "stream",
     "text": [
      "17:03 bilby INFO    : Using sampler Dynesty with kwargs {'bound': 'multi', 'sample': 'rwalk', 'print_progress': True, 'periodic': None, 'reflective': None, 'check_point_delta_t': 1800, 'nlive': 200, 'first_update': None, 'walks': 100, 'npdim': None, 'rstate': None, 'queue_size': 1, 'pool': None, 'use_pool': None, 'live_points': None, 'logl_args': None, 'logl_kwargs': None, 'ptform_args': None, 'ptform_kwargs': None, 'enlarge': 1.5, 'bootstrap': None, 'vol_dec': 0.5, 'vol_check': 8.0, 'facc': 0.2, 'slices': 5, 'update_interval': 120, 'print_func': <bound method Dynesty._print_func of <bilby.core.sampler.dynesty.Dynesty object at 0x153c4b0b0>>, 'dlogz': 0.1, 'maxiter': None, 'maxcall': None, 'logl_max': inf, 'add_live': True, 'save_bounds': False, 'n_effective': None, 'maxmcmc': 5000, 'nact': 5, 'print_method': 'tqdm'}\n",
      "17:03 bilby INFO    : Checkpoint every check_point_delta_t = 600s\n",
      "17:03 bilby INFO    : Using dynesty version 1.0.1\n",
      "17:03 bilby INFO    : Using the bilby-implemented rwalk sample method with ACT estimated walks\n",
      "17:03 bilby INFO    : Resume file ../../MASQUERADE_LAE/data/lya_saves//J0100/bilby_fit_lya_testprior//4713_12754_resume.pickle does not exist.\n",
      "17:03 bilby INFO    : Generating initial points from the prior\n",
      "17:03 bilby INFO    : Written checkpoint file ../../MASQUERADE_LAE/data/lya_saves//J0100/bilby_fit_lya_testprior//4713_12754_resume.pickle\n",
      "/Users/minghao/anaconda3/envs/jwst_pypeit/lib/python3.12/site-packages/dynesty/plotting.py:179: RuntimeWarning: overflow encountered in exp\n",
      "  data = [nlive, np.exp(logl), np.exp(logwt), np.exp(logz)]\n",
      "/Users/minghao/anaconda3/envs/jwst_pypeit/lib/python3.12/site-packages/dynesty/plotting.py:203: RuntimeWarning: overflow encountered in exp\n",
      "  zspan = (0., 1.05 * np.exp(logz[-1] + 3. * logzerr[-1]))\n",
      "17:03 bilby WARNING : Axis limits cannot be NaN or Inf\n",
      "17:03 bilby WARNING : Failed to create dynesty run plot at checkpoint\n",
      "17:03 bilby INFO    : Sampling time: 0:00:43.699927\n",
      "17:03 bilby INFO    : Summary of results:\n",
      "nsamples: 1931\n",
      "ln_noise_evidence:    nan\n",
      "ln_evidence: 776.996 +/-  0.192\n",
      "ln_bayes_factor:    nan +/-  0.192\n",
      "\n"
     ]
    },
    {
     "name": "stdout",
     "output_type": "stream",
     "text": [
      "\n"
     ]
    },
    {
     "name": "stderr",
     "output_type": "stream",
     "text": [
      "/Users/minghao/Research/Projects/JWST/MASQUERADE_LAE/github/MASQUERADE_LAE/lya_stats/LAE_spec_utils.py:535: RuntimeWarning: divide by zero encountered in power\n",
      "  self.err_fnu = (self.ivar_fnu)**-0.5\n",
      "/Users/minghao/Research/Projects/JWST/MASQUERADE_LAE/github/MASQUERADE_LAE/lya_stats/LAE_spec_utils.py:541: RuntimeWarning: invalid value encountered in divide\n",
      "  self.flam = self.fnu * speed_of_light_angstrom / (self.wave)**2 * 1e-29 * 1e18\n",
      "/Users/minghao/Research/Projects/JWST/MASQUERADE_LAE/github/MASQUERADE_LAE/lya_stats/LAE_spec_utils.py:542: RuntimeWarning: divide by zero encountered in divide\n",
      "  self.err_flam = self.err_fnu * (speed_of_light_angstrom / (self.wave)**2 * 1e-29 * 1e18)\n",
      "17:03 bilby INFO    : Running for label '4713_12817', output will be saved to '../../MASQUERADE_LAE/data/lya_saves//J0100/bilby_fit_lya_testprior/'\n",
      "17:03 bilby INFO    : Search parameters:\n",
      "17:03 bilby INFO    :   center = Normal(mu=8396.03016639403, sigma=8.39603016639403, name='center', latex_label='center', unit=None, boundary=None)\n",
      "17:03 bilby INFO    :   fwhm = Normal(mu=600, sigma=200, name='fwhm', latex_label='fwhm', unit=None, boundary=None)\n",
      "17:03 bilby INFO    :   flux = Normal(mu=2.257637582575848, sigma=2.257637582575848, name='flux', latex_label='flux', unit=None, boundary=None)\n",
      "17:03 bilby INFO    :   A = Normal(mu=0.01512024761280241, sigma=0.01512024761280241, name='A', latex_label='A', unit=None, boundary=None)\n",
      "17:03 bilby INFO    :   beta = Normal(mu=-2, sigma=1, name='beta', latex_label='beta', unit=None, boundary=None)\n",
      "17:03 bilby INFO    :   wave0 = 8396.03016639403\n",
      "17:03 bilby INFO    : Single likelihood evaluation took 1.674e-04 s\n"
     ]
    },
    {
     "name": "stdout",
     "output_type": "stream",
     "text": [
      "found /Users/minghao/Research/Projects/JWST/ID4713/pypeit-reduc/data-release-2/reduced_spec_msaexp_pypeit/manu1d_4713_12817_stack.fits\n"
     ]
    },
    {
     "data": {
      "application/vnd.jupyter.widget-view+json": {
       "model_id": "165563d4d8b043b4a4307749dfb2dcae",
       "version_major": 2,
       "version_minor": 0
      },
      "text/plain": [
       "0it [00:00, ?it/s]"
      ]
     },
     "metadata": {},
     "output_type": "display_data"
    },
    {
     "name": "stderr",
     "output_type": "stream",
     "text": [
      "17:03 bilby INFO    : Using sampler Dynesty with kwargs {'bound': 'multi', 'sample': 'rwalk', 'print_progress': True, 'periodic': None, 'reflective': None, 'check_point_delta_t': 1800, 'nlive': 200, 'first_update': None, 'walks': 100, 'npdim': None, 'rstate': None, 'queue_size': 1, 'pool': None, 'use_pool': None, 'live_points': None, 'logl_args': None, 'logl_kwargs': None, 'ptform_args': None, 'ptform_kwargs': None, 'enlarge': 1.5, 'bootstrap': None, 'vol_dec': 0.5, 'vol_check': 8.0, 'facc': 0.2, 'slices': 5, 'update_interval': 120, 'print_func': <bound method Dynesty._print_func of <bilby.core.sampler.dynesty.Dynesty object at 0x154de03e0>>, 'dlogz': 0.1, 'maxiter': None, 'maxcall': None, 'logl_max': inf, 'add_live': True, 'save_bounds': False, 'n_effective': None, 'maxmcmc': 5000, 'nact': 5, 'print_method': 'tqdm'}\n",
      "17:03 bilby INFO    : Checkpoint every check_point_delta_t = 600s\n",
      "17:03 bilby INFO    : Using dynesty version 1.0.1\n",
      "17:03 bilby INFO    : Using the bilby-implemented rwalk sample method with ACT estimated walks\n",
      "17:03 bilby INFO    : Resume file ../../MASQUERADE_LAE/data/lya_saves//J0100/bilby_fit_lya_testprior//4713_12817_resume.pickle does not exist.\n",
      "17:03 bilby INFO    : Generating initial points from the prior\n",
      "17:04 bilby INFO    : Written checkpoint file ../../MASQUERADE_LAE/data/lya_saves//J0100/bilby_fit_lya_testprior//4713_12817_resume.pickle\n",
      "/Users/minghao/anaconda3/envs/jwst_pypeit/lib/python3.12/site-packages/dynesty/plotting.py:179: RuntimeWarning: overflow encountered in exp\n",
      "  data = [nlive, np.exp(logl), np.exp(logwt), np.exp(logz)]\n",
      "/Users/minghao/anaconda3/envs/jwst_pypeit/lib/python3.12/site-packages/dynesty/plotting.py:203: RuntimeWarning: overflow encountered in exp\n",
      "  zspan = (0., 1.05 * np.exp(logz[-1] + 3. * logzerr[-1]))\n",
      "17:04 bilby WARNING : Axis limits cannot be NaN or Inf\n",
      "17:04 bilby WARNING : Failed to create dynesty run plot at checkpoint\n",
      "17:04 bilby INFO    : Sampling time: 0:00:35.915634\n",
      "17:04 bilby INFO    : Summary of results:\n",
      "nsamples: 1707\n",
      "ln_noise_evidence:    nan\n",
      "ln_evidence: 758.201 +/-  0.195\n",
      "ln_bayes_factor:    nan +/-  0.195\n",
      "\n"
     ]
    },
    {
     "name": "stdout",
     "output_type": "stream",
     "text": [
      "\n"
     ]
    },
    {
     "name": "stderr",
     "output_type": "stream",
     "text": [
      "/Users/minghao/Research/Projects/JWST/MASQUERADE_LAE/github/MASQUERADE_LAE/lya_stats/LAE_spec_utils.py:535: RuntimeWarning: divide by zero encountered in power\n",
      "  self.err_fnu = (self.ivar_fnu)**-0.5\n",
      "/Users/minghao/Research/Projects/JWST/MASQUERADE_LAE/github/MASQUERADE_LAE/lya_stats/LAE_spec_utils.py:541: RuntimeWarning: invalid value encountered in divide\n",
      "  self.flam = self.fnu * speed_of_light_angstrom / (self.wave)**2 * 1e-29 * 1e18\n",
      "/Users/minghao/Research/Projects/JWST/MASQUERADE_LAE/github/MASQUERADE_LAE/lya_stats/LAE_spec_utils.py:542: RuntimeWarning: divide by zero encountered in divide\n",
      "  self.err_flam = self.err_fnu * (speed_of_light_angstrom / (self.wave)**2 * 1e-29 * 1e18)\n",
      "17:04 bilby INFO    : Running for label '4713_13590', output will be saved to '../../MASQUERADE_LAE/data/lya_saves//J0100/bilby_fit_lya_testprior/'\n",
      "17:04 bilby INFO    : Search parameters:\n",
      "17:04 bilby INFO    :   center = Normal(mu=8738.027896895106, sigma=8.738027896895106, name='center', latex_label='center', unit=None, boundary=None)\n",
      "17:04 bilby INFO    :   fwhm = Normal(mu=600, sigma=200, name='fwhm', latex_label='fwhm', unit=None, boundary=None)\n",
      "17:04 bilby INFO    :   flux = Normal(mu=1.3448981322639688, sigma=1.3448981322639688, name='flux', latex_label='flux', unit=None, boundary=None)\n",
      "17:04 bilby INFO    :   A = Normal(mu=0.0208516137640164, sigma=0.0208516137640164, name='A', latex_label='A', unit=None, boundary=None)\n",
      "17:04 bilby INFO    :   beta = Normal(mu=-2, sigma=1, name='beta', latex_label='beta', unit=None, boundary=None)\n",
      "17:04 bilby INFO    :   wave0 = 8738.027896895106\n",
      "17:04 bilby INFO    : Single likelihood evaluation took 2.022e-04 s\n"
     ]
    },
    {
     "name": "stdout",
     "output_type": "stream",
     "text": [
      "found /Users/minghao/Research/Projects/JWST/ID4713/pypeit-reduc/data-release-2/reduced_spec_msaexp_pypeit/spec1d_4713_13590_stack.fits\n"
     ]
    },
    {
     "data": {
      "application/vnd.jupyter.widget-view+json": {
       "model_id": "523bb951bff445178d491ce8c49d5b46",
       "version_major": 2,
       "version_minor": 0
      },
      "text/plain": [
       "0it [00:00, ?it/s]"
      ]
     },
     "metadata": {},
     "output_type": "display_data"
    },
    {
     "name": "stderr",
     "output_type": "stream",
     "text": [
      "17:04 bilby INFO    : Using sampler Dynesty with kwargs {'bound': 'multi', 'sample': 'rwalk', 'print_progress': True, 'periodic': None, 'reflective': None, 'check_point_delta_t': 1800, 'nlive': 200, 'first_update': None, 'walks': 100, 'npdim': None, 'rstate': None, 'queue_size': 1, 'pool': None, 'use_pool': None, 'live_points': None, 'logl_args': None, 'logl_kwargs': None, 'ptform_args': None, 'ptform_kwargs': None, 'enlarge': 1.5, 'bootstrap': None, 'vol_dec': 0.5, 'vol_check': 8.0, 'facc': 0.2, 'slices': 5, 'update_interval': 120, 'print_func': <bound method Dynesty._print_func of <bilby.core.sampler.dynesty.Dynesty object at 0x1566d83e0>>, 'dlogz': 0.1, 'maxiter': None, 'maxcall': None, 'logl_max': inf, 'add_live': True, 'save_bounds': False, 'n_effective': None, 'maxmcmc': 5000, 'nact': 5, 'print_method': 'tqdm'}\n",
      "17:04 bilby INFO    : Checkpoint every check_point_delta_t = 600s\n",
      "17:04 bilby INFO    : Using dynesty version 1.0.1\n",
      "17:04 bilby INFO    : Using the bilby-implemented rwalk sample method with ACT estimated walks\n",
      "17:04 bilby INFO    : Resume file ../../MASQUERADE_LAE/data/lya_saves//J0100/bilby_fit_lya_testprior//4713_13590_resume.pickle does not exist.\n",
      "17:04 bilby INFO    : Generating initial points from the prior\n",
      "17:04 bilby INFO    : Written checkpoint file ../../MASQUERADE_LAE/data/lya_saves//J0100/bilby_fit_lya_testprior//4713_13590_resume.pickle\n",
      "17:04 bilby INFO    : Sampling time: 0:00:22.453084\n",
      "17:04 bilby INFO    : Summary of results:\n",
      "nsamples: 1468\n",
      "ln_noise_evidence:    nan\n",
      "ln_evidence: 708.239 +/-  0.162\n",
      "ln_bayes_factor:    nan +/-  0.162\n",
      "\n"
     ]
    },
    {
     "name": "stdout",
     "output_type": "stream",
     "text": [
      "\n"
     ]
    },
    {
     "name": "stderr",
     "output_type": "stream",
     "text": [
      "/Users/minghao/Research/Projects/JWST/MASQUERADE_LAE/github/MASQUERADE_LAE/lya_stats/LAE_spec_utils.py:535: RuntimeWarning: divide by zero encountered in power\n",
      "  self.err_fnu = (self.ivar_fnu)**-0.5\n",
      "/Users/minghao/Research/Projects/JWST/MASQUERADE_LAE/github/MASQUERADE_LAE/lya_stats/LAE_spec_utils.py:541: RuntimeWarning: invalid value encountered in divide\n",
      "  self.flam = self.fnu * speed_of_light_angstrom / (self.wave)**2 * 1e-29 * 1e18\n",
      "/Users/minghao/Research/Projects/JWST/MASQUERADE_LAE/github/MASQUERADE_LAE/lya_stats/LAE_spec_utils.py:542: RuntimeWarning: divide by zero encountered in divide\n",
      "  self.err_flam = self.err_fnu * (speed_of_light_angstrom / (self.wave)**2 * 1e-29 * 1e18)\n",
      "17:05 bilby INFO    : Running for label '4713_13753', output will be saved to '../../MASQUERADE_LAE/data/lya_saves//J0100/bilby_fit_lya_testprior/'\n",
      "17:05 bilby INFO    : Search parameters:\n",
      "17:05 bilby INFO    :   center = Normal(mu=8728.983806686714, sigma=8.728983806686713, name='center', latex_label='center', unit=None, boundary=None)\n",
      "17:05 bilby INFO    :   fwhm = Normal(mu=600, sigma=200, name='fwhm', latex_label='fwhm', unit=None, boundary=None)\n",
      "17:05 bilby INFO    :   flux = Normal(mu=1.7666144767333243, sigma=1.7666144767333243, name='flux', latex_label='flux', unit=None, boundary=None)\n",
      "17:05 bilby INFO    :   A = Normal(mu=0.025978528623627744, sigma=0.025978528623627744, name='A', latex_label='A', unit=None, boundary=None)\n",
      "17:05 bilby INFO    :   beta = Normal(mu=-2, sigma=1, name='beta', latex_label='beta', unit=None, boundary=None)\n",
      "17:05 bilby INFO    :   wave0 = 8728.983806686714\n",
      "17:05 bilby INFO    : Single likelihood evaluation took 2.095e-04 s\n"
     ]
    },
    {
     "name": "stdout",
     "output_type": "stream",
     "text": [
      "found /Users/minghao/Research/Projects/JWST/ID4713/pypeit-reduc/data-release-2/reduced_spec_msaexp_pypeit/spec1d_4713_13753_stack.fits\n"
     ]
    },
    {
     "data": {
      "application/vnd.jupyter.widget-view+json": {
       "model_id": "f9e87e4ebd274dd1b4a7d49cacef1299",
       "version_major": 2,
       "version_minor": 0
      },
      "text/plain": [
       "0it [00:00, ?it/s]"
      ]
     },
     "metadata": {},
     "output_type": "display_data"
    },
    {
     "name": "stderr",
     "output_type": "stream",
     "text": [
      "17:05 bilby INFO    : Using sampler Dynesty with kwargs {'bound': 'multi', 'sample': 'rwalk', 'print_progress': True, 'periodic': None, 'reflective': None, 'check_point_delta_t': 1800, 'nlive': 200, 'first_update': None, 'walks': 100, 'npdim': None, 'rstate': None, 'queue_size': 1, 'pool': None, 'use_pool': None, 'live_points': None, 'logl_args': None, 'logl_kwargs': None, 'ptform_args': None, 'ptform_kwargs': None, 'enlarge': 1.5, 'bootstrap': None, 'vol_dec': 0.5, 'vol_check': 8.0, 'facc': 0.2, 'slices': 5, 'update_interval': 120, 'print_func': <bound method Dynesty._print_func of <bilby.core.sampler.dynesty.Dynesty object at 0x1579403e0>>, 'dlogz': 0.1, 'maxiter': None, 'maxcall': None, 'logl_max': inf, 'add_live': True, 'save_bounds': False, 'n_effective': None, 'maxmcmc': 5000, 'nact': 5, 'print_method': 'tqdm'}\n",
      "17:05 bilby INFO    : Checkpoint every check_point_delta_t = 600s\n",
      "17:05 bilby INFO    : Using dynesty version 1.0.1\n",
      "17:05 bilby INFO    : Using the bilby-implemented rwalk sample method with ACT estimated walks\n",
      "17:05 bilby INFO    : Resume file ../../MASQUERADE_LAE/data/lya_saves//J0100/bilby_fit_lya_testprior//4713_13753_resume.pickle does not exist.\n",
      "17:05 bilby INFO    : Generating initial points from the prior\n",
      "17:05 bilby INFO    : Written checkpoint file ../../MASQUERADE_LAE/data/lya_saves//J0100/bilby_fit_lya_testprior//4713_13753_resume.pickle\n",
      "17:05 bilby INFO    : Sampling time: 0:00:34.653339\n",
      "17:05 bilby INFO    : Summary of results:\n",
      "nsamples: 1810\n",
      "ln_noise_evidence:    nan\n",
      "ln_evidence: 707.313 +/-  0.193\n",
      "ln_bayes_factor:    nan +/-  0.193\n",
      "\n"
     ]
    },
    {
     "name": "stdout",
     "output_type": "stream",
     "text": [
      "\n"
     ]
    },
    {
     "name": "stderr",
     "output_type": "stream",
     "text": [
      "/Users/minghao/Research/Projects/JWST/MASQUERADE_LAE/github/MASQUERADE_LAE/lya_stats/LAE_spec_utils.py:535: RuntimeWarning: divide by zero encountered in power\n",
      "  self.err_fnu = (self.ivar_fnu)**-0.5\n",
      "/Users/minghao/Research/Projects/JWST/MASQUERADE_LAE/github/MASQUERADE_LAE/lya_stats/LAE_spec_utils.py:541: RuntimeWarning: invalid value encountered in divide\n",
      "  self.flam = self.fnu * speed_of_light_angstrom / (self.wave)**2 * 1e-29 * 1e18\n",
      "/Users/minghao/Research/Projects/JWST/MASQUERADE_LAE/github/MASQUERADE_LAE/lya_stats/LAE_spec_utils.py:542: RuntimeWarning: divide by zero encountered in divide\n",
      "  self.err_flam = self.err_fnu * (speed_of_light_angstrom / (self.wave)**2 * 1e-29 * 1e18)\n",
      "17:05 bilby INFO    : Running for label '4713_13864', output will be saved to '../../MASQUERADE_LAE/data/lya_saves//J0100/bilby_fit_lya_testprior/'\n",
      "17:05 bilby INFO    : Search parameters:\n",
      "17:05 bilby INFO    :   center = Normal(mu=8845.519834712259, sigma=8.845519834712258, name='center', latex_label='center', unit=None, boundary=None)\n",
      "17:05 bilby INFO    :   fwhm = Normal(mu=600, sigma=200, name='fwhm', latex_label='fwhm', unit=None, boundary=None)\n",
      "17:05 bilby INFO    :   flux = Normal(mu=0.9099089154401778, sigma=0.9099089154401778, name='flux', latex_label='flux', unit=None, boundary=None)\n",
      "17:05 bilby INFO    :   A = Normal(mu=0.011319536229424451, sigma=0.011319536229424451, name='A', latex_label='A', unit=None, boundary=None)\n",
      "17:05 bilby INFO    :   beta = Normal(mu=-2, sigma=1, name='beta', latex_label='beta', unit=None, boundary=None)\n",
      "17:05 bilby INFO    :   wave0 = 8845.519834712259\n",
      "17:05 bilby INFO    : Single likelihood evaluation took 2.014e-04 s\n"
     ]
    },
    {
     "name": "stdout",
     "output_type": "stream",
     "text": [
      "found /Users/minghao/Research/Projects/JWST/ID4713/pypeit-reduc/data-release-2/reduced_spec_msaexp_pypeit/spec1d_4713_13864_stack.fits\n"
     ]
    },
    {
     "data": {
      "application/vnd.jupyter.widget-view+json": {
       "model_id": "4392a375e28042a1a751f4347548a7dd",
       "version_major": 2,
       "version_minor": 0
      },
      "text/plain": [
       "0it [00:00, ?it/s]"
      ]
     },
     "metadata": {},
     "output_type": "display_data"
    },
    {
     "name": "stderr",
     "output_type": "stream",
     "text": [
      "17:05 bilby INFO    : Using sampler Dynesty with kwargs {'bound': 'multi', 'sample': 'rwalk', 'print_progress': True, 'periodic': None, 'reflective': None, 'check_point_delta_t': 1800, 'nlive': 200, 'first_update': None, 'walks': 100, 'npdim': None, 'rstate': None, 'queue_size': 1, 'pool': None, 'use_pool': None, 'live_points': None, 'logl_args': None, 'logl_kwargs': None, 'ptform_args': None, 'ptform_kwargs': None, 'enlarge': 1.5, 'bootstrap': None, 'vol_dec': 0.5, 'vol_check': 8.0, 'facc': 0.2, 'slices': 5, 'update_interval': 120, 'print_func': <bound method Dynesty._print_func of <bilby.core.sampler.dynesty.Dynesty object at 0x15531ed80>>, 'dlogz': 0.1, 'maxiter': None, 'maxcall': None, 'logl_max': inf, 'add_live': True, 'save_bounds': False, 'n_effective': None, 'maxmcmc': 5000, 'nact': 5, 'print_method': 'tqdm'}\n",
      "17:05 bilby INFO    : Checkpoint every check_point_delta_t = 600s\n",
      "17:05 bilby INFO    : Using dynesty version 1.0.1\n",
      "17:05 bilby INFO    : Using the bilby-implemented rwalk sample method with ACT estimated walks\n",
      "17:05 bilby INFO    : Resume file ../../MASQUERADE_LAE/data/lya_saves//J0100/bilby_fit_lya_testprior//4713_13864_resume.pickle does not exist.\n",
      "17:05 bilby INFO    : Generating initial points from the prior\n",
      "17:06 bilby INFO    : Written checkpoint file ../../MASQUERADE_LAE/data/lya_saves//J0100/bilby_fit_lya_testprior//4713_13864_resume.pickle\n",
      "/Users/minghao/anaconda3/envs/jwst_pypeit/lib/python3.12/site-packages/dynesty/plotting.py:179: RuntimeWarning: overflow encountered in exp\n",
      "  data = [nlive, np.exp(logl), np.exp(logwt), np.exp(logz)]\n",
      "/Users/minghao/anaconda3/envs/jwst_pypeit/lib/python3.12/site-packages/dynesty/plotting.py:203: RuntimeWarning: overflow encountered in exp\n",
      "  zspan = (0., 1.05 * np.exp(logz[-1] + 3. * logzerr[-1]))\n",
      "17:06 bilby WARNING : Axis limits cannot be NaN or Inf\n",
      "17:06 bilby WARNING : Failed to create dynesty run plot at checkpoint\n",
      "17:06 bilby INFO    : Sampling time: 0:00:33.098736\n",
      "17:06 bilby INFO    : Summary of results:\n",
      "nsamples: 1811\n",
      "ln_noise_evidence:    nan\n",
      "ln_evidence: 926.798 +/-  0.198\n",
      "ln_bayes_factor:    nan +/-  0.198\n",
      "\n"
     ]
    },
    {
     "name": "stdout",
     "output_type": "stream",
     "text": [
      "\n"
     ]
    },
    {
     "name": "stderr",
     "output_type": "stream",
     "text": [
      "/Users/minghao/Research/Projects/JWST/MASQUERADE_LAE/github/MASQUERADE_LAE/lya_stats/LAE_spec_utils.py:535: RuntimeWarning: divide by zero encountered in power\n",
      "  self.err_fnu = (self.ivar_fnu)**-0.5\n",
      "/Users/minghao/Research/Projects/JWST/MASQUERADE_LAE/github/MASQUERADE_LAE/lya_stats/LAE_spec_utils.py:541: RuntimeWarning: invalid value encountered in divide\n",
      "  self.flam = self.fnu * speed_of_light_angstrom / (self.wave)**2 * 1e-29 * 1e18\n",
      "/Users/minghao/Research/Projects/JWST/MASQUERADE_LAE/github/MASQUERADE_LAE/lya_stats/LAE_spec_utils.py:542: RuntimeWarning: divide by zero encountered in divide\n",
      "  self.err_flam = self.err_fnu * (speed_of_light_angstrom / (self.wave)**2 * 1e-29 * 1e18)\n",
      "17:06 bilby INFO    : Running for label '4713_15162', output will be saved to '../../MASQUERADE_LAE/data/lya_saves//J0100/bilby_fit_lya_testprior/'\n",
      "17:06 bilby INFO    : Search parameters:\n",
      "17:06 bilby INFO    :   center = Normal(mu=8744.905328162937, sigma=8.744905328162936, name='center', latex_label='center', unit=None, boundary=None)\n",
      "17:06 bilby INFO    :   fwhm = Normal(mu=600, sigma=200, name='fwhm', latex_label='fwhm', unit=None, boundary=None)\n",
      "17:06 bilby INFO    :   flux = Normal(mu=1.0916794154814136, sigma=1.0916794154814136, name='flux', latex_label='flux', unit=None, boundary=None)\n",
      "17:06 bilby INFO    :   A = Normal(mu=0.015995595594905116, sigma=0.015995595594905116, name='A', latex_label='A', unit=None, boundary=None)\n",
      "17:06 bilby INFO    :   beta = Normal(mu=-2, sigma=1, name='beta', latex_label='beta', unit=None, boundary=None)\n",
      "17:06 bilby INFO    :   wave0 = 8744.905328162937\n",
      "17:06 bilby INFO    : Single likelihood evaluation took 1.593e-04 s\n"
     ]
    },
    {
     "name": "stdout",
     "output_type": "stream",
     "text": [
      "found /Users/minghao/Research/Projects/JWST/ID4713/pypeit-reduc/data-release-2/reduced_spec_msaexp_pypeit/spec1d_4713_15162_stack.fits\n"
     ]
    },
    {
     "data": {
      "application/vnd.jupyter.widget-view+json": {
       "model_id": "e46582fd6d6f448aa8a917b7ae558f16",
       "version_major": 2,
       "version_minor": 0
      },
      "text/plain": [
       "0it [00:00, ?it/s]"
      ]
     },
     "metadata": {},
     "output_type": "display_data"
    },
    {
     "name": "stderr",
     "output_type": "stream",
     "text": [
      "17:06 bilby INFO    : Using sampler Dynesty with kwargs {'bound': 'multi', 'sample': 'rwalk', 'print_progress': True, 'periodic': None, 'reflective': None, 'check_point_delta_t': 1800, 'nlive': 200, 'first_update': None, 'walks': 100, 'npdim': None, 'rstate': None, 'queue_size': 1, 'pool': None, 'use_pool': None, 'live_points': None, 'logl_args': None, 'logl_kwargs': None, 'ptform_args': None, 'ptform_kwargs': None, 'enlarge': 1.5, 'bootstrap': None, 'vol_dec': 0.5, 'vol_check': 8.0, 'facc': 0.2, 'slices': 5, 'update_interval': 120, 'print_func': <bound method Dynesty._print_func of <bilby.core.sampler.dynesty.Dynesty object at 0x1534303e0>>, 'dlogz': 0.1, 'maxiter': None, 'maxcall': None, 'logl_max': inf, 'add_live': True, 'save_bounds': False, 'n_effective': None, 'maxmcmc': 5000, 'nact': 5, 'print_method': 'tqdm'}\n",
      "17:06 bilby INFO    : Checkpoint every check_point_delta_t = 600s\n",
      "17:06 bilby INFO    : Using dynesty version 1.0.1\n",
      "17:06 bilby INFO    : Using the bilby-implemented rwalk sample method with ACT estimated walks\n",
      "17:06 bilby INFO    : Resume file ../../MASQUERADE_LAE/data/lya_saves//J0100/bilby_fit_lya_testprior//4713_15162_resume.pickle does not exist.\n",
      "17:06 bilby INFO    : Generating initial points from the prior\n",
      "17:06 bilby INFO    : Written checkpoint file ../../MASQUERADE_LAE/data/lya_saves//J0100/bilby_fit_lya_testprior//4713_15162_resume.pickle\n",
      "17:06 bilby INFO    : Sampling time: 0:00:33.277192\n",
      "17:06 bilby INFO    : Summary of results:\n",
      "nsamples: 1763\n",
      "ln_noise_evidence:    nan\n",
      "ln_evidence: 640.943 +/-  0.195\n",
      "ln_bayes_factor:    nan +/-  0.195\n",
      "\n"
     ]
    },
    {
     "name": "stdout",
     "output_type": "stream",
     "text": [
      "\n"
     ]
    },
    {
     "name": "stderr",
     "output_type": "stream",
     "text": [
      "/Users/minghao/Research/Projects/JWST/MASQUERADE_LAE/github/MASQUERADE_LAE/lya_stats/LAE_spec_utils.py:535: RuntimeWarning: divide by zero encountered in power\n",
      "  self.err_fnu = (self.ivar_fnu)**-0.5\n",
      "/Users/minghao/Research/Projects/JWST/MASQUERADE_LAE/github/MASQUERADE_LAE/lya_stats/LAE_spec_utils.py:541: RuntimeWarning: invalid value encountered in divide\n",
      "  self.flam = self.fnu * speed_of_light_angstrom / (self.wave)**2 * 1e-29 * 1e18\n",
      "/Users/minghao/Research/Projects/JWST/MASQUERADE_LAE/github/MASQUERADE_LAE/lya_stats/LAE_spec_utils.py:542: RuntimeWarning: divide by zero encountered in divide\n",
      "  self.err_flam = self.err_fnu * (speed_of_light_angstrom / (self.wave)**2 * 1e-29 * 1e18)\n",
      "17:06 bilby INFO    : Running for label '4713_15437', output will be saved to '../../MASQUERADE_LAE/data/lya_saves//J0100/bilby_fit_lya_testprior/'\n",
      "17:06 bilby INFO    : Search parameters:\n",
      "17:06 bilby INFO    :   center = Normal(mu=9443.182734431206, sigma=9.443182734431206, name='center', latex_label='center', unit=None, boundary=None)\n",
      "17:06 bilby INFO    :   fwhm = Normal(mu=600, sigma=200, name='fwhm', latex_label='fwhm', unit=None, boundary=None)\n",
      "17:06 bilby INFO    :   flux = Normal(mu=1.192592890563806, sigma=1.192592890563806, name='flux', latex_label='flux', unit=None, boundary=None)\n",
      "17:06 bilby INFO    :   A = Normal(mu=0.014514722914122907, sigma=0.014514722914122907, name='A', latex_label='A', unit=None, boundary=None)\n",
      "17:06 bilby INFO    :   beta = Normal(mu=-2, sigma=1, name='beta', latex_label='beta', unit=None, boundary=None)\n",
      "17:06 bilby INFO    :   wave0 = 9443.182734431206\n",
      "17:06 bilby INFO    : Single likelihood evaluation took 2.370e-04 s\n"
     ]
    },
    {
     "name": "stdout",
     "output_type": "stream",
     "text": [
      "found /Users/minghao/Research/Projects/JWST/ID4713/pypeit-reduc/data-release-2/reduced_spec_msaexp_pypeit/spec1d_4713_15437_stack.fits\n"
     ]
    },
    {
     "data": {
      "application/vnd.jupyter.widget-view+json": {
       "model_id": "ea69385bc57e448baadaffcd20a85ca6",
       "version_major": 2,
       "version_minor": 0
      },
      "text/plain": [
       "0it [00:00, ?it/s]"
      ]
     },
     "metadata": {},
     "output_type": "display_data"
    },
    {
     "name": "stderr",
     "output_type": "stream",
     "text": [
      "17:06 bilby INFO    : Using sampler Dynesty with kwargs {'bound': 'multi', 'sample': 'rwalk', 'print_progress': True, 'periodic': None, 'reflective': None, 'check_point_delta_t': 1800, 'nlive': 200, 'first_update': None, 'walks': 100, 'npdim': None, 'rstate': None, 'queue_size': 1, 'pool': None, 'use_pool': None, 'live_points': None, 'logl_args': None, 'logl_kwargs': None, 'ptform_args': None, 'ptform_kwargs': None, 'enlarge': 1.5, 'bootstrap': None, 'vol_dec': 0.5, 'vol_check': 8.0, 'facc': 0.2, 'slices': 5, 'update_interval': 120, 'print_func': <bound method Dynesty._print_func of <bilby.core.sampler.dynesty.Dynesty object at 0x15a41c530>>, 'dlogz': 0.1, 'maxiter': None, 'maxcall': None, 'logl_max': inf, 'add_live': True, 'save_bounds': False, 'n_effective': None, 'maxmcmc': 5000, 'nact': 5, 'print_method': 'tqdm'}\n",
      "17:06 bilby INFO    : Checkpoint every check_point_delta_t = 600s\n",
      "17:06 bilby INFO    : Using dynesty version 1.0.1\n",
      "17:06 bilby INFO    : Using the bilby-implemented rwalk sample method with ACT estimated walks\n",
      "17:06 bilby INFO    : Resume file ../../MASQUERADE_LAE/data/lya_saves//J0100/bilby_fit_lya_testprior//4713_15437_resume.pickle does not exist.\n",
      "17:06 bilby INFO    : Generating initial points from the prior\n",
      "17:07 bilby INFO    : Written checkpoint file ../../MASQUERADE_LAE/data/lya_saves//J0100/bilby_fit_lya_testprior//4713_15437_resume.pickle\n",
      "/Users/minghao/anaconda3/envs/jwst_pypeit/lib/python3.12/site-packages/dynesty/plotting.py:179: RuntimeWarning: overflow encountered in exp\n",
      "  data = [nlive, np.exp(logl), np.exp(logwt), np.exp(logz)]\n",
      "/Users/minghao/anaconda3/envs/jwst_pypeit/lib/python3.12/site-packages/dynesty/plotting.py:203: RuntimeWarning: overflow encountered in exp\n",
      "  zspan = (0., 1.05 * np.exp(logz[-1] + 3. * logzerr[-1]))\n",
      "17:07 bilby WARNING : Axis limits cannot be NaN or Inf\n",
      "17:07 bilby WARNING : Failed to create dynesty run plot at checkpoint\n",
      "17:07 bilby INFO    : Sampling time: 0:00:31.987041\n",
      "17:07 bilby INFO    : Summary of results:\n",
      "nsamples: 1668\n",
      "ln_noise_evidence:    nan\n",
      "ln_evidence: 905.804 +/-  0.180\n",
      "ln_bayes_factor:    nan +/-  0.180\n",
      "\n"
     ]
    },
    {
     "name": "stdout",
     "output_type": "stream",
     "text": [
      "\n"
     ]
    },
    {
     "name": "stderr",
     "output_type": "stream",
     "text": [
      "/Users/minghao/Research/Projects/JWST/MASQUERADE_LAE/github/MASQUERADE_LAE/lya_stats/LAE_spec_utils.py:535: RuntimeWarning: divide by zero encountered in power\n",
      "  self.err_fnu = (self.ivar_fnu)**-0.5\n",
      "/Users/minghao/Research/Projects/JWST/MASQUERADE_LAE/github/MASQUERADE_LAE/lya_stats/LAE_spec_utils.py:541: RuntimeWarning: invalid value encountered in divide\n",
      "  self.flam = self.fnu * speed_of_light_angstrom / (self.wave)**2 * 1e-29 * 1e18\n",
      "/Users/minghao/Research/Projects/JWST/MASQUERADE_LAE/github/MASQUERADE_LAE/lya_stats/LAE_spec_utils.py:542: RuntimeWarning: divide by zero encountered in divide\n",
      "  self.err_flam = self.err_fnu * (speed_of_light_angstrom / (self.wave)**2 * 1e-29 * 1e18)\n",
      "17:07 bilby INFO    : Running for label '4713_15612', output will be saved to '../../MASQUERADE_LAE/data/lya_saves//J0100/bilby_fit_lya_testprior/'\n",
      "17:07 bilby INFO    : Search parameters:\n",
      "17:07 bilby INFO    :   center = Normal(mu=9438.311025209485, sigma=9.438311025209485, name='center', latex_label='center', unit=None, boundary=None)\n",
      "17:07 bilby INFO    :   fwhm = Normal(mu=600, sigma=200, name='fwhm', latex_label='fwhm', unit=None, boundary=None)\n",
      "17:07 bilby INFO    :   flux = Normal(mu=1.0160031135050958, sigma=1.0160031135050958, name='flux', latex_label='flux', unit=None, boundary=None)\n",
      "17:07 bilby INFO    :   A = Normal(mu=0.01744566531338082, sigma=0.01744566531338082, name='A', latex_label='A', unit=None, boundary=None)\n",
      "17:07 bilby INFO    :   beta = Normal(mu=-2, sigma=1, name='beta', latex_label='beta', unit=None, boundary=None)\n",
      "17:07 bilby INFO    :   wave0 = 9438.311025209485\n",
      "17:07 bilby INFO    : Single likelihood evaluation took 1.605e-04 s\n"
     ]
    },
    {
     "name": "stdout",
     "output_type": "stream",
     "text": [
      "found /Users/minghao/Research/Projects/JWST/ID4713/pypeit-reduc/data-release-2/reduced_spec_msaexp_pypeit/spec1d_4713_15612_stack.fits\n"
     ]
    },
    {
     "data": {
      "application/vnd.jupyter.widget-view+json": {
       "model_id": "137d5461e48f4627aef15123c8e2848e",
       "version_major": 2,
       "version_minor": 0
      },
      "text/plain": [
       "0it [00:00, ?it/s]"
      ]
     },
     "metadata": {},
     "output_type": "display_data"
    },
    {
     "name": "stderr",
     "output_type": "stream",
     "text": [
      "17:07 bilby INFO    : Using sampler Dynesty with kwargs {'bound': 'multi', 'sample': 'rwalk', 'print_progress': True, 'periodic': None, 'reflective': None, 'check_point_delta_t': 1800, 'nlive': 200, 'first_update': None, 'walks': 100, 'npdim': None, 'rstate': None, 'queue_size': 1, 'pool': None, 'use_pool': None, 'live_points': None, 'logl_args': None, 'logl_kwargs': None, 'ptform_args': None, 'ptform_kwargs': None, 'enlarge': 1.5, 'bootstrap': None, 'vol_dec': 0.5, 'vol_check': 8.0, 'facc': 0.2, 'slices': 5, 'update_interval': 120, 'print_func': <bound method Dynesty._print_func of <bilby.core.sampler.dynesty.Dynesty object at 0x15bb5c5f0>>, 'dlogz': 0.1, 'maxiter': None, 'maxcall': None, 'logl_max': inf, 'add_live': True, 'save_bounds': False, 'n_effective': None, 'maxmcmc': 5000, 'nact': 5, 'print_method': 'tqdm'}\n",
      "17:07 bilby INFO    : Checkpoint every check_point_delta_t = 600s\n",
      "17:07 bilby INFO    : Using dynesty version 1.0.1\n",
      "17:07 bilby INFO    : Using the bilby-implemented rwalk sample method with ACT estimated walks\n",
      "17:07 bilby INFO    : Resume file ../../MASQUERADE_LAE/data/lya_saves//J0100/bilby_fit_lya_testprior//4713_15612_resume.pickle does not exist.\n",
      "17:07 bilby INFO    : Generating initial points from the prior\n",
      "17:07 bilby INFO    : Written checkpoint file ../../MASQUERADE_LAE/data/lya_saves//J0100/bilby_fit_lya_testprior//4713_15612_resume.pickle\n",
      "17:07 bilby INFO    : Sampling time: 0:00:33.225185\n",
      "17:07 bilby INFO    : Summary of results:\n",
      "nsamples: 1705\n",
      "ln_noise_evidence:    nan\n",
      "ln_evidence: 558.854 +/-  0.174\n",
      "ln_bayes_factor:    nan +/-  0.174\n",
      "\n"
     ]
    },
    {
     "name": "stdout",
     "output_type": "stream",
     "text": [
      "\n"
     ]
    },
    {
     "name": "stderr",
     "output_type": "stream",
     "text": [
      "/Users/minghao/Research/Projects/JWST/MASQUERADE_LAE/github/MASQUERADE_LAE/lya_stats/LAE_spec_utils.py:535: RuntimeWarning: divide by zero encountered in power\n",
      "  self.err_fnu = (self.ivar_fnu)**-0.5\n",
      "/Users/minghao/Research/Projects/JWST/MASQUERADE_LAE/github/MASQUERADE_LAE/lya_stats/LAE_spec_utils.py:541: RuntimeWarning: invalid value encountered in divide\n",
      "  self.flam = self.fnu * speed_of_light_angstrom / (self.wave)**2 * 1e-29 * 1e18\n",
      "/Users/minghao/Research/Projects/JWST/MASQUERADE_LAE/github/MASQUERADE_LAE/lya_stats/LAE_spec_utils.py:542: RuntimeWarning: divide by zero encountered in divide\n",
      "  self.err_flam = self.err_fnu * (speed_of_light_angstrom / (self.wave)**2 * 1e-29 * 1e18)\n",
      "17:07 bilby INFO    : Running for label '4713_15627', output will be saved to '../../MASQUERADE_LAE/data/lya_saves//J0100/bilby_fit_lya_testprior/'\n",
      "17:07 bilby INFO    : Search parameters:\n",
      "17:07 bilby INFO    :   center = Normal(mu=8757.72580048315, sigma=8.757725800483149, name='center', latex_label='center', unit=None, boundary=None)\n",
      "17:07 bilby INFO    :   fwhm = Normal(mu=600, sigma=200, name='fwhm', latex_label='fwhm', unit=None, boundary=None)\n",
      "17:07 bilby INFO    :   flux = Normal(mu=1.2336486078086577, sigma=1.2336486078086577, name='flux', latex_label='flux', unit=None, boundary=None)\n",
      "17:07 bilby INFO    :   A = Normal(mu=0.017097483367525534, sigma=0.017097483367525534, name='A', latex_label='A', unit=None, boundary=None)\n",
      "17:07 bilby INFO    :   beta = Normal(mu=-2, sigma=1, name='beta', latex_label='beta', unit=None, boundary=None)\n",
      "17:07 bilby INFO    :   wave0 = 8757.72580048315\n",
      "17:07 bilby INFO    : Single likelihood evaluation took 1.449e-04 s\n"
     ]
    },
    {
     "name": "stdout",
     "output_type": "stream",
     "text": [
      "found /Users/minghao/Research/Projects/JWST/ID4713/pypeit-reduc/data-release-2/reduced_spec_msaexp_pypeit/manu1d_4713_15627_stack.fits\n"
     ]
    },
    {
     "data": {
      "application/vnd.jupyter.widget-view+json": {
       "model_id": "1216afd9a86d4c28bf8f621ae3e5ebf8",
       "version_major": 2,
       "version_minor": 0
      },
      "text/plain": [
       "0it [00:00, ?it/s]"
      ]
     },
     "metadata": {},
     "output_type": "display_data"
    },
    {
     "name": "stderr",
     "output_type": "stream",
     "text": [
      "17:07 bilby INFO    : Using sampler Dynesty with kwargs {'bound': 'multi', 'sample': 'rwalk', 'print_progress': True, 'periodic': None, 'reflective': None, 'check_point_delta_t': 1800, 'nlive': 200, 'first_update': None, 'walks': 100, 'npdim': None, 'rstate': None, 'queue_size': 1, 'pool': None, 'use_pool': None, 'live_points': None, 'logl_args': None, 'logl_kwargs': None, 'ptform_args': None, 'ptform_kwargs': None, 'enlarge': 1.5, 'bootstrap': None, 'vol_dec': 0.5, 'vol_check': 8.0, 'facc': 0.2, 'slices': 5, 'update_interval': 120, 'print_func': <bound method Dynesty._print_func of <bilby.core.sampler.dynesty.Dynesty object at 0x15a22c9e0>>, 'dlogz': 0.1, 'maxiter': None, 'maxcall': None, 'logl_max': inf, 'add_live': True, 'save_bounds': False, 'n_effective': None, 'maxmcmc': 5000, 'nact': 5, 'print_method': 'tqdm'}\n",
      "17:07 bilby INFO    : Checkpoint every check_point_delta_t = 600s\n",
      "17:07 bilby INFO    : Using dynesty version 1.0.1\n",
      "17:07 bilby INFO    : Using the bilby-implemented rwalk sample method with ACT estimated walks\n",
      "17:07 bilby INFO    : Resume file ../../MASQUERADE_LAE/data/lya_saves//J0100/bilby_fit_lya_testprior//4713_15627_resume.pickle does not exist.\n",
      "17:07 bilby INFO    : Generating initial points from the prior\n",
      "17:08 bilby INFO    : Written checkpoint file ../../MASQUERADE_LAE/data/lya_saves//J0100/bilby_fit_lya_testprior//4713_15627_resume.pickle\n",
      "17:08 bilby INFO    : Sampling time: 0:00:31.589652\n",
      "17:08 bilby INFO    : Summary of results:\n",
      "nsamples: 1630\n",
      "ln_noise_evidence:    nan\n",
      "ln_evidence: 521.205 +/-  0.179\n",
      "ln_bayes_factor:    nan +/-  0.179\n",
      "\n"
     ]
    },
    {
     "name": "stdout",
     "output_type": "stream",
     "text": [
      "\n"
     ]
    },
    {
     "name": "stderr",
     "output_type": "stream",
     "text": [
      "/Users/minghao/Research/Projects/JWST/MASQUERADE_LAE/github/MASQUERADE_LAE/lya_stats/LAE_spec_utils.py:535: RuntimeWarning: divide by zero encountered in power\n",
      "  self.err_fnu = (self.ivar_fnu)**-0.5\n",
      "/Users/minghao/Research/Projects/JWST/MASQUERADE_LAE/github/MASQUERADE_LAE/lya_stats/LAE_spec_utils.py:541: RuntimeWarning: invalid value encountered in divide\n",
      "  self.flam = self.fnu * speed_of_light_angstrom / (self.wave)**2 * 1e-29 * 1e18\n",
      "/Users/minghao/Research/Projects/JWST/MASQUERADE_LAE/github/MASQUERADE_LAE/lya_stats/LAE_spec_utils.py:542: RuntimeWarning: divide by zero encountered in divide\n",
      "  self.err_flam = self.err_fnu * (speed_of_light_angstrom / (self.wave)**2 * 1e-29 * 1e18)\n",
      "17:08 bilby INFO    : Running for label '4713_16184', output will be saved to '../../MASQUERADE_LAE/data/lya_saves//J0100/bilby_fit_lya_testprior/'\n",
      "17:08 bilby INFO    : Search parameters:\n",
      "17:08 bilby INFO    :   center = Normal(mu=8228.883457037658, sigma=8.228883457037659, name='center', latex_label='center', unit=None, boundary=None)\n",
      "17:08 bilby INFO    :   fwhm = Normal(mu=600, sigma=200, name='fwhm', latex_label='fwhm', unit=None, boundary=None)\n",
      "17:08 bilby INFO    :   flux = Normal(mu=1.8398483654120694, sigma=1.8398483654120694, name='flux', latex_label='flux', unit=None, boundary=None)\n",
      "17:08 bilby INFO    :   A = Normal(mu=0.020533861478586702, sigma=0.020533861478586702, name='A', latex_label='A', unit=None, boundary=None)\n",
      "17:08 bilby INFO    :   beta = Normal(mu=-2, sigma=1, name='beta', latex_label='beta', unit=None, boundary=None)\n",
      "17:08 bilby INFO    :   wave0 = 8228.883457037658\n",
      "17:08 bilby INFO    : Single likelihood evaluation took 2.525e-04 s\n"
     ]
    },
    {
     "name": "stdout",
     "output_type": "stream",
     "text": [
      "found /Users/minghao/Research/Projects/JWST/ID4713/pypeit-reduc/data-release-2/reduced_spec_msaexp_pypeit/manu1d_4713_16184_stack.fits\n"
     ]
    },
    {
     "data": {
      "application/vnd.jupyter.widget-view+json": {
       "model_id": "1b83588a5a9643dd926a38a37852f063",
       "version_major": 2,
       "version_minor": 0
      },
      "text/plain": [
       "0it [00:00, ?it/s]"
      ]
     },
     "metadata": {},
     "output_type": "display_data"
    },
    {
     "name": "stderr",
     "output_type": "stream",
     "text": [
      "17:08 bilby INFO    : Using sampler Dynesty with kwargs {'bound': 'multi', 'sample': 'rwalk', 'print_progress': True, 'periodic': None, 'reflective': None, 'check_point_delta_t': 1800, 'nlive': 200, 'first_update': None, 'walks': 100, 'npdim': None, 'rstate': None, 'queue_size': 1, 'pool': None, 'use_pool': None, 'live_points': None, 'logl_args': None, 'logl_kwargs': None, 'ptform_args': None, 'ptform_kwargs': None, 'enlarge': 1.5, 'bootstrap': None, 'vol_dec': 0.5, 'vol_check': 8.0, 'facc': 0.2, 'slices': 5, 'update_interval': 120, 'print_func': <bound method Dynesty._print_func of <bilby.core.sampler.dynesty.Dynesty object at 0x15df8aae0>>, 'dlogz': 0.1, 'maxiter': None, 'maxcall': None, 'logl_max': inf, 'add_live': True, 'save_bounds': False, 'n_effective': None, 'maxmcmc': 5000, 'nact': 5, 'print_method': 'tqdm'}\n",
      "17:08 bilby INFO    : Checkpoint every check_point_delta_t = 600s\n",
      "17:08 bilby INFO    : Using dynesty version 1.0.1\n",
      "17:08 bilby INFO    : Using the bilby-implemented rwalk sample method with ACT estimated walks\n",
      "17:08 bilby INFO    : Resume file ../../MASQUERADE_LAE/data/lya_saves//J0100/bilby_fit_lya_testprior//4713_16184_resume.pickle does not exist.\n",
      "17:08 bilby INFO    : Generating initial points from the prior\n",
      "17:08 bilby INFO    : Written checkpoint file ../../MASQUERADE_LAE/data/lya_saves//J0100/bilby_fit_lya_testprior//4713_16184_resume.pickle\n",
      "17:08 bilby INFO    : Sampling time: 0:00:29.973590\n",
      "17:08 bilby INFO    : Summary of results:\n",
      "nsamples: 1729\n",
      "ln_noise_evidence:    nan\n",
      "ln_evidence: 615.397 +/-  0.181\n",
      "ln_bayes_factor:    nan +/-  0.181\n",
      "\n"
     ]
    },
    {
     "name": "stdout",
     "output_type": "stream",
     "text": [
      "\n"
     ]
    },
    {
     "name": "stderr",
     "output_type": "stream",
     "text": [
      "/Users/minghao/Research/Projects/JWST/MASQUERADE_LAE/github/MASQUERADE_LAE/lya_stats/LAE_spec_utils.py:535: RuntimeWarning: divide by zero encountered in power\n",
      "  self.err_fnu = (self.ivar_fnu)**-0.5\n",
      "/Users/minghao/Research/Projects/JWST/MASQUERADE_LAE/github/MASQUERADE_LAE/lya_stats/LAE_spec_utils.py:541: RuntimeWarning: invalid value encountered in divide\n",
      "  self.flam = self.fnu * speed_of_light_angstrom / (self.wave)**2 * 1e-29 * 1e18\n",
      "/Users/minghao/Research/Projects/JWST/MASQUERADE_LAE/github/MASQUERADE_LAE/lya_stats/LAE_spec_utils.py:542: RuntimeWarning: divide by zero encountered in divide\n",
      "  self.err_flam = self.err_fnu * (speed_of_light_angstrom / (self.wave)**2 * 1e-29 * 1e18)\n",
      "17:09 bilby INFO    : Running for label '4713_16322', output will be saved to '../../MASQUERADE_LAE/data/lya_saves//J0100/bilby_fit_lya_testprior/'\n",
      "17:09 bilby INFO    : Search parameters:\n",
      "17:09 bilby INFO    :   center = Normal(mu=8902.394424902828, sigma=8.902394424902829, name='center', latex_label='center', unit=None, boundary=None)\n",
      "17:09 bilby INFO    :   fwhm = Normal(mu=600, sigma=200, name='fwhm', latex_label='fwhm', unit=None, boundary=None)\n",
      "17:09 bilby INFO    :   flux = Normal(mu=1.258037397564723, sigma=1.258037397564723, name='flux', latex_label='flux', unit=None, boundary=None)\n",
      "17:09 bilby INFO    :   A = Normal(mu=0.017801973743143774, sigma=0.017801973743143774, name='A', latex_label='A', unit=None, boundary=None)\n",
      "17:09 bilby INFO    :   beta = Normal(mu=-2, sigma=1, name='beta', latex_label='beta', unit=None, boundary=None)\n",
      "17:09 bilby INFO    :   wave0 = 8902.394424902828\n",
      "17:09 bilby INFO    : Single likelihood evaluation took 2.034e-04 s\n"
     ]
    },
    {
     "name": "stdout",
     "output_type": "stream",
     "text": [
      "found /Users/minghao/Research/Projects/JWST/ID4713/pypeit-reduc/data-release-2/reduced_spec_msaexp_pypeit/spec1d_4713_16322_stack.fits\n"
     ]
    },
    {
     "data": {
      "application/vnd.jupyter.widget-view+json": {
       "model_id": "037a1c1bc82b406d9129ac4fbed0295c",
       "version_major": 2,
       "version_minor": 0
      },
      "text/plain": [
       "0it [00:00, ?it/s]"
      ]
     },
     "metadata": {},
     "output_type": "display_data"
    },
    {
     "name": "stderr",
     "output_type": "stream",
     "text": [
      "17:09 bilby INFO    : Using sampler Dynesty with kwargs {'bound': 'multi', 'sample': 'rwalk', 'print_progress': True, 'periodic': None, 'reflective': None, 'check_point_delta_t': 1800, 'nlive': 200, 'first_update': None, 'walks': 100, 'npdim': None, 'rstate': None, 'queue_size': 1, 'pool': None, 'use_pool': None, 'live_points': None, 'logl_args': None, 'logl_kwargs': None, 'ptform_args': None, 'ptform_kwargs': None, 'enlarge': 1.5, 'bootstrap': None, 'vol_dec': 0.5, 'vol_check': 8.0, 'facc': 0.2, 'slices': 5, 'update_interval': 120, 'print_func': <bound method Dynesty._print_func of <bilby.core.sampler.dynesty.Dynesty object at 0x15f3e4e90>>, 'dlogz': 0.1, 'maxiter': None, 'maxcall': None, 'logl_max': inf, 'add_live': True, 'save_bounds': False, 'n_effective': None, 'maxmcmc': 5000, 'nact': 5, 'print_method': 'tqdm'}\n",
      "17:09 bilby INFO    : Checkpoint every check_point_delta_t = 600s\n",
      "17:09 bilby INFO    : Using dynesty version 1.0.1\n",
      "17:09 bilby INFO    : Using the bilby-implemented rwalk sample method with ACT estimated walks\n",
      "17:09 bilby INFO    : Resume file ../../MASQUERADE_LAE/data/lya_saves//J0100/bilby_fit_lya_testprior//4713_16322_resume.pickle does not exist.\n",
      "17:09 bilby INFO    : Generating initial points from the prior\n",
      "17:09 bilby INFO    : Written checkpoint file ../../MASQUERADE_LAE/data/lya_saves//J0100/bilby_fit_lya_testprior//4713_16322_resume.pickle\n",
      "/Users/minghao/anaconda3/envs/jwst_pypeit/lib/python3.12/site-packages/dynesty/plotting.py:179: RuntimeWarning: overflow encountered in exp\n",
      "  data = [nlive, np.exp(logl), np.exp(logwt), np.exp(logz)]\n",
      "/Users/minghao/anaconda3/envs/jwst_pypeit/lib/python3.12/site-packages/dynesty/plotting.py:203: RuntimeWarning: overflow encountered in exp\n",
      "  zspan = (0., 1.05 * np.exp(logz[-1] + 3. * logzerr[-1]))\n",
      "17:09 bilby WARNING : Axis limits cannot be NaN or Inf\n",
      "17:09 bilby WARNING : Failed to create dynesty run plot at checkpoint\n",
      "17:09 bilby INFO    : Sampling time: 0:00:30.384581\n",
      "17:09 bilby INFO    : Summary of results:\n",
      "nsamples: 1687\n",
      "ln_noise_evidence:    nan\n",
      "ln_evidence: 848.229 +/-  0.186\n",
      "ln_bayes_factor:    nan +/-  0.186\n",
      "\n"
     ]
    },
    {
     "name": "stdout",
     "output_type": "stream",
     "text": [
      "\n"
     ]
    },
    {
     "name": "stderr",
     "output_type": "stream",
     "text": [
      "/Users/minghao/Research/Projects/JWST/MASQUERADE_LAE/github/MASQUERADE_LAE/lya_stats/LAE_spec_utils.py:535: RuntimeWarning: divide by zero encountered in power\n",
      "  self.err_fnu = (self.ivar_fnu)**-0.5\n",
      "/Users/minghao/Research/Projects/JWST/MASQUERADE_LAE/github/MASQUERADE_LAE/lya_stats/LAE_spec_utils.py:541: RuntimeWarning: invalid value encountered in divide\n",
      "  self.flam = self.fnu * speed_of_light_angstrom / (self.wave)**2 * 1e-29 * 1e18\n",
      "/Users/minghao/Research/Projects/JWST/MASQUERADE_LAE/github/MASQUERADE_LAE/lya_stats/LAE_spec_utils.py:542: RuntimeWarning: divide by zero encountered in divide\n",
      "  self.err_flam = self.err_fnu * (speed_of_light_angstrom / (self.wave)**2 * 1e-29 * 1e18)\n",
      "17:09 bilby INFO    : Running for label '4713_16479', output will be saved to '../../MASQUERADE_LAE/data/lya_saves//J0100/bilby_fit_lya_testprior/'\n",
      "17:09 bilby INFO    : Search parameters:\n",
      "17:09 bilby INFO    :   center = Normal(mu=8915.440474333609, sigma=8.915440474333609, name='center', latex_label='center', unit=None, boundary=None)\n",
      "17:09 bilby INFO    :   fwhm = Normal(mu=600, sigma=200, name='fwhm', latex_label='fwhm', unit=None, boundary=None)\n",
      "17:09 bilby INFO    :   flux = Normal(mu=10.176606318928272, sigma=10.176606318928272, name='flux', latex_label='flux', unit=None, boundary=None)\n",
      "17:09 bilby INFO    :   A = Normal(mu=0.025671937294795014, sigma=0.025671937294795014, name='A', latex_label='A', unit=None, boundary=None)\n",
      "17:09 bilby INFO    :   beta = Normal(mu=-2, sigma=1, name='beta', latex_label='beta', unit=None, boundary=None)\n",
      "17:09 bilby INFO    :   wave0 = 8915.440474333609\n",
      "17:09 bilby INFO    : Single likelihood evaluation took 2.368e-04 s\n"
     ]
    },
    {
     "name": "stdout",
     "output_type": "stream",
     "text": [
      "found /Users/minghao/Research/Projects/JWST/ID4713/pypeit-reduc/data-release-2/reduced_spec_msaexp_pypeit/spec1d_4713_16479_stack.fits\n"
     ]
    },
    {
     "data": {
      "application/vnd.jupyter.widget-view+json": {
       "model_id": "e085d7a837124789888f65aee84bf00c",
       "version_major": 2,
       "version_minor": 0
      },
      "text/plain": [
       "0it [00:00, ?it/s]"
      ]
     },
     "metadata": {},
     "output_type": "display_data"
    },
    {
     "name": "stderr",
     "output_type": "stream",
     "text": [
      "17:09 bilby INFO    : Using sampler Dynesty with kwargs {'bound': 'multi', 'sample': 'rwalk', 'print_progress': True, 'periodic': None, 'reflective': None, 'check_point_delta_t': 1800, 'nlive': 200, 'first_update': None, 'walks': 100, 'npdim': None, 'rstate': None, 'queue_size': 1, 'pool': None, 'use_pool': None, 'live_points': None, 'logl_args': None, 'logl_kwargs': None, 'ptform_args': None, 'ptform_kwargs': None, 'enlarge': 1.5, 'bootstrap': None, 'vol_dec': 0.5, 'vol_check': 8.0, 'facc': 0.2, 'slices': 5, 'update_interval': 120, 'print_func': <bound method Dynesty._print_func of <bilby.core.sampler.dynesty.Dynesty object at 0x1604d03e0>>, 'dlogz': 0.1, 'maxiter': None, 'maxcall': None, 'logl_max': inf, 'add_live': True, 'save_bounds': False, 'n_effective': None, 'maxmcmc': 5000, 'nact': 5, 'print_method': 'tqdm'}\n",
      "17:09 bilby INFO    : Checkpoint every check_point_delta_t = 600s\n",
      "17:09 bilby INFO    : Using dynesty version 1.0.1\n",
      "17:09 bilby INFO    : Using the bilby-implemented rwalk sample method with ACT estimated walks\n",
      "17:09 bilby INFO    : Resume file ../../MASQUERADE_LAE/data/lya_saves//J0100/bilby_fit_lya_testprior//4713_16479_resume.pickle does not exist.\n",
      "17:09 bilby INFO    : Generating initial points from the prior\n",
      "17:10 bilby INFO    : Written checkpoint file ../../MASQUERADE_LAE/data/lya_saves//J0100/bilby_fit_lya_testprior//4713_16479_resume.pickle\n",
      "/Users/minghao/anaconda3/envs/jwst_pypeit/lib/python3.12/site-packages/dynesty/plotting.py:179: RuntimeWarning: overflow encountered in exp\n",
      "  data = [nlive, np.exp(logl), np.exp(logwt), np.exp(logz)]\n",
      "/Users/minghao/anaconda3/envs/jwst_pypeit/lib/python3.12/site-packages/dynesty/plotting.py:203: RuntimeWarning: overflow encountered in exp\n",
      "  zspan = (0., 1.05 * np.exp(logz[-1] + 3. * logzerr[-1]))\n",
      "17:10 bilby WARNING : Axis limits cannot be NaN or Inf\n",
      "17:10 bilby WARNING : Failed to create dynesty run plot at checkpoint\n",
      "17:10 bilby INFO    : Sampling time: 0:01:02.415581\n"
     ]
    },
    {
     "name": "stdout",
     "output_type": "stream",
     "text": [
      "\n"
     ]
    },
    {
     "name": "stderr",
     "output_type": "stream",
     "text": [
      "17:10 bilby INFO    : Summary of results:\n",
      "nsamples: 3001\n",
      "ln_noise_evidence:    nan\n",
      "ln_evidence: 770.240 +/-  0.313\n",
      "ln_bayes_factor:    nan +/-  0.313\n",
      "\n",
      "/Users/minghao/Research/Projects/JWST/MASQUERADE_LAE/github/MASQUERADE_LAE/lya_stats/LAE_spec_utils.py:535: RuntimeWarning: divide by zero encountered in power\n",
      "  self.err_fnu = (self.ivar_fnu)**-0.5\n",
      "/Users/minghao/Research/Projects/JWST/MASQUERADE_LAE/github/MASQUERADE_LAE/lya_stats/LAE_spec_utils.py:541: RuntimeWarning: invalid value encountered in divide\n",
      "  self.flam = self.fnu * speed_of_light_angstrom / (self.wave)**2 * 1e-29 * 1e18\n",
      "/Users/minghao/Research/Projects/JWST/MASQUERADE_LAE/github/MASQUERADE_LAE/lya_stats/LAE_spec_utils.py:542: RuntimeWarning: divide by zero encountered in divide\n",
      "  self.err_flam = self.err_fnu * (speed_of_light_angstrom / (self.wave)**2 * 1e-29 * 1e18)\n",
      "17:10 bilby INFO    : Running for label '4713_16759', output will be saved to '../../MASQUERADE_LAE/data/lya_saves//J0100/bilby_fit_lya_testprior/'\n",
      "17:10 bilby INFO    : Search parameters:\n",
      "17:10 bilby INFO    :   center = Normal(mu=8969.778982476506, sigma=8.969778982476505, name='center', latex_label='center', unit=None, boundary=None)\n",
      "17:10 bilby INFO    :   fwhm = Normal(mu=600, sigma=200, name='fwhm', latex_label='fwhm', unit=None, boundary=None)\n",
      "17:10 bilby INFO    :   flux = Normal(mu=7.125195868976347, sigma=7.125195868976347, name='flux', latex_label='flux', unit=None, boundary=None)\n",
      "17:10 bilby INFO    :   A = Normal(mu=0.02869684738981725, sigma=0.02869684738981725, name='A', latex_label='A', unit=None, boundary=None)\n",
      "17:10 bilby INFO    :   beta = Normal(mu=-2, sigma=1, name='beta', latex_label='beta', unit=None, boundary=None)\n",
      "17:10 bilby INFO    :   wave0 = 8969.778982476506\n",
      "17:10 bilby INFO    : Single likelihood evaluation took 1.577e-04 s\n"
     ]
    },
    {
     "name": "stdout",
     "output_type": "stream",
     "text": [
      "found /Users/minghao/Research/Projects/JWST/ID4713/pypeit-reduc/data-release-2/reduced_spec_msaexp_pypeit/spec1d_4713_16759_stack.fits\n"
     ]
    },
    {
     "data": {
      "application/vnd.jupyter.widget-view+json": {
       "model_id": "3d5d3bfd2afd47e0ae84f65f2035c76b",
       "version_major": 2,
       "version_minor": 0
      },
      "text/plain": [
       "0it [00:00, ?it/s]"
      ]
     },
     "metadata": {},
     "output_type": "display_data"
    },
    {
     "name": "stderr",
     "output_type": "stream",
     "text": [
      "17:10 bilby INFO    : Using sampler Dynesty with kwargs {'bound': 'multi', 'sample': 'rwalk', 'print_progress': True, 'periodic': None, 'reflective': None, 'check_point_delta_t': 1800, 'nlive': 200, 'first_update': None, 'walks': 100, 'npdim': None, 'rstate': None, 'queue_size': 1, 'pool': None, 'use_pool': None, 'live_points': None, 'logl_args': None, 'logl_kwargs': None, 'ptform_args': None, 'ptform_kwargs': None, 'enlarge': 1.5, 'bootstrap': None, 'vol_dec': 0.5, 'vol_check': 8.0, 'facc': 0.2, 'slices': 5, 'update_interval': 120, 'print_func': <bound method Dynesty._print_func of <bilby.core.sampler.dynesty.Dynesty object at 0x161e003e0>>, 'dlogz': 0.1, 'maxiter': None, 'maxcall': None, 'logl_max': inf, 'add_live': True, 'save_bounds': False, 'n_effective': None, 'maxmcmc': 5000, 'nact': 5, 'print_method': 'tqdm'}\n",
      "17:10 bilby INFO    : Checkpoint every check_point_delta_t = 600s\n",
      "17:10 bilby INFO    : Using dynesty version 1.0.1\n",
      "17:10 bilby INFO    : Using the bilby-implemented rwalk sample method with ACT estimated walks\n",
      "17:10 bilby INFO    : Resume file ../../MASQUERADE_LAE/data/lya_saves//J0100/bilby_fit_lya_testprior//4713_16759_resume.pickle does not exist.\n",
      "17:10 bilby INFO    : Generating initial points from the prior\n",
      "17:11 bilby INFO    : Written checkpoint file ../../MASQUERADE_LAE/data/lya_saves//J0100/bilby_fit_lya_testprior//4713_16759_resume.pickle\n",
      "/Users/minghao/anaconda3/envs/jwst_pypeit/lib/python3.12/site-packages/dynesty/plotting.py:179: RuntimeWarning: overflow encountered in exp\n",
      "  data = [nlive, np.exp(logl), np.exp(logwt), np.exp(logz)]\n",
      "/Users/minghao/anaconda3/envs/jwst_pypeit/lib/python3.12/site-packages/dynesty/plotting.py:203: RuntimeWarning: overflow encountered in exp\n",
      "  zspan = (0., 1.05 * np.exp(logz[-1] + 3. * logzerr[-1]))\n",
      "17:11 bilby WARNING : Axis limits cannot be NaN or Inf\n",
      "17:11 bilby WARNING : Failed to create dynesty run plot at checkpoint\n",
      "17:11 bilby INFO    : Sampling time: 0:00:49.919925\n"
     ]
    },
    {
     "name": "stdout",
     "output_type": "stream",
     "text": [
      "\n"
     ]
    },
    {
     "name": "stderr",
     "output_type": "stream",
     "text": [
      "17:11 bilby INFO    : Summary of results:\n",
      "nsamples: 2575\n",
      "ln_noise_evidence:    nan\n",
      "ln_evidence: 780.544 +/-  0.278\n",
      "ln_bayes_factor:    nan +/-  0.278\n",
      "\n",
      "/Users/minghao/Research/Projects/JWST/MASQUERADE_LAE/github/MASQUERADE_LAE/lya_stats/LAE_spec_utils.py:535: RuntimeWarning: divide by zero encountered in power\n",
      "  self.err_fnu = (self.ivar_fnu)**-0.5\n",
      "/Users/minghao/Research/Projects/JWST/MASQUERADE_LAE/github/MASQUERADE_LAE/lya_stats/LAE_spec_utils.py:541: RuntimeWarning: invalid value encountered in divide\n",
      "  self.flam = self.fnu * speed_of_light_angstrom / (self.wave)**2 * 1e-29 * 1e18\n",
      "/Users/minghao/Research/Projects/JWST/MASQUERADE_LAE/github/MASQUERADE_LAE/lya_stats/LAE_spec_utils.py:542: RuntimeWarning: divide by zero encountered in divide\n",
      "  self.err_flam = self.err_fnu * (speed_of_light_angstrom / (self.wave)**2 * 1e-29 * 1e18)\n",
      "17:11 bilby INFO    : Running for label '4713_17352', output will be saved to '../../MASQUERADE_LAE/data/lya_saves//J0100/bilby_fit_lya_testprior/'\n",
      "17:11 bilby INFO    : Search parameters:\n",
      "17:11 bilby INFO    :   center = Normal(mu=8733.663485532477, sigma=8.733663485532478, name='center', latex_label='center', unit=None, boundary=None)\n",
      "17:11 bilby INFO    :   fwhm = Normal(mu=600, sigma=200, name='fwhm', latex_label='fwhm', unit=None, boundary=None)\n",
      "17:11 bilby INFO    :   flux = Normal(mu=1.3457176284416985, sigma=1.3457176284416985, name='flux', latex_label='flux', unit=None, boundary=None)\n",
      "17:11 bilby INFO    :   A = Normal(mu=0.020686596182819407, sigma=0.020686596182819407, name='A', latex_label='A', unit=None, boundary=None)\n",
      "17:11 bilby INFO    :   beta = Normal(mu=-2, sigma=1, name='beta', latex_label='beta', unit=None, boundary=None)\n",
      "17:11 bilby INFO    :   wave0 = 8733.663485532477\n",
      "17:11 bilby INFO    : Single likelihood evaluation took 1.421e-04 s\n"
     ]
    },
    {
     "name": "stdout",
     "output_type": "stream",
     "text": [
      "found /Users/minghao/Research/Projects/JWST/ID4713/pypeit-reduc/data-release-2/reduced_spec_msaexp_pypeit/manu1d_4713_17352_stack.fits\n"
     ]
    },
    {
     "data": {
      "application/vnd.jupyter.widget-view+json": {
       "model_id": "a779ccdfba5643b8a2d4ba2962cdec42",
       "version_major": 2,
       "version_minor": 0
      },
      "text/plain": [
       "0it [00:00, ?it/s]"
      ]
     },
     "metadata": {},
     "output_type": "display_data"
    },
    {
     "name": "stderr",
     "output_type": "stream",
     "text": [
      "17:11 bilby INFO    : Using sampler Dynesty with kwargs {'bound': 'multi', 'sample': 'rwalk', 'print_progress': True, 'periodic': None, 'reflective': None, 'check_point_delta_t': 1800, 'nlive': 200, 'first_update': None, 'walks': 100, 'npdim': None, 'rstate': None, 'queue_size': 1, 'pool': None, 'use_pool': None, 'live_points': None, 'logl_args': None, 'logl_kwargs': None, 'ptform_args': None, 'ptform_kwargs': None, 'enlarge': 1.5, 'bootstrap': None, 'vol_dec': 0.5, 'vol_check': 8.0, 'facc': 0.2, 'slices': 5, 'update_interval': 120, 'print_func': <bound method Dynesty._print_func of <bilby.core.sampler.dynesty.Dynesty object at 0x15bd903e0>>, 'dlogz': 0.1, 'maxiter': None, 'maxcall': None, 'logl_max': inf, 'add_live': True, 'save_bounds': False, 'n_effective': None, 'maxmcmc': 5000, 'nact': 5, 'print_method': 'tqdm'}\n",
      "17:11 bilby INFO    : Checkpoint every check_point_delta_t = 600s\n",
      "17:11 bilby INFO    : Using dynesty version 1.0.1\n",
      "17:11 bilby INFO    : Using the bilby-implemented rwalk sample method with ACT estimated walks\n",
      "17:11 bilby INFO    : Resume file ../../MASQUERADE_LAE/data/lya_saves//J0100/bilby_fit_lya_testprior//4713_17352_resume.pickle does not exist.\n",
      "17:11 bilby INFO    : Generating initial points from the prior\n",
      "17:12 bilby INFO    : Written checkpoint file ../../MASQUERADE_LAE/data/lya_saves//J0100/bilby_fit_lya_testprior//4713_17352_resume.pickle\n",
      "17:12 bilby INFO    : Sampling time: 0:00:40.653119\n",
      "17:12 bilby INFO    : Summary of results:\n",
      "nsamples: 1803\n",
      "ln_noise_evidence:    nan\n",
      "ln_evidence: 688.988 +/-  0.190\n",
      "ln_bayes_factor:    nan +/-  0.190\n",
      "\n"
     ]
    },
    {
     "name": "stdout",
     "output_type": "stream",
     "text": [
      "\n"
     ]
    },
    {
     "name": "stderr",
     "output_type": "stream",
     "text": [
      "/Users/minghao/Research/Projects/JWST/MASQUERADE_LAE/github/MASQUERADE_LAE/lya_stats/LAE_spec_utils.py:535: RuntimeWarning: divide by zero encountered in power\n",
      "  self.err_fnu = (self.ivar_fnu)**-0.5\n",
      "/Users/minghao/Research/Projects/JWST/MASQUERADE_LAE/github/MASQUERADE_LAE/lya_stats/LAE_spec_utils.py:541: RuntimeWarning: invalid value encountered in divide\n",
      "  self.flam = self.fnu * speed_of_light_angstrom / (self.wave)**2 * 1e-29 * 1e18\n",
      "/Users/minghao/Research/Projects/JWST/MASQUERADE_LAE/github/MASQUERADE_LAE/lya_stats/LAE_spec_utils.py:542: RuntimeWarning: divide by zero encountered in divide\n",
      "  self.err_flam = self.err_fnu * (speed_of_light_angstrom / (self.wave)**2 * 1e-29 * 1e18)\n",
      "17:12 bilby INFO    : Running for label '4713_17385', output will be saved to '../../MASQUERADE_LAE/data/lya_saves//J0100/bilby_fit_lya_testprior/'\n",
      "17:12 bilby INFO    : Search parameters:\n",
      "17:12 bilby INFO    :   center = Normal(mu=9446.553467275337, sigma=9.446553467275336, name='center', latex_label='center', unit=None, boundary=None)\n",
      "17:12 bilby INFO    :   fwhm = Normal(mu=600, sigma=200, name='fwhm', latex_label='fwhm', unit=None, boundary=None)\n",
      "17:12 bilby INFO    :   flux = Normal(mu=1.2152551739109603, sigma=1.2152551739109603, name='flux', latex_label='flux', unit=None, boundary=None)\n",
      "17:12 bilby INFO    :   A = Normal(mu=0.029398547859294636, sigma=0.029398547859294636, name='A', latex_label='A', unit=None, boundary=None)\n",
      "17:12 bilby INFO    :   beta = Normal(mu=-2, sigma=1, name='beta', latex_label='beta', unit=None, boundary=None)\n",
      "17:12 bilby INFO    :   wave0 = 9446.553467275337\n",
      "17:12 bilby INFO    : Single likelihood evaluation took 1.500e-04 s\n"
     ]
    },
    {
     "name": "stdout",
     "output_type": "stream",
     "text": [
      "found /Users/minghao/Research/Projects/JWST/ID4713/pypeit-reduc/data-release-2/reduced_spec_msaexp_pypeit/spec1d_4713_17385_stack.fits\n"
     ]
    },
    {
     "data": {
      "application/vnd.jupyter.widget-view+json": {
       "model_id": "44721f0400424ed6abbd15b1dc4965ce",
       "version_major": 2,
       "version_minor": 0
      },
      "text/plain": [
       "0it [00:00, ?it/s]"
      ]
     },
     "metadata": {},
     "output_type": "display_data"
    },
    {
     "name": "stderr",
     "output_type": "stream",
     "text": [
      "17:12 bilby INFO    : Using sampler Dynesty with kwargs {'bound': 'multi', 'sample': 'rwalk', 'print_progress': True, 'periodic': None, 'reflective': None, 'check_point_delta_t': 1800, 'nlive': 200, 'first_update': None, 'walks': 100, 'npdim': None, 'rstate': None, 'queue_size': 1, 'pool': None, 'use_pool': None, 'live_points': None, 'logl_args': None, 'logl_kwargs': None, 'ptform_args': None, 'ptform_kwargs': None, 'enlarge': 1.5, 'bootstrap': None, 'vol_dec': 0.5, 'vol_check': 8.0, 'facc': 0.2, 'slices': 5, 'update_interval': 120, 'print_func': <bound method Dynesty._print_func of <bilby.core.sampler.dynesty.Dynesty object at 0x16278af60>>, 'dlogz': 0.1, 'maxiter': None, 'maxcall': None, 'logl_max': inf, 'add_live': True, 'save_bounds': False, 'n_effective': None, 'maxmcmc': 5000, 'nact': 5, 'print_method': 'tqdm'}\n",
      "17:12 bilby INFO    : Checkpoint every check_point_delta_t = 600s\n",
      "17:12 bilby INFO    : Using dynesty version 1.0.1\n",
      "17:12 bilby INFO    : Using the bilby-implemented rwalk sample method with ACT estimated walks\n",
      "17:12 bilby INFO    : Resume file ../../MASQUERADE_LAE/data/lya_saves//J0100/bilby_fit_lya_testprior//4713_17385_resume.pickle does not exist.\n",
      "17:12 bilby INFO    : Generating initial points from the prior\n",
      "17:13 bilby INFO    : Written checkpoint file ../../MASQUERADE_LAE/data/lya_saves//J0100/bilby_fit_lya_testprior//4713_17385_resume.pickle\n",
      "/Users/minghao/anaconda3/envs/jwst_pypeit/lib/python3.12/site-packages/dynesty/plotting.py:179: RuntimeWarning: overflow encountered in exp\n",
      "  data = [nlive, np.exp(logl), np.exp(logwt), np.exp(logz)]\n",
      "/Users/minghao/anaconda3/envs/jwst_pypeit/lib/python3.12/site-packages/dynesty/plotting.py:203: RuntimeWarning: overflow encountered in exp\n",
      "  zspan = (0., 1.05 * np.exp(logz[-1] + 3. * logzerr[-1]))\n",
      "17:13 bilby WARNING : Axis limits cannot be NaN or Inf\n",
      "17:13 bilby WARNING : Failed to create dynesty run plot at checkpoint\n",
      "17:13 bilby INFO    : Sampling time: 0:00:56.771470\n"
     ]
    },
    {
     "name": "stdout",
     "output_type": "stream",
     "text": [
      "\n"
     ]
    },
    {
     "name": "stderr",
     "output_type": "stream",
     "text": [
      "17:13 bilby INFO    : Summary of results:\n",
      "nsamples: 2698\n",
      "ln_noise_evidence:    nan\n",
      "ln_evidence: 1044.487 +/-  0.265\n",
      "ln_bayes_factor:    nan +/-  0.265\n",
      "\n",
      "/Users/minghao/Research/Projects/JWST/MASQUERADE_LAE/github/MASQUERADE_LAE/lya_stats/LAE_spec_utils.py:535: RuntimeWarning: divide by zero encountered in power\n",
      "  self.err_fnu = (self.ivar_fnu)**-0.5\n",
      "/Users/minghao/Research/Projects/JWST/MASQUERADE_LAE/github/MASQUERADE_LAE/lya_stats/LAE_spec_utils.py:541: RuntimeWarning: invalid value encountered in divide\n",
      "  self.flam = self.fnu * speed_of_light_angstrom / (self.wave)**2 * 1e-29 * 1e18\n",
      "/Users/minghao/Research/Projects/JWST/MASQUERADE_LAE/github/MASQUERADE_LAE/lya_stats/LAE_spec_utils.py:542: RuntimeWarning: divide by zero encountered in divide\n",
      "  self.err_flam = self.err_fnu * (speed_of_light_angstrom / (self.wave)**2 * 1e-29 * 1e18)\n",
      "17:13 bilby INFO    : Running for label '4713_17435', output will be saved to '../../MASQUERADE_LAE/data/lya_saves//J0100/bilby_fit_lya_testprior/'\n",
      "17:13 bilby INFO    : Search parameters:\n",
      "17:13 bilby INFO    :   center = Normal(mu=9425.388936850835, sigma=9.425388936850835, name='center', latex_label='center', unit=None, boundary=None)\n",
      "17:13 bilby INFO    :   fwhm = Normal(mu=600, sigma=200, name='fwhm', latex_label='fwhm', unit=None, boundary=None)\n",
      "17:13 bilby INFO    :   flux = Normal(mu=4.3558278694882295, sigma=4.3558278694882295, name='flux', latex_label='flux', unit=None, boundary=None)\n",
      "17:13 bilby INFO    :   A = Normal(mu=0.010351603191790418, sigma=0.010351603191790418, name='A', latex_label='A', unit=None, boundary=None)\n",
      "17:13 bilby INFO    :   beta = Normal(mu=-2, sigma=1, name='beta', latex_label='beta', unit=None, boundary=None)\n",
      "17:13 bilby INFO    :   wave0 = 9425.388936850835\n",
      "17:13 bilby INFO    : Single likelihood evaluation took 1.457e-04 s\n"
     ]
    },
    {
     "name": "stdout",
     "output_type": "stream",
     "text": [
      "found /Users/minghao/Research/Projects/JWST/ID4713/pypeit-reduc/data-release-2/reduced_spec_msaexp_pypeit/spec1d_4713_17435_stack.fits\n"
     ]
    },
    {
     "data": {
      "application/vnd.jupyter.widget-view+json": {
       "model_id": "31b519739d8f4df185ef09add6bab14e",
       "version_major": 2,
       "version_minor": 0
      },
      "text/plain": [
       "0it [00:00, ?it/s]"
      ]
     },
     "metadata": {},
     "output_type": "display_data"
    },
    {
     "name": "stderr",
     "output_type": "stream",
     "text": [
      "17:13 bilby INFO    : Using sampler Dynesty with kwargs {'bound': 'multi', 'sample': 'rwalk', 'print_progress': True, 'periodic': None, 'reflective': None, 'check_point_delta_t': 1800, 'nlive': 200, 'first_update': None, 'walks': 100, 'npdim': None, 'rstate': None, 'queue_size': 1, 'pool': None, 'use_pool': None, 'live_points': None, 'logl_args': None, 'logl_kwargs': None, 'ptform_args': None, 'ptform_kwargs': None, 'enlarge': 1.5, 'bootstrap': None, 'vol_dec': 0.5, 'vol_check': 8.0, 'facc': 0.2, 'slices': 5, 'update_interval': 120, 'print_func': <bound method Dynesty._print_func of <bilby.core.sampler.dynesty.Dynesty object at 0x1637883e0>>, 'dlogz': 0.1, 'maxiter': None, 'maxcall': None, 'logl_max': inf, 'add_live': True, 'save_bounds': False, 'n_effective': None, 'maxmcmc': 5000, 'nact': 5, 'print_method': 'tqdm'}\n",
      "17:13 bilby INFO    : Checkpoint every check_point_delta_t = 600s\n",
      "17:13 bilby INFO    : Using dynesty version 1.0.1\n",
      "17:13 bilby INFO    : Using the bilby-implemented rwalk sample method with ACT estimated walks\n",
      "17:13 bilby INFO    : Resume file ../../MASQUERADE_LAE/data/lya_saves//J0100/bilby_fit_lya_testprior//4713_17435_resume.pickle does not exist.\n",
      "17:13 bilby INFO    : Generating initial points from the prior\n",
      "17:14 bilby INFO    : Written checkpoint file ../../MASQUERADE_LAE/data/lya_saves//J0100/bilby_fit_lya_testprior//4713_17435_resume.pickle\n",
      "/Users/minghao/anaconda3/envs/jwst_pypeit/lib/python3.12/site-packages/dynesty/plotting.py:179: RuntimeWarning: overflow encountered in exp\n",
      "  data = [nlive, np.exp(logl), np.exp(logwt), np.exp(logz)]\n",
      "/Users/minghao/anaconda3/envs/jwst_pypeit/lib/python3.12/site-packages/dynesty/plotting.py:203: RuntimeWarning: overflow encountered in exp\n",
      "  zspan = (0., 1.05 * np.exp(logz[-1] + 3. * logzerr[-1]))\n",
      "17:14 bilby WARNING : Axis limits cannot be NaN or Inf\n",
      "17:14 bilby WARNING : Failed to create dynesty run plot at checkpoint\n",
      "17:14 bilby INFO    : Sampling time: 0:01:05.950528\n"
     ]
    },
    {
     "name": "stdout",
     "output_type": "stream",
     "text": [
      "\n"
     ]
    },
    {
     "name": "stderr",
     "output_type": "stream",
     "text": [
      "17:14 bilby INFO    : Summary of results:\n",
      "nsamples: 3340\n",
      "ln_noise_evidence:    nan\n",
      "ln_evidence: 989.967 +/-  0.302\n",
      "ln_bayes_factor:    nan +/-  0.302\n",
      "\n",
      "/Users/minghao/Research/Projects/JWST/MASQUERADE_LAE/github/MASQUERADE_LAE/lya_stats/LAE_spec_utils.py:535: RuntimeWarning: divide by zero encountered in power\n",
      "  self.err_fnu = (self.ivar_fnu)**-0.5\n",
      "/Users/minghao/Research/Projects/JWST/MASQUERADE_LAE/github/MASQUERADE_LAE/lya_stats/LAE_spec_utils.py:541: RuntimeWarning: invalid value encountered in divide\n",
      "  self.flam = self.fnu * speed_of_light_angstrom / (self.wave)**2 * 1e-29 * 1e18\n",
      "/Users/minghao/Research/Projects/JWST/MASQUERADE_LAE/github/MASQUERADE_LAE/lya_stats/LAE_spec_utils.py:542: RuntimeWarning: divide by zero encountered in divide\n",
      "  self.err_flam = self.err_fnu * (speed_of_light_angstrom / (self.wave)**2 * 1e-29 * 1e18)\n",
      "17:14 bilby INFO    : Running for label '4713_17492', output will be saved to '../../MASQUERADE_LAE/data/lya_saves//J0100/bilby_fit_lya_testprior/'\n",
      "17:14 bilby INFO    : Search parameters:\n",
      "17:14 bilby INFO    :   center = Normal(mu=9394.37356951389, sigma=9.39437356951389, name='center', latex_label='center', unit=None, boundary=None)\n",
      "17:14 bilby INFO    :   fwhm = Normal(mu=600, sigma=200, name='fwhm', latex_label='fwhm', unit=None, boundary=None)\n",
      "17:14 bilby INFO    :   flux = Normal(mu=3.438572677993686, sigma=3.438572677993686, name='flux', latex_label='flux', unit=None, boundary=None)\n",
      "17:14 bilby INFO    :   A = Normal(mu=0.015168314752159885, sigma=0.015168314752159885, name='A', latex_label='A', unit=None, boundary=None)\n",
      "17:14 bilby INFO    :   beta = Normal(mu=-2, sigma=1, name='beta', latex_label='beta', unit=None, boundary=None)\n",
      "17:14 bilby INFO    :   wave0 = 9394.37356951389\n",
      "17:14 bilby INFO    : Single likelihood evaluation took 2.277e-04 s\n"
     ]
    },
    {
     "name": "stdout",
     "output_type": "stream",
     "text": [
      "found /Users/minghao/Research/Projects/JWST/ID4713/pypeit-reduc/data-release-2/reduced_spec_msaexp_pypeit/spec1d_4713_17492_stack.fits\n"
     ]
    },
    {
     "data": {
      "application/vnd.jupyter.widget-view+json": {
       "model_id": "3999bc305eb7422cb2bb3924145fe1aa",
       "version_major": 2,
       "version_minor": 0
      },
      "text/plain": [
       "0it [00:00, ?it/s]"
      ]
     },
     "metadata": {},
     "output_type": "display_data"
    },
    {
     "name": "stderr",
     "output_type": "stream",
     "text": [
      "17:14 bilby INFO    : Using sampler Dynesty with kwargs {'bound': 'multi', 'sample': 'rwalk', 'print_progress': True, 'periodic': None, 'reflective': None, 'check_point_delta_t': 1800, 'nlive': 200, 'first_update': None, 'walks': 100, 'npdim': None, 'rstate': None, 'queue_size': 1, 'pool': None, 'use_pool': None, 'live_points': None, 'logl_args': None, 'logl_kwargs': None, 'ptform_args': None, 'ptform_kwargs': None, 'enlarge': 1.5, 'bootstrap': None, 'vol_dec': 0.5, 'vol_check': 8.0, 'facc': 0.2, 'slices': 5, 'update_interval': 120, 'print_func': <bound method Dynesty._print_func of <bilby.core.sampler.dynesty.Dynesty object at 0x1657c03e0>>, 'dlogz': 0.1, 'maxiter': None, 'maxcall': None, 'logl_max': inf, 'add_live': True, 'save_bounds': False, 'n_effective': None, 'maxmcmc': 5000, 'nact': 5, 'print_method': 'tqdm'}\n",
      "17:14 bilby INFO    : Checkpoint every check_point_delta_t = 600s\n",
      "17:14 bilby INFO    : Using dynesty version 1.0.1\n",
      "17:14 bilby INFO    : Using the bilby-implemented rwalk sample method with ACT estimated walks\n",
      "17:14 bilby INFO    : Resume file ../../MASQUERADE_LAE/data/lya_saves//J0100/bilby_fit_lya_testprior//4713_17492_resume.pickle does not exist.\n",
      "17:14 bilby INFO    : Generating initial points from the prior\n",
      "17:15 bilby INFO    : Written checkpoint file ../../MASQUERADE_LAE/data/lya_saves//J0100/bilby_fit_lya_testprior//4713_17492_resume.pickle\n",
      "/Users/minghao/anaconda3/envs/jwst_pypeit/lib/python3.12/site-packages/dynesty/plotting.py:179: RuntimeWarning: overflow encountered in exp\n",
      "  data = [nlive, np.exp(logl), np.exp(logwt), np.exp(logz)]\n",
      "/Users/minghao/anaconda3/envs/jwst_pypeit/lib/python3.12/site-packages/dynesty/plotting.py:203: RuntimeWarning: overflow encountered in exp\n",
      "  zspan = (0., 1.05 * np.exp(logz[-1] + 3. * logzerr[-1]))\n",
      "17:15 bilby WARNING : Axis limits cannot be NaN or Inf\n",
      "17:15 bilby WARNING : Failed to create dynesty run plot at checkpoint\n",
      "17:15 bilby INFO    : Sampling time: 0:00:51.228052\n"
     ]
    },
    {
     "name": "stdout",
     "output_type": "stream",
     "text": [
      "\n"
     ]
    },
    {
     "name": "stderr",
     "output_type": "stream",
     "text": [
      "17:15 bilby INFO    : Summary of results:\n",
      "nsamples: 2503\n",
      "ln_noise_evidence:    nan\n",
      "ln_evidence: 906.644 +/-  0.262\n",
      "ln_bayes_factor:    nan +/-  0.262\n",
      "\n",
      "/Users/minghao/Research/Projects/JWST/MASQUERADE_LAE/github/MASQUERADE_LAE/lya_stats/LAE_spec_utils.py:535: RuntimeWarning: divide by zero encountered in power\n",
      "  self.err_fnu = (self.ivar_fnu)**-0.5\n",
      "/Users/minghao/Research/Projects/JWST/MASQUERADE_LAE/github/MASQUERADE_LAE/lya_stats/LAE_spec_utils.py:541: RuntimeWarning: invalid value encountered in divide\n",
      "  self.flam = self.fnu * speed_of_light_angstrom / (self.wave)**2 * 1e-29 * 1e18\n",
      "/Users/minghao/Research/Projects/JWST/MASQUERADE_LAE/github/MASQUERADE_LAE/lya_stats/LAE_spec_utils.py:542: RuntimeWarning: divide by zero encountered in divide\n",
      "  self.err_flam = self.err_fnu * (speed_of_light_angstrom / (self.wave)**2 * 1e-29 * 1e18)\n",
      "17:15 bilby INFO    : Running for label '4713_18057', output will be saved to '../../MASQUERADE_LAE/data/lya_saves//J0100/bilby_fit_lya_testprior/'\n",
      "17:15 bilby INFO    : Search parameters:\n",
      "17:15 bilby INFO    :   center = Normal(mu=8744.56559610861, sigma=8.744565596108611, name='center', latex_label='center', unit=None, boundary=None)\n",
      "17:15 bilby INFO    :   fwhm = Normal(mu=600, sigma=200, name='fwhm', latex_label='fwhm', unit=None, boundary=None)\n",
      "17:15 bilby INFO    :   flux = Normal(mu=1.7256776517585835, sigma=1.7256776517585835, name='flux', latex_label='flux', unit=None, boundary=None)\n",
      "17:15 bilby INFO    :   A = Normal(mu=0.02351459360332141, sigma=0.02351459360332141, name='A', latex_label='A', unit=None, boundary=None)\n",
      "17:15 bilby INFO    :   beta = Normal(mu=-2, sigma=1, name='beta', latex_label='beta', unit=None, boundary=None)\n",
      "17:15 bilby INFO    :   wave0 = 8744.56559610861\n",
      "17:15 bilby INFO    : Single likelihood evaluation took 2.170e-04 s\n"
     ]
    },
    {
     "name": "stdout",
     "output_type": "stream",
     "text": [
      "found /Users/minghao/Research/Projects/JWST/ID4713/pypeit-reduc/data-release-2/reduced_spec_msaexp_pypeit/spec1d_4713_18057_stack.fits\n"
     ]
    },
    {
     "data": {
      "application/vnd.jupyter.widget-view+json": {
       "model_id": "9d0ebf994c1545d0914aeeeeccdd4ba2",
       "version_major": 2,
       "version_minor": 0
      },
      "text/plain": [
       "0it [00:00, ?it/s]"
      ]
     },
     "metadata": {},
     "output_type": "display_data"
    },
    {
     "name": "stderr",
     "output_type": "stream",
     "text": [
      "17:15 bilby INFO    : Using sampler Dynesty with kwargs {'bound': 'multi', 'sample': 'rwalk', 'print_progress': True, 'periodic': None, 'reflective': None, 'check_point_delta_t': 1800, 'nlive': 200, 'first_update': None, 'walks': 100, 'npdim': None, 'rstate': None, 'queue_size': 1, 'pool': None, 'use_pool': None, 'live_points': None, 'logl_args': None, 'logl_kwargs': None, 'ptform_args': None, 'ptform_kwargs': None, 'enlarge': 1.5, 'bootstrap': None, 'vol_dec': 0.5, 'vol_check': 8.0, 'facc': 0.2, 'slices': 5, 'update_interval': 120, 'print_func': <bound method Dynesty._print_func of <bilby.core.sampler.dynesty.Dynesty object at 0x166bfddf0>>, 'dlogz': 0.1, 'maxiter': None, 'maxcall': None, 'logl_max': inf, 'add_live': True, 'save_bounds': False, 'n_effective': None, 'maxmcmc': 5000, 'nact': 5, 'print_method': 'tqdm'}\n",
      "17:15 bilby INFO    : Checkpoint every check_point_delta_t = 600s\n",
      "17:15 bilby INFO    : Using dynesty version 1.0.1\n",
      "17:15 bilby INFO    : Using the bilby-implemented rwalk sample method with ACT estimated walks\n",
      "17:15 bilby INFO    : Resume file ../../MASQUERADE_LAE/data/lya_saves//J0100/bilby_fit_lya_testprior//4713_18057_resume.pickle does not exist.\n",
      "17:15 bilby INFO    : Generating initial points from the prior\n",
      "17:15 bilby INFO    : Written checkpoint file ../../MASQUERADE_LAE/data/lya_saves//J0100/bilby_fit_lya_testprior//4713_18057_resume.pickle\n",
      "17:15 bilby INFO    : Sampling time: 0:00:30.114871\n",
      "17:15 bilby INFO    : Summary of results:\n",
      "nsamples: 1588\n",
      "ln_noise_evidence:    nan\n",
      "ln_evidence: 565.960 +/-  0.180\n",
      "ln_bayes_factor:    nan +/-  0.180\n",
      "\n"
     ]
    },
    {
     "name": "stdout",
     "output_type": "stream",
     "text": [
      "\n"
     ]
    },
    {
     "name": "stderr",
     "output_type": "stream",
     "text": [
      "/Users/minghao/Research/Projects/JWST/MASQUERADE_LAE/github/MASQUERADE_LAE/lya_stats/LAE_spec_utils.py:535: RuntimeWarning: divide by zero encountered in power\n",
      "  self.err_fnu = (self.ivar_fnu)**-0.5\n",
      "/Users/minghao/Research/Projects/JWST/MASQUERADE_LAE/github/MASQUERADE_LAE/lya_stats/LAE_spec_utils.py:541: RuntimeWarning: invalid value encountered in divide\n",
      "  self.flam = self.fnu * speed_of_light_angstrom / (self.wave)**2 * 1e-29 * 1e18\n",
      "/Users/minghao/Research/Projects/JWST/MASQUERADE_LAE/github/MASQUERADE_LAE/lya_stats/LAE_spec_utils.py:542: RuntimeWarning: divide by zero encountered in divide\n",
      "  self.err_flam = self.err_fnu * (speed_of_light_angstrom / (self.wave)**2 * 1e-29 * 1e18)\n",
      "17:15 bilby INFO    : Running for label '4713_18061', output will be saved to '../../MASQUERADE_LAE/data/lya_saves//J0100/bilby_fit_lya_testprior/'\n",
      "17:15 bilby INFO    : Search parameters:\n",
      "17:15 bilby INFO    :   center = Normal(mu=8911.995007450947, sigma=8.911995007450948, name='center', latex_label='center', unit=None, boundary=None)\n",
      "17:15 bilby INFO    :   fwhm = Normal(mu=600, sigma=200, name='fwhm', latex_label='fwhm', unit=None, boundary=None)\n",
      "17:15 bilby INFO    :   flux = Normal(mu=2.219343956303419, sigma=2.219343956303419, name='flux', latex_label='flux', unit=None, boundary=None)\n",
      "17:15 bilby INFO    :   A = Normal(mu=0.023277278010185018, sigma=0.023277278010185018, name='A', latex_label='A', unit=None, boundary=None)\n",
      "17:15 bilby INFO    :   beta = Normal(mu=-2, sigma=1, name='beta', latex_label='beta', unit=None, boundary=None)\n",
      "17:15 bilby INFO    :   wave0 = 8911.995007450947\n",
      "17:15 bilby INFO    : Single likelihood evaluation took 2.361e-04 s\n"
     ]
    },
    {
     "name": "stdout",
     "output_type": "stream",
     "text": [
      "found /Users/minghao/Research/Projects/JWST/ID4713/pypeit-reduc/data-release-2/reduced_spec_msaexp_pypeit/spec1d_4713_18061_stack.fits\n"
     ]
    },
    {
     "data": {
      "application/vnd.jupyter.widget-view+json": {
       "model_id": "3fc7e7a5afff4c8292eb6ce7ad6eaf1d",
       "version_major": 2,
       "version_minor": 0
      },
      "text/plain": [
       "0it [00:00, ?it/s]"
      ]
     },
     "metadata": {},
     "output_type": "display_data"
    },
    {
     "name": "stderr",
     "output_type": "stream",
     "text": [
      "17:15 bilby INFO    : Using sampler Dynesty with kwargs {'bound': 'multi', 'sample': 'rwalk', 'print_progress': True, 'periodic': None, 'reflective': None, 'check_point_delta_t': 1800, 'nlive': 200, 'first_update': None, 'walks': 100, 'npdim': None, 'rstate': None, 'queue_size': 1, 'pool': None, 'use_pool': None, 'live_points': None, 'logl_args': None, 'logl_kwargs': None, 'ptform_args': None, 'ptform_kwargs': None, 'enlarge': 1.5, 'bootstrap': None, 'vol_dec': 0.5, 'vol_check': 8.0, 'facc': 0.2, 'slices': 5, 'update_interval': 120, 'print_func': <bound method Dynesty._print_func of <bilby.core.sampler.dynesty.Dynesty object at 0x167af77a0>>, 'dlogz': 0.1, 'maxiter': None, 'maxcall': None, 'logl_max': inf, 'add_live': True, 'save_bounds': False, 'n_effective': None, 'maxmcmc': 5000, 'nact': 5, 'print_method': 'tqdm'}\n",
      "17:15 bilby INFO    : Checkpoint every check_point_delta_t = 600s\n",
      "17:15 bilby INFO    : Using dynesty version 1.0.1\n",
      "17:15 bilby INFO    : Using the bilby-implemented rwalk sample method with ACT estimated walks\n",
      "17:15 bilby INFO    : Resume file ../../MASQUERADE_LAE/data/lya_saves//J0100/bilby_fit_lya_testprior//4713_18061_resume.pickle does not exist.\n",
      "17:15 bilby INFO    : Generating initial points from the prior\n",
      "17:16 bilby INFO    : Written checkpoint file ../../MASQUERADE_LAE/data/lya_saves//J0100/bilby_fit_lya_testprior//4713_18061_resume.pickle\n",
      "/Users/minghao/anaconda3/envs/jwst_pypeit/lib/python3.12/site-packages/dynesty/plotting.py:179: RuntimeWarning: overflow encountered in exp\n",
      "  data = [nlive, np.exp(logl), np.exp(logwt), np.exp(logz)]\n",
      "/Users/minghao/anaconda3/envs/jwst_pypeit/lib/python3.12/site-packages/dynesty/plotting.py:203: RuntimeWarning: overflow encountered in exp\n",
      "  zspan = (0., 1.05 * np.exp(logz[-1] + 3. * logzerr[-1]))\n",
      "17:16 bilby WARNING : Axis limits cannot be NaN or Inf\n",
      "17:16 bilby WARNING : Failed to create dynesty run plot at checkpoint\n",
      "17:16 bilby INFO    : Sampling time: 0:00:40.620768\n"
     ]
    },
    {
     "name": "stdout",
     "output_type": "stream",
     "text": [
      "\n"
     ]
    },
    {
     "name": "stderr",
     "output_type": "stream",
     "text": [
      "17:16 bilby INFO    : Summary of results:\n",
      "nsamples: 2249\n",
      "ln_noise_evidence:    nan\n",
      "ln_evidence: 806.896 +/-  0.230\n",
      "ln_bayes_factor:    nan +/-  0.230\n",
      "\n",
      "/Users/minghao/Research/Projects/JWST/MASQUERADE_LAE/github/MASQUERADE_LAE/lya_stats/LAE_spec_utils.py:535: RuntimeWarning: divide by zero encountered in power\n",
      "  self.err_fnu = (self.ivar_fnu)**-0.5\n",
      "/Users/minghao/Research/Projects/JWST/MASQUERADE_LAE/github/MASQUERADE_LAE/lya_stats/LAE_spec_utils.py:541: RuntimeWarning: invalid value encountered in divide\n",
      "  self.flam = self.fnu * speed_of_light_angstrom / (self.wave)**2 * 1e-29 * 1e18\n",
      "/Users/minghao/Research/Projects/JWST/MASQUERADE_LAE/github/MASQUERADE_LAE/lya_stats/LAE_spec_utils.py:542: RuntimeWarning: divide by zero encountered in divide\n",
      "  self.err_flam = self.err_fnu * (speed_of_light_angstrom / (self.wave)**2 * 1e-29 * 1e18)\n",
      "17:16 bilby INFO    : Running for label '4713_18268', output will be saved to '../../MASQUERADE_LAE/data/lya_saves//J0100/bilby_fit_lya_testprior/'\n",
      "17:16 bilby INFO    : Search parameters:\n",
      "17:16 bilby INFO    :   center = Normal(mu=9282.492578326808, sigma=9.282492578326808, name='center', latex_label='center', unit=None, boundary=None)\n",
      "17:16 bilby INFO    :   fwhm = Normal(mu=600, sigma=200, name='fwhm', latex_label='fwhm', unit=None, boundary=None)\n",
      "17:16 bilby INFO    :   flux = Normal(mu=1.3508010789786145, sigma=1.3508010789786145, name='flux', latex_label='flux', unit=None, boundary=None)\n",
      "17:16 bilby INFO    :   A = Normal(mu=0.023481235938614158, sigma=0.023481235938614158, name='A', latex_label='A', unit=None, boundary=None)\n",
      "17:16 bilby INFO    :   beta = Normal(mu=-2, sigma=1, name='beta', latex_label='beta', unit=None, boundary=None)\n",
      "17:16 bilby INFO    :   wave0 = 9282.492578326808\n",
      "17:16 bilby INFO    : Single likelihood evaluation took 2.034e-04 s\n"
     ]
    },
    {
     "name": "stdout",
     "output_type": "stream",
     "text": [
      "found /Users/minghao/Research/Projects/JWST/ID4713/pypeit-reduc/data-release-2/reduced_spec_msaexp_pypeit/spec1d_4713_18268_stack.fits\n"
     ]
    },
    {
     "data": {
      "application/vnd.jupyter.widget-view+json": {
       "model_id": "3b7d4bfeef234c8293d59afbc10afa37",
       "version_major": 2,
       "version_minor": 0
      },
      "text/plain": [
       "0it [00:00, ?it/s]"
      ]
     },
     "metadata": {},
     "output_type": "display_data"
    },
    {
     "name": "stderr",
     "output_type": "stream",
     "text": [
      "17:16 bilby INFO    : Using sampler Dynesty with kwargs {'bound': 'multi', 'sample': 'rwalk', 'print_progress': True, 'periodic': None, 'reflective': None, 'check_point_delta_t': 1800, 'nlive': 200, 'first_update': None, 'walks': 100, 'npdim': None, 'rstate': None, 'queue_size': 1, 'pool': None, 'use_pool': None, 'live_points': None, 'logl_args': None, 'logl_kwargs': None, 'ptform_args': None, 'ptform_kwargs': None, 'enlarge': 1.5, 'bootstrap': None, 'vol_dec': 0.5, 'vol_check': 8.0, 'facc': 0.2, 'slices': 5, 'update_interval': 120, 'print_func': <bound method Dynesty._print_func of <bilby.core.sampler.dynesty.Dynesty object at 0x168ab0aa0>>, 'dlogz': 0.1, 'maxiter': None, 'maxcall': None, 'logl_max': inf, 'add_live': True, 'save_bounds': False, 'n_effective': None, 'maxmcmc': 5000, 'nact': 5, 'print_method': 'tqdm'}\n",
      "17:16 bilby INFO    : Checkpoint every check_point_delta_t = 600s\n",
      "17:16 bilby INFO    : Using dynesty version 1.0.1\n",
      "17:16 bilby INFO    : Using the bilby-implemented rwalk sample method with ACT estimated walks\n",
      "17:16 bilby INFO    : Resume file ../../MASQUERADE_LAE/data/lya_saves//J0100/bilby_fit_lya_testprior//4713_18268_resume.pickle does not exist.\n",
      "17:16 bilby INFO    : Generating initial points from the prior\n",
      "17:17 bilby INFO    : Written checkpoint file ../../MASQUERADE_LAE/data/lya_saves//J0100/bilby_fit_lya_testprior//4713_18268_resume.pickle\n",
      "/Users/minghao/anaconda3/envs/jwst_pypeit/lib/python3.12/site-packages/dynesty/plotting.py:179: RuntimeWarning: overflow encountered in exp\n",
      "  data = [nlive, np.exp(logl), np.exp(logwt), np.exp(logz)]\n",
      "/Users/minghao/anaconda3/envs/jwst_pypeit/lib/python3.12/site-packages/dynesty/plotting.py:203: RuntimeWarning: overflow encountered in exp\n",
      "  zspan = (0., 1.05 * np.exp(logz[-1] + 3. * logzerr[-1]))\n",
      "17:17 bilby WARNING : Axis limits cannot be NaN or Inf\n",
      "17:17 bilby WARNING : Failed to create dynesty run plot at checkpoint\n",
      "17:17 bilby INFO    : Sampling time: 0:00:39.070823\n",
      "17:17 bilby INFO    : Summary of results:\n",
      "nsamples: 1914\n",
      "ln_noise_evidence:    nan\n",
      "ln_evidence: 922.317 +/-  0.204\n",
      "ln_bayes_factor:    nan +/-  0.204\n",
      "\n"
     ]
    },
    {
     "name": "stdout",
     "output_type": "stream",
     "text": [
      "\n"
     ]
    },
    {
     "data": {
      "image/png": "[encoded data removed]",
      "text/plain": [
       "<Figure size 640x480 with 1 Axes>"
      ]
     },
     "metadata": {},
     "output_type": "display_data"
    }
   ],
   "source": [
    "# fit msaexp\n",
    "\n",
    "outdir_msaexp = '../../MASQUERADE_LAE/data/lya_saves//J0100/bilby_fit_lya_testprior/'\n",
    "outdir_plot = '../../MASQUERADE_LAE/data/lya_saves/J0100/plotfit_testprior/'\n",
    "selectidx_msaexp = []\n",
    "\n",
    "spec1ddir = os.path.abspath(f'../pypeit-reduc/data-release-2/reduced_spec_msaexp_pypeit/')\n",
    "\n",
    "if not os.path.exists(outdir_msaexp):\n",
    "    os.system('mkdir %s'%outdir_msaexp)\n",
    "\n",
    "for index in range(len(allinfo)):\n",
    "    \n",
    "    z = allinfo['z_O3doublet_combined_n'][index]\n",
    "    isource = '4713_%d'%(allinfo['NUMBER'][index])\n",
    "\n",
    "\n",
    "    # find the spec1d file\n",
    "    spec1dfile = os.path.join(spec1ddir,'spec1d_%s_stack.fits'%isource)\n",
    "    if not os.path.exists(spec1dfile):\n",
    "        spec1dfile = os.path.join(spec1ddir,'manu1d_%s_stack.fits'%isource)\n",
    "    if not os.path.exists(spec1dfile):\n",
    "        continue\n",
    "\n",
    "    label = isource\n",
    "    \n",
    "    print('found %s'%spec1dfile)\n",
    "    msaexp_spec = LAE.PypeItSpecStacked(filename=spec1dfile, zO3=z, outdir=outdir_msaexp, label=label)\n",
    "    \n",
    "    plot_info = dict(title=isource, bestfit=f'{outdir_plot}/bestfit/%s.pdf'%isource, \\\n",
    "                    corner=f'{outdir_plot}/corner/%s.pdf'%isource)\n",
    "\n",
    "    \n",
    "\n",
    "    \n",
    "    try:\n",
    "        msaexp_spec.fit_lya_profile_bilby(priors='gaussian_test')\n",
    "        msaexp_spec.plot_best_fit(plot_info, linename='lya')\n",
    "        msaexp_spec.plot_contour_fit(plot_info)\n",
    "    \n",
    "        selectidx_msaexp.append(index)\n",
    "    except LAE.LineNotCoveredError:\n",
    "        pass"
   ]
  },
  {
   "cell_type": "code",
   "execution_count": 8,
   "id": "2652b930-bcb8-4afa-8174-6f09de99d264",
   "metadata": {},
   "outputs": [
    {
     "name": "stdout",
     "output_type": "stream",
     "text": [
      "4713_30\n",
      "2020\n",
      "4713_1228\n",
      "2631\n"
     ]
    },
    {
     "name": "stderr",
     "output_type": "stream",
     "text": [
      "/Users/minghao/Research/Projects/JWST/MASQUERADE_LAE/github/MASQUERADE_LAE/lya_stats/LAE_spec_utils.py:535: RuntimeWarning: divide by zero encountered in power\n",
      "  self.err_fnu = (self.ivar_fnu)**-0.5\n",
      "/Users/minghao/Research/Projects/JWST/MASQUERADE_LAE/github/MASQUERADE_LAE/lya_stats/LAE_spec_utils.py:541: RuntimeWarning: invalid value encountered in divide\n",
      "  self.flam = self.fnu * speed_of_light_angstrom / (self.wave)**2 * 1e-29 * 1e18\n",
      "/Users/minghao/Research/Projects/JWST/MASQUERADE_LAE/github/MASQUERADE_LAE/lya_stats/LAE_spec_utils.py:542: RuntimeWarning: divide by zero encountered in divide\n",
      "  self.err_flam = self.err_fnu * (speed_of_light_angstrom / (self.wave)**2 * 1e-29 * 1e18)\n",
      "/Users/minghao/Research/Projects/JWST/MASQUERADE_LAE/github/MASQUERADE_LAE/lya_stats/LAE_spec_utils.py:86: RuntimeWarning: invalid value encountered in log10\n",
      "  return -2.5 * np.log10(intflux/zpflux)\n",
      "/Users/minghao/Research/Projects/JWST/MASQUERADE_LAE/github/MASQUERADE_LAE/lya_stats/LAE_spec_utils.py:64: RuntimeWarning: invalid value encountered in log10\n",
      "  return -2.5 * np.log10(intflux/zpflux)\n"
     ]
    },
    {
     "name": "stdout",
     "output_type": "stream",
     "text": [
      "4713_2007\n",
      "1679\n",
      "4713_2084\n",
      "2503\n",
      "4713_2159\n",
      "2161\n",
      "4713_2355\n",
      "1801\n",
      "4713_3783\n",
      "1635\n",
      "4713_4080\n",
      "1911\n",
      "4713_4184\n",
      "2166\n",
      "4713_4222\n",
      "2159\n",
      "4713_5378\n",
      "1662\n",
      "4713_5581\n",
      "1571\n",
      "4713_5595\n",
      "2098\n",
      "4713_5671\n",
      "2277\n",
      "4713_6733\n"
     ]
    },
    {
     "name": "stderr",
     "output_type": "stream",
     "text": [
      "/var/folders/m5/5xhngx8s14x6msxbxwc00drr0000gn/T/ipykernel_19454/1657338942.py:70: RuntimeWarning: divide by zero encountered in divide\n",
      "  fesc = msaexp_spec.EW_quantile / EW_from_Hb[0]\n"
     ]
    },
    {
     "name": "stdout",
     "output_type": "stream",
     "text": [
      "3795\n",
      "4713_7194\n",
      "2181\n",
      "4713_7230\n",
      "2297\n",
      "4713_7430\n",
      "1896\n",
      "4713_8514\n",
      "1813\n",
      "4713_9273\n",
      "1930\n",
      "4713_9970\n",
      "1909\n",
      "4713_10116\n",
      "2178\n",
      "4713_10235\n",
      "1452\n",
      "4713_10287\n",
      "3063\n",
      "4713_10683\n",
      "1590\n",
      "4713_10998\n",
      "2089\n",
      "4713_11362\n",
      "1866\n",
      "4713_11743\n",
      "3305\n",
      "4713_11981\n",
      "4153\n",
      "4713_12217\n",
      "2196\n",
      "4713_12285\n",
      "1819\n",
      "4713_12643\n",
      "1931\n",
      "4713_12754\n",
      "1931\n",
      "4713_12817\n",
      "1707\n",
      "4713_13590\n",
      "1468\n",
      "4713_13753\n",
      "1810\n",
      "4713_13864\n",
      "1811\n",
      "4713_15162\n",
      "1763\n",
      "4713_15437\n",
      "1668\n",
      "4713_15612\n",
      "1705\n",
      "4713_15627\n",
      "1630\n",
      "4713_16184\n",
      "1729\n",
      "4713_16322\n",
      "1687\n",
      "4713_16479\n",
      "3001\n",
      "4713_16759\n",
      "2575\n",
      "4713_17352\n",
      "1803\n",
      "4713_17385\n",
      "2698\n",
      "4713_17435\n",
      "3340\n",
      "4713_17492\n",
      "2503\n",
      "4713_18057\n",
      "1588\n",
      "4713_18061\n",
      "2249\n",
      "4713_18268\n",
      "1914\n"
     ]
    }
   ],
   "source": [
    "\n",
    "selectidx_msaexp = []\n",
    "zlyalist_msaexp = []\n",
    "fwhmlist_msaexp = []\n",
    "fluxlist_msaexp = []\n",
    "EWlist_msaexp = []\n",
    "Muvlist_msaexp = []\n",
    "EWfromHb_msaexp = []\n",
    "fesclist_msaexp = []\n",
    "\n",
    "\n",
    "hb_masked = np.ma.is_masked(allinfo['f_Hb'])\n",
    "\n",
    "\n",
    "for index in range(len(allinfo)):\n",
    "    \n",
    "    z = allinfo['z_O3doublet_combined_n'][index]\n",
    "        \n",
    "    isource = '4713_%d'%(allinfo['NUMBER'][index])\n",
    "    label = isource\n",
    "    \n",
    "    if not os.path.exists(outdir_msaexp+f'{isource}_result.json'):\n",
    "        continue\n",
    "    else:\n",
    "        print(isource)\n",
    "        \n",
    "    # find the spec1d file\n",
    "    spec1dfile = os.path.join(spec1ddir,'spec1d_%s_stack.fits'%isource)\n",
    "\n",
    "    if not os.path.exists(spec1dfile):\n",
    "        \n",
    "        spec1dfile = os.path.join(spec1ddir,'manu1d_%s_stack.fits'%isource)\n",
    "    \n",
    "    if not os.path.exists(spec1dfile):\n",
    "        continue\n",
    "        \n",
    "\n",
    "    label = isource\n",
    "    msaexp_spec = LAE.PypeItSpecStacked(filename=spec1dfile, zO3=z, outdir=outdir_msaexp, label=label)\n",
    "    \n",
    "    # read info for fitting\n",
    "    mag_F115W = allinfo['MAG_AUTO_F115W_apcor'][index]\n",
    "    mag_F200W = allinfo['MAG_AUTO_F200W_apcor'][index]\n",
    "    emag_F115W = allinfo['enu_F115W_aper_model'][index]/\\\n",
    "                allinfo['fnu_F115W_AUTO_apcor'][index]*2.5/np.log(10)\n",
    "    emag_F200W = allinfo['enu_F200W_aper_model'][index]/\\\n",
    "                allinfo['fnu_F200W_AUTO_apcor'][index]*2.5/np.log(10)\n",
    "    fHb = allinfo['f_Hb'][index]\n",
    "    fHb_err = allinfo['f_Hb_err'][index]\n",
    "    \n",
    "    mags = [mag_F115W,mag_F200W]\n",
    "    magerrs = [emag_F115W,emag_F200W]\n",
    "    Muv = LAE.get_Muv_from_mag(mags, magerrs, z, cosmo)\n",
    "    \n",
    "    # only include objects with Hb\n",
    "    fHb = allinfo['f_Hb'][index]\n",
    "    fHb_err = allinfo['f_Hb_err'][index]\n",
    "        \n",
    "    EW_from_Hb = LAE.EW_Lya_from_NIRCam(fHb, fHb_err, mags, magerrs, z)\n",
    "\n",
    "    # gather necessary info\n",
    "    msaexp_spec.get_line_properties()\n",
    "    selectidx_msaexp.append(index)\n",
    "    zlyalist_msaexp.append(msaexp_spec.zlya_quantile)\n",
    "    fwhmlist_msaexp.append(msaexp_spec.fwhm_quantile)\n",
    "    fluxlist_msaexp.append(msaexp_spec.flam_quantile)\n",
    "    EWlist_msaexp.append(msaexp_spec.EW_quantile)\n",
    "    Muvlist_msaexp.append(Muv)\n",
    "    EWfromHb_msaexp.append(EW_from_Hb)\n",
    "        \n",
    "    fesc = msaexp_spec.EW_quantile / EW_from_Hb[0]\n",
    "    fesclist_msaexp.append(fesc)\n",
    "\n",
    "    print(len(msaexp_spec.EW_sample))"
   ]
  },
  {
   "cell_type": "code",
   "execution_count": 10,
   "id": "275fc80a-4f9e-4747-8ee6-0e62b3506301",
   "metadata": {},
   "outputs": [
    {
     "data": {
      "text/plain": [
       "1914"
      ]
     },
     "execution_count": 10,
     "metadata": {},
     "output_type": "execute_result"
    }
   ],
   "source": [
    "len(msaexp_spec.EW_sample)# * 0.135 / 100"
   ]
  },
  {
   "cell_type": "markdown",
   "id": "df5901b6-5202-4f5b-bbea-873a50d5a94b",
   "metadata": {},
   "source": [
    "# save the fitting results into tables"
   ]
  },
  {
   "cell_type": "code",
   "execution_count": 12,
   "id": "38787d68-68cd-4704-a23c-d943983634a9",
   "metadata": {},
   "outputs": [
    {
     "name": "stderr",
     "output_type": "stream",
     "text": [
      "/var/folders/m5/5xhngx8s14x6msxbxwc00drr0000gn/T/ipykernel_19454/3405280848.py:9: UserWarning: Warning: converting a masked element to nan.\n",
      "  selectedinfo_msaexp['EWfromHb'] = np.array(EWfromHb_msaexp)\n"
     ]
    }
   ],
   "source": [
    "# selected tbl\n",
    "selectedinfo_msaexp = allinfo[selectidx_msaexp][:]\n",
    "\n",
    "selectedinfo_msaexp['EWquantile'] = np.array(EWlist_msaexp)\n",
    "selectedinfo_msaexp['FWHMquantile'] = np.array(fwhmlist_msaexp)\n",
    "selectedinfo_msaexp['zlyaquantile'] = np.array(zlyalist_msaexp)\n",
    "selectedinfo_msaexp['fluxquantile'] = np.array(fluxlist_msaexp)\n",
    "selectedinfo_msaexp['Muv'] = np.array(Muvlist_msaexp)\n",
    "selectedinfo_msaexp['EWfromHb'] = np.array(EWfromHb_msaexp)\n",
    "selectedinfo_msaexp['fesc'] = np.array(fesclist_msaexp)\n",
    "\n",
    "\n",
    "selectedinfo_msaexp.write('../../MASQUERADE_LAE/data/lya_saves/lyainfo_J0100_testprior.fits', overwrite=True)\n"
   ]
  },
  {
   "cell_type": "code",
   "execution_count": 14,
   "id": "274877f4-ce31-42d8-89d2-f374516eb6cf",
   "metadata": {},
   "outputs": [],
   "source": [
    "\n",
    "original_msaexp = Table.read('../../MASQUERADE_LAE/data/lya_saves/lyainfo_J0100_msaexp_pypeit.fits')"
   ]
  },
  {
   "cell_type": "code",
   "execution_count": 20,
   "id": "3b27b931-5278-418e-9de4-370c70207db5",
   "metadata": {},
   "outputs": [
    {
     "data": {
      "text/plain": [
       "['NUMBERv4',\n",
       " 'NUMBER',\n",
       " 'ID_1',\n",
       " 'RA',\n",
       " 'DEC',\n",
       " 'zguess',\n",
       " 'DK_JM_ave_score',\n",
       " 'Nclumps_Y',\n",
       " 'Nclumps_spec',\n",
       " 'Module_ignore',\n",
       " 'REDO_1D',\n",
       " 'comments_fitting',\n",
       " 'MANUAL_CHANGE_zspec',\n",
       " 'comments_zspec',\n",
       " 'z_O3doublet_combined_n',\n",
       " 'f_Hb',\n",
       " 'f_O3_4960',\n",
       " 'f_O3_5008',\n",
       " 'f_Hb_err',\n",
       " 'f_O3_4960_err',\n",
       " 'f_O3_5008_err',\n",
       " 'id_1a',\n",
       " 'ID_PARENT_det',\n",
       " 'ALPHA_J2000_det',\n",
       " 'DELTA_J2000_det',\n",
       " 'X_IMAGE_det',\n",
       " 'Y_IMAGE_det',\n",
       " 'A_IMAGE_det',\n",
       " 'B_IMAGE_det',\n",
       " 'THETA_IMAGE_det',\n",
       " 'ELONGATION_det',\n",
       " 'ELLIPTICITY_det',\n",
       " 'FWHM_WORLD_det',\n",
       " 'CLASS_STAR_det',\n",
       " 'BACKGROUND_det',\n",
       " 'ap_corr',\n",
       " 'MAG_AUTO_F356W_apcor',\n",
       " 'MAG_AUTO_F200W_apcor',\n",
       " 'MAG_AUTO_F115W_apcor',\n",
       " 'MAG_AUTO_F850LP_apcor',\n",
       " 'MAG_AUTO_F775W_apcor',\n",
       " 'MAG_AUTO_F606W_apcor',\n",
       " 'fnu_F356W_AUTO_apcor',\n",
       " 'enu_F356W_aper_model',\n",
       " 'fnu_F200W_AUTO_apcor',\n",
       " 'enu_F200W_aper_model',\n",
       " 'fnu_F115W_AUTO_apcor',\n",
       " 'enu_F115W_aper_model',\n",
       " 'fnu_F850LP_AUTO_apcor',\n",
       " 'enu_F850LP_aper_model',\n",
       " 'fnu_F775W_AUTO_apcor',\n",
       " 'enu_F775W_aper_model',\n",
       " 'fnu_F606W_AUTO_apcor',\n",
       " 'enu_F606W_aper_model',\n",
       " 'good_mag',\n",
       " 'good_nrc',\n",
       " 'CHECK_PHOTOMETRY',\n",
       " 'BACKWARD_ONLY',\n",
       " 'CATALOG_MISSED',\n",
       " 'BACKWARD',\n",
       " 'BACKWARD_INFO',\n",
       " 'CONFID',\n",
       " 'EWquantile',\n",
       " 'FWHMquantile',\n",
       " 'zlyaquantile',\n",
       " 'fluxquantile',\n",
       " 'Muv',\n",
       " 'EWfromHb',\n",
       " 'fesc']"
      ]
     },
     "execution_count": 20,
     "metadata": {},
     "output_type": "execute_result"
    }
   ],
   "source": [
    "selectedinfo_msaexp.colnames"
   ]
  },
  {
   "cell_type": "code",
   "execution_count": 33,
   "id": "edbb340e-cf93-432b-ad40-42c52ec1811c",
   "metadata": {
    "scrolled": true
   },
   "outputs": [
    {
     "data": {
      "image/png": "[encoded data removed]",
      "text/plain": [
       "<Figure size 640x480 with 1 Axes>"
      ]
     },
     "metadata": {},
     "output_type": "display_data"
    }
   ],
   "source": [
    "xerr = [selectedinfo_msaexp['EWquantile'][:,3]-selectedinfo_msaexp['EWquantile'][:,2], \\\n",
    "        selectedinfo_msaexp['EWquantile'][:,4]-selectedinfo_msaexp['EWquantile'][:,3]]\n",
    "yerr = [original_msaexp['EWquantile'][:,3]-original_msaexp['EWquantile'][:,2], \\\n",
    "        original_msaexp['EWquantile'][:,4]-original_msaexp['EWquantile'][:,3]]\n",
    "\n",
    "plt.errorbar(selectedinfo_msaexp['EWquantile'][:,3], original_msaexp['EWquantile'][:,3], xerr=xerr, yerr=yerr, fmt='.')\n",
    "plt.plot([-200,300], [-200, 300], '--')\n",
    "\n",
    "plt.xlabel(r'Ly$\\alpha$ EW (Gaussian Prior)', fontsize=14)\n",
    "plt.ylabel(r'Ly$\\alpha$ EW (Flat Prior)', fontsize=14)\n",
    "plt.title('J0100 field', fontsize=16)\n",
    "\n",
    "plt.savefig('priortest.pdf')"
   ]
  },
  {
   "cell_type": "code",
   "execution_count": 31,
   "id": "12c82a26-1744-47a8-9683-a3324ee5a094",
   "metadata": {},
   "outputs": [],
   "source": [
    "!open ."
   ]
  },
  {
   "cell_type": "code",
   "execution_count": 31,
   "id": "461fd579-a2fa-42e9-b5d7-3fd435af6d45",
   "metadata": {},
   "outputs": [
    {
     "data": {
      "text/html": [
       "<div><i>Table length=2</i>\n",
       "<table id=\"table18445634304\" class=\"table-striped table-bordered table-condensed\">\n",
       "<thead><tr><th>NUMBERv4</th><th>NUMBER</th><th>ID_1</th><th>RA</th><th>DEC</th><th>zguess</th><th>DK_JM_ave_score</th><th>Nclumps_Y</th><th>Nclumps_spec</th><th>Module_ignore</th><th>REDO_1D</th><th>comments_fitting</th><th>MANUAL_CHANGE_zspec</th><th>comments_zspec</th><th>z_O3doublet_combined_n</th><th>f_Hb</th><th>f_O3_4960</th><th>f_O3_5008</th><th>f_Hb_err</th><th>f_O3_4960_err</th><th>f_O3_5008_err</th><th>id_1a</th><th>ID_PARENT_det</th><th>ALPHA_J2000_det</th><th>DELTA_J2000_det</th><th>X_IMAGE_det</th><th>Y_IMAGE_det</th><th>A_IMAGE_det</th><th>B_IMAGE_det</th><th>THETA_IMAGE_det</th><th>ELONGATION_det</th><th>ELLIPTICITY_det</th><th>FWHM_WORLD_det</th><th>CLASS_STAR_det</th><th>BACKGROUND_det</th><th>ap_corr</th><th>MAG_AUTO_F356W_apcor</th><th>MAG_AUTO_F200W_apcor</th><th>MAG_AUTO_F115W_apcor</th><th>MAG_AUTO_F850LP_apcor</th><th>MAG_AUTO_F775W_apcor</th><th>MAG_AUTO_F606W_apcor</th><th>fnu_F356W_AUTO_apcor</th><th>enu_F356W_aper_model</th><th>fnu_F200W_AUTO_apcor</th><th>enu_F200W_aper_model</th><th>fnu_F115W_AUTO_apcor</th><th>enu_F115W_aper_model</th><th>fnu_F850LP_AUTO_apcor</th><th>enu_F850LP_aper_model</th><th>fnu_F775W_AUTO_apcor</th><th>enu_F775W_aper_model</th><th>fnu_F606W_AUTO_apcor</th><th>enu_F606W_aper_model</th><th>good_mag</th><th>good_nrc</th><th>CHECK_PHOTOMETRY</th><th>BACKWARD_ONLY</th><th>CATALOG_MISSED</th><th>BACKWARD</th><th>BACKWARD_INFO</th><th>CONFID</th><th>EWquantile</th><th>FWHMquantile</th><th>zlyaquantile</th><th>fluxquantile</th><th>Muv</th><th>EWfromHb</th><th>fesc</th></tr></thead>\n",
       "<thead><tr><th></th><th></th><th></th><th></th><th></th><th></th><th></th><th></th><th></th><th></th><th></th><th></th><th></th><th></th><th></th><th></th><th></th><th></th><th></th><th></th><th></th><th></th><th></th><th>deg</th><th>deg</th><th>pix</th><th>pix</th><th>pix</th><th>pix</th><th>deg</th><th></th><th></th><th>deg</th><th></th><th>ct</th><th>mag</th><th>mag</th><th>mag</th><th>mag</th><th>mag</th><th>mag</th><th>mag</th><th>ct</th><th>ct</th><th>ct</th><th>ct</th><th>ct</th><th>ct</th><th>ct</th><th>ct</th><th>ct</th><th>ct</th><th>ct</th><th>ct</th><th></th><th></th><th></th><th></th><th></th><th></th><th></th><th></th><th></th><th></th><th></th><th></th><th></th><th></th><th></th></tr></thead>\n",
       "<thead><tr><th>float64</th><th>float64</th><th>bytes7</th><th>float64</th><th>float64</th><th>float64</th><th>float64</th><th>float64</th><th>float64</th><th>bytes5</th><th>bool</th><th>bytes17</th><th>bool</th><th>bytes51</th><th>float64</th><th>float64</th><th>float64</th><th>float64</th><th>float64</th><th>float64</th><th>float64</th><th>bytes7</th><th>int32</th><th>float64</th><th>float64</th><th>float32</th><th>float32</th><th>float32</th><th>float32</th><th>float32</th><th>float32</th><th>float32</th><th>float32</th><th>float32</th><th>float32</th><th>float32</th><th>float32</th><th>float32</th><th>float32</th><th>float32</th><th>float32</th><th>float32</th><th>float32</th><th>float64</th><th>float32</th><th>float64</th><th>float32</th><th>float64</th><th>float32</th><th>float32</th><th>float32</th><th>float32</th><th>float32</th><th>float32</th><th>bool</th><th>bool</th><th>bool</th><th>bool</th><th>bool</th><th>bool</th><th>bytes32</th><th>float64</th><th>float64[7]</th><th>float64[7]</th><th>float64[7]</th><th>float64[7]</th><th>float64</th><th>float64[2]</th><th>float64[7]</th></tr></thead>\n",
       "<tr><td>7430.0</td><td>7430.0</td><td>7430_0</td><td>15.069165392971382</td><td>28.026542306054257</td><td>6.661</td><td>2.0</td><td>1.0</td><td>1.0</td><td>--</td><td>False</td><td>--</td><td>False</td><td>--</td><td>6.663049033076297</td><td>0.2612965213322771</td><td>0.21165384299824952</td><td>1.601774012794921</td><td>0.11003465942975832</td><td>0.11451283654653548</td><td>0.11879219557043877</td><td>7430_0</td><td>7120</td><td>15.069165392971382</td><td>28.026542306054257</td><td>9571.367</td><td>3289.2922</td><td>2.846437</td><td>2.3656785</td><td>27.524794</td><td>1.2032222</td><td>0.16889834</td><td>0.0022904638</td><td>0.006099707</td><td>0.00015193119</td><td>-0.44273603</td><td>27.340971</td><td>27.680538</td><td>27.836979</td><td>28.045517</td><td>27.79116</td><td>29.183474</td><td>42.0351</td><td>1.9994058032493585</td><td>30.74573</td><td>1.6790401748340475</td><td>26.62007</td><td>2.733579709609048</td><td>21.968157</td><td>11.866006</td><td>27.767452</td><td>8.814555</td><td>7.702119</td><td>5.869114</td><td>True</td><td>True</td><td>False</td><td>True</td><td>False</td><td>True</td><td>2b_2249,</td><td>1.0</td><td>-11.298549385845083 .. 22.464070162268168</td><td>301.13813820040735 .. 998.3485167504479</td><td>7.647741205225259 .. 7.678309816113104</td><td>-1.1827907869921983 .. 2.2142306873077175</td><td>-19.02451849910381</td><td>91.81237303086543 .. 38.663136984676235</td><td>-0.12306129351483752 .. 0.24467366892604125</td></tr>\n",
       "<tr><td>17492.0</td><td>17492.0</td><td>17492_1</td><td>15.029261552780975</td><td>28.065109192767657</td><td>6.731724184247106</td><td>7.0</td><td>1.0</td><td>1.0</td><td>--</td><td>False</td><td>--</td><td>False</td><td>--</td><td>6.727733323610757</td><td>0.36271583635967275</td><td>1.0109700476208072</td><td>1.6095704545596279</td><td>0.1038992189830268</td><td>0.1048911148742519</td><td>0.14268093198089105</td><td>17492_1</td><td>10256</td><td>15.029261552780975</td><td>28.065109192767657</td><td>3385.6897</td><td>4297.4883</td><td>2.9860792</td><td>2.2749627</td><td>-34.99638</td><td>1.3125838</td><td>0.23814392</td><td>0.0025653604</td><td>0.01089811</td><td>0.0003360098</td><td>-0.3250717</td><td>27.477715</td><td>27.966146</td><td>27.667862</td><td>98.67493</td><td>98.67493</td><td>98.67493</td><td>37.060753</td><td>2.877789703047733</td><td>23.634243</td><td>2.3545430226341386</td><td>31.106808</td><td>4.024447841018307</td><td>-99.0</td><td>-99.0</td><td>-99.0</td><td>-99.0</td><td>-99.0</td><td>-99.0</td><td>False</td><td>True</td><td>False</td><td>False</td><td>False</td><td>True</td><td>3a_2835,</td><td>2.0</td><td>21.452409311781704 .. 89.70360578647737</td><td>300.32560731546374 .. 926.2808150180615</td><td>7.731185196813408 .. 7.736591780399056</td><td>1.7332939465297628 .. 4.5726012822687165</td><td>-19.198939505522258</td><td>94.39960722169384 .. 27.0405768909211</td><td>0.22725104418497788 .. 0.9502540151021169</td></tr>\n",
       "</table></div>"
      ],
      "text/plain": [
       "<Table length=2>\n",
       "NUMBERv4  NUMBER ...                     fesc                   \n",
       "                 ...                                            \n",
       "float64  float64 ...                  float64[7]                \n",
       "-------- ------- ... -------------------------------------------\n",
       "  7430.0  7430.0 ... -0.12306129351483752 .. 0.24467366892604125\n",
       " 17492.0 17492.0 ...   0.22725104418497788 .. 0.9502540151021169"
      ]
     },
     "execution_count": 31,
     "metadata": {},
     "output_type": "execute_result"
    }
   ],
   "source": [
    "selectedinfo_msaexp[(selectedinfo_msaexp['z_O3doublet_combined_n']>6.6)\\\n",
    "                    &(selectedinfo_msaexp['Muv']<-19)\\\n",
    "                    &(selectedinfo_msaexp['Muv']>-19.2)]"
   ]
  },
  {
   "cell_type": "markdown",
   "id": "6aa5d5ab-441c-47d6-9a6d-0efc8b20d2ba",
   "metadata": {},
   "source": [
    "# lya luminosity"
   ]
  },
  {
   "cell_type": "code",
   "execution_count": 22,
   "id": "b99f146f-af09-4fe4-b533-1ecfc7dbab43",
   "metadata": {},
   "outputs": [
    {
     "data": {
      "text/plain": [
       "'/Users/minghao/Research/Projects/JWST/ID4713/lya_profile'"
      ]
     },
     "execution_count": 22,
     "metadata": {},
     "output_type": "execute_result"
    },
    {
     "name": "stdout",
     "output_type": "stream",
     "text": [
      "The history saving thread hit an unexpected error (OperationalError('attempt to write a readonly database')).History will not be written to the database.\n"
     ]
    }
   ],
   "source": [
    "pwd"
   ]
  },
  {
   "cell_type": "code",
   "execution_count": 9,
   "id": "fdeaccff-3358-4020-b8df-f1a282399e3e",
   "metadata": {},
   "outputs": [],
   "source": [
    "from astropy.cosmology import FlatLambdaCDM\n",
    "defaultcosmo = FlatLambdaCDM(H0=70, Om0=0.3)\n"
   ]
  },
  {
   "cell_type": "code",
   "execution_count": 10,
   "id": "c73f4f77-7cf3-4735-a0bf-15560ab680f7",
   "metadata": {},
   "outputs": [],
   "source": [
    "lumdist = defaultcosmo.luminosity_distance(selectedinfo_msaexp['z_O3doublet_combined_n']).to('cm').value"
   ]
  },
  {
   "cell_type": "code",
   "execution_count": 17,
   "id": "7ee29b64-5012-42f1-84bc-47fe587c5557",
   "metadata": {},
   "outputs": [],
   "source": [
    "mask = selectedinfo_msaexp['fluxquantile'][:,0]>0"
   ]
  },
  {
   "cell_type": "code",
   "execution_count": 18,
   "id": "98193a5b-b909-4eb8-a85f-11ebfa7efad0",
   "metadata": {},
   "outputs": [
    {
     "name": "stderr",
     "output_type": "stream",
     "text": [
      "/var/folders/26/2d71k7kx5850kmtprc1hb3dr0000gn/T/ipykernel_14891/1488053461.py:1: RuntimeWarning: invalid value encountered in log10\n",
      "  plt.hist(np.log10(4*np.pi*lumdist**2*1e-18*selectedinfo_msaexp['fluxquantile'][:,3])[mask])\n"
     ]
    },
    {
     "data": {
      "text/plain": [
       "(array([2., 1., 2., 1., 2., 2., 0., 0., 0., 1.]),\n",
       " array([41.94803818, 42.06741772, 42.18679725, 42.30617678, 42.42555632,\n",
       "        42.54493585, 42.66431539, 42.78369492, 42.90307445, 43.02245399,\n",
       "        43.14183352]),\n",
       " <BarContainer object of 10 artists>)"
      ]
     },
     "execution_count": 18,
     "metadata": {},
     "output_type": "execute_result"
    },
    {
     "data": {
      "image/png": "[encoded data removed]",
      "text/plain": [
       "<Figure size 640x480 with 1 Axes>"
      ]
     },
     "metadata": {},
     "output_type": "display_data"
    }
   ],
   "source": [
    "plt.hist(np.log10(4*np.pi*lumdist**2*1e-18*selectedinfo_msaexp['fluxquantile'][:,3])[mask])"
   ]
  },
  {
   "cell_type": "code",
   "execution_count": 21,
   "id": "880ea0e2-66d4-4b7b-8b47-356adaae3085",
   "metadata": {},
   "outputs": [
    {
     "name": "stderr",
     "output_type": "stream",
     "text": [
      "/var/folders/26/2d71k7kx5850kmtprc1hb3dr0000gn/T/ipykernel_14891/217309236.py:1: RuntimeWarning: invalid value encountered in log10\n",
      "  logLlya = np.log10(4*np.pi*lumdist**2*1e-18*selectedinfo_msaexp['fluxquantile'][:,3])\n"
     ]
    }
   ],
   "source": [
    "logLlya = np.log10(4*np.pi*lumdist**2*1e-18*selectedinfo_msaexp['fluxquantile'][:,3])\n",
    "# 1 sigma error\n"
   ]
  },
  {
   "cell_type": "code",
   "execution_count": 26,
   "id": "916545fb-864e-4bda-9d10-70b858c0d151",
   "metadata": {},
   "outputs": [
    {
     "data": {
      "text/plain": [
       "(0.0, 3.0)"
      ]
     },
     "execution_count": 26,
     "metadata": {},
     "output_type": "execute_result"
    },
    {
     "data": {
      "image/png": "[encoded data removed]",
      "text/plain": [
       "<Figure size 640x480 with 1 Axes>"
      ]
     },
     "metadata": {},
     "output_type": "display_data"
    }
   ],
   "source": [
    "\n",
    "plt.errorbar(logLlya, \\\n",
    "            (selectedinfo_msaexp['fluxquantile'][:,4]-selectedinfo_msaexp['fluxquantile'][:,2])/2/selectedinfo_msaexp['fluxquantile'][:,3],\\\n",
    "            fmt='.')\n",
    "plt.xlim([41,45])\n",
    "plt.ylim([0,3])"
   ]
  },
  {
   "cell_type": "code",
   "execution_count": 34,
   "id": "5811c923-3fb0-437e-b58a-bf239864b82c",
   "metadata": {},
   "outputs": [
    {
     "data": {
      "text/plain": [
       "(array([ 0.,  0.,  0.,  0.,  0.,  0.,  0.,  0.,  2., 16., 14.,  5.,  3.,\n",
       "         1.,  3.,  0.,  0.,  1.,  0.,  1.,  0.,  0.,  0.,  0.,  0.,  0.,\n",
       "         0.,  0.,  0.]),\n",
       " array([-1.00000000e+00, -9.00000000e-01, -8.00000000e-01, -7.00000000e-01,\n",
       "        -6.00000000e-01, -5.00000000e-01, -4.00000000e-01, -3.00000000e-01,\n",
       "        -2.00000000e-01, -1.00000000e-01, -2.22044605e-16,  1.00000000e-01,\n",
       "         2.00000000e-01,  3.00000000e-01,  4.00000000e-01,  5.00000000e-01,\n",
       "         6.00000000e-01,  7.00000000e-01,  8.00000000e-01,  9.00000000e-01,\n",
       "         1.00000000e+00,  1.10000000e+00,  1.20000000e+00,  1.30000000e+00,\n",
       "         1.40000000e+00,  1.50000000e+00,  1.60000000e+00,  1.70000000e+00,\n",
       "         1.80000000e+00,  1.90000000e+00]),\n",
       " <BarContainer object of 29 artists>)"
      ]
     },
     "execution_count": 34,
     "metadata": {},
     "output_type": "execute_result"
    },
    {
     "data": {
      "image/png": "[encoded data removed]",
      "text/plain": [
       "<Figure size 640x480 with 1 Axes>"
      ]
     },
     "metadata": {},
     "output_type": "display_data"
    }
   ],
   "source": [
    "plt.hist(selectedinfo_msaexp['fesc'][:,3],bins=np.arange(-1,2,0.1))"
   ]
  },
  {
   "cell_type": "code",
   "execution_count": 37,
   "id": "2281c0e9-5a7c-425e-aca3-fc7b8979c206",
   "metadata": {},
   "outputs": [
    {
     "data": {
      "text/plain": [
       "0.017584035091244926"
      ]
     },
     "execution_count": 37,
     "metadata": {},
     "output_type": "execute_result"
    }
   ],
   "source": [
    "np.nanmedian(selectedinfo_msaexp['fesc'][:,3])"
   ]
  },
  {
   "cell_type": "markdown",
   "id": "1640dcbb-3f71-4819-95b3-2937dc12c1cd",
   "metadata": {},
   "source": [
    "# Estimate the lya escape fraction distribution"
   ]
  },
  {
   "cell_type": "code",
   "execution_count": 60,
   "id": "3cb68396-d524-4086-aece-df136dcf75a7",
   "metadata": {},
   "outputs": [
    {
     "data": {
      "text/plain": [
       "<module 'LAE_spec_utils' from '/Users/myue/Research/Projects/JWST/dependencies/msa_spec_utils/LAE_spec_utils.py'>"
      ]
     },
     "execution_count": 60,
     "metadata": {},
     "output_type": "execute_result"
    }
   ],
   "source": [
    "import importlib\n",
    "importlib.reload(LAE)"
   ]
  },
  {
   "cell_type": "code",
   "execution_count": 61,
   "id": "505d1aea-1e91-43c5-b682-8d6fe7c6a488",
   "metadata": {},
   "outputs": [
    {
     "data": {
      "text/plain": [
       "(106.60092054509668, 39.27604438956014)"
      ]
     },
     "execution_count": 61,
     "metadata": {},
     "output_type": "execute_result"
    }
   ],
   "source": [
    "\n",
    "LAE.EW_Lya_from_NIRCam(fHb, fHb_err, mags, magerrs, z)"
   ]
  },
  {
   "cell_type": "code",
   "execution_count": 62,
   "id": "a618a310-7fbd-4772-8258-566c1d61ecee",
   "metadata": {},
   "outputs": [
    {
     "name": "stderr",
     "output_type": "stream",
     "text": [
      "/Users/myue/Research/Projects/JWST/dependencies/msa_spec_utils/LAE_spec_utils.py:85: RuntimeWarning: invalid value encountered in log10\n",
      "  return -2.5 * np.log10(intflux/zpflux)\n"
     ]
    }
   ],
   "source": [
    "res = LAE.fit_UV_params([27, 27], [0.1, 0.1], 6.5)"
   ]
  },
  {
   "cell_type": "code",
   "execution_count": 68,
   "id": "f2f9a2bb-8857-437b-bd10-6f9a026ccf6c",
   "metadata": {},
   "outputs": [
    {
     "data": {
      "text/plain": [
       "-3.2188758248682006"
      ]
     },
     "execution_count": 68,
     "metadata": {},
     "output_type": "execute_result"
    }
   ],
   "source": [
    "np.log(0.04)"
   ]
  },
  {
   "cell_type": "code",
   "execution_count": 64,
   "id": "f6cccbf6-d79f-4268-be81-f9b325abc116",
   "metadata": {},
   "outputs": [
    {
     "data": {
      "text/plain": [
       "array([0.00129258, 0.23955911])"
      ]
     },
     "execution_count": 64,
     "metadata": {},
     "output_type": "execute_result"
    }
   ],
   "source": [
    "np.sqrt(np.diag(res[1]))"
   ]
  },
  {
   "cell_type": "code",
   "execution_count": 65,
   "id": "1534e69a-c8d4-42e6-80b4-658e7d2723b9",
   "metadata": {},
   "outputs": [
    {
     "data": {
      "text/plain": [
       "-0.050283055823088285"
      ]
     },
     "execution_count": 65,
     "metadata": {},
     "output_type": "execute_result"
    }
   ],
   "source": [
    "0.23955911 * np.log(1216/1500)"
   ]
  },
  {
   "cell_type": "code",
   "execution_count": 66,
   "id": "339a726e-5d99-47e1-8493-ff51e5fa5530",
   "metadata": {},
   "outputs": [
    {
     "data": {
      "text/plain": [
       "0.62495245449247"
      ]
     },
     "execution_count": 66,
     "metadata": {},
     "output_type": "execute_result"
    }
   ],
   "source": [
    "(1216/1500)**(2+0.23955911)"
   ]
  },
  {
   "cell_type": "code",
   "execution_count": 67,
   "id": "26dd97b4-4b08-4df7-b7b6-765cfce63145",
   "metadata": {},
   "outputs": [
    {
     "data": {
      "text/plain": [
       "0.6910703901642188"
      ]
     },
     "execution_count": 67,
     "metadata": {},
     "output_type": "execute_result"
    }
   ],
   "source": [
    "(1216/1500)**(2-0.23955911)"
   ]
  },
  {
   "cell_type": "code",
   "execution_count": null,
   "id": "bbd86656-d633-4420-a7e0-83db022b971a",
   "metadata": {},
   "outputs": [],
   "source": []
  }
 ],
 "metadata": {
  "kernelspec": {
   "display_name": "Python 3 (ipykernel)",
   "language": "python",
   "name": "python3"
  },
  "language_info": {
   "codemirror_mode": {
    "name": "ipython",
    "version": 3
   },
   "file_extension": ".py",
   "mimetype": "text/x-python",
   "name": "python",
   "nbconvert_exporter": "python",
   "pygments_lexer": "ipython3",
   "version": "3.12.9"
  }
 },
 "nbformat": 4,
 "nbformat_minor": 5
}
