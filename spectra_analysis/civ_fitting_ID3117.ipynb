{
 "cells": [
  {
   "cell_type": "code",
   "execution_count": 1,
   "id": "8ecdd651-ef28-4e96-8318-26343ad13ce1",
   "metadata": {},
   "outputs": [
    {
     "data": {
      "text/plain": [
       "<module 'LAE_spec_utils' from '/Users/myue/Research/Projects/JWST/dependencies/msa_spec_utils/LAE_spec_utils.py'>"
      ]
     },
     "execution_count": 1,
     "metadata": {},
     "output_type": "execute_result"
    }
   ],
   "source": [
    "import os, sys\n",
    "sys.path.append('/Users/myue/Research/Projects/JWST/dependencies/msa_spec_utils/')\n",
    "\n",
    "import LAE_spec_utils as LAE\n",
    "\n",
    "import numpy as np\n",
    "from astropy.io import fits\n",
    "\n",
    "import matplotlib.pyplot as plt\n",
    "from astropy.table import Table, vstack, hstack\n",
    "from astropy import units\n",
    "\n",
    "import bilby\n",
    "from dynesty import utils as dyfunc\n",
    "\n",
    "import importlib\n",
    "importlib.reload(LAE)"
   ]
  },
  {
   "cell_type": "code",
   "execution_count": 2,
   "id": "7cde3b1a-8d5f-4027-ac5b-716f06c6e479",
   "metadata": {},
   "outputs": [],
   "source": [
    "from astropy.cosmology import FlatLambdaCDM\n",
    "cosmo = FlatLambdaCDM(H0=70, Om0=0.3)\n",
    "RAq, Decq = 15.0542500, 28.0405000"
   ]
  },
  {
   "cell_type": "code",
   "execution_count": 3,
   "id": "c5019141-e19d-4639-a58c-0cb271574e72",
   "metadata": {},
   "outputs": [],
   "source": [
    "LAEinfo = Table.read('./lyainfo_J1148_pypeit.fits')"
   ]
  },
  {
   "cell_type": "code",
   "execution_count": 4,
   "id": "1d61bec5-0b6c-4e49-9f23-cb9b398a1511",
   "metadata": {},
   "outputs": [],
   "source": [
    "!mkdir -p ./plotfit_pypeit/corner_civ\n",
    "!mkdir -p ./plotfit_pypeit/bestfit_civ\n",
    "\n",
    "!mkdir -p ./plotfit_msaexp/corner_civ\n",
    "!mkdir -p ./plotfit_msaexp/bestfit_civ"
   ]
  },
  {
   "cell_type": "code",
   "execution_count": 5,
   "id": "808cb0eb-c98e-4b81-9344-ae5fe0ccfeb1",
   "metadata": {},
   "outputs": [
    {
     "name": "stderr",
     "output_type": "stream",
     "text": [
      "/Users/myue/Research/Projects/JWST/dependencies/msa_spec_utils/LAE_spec_utils.py:426: RuntimeWarning: divide by zero encountered in power\n",
      "  self.err_fnu = (self.ivar_fnu)**-0.5\n",
      "/Users/myue/Research/Projects/JWST/dependencies/msa_spec_utils/LAE_spec_utils.py:432: RuntimeWarning: invalid value encountered in divide\n",
      "  self.flam = self.fnu * speed_of_light_angstrom / (self.wave)**2 * 1e-29 * 1e18\n",
      "/Users/myue/Research/Projects/JWST/dependencies/msa_spec_utils/LAE_spec_utils.py:433: RuntimeWarning: divide by zero encountered in divide\n",
      "  self.err_flam = self.err_fnu * (speed_of_light_angstrom / (self.wave)**2 * 1e-29 * 1e18)\n",
      "15:15 bilby INFO    : Running for label '3117_2429', output will be saved to './bilby_fit_civ_pypeit_v1/'\n",
      "15:15 bilby INFO    : Search parameters:\n",
      "15:15 bilby INFO    :   center = Uniform(minimum=10172.416810211875, maximum=10213.188019872043, name='center', latex_label='center', unit=None, boundary=None)\n",
      "15:15 bilby INFO    :   fwhm = Uniform(minimum=300, maximum=1000, name='fwhm', latex_label='fwhm', unit=None, boundary=None)\n",
      "15:15 bilby INFO    :   flux = Uniform(minimum=-13.938826570391639, maximum=13.938826570391639, name='flux', latex_label='flux', unit=None, boundary=None)\n",
      "15:15 bilby INFO    :   A = Uniform(minimum=-0.07708765534507894, maximum=0.15417531069015789, name='A', latex_label='A', unit=None, boundary=None)\n",
      "15:15 bilby INFO    :   beta = Uniform(minimum=-4, maximum=2, name='beta', latex_label='beta', unit=None, boundary=None)\n",
      "15:15 bilby INFO    :   wave0 = 10192.802415041959\n",
      "15:15 bilby INFO    : Single likelihood evaluation took 9.609e-05 s\n"
     ]
    },
    {
     "data": {
      "application/vnd.jupyter.widget-view+json": {
       "model_id": "daf22e5bfd7b4d85acd73dc1fa1f57ed",
       "version_major": 2,
       "version_minor": 0
      },
      "text/plain": [
       "0it [00:00, ?it/s]"
      ]
     },
     "metadata": {},
     "output_type": "display_data"
    },
    {
     "name": "stderr",
     "output_type": "stream",
     "text": [
      "15:15 bilby INFO    : Using sampler Dynesty with kwargs {'bound': 'multi', 'sample': 'rwalk', 'print_progress': True, 'periodic': None, 'reflective': None, 'check_point_delta_t': 1800, 'nlive': 200, 'first_update': None, 'walks': 100, 'npdim': None, 'rstate': None, 'queue_size': 1, 'pool': None, 'use_pool': None, 'live_points': None, 'logl_args': None, 'logl_kwargs': None, 'ptform_args': None, 'ptform_kwargs': None, 'enlarge': 1.5, 'bootstrap': None, 'vol_dec': 0.5, 'vol_check': 8.0, 'facc': 0.2, 'slices': 5, 'update_interval': 120, 'print_func': <bound method Dynesty._print_func of <bilby.core.sampler.dynesty.Dynesty object at 0x1776dede0>>, 'dlogz': 0.1, 'maxiter': None, 'maxcall': None, 'logl_max': inf, 'add_live': True, 'save_bounds': False, 'n_effective': None, 'maxmcmc': 5000, 'nact': 5, 'print_method': 'tqdm'}\n",
      "15:15 bilby INFO    : Checkpoint every check_point_delta_t = 600s\n",
      "15:15 bilby INFO    : Using dynesty version 1.0.1\n",
      "15:15 bilby INFO    : Using the bilby-implemented rwalk sample method with ACT estimated walks\n",
      "15:15 bilby INFO    : Resume file ./bilby_fit_civ_pypeit_v1//3117_2429_resume.pickle does not exist.\n",
      "15:15 bilby INFO    : Generating initial points from the prior\n",
      "15:15 bilby INFO    : Written checkpoint file ./bilby_fit_civ_pypeit_v1//3117_2429_resume.pickle\n",
      "15:15 bilby INFO    : Sampling time: 0:00:14.821969\n",
      "15:15 bilby INFO    : Summary of results:\n",
      "nsamples: 2569\n",
      "ln_noise_evidence:    nan\n",
      "ln_evidence: 232.846 +/-  0.271\n",
      "ln_bayes_factor:    nan +/-  0.271\n",
      "\n"
     ]
    },
    {
     "name": "stdout",
     "output_type": "stream",
     "text": [
      "\n"
     ]
    },
    {
     "name": "stderr",
     "output_type": "stream",
     "text": [
      "/Users/myue/Research/Projects/JWST/dependencies/msa_spec_utils/LAE_spec_utils.py:426: RuntimeWarning: divide by zero encountered in power\n",
      "  self.err_fnu = (self.ivar_fnu)**-0.5\n",
      "/Users/myue/Research/Projects/JWST/dependencies/msa_spec_utils/LAE_spec_utils.py:432: RuntimeWarning: invalid value encountered in divide\n",
      "  self.flam = self.fnu * speed_of_light_angstrom / (self.wave)**2 * 1e-29 * 1e18\n",
      "/Users/myue/Research/Projects/JWST/dependencies/msa_spec_utils/LAE_spec_utils.py:433: RuntimeWarning: divide by zero encountered in divide\n",
      "  self.err_flam = self.err_fnu * (speed_of_light_angstrom / (self.wave)**2 * 1e-29 * 1e18)\n",
      "15:15 bilby INFO    : Running for label '3117_2637', output will be saved to './bilby_fit_civ_pypeit_v1/'\n",
      "15:15 bilby INFO    : Search parameters:\n",
      "15:15 bilby INFO    :   center = Uniform(minimum=10878.779960718217, maximum=10922.382285210075, name='center', latex_label='center', unit=None, boundary=None)\n",
      "15:15 bilby INFO    :   fwhm = Uniform(minimum=300, maximum=1000, name='fwhm', latex_label='fwhm', unit=None, boundary=None)\n",
      "15:15 bilby INFO    :   flux = Uniform(minimum=-12.395414847475848, maximum=12.395414847475848, name='flux', latex_label='flux', unit=None, boundary=None)\n",
      "15:15 bilby INFO    :   A = Uniform(minimum=-0.06410082847067813, maximum=0.12820165694135627, name='A', latex_label='A', unit=None, boundary=None)\n",
      "15:15 bilby INFO    :   beta = Uniform(minimum=-4, maximum=2, name='beta', latex_label='beta', unit=None, boundary=None)\n",
      "15:15 bilby INFO    :   wave0 = 10900.581122964146\n",
      "15:15 bilby INFO    : Single likelihood evaluation took 3.404e-05 s\n"
     ]
    },
    {
     "data": {
      "application/vnd.jupyter.widget-view+json": {
       "model_id": "d1dee7975c3f40b7a73d4934d97069c5",
       "version_major": 2,
       "version_minor": 0
      },
      "text/plain": [
       "0it [00:00, ?it/s]"
      ]
     },
     "metadata": {},
     "output_type": "display_data"
    },
    {
     "name": "stderr",
     "output_type": "stream",
     "text": [
      "15:15 bilby INFO    : Using sampler Dynesty with kwargs {'bound': 'multi', 'sample': 'rwalk', 'print_progress': True, 'periodic': None, 'reflective': None, 'check_point_delta_t': 1800, 'nlive': 200, 'first_update': None, 'walks': 100, 'npdim': None, 'rstate': None, 'queue_size': 1, 'pool': None, 'use_pool': None, 'live_points': None, 'logl_args': None, 'logl_kwargs': None, 'ptform_args': None, 'ptform_kwargs': None, 'enlarge': 1.5, 'bootstrap': None, 'vol_dec': 0.5, 'vol_check': 8.0, 'facc': 0.2, 'slices': 5, 'update_interval': 120, 'print_func': <bound method Dynesty._print_func of <bilby.core.sampler.dynesty.Dynesty object at 0x314656720>>, 'dlogz': 0.1, 'maxiter': None, 'maxcall': None, 'logl_max': inf, 'add_live': True, 'save_bounds': False, 'n_effective': None, 'maxmcmc': 5000, 'nact': 5, 'print_method': 'tqdm'}\n",
      "15:15 bilby INFO    : Checkpoint every check_point_delta_t = 600s\n",
      "15:15 bilby INFO    : Using dynesty version 1.0.1\n",
      "15:15 bilby INFO    : Using the bilby-implemented rwalk sample method with ACT estimated walks\n",
      "15:15 bilby INFO    : Resume file ./bilby_fit_civ_pypeit_v1//3117_2637_resume.pickle does not exist.\n",
      "15:15 bilby INFO    : Generating initial points from the prior\n",
      "15:15 bilby INFO    : Written checkpoint file ./bilby_fit_civ_pypeit_v1//3117_2637_resume.pickle\n",
      "15:15 bilby INFO    : Sampling time: 0:00:17.069299\n",
      "15:15 bilby INFO    : Summary of results:\n",
      "nsamples: 2753\n",
      "ln_noise_evidence:    nan\n",
      "ln_evidence: 306.979 +/-  0.294\n",
      "ln_bayes_factor:    nan +/-  0.294\n",
      "\n"
     ]
    },
    {
     "name": "stdout",
     "output_type": "stream",
     "text": [
      "\n"
     ]
    },
    {
     "name": "stderr",
     "output_type": "stream",
     "text": [
      "/Users/myue/Research/Projects/JWST/dependencies/msa_spec_utils/LAE_spec_utils.py:426: RuntimeWarning: divide by zero encountered in power\n",
      "  self.err_fnu = (self.ivar_fnu)**-0.5\n",
      "/Users/myue/Research/Projects/JWST/dependencies/msa_spec_utils/LAE_spec_utils.py:432: RuntimeWarning: invalid value encountered in divide\n",
      "  self.flam = self.fnu * speed_of_light_angstrom / (self.wave)**2 * 1e-29 * 1e18\n",
      "/Users/myue/Research/Projects/JWST/dependencies/msa_spec_utils/LAE_spec_utils.py:433: RuntimeWarning: divide by zero encountered in divide\n",
      "  self.err_flam = self.err_fnu * (speed_of_light_angstrom / (self.wave)**2 * 1e-29 * 1e18)\n",
      "15:15 bilby INFO    : Running for label '3117_3052', output will be saved to './bilby_fit_civ_pypeit_v1/'\n",
      "15:15 bilby INFO    : Search parameters:\n",
      "15:15 bilby INFO    :   center = Uniform(minimum=11578.471856941555, maximum=11624.87855777098, name='center', latex_label='center', unit=None, boundary=None)\n",
      "15:15 bilby INFO    :   fwhm = Uniform(minimum=300, maximum=1000, name='fwhm', latex_label='fwhm', unit=None, boundary=None)\n",
      "15:15 bilby INFO    :   flux = Uniform(minimum=-7.771743940613046, maximum=7.771743940613046, name='flux', latex_label='flux', unit=None, boundary=None)\n",
      "15:15 bilby INFO    :   A = Uniform(minimum=-0.14586054587626504, maximum=0.2917210917525301, name='A', latex_label='A', unit=None, boundary=None)\n",
      "15:15 bilby INFO    :   beta = Uniform(minimum=-4, maximum=2, name='beta', latex_label='beta', unit=None, boundary=None)\n",
      "15:15 bilby INFO    :   wave0 = 11601.675207356267\n",
      "15:15 bilby INFO    : Single likelihood evaluation took 3.376e-05 s\n"
     ]
    },
    {
     "data": {
      "application/vnd.jupyter.widget-view+json": {
       "model_id": "cfd6abd3a49747ddb634e991e36fa841",
       "version_major": 2,
       "version_minor": 0
      },
      "text/plain": [
       "0it [00:00, ?it/s]"
      ]
     },
     "metadata": {},
     "output_type": "display_data"
    },
    {
     "name": "stderr",
     "output_type": "stream",
     "text": [
      "15:15 bilby INFO    : Using sampler Dynesty with kwargs {'bound': 'multi', 'sample': 'rwalk', 'print_progress': True, 'periodic': None, 'reflective': None, 'check_point_delta_t': 1800, 'nlive': 200, 'first_update': None, 'walks': 100, 'npdim': None, 'rstate': None, 'queue_size': 1, 'pool': None, 'use_pool': None, 'live_points': None, 'logl_args': None, 'logl_kwargs': None, 'ptform_args': None, 'ptform_kwargs': None, 'enlarge': 1.5, 'bootstrap': None, 'vol_dec': 0.5, 'vol_check': 8.0, 'facc': 0.2, 'slices': 5, 'update_interval': 120, 'print_func': <bound method Dynesty._print_func of <bilby.core.sampler.dynesty.Dynesty object at 0x317f33ad0>>, 'dlogz': 0.1, 'maxiter': None, 'maxcall': None, 'logl_max': inf, 'add_live': True, 'save_bounds': False, 'n_effective': None, 'maxmcmc': 5000, 'nact': 5, 'print_method': 'tqdm'}\n",
      "15:15 bilby INFO    : Checkpoint every check_point_delta_t = 600s\n",
      "15:15 bilby INFO    : Using dynesty version 1.0.1\n",
      "15:15 bilby INFO    : Using the bilby-implemented rwalk sample method with ACT estimated walks\n",
      "15:15 bilby INFO    : Resume file ./bilby_fit_civ_pypeit_v1//3117_3052_resume.pickle does not exist.\n",
      "15:15 bilby INFO    : Generating initial points from the prior\n",
      "15:15 bilby INFO    : Written checkpoint file ./bilby_fit_civ_pypeit_v1//3117_3052_resume.pickle\n",
      "15:15 bilby INFO    : Sampling time: 0:00:16.197665\n",
      "15:15 bilby INFO    : Summary of results:\n",
      "nsamples: 2580\n",
      "ln_noise_evidence:    nan\n",
      "ln_evidence: 209.424 +/-  0.279\n",
      "ln_bayes_factor:    nan +/-  0.279\n",
      "\n"
     ]
    },
    {
     "name": "stdout",
     "output_type": "stream",
     "text": [
      "\n"
     ]
    },
    {
     "name": "stderr",
     "output_type": "stream",
     "text": [
      "/Users/myue/Research/Projects/JWST/dependencies/msa_spec_utils/LAE_spec_utils.py:426: RuntimeWarning: divide by zero encountered in power\n",
      "  self.err_fnu = (self.ivar_fnu)**-0.5\n",
      "/Users/myue/Research/Projects/JWST/dependencies/msa_spec_utils/LAE_spec_utils.py:432: RuntimeWarning: invalid value encountered in divide\n",
      "  self.flam = self.fnu * speed_of_light_angstrom / (self.wave)**2 * 1e-29 * 1e18\n",
      "/Users/myue/Research/Projects/JWST/dependencies/msa_spec_utils/LAE_spec_utils.py:433: RuntimeWarning: divide by zero encountered in divide\n",
      "  self.err_flam = self.err_fnu * (speed_of_light_angstrom / (self.wave)**2 * 1e-29 * 1e18)\n",
      "15:15 bilby INFO    : Running for label '3117_3391', output will be saved to './bilby_fit_civ_pypeit_v1/'\n",
      "15:15 bilby INFO    : Search parameters:\n",
      "15:15 bilby INFO    :   center = Uniform(minimum=10937.429722055585, maximum=10981.26711573116, name='center', latex_label='center', unit=None, boundary=None)\n",
      "15:15 bilby INFO    :   fwhm = Uniform(minimum=300, maximum=1000, name='fwhm', latex_label='fwhm', unit=None, boundary=None)\n",
      "15:15 bilby INFO    :   flux = Uniform(minimum=-13.597893086565255, maximum=13.597893086565255, name='flux', latex_label='flux', unit=None, boundary=None)\n",
      "15:15 bilby INFO    :   A = Uniform(minimum=-0.06994217212981742, maximum=0.13988434425963484, name='A', latex_label='A', unit=None, boundary=None)\n",
      "15:15 bilby INFO    :   beta = Uniform(minimum=-4, maximum=2, name='beta', latex_label='beta', unit=None, boundary=None)\n",
      "15:15 bilby INFO    :   wave0 = 10959.348418893373\n",
      "15:15 bilby INFO    : Single likelihood evaluation took 3.268e-05 s\n"
     ]
    },
    {
     "data": {
      "application/vnd.jupyter.widget-view+json": {
       "model_id": "7ea3429f4f1f4ad68384190bf05f5daf",
       "version_major": 2,
       "version_minor": 0
      },
      "text/plain": [
       "0it [00:00, ?it/s]"
      ]
     },
     "metadata": {},
     "output_type": "display_data"
    },
    {
     "name": "stderr",
     "output_type": "stream",
     "text": [
      "15:15 bilby INFO    : Using sampler Dynesty with kwargs {'bound': 'multi', 'sample': 'rwalk', 'print_progress': True, 'periodic': None, 'reflective': None, 'check_point_delta_t': 1800, 'nlive': 200, 'first_update': None, 'walks': 100, 'npdim': None, 'rstate': None, 'queue_size': 1, 'pool': None, 'use_pool': None, 'live_points': None, 'logl_args': None, 'logl_kwargs': None, 'ptform_args': None, 'ptform_kwargs': None, 'enlarge': 1.5, 'bootstrap': None, 'vol_dec': 0.5, 'vol_check': 8.0, 'facc': 0.2, 'slices': 5, 'update_interval': 120, 'print_func': <bound method Dynesty._print_func of <bilby.core.sampler.dynesty.Dynesty object at 0x385e605f0>>, 'dlogz': 0.1, 'maxiter': None, 'maxcall': None, 'logl_max': inf, 'add_live': True, 'save_bounds': False, 'n_effective': None, 'maxmcmc': 5000, 'nact': 5, 'print_method': 'tqdm'}\n",
      "15:15 bilby INFO    : Checkpoint every check_point_delta_t = 600s\n",
      "15:15 bilby INFO    : Using dynesty version 1.0.1\n",
      "15:15 bilby INFO    : Using the bilby-implemented rwalk sample method with ACT estimated walks\n",
      "15:15 bilby INFO    : Resume file ./bilby_fit_civ_pypeit_v1//3117_3391_resume.pickle does not exist.\n",
      "15:15 bilby INFO    : Generating initial points from the prior\n",
      "15:16 bilby INFO    : Written checkpoint file ./bilby_fit_civ_pypeit_v1//3117_3391_resume.pickle\n",
      "15:16 bilby INFO    : Sampling time: 0:00:16.790663\n",
      "15:16 bilby INFO    : Summary of results:\n",
      "nsamples: 2747\n",
      "ln_noise_evidence:    nan\n",
      "ln_evidence: 262.749 +/-  0.292\n",
      "ln_bayes_factor:    nan +/-  0.292\n",
      "\n"
     ]
    },
    {
     "name": "stdout",
     "output_type": "stream",
     "text": [
      "\n"
     ]
    },
    {
     "name": "stderr",
     "output_type": "stream",
     "text": [
      "/Users/myue/Research/Projects/JWST/dependencies/msa_spec_utils/LAE_spec_utils.py:426: RuntimeWarning: divide by zero encountered in power\n",
      "  self.err_fnu = (self.ivar_fnu)**-0.5\n",
      "/Users/myue/Research/Projects/JWST/dependencies/msa_spec_utils/LAE_spec_utils.py:432: RuntimeWarning: invalid value encountered in divide\n",
      "  self.flam = self.fnu * speed_of_light_angstrom / (self.wave)**2 * 1e-29 * 1e18\n",
      "/Users/myue/Research/Projects/JWST/dependencies/msa_spec_utils/LAE_spec_utils.py:433: RuntimeWarning: divide by zero encountered in divide\n",
      "  self.err_flam = self.err_fnu * (speed_of_light_angstrom / (self.wave)**2 * 1e-29 * 1e18)\n",
      "15:16 bilby INFO    : Running for label '3117_3461', output will be saved to './bilby_fit_civ_pypeit_v1/'\n",
      "15:16 bilby INFO    : Search parameters:\n",
      "15:16 bilby INFO    :   center = Uniform(minimum=10881.011623506209, maximum=10924.622892538297, name='center', latex_label='center', unit=None, boundary=None)\n",
      "15:16 bilby INFO    :   fwhm = Uniform(minimum=300, maximum=1000, name='fwhm', latex_label='fwhm', unit=None, boundary=None)\n",
      "15:16 bilby INFO    :   flux = Uniform(minimum=-11.098210187949649, maximum=11.098210187949649, name='flux', latex_label='flux', unit=None, boundary=None)\n",
      "15:16 bilby INFO    :   A = Uniform(minimum=-0.057380779056015525, maximum=0.11476155811203105, name='A', latex_label='A', unit=None, boundary=None)\n",
      "15:16 bilby INFO    :   beta = Uniform(minimum=-4, maximum=2, name='beta', latex_label='beta', unit=None, boundary=None)\n",
      "15:16 bilby INFO    :   wave0 = 10902.817258022253\n",
      "15:16 bilby INFO    : Single likelihood evaluation took 3.300e-05 s\n"
     ]
    },
    {
     "data": {
      "application/vnd.jupyter.widget-view+json": {
       "model_id": "68b26491f2bf4c30bc39161e49188edc",
       "version_major": 2,
       "version_minor": 0
      },
      "text/plain": [
       "0it [00:00, ?it/s]"
      ]
     },
     "metadata": {},
     "output_type": "display_data"
    },
    {
     "name": "stderr",
     "output_type": "stream",
     "text": [
      "15:16 bilby INFO    : Using sampler Dynesty with kwargs {'bound': 'multi', 'sample': 'rwalk', 'print_progress': True, 'periodic': None, 'reflective': None, 'check_point_delta_t': 1800, 'nlive': 200, 'first_update': None, 'walks': 100, 'npdim': None, 'rstate': None, 'queue_size': 1, 'pool': None, 'use_pool': None, 'live_points': None, 'logl_args': None, 'logl_kwargs': None, 'ptform_args': None, 'ptform_kwargs': None, 'enlarge': 1.5, 'bootstrap': None, 'vol_dec': 0.5, 'vol_check': 8.0, 'facc': 0.2, 'slices': 5, 'update_interval': 120, 'print_func': <bound method Dynesty._print_func of <bilby.core.sampler.dynesty.Dynesty object at 0x3860e6e40>>, 'dlogz': 0.1, 'maxiter': None, 'maxcall': None, 'logl_max': inf, 'add_live': True, 'save_bounds': False, 'n_effective': None, 'maxmcmc': 5000, 'nact': 5, 'print_method': 'tqdm'}\n",
      "15:16 bilby INFO    : Checkpoint every check_point_delta_t = 600s\n",
      "15:16 bilby INFO    : Using dynesty version 1.0.1\n",
      "15:16 bilby INFO    : Using the bilby-implemented rwalk sample method with ACT estimated walks\n",
      "15:16 bilby INFO    : Resume file ./bilby_fit_civ_pypeit_v1//3117_3461_resume.pickle does not exist.\n",
      "15:16 bilby INFO    : Generating initial points from the prior\n",
      "15:16 bilby INFO    : Written checkpoint file ./bilby_fit_civ_pypeit_v1//3117_3461_resume.pickle\n",
      "15:16 bilby INFO    : Sampling time: 0:00:15.009854\n",
      "15:16 bilby INFO    : Summary of results:\n",
      "nsamples: 2331\n",
      "ln_noise_evidence:    nan\n",
      "ln_evidence: 298.276 +/-  0.263\n",
      "ln_bayes_factor:    nan +/-  0.263\n",
      "\n"
     ]
    },
    {
     "name": "stdout",
     "output_type": "stream",
     "text": [
      "\n"
     ]
    },
    {
     "name": "stderr",
     "output_type": "stream",
     "text": [
      "/Users/myue/Research/Projects/JWST/dependencies/msa_spec_utils/LAE_spec_utils.py:426: RuntimeWarning: divide by zero encountered in power\n",
      "  self.err_fnu = (self.ivar_fnu)**-0.5\n",
      "/Users/myue/Research/Projects/JWST/dependencies/msa_spec_utils/LAE_spec_utils.py:432: RuntimeWarning: invalid value encountered in divide\n",
      "  self.flam = self.fnu * speed_of_light_angstrom / (self.wave)**2 * 1e-29 * 1e18\n",
      "/Users/myue/Research/Projects/JWST/dependencies/msa_spec_utils/LAE_spec_utils.py:433: RuntimeWarning: divide by zero encountered in divide\n",
      "  self.err_flam = self.err_fnu * (speed_of_light_angstrom / (self.wave)**2 * 1e-29 * 1e18)\n",
      "15:16 bilby INFO    : Running for label '3117_3607', output will be saved to './bilby_fit_civ_pypeit_v1/'\n",
      "15:16 bilby INFO    : Search parameters:\n",
      "15:16 bilby INFO    :   center = Uniform(minimum=9969.879490498133, maximum=10009.838927333796, name='center', latex_label='center', unit=None, boundary=None)\n",
      "15:16 bilby INFO    :   fwhm = Uniform(minimum=300, maximum=1000, name='fwhm', latex_label='fwhm', unit=None, boundary=None)\n",
      "15:16 bilby INFO    :   flux = Uniform(minimum=-30.964327801179238, maximum=30.964327801179238, name='flux', latex_label='flux', unit=None, boundary=None)\n",
      "15:16 bilby INFO    :   A = Uniform(minimum=-0.17472478571304384, maximum=0.3494495714260877, name='A', latex_label='A', unit=None, boundary=None)\n",
      "15:16 bilby INFO    :   beta = Uniform(minimum=-4, maximum=2, name='beta', latex_label='beta', unit=None, boundary=None)\n",
      "15:16 bilby INFO    :   wave0 = 9989.859208915965\n",
      "15:16 bilby INFO    : Single likelihood evaluation took 3.389e-05 s\n"
     ]
    },
    {
     "data": {
      "application/vnd.jupyter.widget-view+json": {
       "model_id": "3231926d223741d48e7673888eda8d85",
       "version_major": 2,
       "version_minor": 0
      },
      "text/plain": [
       "0it [00:00, ?it/s]"
      ]
     },
     "metadata": {},
     "output_type": "display_data"
    },
    {
     "name": "stderr",
     "output_type": "stream",
     "text": [
      "15:16 bilby INFO    : Using sampler Dynesty with kwargs {'bound': 'multi', 'sample': 'rwalk', 'print_progress': True, 'periodic': None, 'reflective': None, 'check_point_delta_t': 1800, 'nlive': 200, 'first_update': None, 'walks': 100, 'npdim': None, 'rstate': None, 'queue_size': 1, 'pool': None, 'use_pool': None, 'live_points': None, 'logl_args': None, 'logl_kwargs': None, 'ptform_args': None, 'ptform_kwargs': None, 'enlarge': 1.5, 'bootstrap': None, 'vol_dec': 0.5, 'vol_check': 8.0, 'facc': 0.2, 'slices': 5, 'update_interval': 120, 'print_func': <bound method Dynesty._print_func of <bilby.core.sampler.dynesty.Dynesty object at 0x3c7b6e720>>, 'dlogz': 0.1, 'maxiter': None, 'maxcall': None, 'logl_max': inf, 'add_live': True, 'save_bounds': False, 'n_effective': None, 'maxmcmc': 5000, 'nact': 5, 'print_method': 'tqdm'}\n",
      "15:16 bilby INFO    : Checkpoint every check_point_delta_t = 600s\n",
      "15:16 bilby INFO    : Using dynesty version 1.0.1\n",
      "15:16 bilby INFO    : Using the bilby-implemented rwalk sample method with ACT estimated walks\n",
      "15:16 bilby INFO    : Resume file ./bilby_fit_civ_pypeit_v1//3117_3607_resume.pickle does not exist.\n",
      "15:16 bilby INFO    : Generating initial points from the prior\n",
      "15:16 bilby INFO    : Written checkpoint file ./bilby_fit_civ_pypeit_v1//3117_3607_resume.pickle\n",
      "15:16 bilby INFO    : Sampling time: 0:00:20.594066\n",
      "15:16 bilby INFO    : Summary of results:\n",
      "nsamples: 3138\n",
      "ln_noise_evidence:    nan\n",
      "ln_evidence: 213.800 +/-  0.325\n",
      "ln_bayes_factor:    nan +/-  0.325\n",
      "\n"
     ]
    },
    {
     "name": "stdout",
     "output_type": "stream",
     "text": [
      "\n"
     ]
    },
    {
     "name": "stderr",
     "output_type": "stream",
     "text": [
      "/Users/myue/Research/Projects/JWST/dependencies/msa_spec_utils/LAE_spec_utils.py:426: RuntimeWarning: divide by zero encountered in power\n",
      "  self.err_fnu = (self.ivar_fnu)**-0.5\n",
      "/Users/myue/Research/Projects/JWST/dependencies/msa_spec_utils/LAE_spec_utils.py:432: RuntimeWarning: invalid value encountered in divide\n",
      "  self.flam = self.fnu * speed_of_light_angstrom / (self.wave)**2 * 1e-29 * 1e18\n",
      "/Users/myue/Research/Projects/JWST/dependencies/msa_spec_utils/LAE_spec_utils.py:433: RuntimeWarning: divide by zero encountered in divide\n",
      "  self.err_flam = self.err_fnu * (speed_of_light_angstrom / (self.wave)**2 * 1e-29 * 1e18)\n",
      "15:16 bilby INFO    : Running for label '3117_3608', output will be saved to './bilby_fit_civ_pypeit_v1/'\n",
      "15:16 bilby INFO    : Search parameters:\n",
      "15:16 bilby INFO    :   center = Uniform(minimum=10885.920124299006, maximum=10929.551066680964, name='center', latex_label='center', unit=None, boundary=None)\n",
      "15:16 bilby INFO    :   fwhm = Uniform(minimum=300, maximum=1000, name='fwhm', latex_label='fwhm', unit=None, boundary=None)\n",
      "15:16 bilby INFO    :   flux = Uniform(minimum=-10.167602005935535, maximum=10.167602005935535, name='flux', latex_label='flux', unit=None, boundary=None)\n",
      "15:16 bilby INFO    :   A = Uniform(minimum=-0.05254557680434394, maximum=0.10509115360868788, name='A', latex_label='A', unit=None, boundary=None)\n",
      "15:16 bilby INFO    :   beta = Uniform(minimum=-4, maximum=2, name='beta', latex_label='beta', unit=None, boundary=None)\n",
      "15:16 bilby INFO    :   wave0 = 10907.735595489985\n",
      "15:16 bilby INFO    : Single likelihood evaluation took 3.334e-05 s\n"
     ]
    },
    {
     "data": {
      "application/vnd.jupyter.widget-view+json": {
       "model_id": "24d44e6df5b84d44ab0f4f2cb5ce65be",
       "version_major": 2,
       "version_minor": 0
      },
      "text/plain": [
       "0it [00:00, ?it/s]"
      ]
     },
     "metadata": {},
     "output_type": "display_data"
    },
    {
     "name": "stderr",
     "output_type": "stream",
     "text": [
      "15:16 bilby INFO    : Using sampler Dynesty with kwargs {'bound': 'multi', 'sample': 'rwalk', 'print_progress': True, 'periodic': None, 'reflective': None, 'check_point_delta_t': 1800, 'nlive': 200, 'first_update': None, 'walks': 100, 'npdim': None, 'rstate': None, 'queue_size': 1, 'pool': None, 'use_pool': None, 'live_points': None, 'logl_args': None, 'logl_kwargs': None, 'ptform_args': None, 'ptform_kwargs': None, 'enlarge': 1.5, 'bootstrap': None, 'vol_dec': 0.5, 'vol_check': 8.0, 'facc': 0.2, 'slices': 5, 'update_interval': 120, 'print_func': <bound method Dynesty._print_func of <bilby.core.sampler.dynesty.Dynesty object at 0x3e73957c0>>, 'dlogz': 0.1, 'maxiter': None, 'maxcall': None, 'logl_max': inf, 'add_live': True, 'save_bounds': False, 'n_effective': None, 'maxmcmc': 5000, 'nact': 5, 'print_method': 'tqdm'}\n",
      "15:16 bilby INFO    : Checkpoint every check_point_delta_t = 600s\n",
      "15:16 bilby INFO    : Using dynesty version 1.0.1\n",
      "15:16 bilby INFO    : Using the bilby-implemented rwalk sample method with ACT estimated walks\n",
      "15:16 bilby INFO    : Resume file ./bilby_fit_civ_pypeit_v1//3117_3608_resume.pickle does not exist.\n",
      "15:16 bilby INFO    : Generating initial points from the prior\n",
      "15:17 bilby INFO    : Written checkpoint file ./bilby_fit_civ_pypeit_v1//3117_3608_resume.pickle\n",
      "15:17 bilby INFO    : Sampling time: 0:00:14.192136\n",
      "15:17 bilby INFO    : Summary of results:\n",
      "nsamples: 2392\n",
      "ln_noise_evidence:    nan\n",
      "ln_evidence: 282.581 +/-  0.264\n",
      "ln_bayes_factor:    nan +/-  0.264\n",
      "\n"
     ]
    },
    {
     "name": "stdout",
     "output_type": "stream",
     "text": [
      "\n"
     ]
    },
    {
     "name": "stderr",
     "output_type": "stream",
     "text": [
      "/Users/myue/Research/Projects/JWST/dependencies/msa_spec_utils/LAE_spec_utils.py:426: RuntimeWarning: divide by zero encountered in power\n",
      "  self.err_fnu = (self.ivar_fnu)**-0.5\n",
      "/Users/myue/Research/Projects/JWST/dependencies/msa_spec_utils/LAE_spec_utils.py:432: RuntimeWarning: invalid value encountered in divide\n",
      "  self.flam = self.fnu * speed_of_light_angstrom / (self.wave)**2 * 1e-29 * 1e18\n",
      "/Users/myue/Research/Projects/JWST/dependencies/msa_spec_utils/LAE_spec_utils.py:433: RuntimeWarning: divide by zero encountered in divide\n",
      "  self.err_flam = self.err_fnu * (speed_of_light_angstrom / (self.wave)**2 * 1e-29 * 1e18)\n",
      "15:17 bilby INFO    : Running for label '3117_3609', output will be saved to './bilby_fit_civ_pypeit_v1/'\n",
      "15:17 bilby INFO    : Search parameters:\n",
      "15:17 bilby INFO    :   center = Uniform(minimum=12225.170084154133, maximum=12274.168761846135, name='center', latex_label='center', unit=None, boundary=None)\n",
      "15:17 bilby INFO    :   fwhm = Uniform(minimum=300, maximum=1000, name='fwhm', latex_label='fwhm', unit=None, boundary=None)\n",
      "15:17 bilby INFO    :   flux = Uniform(minimum=-7.895756244832754, maximum=7.895756244832754, name='flux', latex_label='flux', unit=None, boundary=None)\n",
      "15:17 bilby INFO    :   A = Uniform(minimum=-0.03633470105892712, maximum=0.07266940211785423, name='A', latex_label='A', unit=None, boundary=None)\n",
      "15:17 bilby INFO    :   beta = Uniform(minimum=-4, maximum=2, name='beta', latex_label='beta', unit=None, boundary=None)\n",
      "15:17 bilby INFO    :   wave0 = 12249.669423000134\n",
      "15:17 bilby INFO    : Single likelihood evaluation took 3.312e-05 s\n"
     ]
    },
    {
     "data": {
      "application/vnd.jupyter.widget-view+json": {
       "model_id": "80d1e4fc7df84768aa8db495533c3782",
       "version_major": 2,
       "version_minor": 0
      },
      "text/plain": [
       "0it [00:00, ?it/s]"
      ]
     },
     "metadata": {},
     "output_type": "display_data"
    },
    {
     "name": "stderr",
     "output_type": "stream",
     "text": [
      "15:17 bilby INFO    : Using sampler Dynesty with kwargs {'bound': 'multi', 'sample': 'rwalk', 'print_progress': True, 'periodic': None, 'reflective': None, 'check_point_delta_t': 1800, 'nlive': 200, 'first_update': None, 'walks': 100, 'npdim': None, 'rstate': None, 'queue_size': 1, 'pool': None, 'use_pool': None, 'live_points': None, 'logl_args': None, 'logl_kwargs': None, 'ptform_args': None, 'ptform_kwargs': None, 'enlarge': 1.5, 'bootstrap': None, 'vol_dec': 0.5, 'vol_check': 8.0, 'facc': 0.2, 'slices': 5, 'update_interval': 120, 'print_func': <bound method Dynesty._print_func of <bilby.core.sampler.dynesty.Dynesty object at 0x3e8233ad0>>, 'dlogz': 0.1, 'maxiter': None, 'maxcall': None, 'logl_max': inf, 'add_live': True, 'save_bounds': False, 'n_effective': None, 'maxmcmc': 5000, 'nact': 5, 'print_method': 'tqdm'}\n",
      "15:17 bilby INFO    : Checkpoint every check_point_delta_t = 600s\n",
      "15:17 bilby INFO    : Using dynesty version 1.0.1\n",
      "15:17 bilby INFO    : Using the bilby-implemented rwalk sample method with ACT estimated walks\n",
      "15:17 bilby INFO    : Resume file ./bilby_fit_civ_pypeit_v1//3117_3609_resume.pickle does not exist.\n",
      "15:17 bilby INFO    : Generating initial points from the prior\n",
      "15:17 bilby INFO    : Written checkpoint file ./bilby_fit_civ_pypeit_v1//3117_3609_resume.pickle\n",
      "15:17 bilby INFO    : Sampling time: 0:00:15.601824\n",
      "15:17 bilby INFO    : Summary of results:\n",
      "nsamples: 2384\n",
      "ln_noise_evidence:    nan\n",
      "ln_evidence: 372.421 +/-  0.258\n",
      "ln_bayes_factor:    nan +/-  0.258\n",
      "\n"
     ]
    },
    {
     "name": "stdout",
     "output_type": "stream",
     "text": [
      "\n"
     ]
    },
    {
     "name": "stderr",
     "output_type": "stream",
     "text": [
      "/Users/myue/Research/Projects/JWST/dependencies/msa_spec_utils/LAE_spec_utils.py:426: RuntimeWarning: divide by zero encountered in power\n",
      "  self.err_fnu = (self.ivar_fnu)**-0.5\n",
      "/Users/myue/Research/Projects/JWST/dependencies/msa_spec_utils/LAE_spec_utils.py:432: RuntimeWarning: invalid value encountered in divide\n",
      "  self.flam = self.fnu * speed_of_light_angstrom / (self.wave)**2 * 1e-29 * 1e18\n",
      "/Users/myue/Research/Projects/JWST/dependencies/msa_spec_utils/LAE_spec_utils.py:433: RuntimeWarning: divide by zero encountered in divide\n",
      "  self.err_flam = self.err_fnu * (speed_of_light_angstrom / (self.wave)**2 * 1e-29 * 1e18)\n",
      "15:17 bilby INFO    : Running for label '3117_3781', output will be saved to './bilby_fit_civ_pypeit_v1/'\n",
      "15:17 bilby INFO    : Search parameters:\n",
      "15:17 bilby INFO    :   center = Uniform(minimum=10703.237761914308, maximum=10746.136510459055, name='center', latex_label='center', unit=None, boundary=None)\n",
      "15:17 bilby INFO    :   fwhm = Uniform(minimum=300, maximum=1000, name='fwhm', latex_label='fwhm', unit=None, boundary=None)\n",
      "15:17 bilby INFO    :   flux = Uniform(minimum=-16.221881655020276, maximum=16.221881655020276, name='flux', latex_label='flux', unit=None, boundary=None)\n",
      "15:17 bilby INFO    :   A = Uniform(minimum=-0.08526461290345741, maximum=0.17052922580691482, name='A', latex_label='A', unit=None, boundary=None)\n",
      "15:17 bilby INFO    :   beta = Uniform(minimum=-4, maximum=2, name='beta', latex_label='beta', unit=None, boundary=None)\n",
      "15:17 bilby INFO    :   wave0 = 10724.687136186682\n",
      "15:17 bilby INFO    : Single likelihood evaluation took 3.270e-05 s\n"
     ]
    },
    {
     "data": {
      "application/vnd.jupyter.widget-view+json": {
       "model_id": "abd04e645b12400596a4cdd049dc4b4c",
       "version_major": 2,
       "version_minor": 0
      },
      "text/plain": [
       "0it [00:00, ?it/s]"
      ]
     },
     "metadata": {},
     "output_type": "display_data"
    },
    {
     "name": "stderr",
     "output_type": "stream",
     "text": [
      "15:17 bilby INFO    : Using sampler Dynesty with kwargs {'bound': 'multi', 'sample': 'rwalk', 'print_progress': True, 'periodic': None, 'reflective': None, 'check_point_delta_t': 1800, 'nlive': 200, 'first_update': None, 'walks': 100, 'npdim': None, 'rstate': None, 'queue_size': 1, 'pool': None, 'use_pool': None, 'live_points': None, 'logl_args': None, 'logl_kwargs': None, 'ptform_args': None, 'ptform_kwargs': None, 'enlarge': 1.5, 'bootstrap': None, 'vol_dec': 0.5, 'vol_check': 8.0, 'facc': 0.2, 'slices': 5, 'update_interval': 120, 'print_func': <bound method Dynesty._print_func of <bilby.core.sampler.dynesty.Dynesty object at 0x427ce29f0>>, 'dlogz': 0.1, 'maxiter': None, 'maxcall': None, 'logl_max': inf, 'add_live': True, 'save_bounds': False, 'n_effective': None, 'maxmcmc': 5000, 'nact': 5, 'print_method': 'tqdm'}\n",
      "15:17 bilby INFO    : Checkpoint every check_point_delta_t = 600s\n",
      "15:17 bilby INFO    : Using dynesty version 1.0.1\n",
      "15:17 bilby INFO    : Using the bilby-implemented rwalk sample method with ACT estimated walks\n",
      "15:17 bilby INFO    : Resume file ./bilby_fit_civ_pypeit_v1//3117_3781_resume.pickle does not exist.\n",
      "15:17 bilby INFO    : Generating initial points from the prior\n",
      "15:34 bilby INFO    : Written checkpoint file ./bilby_fit_civ_pypeit_v1//3117_3781_resume.pickle\n",
      "15:49 bilby INFO    : Written checkpoint file ./bilby_fit_civ_pypeit_v1//3117_3781_resume.pickle\n",
      "16:04 bilby INFO    : Written checkpoint file ./bilby_fit_civ_pypeit_v1//3117_3781_resume.pickle\n",
      "16:04 bilby INFO    : Written checkpoint file ./bilby_fit_civ_pypeit_v1//3117_3781_resume.pickle\n",
      "16:04 bilby INFO    : Sampling time: 0:47:18.025081\n",
      "16:04 bilby INFO    : Summary of results:\n",
      "nsamples: 2608\n",
      "ln_noise_evidence:    nan\n",
      "ln_evidence: 268.410 +/-  0.286\n",
      "ln_bayes_factor:    nan +/-  0.286\n",
      "\n"
     ]
    },
    {
     "name": "stdout",
     "output_type": "stream",
     "text": [
      "\n"
     ]
    },
    {
     "name": "stderr",
     "output_type": "stream",
     "text": [
      "/Users/myue/Research/Projects/JWST/dependencies/msa_spec_utils/LAE_spec_utils.py:426: RuntimeWarning: divide by zero encountered in power\n",
      "  self.err_fnu = (self.ivar_fnu)**-0.5\n",
      "/Users/myue/Research/Projects/JWST/dependencies/msa_spec_utils/LAE_spec_utils.py:432: RuntimeWarning: invalid value encountered in divide\n",
      "  self.flam = self.fnu * speed_of_light_angstrom / (self.wave)**2 * 1e-29 * 1e18\n",
      "/Users/myue/Research/Projects/JWST/dependencies/msa_spec_utils/LAE_spec_utils.py:433: RuntimeWarning: divide by zero encountered in divide\n",
      "  self.err_flam = self.err_fnu * (speed_of_light_angstrom / (self.wave)**2 * 1e-29 * 1e18)\n",
      "16:04 bilby INFO    : Running for label '3117_4246', output will be saved to './bilby_fit_civ_pypeit_v1/'\n",
      "16:04 bilby INFO    : Search parameters:\n",
      "16:04 bilby INFO    :   center = Uniform(minimum=11570.525877901031, maximum=11616.90073111907, name='center', latex_label='center', unit=None, boundary=None)\n",
      "16:04 bilby INFO    :   fwhm = Uniform(minimum=300, maximum=1000, name='fwhm', latex_label='fwhm', unit=None, boundary=None)\n",
      "16:04 bilby INFO    :   flux = Uniform(minimum=-10.535716558575526, maximum=10.535716558575526, name='flux', latex_label='flux', unit=None, boundary=None)\n",
      "16:04 bilby INFO    :   A = Uniform(minimum=-0.051226389730643564, maximum=0.10245277946128713, name='A', latex_label='A', unit=None, boundary=None)\n",
      "16:04 bilby INFO    :   beta = Uniform(minimum=-4, maximum=2, name='beta', latex_label='beta', unit=None, boundary=None)\n",
      "16:04 bilby INFO    :   wave0 = 11593.71330451005\n",
      "16:04 bilby INFO    : Single likelihood evaluation took 3.264e-05 s\n"
     ]
    },
    {
     "data": {
      "application/vnd.jupyter.widget-view+json": {
       "model_id": "259308eaca9146639c26a7e20fb7c70b",
       "version_major": 2,
       "version_minor": 0
      },
      "text/plain": [
       "0it [00:00, ?it/s]"
      ]
     },
     "metadata": {},
     "output_type": "display_data"
    },
    {
     "name": "stderr",
     "output_type": "stream",
     "text": [
      "16:04 bilby INFO    : Using sampler Dynesty with kwargs {'bound': 'multi', 'sample': 'rwalk', 'print_progress': True, 'periodic': None, 'reflective': None, 'check_point_delta_t': 1800, 'nlive': 200, 'first_update': None, 'walks': 100, 'npdim': None, 'rstate': None, 'queue_size': 1, 'pool': None, 'use_pool': None, 'live_points': None, 'logl_args': None, 'logl_kwargs': None, 'ptform_args': None, 'ptform_kwargs': None, 'enlarge': 1.5, 'bootstrap': None, 'vol_dec': 0.5, 'vol_check': 8.0, 'facc': 0.2, 'slices': 5, 'update_interval': 120, 'print_func': <bound method Dynesty._print_func of <bilby.core.sampler.dynesty.Dynesty object at 0x44bb0f470>>, 'dlogz': 0.1, 'maxiter': None, 'maxcall': None, 'logl_max': inf, 'add_live': True, 'save_bounds': False, 'n_effective': None, 'maxmcmc': 5000, 'nact': 5, 'print_method': 'tqdm'}\n",
      "16:04 bilby INFO    : Checkpoint every check_point_delta_t = 600s\n",
      "16:04 bilby INFO    : Using dynesty version 1.0.1\n",
      "16:04 bilby INFO    : Using the bilby-implemented rwalk sample method with ACT estimated walks\n",
      "16:04 bilby INFO    : Resume file ./bilby_fit_civ_pypeit_v1//3117_4246_resume.pickle does not exist.\n",
      "16:04 bilby INFO    : Generating initial points from the prior\n",
      "16:21 bilby INFO    : Written checkpoint file ./bilby_fit_civ_pypeit_v1//3117_4246_resume.pickle\n",
      "16:21 bilby INFO    : Written checkpoint file ./bilby_fit_civ_pypeit_v1//3117_4246_resume.pickle\n",
      "16:21 bilby INFO    : Sampling time: 0:17:04.334478\n",
      "16:21 bilby INFO    : Summary of results:\n",
      "nsamples: 2233\n",
      "ln_noise_evidence:    nan\n",
      "ln_evidence: 317.578 +/-  0.253\n",
      "ln_bayes_factor:    nan +/-  0.253\n",
      "\n"
     ]
    },
    {
     "name": "stdout",
     "output_type": "stream",
     "text": [
      "\n"
     ]
    },
    {
     "name": "stderr",
     "output_type": "stream",
     "text": [
      "/Users/myue/Research/Projects/JWST/dependencies/msa_spec_utils/LAE_spec_utils.py:426: RuntimeWarning: divide by zero encountered in power\n",
      "  self.err_fnu = (self.ivar_fnu)**-0.5\n",
      "/Users/myue/Research/Projects/JWST/dependencies/msa_spec_utils/LAE_spec_utils.py:432: RuntimeWarning: invalid value encountered in divide\n",
      "  self.flam = self.fnu * speed_of_light_angstrom / (self.wave)**2 * 1e-29 * 1e18\n",
      "/Users/myue/Research/Projects/JWST/dependencies/msa_spec_utils/LAE_spec_utils.py:433: RuntimeWarning: divide by zero encountered in divide\n",
      "  self.err_flam = self.err_fnu * (speed_of_light_angstrom / (self.wave)**2 * 1e-29 * 1e18)\n",
      "16:21 bilby INFO    : Running for label '3117_4376', output will be saved to './bilby_fit_civ_pypeit_v1/'\n",
      "16:21 bilby INFO    : Search parameters:\n",
      "16:21 bilby INFO    :   center = Uniform(minimum=11575.935458877004, maximum=11622.331993782322, name='center', latex_label='center', unit=None, boundary=None)\n",
      "16:21 bilby INFO    :   fwhm = Uniform(minimum=300, maximum=1000, name='fwhm', latex_label='fwhm', unit=None, boundary=None)\n",
      "16:21 bilby INFO    :   flux = Uniform(minimum=-9.214973756232084, maximum=9.214973756232084, name='flux', latex_label='flux', unit=None, boundary=None)\n",
      "16:21 bilby INFO    :   A = Uniform(minimum=-0.04478378281296435, maximum=0.0895675656259287, name='A', latex_label='A', unit=None, boundary=None)\n",
      "16:21 bilby INFO    :   beta = Uniform(minimum=-4, maximum=2, name='beta', latex_label='beta', unit=None, boundary=None)\n",
      "16:21 bilby INFO    :   wave0 = 11599.133726329663\n",
      "16:21 bilby INFO    : Single likelihood evaluation took 3.302e-05 s\n"
     ]
    },
    {
     "data": {
      "application/vnd.jupyter.widget-view+json": {
       "model_id": "fd680564db5a4db590d4662835871ef5",
       "version_major": 2,
       "version_minor": 0
      },
      "text/plain": [
       "0it [00:00, ?it/s]"
      ]
     },
     "metadata": {},
     "output_type": "display_data"
    },
    {
     "name": "stderr",
     "output_type": "stream",
     "text": [
      "16:21 bilby INFO    : Using sampler Dynesty with kwargs {'bound': 'multi', 'sample': 'rwalk', 'print_progress': True, 'periodic': None, 'reflective': None, 'check_point_delta_t': 1800, 'nlive': 200, 'first_update': None, 'walks': 100, 'npdim': None, 'rstate': None, 'queue_size': 1, 'pool': None, 'use_pool': None, 'live_points': None, 'logl_args': None, 'logl_kwargs': None, 'ptform_args': None, 'ptform_kwargs': None, 'enlarge': 1.5, 'bootstrap': None, 'vol_dec': 0.5, 'vol_check': 8.0, 'facc': 0.2, 'slices': 5, 'update_interval': 120, 'print_func': <bound method Dynesty._print_func of <bilby.core.sampler.dynesty.Dynesty object at 0x46d9ea930>>, 'dlogz': 0.1, 'maxiter': None, 'maxcall': None, 'logl_max': inf, 'add_live': True, 'save_bounds': False, 'n_effective': None, 'maxmcmc': 5000, 'nact': 5, 'print_method': 'tqdm'}\n",
      "16:21 bilby INFO    : Checkpoint every check_point_delta_t = 600s\n",
      "16:21 bilby INFO    : Using dynesty version 1.0.1\n",
      "16:21 bilby INFO    : Using the bilby-implemented rwalk sample method with ACT estimated walks\n",
      "16:21 bilby INFO    : Resume file ./bilby_fit_civ_pypeit_v1//3117_4376_resume.pickle does not exist.\n",
      "16:21 bilby INFO    : Generating initial points from the prior\n",
      "16:21 bilby INFO    : Written checkpoint file ./bilby_fit_civ_pypeit_v1//3117_4376_resume.pickle\n",
      "16:21 bilby INFO    : Sampling time: 0:00:15.218117\n",
      "16:21 bilby INFO    : Summary of results:\n",
      "nsamples: 2376\n",
      "ln_noise_evidence:    nan\n",
      "ln_evidence: 338.175 +/-  0.265\n",
      "ln_bayes_factor:    nan +/-  0.265\n",
      "\n"
     ]
    },
    {
     "name": "stdout",
     "output_type": "stream",
     "text": [
      "\n"
     ]
    },
    {
     "name": "stderr",
     "output_type": "stream",
     "text": [
      "/Users/myue/Research/Projects/JWST/dependencies/msa_spec_utils/LAE_spec_utils.py:426: RuntimeWarning: divide by zero encountered in power\n",
      "  self.err_fnu = (self.ivar_fnu)**-0.5\n",
      "/Users/myue/Research/Projects/JWST/dependencies/msa_spec_utils/LAE_spec_utils.py:432: RuntimeWarning: invalid value encountered in divide\n",
      "  self.flam = self.fnu * speed_of_light_angstrom / (self.wave)**2 * 1e-29 * 1e18\n",
      "/Users/myue/Research/Projects/JWST/dependencies/msa_spec_utils/LAE_spec_utils.py:433: RuntimeWarning: divide by zero encountered in divide\n",
      "  self.err_flam = self.err_fnu * (speed_of_light_angstrom / (self.wave)**2 * 1e-29 * 1e18)\n",
      "16:21 bilby INFO    : Running for label '3117_5123', output will be saved to './bilby_fit_civ_pypeit_v1/'\n",
      "16:21 bilby INFO    : Search parameters:\n",
      "16:21 bilby INFO    :   center = Uniform(minimum=11562.168126192964, maximum=11608.509481408166, name='center', latex_label='center', unit=None, boundary=None)\n",
      "16:21 bilby INFO    :   fwhm = Uniform(minimum=300, maximum=1000, name='fwhm', latex_label='fwhm', unit=None, boundary=None)\n",
      "16:21 bilby INFO    :   flux = Uniform(minimum=-9.060885520578465, maximum=9.060885520578465, name='flux', latex_label='flux', unit=None, boundary=None)\n",
      "16:21 bilby INFO    :   A = Uniform(minimum=-0.04408736391456374, maximum=0.08817472782912748, name='A', latex_label='A', unit=None, boundary=None)\n",
      "16:21 bilby INFO    :   beta = Uniform(minimum=-4, maximum=2, name='beta', latex_label='beta', unit=None, boundary=None)\n",
      "16:21 bilby INFO    :   wave0 = 11585.338803800565\n",
      "16:21 bilby INFO    : Single likelihood evaluation took 3.573e-05 s\n"
     ]
    },
    {
     "data": {
      "application/vnd.jupyter.widget-view+json": {
       "model_id": "7cdbeb08b24346de87c07d4a62833b32",
       "version_major": 2,
       "version_minor": 0
      },
      "text/plain": [
       "0it [00:00, ?it/s]"
      ]
     },
     "metadata": {},
     "output_type": "display_data"
    },
    {
     "name": "stderr",
     "output_type": "stream",
     "text": [
      "16:21 bilby INFO    : Using sampler Dynesty with kwargs {'bound': 'multi', 'sample': 'rwalk', 'print_progress': True, 'periodic': None, 'reflective': None, 'check_point_delta_t': 1800, 'nlive': 200, 'first_update': None, 'walks': 100, 'npdim': None, 'rstate': None, 'queue_size': 1, 'pool': None, 'use_pool': None, 'live_points': None, 'logl_args': None, 'logl_kwargs': None, 'ptform_args': None, 'ptform_kwargs': None, 'enlarge': 1.5, 'bootstrap': None, 'vol_dec': 0.5, 'vol_check': 8.0, 'facc': 0.2, 'slices': 5, 'update_interval': 120, 'print_func': <bound method Dynesty._print_func of <bilby.core.sampler.dynesty.Dynesty object at 0x471795400>>, 'dlogz': 0.1, 'maxiter': None, 'maxcall': None, 'logl_max': inf, 'add_live': True, 'save_bounds': False, 'n_effective': None, 'maxmcmc': 5000, 'nact': 5, 'print_method': 'tqdm'}\n",
      "16:21 bilby INFO    : Checkpoint every check_point_delta_t = 600s\n",
      "16:21 bilby INFO    : Using dynesty version 1.0.1\n",
      "16:21 bilby INFO    : Using the bilby-implemented rwalk sample method with ACT estimated walks\n",
      "16:21 bilby INFO    : Resume file ./bilby_fit_civ_pypeit_v1//3117_5123_resume.pickle does not exist.\n",
      "16:21 bilby INFO    : Generating initial points from the prior\n",
      "16:22 bilby INFO    : Written checkpoint file ./bilby_fit_civ_pypeit_v1//3117_5123_resume.pickle\n",
      "16:22 bilby INFO    : Sampling time: 0:00:14.639726\n",
      "16:22 bilby INFO    : Summary of results:\n",
      "nsamples: 2425\n",
      "ln_noise_evidence:    nan\n",
      "ln_evidence: 315.107 +/-  0.269\n",
      "ln_bayes_factor:    nan +/-  0.269\n",
      "\n"
     ]
    },
    {
     "name": "stdout",
     "output_type": "stream",
     "text": [
      "\n"
     ]
    },
    {
     "name": "stderr",
     "output_type": "stream",
     "text": [
      "/Users/myue/Research/Projects/JWST/dependencies/msa_spec_utils/LAE_spec_utils.py:426: RuntimeWarning: divide by zero encountered in power\n",
      "  self.err_fnu = (self.ivar_fnu)**-0.5\n",
      "/Users/myue/Research/Projects/JWST/dependencies/msa_spec_utils/LAE_spec_utils.py:432: RuntimeWarning: invalid value encountered in divide\n",
      "  self.flam = self.fnu * speed_of_light_angstrom / (self.wave)**2 * 1e-29 * 1e18\n",
      "/Users/myue/Research/Projects/JWST/dependencies/msa_spec_utils/LAE_spec_utils.py:433: RuntimeWarning: divide by zero encountered in divide\n",
      "  self.err_flam = self.err_fnu * (speed_of_light_angstrom / (self.wave)**2 * 1e-29 * 1e18)\n",
      "16:22 bilby INFO    : Running for label '3117_6406', output will be saved to './bilby_fit_civ_pypeit_v1/'\n",
      "16:22 bilby INFO    : Search parameters:\n",
      "16:22 bilby INFO    :   center = Uniform(minimum=11571.258892584347, maximum=11617.636683736988, name='center', latex_label='center', unit=None, boundary=None)\n",
      "16:22 bilby INFO    :   fwhm = Uniform(minimum=300, maximum=1000, name='fwhm', latex_label='fwhm', unit=None, boundary=None)\n",
      "16:22 bilby INFO    :   flux = Uniform(minimum=-1.2912285880219474, maximum=1.2912285880219474, name='flux', latex_label='flux', unit=None, boundary=None)\n",
      "16:22 bilby INFO    :   A = Uniform(minimum=-0.07876873145399542, maximum=0.15753746290799084, name='A', latex_label='A', unit=None, boundary=None)\n",
      "16:22 bilby INFO    :   beta = Uniform(minimum=-4, maximum=2, name='beta', latex_label='beta', unit=None, boundary=None)\n",
      "16:22 bilby INFO    :   wave0 = 11594.447788160667\n",
      "16:22 bilby INFO    : Single likelihood evaluation took 3.542e-05 s\n"
     ]
    },
    {
     "data": {
      "application/vnd.jupyter.widget-view+json": {
       "model_id": "ac1d36fd949647c591f71e6f078fcd1a",
       "version_major": 2,
       "version_minor": 0
      },
      "text/plain": [
       "0it [00:00, ?it/s]"
      ]
     },
     "metadata": {},
     "output_type": "display_data"
    },
    {
     "name": "stderr",
     "output_type": "stream",
     "text": [
      "16:22 bilby INFO    : Using sampler Dynesty with kwargs {'bound': 'multi', 'sample': 'rwalk', 'print_progress': True, 'periodic': None, 'reflective': None, 'check_point_delta_t': 1800, 'nlive': 200, 'first_update': None, 'walks': 100, 'npdim': None, 'rstate': None, 'queue_size': 1, 'pool': None, 'use_pool': None, 'live_points': None, 'logl_args': None, 'logl_kwargs': None, 'ptform_args': None, 'ptform_kwargs': None, 'enlarge': 1.5, 'bootstrap': None, 'vol_dec': 0.5, 'vol_check': 8.0, 'facc': 0.2, 'slices': 5, 'update_interval': 120, 'print_func': <bound method Dynesty._print_func of <bilby.core.sampler.dynesty.Dynesty object at 0x4b141fb00>>, 'dlogz': 0.1, 'maxiter': None, 'maxcall': None, 'logl_max': inf, 'add_live': True, 'save_bounds': False, 'n_effective': None, 'maxmcmc': 5000, 'nact': 5, 'print_method': 'tqdm'}\n",
      "16:22 bilby INFO    : Checkpoint every check_point_delta_t = 600s\n",
      "16:22 bilby INFO    : Using dynesty version 1.0.1\n",
      "16:22 bilby INFO    : Using the bilby-implemented rwalk sample method with ACT estimated walks\n",
      "16:22 bilby INFO    : Resume file ./bilby_fit_civ_pypeit_v1//3117_6406_resume.pickle does not exist.\n",
      "16:22 bilby INFO    : Generating initial points from the prior\n",
      "16:39 bilby INFO    : Written checkpoint file ./bilby_fit_civ_pypeit_v1//3117_6406_resume.pickle\n",
      "16:39 bilby INFO    : Written checkpoint file ./bilby_fit_civ_pypeit_v1//3117_6406_resume.pickle\n",
      "16:39 bilby INFO    : Sampling time: 0:17:18.500561\n",
      "16:39 bilby INFO    : Summary of results:\n",
      "nsamples: 2525\n",
      "ln_noise_evidence:    nan\n",
      "ln_evidence: 302.678 +/-  0.271\n",
      "ln_bayes_factor:    nan +/-  0.271\n",
      "\n"
     ]
    },
    {
     "name": "stdout",
     "output_type": "stream",
     "text": [
      "\n"
     ]
    },
    {
     "name": "stderr",
     "output_type": "stream",
     "text": [
      "/Users/myue/Research/Projects/JWST/dependencies/msa_spec_utils/LAE_spec_utils.py:426: RuntimeWarning: divide by zero encountered in power\n",
      "  self.err_fnu = (self.ivar_fnu)**-0.5\n",
      "/Users/myue/Research/Projects/JWST/dependencies/msa_spec_utils/LAE_spec_utils.py:432: RuntimeWarning: invalid value encountered in divide\n",
      "  self.flam = self.fnu * speed_of_light_angstrom / (self.wave)**2 * 1e-29 * 1e18\n",
      "/Users/myue/Research/Projects/JWST/dependencies/msa_spec_utils/LAE_spec_utils.py:433: RuntimeWarning: divide by zero encountered in divide\n",
      "  self.err_flam = self.err_fnu * (speed_of_light_angstrom / (self.wave)**2 * 1e-29 * 1e18)\n",
      "16:39 bilby INFO    : Running for label '3117_6584', output will be saved to './bilby_fit_civ_pypeit_v1/'\n",
      "16:39 bilby INFO    : Search parameters:\n",
      "16:39 bilby INFO    :   center = Uniform(minimum=11718.672605714795, maximum=11765.641233393011, name='center', latex_label='center', unit=None, boundary=None)\n",
      "16:39 bilby INFO    :   fwhm = Uniform(minimum=300, maximum=1000, name='fwhm', latex_label='fwhm', unit=None, boundary=None)\n",
      "16:39 bilby INFO    :   flux = Uniform(minimum=-7.287763943050045, maximum=7.287763943050045, name='flux', latex_label='flux', unit=None, boundary=None)\n",
      "16:39 bilby INFO    :   A = Uniform(minimum=-0.03498635067103978, maximum=0.06997270134207956, name='A', latex_label='A', unit=None, boundary=None)\n",
      "16:39 bilby INFO    :   beta = Uniform(minimum=-4, maximum=2, name='beta', latex_label='beta', unit=None, boundary=None)\n",
      "16:39 bilby INFO    :   wave0 = 11742.156919553903\n",
      "16:39 bilby INFO    : Single likelihood evaluation took 3.397e-05 s\n"
     ]
    },
    {
     "data": {
      "application/vnd.jupyter.widget-view+json": {
       "model_id": "4fb9f1656e6e4fd4b86550f5b276571d",
       "version_major": 2,
       "version_minor": 0
      },
      "text/plain": [
       "0it [00:00, ?it/s]"
      ]
     },
     "metadata": {},
     "output_type": "display_data"
    },
    {
     "name": "stderr",
     "output_type": "stream",
     "text": [
      "16:39 bilby INFO    : Using sampler Dynesty with kwargs {'bound': 'multi', 'sample': 'rwalk', 'print_progress': True, 'periodic': None, 'reflective': None, 'check_point_delta_t': 1800, 'nlive': 200, 'first_update': None, 'walks': 100, 'npdim': None, 'rstate': None, 'queue_size': 1, 'pool': None, 'use_pool': None, 'live_points': None, 'logl_args': None, 'logl_kwargs': None, 'ptform_args': None, 'ptform_kwargs': None, 'enlarge': 1.5, 'bootstrap': None, 'vol_dec': 0.5, 'vol_check': 8.0, 'facc': 0.2, 'slices': 5, 'update_interval': 120, 'print_func': <bound method Dynesty._print_func of <bilby.core.sampler.dynesty.Dynesty object at 0x4cfab3260>>, 'dlogz': 0.1, 'maxiter': None, 'maxcall': None, 'logl_max': inf, 'add_live': True, 'save_bounds': False, 'n_effective': None, 'maxmcmc': 5000, 'nact': 5, 'print_method': 'tqdm'}\n",
      "16:39 bilby INFO    : Checkpoint every check_point_delta_t = 600s\n",
      "16:39 bilby INFO    : Using dynesty version 1.0.1\n",
      "16:39 bilby INFO    : Using the bilby-implemented rwalk sample method with ACT estimated walks\n",
      "16:39 bilby INFO    : Resume file ./bilby_fit_civ_pypeit_v1//3117_6584_resume.pickle does not exist.\n",
      "16:39 bilby INFO    : Generating initial points from the prior\n",
      "16:39 bilby INFO    : Written checkpoint file ./bilby_fit_civ_pypeit_v1//3117_6584_resume.pickle\n",
      "16:39 bilby INFO    : Sampling time: 0:00:12.804787\n",
      "16:39 bilby INFO    : Summary of results:\n",
      "nsamples: 2405\n",
      "ln_noise_evidence:    nan\n",
      "ln_evidence: 347.032 +/-  0.256\n",
      "ln_bayes_factor:    nan +/-  0.256\n",
      "\n"
     ]
    },
    {
     "name": "stdout",
     "output_type": "stream",
     "text": [
      "\n"
     ]
    },
    {
     "name": "stderr",
     "output_type": "stream",
     "text": [
      "/Users/myue/Research/Projects/JWST/dependencies/msa_spec_utils/LAE_spec_utils.py:426: RuntimeWarning: divide by zero encountered in power\n",
      "  self.err_fnu = (self.ivar_fnu)**-0.5\n",
      "/Users/myue/Research/Projects/JWST/dependencies/msa_spec_utils/LAE_spec_utils.py:432: RuntimeWarning: invalid value encountered in divide\n",
      "  self.flam = self.fnu * speed_of_light_angstrom / (self.wave)**2 * 1e-29 * 1e18\n",
      "/Users/myue/Research/Projects/JWST/dependencies/msa_spec_utils/LAE_spec_utils.py:433: RuntimeWarning: divide by zero encountered in divide\n",
      "  self.err_flam = self.err_fnu * (speed_of_light_angstrom / (self.wave)**2 * 1e-29 * 1e18)\n",
      "16:39 bilby INFO    : Running for label '3117_7217', output will be saved to './bilby_fit_civ_pypeit_v1/'\n",
      "16:39 bilby INFO    : Search parameters:\n",
      "16:39 bilby INFO    :   center = Uniform(minimum=11474.142390285588, maximum=11520.130936940039, name='center', latex_label='center', unit=None, boundary=None)\n",
      "16:39 bilby INFO    :   fwhm = Uniform(minimum=300, maximum=1000, name='fwhm', latex_label='fwhm', unit=None, boundary=None)\n",
      "16:39 bilby INFO    :   flux = Uniform(minimum=-6.907678455230743, maximum=6.907678455230743, name='flux', latex_label='flux', unit=None, boundary=None)\n",
      "16:39 bilby INFO    :   A = Uniform(minimum=-0.03386839742937839, maximum=0.06773679485875678, name='A', latex_label='A', unit=None, boundary=None)\n",
      "16:39 bilby INFO    :   beta = Uniform(minimum=-4, maximum=2, name='beta', latex_label='beta', unit=None, boundary=None)\n",
      "16:39 bilby INFO    :   wave0 = 11497.136663612813\n",
      "16:39 bilby INFO    : Single likelihood evaluation took 3.423e-05 s\n"
     ]
    },
    {
     "data": {
      "application/vnd.jupyter.widget-view+json": {
       "model_id": "405efd5e71964dc0b9f1f1fafb43d590",
       "version_major": 2,
       "version_minor": 0
      },
      "text/plain": [
       "0it [00:00, ?it/s]"
      ]
     },
     "metadata": {},
     "output_type": "display_data"
    },
    {
     "name": "stderr",
     "output_type": "stream",
     "text": [
      "16:39 bilby INFO    : Using sampler Dynesty with kwargs {'bound': 'multi', 'sample': 'rwalk', 'print_progress': True, 'periodic': None, 'reflective': None, 'check_point_delta_t': 1800, 'nlive': 200, 'first_update': None, 'walks': 100, 'npdim': None, 'rstate': None, 'queue_size': 1, 'pool': None, 'use_pool': None, 'live_points': None, 'logl_args': None, 'logl_kwargs': None, 'ptform_args': None, 'ptform_kwargs': None, 'enlarge': 1.5, 'bootstrap': None, 'vol_dec': 0.5, 'vol_check': 8.0, 'facc': 0.2, 'slices': 5, 'update_interval': 120, 'print_func': <bound method Dynesty._print_func of <bilby.core.sampler.dynesty.Dynesty object at 0x4d34e6720>>, 'dlogz': 0.1, 'maxiter': None, 'maxcall': None, 'logl_max': inf, 'add_live': True, 'save_bounds': False, 'n_effective': None, 'maxmcmc': 5000, 'nact': 5, 'print_method': 'tqdm'}\n",
      "16:39 bilby INFO    : Checkpoint every check_point_delta_t = 600s\n",
      "16:39 bilby INFO    : Using dynesty version 1.0.1\n",
      "16:39 bilby INFO    : Using the bilby-implemented rwalk sample method with ACT estimated walks\n",
      "16:39 bilby INFO    : Resume file ./bilby_fit_civ_pypeit_v1//3117_7217_resume.pickle does not exist.\n",
      "16:39 bilby INFO    : Generating initial points from the prior\n",
      "16:39 bilby INFO    : Written checkpoint file ./bilby_fit_civ_pypeit_v1//3117_7217_resume.pickle\n",
      "16:39 bilby INFO    : Sampling time: 0:00:12.675589\n",
      "16:39 bilby INFO    : Summary of results:\n",
      "nsamples: 2332\n",
      "ln_noise_evidence:    nan\n",
      "ln_evidence: 326.662 +/-  0.252\n",
      "ln_bayes_factor:    nan +/-  0.252\n",
      "\n"
     ]
    },
    {
     "name": "stdout",
     "output_type": "stream",
     "text": [
      "\n"
     ]
    },
    {
     "name": "stderr",
     "output_type": "stream",
     "text": [
      "/Users/myue/Research/Projects/JWST/dependencies/msa_spec_utils/LAE_spec_utils.py:426: RuntimeWarning: divide by zero encountered in power\n",
      "  self.err_fnu = (self.ivar_fnu)**-0.5\n",
      "/Users/myue/Research/Projects/JWST/dependencies/msa_spec_utils/LAE_spec_utils.py:432: RuntimeWarning: invalid value encountered in divide\n",
      "  self.flam = self.fnu * speed_of_light_angstrom / (self.wave)**2 * 1e-29 * 1e18\n",
      "/Users/myue/Research/Projects/JWST/dependencies/msa_spec_utils/LAE_spec_utils.py:433: RuntimeWarning: divide by zero encountered in divide\n",
      "  self.err_flam = self.err_fnu * (speed_of_light_angstrom / (self.wave)**2 * 1e-29 * 1e18)\n",
      "16:39 bilby INFO    : Running for label '3117_8234', output will be saved to './bilby_fit_civ_pypeit_v1/'\n",
      "16:39 bilby INFO    : Search parameters:\n",
      "16:39 bilby INFO    :   center = Uniform(minimum=11217.609369710792, maximum=11262.569727906024, name='center', latex_label='center', unit=None, boundary=None)\n",
      "16:39 bilby INFO    :   fwhm = Uniform(minimum=300, maximum=1000, name='fwhm', latex_label='fwhm', unit=None, boundary=None)\n",
      "16:39 bilby INFO    :   flux = Uniform(minimum=-8.001960517751245, maximum=8.001960517751245, name='flux', latex_label='flux', unit=None, boundary=None)\n",
      "16:39 bilby INFO    :   A = Uniform(minimum=-0.052994349053290174, maximum=0.10598869810658035, name='A', latex_label='A', unit=None, boundary=None)\n",
      "16:39 bilby INFO    :   beta = Uniform(minimum=-4, maximum=2, name='beta', latex_label='beta', unit=None, boundary=None)\n",
      "16:39 bilby INFO    :   wave0 = 11240.089548808408\n",
      "16:39 bilby INFO    : Single likelihood evaluation took 3.589e-05 s\n"
     ]
    },
    {
     "data": {
      "application/vnd.jupyter.widget-view+json": {
       "model_id": "d58c4e591a1e499b9731843f97d9ca61",
       "version_major": 2,
       "version_minor": 0
      },
      "text/plain": [
       "0it [00:00, ?it/s]"
      ]
     },
     "metadata": {},
     "output_type": "display_data"
    },
    {
     "name": "stderr",
     "output_type": "stream",
     "text": [
      "16:39 bilby INFO    : Using sampler Dynesty with kwargs {'bound': 'multi', 'sample': 'rwalk', 'print_progress': True, 'periodic': None, 'reflective': None, 'check_point_delta_t': 1800, 'nlive': 200, 'first_update': None, 'walks': 100, 'npdim': None, 'rstate': None, 'queue_size': 1, 'pool': None, 'use_pool': None, 'live_points': None, 'logl_args': None, 'logl_kwargs': None, 'ptform_args': None, 'ptform_kwargs': None, 'enlarge': 1.5, 'bootstrap': None, 'vol_dec': 0.5, 'vol_check': 8.0, 'facc': 0.2, 'slices': 5, 'update_interval': 120, 'print_func': <bound method Dynesty._print_func of <bilby.core.sampler.dynesty.Dynesty object at 0x512d4f860>>, 'dlogz': 0.1, 'maxiter': None, 'maxcall': None, 'logl_max': inf, 'add_live': True, 'save_bounds': False, 'n_effective': None, 'maxmcmc': 5000, 'nact': 5, 'print_method': 'tqdm'}\n",
      "16:39 bilby INFO    : Checkpoint every check_point_delta_t = 600s\n",
      "16:39 bilby INFO    : Using dynesty version 1.0.1\n",
      "16:39 bilby INFO    : Using the bilby-implemented rwalk sample method with ACT estimated walks\n",
      "16:39 bilby INFO    : Resume file ./bilby_fit_civ_pypeit_v1//3117_8234_resume.pickle does not exist.\n",
      "16:39 bilby INFO    : Generating initial points from the prior\n",
      "16:56 bilby INFO    : Written checkpoint file ./bilby_fit_civ_pypeit_v1//3117_8234_resume.pickle\n",
      "16:56 bilby INFO    : Written checkpoint file ./bilby_fit_civ_pypeit_v1//3117_8234_resume.pickle\n",
      "16:56 bilby INFO    : Sampling time: 0:16:04.838894\n",
      "16:56 bilby INFO    : Summary of results:\n",
      "nsamples: 2343\n",
      "ln_noise_evidence:    nan\n",
      "ln_evidence: 290.994 +/-  0.264\n",
      "ln_bayes_factor:    nan +/-  0.264\n",
      "\n"
     ]
    },
    {
     "name": "stdout",
     "output_type": "stream",
     "text": [
      "\n"
     ]
    },
    {
     "name": "stderr",
     "output_type": "stream",
     "text": [
      "16:56 bilby INFO    : Running for label '3117_8871', output will be saved to './bilby_fit_civ_pypeit_v1/'\n",
      "16:56 bilby INFO    : Search parameters:\n",
      "16:56 bilby INFO    :   center = Uniform(minimum=11421.308221210827, maximum=11467.085007668586, name='center', latex_label='center', unit=None, boundary=None)\n",
      "16:56 bilby INFO    :   fwhm = Uniform(minimum=300, maximum=1000, name='fwhm', latex_label='fwhm', unit=None, boundary=None)\n",
      "16:56 bilby INFO    :   flux = Uniform(minimum=-5.465504947042639, maximum=5.465504947042639, name='flux', latex_label='flux', unit=None, boundary=None)\n",
      "16:56 bilby INFO    :   A = Uniform(minimum=-0.026921373223971673, maximum=0.053842746447943346, name='A', latex_label='A', unit=None, boundary=None)\n",
      "16:56 bilby INFO    :   beta = Uniform(minimum=-4, maximum=2, name='beta', latex_label='beta', unit=None, boundary=None)\n",
      "16:56 bilby INFO    :   wave0 = 11444.196614439707\n",
      "16:56 bilby INFO    : Single likelihood evaluation took 3.332e-05 s\n"
     ]
    },
    {
     "data": {
      "application/vnd.jupyter.widget-view+json": {
       "model_id": "97c8fe7c5fe94a3ca4fdce6e8a51c203",
       "version_major": 2,
       "version_minor": 0
      },
      "text/plain": [
       "0it [00:00, ?it/s]"
      ]
     },
     "metadata": {},
     "output_type": "display_data"
    },
    {
     "name": "stderr",
     "output_type": "stream",
     "text": [
      "16:56 bilby INFO    : Using sampler Dynesty with kwargs {'bound': 'multi', 'sample': 'rwalk', 'print_progress': True, 'periodic': None, 'reflective': None, 'check_point_delta_t': 1800, 'nlive': 200, 'first_update': None, 'walks': 100, 'npdim': None, 'rstate': None, 'queue_size': 1, 'pool': None, 'use_pool': None, 'live_points': None, 'logl_args': None, 'logl_kwargs': None, 'ptform_args': None, 'ptform_kwargs': None, 'enlarge': 1.5, 'bootstrap': None, 'vol_dec': 0.5, 'vol_check': 8.0, 'facc': 0.2, 'slices': 5, 'update_interval': 120, 'print_func': <bound method Dynesty._print_func of <bilby.core.sampler.dynesty.Dynesty object at 0x53391e720>>, 'dlogz': 0.1, 'maxiter': None, 'maxcall': None, 'logl_max': inf, 'add_live': True, 'save_bounds': False, 'n_effective': None, 'maxmcmc': 5000, 'nact': 5, 'print_method': 'tqdm'}\n",
      "16:56 bilby INFO    : Checkpoint every check_point_delta_t = 600s\n",
      "16:56 bilby INFO    : Using dynesty version 1.0.1\n",
      "16:56 bilby INFO    : Using the bilby-implemented rwalk sample method with ACT estimated walks\n",
      "16:56 bilby INFO    : Resume file ./bilby_fit_civ_pypeit_v1//3117_8871_resume.pickle does not exist.\n",
      "16:56 bilby INFO    : Generating initial points from the prior\n",
      "16:56 bilby INFO    : Written checkpoint file ./bilby_fit_civ_pypeit_v1//3117_8871_resume.pickle\n",
      "16:56 bilby INFO    : Sampling time: 0:00:14.200643\n",
      "16:56 bilby INFO    : Summary of results:\n",
      "nsamples: 2571\n",
      "ln_noise_evidence:    nan\n",
      "ln_evidence: 372.893 +/-  0.274\n",
      "ln_bayes_factor:    nan +/-  0.274\n",
      "\n"
     ]
    },
    {
     "name": "stdout",
     "output_type": "stream",
     "text": [
      "\n"
     ]
    },
    {
     "name": "stderr",
     "output_type": "stream",
     "text": [
      "16:56 bilby INFO    : Running for label '3117_9192', output will be saved to './bilby_fit_civ_pypeit_v1/'\n",
      "16:56 bilby INFO    : Search parameters:\n",
      "16:56 bilby INFO    :   center = Uniform(minimum=11560.227016532426, maximum=11606.560591748988, name='center', latex_label='center', unit=None, boundary=None)\n",
      "16:56 bilby INFO    :   fwhm = Uniform(minimum=300, maximum=1000, name='fwhm', latex_label='fwhm', unit=None, boundary=None)\n",
      "16:56 bilby INFO    :   flux = Uniform(minimum=-14.59337793718033, maximum=14.59337793718033, name='flux', latex_label='flux', unit=None, boundary=None)\n",
      "16:56 bilby INFO    :   A = Uniform(minimum=-0.07101862116122408, maximum=0.14203724232244816, name='A', latex_label='A', unit=None, boundary=None)\n",
      "16:56 bilby INFO    :   beta = Uniform(minimum=-4, maximum=2, name='beta', latex_label='beta', unit=None, boundary=None)\n",
      "16:56 bilby INFO    :   wave0 = 11583.393804140707\n",
      "16:56 bilby INFO    : Single likelihood evaluation took 3.348e-05 s\n"
     ]
    },
    {
     "data": {
      "application/vnd.jupyter.widget-view+json": {
       "model_id": "64a99e88cd4c4000ae0a54d5c1a21f7a",
       "version_major": 2,
       "version_minor": 0
      },
      "text/plain": [
       "0it [00:00, ?it/s]"
      ]
     },
     "metadata": {},
     "output_type": "display_data"
    },
    {
     "name": "stderr",
     "output_type": "stream",
     "text": [
      "16:56 bilby INFO    : Using sampler Dynesty with kwargs {'bound': 'multi', 'sample': 'rwalk', 'print_progress': True, 'periodic': None, 'reflective': None, 'check_point_delta_t': 1800, 'nlive': 200, 'first_update': None, 'walks': 100, 'npdim': None, 'rstate': None, 'queue_size': 1, 'pool': None, 'use_pool': None, 'live_points': None, 'logl_args': None, 'logl_kwargs': None, 'ptform_args': None, 'ptform_kwargs': None, 'enlarge': 1.5, 'bootstrap': None, 'vol_dec': 0.5, 'vol_check': 8.0, 'facc': 0.2, 'slices': 5, 'update_interval': 120, 'print_func': <bound method Dynesty._print_func of <bilby.core.sampler.dynesty.Dynesty object at 0x55527aa80>>, 'dlogz': 0.1, 'maxiter': None, 'maxcall': None, 'logl_max': inf, 'add_live': True, 'save_bounds': False, 'n_effective': None, 'maxmcmc': 5000, 'nact': 5, 'print_method': 'tqdm'}\n",
      "16:56 bilby INFO    : Checkpoint every check_point_delta_t = 600s\n",
      "16:56 bilby INFO    : Using dynesty version 1.0.1\n",
      "16:56 bilby INFO    : Using the bilby-implemented rwalk sample method with ACT estimated walks\n",
      "16:56 bilby INFO    : Resume file ./bilby_fit_civ_pypeit_v1//3117_9192_resume.pickle does not exist.\n",
      "16:56 bilby INFO    : Generating initial points from the prior\n",
      "16:56 bilby INFO    : Written checkpoint file ./bilby_fit_civ_pypeit_v1//3117_9192_resume.pickle\n",
      "16:56 bilby INFO    : Sampling time: 0:00:17.192985\n",
      "16:56 bilby INFO    : Summary of results:\n",
      "nsamples: 2789\n",
      "ln_noise_evidence:    nan\n",
      "ln_evidence: 326.136 +/-  0.295\n",
      "ln_bayes_factor:    nan +/-  0.295\n",
      "\n"
     ]
    },
    {
     "name": "stdout",
     "output_type": "stream",
     "text": [
      "\n"
     ]
    },
    {
     "name": "stderr",
     "output_type": "stream",
     "text": [
      "/Users/myue/Research/Projects/JWST/dependencies/msa_spec_utils/LAE_spec_utils.py:426: RuntimeWarning: divide by zero encountered in power\n",
      "  self.err_fnu = (self.ivar_fnu)**-0.5\n",
      "/Users/myue/Research/Projects/JWST/dependencies/msa_spec_utils/LAE_spec_utils.py:432: RuntimeWarning: invalid value encountered in divide\n",
      "  self.flam = self.fnu * speed_of_light_angstrom / (self.wave)**2 * 1e-29 * 1e18\n",
      "/Users/myue/Research/Projects/JWST/dependencies/msa_spec_utils/LAE_spec_utils.py:433: RuntimeWarning: divide by zero encountered in divide\n",
      "  self.err_flam = self.err_fnu * (speed_of_light_angstrom / (self.wave)**2 * 1e-29 * 1e18)\n",
      "16:56 bilby INFO    : Running for label '3117_9232', output will be saved to './bilby_fit_civ_pypeit_v1/'\n",
      "16:56 bilby INFO    : Search parameters:\n",
      "16:56 bilby INFO    :   center = Uniform(minimum=10923.668304078567, maximum=10967.450541770266, name='center', latex_label='center', unit=None, boundary=None)\n",
      "16:56 bilby INFO    :   fwhm = Uniform(minimum=300, maximum=1000, name='fwhm', latex_label='fwhm', unit=None, boundary=None)\n",
      "16:56 bilby INFO    :   flux = Uniform(minimum=-7.679652772457168, maximum=7.679652772457168, name='flux', latex_label='flux', unit=None, boundary=None)\n",
      "16:56 bilby INFO    :   A = Uniform(minimum=-0.03955085249484008, maximum=0.07910170498968017, name='A', latex_label='A', unit=None, boundary=None)\n",
      "16:56 bilby INFO    :   beta = Uniform(minimum=-4, maximum=2, name='beta', latex_label='beta', unit=None, boundary=None)\n",
      "16:56 bilby INFO    :   wave0 = 10945.559422924416\n",
      "16:56 bilby INFO    : Single likelihood evaluation took 3.451e-05 s\n"
     ]
    },
    {
     "data": {
      "application/vnd.jupyter.widget-view+json": {
       "model_id": "d2186b96042647d98de7bf15802f1758",
       "version_major": 2,
       "version_minor": 0
      },
      "text/plain": [
       "0it [00:00, ?it/s]"
      ]
     },
     "metadata": {},
     "output_type": "display_data"
    },
    {
     "name": "stderr",
     "output_type": "stream",
     "text": [
      "16:56 bilby INFO    : Using sampler Dynesty with kwargs {'bound': 'multi', 'sample': 'rwalk', 'print_progress': True, 'periodic': None, 'reflective': None, 'check_point_delta_t': 1800, 'nlive': 200, 'first_update': None, 'walks': 100, 'npdim': None, 'rstate': None, 'queue_size': 1, 'pool': None, 'use_pool': None, 'live_points': None, 'logl_args': None, 'logl_kwargs': None, 'ptform_args': None, 'ptform_kwargs': None, 'enlarge': 1.5, 'bootstrap': None, 'vol_dec': 0.5, 'vol_check': 8.0, 'facc': 0.2, 'slices': 5, 'update_interval': 120, 'print_func': <bound method Dynesty._print_func of <bilby.core.sampler.dynesty.Dynesty object at 0x5760cf6e0>>, 'dlogz': 0.1, 'maxiter': None, 'maxcall': None, 'logl_max': inf, 'add_live': True, 'save_bounds': False, 'n_effective': None, 'maxmcmc': 5000, 'nact': 5, 'print_method': 'tqdm'}\n",
      "16:56 bilby INFO    : Checkpoint every check_point_delta_t = 600s\n",
      "16:56 bilby INFO    : Using dynesty version 1.0.1\n",
      "16:56 bilby INFO    : Using the bilby-implemented rwalk sample method with ACT estimated walks\n",
      "16:56 bilby INFO    : Resume file ./bilby_fit_civ_pypeit_v1//3117_9232_resume.pickle does not exist.\n",
      "16:56 bilby INFO    : Generating initial points from the prior\n",
      "16:56 bilby INFO    : Written checkpoint file ./bilby_fit_civ_pypeit_v1//3117_9232_resume.pickle\n",
      "16:56 bilby INFO    : Sampling time: 0:00:13.443930\n",
      "16:56 bilby INFO    : Summary of results:\n",
      "nsamples: 2322\n",
      "ln_noise_evidence:    nan\n",
      "ln_evidence: 309.723 +/-  0.259\n",
      "ln_bayes_factor:    nan +/-  0.259\n",
      "\n"
     ]
    },
    {
     "name": "stdout",
     "output_type": "stream",
     "text": [
      "\n"
     ]
    },
    {
     "name": "stderr",
     "output_type": "stream",
     "text": [
      "/Users/myue/Research/Projects/JWST/dependencies/msa_spec_utils/LAE_spec_utils.py:426: RuntimeWarning: divide by zero encountered in power\n",
      "  self.err_fnu = (self.ivar_fnu)**-0.5\n",
      "/Users/myue/Research/Projects/JWST/dependencies/msa_spec_utils/LAE_spec_utils.py:432: RuntimeWarning: invalid value encountered in divide\n",
      "  self.flam = self.fnu * speed_of_light_angstrom / (self.wave)**2 * 1e-29 * 1e18\n",
      "/Users/myue/Research/Projects/JWST/dependencies/msa_spec_utils/LAE_spec_utils.py:433: RuntimeWarning: divide by zero encountered in divide\n",
      "  self.err_flam = self.err_fnu * (speed_of_light_angstrom / (self.wave)**2 * 1e-29 * 1e18)\n",
      "16:56 bilby INFO    : Running for label '3117_9314', output will be saved to './bilby_fit_civ_pypeit_v1/'\n",
      "16:56 bilby INFO    : Search parameters:\n",
      "16:56 bilby INFO    :   center = Uniform(minimum=11062.601726255267, maximum=11106.940811330438, name='center', latex_label='center', unit=None, boundary=None)\n",
      "16:56 bilby INFO    :   fwhm = Uniform(minimum=300, maximum=1000, name='fwhm', latex_label='fwhm', unit=None, boundary=None)\n",
      "16:56 bilby INFO    :   flux = Uniform(minimum=-41.11338706233284, maximum=41.11338706233284, name='flux', latex_label='flux', unit=None, boundary=None)\n",
      "16:56 bilby INFO    :   A = Uniform(minimum=-0.20907819812084397, maximum=0.41815639624168793, name='A', latex_label='A', unit=None, boundary=None)\n",
      "16:56 bilby INFO    :   beta = Uniform(minimum=-4, maximum=2, name='beta', latex_label='beta', unit=None, boundary=None)\n",
      "16:56 bilby INFO    :   wave0 = 11084.771268792852\n",
      "16:56 bilby INFO    : Single likelihood evaluation took 3.384e-05 s\n"
     ]
    },
    {
     "data": {
      "application/vnd.jupyter.widget-view+json": {
       "model_id": "fdccd24c3ea84490bb9acb482c7fbd9f",
       "version_major": 2,
       "version_minor": 0
      },
      "text/plain": [
       "0it [00:00, ?it/s]"
      ]
     },
     "metadata": {},
     "output_type": "display_data"
    },
    {
     "name": "stderr",
     "output_type": "stream",
     "text": [
      "16:56 bilby INFO    : Using sampler Dynesty with kwargs {'bound': 'multi', 'sample': 'rwalk', 'print_progress': True, 'periodic': None, 'reflective': None, 'check_point_delta_t': 1800, 'nlive': 200, 'first_update': None, 'walks': 100, 'npdim': None, 'rstate': None, 'queue_size': 1, 'pool': None, 'use_pool': None, 'live_points': None, 'logl_args': None, 'logl_kwargs': None, 'ptform_args': None, 'ptform_kwargs': None, 'enlarge': 1.5, 'bootstrap': None, 'vol_dec': 0.5, 'vol_check': 8.0, 'facc': 0.2, 'slices': 5, 'update_interval': 120, 'print_func': <bound method Dynesty._print_func of <bilby.core.sampler.dynesty.Dynesty object at 0x4cf44a5a0>>, 'dlogz': 0.1, 'maxiter': None, 'maxcall': None, 'logl_max': inf, 'add_live': True, 'save_bounds': False, 'n_effective': None, 'maxmcmc': 5000, 'nact': 5, 'print_method': 'tqdm'}\n",
      "16:56 bilby INFO    : Checkpoint every check_point_delta_t = 600s\n",
      "16:56 bilby INFO    : Using dynesty version 1.0.1\n",
      "16:56 bilby INFO    : Using the bilby-implemented rwalk sample method with ACT estimated walks\n",
      "16:56 bilby INFO    : Resume file ./bilby_fit_civ_pypeit_v1//3117_9314_resume.pickle does not exist.\n",
      "16:56 bilby INFO    : Generating initial points from the prior\n",
      "17:02 bilby INFO    : Written checkpoint file ./bilby_fit_civ_pypeit_v1//3117_9314_resume.pickle\n",
      "17:02 bilby INFO    : Sampling time: 0:05:39.869655\n",
      "17:02 bilby INFO    : Summary of results:\n",
      "nsamples: 3776\n",
      "ln_noise_evidence:    nan\n",
      "ln_evidence: 253.103 +/-  0.363\n",
      "ln_bayes_factor:    nan +/-  0.363\n",
      "\n"
     ]
    },
    {
     "name": "stdout",
     "output_type": "stream",
     "text": [
      "\n"
     ]
    },
    {
     "name": "stderr",
     "output_type": "stream",
     "text": [
      "/Users/myue/Research/Projects/JWST/dependencies/msa_spec_utils/LAE_spec_utils.py:426: RuntimeWarning: divide by zero encountered in power\n",
      "  self.err_fnu = (self.ivar_fnu)**-0.5\n",
      "/Users/myue/Research/Projects/JWST/dependencies/msa_spec_utils/LAE_spec_utils.py:432: RuntimeWarning: invalid value encountered in divide\n",
      "  self.flam = self.fnu * speed_of_light_angstrom / (self.wave)**2 * 1e-29 * 1e18\n",
      "/Users/myue/Research/Projects/JWST/dependencies/msa_spec_utils/LAE_spec_utils.py:433: RuntimeWarning: divide by zero encountered in divide\n",
      "  self.err_flam = self.err_fnu * (speed_of_light_angstrom / (self.wave)**2 * 1e-29 * 1e18)\n",
      "17:02 bilby INFO    : Running for label '3117_9428', output will be saved to './bilby_fit_civ_pypeit_v1/'\n",
      "17:02 bilby INFO    : Search parameters:\n",
      "17:02 bilby INFO    :   center = Uniform(minimum=12009.69800697084, maximum=12057.83306912303, name='center', latex_label='center', unit=None, boundary=None)\n",
      "17:02 bilby INFO    :   fwhm = Uniform(minimum=300, maximum=1000, name='fwhm', latex_label='fwhm', unit=None, boundary=None)\n",
      "17:02 bilby INFO    :   flux = Uniform(minimum=-8.184083173096946, maximum=8.184083173096946, name='flux', latex_label='flux', unit=None, boundary=None)\n",
      "17:02 bilby INFO    :   A = Uniform(minimum=-0.03833722877153604, maximum=0.07667445754307207, name='A', latex_label='A', unit=None, boundary=None)\n",
      "17:02 bilby INFO    :   beta = Uniform(minimum=-4, maximum=2, name='beta', latex_label='beta', unit=None, boundary=None)\n",
      "17:02 bilby INFO    :   wave0 = 12033.765538046935\n",
      "17:02 bilby INFO    : Single likelihood evaluation took 3.542e-05 s\n"
     ]
    },
    {
     "data": {
      "application/vnd.jupyter.widget-view+json": {
       "model_id": "e8a47ead2ebd43f7b1dfa67cd31c0dad",
       "version_major": 2,
       "version_minor": 0
      },
      "text/plain": [
       "0it [00:00, ?it/s]"
      ]
     },
     "metadata": {},
     "output_type": "display_data"
    },
    {
     "name": "stderr",
     "output_type": "stream",
     "text": [
      "17:02 bilby INFO    : Using sampler Dynesty with kwargs {'bound': 'multi', 'sample': 'rwalk', 'print_progress': True, 'periodic': None, 'reflective': None, 'check_point_delta_t': 1800, 'nlive': 200, 'first_update': None, 'walks': 100, 'npdim': None, 'rstate': None, 'queue_size': 1, 'pool': None, 'use_pool': None, 'live_points': None, 'logl_args': None, 'logl_kwargs': None, 'ptform_args': None, 'ptform_kwargs': None, 'enlarge': 1.5, 'bootstrap': None, 'vol_dec': 0.5, 'vol_check': 8.0, 'facc': 0.2, 'slices': 5, 'update_interval': 120, 'print_func': <bound method Dynesty._print_func of <bilby.core.sampler.dynesty.Dynesty object at 0x5b718ec00>>, 'dlogz': 0.1, 'maxiter': None, 'maxcall': None, 'logl_max': inf, 'add_live': True, 'save_bounds': False, 'n_effective': None, 'maxmcmc': 5000, 'nact': 5, 'print_method': 'tqdm'}\n",
      "17:02 bilby INFO    : Checkpoint every check_point_delta_t = 600s\n",
      "17:02 bilby INFO    : Using dynesty version 1.0.1\n",
      "17:02 bilby INFO    : Using the bilby-implemented rwalk sample method with ACT estimated walks\n",
      "17:02 bilby INFO    : Resume file ./bilby_fit_civ_pypeit_v1//3117_9428_resume.pickle does not exist.\n",
      "17:02 bilby INFO    : Generating initial points from the prior\n",
      "17:02 bilby INFO    : Written checkpoint file ./bilby_fit_civ_pypeit_v1//3117_9428_resume.pickle\n",
      "17:02 bilby INFO    : Sampling time: 0:00:14.186586\n",
      "17:02 bilby INFO    : Summary of results:\n",
      "nsamples: 2503\n",
      "ln_noise_evidence:    nan\n",
      "ln_evidence: 233.979 +/-  0.274\n",
      "ln_bayes_factor:    nan +/-  0.274\n",
      "\n"
     ]
    },
    {
     "name": "stdout",
     "output_type": "stream",
     "text": [
      "\n"
     ]
    },
    {
     "name": "stderr",
     "output_type": "stream",
     "text": [
      "/Users/myue/Research/Projects/JWST/dependencies/msa_spec_utils/LAE_spec_utils.py:426: RuntimeWarning: divide by zero encountered in power\n",
      "  self.err_fnu = (self.ivar_fnu)**-0.5\n",
      "/Users/myue/Research/Projects/JWST/dependencies/msa_spec_utils/LAE_spec_utils.py:432: RuntimeWarning: invalid value encountered in divide\n",
      "  self.flam = self.fnu * speed_of_light_angstrom / (self.wave)**2 * 1e-29 * 1e18\n",
      "/Users/myue/Research/Projects/JWST/dependencies/msa_spec_utils/LAE_spec_utils.py:433: RuntimeWarning: divide by zero encountered in divide\n",
      "  self.err_flam = self.err_fnu * (speed_of_light_angstrom / (self.wave)**2 * 1e-29 * 1e18)\n",
      "17:02 bilby INFO    : Running for label '3117_9799', output will be saved to './bilby_fit_civ_pypeit_v1/'\n",
      "17:02 bilby INFO    : Search parameters:\n",
      "17:02 bilby INFO    :   center = Uniform(minimum=11558.948635106408, maximum=11605.277086549719, name='center', latex_label='center', unit=None, boundary=None)\n",
      "17:02 bilby INFO    :   fwhm = Uniform(minimum=300, maximum=1000, name='fwhm', latex_label='fwhm', unit=None, boundary=None)\n",
      "17:02 bilby INFO    :   flux = Uniform(minimum=-7.6924979325578, maximum=7.6924979325578, name='flux', latex_label='flux', unit=None, boundary=None)\n",
      "17:02 bilby INFO    :   A = Uniform(minimum=-0.037439653721701265, maximum=0.07487930744340253, name='A', latex_label='A', unit=None, boundary=None)\n",
      "17:02 bilby INFO    :   beta = Uniform(minimum=-4, maximum=2, name='beta', latex_label='beta', unit=None, boundary=None)\n",
      "17:02 bilby INFO    :   wave0 = 11582.112860828063\n",
      "17:02 bilby INFO    : Single likelihood evaluation took 3.297e-05 s\n"
     ]
    },
    {
     "data": {
      "application/vnd.jupyter.widget-view+json": {
       "model_id": "79b0e6e5396f44139773ea8170cc65a3",
       "version_major": 2,
       "version_minor": 0
      },
      "text/plain": [
       "0it [00:00, ?it/s]"
      ]
     },
     "metadata": {},
     "output_type": "display_data"
    },
    {
     "name": "stderr",
     "output_type": "stream",
     "text": [
      "17:02 bilby INFO    : Using sampler Dynesty with kwargs {'bound': 'multi', 'sample': 'rwalk', 'print_progress': True, 'periodic': None, 'reflective': None, 'check_point_delta_t': 1800, 'nlive': 200, 'first_update': None, 'walks': 100, 'npdim': None, 'rstate': None, 'queue_size': 1, 'pool': None, 'use_pool': None, 'live_points': None, 'logl_args': None, 'logl_kwargs': None, 'ptform_args': None, 'ptform_kwargs': None, 'enlarge': 1.5, 'bootstrap': None, 'vol_dec': 0.5, 'vol_check': 8.0, 'facc': 0.2, 'slices': 5, 'update_interval': 120, 'print_func': <bound method Dynesty._print_func of <bilby.core.sampler.dynesty.Dynesty object at 0x5d81129f0>>, 'dlogz': 0.1, 'maxiter': None, 'maxcall': None, 'logl_max': inf, 'add_live': True, 'save_bounds': False, 'n_effective': None, 'maxmcmc': 5000, 'nact': 5, 'print_method': 'tqdm'}\n",
      "17:02 bilby INFO    : Checkpoint every check_point_delta_t = 600s\n",
      "17:02 bilby INFO    : Using dynesty version 1.0.1\n",
      "17:02 bilby INFO    : Using the bilby-implemented rwalk sample method with ACT estimated walks\n",
      "17:02 bilby INFO    : Resume file ./bilby_fit_civ_pypeit_v1//3117_9799_resume.pickle does not exist.\n",
      "17:02 bilby INFO    : Generating initial points from the prior\n",
      "17:02 bilby INFO    : Written checkpoint file ./bilby_fit_civ_pypeit_v1//3117_9799_resume.pickle\n",
      "17:03 bilby INFO    : Sampling time: 0:00:13.513914\n",
      "17:03 bilby INFO    : Summary of results:\n",
      "nsamples: 2370\n",
      "ln_noise_evidence:    nan\n",
      "ln_evidence: 332.602 +/-  0.257\n",
      "ln_bayes_factor:    nan +/-  0.257\n",
      "\n"
     ]
    },
    {
     "name": "stdout",
     "output_type": "stream",
     "text": [
      "\n"
     ]
    },
    {
     "name": "stderr",
     "output_type": "stream",
     "text": [
      "17:03 bilby INFO    : Running for label '3117_10290', output will be saved to './bilby_fit_civ_pypeit_v1/'\n",
      "17:03 bilby INFO    : Search parameters:\n",
      "17:03 bilby INFO    :   center = Uniform(minimum=11472.337256050385, maximum=11518.318567697883, name='center', latex_label='center', unit=None, boundary=None)\n",
      "17:03 bilby INFO    :   fwhm = Uniform(minimum=300, maximum=1000, name='fwhm', latex_label='fwhm', unit=None, boundary=None)\n",
      "17:03 bilby INFO    :   flux = Uniform(minimum=-10.012031901258517, maximum=10.012031901258517, name='flux', latex_label='flux', unit=None, boundary=None)\n",
      "17:03 bilby INFO    :   A = Uniform(minimum=-0.04909678883072098, maximum=0.09819357766144196, name='A', latex_label='A', unit=None, boundary=None)\n",
      "17:03 bilby INFO    :   beta = Uniform(minimum=-4, maximum=2, name='beta', latex_label='beta', unit=None, boundary=None)\n",
      "17:03 bilby INFO    :   wave0 = 11495.327911874134\n",
      "17:03 bilby INFO    : Single likelihood evaluation took 3.812e-05 s\n"
     ]
    },
    {
     "data": {
      "application/vnd.jupyter.widget-view+json": {
       "model_id": "4cc64cc6e798461cba7a10ef6d9f664d",
       "version_major": 2,
       "version_minor": 0
      },
      "text/plain": [
       "0it [00:00, ?it/s]"
      ]
     },
     "metadata": {},
     "output_type": "display_data"
    },
    {
     "name": "stderr",
     "output_type": "stream",
     "text": [
      "17:03 bilby INFO    : Using sampler Dynesty with kwargs {'bound': 'multi', 'sample': 'rwalk', 'print_progress': True, 'periodic': None, 'reflective': None, 'check_point_delta_t': 1800, 'nlive': 200, 'first_update': None, 'walks': 100, 'npdim': None, 'rstate': None, 'queue_size': 1, 'pool': None, 'use_pool': None, 'live_points': None, 'logl_args': None, 'logl_kwargs': None, 'ptform_args': None, 'ptform_kwargs': None, 'enlarge': 1.5, 'bootstrap': None, 'vol_dec': 0.5, 'vol_check': 8.0, 'facc': 0.2, 'slices': 5, 'update_interval': 120, 'print_func': <bound method Dynesty._print_func of <bilby.core.sampler.dynesty.Dynesty object at 0x600ff2fc0>>, 'dlogz': 0.1, 'maxiter': None, 'maxcall': None, 'logl_max': inf, 'add_live': True, 'save_bounds': False, 'n_effective': None, 'maxmcmc': 5000, 'nact': 5, 'print_method': 'tqdm'}\n",
      "17:03 bilby INFO    : Checkpoint every check_point_delta_t = 600s\n",
      "17:03 bilby INFO    : Using dynesty version 1.0.1\n",
      "17:03 bilby INFO    : Using the bilby-implemented rwalk sample method with ACT estimated walks\n",
      "17:03 bilby INFO    : Resume file ./bilby_fit_civ_pypeit_v1//3117_10290_resume.pickle does not exist.\n",
      "17:03 bilby INFO    : Generating initial points from the prior\n",
      "17:03 bilby INFO    : Written checkpoint file ./bilby_fit_civ_pypeit_v1//3117_10290_resume.pickle\n",
      "17:03 bilby INFO    : Sampling time: 0:00:17.483236\n",
      "17:03 bilby INFO    : Summary of results:\n",
      "nsamples: 2971\n",
      "ln_noise_evidence:    nan\n",
      "ln_evidence: 341.956 +/-  0.310\n",
      "ln_bayes_factor:    nan +/-  0.310\n",
      "\n"
     ]
    },
    {
     "name": "stdout",
     "output_type": "stream",
     "text": [
      "\n"
     ]
    },
    {
     "name": "stderr",
     "output_type": "stream",
     "text": [
      "/Users/myue/Research/Projects/JWST/dependencies/msa_spec_utils/LAE_spec_utils.py:426: RuntimeWarning: divide by zero encountered in power\n",
      "  self.err_fnu = (self.ivar_fnu)**-0.5\n",
      "/Users/myue/Research/Projects/JWST/dependencies/msa_spec_utils/LAE_spec_utils.py:432: RuntimeWarning: invalid value encountered in divide\n",
      "  self.flam = self.fnu * speed_of_light_angstrom / (self.wave)**2 * 1e-29 * 1e18\n",
      "/Users/myue/Research/Projects/JWST/dependencies/msa_spec_utils/LAE_spec_utils.py:433: RuntimeWarning: divide by zero encountered in divide\n",
      "  self.err_flam = self.err_fnu * (speed_of_light_angstrom / (self.wave)**2 * 1e-29 * 1e18)\n",
      "17:03 bilby INFO    : Running for label '3117_10586', output will be saved to './bilby_fit_civ_pypeit_v1/'\n",
      "17:03 bilby INFO    : Search parameters:\n",
      "17:03 bilby INFO    :   center = Uniform(minimum=10538.711082590497, maximum=10580.950405566811, name='center', latex_label='center', unit=None, boundary=None)\n",
      "17:03 bilby INFO    :   fwhm = Uniform(minimum=300, maximum=1000, name='fwhm', latex_label='fwhm', unit=None, boundary=None)\n",
      "17:03 bilby INFO    :   flux = Uniform(minimum=-10.046216043425584, maximum=10.046216043425584, name='flux', latex_label='flux', unit=None, boundary=None)\n",
      "17:03 bilby INFO    :   A = Uniform(minimum=-0.05362876351445384, maximum=0.10725752702890767, name='A', latex_label='A', unit=None, boundary=None)\n",
      "17:03 bilby INFO    :   beta = Uniform(minimum=-4, maximum=2, name='beta', latex_label='beta', unit=None, boundary=None)\n",
      "17:03 bilby INFO    :   wave0 = 10559.830744078654\n",
      "17:03 bilby INFO    : Single likelihood evaluation took 3.512e-05 s\n"
     ]
    },
    {
     "data": {
      "application/vnd.jupyter.widget-view+json": {
       "model_id": "4ad28b68bde44e2e8a1ececf8c0d1fb2",
       "version_major": 2,
       "version_minor": 0
      },
      "text/plain": [
       "0it [00:00, ?it/s]"
      ]
     },
     "metadata": {},
     "output_type": "display_data"
    },
    {
     "name": "stderr",
     "output_type": "stream",
     "text": [
      "17:03 bilby INFO    : Using sampler Dynesty with kwargs {'bound': 'multi', 'sample': 'rwalk', 'print_progress': True, 'periodic': None, 'reflective': None, 'check_point_delta_t': 1800, 'nlive': 200, 'first_update': None, 'walks': 100, 'npdim': None, 'rstate': None, 'queue_size': 1, 'pool': None, 'use_pool': None, 'live_points': None, 'logl_args': None, 'logl_kwargs': None, 'ptform_args': None, 'ptform_kwargs': None, 'enlarge': 1.5, 'bootstrap': None, 'vol_dec': 0.5, 'vol_check': 8.0, 'facc': 0.2, 'slices': 5, 'update_interval': 120, 'print_func': <bound method Dynesty._print_func of <bilby.core.sampler.dynesty.Dynesty object at 0x597ccd8b0>>, 'dlogz': 0.1, 'maxiter': None, 'maxcall': None, 'logl_max': inf, 'add_live': True, 'save_bounds': False, 'n_effective': None, 'maxmcmc': 5000, 'nact': 5, 'print_method': 'tqdm'}\n",
      "17:03 bilby INFO    : Checkpoint every check_point_delta_t = 600s\n",
      "17:03 bilby INFO    : Using dynesty version 1.0.1\n",
      "17:03 bilby INFO    : Using the bilby-implemented rwalk sample method with ACT estimated walks\n",
      "17:03 bilby INFO    : Resume file ./bilby_fit_civ_pypeit_v1//3117_10586_resume.pickle does not exist.\n",
      "17:03 bilby INFO    : Generating initial points from the prior\n",
      "17:03 bilby INFO    : Written checkpoint file ./bilby_fit_civ_pypeit_v1//3117_10586_resume.pickle\n",
      "17:03 bilby INFO    : Sampling time: 0:00:13.977007\n",
      "17:03 bilby INFO    : Summary of results:\n",
      "nsamples: 2416\n",
      "ln_noise_evidence:    nan\n",
      "ln_evidence: 238.909 +/-  0.261\n",
      "ln_bayes_factor:    nan +/-  0.261\n",
      "\n"
     ]
    },
    {
     "name": "stdout",
     "output_type": "stream",
     "text": [
      "\n"
     ]
    },
    {
     "name": "stderr",
     "output_type": "stream",
     "text": [
      "/Users/myue/Research/Projects/JWST/dependencies/msa_spec_utils/LAE_spec_utils.py:426: RuntimeWarning: divide by zero encountered in power\n",
      "  self.err_fnu = (self.ivar_fnu)**-0.5\n",
      "/Users/myue/Research/Projects/JWST/dependencies/msa_spec_utils/LAE_spec_utils.py:432: RuntimeWarning: invalid value encountered in divide\n",
      "  self.flam = self.fnu * speed_of_light_angstrom / (self.wave)**2 * 1e-29 * 1e18\n",
      "/Users/myue/Research/Projects/JWST/dependencies/msa_spec_utils/LAE_spec_utils.py:433: RuntimeWarning: divide by zero encountered in divide\n",
      "  self.err_flam = self.err_fnu * (speed_of_light_angstrom / (self.wave)**2 * 1e-29 * 1e18)\n",
      "17:03 bilby INFO    : Running for label '3117_10727', output will be saved to './bilby_fit_civ_pypeit_v1/'\n",
      "17:03 bilby INFO    : Search parameters:\n",
      "17:03 bilby INFO    :   center = Uniform(minimum=10362.247696923992, maximum=10403.779751821485, name='center', latex_label='center', unit=None, boundary=None)\n",
      "17:03 bilby INFO    :   fwhm = Uniform(minimum=300, maximum=1000, name='fwhm', latex_label='fwhm', unit=None, boundary=None)\n",
      "17:03 bilby INFO    :   flux = Uniform(minimum=-11.563511560513142, maximum=11.563511560513142, name='flux', latex_label='flux', unit=None, boundary=None)\n",
      "17:03 bilby INFO    :   A = Uniform(minimum=-0.06277959916768967, maximum=0.12555919833537935, name='A', latex_label='A', unit=None, boundary=None)\n",
      "17:03 bilby INFO    :   beta = Uniform(minimum=-4, maximum=2, name='beta', latex_label='beta', unit=None, boundary=None)\n",
      "17:03 bilby INFO    :   wave0 = 10383.013724372739\n",
      "17:03 bilby INFO    : Single likelihood evaluation took 3.286e-05 s\n"
     ]
    },
    {
     "data": {
      "application/vnd.jupyter.widget-view+json": {
       "model_id": "4a57c42ab7c64a0790c6f254b33a4c65",
       "version_major": 2,
       "version_minor": 0
      },
      "text/plain": [
       "0it [00:00, ?it/s]"
      ]
     },
     "metadata": {},
     "output_type": "display_data"
    },
    {
     "name": "stderr",
     "output_type": "stream",
     "text": [
      "17:03 bilby INFO    : Using sampler Dynesty with kwargs {'bound': 'multi', 'sample': 'rwalk', 'print_progress': True, 'periodic': None, 'reflective': None, 'check_point_delta_t': 1800, 'nlive': 200, 'first_update': None, 'walks': 100, 'npdim': None, 'rstate': None, 'queue_size': 1, 'pool': None, 'use_pool': None, 'live_points': None, 'logl_args': None, 'logl_kwargs': None, 'ptform_args': None, 'ptform_kwargs': None, 'enlarge': 1.5, 'bootstrap': None, 'vol_dec': 0.5, 'vol_check': 8.0, 'facc': 0.2, 'slices': 5, 'update_interval': 120, 'print_func': <bound method Dynesty._print_func of <bilby.core.sampler.dynesty.Dynesty object at 0x576e66720>>, 'dlogz': 0.1, 'maxiter': None, 'maxcall': None, 'logl_max': inf, 'add_live': True, 'save_bounds': False, 'n_effective': None, 'maxmcmc': 5000, 'nact': 5, 'print_method': 'tqdm'}\n",
      "17:03 bilby INFO    : Checkpoint every check_point_delta_t = 600s\n",
      "17:03 bilby INFO    : Using dynesty version 1.0.1\n",
      "17:03 bilby INFO    : Using the bilby-implemented rwalk sample method with ACT estimated walks\n",
      "17:03 bilby INFO    : Resume file ./bilby_fit_civ_pypeit_v1//3117_10727_resume.pickle does not exist.\n",
      "17:03 bilby INFO    : Generating initial points from the prior\n",
      "17:03 bilby INFO    : Written checkpoint file ./bilby_fit_civ_pypeit_v1//3117_10727_resume.pickle\n",
      "17:03 bilby INFO    : Sampling time: 0:00:15.205523\n",
      "17:03 bilby INFO    : Summary of results:\n",
      "nsamples: 2570\n",
      "ln_noise_evidence:    nan\n",
      "ln_evidence: 251.044 +/-  0.267\n",
      "ln_bayes_factor:    nan +/-  0.267\n",
      "\n"
     ]
    },
    {
     "name": "stdout",
     "output_type": "stream",
     "text": [
      "\n"
     ]
    },
    {
     "name": "stderr",
     "output_type": "stream",
     "text": [
      "/Users/myue/Research/Projects/JWST/dependencies/msa_spec_utils/LAE_spec_utils.py:426: RuntimeWarning: divide by zero encountered in power\n",
      "  self.err_fnu = (self.ivar_fnu)**-0.5\n",
      "/Users/myue/Research/Projects/JWST/dependencies/msa_spec_utils/LAE_spec_utils.py:432: RuntimeWarning: invalid value encountered in divide\n",
      "  self.flam = self.fnu * speed_of_light_angstrom / (self.wave)**2 * 1e-29 * 1e18\n",
      "/Users/myue/Research/Projects/JWST/dependencies/msa_spec_utils/LAE_spec_utils.py:433: RuntimeWarning: divide by zero encountered in divide\n",
      "  self.err_flam = self.err_fnu * (speed_of_light_angstrom / (self.wave)**2 * 1e-29 * 1e18)\n",
      "17:03 bilby INFO    : Running for label '3117_11709', output will be saved to './bilby_fit_civ_pypeit_v1/'\n",
      "17:03 bilby INFO    : Search parameters:\n",
      "17:03 bilby INFO    :   center = Uniform(minimum=11599.122790897349, maximum=11645.612261001144, name='center', latex_label='center', unit=None, boundary=None)\n",
      "17:03 bilby INFO    :   fwhm = Uniform(minimum=300, maximum=1000, name='fwhm', latex_label='fwhm', unit=None, boundary=None)\n",
      "17:03 bilby INFO    :   flux = Uniform(minimum=-26.92368954568913, maximum=26.92368954568913, name='flux', latex_label='flux', unit=None, boundary=None)\n",
      "17:03 bilby INFO    :   A = Uniform(minimum=-0.13058467035495977, maximum=0.26116934070991954, name='A', latex_label='A', unit=None, boundary=None)\n",
      "17:03 bilby INFO    :   beta = Uniform(minimum=-4, maximum=2, name='beta', latex_label='beta', unit=None, boundary=None)\n",
      "17:03 bilby INFO    :   wave0 = 11622.367525949247\n",
      "17:03 bilby INFO    : Single likelihood evaluation took 3.508e-05 s\n"
     ]
    },
    {
     "data": {
      "application/vnd.jupyter.widget-view+json": {
       "model_id": "8600e17caaef4727a6d8d3844a322b15",
       "version_major": 2,
       "version_minor": 0
      },
      "text/plain": [
       "0it [00:00, ?it/s]"
      ]
     },
     "metadata": {},
     "output_type": "display_data"
    },
    {
     "name": "stderr",
     "output_type": "stream",
     "text": [
      "17:03 bilby INFO    : Using sampler Dynesty with kwargs {'bound': 'multi', 'sample': 'rwalk', 'print_progress': True, 'periodic': None, 'reflective': None, 'check_point_delta_t': 1800, 'nlive': 200, 'first_update': None, 'walks': 100, 'npdim': None, 'rstate': None, 'queue_size': 1, 'pool': None, 'use_pool': None, 'live_points': None, 'logl_args': None, 'logl_kwargs': None, 'ptform_args': None, 'ptform_kwargs': None, 'enlarge': 1.5, 'bootstrap': None, 'vol_dec': 0.5, 'vol_check': 8.0, 'facc': 0.2, 'slices': 5, 'update_interval': 120, 'print_func': <bound method Dynesty._print_func of <bilby.core.sampler.dynesty.Dynesty object at 0x66322bad0>>, 'dlogz': 0.1, 'maxiter': None, 'maxcall': None, 'logl_max': inf, 'add_live': True, 'save_bounds': False, 'n_effective': None, 'maxmcmc': 5000, 'nact': 5, 'print_method': 'tqdm'}\n",
      "17:03 bilby INFO    : Checkpoint every check_point_delta_t = 600s\n",
      "17:03 bilby INFO    : Using dynesty version 1.0.1\n",
      "17:03 bilby INFO    : Using the bilby-implemented rwalk sample method with ACT estimated walks\n",
      "17:03 bilby INFO    : Resume file ./bilby_fit_civ_pypeit_v1//3117_11709_resume.pickle does not exist.\n",
      "17:03 bilby INFO    : Generating initial points from the prior\n",
      "17:04 bilby INFO    : Written checkpoint file ./bilby_fit_civ_pypeit_v1//3117_11709_resume.pickle\n",
      "17:04 bilby INFO    : Sampling time: 0:00:21.439847\n",
      "17:04 bilby INFO    : Summary of results:\n",
      "nsamples: 3681\n",
      "ln_noise_evidence:    nan\n",
      "ln_evidence: 313.647 +/-  0.364\n",
      "ln_bayes_factor:    nan +/-  0.364\n",
      "\n"
     ]
    },
    {
     "name": "stdout",
     "output_type": "stream",
     "text": [
      "\n"
     ]
    },
    {
     "name": "stderr",
     "output_type": "stream",
     "text": [
      "/Users/myue/Research/Projects/JWST/dependencies/msa_spec_utils/LAE_spec_utils.py:426: RuntimeWarning: divide by zero encountered in power\n",
      "  self.err_fnu = (self.ivar_fnu)**-0.5\n",
      "/Users/myue/Research/Projects/JWST/dependencies/msa_spec_utils/LAE_spec_utils.py:432: RuntimeWarning: invalid value encountered in divide\n",
      "  self.flam = self.fnu * speed_of_light_angstrom / (self.wave)**2 * 1e-29 * 1e18\n",
      "/Users/myue/Research/Projects/JWST/dependencies/msa_spec_utils/LAE_spec_utils.py:433: RuntimeWarning: divide by zero encountered in divide\n",
      "  self.err_flam = self.err_fnu * (speed_of_light_angstrom / (self.wave)**2 * 1e-29 * 1e18)\n",
      "17:04 bilby INFO    : Running for label '3117_12115', output will be saved to './bilby_fit_civ_pypeit_v1/'\n",
      "17:04 bilby INFO    : Search parameters:\n",
      "17:04 bilby INFO    :   center = Uniform(minimum=12218.295851466479, maximum=12267.266977123658, name='center', latex_label='center', unit=None, boundary=None)\n",
      "17:04 bilby INFO    :   fwhm = Uniform(minimum=300, maximum=1000, name='fwhm', latex_label='fwhm', unit=None, boundary=None)\n",
      "17:04 bilby INFO    :   flux = Uniform(minimum=-7.85554522638513, maximum=7.85554522638513, name='flux', latex_label='flux', unit=None, boundary=None)\n",
      "17:04 bilby INFO    :   A = Uniform(minimum=-0.03616999639026271, maximum=0.07233999278052541, name='A', latex_label='A', unit=None, boundary=None)\n",
      "17:04 bilby INFO    :   beta = Uniform(minimum=-4, maximum=2, name='beta', latex_label='beta', unit=None, boundary=None)\n",
      "17:04 bilby INFO    :   wave0 = 12242.781414295068\n",
      "17:04 bilby INFO    : Single likelihood evaluation took 3.478e-05 s\n"
     ]
    },
    {
     "name": "stdout",
     "output_type": "stream",
     "text": [
      "3117_11725\n"
     ]
    },
    {
     "data": {
      "application/vnd.jupyter.widget-view+json": {
       "model_id": "d26dbf06a0774c6cbd503160ce708699",
       "version_major": 2,
       "version_minor": 0
      },
      "text/plain": [
       "0it [00:00, ?it/s]"
      ]
     },
     "metadata": {},
     "output_type": "display_data"
    },
    {
     "name": "stderr",
     "output_type": "stream",
     "text": [
      "17:04 bilby INFO    : Using sampler Dynesty with kwargs {'bound': 'multi', 'sample': 'rwalk', 'print_progress': True, 'periodic': None, 'reflective': None, 'check_point_delta_t': 1800, 'nlive': 200, 'first_update': None, 'walks': 100, 'npdim': None, 'rstate': None, 'queue_size': 1, 'pool': None, 'use_pool': None, 'live_points': None, 'logl_args': None, 'logl_kwargs': None, 'ptform_args': None, 'ptform_kwargs': None, 'enlarge': 1.5, 'bootstrap': None, 'vol_dec': 0.5, 'vol_check': 8.0, 'facc': 0.2, 'slices': 5, 'update_interval': 120, 'print_func': <bound method Dynesty._print_func of <bilby.core.sampler.dynesty.Dynesty object at 0x682362630>>, 'dlogz': 0.1, 'maxiter': None, 'maxcall': None, 'logl_max': inf, 'add_live': True, 'save_bounds': False, 'n_effective': None, 'maxmcmc': 5000, 'nact': 5, 'print_method': 'tqdm'}\n",
      "17:04 bilby INFO    : Checkpoint every check_point_delta_t = 600s\n",
      "17:04 bilby INFO    : Using dynesty version 1.0.1\n",
      "17:04 bilby INFO    : Using the bilby-implemented rwalk sample method with ACT estimated walks\n",
      "17:04 bilby INFO    : Resume file ./bilby_fit_civ_pypeit_v1//3117_12115_resume.pickle does not exist.\n",
      "17:04 bilby INFO    : Generating initial points from the prior\n",
      "17:04 bilby INFO    : Written checkpoint file ./bilby_fit_civ_pypeit_v1//3117_12115_resume.pickle\n",
      "17:04 bilby INFO    : Sampling time: 0:00:15.583089\n",
      "17:04 bilby INFO    : Summary of results:\n",
      "nsamples: 2415\n",
      "ln_noise_evidence:    nan\n",
      "ln_evidence: 392.451 +/-  0.269\n",
      "ln_bayes_factor:    nan +/-  0.269\n",
      "\n"
     ]
    },
    {
     "name": "stdout",
     "output_type": "stream",
     "text": [
      "\n"
     ]
    },
    {
     "name": "stderr",
     "output_type": "stream",
     "text": [
      "17:04 bilby INFO    : Running for label '3117_12277', output will be saved to './bilby_fit_civ_pypeit_v1/'\n",
      "17:04 bilby INFO    : Search parameters:\n",
      "17:04 bilby INFO    :   center = Uniform(minimum=11461.509639175698, maximum=11507.447553561173, name='center', latex_label='center', unit=None, boundary=None)\n",
      "17:04 bilby INFO    :   fwhm = Uniform(minimum=300, maximum=1000, name='fwhm', latex_label='fwhm', unit=None, boundary=None)\n",
      "17:04 bilby INFO    :   flux = Uniform(minimum=-10.741028101199477, maximum=10.741028101199477, name='flux', latex_label='flux', unit=None, boundary=None)\n",
      "17:04 bilby INFO    :   A = Uniform(minimum=-0.05272138342842561, maximum=0.10544276685685122, name='A', latex_label='A', unit=None, boundary=None)\n",
      "17:04 bilby INFO    :   beta = Uniform(minimum=-4, maximum=2, name='beta', latex_label='beta', unit=None, boundary=None)\n",
      "17:04 bilby INFO    :   wave0 = 11484.478596368435\n",
      "17:04 bilby INFO    : Single likelihood evaluation took 3.278e-05 s\n"
     ]
    },
    {
     "data": {
      "application/vnd.jupyter.widget-view+json": {
       "model_id": "f2a75f1b21b244558446fa26f8215f74",
       "version_major": 2,
       "version_minor": 0
      },
      "text/plain": [
       "0it [00:00, ?it/s]"
      ]
     },
     "metadata": {},
     "output_type": "display_data"
    },
    {
     "name": "stderr",
     "output_type": "stream",
     "text": [
      "17:04 bilby INFO    : Using sampler Dynesty with kwargs {'bound': 'multi', 'sample': 'rwalk', 'print_progress': True, 'periodic': None, 'reflective': None, 'check_point_delta_t': 1800, 'nlive': 200, 'first_update': None, 'walks': 100, 'npdim': None, 'rstate': None, 'queue_size': 1, 'pool': None, 'use_pool': None, 'live_points': None, 'logl_args': None, 'logl_kwargs': None, 'ptform_args': None, 'ptform_kwargs': None, 'enlarge': 1.5, 'bootstrap': None, 'vol_dec': 0.5, 'vol_check': 8.0, 'facc': 0.2, 'slices': 5, 'update_interval': 120, 'print_func': <bound method Dynesty._print_func of <bilby.core.sampler.dynesty.Dynesty object at 0x683e617c0>>, 'dlogz': 0.1, 'maxiter': None, 'maxcall': None, 'logl_max': inf, 'add_live': True, 'save_bounds': False, 'n_effective': None, 'maxmcmc': 5000, 'nact': 5, 'print_method': 'tqdm'}\n",
      "17:04 bilby INFO    : Checkpoint every check_point_delta_t = 600s\n",
      "17:04 bilby INFO    : Using dynesty version 1.0.1\n",
      "17:04 bilby INFO    : Using the bilby-implemented rwalk sample method with ACT estimated walks\n",
      "17:04 bilby INFO    : Resume file ./bilby_fit_civ_pypeit_v1//3117_12277_resume.pickle does not exist.\n",
      "17:04 bilby INFO    : Generating initial points from the prior\n",
      "17:04 bilby INFO    : Written checkpoint file ./bilby_fit_civ_pypeit_v1//3117_12277_resume.pickle\n",
      "17:04 bilby INFO    : Sampling time: 0:00:15.877627\n",
      "17:04 bilby INFO    : Summary of results:\n",
      "nsamples: 2656\n",
      "ln_noise_evidence:    nan\n",
      "ln_evidence: 328.607 +/-  0.277\n",
      "ln_bayes_factor:    nan +/-  0.277\n",
      "\n"
     ]
    },
    {
     "name": "stdout",
     "output_type": "stream",
     "text": [
      "\n"
     ]
    },
    {
     "name": "stderr",
     "output_type": "stream",
     "text": [
      "/Users/myue/Research/Projects/JWST/dependencies/msa_spec_utils/LAE_spec_utils.py:426: RuntimeWarning: divide by zero encountered in power\n",
      "  self.err_fnu = (self.ivar_fnu)**-0.5\n",
      "/Users/myue/Research/Projects/JWST/dependencies/msa_spec_utils/LAE_spec_utils.py:432: RuntimeWarning: invalid value encountered in divide\n",
      "  self.flam = self.fnu * speed_of_light_angstrom / (self.wave)**2 * 1e-29 * 1e18\n",
      "/Users/myue/Research/Projects/JWST/dependencies/msa_spec_utils/LAE_spec_utils.py:433: RuntimeWarning: divide by zero encountered in divide\n",
      "  self.err_flam = self.err_fnu * (speed_of_light_angstrom / (self.wave)**2 * 1e-29 * 1e18)\n",
      "17:04 bilby INFO    : Running for label '3117_13418', output will be saved to './bilby_fit_civ_pypeit_v1/'\n",
      "17:04 bilby INFO    : Search parameters:\n",
      "17:04 bilby INFO    :   center = Uniform(minimum=9937.446278664023, maximum=9977.275722666685, name='center', latex_label='center', unit=None, boundary=None)\n",
      "17:04 bilby INFO    :   fwhm = Uniform(minimum=300, maximum=1000, name='fwhm', latex_label='fwhm', unit=None, boundary=None)\n",
      "17:04 bilby INFO    :   flux = Uniform(minimum=-12.44513218080006, maximum=12.44513218080006, name='flux', latex_label='flux', unit=None, boundary=None)\n",
      "17:04 bilby INFO    :   A = Uniform(minimum=-0.07045429746733584, maximum=0.14090859493467167, name='A', latex_label='A', unit=None, boundary=None)\n",
      "17:04 bilby INFO    :   beta = Uniform(minimum=-4, maximum=2, name='beta', latex_label='beta', unit=None, boundary=None)\n",
      "17:04 bilby INFO    :   wave0 = 9957.361000665354\n",
      "17:04 bilby INFO    : Single likelihood evaluation took 3.329e-05 s\n"
     ]
    },
    {
     "data": {
      "application/vnd.jupyter.widget-view+json": {
       "model_id": "1b5b716f683c4b73b5e16ad26d0c2990",
       "version_major": 2,
       "version_minor": 0
      },
      "text/plain": [
       "0it [00:00, ?it/s]"
      ]
     },
     "metadata": {},
     "output_type": "display_data"
    },
    {
     "name": "stderr",
     "output_type": "stream",
     "text": [
      "17:04 bilby INFO    : Using sampler Dynesty with kwargs {'bound': 'multi', 'sample': 'rwalk', 'print_progress': True, 'periodic': None, 'reflective': None, 'check_point_delta_t': 1800, 'nlive': 200, 'first_update': None, 'walks': 100, 'npdim': None, 'rstate': None, 'queue_size': 1, 'pool': None, 'use_pool': None, 'live_points': None, 'logl_args': None, 'logl_kwargs': None, 'ptform_args': None, 'ptform_kwargs': None, 'enlarge': 1.5, 'bootstrap': None, 'vol_dec': 0.5, 'vol_check': 8.0, 'facc': 0.2, 'slices': 5, 'update_interval': 120, 'print_func': <bound method Dynesty._print_func of <bilby.core.sampler.dynesty.Dynesty object at 0x6caf629f0>>, 'dlogz': 0.1, 'maxiter': None, 'maxcall': None, 'logl_max': inf, 'add_live': True, 'save_bounds': False, 'n_effective': None, 'maxmcmc': 5000, 'nact': 5, 'print_method': 'tqdm'}\n",
      "17:04 bilby INFO    : Checkpoint every check_point_delta_t = 600s\n",
      "17:04 bilby INFO    : Using dynesty version 1.0.1\n",
      "17:04 bilby INFO    : Using the bilby-implemented rwalk sample method with ACT estimated walks\n",
      "17:04 bilby INFO    : Resume file ./bilby_fit_civ_pypeit_v1//3117_13418_resume.pickle does not exist.\n",
      "17:04 bilby INFO    : Generating initial points from the prior\n",
      "17:04 bilby INFO    : Written checkpoint file ./bilby_fit_civ_pypeit_v1//3117_13418_resume.pickle\n",
      "17:04 bilby INFO    : Sampling time: 0:00:14.038151\n",
      "17:04 bilby INFO    : Summary of results:\n",
      "nsamples: 2457\n",
      "ln_noise_evidence:    nan\n",
      "ln_evidence: 234.331 +/-  0.266\n",
      "ln_bayes_factor:    nan +/-  0.266\n",
      "\n"
     ]
    },
    {
     "name": "stdout",
     "output_type": "stream",
     "text": [
      "\n"
     ]
    },
    {
     "name": "stderr",
     "output_type": "stream",
     "text": [
      "/Users/myue/Research/Projects/JWST/dependencies/msa_spec_utils/LAE_spec_utils.py:426: RuntimeWarning: divide by zero encountered in power\n",
      "  self.err_fnu = (self.ivar_fnu)**-0.5\n",
      "/Users/myue/Research/Projects/JWST/dependencies/msa_spec_utils/LAE_spec_utils.py:432: RuntimeWarning: invalid value encountered in divide\n",
      "  self.flam = self.fnu * speed_of_light_angstrom / (self.wave)**2 * 1e-29 * 1e18\n",
      "/Users/myue/Research/Projects/JWST/dependencies/msa_spec_utils/LAE_spec_utils.py:433: RuntimeWarning: divide by zero encountered in divide\n",
      "  self.err_flam = self.err_fnu * (speed_of_light_angstrom / (self.wave)**2 * 1e-29 * 1e18)\n",
      "17:04 bilby INFO    : Running for label '3117_14101', output will be saved to './bilby_fit_civ_pypeit_v1/'\n",
      "17:04 bilby INFO    : Search parameters:\n",
      "17:04 bilby INFO    :   center = Uniform(minimum=12196.335625975627, maximum=12245.218734696971, name='center', latex_label='center', unit=None, boundary=None)\n",
      "17:04 bilby INFO    :   fwhm = Uniform(minimum=300, maximum=1000, name='fwhm', latex_label='fwhm', unit=None, boundary=None)\n",
      "17:04 bilby INFO    :   flux = Uniform(minimum=-12.357499494856011, maximum=12.357499494856011, name='flux', latex_label='flux', unit=None, boundary=None)\n",
      "17:04 bilby INFO    :   A = Uniform(minimum=-0.05700120061539052, maximum=0.11400240123078104, name='A', latex_label='A', unit=None, boundary=None)\n",
      "17:04 bilby INFO    :   beta = Uniform(minimum=-4, maximum=2, name='beta', latex_label='beta', unit=None, boundary=None)\n",
      "17:04 bilby INFO    :   wave0 = 12220.7771803363\n",
      "17:04 bilby INFO    : Single likelihood evaluation took 3.287e-05 s\n"
     ]
    },
    {
     "data": {
      "application/vnd.jupyter.widget-view+json": {
       "model_id": "c1f4851703f846f0abc85448c3624121",
       "version_major": 2,
       "version_minor": 0
      },
      "text/plain": [
       "0it [00:00, ?it/s]"
      ]
     },
     "metadata": {},
     "output_type": "display_data"
    },
    {
     "name": "stderr",
     "output_type": "stream",
     "text": [
      "17:04 bilby INFO    : Using sampler Dynesty with kwargs {'bound': 'multi', 'sample': 'rwalk', 'print_progress': True, 'periodic': None, 'reflective': None, 'check_point_delta_t': 1800, 'nlive': 200, 'first_update': None, 'walks': 100, 'npdim': None, 'rstate': None, 'queue_size': 1, 'pool': None, 'use_pool': None, 'live_points': None, 'logl_args': None, 'logl_kwargs': None, 'ptform_args': None, 'ptform_kwargs': None, 'enlarge': 1.5, 'bootstrap': None, 'vol_dec': 0.5, 'vol_check': 8.0, 'facc': 0.2, 'slices': 5, 'update_interval': 120, 'print_func': <bound method Dynesty._print_func of <bilby.core.sampler.dynesty.Dynesty object at 0x6eb5cacf0>>, 'dlogz': 0.1, 'maxiter': None, 'maxcall': None, 'logl_max': inf, 'add_live': True, 'save_bounds': False, 'n_effective': None, 'maxmcmc': 5000, 'nact': 5, 'print_method': 'tqdm'}\n",
      "17:04 bilby INFO    : Checkpoint every check_point_delta_t = 600s\n",
      "17:04 bilby INFO    : Using dynesty version 1.0.1\n",
      "17:04 bilby INFO    : Using the bilby-implemented rwalk sample method with ACT estimated walks\n",
      "17:04 bilby INFO    : Resume file ./bilby_fit_civ_pypeit_v1//3117_14101_resume.pickle does not exist.\n",
      "17:04 bilby INFO    : Generating initial points from the prior\n",
      "17:05 bilby INFO    : Written checkpoint file ./bilby_fit_civ_pypeit_v1//3117_14101_resume.pickle\n",
      "17:05 bilby INFO    : Sampling time: 0:00:18.640158\n",
      "17:05 bilby INFO    : Summary of results:\n",
      "nsamples: 3057\n",
      "ln_noise_evidence:    nan\n",
      "ln_evidence: 345.134 +/-  0.306\n",
      "ln_bayes_factor:    nan +/-  0.306\n",
      "\n"
     ]
    },
    {
     "name": "stdout",
     "output_type": "stream",
     "text": [
      "\n"
     ]
    },
    {
     "name": "stderr",
     "output_type": "stream",
     "text": [
      "17:05 bilby INFO    : Running for label '3117_14236', output will be saved to './bilby_fit_civ_pypeit_v1/'\n",
      "17:05 bilby INFO    : Search parameters:\n",
      "17:05 bilby INFO    :   center = Uniform(minimum=11470.297753212059, maximum=11516.270890499482, name='center', latex_label='center', unit=None, boundary=None)\n",
      "17:05 bilby INFO    :   fwhm = Uniform(minimum=300, maximum=1000, name='fwhm', latex_label='fwhm', unit=None, boundary=None)\n",
      "17:05 bilby INFO    :   flux = Uniform(minimum=-10.595952717077779, maximum=10.595952717077779, name='flux', latex_label='flux', unit=None, boundary=None)\n",
      "17:05 bilby INFO    :   A = Uniform(minimum=-0.05196944619762733, maximum=0.10393889239525465, name='A', latex_label='A', unit=None, boundary=None)\n",
      "17:05 bilby INFO    :   beta = Uniform(minimum=-4, maximum=2, name='beta', latex_label='beta', unit=None, boundary=None)\n",
      "17:05 bilby INFO    :   wave0 = 11493.28432185577\n",
      "17:05 bilby INFO    : Single likelihood evaluation took 3.339e-05 s\n"
     ]
    },
    {
     "data": {
      "application/vnd.jupyter.widget-view+json": {
       "model_id": "1d515974c7bb4b88af95021578b3afa8",
       "version_major": 2,
       "version_minor": 0
      },
      "text/plain": [
       "0it [00:00, ?it/s]"
      ]
     },
     "metadata": {},
     "output_type": "display_data"
    },
    {
     "name": "stderr",
     "output_type": "stream",
     "text": [
      "17:05 bilby INFO    : Using sampler Dynesty with kwargs {'bound': 'multi', 'sample': 'rwalk', 'print_progress': True, 'periodic': None, 'reflective': None, 'check_point_delta_t': 1800, 'nlive': 200, 'first_update': None, 'walks': 100, 'npdim': None, 'rstate': None, 'queue_size': 1, 'pool': None, 'use_pool': None, 'live_points': None, 'logl_args': None, 'logl_kwargs': None, 'ptform_args': None, 'ptform_kwargs': None, 'enlarge': 1.5, 'bootstrap': None, 'vol_dec': 0.5, 'vol_check': 8.0, 'facc': 0.2, 'slices': 5, 'update_interval': 120, 'print_func': <bound method Dynesty._print_func of <bilby.core.sampler.dynesty.Dynesty object at 0x6eb8598b0>>, 'dlogz': 0.1, 'maxiter': None, 'maxcall': None, 'logl_max': inf, 'add_live': True, 'save_bounds': False, 'n_effective': None, 'maxmcmc': 5000, 'nact': 5, 'print_method': 'tqdm'}\n",
      "17:05 bilby INFO    : Checkpoint every check_point_delta_t = 600s\n",
      "17:05 bilby INFO    : Using dynesty version 1.0.1\n",
      "17:05 bilby INFO    : Using the bilby-implemented rwalk sample method with ACT estimated walks\n",
      "17:05 bilby INFO    : Resume file ./bilby_fit_civ_pypeit_v1//3117_14236_resume.pickle does not exist.\n",
      "17:05 bilby INFO    : Generating initial points from the prior\n",
      "17:05 bilby INFO    : Written checkpoint file ./bilby_fit_civ_pypeit_v1//3117_14236_resume.pickle\n",
      "17:05 bilby INFO    : Sampling time: 0:00:15.553597\n",
      "17:05 bilby INFO    : Summary of results:\n",
      "nsamples: 2556\n",
      "ln_noise_evidence:    nan\n",
      "ln_evidence: 313.859 +/-  0.277\n",
      "ln_bayes_factor:    nan +/-  0.277\n",
      "\n"
     ]
    },
    {
     "name": "stdout",
     "output_type": "stream",
     "text": [
      "\n"
     ]
    },
    {
     "name": "stderr",
     "output_type": "stream",
     "text": [
      "/Users/myue/Research/Projects/JWST/dependencies/msa_spec_utils/LAE_spec_utils.py:426: RuntimeWarning: divide by zero encountered in power\n",
      "  self.err_fnu = (self.ivar_fnu)**-0.5\n",
      "/Users/myue/Research/Projects/JWST/dependencies/msa_spec_utils/LAE_spec_utils.py:432: RuntimeWarning: invalid value encountered in divide\n",
      "  self.flam = self.fnu * speed_of_light_angstrom / (self.wave)**2 * 1e-29 * 1e18\n",
      "/Users/myue/Research/Projects/JWST/dependencies/msa_spec_utils/LAE_spec_utils.py:433: RuntimeWarning: divide by zero encountered in divide\n",
      "  self.err_flam = self.err_fnu * (speed_of_light_angstrom / (self.wave)**2 * 1e-29 * 1e18)\n",
      "17:05 bilby INFO    : Running for label '3117_14780', output will be saved to './bilby_fit_civ_pypeit_v1/'\n",
      "17:05 bilby INFO    : Search parameters:\n",
      "17:05 bilby INFO    :   center = Uniform(minimum=12192.963675224211, maximum=12241.833269112885, name='center', latex_label='center', unit=None, boundary=None)\n",
      "17:05 bilby INFO    :   fwhm = Uniform(minimum=300, maximum=1000, name='fwhm', latex_label='fwhm', unit=None, boundary=None)\n",
      "17:05 bilby INFO    :   flux = Uniform(minimum=-10.679955745589051, maximum=10.679955745589051, name='flux', latex_label='flux', unit=None, boundary=None)\n",
      "17:05 bilby INFO    :   A = Uniform(minimum=-0.049276850468905675, maximum=0.09855370093781135, name='A', latex_label='A', unit=None, boundary=None)\n",
      "17:05 bilby INFO    :   beta = Uniform(minimum=-4, maximum=2, name='beta', latex_label='beta', unit=None, boundary=None)\n",
      "17:05 bilby INFO    :   wave0 = 12217.398472168548\n",
      "17:05 bilby INFO    : Single likelihood evaluation took 3.437e-05 s\n"
     ]
    },
    {
     "data": {
      "application/vnd.jupyter.widget-view+json": {
       "model_id": "2f0259457bdd4094ba088d9c3ee96eb5",
       "version_major": 2,
       "version_minor": 0
      },
      "text/plain": [
       "0it [00:00, ?it/s]"
      ]
     },
     "metadata": {},
     "output_type": "display_data"
    },
    {
     "name": "stderr",
     "output_type": "stream",
     "text": [
      "17:05 bilby INFO    : Using sampler Dynesty with kwargs {'bound': 'multi', 'sample': 'rwalk', 'print_progress': True, 'periodic': None, 'reflective': None, 'check_point_delta_t': 1800, 'nlive': 200, 'first_update': None, 'walks': 100, 'npdim': None, 'rstate': None, 'queue_size': 1, 'pool': None, 'use_pool': None, 'live_points': None, 'logl_args': None, 'logl_kwargs': None, 'ptform_args': None, 'ptform_kwargs': None, 'enlarge': 1.5, 'bootstrap': None, 'vol_dec': 0.5, 'vol_check': 8.0, 'facc': 0.2, 'slices': 5, 'update_interval': 120, 'print_func': <bound method Dynesty._print_func of <bilby.core.sampler.dynesty.Dynesty object at 0x70df67b00>>, 'dlogz': 0.1, 'maxiter': None, 'maxcall': None, 'logl_max': inf, 'add_live': True, 'save_bounds': False, 'n_effective': None, 'maxmcmc': 5000, 'nact': 5, 'print_method': 'tqdm'}\n",
      "17:05 bilby INFO    : Checkpoint every check_point_delta_t = 600s\n",
      "17:05 bilby INFO    : Using dynesty version 1.0.1\n",
      "17:05 bilby INFO    : Using the bilby-implemented rwalk sample method with ACT estimated walks\n",
      "17:05 bilby INFO    : Resume file ./bilby_fit_civ_pypeit_v1//3117_14780_resume.pickle does not exist.\n",
      "17:05 bilby INFO    : Generating initial points from the prior\n",
      "17:05 bilby INFO    : Written checkpoint file ./bilby_fit_civ_pypeit_v1//3117_14780_resume.pickle\n",
      "17:05 bilby INFO    : Sampling time: 0:00:17.490904\n",
      "17:05 bilby INFO    : Summary of results:\n",
      "nsamples: 2672\n",
      "ln_noise_evidence:    nan\n",
      "ln_evidence: 338.525 +/-  0.275\n",
      "ln_bayes_factor:    nan +/-  0.275\n",
      "\n"
     ]
    },
    {
     "name": "stdout",
     "output_type": "stream",
     "text": [
      "\n"
     ]
    },
    {
     "name": "stderr",
     "output_type": "stream",
     "text": [
      "/Users/myue/Research/Projects/JWST/dependencies/msa_spec_utils/LAE_spec_utils.py:426: RuntimeWarning: divide by zero encountered in power\n",
      "  self.err_fnu = (self.ivar_fnu)**-0.5\n",
      "/Users/myue/Research/Projects/JWST/dependencies/msa_spec_utils/LAE_spec_utils.py:432: RuntimeWarning: invalid value encountered in divide\n",
      "  self.flam = self.fnu * speed_of_light_angstrom / (self.wave)**2 * 1e-29 * 1e18\n",
      "/Users/myue/Research/Projects/JWST/dependencies/msa_spec_utils/LAE_spec_utils.py:433: RuntimeWarning: divide by zero encountered in divide\n",
      "  self.err_flam = self.err_fnu * (speed_of_light_angstrom / (self.wave)**2 * 1e-29 * 1e18)\n",
      "17:05 bilby INFO    : Running for label '3117_15411', output will be saved to './bilby_fit_civ_pypeit_v1/'\n",
      "17:05 bilby INFO    : Search parameters:\n",
      "17:05 bilby INFO    :   center = Uniform(minimum=12229.999840250175, maximum=12279.01787568204, name='center', latex_label='center', unit=None, boundary=None)\n",
      "17:05 bilby INFO    :   fwhm = Uniform(minimum=300, maximum=1000, name='fwhm', latex_label='fwhm', unit=None, boundary=None)\n",
      "17:05 bilby INFO    :   flux = Uniform(minimum=-14.154884230369708, maximum=14.154884230369708, name='flux', latex_label='flux', unit=None, boundary=None)\n",
      "17:05 bilby INFO    :   A = Uniform(minimum=-0.06511224045740285, maximum=0.1302244809148057, name='A', latex_label='A', unit=None, boundary=None)\n",
      "17:05 bilby INFO    :   beta = Uniform(minimum=-4, maximum=2, name='beta', latex_label='beta', unit=None, boundary=None)\n",
      "17:05 bilby INFO    :   wave0 = 12254.508857966108\n",
      "17:05 bilby INFO    : Single likelihood evaluation took 3.525e-05 s\n"
     ]
    },
    {
     "data": {
      "application/vnd.jupyter.widget-view+json": {
       "model_id": "413eeb593bb64939930c8a8485074525",
       "version_major": 2,
       "version_minor": 0
      },
      "text/plain": [
       "0it [00:00, ?it/s]"
      ]
     },
     "metadata": {},
     "output_type": "display_data"
    },
    {
     "name": "stderr",
     "output_type": "stream",
     "text": [
      "17:05 bilby INFO    : Using sampler Dynesty with kwargs {'bound': 'multi', 'sample': 'rwalk', 'print_progress': True, 'periodic': None, 'reflective': None, 'check_point_delta_t': 1800, 'nlive': 200, 'first_update': None, 'walks': 100, 'npdim': None, 'rstate': None, 'queue_size': 1, 'pool': None, 'use_pool': None, 'live_points': None, 'logl_args': None, 'logl_kwargs': None, 'ptform_args': None, 'ptform_kwargs': None, 'enlarge': 1.5, 'bootstrap': None, 'vol_dec': 0.5, 'vol_check': 8.0, 'facc': 0.2, 'slices': 5, 'update_interval': 120, 'print_func': <bound method Dynesty._print_func of <bilby.core.sampler.dynesty.Dynesty object at 0x754a4ec00>>, 'dlogz': 0.1, 'maxiter': None, 'maxcall': None, 'logl_max': inf, 'add_live': True, 'save_bounds': False, 'n_effective': None, 'maxmcmc': 5000, 'nact': 5, 'print_method': 'tqdm'}\n",
      "17:05 bilby INFO    : Checkpoint every check_point_delta_t = 600s\n",
      "17:05 bilby INFO    : Using dynesty version 1.0.1\n",
      "17:05 bilby INFO    : Using the bilby-implemented rwalk sample method with ACT estimated walks\n",
      "17:05 bilby INFO    : Resume file ./bilby_fit_civ_pypeit_v1//3117_15411_resume.pickle does not exist.\n",
      "17:05 bilby INFO    : Generating initial points from the prior\n",
      "17:06 bilby INFO    : Written checkpoint file ./bilby_fit_civ_pypeit_v1//3117_15411_resume.pickle\n",
      "17:06 bilby INFO    : Sampling time: 0:00:23.048403\n",
      "17:06 bilby INFO    : Summary of results:\n",
      "nsamples: 3274\n",
      "ln_noise_evidence:    nan\n",
      "ln_evidence: 321.361 +/-  0.333\n",
      "ln_bayes_factor:    nan +/-  0.333\n",
      "\n"
     ]
    },
    {
     "name": "stdout",
     "output_type": "stream",
     "text": [
      "\n"
     ]
    },
    {
     "name": "stderr",
     "output_type": "stream",
     "text": [
      "/Users/myue/Research/Projects/JWST/dependencies/msa_spec_utils/LAE_spec_utils.py:426: RuntimeWarning: divide by zero encountered in power\n",
      "  self.err_fnu = (self.ivar_fnu)**-0.5\n",
      "/Users/myue/Research/Projects/JWST/dependencies/msa_spec_utils/LAE_spec_utils.py:432: RuntimeWarning: invalid value encountered in divide\n",
      "  self.flam = self.fnu * speed_of_light_angstrom / (self.wave)**2 * 1e-29 * 1e18\n",
      "/Users/myue/Research/Projects/JWST/dependencies/msa_spec_utils/LAE_spec_utils.py:433: RuntimeWarning: divide by zero encountered in divide\n",
      "  self.err_flam = self.err_fnu * (speed_of_light_angstrom / (self.wave)**2 * 1e-29 * 1e18)\n",
      "17:06 bilby INFO    : Running for label '3117_16651', output will be saved to './bilby_fit_civ_pypeit_v1/'\n",
      "17:06 bilby INFO    : Search parameters:\n",
      "17:06 bilby INFO    :   center = Uniform(minimum=12217.784448548367, maximum=12266.753524494454, name='center', latex_label='center', unit=None, boundary=None)\n",
      "17:06 bilby INFO    :   fwhm = Uniform(minimum=300, maximum=1000, name='fwhm', latex_label='fwhm', unit=None, boundary=None)\n",
      "17:06 bilby INFO    :   flux = Uniform(minimum=-9.462947119942312, maximum=9.462947119942312, name='flux', latex_label='flux', unit=None, boundary=None)\n",
      "17:06 bilby INFO    :   A = Uniform(minimum=-0.043572925874310366, maximum=0.08714585174862073, name='A', latex_label='A', unit=None, boundary=None)\n",
      "17:06 bilby INFO    :   beta = Uniform(minimum=-4, maximum=2, name='beta', latex_label='beta', unit=None, boundary=None)\n",
      "17:06 bilby INFO    :   wave0 = 12242.26898652141\n",
      "17:06 bilby INFO    : Single likelihood evaluation took 3.453e-05 s\n"
     ]
    },
    {
     "data": {
      "application/vnd.jupyter.widget-view+json": {
       "model_id": "8ced2e261d6b4c60b45ae2e7ab9ada31",
       "version_major": 2,
       "version_minor": 0
      },
      "text/plain": [
       "0it [00:00, ?it/s]"
      ]
     },
     "metadata": {},
     "output_type": "display_data"
    },
    {
     "name": "stderr",
     "output_type": "stream",
     "text": [
      "17:06 bilby INFO    : Using sampler Dynesty with kwargs {'bound': 'multi', 'sample': 'rwalk', 'print_progress': True, 'periodic': None, 'reflective': None, 'check_point_delta_t': 1800, 'nlive': 200, 'first_update': None, 'walks': 100, 'npdim': None, 'rstate': None, 'queue_size': 1, 'pool': None, 'use_pool': None, 'live_points': None, 'logl_args': None, 'logl_kwargs': None, 'ptform_args': None, 'ptform_kwargs': None, 'enlarge': 1.5, 'bootstrap': None, 'vol_dec': 0.5, 'vol_check': 8.0, 'facc': 0.2, 'slices': 5, 'update_interval': 120, 'print_func': <bound method Dynesty._print_func of <bilby.core.sampler.dynesty.Dynesty object at 0x754b25b80>>, 'dlogz': 0.1, 'maxiter': None, 'maxcall': None, 'logl_max': inf, 'add_live': True, 'save_bounds': False, 'n_effective': None, 'maxmcmc': 5000, 'nact': 5, 'print_method': 'tqdm'}\n",
      "17:06 bilby INFO    : Checkpoint every check_point_delta_t = 600s\n",
      "17:06 bilby INFO    : Using dynesty version 1.0.1\n",
      "17:06 bilby INFO    : Using the bilby-implemented rwalk sample method with ACT estimated walks\n",
      "17:06 bilby INFO    : Resume file ./bilby_fit_civ_pypeit_v1//3117_16651_resume.pickle does not exist.\n",
      "17:06 bilby INFO    : Generating initial points from the prior\n",
      "17:06 bilby INFO    : Written checkpoint file ./bilby_fit_civ_pypeit_v1//3117_16651_resume.pickle\n",
      "17:06 bilby INFO    : Sampling time: 0:00:16.049298\n",
      "17:06 bilby INFO    : Summary of results:\n",
      "nsamples: 2473\n",
      "ln_noise_evidence:    nan\n",
      "ln_evidence: 323.448 +/-  0.270\n",
      "ln_bayes_factor:    nan +/-  0.270\n",
      "\n"
     ]
    },
    {
     "name": "stdout",
     "output_type": "stream",
     "text": [
      "\n"
     ]
    },
    {
     "name": "stderr",
     "output_type": "stream",
     "text": [
      "/Users/myue/Research/Projects/JWST/dependencies/msa_spec_utils/LAE_spec_utils.py:426: RuntimeWarning: divide by zero encountered in power\n",
      "  self.err_fnu = (self.ivar_fnu)**-0.5\n",
      "/Users/myue/Research/Projects/JWST/dependencies/msa_spec_utils/LAE_spec_utils.py:432: RuntimeWarning: invalid value encountered in divide\n",
      "  self.flam = self.fnu * speed_of_light_angstrom / (self.wave)**2 * 1e-29 * 1e18\n",
      "/Users/myue/Research/Projects/JWST/dependencies/msa_spec_utils/LAE_spec_utils.py:433: RuntimeWarning: divide by zero encountered in divide\n",
      "  self.err_flam = self.err_fnu * (speed_of_light_angstrom / (self.wave)**2 * 1e-29 * 1e18)\n",
      "17:06 bilby INFO    : Running for label '3117_16736', output will be saved to './bilby_fit_civ_pypeit_v1/'\n",
      "17:06 bilby INFO    : Search parameters:\n",
      "17:06 bilby INFO    :   center = Uniform(minimum=12223.721243501657, maximum=12272.714114217093, name='center', latex_label='center', unit=None, boundary=None)\n",
      "17:06 bilby INFO    :   fwhm = Uniform(minimum=300, maximum=1000, name='fwhm', latex_label='fwhm', unit=None, boundary=None)\n",
      "17:06 bilby INFO    :   flux = Uniform(minimum=-11.509406790651763, maximum=11.509406790651763, name='flux', latex_label='flux', unit=None, boundary=None)\n",
      "17:06 bilby INFO    :   A = Uniform(minimum=-0.05297028036712175, maximum=0.1059405607342435, name='A', latex_label='A', unit=None, boundary=None)\n",
      "17:06 bilby INFO    :   beta = Uniform(minimum=-4, maximum=2, name='beta', latex_label='beta', unit=None, boundary=None)\n",
      "17:06 bilby INFO    :   wave0 = 12248.217678859375\n",
      "17:06 bilby INFO    : Single likelihood evaluation took 3.410e-05 s\n"
     ]
    },
    {
     "data": {
      "application/vnd.jupyter.widget-view+json": {
       "model_id": "b415e984e8144af090901beeb18ddeb0",
       "version_major": 2,
       "version_minor": 0
      },
      "text/plain": [
       "0it [00:00, ?it/s]"
      ]
     },
     "metadata": {},
     "output_type": "display_data"
    },
    {
     "name": "stderr",
     "output_type": "stream",
     "text": [
      "17:06 bilby INFO    : Using sampler Dynesty with kwargs {'bound': 'multi', 'sample': 'rwalk', 'print_progress': True, 'periodic': None, 'reflective': None, 'check_point_delta_t': 1800, 'nlive': 200, 'first_update': None, 'walks': 100, 'npdim': None, 'rstate': None, 'queue_size': 1, 'pool': None, 'use_pool': None, 'live_points': None, 'logl_args': None, 'logl_kwargs': None, 'ptform_args': None, 'ptform_kwargs': None, 'enlarge': 1.5, 'bootstrap': None, 'vol_dec': 0.5, 'vol_check': 8.0, 'facc': 0.2, 'slices': 5, 'update_interval': 120, 'print_func': <bound method Dynesty._print_func of <bilby.core.sampler.dynesty.Dynesty object at 0x7963ef020>>, 'dlogz': 0.1, 'maxiter': None, 'maxcall': None, 'logl_max': inf, 'add_live': True, 'save_bounds': False, 'n_effective': None, 'maxmcmc': 5000, 'nact': 5, 'print_method': 'tqdm'}\n",
      "17:06 bilby INFO    : Checkpoint every check_point_delta_t = 600s\n",
      "17:06 bilby INFO    : Using dynesty version 1.0.1\n",
      "17:06 bilby INFO    : Using the bilby-implemented rwalk sample method with ACT estimated walks\n",
      "17:06 bilby INFO    : Resume file ./bilby_fit_civ_pypeit_v1//3117_16736_resume.pickle does not exist.\n",
      "17:06 bilby INFO    : Generating initial points from the prior\n",
      "17:06 bilby INFO    : Written checkpoint file ./bilby_fit_civ_pypeit_v1//3117_16736_resume.pickle\n",
      "17:06 bilby INFO    : Sampling time: 0:00:18.924796\n",
      "17:06 bilby INFO    : Summary of results:\n",
      "nsamples: 3042\n",
      "ln_noise_evidence:    nan\n",
      "ln_evidence: 358.679 +/-  0.301\n",
      "ln_bayes_factor:    nan +/-  0.301\n",
      "\n"
     ]
    },
    {
     "name": "stdout",
     "output_type": "stream",
     "text": [
      "\n"
     ]
    },
    {
     "name": "stderr",
     "output_type": "stream",
     "text": [
      "/Users/myue/Research/Projects/JWST/dependencies/msa_spec_utils/LAE_spec_utils.py:426: RuntimeWarning: divide by zero encountered in power\n",
      "  self.err_fnu = (self.ivar_fnu)**-0.5\n",
      "/Users/myue/Research/Projects/JWST/dependencies/msa_spec_utils/LAE_spec_utils.py:432: RuntimeWarning: invalid value encountered in divide\n",
      "  self.flam = self.fnu * speed_of_light_angstrom / (self.wave)**2 * 1e-29 * 1e18\n",
      "/Users/myue/Research/Projects/JWST/dependencies/msa_spec_utils/LAE_spec_utils.py:433: RuntimeWarning: divide by zero encountered in divide\n",
      "  self.err_flam = self.err_fnu * (speed_of_light_angstrom / (self.wave)**2 * 1e-29 * 1e18)\n",
      "17:06 bilby INFO    : Running for label '3117_16802', output will be saved to './bilby_fit_civ_pypeit_v1/'\n",
      "17:06 bilby INFO    : Search parameters:\n",
      "17:06 bilby INFO    :   center = Uniform(minimum=11431.841946711818, maximum=11477.660952510261, name='center', latex_label='center', unit=None, boundary=None)\n",
      "17:06 bilby INFO    :   fwhm = Uniform(minimum=300, maximum=1000, name='fwhm', latex_label='fwhm', unit=None, boundary=None)\n",
      "17:06 bilby INFO    :   flux = Uniform(minimum=-13.068974858155826, maximum=13.068974858155826, name='flux', latex_label='flux', unit=None, boundary=None)\n",
      "17:06 bilby INFO    :   A = Uniform(minimum=-0.06431437891969263, maximum=0.12862875783938527, name='A', latex_label='A', unit=None, boundary=None)\n",
      "17:06 bilby INFO    :   beta = Uniform(minimum=-4, maximum=2, name='beta', latex_label='beta', unit=None, boundary=None)\n",
      "17:06 bilby INFO    :   wave0 = 11454.75144961104\n",
      "17:06 bilby INFO    : Single likelihood evaluation took 3.290e-05 s\n"
     ]
    },
    {
     "data": {
      "application/vnd.jupyter.widget-view+json": {
       "model_id": "769b48136d1e4df6bb73b2bc4e29b280",
       "version_major": 2,
       "version_minor": 0
      },
      "text/plain": [
       "0it [00:00, ?it/s]"
      ]
     },
     "metadata": {},
     "output_type": "display_data"
    },
    {
     "name": "stderr",
     "output_type": "stream",
     "text": [
      "17:06 bilby INFO    : Using sampler Dynesty with kwargs {'bound': 'multi', 'sample': 'rwalk', 'print_progress': True, 'periodic': None, 'reflective': None, 'check_point_delta_t': 1800, 'nlive': 200, 'first_update': None, 'walks': 100, 'npdim': None, 'rstate': None, 'queue_size': 1, 'pool': None, 'use_pool': None, 'live_points': None, 'logl_args': None, 'logl_kwargs': None, 'ptform_args': None, 'ptform_kwargs': None, 'enlarge': 1.5, 'bootstrap': None, 'vol_dec': 0.5, 'vol_check': 8.0, 'facc': 0.2, 'slices': 5, 'update_interval': 120, 'print_func': <bound method Dynesty._print_func of <bilby.core.sampler.dynesty.Dynesty object at 0x68334dfa0>>, 'dlogz': 0.1, 'maxiter': None, 'maxcall': None, 'logl_max': inf, 'add_live': True, 'save_bounds': False, 'n_effective': None, 'maxmcmc': 5000, 'nact': 5, 'print_method': 'tqdm'}\n",
      "17:06 bilby INFO    : Checkpoint every check_point_delta_t = 600s\n",
      "17:06 bilby INFO    : Using dynesty version 1.0.1\n",
      "17:06 bilby INFO    : Using the bilby-implemented rwalk sample method with ACT estimated walks\n",
      "17:06 bilby INFO    : Resume file ./bilby_fit_civ_pypeit_v1//3117_16802_resume.pickle does not exist.\n",
      "17:06 bilby INFO    : Generating initial points from the prior\n",
      "17:07 bilby INFO    : Written checkpoint file ./bilby_fit_civ_pypeit_v1//3117_16802_resume.pickle\n",
      "17:07 bilby INFO    : Sampling time: 0:00:15.567222\n",
      "17:07 bilby INFO    : Summary of results:\n",
      "nsamples: 2318\n",
      "ln_noise_evidence:    nan\n",
      "ln_evidence: 298.011 +/-  0.266\n",
      "ln_bayes_factor:    nan +/-  0.266\n",
      "\n"
     ]
    },
    {
     "name": "stdout",
     "output_type": "stream",
     "text": [
      "\n"
     ]
    },
    {
     "name": "stderr",
     "output_type": "stream",
     "text": [
      "/Users/myue/Research/Projects/JWST/dependencies/msa_spec_utils/LAE_spec_utils.py:426: RuntimeWarning: divide by zero encountered in power\n",
      "  self.err_fnu = (self.ivar_fnu)**-0.5\n",
      "/Users/myue/Research/Projects/JWST/dependencies/msa_spec_utils/LAE_spec_utils.py:432: RuntimeWarning: invalid value encountered in divide\n",
      "  self.flam = self.fnu * speed_of_light_angstrom / (self.wave)**2 * 1e-29 * 1e18\n",
      "/Users/myue/Research/Projects/JWST/dependencies/msa_spec_utils/LAE_spec_utils.py:433: RuntimeWarning: divide by zero encountered in divide\n",
      "  self.err_flam = self.err_fnu * (speed_of_light_angstrom / (self.wave)**2 * 1e-29 * 1e18)\n",
      "17:07 bilby INFO    : Running for label '3117_16972', output will be saved to './bilby_fit_civ_pypeit_v1/'\n",
      "17:07 bilby INFO    : Search parameters:\n",
      "17:07 bilby INFO    :   center = Uniform(minimum=12220.127690541434, maximum=12269.106158238996, name='center', latex_label='center', unit=None, boundary=None)\n",
      "17:07 bilby INFO    :   fwhm = Uniform(minimum=300, maximum=1000, name='fwhm', latex_label='fwhm', unit=None, boundary=None)\n",
      "17:07 bilby INFO    :   flux = Uniform(minimum=-8.76993128542982, maximum=8.76993128542982, name='flux', latex_label='flux', unit=None, boundary=None)\n",
      "17:07 bilby INFO    :   A = Uniform(minimum=-0.04037413357973536, maximum=0.08074826715947073, name='A', latex_label='A', unit=None, boundary=None)\n",
      "17:07 bilby INFO    :   beta = Uniform(minimum=-4, maximum=2, name='beta', latex_label='beta', unit=None, boundary=None)\n",
      "17:07 bilby INFO    :   wave0 = 12244.616924390215\n",
      "17:07 bilby INFO    : Single likelihood evaluation took 3.486e-05 s\n"
     ]
    },
    {
     "data": {
      "application/vnd.jupyter.widget-view+json": {
       "model_id": "5120c52f15c34021b142f5d8dd436fb6",
       "version_major": 2,
       "version_minor": 0
      },
      "text/plain": [
       "0it [00:00, ?it/s]"
      ]
     },
     "metadata": {},
     "output_type": "display_data"
    },
    {
     "name": "stderr",
     "output_type": "stream",
     "text": [
      "17:07 bilby INFO    : Using sampler Dynesty with kwargs {'bound': 'multi', 'sample': 'rwalk', 'print_progress': True, 'periodic': None, 'reflective': None, 'check_point_delta_t': 1800, 'nlive': 200, 'first_update': None, 'walks': 100, 'npdim': None, 'rstate': None, 'queue_size': 1, 'pool': None, 'use_pool': None, 'live_points': None, 'logl_args': None, 'logl_kwargs': None, 'ptform_args': None, 'ptform_kwargs': None, 'enlarge': 1.5, 'bootstrap': None, 'vol_dec': 0.5, 'vol_check': 8.0, 'facc': 0.2, 'slices': 5, 'update_interval': 120, 'print_func': <bound method Dynesty._print_func of <bilby.core.sampler.dynesty.Dynesty object at 0x75402e720>>, 'dlogz': 0.1, 'maxiter': None, 'maxcall': None, 'logl_max': inf, 'add_live': True, 'save_bounds': False, 'n_effective': None, 'maxmcmc': 5000, 'nact': 5, 'print_method': 'tqdm'}\n",
      "17:07 bilby INFO    : Checkpoint every check_point_delta_t = 600s\n",
      "17:07 bilby INFO    : Using dynesty version 1.0.1\n",
      "17:07 bilby INFO    : Using the bilby-implemented rwalk sample method with ACT estimated walks\n",
      "17:07 bilby INFO    : Resume file ./bilby_fit_civ_pypeit_v1//3117_16972_resume.pickle does not exist.\n",
      "17:07 bilby INFO    : Generating initial points from the prior\n",
      "17:07 bilby INFO    : Written checkpoint file ./bilby_fit_civ_pypeit_v1//3117_16972_resume.pickle\n",
      "17:07 bilby INFO    : Sampling time: 0:00:16.197352\n",
      "17:07 bilby INFO    : Summary of results:\n",
      "nsamples: 2593\n",
      "ln_noise_evidence:    nan\n",
      "ln_evidence: 343.164 +/-  0.276\n",
      "ln_bayes_factor:    nan +/-  0.276\n",
      "\n"
     ]
    },
    {
     "name": "stdout",
     "output_type": "stream",
     "text": [
      "\n"
     ]
    },
    {
     "name": "stderr",
     "output_type": "stream",
     "text": [
      "/Users/myue/Research/Projects/JWST/dependencies/msa_spec_utils/LAE_spec_utils.py:426: RuntimeWarning: divide by zero encountered in power\n",
      "  self.err_fnu = (self.ivar_fnu)**-0.5\n",
      "/Users/myue/Research/Projects/JWST/dependencies/msa_spec_utils/LAE_spec_utils.py:432: RuntimeWarning: invalid value encountered in divide\n",
      "  self.flam = self.fnu * speed_of_light_angstrom / (self.wave)**2 * 1e-29 * 1e18\n",
      "/Users/myue/Research/Projects/JWST/dependencies/msa_spec_utils/LAE_spec_utils.py:433: RuntimeWarning: divide by zero encountered in divide\n",
      "  self.err_flam = self.err_fnu * (speed_of_light_angstrom / (self.wave)**2 * 1e-29 * 1e18)\n",
      "17:07 bilby INFO    : Running for label '3117_17076', output will be saved to './bilby_fit_civ_pypeit_v1/'\n",
      "17:07 bilby INFO    : Search parameters:\n",
      "17:07 bilby INFO    :   center = Uniform(minimum=11521.971981277562, maximum=11568.152229699517, name='center', latex_label='center', unit=None, boundary=None)\n",
      "17:07 bilby INFO    :   fwhm = Uniform(minimum=300, maximum=1000, name='fwhm', latex_label='fwhm', unit=None, boundary=None)\n",
      "17:07 bilby INFO    :   flux = Uniform(minimum=-10.99729486505309, maximum=10.99729486505309, name='flux', latex_label='flux', unit=None, boundary=None)\n",
      "17:07 bilby INFO    :   A = Uniform(minimum=-0.05369598628699334, maximum=0.10739197257398668, name='A', latex_label='A', unit=None, boundary=None)\n",
      "17:07 bilby INFO    :   beta = Uniform(minimum=-4, maximum=2, name='beta', latex_label='beta', unit=None, boundary=None)\n",
      "17:07 bilby INFO    :   wave0 = 11545.06210548854\n",
      "17:07 bilby INFO    : Single likelihood evaluation took 3.417e-05 s\n"
     ]
    },
    {
     "data": {
      "application/vnd.jupyter.widget-view+json": {
       "model_id": "7e3d4a86597144f7ab607e7652e5938f",
       "version_major": 2,
       "version_minor": 0
      },
      "text/plain": [
       "0it [00:00, ?it/s]"
      ]
     },
     "metadata": {},
     "output_type": "display_data"
    },
    {
     "name": "stderr",
     "output_type": "stream",
     "text": [
      "17:07 bilby INFO    : Using sampler Dynesty with kwargs {'bound': 'multi', 'sample': 'rwalk', 'print_progress': True, 'periodic': None, 'reflective': None, 'check_point_delta_t': 1800, 'nlive': 200, 'first_update': None, 'walks': 100, 'npdim': None, 'rstate': None, 'queue_size': 1, 'pool': None, 'use_pool': None, 'live_points': None, 'logl_args': None, 'logl_kwargs': None, 'ptform_args': None, 'ptform_kwargs': None, 'enlarge': 1.5, 'bootstrap': None, 'vol_dec': 0.5, 'vol_check': 8.0, 'facc': 0.2, 'slices': 5, 'update_interval': 120, 'print_func': <bound method Dynesty._print_func of <bilby.core.sampler.dynesty.Dynesty object at 0x7f5d2c080>>, 'dlogz': 0.1, 'maxiter': None, 'maxcall': None, 'logl_max': inf, 'add_live': True, 'save_bounds': False, 'n_effective': None, 'maxmcmc': 5000, 'nact': 5, 'print_method': 'tqdm'}\n",
      "17:07 bilby INFO    : Checkpoint every check_point_delta_t = 600s\n",
      "17:07 bilby INFO    : Using dynesty version 1.0.1\n",
      "17:07 bilby INFO    : Using the bilby-implemented rwalk sample method with ACT estimated walks\n",
      "17:07 bilby INFO    : Resume file ./bilby_fit_civ_pypeit_v1//3117_17076_resume.pickle does not exist.\n",
      "17:07 bilby INFO    : Generating initial points from the prior\n",
      "17:07 bilby INFO    : Written checkpoint file ./bilby_fit_civ_pypeit_v1//3117_17076_resume.pickle\n",
      "17:07 bilby INFO    : Sampling time: 0:00:22.627213\n",
      "17:07 bilby INFO    : Summary of results:\n",
      "nsamples: 3664\n",
      "ln_noise_evidence:    nan\n",
      "ln_evidence: 318.768 +/-  0.352\n",
      "ln_bayes_factor:    nan +/-  0.352\n",
      "\n"
     ]
    },
    {
     "name": "stdout",
     "output_type": "stream",
     "text": [
      "\n"
     ]
    },
    {
     "name": "stderr",
     "output_type": "stream",
     "text": [
      "/Users/myue/Research/Projects/JWST/dependencies/msa_spec_utils/LAE_spec_utils.py:426: RuntimeWarning: divide by zero encountered in power\n",
      "  self.err_fnu = (self.ivar_fnu)**-0.5\n",
      "/Users/myue/Research/Projects/JWST/dependencies/msa_spec_utils/LAE_spec_utils.py:432: RuntimeWarning: invalid value encountered in divide\n",
      "  self.flam = self.fnu * speed_of_light_angstrom / (self.wave)**2 * 1e-29 * 1e18\n",
      "/Users/myue/Research/Projects/JWST/dependencies/msa_spec_utils/LAE_spec_utils.py:433: RuntimeWarning: divide by zero encountered in divide\n",
      "  self.err_flam = self.err_fnu * (speed_of_light_angstrom / (self.wave)**2 * 1e-29 * 1e18)\n",
      "17:07 bilby INFO    : Running for label '3117_17783', output will be saved to './bilby_fit_civ_pypeit_v1/'\n",
      "17:07 bilby INFO    : Search parameters:\n",
      "17:07 bilby INFO    :   center = Uniform(minimum=10706.579550090071, maximum=10749.4916925754, name='center', latex_label='center', unit=None, boundary=None)\n",
      "17:07 bilby INFO    :   fwhm = Uniform(minimum=300, maximum=1000, name='fwhm', latex_label='fwhm', unit=None, boundary=None)\n",
      "17:07 bilby INFO    :   flux = Uniform(minimum=-9.621178253610333, maximum=9.621178253610333, name='flux', latex_label='flux', unit=None, boundary=None)\n",
      "17:07 bilby INFO    :   A = Uniform(minimum=-0.050554553819911585, maximum=0.10110910763982317, name='A', latex_label='A', unit=None, boundary=None)\n",
      "17:07 bilby INFO    :   beta = Uniform(minimum=-4, maximum=2, name='beta', latex_label='beta', unit=None, boundary=None)\n",
      "17:07 bilby INFO    :   wave0 = 10728.035621332736\n",
      "17:07 bilby INFO    : Single likelihood evaluation took 3.293e-05 s\n"
     ]
    },
    {
     "name": "stdout",
     "output_type": "stream",
     "text": [
      "3117_17433\n"
     ]
    },
    {
     "data": {
      "application/vnd.jupyter.widget-view+json": {
       "model_id": "b0c8f07323e441109c501ff37837536a",
       "version_major": 2,
       "version_minor": 0
      },
      "text/plain": [
       "0it [00:00, ?it/s]"
      ]
     },
     "metadata": {},
     "output_type": "display_data"
    },
    {
     "name": "stderr",
     "output_type": "stream",
     "text": [
      "17:07 bilby INFO    : Using sampler Dynesty with kwargs {'bound': 'multi', 'sample': 'rwalk', 'print_progress': True, 'periodic': None, 'reflective': None, 'check_point_delta_t': 1800, 'nlive': 200, 'first_update': None, 'walks': 100, 'npdim': None, 'rstate': None, 'queue_size': 1, 'pool': None, 'use_pool': None, 'live_points': None, 'logl_args': None, 'logl_kwargs': None, 'ptform_args': None, 'ptform_kwargs': None, 'enlarge': 1.5, 'bootstrap': None, 'vol_dec': 0.5, 'vol_check': 8.0, 'facc': 0.2, 'slices': 5, 'update_interval': 120, 'print_func': <bound method Dynesty._print_func of <bilby.core.sampler.dynesty.Dynesty object at 0x81f34ec00>>, 'dlogz': 0.1, 'maxiter': None, 'maxcall': None, 'logl_max': inf, 'add_live': True, 'save_bounds': False, 'n_effective': None, 'maxmcmc': 5000, 'nact': 5, 'print_method': 'tqdm'}\n",
      "17:07 bilby INFO    : Checkpoint every check_point_delta_t = 600s\n",
      "17:07 bilby INFO    : Using dynesty version 1.0.1\n",
      "17:07 bilby INFO    : Using the bilby-implemented rwalk sample method with ACT estimated walks\n",
      "17:07 bilby INFO    : Resume file ./bilby_fit_civ_pypeit_v1//3117_17783_resume.pickle does not exist.\n",
      "17:07 bilby INFO    : Generating initial points from the prior\n",
      "17:08 bilby INFO    : Written checkpoint file ./bilby_fit_civ_pypeit_v1//3117_17783_resume.pickle\n",
      "17:08 bilby INFO    : Sampling time: 0:00:15.268325\n",
      "17:08 bilby INFO    : Summary of results:\n",
      "nsamples: 2387\n",
      "ln_noise_evidence:    nan\n",
      "ln_evidence: 275.952 +/-  0.260\n",
      "ln_bayes_factor:    nan +/-  0.260\n",
      "\n"
     ]
    },
    {
     "name": "stdout",
     "output_type": "stream",
     "text": [
      "\n"
     ]
    },
    {
     "name": "stderr",
     "output_type": "stream",
     "text": [
      "/Users/myue/Research/Projects/JWST/dependencies/msa_spec_utils/LAE_spec_utils.py:426: RuntimeWarning: divide by zero encountered in power\n",
      "  self.err_fnu = (self.ivar_fnu)**-0.5\n",
      "/Users/myue/Research/Projects/JWST/dependencies/msa_spec_utils/LAE_spec_utils.py:432: RuntimeWarning: invalid value encountered in divide\n",
      "  self.flam = self.fnu * speed_of_light_angstrom / (self.wave)**2 * 1e-29 * 1e18\n",
      "/Users/myue/Research/Projects/JWST/dependencies/msa_spec_utils/LAE_spec_utils.py:433: RuntimeWarning: divide by zero encountered in divide\n",
      "  self.err_flam = self.err_fnu * (speed_of_light_angstrom / (self.wave)**2 * 1e-29 * 1e18)\n",
      "17:08 bilby INFO    : Running for label '3117_18178', output will be saved to './bilby_fit_civ_pypeit_v1/'\n",
      "17:08 bilby INFO    : Search parameters:\n",
      "17:08 bilby INFO    :   center = Uniform(minimum=10402.900312682508, maximum=10444.595303915703, name='center', latex_label='center', unit=None, boundary=None)\n",
      "17:08 bilby INFO    :   fwhm = Uniform(minimum=300, maximum=1000, name='fwhm', latex_label='fwhm', unit=None, boundary=None)\n",
      "17:08 bilby INFO    :   flux = Uniform(minimum=-14.308463482801576, maximum=14.308463482801576, name='flux', latex_label='flux', unit=None, boundary=None)\n",
      "17:08 bilby INFO    :   A = Uniform(minimum=-0.07737868263137418, maximum=0.15475736526274836, name='A', latex_label='A', unit=None, boundary=None)\n",
      "17:08 bilby INFO    :   beta = Uniform(minimum=-4, maximum=2, name='beta', latex_label='beta', unit=None, boundary=None)\n",
      "17:08 bilby INFO    :   wave0 = 10423.747808299106\n",
      "17:08 bilby INFO    : Single likelihood evaluation took 3.379e-05 s\n"
     ]
    },
    {
     "data": {
      "application/vnd.jupyter.widget-view+json": {
       "model_id": "dccdfd879eb4478d8dc56721f0c87c33",
       "version_major": 2,
       "version_minor": 0
      },
      "text/plain": [
       "0it [00:00, ?it/s]"
      ]
     },
     "metadata": {},
     "output_type": "display_data"
    },
    {
     "name": "stderr",
     "output_type": "stream",
     "text": [
      "17:08 bilby INFO    : Using sampler Dynesty with kwargs {'bound': 'multi', 'sample': 'rwalk', 'print_progress': True, 'periodic': None, 'reflective': None, 'check_point_delta_t': 1800, 'nlive': 200, 'first_update': None, 'walks': 100, 'npdim': None, 'rstate': None, 'queue_size': 1, 'pool': None, 'use_pool': None, 'live_points': None, 'logl_args': None, 'logl_kwargs': None, 'ptform_args': None, 'ptform_kwargs': None, 'enlarge': 1.5, 'bootstrap': None, 'vol_dec': 0.5, 'vol_check': 8.0, 'facc': 0.2, 'slices': 5, 'update_interval': 120, 'print_func': <bound method Dynesty._print_func of <bilby.core.sampler.dynesty.Dynesty object at 0x83fee6720>>, 'dlogz': 0.1, 'maxiter': None, 'maxcall': None, 'logl_max': inf, 'add_live': True, 'save_bounds': False, 'n_effective': None, 'maxmcmc': 5000, 'nact': 5, 'print_method': 'tqdm'}\n",
      "17:08 bilby INFO    : Checkpoint every check_point_delta_t = 600s\n",
      "17:08 bilby INFO    : Using dynesty version 1.0.1\n",
      "17:08 bilby INFO    : Using the bilby-implemented rwalk sample method with ACT estimated walks\n",
      "17:08 bilby INFO    : Resume file ./bilby_fit_civ_pypeit_v1//3117_18178_resume.pickle does not exist.\n",
      "17:08 bilby INFO    : Generating initial points from the prior\n",
      "17:08 bilby INFO    : Written checkpoint file ./bilby_fit_civ_pypeit_v1//3117_18178_resume.pickle\n",
      "17:08 bilby INFO    : Sampling time: 0:00:21.138192\n",
      "17:08 bilby INFO    : Summary of results:\n",
      "nsamples: 3310\n",
      "ln_noise_evidence:    nan\n",
      "ln_evidence: 238.592 +/-  0.324\n",
      "ln_bayes_factor:    nan +/-  0.324\n",
      "\n"
     ]
    },
    {
     "name": "stdout",
     "output_type": "stream",
     "text": [
      "\n"
     ]
    },
    {
     "name": "stderr",
     "output_type": "stream",
     "text": [
      "/Users/myue/Research/Projects/JWST/dependencies/msa_spec_utils/LAE_spec_utils.py:426: RuntimeWarning: divide by zero encountered in power\n",
      "  self.err_fnu = (self.ivar_fnu)**-0.5\n",
      "/Users/myue/Research/Projects/JWST/dependencies/msa_spec_utils/LAE_spec_utils.py:432: RuntimeWarning: invalid value encountered in divide\n",
      "  self.flam = self.fnu * speed_of_light_angstrom / (self.wave)**2 * 1e-29 * 1e18\n",
      "/Users/myue/Research/Projects/JWST/dependencies/msa_spec_utils/LAE_spec_utils.py:433: RuntimeWarning: divide by zero encountered in divide\n",
      "  self.err_flam = self.err_fnu * (speed_of_light_angstrom / (self.wave)**2 * 1e-29 * 1e18)\n",
      "17:08 bilby INFO    : Running for label '3117_18852', output will be saved to './bilby_fit_civ_pypeit_v1/'\n",
      "17:08 bilby INFO    : Search parameters:\n",
      "17:08 bilby INFO    :   center = Uniform(minimum=9953.668947395821, maximum=9993.563412114843, name='center', latex_label='center', unit=None, boundary=None)\n",
      "17:08 bilby INFO    :   fwhm = Uniform(minimum=300, maximum=1000, name='fwhm', latex_label='fwhm', unit=None, boundary=None)\n",
      "17:08 bilby INFO    :   flux = Uniform(minimum=-8.010040748403464, maximum=8.010040748403464, name='flux', latex_label='flux', unit=None, boundary=None)\n",
      "17:08 bilby INFO    :   A = Uniform(minimum=-0.05750890284157109, maximum=0.11501780568314218, name='A', latex_label='A', unit=None, boundary=None)\n",
      "17:08 bilby INFO    :   beta = Uniform(minimum=-4, maximum=2, name='beta', latex_label='beta', unit=None, boundary=None)\n",
      "17:08 bilby INFO    :   wave0 = 9973.616179755332\n",
      "17:08 bilby INFO    : Single likelihood evaluation took 3.489e-05 s\n"
     ]
    },
    {
     "data": {
      "application/vnd.jupyter.widget-view+json": {
       "model_id": "eb87c31fe8f84addaaded9516df7c0df",
       "version_major": 2,
       "version_minor": 0
      },
      "text/plain": [
       "0it [00:00, ?it/s]"
      ]
     },
     "metadata": {},
     "output_type": "display_data"
    },
    {
     "name": "stderr",
     "output_type": "stream",
     "text": [
      "17:08 bilby INFO    : Using sampler Dynesty with kwargs {'bound': 'multi', 'sample': 'rwalk', 'print_progress': True, 'periodic': None, 'reflective': None, 'check_point_delta_t': 1800, 'nlive': 200, 'first_update': None, 'walks': 100, 'npdim': None, 'rstate': None, 'queue_size': 1, 'pool': None, 'use_pool': None, 'live_points': None, 'logl_args': None, 'logl_kwargs': None, 'ptform_args': None, 'ptform_kwargs': None, 'enlarge': 1.5, 'bootstrap': None, 'vol_dec': 0.5, 'vol_check': 8.0, 'facc': 0.2, 'slices': 5, 'update_interval': 120, 'print_func': <bound method Dynesty._print_func of <bilby.core.sampler.dynesty.Dynesty object at 0x83ef2cbf0>>, 'dlogz': 0.1, 'maxiter': None, 'maxcall': None, 'logl_max': inf, 'add_live': True, 'save_bounds': False, 'n_effective': None, 'maxmcmc': 5000, 'nact': 5, 'print_method': 'tqdm'}\n",
      "17:08 bilby INFO    : Checkpoint every check_point_delta_t = 600s\n",
      "17:08 bilby INFO    : Using dynesty version 1.0.1\n",
      "17:08 bilby INFO    : Using the bilby-implemented rwalk sample method with ACT estimated walks\n",
      "17:08 bilby INFO    : Resume file ./bilby_fit_civ_pypeit_v1//3117_18852_resume.pickle does not exist.\n",
      "17:08 bilby INFO    : Generating initial points from the prior\n",
      "17:08 bilby INFO    : Written checkpoint file ./bilby_fit_civ_pypeit_v1//3117_18852_resume.pickle\n",
      "17:08 bilby INFO    : Sampling time: 0:00:13.588039\n",
      "17:08 bilby INFO    : Summary of results:\n",
      "nsamples: 2208\n",
      "ln_noise_evidence:    nan\n",
      "ln_evidence: 244.302 +/-  0.249\n",
      "ln_bayes_factor:    nan +/-  0.249\n",
      "\n"
     ]
    },
    {
     "name": "stdout",
     "output_type": "stream",
     "text": [
      "\n"
     ]
    },
    {
     "name": "stderr",
     "output_type": "stream",
     "text": [
      "/Users/myue/Research/Projects/JWST/dependencies/msa_spec_utils/LAE_spec_utils.py:426: RuntimeWarning: divide by zero encountered in power\n",
      "  self.err_fnu = (self.ivar_fnu)**-0.5\n",
      "/Users/myue/Research/Projects/JWST/dependencies/msa_spec_utils/LAE_spec_utils.py:432: RuntimeWarning: invalid value encountered in divide\n",
      "  self.flam = self.fnu * speed_of_light_angstrom / (self.wave)**2 * 1e-29 * 1e18\n",
      "/Users/myue/Research/Projects/JWST/dependencies/msa_spec_utils/LAE_spec_utils.py:433: RuntimeWarning: divide by zero encountered in divide\n",
      "  self.err_flam = self.err_fnu * (speed_of_light_angstrom / (self.wave)**2 * 1e-29 * 1e18)\n",
      "17:08 bilby INFO    : Running for label '3117_19229', output will be saved to './bilby_fit_civ_pypeit_v1/'\n",
      "17:08 bilby INFO    : Search parameters:\n",
      "17:08 bilby INFO    :   center = Uniform(minimum=11979.832221151648, maximum=12027.847580755462, name='center', latex_label='center', unit=None, boundary=None)\n",
      "17:08 bilby INFO    :   fwhm = Uniform(minimum=300, maximum=1000, name='fwhm', latex_label='fwhm', unit=None, boundary=None)\n",
      "17:08 bilby INFO    :   flux = Uniform(minimum=-6.2327697986577775, maximum=6.2327697986577775, name='flux', latex_label='flux', unit=None, boundary=None)\n",
      "17:08 bilby INFO    :   A = Uniform(minimum=-0.02926935284474359, maximum=0.05853870568948718, name='A', latex_label='A', unit=None, boundary=None)\n",
      "17:08 bilby INFO    :   beta = Uniform(minimum=-4, maximum=2, name='beta', latex_label='beta', unit=None, boundary=None)\n",
      "17:08 bilby INFO    :   wave0 = 12003.839900953555\n",
      "17:08 bilby INFO    : Single likelihood evaluation took 3.475e-05 s\n"
     ]
    },
    {
     "name": "stdout",
     "output_type": "stream",
     "text": [
      "3117_18887\n"
     ]
    },
    {
     "data": {
      "application/vnd.jupyter.widget-view+json": {
       "model_id": "bdf3ce9123a042be9134500918b6cee7",
       "version_major": 2,
       "version_minor": 0
      },
      "text/plain": [
       "0it [00:00, ?it/s]"
      ]
     },
     "metadata": {},
     "output_type": "display_data"
    },
    {
     "name": "stderr",
     "output_type": "stream",
     "text": [
      "17:08 bilby INFO    : Using sampler Dynesty with kwargs {'bound': 'multi', 'sample': 'rwalk', 'print_progress': True, 'periodic': None, 'reflective': None, 'check_point_delta_t': 1800, 'nlive': 200, 'first_update': None, 'walks': 100, 'npdim': None, 'rstate': None, 'queue_size': 1, 'pool': None, 'use_pool': None, 'live_points': None, 'logl_args': None, 'logl_kwargs': None, 'ptform_args': None, 'ptform_kwargs': None, 'enlarge': 1.5, 'bootstrap': None, 'vol_dec': 0.5, 'vol_check': 8.0, 'facc': 0.2, 'slices': 5, 'update_interval': 120, 'print_func': <bound method Dynesty._print_func of <bilby.core.sampler.dynesty.Dynesty object at 0x8886c6c00>>, 'dlogz': 0.1, 'maxiter': None, 'maxcall': None, 'logl_max': inf, 'add_live': True, 'save_bounds': False, 'n_effective': None, 'maxmcmc': 5000, 'nact': 5, 'print_method': 'tqdm'}\n",
      "17:08 bilby INFO    : Checkpoint every check_point_delta_t = 600s\n",
      "17:08 bilby INFO    : Using dynesty version 1.0.1\n",
      "17:08 bilby INFO    : Using the bilby-implemented rwalk sample method with ACT estimated walks\n",
      "17:08 bilby INFO    : Resume file ./bilby_fit_civ_pypeit_v1//3117_19229_resume.pickle does not exist.\n",
      "17:08 bilby INFO    : Generating initial points from the prior\n",
      "17:08 bilby INFO    : Written checkpoint file ./bilby_fit_civ_pypeit_v1//3117_19229_resume.pickle\n",
      "17:08 bilby INFO    : Sampling time: 0:00:15.333338\n",
      "17:08 bilby INFO    : Summary of results:\n",
      "nsamples: 2406\n",
      "ln_noise_evidence:    nan\n",
      "ln_evidence: 383.206 +/-  0.265\n",
      "ln_bayes_factor:    nan +/-  0.265\n",
      "\n"
     ]
    },
    {
     "name": "stdout",
     "output_type": "stream",
     "text": [
      "\n"
     ]
    },
    {
     "name": "stderr",
     "output_type": "stream",
     "text": [
      "/Users/myue/Research/Projects/JWST/dependencies/msa_spec_utils/LAE_spec_utils.py:426: RuntimeWarning: divide by zero encountered in power\n",
      "  self.err_fnu = (self.ivar_fnu)**-0.5\n",
      "/Users/myue/Research/Projects/JWST/dependencies/msa_spec_utils/LAE_spec_utils.py:432: RuntimeWarning: invalid value encountered in divide\n",
      "  self.flam = self.fnu * speed_of_light_angstrom / (self.wave)**2 * 1e-29 * 1e18\n",
      "/Users/myue/Research/Projects/JWST/dependencies/msa_spec_utils/LAE_spec_utils.py:433: RuntimeWarning: divide by zero encountered in divide\n",
      "  self.err_flam = self.err_fnu * (speed_of_light_angstrom / (self.wave)**2 * 1e-29 * 1e18)\n",
      "17:08 bilby INFO    : Running for label '3117_19514', output will be saved to './bilby_fit_civ_pypeit_v1/'\n",
      "17:08 bilby INFO    : Search parameters:\n",
      "17:08 bilby INFO    :   center = Uniform(minimum=10336.441582404117, maximum=10377.870205980886, name='center', latex_label='center', unit=None, boundary=None)\n",
      "17:08 bilby INFO    :   fwhm = Uniform(minimum=300, maximum=1000, name='fwhm', latex_label='fwhm', unit=None, boundary=None)\n",
      "17:08 bilby INFO    :   flux = Uniform(minimum=-9.069254759536605, maximum=9.069254759536605, name='flux', latex_label='flux', unit=None, boundary=None)\n",
      "17:08 bilby INFO    :   A = Uniform(minimum=-0.04936092800902218, maximum=0.09872185601804435, name='A', latex_label='A', unit=None, boundary=None)\n",
      "17:08 bilby INFO    :   beta = Uniform(minimum=-4, maximum=2, name='beta', latex_label='beta', unit=None, boundary=None)\n",
      "17:08 bilby INFO    :   wave0 = 10357.155894192501\n",
      "17:08 bilby INFO    : Single likelihood evaluation took 3.354e-05 s\n"
     ]
    },
    {
     "data": {
      "application/vnd.jupyter.widget-view+json": {
       "model_id": "fe6a4165b37045f0b34bf8b7d8209fe4",
       "version_major": 2,
       "version_minor": 0
      },
      "text/plain": [
       "0it [00:00, ?it/s]"
      ]
     },
     "metadata": {},
     "output_type": "display_data"
    },
    {
     "name": "stderr",
     "output_type": "stream",
     "text": [
      "17:08 bilby INFO    : Using sampler Dynesty with kwargs {'bound': 'multi', 'sample': 'rwalk', 'print_progress': True, 'periodic': None, 'reflective': None, 'check_point_delta_t': 1800, 'nlive': 200, 'first_update': None, 'walks': 100, 'npdim': None, 'rstate': None, 'queue_size': 1, 'pool': None, 'use_pool': None, 'live_points': None, 'logl_args': None, 'logl_kwargs': None, 'ptform_args': None, 'ptform_kwargs': None, 'enlarge': 1.5, 'bootstrap': None, 'vol_dec': 0.5, 'vol_check': 8.0, 'facc': 0.2, 'slices': 5, 'update_interval': 120, 'print_func': <bound method Dynesty._print_func of <bilby.core.sampler.dynesty.Dynesty object at 0x8a9c521e0>>, 'dlogz': 0.1, 'maxiter': None, 'maxcall': None, 'logl_max': inf, 'add_live': True, 'save_bounds': False, 'n_effective': None, 'maxmcmc': 5000, 'nact': 5, 'print_method': 'tqdm'}\n",
      "17:08 bilby INFO    : Checkpoint every check_point_delta_t = 600s\n",
      "17:08 bilby INFO    : Using dynesty version 1.0.1\n",
      "17:08 bilby INFO    : Using the bilby-implemented rwalk sample method with ACT estimated walks\n",
      "17:08 bilby INFO    : Resume file ./bilby_fit_civ_pypeit_v1//3117_19514_resume.pickle does not exist.\n",
      "17:08 bilby INFO    : Generating initial points from the prior\n",
      "17:09 bilby INFO    : Written checkpoint file ./bilby_fit_civ_pypeit_v1//3117_19514_resume.pickle\n",
      "17:09 bilby INFO    : Sampling time: 0:00:13.318007\n",
      "17:09 bilby INFO    : Summary of results:\n",
      "nsamples: 2168\n",
      "ln_noise_evidence:    nan\n",
      "ln_evidence: 223.915 +/-  0.247\n",
      "ln_bayes_factor:    nan +/-  0.247\n",
      "\n"
     ]
    },
    {
     "name": "stdout",
     "output_type": "stream",
     "text": [
      "\n"
     ]
    },
    {
     "name": "stderr",
     "output_type": "stream",
     "text": [
      "/Users/myue/Research/Projects/JWST/dependencies/msa_spec_utils/LAE_spec_utils.py:426: RuntimeWarning: divide by zero encountered in power\n",
      "  self.err_fnu = (self.ivar_fnu)**-0.5\n",
      "/Users/myue/Research/Projects/JWST/dependencies/msa_spec_utils/LAE_spec_utils.py:432: RuntimeWarning: invalid value encountered in divide\n",
      "  self.flam = self.fnu * speed_of_light_angstrom / (self.wave)**2 * 1e-29 * 1e18\n",
      "/Users/myue/Research/Projects/JWST/dependencies/msa_spec_utils/LAE_spec_utils.py:433: RuntimeWarning: divide by zero encountered in divide\n",
      "  self.err_flam = self.err_fnu * (speed_of_light_angstrom / (self.wave)**2 * 1e-29 * 1e18)\n",
      "17:09 bilby INFO    : Running for label '3117_19692', output will be saved to './bilby_fit_civ_pypeit_v1/'\n",
      "17:09 bilby INFO    : Search parameters:\n",
      "17:09 bilby INFO    :   center = Uniform(minimum=12215.049629426745, maximum=12264.007744173947, name='center', latex_label='center', unit=None, boundary=None)\n",
      "17:09 bilby INFO    :   fwhm = Uniform(minimum=300, maximum=1000, name='fwhm', latex_label='fwhm', unit=None, boundary=None)\n",
      "17:09 bilby INFO    :   flux = Uniform(minimum=-10.700603423987067, maximum=10.700603423987067, name='flux', latex_label='flux', unit=None, boundary=None)\n",
      "17:09 bilby INFO    :   A = Uniform(minimum=-0.04928284854226401, maximum=0.09856569708452802, name='A', latex_label='A', unit=None, boundary=None)\n",
      "17:09 bilby INFO    :   beta = Uniform(minimum=-4, maximum=2, name='beta', latex_label='beta', unit=None, boundary=None)\n",
      "17:09 bilby INFO    :   wave0 = 12239.528686800346\n",
      "17:09 bilby INFO    : Single likelihood evaluation took 3.297e-05 s\n"
     ]
    },
    {
     "data": {
      "application/vnd.jupyter.widget-view+json": {
       "model_id": "69d73476bc214e5c8efeb9384180b9f4",
       "version_major": 2,
       "version_minor": 0
      },
      "text/plain": [
       "0it [00:00, ?it/s]"
      ]
     },
     "metadata": {},
     "output_type": "display_data"
    },
    {
     "name": "stderr",
     "output_type": "stream",
     "text": [
      "17:09 bilby INFO    : Using sampler Dynesty with kwargs {'bound': 'multi', 'sample': 'rwalk', 'print_progress': True, 'periodic': None, 'reflective': None, 'check_point_delta_t': 1800, 'nlive': 200, 'first_update': None, 'walks': 100, 'npdim': None, 'rstate': None, 'queue_size': 1, 'pool': None, 'use_pool': None, 'live_points': None, 'logl_args': None, 'logl_kwargs': None, 'ptform_args': None, 'ptform_kwargs': None, 'enlarge': 1.5, 'bootstrap': None, 'vol_dec': 0.5, 'vol_check': 8.0, 'facc': 0.2, 'slices': 5, 'update_interval': 120, 'print_func': <bound method Dynesty._print_func of <bilby.core.sampler.dynesty.Dynesty object at 0x7f5c88920>>, 'dlogz': 0.1, 'maxiter': None, 'maxcall': None, 'logl_max': inf, 'add_live': True, 'save_bounds': False, 'n_effective': None, 'maxmcmc': 5000, 'nact': 5, 'print_method': 'tqdm'}\n",
      "17:09 bilby INFO    : Checkpoint every check_point_delta_t = 600s\n",
      "17:09 bilby INFO    : Using dynesty version 1.0.1\n",
      "17:09 bilby INFO    : Using the bilby-implemented rwalk sample method with ACT estimated walks\n",
      "17:09 bilby INFO    : Resume file ./bilby_fit_civ_pypeit_v1//3117_19692_resume.pickle does not exist.\n",
      "17:09 bilby INFO    : Generating initial points from the prior\n",
      "17:09 bilby INFO    : Written checkpoint file ./bilby_fit_civ_pypeit_v1//3117_19692_resume.pickle\n",
      "17:09 bilby INFO    : Sampling time: 0:00:33.870914\n",
      "17:09 bilby INFO    : Summary of results:\n",
      "nsamples: 1519\n",
      "ln_noise_evidence:    nan\n",
      "ln_evidence: 130.523 +/-  0.179\n",
      "ln_bayes_factor:    nan +/-  0.179\n",
      "\n"
     ]
    },
    {
     "name": "stdout",
     "output_type": "stream",
     "text": [
      "\n"
     ]
    },
    {
     "data": {
      "image/png": "[encoded data removed]",
      "text/plain": [
       "<Figure size 640x480 with 1 Axes>"
      ]
     },
     "metadata": {},
     "output_type": "display_data"
    }
   ],
   "source": [
    "outdir_pypeit = './bilby_fit_civ_pypeit_v1/'\n",
    "selectidx_pypeit = []\n",
    "\n",
    "    \n",
    "spec1ddir = os.path.abspath(f'../pypeit-reduc/data-release-2/reduced_spec_2/')\n",
    "\n",
    "for index in range(len(LAEinfo)):\n",
    "    \n",
    "    z = LAEinfo['redshift'][index]\n",
    "    isource = '3117_%d'%(LAEinfo['NUMBER'][index])\n",
    "\n",
    "    # find the spec1d file\n",
    "    spec1dfile = os.path.join(spec1ddir,'spec1d_%s_stack.fits'%isource)\n",
    "    if not os.path.exists(spec1dfile):\n",
    "        spec1dfile = os.path.join(spec1ddir,'manu1d_%s_stack.fits'%isource)\n",
    "\n",
    "    label = isource\n",
    "    pypeit_spec = LAE.PypeItSpecStacked(filename=spec1dfile, zO3=z, outdir=outdir_pypeit, label=label)\n",
    "\n",
    "    plot_info = dict(title=isource, bestfit='./plotfit_pypeit/bestfit_civ/%s.pdf'%isource, \\\n",
    "                    corner='./plotfit_pypeit/corner_civ/%s.pdf'%isource, restwave=1549)\n",
    "\n",
    "    try:\n",
    "        pypeit_spec.fit_civ_profile_bilby()\n",
    "        \n",
    "        pypeit_spec.plot_best_fit(plot_info, linename='civ')\n",
    "        pypeit_spec.plot_contour_fit(plot_info)\n",
    "    except LAE.LineNotCoveredError:\n",
    "        print(isource)\n",
    "        pass\n",
    "        \n"
   ]
  },
  {
   "cell_type": "code",
   "execution_count": 26,
   "id": "b02a7e3d-9794-40fe-ad04-3cbd9b1920f6",
   "metadata": {},
   "outputs": [
    {
     "name": "stderr",
     "output_type": "stream",
     "text": [
      "/Users/myue/Research/Projects/JWST/dependencies/msa_spec_utils/LAE_spec_utils.py:426: RuntimeWarning: divide by zero encountered in power\n",
      "  self.err_fnu = (self.ivar_fnu)**-0.5\n",
      "/Users/myue/Research/Projects/JWST/dependencies/msa_spec_utils/LAE_spec_utils.py:432: RuntimeWarning: invalid value encountered in divide\n",
      "  self.flam = self.fnu * speed_of_light_angstrom / (self.wave)**2 * 1e-29 * 1e18\n",
      "/Users/myue/Research/Projects/JWST/dependencies/msa_spec_utils/LAE_spec_utils.py:433: RuntimeWarning: divide by zero encountered in divide\n",
      "  self.err_flam = self.err_fnu * (speed_of_light_angstrom / (self.wave)**2 * 1e-29 * 1e18)\n",
      "20:48 bilby INFO    : Running for label '3117_2429', output will be saved to './bilby_fit_civ_pypeit_v1/'\n",
      "20:48 bilby INFO    : Search parameters:\n",
      "20:48 bilby INFO    :   center = Uniform(minimum=10172.416810211875, maximum=10213.188019872043, name='center', latex_label='center', unit=None, boundary=None)\n",
      "20:48 bilby INFO    :   fwhm = Uniform(minimum=300, maximum=1000, name='fwhm', latex_label='fwhm', unit=None, boundary=None)\n",
      "20:48 bilby INFO    :   flux = Uniform(minimum=-13.938826570391639, maximum=13.938826570391639, name='flux', latex_label='flux', unit=None, boundary=None)\n",
      "20:48 bilby INFO    :   A = Uniform(minimum=-0.07708765534507894, maximum=0.15417531069015789, name='A', latex_label='A', unit=None, boundary=None)\n",
      "20:48 bilby INFO    :   beta = Uniform(minimum=-4, maximum=2, name='beta', latex_label='beta', unit=None, boundary=None)\n",
      "20:48 bilby INFO    :   wave0 = 10192.802415041959\n",
      "20:48 bilby INFO    : Single likelihood evaluation took 6.318e-05 s\n"
     ]
    },
    {
     "data": {
      "application/vnd.jupyter.widget-view+json": {
       "model_id": "78c30e4ad5444b03841af07000f05e54",
       "version_major": 2,
       "version_minor": 0
      },
      "text/plain": [
       "0it [00:00, ?it/s]"
      ]
     },
     "metadata": {},
     "output_type": "display_data"
    },
    {
     "name": "stderr",
     "output_type": "stream",
     "text": [
      "20:48 bilby INFO    : Checkpoint every check_point_delta_t = 600s\n",
      "20:48 bilby WARNING : Using cached result\n",
      "20:48 bilby INFO    : Summary of results:\n",
      "nsamples: 2569\n",
      "ln_noise_evidence:    nan\n",
      "ln_evidence: 232.846 +/-  0.271\n",
      "ln_bayes_factor:    nan +/-  0.271\n",
      "\n",
      "/Users/myue/Research/Projects/JWST/dependencies/msa_spec_utils/LAE_spec_utils.py:426: RuntimeWarning: divide by zero encountered in power\n",
      "  self.err_fnu = (self.ivar_fnu)**-0.5\n",
      "/Users/myue/Research/Projects/JWST/dependencies/msa_spec_utils/LAE_spec_utils.py:432: RuntimeWarning: invalid value encountered in divide\n",
      "  self.flam = self.fnu * speed_of_light_angstrom / (self.wave)**2 * 1e-29 * 1e18\n",
      "/Users/myue/Research/Projects/JWST/dependencies/msa_spec_utils/LAE_spec_utils.py:433: RuntimeWarning: divide by zero encountered in divide\n",
      "  self.err_flam = self.err_fnu * (speed_of_light_angstrom / (self.wave)**2 * 1e-29 * 1e18)\n",
      "20:48 bilby INFO    : Running for label '3117_2637', output will be saved to './bilby_fit_civ_pypeit_v1/'\n",
      "20:48 bilby INFO    : Search parameters:\n",
      "20:48 bilby INFO    :   center = Uniform(minimum=10878.779960718217, maximum=10922.382285210075, name='center', latex_label='center', unit=None, boundary=None)\n",
      "20:48 bilby INFO    :   fwhm = Uniform(minimum=300, maximum=1000, name='fwhm', latex_label='fwhm', unit=None, boundary=None)\n",
      "20:48 bilby INFO    :   flux = Uniform(minimum=-12.395414847475848, maximum=12.395414847475848, name='flux', latex_label='flux', unit=None, boundary=None)\n",
      "20:48 bilby INFO    :   A = Uniform(minimum=-0.06410082847067813, maximum=0.12820165694135627, name='A', latex_label='A', unit=None, boundary=None)\n",
      "20:48 bilby INFO    :   beta = Uniform(minimum=-4, maximum=2, name='beta', latex_label='beta', unit=None, boundary=None)\n",
      "20:48 bilby INFO    :   wave0 = 10900.581122964146\n",
      "20:48 bilby INFO    : Single likelihood evaluation took 6.735e-05 s\n"
     ]
    },
    {
     "data": {
      "application/vnd.jupyter.widget-view+json": {
       "model_id": "e6abf59be6b44dd990a0a188cebbe937",
       "version_major": 2,
       "version_minor": 0
      },
      "text/plain": [
       "0it [00:00, ?it/s]"
      ]
     },
     "metadata": {},
     "output_type": "display_data"
    },
    {
     "name": "stderr",
     "output_type": "stream",
     "text": [
      "20:48 bilby INFO    : Checkpoint every check_point_delta_t = 600s\n",
      "20:48 bilby WARNING : Using cached result\n",
      "20:48 bilby INFO    : Summary of results:\n",
      "nsamples: 2753\n",
      "ln_noise_evidence:    nan\n",
      "ln_evidence: 306.979 +/-  0.294\n",
      "ln_bayes_factor:    nan +/-  0.294\n",
      "\n",
      "/Users/myue/Research/Projects/JWST/dependencies/msa_spec_utils/LAE_spec_utils.py:426: RuntimeWarning: divide by zero encountered in power\n",
      "  self.err_fnu = (self.ivar_fnu)**-0.5\n",
      "/Users/myue/Research/Projects/JWST/dependencies/msa_spec_utils/LAE_spec_utils.py:432: RuntimeWarning: invalid value encountered in divide\n",
      "  self.flam = self.fnu * speed_of_light_angstrom / (self.wave)**2 * 1e-29 * 1e18\n",
      "/Users/myue/Research/Projects/JWST/dependencies/msa_spec_utils/LAE_spec_utils.py:433: RuntimeWarning: divide by zero encountered in divide\n",
      "  self.err_flam = self.err_fnu * (speed_of_light_angstrom / (self.wave)**2 * 1e-29 * 1e18)\n",
      "20:48 bilby INFO    : Running for label '3117_3052', output will be saved to './bilby_fit_civ_pypeit_v1/'\n",
      "20:48 bilby INFO    : Search parameters:\n",
      "20:48 bilby INFO    :   center = Uniform(minimum=11578.471856941555, maximum=11624.87855777098, name='center', latex_label='center', unit=None, boundary=None)\n",
      "20:48 bilby INFO    :   fwhm = Uniform(minimum=300, maximum=1000, name='fwhm', latex_label='fwhm', unit=None, boundary=None)\n",
      "20:48 bilby INFO    :   flux = Uniform(minimum=-7.771743940613046, maximum=7.771743940613046, name='flux', latex_label='flux', unit=None, boundary=None)\n",
      "20:48 bilby INFO    :   A = Uniform(minimum=-0.14586054587626504, maximum=0.2917210917525301, name='A', latex_label='A', unit=None, boundary=None)\n",
      "20:48 bilby INFO    :   beta = Uniform(minimum=-4, maximum=2, name='beta', latex_label='beta', unit=None, boundary=None)\n",
      "20:48 bilby INFO    :   wave0 = 11601.675207356267\n",
      "20:48 bilby INFO    : Single likelihood evaluation took 3.666e-05 s\n"
     ]
    },
    {
     "data": {
      "application/vnd.jupyter.widget-view+json": {
       "model_id": "b1250ce7940a488fbc4de1814dad0be8",
       "version_major": 2,
       "version_minor": 0
      },
      "text/plain": [
       "0it [00:00, ?it/s]"
      ]
     },
     "metadata": {},
     "output_type": "display_data"
    },
    {
     "name": "stderr",
     "output_type": "stream",
     "text": [
      "20:48 bilby INFO    : Checkpoint every check_point_delta_t = 600s\n",
      "20:48 bilby WARNING : Using cached result\n",
      "20:48 bilby INFO    : Summary of results:\n",
      "nsamples: 2580\n",
      "ln_noise_evidence:    nan\n",
      "ln_evidence: 209.424 +/-  0.279\n",
      "ln_bayes_factor:    nan +/-  0.279\n",
      "\n",
      "/Users/myue/Research/Projects/JWST/dependencies/msa_spec_utils/LAE_spec_utils.py:426: RuntimeWarning: divide by zero encountered in power\n",
      "  self.err_fnu = (self.ivar_fnu)**-0.5\n",
      "/Users/myue/Research/Projects/JWST/dependencies/msa_spec_utils/LAE_spec_utils.py:432: RuntimeWarning: invalid value encountered in divide\n",
      "  self.flam = self.fnu * speed_of_light_angstrom / (self.wave)**2 * 1e-29 * 1e18\n",
      "/Users/myue/Research/Projects/JWST/dependencies/msa_spec_utils/LAE_spec_utils.py:433: RuntimeWarning: divide by zero encountered in divide\n",
      "  self.err_flam = self.err_fnu * (speed_of_light_angstrom / (self.wave)**2 * 1e-29 * 1e18)\n",
      "20:48 bilby INFO    : Running for label '3117_3391', output will be saved to './bilby_fit_civ_pypeit_v1/'\n",
      "20:48 bilby INFO    : Search parameters:\n",
      "20:48 bilby INFO    :   center = Uniform(minimum=10937.429722055585, maximum=10981.26711573116, name='center', latex_label='center', unit=None, boundary=None)\n",
      "20:48 bilby INFO    :   fwhm = Uniform(minimum=300, maximum=1000, name='fwhm', latex_label='fwhm', unit=None, boundary=None)\n",
      "20:48 bilby INFO    :   flux = Uniform(minimum=-13.597893086565255, maximum=13.597893086565255, name='flux', latex_label='flux', unit=None, boundary=None)\n",
      "20:48 bilby INFO    :   A = Uniform(minimum=-0.06994217212981742, maximum=0.13988434425963484, name='A', latex_label='A', unit=None, boundary=None)\n",
      "20:48 bilby INFO    :   beta = Uniform(minimum=-4, maximum=2, name='beta', latex_label='beta', unit=None, boundary=None)\n",
      "20:48 bilby INFO    :   wave0 = 10959.348418893373\n",
      "20:48 bilby INFO    : Single likelihood evaluation took 4.369e-05 s\n"
     ]
    },
    {
     "data": {
      "application/vnd.jupyter.widget-view+json": {
       "model_id": "b68b6270a37d45d9b218b679422c26cc",
       "version_major": 2,
       "version_minor": 0
      },
      "text/plain": [
       "0it [00:00, ?it/s]"
      ]
     },
     "metadata": {},
     "output_type": "display_data"
    },
    {
     "name": "stderr",
     "output_type": "stream",
     "text": [
      "20:48 bilby INFO    : Checkpoint every check_point_delta_t = 600s\n",
      "20:48 bilby WARNING : Using cached result\n",
      "20:48 bilby INFO    : Summary of results:\n",
      "nsamples: 2747\n",
      "ln_noise_evidence:    nan\n",
      "ln_evidence: 262.749 +/-  0.292\n",
      "ln_bayes_factor:    nan +/-  0.292\n",
      "\n",
      "/Users/myue/Research/Projects/JWST/dependencies/msa_spec_utils/LAE_spec_utils.py:426: RuntimeWarning: divide by zero encountered in power\n",
      "  self.err_fnu = (self.ivar_fnu)**-0.5\n",
      "/Users/myue/Research/Projects/JWST/dependencies/msa_spec_utils/LAE_spec_utils.py:432: RuntimeWarning: invalid value encountered in divide\n",
      "  self.flam = self.fnu * speed_of_light_angstrom / (self.wave)**2 * 1e-29 * 1e18\n",
      "/Users/myue/Research/Projects/JWST/dependencies/msa_spec_utils/LAE_spec_utils.py:433: RuntimeWarning: divide by zero encountered in divide\n",
      "  self.err_flam = self.err_fnu * (speed_of_light_angstrom / (self.wave)**2 * 1e-29 * 1e18)\n",
      "20:48 bilby INFO    : Running for label '3117_3461', output will be saved to './bilby_fit_civ_pypeit_v1/'\n",
      "20:48 bilby INFO    : Search parameters:\n",
      "20:48 bilby INFO    :   center = Uniform(minimum=10881.011623506209, maximum=10924.622892538297, name='center', latex_label='center', unit=None, boundary=None)\n",
      "20:48 bilby INFO    :   fwhm = Uniform(minimum=300, maximum=1000, name='fwhm', latex_label='fwhm', unit=None, boundary=None)\n",
      "20:48 bilby INFO    :   flux = Uniform(minimum=-11.098210187949649, maximum=11.098210187949649, name='flux', latex_label='flux', unit=None, boundary=None)\n",
      "20:48 bilby INFO    :   A = Uniform(minimum=-0.057380779056015525, maximum=0.11476155811203105, name='A', latex_label='A', unit=None, boundary=None)\n",
      "20:48 bilby INFO    :   beta = Uniform(minimum=-4, maximum=2, name='beta', latex_label='beta', unit=None, boundary=None)\n",
      "20:48 bilby INFO    :   wave0 = 10902.817258022253\n",
      "20:48 bilby INFO    : Single likelihood evaluation took 4.004e-05 s\n"
     ]
    },
    {
     "data": {
      "application/vnd.jupyter.widget-view+json": {
       "model_id": "277959892acb4bb1b5d17b69a152b2a3",
       "version_major": 2,
       "version_minor": 0
      },
      "text/plain": [
       "0it [00:00, ?it/s]"
      ]
     },
     "metadata": {},
     "output_type": "display_data"
    },
    {
     "name": "stderr",
     "output_type": "stream",
     "text": [
      "20:48 bilby INFO    : Checkpoint every check_point_delta_t = 600s\n",
      "20:48 bilby WARNING : Using cached result\n",
      "20:48 bilby INFO    : Summary of results:\n",
      "nsamples: 2331\n",
      "ln_noise_evidence:    nan\n",
      "ln_evidence: 298.276 +/-  0.263\n",
      "ln_bayes_factor:    nan +/-  0.263\n",
      "\n",
      "/Users/myue/Research/Projects/JWST/dependencies/msa_spec_utils/LAE_spec_utils.py:426: RuntimeWarning: divide by zero encountered in power\n",
      "  self.err_fnu = (self.ivar_fnu)**-0.5\n",
      "/Users/myue/Research/Projects/JWST/dependencies/msa_spec_utils/LAE_spec_utils.py:432: RuntimeWarning: invalid value encountered in divide\n",
      "  self.flam = self.fnu * speed_of_light_angstrom / (self.wave)**2 * 1e-29 * 1e18\n",
      "/Users/myue/Research/Projects/JWST/dependencies/msa_spec_utils/LAE_spec_utils.py:433: RuntimeWarning: divide by zero encountered in divide\n",
      "  self.err_flam = self.err_fnu * (speed_of_light_angstrom / (self.wave)**2 * 1e-29 * 1e18)\n",
      "20:48 bilby INFO    : Running for label '3117_3607', output will be saved to './bilby_fit_civ_pypeit_v1/'\n",
      "20:48 bilby INFO    : Search parameters:\n",
      "20:48 bilby INFO    :   center = Uniform(minimum=9969.879490498133, maximum=10009.838927333796, name='center', latex_label='center', unit=None, boundary=None)\n",
      "20:48 bilby INFO    :   fwhm = Uniform(minimum=300, maximum=1000, name='fwhm', latex_label='fwhm', unit=None, boundary=None)\n",
      "20:48 bilby INFO    :   flux = Uniform(minimum=-30.964327801179238, maximum=30.964327801179238, name='flux', latex_label='flux', unit=None, boundary=None)\n",
      "20:48 bilby INFO    :   A = Uniform(minimum=-0.17472478571304384, maximum=0.3494495714260877, name='A', latex_label='A', unit=None, boundary=None)\n",
      "20:48 bilby INFO    :   beta = Uniform(minimum=-4, maximum=2, name='beta', latex_label='beta', unit=None, boundary=None)\n",
      "20:48 bilby INFO    :   wave0 = 9989.859208915965\n",
      "20:48 bilby INFO    : Single likelihood evaluation took 3.926e-05 s\n"
     ]
    },
    {
     "data": {
      "application/vnd.jupyter.widget-view+json": {
       "model_id": "c2232a1937964c01823823a85ab3d249",
       "version_major": 2,
       "version_minor": 0
      },
      "text/plain": [
       "0it [00:00, ?it/s]"
      ]
     },
     "metadata": {},
     "output_type": "display_data"
    },
    {
     "name": "stderr",
     "output_type": "stream",
     "text": [
      "20:48 bilby INFO    : Checkpoint every check_point_delta_t = 600s\n",
      "20:48 bilby WARNING : Using cached result\n",
      "20:48 bilby INFO    : Summary of results:\n",
      "nsamples: 3138\n",
      "ln_noise_evidence:    nan\n",
      "ln_evidence: 213.800 +/-  0.325\n",
      "ln_bayes_factor:    nan +/-  0.325\n",
      "\n",
      "/Users/myue/Research/Projects/JWST/dependencies/msa_spec_utils/LAE_spec_utils.py:426: RuntimeWarning: divide by zero encountered in power\n",
      "  self.err_fnu = (self.ivar_fnu)**-0.5\n",
      "/Users/myue/Research/Projects/JWST/dependencies/msa_spec_utils/LAE_spec_utils.py:432: RuntimeWarning: invalid value encountered in divide\n",
      "  self.flam = self.fnu * speed_of_light_angstrom / (self.wave)**2 * 1e-29 * 1e18\n",
      "/Users/myue/Research/Projects/JWST/dependencies/msa_spec_utils/LAE_spec_utils.py:433: RuntimeWarning: divide by zero encountered in divide\n",
      "  self.err_flam = self.err_fnu * (speed_of_light_angstrom / (self.wave)**2 * 1e-29 * 1e18)\n",
      "20:48 bilby INFO    : Running for label '3117_3608', output will be saved to './bilby_fit_civ_pypeit_v1/'\n",
      "20:48 bilby INFO    : Search parameters:\n",
      "20:48 bilby INFO    :   center = Uniform(minimum=10885.920124299006, maximum=10929.551066680964, name='center', latex_label='center', unit=None, boundary=None)\n",
      "20:48 bilby INFO    :   fwhm = Uniform(minimum=300, maximum=1000, name='fwhm', latex_label='fwhm', unit=None, boundary=None)\n",
      "20:48 bilby INFO    :   flux = Uniform(minimum=-10.167602005935535, maximum=10.167602005935535, name='flux', latex_label='flux', unit=None, boundary=None)\n",
      "20:48 bilby INFO    :   A = Uniform(minimum=-0.05254557680434394, maximum=0.10509115360868788, name='A', latex_label='A', unit=None, boundary=None)\n",
      "20:48 bilby INFO    :   beta = Uniform(minimum=-4, maximum=2, name='beta', latex_label='beta', unit=None, boundary=None)\n",
      "20:48 bilby INFO    :   wave0 = 10907.735595489985\n",
      "20:48 bilby INFO    : Single likelihood evaluation took 4.247e-05 s\n"
     ]
    },
    {
     "data": {
      "application/vnd.jupyter.widget-view+json": {
       "model_id": "8ae97739f1d2444b81f0b968adb19e2c",
       "version_major": 2,
       "version_minor": 0
      },
      "text/plain": [
       "0it [00:00, ?it/s]"
      ]
     },
     "metadata": {},
     "output_type": "display_data"
    },
    {
     "name": "stderr",
     "output_type": "stream",
     "text": [
      "20:48 bilby INFO    : Checkpoint every check_point_delta_t = 600s\n",
      "20:48 bilby WARNING : Using cached result\n",
      "20:48 bilby INFO    : Summary of results:\n",
      "nsamples: 2392\n",
      "ln_noise_evidence:    nan\n",
      "ln_evidence: 282.581 +/-  0.264\n",
      "ln_bayes_factor:    nan +/-  0.264\n",
      "\n",
      "/Users/myue/Research/Projects/JWST/dependencies/msa_spec_utils/LAE_spec_utils.py:426: RuntimeWarning: divide by zero encountered in power\n",
      "  self.err_fnu = (self.ivar_fnu)**-0.5\n",
      "/Users/myue/Research/Projects/JWST/dependencies/msa_spec_utils/LAE_spec_utils.py:432: RuntimeWarning: invalid value encountered in divide\n",
      "  self.flam = self.fnu * speed_of_light_angstrom / (self.wave)**2 * 1e-29 * 1e18\n",
      "/Users/myue/Research/Projects/JWST/dependencies/msa_spec_utils/LAE_spec_utils.py:433: RuntimeWarning: divide by zero encountered in divide\n",
      "  self.err_flam = self.err_fnu * (speed_of_light_angstrom / (self.wave)**2 * 1e-29 * 1e18)\n",
      "20:48 bilby INFO    : Running for label '3117_3609', output will be saved to './bilby_fit_civ_pypeit_v1/'\n",
      "20:48 bilby INFO    : Search parameters:\n",
      "20:48 bilby INFO    :   center = Uniform(minimum=12225.170084154133, maximum=12274.168761846135, name='center', latex_label='center', unit=None, boundary=None)\n",
      "20:48 bilby INFO    :   fwhm = Uniform(minimum=300, maximum=1000, name='fwhm', latex_label='fwhm', unit=None, boundary=None)\n",
      "20:48 bilby INFO    :   flux = Uniform(minimum=-7.895756244832754, maximum=7.895756244832754, name='flux', latex_label='flux', unit=None, boundary=None)\n",
      "20:48 bilby INFO    :   A = Uniform(minimum=-0.03633470105892712, maximum=0.07266940211785423, name='A', latex_label='A', unit=None, boundary=None)\n",
      "20:48 bilby INFO    :   beta = Uniform(minimum=-4, maximum=2, name='beta', latex_label='beta', unit=None, boundary=None)\n",
      "20:48 bilby INFO    :   wave0 = 12249.669423000134\n",
      "20:48 bilby INFO    : Single likelihood evaluation took 3.853e-05 s\n"
     ]
    },
    {
     "data": {
      "application/vnd.jupyter.widget-view+json": {
       "model_id": "bcfb2f3ed42941259defa1dd4b64a806",
       "version_major": 2,
       "version_minor": 0
      },
      "text/plain": [
       "0it [00:00, ?it/s]"
      ]
     },
     "metadata": {},
     "output_type": "display_data"
    },
    {
     "name": "stderr",
     "output_type": "stream",
     "text": [
      "20:48 bilby INFO    : Checkpoint every check_point_delta_t = 600s\n",
      "20:48 bilby WARNING : Using cached result\n",
      "20:48 bilby INFO    : Summary of results:\n",
      "nsamples: 2384\n",
      "ln_noise_evidence:    nan\n",
      "ln_evidence: 372.421 +/-  0.258\n",
      "ln_bayes_factor:    nan +/-  0.258\n",
      "\n",
      "/Users/myue/Research/Projects/JWST/dependencies/msa_spec_utils/LAE_spec_utils.py:426: RuntimeWarning: divide by zero encountered in power\n",
      "  self.err_fnu = (self.ivar_fnu)**-0.5\n",
      "/Users/myue/Research/Projects/JWST/dependencies/msa_spec_utils/LAE_spec_utils.py:432: RuntimeWarning: invalid value encountered in divide\n",
      "  self.flam = self.fnu * speed_of_light_angstrom / (self.wave)**2 * 1e-29 * 1e18\n",
      "/Users/myue/Research/Projects/JWST/dependencies/msa_spec_utils/LAE_spec_utils.py:433: RuntimeWarning: divide by zero encountered in divide\n",
      "  self.err_flam = self.err_fnu * (speed_of_light_angstrom / (self.wave)**2 * 1e-29 * 1e18)\n",
      "20:48 bilby INFO    : Running for label '3117_3781', output will be saved to './bilby_fit_civ_pypeit_v1/'\n",
      "20:48 bilby INFO    : Search parameters:\n",
      "20:48 bilby INFO    :   center = Uniform(minimum=10703.237761914308, maximum=10746.136510459055, name='center', latex_label='center', unit=None, boundary=None)\n",
      "20:48 bilby INFO    :   fwhm = Uniform(minimum=300, maximum=1000, name='fwhm', latex_label='fwhm', unit=None, boundary=None)\n",
      "20:48 bilby INFO    :   flux = Uniform(minimum=-16.221881655020276, maximum=16.221881655020276, name='flux', latex_label='flux', unit=None, boundary=None)\n",
      "20:48 bilby INFO    :   A = Uniform(minimum=-0.08526461290345741, maximum=0.17052922580691482, name='A', latex_label='A', unit=None, boundary=None)\n",
      "20:48 bilby INFO    :   beta = Uniform(minimum=-4, maximum=2, name='beta', latex_label='beta', unit=None, boundary=None)\n",
      "20:48 bilby INFO    :   wave0 = 10724.687136186682\n",
      "20:48 bilby INFO    : Single likelihood evaluation took 4.000e-05 s\n"
     ]
    },
    {
     "data": {
      "application/vnd.jupyter.widget-view+json": {
       "model_id": "c0e4c3d8143e416994d21d24ee4b6e3d",
       "version_major": 2,
       "version_minor": 0
      },
      "text/plain": [
       "0it [00:00, ?it/s]"
      ]
     },
     "metadata": {},
     "output_type": "display_data"
    },
    {
     "name": "stderr",
     "output_type": "stream",
     "text": [
      "20:48 bilby INFO    : Checkpoint every check_point_delta_t = 600s\n",
      "20:48 bilby WARNING : Using cached result\n",
      "20:48 bilby INFO    : Summary of results:\n",
      "nsamples: 2608\n",
      "ln_noise_evidence:    nan\n",
      "ln_evidence: 268.410 +/-  0.286\n",
      "ln_bayes_factor:    nan +/-  0.286\n",
      "\n",
      "/Users/myue/Research/Projects/JWST/dependencies/msa_spec_utils/LAE_spec_utils.py:426: RuntimeWarning: divide by zero encountered in power\n",
      "  self.err_fnu = (self.ivar_fnu)**-0.5\n",
      "/Users/myue/Research/Projects/JWST/dependencies/msa_spec_utils/LAE_spec_utils.py:432: RuntimeWarning: invalid value encountered in divide\n",
      "  self.flam = self.fnu * speed_of_light_angstrom / (self.wave)**2 * 1e-29 * 1e18\n",
      "/Users/myue/Research/Projects/JWST/dependencies/msa_spec_utils/LAE_spec_utils.py:433: RuntimeWarning: divide by zero encountered in divide\n",
      "  self.err_flam = self.err_fnu * (speed_of_light_angstrom / (self.wave)**2 * 1e-29 * 1e18)\n",
      "20:48 bilby INFO    : Running for label '3117_4246', output will be saved to './bilby_fit_civ_pypeit_v1/'\n",
      "20:48 bilby INFO    : Search parameters:\n",
      "20:48 bilby INFO    :   center = Uniform(minimum=11570.525877901031, maximum=11616.90073111907, name='center', latex_label='center', unit=None, boundary=None)\n",
      "20:48 bilby INFO    :   fwhm = Uniform(minimum=300, maximum=1000, name='fwhm', latex_label='fwhm', unit=None, boundary=None)\n",
      "20:48 bilby INFO    :   flux = Uniform(minimum=-10.535716558575526, maximum=10.535716558575526, name='flux', latex_label='flux', unit=None, boundary=None)\n",
      "20:48 bilby INFO    :   A = Uniform(minimum=-0.051226389730643564, maximum=0.10245277946128713, name='A', latex_label='A', unit=None, boundary=None)\n",
      "20:48 bilby INFO    :   beta = Uniform(minimum=-4, maximum=2, name='beta', latex_label='beta', unit=None, boundary=None)\n",
      "20:48 bilby INFO    :   wave0 = 11593.71330451005\n",
      "20:48 bilby INFO    : Single likelihood evaluation took 3.685e-05 s\n"
     ]
    },
    {
     "data": {
      "application/vnd.jupyter.widget-view+json": {
       "model_id": "678557d02f004dc3907f337b49367080",
       "version_major": 2,
       "version_minor": 0
      },
      "text/plain": [
       "0it [00:00, ?it/s]"
      ]
     },
     "metadata": {},
     "output_type": "display_data"
    },
    {
     "name": "stderr",
     "output_type": "stream",
     "text": [
      "20:48 bilby INFO    : Checkpoint every check_point_delta_t = 600s\n",
      "20:48 bilby WARNING : Using cached result\n",
      "20:48 bilby INFO    : Summary of results:\n",
      "nsamples: 2233\n",
      "ln_noise_evidence:    nan\n",
      "ln_evidence: 317.578 +/-  0.253\n",
      "ln_bayes_factor:    nan +/-  0.253\n",
      "\n",
      "/Users/myue/Research/Projects/JWST/dependencies/msa_spec_utils/LAE_spec_utils.py:426: RuntimeWarning: divide by zero encountered in power\n",
      "  self.err_fnu = (self.ivar_fnu)**-0.5\n",
      "/Users/myue/Research/Projects/JWST/dependencies/msa_spec_utils/LAE_spec_utils.py:432: RuntimeWarning: invalid value encountered in divide\n",
      "  self.flam = self.fnu * speed_of_light_angstrom / (self.wave)**2 * 1e-29 * 1e18\n",
      "/Users/myue/Research/Projects/JWST/dependencies/msa_spec_utils/LAE_spec_utils.py:433: RuntimeWarning: divide by zero encountered in divide\n",
      "  self.err_flam = self.err_fnu * (speed_of_light_angstrom / (self.wave)**2 * 1e-29 * 1e18)\n",
      "20:48 bilby INFO    : Running for label '3117_4376', output will be saved to './bilby_fit_civ_pypeit_v1/'\n",
      "20:48 bilby INFO    : Search parameters:\n",
      "20:48 bilby INFO    :   center = Uniform(minimum=11575.935458877004, maximum=11622.331993782322, name='center', latex_label='center', unit=None, boundary=None)\n",
      "20:48 bilby INFO    :   fwhm = Uniform(minimum=300, maximum=1000, name='fwhm', latex_label='fwhm', unit=None, boundary=None)\n",
      "20:48 bilby INFO    :   flux = Uniform(minimum=-9.214973756232084, maximum=9.214973756232084, name='flux', latex_label='flux', unit=None, boundary=None)\n",
      "20:48 bilby INFO    :   A = Uniform(minimum=-0.04478378281296435, maximum=0.0895675656259287, name='A', latex_label='A', unit=None, boundary=None)\n",
      "20:48 bilby INFO    :   beta = Uniform(minimum=-4, maximum=2, name='beta', latex_label='beta', unit=None, boundary=None)\n",
      "20:48 bilby INFO    :   wave0 = 11599.133726329663\n",
      "20:48 bilby INFO    : Single likelihood evaluation took 3.744e-05 s\n"
     ]
    },
    {
     "data": {
      "application/vnd.jupyter.widget-view+json": {
       "model_id": "e2ce7bc79cf64f369bf5c976eeba0ca8",
       "version_major": 2,
       "version_minor": 0
      },
      "text/plain": [
       "0it [00:00, ?it/s]"
      ]
     },
     "metadata": {},
     "output_type": "display_data"
    },
    {
     "name": "stderr",
     "output_type": "stream",
     "text": [
      "20:48 bilby INFO    : Checkpoint every check_point_delta_t = 600s\n",
      "20:48 bilby WARNING : Using cached result\n",
      "20:48 bilby INFO    : Summary of results:\n",
      "nsamples: 2376\n",
      "ln_noise_evidence:    nan\n",
      "ln_evidence: 338.175 +/-  0.265\n",
      "ln_bayes_factor:    nan +/-  0.265\n",
      "\n",
      "/Users/myue/Research/Projects/JWST/dependencies/msa_spec_utils/LAE_spec_utils.py:426: RuntimeWarning: divide by zero encountered in power\n",
      "  self.err_fnu = (self.ivar_fnu)**-0.5\n",
      "/Users/myue/Research/Projects/JWST/dependencies/msa_spec_utils/LAE_spec_utils.py:432: RuntimeWarning: invalid value encountered in divide\n",
      "  self.flam = self.fnu * speed_of_light_angstrom / (self.wave)**2 * 1e-29 * 1e18\n",
      "/Users/myue/Research/Projects/JWST/dependencies/msa_spec_utils/LAE_spec_utils.py:433: RuntimeWarning: divide by zero encountered in divide\n",
      "  self.err_flam = self.err_fnu * (speed_of_light_angstrom / (self.wave)**2 * 1e-29 * 1e18)\n",
      "20:48 bilby INFO    : Running for label '3117_5123', output will be saved to './bilby_fit_civ_pypeit_v1/'\n",
      "20:48 bilby INFO    : Search parameters:\n",
      "20:48 bilby INFO    :   center = Uniform(minimum=11562.168126192964, maximum=11608.509481408166, name='center', latex_label='center', unit=None, boundary=None)\n",
      "20:48 bilby INFO    :   fwhm = Uniform(minimum=300, maximum=1000, name='fwhm', latex_label='fwhm', unit=None, boundary=None)\n",
      "20:48 bilby INFO    :   flux = Uniform(minimum=-9.060885520578465, maximum=9.060885520578465, name='flux', latex_label='flux', unit=None, boundary=None)\n",
      "20:48 bilby INFO    :   A = Uniform(minimum=-0.04408736391456374, maximum=0.08817472782912748, name='A', latex_label='A', unit=None, boundary=None)\n",
      "20:48 bilby INFO    :   beta = Uniform(minimum=-4, maximum=2, name='beta', latex_label='beta', unit=None, boundary=None)\n",
      "20:48 bilby INFO    :   wave0 = 11585.338803800565\n",
      "20:48 bilby INFO    : Single likelihood evaluation took 3.644e-05 s\n"
     ]
    },
    {
     "data": {
      "application/vnd.jupyter.widget-view+json": {
       "model_id": "508f701385554ed48bb7152d92befa60",
       "version_major": 2,
       "version_minor": 0
      },
      "text/plain": [
       "0it [00:00, ?it/s]"
      ]
     },
     "metadata": {},
     "output_type": "display_data"
    },
    {
     "name": "stderr",
     "output_type": "stream",
     "text": [
      "20:48 bilby INFO    : Checkpoint every check_point_delta_t = 600s\n",
      "20:48 bilby WARNING : Using cached result\n",
      "20:48 bilby INFO    : Summary of results:\n",
      "nsamples: 2425\n",
      "ln_noise_evidence:    nan\n",
      "ln_evidence: 315.107 +/-  0.269\n",
      "ln_bayes_factor:    nan +/-  0.269\n",
      "\n",
      "/Users/myue/Research/Projects/JWST/dependencies/msa_spec_utils/LAE_spec_utils.py:426: RuntimeWarning: divide by zero encountered in power\n",
      "  self.err_fnu = (self.ivar_fnu)**-0.5\n",
      "/Users/myue/Research/Projects/JWST/dependencies/msa_spec_utils/LAE_spec_utils.py:432: RuntimeWarning: invalid value encountered in divide\n",
      "  self.flam = self.fnu * speed_of_light_angstrom / (self.wave)**2 * 1e-29 * 1e18\n",
      "/Users/myue/Research/Projects/JWST/dependencies/msa_spec_utils/LAE_spec_utils.py:433: RuntimeWarning: divide by zero encountered in divide\n",
      "  self.err_flam = self.err_fnu * (speed_of_light_angstrom / (self.wave)**2 * 1e-29 * 1e18)\n",
      "20:48 bilby INFO    : Running for label '3117_6406', output will be saved to './bilby_fit_civ_pypeit_v1/'\n",
      "20:48 bilby INFO    : Search parameters:\n",
      "20:48 bilby INFO    :   center = Uniform(minimum=11571.258892584347, maximum=11617.636683736988, name='center', latex_label='center', unit=None, boundary=None)\n",
      "20:48 bilby INFO    :   fwhm = Uniform(minimum=300, maximum=1000, name='fwhm', latex_label='fwhm', unit=None, boundary=None)\n",
      "20:48 bilby INFO    :   flux = Uniform(minimum=-1.2912285880219474, maximum=1.2912285880219474, name='flux', latex_label='flux', unit=None, boundary=None)\n",
      "20:48 bilby INFO    :   A = Uniform(minimum=-0.07876873145399542, maximum=0.15753746290799084, name='A', latex_label='A', unit=None, boundary=None)\n",
      "20:48 bilby INFO    :   beta = Uniform(minimum=-4, maximum=2, name='beta', latex_label='beta', unit=None, boundary=None)\n",
      "20:48 bilby INFO    :   wave0 = 11594.447788160667\n",
      "20:48 bilby INFO    : Single likelihood evaluation took 4.047e-05 s\n"
     ]
    },
    {
     "data": {
      "application/vnd.jupyter.widget-view+json": {
       "model_id": "b9d3b160a34a414cba10cf5e5ae5c48c",
       "version_major": 2,
       "version_minor": 0
      },
      "text/plain": [
       "0it [00:00, ?it/s]"
      ]
     },
     "metadata": {},
     "output_type": "display_data"
    },
    {
     "name": "stderr",
     "output_type": "stream",
     "text": [
      "20:48 bilby INFO    : Checkpoint every check_point_delta_t = 600s\n",
      "20:48 bilby WARNING : Using cached result\n",
      "20:48 bilby INFO    : Summary of results:\n",
      "nsamples: 2525\n",
      "ln_noise_evidence:    nan\n",
      "ln_evidence: 302.678 +/-  0.271\n",
      "ln_bayes_factor:    nan +/-  0.271\n",
      "\n",
      "/Users/myue/Research/Projects/JWST/dependencies/msa_spec_utils/LAE_spec_utils.py:426: RuntimeWarning: divide by zero encountered in power\n",
      "  self.err_fnu = (self.ivar_fnu)**-0.5\n",
      "/Users/myue/Research/Projects/JWST/dependencies/msa_spec_utils/LAE_spec_utils.py:432: RuntimeWarning: invalid value encountered in divide\n",
      "  self.flam = self.fnu * speed_of_light_angstrom / (self.wave)**2 * 1e-29 * 1e18\n",
      "/Users/myue/Research/Projects/JWST/dependencies/msa_spec_utils/LAE_spec_utils.py:433: RuntimeWarning: divide by zero encountered in divide\n",
      "  self.err_flam = self.err_fnu * (speed_of_light_angstrom / (self.wave)**2 * 1e-29 * 1e18)\n",
      "20:48 bilby INFO    : Running for label '3117_6584', output will be saved to './bilby_fit_civ_pypeit_v1/'\n",
      "20:48 bilby INFO    : Search parameters:\n",
      "20:48 bilby INFO    :   center = Uniform(minimum=11718.672605714795, maximum=11765.641233393011, name='center', latex_label='center', unit=None, boundary=None)\n",
      "20:48 bilby INFO    :   fwhm = Uniform(minimum=300, maximum=1000, name='fwhm', latex_label='fwhm', unit=None, boundary=None)\n",
      "20:48 bilby INFO    :   flux = Uniform(minimum=-7.287763943050045, maximum=7.287763943050045, name='flux', latex_label='flux', unit=None, boundary=None)\n",
      "20:48 bilby INFO    :   A = Uniform(minimum=-0.03498635067103978, maximum=0.06997270134207956, name='A', latex_label='A', unit=None, boundary=None)\n",
      "20:48 bilby INFO    :   beta = Uniform(minimum=-4, maximum=2, name='beta', latex_label='beta', unit=None, boundary=None)\n",
      "20:48 bilby INFO    :   wave0 = 11742.156919553903\n",
      "20:48 bilby INFO    : Single likelihood evaluation took 4.023e-05 s\n"
     ]
    },
    {
     "data": {
      "application/vnd.jupyter.widget-view+json": {
       "model_id": "d6840ebb5a7e4e0ca11066de6aa0cb62",
       "version_major": 2,
       "version_minor": 0
      },
      "text/plain": [
       "0it [00:00, ?it/s]"
      ]
     },
     "metadata": {},
     "output_type": "display_data"
    },
    {
     "name": "stderr",
     "output_type": "stream",
     "text": [
      "20:48 bilby INFO    : Checkpoint every check_point_delta_t = 600s\n",
      "20:48 bilby WARNING : Using cached result\n",
      "20:48 bilby INFO    : Summary of results:\n",
      "nsamples: 2405\n",
      "ln_noise_evidence:    nan\n",
      "ln_evidence: 347.032 +/-  0.256\n",
      "ln_bayes_factor:    nan +/-  0.256\n",
      "\n",
      "/Users/myue/Research/Projects/JWST/dependencies/msa_spec_utils/LAE_spec_utils.py:426: RuntimeWarning: divide by zero encountered in power\n",
      "  self.err_fnu = (self.ivar_fnu)**-0.5\n",
      "/Users/myue/Research/Projects/JWST/dependencies/msa_spec_utils/LAE_spec_utils.py:432: RuntimeWarning: invalid value encountered in divide\n",
      "  self.flam = self.fnu * speed_of_light_angstrom / (self.wave)**2 * 1e-29 * 1e18\n",
      "/Users/myue/Research/Projects/JWST/dependencies/msa_spec_utils/LAE_spec_utils.py:433: RuntimeWarning: divide by zero encountered in divide\n",
      "  self.err_flam = self.err_fnu * (speed_of_light_angstrom / (self.wave)**2 * 1e-29 * 1e18)\n",
      "20:48 bilby INFO    : Running for label '3117_7217', output will be saved to './bilby_fit_civ_pypeit_v1/'\n",
      "20:48 bilby INFO    : Search parameters:\n",
      "20:48 bilby INFO    :   center = Uniform(minimum=11474.142390285588, maximum=11520.130936940039, name='center', latex_label='center', unit=None, boundary=None)\n",
      "20:48 bilby INFO    :   fwhm = Uniform(minimum=300, maximum=1000, name='fwhm', latex_label='fwhm', unit=None, boundary=None)\n",
      "20:48 bilby INFO    :   flux = Uniform(minimum=-6.907678455230743, maximum=6.907678455230743, name='flux', latex_label='flux', unit=None, boundary=None)\n",
      "20:48 bilby INFO    :   A = Uniform(minimum=-0.03386839742937839, maximum=0.06773679485875678, name='A', latex_label='A', unit=None, boundary=None)\n",
      "20:48 bilby INFO    :   beta = Uniform(minimum=-4, maximum=2, name='beta', latex_label='beta', unit=None, boundary=None)\n",
      "20:48 bilby INFO    :   wave0 = 11497.136663612813\n",
      "20:48 bilby INFO    : Single likelihood evaluation took 3.995e-05 s\n"
     ]
    },
    {
     "data": {
      "application/vnd.jupyter.widget-view+json": {
       "model_id": "6479a93bec2a4e15a39c4be9e5168c10",
       "version_major": 2,
       "version_minor": 0
      },
      "text/plain": [
       "0it [00:00, ?it/s]"
      ]
     },
     "metadata": {},
     "output_type": "display_data"
    },
    {
     "name": "stderr",
     "output_type": "stream",
     "text": [
      "20:48 bilby INFO    : Checkpoint every check_point_delta_t = 600s\n",
      "20:48 bilby WARNING : Using cached result\n",
      "20:48 bilby INFO    : Summary of results:\n",
      "nsamples: 2332\n",
      "ln_noise_evidence:    nan\n",
      "ln_evidence: 326.662 +/-  0.252\n",
      "ln_bayes_factor:    nan +/-  0.252\n",
      "\n",
      "/Users/myue/Research/Projects/JWST/dependencies/msa_spec_utils/LAE_spec_utils.py:426: RuntimeWarning: divide by zero encountered in power\n",
      "  self.err_fnu = (self.ivar_fnu)**-0.5\n",
      "/Users/myue/Research/Projects/JWST/dependencies/msa_spec_utils/LAE_spec_utils.py:432: RuntimeWarning: invalid value encountered in divide\n",
      "  self.flam = self.fnu * speed_of_light_angstrom / (self.wave)**2 * 1e-29 * 1e18\n",
      "/Users/myue/Research/Projects/JWST/dependencies/msa_spec_utils/LAE_spec_utils.py:433: RuntimeWarning: divide by zero encountered in divide\n",
      "  self.err_flam = self.err_fnu * (speed_of_light_angstrom / (self.wave)**2 * 1e-29 * 1e18)\n",
      "20:48 bilby INFO    : Running for label '3117_8234', output will be saved to './bilby_fit_civ_pypeit_v1/'\n",
      "20:48 bilby INFO    : Search parameters:\n",
      "20:48 bilby INFO    :   center = Uniform(minimum=11217.609369710792, maximum=11262.569727906024, name='center', latex_label='center', unit=None, boundary=None)\n",
      "20:48 bilby INFO    :   fwhm = Uniform(minimum=300, maximum=1000, name='fwhm', latex_label='fwhm', unit=None, boundary=None)\n",
      "20:48 bilby INFO    :   flux = Uniform(minimum=-8.001960517751245, maximum=8.001960517751245, name='flux', latex_label='flux', unit=None, boundary=None)\n",
      "20:48 bilby INFO    :   A = Uniform(minimum=-0.052994349053290174, maximum=0.10598869810658035, name='A', latex_label='A', unit=None, boundary=None)\n",
      "20:48 bilby INFO    :   beta = Uniform(minimum=-4, maximum=2, name='beta', latex_label='beta', unit=None, boundary=None)\n",
      "20:48 bilby INFO    :   wave0 = 11240.089548808408\n",
      "20:48 bilby INFO    : Single likelihood evaluation took 3.819e-05 s\n"
     ]
    },
    {
     "data": {
      "application/vnd.jupyter.widget-view+json": {
       "model_id": "f693393bb293404f97169fd61d2d2ed4",
       "version_major": 2,
       "version_minor": 0
      },
      "text/plain": [
       "0it [00:00, ?it/s]"
      ]
     },
     "metadata": {},
     "output_type": "display_data"
    },
    {
     "name": "stderr",
     "output_type": "stream",
     "text": [
      "20:48 bilby INFO    : Checkpoint every check_point_delta_t = 600s\n",
      "20:48 bilby WARNING : Using cached result\n",
      "20:48 bilby INFO    : Summary of results:\n",
      "nsamples: 2343\n",
      "ln_noise_evidence:    nan\n",
      "ln_evidence: 290.994 +/-  0.264\n",
      "ln_bayes_factor:    nan +/-  0.264\n",
      "\n",
      "20:48 bilby INFO    : Running for label '3117_8871', output will be saved to './bilby_fit_civ_pypeit_v1/'\n",
      "20:48 bilby INFO    : Search parameters:\n",
      "20:48 bilby INFO    :   center = Uniform(minimum=11421.308221210827, maximum=11467.085007668586, name='center', latex_label='center', unit=None, boundary=None)\n",
      "20:48 bilby INFO    :   fwhm = Uniform(minimum=300, maximum=1000, name='fwhm', latex_label='fwhm', unit=None, boundary=None)\n",
      "20:48 bilby INFO    :   flux = Uniform(minimum=-5.465504947042639, maximum=5.465504947042639, name='flux', latex_label='flux', unit=None, boundary=None)\n",
      "20:48 bilby INFO    :   A = Uniform(minimum=-0.026921373223971673, maximum=0.053842746447943346, name='A', latex_label='A', unit=None, boundary=None)\n",
      "20:48 bilby INFO    :   beta = Uniform(minimum=-4, maximum=2, name='beta', latex_label='beta', unit=None, boundary=None)\n",
      "20:48 bilby INFO    :   wave0 = 11444.196614439707\n",
      "20:48 bilby INFO    : Single likelihood evaluation took 3.559e-05 s\n"
     ]
    },
    {
     "data": {
      "application/vnd.jupyter.widget-view+json": {
       "model_id": "9bed472dc0f140a397e9a076c6894f37",
       "version_major": 2,
       "version_minor": 0
      },
      "text/plain": [
       "0it [00:00, ?it/s]"
      ]
     },
     "metadata": {},
     "output_type": "display_data"
    },
    {
     "name": "stderr",
     "output_type": "stream",
     "text": [
      "20:48 bilby INFO    : Checkpoint every check_point_delta_t = 600s\n",
      "20:48 bilby WARNING : Using cached result\n",
      "20:48 bilby INFO    : Summary of results:\n",
      "nsamples: 2571\n",
      "ln_noise_evidence:    nan\n",
      "ln_evidence: 372.893 +/-  0.274\n",
      "ln_bayes_factor:    nan +/-  0.274\n",
      "\n",
      "20:48 bilby INFO    : Running for label '3117_9192', output will be saved to './bilby_fit_civ_pypeit_v1/'\n",
      "20:48 bilby INFO    : Search parameters:\n",
      "20:48 bilby INFO    :   center = Uniform(minimum=11560.227016532426, maximum=11606.560591748988, name='center', latex_label='center', unit=None, boundary=None)\n",
      "20:48 bilby INFO    :   fwhm = Uniform(minimum=300, maximum=1000, name='fwhm', latex_label='fwhm', unit=None, boundary=None)\n",
      "20:48 bilby INFO    :   flux = Uniform(minimum=-14.59337793718033, maximum=14.59337793718033, name='flux', latex_label='flux', unit=None, boundary=None)\n",
      "20:48 bilby INFO    :   A = Uniform(minimum=-0.07101862116122408, maximum=0.14203724232244816, name='A', latex_label='A', unit=None, boundary=None)\n",
      "20:48 bilby INFO    :   beta = Uniform(minimum=-4, maximum=2, name='beta', latex_label='beta', unit=None, boundary=None)\n",
      "20:48 bilby INFO    :   wave0 = 11583.393804140707\n",
      "20:48 bilby INFO    : Single likelihood evaluation took 3.708e-05 s\n"
     ]
    },
    {
     "data": {
      "application/vnd.jupyter.widget-view+json": {
       "model_id": "79a9a0e9c2c640dba97c31d7caa69dff",
       "version_major": 2,
       "version_minor": 0
      },
      "text/plain": [
       "0it [00:00, ?it/s]"
      ]
     },
     "metadata": {},
     "output_type": "display_data"
    },
    {
     "name": "stderr",
     "output_type": "stream",
     "text": [
      "20:48 bilby INFO    : Checkpoint every check_point_delta_t = 600s\n",
      "20:48 bilby WARNING : Using cached result\n",
      "20:48 bilby INFO    : Summary of results:\n",
      "nsamples: 2789\n",
      "ln_noise_evidence:    nan\n",
      "ln_evidence: 326.136 +/-  0.295\n",
      "ln_bayes_factor:    nan +/-  0.295\n",
      "\n",
      "/Users/myue/Research/Projects/JWST/dependencies/msa_spec_utils/LAE_spec_utils.py:426: RuntimeWarning: divide by zero encountered in power\n",
      "  self.err_fnu = (self.ivar_fnu)**-0.5\n",
      "/Users/myue/Research/Projects/JWST/dependencies/msa_spec_utils/LAE_spec_utils.py:432: RuntimeWarning: invalid value encountered in divide\n",
      "  self.flam = self.fnu * speed_of_light_angstrom / (self.wave)**2 * 1e-29 * 1e18\n",
      "/Users/myue/Research/Projects/JWST/dependencies/msa_spec_utils/LAE_spec_utils.py:433: RuntimeWarning: divide by zero encountered in divide\n",
      "  self.err_flam = self.err_fnu * (speed_of_light_angstrom / (self.wave)**2 * 1e-29 * 1e18)\n",
      "20:48 bilby INFO    : Running for label '3117_9232', output will be saved to './bilby_fit_civ_pypeit_v1/'\n",
      "20:48 bilby INFO    : Search parameters:\n",
      "20:48 bilby INFO    :   center = Uniform(minimum=10923.668304078567, maximum=10967.450541770266, name='center', latex_label='center', unit=None, boundary=None)\n",
      "20:48 bilby INFO    :   fwhm = Uniform(minimum=300, maximum=1000, name='fwhm', latex_label='fwhm', unit=None, boundary=None)\n",
      "20:48 bilby INFO    :   flux = Uniform(minimum=-7.679652772457168, maximum=7.679652772457168, name='flux', latex_label='flux', unit=None, boundary=None)\n",
      "20:48 bilby INFO    :   A = Uniform(minimum=-0.03955085249484008, maximum=0.07910170498968017, name='A', latex_label='A', unit=None, boundary=None)\n",
      "20:48 bilby INFO    :   beta = Uniform(minimum=-4, maximum=2, name='beta', latex_label='beta', unit=None, boundary=None)\n",
      "20:48 bilby INFO    :   wave0 = 10945.559422924416\n",
      "20:48 bilby INFO    : Single likelihood evaluation took 4.182e-05 s\n"
     ]
    },
    {
     "data": {
      "application/vnd.jupyter.widget-view+json": {
       "model_id": "8efd3f714d2843f5bf4e79b721234443",
       "version_major": 2,
       "version_minor": 0
      },
      "text/plain": [
       "0it [00:00, ?it/s]"
      ]
     },
     "metadata": {},
     "output_type": "display_data"
    },
    {
     "name": "stderr",
     "output_type": "stream",
     "text": [
      "20:48 bilby INFO    : Checkpoint every check_point_delta_t = 600s\n",
      "20:48 bilby WARNING : Using cached result\n",
      "20:48 bilby INFO    : Summary of results:\n",
      "nsamples: 2322\n",
      "ln_noise_evidence:    nan\n",
      "ln_evidence: 309.723 +/-  0.259\n",
      "ln_bayes_factor:    nan +/-  0.259\n",
      "\n",
      "/Users/myue/Research/Projects/JWST/dependencies/msa_spec_utils/LAE_spec_utils.py:426: RuntimeWarning: divide by zero encountered in power\n",
      "  self.err_fnu = (self.ivar_fnu)**-0.5\n",
      "/Users/myue/Research/Projects/JWST/dependencies/msa_spec_utils/LAE_spec_utils.py:432: RuntimeWarning: invalid value encountered in divide\n",
      "  self.flam = self.fnu * speed_of_light_angstrom / (self.wave)**2 * 1e-29 * 1e18\n",
      "/Users/myue/Research/Projects/JWST/dependencies/msa_spec_utils/LAE_spec_utils.py:433: RuntimeWarning: divide by zero encountered in divide\n",
      "  self.err_flam = self.err_fnu * (speed_of_light_angstrom / (self.wave)**2 * 1e-29 * 1e18)\n",
      "20:48 bilby INFO    : Running for label '3117_9314', output will be saved to './bilby_fit_civ_pypeit_v1/'\n",
      "20:48 bilby INFO    : Search parameters:\n",
      "20:48 bilby INFO    :   center = Uniform(minimum=11062.601726255267, maximum=11106.940811330438, name='center', latex_label='center', unit=None, boundary=None)\n",
      "20:48 bilby INFO    :   fwhm = Uniform(minimum=300, maximum=1000, name='fwhm', latex_label='fwhm', unit=None, boundary=None)\n",
      "20:48 bilby INFO    :   flux = Uniform(minimum=-41.11338706233284, maximum=41.11338706233284, name='flux', latex_label='flux', unit=None, boundary=None)\n",
      "20:48 bilby INFO    :   A = Uniform(minimum=-0.20907819812084397, maximum=0.41815639624168793, name='A', latex_label='A', unit=None, boundary=None)\n",
      "20:48 bilby INFO    :   beta = Uniform(minimum=-4, maximum=2, name='beta', latex_label='beta', unit=None, boundary=None)\n",
      "20:48 bilby INFO    :   wave0 = 11084.771268792852\n",
      "20:48 bilby INFO    : Single likelihood evaluation took 4.230e-05 s\n"
     ]
    },
    {
     "data": {
      "application/vnd.jupyter.widget-view+json": {
       "model_id": "4e419a26b3f543a18aa04470dc0881ab",
       "version_major": 2,
       "version_minor": 0
      },
      "text/plain": [
       "0it [00:00, ?it/s]"
      ]
     },
     "metadata": {},
     "output_type": "display_data"
    },
    {
     "name": "stderr",
     "output_type": "stream",
     "text": [
      "20:48 bilby INFO    : Checkpoint every check_point_delta_t = 600s\n",
      "20:48 bilby WARNING : Using cached result\n",
      "20:48 bilby INFO    : Summary of results:\n",
      "nsamples: 3776\n",
      "ln_noise_evidence:    nan\n",
      "ln_evidence: 253.103 +/-  0.363\n",
      "ln_bayes_factor:    nan +/-  0.363\n",
      "\n",
      "/Users/myue/Research/Projects/JWST/dependencies/msa_spec_utils/LAE_spec_utils.py:426: RuntimeWarning: divide by zero encountered in power\n",
      "  self.err_fnu = (self.ivar_fnu)**-0.5\n",
      "/Users/myue/Research/Projects/JWST/dependencies/msa_spec_utils/LAE_spec_utils.py:432: RuntimeWarning: invalid value encountered in divide\n",
      "  self.flam = self.fnu * speed_of_light_angstrom / (self.wave)**2 * 1e-29 * 1e18\n",
      "/Users/myue/Research/Projects/JWST/dependencies/msa_spec_utils/LAE_spec_utils.py:433: RuntimeWarning: divide by zero encountered in divide\n",
      "  self.err_flam = self.err_fnu * (speed_of_light_angstrom / (self.wave)**2 * 1e-29 * 1e18)\n",
      "20:48 bilby INFO    : Running for label '3117_9428', output will be saved to './bilby_fit_civ_pypeit_v1/'\n",
      "20:48 bilby INFO    : Search parameters:\n",
      "20:48 bilby INFO    :   center = Uniform(minimum=12009.69800697084, maximum=12057.83306912303, name='center', latex_label='center', unit=None, boundary=None)\n",
      "20:48 bilby INFO    :   fwhm = Uniform(minimum=300, maximum=1000, name='fwhm', latex_label='fwhm', unit=None, boundary=None)\n",
      "20:48 bilby INFO    :   flux = Uniform(minimum=-8.184083173096946, maximum=8.184083173096946, name='flux', latex_label='flux', unit=None, boundary=None)\n",
      "20:48 bilby INFO    :   A = Uniform(minimum=-0.03833722877153604, maximum=0.07667445754307207, name='A', latex_label='A', unit=None, boundary=None)\n",
      "20:48 bilby INFO    :   beta = Uniform(minimum=-4, maximum=2, name='beta', latex_label='beta', unit=None, boundary=None)\n",
      "20:48 bilby INFO    :   wave0 = 12033.765538046935\n",
      "20:48 bilby INFO    : Single likelihood evaluation took 3.891e-05 s\n"
     ]
    },
    {
     "data": {
      "application/vnd.jupyter.widget-view+json": {
       "model_id": "ad1142017c53469bb1bbe1185a2cd581",
       "version_major": 2,
       "version_minor": 0
      },
      "text/plain": [
       "0it [00:00, ?it/s]"
      ]
     },
     "metadata": {},
     "output_type": "display_data"
    },
    {
     "name": "stderr",
     "output_type": "stream",
     "text": [
      "20:48 bilby INFO    : Checkpoint every check_point_delta_t = 600s\n",
      "20:48 bilby WARNING : Using cached result\n",
      "20:48 bilby INFO    : Summary of results:\n",
      "nsamples: 2503\n",
      "ln_noise_evidence:    nan\n",
      "ln_evidence: 233.979 +/-  0.274\n",
      "ln_bayes_factor:    nan +/-  0.274\n",
      "\n",
      "/Users/myue/Research/Projects/JWST/dependencies/msa_spec_utils/LAE_spec_utils.py:426: RuntimeWarning: divide by zero encountered in power\n",
      "  self.err_fnu = (self.ivar_fnu)**-0.5\n",
      "/Users/myue/Research/Projects/JWST/dependencies/msa_spec_utils/LAE_spec_utils.py:432: RuntimeWarning: invalid value encountered in divide\n",
      "  self.flam = self.fnu * speed_of_light_angstrom / (self.wave)**2 * 1e-29 * 1e18\n",
      "/Users/myue/Research/Projects/JWST/dependencies/msa_spec_utils/LAE_spec_utils.py:433: RuntimeWarning: divide by zero encountered in divide\n",
      "  self.err_flam = self.err_fnu * (speed_of_light_angstrom / (self.wave)**2 * 1e-29 * 1e18)\n",
      "20:48 bilby INFO    : Running for label '3117_9799', output will be saved to './bilby_fit_civ_pypeit_v1/'\n",
      "20:48 bilby INFO    : Search parameters:\n",
      "20:48 bilby INFO    :   center = Uniform(minimum=11558.948635106408, maximum=11605.277086549719, name='center', latex_label='center', unit=None, boundary=None)\n",
      "20:48 bilby INFO    :   fwhm = Uniform(minimum=300, maximum=1000, name='fwhm', latex_label='fwhm', unit=None, boundary=None)\n",
      "20:48 bilby INFO    :   flux = Uniform(minimum=-7.6924979325578, maximum=7.6924979325578, name='flux', latex_label='flux', unit=None, boundary=None)\n",
      "20:48 bilby INFO    :   A = Uniform(minimum=-0.037439653721701265, maximum=0.07487930744340253, name='A', latex_label='A', unit=None, boundary=None)\n",
      "20:48 bilby INFO    :   beta = Uniform(minimum=-4, maximum=2, name='beta', latex_label='beta', unit=None, boundary=None)\n",
      "20:48 bilby INFO    :   wave0 = 11582.112860828063\n",
      "20:48 bilby INFO    : Single likelihood evaluation took 3.810e-05 s\n"
     ]
    },
    {
     "data": {
      "application/vnd.jupyter.widget-view+json": {
       "model_id": "8f11733f74994bc78d6ad781fb0a463b",
       "version_major": 2,
       "version_minor": 0
      },
      "text/plain": [
       "0it [00:00, ?it/s]"
      ]
     },
     "metadata": {},
     "output_type": "display_data"
    },
    {
     "name": "stderr",
     "output_type": "stream",
     "text": [
      "20:48 bilby INFO    : Checkpoint every check_point_delta_t = 600s\n",
      "20:48 bilby WARNING : Using cached result\n",
      "20:48 bilby INFO    : Summary of results:\n",
      "nsamples: 2370\n",
      "ln_noise_evidence:    nan\n",
      "ln_evidence: 332.602 +/-  0.257\n",
      "ln_bayes_factor:    nan +/-  0.257\n",
      "\n",
      "20:48 bilby INFO    : Running for label '3117_10290', output will be saved to './bilby_fit_civ_pypeit_v1/'\n",
      "20:48 bilby INFO    : Search parameters:\n",
      "20:48 bilby INFO    :   center = Uniform(minimum=11472.337256050385, maximum=11518.318567697883, name='center', latex_label='center', unit=None, boundary=None)\n",
      "20:48 bilby INFO    :   fwhm = Uniform(minimum=300, maximum=1000, name='fwhm', latex_label='fwhm', unit=None, boundary=None)\n",
      "20:48 bilby INFO    :   flux = Uniform(minimum=-10.012031901258517, maximum=10.012031901258517, name='flux', latex_label='flux', unit=None, boundary=None)\n",
      "20:48 bilby INFO    :   A = Uniform(minimum=-0.04909678883072098, maximum=0.09819357766144196, name='A', latex_label='A', unit=None, boundary=None)\n",
      "20:48 bilby INFO    :   beta = Uniform(minimum=-4, maximum=2, name='beta', latex_label='beta', unit=None, boundary=None)\n",
      "20:48 bilby INFO    :   wave0 = 11495.327911874134\n",
      "20:48 bilby INFO    : Single likelihood evaluation took 3.760e-05 s\n"
     ]
    },
    {
     "data": {
      "application/vnd.jupyter.widget-view+json": {
       "model_id": "600c880c895e44e4ac79bc2f32fd3709",
       "version_major": 2,
       "version_minor": 0
      },
      "text/plain": [
       "0it [00:00, ?it/s]"
      ]
     },
     "metadata": {},
     "output_type": "display_data"
    },
    {
     "name": "stderr",
     "output_type": "stream",
     "text": [
      "20:48 bilby INFO    : Checkpoint every check_point_delta_t = 600s\n",
      "20:48 bilby WARNING : Using cached result\n",
      "20:48 bilby INFO    : Summary of results:\n",
      "nsamples: 2971\n",
      "ln_noise_evidence:    nan\n",
      "ln_evidence: 341.956 +/-  0.310\n",
      "ln_bayes_factor:    nan +/-  0.310\n",
      "\n",
      "/Users/myue/Research/Projects/JWST/dependencies/msa_spec_utils/LAE_spec_utils.py:426: RuntimeWarning: divide by zero encountered in power\n",
      "  self.err_fnu = (self.ivar_fnu)**-0.5\n",
      "/Users/myue/Research/Projects/JWST/dependencies/msa_spec_utils/LAE_spec_utils.py:432: RuntimeWarning: invalid value encountered in divide\n",
      "  self.flam = self.fnu * speed_of_light_angstrom / (self.wave)**2 * 1e-29 * 1e18\n",
      "/Users/myue/Research/Projects/JWST/dependencies/msa_spec_utils/LAE_spec_utils.py:433: RuntimeWarning: divide by zero encountered in divide\n",
      "  self.err_flam = self.err_fnu * (speed_of_light_angstrom / (self.wave)**2 * 1e-29 * 1e18)\n",
      "20:48 bilby INFO    : Running for label '3117_10586', output will be saved to './bilby_fit_civ_pypeit_v1/'\n",
      "20:48 bilby INFO    : Search parameters:\n",
      "20:48 bilby INFO    :   center = Uniform(minimum=10538.711082590497, maximum=10580.950405566811, name='center', latex_label='center', unit=None, boundary=None)\n",
      "20:48 bilby INFO    :   fwhm = Uniform(minimum=300, maximum=1000, name='fwhm', latex_label='fwhm', unit=None, boundary=None)\n",
      "20:48 bilby INFO    :   flux = Uniform(minimum=-10.046216043425584, maximum=10.046216043425584, name='flux', latex_label='flux', unit=None, boundary=None)\n",
      "20:48 bilby INFO    :   A = Uniform(minimum=-0.05362876351445384, maximum=0.10725752702890767, name='A', latex_label='A', unit=None, boundary=None)\n",
      "20:48 bilby INFO    :   beta = Uniform(minimum=-4, maximum=2, name='beta', latex_label='beta', unit=None, boundary=None)\n",
      "20:48 bilby INFO    :   wave0 = 10559.830744078654\n",
      "20:48 bilby INFO    : Single likelihood evaluation took 3.785e-05 s\n"
     ]
    },
    {
     "data": {
      "application/vnd.jupyter.widget-view+json": {
       "model_id": "143642279b6748cba375b53111e6170c",
       "version_major": 2,
       "version_minor": 0
      },
      "text/plain": [
       "0it [00:00, ?it/s]"
      ]
     },
     "metadata": {},
     "output_type": "display_data"
    },
    {
     "name": "stderr",
     "output_type": "stream",
     "text": [
      "20:48 bilby INFO    : Checkpoint every check_point_delta_t = 600s\n",
      "20:48 bilby WARNING : Using cached result\n",
      "20:48 bilby INFO    : Summary of results:\n",
      "nsamples: 2416\n",
      "ln_noise_evidence:    nan\n",
      "ln_evidence: 238.909 +/-  0.261\n",
      "ln_bayes_factor:    nan +/-  0.261\n",
      "\n",
      "/Users/myue/Research/Projects/JWST/dependencies/msa_spec_utils/LAE_spec_utils.py:426: RuntimeWarning: divide by zero encountered in power\n",
      "  self.err_fnu = (self.ivar_fnu)**-0.5\n",
      "/Users/myue/Research/Projects/JWST/dependencies/msa_spec_utils/LAE_spec_utils.py:432: RuntimeWarning: invalid value encountered in divide\n",
      "  self.flam = self.fnu * speed_of_light_angstrom / (self.wave)**2 * 1e-29 * 1e18\n",
      "/Users/myue/Research/Projects/JWST/dependencies/msa_spec_utils/LAE_spec_utils.py:433: RuntimeWarning: divide by zero encountered in divide\n",
      "  self.err_flam = self.err_fnu * (speed_of_light_angstrom / (self.wave)**2 * 1e-29 * 1e18)\n",
      "20:48 bilby INFO    : Running for label '3117_10727', output will be saved to './bilby_fit_civ_pypeit_v1/'\n",
      "20:48 bilby INFO    : Search parameters:\n",
      "20:48 bilby INFO    :   center = Uniform(minimum=10362.247696923992, maximum=10403.779751821485, name='center', latex_label='center', unit=None, boundary=None)\n",
      "20:48 bilby INFO    :   fwhm = Uniform(minimum=300, maximum=1000, name='fwhm', latex_label='fwhm', unit=None, boundary=None)\n",
      "20:48 bilby INFO    :   flux = Uniform(minimum=-11.563511560513142, maximum=11.563511560513142, name='flux', latex_label='flux', unit=None, boundary=None)\n",
      "20:48 bilby INFO    :   A = Uniform(minimum=-0.06277959916768967, maximum=0.12555919833537935, name='A', latex_label='A', unit=None, boundary=None)\n",
      "20:48 bilby INFO    :   beta = Uniform(minimum=-4, maximum=2, name='beta', latex_label='beta', unit=None, boundary=None)\n",
      "20:48 bilby INFO    :   wave0 = 10383.013724372739\n",
      "20:48 bilby INFO    : Single likelihood evaluation took 3.716e-05 s\n"
     ]
    },
    {
     "data": {
      "application/vnd.jupyter.widget-view+json": {
       "model_id": "3d5d0c4a7c43467db1ff2d090d46524a",
       "version_major": 2,
       "version_minor": 0
      },
      "text/plain": [
       "0it [00:00, ?it/s]"
      ]
     },
     "metadata": {},
     "output_type": "display_data"
    },
    {
     "name": "stderr",
     "output_type": "stream",
     "text": [
      "20:48 bilby INFO    : Checkpoint every check_point_delta_t = 600s\n",
      "20:48 bilby WARNING : Using cached result\n",
      "20:48 bilby INFO    : Summary of results:\n",
      "nsamples: 2570\n",
      "ln_noise_evidence:    nan\n",
      "ln_evidence: 251.044 +/-  0.267\n",
      "ln_bayes_factor:    nan +/-  0.267\n",
      "\n",
      "/Users/myue/Research/Projects/JWST/dependencies/msa_spec_utils/LAE_spec_utils.py:426: RuntimeWarning: divide by zero encountered in power\n",
      "  self.err_fnu = (self.ivar_fnu)**-0.5\n",
      "/Users/myue/Research/Projects/JWST/dependencies/msa_spec_utils/LAE_spec_utils.py:432: RuntimeWarning: invalid value encountered in divide\n",
      "  self.flam = self.fnu * speed_of_light_angstrom / (self.wave)**2 * 1e-29 * 1e18\n",
      "/Users/myue/Research/Projects/JWST/dependencies/msa_spec_utils/LAE_spec_utils.py:433: RuntimeWarning: divide by zero encountered in divide\n",
      "  self.err_flam = self.err_fnu * (speed_of_light_angstrom / (self.wave)**2 * 1e-29 * 1e18)\n",
      "20:48 bilby INFO    : Running for label '3117_11709', output will be saved to './bilby_fit_civ_pypeit_v1/'\n",
      "20:48 bilby INFO    : Search parameters:\n",
      "20:48 bilby INFO    :   center = Uniform(minimum=11599.122790897349, maximum=11645.612261001144, name='center', latex_label='center', unit=None, boundary=None)\n",
      "20:48 bilby INFO    :   fwhm = Uniform(minimum=300, maximum=1000, name='fwhm', latex_label='fwhm', unit=None, boundary=None)\n",
      "20:48 bilby INFO    :   flux = Uniform(minimum=-26.92368954568913, maximum=26.92368954568913, name='flux', latex_label='flux', unit=None, boundary=None)\n",
      "20:48 bilby INFO    :   A = Uniform(minimum=-0.13058467035495977, maximum=0.26116934070991954, name='A', latex_label='A', unit=None, boundary=None)\n",
      "20:48 bilby INFO    :   beta = Uniform(minimum=-4, maximum=2, name='beta', latex_label='beta', unit=None, boundary=None)\n",
      "20:48 bilby INFO    :   wave0 = 11622.367525949247\n",
      "20:48 bilby INFO    : Single likelihood evaluation took 3.601e-05 s\n"
     ]
    },
    {
     "data": {
      "application/vnd.jupyter.widget-view+json": {
       "model_id": "7b07873ab1ae4c7191932df4d3c975de",
       "version_major": 2,
       "version_minor": 0
      },
      "text/plain": [
       "0it [00:00, ?it/s]"
      ]
     },
     "metadata": {},
     "output_type": "display_data"
    },
    {
     "name": "stderr",
     "output_type": "stream",
     "text": [
      "20:48 bilby INFO    : Checkpoint every check_point_delta_t = 600s\n",
      "20:48 bilby WARNING : Using cached result\n",
      "20:48 bilby INFO    : Summary of results:\n",
      "nsamples: 3681\n",
      "ln_noise_evidence:    nan\n",
      "ln_evidence: 313.647 +/-  0.364\n",
      "ln_bayes_factor:    nan +/-  0.364\n",
      "\n",
      "/Users/myue/Research/Projects/JWST/dependencies/msa_spec_utils/LAE_spec_utils.py:426: RuntimeWarning: divide by zero encountered in power\n",
      "  self.err_fnu = (self.ivar_fnu)**-0.5\n",
      "/Users/myue/Research/Projects/JWST/dependencies/msa_spec_utils/LAE_spec_utils.py:432: RuntimeWarning: invalid value encountered in divide\n",
      "  self.flam = self.fnu * speed_of_light_angstrom / (self.wave)**2 * 1e-29 * 1e18\n",
      "/Users/myue/Research/Projects/JWST/dependencies/msa_spec_utils/LAE_spec_utils.py:433: RuntimeWarning: divide by zero encountered in divide\n",
      "  self.err_flam = self.err_fnu * (speed_of_light_angstrom / (self.wave)**2 * 1e-29 * 1e18)\n",
      "20:48 bilby INFO    : Running for label '3117_12115', output will be saved to './bilby_fit_civ_pypeit_v1/'\n",
      "20:48 bilby INFO    : Search parameters:\n",
      "20:48 bilby INFO    :   center = Uniform(minimum=12218.295851466479, maximum=12267.266977123658, name='center', latex_label='center', unit=None, boundary=None)\n",
      "20:48 bilby INFO    :   fwhm = Uniform(minimum=300, maximum=1000, name='fwhm', latex_label='fwhm', unit=None, boundary=None)\n",
      "20:48 bilby INFO    :   flux = Uniform(minimum=-7.85554522638513, maximum=7.85554522638513, name='flux', latex_label='flux', unit=None, boundary=None)\n",
      "20:48 bilby INFO    :   A = Uniform(minimum=-0.03616999639026271, maximum=0.07233999278052541, name='A', latex_label='A', unit=None, boundary=None)\n",
      "20:48 bilby INFO    :   beta = Uniform(minimum=-4, maximum=2, name='beta', latex_label='beta', unit=None, boundary=None)\n",
      "20:48 bilby INFO    :   wave0 = 12242.781414295068\n",
      "20:48 bilby INFO    : Single likelihood evaluation took 4.065e-05 s\n"
     ]
    },
    {
     "data": {
      "application/vnd.jupyter.widget-view+json": {
       "model_id": "dedd253366dc4ca88186fe33784c55d8",
       "version_major": 2,
       "version_minor": 0
      },
      "text/plain": [
       "0it [00:00, ?it/s]"
      ]
     },
     "metadata": {},
     "output_type": "display_data"
    },
    {
     "name": "stderr",
     "output_type": "stream",
     "text": [
      "20:48 bilby INFO    : Checkpoint every check_point_delta_t = 600s\n",
      "20:48 bilby WARNING : Using cached result\n",
      "20:48 bilby INFO    : Summary of results:\n",
      "nsamples: 2415\n",
      "ln_noise_evidence:    nan\n",
      "ln_evidence: 392.451 +/-  0.269\n",
      "ln_bayes_factor:    nan +/-  0.269\n",
      "\n",
      "20:48 bilby INFO    : Running for label '3117_12277', output will be saved to './bilby_fit_civ_pypeit_v1/'\n",
      "20:48 bilby INFO    : Search parameters:\n",
      "20:48 bilby INFO    :   center = Uniform(minimum=11461.509639175698, maximum=11507.447553561173, name='center', latex_label='center', unit=None, boundary=None)\n",
      "20:48 bilby INFO    :   fwhm = Uniform(minimum=300, maximum=1000, name='fwhm', latex_label='fwhm', unit=None, boundary=None)\n",
      "20:48 bilby INFO    :   flux = Uniform(minimum=-10.741028101199477, maximum=10.741028101199477, name='flux', latex_label='flux', unit=None, boundary=None)\n",
      "20:48 bilby INFO    :   A = Uniform(minimum=-0.05272138342842561, maximum=0.10544276685685122, name='A', latex_label='A', unit=None, boundary=None)\n",
      "20:48 bilby INFO    :   beta = Uniform(minimum=-4, maximum=2, name='beta', latex_label='beta', unit=None, boundary=None)\n",
      "20:48 bilby INFO    :   wave0 = 11484.478596368435\n",
      "20:48 bilby INFO    : Single likelihood evaluation took 3.681e-05 s\n"
     ]
    },
    {
     "data": {
      "application/vnd.jupyter.widget-view+json": {
       "model_id": "8149311056fe4c9dbd6c835a06e75e4d",
       "version_major": 2,
       "version_minor": 0
      },
      "text/plain": [
       "0it [00:00, ?it/s]"
      ]
     },
     "metadata": {},
     "output_type": "display_data"
    },
    {
     "name": "stderr",
     "output_type": "stream",
     "text": [
      "20:48 bilby INFO    : Checkpoint every check_point_delta_t = 600s\n",
      "20:48 bilby WARNING : Using cached result\n",
      "20:48 bilby INFO    : Summary of results:\n",
      "nsamples: 2656\n",
      "ln_noise_evidence:    nan\n",
      "ln_evidence: 328.607 +/-  0.277\n",
      "ln_bayes_factor:    nan +/-  0.277\n",
      "\n",
      "/Users/myue/Research/Projects/JWST/dependencies/msa_spec_utils/LAE_spec_utils.py:426: RuntimeWarning: divide by zero encountered in power\n",
      "  self.err_fnu = (self.ivar_fnu)**-0.5\n",
      "/Users/myue/Research/Projects/JWST/dependencies/msa_spec_utils/LAE_spec_utils.py:432: RuntimeWarning: invalid value encountered in divide\n",
      "  self.flam = self.fnu * speed_of_light_angstrom / (self.wave)**2 * 1e-29 * 1e18\n",
      "/Users/myue/Research/Projects/JWST/dependencies/msa_spec_utils/LAE_spec_utils.py:433: RuntimeWarning: divide by zero encountered in divide\n",
      "  self.err_flam = self.err_fnu * (speed_of_light_angstrom / (self.wave)**2 * 1e-29 * 1e18)\n",
      "20:48 bilby INFO    : Running for label '3117_13418', output will be saved to './bilby_fit_civ_pypeit_v1/'\n",
      "20:48 bilby INFO    : Search parameters:\n",
      "20:48 bilby INFO    :   center = Uniform(minimum=9937.446278664023, maximum=9977.275722666685, name='center', latex_label='center', unit=None, boundary=None)\n",
      "20:48 bilby INFO    :   fwhm = Uniform(minimum=300, maximum=1000, name='fwhm', latex_label='fwhm', unit=None, boundary=None)\n",
      "20:48 bilby INFO    :   flux = Uniform(minimum=-12.44513218080006, maximum=12.44513218080006, name='flux', latex_label='flux', unit=None, boundary=None)\n",
      "20:48 bilby INFO    :   A = Uniform(minimum=-0.07045429746733584, maximum=0.14090859493467167, name='A', latex_label='A', unit=None, boundary=None)\n",
      "20:48 bilby INFO    :   beta = Uniform(minimum=-4, maximum=2, name='beta', latex_label='beta', unit=None, boundary=None)\n",
      "20:48 bilby INFO    :   wave0 = 9957.361000665354\n",
      "20:48 bilby INFO    : Single likelihood evaluation took 3.757e-05 s\n"
     ]
    },
    {
     "data": {
      "application/vnd.jupyter.widget-view+json": {
       "model_id": "871952d68f51426aaf48ac7163a8a7ef",
       "version_major": 2,
       "version_minor": 0
      },
      "text/plain": [
       "0it [00:00, ?it/s]"
      ]
     },
     "metadata": {},
     "output_type": "display_data"
    },
    {
     "name": "stderr",
     "output_type": "stream",
     "text": [
      "20:48 bilby INFO    : Checkpoint every check_point_delta_t = 600s\n",
      "20:48 bilby WARNING : Using cached result\n",
      "20:48 bilby INFO    : Summary of results:\n",
      "nsamples: 2457\n",
      "ln_noise_evidence:    nan\n",
      "ln_evidence: 234.331 +/-  0.266\n",
      "ln_bayes_factor:    nan +/-  0.266\n",
      "\n",
      "/Users/myue/Research/Projects/JWST/dependencies/msa_spec_utils/LAE_spec_utils.py:426: RuntimeWarning: divide by zero encountered in power\n",
      "  self.err_fnu = (self.ivar_fnu)**-0.5\n",
      "/Users/myue/Research/Projects/JWST/dependencies/msa_spec_utils/LAE_spec_utils.py:432: RuntimeWarning: invalid value encountered in divide\n",
      "  self.flam = self.fnu * speed_of_light_angstrom / (self.wave)**2 * 1e-29 * 1e18\n",
      "/Users/myue/Research/Projects/JWST/dependencies/msa_spec_utils/LAE_spec_utils.py:433: RuntimeWarning: divide by zero encountered in divide\n",
      "  self.err_flam = self.err_fnu * (speed_of_light_angstrom / (self.wave)**2 * 1e-29 * 1e18)\n",
      "20:48 bilby INFO    : Running for label '3117_14101', output will be saved to './bilby_fit_civ_pypeit_v1/'\n",
      "20:48 bilby INFO    : Search parameters:\n",
      "20:48 bilby INFO    :   center = Uniform(minimum=12196.335625975627, maximum=12245.218734696971, name='center', latex_label='center', unit=None, boundary=None)\n",
      "20:48 bilby INFO    :   fwhm = Uniform(minimum=300, maximum=1000, name='fwhm', latex_label='fwhm', unit=None, boundary=None)\n",
      "20:48 bilby INFO    :   flux = Uniform(minimum=-12.357499494856011, maximum=12.357499494856011, name='flux', latex_label='flux', unit=None, boundary=None)\n",
      "20:48 bilby INFO    :   A = Uniform(minimum=-0.05700120061539052, maximum=0.11400240123078104, name='A', latex_label='A', unit=None, boundary=None)\n",
      "20:48 bilby INFO    :   beta = Uniform(minimum=-4, maximum=2, name='beta', latex_label='beta', unit=None, boundary=None)\n",
      "20:48 bilby INFO    :   wave0 = 12220.7771803363\n",
      "20:48 bilby INFO    : Single likelihood evaluation took 4.018e-05 s\n"
     ]
    },
    {
     "data": {
      "application/vnd.jupyter.widget-view+json": {
       "model_id": "8326cedc903941b6836148bf9cc9b9f3",
       "version_major": 2,
       "version_minor": 0
      },
      "text/plain": [
       "0it [00:00, ?it/s]"
      ]
     },
     "metadata": {},
     "output_type": "display_data"
    },
    {
     "name": "stderr",
     "output_type": "stream",
     "text": [
      "20:48 bilby INFO    : Checkpoint every check_point_delta_t = 600s\n",
      "20:48 bilby WARNING : Using cached result\n",
      "20:48 bilby INFO    : Summary of results:\n",
      "nsamples: 3057\n",
      "ln_noise_evidence:    nan\n",
      "ln_evidence: 345.134 +/-  0.306\n",
      "ln_bayes_factor:    nan +/-  0.306\n",
      "\n",
      "20:48 bilby INFO    : Running for label '3117_14236', output will be saved to './bilby_fit_civ_pypeit_v1/'\n",
      "20:48 bilby INFO    : Search parameters:\n",
      "20:48 bilby INFO    :   center = Uniform(minimum=11470.297753212059, maximum=11516.270890499482, name='center', latex_label='center', unit=None, boundary=None)\n",
      "20:48 bilby INFO    :   fwhm = Uniform(minimum=300, maximum=1000, name='fwhm', latex_label='fwhm', unit=None, boundary=None)\n",
      "20:48 bilby INFO    :   flux = Uniform(minimum=-10.595952717077779, maximum=10.595952717077779, name='flux', latex_label='flux', unit=None, boundary=None)\n",
      "20:48 bilby INFO    :   A = Uniform(minimum=-0.05196944619762733, maximum=0.10393889239525465, name='A', latex_label='A', unit=None, boundary=None)\n",
      "20:48 bilby INFO    :   beta = Uniform(minimum=-4, maximum=2, name='beta', latex_label='beta', unit=None, boundary=None)\n",
      "20:48 bilby INFO    :   wave0 = 11493.28432185577\n",
      "20:48 bilby INFO    : Single likelihood evaluation took 3.638e-05 s\n"
     ]
    },
    {
     "data": {
      "application/vnd.jupyter.widget-view+json": {
       "model_id": "751acd862c5544b5b8ccded2f90e2c8f",
       "version_major": 2,
       "version_minor": 0
      },
      "text/plain": [
       "0it [00:00, ?it/s]"
      ]
     },
     "metadata": {},
     "output_type": "display_data"
    },
    {
     "name": "stderr",
     "output_type": "stream",
     "text": [
      "20:48 bilby INFO    : Checkpoint every check_point_delta_t = 600s\n",
      "20:48 bilby WARNING : Using cached result\n",
      "20:48 bilby INFO    : Summary of results:\n",
      "nsamples: 2556\n",
      "ln_noise_evidence:    nan\n",
      "ln_evidence: 313.859 +/-  0.277\n",
      "ln_bayes_factor:    nan +/-  0.277\n",
      "\n",
      "/Users/myue/Research/Projects/JWST/dependencies/msa_spec_utils/LAE_spec_utils.py:426: RuntimeWarning: divide by zero encountered in power\n",
      "  self.err_fnu = (self.ivar_fnu)**-0.5\n",
      "/Users/myue/Research/Projects/JWST/dependencies/msa_spec_utils/LAE_spec_utils.py:432: RuntimeWarning: invalid value encountered in divide\n",
      "  self.flam = self.fnu * speed_of_light_angstrom / (self.wave)**2 * 1e-29 * 1e18\n",
      "/Users/myue/Research/Projects/JWST/dependencies/msa_spec_utils/LAE_spec_utils.py:433: RuntimeWarning: divide by zero encountered in divide\n",
      "  self.err_flam = self.err_fnu * (speed_of_light_angstrom / (self.wave)**2 * 1e-29 * 1e18)\n",
      "20:48 bilby INFO    : Running for label '3117_14780', output will be saved to './bilby_fit_civ_pypeit_v1/'\n",
      "20:48 bilby INFO    : Search parameters:\n",
      "20:48 bilby INFO    :   center = Uniform(minimum=12192.963675224211, maximum=12241.833269112885, name='center', latex_label='center', unit=None, boundary=None)\n",
      "20:48 bilby INFO    :   fwhm = Uniform(minimum=300, maximum=1000, name='fwhm', latex_label='fwhm', unit=None, boundary=None)\n",
      "20:48 bilby INFO    :   flux = Uniform(minimum=-10.679955745589051, maximum=10.679955745589051, name='flux', latex_label='flux', unit=None, boundary=None)\n",
      "20:48 bilby INFO    :   A = Uniform(minimum=-0.049276850468905675, maximum=0.09855370093781135, name='A', latex_label='A', unit=None, boundary=None)\n",
      "20:48 bilby INFO    :   beta = Uniform(minimum=-4, maximum=2, name='beta', latex_label='beta', unit=None, boundary=None)\n",
      "20:48 bilby INFO    :   wave0 = 12217.398472168548\n",
      "20:48 bilby INFO    : Single likelihood evaluation took 3.669e-05 s\n"
     ]
    },
    {
     "data": {
      "application/vnd.jupyter.widget-view+json": {
       "model_id": "24deff049f0e486b846bb53fe91c733a",
       "version_major": 2,
       "version_minor": 0
      },
      "text/plain": [
       "0it [00:00, ?it/s]"
      ]
     },
     "metadata": {},
     "output_type": "display_data"
    },
    {
     "name": "stderr",
     "output_type": "stream",
     "text": [
      "20:48 bilby INFO    : Checkpoint every check_point_delta_t = 600s\n",
      "20:48 bilby WARNING : Using cached result\n",
      "20:48 bilby INFO    : Summary of results:\n",
      "nsamples: 2672\n",
      "ln_noise_evidence:    nan\n",
      "ln_evidence: 338.525 +/-  0.275\n",
      "ln_bayes_factor:    nan +/-  0.275\n",
      "\n",
      "/Users/myue/Research/Projects/JWST/dependencies/msa_spec_utils/LAE_spec_utils.py:426: RuntimeWarning: divide by zero encountered in power\n",
      "  self.err_fnu = (self.ivar_fnu)**-0.5\n",
      "/Users/myue/Research/Projects/JWST/dependencies/msa_spec_utils/LAE_spec_utils.py:432: RuntimeWarning: invalid value encountered in divide\n",
      "  self.flam = self.fnu * speed_of_light_angstrom / (self.wave)**2 * 1e-29 * 1e18\n",
      "/Users/myue/Research/Projects/JWST/dependencies/msa_spec_utils/LAE_spec_utils.py:433: RuntimeWarning: divide by zero encountered in divide\n",
      "  self.err_flam = self.err_fnu * (speed_of_light_angstrom / (self.wave)**2 * 1e-29 * 1e18)\n",
      "20:48 bilby INFO    : Running for label '3117_15411', output will be saved to './bilby_fit_civ_pypeit_v1/'\n",
      "20:48 bilby INFO    : Search parameters:\n",
      "20:48 bilby INFO    :   center = Uniform(minimum=12229.999840250175, maximum=12279.01787568204, name='center', latex_label='center', unit=None, boundary=None)\n",
      "20:48 bilby INFO    :   fwhm = Uniform(minimum=300, maximum=1000, name='fwhm', latex_label='fwhm', unit=None, boundary=None)\n",
      "20:48 bilby INFO    :   flux = Uniform(minimum=-14.154884230369708, maximum=14.154884230369708, name='flux', latex_label='flux', unit=None, boundary=None)\n",
      "20:48 bilby INFO    :   A = Uniform(minimum=-0.06511224045740285, maximum=0.1302244809148057, name='A', latex_label='A', unit=None, boundary=None)\n",
      "20:48 bilby INFO    :   beta = Uniform(minimum=-4, maximum=2, name='beta', latex_label='beta', unit=None, boundary=None)\n",
      "20:48 bilby INFO    :   wave0 = 12254.508857966108\n",
      "20:48 bilby INFO    : Single likelihood evaluation took 4.018e-05 s\n"
     ]
    },
    {
     "data": {
      "application/vnd.jupyter.widget-view+json": {
       "model_id": "0612fcf0a77f46f3b014c0cd027a77b1",
       "version_major": 2,
       "version_minor": 0
      },
      "text/plain": [
       "0it [00:00, ?it/s]"
      ]
     },
     "metadata": {},
     "output_type": "display_data"
    },
    {
     "name": "stderr",
     "output_type": "stream",
     "text": [
      "20:48 bilby INFO    : Checkpoint every check_point_delta_t = 600s\n",
      "20:48 bilby WARNING : Using cached result\n",
      "20:48 bilby INFO    : Summary of results:\n",
      "nsamples: 3274\n",
      "ln_noise_evidence:    nan\n",
      "ln_evidence: 321.361 +/-  0.333\n",
      "ln_bayes_factor:    nan +/-  0.333\n",
      "\n",
      "/Users/myue/Research/Projects/JWST/dependencies/msa_spec_utils/LAE_spec_utils.py:426: RuntimeWarning: divide by zero encountered in power\n",
      "  self.err_fnu = (self.ivar_fnu)**-0.5\n",
      "/Users/myue/Research/Projects/JWST/dependencies/msa_spec_utils/LAE_spec_utils.py:432: RuntimeWarning: invalid value encountered in divide\n",
      "  self.flam = self.fnu * speed_of_light_angstrom / (self.wave)**2 * 1e-29 * 1e18\n",
      "/Users/myue/Research/Projects/JWST/dependencies/msa_spec_utils/LAE_spec_utils.py:433: RuntimeWarning: divide by zero encountered in divide\n",
      "  self.err_flam = self.err_fnu * (speed_of_light_angstrom / (self.wave)**2 * 1e-29 * 1e18)\n",
      "20:48 bilby INFO    : Running for label '3117_16651', output will be saved to './bilby_fit_civ_pypeit_v1/'\n",
      "20:48 bilby INFO    : Search parameters:\n",
      "20:48 bilby INFO    :   center = Uniform(minimum=12217.784448548367, maximum=12266.753524494454, name='center', latex_label='center', unit=None, boundary=None)\n",
      "20:48 bilby INFO    :   fwhm = Uniform(minimum=300, maximum=1000, name='fwhm', latex_label='fwhm', unit=None, boundary=None)\n",
      "20:48 bilby INFO    :   flux = Uniform(minimum=-9.462947119942312, maximum=9.462947119942312, name='flux', latex_label='flux', unit=None, boundary=None)\n",
      "20:48 bilby INFO    :   A = Uniform(minimum=-0.043572925874310366, maximum=0.08714585174862073, name='A', latex_label='A', unit=None, boundary=None)\n",
      "20:48 bilby INFO    :   beta = Uniform(minimum=-4, maximum=2, name='beta', latex_label='beta', unit=None, boundary=None)\n",
      "20:48 bilby INFO    :   wave0 = 12242.26898652141\n",
      "20:48 bilby INFO    : Single likelihood evaluation took 3.530e-05 s\n"
     ]
    },
    {
     "data": {
      "application/vnd.jupyter.widget-view+json": {
       "model_id": "35be49bfeb3d40d79ad1469dcae50383",
       "version_major": 2,
       "version_minor": 0
      },
      "text/plain": [
       "0it [00:00, ?it/s]"
      ]
     },
     "metadata": {},
     "output_type": "display_data"
    },
    {
     "name": "stderr",
     "output_type": "stream",
     "text": [
      "20:48 bilby INFO    : Checkpoint every check_point_delta_t = 600s\n",
      "20:48 bilby WARNING : Using cached result\n",
      "20:48 bilby INFO    : Summary of results:\n",
      "nsamples: 2473\n",
      "ln_noise_evidence:    nan\n",
      "ln_evidence: 323.448 +/-  0.270\n",
      "ln_bayes_factor:    nan +/-  0.270\n",
      "\n",
      "/Users/myue/Research/Projects/JWST/dependencies/msa_spec_utils/LAE_spec_utils.py:426: RuntimeWarning: divide by zero encountered in power\n",
      "  self.err_fnu = (self.ivar_fnu)**-0.5\n",
      "/Users/myue/Research/Projects/JWST/dependencies/msa_spec_utils/LAE_spec_utils.py:432: RuntimeWarning: invalid value encountered in divide\n",
      "  self.flam = self.fnu * speed_of_light_angstrom / (self.wave)**2 * 1e-29 * 1e18\n",
      "/Users/myue/Research/Projects/JWST/dependencies/msa_spec_utils/LAE_spec_utils.py:433: RuntimeWarning: divide by zero encountered in divide\n",
      "  self.err_flam = self.err_fnu * (speed_of_light_angstrom / (self.wave)**2 * 1e-29 * 1e18)\n",
      "20:48 bilby INFO    : Running for label '3117_16736', output will be saved to './bilby_fit_civ_pypeit_v1/'\n",
      "20:48 bilby INFO    : Search parameters:\n",
      "20:48 bilby INFO    :   center = Uniform(minimum=12223.721243501657, maximum=12272.714114217093, name='center', latex_label='center', unit=None, boundary=None)\n",
      "20:48 bilby INFO    :   fwhm = Uniform(minimum=300, maximum=1000, name='fwhm', latex_label='fwhm', unit=None, boundary=None)\n",
      "20:48 bilby INFO    :   flux = Uniform(minimum=-11.509406790651763, maximum=11.509406790651763, name='flux', latex_label='flux', unit=None, boundary=None)\n",
      "20:48 bilby INFO    :   A = Uniform(minimum=-0.05297028036712175, maximum=0.1059405607342435, name='A', latex_label='A', unit=None, boundary=None)\n",
      "20:48 bilby INFO    :   beta = Uniform(minimum=-4, maximum=2, name='beta', latex_label='beta', unit=None, boundary=None)\n",
      "20:48 bilby INFO    :   wave0 = 12248.217678859375\n",
      "20:48 bilby INFO    : Single likelihood evaluation took 3.948e-05 s\n"
     ]
    },
    {
     "data": {
      "application/vnd.jupyter.widget-view+json": {
       "model_id": "e831fe5d1df44133bbc9b671566303a7",
       "version_major": 2,
       "version_minor": 0
      },
      "text/plain": [
       "0it [00:00, ?it/s]"
      ]
     },
     "metadata": {},
     "output_type": "display_data"
    },
    {
     "name": "stderr",
     "output_type": "stream",
     "text": [
      "20:48 bilby INFO    : Checkpoint every check_point_delta_t = 600s\n",
      "20:48 bilby WARNING : Using cached result\n",
      "20:48 bilby INFO    : Summary of results:\n",
      "nsamples: 3042\n",
      "ln_noise_evidence:    nan\n",
      "ln_evidence: 358.679 +/-  0.301\n",
      "ln_bayes_factor:    nan +/-  0.301\n",
      "\n",
      "/Users/myue/Research/Projects/JWST/dependencies/msa_spec_utils/LAE_spec_utils.py:426: RuntimeWarning: divide by zero encountered in power\n",
      "  self.err_fnu = (self.ivar_fnu)**-0.5\n",
      "/Users/myue/Research/Projects/JWST/dependencies/msa_spec_utils/LAE_spec_utils.py:432: RuntimeWarning: invalid value encountered in divide\n",
      "  self.flam = self.fnu * speed_of_light_angstrom / (self.wave)**2 * 1e-29 * 1e18\n",
      "/Users/myue/Research/Projects/JWST/dependencies/msa_spec_utils/LAE_spec_utils.py:433: RuntimeWarning: divide by zero encountered in divide\n",
      "  self.err_flam = self.err_fnu * (speed_of_light_angstrom / (self.wave)**2 * 1e-29 * 1e18)\n",
      "20:48 bilby INFO    : Running for label '3117_16802', output will be saved to './bilby_fit_civ_pypeit_v1/'\n",
      "20:48 bilby INFO    : Search parameters:\n",
      "20:48 bilby INFO    :   center = Uniform(minimum=11431.841946711818, maximum=11477.660952510261, name='center', latex_label='center', unit=None, boundary=None)\n",
      "20:48 bilby INFO    :   fwhm = Uniform(minimum=300, maximum=1000, name='fwhm', latex_label='fwhm', unit=None, boundary=None)\n",
      "20:48 bilby INFO    :   flux = Uniform(minimum=-13.068974858155826, maximum=13.068974858155826, name='flux', latex_label='flux', unit=None, boundary=None)\n",
      "20:48 bilby INFO    :   A = Uniform(minimum=-0.06431437891969263, maximum=0.12862875783938527, name='A', latex_label='A', unit=None, boundary=None)\n",
      "20:48 bilby INFO    :   beta = Uniform(minimum=-4, maximum=2, name='beta', latex_label='beta', unit=None, boundary=None)\n",
      "20:48 bilby INFO    :   wave0 = 11454.75144961104\n",
      "20:48 bilby INFO    : Single likelihood evaluation took 3.527e-05 s\n"
     ]
    },
    {
     "data": {
      "application/vnd.jupyter.widget-view+json": {
       "model_id": "ffc64e973ea14f85b68b689893946507",
       "version_major": 2,
       "version_minor": 0
      },
      "text/plain": [
       "0it [00:00, ?it/s]"
      ]
     },
     "metadata": {},
     "output_type": "display_data"
    },
    {
     "name": "stderr",
     "output_type": "stream",
     "text": [
      "20:48 bilby INFO    : Checkpoint every check_point_delta_t = 600s\n",
      "20:48 bilby WARNING : Using cached result\n",
      "20:48 bilby INFO    : Summary of results:\n",
      "nsamples: 2318\n",
      "ln_noise_evidence:    nan\n",
      "ln_evidence: 298.011 +/-  0.266\n",
      "ln_bayes_factor:    nan +/-  0.266\n",
      "\n",
      "/Users/myue/Research/Projects/JWST/dependencies/msa_spec_utils/LAE_spec_utils.py:426: RuntimeWarning: divide by zero encountered in power\n",
      "  self.err_fnu = (self.ivar_fnu)**-0.5\n",
      "/Users/myue/Research/Projects/JWST/dependencies/msa_spec_utils/LAE_spec_utils.py:432: RuntimeWarning: invalid value encountered in divide\n",
      "  self.flam = self.fnu * speed_of_light_angstrom / (self.wave)**2 * 1e-29 * 1e18\n",
      "/Users/myue/Research/Projects/JWST/dependencies/msa_spec_utils/LAE_spec_utils.py:433: RuntimeWarning: divide by zero encountered in divide\n",
      "  self.err_flam = self.err_fnu * (speed_of_light_angstrom / (self.wave)**2 * 1e-29 * 1e18)\n",
      "20:48 bilby INFO    : Running for label '3117_16972', output will be saved to './bilby_fit_civ_pypeit_v1/'\n",
      "20:48 bilby INFO    : Search parameters:\n",
      "20:48 bilby INFO    :   center = Uniform(minimum=12220.127690541434, maximum=12269.106158238996, name='center', latex_label='center', unit=None, boundary=None)\n",
      "20:48 bilby INFO    :   fwhm = Uniform(minimum=300, maximum=1000, name='fwhm', latex_label='fwhm', unit=None, boundary=None)\n",
      "20:48 bilby INFO    :   flux = Uniform(minimum=-8.76993128542982, maximum=8.76993128542982, name='flux', latex_label='flux', unit=None, boundary=None)\n",
      "20:48 bilby INFO    :   A = Uniform(minimum=-0.04037413357973536, maximum=0.08074826715947073, name='A', latex_label='A', unit=None, boundary=None)\n",
      "20:48 bilby INFO    :   beta = Uniform(minimum=-4, maximum=2, name='beta', latex_label='beta', unit=None, boundary=None)\n",
      "20:48 bilby INFO    :   wave0 = 12244.616924390215\n",
      "20:48 bilby INFO    : Single likelihood evaluation took 3.810e-05 s\n"
     ]
    },
    {
     "data": {
      "application/vnd.jupyter.widget-view+json": {
       "model_id": "04dce1f9ad224001a04c4fa7c46ba92f",
       "version_major": 2,
       "version_minor": 0
      },
      "text/plain": [
       "0it [00:00, ?it/s]"
      ]
     },
     "metadata": {},
     "output_type": "display_data"
    },
    {
     "name": "stderr",
     "output_type": "stream",
     "text": [
      "20:48 bilby INFO    : Checkpoint every check_point_delta_t = 600s\n",
      "20:48 bilby WARNING : Using cached result\n",
      "20:48 bilby INFO    : Summary of results:\n",
      "nsamples: 2593\n",
      "ln_noise_evidence:    nan\n",
      "ln_evidence: 343.164 +/-  0.276\n",
      "ln_bayes_factor:    nan +/-  0.276\n",
      "\n",
      "/Users/myue/Research/Projects/JWST/dependencies/msa_spec_utils/LAE_spec_utils.py:426: RuntimeWarning: divide by zero encountered in power\n",
      "  self.err_fnu = (self.ivar_fnu)**-0.5\n",
      "/Users/myue/Research/Projects/JWST/dependencies/msa_spec_utils/LAE_spec_utils.py:432: RuntimeWarning: invalid value encountered in divide\n",
      "  self.flam = self.fnu * speed_of_light_angstrom / (self.wave)**2 * 1e-29 * 1e18\n",
      "/Users/myue/Research/Projects/JWST/dependencies/msa_spec_utils/LAE_spec_utils.py:433: RuntimeWarning: divide by zero encountered in divide\n",
      "  self.err_flam = self.err_fnu * (speed_of_light_angstrom / (self.wave)**2 * 1e-29 * 1e18)\n",
      "20:48 bilby INFO    : Running for label '3117_17076', output will be saved to './bilby_fit_civ_pypeit_v1/'\n",
      "20:48 bilby INFO    : Search parameters:\n",
      "20:48 bilby INFO    :   center = Uniform(minimum=11521.971981277562, maximum=11568.152229699517, name='center', latex_label='center', unit=None, boundary=None)\n",
      "20:48 bilby INFO    :   fwhm = Uniform(minimum=300, maximum=1000, name='fwhm', latex_label='fwhm', unit=None, boundary=None)\n",
      "20:48 bilby INFO    :   flux = Uniform(minimum=-10.99729486505309, maximum=10.99729486505309, name='flux', latex_label='flux', unit=None, boundary=None)\n",
      "20:48 bilby INFO    :   A = Uniform(minimum=-0.05369598628699334, maximum=0.10739197257398668, name='A', latex_label='A', unit=None, boundary=None)\n",
      "20:48 bilby INFO    :   beta = Uniform(minimum=-4, maximum=2, name='beta', latex_label='beta', unit=None, boundary=None)\n",
      "20:48 bilby INFO    :   wave0 = 11545.06210548854\n",
      "20:48 bilby INFO    : Single likelihood evaluation took 3.854e-05 s\n"
     ]
    },
    {
     "data": {
      "application/vnd.jupyter.widget-view+json": {
       "model_id": "9206ef8845074814a14d3aabe0b9bb3f",
       "version_major": 2,
       "version_minor": 0
      },
      "text/plain": [
       "0it [00:00, ?it/s]"
      ]
     },
     "metadata": {},
     "output_type": "display_data"
    },
    {
     "name": "stderr",
     "output_type": "stream",
     "text": [
      "20:48 bilby INFO    : Checkpoint every check_point_delta_t = 600s\n",
      "20:48 bilby WARNING : Using cached result\n",
      "20:48 bilby INFO    : Summary of results:\n",
      "nsamples: 3664\n",
      "ln_noise_evidence:    nan\n",
      "ln_evidence: 318.768 +/-  0.352\n",
      "ln_bayes_factor:    nan +/-  0.352\n",
      "\n",
      "/Users/myue/Research/Projects/JWST/dependencies/msa_spec_utils/LAE_spec_utils.py:426: RuntimeWarning: divide by zero encountered in power\n",
      "  self.err_fnu = (self.ivar_fnu)**-0.5\n",
      "/Users/myue/Research/Projects/JWST/dependencies/msa_spec_utils/LAE_spec_utils.py:432: RuntimeWarning: invalid value encountered in divide\n",
      "  self.flam = self.fnu * speed_of_light_angstrom / (self.wave)**2 * 1e-29 * 1e18\n",
      "/Users/myue/Research/Projects/JWST/dependencies/msa_spec_utils/LAE_spec_utils.py:433: RuntimeWarning: divide by zero encountered in divide\n",
      "  self.err_flam = self.err_fnu * (speed_of_light_angstrom / (self.wave)**2 * 1e-29 * 1e18)\n",
      "20:48 bilby INFO    : Running for label '3117_17783', output will be saved to './bilby_fit_civ_pypeit_v1/'\n",
      "20:48 bilby INFO    : Search parameters:\n",
      "20:48 bilby INFO    :   center = Uniform(minimum=10706.579550090071, maximum=10749.4916925754, name='center', latex_label='center', unit=None, boundary=None)\n",
      "20:48 bilby INFO    :   fwhm = Uniform(minimum=300, maximum=1000, name='fwhm', latex_label='fwhm', unit=None, boundary=None)\n",
      "20:48 bilby INFO    :   flux = Uniform(minimum=-9.621178253610333, maximum=9.621178253610333, name='flux', latex_label='flux', unit=None, boundary=None)\n",
      "20:48 bilby INFO    :   A = Uniform(minimum=-0.050554553819911585, maximum=0.10110910763982317, name='A', latex_label='A', unit=None, boundary=None)\n",
      "20:48 bilby INFO    :   beta = Uniform(minimum=-4, maximum=2, name='beta', latex_label='beta', unit=None, boundary=None)\n",
      "20:48 bilby INFO    :   wave0 = 10728.035621332736\n",
      "20:48 bilby INFO    : Single likelihood evaluation took 3.801e-05 s\n"
     ]
    },
    {
     "data": {
      "application/vnd.jupyter.widget-view+json": {
       "model_id": "5203a7416be145b78e1b79fa14fadaef",
       "version_major": 2,
       "version_minor": 0
      },
      "text/plain": [
       "0it [00:00, ?it/s]"
      ]
     },
     "metadata": {},
     "output_type": "display_data"
    },
    {
     "name": "stderr",
     "output_type": "stream",
     "text": [
      "20:48 bilby INFO    : Checkpoint every check_point_delta_t = 600s\n",
      "20:48 bilby WARNING : Using cached result\n",
      "20:48 bilby INFO    : Summary of results:\n",
      "nsamples: 2387\n",
      "ln_noise_evidence:    nan\n",
      "ln_evidence: 275.952 +/-  0.260\n",
      "ln_bayes_factor:    nan +/-  0.260\n",
      "\n",
      "/Users/myue/Research/Projects/JWST/dependencies/msa_spec_utils/LAE_spec_utils.py:426: RuntimeWarning: divide by zero encountered in power\n",
      "  self.err_fnu = (self.ivar_fnu)**-0.5\n",
      "/Users/myue/Research/Projects/JWST/dependencies/msa_spec_utils/LAE_spec_utils.py:432: RuntimeWarning: invalid value encountered in divide\n",
      "  self.flam = self.fnu * speed_of_light_angstrom / (self.wave)**2 * 1e-29 * 1e18\n",
      "/Users/myue/Research/Projects/JWST/dependencies/msa_spec_utils/LAE_spec_utils.py:433: RuntimeWarning: divide by zero encountered in divide\n",
      "  self.err_flam = self.err_fnu * (speed_of_light_angstrom / (self.wave)**2 * 1e-29 * 1e18)\n",
      "20:48 bilby INFO    : Running for label '3117_18178', output will be saved to './bilby_fit_civ_pypeit_v1/'\n",
      "20:48 bilby INFO    : Search parameters:\n",
      "20:48 bilby INFO    :   center = Uniform(minimum=10402.900312682508, maximum=10444.595303915703, name='center', latex_label='center', unit=None, boundary=None)\n",
      "20:48 bilby INFO    :   fwhm = Uniform(minimum=300, maximum=1000, name='fwhm', latex_label='fwhm', unit=None, boundary=None)\n",
      "20:48 bilby INFO    :   flux = Uniform(minimum=-14.308463482801576, maximum=14.308463482801576, name='flux', latex_label='flux', unit=None, boundary=None)\n",
      "20:48 bilby INFO    :   A = Uniform(minimum=-0.07737868263137418, maximum=0.15475736526274836, name='A', latex_label='A', unit=None, boundary=None)\n",
      "20:48 bilby INFO    :   beta = Uniform(minimum=-4, maximum=2, name='beta', latex_label='beta', unit=None, boundary=None)\n",
      "20:48 bilby INFO    :   wave0 = 10423.747808299106\n",
      "20:48 bilby INFO    : Single likelihood evaluation took 3.592e-05 s\n"
     ]
    },
    {
     "data": {
      "application/vnd.jupyter.widget-view+json": {
       "model_id": "b7fb088a68f44c5480cb582e022df7fe",
       "version_major": 2,
       "version_minor": 0
      },
      "text/plain": [
       "0it [00:00, ?it/s]"
      ]
     },
     "metadata": {},
     "output_type": "display_data"
    },
    {
     "name": "stderr",
     "output_type": "stream",
     "text": [
      "20:48 bilby INFO    : Checkpoint every check_point_delta_t = 600s\n",
      "20:48 bilby WARNING : Using cached result\n",
      "20:48 bilby INFO    : Summary of results:\n",
      "nsamples: 3310\n",
      "ln_noise_evidence:    nan\n",
      "ln_evidence: 238.592 +/-  0.324\n",
      "ln_bayes_factor:    nan +/-  0.324\n",
      "\n",
      "/Users/myue/Research/Projects/JWST/dependencies/msa_spec_utils/LAE_spec_utils.py:426: RuntimeWarning: divide by zero encountered in power\n",
      "  self.err_fnu = (self.ivar_fnu)**-0.5\n",
      "/Users/myue/Research/Projects/JWST/dependencies/msa_spec_utils/LAE_spec_utils.py:432: RuntimeWarning: invalid value encountered in divide\n",
      "  self.flam = self.fnu * speed_of_light_angstrom / (self.wave)**2 * 1e-29 * 1e18\n",
      "/Users/myue/Research/Projects/JWST/dependencies/msa_spec_utils/LAE_spec_utils.py:433: RuntimeWarning: divide by zero encountered in divide\n",
      "  self.err_flam = self.err_fnu * (speed_of_light_angstrom / (self.wave)**2 * 1e-29 * 1e18)\n",
      "20:48 bilby INFO    : Running for label '3117_18852', output will be saved to './bilby_fit_civ_pypeit_v1/'\n",
      "20:48 bilby INFO    : Search parameters:\n",
      "20:48 bilby INFO    :   center = Uniform(minimum=9953.668947395821, maximum=9993.563412114843, name='center', latex_label='center', unit=None, boundary=None)\n",
      "20:48 bilby INFO    :   fwhm = Uniform(minimum=300, maximum=1000, name='fwhm', latex_label='fwhm', unit=None, boundary=None)\n",
      "20:48 bilby INFO    :   flux = Uniform(minimum=-8.010040748403464, maximum=8.010040748403464, name='flux', latex_label='flux', unit=None, boundary=None)\n",
      "20:48 bilby INFO    :   A = Uniform(minimum=-0.05750890284157109, maximum=0.11501780568314218, name='A', latex_label='A', unit=None, boundary=None)\n",
      "20:48 bilby INFO    :   beta = Uniform(minimum=-4, maximum=2, name='beta', latex_label='beta', unit=None, boundary=None)\n",
      "20:48 bilby INFO    :   wave0 = 9973.616179755332\n",
      "20:48 bilby INFO    : Single likelihood evaluation took 3.654e-05 s\n"
     ]
    },
    {
     "data": {
      "application/vnd.jupyter.widget-view+json": {
       "model_id": "c42cb25f63734149a3f5cf0a2d0a13b1",
       "version_major": 2,
       "version_minor": 0
      },
      "text/plain": [
       "0it [00:00, ?it/s]"
      ]
     },
     "metadata": {},
     "output_type": "display_data"
    },
    {
     "name": "stderr",
     "output_type": "stream",
     "text": [
      "20:48 bilby INFO    : Checkpoint every check_point_delta_t = 600s\n",
      "20:48 bilby WARNING : Using cached result\n",
      "20:48 bilby INFO    : Summary of results:\n",
      "nsamples: 2208\n",
      "ln_noise_evidence:    nan\n",
      "ln_evidence: 244.302 +/-  0.249\n",
      "ln_bayes_factor:    nan +/-  0.249\n",
      "\n",
      "/Users/myue/Research/Projects/JWST/dependencies/msa_spec_utils/LAE_spec_utils.py:426: RuntimeWarning: divide by zero encountered in power\n",
      "  self.err_fnu = (self.ivar_fnu)**-0.5\n",
      "/Users/myue/Research/Projects/JWST/dependencies/msa_spec_utils/LAE_spec_utils.py:432: RuntimeWarning: invalid value encountered in divide\n",
      "  self.flam = self.fnu * speed_of_light_angstrom / (self.wave)**2 * 1e-29 * 1e18\n",
      "/Users/myue/Research/Projects/JWST/dependencies/msa_spec_utils/LAE_spec_utils.py:433: RuntimeWarning: divide by zero encountered in divide\n",
      "  self.err_flam = self.err_fnu * (speed_of_light_angstrom / (self.wave)**2 * 1e-29 * 1e18)\n",
      "20:48 bilby INFO    : Running for label '3117_19229', output will be saved to './bilby_fit_civ_pypeit_v1/'\n",
      "20:48 bilby INFO    : Search parameters:\n",
      "20:48 bilby INFO    :   center = Uniform(minimum=11979.832221151648, maximum=12027.847580755462, name='center', latex_label='center', unit=None, boundary=None)\n",
      "20:48 bilby INFO    :   fwhm = Uniform(minimum=300, maximum=1000, name='fwhm', latex_label='fwhm', unit=None, boundary=None)\n",
      "20:48 bilby INFO    :   flux = Uniform(minimum=-6.2327697986577775, maximum=6.2327697986577775, name='flux', latex_label='flux', unit=None, boundary=None)\n",
      "20:48 bilby INFO    :   A = Uniform(minimum=-0.02926935284474359, maximum=0.05853870568948718, name='A', latex_label='A', unit=None, boundary=None)\n",
      "20:48 bilby INFO    :   beta = Uniform(minimum=-4, maximum=2, name='beta', latex_label='beta', unit=None, boundary=None)\n",
      "20:48 bilby INFO    :   wave0 = 12003.839900953555\n",
      "20:48 bilby INFO    : Single likelihood evaluation took 3.495e-05 s\n"
     ]
    },
    {
     "data": {
      "application/vnd.jupyter.widget-view+json": {
       "model_id": "1ed385160621492d82b228fb956439e0",
       "version_major": 2,
       "version_minor": 0
      },
      "text/plain": [
       "0it [00:00, ?it/s]"
      ]
     },
     "metadata": {},
     "output_type": "display_data"
    },
    {
     "name": "stderr",
     "output_type": "stream",
     "text": [
      "20:48 bilby INFO    : Checkpoint every check_point_delta_t = 600s\n",
      "20:48 bilby WARNING : Using cached result\n",
      "20:48 bilby INFO    : Summary of results:\n",
      "nsamples: 2406\n",
      "ln_noise_evidence:    nan\n",
      "ln_evidence: 383.206 +/-  0.265\n",
      "ln_bayes_factor:    nan +/-  0.265\n",
      "\n",
      "/Users/myue/Research/Projects/JWST/dependencies/msa_spec_utils/LAE_spec_utils.py:426: RuntimeWarning: divide by zero encountered in power\n",
      "  self.err_fnu = (self.ivar_fnu)**-0.5\n",
      "/Users/myue/Research/Projects/JWST/dependencies/msa_spec_utils/LAE_spec_utils.py:432: RuntimeWarning: invalid value encountered in divide\n",
      "  self.flam = self.fnu * speed_of_light_angstrom / (self.wave)**2 * 1e-29 * 1e18\n",
      "/Users/myue/Research/Projects/JWST/dependencies/msa_spec_utils/LAE_spec_utils.py:433: RuntimeWarning: divide by zero encountered in divide\n",
      "  self.err_flam = self.err_fnu * (speed_of_light_angstrom / (self.wave)**2 * 1e-29 * 1e18)\n",
      "20:48 bilby INFO    : Running for label '3117_19514', output will be saved to './bilby_fit_civ_pypeit_v1/'\n",
      "20:48 bilby INFO    : Search parameters:\n",
      "20:48 bilby INFO    :   center = Uniform(minimum=10336.441582404117, maximum=10377.870205980886, name='center', latex_label='center', unit=None, boundary=None)\n",
      "20:48 bilby INFO    :   fwhm = Uniform(minimum=300, maximum=1000, name='fwhm', latex_label='fwhm', unit=None, boundary=None)\n",
      "20:48 bilby INFO    :   flux = Uniform(minimum=-9.069254759536605, maximum=9.069254759536605, name='flux', latex_label='flux', unit=None, boundary=None)\n",
      "20:48 bilby INFO    :   A = Uniform(minimum=-0.04936092800902218, maximum=0.09872185601804435, name='A', latex_label='A', unit=None, boundary=None)\n",
      "20:48 bilby INFO    :   beta = Uniform(minimum=-4, maximum=2, name='beta', latex_label='beta', unit=None, boundary=None)\n",
      "20:48 bilby INFO    :   wave0 = 10357.155894192501\n",
      "20:48 bilby INFO    : Single likelihood evaluation took 4.011e-05 s\n"
     ]
    },
    {
     "data": {
      "application/vnd.jupyter.widget-view+json": {
       "model_id": "186edb8b16e24d4db5b3614508efb9d5",
       "version_major": 2,
       "version_minor": 0
      },
      "text/plain": [
       "0it [00:00, ?it/s]"
      ]
     },
     "metadata": {},
     "output_type": "display_data"
    },
    {
     "name": "stderr",
     "output_type": "stream",
     "text": [
      "20:48 bilby INFO    : Checkpoint every check_point_delta_t = 600s\n",
      "20:48 bilby WARNING : Using cached result\n",
      "20:48 bilby INFO    : Summary of results:\n",
      "nsamples: 2168\n",
      "ln_noise_evidence:    nan\n",
      "ln_evidence: 223.915 +/-  0.247\n",
      "ln_bayes_factor:    nan +/-  0.247\n",
      "\n",
      "/Users/myue/Research/Projects/JWST/dependencies/msa_spec_utils/LAE_spec_utils.py:426: RuntimeWarning: divide by zero encountered in power\n",
      "  self.err_fnu = (self.ivar_fnu)**-0.5\n",
      "/Users/myue/Research/Projects/JWST/dependencies/msa_spec_utils/LAE_spec_utils.py:432: RuntimeWarning: invalid value encountered in divide\n",
      "  self.flam = self.fnu * speed_of_light_angstrom / (self.wave)**2 * 1e-29 * 1e18\n",
      "/Users/myue/Research/Projects/JWST/dependencies/msa_spec_utils/LAE_spec_utils.py:433: RuntimeWarning: divide by zero encountered in divide\n",
      "  self.err_flam = self.err_fnu * (speed_of_light_angstrom / (self.wave)**2 * 1e-29 * 1e18)\n",
      "20:48 bilby INFO    : Running for label '3117_19692', output will be saved to './bilby_fit_civ_pypeit_v1/'\n",
      "20:48 bilby INFO    : Search parameters:\n",
      "20:48 bilby INFO    :   center = Uniform(minimum=12215.049629426745, maximum=12264.007744173947, name='center', latex_label='center', unit=None, boundary=None)\n",
      "20:48 bilby INFO    :   fwhm = Uniform(minimum=300, maximum=1000, name='fwhm', latex_label='fwhm', unit=None, boundary=None)\n",
      "20:48 bilby INFO    :   flux = Uniform(minimum=-10.700603423987067, maximum=10.700603423987067, name='flux', latex_label='flux', unit=None, boundary=None)\n",
      "20:48 bilby INFO    :   A = Uniform(minimum=-0.04928284854226401, maximum=0.09856569708452802, name='A', latex_label='A', unit=None, boundary=None)\n",
      "20:48 bilby INFO    :   beta = Uniform(minimum=-4, maximum=2, name='beta', latex_label='beta', unit=None, boundary=None)\n",
      "20:48 bilby INFO    :   wave0 = 12239.528686800346\n",
      "20:48 bilby INFO    : Single likelihood evaluation took 3.486e-05 s\n"
     ]
    },
    {
     "data": {
      "application/vnd.jupyter.widget-view+json": {
       "model_id": "891f5135e95a48e59a4149e791bf0677",
       "version_major": 2,
       "version_minor": 0
      },
      "text/plain": [
       "0it [00:00, ?it/s]"
      ]
     },
     "metadata": {},
     "output_type": "display_data"
    },
    {
     "name": "stderr",
     "output_type": "stream",
     "text": [
      "20:48 bilby INFO    : Checkpoint every check_point_delta_t = 600s\n",
      "20:48 bilby WARNING : Using cached result\n",
      "20:48 bilby INFO    : Summary of results:\n",
      "nsamples: 1519\n",
      "ln_noise_evidence:    nan\n",
      "ln_evidence: 130.523 +/-  0.179\n",
      "ln_bayes_factor:    nan +/-  0.179\n",
      "\n"
     ]
    }
   ],
   "source": [
    "# summarize the fitting results\n",
    "\n",
    "# I want to compile a table that contain all information I needed for Lya analysis.\n",
    "\n",
    "outdir_pypeit = './bilby_fit_civ_pypeit_v1/'\n",
    "\n",
    "\n",
    "zcivlist_pypeit = []\n",
    "fwhmlist_pypeit = []\n",
    "fluxlist_pypeit = []\n",
    "\n",
    "#hb_masked = np.ma.is_masked(allinfo['f_Hb'])\n",
    "\n",
    "spec1ddir = os.path.abspath(f'../pypeit-reduc/data-release-2/reduced_spec_2/')\n",
    "\n",
    "for index in range(len(LAEinfo)):\n",
    "    \n",
    "    z = LAEinfo['redshift'][index]\n",
    "        \n",
    "    isource = '3117_%d'%(LAEinfo['NUMBER'][index])\n",
    "    label = isource\n",
    "    \n",
    "    if not os.path.exists(outdir_pypeit+f'{isource}_result.json'):\n",
    "        \n",
    "        zcivlist_pypeit.append(-np.ones(7))\n",
    "        fwhmlist_pypeit.append(-np.ones(7))\n",
    "        fluxlist_pypeit.append(-np.ones(7))\n",
    "        continue\n",
    "\n",
    "    spec1dfile = os.path.join(spec1ddir,'spec1d_%s_stack.fits'%isource)\n",
    "    if not os.path.exists(spec1dfile):\n",
    "        spec1dfile = os.path.join(spec1ddir,'manu1d_%s_stack.fits'%isource)\n",
    "    pypeit_spec = LAE.PypeItSpecStacked(filename=spec1dfile, zO3=z, outdir=outdir_pypeit, label=label)\n",
    "\n",
    "    # gather necessary info\n",
    "    pypeit_spec.fit_civ_profile_bilby()\n",
    "    #selectidx_pypeit.append(index)\n",
    "\n",
    "    # generate a uniform sample\n",
    "    samples = pypeit_spec.civ_result.nested_samples\n",
    "    weights = np.array(samples['weights'])\n",
    "    \n",
    "    center_sample = dyfunc.resample_equal(np.array(samples['center']), weights)\n",
    "    fwhm_sample = dyfunc.resample_equal(np.array(samples['fwhm']), weights)\n",
    "    flux_sample = dyfunc.resample_equal(np.array(samples['flux']), weights)\n",
    "    A_sample = dyfunc.resample_equal(np.array(samples['A']), weights)\n",
    "    beta_sample = dyfunc.resample_equal(np.array(samples['beta']), weights)\n",
    "    \n",
    "    zciv_quantile = np.percentile(center_sample, [0.135,2.5,16,50,84,97.5, 99.865]) / 1549\n",
    "    fwhm_quantile = np.percentile(fwhm_sample, [0.135,2.5,16,50,84,97.5, 99.865])\n",
    "    flam_quantile = np.percentile(flux_sample, [0.135,2.5,16,50,84,97.5, 99.865])\n",
    "\n",
    "    zcivlist_pypeit.append(zciv_quantile)\n",
    "    fwhmlist_pypeit.append(fwhm_quantile)\n",
    "    fluxlist_pypeit.append(flam_quantile)\n"
   ]
  },
  {
   "cell_type": "code",
   "execution_count": 27,
   "id": "679470a6-aa01-4c87-8112-22e80b0812f0",
   "metadata": {},
   "outputs": [],
   "source": [
    "LAEinfo['zcivquantile'] = np.array(zcivlist_pypeit)\n",
    "LAEinfo['fwhmcivquantile'] = np.array(fwhmlist_pypeit)\n",
    "LAEinfo['fcivquantile'] = np.array(fluxlist_pypeit)"
   ]
  },
  {
   "cell_type": "code",
   "execution_count": 30,
   "id": "105ae189-863d-45c3-a95c-fa48bc36e736",
   "metadata": {},
   "outputs": [
    {
     "data": {
      "text/html": [
       "<div><i>Table length=4</i>\n",
       "<table id=\"table38847609504\" class=\"table-striped table-bordered table-condensed\">\n",
       "<thead><tr><th>FIELD</th><th>NUMBER</th><th>redshift</th><th>f_Hb</th><th>f_O3_4960</th><th>f_O3_5008</th><th>f_Hb_err</th><th>f_O3_4960_err</th><th>f_O3_5008_err</th><th>MAG_AUTO_F356W_apcor</th><th>MAG_AUTO_F200W_apcor</th><th>MAG_AUTO_F115W_apcor</th><th>fnu_F356W_AUTO_apcor</th><th>enu_F356W_aper_model</th><th>fnu_F200W_AUTO_apcor</th><th>enu_F200W_aper_model</th><th>fnu_F115W_AUTO_apcor</th><th>enu_F115W_aper_model</th><th>CHECK_PHOTOMETRY</th><th>BACKWARD_ONLY</th><th>CATALOG_MISSED</th><th>BACKWARD</th><th>BACKWARD_INFO</th><th>SYSTEMCHAIR</th><th>Groupmembers</th><th>Type</th><th>SN_O3doublet</th><th>CONFID</th><th>USE_COMPLETENESS</th><th>MUV_prosp</th><th>MUV_prosp_16</th><th>MUV_prosp_84</th><th>BETA_prosp</th><th>BETA_prosp_16</th><th>BETA_prosp_84</th><th>EWHb_hybrid</th><th>EWHb_hybrid_16</th><th>EWHb_hybrid_84</th><th>EWO3_hybrid</th><th>EWO3_hybrid_16</th><th>EWO3_hybrid_84</th><th>mstar_16pct</th><th>mstar_50pct</th><th>mstar_84pct</th><th>logzsol_16pct</th><th>logzsol_50pct</th><th>logzsol</th><th>dust2_16pct</th><th>dust2_50pct</th><th>dust2_84pct</th><th>tage_16pct</th><th>tage_50pct</th><th>tage_84pct</th><th>tau_16pct</th><th>tau_50pct</th><th>tau_84pct</th><th>Mstar</th><th>Mstar_16pct_2a</th><th>Mstar_84pct_2a</th><th>kron_radius</th><th>SFR_Hb</th><th>eSFR_Hb</th><th>SFR_prospector_16pct</th><th>SFR_prospector_50pct</th><th>SFR_prospector_84pct</th><th>Sigma_SFR_Hb</th><th>err_Sigma_SFR</th><th>AV</th><th>EBV</th><th>RA</th><th>DEC</th><th>EWquantile</th><th>FWHMquantile</th><th>zlyaquantile</th><th>fluxquantile</th><th>Muv</th><th>EWfromHb</th><th>fesc</th><th>zcivquantile</th><th>fwhmcivquantile</th><th>fcivquantile</th></tr></thead>\n",
       "<thead><tr><th></th><th></th><th></th><th></th><th></th><th></th><th></th><th></th><th></th><th>mag</th><th>mag</th><th>mag</th><th>ct</th><th>ct</th><th>ct</th><th>ct</th><th>ct</th><th>ct</th><th></th><th></th><th></th><th></th><th></th><th></th><th></th><th></th><th></th><th></th><th></th><th></th><th></th><th></th><th></th><th></th><th></th><th></th><th></th><th></th><th></th><th></th><th></th><th></th><th></th><th></th><th></th><th></th><th></th><th></th><th></th><th></th><th></th><th></th><th></th><th></th><th></th><th></th><th></th><th></th><th></th><th>kpc</th><th>solMass / yr</th><th>solMass / yr</th><th></th><th></th><th></th><th>solMass / (yr kpc2)</th><th>solMass / (yr kpc2)</th><th></th><th></th><th></th><th></th><th></th><th></th><th></th><th></th><th></th><th></th><th></th><th></th><th></th><th></th></tr></thead>\n",
       "<thead><tr><th>bytes5</th><th>float64</th><th>float64</th><th>float64</th><th>float64</th><th>float64</th><th>float64</th><th>float64</th><th>float64</th><th>float32</th><th>float32</th><th>float32</th><th>float32</th><th>float64</th><th>float32</th><th>float64</th><th>float32</th><th>float64</th><th>bool</th><th>bool</th><th>bool</th><th>bool</th><th>bytes32</th><th>bool</th><th>bytes19</th><th>bytes7</th><th>float64</th><th>float64</th><th>bool</th><th>float64</th><th>float64</th><th>float64</th><th>float64</th><th>float64</th><th>float64</th><th>float64</th><th>float64</th><th>float64</th><th>float64</th><th>float64</th><th>float64</th><th>float64</th><th>float64</th><th>float64</th><th>float64</th><th>float64</th><th>float64</th><th>float64</th><th>float64</th><th>float64</th><th>float64</th><th>float64</th><th>float64</th><th>float64</th><th>float64</th><th>float64</th><th>float64</th><th>float64</th><th>float64</th><th>float32</th><th>float64</th><th>float64</th><th>float64</th><th>float64</th><th>float64</th><th>float32</th><th>float32</th><th>float64</th><th>float64</th><th>float64</th><th>float64</th><th>float64[7]</th><th>float64[7]</th><th>float64[7]</th><th>float64[7]</th><th>float64</th><th>float64[2]</th><th>float64[7]</th><th>float64[7]</th><th>float64[7]</th><th>float64[7]</th></tr></thead>\n",
       "<tr><td>J1148</td><td>3607.0</td><td>5.449231251721088</td><td>1.4198599817561552</td><td>1.649393061811899</td><td>4.058861835029203</td><td>0.3733368742678631</td><td>0.21409173821823532</td><td>0.2975728742071325</td><td>27.129108</td><td>27.700151</td><td>27.725073</td><td>51.092506</td><td>2.2185395036316407</td><td>30.195332</td><td>1.342044071315567</td><td>29.510126</td><td>2.118700166321312</td><td>False</td><td>True</td><td>False</td><td>False</td><td>--</td><td>False</td><td>--</td><td>Singlet</td><td>15.617881774902344</td><td>2.0</td><td>False</td><td>-18.975207000188234</td><td>-19.09451817734462</td><td>-18.861167666251625</td><td>-2.0923266674767382</td><td>-2.4857014175148273</td><td>-1.8468785030753312</td><td>278.9077783921193</td><td>197.78798733421542</td><td>382.58562505892877</td><td>950.8019111413369</td><td>773.6407212269185</td><td>1201.0855150644475</td><td>37795963.25907955</td><td>62987416.49945554</td><td>122022370.8149515</td><td>-1.2525477653749255</td><td>-0.9612078169696454</td><td>-0.12943184072764743</td><td>0.2826061228712929</td><td>0.43019696224163195</td><td>0.5791499880065722</td><td>0.004017961361539545</td><td>0.029024044433197053</td><td>0.06491340081346131</td><td>3.55877188462793</td><td>10.18670000592193</td><td>16.7312528159555</td><td>7.79925379563293</td><td>7.577445418146121</td><td>8.086439458796415</td><td>0.3097333</td><td>5.901938304736015</td><td>1.5518510466691398</td><td>1.5464837476226039</td><td>2.1241156580072396</td><td>3.446180175103515</td><td>3.1332061</td><td>0.82384276</td><td>-0.18683216683308235</td><td>0.13585156000724846</td><td>177.09877404486716</td><td>52.839513868554405</td><td>61.657305187160276 .. 176.7193585835455</td><td>357.1651147130313 .. 546.9292409609922</td><td>6.454962015249012 .. 6.456699365812376</td><td>12.445250854995601 .. 18.035362411629002</td><td>-18.80663139695369</td><td>364.487793741884 .. 95.83813571256366</td><td>0.1691615089607735 .. 0.4848430087858888</td><td>6.447568702315265 .. 6.45400516366952</td><td>448.35885433883027 .. 997.186997999835</td><td>2.1680970266283945 .. 4.623912286984989</td></tr>\n",
       "<tr><td>J1148</td><td>9314.0</td><td>6.156082161906296</td><td>1.0535878211638594</td><td>1.826981537892447</td><td>6.718282236681661</td><td>0.1414461599844973</td><td>0.12154760767711317</td><td>0.1761067066082999</td><td>26.211275</td><td>27.124037</td><td>26.96251</td><td>118.98446</td><td>2.374468564909201</td><td>51.331738</td><td>2.182439389257191</td><td>59.56576</td><td>3.3388090403898665</td><td>False</td><td>False</td><td>False</td><td>True</td><td>1a_213,2a_1710,</td><td>False</td><td>--</td><td>Singlet</td><td>11.7622709274292</td><td>3.0</td><td>True</td><td>-19.926780866341826</td><td>-20.015697952967272</td><td>-19.834579132661975</td><td>-2.3518445540965436</td><td>-2.5372731549755567</td><td>-2.1598147858153087</td><td>101.40934973277456</td><td>82.02740267181741</td><td>129.46915421145994</td><td>620.4495185045058</td><td>530.1845552206316</td><td>749.4406324096158</td><td>77304072.1411636</td><td>168475941.23332083</td><td>412831956.1049894</td><td>-0.7653527921687875</td><td>-0.5759899079931753</td><td>-0.41234966082978747</td><td>0.15349141278536094</td><td>0.25508605451811933</td><td>0.34138984299834546</td><td>0.02092978820342429</td><td>0.05027477457140235</td><td>0.14575736132893627</td><td>3.4291115334957993</td><td>8.533784174942042</td><td>15.690301528400227</td><td>8.226537891346132</td><td>7.888202371820735</td><td>8.615773307376191</td><td>0.3282366</td><td>5.0989330354935065</td><td>0.6845414149642913</td><td>0.7645239867845234</td><td>1.1055106730522564</td><td>1.8497713901635218</td><td>2.4103239</td><td>0.32359052</td><td>-0.1107824658876913</td><td>0.08055342432408033</td><td>177.08212797013329</td><td>52.875876740380434</td><td>79.15468340742915 .. 142.10364529598178</td><td>455.94969375569275 .. 574.7338376452705</td><td>7.163571944475365 .. 7.164736249149087</td><td>15.923829388943135 .. 19.631167201893625</td><td>-19.791030684296103</td><td>135.81912070507659 .. 18.233974131346958</td><td>0.5827948450594743 .. 1.0462712802017888</td><td>7.157152879553362 .. 7.162423850066022</td><td>300.4440890858604 .. 949.4654551015642</td><td>1.9260911078444707 .. 4.302419056160371</td></tr>\n",
       "<tr><td>J1148</td><td>11709.0</td><td>6.50314236665542</td><td>1.3960140726482329</td><td>2.7112808898710483</td><td>7.495865987972272</td><td>0.10565099453020939</td><td>0.12470912240356258</td><td>0.15228575493325172</td><td>25.524256</td><td>25.990469</td><td>26.10211</td><td>224.02591</td><td>3.985970642210495</td><td>145.8186</td><td>3.7776076425074896</td><td>131.56976</td><td>5.805306347955889</td><td>False</td><td>False</td><td>False</td><td>True</td><td>3a_1354,4a_498,</td><td>False</td><td>--</td><td>Singlet</td><td>26.720073699951172</td><td>3.0</td><td>True</td><td>-20.980086859142446</td><td>-21.035140887344447</td><td>-20.920337428476746</td><td>-2.3918649164435233</td><td>-2.5276913868562865</td><td>-2.2817243378336256</td><td>57.28995600733827</td><td>50.79617031856607</td><td>64.18970961781213</td><td>342.34868689401776</td><td>310.36259735118904</td><td>381.62469747183053</td><td>656176044.8240942</td><td>1095901950.7550344</td><td>1529397133.9588497</td><td>-0.9444501641492553</td><td>-0.7786834473966792</td><td>-0.45222118628198854</td><td>0.0305559331282549</td><td>0.08934030052942386</td><td>0.15827158821834644</td><td>0.16465026695306884</td><td>0.3098564891885031</td><td>0.48120863428434796</td><td>3.638737561449086</td><td>10.3722075605141</td><td>16.881095202974944</td><td>9.039771699996086</td><td>8.817020371446844</td><td>9.184520271999752</td><td>0.3033247</td><td>6.772724163543632</td><td>0.5125629157876463</td><td>1.7198887212652256</td><td>2.066443583106467</td><td>2.60197837363669</td><td>3.7490215</td><td>0.2837277</td><td>-0.03879999953150697</td><td>0.028212703165536424</td><td>177.0827163112276</td><td>52.91159729595587</td><td>-2.152925602354247 .. 11.277207924064363</td><td>300.3595170803835 .. 999.0028712163569</td><td>7.490654444967652 .. 7.517833100704622</td><td>-0.620920842201674 .. 3.0172489028083427</td><td>-20.716526997661084</td><td>96.0469461908652 .. 7.268877574711502</td><td>-0.02241534674174791 .. 0.117413497995597</td><td>7.503954276112083 .. 7.510054253061428</td><td>728.1458423484854 .. 999.4800062490034</td><td>1.9853893301710692 .. 3.2234173679239895</td></tr>\n",
       "<tr><td>J1148</td><td>14101.0</td><td>6.8894623501202705</td><td>1.3662870581483078</td><td>1.648306930910648</td><td>4.7510212548842805</td><td>0.3551593399660745</td><td>0.19377717000682773</td><td>0.3917216558723263</td><td>26.471104</td><td>27.079489</td><td>27.20116</td><td>93.661095</td><td>5.120848115106</td><td>53.481632</td><td>4.119094721613525</td><td>47.81192</td><td>6.283106316413595</td><td>False</td><td>False</td><td>False</td><td>True</td><td>1a_1685,</td><td>False</td><td>--</td><td>Singlet</td><td>9.077615737915039</td><td>2.0</td><td>True</td><td>-19.93304937822039</td><td>-20.044415852498194</td><td>-19.8112727887735</td><td>-2.0774971556570927</td><td>-2.3023858008203812</td><td>-1.8815100160742797</td><td>188.67867393658892</td><td>133.6513674726091</td><td>253.63198994570257</td><td>684.544100882058</td><td>575.8479219641544</td><td>851.7908649036913</td><td>134883064.45057818</td><td>265260837.77658743</td><td>468591843.0255458</td><td>-1.2598713093624805</td><td>-1.082224777705558</td><td>-0.812450422939155</td><td>0.21842548774737602</td><td>0.3490309656682409</td><td>0.48182826534960477</td><td>0.0401009272846813</td><td>0.0815541242167778</td><td>0.15810779588102084</td><td>3.353725625524379</td><td>9.996273839249314</td><td>16.903821524416696</td><td>8.423673136929322</td><td>8.129957424265081</td><td>8.670794724380817</td><td>0.3669009</td><td>9.20723496531438</td><td>2.393373686511683</td><td>1.1916720901256075</td><td>1.5618541953402254</td><td>2.1512973207961297</td><td>3.4833875</td><td>0.9054887</td><td>-0.15158222240308034</td><td>0.11022021385226373</td><td>177.04512661197705</td><td>52.87542909721438</td><td>28.994747320467205 .. 61.76220403378651</td><td>301.6263545252355 .. 556.5241565649651</td><td>7.895060997829265 .. 7.89852855654097</td><td>3.9095353280606417 .. 7.03166581855279</td><td>-19.71885284469036</td><td>270.2531486741445 .. 70.25092518767296</td><td>0.10728736172997334 .. 0.22853463257242482</td><td>7.884197743626162 .. 7.902337268160155</td><td>300.5458574504156 .. 998.6826901959893</td><td>0.21567381504495978 .. 1.3911003716035841</td></tr>\n",
       "</table></div>"
      ],
      "text/plain": [
       "<Table length=4>\n",
       "FIELD   NUMBER ...                fcivquantile              \n",
       "               ...                                          \n",
       "bytes5 float64 ...                 float64[7]               \n",
       "------ ------- ... -----------------------------------------\n",
       " J1148  3607.0 ...   2.1680970266283945 .. 4.623912286984989\n",
       " J1148  9314.0 ...   1.9260911078444707 .. 4.302419056160371\n",
       " J1148 11709.0 ...  1.9853893301710692 .. 3.2234173679239895\n",
       " J1148 14101.0 ... 0.21567381504495978 .. 1.3911003716035841"
      ]
     },
     "execution_count": 30,
     "metadata": {},
     "output_type": "execute_result"
    }
   ],
   "source": [
    "LAEinfo[LAEinfo['fcivquantile'][:,0]>0]"
   ]
  },
  {
   "cell_type": "code",
   "execution_count": null,
   "id": "2530a95a-e891-4def-98b8-77f2da2ac166",
   "metadata": {},
   "outputs": [],
   "source": []
  },
  {
   "cell_type": "code",
   "execution_count": null,
   "id": "a2e30f26-6730-4d00-bf3d-84573f819449",
   "metadata": {},
   "outputs": [],
   "source": []
  }
 ],
 "metadata": {
  "kernelspec": {
   "display_name": "Python 3 (ipykernel)",
   "language": "python",
   "name": "python3"
  },
  "language_info": {
   "codemirror_mode": {
    "name": "ipython",
    "version": 3
   },
   "file_extension": ".py",
   "mimetype": "text/x-python",
   "name": "python",
   "nbconvert_exporter": "python",
   "pygments_lexer": "ipython3",
   "version": "3.12.9"
  }
 },
 "nbformat": 4,
 "nbformat_minor": 5
}
