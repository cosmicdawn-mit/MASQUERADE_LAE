{
 "cells": [
  {
   "cell_type": "code",
   "execution_count": 1,
   "id": "039cc179-1dc9-4f67-bd6c-4bd73eaa790e",
   "metadata": {},
   "outputs": [
    {
     "data": {
      "text/plain": [
       "<module 'LAE_spec_utils' from '/Users/myue/Research/Projects/JWST/dependencies/msa_spec_utils/LAE_spec_utils.py'>"
      ]
     },
     "execution_count": 1,
     "metadata": {},
     "output_type": "execute_result"
    }
   ],
   "source": [
    "import os, sys\n",
    "sys.path.append('/Users/myue/Research/Projects/JWST/dependencies/msa_spec_utils/')\n",
    "\n",
    "import LAE_spec_utils as LAE\n",
    "\n",
    "import numpy as np\n",
    "from astropy.io import fits\n",
    "\n",
    "import matplotlib.pyplot as plt\n",
    "from astropy.table import Table, vstack, hstack\n",
    "from astropy import units\n",
    "\n",
    "import bilby\n",
    "from dynesty import utils as dyfunc\n",
    "\n",
    "import importlib\n",
    "importlib.reload(LAE)"
   ]
  },
  {
   "cell_type": "code",
   "execution_count": 17,
   "id": "1eb33a3b-daa1-41be-9d3b-ff89336d09a9",
   "metadata": {},
   "outputs": [],
   "source": [
    "allinfo = Table.read('../../J0100_photcat_v4_O3CANDIDATES_all_CLUMPS.fits')\n",
    "lyainfo = Table.read('../../data/lya_saves/lyainfo_J0100_msaexp_pypeit.fits')"
   ]
  },
  {
   "cell_type": "code",
   "execution_count": 18,
   "id": "58045735-085d-4ba5-8aa3-a5ec6be41d71",
   "metadata": {},
   "outputs": [],
   "source": [
    "if not os.path.isdir('../../data/civ_saves/J0100/plotfit_msaexp_pypeit/'):\n",
    "\n",
    "    os.system('mkdir -p ../../data/civ_saves/J0100/plotfit_msaexp_pypeit/corner/')\n",
    "    os.system('mkdir -p ../../data/civ_saves/J0100/plotfit_msaexp_pypeit/bestfit/')"
   ]
  },
  {
   "cell_type": "code",
   "execution_count": 45,
   "id": "0327f140-09ab-4b18-b597-d664f110d289",
   "metadata": {
    "scrolled": true
   },
   "outputs": [
    {
     "name": "stderr",
     "output_type": "stream",
     "text": [
      "/Users/myue/Research/Projects/JWST/dependencies/msa_spec_utils/LAE_spec_utils.py:464: RuntimeWarning: divide by zero encountered in power\n",
      "  self.err_fnu = (self.ivar_fnu)**-0.5\n",
      "/Users/myue/Research/Projects/JWST/dependencies/msa_spec_utils/LAE_spec_utils.py:470: RuntimeWarning: invalid value encountered in divide\n",
      "  self.flam = self.fnu * speed_of_light_angstrom / (self.wave)**2 * 1e-29 * 1e18\n",
      "/Users/myue/Research/Projects/JWST/dependencies/msa_spec_utils/LAE_spec_utils.py:471: RuntimeWarning: divide by zero encountered in divide\n",
      "  self.err_flam = self.err_fnu * (speed_of_light_angstrom / (self.wave)**2 * 1e-29 * 1e18)\n",
      "14:02 bilby INFO    : Running for label '4713_30', output will be saved to '../../data/civ_saves/J0100/bilby_fit_civ_msaexp_pypeit_v2/'\n",
      "14:02 bilby INFO    : Search parameters:\n",
      "14:02 bilby INFO    :   center = Uniform(minimum=10734.074267730564, maximum=10777.096609484994, name='center', latex_label='center', unit=None, boundary=None)\n",
      "14:02 bilby INFO    :   fwhm = Uniform(minimum=300, maximum=1000, name='fwhm', latex_label='fwhm', unit=None, boundary=None)\n",
      "14:02 bilby INFO    :   flux = Uniform(minimum=-15.594914588744402, maximum=15.594914588744402, name='flux', latex_label='flux', unit=None, boundary=None)\n",
      "14:02 bilby INFO    :   A = Uniform(minimum=-0.08173370268508576, maximum=0.16346740537017151, name='A', latex_label='A', unit=None, boundary=None)\n",
      "14:02 bilby INFO    :   beta = Uniform(minimum=-4, maximum=2, name='beta', latex_label='beta', unit=None, boundary=None)\n",
      "14:02 bilby INFO    :   wave0 = 10755.585438607779\n",
      "14:02 bilby INFO    : Single likelihood evaluation took 4.885e-05 s\n"
     ]
    },
    {
     "data": {
      "application/vnd.jupyter.widget-view+json": {
       "model_id": "66d4080ca0e244bbafbf61172f0279e6",
       "version_major": 2,
       "version_minor": 0
      },
      "text/plain": [
       "0it [00:00, ?it/s]"
      ]
     },
     "metadata": {},
     "output_type": "display_data"
    },
    {
     "name": "stderr",
     "output_type": "stream",
     "text": [
      "14:02 bilby INFO    : Checkpoint every check_point_delta_t = 600s\n",
      "14:02 bilby WARNING : Using cached result\n",
      "14:02 bilby INFO    : Summary of results:\n",
      "nsamples: 2675\n",
      "ln_noise_evidence:    nan\n",
      "ln_evidence: 272.049 +/-  0.290\n",
      "ln_bayes_factor:    nan +/-  0.290\n",
      "\n",
      "/Users/myue/Research/Projects/JWST/dependencies/msa_spec_utils/LAE_spec_utils.py:464: RuntimeWarning: divide by zero encountered in power\n",
      "  self.err_fnu = (self.ivar_fnu)**-0.5\n",
      "/Users/myue/Research/Projects/JWST/dependencies/msa_spec_utils/LAE_spec_utils.py:470: RuntimeWarning: invalid value encountered in divide\n",
      "  self.flam = self.fnu * speed_of_light_angstrom / (self.wave)**2 * 1e-29 * 1e18\n",
      "/Users/myue/Research/Projects/JWST/dependencies/msa_spec_utils/LAE_spec_utils.py:471: RuntimeWarning: divide by zero encountered in divide\n",
      "  self.err_flam = self.err_fnu * (speed_of_light_angstrom / (self.wave)**2 * 1e-29 * 1e18)\n",
      "14:02 bilby INFO    : Running for label '4713_1228', output will be saved to '../../data/civ_saves/J0100/bilby_fit_civ_msaexp_pypeit_v2/'\n",
      "14:02 bilby INFO    : Search parameters:\n",
      "14:02 bilby INFO    :   center = Uniform(minimum=11335.796561087665, maximum=11381.230615440722, name='center', latex_label='center', unit=None, boundary=None)\n",
      "14:02 bilby INFO    :   fwhm = Uniform(minimum=300, maximum=1000, name='fwhm', latex_label='fwhm', unit=None, boundary=None)\n",
      "14:02 bilby INFO    :   flux = Uniform(minimum=-15.842315522885116, maximum=15.842315522885116, name='flux', latex_label='flux', unit=None, boundary=None)\n",
      "14:02 bilby INFO    :   A = Uniform(minimum=-0.07862295896393846, maximum=0.15724591792787693, name='A', latex_label='A', unit=None, boundary=None)\n",
      "14:02 bilby INFO    :   beta = Uniform(minimum=-4, maximum=2, name='beta', latex_label='beta', unit=None, boundary=None)\n",
      "14:02 bilby INFO    :   wave0 = 11358.513588264193\n",
      "14:02 bilby INFO    : Single likelihood evaluation took 3.865e-05 s\n"
     ]
    },
    {
     "data": {
      "application/vnd.jupyter.widget-view+json": {
       "model_id": "f0245b0e0d5b467b8314c5bdff58d935",
       "version_major": 2,
       "version_minor": 0
      },
      "text/plain": [
       "0it [00:00, ?it/s]"
      ]
     },
     "metadata": {},
     "output_type": "display_data"
    },
    {
     "name": "stderr",
     "output_type": "stream",
     "text": [
      "14:02 bilby INFO    : Checkpoint every check_point_delta_t = 600s\n",
      "14:02 bilby WARNING : Using cached result\n",
      "14:02 bilby INFO    : Summary of results:\n",
      "nsamples: 2561\n",
      "ln_noise_evidence:    nan\n",
      "ln_evidence: 292.325 +/-  0.280\n",
      "ln_bayes_factor:    nan +/-  0.280\n",
      "\n",
      "/Users/myue/Research/Projects/JWST/dependencies/msa_spec_utils/LAE_spec_utils.py:464: RuntimeWarning: divide by zero encountered in power\n",
      "  self.err_fnu = (self.ivar_fnu)**-0.5\n",
      "/Users/myue/Research/Projects/JWST/dependencies/msa_spec_utils/LAE_spec_utils.py:470: RuntimeWarning: invalid value encountered in divide\n",
      "  self.flam = self.fnu * speed_of_light_angstrom / (self.wave)**2 * 1e-29 * 1e18\n",
      "/Users/myue/Research/Projects/JWST/dependencies/msa_spec_utils/LAE_spec_utils.py:471: RuntimeWarning: divide by zero encountered in divide\n",
      "  self.err_flam = self.err_fnu * (speed_of_light_angstrom / (self.wave)**2 * 1e-29 * 1e18)\n",
      "14:02 bilby INFO    : Running for label '4713_2007', output will be saved to '../../data/civ_saves/J0100/bilby_fit_civ_msaexp_pypeit_v2/'\n",
      "14:02 bilby INFO    : Search parameters:\n",
      "14:02 bilby INFO    :   center = Uniform(minimum=12011.103312398072, maximum=12059.244007036943, name='center', latex_label='center', unit=None, boundary=None)\n",
      "14:02 bilby INFO    :   fwhm = Uniform(minimum=300, maximum=1000, name='fwhm', latex_label='fwhm', unit=None, boundary=None)\n",
      "14:02 bilby INFO    :   flux = Uniform(minimum=-9.118109693301683, maximum=9.118109693301683, name='flux', latex_label='flux', unit=None, boundary=None)\n",
      "14:02 bilby INFO    :   A = Uniform(minimum=-0.04270755206433182, maximum=0.08541510412866364, name='A', latex_label='A', unit=None, boundary=None)\n",
      "14:02 bilby INFO    :   beta = Uniform(minimum=-4, maximum=2, name='beta', latex_label='beta', unit=None, boundary=None)\n",
      "14:02 bilby INFO    :   wave0 = 12035.173659717508\n",
      "14:02 bilby INFO    : Single likelihood evaluation took 3.781e-05 s\n"
     ]
    },
    {
     "data": {
      "application/vnd.jupyter.widget-view+json": {
       "model_id": "7ec7323ad1e846aba6603e3de1c6376c",
       "version_major": 2,
       "version_minor": 0
      },
      "text/plain": [
       "0it [00:00, ?it/s]"
      ]
     },
     "metadata": {},
     "output_type": "display_data"
    },
    {
     "name": "stderr",
     "output_type": "stream",
     "text": [
      "14:02 bilby INFO    : Checkpoint every check_point_delta_t = 600s\n",
      "14:02 bilby WARNING : Using cached result\n",
      "14:02 bilby INFO    : Summary of results:\n",
      "nsamples: 2369\n",
      "ln_noise_evidence:    nan\n",
      "ln_evidence: 338.389 +/-  0.257\n",
      "ln_bayes_factor:    nan +/-  0.257\n",
      "\n",
      "14:02 bilby INFO    : Running for label '4713_2084', output will be saved to '../../data/civ_saves/J0100/bilby_fit_civ_msaexp_pypeit_v2/'\n",
      "14:02 bilby INFO    : Search parameters:\n",
      "14:02 bilby INFO    :   center = Uniform(minimum=12008.041788874192, maximum=12056.170212877694, name='center', latex_label='center', unit=None, boundary=None)\n",
      "14:02 bilby INFO    :   fwhm = Uniform(minimum=300, maximum=1000, name='fwhm', latex_label='fwhm', unit=None, boundary=None)\n",
      "14:02 bilby INFO    :   flux = Uniform(minimum=-7.6198450237763735, maximum=7.6198450237763735, name='flux', latex_label='flux', unit=None, boundary=None)\n",
      "14:02 bilby INFO    :   A = Uniform(minimum=-0.03569905474873373, maximum=0.07139810949746746, name='A', latex_label='A', unit=None, boundary=None)\n",
      "14:02 bilby INFO    :   beta = Uniform(minimum=-4, maximum=2, name='beta', latex_label='beta', unit=None, boundary=None)\n",
      "14:02 bilby INFO    :   wave0 = 12032.106000875943\n",
      "14:02 bilby INFO    : Single likelihood evaluation took 4.043e-05 s\n"
     ]
    },
    {
     "data": {
      "application/vnd.jupyter.widget-view+json": {
       "model_id": "398d2835a0224ae092fee939eb6c2497",
       "version_major": 2,
       "version_minor": 0
      },
      "text/plain": [
       "0it [00:00, ?it/s]"
      ]
     },
     "metadata": {},
     "output_type": "display_data"
    },
    {
     "name": "stderr",
     "output_type": "stream",
     "text": [
      "14:02 bilby INFO    : Checkpoint every check_point_delta_t = 600s\n",
      "14:02 bilby WARNING : Using cached result\n",
      "14:02 bilby INFO    : Summary of results:\n",
      "nsamples: 2860\n",
      "ln_noise_evidence:    nan\n",
      "ln_evidence: 373.928 +/-  0.294\n",
      "ln_bayes_factor:    nan +/-  0.294\n",
      "\n",
      "/Users/myue/Research/Projects/JWST/dependencies/msa_spec_utils/LAE_spec_utils.py:464: RuntimeWarning: divide by zero encountered in power\n",
      "  self.err_fnu = (self.ivar_fnu)**-0.5\n",
      "/Users/myue/Research/Projects/JWST/dependencies/msa_spec_utils/LAE_spec_utils.py:470: RuntimeWarning: invalid value encountered in divide\n",
      "  self.flam = self.fnu * speed_of_light_angstrom / (self.wave)**2 * 1e-29 * 1e18\n",
      "/Users/myue/Research/Projects/JWST/dependencies/msa_spec_utils/LAE_spec_utils.py:471: RuntimeWarning: divide by zero encountered in divide\n",
      "  self.err_flam = self.err_fnu * (speed_of_light_angstrom / (self.wave)**2 * 1e-29 * 1e18)\n",
      "14:02 bilby INFO    : Running for label '4713_2159', output will be saved to '../../data/civ_saves/J0100/bilby_fit_civ_msaexp_pypeit_v2/'\n",
      "14:02 bilby INFO    : Search parameters:\n",
      "14:02 bilby INFO    :   center = Uniform(minimum=10833.576460870463, maximum=10876.997609010225, name='center', latex_label='center', unit=None, boundary=None)\n",
      "14:02 bilby INFO    :   fwhm = Uniform(minimum=300, maximum=1000, name='fwhm', latex_label='fwhm', unit=None, boundary=None)\n",
      "14:02 bilby INFO    :   flux = Uniform(minimum=-19.84777576555484, maximum=19.84777576555484, name='flux', latex_label='flux', unit=None, boundary=None)\n",
      "14:02 bilby INFO    :   A = Uniform(minimum=-0.10306774181778612, maximum=0.20613548363557224, name='A', latex_label='A', unit=None, boundary=None)\n",
      "14:02 bilby INFO    :   beta = Uniform(minimum=-4, maximum=2, name='beta', latex_label='beta', unit=None, boundary=None)\n",
      "14:02 bilby INFO    :   wave0 = 10855.287034940344\n",
      "14:02 bilby INFO    : Single likelihood evaluation took 4.026e-05 s\n"
     ]
    },
    {
     "data": {
      "application/vnd.jupyter.widget-view+json": {
       "model_id": "c0ffebadde3d4b11be2d8b3297ce75b3",
       "version_major": 2,
       "version_minor": 0
      },
      "text/plain": [
       "0it [00:00, ?it/s]"
      ]
     },
     "metadata": {},
     "output_type": "display_data"
    },
    {
     "name": "stderr",
     "output_type": "stream",
     "text": [
      "14:02 bilby INFO    : Checkpoint every check_point_delta_t = 600s\n",
      "14:02 bilby WARNING : Using cached result\n",
      "14:02 bilby INFO    : Summary of results:\n",
      "nsamples: 1432\n",
      "ln_noise_evidence:    nan\n",
      "ln_evidence: 88.975 +/-  0.170\n",
      "ln_bayes_factor:    nan +/-  0.170\n",
      "\n",
      "/Users/myue/Research/Projects/JWST/dependencies/msa_spec_utils/LAE_spec_utils.py:464: RuntimeWarning: divide by zero encountered in power\n",
      "  self.err_fnu = (self.ivar_fnu)**-0.5\n",
      "/Users/myue/Research/Projects/JWST/dependencies/msa_spec_utils/LAE_spec_utils.py:470: RuntimeWarning: invalid value encountered in divide\n",
      "  self.flam = self.fnu * speed_of_light_angstrom / (self.wave)**2 * 1e-29 * 1e18\n",
      "/Users/myue/Research/Projects/JWST/dependencies/msa_spec_utils/LAE_spec_utils.py:471: RuntimeWarning: divide by zero encountered in divide\n",
      "  self.err_flam = self.err_fnu * (speed_of_light_angstrom / (self.wave)**2 * 1e-29 * 1e18)\n",
      "14:02 bilby INFO    : Running for label '4713_2355', output will be saved to '../../data/civ_saves/J0100/bilby_fit_civ_msaexp_pypeit_v2/'\n",
      "14:02 bilby INFO    : Search parameters:\n",
      "14:02 bilby INFO    :   center = Uniform(minimum=11103.356134929933, maximum=11147.858564328448, name='center', latex_label='center', unit=None, boundary=None)\n",
      "14:02 bilby INFO    :   fwhm = Uniform(minimum=300, maximum=1000, name='fwhm', latex_label='fwhm', unit=None, boundary=None)\n",
      "14:02 bilby INFO    :   flux = Uniform(minimum=-13.171375655904914, maximum=13.171375655904914, name='flux', latex_label='flux', unit=None, boundary=None)\n",
      "14:02 bilby INFO    :   A = Uniform(minimum=-0.06673591746734449, maximum=0.13347183493468898, name='A', latex_label='A', unit=None, boundary=None)\n",
      "14:02 bilby INFO    :   beta = Uniform(minimum=-4, maximum=2, name='beta', latex_label='beta', unit=None, boundary=None)\n",
      "14:02 bilby INFO    :   wave0 = 11125.60734962919\n",
      "14:02 bilby INFO    : Single likelihood evaluation took 4.281e-05 s\n"
     ]
    },
    {
     "data": {
      "application/vnd.jupyter.widget-view+json": {
       "model_id": "ba0027805bb34c8dbb47f04d44a74444",
       "version_major": 2,
       "version_minor": 0
      },
      "text/plain": [
       "0it [00:00, ?it/s]"
      ]
     },
     "metadata": {},
     "output_type": "display_data"
    },
    {
     "name": "stderr",
     "output_type": "stream",
     "text": [
      "14:02 bilby INFO    : Checkpoint every check_point_delta_t = 600s\n",
      "14:02 bilby WARNING : Using cached result\n",
      "14:02 bilby INFO    : Summary of results:\n",
      "nsamples: 2624\n",
      "ln_noise_evidence:    nan\n",
      "ln_evidence: 300.138 +/-  0.276\n",
      "ln_bayes_factor:    nan +/-  0.276\n",
      "\n",
      "14:02 bilby INFO    : Running for label '4713_3783', output will be saved to '../../data/civ_saves/J0100/bilby_fit_civ_msaexp_pypeit_v2/'\n",
      "14:02 bilby INFO    : Search parameters:\n",
      "14:02 bilby INFO    :   center = Uniform(minimum=11103.656796882598, maximum=11148.160431339042, name='center', latex_label='center', unit=None, boundary=None)\n",
      "14:02 bilby INFO    :   fwhm = Uniform(minimum=300, maximum=1000, name='fwhm', latex_label='fwhm', unit=None, boundary=None)\n",
      "14:02 bilby INFO    :   flux = Uniform(minimum=-12.682236464102818, maximum=12.682236464102818, name='flux', latex_label='flux', unit=None, boundary=None)\n",
      "14:02 bilby INFO    :   A = Uniform(minimum=-0.06425583709277137, maximum=0.12851167418554274, name='A', latex_label='A', unit=None, boundary=None)\n",
      "14:02 bilby INFO    :   beta = Uniform(minimum=-4, maximum=2, name='beta', latex_label='beta', unit=None, boundary=None)\n",
      "14:02 bilby INFO    :   wave0 = 11125.90861411082\n",
      "14:02 bilby INFO    : Single likelihood evaluation took 4.321e-05 s\n"
     ]
    },
    {
     "data": {
      "application/vnd.jupyter.widget-view+json": {
       "model_id": "491c78421cf34102a6a09f6245552e92",
       "version_major": 2,
       "version_minor": 0
      },
      "text/plain": [
       "0it [00:00, ?it/s]"
      ]
     },
     "metadata": {},
     "output_type": "display_data"
    },
    {
     "name": "stderr",
     "output_type": "stream",
     "text": [
      "14:02 bilby INFO    : Checkpoint every check_point_delta_t = 600s\n",
      "14:02 bilby WARNING : Using cached result\n",
      "14:02 bilby INFO    : Summary of results:\n",
      "nsamples: 2175\n",
      "ln_noise_evidence:    nan\n",
      "ln_evidence: 288.366 +/-  0.249\n",
      "ln_bayes_factor:    nan +/-  0.249\n",
      "\n",
      "/Users/myue/Research/Projects/JWST/dependencies/msa_spec_utils/LAE_spec_utils.py:464: RuntimeWarning: divide by zero encountered in power\n",
      "  self.err_fnu = (self.ivar_fnu)**-0.5\n",
      "/Users/myue/Research/Projects/JWST/dependencies/msa_spec_utils/LAE_spec_utils.py:470: RuntimeWarning: invalid value encountered in divide\n",
      "  self.flam = self.fnu * speed_of_light_angstrom / (self.wave)**2 * 1e-29 * 1e18\n",
      "/Users/myue/Research/Projects/JWST/dependencies/msa_spec_utils/LAE_spec_utils.py:471: RuntimeWarning: divide by zero encountered in divide\n",
      "  self.err_flam = self.err_fnu * (speed_of_light_angstrom / (self.wave)**2 * 1e-29 * 1e18)\n",
      "14:02 bilby INFO    : Running for label '4713_4184', output will be saved to '../../data/civ_saves/J0100/bilby_fit_civ_msaexp_pypeit_v2/'\n",
      "14:02 bilby INFO    : Search parameters:\n",
      "14:02 bilby INFO    :   center = Uniform(minimum=11109.84370472653, maximum=11154.3721364088, name='center', latex_label='center', unit=None, boundary=None)\n",
      "14:02 bilby INFO    :   fwhm = Uniform(minimum=300, maximum=1000, name='fwhm', latex_label='fwhm', unit=None, boundary=None)\n",
      "14:02 bilby INFO    :   flux = Uniform(minimum=-9.142863599793042, maximum=9.142863599793042, name='flux', latex_label='flux', unit=None, boundary=None)\n",
      "14:02 bilby INFO    :   A = Uniform(minimum=-0.04629744883302261, maximum=0.09259489766604521, name='A', latex_label='A', unit=None, boundary=None)\n",
      "14:02 bilby INFO    :   beta = Uniform(minimum=-4, maximum=2, name='beta', latex_label='beta', unit=None, boundary=None)\n",
      "14:02 bilby INFO    :   wave0 = 11132.107920567665\n",
      "14:02 bilby INFO    : Single likelihood evaluation took 3.759e-05 s\n"
     ]
    },
    {
     "data": {
      "application/vnd.jupyter.widget-view+json": {
       "model_id": "9b4aa4f2f41847db9ddd8d756335fc28",
       "version_major": 2,
       "version_minor": 0
      },
      "text/plain": [
       "0it [00:00, ?it/s]"
      ]
     },
     "metadata": {},
     "output_type": "display_data"
    },
    {
     "name": "stderr",
     "output_type": "stream",
     "text": [
      "14:02 bilby INFO    : Checkpoint every check_point_delta_t = 600s\n",
      "14:02 bilby WARNING : Using cached result\n",
      "14:02 bilby INFO    : Summary of results:\n",
      "nsamples: 2177\n",
      "ln_noise_evidence:    nan\n",
      "ln_evidence: 290.702 +/-  0.243\n",
      "ln_bayes_factor:    nan +/-  0.243\n",
      "\n",
      "/Users/myue/Research/Projects/JWST/dependencies/msa_spec_utils/LAE_spec_utils.py:464: RuntimeWarning: divide by zero encountered in power\n",
      "  self.err_fnu = (self.ivar_fnu)**-0.5\n",
      "/Users/myue/Research/Projects/JWST/dependencies/msa_spec_utils/LAE_spec_utils.py:470: RuntimeWarning: invalid value encountered in divide\n",
      "  self.flam = self.fnu * speed_of_light_angstrom / (self.wave)**2 * 1e-29 * 1e18\n",
      "/Users/myue/Research/Projects/JWST/dependencies/msa_spec_utils/LAE_spec_utils.py:471: RuntimeWarning: divide by zero encountered in divide\n",
      "  self.err_flam = self.err_fnu * (speed_of_light_angstrom / (self.wave)**2 * 1e-29 * 1e18)\n",
      "14:02 bilby INFO    : Running for label '4713_4222', output will be saved to '../../data/civ_saves/J0100/bilby_fit_civ_msaexp_pypeit_v2/'\n",
      "14:02 bilby INFO    : Search parameters:\n",
      "14:02 bilby INFO    :   center = Uniform(minimum=11331.508698517113, maximum=11376.925567048243, name='center', latex_label='center', unit=None, boundary=None)\n",
      "14:02 bilby INFO    :   fwhm = Uniform(minimum=300, maximum=1000, name='fwhm', latex_label='fwhm', unit=None, boundary=None)\n",
      "14:02 bilby INFO    :   flux = Uniform(minimum=-10.99736131054957, maximum=10.99736131054957, name='flux', latex_label='flux', unit=None, boundary=None)\n",
      "14:02 bilby INFO    :   A = Uniform(minimum=-0.05459885387233788, maximum=0.10919770774467576, name='A', latex_label='A', unit=None, boundary=None)\n",
      "14:02 bilby INFO    :   beta = Uniform(minimum=-4, maximum=2, name='beta', latex_label='beta', unit=None, boundary=None)\n",
      "14:02 bilby INFO    :   wave0 = 11354.217132782678\n",
      "14:02 bilby INFO    : Single likelihood evaluation took 3.773e-05 s\n"
     ]
    },
    {
     "data": {
      "application/vnd.jupyter.widget-view+json": {
       "model_id": "2ed33c4547be464391c59c7ffe4f89c4",
       "version_major": 2,
       "version_minor": 0
      },
      "text/plain": [
       "0it [00:00, ?it/s]"
      ]
     },
     "metadata": {},
     "output_type": "display_data"
    },
    {
     "name": "stderr",
     "output_type": "stream",
     "text": [
      "14:02 bilby INFO    : Checkpoint every check_point_delta_t = 600s\n",
      "14:02 bilby WARNING : Using cached result\n",
      "14:02 bilby INFO    : Summary of results:\n",
      "nsamples: 2319\n",
      "ln_noise_evidence:    nan\n",
      "ln_evidence: 226.377 +/-  0.257\n",
      "ln_bayes_factor:    nan +/-  0.257\n",
      "\n",
      "/Users/myue/Research/Projects/JWST/dependencies/msa_spec_utils/LAE_spec_utils.py:464: RuntimeWarning: divide by zero encountered in power\n",
      "  self.err_fnu = (self.ivar_fnu)**-0.5\n",
      "/Users/myue/Research/Projects/JWST/dependencies/msa_spec_utils/LAE_spec_utils.py:470: RuntimeWarning: invalid value encountered in divide\n",
      "  self.flam = self.fnu * speed_of_light_angstrom / (self.wave)**2 * 1e-29 * 1e18\n",
      "/Users/myue/Research/Projects/JWST/dependencies/msa_spec_utils/LAE_spec_utils.py:471: RuntimeWarning: divide by zero encountered in divide\n",
      "  self.err_flam = self.err_fnu * (speed_of_light_angstrom / (self.wave)**2 * 1e-29 * 1e18)\n",
      "14:02 bilby INFO    : Running for label '4713_5378', output will be saved to '../../data/civ_saves/J0100/bilby_fit_civ_msaexp_pypeit_v2/'\n",
      "14:02 bilby INFO    : Search parameters:\n",
      "14:02 bilby INFO    :   center = Uniform(minimum=10153.718033123501, maximum=10194.41429778532, name='center', latex_label='center', unit=None, boundary=None)\n",
      "14:02 bilby INFO    :   fwhm = Uniform(minimum=300, maximum=1000, name='fwhm', latex_label='fwhm', unit=None, boundary=None)\n",
      "14:02 bilby INFO    :   flux = Uniform(minimum=-6.244521864855152, maximum=6.244521864855152, name='flux', latex_label='flux', unit=None, boundary=None)\n",
      "14:02 bilby INFO    :   A = Uniform(minimum=-0.03629038196340013, maximum=0.07258076392680025, name='A', latex_label='A', unit=None, boundary=None)\n",
      "14:02 bilby INFO    :   beta = Uniform(minimum=-4, maximum=2, name='beta', latex_label='beta', unit=None, boundary=None)\n",
      "14:02 bilby INFO    :   wave0 = 10174.066165454411\n",
      "14:02 bilby INFO    : Single likelihood evaluation took 3.911e-05 s\n"
     ]
    },
    {
     "data": {
      "application/vnd.jupyter.widget-view+json": {
       "model_id": "bd882a192a6e4678aefa0653ec0dd961",
       "version_major": 2,
       "version_minor": 0
      },
      "text/plain": [
       "0it [00:00, ?it/s]"
      ]
     },
     "metadata": {},
     "output_type": "display_data"
    },
    {
     "name": "stderr",
     "output_type": "stream",
     "text": [
      "14:02 bilby INFO    : Checkpoint every check_point_delta_t = 600s\n",
      "14:02 bilby WARNING : Using cached result\n",
      "14:02 bilby INFO    : Summary of results:\n",
      "nsamples: 2197\n",
      "ln_noise_evidence:    nan\n",
      "ln_evidence: 277.707 +/-  0.237\n",
      "ln_bayes_factor:    nan +/-  0.237\n",
      "\n",
      "/Users/myue/Research/Projects/JWST/dependencies/msa_spec_utils/LAE_spec_utils.py:464: RuntimeWarning: divide by zero encountered in power\n",
      "  self.err_fnu = (self.ivar_fnu)**-0.5\n",
      "/Users/myue/Research/Projects/JWST/dependencies/msa_spec_utils/LAE_spec_utils.py:470: RuntimeWarning: invalid value encountered in divide\n",
      "  self.flam = self.fnu * speed_of_light_angstrom / (self.wave)**2 * 1e-29 * 1e18\n",
      "/Users/myue/Research/Projects/JWST/dependencies/msa_spec_utils/LAE_spec_utils.py:471: RuntimeWarning: divide by zero encountered in divide\n",
      "  self.err_flam = self.err_fnu * (speed_of_light_angstrom / (self.wave)**2 * 1e-29 * 1e18)\n",
      "14:02 bilby INFO    : Running for label '4713_5581', output will be saved to '../../data/civ_saves/J0100/bilby_fit_civ_msaexp_pypeit_v2/'\n",
      "14:02 bilby INFO    : Search parameters:\n",
      "14:02 bilby INFO    :   center = Uniform(minimum=10063.088579751504, maximum=10103.421600111229, name='center', latex_label='center', unit=None, boundary=None)\n",
      "14:02 bilby INFO    :   fwhm = Uniform(minimum=300, maximum=1000, name='fwhm', latex_label='fwhm', unit=None, boundary=None)\n",
      "14:02 bilby INFO    :   flux = Uniform(minimum=-9.500179668811157, maximum=9.500179668811157, name='flux', latex_label='flux', unit=None, boundary=None)\n",
      "14:02 bilby INFO    :   A = Uniform(minimum=-0.053110854912346836, maximum=0.10622170982469367, name='A', latex_label='A', unit=None, boundary=None)\n",
      "14:02 bilby INFO    :   beta = Uniform(minimum=-4, maximum=2, name='beta', latex_label='beta', unit=None, boundary=None)\n",
      "14:02 bilby INFO    :   wave0 = 10083.255089931366\n",
      "14:02 bilby INFO    : Single likelihood evaluation took 3.357e-05 s\n"
     ]
    },
    {
     "data": {
      "application/vnd.jupyter.widget-view+json": {
       "model_id": "55d8e1c905094032bf1703f0483821a9",
       "version_major": 2,
       "version_minor": 0
      },
      "text/plain": [
       "0it [00:00, ?it/s]"
      ]
     },
     "metadata": {},
     "output_type": "display_data"
    },
    {
     "name": "stderr",
     "output_type": "stream",
     "text": [
      "14:02 bilby INFO    : Using sampler Dynesty with kwargs {'bound': 'multi', 'sample': 'rwalk', 'print_progress': True, 'periodic': None, 'reflective': None, 'check_point_delta_t': 1800, 'nlive': 200, 'first_update': None, 'walks': 100, 'npdim': None, 'rstate': None, 'queue_size': 1, 'pool': None, 'use_pool': None, 'live_points': None, 'logl_args': None, 'logl_kwargs': None, 'ptform_args': None, 'ptform_kwargs': None, 'enlarge': 1.5, 'bootstrap': None, 'vol_dec': 0.5, 'vol_check': 8.0, 'facc': 0.2, 'slices': 5, 'update_interval': 120, 'print_func': <bound method Dynesty._print_func of <bilby.core.sampler.dynesty.Dynesty object at 0x94b1729f0>>, 'dlogz': 0.1, 'maxiter': None, 'maxcall': None, 'logl_max': inf, 'add_live': True, 'save_bounds': False, 'n_effective': None, 'maxmcmc': 5000, 'nact': 5, 'print_method': 'tqdm'}\n",
      "14:02 bilby INFO    : Checkpoint every check_point_delta_t = 600s\n",
      "14:02 bilby INFO    : Using dynesty version 1.0.1\n",
      "14:02 bilby INFO    : Using the bilby-implemented rwalk sample method with ACT estimated walks\n",
      "14:02 bilby INFO    : Resume file ../../data/civ_saves/J0100/bilby_fit_civ_msaexp_pypeit_v2//4713_5581_resume.pickle does not exist.\n",
      "14:02 bilby INFO    : Generating initial points from the prior\n",
      "14:02 bilby INFO    : Written checkpoint file ../../data/civ_saves/J0100/bilby_fit_civ_msaexp_pypeit_v2//4713_5581_resume.pickle\n",
      "14:02 bilby INFO    : Sampling time: 0:00:12.290533\n",
      "14:02 bilby INFO    : Summary of results:\n",
      "nsamples: 2134\n",
      "ln_noise_evidence:    nan\n",
      "ln_evidence: 240.743 +/-  0.240\n",
      "ln_bayes_factor:    nan +/-  0.240\n",
      "\n"
     ]
    },
    {
     "name": "stdout",
     "output_type": "stream",
     "text": [
      "\n"
     ]
    },
    {
     "name": "stderr",
     "output_type": "stream",
     "text": [
      "/Users/myue/Research/Projects/JWST/dependencies/msa_spec_utils/LAE_spec_utils.py:464: RuntimeWarning: divide by zero encountered in power\n",
      "  self.err_fnu = (self.ivar_fnu)**-0.5\n",
      "/Users/myue/Research/Projects/JWST/dependencies/msa_spec_utils/LAE_spec_utils.py:470: RuntimeWarning: invalid value encountered in divide\n",
      "  self.flam = self.fnu * speed_of_light_angstrom / (self.wave)**2 * 1e-29 * 1e18\n",
      "/Users/myue/Research/Projects/JWST/dependencies/msa_spec_utils/LAE_spec_utils.py:471: RuntimeWarning: divide by zero encountered in divide\n",
      "  self.err_flam = self.err_fnu * (speed_of_light_angstrom / (self.wave)**2 * 1e-29 * 1e18)\n",
      "14:02 bilby INFO    : Running for label '4713_5595', output will be saved to '../../data/civ_saves/J0100/bilby_fit_civ_msaexp_pypeit_v2/'\n",
      "14:02 bilby INFO    : Search parameters:\n",
      "14:02 bilby INFO    :   center = Uniform(minimum=10805.382079003715, maximum=10848.690223608939, name='center', latex_label='center', unit=None, boundary=None)\n",
      "14:02 bilby INFO    :   fwhm = Uniform(minimum=300, maximum=1000, name='fwhm', latex_label='fwhm', unit=None, boundary=None)\n",
      "14:02 bilby INFO    :   flux = Uniform(minimum=-5.1876964895629385, maximum=5.1876964895629385, name='flux', latex_label='flux', unit=None, boundary=None)\n",
      "14:02 bilby INFO    :   A = Uniform(minimum=-0.0386004431332103, maximum=0.0772008862664206, name='A', latex_label='A', unit=None, boundary=None)\n",
      "14:02 bilby INFO    :   beta = Uniform(minimum=-4, maximum=2, name='beta', latex_label='beta', unit=None, boundary=None)\n",
      "14:02 bilby INFO    :   wave0 = 10827.036151306327\n",
      "14:02 bilby INFO    : Single likelihood evaluation took 3.278e-05 s\n"
     ]
    },
    {
     "data": {
      "application/vnd.jupyter.widget-view+json": {
       "model_id": "92505e145caa45eb883fc2f6df2048da",
       "version_major": 2,
       "version_minor": 0
      },
      "text/plain": [
       "0it [00:00, ?it/s]"
      ]
     },
     "metadata": {},
     "output_type": "display_data"
    },
    {
     "name": "stderr",
     "output_type": "stream",
     "text": [
      "14:02 bilby INFO    : Using sampler Dynesty with kwargs {'bound': 'multi', 'sample': 'rwalk', 'print_progress': True, 'periodic': None, 'reflective': None, 'check_point_delta_t': 1800, 'nlive': 200, 'first_update': None, 'walks': 100, 'npdim': None, 'rstate': None, 'queue_size': 1, 'pool': None, 'use_pool': None, 'live_points': None, 'logl_args': None, 'logl_kwargs': None, 'ptform_args': None, 'ptform_kwargs': None, 'enlarge': 1.5, 'bootstrap': None, 'vol_dec': 0.5, 'vol_check': 8.0, 'facc': 0.2, 'slices': 5, 'update_interval': 120, 'print_func': <bound method Dynesty._print_func of <bilby.core.sampler.dynesty.Dynesty object at 0xaa840ecf0>>, 'dlogz': 0.1, 'maxiter': None, 'maxcall': None, 'logl_max': inf, 'add_live': True, 'save_bounds': False, 'n_effective': None, 'maxmcmc': 5000, 'nact': 5, 'print_method': 'tqdm'}\n",
      "14:02 bilby INFO    : Checkpoint every check_point_delta_t = 600s\n",
      "14:02 bilby INFO    : Using dynesty version 1.0.1\n",
      "14:02 bilby INFO    : Using the bilby-implemented rwalk sample method with ACT estimated walks\n",
      "14:02 bilby INFO    : Resume file ../../data/civ_saves/J0100/bilby_fit_civ_msaexp_pypeit_v2//4713_5595_resume.pickle does not exist.\n",
      "14:02 bilby INFO    : Generating initial points from the prior\n",
      "14:03 bilby INFO    : Written checkpoint file ../../data/civ_saves/J0100/bilby_fit_civ_msaexp_pypeit_v2//4713_5595_resume.pickle\n",
      "14:03 bilby INFO    : Sampling time: 0:00:11.778702\n",
      "14:03 bilby INFO    : Summary of results:\n",
      "nsamples: 2057\n",
      "ln_noise_evidence:    nan\n",
      "ln_evidence: 305.847 +/-  0.232\n",
      "ln_bayes_factor:    nan +/-  0.232\n",
      "\n"
     ]
    },
    {
     "name": "stdout",
     "output_type": "stream",
     "text": [
      "\n"
     ]
    },
    {
     "name": "stderr",
     "output_type": "stream",
     "text": [
      "/Users/myue/Research/Projects/JWST/dependencies/msa_spec_utils/LAE_spec_utils.py:464: RuntimeWarning: divide by zero encountered in power\n",
      "  self.err_fnu = (self.ivar_fnu)**-0.5\n",
      "/Users/myue/Research/Projects/JWST/dependencies/msa_spec_utils/LAE_spec_utils.py:470: RuntimeWarning: invalid value encountered in divide\n",
      "  self.flam = self.fnu * speed_of_light_angstrom / (self.wave)**2 * 1e-29 * 1e18\n",
      "/Users/myue/Research/Projects/JWST/dependencies/msa_spec_utils/LAE_spec_utils.py:471: RuntimeWarning: divide by zero encountered in divide\n",
      "  self.err_flam = self.err_fnu * (speed_of_light_angstrom / (self.wave)**2 * 1e-29 * 1e18)\n",
      "14:03 bilby INFO    : Running for label '4713_5671', output will be saved to '../../data/civ_saves/J0100/bilby_fit_civ_msaexp_pypeit_v2/'\n",
      "14:03 bilby INFO    : Search parameters:\n",
      "14:03 bilby INFO    :   center = Uniform(minimum=10800.2117502139, maximum=10843.499172058444, name='center', latex_label='center', unit=None, boundary=None)\n",
      "14:03 bilby INFO    :   fwhm = Uniform(minimum=300, maximum=1000, name='fwhm', latex_label='fwhm', unit=None, boundary=None)\n",
      "14:03 bilby INFO    :   flux = Uniform(minimum=-16.52927520928224, maximum=16.52927520928224, name='flux', latex_label='flux', unit=None, boundary=None)\n",
      "14:03 bilby INFO    :   A = Uniform(minimum=-0.0861002295278772, maximum=0.1722004590557544, name='A', latex_label='A', unit=None, boundary=None)\n",
      "14:03 bilby INFO    :   beta = Uniform(minimum=-4, maximum=2, name='beta', latex_label='beta', unit=None, boundary=None)\n",
      "14:03 bilby INFO    :   wave0 = 10821.855461136172\n",
      "14:03 bilby INFO    : Single likelihood evaluation took 3.232e-05 s\n"
     ]
    },
    {
     "data": {
      "application/vnd.jupyter.widget-view+json": {
       "model_id": "50ec4242803b4a769218720f4c7089ae",
       "version_major": 2,
       "version_minor": 0
      },
      "text/plain": [
       "0it [00:00, ?it/s]"
      ]
     },
     "metadata": {},
     "output_type": "display_data"
    },
    {
     "name": "stderr",
     "output_type": "stream",
     "text": [
      "14:03 bilby INFO    : Using sampler Dynesty with kwargs {'bound': 'multi', 'sample': 'rwalk', 'print_progress': True, 'periodic': None, 'reflective': None, 'check_point_delta_t': 1800, 'nlive': 200, 'first_update': None, 'walks': 100, 'npdim': None, 'rstate': None, 'queue_size': 1, 'pool': None, 'use_pool': None, 'live_points': None, 'logl_args': None, 'logl_kwargs': None, 'ptform_args': None, 'ptform_kwargs': None, 'enlarge': 1.5, 'bootstrap': None, 'vol_dec': 0.5, 'vol_check': 8.0, 'facc': 0.2, 'slices': 5, 'update_interval': 120, 'print_func': <bound method Dynesty._print_func of <bilby.core.sampler.dynesty.Dynesty object at 0xa3f2e96a0>>, 'dlogz': 0.1, 'maxiter': None, 'maxcall': None, 'logl_max': inf, 'add_live': True, 'save_bounds': False, 'n_effective': None, 'maxmcmc': 5000, 'nact': 5, 'print_method': 'tqdm'}\n",
      "14:03 bilby INFO    : Checkpoint every check_point_delta_t = 600s\n",
      "14:03 bilby INFO    : Using dynesty version 1.0.1\n",
      "14:03 bilby INFO    : Using the bilby-implemented rwalk sample method with ACT estimated walks\n",
      "14:03 bilby INFO    : Resume file ../../data/civ_saves/J0100/bilby_fit_civ_msaexp_pypeit_v2//4713_5671_resume.pickle does not exist.\n",
      "14:03 bilby INFO    : Generating initial points from the prior\n",
      "14:03 bilby INFO    : Written checkpoint file ../../data/civ_saves/J0100/bilby_fit_civ_msaexp_pypeit_v2//4713_5671_resume.pickle\n",
      "14:03 bilby INFO    : Sampling time: 0:00:15.934951\n",
      "14:03 bilby INFO    : Summary of results:\n",
      "nsamples: 2581\n",
      "ln_noise_evidence:    nan\n",
      "ln_evidence: 239.627 +/-  0.275\n",
      "ln_bayes_factor:    nan +/-  0.275\n",
      "\n"
     ]
    },
    {
     "name": "stdout",
     "output_type": "stream",
     "text": [
      "\n"
     ]
    },
    {
     "name": "stderr",
     "output_type": "stream",
     "text": [
      "/Users/myue/Research/Projects/JWST/dependencies/msa_spec_utils/LAE_spec_utils.py:464: RuntimeWarning: divide by zero encountered in power\n",
      "  self.err_fnu = (self.ivar_fnu)**-0.5\n",
      "/Users/myue/Research/Projects/JWST/dependencies/msa_spec_utils/LAE_spec_utils.py:470: RuntimeWarning: invalid value encountered in divide\n",
      "  self.flam = self.fnu * speed_of_light_angstrom / (self.wave)**2 * 1e-29 * 1e18\n",
      "/Users/myue/Research/Projects/JWST/dependencies/msa_spec_utils/LAE_spec_utils.py:471: RuntimeWarning: divide by zero encountered in divide\n",
      "  self.err_flam = self.err_fnu * (speed_of_light_angstrom / (self.wave)**2 * 1e-29 * 1e18)\n",
      "14:03 bilby INFO    : Running for label '4713_6733', output will be saved to '../../data/civ_saves/J0100/bilby_fit_civ_msaexp_pypeit_v2/'\n",
      "14:03 bilby INFO    : Search parameters:\n",
      "14:03 bilby INFO    :   center = Uniform(minimum=12008.673582573636, maximum=12056.804538816417, name='center', latex_label='center', unit=None, boundary=None)\n",
      "14:03 bilby INFO    :   fwhm = Uniform(minimum=300, maximum=1000, name='fwhm', latex_label='fwhm', unit=None, boundary=None)\n",
      "14:03 bilby INFO    :   flux = Uniform(minimum=-33.44278364648425, maximum=33.44278364648425, name='flux', latex_label='flux', unit=None, boundary=None)\n",
      "14:03 bilby INFO    :   A = Uniform(minimum=-0.15667155291068888, maximum=0.31334310582137775, name='A', latex_label='A', unit=None, boundary=None)\n",
      "14:03 bilby INFO    :   beta = Uniform(minimum=-4, maximum=2, name='beta', latex_label='beta', unit=None, boundary=None)\n",
      "14:03 bilby INFO    :   wave0 = 12032.739060695027\n",
      "14:03 bilby INFO    : Single likelihood evaluation took 3.197e-05 s\n"
     ]
    },
    {
     "data": {
      "application/vnd.jupyter.widget-view+json": {
       "model_id": "51f49cbf59664c29919e264b843d976f",
       "version_major": 2,
       "version_minor": 0
      },
      "text/plain": [
       "0it [00:00, ?it/s]"
      ]
     },
     "metadata": {},
     "output_type": "display_data"
    },
    {
     "name": "stderr",
     "output_type": "stream",
     "text": [
      "14:03 bilby INFO    : Using sampler Dynesty with kwargs {'bound': 'multi', 'sample': 'rwalk', 'print_progress': True, 'periodic': None, 'reflective': None, 'check_point_delta_t': 1800, 'nlive': 200, 'first_update': None, 'walks': 100, 'npdim': None, 'rstate': None, 'queue_size': 1, 'pool': None, 'use_pool': None, 'live_points': None, 'logl_args': None, 'logl_kwargs': None, 'ptform_args': None, 'ptform_kwargs': None, 'enlarge': 1.5, 'bootstrap': None, 'vol_dec': 0.5, 'vol_check': 8.0, 'facc': 0.2, 'slices': 5, 'update_interval': 120, 'print_func': <bound method Dynesty._print_func of <bilby.core.sampler.dynesty.Dynesty object at 0x9de3cec30>>, 'dlogz': 0.1, 'maxiter': None, 'maxcall': None, 'logl_max': inf, 'add_live': True, 'save_bounds': False, 'n_effective': None, 'maxmcmc': 5000, 'nact': 5, 'print_method': 'tqdm'}\n",
      "14:03 bilby INFO    : Checkpoint every check_point_delta_t = 600s\n",
      "14:03 bilby INFO    : Using dynesty version 1.0.1\n",
      "14:03 bilby INFO    : Using the bilby-implemented rwalk sample method with ACT estimated walks\n",
      "14:03 bilby INFO    : Resume file ../../data/civ_saves/J0100/bilby_fit_civ_msaexp_pypeit_v2//4713_6733_resume.pickle does not exist.\n",
      "14:03 bilby INFO    : Generating initial points from the prior\n",
      "14:03 bilby INFO    : Written checkpoint file ../../data/civ_saves/J0100/bilby_fit_civ_msaexp_pypeit_v2//4713_6733_resume.pickle\n",
      "14:03 bilby INFO    : Sampling time: 0:00:21.082247\n",
      "14:03 bilby INFO    : Summary of results:\n",
      "nsamples: 3471\n",
      "ln_noise_evidence:    nan\n",
      "ln_evidence: 312.713 +/-  0.348\n",
      "ln_bayes_factor:    nan +/-  0.348\n",
      "\n"
     ]
    },
    {
     "name": "stdout",
     "output_type": "stream",
     "text": [
      "\n"
     ]
    },
    {
     "name": "stderr",
     "output_type": "stream",
     "text": [
      "/Users/myue/Research/Projects/JWST/dependencies/msa_spec_utils/LAE_spec_utils.py:464: RuntimeWarning: divide by zero encountered in power\n",
      "  self.err_fnu = (self.ivar_fnu)**-0.5\n",
      "/Users/myue/Research/Projects/JWST/dependencies/msa_spec_utils/LAE_spec_utils.py:470: RuntimeWarning: invalid value encountered in divide\n",
      "  self.flam = self.fnu * speed_of_light_angstrom / (self.wave)**2 * 1e-29 * 1e18\n",
      "/Users/myue/Research/Projects/JWST/dependencies/msa_spec_utils/LAE_spec_utils.py:471: RuntimeWarning: divide by zero encountered in divide\n",
      "  self.err_flam = self.err_fnu * (speed_of_light_angstrom / (self.wave)**2 * 1e-29 * 1e18)\n",
      "14:03 bilby INFO    : Running for label '4713_7194', output will be saved to '../../data/civ_saves/J0100/bilby_fit_civ_msaexp_pypeit_v2/'\n",
      "14:03 bilby INFO    : Search parameters:\n",
      "14:03 bilby INFO    :   center = Uniform(minimum=11112.558033925088, maximum=11157.097344682305, name='center', latex_label='center', unit=None, boundary=None)\n",
      "14:03 bilby INFO    :   fwhm = Uniform(minimum=300, maximum=1000, name='fwhm', latex_label='fwhm', unit=None, boundary=None)\n",
      "14:03 bilby INFO    :   flux = Uniform(minimum=-6.417382027933073, maximum=6.417382027933073, name='flux', latex_label='flux', unit=None, boundary=None)\n",
      "14:03 bilby INFO    :   A = Uniform(minimum=-0.03479766736415353, maximum=0.06959533472830706, name='A', latex_label='A', unit=None, boundary=None)\n",
      "14:03 bilby INFO    :   beta = Uniform(minimum=-4, maximum=2, name='beta', latex_label='beta', unit=None, boundary=None)\n",
      "14:03 bilby INFO    :   wave0 = 11134.827689303696\n",
      "14:03 bilby INFO    : Single likelihood evaluation took 3.259e-05 s\n"
     ]
    },
    {
     "data": {
      "application/vnd.jupyter.widget-view+json": {
       "model_id": "388bcf83ab644bbf91b76839f22665e2",
       "version_major": 2,
       "version_minor": 0
      },
      "text/plain": [
       "0it [00:00, ?it/s]"
      ]
     },
     "metadata": {},
     "output_type": "display_data"
    },
    {
     "name": "stderr",
     "output_type": "stream",
     "text": [
      "14:03 bilby INFO    : Using sampler Dynesty with kwargs {'bound': 'multi', 'sample': 'rwalk', 'print_progress': True, 'periodic': None, 'reflective': None, 'check_point_delta_t': 1800, 'nlive': 200, 'first_update': None, 'walks': 100, 'npdim': None, 'rstate': None, 'queue_size': 1, 'pool': None, 'use_pool': None, 'live_points': None, 'logl_args': None, 'logl_kwargs': None, 'ptform_args': None, 'ptform_kwargs': None, 'enlarge': 1.5, 'bootstrap': None, 'vol_dec': 0.5, 'vol_check': 8.0, 'facc': 0.2, 'slices': 5, 'update_interval': 120, 'print_func': <bound method Dynesty._print_func of <bilby.core.sampler.dynesty.Dynesty object at 0x9939706e0>>, 'dlogz': 0.1, 'maxiter': None, 'maxcall': None, 'logl_max': inf, 'add_live': True, 'save_bounds': False, 'n_effective': None, 'maxmcmc': 5000, 'nact': 5, 'print_method': 'tqdm'}\n",
      "14:03 bilby INFO    : Checkpoint every check_point_delta_t = 600s\n",
      "14:03 bilby INFO    : Using dynesty version 1.0.1\n",
      "14:03 bilby INFO    : Using the bilby-implemented rwalk sample method with ACT estimated walks\n",
      "14:03 bilby INFO    : Resume file ../../data/civ_saves/J0100/bilby_fit_civ_msaexp_pypeit_v2//4713_7194_resume.pickle does not exist.\n",
      "14:03 bilby INFO    : Generating initial points from the prior\n",
      "14:03 bilby INFO    : Written checkpoint file ../../data/civ_saves/J0100/bilby_fit_civ_msaexp_pypeit_v2//4713_7194_resume.pickle\n",
      "14:03 bilby INFO    : Sampling time: 0:00:14.129892\n",
      "14:03 bilby INFO    : Summary of results:\n",
      "nsamples: 2217\n",
      "ln_noise_evidence:    nan\n",
      "ln_evidence: 320.842 +/-  0.241\n",
      "ln_bayes_factor:    nan +/-  0.241\n",
      "\n"
     ]
    },
    {
     "name": "stdout",
     "output_type": "stream",
     "text": [
      "\n"
     ]
    },
    {
     "name": "stderr",
     "output_type": "stream",
     "text": [
      "/Users/myue/Research/Projects/JWST/dependencies/msa_spec_utils/LAE_spec_utils.py:464: RuntimeWarning: divide by zero encountered in power\n",
      "  self.err_fnu = (self.ivar_fnu)**-0.5\n",
      "/Users/myue/Research/Projects/JWST/dependencies/msa_spec_utils/LAE_spec_utils.py:470: RuntimeWarning: invalid value encountered in divide\n",
      "  self.flam = self.fnu * speed_of_light_angstrom / (self.wave)**2 * 1e-29 * 1e18\n",
      "/Users/myue/Research/Projects/JWST/dependencies/msa_spec_utils/LAE_spec_utils.py:471: RuntimeWarning: divide by zero encountered in divide\n",
      "  self.err_flam = self.err_fnu * (speed_of_light_angstrom / (self.wave)**2 * 1e-29 * 1e18)\n",
      "14:03 bilby INFO    : Running for label '4713_7230', output will be saved to '../../data/civ_saves/J0100/bilby_fit_civ_msaexp_pypeit_v2/'\n",
      "14:03 bilby INFO    : Search parameters:\n",
      "14:03 bilby INFO    :   center = Uniform(minimum=12104.417208510113, maximum=12152.931906740614, name='center', latex_label='center', unit=None, boundary=None)\n",
      "14:03 bilby INFO    :   fwhm = Uniform(minimum=300, maximum=1000, name='fwhm', latex_label='fwhm', unit=None, boundary=None)\n",
      "14:03 bilby INFO    :   flux = Uniform(minimum=-7.559541818564293, maximum=7.559541818564293, name='flux', latex_label='flux', unit=None, boundary=None)\n",
      "14:03 bilby INFO    :   A = Uniform(minimum=-0.03513454700652886, maximum=0.07026909401305773, name='A', latex_label='A', unit=None, boundary=None)\n",
      "14:03 bilby INFO    :   beta = Uniform(minimum=-4, maximum=2, name='beta', latex_label='beta', unit=None, boundary=None)\n",
      "14:03 bilby INFO    :   wave0 = 12128.674557625363\n",
      "14:03 bilby INFO    : Single likelihood evaluation took 3.313e-05 s\n"
     ]
    },
    {
     "data": {
      "application/vnd.jupyter.widget-view+json": {
       "model_id": "e3a293d1b97846c3b7c99accb2e1a934",
       "version_major": 2,
       "version_minor": 0
      },
      "text/plain": [
       "0it [00:00, ?it/s]"
      ]
     },
     "metadata": {},
     "output_type": "display_data"
    },
    {
     "name": "stderr",
     "output_type": "stream",
     "text": [
      "14:03 bilby INFO    : Using sampler Dynesty with kwargs {'bound': 'multi', 'sample': 'rwalk', 'print_progress': True, 'periodic': None, 'reflective': None, 'check_point_delta_t': 1800, 'nlive': 200, 'first_update': None, 'walks': 100, 'npdim': None, 'rstate': None, 'queue_size': 1, 'pool': None, 'use_pool': None, 'live_points': None, 'logl_args': None, 'logl_kwargs': None, 'ptform_args': None, 'ptform_kwargs': None, 'enlarge': 1.5, 'bootstrap': None, 'vol_dec': 0.5, 'vol_check': 8.0, 'facc': 0.2, 'slices': 5, 'update_interval': 120, 'print_func': <bound method Dynesty._print_func of <bilby.core.sampler.dynesty.Dynesty object at 0x8b2f7f080>>, 'dlogz': 0.1, 'maxiter': None, 'maxcall': None, 'logl_max': inf, 'add_live': True, 'save_bounds': False, 'n_effective': None, 'maxmcmc': 5000, 'nact': 5, 'print_method': 'tqdm'}\n",
      "14:03 bilby INFO    : Checkpoint every check_point_delta_t = 600s\n",
      "14:03 bilby INFO    : Using dynesty version 1.0.1\n",
      "14:03 bilby INFO    : Using the bilby-implemented rwalk sample method with ACT estimated walks\n",
      "14:03 bilby INFO    : Resume file ../../data/civ_saves/J0100/bilby_fit_civ_msaexp_pypeit_v2//4713_7230_resume.pickle does not exist.\n",
      "14:03 bilby INFO    : Generating initial points from the prior\n",
      "14:04 bilby INFO    : Written checkpoint file ../../data/civ_saves/J0100/bilby_fit_civ_msaexp_pypeit_v2//4713_7230_resume.pickle\n",
      "14:04 bilby INFO    : Sampling time: 0:00:14.062119\n",
      "14:04 bilby INFO    : Summary of results:\n",
      "nsamples: 2518\n",
      "ln_noise_evidence:    nan\n",
      "ln_evidence: 370.406 +/-  0.278\n",
      "ln_bayes_factor:    nan +/-  0.278\n",
      "\n"
     ]
    },
    {
     "name": "stdout",
     "output_type": "stream",
     "text": [
      "\n"
     ]
    },
    {
     "name": "stderr",
     "output_type": "stream",
     "text": [
      "/Users/myue/Research/Projects/JWST/dependencies/msa_spec_utils/LAE_spec_utils.py:464: RuntimeWarning: divide by zero encountered in power\n",
      "  self.err_fnu = (self.ivar_fnu)**-0.5\n",
      "/Users/myue/Research/Projects/JWST/dependencies/msa_spec_utils/LAE_spec_utils.py:470: RuntimeWarning: invalid value encountered in divide\n",
      "  self.flam = self.fnu * speed_of_light_angstrom / (self.wave)**2 * 1e-29 * 1e18\n",
      "/Users/myue/Research/Projects/JWST/dependencies/msa_spec_utils/LAE_spec_utils.py:471: RuntimeWarning: divide by zero encountered in divide\n",
      "  self.err_flam = self.err_fnu * (speed_of_light_angstrom / (self.wave)**2 * 1e-29 * 1e18)\n",
      "14:04 bilby INFO    : Running for label '4713_7430', output will be saved to '../../data/civ_saves/J0100/bilby_fit_civ_msaexp_pypeit_v2/'\n",
      "14:04 bilby INFO    : Search parameters:\n",
      "14:04 bilby INFO    :   center = Uniform(minimum=11846.322826330714, maximum=11893.803078139656, name='center', latex_label='center', unit=None, boundary=None)\n",
      "14:04 bilby INFO    :   fwhm = Uniform(minimum=300, maximum=1000, name='fwhm', latex_label='fwhm', unit=None, boundary=None)\n",
      "14:04 bilby INFO    :   flux = Uniform(minimum=-8.805770119762624, maximum=8.805770119762624, name='flux', latex_label='flux', unit=None, boundary=None)\n",
      "14:04 bilby INFO    :   A = Uniform(minimum=-0.04181831688096681, maximum=0.08363663376193362, name='A', latex_label='A', unit=None, boundary=None)\n",
      "14:04 bilby INFO    :   beta = Uniform(minimum=-4, maximum=2, name='beta', latex_label='beta', unit=None, boundary=None)\n",
      "14:04 bilby INFO    :   wave0 = 11870.062952235185\n",
      "14:04 bilby INFO    : Single likelihood evaluation took 3.280e-05 s\n"
     ]
    },
    {
     "data": {
      "application/vnd.jupyter.widget-view+json": {
       "model_id": "b3fe25a7adca458584ddf11d2895708b",
       "version_major": 2,
       "version_minor": 0
      },
      "text/plain": [
       "0it [00:00, ?it/s]"
      ]
     },
     "metadata": {},
     "output_type": "display_data"
    },
    {
     "name": "stderr",
     "output_type": "stream",
     "text": [
      "14:04 bilby INFO    : Using sampler Dynesty with kwargs {'bound': 'multi', 'sample': 'rwalk', 'print_progress': True, 'periodic': None, 'reflective': None, 'check_point_delta_t': 1800, 'nlive': 200, 'first_update': None, 'walks': 100, 'npdim': None, 'rstate': None, 'queue_size': 1, 'pool': None, 'use_pool': None, 'live_points': None, 'logl_args': None, 'logl_kwargs': None, 'ptform_args': None, 'ptform_kwargs': None, 'enlarge': 1.5, 'bootstrap': None, 'vol_dec': 0.5, 'vol_check': 8.0, 'facc': 0.2, 'slices': 5, 'update_interval': 120, 'print_func': <bound method Dynesty._print_func of <bilby.core.sampler.dynesty.Dynesty object at 0x7f6d586e0>>, 'dlogz': 0.1, 'maxiter': None, 'maxcall': None, 'logl_max': inf, 'add_live': True, 'save_bounds': False, 'n_effective': None, 'maxmcmc': 5000, 'nact': 5, 'print_method': 'tqdm'}\n",
      "14:04 bilby INFO    : Checkpoint every check_point_delta_t = 600s\n",
      "14:04 bilby INFO    : Using dynesty version 1.0.1\n",
      "14:04 bilby INFO    : Using the bilby-implemented rwalk sample method with ACT estimated walks\n",
      "14:04 bilby INFO    : Resume file ../../data/civ_saves/J0100/bilby_fit_civ_msaexp_pypeit_v2//4713_7430_resume.pickle does not exist.\n",
      "14:04 bilby INFO    : Generating initial points from the prior\n",
      "14:04 bilby INFO    : Written checkpoint file ../../data/civ_saves/J0100/bilby_fit_civ_msaexp_pypeit_v2//4713_7430_resume.pickle\n",
      "14:04 bilby INFO    : Sampling time: 0:00:14.358171\n",
      "14:04 bilby INFO    : Summary of results:\n",
      "nsamples: 2194\n",
      "ln_noise_evidence:    nan\n",
      "ln_evidence: 339.641 +/-  0.249\n",
      "ln_bayes_factor:    nan +/-  0.249\n",
      "\n"
     ]
    },
    {
     "name": "stdout",
     "output_type": "stream",
     "text": [
      "\n"
     ]
    },
    {
     "name": "stderr",
     "output_type": "stream",
     "text": [
      "/Users/myue/Research/Projects/JWST/dependencies/msa_spec_utils/LAE_spec_utils.py:464: RuntimeWarning: divide by zero encountered in power\n",
      "  self.err_fnu = (self.ivar_fnu)**-0.5\n",
      "/Users/myue/Research/Projects/JWST/dependencies/msa_spec_utils/LAE_spec_utils.py:470: RuntimeWarning: invalid value encountered in divide\n",
      "  self.flam = self.fnu * speed_of_light_angstrom / (self.wave)**2 * 1e-29 * 1e18\n",
      "/Users/myue/Research/Projects/JWST/dependencies/msa_spec_utils/LAE_spec_utils.py:471: RuntimeWarning: divide by zero encountered in divide\n",
      "  self.err_flam = self.err_fnu * (speed_of_light_angstrom / (self.wave)**2 * 1e-29 * 1e18)\n",
      "14:04 bilby INFO    : Running for label '4713_8514', output will be saved to '../../data/civ_saves/J0100/bilby_fit_civ_msaexp_pypeit_v2/'\n",
      "14:04 bilby INFO    : Search parameters:\n",
      "14:04 bilby INFO    :   center = Uniform(minimum=11102.555482880885, maximum=11147.054703253154, name='center', latex_label='center', unit=None, boundary=None)\n",
      "14:04 bilby INFO    :   fwhm = Uniform(minimum=300, maximum=1000, name='fwhm', latex_label='fwhm', unit=None, boundary=None)\n",
      "14:04 bilby INFO    :   flux = Uniform(minimum=-9.276300022460246, maximum=9.276300022460246, name='flux', latex_label='flux', unit=None, boundary=None)\n",
      "14:04 bilby INFO    :   A = Uniform(minimum=-0.04700397681094309, maximum=0.09400795362188619, name='A', latex_label='A', unit=None, boundary=None)\n",
      "14:04 bilby INFO    :   beta = Uniform(minimum=-4, maximum=2, name='beta', latex_label='beta', unit=None, boundary=None)\n",
      "14:04 bilby INFO    :   wave0 = 11124.80509306702\n",
      "14:04 bilby INFO    : Single likelihood evaluation took 3.239e-05 s\n"
     ]
    },
    {
     "data": {
      "application/vnd.jupyter.widget-view+json": {
       "model_id": "ba97f41ae8eb42debde4e8497a11c5be",
       "version_major": 2,
       "version_minor": 0
      },
      "text/plain": [
       "0it [00:00, ?it/s]"
      ]
     },
     "metadata": {},
     "output_type": "display_data"
    },
    {
     "name": "stderr",
     "output_type": "stream",
     "text": [
      "14:04 bilby INFO    : Using sampler Dynesty with kwargs {'bound': 'multi', 'sample': 'rwalk', 'print_progress': True, 'periodic': None, 'reflective': None, 'check_point_delta_t': 1800, 'nlive': 200, 'first_update': None, 'walks': 100, 'npdim': None, 'rstate': None, 'queue_size': 1, 'pool': None, 'use_pool': None, 'live_points': None, 'logl_args': None, 'logl_kwargs': None, 'ptform_args': None, 'ptform_kwargs': None, 'enlarge': 1.5, 'bootstrap': None, 'vol_dec': 0.5, 'vol_check': 8.0, 'facc': 0.2, 'slices': 5, 'update_interval': 120, 'print_func': <bound method Dynesty._print_func of <bilby.core.sampler.dynesty.Dynesty object at 0x7556586e0>>, 'dlogz': 0.1, 'maxiter': None, 'maxcall': None, 'logl_max': inf, 'add_live': True, 'save_bounds': False, 'n_effective': None, 'maxmcmc': 5000, 'nact': 5, 'print_method': 'tqdm'}\n",
      "14:04 bilby INFO    : Checkpoint every check_point_delta_t = 600s\n",
      "14:04 bilby INFO    : Using dynesty version 1.0.1\n",
      "14:04 bilby INFO    : Using the bilby-implemented rwalk sample method with ACT estimated walks\n",
      "14:04 bilby INFO    : Resume file ../../data/civ_saves/J0100/bilby_fit_civ_msaexp_pypeit_v2//4713_8514_resume.pickle does not exist.\n",
      "14:04 bilby INFO    : Generating initial points from the prior\n",
      "14:04 bilby INFO    : Written checkpoint file ../../data/civ_saves/J0100/bilby_fit_civ_msaexp_pypeit_v2//4713_8514_resume.pickle\n",
      "14:04 bilby INFO    : Sampling time: 0:00:16.021557\n",
      "14:04 bilby INFO    : Summary of results:\n",
      "nsamples: 2519\n",
      "ln_noise_evidence:    nan\n",
      "ln_evidence: 312.182 +/-  0.267\n",
      "ln_bayes_factor:    nan +/-  0.267\n",
      "\n"
     ]
    },
    {
     "name": "stdout",
     "output_type": "stream",
     "text": [
      "\n"
     ]
    },
    {
     "name": "stderr",
     "output_type": "stream",
     "text": [
      "/Users/myue/Research/Projects/JWST/dependencies/msa_spec_utils/LAE_spec_utils.py:464: RuntimeWarning: divide by zero encountered in power\n",
      "  self.err_fnu = (self.ivar_fnu)**-0.5\n",
      "/Users/myue/Research/Projects/JWST/dependencies/msa_spec_utils/LAE_spec_utils.py:470: RuntimeWarning: invalid value encountered in divide\n",
      "  self.flam = self.fnu * speed_of_light_angstrom / (self.wave)**2 * 1e-29 * 1e18\n",
      "/Users/myue/Research/Projects/JWST/dependencies/msa_spec_utils/LAE_spec_utils.py:471: RuntimeWarning: divide by zero encountered in divide\n",
      "  self.err_flam = self.err_fnu * (speed_of_light_angstrom / (self.wave)**2 * 1e-29 * 1e18)\n",
      "14:04 bilby INFO    : Running for label '4713_9273', output will be saved to '../../data/civ_saves/J0100/bilby_fit_civ_msaexp_pypeit_v2/'\n",
      "14:04 bilby INFO    : Search parameters:\n",
      "14:04 bilby INFO    :   center = Uniform(minimum=11109.80120907925, maximum=11154.329470438286, name='center', latex_label='center', unit=None, boundary=None)\n",
      "14:04 bilby INFO    :   fwhm = Uniform(minimum=300, maximum=1000, name='fwhm', latex_label='fwhm', unit=None, boundary=None)\n",
      "14:04 bilby INFO    :   flux = Uniform(minimum=-8.441423825770654, maximum=8.441423825770654, name='flux', latex_label='flux', unit=None, boundary=None)\n",
      "14:04 bilby INFO    :   A = Uniform(minimum=-0.04274567571544422, maximum=0.08549135143088844, name='A', latex_label='A', unit=None, boundary=None)\n",
      "14:04 bilby INFO    :   beta = Uniform(minimum=-4, maximum=2, name='beta', latex_label='beta', unit=None, boundary=None)\n",
      "14:04 bilby INFO    :   wave0 = 11132.065339758768\n",
      "14:04 bilby INFO    : Single likelihood evaluation took 3.447e-05 s\n"
     ]
    },
    {
     "data": {
      "application/vnd.jupyter.widget-view+json": {
       "model_id": "3000a6756eb04367babd044eb354f169",
       "version_major": 2,
       "version_minor": 0
      },
      "text/plain": [
       "0it [00:00, ?it/s]"
      ]
     },
     "metadata": {},
     "output_type": "display_data"
    },
    {
     "name": "stderr",
     "output_type": "stream",
     "text": [
      "14:04 bilby INFO    : Using sampler Dynesty with kwargs {'bound': 'multi', 'sample': 'rwalk', 'print_progress': True, 'periodic': None, 'reflective': None, 'check_point_delta_t': 1800, 'nlive': 200, 'first_update': None, 'walks': 100, 'npdim': None, 'rstate': None, 'queue_size': 1, 'pool': None, 'use_pool': None, 'live_points': None, 'logl_args': None, 'logl_kwargs': None, 'ptform_args': None, 'ptform_kwargs': None, 'enlarge': 1.5, 'bootstrap': None, 'vol_dec': 0.5, 'vol_check': 8.0, 'facc': 0.2, 'slices': 5, 'update_interval': 120, 'print_func': <bound method Dynesty._print_func of <bilby.core.sampler.dynesty.Dynesty object at 0x6b20e1ca0>>, 'dlogz': 0.1, 'maxiter': None, 'maxcall': None, 'logl_max': inf, 'add_live': True, 'save_bounds': False, 'n_effective': None, 'maxmcmc': 5000, 'nact': 5, 'print_method': 'tqdm'}\n",
      "14:04 bilby INFO    : Checkpoint every check_point_delta_t = 600s\n",
      "14:04 bilby INFO    : Using dynesty version 1.0.1\n",
      "14:04 bilby INFO    : Using the bilby-implemented rwalk sample method with ACT estimated walks\n",
      "14:04 bilby INFO    : Resume file ../../data/civ_saves/J0100/bilby_fit_civ_msaexp_pypeit_v2//4713_9273_resume.pickle does not exist.\n",
      "14:04 bilby INFO    : Generating initial points from the prior\n",
      "14:04 bilby INFO    : Written checkpoint file ../../data/civ_saves/J0100/bilby_fit_civ_msaexp_pypeit_v2//4713_9273_resume.pickle\n",
      "14:05 bilby INFO    : Sampling time: 0:00:14.385142\n",
      "14:05 bilby INFO    : Summary of results:\n",
      "nsamples: 2509\n",
      "ln_noise_evidence:    nan\n",
      "ln_evidence: 261.671 +/-  0.267\n",
      "ln_bayes_factor:    nan +/-  0.267\n",
      "\n"
     ]
    },
    {
     "name": "stdout",
     "output_type": "stream",
     "text": [
      "\n"
     ]
    },
    {
     "name": "stderr",
     "output_type": "stream",
     "text": [
      "/Users/myue/Research/Projects/JWST/dependencies/msa_spec_utils/LAE_spec_utils.py:464: RuntimeWarning: divide by zero encountered in power\n",
      "  self.err_fnu = (self.ivar_fnu)**-0.5\n",
      "/Users/myue/Research/Projects/JWST/dependencies/msa_spec_utils/LAE_spec_utils.py:470: RuntimeWarning: invalid value encountered in divide\n",
      "  self.flam = self.fnu * speed_of_light_angstrom / (self.wave)**2 * 1e-29 * 1e18\n",
      "/Users/myue/Research/Projects/JWST/dependencies/msa_spec_utils/LAE_spec_utils.py:471: RuntimeWarning: divide by zero encountered in divide\n",
      "  self.err_flam = self.err_fnu * (speed_of_light_angstrom / (self.wave)**2 * 1e-29 * 1e18)\n",
      "14:05 bilby INFO    : Running for label '4713_9970', output will be saved to '../../data/civ_saves/J0100/bilby_fit_civ_msaexp_pypeit_v2/'\n",
      "14:05 bilby INFO    : Search parameters:\n",
      "14:05 bilby INFO    :   center = Uniform(minimum=11322.865889053968, maximum=11368.248117066209, name='center', latex_label='center', unit=None, boundary=None)\n",
      "14:05 bilby INFO    :   fwhm = Uniform(minimum=300, maximum=1000, name='fwhm', latex_label='fwhm', unit=None, boundary=None)\n",
      "14:05 bilby INFO    :   flux = Uniform(minimum=-15.422894813068718, maximum=15.422894813068718, name='flux', latex_label='flux', unit=None, boundary=None)\n",
      "14:05 bilby INFO    :   A = Uniform(minimum=-0.07662884897031938, maximum=0.15325769794063876, name='A', latex_label='A', unit=None, boundary=None)\n",
      "14:05 bilby INFO    :   beta = Uniform(minimum=-4, maximum=2, name='beta', latex_label='beta', unit=None, boundary=None)\n",
      "14:05 bilby INFO    :   wave0 = 11345.557003060088\n",
      "14:05 bilby INFO    : Single likelihood evaluation took 3.392e-05 s\n"
     ]
    },
    {
     "data": {
      "application/vnd.jupyter.widget-view+json": {
       "model_id": "e2292f6d11df415aad593993c6b2ba52",
       "version_major": 2,
       "version_minor": 0
      },
      "text/plain": [
       "0it [00:00, ?it/s]"
      ]
     },
     "metadata": {},
     "output_type": "display_data"
    },
    {
     "name": "stderr",
     "output_type": "stream",
     "text": [
      "14:05 bilby INFO    : Using sampler Dynesty with kwargs {'bound': 'multi', 'sample': 'rwalk', 'print_progress': True, 'periodic': None, 'reflective': None, 'check_point_delta_t': 1800, 'nlive': 200, 'first_update': None, 'walks': 100, 'npdim': None, 'rstate': None, 'queue_size': 1, 'pool': None, 'use_pool': None, 'live_points': None, 'logl_args': None, 'logl_kwargs': None, 'ptform_args': None, 'ptform_kwargs': None, 'enlarge': 1.5, 'bootstrap': None, 'vol_dec': 0.5, 'vol_check': 8.0, 'facc': 0.2, 'slices': 5, 'update_interval': 120, 'print_func': <bound method Dynesty._print_func of <bilby.core.sampler.dynesty.Dynesty object at 0x6f2bfec30>>, 'dlogz': 0.1, 'maxiter': None, 'maxcall': None, 'logl_max': inf, 'add_live': True, 'save_bounds': False, 'n_effective': None, 'maxmcmc': 5000, 'nact': 5, 'print_method': 'tqdm'}\n",
      "14:05 bilby INFO    : Checkpoint every check_point_delta_t = 600s\n",
      "14:05 bilby INFO    : Using dynesty version 1.0.1\n",
      "14:05 bilby INFO    : Using the bilby-implemented rwalk sample method with ACT estimated walks\n",
      "14:05 bilby INFO    : Resume file ../../data/civ_saves/J0100/bilby_fit_civ_msaexp_pypeit_v2//4713_9970_resume.pickle does not exist.\n",
      "14:05 bilby INFO    : Generating initial points from the prior\n",
      "14:05 bilby INFO    : Written checkpoint file ../../data/civ_saves/J0100/bilby_fit_civ_msaexp_pypeit_v2//4713_9970_resume.pickle\n",
      "14:05 bilby INFO    : Sampling time: 0:00:16.786780\n",
      "14:05 bilby INFO    : Summary of results:\n",
      "nsamples: 2644\n",
      "ln_noise_evidence:    nan\n",
      "ln_evidence: 324.353 +/-  0.287\n",
      "ln_bayes_factor:    nan +/-  0.287\n",
      "\n"
     ]
    },
    {
     "name": "stdout",
     "output_type": "stream",
     "text": [
      "\n"
     ]
    },
    {
     "name": "stderr",
     "output_type": "stream",
     "text": [
      "/Users/myue/Research/Projects/JWST/dependencies/msa_spec_utils/LAE_spec_utils.py:464: RuntimeWarning: divide by zero encountered in power\n",
      "  self.err_fnu = (self.ivar_fnu)**-0.5\n",
      "/Users/myue/Research/Projects/JWST/dependencies/msa_spec_utils/LAE_spec_utils.py:470: RuntimeWarning: invalid value encountered in divide\n",
      "  self.flam = self.fnu * speed_of_light_angstrom / (self.wave)**2 * 1e-29 * 1e18\n",
      "/Users/myue/Research/Projects/JWST/dependencies/msa_spec_utils/LAE_spec_utils.py:471: RuntimeWarning: divide by zero encountered in divide\n",
      "  self.err_flam = self.err_fnu * (speed_of_light_angstrom / (self.wave)**2 * 1e-29 * 1e18)\n",
      "14:05 bilby INFO    : Running for label '4713_10116', output will be saved to '../../data/civ_saves/J0100/bilby_fit_civ_msaexp_pypeit_v2/'\n",
      "14:05 bilby INFO    : Search parameters:\n",
      "14:05 bilby INFO    :   center = Uniform(minimum=10482.450384425796, maximum=10524.46421362189, name='center', latex_label='center', unit=None, boundary=None)\n",
      "14:05 bilby INFO    :   fwhm = Uniform(minimum=300, maximum=1000, name='fwhm', latex_label='fwhm', unit=None, boundary=None)\n",
      "14:05 bilby INFO    :   flux = Uniform(minimum=-10.978094222512668, maximum=10.978094222512668, name='flux', latex_label='flux', unit=None, boundary=None)\n",
      "14:05 bilby INFO    :   A = Uniform(minimum=-0.05891785230439515, maximum=0.1178357046087903, name='A', latex_label='A', unit=None, boundary=None)\n",
      "14:05 bilby INFO    :   beta = Uniform(minimum=-4, maximum=2, name='beta', latex_label='beta', unit=None, boundary=None)\n",
      "14:05 bilby INFO    :   wave0 = 10503.457299023843\n",
      "14:05 bilby INFO    : Single likelihood evaluation took 3.682e-05 s\n"
     ]
    },
    {
     "data": {
      "application/vnd.jupyter.widget-view+json": {
       "model_id": "01a004b727684118bb42205dd25be55b",
       "version_major": 2,
       "version_minor": 0
      },
      "text/plain": [
       "0it [00:00, ?it/s]"
      ]
     },
     "metadata": {},
     "output_type": "display_data"
    },
    {
     "name": "stderr",
     "output_type": "stream",
     "text": [
      "14:05 bilby INFO    : Using sampler Dynesty with kwargs {'bound': 'multi', 'sample': 'rwalk', 'print_progress': True, 'periodic': None, 'reflective': None, 'check_point_delta_t': 1800, 'nlive': 200, 'first_update': None, 'walks': 100, 'npdim': None, 'rstate': None, 'queue_size': 1, 'pool': None, 'use_pool': None, 'live_points': None, 'logl_args': None, 'logl_kwargs': None, 'ptform_args': None, 'ptform_kwargs': None, 'enlarge': 1.5, 'bootstrap': None, 'vol_dec': 0.5, 'vol_check': 8.0, 'facc': 0.2, 'slices': 5, 'update_interval': 120, 'print_func': <bound method Dynesty._print_func of <bilby.core.sampler.dynesty.Dynesty object at 0x5aea476e0>>, 'dlogz': 0.1, 'maxiter': None, 'maxcall': None, 'logl_max': inf, 'add_live': True, 'save_bounds': False, 'n_effective': None, 'maxmcmc': 5000, 'nact': 5, 'print_method': 'tqdm'}\n",
      "14:05 bilby INFO    : Checkpoint every check_point_delta_t = 600s\n",
      "14:05 bilby INFO    : Using dynesty version 1.0.1\n",
      "14:05 bilby INFO    : Using the bilby-implemented rwalk sample method with ACT estimated walks\n",
      "14:05 bilby INFO    : Resume file ../../data/civ_saves/J0100/bilby_fit_civ_msaexp_pypeit_v2//4713_10116_resume.pickle does not exist.\n",
      "14:05 bilby INFO    : Generating initial points from the prior\n",
      "14:05 bilby INFO    : Written checkpoint file ../../data/civ_saves/J0100/bilby_fit_civ_msaexp_pypeit_v2//4713_10116_resume.pickle\n",
      "14:05 bilby INFO    : Sampling time: 0:00:16.569525\n",
      "14:05 bilby INFO    : Summary of results:\n",
      "nsamples: 2772\n",
      "ln_noise_evidence:    nan\n",
      "ln_evidence: 273.153 +/-  0.288\n",
      "ln_bayes_factor:    nan +/-  0.288\n",
      "\n"
     ]
    },
    {
     "name": "stdout",
     "output_type": "stream",
     "text": [
      "\n"
     ]
    },
    {
     "name": "stderr",
     "output_type": "stream",
     "text": [
      "/Users/myue/Research/Projects/JWST/dependencies/msa_spec_utils/LAE_spec_utils.py:464: RuntimeWarning: divide by zero encountered in power\n",
      "  self.err_fnu = (self.ivar_fnu)**-0.5\n",
      "/Users/myue/Research/Projects/JWST/dependencies/msa_spec_utils/LAE_spec_utils.py:470: RuntimeWarning: invalid value encountered in divide\n",
      "  self.flam = self.fnu * speed_of_light_angstrom / (self.wave)**2 * 1e-29 * 1e18\n",
      "/Users/myue/Research/Projects/JWST/dependencies/msa_spec_utils/LAE_spec_utils.py:471: RuntimeWarning: divide by zero encountered in divide\n",
      "  self.err_flam = self.err_fnu * (speed_of_light_angstrom / (self.wave)**2 * 1e-29 * 1e18)\n",
      "14:05 bilby INFO    : Running for label '4713_10235', output will be saved to '../../data/civ_saves/J0100/bilby_fit_civ_msaexp_pypeit_v2/'\n",
      "14:05 bilby INFO    : Search parameters:\n",
      "14:05 bilby INFO    :   center = Uniform(minimum=11353.198030094665, maximum=11398.701829814485, name='center', latex_label='center', unit=None, boundary=None)\n",
      "14:05 bilby INFO    :   fwhm = Uniform(minimum=300, maximum=1000, name='fwhm', latex_label='fwhm', unit=None, boundary=None)\n",
      "14:05 bilby INFO    :   flux = Uniform(minimum=-10.304361926786603, maximum=10.304361926786603, name='flux', latex_label='flux', unit=None, boundary=None)\n",
      "14:05 bilby INFO    :   A = Uniform(minimum=-0.05106057017100218, maximum=0.10212114034200435, name='A', latex_label='A', unit=None, boundary=None)\n",
      "14:05 bilby INFO    :   beta = Uniform(minimum=-4, maximum=2, name='beta', latex_label='beta', unit=None, boundary=None)\n",
      "14:05 bilby INFO    :   wave0 = 11375.949929954575\n",
      "14:05 bilby INFO    : Single likelihood evaluation took 3.405e-05 s\n"
     ]
    },
    {
     "data": {
      "application/vnd.jupyter.widget-view+json": {
       "model_id": "0f551c2fa94445df9b2d0f51aeb0fb94",
       "version_major": 2,
       "version_minor": 0
      },
      "text/plain": [
       "0it [00:00, ?it/s]"
      ]
     },
     "metadata": {},
     "output_type": "display_data"
    },
    {
     "name": "stderr",
     "output_type": "stream",
     "text": [
      "14:05 bilby INFO    : Using sampler Dynesty with kwargs {'bound': 'multi', 'sample': 'rwalk', 'print_progress': True, 'periodic': None, 'reflective': None, 'check_point_delta_t': 1800, 'nlive': 200, 'first_update': None, 'walks': 100, 'npdim': None, 'rstate': None, 'queue_size': 1, 'pool': None, 'use_pool': None, 'live_points': None, 'logl_args': None, 'logl_kwargs': None, 'ptform_args': None, 'ptform_kwargs': None, 'enlarge': 1.5, 'bootstrap': None, 'vol_dec': 0.5, 'vol_check': 8.0, 'facc': 0.2, 'slices': 5, 'update_interval': 120, 'print_func': <bound method Dynesty._print_func of <bilby.core.sampler.dynesty.Dynesty object at 0x46acd7080>>, 'dlogz': 0.1, 'maxiter': None, 'maxcall': None, 'logl_max': inf, 'add_live': True, 'save_bounds': False, 'n_effective': None, 'maxmcmc': 5000, 'nact': 5, 'print_method': 'tqdm'}\n",
      "14:05 bilby INFO    : Checkpoint every check_point_delta_t = 600s\n",
      "14:05 bilby INFO    : Using dynesty version 1.0.1\n",
      "14:05 bilby INFO    : Using the bilby-implemented rwalk sample method with ACT estimated walks\n",
      "14:05 bilby INFO    : Resume file ../../data/civ_saves/J0100/bilby_fit_civ_msaexp_pypeit_v2//4713_10235_resume.pickle does not exist.\n",
      "14:05 bilby INFO    : Generating initial points from the prior\n",
      "14:05 bilby INFO    : Written checkpoint file ../../data/civ_saves/J0100/bilby_fit_civ_msaexp_pypeit_v2//4713_10235_resume.pickle\n",
      "14:05 bilby INFO    : Sampling time: 0:00:13.897513\n",
      "14:05 bilby INFO    : Summary of results:\n",
      "nsamples: 2158\n",
      "ln_noise_evidence:    nan\n",
      "ln_evidence: 313.798 +/-  0.248\n",
      "ln_bayes_factor:    nan +/-  0.248\n",
      "\n"
     ]
    },
    {
     "name": "stdout",
     "output_type": "stream",
     "text": [
      "\n"
     ]
    },
    {
     "name": "stderr",
     "output_type": "stream",
     "text": [
      "/Users/myue/Research/Projects/JWST/dependencies/msa_spec_utils/LAE_spec_utils.py:464: RuntimeWarning: divide by zero encountered in power\n",
      "  self.err_fnu = (self.ivar_fnu)**-0.5\n",
      "/Users/myue/Research/Projects/JWST/dependencies/msa_spec_utils/LAE_spec_utils.py:470: RuntimeWarning: invalid value encountered in divide\n",
      "  self.flam = self.fnu * speed_of_light_angstrom / (self.wave)**2 * 1e-29 * 1e18\n",
      "/Users/myue/Research/Projects/JWST/dependencies/msa_spec_utils/LAE_spec_utils.py:471: RuntimeWarning: divide by zero encountered in divide\n",
      "  self.err_flam = self.err_fnu * (speed_of_light_angstrom / (self.wave)**2 * 1e-29 * 1e18)\n",
      "14:05 bilby INFO    : Running for label '4713_10287', output will be saved to '../../data/civ_saves/J0100/bilby_fit_civ_msaexp_pypeit_v2/'\n",
      "14:05 bilby INFO    : Search parameters:\n",
      "14:05 bilby INFO    :   center = Uniform(minimum=12011.086008713708, maximum=12059.226633999133, name='center', latex_label='center', unit=None, boundary=None)\n",
      "14:05 bilby INFO    :   fwhm = Uniform(minimum=300, maximum=1000, name='fwhm', latex_label='fwhm', unit=None, boundary=None)\n",
      "14:05 bilby INFO    :   flux = Uniform(minimum=-14.549831005690471, maximum=14.549831005690471, name='flux', latex_label='flux', unit=None, boundary=None)\n",
      "14:05 bilby INFO    :   A = Uniform(minimum=-0.06814883581153806, maximum=0.13629767162307613, name='A', latex_label='A', unit=None, boundary=None)\n",
      "14:05 bilby INFO    :   beta = Uniform(minimum=-4, maximum=2, name='beta', latex_label='beta', unit=None, boundary=None)\n",
      "14:05 bilby INFO    :   wave0 = 12035.15632135642\n",
      "14:05 bilby INFO    : Single likelihood evaluation took 3.832e-05 s\n"
     ]
    },
    {
     "data": {
      "application/vnd.jupyter.widget-view+json": {
       "model_id": "4f4d020b547d4c4faf97cfb074571726",
       "version_major": 2,
       "version_minor": 0
      },
      "text/plain": [
       "0it [00:00, ?it/s]"
      ]
     },
     "metadata": {},
     "output_type": "display_data"
    },
    {
     "name": "stderr",
     "output_type": "stream",
     "text": [
      "14:05 bilby INFO    : Using sampler Dynesty with kwargs {'bound': 'multi', 'sample': 'rwalk', 'print_progress': True, 'periodic': None, 'reflective': None, 'check_point_delta_t': 1800, 'nlive': 200, 'first_update': None, 'walks': 100, 'npdim': None, 'rstate': None, 'queue_size': 1, 'pool': None, 'use_pool': None, 'live_points': None, 'logl_args': None, 'logl_kwargs': None, 'ptform_args': None, 'ptform_kwargs': None, 'enlarge': 1.5, 'bootstrap': None, 'vol_dec': 0.5, 'vol_check': 8.0, 'facc': 0.2, 'slices': 5, 'update_interval': 120, 'print_func': <bound method Dynesty._print_func of <bilby.core.sampler.dynesty.Dynesty object at 0x3c9281ca0>>, 'dlogz': 0.1, 'maxiter': None, 'maxcall': None, 'logl_max': inf, 'add_live': True, 'save_bounds': False, 'n_effective': None, 'maxmcmc': 5000, 'nact': 5, 'print_method': 'tqdm'}\n",
      "14:05 bilby INFO    : Checkpoint every check_point_delta_t = 600s\n",
      "14:05 bilby INFO    : Using dynesty version 1.0.1\n",
      "14:05 bilby INFO    : Using the bilby-implemented rwalk sample method with ACT estimated walks\n",
      "14:05 bilby INFO    : Resume file ../../data/civ_saves/J0100/bilby_fit_civ_msaexp_pypeit_v2//4713_10287_resume.pickle does not exist.\n",
      "14:05 bilby INFO    : Generating initial points from the prior\n",
      "14:06 bilby INFO    : Written checkpoint file ../../data/civ_saves/J0100/bilby_fit_civ_msaexp_pypeit_v2//4713_10287_resume.pickle\n",
      "14:06 bilby INFO    : Sampling time: 0:00:19.269419\n",
      "14:06 bilby INFO    : Summary of results:\n",
      "nsamples: 3026\n",
      "ln_noise_evidence:    nan\n",
      "ln_evidence: 370.799 +/-  0.315\n",
      "ln_bayes_factor:    nan +/-  0.315\n",
      "\n"
     ]
    },
    {
     "name": "stdout",
     "output_type": "stream",
     "text": [
      "\n"
     ]
    },
    {
     "name": "stderr",
     "output_type": "stream",
     "text": [
      "/Users/myue/Research/Projects/JWST/dependencies/msa_spec_utils/LAE_spec_utils.py:464: RuntimeWarning: divide by zero encountered in power\n",
      "  self.err_fnu = (self.ivar_fnu)**-0.5\n",
      "/Users/myue/Research/Projects/JWST/dependencies/msa_spec_utils/LAE_spec_utils.py:470: RuntimeWarning: invalid value encountered in divide\n",
      "  self.flam = self.fnu * speed_of_light_angstrom / (self.wave)**2 * 1e-29 * 1e18\n",
      "/Users/myue/Research/Projects/JWST/dependencies/msa_spec_utils/LAE_spec_utils.py:471: RuntimeWarning: divide by zero encountered in divide\n",
      "  self.err_flam = self.err_fnu * (speed_of_light_angstrom / (self.wave)**2 * 1e-29 * 1e18)\n",
      "14:06 bilby INFO    : Running for label '4713_10683', output will be saved to '../../data/civ_saves/J0100/bilby_fit_civ_msaexp_pypeit_v2/'\n",
      "14:06 bilby INFO    : Search parameters:\n",
      "14:06 bilby INFO    :   center = Uniform(minimum=11328.125321910586, maximum=11373.528629814035, name='center', latex_label='center', unit=None, boundary=None)\n",
      "14:06 bilby INFO    :   fwhm = Uniform(minimum=300, maximum=1000, name='fwhm', latex_label='fwhm', unit=None, boundary=None)\n",
      "14:06 bilby INFO    :   flux = Uniform(minimum=-9.525639481205932, maximum=9.525639481205932, name='flux', latex_label='flux', unit=None, boundary=None)\n",
      "14:06 bilby INFO    :   A = Uniform(minimum=-0.04730628726416525, maximum=0.0946125745283305, name='A', latex_label='A', unit=None, boundary=None)\n",
      "14:06 bilby INFO    :   beta = Uniform(minimum=-4, maximum=2, name='beta', latex_label='beta', unit=None, boundary=None)\n",
      "14:06 bilby INFO    :   wave0 = 11350.82697586231\n",
      "14:06 bilby INFO    : Single likelihood evaluation took 3.432e-05 s\n"
     ]
    },
    {
     "data": {
      "application/vnd.jupyter.widget-view+json": {
       "model_id": "e6d17af1f5ed4f43bb808c8db9082477",
       "version_major": 2,
       "version_minor": 0
      },
      "text/plain": [
       "0it [00:00, ?it/s]"
      ]
     },
     "metadata": {},
     "output_type": "display_data"
    },
    {
     "name": "stderr",
     "output_type": "stream",
     "text": [
      "14:06 bilby INFO    : Using sampler Dynesty with kwargs {'bound': 'multi', 'sample': 'rwalk', 'print_progress': True, 'periodic': None, 'reflective': None, 'check_point_delta_t': 1800, 'nlive': 200, 'first_update': None, 'walks': 100, 'npdim': None, 'rstate': None, 'queue_size': 1, 'pool': None, 'use_pool': None, 'live_points': None, 'logl_args': None, 'logl_kwargs': None, 'ptform_args': None, 'ptform_kwargs': None, 'enlarge': 1.5, 'bootstrap': None, 'vol_dec': 0.5, 'vol_check': 8.0, 'facc': 0.2, 'slices': 5, 'update_interval': 120, 'print_func': <bound method Dynesty._print_func of <bilby.core.sampler.dynesty.Dynesty object at 0x348d71a60>>, 'dlogz': 0.1, 'maxiter': None, 'maxcall': None, 'logl_max': inf, 'add_live': True, 'save_bounds': False, 'n_effective': None, 'maxmcmc': 5000, 'nact': 5, 'print_method': 'tqdm'}\n",
      "14:06 bilby INFO    : Checkpoint every check_point_delta_t = 600s\n",
      "14:06 bilby INFO    : Using dynesty version 1.0.1\n",
      "14:06 bilby INFO    : Using the bilby-implemented rwalk sample method with ACT estimated walks\n",
      "14:06 bilby INFO    : Resume file ../../data/civ_saves/J0100/bilby_fit_civ_msaexp_pypeit_v2//4713_10683_resume.pickle does not exist.\n",
      "14:06 bilby INFO    : Generating initial points from the prior\n",
      "14:06 bilby INFO    : Written checkpoint file ../../data/civ_saves/J0100/bilby_fit_civ_msaexp_pypeit_v2//4713_10683_resume.pickle\n",
      "14:06 bilby INFO    : Sampling time: 0:00:15.234371\n",
      "14:06 bilby INFO    : Summary of results:\n",
      "nsamples: 2380\n",
      "ln_noise_evidence:    nan\n",
      "ln_evidence: 321.854 +/-  0.260\n",
      "ln_bayes_factor:    nan +/-  0.260\n",
      "\n"
     ]
    },
    {
     "name": "stdout",
     "output_type": "stream",
     "text": [
      "\n"
     ]
    },
    {
     "name": "stderr",
     "output_type": "stream",
     "text": [
      "/Users/myue/Research/Projects/JWST/dependencies/msa_spec_utils/LAE_spec_utils.py:464: RuntimeWarning: divide by zero encountered in power\n",
      "  self.err_fnu = (self.ivar_fnu)**-0.5\n",
      "/Users/myue/Research/Projects/JWST/dependencies/msa_spec_utils/LAE_spec_utils.py:470: RuntimeWarning: invalid value encountered in divide\n",
      "  self.flam = self.fnu * speed_of_light_angstrom / (self.wave)**2 * 1e-29 * 1e18\n",
      "/Users/myue/Research/Projects/JWST/dependencies/msa_spec_utils/LAE_spec_utils.py:471: RuntimeWarning: divide by zero encountered in divide\n",
      "  self.err_flam = self.err_fnu * (speed_of_light_angstrom / (self.wave)**2 * 1e-29 * 1e18)\n",
      "14:06 bilby INFO    : Running for label '4713_10998', output will be saved to '../../data/civ_saves/J0100/bilby_fit_civ_msaexp_pypeit_v2/'\n",
      "14:06 bilby INFO    : Search parameters:\n",
      "14:06 bilby INFO    :   center = Uniform(minimum=11325.188502385712, maximum=11370.580039469422, name='center', latex_label='center', unit=None, boundary=None)\n",
      "14:06 bilby INFO    :   fwhm = Uniform(minimum=300, maximum=1000, name='fwhm', latex_label='fwhm', unit=None, boundary=None)\n",
      "14:06 bilby INFO    :   flux = Uniform(minimum=-13.540115896254964, maximum=13.540115896254964, name='flux', latex_label='flux', unit=None, boundary=None)\n",
      "14:06 bilby INFO    :   A = Uniform(minimum=-0.06726044112372313, maximum=0.13452088224744627, name='A', latex_label='A', unit=None, boundary=None)\n",
      "14:06 bilby INFO    :   beta = Uniform(minimum=-4, maximum=2, name='beta', latex_label='beta', unit=None, boundary=None)\n",
      "14:06 bilby INFO    :   wave0 = 11347.884270927567\n",
      "14:06 bilby INFO    : Single likelihood evaluation took 3.323e-05 s\n"
     ]
    },
    {
     "data": {
      "application/vnd.jupyter.widget-view+json": {
       "model_id": "935834fefc0945738ede03457867c575",
       "version_major": 2,
       "version_minor": 0
      },
      "text/plain": [
       "0it [00:00, ?it/s]"
      ]
     },
     "metadata": {},
     "output_type": "display_data"
    },
    {
     "name": "stderr",
     "output_type": "stream",
     "text": [
      "14:06 bilby INFO    : Using sampler Dynesty with kwargs {'bound': 'multi', 'sample': 'rwalk', 'print_progress': True, 'periodic': None, 'reflective': None, 'check_point_delta_t': 1800, 'nlive': 200, 'first_update': None, 'walks': 100, 'npdim': None, 'rstate': None, 'queue_size': 1, 'pool': None, 'use_pool': None, 'live_points': None, 'logl_args': None, 'logl_kwargs': None, 'ptform_args': None, 'ptform_kwargs': None, 'enlarge': 1.5, 'bootstrap': None, 'vol_dec': 0.5, 'vol_check': 8.0, 'facc': 0.2, 'slices': 5, 'update_interval': 120, 'print_func': <bound method Dynesty._print_func of <bilby.core.sampler.dynesty.Dynesty object at 0x4ab94cad0>>, 'dlogz': 0.1, 'maxiter': None, 'maxcall': None, 'logl_max': inf, 'add_live': True, 'save_bounds': False, 'n_effective': None, 'maxmcmc': 5000, 'nact': 5, 'print_method': 'tqdm'}\n",
      "14:06 bilby INFO    : Checkpoint every check_point_delta_t = 600s\n",
      "14:06 bilby INFO    : Using dynesty version 1.0.1\n",
      "14:06 bilby INFO    : Using the bilby-implemented rwalk sample method with ACT estimated walks\n",
      "14:06 bilby INFO    : Resume file ../../data/civ_saves/J0100/bilby_fit_civ_msaexp_pypeit_v2//4713_10998_resume.pickle does not exist.\n",
      "14:06 bilby INFO    : Generating initial points from the prior\n",
      "14:06 bilby INFO    : Written checkpoint file ../../data/civ_saves/J0100/bilby_fit_civ_msaexp_pypeit_v2//4713_10998_resume.pickle\n",
      "14:06 bilby INFO    : Sampling time: 0:00:17.062946\n",
      "14:06 bilby INFO    : Summary of results:\n",
      "nsamples: 2767\n",
      "ln_noise_evidence:    nan\n",
      "ln_evidence: 294.832 +/-  0.279\n",
      "ln_bayes_factor:    nan +/-  0.279\n",
      "\n"
     ]
    },
    {
     "name": "stdout",
     "output_type": "stream",
     "text": [
      "\n"
     ]
    },
    {
     "name": "stderr",
     "output_type": "stream",
     "text": [
      "/Users/myue/Research/Projects/JWST/dependencies/msa_spec_utils/LAE_spec_utils.py:464: RuntimeWarning: divide by zero encountered in power\n",
      "  self.err_fnu = (self.ivar_fnu)**-0.5\n",
      "/Users/myue/Research/Projects/JWST/dependencies/msa_spec_utils/LAE_spec_utils.py:470: RuntimeWarning: invalid value encountered in divide\n",
      "  self.flam = self.fnu * speed_of_light_angstrom / (self.wave)**2 * 1e-29 * 1e18\n",
      "/Users/myue/Research/Projects/JWST/dependencies/msa_spec_utils/LAE_spec_utils.py:471: RuntimeWarning: divide by zero encountered in divide\n",
      "  self.err_flam = self.err_fnu * (speed_of_light_angstrom / (self.wave)**2 * 1e-29 * 1e18)\n",
      "14:06 bilby INFO    : Running for label '4713_11362', output will be saved to '../../data/civ_saves/J0100/bilby_fit_civ_msaexp_pypeit_v2/'\n",
      "14:06 bilby INFO    : Search parameters:\n",
      "14:06 bilby INFO    :   center = Uniform(minimum=11328.653778905109, maximum=11374.059204872663, name='center', latex_label='center', unit=None, boundary=None)\n",
      "14:06 bilby INFO    :   fwhm = Uniform(minimum=300, maximum=1000, name='fwhm', latex_label='fwhm', unit=None, boundary=None)\n",
      "14:06 bilby INFO    :   flux = Uniform(minimum=-8.378302001619266, maximum=8.378302001619266, name='flux', latex_label='flux', unit=None, boundary=None)\n",
      "14:06 bilby INFO    :   A = Uniform(minimum=-0.04160643213120129, maximum=0.08321286426240258, name='A', latex_label='A', unit=None, boundary=None)\n",
      "14:06 bilby INFO    :   beta = Uniform(minimum=-4, maximum=2, name='beta', latex_label='beta', unit=None, boundary=None)\n",
      "14:06 bilby INFO    :   wave0 = 11351.356491888886\n",
      "14:06 bilby INFO    : Single likelihood evaluation took 3.333e-05 s\n"
     ]
    },
    {
     "data": {
      "application/vnd.jupyter.widget-view+json": {
       "model_id": "34c18122f52145a0afef8377c5e5b047",
       "version_major": 2,
       "version_minor": 0
      },
      "text/plain": [
       "0it [00:00, ?it/s]"
      ]
     },
     "metadata": {},
     "output_type": "display_data"
    },
    {
     "name": "stderr",
     "output_type": "stream",
     "text": [
      "14:06 bilby INFO    : Using sampler Dynesty with kwargs {'bound': 'multi', 'sample': 'rwalk', 'print_progress': True, 'periodic': None, 'reflective': None, 'check_point_delta_t': 1800, 'nlive': 200, 'first_update': None, 'walks': 100, 'npdim': None, 'rstate': None, 'queue_size': 1, 'pool': None, 'use_pool': None, 'live_points': None, 'logl_args': None, 'logl_kwargs': None, 'ptform_args': None, 'ptform_kwargs': None, 'enlarge': 1.5, 'bootstrap': None, 'vol_dec': 0.5, 'vol_check': 8.0, 'facc': 0.2, 'slices': 5, 'update_interval': 120, 'print_func': <bound method Dynesty._print_func of <bilby.core.sampler.dynesty.Dynesty object at 0x52c204470>>, 'dlogz': 0.1, 'maxiter': None, 'maxcall': None, 'logl_max': inf, 'add_live': True, 'save_bounds': False, 'n_effective': None, 'maxmcmc': 5000, 'nact': 5, 'print_method': 'tqdm'}\n",
      "14:06 bilby INFO    : Checkpoint every check_point_delta_t = 600s\n",
      "14:06 bilby INFO    : Using dynesty version 1.0.1\n",
      "14:06 bilby INFO    : Using the bilby-implemented rwalk sample method with ACT estimated walks\n",
      "14:06 bilby INFO    : Resume file ../../data/civ_saves/J0100/bilby_fit_civ_msaexp_pypeit_v2//4713_11362_resume.pickle does not exist.\n",
      "14:06 bilby INFO    : Generating initial points from the prior\n",
      "14:06 bilby INFO    : Written checkpoint file ../../data/civ_saves/J0100/bilby_fit_civ_msaexp_pypeit_v2//4713_11362_resume.pickle\n",
      "14:06 bilby INFO    : Sampling time: 0:00:14.272291\n",
      "14:06 bilby INFO    : Summary of results:\n",
      "nsamples: 2446\n",
      "ln_noise_evidence:    nan\n",
      "ln_evidence: 306.627 +/-  0.256\n",
      "ln_bayes_factor:    nan +/-  0.256\n",
      "\n"
     ]
    },
    {
     "name": "stdout",
     "output_type": "stream",
     "text": [
      "\n"
     ]
    },
    {
     "name": "stderr",
     "output_type": "stream",
     "text": [
      "/Users/myue/Research/Projects/JWST/dependencies/msa_spec_utils/LAE_spec_utils.py:464: RuntimeWarning: divide by zero encountered in power\n",
      "  self.err_fnu = (self.ivar_fnu)**-0.5\n",
      "/Users/myue/Research/Projects/JWST/dependencies/msa_spec_utils/LAE_spec_utils.py:470: RuntimeWarning: invalid value encountered in divide\n",
      "  self.flam = self.fnu * speed_of_light_angstrom / (self.wave)**2 * 1e-29 * 1e18\n",
      "/Users/myue/Research/Projects/JWST/dependencies/msa_spec_utils/LAE_spec_utils.py:471: RuntimeWarning: divide by zero encountered in divide\n",
      "  self.err_flam = self.err_fnu * (speed_of_light_angstrom / (self.wave)**2 * 1e-29 * 1e18)\n",
      "14:06 bilby INFO    : Running for label '4713_11743', output will be saved to '../../data/civ_saves/J0100/bilby_fit_civ_msaexp_pypeit_v2/'\n",
      "14:06 bilby INFO    : Search parameters:\n",
      "14:06 bilby INFO    :   center = Uniform(minimum=12075.333120127561, maximum=12123.731248865548, name='center', latex_label='center', unit=None, boundary=None)\n",
      "14:06 bilby INFO    :   fwhm = Uniform(minimum=300, maximum=1000, name='fwhm', latex_label='fwhm', unit=None, boundary=None)\n",
      "14:06 bilby INFO    :   flux = Uniform(minimum=-13.563106420953478, maximum=13.563106420953478, name='flux', latex_label='flux', unit=None, boundary=None)\n",
      "14:06 bilby INFO    :   A = Uniform(minimum=-0.06318919431053481, maximum=0.12637838862106962, name='A', latex_label='A', unit=None, boundary=None)\n",
      "14:06 bilby INFO    :   beta = Uniform(minimum=-4, maximum=2, name='beta', latex_label='beta', unit=None, boundary=None)\n",
      "14:06 bilby INFO    :   wave0 = 12099.532184496555\n",
      "14:06 bilby INFO    : Single likelihood evaluation took 3.211e-05 s\n"
     ]
    },
    {
     "data": {
      "application/vnd.jupyter.widget-view+json": {
       "model_id": "17ac25e4f4b342a6bf727cf52cdda75d",
       "version_major": 2,
       "version_minor": 0
      },
      "text/plain": [
       "0it [00:00, ?it/s]"
      ]
     },
     "metadata": {},
     "output_type": "display_data"
    },
    {
     "name": "stderr",
     "output_type": "stream",
     "text": [
      "14:06 bilby INFO    : Using sampler Dynesty with kwargs {'bound': 'multi', 'sample': 'rwalk', 'print_progress': True, 'periodic': None, 'reflective': None, 'check_point_delta_t': 1800, 'nlive': 200, 'first_update': None, 'walks': 100, 'npdim': None, 'rstate': None, 'queue_size': 1, 'pool': None, 'use_pool': None, 'live_points': None, 'logl_args': None, 'logl_kwargs': None, 'ptform_args': None, 'ptform_kwargs': None, 'enlarge': 1.5, 'bootstrap': None, 'vol_dec': 0.5, 'vol_check': 8.0, 'facc': 0.2, 'slices': 5, 'update_interval': 120, 'print_func': <bound method Dynesty._print_func of <bilby.core.sampler.dynesty.Dynesty object at 0x1749baf30>>, 'dlogz': 0.1, 'maxiter': None, 'maxcall': None, 'logl_max': inf, 'add_live': True, 'save_bounds': False, 'n_effective': None, 'maxmcmc': 5000, 'nact': 5, 'print_method': 'tqdm'}\n",
      "14:06 bilby INFO    : Checkpoint every check_point_delta_t = 600s\n",
      "14:06 bilby INFO    : Using dynesty version 1.0.1\n",
      "14:06 bilby INFO    : Using the bilby-implemented rwalk sample method with ACT estimated walks\n",
      "14:06 bilby INFO    : Resume file ../../data/civ_saves/J0100/bilby_fit_civ_msaexp_pypeit_v2//4713_11743_resume.pickle does not exist.\n",
      "14:06 bilby INFO    : Generating initial points from the prior\n",
      "14:07 bilby INFO    : Written checkpoint file ../../data/civ_saves/J0100/bilby_fit_civ_msaexp_pypeit_v2//4713_11743_resume.pickle\n",
      "14:07 bilby INFO    : Sampling time: 0:00:13.758502\n",
      "14:07 bilby INFO    : Summary of results:\n",
      "nsamples: 1698\n",
      "ln_noise_evidence:    nan\n",
      "ln_evidence: 163.815 +/-  0.199\n",
      "ln_bayes_factor:    nan +/-  0.199\n",
      "\n"
     ]
    },
    {
     "name": "stdout",
     "output_type": "stream",
     "text": [
      "\n"
     ]
    },
    {
     "name": "stderr",
     "output_type": "stream",
     "text": [
      "/Users/myue/Research/Projects/JWST/dependencies/msa_spec_utils/LAE_spec_utils.py:464: RuntimeWarning: divide by zero encountered in power\n",
      "  self.err_fnu = (self.ivar_fnu)**-0.5\n",
      "/Users/myue/Research/Projects/JWST/dependencies/msa_spec_utils/LAE_spec_utils.py:470: RuntimeWarning: invalid value encountered in divide\n",
      "  self.flam = self.fnu * speed_of_light_angstrom / (self.wave)**2 * 1e-29 * 1e18\n",
      "/Users/myue/Research/Projects/JWST/dependencies/msa_spec_utils/LAE_spec_utils.py:471: RuntimeWarning: divide by zero encountered in divide\n",
      "  self.err_flam = self.err_fnu * (speed_of_light_angstrom / (self.wave)**2 * 1e-29 * 1e18)\n",
      "14:07 bilby INFO    : Running for label '4713_11981', output will be saved to '../../data/civ_saves/J0100/bilby_fit_civ_msaexp_pypeit_v2/'\n",
      "14:07 bilby INFO    : Search parameters:\n",
      "14:07 bilby INFO    :   center = Uniform(minimum=12091.71655705124, maximum=12140.180350867078, name='center', latex_label='center', unit=None, boundary=None)\n",
      "14:07 bilby INFO    :   fwhm = Uniform(minimum=300, maximum=1000, name='fwhm', latex_label='fwhm', unit=None, boundary=None)\n",
      "14:07 bilby INFO    :   flux = Uniform(minimum=-14.97226902973539, maximum=14.97226902973539, name='flux', latex_label='flux', unit=None, boundary=None)\n",
      "14:07 bilby INFO    :   A = Uniform(minimum=-0.06965983361785082, maximum=0.13931966723570163, name='A', latex_label='A', unit=None, boundary=None)\n",
      "14:07 bilby INFO    :   beta = Uniform(minimum=-4, maximum=2, name='beta', latex_label='beta', unit=None, boundary=None)\n",
      "14:07 bilby INFO    :   wave0 = 12115.94845395916\n",
      "14:07 bilby INFO    : Single likelihood evaluation took 3.331e-05 s\n"
     ]
    },
    {
     "data": {
      "application/vnd.jupyter.widget-view+json": {
       "model_id": "8f2e12555c104581aed87607e7da2e43",
       "version_major": 2,
       "version_minor": 0
      },
      "text/plain": [
       "0it [00:00, ?it/s]"
      ]
     },
     "metadata": {},
     "output_type": "display_data"
    },
    {
     "name": "stderr",
     "output_type": "stream",
     "text": [
      "14:07 bilby INFO    : Using sampler Dynesty with kwargs {'bound': 'multi', 'sample': 'rwalk', 'print_progress': True, 'periodic': None, 'reflective': None, 'check_point_delta_t': 1800, 'nlive': 200, 'first_update': None, 'walks': 100, 'npdim': None, 'rstate': None, 'queue_size': 1, 'pool': None, 'use_pool': None, 'live_points': None, 'logl_args': None, 'logl_kwargs': None, 'ptform_args': None, 'ptform_kwargs': None, 'enlarge': 1.5, 'bootstrap': None, 'vol_dec': 0.5, 'vol_check': 8.0, 'facc': 0.2, 'slices': 5, 'update_interval': 120, 'print_func': <bound method Dynesty._print_func of <bilby.core.sampler.dynesty.Dynesty object at 0x97431d880>>, 'dlogz': 0.1, 'maxiter': None, 'maxcall': None, 'logl_max': inf, 'add_live': True, 'save_bounds': False, 'n_effective': None, 'maxmcmc': 5000, 'nact': 5, 'print_method': 'tqdm'}\n",
      "14:07 bilby INFO    : Checkpoint every check_point_delta_t = 600s\n",
      "14:07 bilby INFO    : Using dynesty version 1.0.1\n",
      "14:07 bilby INFO    : Using the bilby-implemented rwalk sample method with ACT estimated walks\n",
      "14:07 bilby INFO    : Resume file ../../data/civ_saves/J0100/bilby_fit_civ_msaexp_pypeit_v2//4713_11981_resume.pickle does not exist.\n",
      "14:07 bilby INFO    : Generating initial points from the prior\n",
      "14:07 bilby INFO    : Written checkpoint file ../../data/civ_saves/J0100/bilby_fit_civ_msaexp_pypeit_v2//4713_11981_resume.pickle\n",
      "14:07 bilby INFO    : Sampling time: 0:00:19.400235\n",
      "14:07 bilby INFO    : Summary of results:\n",
      "nsamples: 3258\n",
      "ln_noise_evidence:    nan\n",
      "ln_evidence: 186.836 +/-  0.306\n",
      "ln_bayes_factor:    nan +/-  0.306\n",
      "\n"
     ]
    },
    {
     "name": "stdout",
     "output_type": "stream",
     "text": [
      "\n"
     ]
    },
    {
     "name": "stderr",
     "output_type": "stream",
     "text": [
      "14:07 bilby INFO    : Running for label '4713_12217', output will be saved to '../../data/civ_saves/J0100/bilby_fit_civ_msaexp_pypeit_v2/'\n",
      "14:07 bilby INFO    : Search parameters:\n",
      "14:07 bilby INFO    :   center = Uniform(minimum=12016.514105159486, maximum=12064.676486342489, name='center', latex_label='center', unit=None, boundary=None)\n",
      "14:07 bilby INFO    :   fwhm = Uniform(minimum=300, maximum=1000, name='fwhm', latex_label='fwhm', unit=None, boundary=None)\n",
      "14:07 bilby INFO    :   flux = Uniform(minimum=-8.073193178907001, maximum=8.073193178907001, name='flux', latex_label='flux', unit=None, boundary=None)\n",
      "14:07 bilby INFO    :   A = Uniform(minimum=-0.03779632833059417, maximum=0.07559265666118833, name='A', latex_label='A', unit=None, boundary=None)\n",
      "14:07 bilby INFO    :   beta = Uniform(minimum=-4, maximum=2, name='beta', latex_label='beta', unit=None, boundary=None)\n",
      "14:07 bilby INFO    :   wave0 = 12040.595295750987\n",
      "14:07 bilby INFO    : Single likelihood evaluation took 3.394e-05 s\n"
     ]
    },
    {
     "data": {
      "application/vnd.jupyter.widget-view+json": {
       "model_id": "4ad013f5b06b41e2b1a29e130ca9cc37",
       "version_major": 2,
       "version_minor": 0
      },
      "text/plain": [
       "0it [00:00, ?it/s]"
      ]
     },
     "metadata": {},
     "output_type": "display_data"
    },
    {
     "name": "stderr",
     "output_type": "stream",
     "text": [
      "14:07 bilby INFO    : Using sampler Dynesty with kwargs {'bound': 'multi', 'sample': 'rwalk', 'print_progress': True, 'periodic': None, 'reflective': None, 'check_point_delta_t': 1800, 'nlive': 200, 'first_update': None, 'walks': 100, 'npdim': None, 'rstate': None, 'queue_size': 1, 'pool': None, 'use_pool': None, 'live_points': None, 'logl_args': None, 'logl_kwargs': None, 'ptform_args': None, 'ptform_kwargs': None, 'enlarge': 1.5, 'bootstrap': None, 'vol_dec': 0.5, 'vol_check': 8.0, 'facc': 0.2, 'slices': 5, 'update_interval': 120, 'print_func': <bound method Dynesty._print_func of <bilby.core.sampler.dynesty.Dynesty object at 0x8272786e0>>, 'dlogz': 0.1, 'maxiter': None, 'maxcall': None, 'logl_max': inf, 'add_live': True, 'save_bounds': False, 'n_effective': None, 'maxmcmc': 5000, 'nact': 5, 'print_method': 'tqdm'}\n",
      "14:07 bilby INFO    : Checkpoint every check_point_delta_t = 600s\n",
      "14:07 bilby INFO    : Using dynesty version 1.0.1\n",
      "14:07 bilby INFO    : Using the bilby-implemented rwalk sample method with ACT estimated walks\n",
      "14:07 bilby INFO    : Resume file ../../data/civ_saves/J0100/bilby_fit_civ_msaexp_pypeit_v2//4713_12217_resume.pickle does not exist.\n",
      "14:07 bilby INFO    : Generating initial points from the prior\n",
      "14:07 bilby INFO    : Written checkpoint file ../../data/civ_saves/J0100/bilby_fit_civ_msaexp_pypeit_v2//4713_12217_resume.pickle\n",
      "14:07 bilby INFO    : Sampling time: 0:00:15.105286\n",
      "14:07 bilby INFO    : Summary of results:\n",
      "nsamples: 2304\n",
      "ln_noise_evidence:    nan\n",
      "ln_evidence: 388.461 +/-  0.257\n",
      "ln_bayes_factor:    nan +/-  0.257\n",
      "\n"
     ]
    },
    {
     "name": "stdout",
     "output_type": "stream",
     "text": [
      "\n"
     ]
    },
    {
     "name": "stderr",
     "output_type": "stream",
     "text": [
      "/Users/myue/Research/Projects/JWST/dependencies/msa_spec_utils/LAE_spec_utils.py:464: RuntimeWarning: divide by zero encountered in power\n",
      "  self.err_fnu = (self.ivar_fnu)**-0.5\n",
      "/Users/myue/Research/Projects/JWST/dependencies/msa_spec_utils/LAE_spec_utils.py:470: RuntimeWarning: invalid value encountered in divide\n",
      "  self.flam = self.fnu * speed_of_light_angstrom / (self.wave)**2 * 1e-29 * 1e18\n",
      "/Users/myue/Research/Projects/JWST/dependencies/msa_spec_utils/LAE_spec_utils.py:471: RuntimeWarning: divide by zero encountered in divide\n",
      "  self.err_flam = self.err_fnu * (speed_of_light_angstrom / (self.wave)**2 * 1e-29 * 1e18)\n",
      "14:07 bilby INFO    : Running for label '4713_12285', output will be saved to '../../data/civ_saves/J0100/bilby_fit_civ_msaexp_pypeit_v2/'\n",
      "14:07 bilby INFO    : Search parameters:\n",
      "14:07 bilby INFO    :   center = Uniform(minimum=11134.864406885576, maximum=11179.493121943233, name='center', latex_label='center', unit=None, boundary=None)\n",
      "14:07 bilby INFO    :   fwhm = Uniform(minimum=300, maximum=1000, name='fwhm', latex_label='fwhm', unit=None, boundary=None)\n",
      "14:07 bilby INFO    :   flux = Uniform(minimum=-10.082595456514607, maximum=10.082595456514607, name='flux', latex_label='flux', unit=None, boundary=None)\n",
      "14:07 bilby INFO    :   A = Uniform(minimum=-0.050941318145218656, maximum=0.10188263629043731, name='A', latex_label='A', unit=None, boundary=None)\n",
      "14:07 bilby INFO    :   beta = Uniform(minimum=-4, maximum=2, name='beta', latex_label='beta', unit=None, boundary=None)\n",
      "14:07 bilby INFO    :   wave0 = 11157.178764414404\n",
      "14:07 bilby INFO    : Single likelihood evaluation took 3.462e-05 s\n"
     ]
    },
    {
     "data": {
      "application/vnd.jupyter.widget-view+json": {
       "model_id": "99df28390e9e4f109c52e69f0c783545",
       "version_major": 2,
       "version_minor": 0
      },
      "text/plain": [
       "0it [00:00, ?it/s]"
      ]
     },
     "metadata": {},
     "output_type": "display_data"
    },
    {
     "name": "stderr",
     "output_type": "stream",
     "text": [
      "14:07 bilby INFO    : Using sampler Dynesty with kwargs {'bound': 'multi', 'sample': 'rwalk', 'print_progress': True, 'periodic': None, 'reflective': None, 'check_point_delta_t': 1800, 'nlive': 200, 'first_update': None, 'walks': 100, 'npdim': None, 'rstate': None, 'queue_size': 1, 'pool': None, 'use_pool': None, 'live_points': None, 'logl_args': None, 'logl_kwargs': None, 'ptform_args': None, 'ptform_kwargs': None, 'enlarge': 1.5, 'bootstrap': None, 'vol_dec': 0.5, 'vol_check': 8.0, 'facc': 0.2, 'slices': 5, 'update_interval': 120, 'print_func': <bound method Dynesty._print_func of <bilby.core.sampler.dynesty.Dynesty object at 0x8d7097590>>, 'dlogz': 0.1, 'maxiter': None, 'maxcall': None, 'logl_max': inf, 'add_live': True, 'save_bounds': False, 'n_effective': None, 'maxmcmc': 5000, 'nact': 5, 'print_method': 'tqdm'}\n",
      "14:07 bilby INFO    : Checkpoint every check_point_delta_t = 600s\n",
      "14:07 bilby INFO    : Using dynesty version 1.0.1\n",
      "14:07 bilby INFO    : Using the bilby-implemented rwalk sample method with ACT estimated walks\n",
      "14:07 bilby INFO    : Resume file ../../data/civ_saves/J0100/bilby_fit_civ_msaexp_pypeit_v2//4713_12285_resume.pickle does not exist.\n",
      "14:07 bilby INFO    : Generating initial points from the prior\n",
      "14:08 bilby INFO    : Written checkpoint file ../../data/civ_saves/J0100/bilby_fit_civ_msaexp_pypeit_v2//4713_12285_resume.pickle\n",
      "14:08 bilby INFO    : Sampling time: 0:00:15.927022\n",
      "14:08 bilby INFO    : Summary of results:\n",
      "nsamples: 2414\n",
      "ln_noise_evidence:    nan\n",
      "ln_evidence: 321.629 +/-  0.264\n",
      "ln_bayes_factor:    nan +/-  0.264\n",
      "\n"
     ]
    },
    {
     "name": "stdout",
     "output_type": "stream",
     "text": [
      "\n"
     ]
    },
    {
     "name": "stderr",
     "output_type": "stream",
     "text": [
      "/Users/myue/Research/Projects/JWST/dependencies/msa_spec_utils/LAE_spec_utils.py:464: RuntimeWarning: divide by zero encountered in power\n",
      "  self.err_fnu = (self.ivar_fnu)**-0.5\n",
      "/Users/myue/Research/Projects/JWST/dependencies/msa_spec_utils/LAE_spec_utils.py:470: RuntimeWarning: invalid value encountered in divide\n",
      "  self.flam = self.fnu * speed_of_light_angstrom / (self.wave)**2 * 1e-29 * 1e18\n",
      "/Users/myue/Research/Projects/JWST/dependencies/msa_spec_utils/LAE_spec_utils.py:471: RuntimeWarning: divide by zero encountered in divide\n",
      "  self.err_flam = self.err_fnu * (speed_of_light_angstrom / (self.wave)**2 * 1e-29 * 1e18)\n",
      "14:08 bilby INFO    : Running for label '4713_12643', output will be saved to '../../data/civ_saves/J0100/bilby_fit_civ_msaexp_pypeit_v2/'\n",
      "14:08 bilby INFO    : Search parameters:\n",
      "14:08 bilby INFO    :   center = Uniform(minimum=11731.897844666879, maximum=11778.919479314844, name='center', latex_label='center', unit=None, boundary=None)\n",
      "14:08 bilby INFO    :   fwhm = Uniform(minimum=300, maximum=1000, name='fwhm', latex_label='fwhm', unit=None, boundary=None)\n",
      "14:08 bilby INFO    :   flux = Uniform(minimum=-7.240388677963418, maximum=7.240388677963418, name='flux', latex_label='flux', unit=None, boundary=None)\n",
      "14:08 bilby INFO    :   A = Uniform(minimum=-0.03645389247377658, maximum=0.07290778494755316, name='A', latex_label='A', unit=None, boundary=None)\n",
      "14:08 bilby INFO    :   beta = Uniform(minimum=-4, maximum=2, name='beta', latex_label='beta', unit=None, boundary=None)\n",
      "14:08 bilby INFO    :   wave0 = 11755.408661990861\n",
      "14:08 bilby INFO    : Single likelihood evaluation took 3.492e-05 s\n"
     ]
    },
    {
     "data": {
      "application/vnd.jupyter.widget-view+json": {
       "model_id": "a234e66a349447a691ff647cc38054f1",
       "version_major": 2,
       "version_minor": 0
      },
      "text/plain": [
       "0it [00:00, ?it/s]"
      ]
     },
     "metadata": {},
     "output_type": "display_data"
    },
    {
     "name": "stderr",
     "output_type": "stream",
     "text": [
      "14:08 bilby INFO    : Using sampler Dynesty with kwargs {'bound': 'multi', 'sample': 'rwalk', 'print_progress': True, 'periodic': None, 'reflective': None, 'check_point_delta_t': 1800, 'nlive': 200, 'first_update': None, 'walks': 100, 'npdim': None, 'rstate': None, 'queue_size': 1, 'pool': None, 'use_pool': None, 'live_points': None, 'logl_args': None, 'logl_kwargs': None, 'ptform_args': None, 'ptform_kwargs': None, 'enlarge': 1.5, 'bootstrap': None, 'vol_dec': 0.5, 'vol_check': 8.0, 'facc': 0.2, 'slices': 5, 'update_interval': 120, 'print_func': <bound method Dynesty._print_func of <bilby.core.sampler.dynesty.Dynesty object at 0x3e91806e0>>, 'dlogz': 0.1, 'maxiter': None, 'maxcall': None, 'logl_max': inf, 'add_live': True, 'save_bounds': False, 'n_effective': None, 'maxmcmc': 5000, 'nact': 5, 'print_method': 'tqdm'}\n",
      "14:08 bilby INFO    : Checkpoint every check_point_delta_t = 600s\n",
      "14:08 bilby INFO    : Using dynesty version 1.0.1\n",
      "14:08 bilby INFO    : Using the bilby-implemented rwalk sample method with ACT estimated walks\n",
      "14:08 bilby INFO    : Resume file ../../data/civ_saves/J0100/bilby_fit_civ_msaexp_pypeit_v2//4713_12643_resume.pickle does not exist.\n",
      "14:08 bilby INFO    : Generating initial points from the prior\n",
      "14:08 bilby INFO    : Written checkpoint file ../../data/civ_saves/J0100/bilby_fit_civ_msaexp_pypeit_v2//4713_12643_resume.pickle\n",
      "14:08 bilby INFO    : Sampling time: 0:00:12.369089\n",
      "14:08 bilby INFO    : Summary of results:\n",
      "nsamples: 2100\n",
      "ln_noise_evidence:    nan\n",
      "ln_evidence: 291.567 +/-  0.239\n",
      "ln_bayes_factor:    nan +/-  0.239\n",
      "\n"
     ]
    },
    {
     "name": "stdout",
     "output_type": "stream",
     "text": [
      "\n"
     ]
    },
    {
     "name": "stderr",
     "output_type": "stream",
     "text": [
      "/Users/myue/Research/Projects/JWST/dependencies/msa_spec_utils/LAE_spec_utils.py:464: RuntimeWarning: divide by zero encountered in power\n",
      "  self.err_fnu = (self.ivar_fnu)**-0.5\n",
      "/Users/myue/Research/Projects/JWST/dependencies/msa_spec_utils/LAE_spec_utils.py:470: RuntimeWarning: invalid value encountered in divide\n",
      "  self.flam = self.fnu * speed_of_light_angstrom / (self.wave)**2 * 1e-29 * 1e18\n",
      "/Users/myue/Research/Projects/JWST/dependencies/msa_spec_utils/LAE_spec_utils.py:471: RuntimeWarning: divide by zero encountered in divide\n",
      "  self.err_flam = self.err_fnu * (speed_of_light_angstrom / (self.wave)**2 * 1e-29 * 1e18)\n",
      "14:08 bilby INFO    : Running for label '4713_12754', output will be saved to '../../data/civ_saves/J0100/bilby_fit_civ_msaexp_pypeit_v2/'\n",
      "14:08 bilby INFO    : Search parameters:\n",
      "14:08 bilby INFO    :   center = Uniform(minimum=11327.146651291176, maximum=11372.546036667092, name='center', latex_label='center', unit=None, boundary=None)\n",
      "14:08 bilby INFO    :   fwhm = Uniform(minimum=300, maximum=1000, name='fwhm', latex_label='fwhm', unit=None, boundary=None)\n",
      "14:08 bilby INFO    :   flux = Uniform(minimum=-11.157654021066428, maximum=11.157654021066428, name='flux', latex_label='flux', unit=None, boundary=None)\n",
      "14:08 bilby INFO    :   A = Uniform(minimum=-0.05541599510091155, maximum=0.1108319902018231, name='A', latex_label='A', unit=None, boundary=None)\n",
      "14:08 bilby INFO    :   beta = Uniform(minimum=-4, maximum=2, name='beta', latex_label='beta', unit=None, boundary=None)\n",
      "14:08 bilby INFO    :   wave0 = 11349.846343979134\n",
      "14:08 bilby INFO    : Single likelihood evaluation took 4.186e-05 s\n"
     ]
    },
    {
     "data": {
      "application/vnd.jupyter.widget-view+json": {
       "model_id": "50e22c568867484c962160085e69aa09",
       "version_major": 2,
       "version_minor": 0
      },
      "text/plain": [
       "0it [00:00, ?it/s]"
      ]
     },
     "metadata": {},
     "output_type": "display_data"
    },
    {
     "name": "stderr",
     "output_type": "stream",
     "text": [
      "14:08 bilby INFO    : Using sampler Dynesty with kwargs {'bound': 'multi', 'sample': 'rwalk', 'print_progress': True, 'periodic': None, 'reflective': None, 'check_point_delta_t': 1800, 'nlive': 200, 'first_update': None, 'walks': 100, 'npdim': None, 'rstate': None, 'queue_size': 1, 'pool': None, 'use_pool': None, 'live_points': None, 'logl_args': None, 'logl_kwargs': None, 'ptform_args': None, 'ptform_kwargs': None, 'enlarge': 1.5, 'bootstrap': None, 'vol_dec': 0.5, 'vol_check': 8.0, 'facc': 0.2, 'slices': 5, 'update_interval': 120, 'print_func': <bound method Dynesty._print_func of <bilby.core.sampler.dynesty.Dynesty object at 0x7128a7080>>, 'dlogz': 0.1, 'maxiter': None, 'maxcall': None, 'logl_max': inf, 'add_live': True, 'save_bounds': False, 'n_effective': None, 'maxmcmc': 5000, 'nact': 5, 'print_method': 'tqdm'}\n",
      "14:08 bilby INFO    : Checkpoint every check_point_delta_t = 600s\n",
      "14:08 bilby INFO    : Using dynesty version 1.0.1\n",
      "14:08 bilby INFO    : Using the bilby-implemented rwalk sample method with ACT estimated walks\n",
      "14:08 bilby INFO    : Resume file ../../data/civ_saves/J0100/bilby_fit_civ_msaexp_pypeit_v2//4713_12754_resume.pickle does not exist.\n",
      "14:08 bilby INFO    : Generating initial points from the prior\n",
      "14:08 bilby INFO    : Written checkpoint file ../../data/civ_saves/J0100/bilby_fit_civ_msaexp_pypeit_v2//4713_12754_resume.pickle\n",
      "14:08 bilby INFO    : Sampling time: 0:00:14.805293\n",
      "14:08 bilby INFO    : Summary of results:\n",
      "nsamples: 2259\n",
      "ln_noise_evidence:    nan\n",
      "ln_evidence: 322.770 +/-  0.251\n",
      "ln_bayes_factor:    nan +/-  0.251\n",
      "\n"
     ]
    },
    {
     "name": "stdout",
     "output_type": "stream",
     "text": [
      "\n"
     ]
    },
    {
     "name": "stderr",
     "output_type": "stream",
     "text": [
      "/Users/myue/Research/Projects/JWST/dependencies/msa_spec_utils/LAE_spec_utils.py:464: RuntimeWarning: divide by zero encountered in power\n",
      "  self.err_fnu = (self.ivar_fnu)**-0.5\n",
      "/Users/myue/Research/Projects/JWST/dependencies/msa_spec_utils/LAE_spec_utils.py:470: RuntimeWarning: invalid value encountered in divide\n",
      "  self.flam = self.fnu * speed_of_light_angstrom / (self.wave)**2 * 1e-29 * 1e18\n",
      "/Users/myue/Research/Projects/JWST/dependencies/msa_spec_utils/LAE_spec_utils.py:471: RuntimeWarning: divide by zero encountered in divide\n",
      "  self.err_flam = self.err_fnu * (speed_of_light_angstrom / (self.wave)**2 * 1e-29 * 1e18)\n",
      "14:08 bilby INFO    : Running for label '4713_12817', output will be saved to '../../data/civ_saves/J0100/bilby_fit_civ_msaexp_pypeit_v2/'\n",
      "14:08 bilby INFO    : Search parameters:\n",
      "14:08 bilby INFO    :   center = Uniform(minimum=10676.77891721344, maximum=10719.571618284437, name='center', latex_label='center', unit=None, boundary=None)\n",
      "14:08 bilby INFO    :   fwhm = Uniform(minimum=300, maximum=1000, name='fwhm', latex_label='fwhm', unit=None, boundary=None)\n",
      "14:08 bilby INFO    :   flux = Uniform(minimum=-5.181964337578221, maximum=5.181964337578221, name='flux', latex_label='flux', unit=None, boundary=None)\n",
      "14:08 bilby INFO    :   A = Uniform(minimum=-0.03264175032454797, maximum=0.06528350064909594, name='A', latex_label='A', unit=None, boundary=None)\n",
      "14:08 bilby INFO    :   beta = Uniform(minimum=-4, maximum=2, name='beta', latex_label='beta', unit=None, boundary=None)\n",
      "14:08 bilby INFO    :   wave0 = 10698.175267748938\n",
      "14:08 bilby INFO    : Single likelihood evaluation took 3.265e-05 s\n"
     ]
    },
    {
     "data": {
      "application/vnd.jupyter.widget-view+json": {
       "model_id": "d96cdccc627c4aa299deb0523897f8d8",
       "version_major": 2,
       "version_minor": 0
      },
      "text/plain": [
       "0it [00:00, ?it/s]"
      ]
     },
     "metadata": {},
     "output_type": "display_data"
    },
    {
     "name": "stderr",
     "output_type": "stream",
     "text": [
      "14:08 bilby INFO    : Using sampler Dynesty with kwargs {'bound': 'multi', 'sample': 'rwalk', 'print_progress': True, 'periodic': None, 'reflective': None, 'check_point_delta_t': 1800, 'nlive': 200, 'first_update': None, 'walks': 100, 'npdim': None, 'rstate': None, 'queue_size': 1, 'pool': None, 'use_pool': None, 'live_points': None, 'logl_args': None, 'logl_kwargs': None, 'ptform_args': None, 'ptform_kwargs': None, 'enlarge': 1.5, 'bootstrap': None, 'vol_dec': 0.5, 'vol_check': 8.0, 'facc': 0.2, 'slices': 5, 'update_interval': 120, 'print_func': <bound method Dynesty._print_func of <bilby.core.sampler.dynesty.Dynesty object at 0x91f3f86e0>>, 'dlogz': 0.1, 'maxiter': None, 'maxcall': None, 'logl_max': inf, 'add_live': True, 'save_bounds': False, 'n_effective': None, 'maxmcmc': 5000, 'nact': 5, 'print_method': 'tqdm'}\n",
      "14:08 bilby INFO    : Checkpoint every check_point_delta_t = 600s\n",
      "14:08 bilby INFO    : Using dynesty version 1.0.1\n",
      "14:08 bilby INFO    : Using the bilby-implemented rwalk sample method with ACT estimated walks\n",
      "14:08 bilby INFO    : Resume file ../../data/civ_saves/J0100/bilby_fit_civ_msaexp_pypeit_v2//4713_12817_resume.pickle does not exist.\n",
      "14:08 bilby INFO    : Generating initial points from the prior\n",
      "14:08 bilby INFO    : Written checkpoint file ../../data/civ_saves/J0100/bilby_fit_civ_msaexp_pypeit_v2//4713_12817_resume.pickle\n",
      "14:08 bilby INFO    : Sampling time: 0:00:11.862178\n",
      "14:08 bilby INFO    : Summary of results:\n",
      "nsamples: 2078\n",
      "ln_noise_evidence:    nan\n",
      "ln_evidence: 308.389 +/-  0.233\n",
      "ln_bayes_factor:    nan +/-  0.233\n",
      "\n"
     ]
    },
    {
     "name": "stdout",
     "output_type": "stream",
     "text": [
      "\n"
     ]
    },
    {
     "name": "stderr",
     "output_type": "stream",
     "text": [
      "/Users/myue/Research/Projects/JWST/dependencies/msa_spec_utils/LAE_spec_utils.py:464: RuntimeWarning: divide by zero encountered in power\n",
      "  self.err_fnu = (self.ivar_fnu)**-0.5\n",
      "/Users/myue/Research/Projects/JWST/dependencies/msa_spec_utils/LAE_spec_utils.py:470: RuntimeWarning: invalid value encountered in divide\n",
      "  self.flam = self.fnu * speed_of_light_angstrom / (self.wave)**2 * 1e-29 * 1e18\n",
      "/Users/myue/Research/Projects/JWST/dependencies/msa_spec_utils/LAE_spec_utils.py:471: RuntimeWarning: divide by zero encountered in divide\n",
      "  self.err_flam = self.err_fnu * (speed_of_light_angstrom / (self.wave)**2 * 1e-29 * 1e18)\n",
      "14:08 bilby INFO    : Running for label '4713_13590', output will be saved to '../../data/civ_saves/J0100/bilby_fit_civ_msaexp_pypeit_v2/'\n",
      "14:08 bilby INFO    : Search parameters:\n",
      "14:08 bilby INFO    :   center = Uniform(minimum=11111.67899336657, maximum=11156.214780915134, name='center', latex_label='center', unit=None, boundary=None)\n",
      "14:08 bilby INFO    :   fwhm = Uniform(minimum=300, maximum=1000, name='fwhm', latex_label='fwhm', unit=None, boundary=None)\n",
      "14:08 bilby INFO    :   flux = Uniform(minimum=-7.899347871121031, maximum=7.899347871121031, name='flux', latex_label='flux', unit=None, boundary=None)\n",
      "14:08 bilby INFO    :   A = Uniform(minimum=-0.04204023483874618, maximum=0.08408046967749236, name='A', latex_label='A', unit=None, boundary=None)\n",
      "14:08 bilby INFO    :   beta = Uniform(minimum=-4, maximum=2, name='beta', latex_label='beta', unit=None, boundary=None)\n",
      "14:08 bilby INFO    :   wave0 = 11133.946887140852\n",
      "14:08 bilby INFO    : Single likelihood evaluation took 3.282e-05 s\n"
     ]
    },
    {
     "data": {
      "application/vnd.jupyter.widget-view+json": {
       "model_id": "0130e71d9c63474cb0574eb78580625f",
       "version_major": 2,
       "version_minor": 0
      },
      "text/plain": [
       "0it [00:00, ?it/s]"
      ]
     },
     "metadata": {},
     "output_type": "display_data"
    },
    {
     "name": "stderr",
     "output_type": "stream",
     "text": [
      "14:08 bilby INFO    : Using sampler Dynesty with kwargs {'bound': 'multi', 'sample': 'rwalk', 'print_progress': True, 'periodic': None, 'reflective': None, 'check_point_delta_t': 1800, 'nlive': 200, 'first_update': None, 'walks': 100, 'npdim': None, 'rstate': None, 'queue_size': 1, 'pool': None, 'use_pool': None, 'live_points': None, 'logl_args': None, 'logl_kwargs': None, 'ptform_args': None, 'ptform_kwargs': None, 'enlarge': 1.5, 'bootstrap': None, 'vol_dec': 0.5, 'vol_check': 8.0, 'facc': 0.2, 'slices': 5, 'update_interval': 120, 'print_func': <bound method Dynesty._print_func of <bilby.core.sampler.dynesty.Dynesty object at 0x52dbc30e0>>, 'dlogz': 0.1, 'maxiter': None, 'maxcall': None, 'logl_max': inf, 'add_live': True, 'save_bounds': False, 'n_effective': None, 'maxmcmc': 5000, 'nact': 5, 'print_method': 'tqdm'}\n",
      "14:08 bilby INFO    : Checkpoint every check_point_delta_t = 600s\n",
      "14:08 bilby INFO    : Using dynesty version 1.0.1\n",
      "14:08 bilby INFO    : Using the bilby-implemented rwalk sample method with ACT estimated walks\n",
      "14:08 bilby INFO    : Resume file ../../data/civ_saves/J0100/bilby_fit_civ_msaexp_pypeit_v2//4713_13590_resume.pickle does not exist.\n",
      "14:08 bilby INFO    : Generating initial points from the prior\n",
      "14:08 bilby INFO    : Written checkpoint file ../../data/civ_saves/J0100/bilby_fit_civ_msaexp_pypeit_v2//4713_13590_resume.pickle\n",
      "14:08 bilby INFO    : Sampling time: 0:00:13.031685\n",
      "14:08 bilby INFO    : Summary of results:\n",
      "nsamples: 2332\n",
      "ln_noise_evidence:    nan\n",
      "ln_evidence: 262.958 +/-  0.249\n",
      "ln_bayes_factor:    nan +/-  0.249\n",
      "\n"
     ]
    },
    {
     "name": "stdout",
     "output_type": "stream",
     "text": [
      "\n"
     ]
    },
    {
     "name": "stderr",
     "output_type": "stream",
     "text": [
      "/Users/myue/Research/Projects/JWST/dependencies/msa_spec_utils/LAE_spec_utils.py:464: RuntimeWarning: divide by zero encountered in power\n",
      "  self.err_fnu = (self.ivar_fnu)**-0.5\n",
      "/Users/myue/Research/Projects/JWST/dependencies/msa_spec_utils/LAE_spec_utils.py:470: RuntimeWarning: invalid value encountered in divide\n",
      "  self.flam = self.fnu * speed_of_light_angstrom / (self.wave)**2 * 1e-29 * 1e18\n",
      "/Users/myue/Research/Projects/JWST/dependencies/msa_spec_utils/LAE_spec_utils.py:471: RuntimeWarning: divide by zero encountered in divide\n",
      "  self.err_flam = self.err_fnu * (speed_of_light_angstrom / (self.wave)**2 * 1e-29 * 1e18)\n",
      "14:08 bilby INFO    : Running for label '4713_13753', output will be saved to '../../data/civ_saves/J0100/bilby_fit_civ_msaexp_pypeit_v2/'\n",
      "14:08 bilby INFO    : Search parameters:\n",
      "14:08 bilby INFO    :   center = Uniform(minimum=11100.178111432055, maximum=11144.66780326144, name='center', latex_label='center', unit=None, boundary=None)\n",
      "14:08 bilby INFO    :   fwhm = Uniform(minimum=300, maximum=1000, name='fwhm', latex_label='fwhm', unit=None, boundary=None)\n",
      "14:08 bilby INFO    :   flux = Uniform(minimum=-12.243031838567477, maximum=12.243031838567477, name='flux', latex_label='flux', unit=None, boundary=None)\n",
      "14:08 bilby INFO    :   A = Uniform(minimum=-0.06205000208122954, maximum=0.12410000416245907, name='A', latex_label='A', unit=None, boundary=None)\n",
      "14:08 bilby INFO    :   beta = Uniform(minimum=-4, maximum=2, name='beta', latex_label='beta', unit=None, boundary=None)\n",
      "14:08 bilby INFO    :   wave0 = 11122.422957346747\n",
      "14:08 bilby INFO    : Single likelihood evaluation took 3.265e-05 s\n"
     ]
    },
    {
     "data": {
      "application/vnd.jupyter.widget-view+json": {
       "model_id": "ec0f5ca4a54f4f5ca0b718b953b3e507",
       "version_major": 2,
       "version_minor": 0
      },
      "text/plain": [
       "0it [00:00, ?it/s]"
      ]
     },
     "metadata": {},
     "output_type": "display_data"
    },
    {
     "name": "stderr",
     "output_type": "stream",
     "text": [
      "14:08 bilby INFO    : Using sampler Dynesty with kwargs {'bound': 'multi', 'sample': 'rwalk', 'print_progress': True, 'periodic': None, 'reflective': None, 'check_point_delta_t': 1800, 'nlive': 200, 'first_update': None, 'walks': 100, 'npdim': None, 'rstate': None, 'queue_size': 1, 'pool': None, 'use_pool': None, 'live_points': None, 'logl_args': None, 'logl_kwargs': None, 'ptform_args': None, 'ptform_kwargs': None, 'enlarge': 1.5, 'bootstrap': None, 'vol_dec': 0.5, 'vol_check': 8.0, 'facc': 0.2, 'slices': 5, 'update_interval': 120, 'print_func': <bound method Dynesty._print_func of <bilby.core.sampler.dynesty.Dynesty object at 0x6927506e0>>, 'dlogz': 0.1, 'maxiter': None, 'maxcall': None, 'logl_max': inf, 'add_live': True, 'save_bounds': False, 'n_effective': None, 'maxmcmc': 5000, 'nact': 5, 'print_method': 'tqdm'}\n",
      "14:08 bilby INFO    : Checkpoint every check_point_delta_t = 600s\n",
      "14:08 bilby INFO    : Using dynesty version 1.0.1\n",
      "14:08 bilby INFO    : Using the bilby-implemented rwalk sample method with ACT estimated walks\n",
      "14:08 bilby INFO    : Resume file ../../data/civ_saves/J0100/bilby_fit_civ_msaexp_pypeit_v2//4713_13753_resume.pickle does not exist.\n",
      "14:08 bilby INFO    : Generating initial points from the prior\n",
      "14:09 bilby INFO    : Written checkpoint file ../../data/civ_saves/J0100/bilby_fit_civ_msaexp_pypeit_v2//4713_13753_resume.pickle\n",
      "14:09 bilby INFO    : Sampling time: 0:00:14.768837\n",
      "14:09 bilby INFO    : Summary of results:\n",
      "nsamples: 2249\n",
      "ln_noise_evidence:    nan\n",
      "ln_evidence: 305.234 +/-  0.257\n",
      "ln_bayes_factor:    nan +/-  0.257\n",
      "\n"
     ]
    },
    {
     "name": "stdout",
     "output_type": "stream",
     "text": [
      "\n"
     ]
    },
    {
     "name": "stderr",
     "output_type": "stream",
     "text": [
      "/Users/myue/Research/Projects/JWST/dependencies/msa_spec_utils/LAE_spec_utils.py:464: RuntimeWarning: divide by zero encountered in power\n",
      "  self.err_fnu = (self.ivar_fnu)**-0.5\n",
      "/Users/myue/Research/Projects/JWST/dependencies/msa_spec_utils/LAE_spec_utils.py:470: RuntimeWarning: invalid value encountered in divide\n",
      "  self.flam = self.fnu * speed_of_light_angstrom / (self.wave)**2 * 1e-29 * 1e18\n",
      "/Users/myue/Research/Projects/JWST/dependencies/msa_spec_utils/LAE_spec_utils.py:471: RuntimeWarning: divide by zero encountered in divide\n",
      "  self.err_flam = self.err_fnu * (speed_of_light_angstrom / (self.wave)**2 * 1e-29 * 1e18)\n",
      "14:09 bilby INFO    : Running for label '4713_13864', output will be saved to '../../data/civ_saves/J0100/bilby_fit_civ_msaexp_pypeit_v2/'\n",
      "14:09 bilby INFO    : Search parameters:\n",
      "14:09 bilby INFO    :   center = Uniform(minimum=11248.370695601068, maximum=11293.454345683636, name='center', latex_label='center', unit=None, boundary=None)\n",
      "14:09 bilby INFO    :   fwhm = Uniform(minimum=300, maximum=1000, name='fwhm', latex_label='fwhm', unit=None, boundary=None)\n",
      "14:09 bilby INFO    :   flux = Uniform(minimum=-5.221472639059873, maximum=5.221472639059873, name='flux', latex_label='flux', unit=None, boundary=None)\n",
      "14:09 bilby INFO    :   A = Uniform(minimum=-0.026114766994983475, maximum=0.05222953398996695, name='A', latex_label='A', unit=None, boundary=None)\n",
      "14:09 bilby INFO    :   beta = Uniform(minimum=-4, maximum=2, name='beta', latex_label='beta', unit=None, boundary=None)\n",
      "14:09 bilby INFO    :   wave0 = 11270.912520642352\n",
      "14:09 bilby INFO    : Single likelihood evaluation took 3.294e-05 s\n"
     ]
    },
    {
     "data": {
      "application/vnd.jupyter.widget-view+json": {
       "model_id": "534ff9520a8a456698ab4eb3f27b6c38",
       "version_major": 2,
       "version_minor": 0
      },
      "text/plain": [
       "0it [00:00, ?it/s]"
      ]
     },
     "metadata": {},
     "output_type": "display_data"
    },
    {
     "name": "stderr",
     "output_type": "stream",
     "text": [
      "14:09 bilby INFO    : Using sampler Dynesty with kwargs {'bound': 'multi', 'sample': 'rwalk', 'print_progress': True, 'periodic': None, 'reflective': None, 'check_point_delta_t': 1800, 'nlive': 200, 'first_update': None, 'walks': 100, 'npdim': None, 'rstate': None, 'queue_size': 1, 'pool': None, 'use_pool': None, 'live_points': None, 'logl_args': None, 'logl_kwargs': None, 'ptform_args': None, 'ptform_kwargs': None, 'enlarge': 1.5, 'bootstrap': None, 'vol_dec': 0.5, 'vol_check': 8.0, 'facc': 0.2, 'slices': 5, 'update_interval': 120, 'print_func': <bound method Dynesty._print_func of <bilby.core.sampler.dynesty.Dynesty object at 0x8d2516c30>>, 'dlogz': 0.1, 'maxiter': None, 'maxcall': None, 'logl_max': inf, 'add_live': True, 'save_bounds': False, 'n_effective': None, 'maxmcmc': 5000, 'nact': 5, 'print_method': 'tqdm'}\n",
      "14:09 bilby INFO    : Checkpoint every check_point_delta_t = 600s\n",
      "14:09 bilby INFO    : Using dynesty version 1.0.1\n",
      "14:09 bilby INFO    : Using the bilby-implemented rwalk sample method with ACT estimated walks\n",
      "14:09 bilby INFO    : Resume file ../../data/civ_saves/J0100/bilby_fit_civ_msaexp_pypeit_v2//4713_13864_resume.pickle does not exist.\n",
      "14:09 bilby INFO    : Generating initial points from the prior\n",
      "14:09 bilby INFO    : Written checkpoint file ../../data/civ_saves/J0100/bilby_fit_civ_msaexp_pypeit_v2//4713_13864_resume.pickle\n",
      "14:09 bilby INFO    : Sampling time: 0:00:13.226487\n",
      "14:09 bilby INFO    : Summary of results:\n",
      "nsamples: 2099\n",
      "ln_noise_evidence:    nan\n",
      "ln_evidence: 368.720 +/-  0.243\n",
      "ln_bayes_factor:    nan +/-  0.243\n",
      "\n"
     ]
    },
    {
     "name": "stdout",
     "output_type": "stream",
     "text": [
      "\n"
     ]
    },
    {
     "name": "stderr",
     "output_type": "stream",
     "text": [
      "/Users/myue/Research/Projects/JWST/dependencies/msa_spec_utils/LAE_spec_utils.py:464: RuntimeWarning: divide by zero encountered in power\n",
      "  self.err_fnu = (self.ivar_fnu)**-0.5\n",
      "/Users/myue/Research/Projects/JWST/dependencies/msa_spec_utils/LAE_spec_utils.py:470: RuntimeWarning: invalid value encountered in divide\n",
      "  self.flam = self.fnu * speed_of_light_angstrom / (self.wave)**2 * 1e-29 * 1e18\n",
      "/Users/myue/Research/Projects/JWST/dependencies/msa_spec_utils/LAE_spec_utils.py:471: RuntimeWarning: divide by zero encountered in divide\n",
      "  self.err_flam = self.err_fnu * (speed_of_light_angstrom / (self.wave)**2 * 1e-29 * 1e18)\n",
      "14:09 bilby INFO    : Running for label '4713_15437', output will be saved to '../../data/civ_saves/J0100/bilby_fit_civ_msaexp_pypeit_v2/'\n",
      "14:09 bilby INFO    : Search parameters:\n",
      "14:09 bilby INFO    :   center = Uniform(minimum=12008.38638407024, maximum=12056.516189216814, name='center', latex_label='center', unit=None, boundary=None)\n",
      "14:09 bilby INFO    :   fwhm = Uniform(minimum=300, maximum=1000, name='fwhm', latex_label='fwhm', unit=None, boundary=None)\n",
      "14:09 bilby INFO    :   flux = Uniform(minimum=-9.451653852337756, maximum=9.451653852337756, name='flux', latex_label='flux', unit=None, boundary=None)\n",
      "14:09 bilby INFO    :   A = Uniform(minimum=-0.04427982783803907, maximum=0.08855965567607814, name='A', latex_label='A', unit=None, boundary=None)\n",
      "14:09 bilby INFO    :   beta = Uniform(minimum=-4, maximum=2, name='beta', latex_label='beta', unit=None, boundary=None)\n",
      "14:09 bilby INFO    :   wave0 = 12032.451286643527\n",
      "14:09 bilby INFO    : Single likelihood evaluation took 3.267e-05 s\n"
     ]
    },
    {
     "data": {
      "application/vnd.jupyter.widget-view+json": {
       "model_id": "61a830ef03194b79952a1b4f5bdae825",
       "version_major": 2,
       "version_minor": 0
      },
      "text/plain": [
       "0it [00:00, ?it/s]"
      ]
     },
     "metadata": {},
     "output_type": "display_data"
    },
    {
     "name": "stderr",
     "output_type": "stream",
     "text": [
      "14:09 bilby INFO    : Using sampler Dynesty with kwargs {'bound': 'multi', 'sample': 'rwalk', 'print_progress': True, 'periodic': None, 'reflective': None, 'check_point_delta_t': 1800, 'nlive': 200, 'first_update': None, 'walks': 100, 'npdim': None, 'rstate': None, 'queue_size': 1, 'pool': None, 'use_pool': None, 'live_points': None, 'logl_args': None, 'logl_kwargs': None, 'ptform_args': None, 'ptform_kwargs': None, 'enlarge': 1.5, 'bootstrap': None, 'vol_dec': 0.5, 'vol_check': 8.0, 'facc': 0.2, 'slices': 5, 'update_interval': 120, 'print_func': <bound method Dynesty._print_func of <bilby.core.sampler.dynesty.Dynesty object at 0x3e95c87a0>>, 'dlogz': 0.1, 'maxiter': None, 'maxcall': None, 'logl_max': inf, 'add_live': True, 'save_bounds': False, 'n_effective': None, 'maxmcmc': 5000, 'nact': 5, 'print_method': 'tqdm'}\n",
      "14:09 bilby INFO    : Checkpoint every check_point_delta_t = 600s\n",
      "14:09 bilby INFO    : Using dynesty version 1.0.1\n",
      "14:09 bilby INFO    : Using the bilby-implemented rwalk sample method with ACT estimated walks\n",
      "14:09 bilby INFO    : Resume file ../../data/civ_saves/J0100/bilby_fit_civ_msaexp_pypeit_v2//4713_15437_resume.pickle does not exist.\n",
      "14:09 bilby INFO    : Generating initial points from the prior\n",
      "14:09 bilby INFO    : Written checkpoint file ../../data/civ_saves/J0100/bilby_fit_civ_msaexp_pypeit_v2//4713_15437_resume.pickle\n",
      "14:09 bilby INFO    : Sampling time: 0:00:13.930397\n",
      "14:09 bilby INFO    : Summary of results:\n",
      "nsamples: 2214\n",
      "ln_noise_evidence:    nan\n",
      "ln_evidence: 336.669 +/-  0.250\n",
      "ln_bayes_factor:    nan +/-  0.250\n",
      "\n"
     ]
    },
    {
     "name": "stdout",
     "output_type": "stream",
     "text": [
      "\n"
     ]
    },
    {
     "name": "stderr",
     "output_type": "stream",
     "text": [
      "/Users/myue/Research/Projects/JWST/dependencies/msa_spec_utils/LAE_spec_utils.py:464: RuntimeWarning: divide by zero encountered in power\n",
      "  self.err_fnu = (self.ivar_fnu)**-0.5\n",
      "/Users/myue/Research/Projects/JWST/dependencies/msa_spec_utils/LAE_spec_utils.py:470: RuntimeWarning: invalid value encountered in divide\n",
      "  self.flam = self.fnu * speed_of_light_angstrom / (self.wave)**2 * 1e-29 * 1e18\n",
      "/Users/myue/Research/Projects/JWST/dependencies/msa_spec_utils/LAE_spec_utils.py:471: RuntimeWarning: divide by zero encountered in divide\n",
      "  self.err_flam = self.err_fnu * (speed_of_light_angstrom / (self.wave)**2 * 1e-29 * 1e18)\n",
      "14:09 bilby INFO    : Running for label '4713_15612', output will be saved to '../../data/civ_saves/J0100/bilby_fit_civ_msaexp_pypeit_v2/'\n",
      "14:09 bilby INFO    : Search parameters:\n",
      "14:09 bilby INFO    :   center = Uniform(minimum=12002.191294095759, maximum=12050.296269222395, name='center', latex_label='center', unit=None, boundary=None)\n",
      "14:09 bilby INFO    :   fwhm = Uniform(minimum=300, maximum=1000, name='fwhm', latex_label='fwhm', unit=None, boundary=None)\n",
      "14:09 bilby INFO    :   flux = Uniform(minimum=-10.686553309816462, maximum=10.686553309816462, name='flux', latex_label='flux', unit=None, boundary=None)\n",
      "14:09 bilby INFO    :   A = Uniform(minimum=-0.05009102067570194, maximum=0.10018204135140388, name='A', latex_label='A', unit=None, boundary=None)\n",
      "14:09 bilby INFO    :   beta = Uniform(minimum=-4, maximum=2, name='beta', latex_label='beta', unit=None, boundary=None)\n",
      "14:09 bilby INFO    :   wave0 = 12026.243781659077\n",
      "14:09 bilby INFO    : Single likelihood evaluation took 3.234e-05 s\n"
     ]
    },
    {
     "data": {
      "application/vnd.jupyter.widget-view+json": {
       "model_id": "148239b8a7f6433fb29241ce6488c4e3",
       "version_major": 2,
       "version_minor": 0
      },
      "text/plain": [
       "0it [00:00, ?it/s]"
      ]
     },
     "metadata": {},
     "output_type": "display_data"
    },
    {
     "name": "stderr",
     "output_type": "stream",
     "text": [
      "14:09 bilby INFO    : Using sampler Dynesty with kwargs {'bound': 'multi', 'sample': 'rwalk', 'print_progress': True, 'periodic': None, 'reflective': None, 'check_point_delta_t': 1800, 'nlive': 200, 'first_update': None, 'walks': 100, 'npdim': None, 'rstate': None, 'queue_size': 1, 'pool': None, 'use_pool': None, 'live_points': None, 'logl_args': None, 'logl_kwargs': None, 'ptform_args': None, 'ptform_kwargs': None, 'enlarge': 1.5, 'bootstrap': None, 'vol_dec': 0.5, 'vol_check': 8.0, 'facc': 0.2, 'slices': 5, 'update_interval': 120, 'print_func': <bound method Dynesty._print_func of <bilby.core.sampler.dynesty.Dynesty object at 0x850eee450>>, 'dlogz': 0.1, 'maxiter': None, 'maxcall': None, 'logl_max': inf, 'add_live': True, 'save_bounds': False, 'n_effective': None, 'maxmcmc': 5000, 'nact': 5, 'print_method': 'tqdm'}\n",
      "14:09 bilby INFO    : Checkpoint every check_point_delta_t = 600s\n",
      "14:09 bilby INFO    : Using dynesty version 1.0.1\n",
      "14:09 bilby INFO    : Using the bilby-implemented rwalk sample method with ACT estimated walks\n",
      "14:09 bilby INFO    : Resume file ../../data/civ_saves/J0100/bilby_fit_civ_msaexp_pypeit_v2//4713_15612_resume.pickle does not exist.\n",
      "14:09 bilby INFO    : Generating initial points from the prior\n",
      "14:09 bilby INFO    : Written checkpoint file ../../data/civ_saves/J0100/bilby_fit_civ_msaexp_pypeit_v2//4713_15612_resume.pickle\n",
      "14:09 bilby INFO    : Sampling time: 0:00:14.941991\n",
      "14:09 bilby INFO    : Summary of results:\n",
      "nsamples: 2409\n",
      "ln_noise_evidence:    nan\n",
      "ln_evidence: 192.448 +/-  0.269\n",
      "ln_bayes_factor:    nan +/-  0.269\n",
      "\n"
     ]
    },
    {
     "name": "stdout",
     "output_type": "stream",
     "text": [
      "\n"
     ]
    },
    {
     "name": "stderr",
     "output_type": "stream",
     "text": [
      "/Users/myue/Research/Projects/JWST/dependencies/msa_spec_utils/LAE_spec_utils.py:464: RuntimeWarning: divide by zero encountered in power\n",
      "  self.err_fnu = (self.ivar_fnu)**-0.5\n",
      "/Users/myue/Research/Projects/JWST/dependencies/msa_spec_utils/LAE_spec_utils.py:470: RuntimeWarning: invalid value encountered in divide\n",
      "  self.flam = self.fnu * speed_of_light_angstrom / (self.wave)**2 * 1e-29 * 1e18\n",
      "/Users/myue/Research/Projects/JWST/dependencies/msa_spec_utils/LAE_spec_utils.py:471: RuntimeWarning: divide by zero encountered in divide\n",
      "  self.err_flam = self.err_fnu * (speed_of_light_angstrom / (self.wave)**2 * 1e-29 * 1e18)\n",
      "14:09 bilby INFO    : Running for label '4713_15627', output will be saved to '../../data/civ_saves/J0100/bilby_fit_civ_msaexp_pypeit_v2/'\n",
      "14:09 bilby INFO    : Search parameters:\n",
      "14:09 bilby INFO    :   center = Uniform(minimum=11136.727755409363, maximum=11181.363938797778, name='center', latex_label='center', unit=None, boundary=None)\n",
      "14:09 bilby INFO    :   fwhm = Uniform(minimum=300, maximum=1000, name='fwhm', latex_label='fwhm', unit=None, boundary=None)\n",
      "14:09 bilby INFO    :   flux = Uniform(minimum=-5.718521451431072, maximum=5.718521451431072, name='flux', latex_label='flux', unit=None, boundary=None)\n",
      "14:09 bilby INFO    :   A = Uniform(minimum=-0.030817185448848497, maximum=0.061634370897696994, name='A', latex_label='A', unit=None, boundary=None)\n",
      "14:09 bilby INFO    :   beta = Uniform(minimum=-4, maximum=2, name='beta', latex_label='beta', unit=None, boundary=None)\n",
      "14:09 bilby INFO    :   wave0 = 11159.04584710357\n",
      "14:09 bilby INFO    : Single likelihood evaluation took 3.203e-05 s\n"
     ]
    },
    {
     "data": {
      "application/vnd.jupyter.widget-view+json": {
       "model_id": "77e11f3ff5f54e5f94ea8d659e545a24",
       "version_major": 2,
       "version_minor": 0
      },
      "text/plain": [
       "0it [00:00, ?it/s]"
      ]
     },
     "metadata": {},
     "output_type": "display_data"
    },
    {
     "name": "stderr",
     "output_type": "stream",
     "text": [
      "14:09 bilby INFO    : Using sampler Dynesty with kwargs {'bound': 'multi', 'sample': 'rwalk', 'print_progress': True, 'periodic': None, 'reflective': None, 'check_point_delta_t': 1800, 'nlive': 200, 'first_update': None, 'walks': 100, 'npdim': None, 'rstate': None, 'queue_size': 1, 'pool': None, 'use_pool': None, 'live_points': None, 'logl_args': None, 'logl_kwargs': None, 'ptform_args': None, 'ptform_kwargs': None, 'enlarge': 1.5, 'bootstrap': None, 'vol_dec': 0.5, 'vol_check': 8.0, 'facc': 0.2, 'slices': 5, 'update_interval': 120, 'print_func': <bound method Dynesty._print_func of <bilby.core.sampler.dynesty.Dynesty object at 0x8d16b29f0>>, 'dlogz': 0.1, 'maxiter': None, 'maxcall': None, 'logl_max': inf, 'add_live': True, 'save_bounds': False, 'n_effective': None, 'maxmcmc': 5000, 'nact': 5, 'print_method': 'tqdm'}\n",
      "14:09 bilby INFO    : Checkpoint every check_point_delta_t = 600s\n",
      "14:09 bilby INFO    : Using dynesty version 1.0.1\n",
      "14:09 bilby INFO    : Using the bilby-implemented rwalk sample method with ACT estimated walks\n",
      "14:09 bilby INFO    : Resume file ../../data/civ_saves/J0100/bilby_fit_civ_msaexp_pypeit_v2//4713_15627_resume.pickle does not exist.\n",
      "14:09 bilby INFO    : Generating initial points from the prior\n",
      "14:10 bilby INFO    : Written checkpoint file ../../data/civ_saves/J0100/bilby_fit_civ_msaexp_pypeit_v2//4713_15627_resume.pickle\n",
      "14:10 bilby INFO    : Sampling time: 0:00:12.318570\n",
      "14:10 bilby INFO    : Summary of results:\n",
      "nsamples: 2142\n",
      "ln_noise_evidence:    nan\n",
      "ln_evidence: 189.983 +/-  0.243\n",
      "ln_bayes_factor:    nan +/-  0.243\n",
      "\n"
     ]
    },
    {
     "name": "stdout",
     "output_type": "stream",
     "text": [
      "\n"
     ]
    },
    {
     "name": "stderr",
     "output_type": "stream",
     "text": [
      "/Users/myue/Research/Projects/JWST/dependencies/msa_spec_utils/LAE_spec_utils.py:464: RuntimeWarning: divide by zero encountered in power\n",
      "  self.err_fnu = (self.ivar_fnu)**-0.5\n",
      "/Users/myue/Research/Projects/JWST/dependencies/msa_spec_utils/LAE_spec_utils.py:470: RuntimeWarning: invalid value encountered in divide\n",
      "  self.flam = self.fnu * speed_of_light_angstrom / (self.wave)**2 * 1e-29 * 1e18\n",
      "/Users/myue/Research/Projects/JWST/dependencies/msa_spec_utils/LAE_spec_utils.py:471: RuntimeWarning: divide by zero encountered in divide\n",
      "  self.err_flam = self.err_fnu * (speed_of_light_angstrom / (self.wave)**2 * 1e-29 * 1e18)\n",
      "14:10 bilby INFO    : Running for label '4713_16184', output will be saved to '../../data/civ_saves/J0100/bilby_fit_civ_msaexp_pypeit_v2/'\n",
      "14:10 bilby INFO    : Search parameters:\n",
      "14:10 bilby INFO    :   center = Uniform(minimum=10464.227458110698, maximum=10506.16824952597, name='center', latex_label='center', unit=None, boundary=None)\n",
      "14:10 bilby INFO    :   fwhm = Uniform(minimum=300, maximum=1000, name='fwhm', latex_label='fwhm', unit=None, boundary=None)\n",
      "14:10 bilby INFO    :   flux = Uniform(minimum=-7.729050618450113, maximum=7.729050618450113, name='flux', latex_label='flux', unit=None, boundary=None)\n",
      "14:10 bilby INFO    :   A = Uniform(minimum=-0.04155293927170685, maximum=0.0831058785434137, name='A', latex_label='A', unit=None, boundary=None)\n",
      "14:10 bilby INFO    :   beta = Uniform(minimum=-4, maximum=2, name='beta', latex_label='beta', unit=None, boundary=None)\n",
      "14:10 bilby INFO    :   wave0 = 10485.197853818334\n",
      "14:10 bilby INFO    : Single likelihood evaluation took 3.325e-05 s\n"
     ]
    },
    {
     "data": {
      "application/vnd.jupyter.widget-view+json": {
       "model_id": "1a51d19034fe469291f83a11bc7b5d9d",
       "version_major": 2,
       "version_minor": 0
      },
      "text/plain": [
       "0it [00:00, ?it/s]"
      ]
     },
     "metadata": {},
     "output_type": "display_data"
    },
    {
     "name": "stderr",
     "output_type": "stream",
     "text": [
      "14:10 bilby INFO    : Using sampler Dynesty with kwargs {'bound': 'multi', 'sample': 'rwalk', 'print_progress': True, 'periodic': None, 'reflective': None, 'check_point_delta_t': 1800, 'nlive': 200, 'first_update': None, 'walks': 100, 'npdim': None, 'rstate': None, 'queue_size': 1, 'pool': None, 'use_pool': None, 'live_points': None, 'logl_args': None, 'logl_kwargs': None, 'ptform_args': None, 'ptform_kwargs': None, 'enlarge': 1.5, 'bootstrap': None, 'vol_dec': 0.5, 'vol_check': 8.0, 'facc': 0.2, 'slices': 5, 'update_interval': 120, 'print_func': <bound method Dynesty._print_func of <bilby.core.sampler.dynesty.Dynesty object at 0x3e87d7d40>>, 'dlogz': 0.1, 'maxiter': None, 'maxcall': None, 'logl_max': inf, 'add_live': True, 'save_bounds': False, 'n_effective': None, 'maxmcmc': 5000, 'nact': 5, 'print_method': 'tqdm'}\n",
      "14:10 bilby INFO    : Checkpoint every check_point_delta_t = 600s\n",
      "14:10 bilby INFO    : Using dynesty version 1.0.1\n",
      "14:10 bilby INFO    : Using the bilby-implemented rwalk sample method with ACT estimated walks\n",
      "14:10 bilby INFO    : Resume file ../../data/civ_saves/J0100/bilby_fit_civ_msaexp_pypeit_v2//4713_16184_resume.pickle does not exist.\n",
      "14:10 bilby INFO    : Generating initial points from the prior\n",
      "14:10 bilby INFO    : Written checkpoint file ../../data/civ_saves/J0100/bilby_fit_civ_msaexp_pypeit_v2//4713_16184_resume.pickle\n",
      "14:10 bilby INFO    : Sampling time: 0:00:11.727601\n",
      "14:10 bilby INFO    : Summary of results:\n",
      "nsamples: 2051\n",
      "ln_noise_evidence:    nan\n",
      "ln_evidence: 263.226 +/-  0.232\n",
      "ln_bayes_factor:    nan +/-  0.232\n",
      "\n"
     ]
    },
    {
     "name": "stdout",
     "output_type": "stream",
     "text": [
      "\n"
     ]
    },
    {
     "name": "stderr",
     "output_type": "stream",
     "text": [
      "/Users/myue/Research/Projects/JWST/dependencies/msa_spec_utils/LAE_spec_utils.py:464: RuntimeWarning: divide by zero encountered in power\n",
      "  self.err_fnu = (self.ivar_fnu)**-0.5\n",
      "/Users/myue/Research/Projects/JWST/dependencies/msa_spec_utils/LAE_spec_utils.py:470: RuntimeWarning: invalid value encountered in divide\n",
      "  self.flam = self.fnu * speed_of_light_angstrom / (self.wave)**2 * 1e-29 * 1e18\n",
      "/Users/myue/Research/Projects/JWST/dependencies/msa_spec_utils/LAE_spec_utils.py:471: RuntimeWarning: divide by zero encountered in divide\n",
      "  self.err_flam = self.err_fnu * (speed_of_light_angstrom / (self.wave)**2 * 1e-29 * 1e18)\n",
      "14:10 bilby INFO    : Running for label '4713_16322', output will be saved to '../../data/civ_saves/J0100/bilby_fit_civ_msaexp_pypeit_v2/'\n",
      "14:10 bilby INFO    : Search parameters:\n",
      "14:10 bilby INFO    :   center = Uniform(minimum=11320.695045732913, maximum=11366.06857297032, name='center', latex_label='center', unit=None, boundary=None)\n",
      "14:10 bilby INFO    :   fwhm = Uniform(minimum=300, maximum=1000, name='fwhm', latex_label='fwhm', unit=None, boundary=None)\n",
      "14:10 bilby INFO    :   flux = Uniform(minimum=-7.474228118406905, maximum=7.474228118406905, name='flux', latex_label='flux', unit=None, boundary=None)\n",
      "14:10 bilby INFO    :   A = Uniform(minimum=-0.03714291855336098, maximum=0.07428583710672196, name='A', latex_label='A', unit=None, boundary=None)\n",
      "14:10 bilby INFO    :   beta = Uniform(minimum=-4, maximum=2, name='beta', latex_label='beta', unit=None, boundary=None)\n",
      "14:10 bilby INFO    :   wave0 = 11343.381809351617\n",
      "14:10 bilby INFO    : Single likelihood evaluation took 3.248e-05 s\n"
     ]
    },
    {
     "data": {
      "application/vnd.jupyter.widget-view+json": {
       "model_id": "9518b30d2dad4d7f8b098a6143ff47f3",
       "version_major": 2,
       "version_minor": 0
      },
      "text/plain": [
       "0it [00:00, ?it/s]"
      ]
     },
     "metadata": {},
     "output_type": "display_data"
    },
    {
     "name": "stderr",
     "output_type": "stream",
     "text": [
      "14:10 bilby INFO    : Using sampler Dynesty with kwargs {'bound': 'multi', 'sample': 'rwalk', 'print_progress': True, 'periodic': None, 'reflective': None, 'check_point_delta_t': 1800, 'nlive': 200, 'first_update': None, 'walks': 100, 'npdim': None, 'rstate': None, 'queue_size': 1, 'pool': None, 'use_pool': None, 'live_points': None, 'logl_args': None, 'logl_kwargs': None, 'ptform_args': None, 'ptform_kwargs': None, 'enlarge': 1.5, 'bootstrap': None, 'vol_dec': 0.5, 'vol_check': 8.0, 'facc': 0.2, 'slices': 5, 'update_interval': 120, 'print_func': <bound method Dynesty._print_func of <bilby.core.sampler.dynesty.Dynesty object at 0x48c4430e0>>, 'dlogz': 0.1, 'maxiter': None, 'maxcall': None, 'logl_max': inf, 'add_live': True, 'save_bounds': False, 'n_effective': None, 'maxmcmc': 5000, 'nact': 5, 'print_method': 'tqdm'}\n",
      "14:10 bilby INFO    : Checkpoint every check_point_delta_t = 600s\n",
      "14:10 bilby INFO    : Using dynesty version 1.0.1\n",
      "14:10 bilby INFO    : Using the bilby-implemented rwalk sample method with ACT estimated walks\n",
      "14:10 bilby INFO    : Resume file ../../data/civ_saves/J0100/bilby_fit_civ_msaexp_pypeit_v2//4713_16322_resume.pickle does not exist.\n",
      "14:10 bilby INFO    : Generating initial points from the prior\n",
      "14:10 bilby INFO    : Written checkpoint file ../../data/civ_saves/J0100/bilby_fit_civ_msaexp_pypeit_v2//4713_16322_resume.pickle\n",
      "14:10 bilby INFO    : Sampling time: 0:00:13.866749\n",
      "14:10 bilby INFO    : Summary of results:\n",
      "nsamples: 2217\n",
      "ln_noise_evidence:    nan\n",
      "ln_evidence: 265.643 +/-  0.244\n",
      "ln_bayes_factor:    nan +/-  0.244\n",
      "\n"
     ]
    },
    {
     "name": "stdout",
     "output_type": "stream",
     "text": [
      "\n"
     ]
    },
    {
     "name": "stderr",
     "output_type": "stream",
     "text": [
      "/Users/myue/Research/Projects/JWST/dependencies/msa_spec_utils/LAE_spec_utils.py:464: RuntimeWarning: divide by zero encountered in power\n",
      "  self.err_fnu = (self.ivar_fnu)**-0.5\n",
      "/Users/myue/Research/Projects/JWST/dependencies/msa_spec_utils/LAE_spec_utils.py:470: RuntimeWarning: invalid value encountered in divide\n",
      "  self.flam = self.fnu * speed_of_light_angstrom / (self.wave)**2 * 1e-29 * 1e18\n",
      "/Users/myue/Research/Projects/JWST/dependencies/msa_spec_utils/LAE_spec_utils.py:471: RuntimeWarning: divide by zero encountered in divide\n",
      "  self.err_flam = self.err_fnu * (speed_of_light_angstrom / (self.wave)**2 * 1e-29 * 1e18)\n",
      "14:10 bilby INFO    : Running for label '4713_16479', output will be saved to '../../data/civ_saves/J0100/bilby_fit_civ_msaexp_pypeit_v2/'\n",
      "14:10 bilby INFO    : Search parameters:\n",
      "14:10 bilby INFO    :   center = Uniform(minimum=11337.285003457579, maximum=11382.725023511517, name='center', latex_label='center', unit=None, boundary=None)\n",
      "14:10 bilby INFO    :   fwhm = Uniform(minimum=300, maximum=1000, name='fwhm', latex_label='fwhm', unit=None, boundary=None)\n",
      "14:10 bilby INFO    :   flux = Uniform(minimum=-14.820339349829654, maximum=14.820339349829654, name='flux', latex_label='flux', unit=None, boundary=None)\n",
      "14:10 bilby INFO    :   A = Uniform(minimum=-0.0735413931326626, maximum=0.1470827862653252, name='A', latex_label='A', unit=None, boundary=None)\n",
      "14:10 bilby INFO    :   beta = Uniform(minimum=-4, maximum=2, name='beta', latex_label='beta', unit=None, boundary=None)\n",
      "14:10 bilby INFO    :   wave0 = 11360.005013484548\n",
      "14:10 bilby INFO    : Single likelihood evaluation took 3.571e-05 s\n"
     ]
    },
    {
     "data": {
      "application/vnd.jupyter.widget-view+json": {
       "model_id": "e8ecd4ddfe1341f39a196c36e3a57b03",
       "version_major": 2,
       "version_minor": 0
      },
      "text/plain": [
       "0it [00:00, ?it/s]"
      ]
     },
     "metadata": {},
     "output_type": "display_data"
    },
    {
     "name": "stderr",
     "output_type": "stream",
     "text": [
      "14:10 bilby INFO    : Using sampler Dynesty with kwargs {'bound': 'multi', 'sample': 'rwalk', 'print_progress': True, 'periodic': None, 'reflective': None, 'check_point_delta_t': 1800, 'nlive': 200, 'first_update': None, 'walks': 100, 'npdim': None, 'rstate': None, 'queue_size': 1, 'pool': None, 'use_pool': None, 'live_points': None, 'logl_args': None, 'logl_kwargs': None, 'ptform_args': None, 'ptform_kwargs': None, 'enlarge': 1.5, 'bootstrap': None, 'vol_dec': 0.5, 'vol_check': 8.0, 'facc': 0.2, 'slices': 5, 'update_interval': 120, 'print_func': <bound method Dynesty._print_func of <bilby.core.sampler.dynesty.Dynesty object at 0x64fea9c40>>, 'dlogz': 0.1, 'maxiter': None, 'maxcall': None, 'logl_max': inf, 'add_live': True, 'save_bounds': False, 'n_effective': None, 'maxmcmc': 5000, 'nact': 5, 'print_method': 'tqdm'}\n",
      "14:10 bilby INFO    : Checkpoint every check_point_delta_t = 600s\n",
      "14:10 bilby INFO    : Using dynesty version 1.0.1\n",
      "14:10 bilby INFO    : Using the bilby-implemented rwalk sample method with ACT estimated walks\n",
      "14:10 bilby INFO    : Resume file ../../data/civ_saves/J0100/bilby_fit_civ_msaexp_pypeit_v2//4713_16479_resume.pickle does not exist.\n",
      "14:10 bilby INFO    : Generating initial points from the prior\n",
      "14:10 bilby INFO    : Written checkpoint file ../../data/civ_saves/J0100/bilby_fit_civ_msaexp_pypeit_v2//4713_16479_resume.pickle\n",
      "14:10 bilby INFO    : Sampling time: 0:00:19.762899\n",
      "14:10 bilby INFO    : Summary of results:\n",
      "nsamples: 2947\n",
      "ln_noise_evidence:    nan\n",
      "ln_evidence: 300.553 +/-  0.293\n",
      "ln_bayes_factor:    nan +/-  0.293\n",
      "\n"
     ]
    },
    {
     "name": "stdout",
     "output_type": "stream",
     "text": [
      "\n"
     ]
    },
    {
     "name": "stderr",
     "output_type": "stream",
     "text": [
      "/Users/myue/Research/Projects/JWST/dependencies/msa_spec_utils/LAE_spec_utils.py:464: RuntimeWarning: divide by zero encountered in power\n",
      "  self.err_fnu = (self.ivar_fnu)**-0.5\n",
      "/Users/myue/Research/Projects/JWST/dependencies/msa_spec_utils/LAE_spec_utils.py:470: RuntimeWarning: invalid value encountered in divide\n",
      "  self.flam = self.fnu * speed_of_light_angstrom / (self.wave)**2 * 1e-29 * 1e18\n",
      "/Users/myue/Research/Projects/JWST/dependencies/msa_spec_utils/LAE_spec_utils.py:471: RuntimeWarning: divide by zero encountered in divide\n",
      "  self.err_flam = self.err_fnu * (speed_of_light_angstrom / (self.wave)**2 * 1e-29 * 1e18)\n",
      "14:10 bilby INFO    : Running for label '4713_16759', output will be saved to '../../data/civ_saves/J0100/bilby_fit_civ_msaexp_pypeit_v2/'\n",
      "14:10 bilby INFO    : Search parameters:\n",
      "14:10 bilby INFO    :   center = Uniform(minimum=11406.384354774236, maximum=11452.101326136057, name='center', latex_label='center', unit=None, boundary=None)\n",
      "14:10 bilby INFO    :   fwhm = Uniform(minimum=300, maximum=1000, name='fwhm', latex_label='fwhm', unit=None, boundary=None)\n",
      "14:10 bilby INFO    :   flux = Uniform(minimum=-10.58734876999052, maximum=10.58734876999052, name='flux', latex_label='flux', unit=None, boundary=None)\n",
      "14:10 bilby INFO    :   A = Uniform(minimum=-0.052218210808021914, maximum=0.10443642161604383, name='A', latex_label='A', unit=None, boundary=None)\n",
      "14:10 bilby INFO    :   beta = Uniform(minimum=-4, maximum=2, name='beta', latex_label='beta', unit=None, boundary=None)\n",
      "14:10 bilby INFO    :   wave0 = 11429.242840455147\n",
      "14:10 bilby INFO    : Single likelihood evaluation took 3.328e-05 s\n"
     ]
    },
    {
     "data": {
      "application/vnd.jupyter.widget-view+json": {
       "model_id": "4b9f2f1c540a4f328d0759aa4f5b9f29",
       "version_major": 2,
       "version_minor": 0
      },
      "text/plain": [
       "0it [00:00, ?it/s]"
      ]
     },
     "metadata": {},
     "output_type": "display_data"
    },
    {
     "name": "stderr",
     "output_type": "stream",
     "text": [
      "14:10 bilby INFO    : Using sampler Dynesty with kwargs {'bound': 'multi', 'sample': 'rwalk', 'print_progress': True, 'periodic': None, 'reflective': None, 'check_point_delta_t': 1800, 'nlive': 200, 'first_update': None, 'walks': 100, 'npdim': None, 'rstate': None, 'queue_size': 1, 'pool': None, 'use_pool': None, 'live_points': None, 'logl_args': None, 'logl_kwargs': None, 'ptform_args': None, 'ptform_kwargs': None, 'enlarge': 1.5, 'bootstrap': None, 'vol_dec': 0.5, 'vol_check': 8.0, 'facc': 0.2, 'slices': 5, 'update_interval': 120, 'print_func': <bound method Dynesty._print_func of <bilby.core.sampler.dynesty.Dynesty object at 0xa204786e0>>, 'dlogz': 0.1, 'maxiter': None, 'maxcall': None, 'logl_max': inf, 'add_live': True, 'save_bounds': False, 'n_effective': None, 'maxmcmc': 5000, 'nact': 5, 'print_method': 'tqdm'}\n",
      "14:10 bilby INFO    : Checkpoint every check_point_delta_t = 600s\n",
      "14:10 bilby INFO    : Using dynesty version 1.0.1\n",
      "14:10 bilby INFO    : Using the bilby-implemented rwalk sample method with ACT estimated walks\n",
      "14:10 bilby INFO    : Resume file ../../data/civ_saves/J0100/bilby_fit_civ_msaexp_pypeit_v2//4713_16759_resume.pickle does not exist.\n",
      "14:10 bilby INFO    : Generating initial points from the prior\n",
      "14:11 bilby INFO    : Written checkpoint file ../../data/civ_saves/J0100/bilby_fit_civ_msaexp_pypeit_v2//4713_16759_resume.pickle\n",
      "14:11 bilby INFO    : Sampling time: 0:00:16.407800\n",
      "14:11 bilby INFO    : Summary of results:\n",
      "nsamples: 2422\n",
      "ln_noise_evidence:    nan\n",
      "ln_evidence: 317.386 +/-  0.266\n",
      "ln_bayes_factor:    nan +/-  0.266\n",
      "\n"
     ]
    },
    {
     "name": "stdout",
     "output_type": "stream",
     "text": [
      "\n"
     ]
    },
    {
     "name": "stderr",
     "output_type": "stream",
     "text": [
      "/Users/myue/Research/Projects/JWST/dependencies/msa_spec_utils/LAE_spec_utils.py:464: RuntimeWarning: divide by zero encountered in power\n",
      "  self.err_fnu = (self.ivar_fnu)**-0.5\n",
      "/Users/myue/Research/Projects/JWST/dependencies/msa_spec_utils/LAE_spec_utils.py:470: RuntimeWarning: invalid value encountered in divide\n",
      "  self.flam = self.fnu * speed_of_light_angstrom / (self.wave)**2 * 1e-29 * 1e18\n",
      "/Users/myue/Research/Projects/JWST/dependencies/msa_spec_utils/LAE_spec_utils.py:471: RuntimeWarning: divide by zero encountered in divide\n",
      "  self.err_flam = self.err_fnu * (speed_of_light_angstrom / (self.wave)**2 * 1e-29 * 1e18)\n",
      "14:11 bilby INFO    : Running for label '4713_17352', output will be saved to '../../data/civ_saves/J0100/bilby_fit_civ_msaexp_pypeit_v2/'\n",
      "14:11 bilby INFO    : Search parameters:\n",
      "14:11 bilby INFO    :   center = Uniform(minimum=11106.12900673014, maximum=11150.642549843285, name='center', latex_label='center', unit=None, boundary=None)\n",
      "14:11 bilby INFO    :   fwhm = Uniform(minimum=300, maximum=1000, name='fwhm', latex_label='fwhm', unit=None, boundary=None)\n",
      "14:11 bilby INFO    :   flux = Uniform(minimum=-9.176902413162505, maximum=9.176902413162505, name='flux', latex_label='flux', unit=None, boundary=None)\n",
      "14:11 bilby INFO    :   A = Uniform(minimum=-0.04748318453888145, maximum=0.0949663690777629, name='A', latex_label='A', unit=None, boundary=None)\n",
      "14:11 bilby INFO    :   beta = Uniform(minimum=-4, maximum=2, name='beta', latex_label='beta', unit=None, boundary=None)\n",
      "14:11 bilby INFO    :   wave0 = 11128.385778286713\n",
      "14:11 bilby INFO    : Single likelihood evaluation took 3.322e-05 s\n"
     ]
    },
    {
     "data": {
      "application/vnd.jupyter.widget-view+json": {
       "model_id": "12dcdd2544c34db5a09d1b0706ac1a28",
       "version_major": 2,
       "version_minor": 0
      },
      "text/plain": [
       "0it [00:00, ?it/s]"
      ]
     },
     "metadata": {},
     "output_type": "display_data"
    },
    {
     "name": "stderr",
     "output_type": "stream",
     "text": [
      "14:11 bilby INFO    : Using sampler Dynesty with kwargs {'bound': 'multi', 'sample': 'rwalk', 'print_progress': True, 'periodic': None, 'reflective': None, 'check_point_delta_t': 1800, 'nlive': 200, 'first_update': None, 'walks': 100, 'npdim': None, 'rstate': None, 'queue_size': 1, 'pool': None, 'use_pool': None, 'live_points': None, 'logl_args': None, 'logl_kwargs': None, 'ptform_args': None, 'ptform_kwargs': None, 'enlarge': 1.5, 'bootstrap': None, 'vol_dec': 0.5, 'vol_check': 8.0, 'facc': 0.2, 'slices': 5, 'update_interval': 120, 'print_func': <bound method Dynesty._print_func of <bilby.core.sampler.dynesty.Dynesty object at 0x6f2c406e0>>, 'dlogz': 0.1, 'maxiter': None, 'maxcall': None, 'logl_max': inf, 'add_live': True, 'save_bounds': False, 'n_effective': None, 'maxmcmc': 5000, 'nact': 5, 'print_method': 'tqdm'}\n",
      "14:11 bilby INFO    : Checkpoint every check_point_delta_t = 600s\n",
      "14:11 bilby INFO    : Using dynesty version 1.0.1\n",
      "14:11 bilby INFO    : Using the bilby-implemented rwalk sample method with ACT estimated walks\n",
      "14:11 bilby INFO    : Resume file ../../data/civ_saves/J0100/bilby_fit_civ_msaexp_pypeit_v2//4713_17352_resume.pickle does not exist.\n",
      "14:11 bilby INFO    : Generating initial points from the prior\n",
      "14:11 bilby INFO    : Written checkpoint file ../../data/civ_saves/J0100/bilby_fit_civ_msaexp_pypeit_v2//4713_17352_resume.pickle\n",
      "14:11 bilby INFO    : Sampling time: 0:00:14.792678\n",
      "14:11 bilby INFO    : Summary of results:\n",
      "nsamples: 2334\n",
      "ln_noise_evidence:    nan\n",
      "ln_evidence: 280.294 +/-  0.254\n",
      "ln_bayes_factor:    nan +/-  0.254\n",
      "\n"
     ]
    },
    {
     "name": "stdout",
     "output_type": "stream",
     "text": [
      "\n"
     ]
    },
    {
     "name": "stderr",
     "output_type": "stream",
     "text": [
      "/Users/myue/Research/Projects/JWST/dependencies/msa_spec_utils/LAE_spec_utils.py:464: RuntimeWarning: divide by zero encountered in power\n",
      "  self.err_fnu = (self.ivar_fnu)**-0.5\n",
      "/Users/myue/Research/Projects/JWST/dependencies/msa_spec_utils/LAE_spec_utils.py:470: RuntimeWarning: invalid value encountered in divide\n",
      "  self.flam = self.fnu * speed_of_light_angstrom / (self.wave)**2 * 1e-29 * 1e18\n",
      "/Users/myue/Research/Projects/JWST/dependencies/msa_spec_utils/LAE_spec_utils.py:471: RuntimeWarning: divide by zero encountered in divide\n",
      "  self.err_flam = self.err_fnu * (speed_of_light_angstrom / (self.wave)**2 * 1e-29 * 1e18)\n",
      "14:11 bilby INFO    : Running for label '4713_17385', output will be saved to '../../data/civ_saves/J0100/bilby_fit_civ_msaexp_pypeit_v2/'\n",
      "14:11 bilby INFO    : Search parameters:\n",
      "14:11 bilby INFO    :   center = Uniform(minimum=12012.672763305729, maximum=12060.819748328997, name='center', latex_label='center', unit=None, boundary=None)\n",
      "14:11 bilby INFO    :   fwhm = Uniform(minimum=300, maximum=1000, name='fwhm', latex_label='fwhm', unit=None, boundary=None)\n",
      "14:11 bilby INFO    :   flux = Uniform(minimum=-12.748487571801267, maximum=12.748487571801267, name='flux', latex_label='flux', unit=None, boundary=None)\n",
      "14:11 bilby INFO    :   A = Uniform(minimum=-0.05970377435398999, maximum=0.11940754870797998, name='A', latex_label='A', unit=None, boundary=None)\n",
      "14:11 bilby INFO    :   beta = Uniform(minimum=-4, maximum=2, name='beta', latex_label='beta', unit=None, boundary=None)\n",
      "14:11 bilby INFO    :   wave0 = 12036.746255817363\n",
      "14:11 bilby INFO    : Single likelihood evaluation took 3.545e-05 s\n"
     ]
    },
    {
     "data": {
      "application/vnd.jupyter.widget-view+json": {
       "model_id": "9a2fa4f934064d6d83714269f54bef5f",
       "version_major": 2,
       "version_minor": 0
      },
      "text/plain": [
       "0it [00:00, ?it/s]"
      ]
     },
     "metadata": {},
     "output_type": "display_data"
    },
    {
     "name": "stderr",
     "output_type": "stream",
     "text": [
      "14:11 bilby INFO    : Using sampler Dynesty with kwargs {'bound': 'multi', 'sample': 'rwalk', 'print_progress': True, 'periodic': None, 'reflective': None, 'check_point_delta_t': 1800, 'nlive': 200, 'first_update': None, 'walks': 100, 'npdim': None, 'rstate': None, 'queue_size': 1, 'pool': None, 'use_pool': None, 'live_points': None, 'logl_args': None, 'logl_kwargs': None, 'ptform_args': None, 'ptform_kwargs': None, 'enlarge': 1.5, 'bootstrap': None, 'vol_dec': 0.5, 'vol_check': 8.0, 'facc': 0.2, 'slices': 5, 'update_interval': 120, 'print_func': <bound method Dynesty._print_func of <bilby.core.sampler.dynesty.Dynesty object at 0x42ac99e20>>, 'dlogz': 0.1, 'maxiter': None, 'maxcall': None, 'logl_max': inf, 'add_live': True, 'save_bounds': False, 'n_effective': None, 'maxmcmc': 5000, 'nact': 5, 'print_method': 'tqdm'}\n",
      "14:11 bilby INFO    : Checkpoint every check_point_delta_t = 600s\n",
      "14:11 bilby INFO    : Using dynesty version 1.0.1\n",
      "14:11 bilby INFO    : Using the bilby-implemented rwalk sample method with ACT estimated walks\n",
      "14:11 bilby INFO    : Resume file ../../data/civ_saves/J0100/bilby_fit_civ_msaexp_pypeit_v2//4713_17385_resume.pickle does not exist.\n",
      "14:11 bilby INFO    : Generating initial points from the prior\n",
      "14:11 bilby INFO    : Written checkpoint file ../../data/civ_saves/J0100/bilby_fit_civ_msaexp_pypeit_v2//4713_17385_resume.pickle\n",
      "14:11 bilby INFO    : Sampling time: 0:00:16.140122\n",
      "14:11 bilby INFO    : Summary of results:\n",
      "nsamples: 2781\n",
      "ln_noise_evidence:    nan\n",
      "ln_evidence: 382.297 +/-  0.295\n",
      "ln_bayes_factor:    nan +/-  0.295\n",
      "\n"
     ]
    },
    {
     "name": "stdout",
     "output_type": "stream",
     "text": [
      "\n"
     ]
    },
    {
     "name": "stderr",
     "output_type": "stream",
     "text": [
      "/Users/myue/Research/Projects/JWST/dependencies/msa_spec_utils/LAE_spec_utils.py:464: RuntimeWarning: divide by zero encountered in power\n",
      "  self.err_fnu = (self.ivar_fnu)**-0.5\n",
      "/Users/myue/Research/Projects/JWST/dependencies/msa_spec_utils/LAE_spec_utils.py:470: RuntimeWarning: invalid value encountered in divide\n",
      "  self.flam = self.fnu * speed_of_light_angstrom / (self.wave)**2 * 1e-29 * 1e18\n",
      "/Users/myue/Research/Projects/JWST/dependencies/msa_spec_utils/LAE_spec_utils.py:471: RuntimeWarning: divide by zero encountered in divide\n",
      "  self.err_flam = self.err_fnu * (speed_of_light_angstrom / (self.wave)**2 * 1e-29 * 1e18)\n",
      "14:11 bilby INFO    : Running for label '4713_17492', output will be saved to '../../data/civ_saves/J0100/bilby_fit_civ_msaexp_pypeit_v2/'\n",
      "14:11 bilby INFO    : Search parameters:\n",
      "14:11 bilby INFO    :   center = Uniform(minimum=11946.318400436516, maximum=11994.19943610961, name='center', latex_label='center', unit=None, boundary=None)\n",
      "14:11 bilby INFO    :   fwhm = Uniform(minimum=300, maximum=1000, name='fwhm', latex_label='fwhm', unit=None, boundary=None)\n",
      "14:11 bilby INFO    :   flux = Uniform(minimum=-6.9431585080581035, maximum=6.9431585080581035, name='flux', latex_label='flux', unit=None, boundary=None)\n",
      "14:11 bilby INFO    :   A = Uniform(minimum=-0.03269683858821994, maximum=0.06539367717643987, name='A', latex_label='A', unit=None, boundary=None)\n",
      "14:11 bilby INFO    :   beta = Uniform(minimum=-4, maximum=2, name='beta', latex_label='beta', unit=None, boundary=None)\n",
      "14:11 bilby INFO    :   wave0 = 11970.258918273063\n",
      "14:11 bilby INFO    : Single likelihood evaluation took 3.213e-05 s\n"
     ]
    },
    {
     "data": {
      "application/vnd.jupyter.widget-view+json": {
       "model_id": "6f8ba737f45148828292e62706721d68",
       "version_major": 2,
       "version_minor": 0
      },
      "text/plain": [
       "0it [00:00, ?it/s]"
      ]
     },
     "metadata": {},
     "output_type": "display_data"
    },
    {
     "name": "stderr",
     "output_type": "stream",
     "text": [
      "14:11 bilby INFO    : Using sampler Dynesty with kwargs {'bound': 'multi', 'sample': 'rwalk', 'print_progress': True, 'periodic': None, 'reflective': None, 'check_point_delta_t': 1800, 'nlive': 200, 'first_update': None, 'walks': 100, 'npdim': None, 'rstate': None, 'queue_size': 1, 'pool': None, 'use_pool': None, 'live_points': None, 'logl_args': None, 'logl_kwargs': None, 'ptform_args': None, 'ptform_kwargs': None, 'enlarge': 1.5, 'bootstrap': None, 'vol_dec': 0.5, 'vol_check': 8.0, 'facc': 0.2, 'slices': 5, 'update_interval': 120, 'print_func': <bound method Dynesty._print_func of <bilby.core.sampler.dynesty.Dynesty object at 0x3e883dfa0>>, 'dlogz': 0.1, 'maxiter': None, 'maxcall': None, 'logl_max': inf, 'add_live': True, 'save_bounds': False, 'n_effective': None, 'maxmcmc': 5000, 'nact': 5, 'print_method': 'tqdm'}\n",
      "14:11 bilby INFO    : Checkpoint every check_point_delta_t = 600s\n",
      "14:11 bilby INFO    : Using dynesty version 1.0.1\n",
      "14:11 bilby INFO    : Using the bilby-implemented rwalk sample method with ACT estimated walks\n",
      "14:11 bilby INFO    : Resume file ../../data/civ_saves/J0100/bilby_fit_civ_msaexp_pypeit_v2//4713_17492_resume.pickle does not exist.\n",
      "14:11 bilby INFO    : Generating initial points from the prior\n",
      "14:12 bilby INFO    : Written checkpoint file ../../data/civ_saves/J0100/bilby_fit_civ_msaexp_pypeit_v2//4713_17492_resume.pickle\n",
      "14:12 bilby INFO    : Sampling time: 0:00:14.911932\n",
      "14:12 bilby INFO    : Summary of results:\n",
      "nsamples: 2368\n",
      "ln_noise_evidence:    nan\n",
      "ln_evidence: 378.670 +/-  0.264\n",
      "ln_bayes_factor:    nan +/-  0.264\n",
      "\n"
     ]
    },
    {
     "name": "stdout",
     "output_type": "stream",
     "text": [
      "\n"
     ]
    },
    {
     "name": "stderr",
     "output_type": "stream",
     "text": [
      "/Users/myue/Research/Projects/JWST/dependencies/msa_spec_utils/LAE_spec_utils.py:464: RuntimeWarning: divide by zero encountered in power\n",
      "  self.err_fnu = (self.ivar_fnu)**-0.5\n",
      "/Users/myue/Research/Projects/JWST/dependencies/msa_spec_utils/LAE_spec_utils.py:470: RuntimeWarning: invalid value encountered in divide\n",
      "  self.flam = self.fnu * speed_of_light_angstrom / (self.wave)**2 * 1e-29 * 1e18\n",
      "/Users/myue/Research/Projects/JWST/dependencies/msa_spec_utils/LAE_spec_utils.py:471: RuntimeWarning: divide by zero encountered in divide\n",
      "  self.err_flam = self.err_fnu * (speed_of_light_angstrom / (self.wave)**2 * 1e-29 * 1e18)\n",
      "14:12 bilby INFO    : Running for label '4713_18061', output will be saved to '../../data/civ_saves/J0100/bilby_fit_civ_msaexp_pypeit_v2/'\n",
      "14:12 bilby INFO    : Search parameters:\n",
      "14:12 bilby INFO    :   center = Uniform(minimum=11332.903588974339, maximum=11378.326048248786, name='center', latex_label='center', unit=None, boundary=None)\n",
      "14:12 bilby INFO    :   fwhm = Uniform(minimum=300, maximum=1000, name='fwhm', latex_label='fwhm', unit=None, boundary=None)\n",
      "14:12 bilby INFO    :   flux = Uniform(minimum=-9.80026750759935, maximum=9.80026750759935, name='flux', latex_label='flux', unit=None, boundary=None)\n",
      "14:12 bilby INFO    :   A = Uniform(minimum=-0.04864962591075148, maximum=0.09729925182150297, name='A', latex_label='A', unit=None, boundary=None)\n",
      "14:12 bilby INFO    :   beta = Uniform(minimum=-4, maximum=2, name='beta', latex_label='beta', unit=None, boundary=None)\n",
      "14:12 bilby INFO    :   wave0 = 11355.614818611562\n",
      "14:12 bilby INFO    : Single likelihood evaluation took 3.371e-05 s\n"
     ]
    },
    {
     "data": {
      "application/vnd.jupyter.widget-view+json": {
       "model_id": "88f21a716a0248baa4dd738054281a3e",
       "version_major": 2,
       "version_minor": 0
      },
      "text/plain": [
       "0it [00:00, ?it/s]"
      ]
     },
     "metadata": {},
     "output_type": "display_data"
    },
    {
     "name": "stderr",
     "output_type": "stream",
     "text": [
      "14:12 bilby INFO    : Using sampler Dynesty with kwargs {'bound': 'multi', 'sample': 'rwalk', 'print_progress': True, 'periodic': None, 'reflective': None, 'check_point_delta_t': 1800, 'nlive': 200, 'first_update': None, 'walks': 100, 'npdim': None, 'rstate': None, 'queue_size': 1, 'pool': None, 'use_pool': None, 'live_points': None, 'logl_args': None, 'logl_kwargs': None, 'ptform_args': None, 'ptform_kwargs': None, 'enlarge': 1.5, 'bootstrap': None, 'vol_dec': 0.5, 'vol_check': 8.0, 'facc': 0.2, 'slices': 5, 'update_interval': 120, 'print_func': <bound method Dynesty._print_func of <bilby.core.sampler.dynesty.Dynesty object at 0x5f11c7080>>, 'dlogz': 0.1, 'maxiter': None, 'maxcall': None, 'logl_max': inf, 'add_live': True, 'save_bounds': False, 'n_effective': None, 'maxmcmc': 5000, 'nact': 5, 'print_method': 'tqdm'}\n",
      "14:12 bilby INFO    : Checkpoint every check_point_delta_t = 600s\n",
      "14:12 bilby INFO    : Using dynesty version 1.0.1\n",
      "14:12 bilby INFO    : Using the bilby-implemented rwalk sample method with ACT estimated walks\n",
      "14:12 bilby INFO    : Resume file ../../data/civ_saves/J0100/bilby_fit_civ_msaexp_pypeit_v2//4713_18061_resume.pickle does not exist.\n",
      "14:12 bilby INFO    : Generating initial points from the prior\n",
      "14:12 bilby INFO    : Written checkpoint file ../../data/civ_saves/J0100/bilby_fit_civ_msaexp_pypeit_v2//4713_18061_resume.pickle\n",
      "14:12 bilby INFO    : Sampling time: 0:00:15.830014\n",
      "14:12 bilby INFO    : Summary of results:\n",
      "nsamples: 2482\n",
      "ln_noise_evidence:    nan\n",
      "ln_evidence: 335.254 +/-  0.264\n",
      "ln_bayes_factor:    nan +/-  0.264\n",
      "\n"
     ]
    },
    {
     "name": "stdout",
     "output_type": "stream",
     "text": [
      "\n"
     ]
    },
    {
     "name": "stderr",
     "output_type": "stream",
     "text": [
      "/Users/myue/Research/Projects/JWST/dependencies/msa_spec_utils/LAE_spec_utils.py:464: RuntimeWarning: divide by zero encountered in power\n",
      "  self.err_fnu = (self.ivar_fnu)**-0.5\n",
      "/Users/myue/Research/Projects/JWST/dependencies/msa_spec_utils/LAE_spec_utils.py:470: RuntimeWarning: invalid value encountered in divide\n",
      "  self.flam = self.fnu * speed_of_light_angstrom / (self.wave)**2 * 1e-29 * 1e18\n",
      "/Users/myue/Research/Projects/JWST/dependencies/msa_spec_utils/LAE_spec_utils.py:471: RuntimeWarning: divide by zero encountered in divide\n",
      "  self.err_flam = self.err_fnu * (speed_of_light_angstrom / (self.wave)**2 * 1e-29 * 1e18)\n",
      "14:12 bilby INFO    : Running for label '4713_18268', output will be saved to '../../data/civ_saves/J0100/bilby_fit_civ_msaexp_pypeit_v2/'\n",
      "14:12 bilby INFO    : Search parameters:\n",
      "14:12 bilby INFO    :   center = Uniform(minimum=11804.045375653399, maximum=11851.35617876223, name='center', latex_label='center', unit=None, boundary=None)\n",
      "14:12 bilby INFO    :   fwhm = Uniform(minimum=300, maximum=1000, name='fwhm', latex_label='fwhm', unit=None, boundary=None)\n",
      "14:12 bilby INFO    :   flux = Uniform(minimum=-10.040293667220796, maximum=10.040293667220796, name='flux', latex_label='flux', unit=None, boundary=None)\n",
      "14:12 bilby INFO    :   A = Uniform(minimum=-0.04785180389816393, maximum=0.09570360779632786, name='A', latex_label='A', unit=None, boundary=None)\n",
      "14:12 bilby INFO    :   beta = Uniform(minimum=-4, maximum=2, name='beta', latex_label='beta', unit=None, boundary=None)\n",
      "14:12 bilby INFO    :   wave0 = 11827.700777207814\n",
      "14:12 bilby INFO    : Single likelihood evaluation took 3.361e-05 s\n"
     ]
    },
    {
     "data": {
      "application/vnd.jupyter.widget-view+json": {
       "model_id": "33fb41bcd1da42c1bbccc6130a69ec59",
       "version_major": 2,
       "version_minor": 0
      },
      "text/plain": [
       "0it [00:00, ?it/s]"
      ]
     },
     "metadata": {},
     "output_type": "display_data"
    },
    {
     "name": "stderr",
     "output_type": "stream",
     "text": [
      "14:12 bilby INFO    : Using sampler Dynesty with kwargs {'bound': 'multi', 'sample': 'rwalk', 'print_progress': True, 'periodic': None, 'reflective': None, 'check_point_delta_t': 1800, 'nlive': 200, 'first_update': None, 'walks': 100, 'npdim': None, 'rstate': None, 'queue_size': 1, 'pool': None, 'use_pool': None, 'live_points': None, 'logl_args': None, 'logl_kwargs': None, 'ptform_args': None, 'ptform_kwargs': None, 'enlarge': 1.5, 'bootstrap': None, 'vol_dec': 0.5, 'vol_check': 8.0, 'facc': 0.2, 'slices': 5, 'update_interval': 120, 'print_func': <bound method Dynesty._print_func of <bilby.core.sampler.dynesty.Dynesty object at 0x3c8f4a9f0>>, 'dlogz': 0.1, 'maxiter': None, 'maxcall': None, 'logl_max': inf, 'add_live': True, 'save_bounds': False, 'n_effective': None, 'maxmcmc': 5000, 'nact': 5, 'print_method': 'tqdm'}\n",
      "14:12 bilby INFO    : Checkpoint every check_point_delta_t = 600s\n",
      "14:12 bilby INFO    : Using dynesty version 1.0.1\n",
      "14:12 bilby INFO    : Using the bilby-implemented rwalk sample method with ACT estimated walks\n",
      "14:12 bilby INFO    : Resume file ../../data/civ_saves/J0100/bilby_fit_civ_msaexp_pypeit_v2//4713_18268_resume.pickle does not exist.\n",
      "14:12 bilby INFO    : Generating initial points from the prior\n",
      "14:12 bilby INFO    : Written checkpoint file ../../data/civ_saves/J0100/bilby_fit_civ_msaexp_pypeit_v2//4713_18268_resume.pickle\n",
      "14:12 bilby INFO    : Sampling time: 0:00:16.572143\n",
      "14:12 bilby INFO    : Summary of results:\n",
      "nsamples: 2491\n",
      "ln_noise_evidence:    nan\n",
      "ln_evidence: 318.315 +/-  0.269\n",
      "ln_bayes_factor:    nan +/-  0.269\n",
      "\n"
     ]
    },
    {
     "name": "stdout",
     "output_type": "stream",
     "text": [
      "\n"
     ]
    },
    {
     "data": {
      "image/png": "[encoded data removed]",
      "text/plain": [
       "<Figure size 640x480 with 1 Axes>"
      ]
     },
     "metadata": {},
     "output_type": "display_data"
    }
   ],
   "source": [
    "\n",
    "outdir_msaexp = '../../data/civ_saves/J0100/bilby_fit_civ_msaexp_pypeit_v2/'\n",
    "outdir_plot = '../../data/civ_saves/J0100/plotfit_msaexp/'\n",
    "selectidx_msaexp = []\n",
    "\n",
    "spec1ddir = os.path.abspath(f'../../../ID4713/pypeit-reduc/data-release-2/reduced_spec_msaexp_pypeit/')\n",
    "\n",
    "for index in range(len(lyainfo)):\n",
    "    \n",
    "    z = lyainfo['z_O3doublet_combined_n'][index]\n",
    "    isource = '4713_%d'%(lyainfo['NUMBER'][index])\n",
    "\n",
    "    # update the problematic ones\n",
    "    #if not int(allinfo['NUMBER'][index]) in [5595, 17549, 16184, 17577]:\n",
    "    #    continue\n",
    "\n",
    "    # find the spec1d file\n",
    "    spec1dfile = os.path.join(spec1ddir,'spec1d_%s_stack.fits'%isource)\n",
    "    if not os.path.exists(spec1dfile):\n",
    "        spec1dfile = os.path.join(spec1ddir,'manu1d_%s_stack.fits'%isource)\n",
    "    if not os.path.exists(spec1dfile):\n",
    "        continue\n",
    "\n",
    "    label = isource\n",
    "    msaexp_spec = LAE.PypeItSpecStacked(filename=spec1dfile, zO3=z, outdir=outdir_msaexp, label=label)\n",
    "    \n",
    "    plot_info = dict(title=isource, bestfit=f'{outdir_plot}/bestfit/%s.pdf'%isource, \\\n",
    "                    corner=f'{outdir_plot}/corner/%s.pdf'%isource)\n",
    "\n",
    "    try:\n",
    "        msaexp_spec.fit_civ_profile_bilby()\n",
    "        msaexp_spec.plot_best_fit(plot_info, linename='civ')\n",
    "        msaexp_spec.plot_contour_fit(plot_info)\n",
    "    except LAE.LineNotCoveredError:\n",
    "        #print(isource)\n",
    "        pass\n",
    "        \n"
   ]
  },
  {
   "cell_type": "code",
   "execution_count": 46,
   "id": "b15d567a-eaa0-4f82-bb50-68a7790fabd8",
   "metadata": {
    "scrolled": true
   },
   "outputs": [
    {
     "name": "stderr",
     "output_type": "stream",
     "text": [
      "/Users/myue/Research/Projects/JWST/dependencies/msa_spec_utils/LAE_spec_utils.py:464: RuntimeWarning: divide by zero encountered in power\n",
      "  self.err_fnu = (self.ivar_fnu)**-0.5\n",
      "/Users/myue/Research/Projects/JWST/dependencies/msa_spec_utils/LAE_spec_utils.py:470: RuntimeWarning: invalid value encountered in divide\n",
      "  self.flam = self.fnu * speed_of_light_angstrom / (self.wave)**2 * 1e-29 * 1e18\n",
      "/Users/myue/Research/Projects/JWST/dependencies/msa_spec_utils/LAE_spec_utils.py:471: RuntimeWarning: divide by zero encountered in divide\n",
      "  self.err_flam = self.err_fnu * (speed_of_light_angstrom / (self.wave)**2 * 1e-29 * 1e18)\n",
      "14:14 bilby INFO    : Running for label '4713_30', output will be saved to '../../data/civ_saves/J0100/bilby_fit_civ_msaexp_pypeit_v2/'\n",
      "14:14 bilby INFO    : Search parameters:\n",
      "14:14 bilby INFO    :   center = Uniform(minimum=10734.074267730564, maximum=10777.096609484994, name='center', latex_label='center', unit=None, boundary=None)\n",
      "14:14 bilby INFO    :   fwhm = Uniform(minimum=300, maximum=1000, name='fwhm', latex_label='fwhm', unit=None, boundary=None)\n",
      "14:14 bilby INFO    :   flux = Uniform(minimum=-15.594914588744402, maximum=15.594914588744402, name='flux', latex_label='flux', unit=None, boundary=None)\n",
      "14:14 bilby INFO    :   A = Uniform(minimum=-0.08173370268508576, maximum=0.16346740537017151, name='A', latex_label='A', unit=None, boundary=None)\n",
      "14:14 bilby INFO    :   beta = Uniform(minimum=-4, maximum=2, name='beta', latex_label='beta', unit=None, boundary=None)\n",
      "14:14 bilby INFO    :   wave0 = 10755.585438607779\n",
      "14:14 bilby INFO    : Single likelihood evaluation took 7.522e-05 s\n"
     ]
    },
    {
     "data": {
      "application/vnd.jupyter.widget-view+json": {
       "model_id": "9bf1710f607f466899408477413e8110",
       "version_major": 2,
       "version_minor": 0
      },
      "text/plain": [
       "0it [00:00, ?it/s]"
      ]
     },
     "metadata": {},
     "output_type": "display_data"
    },
    {
     "name": "stderr",
     "output_type": "stream",
     "text": [
      "14:14 bilby INFO    : Checkpoint every check_point_delta_t = 600s\n",
      "14:14 bilby WARNING : Using cached result\n",
      "14:14 bilby INFO    : Summary of results:\n",
      "nsamples: 2675\n",
      "ln_noise_evidence:    nan\n",
      "ln_evidence: 272.049 +/-  0.290\n",
      "ln_bayes_factor:    nan +/-  0.290\n",
      "\n",
      "/Users/myue/Research/Projects/JWST/dependencies/msa_spec_utils/LAE_spec_utils.py:464: RuntimeWarning: divide by zero encountered in power\n",
      "  self.err_fnu = (self.ivar_fnu)**-0.5\n",
      "/Users/myue/Research/Projects/JWST/dependencies/msa_spec_utils/LAE_spec_utils.py:470: RuntimeWarning: invalid value encountered in divide\n",
      "  self.flam = self.fnu * speed_of_light_angstrom / (self.wave)**2 * 1e-29 * 1e18\n",
      "/Users/myue/Research/Projects/JWST/dependencies/msa_spec_utils/LAE_spec_utils.py:471: RuntimeWarning: divide by zero encountered in divide\n",
      "  self.err_flam = self.err_fnu * (speed_of_light_angstrom / (self.wave)**2 * 1e-29 * 1e18)\n",
      "14:14 bilby INFO    : Running for label '4713_1228', output will be saved to '../../data/civ_saves/J0100/bilby_fit_civ_msaexp_pypeit_v2/'\n",
      "14:14 bilby INFO    : Search parameters:\n",
      "14:14 bilby INFO    :   center = Uniform(minimum=11335.796561087665, maximum=11381.230615440722, name='center', latex_label='center', unit=None, boundary=None)\n",
      "14:14 bilby INFO    :   fwhm = Uniform(minimum=300, maximum=1000, name='fwhm', latex_label='fwhm', unit=None, boundary=None)\n",
      "14:14 bilby INFO    :   flux = Uniform(minimum=-15.842315522885116, maximum=15.842315522885116, name='flux', latex_label='flux', unit=None, boundary=None)\n",
      "14:14 bilby INFO    :   A = Uniform(minimum=-0.07862295896393846, maximum=0.15724591792787693, name='A', latex_label='A', unit=None, boundary=None)\n",
      "14:14 bilby INFO    :   beta = Uniform(minimum=-4, maximum=2, name='beta', latex_label='beta', unit=None, boundary=None)\n",
      "14:14 bilby INFO    :   wave0 = 11358.513588264193\n",
      "14:14 bilby INFO    : Single likelihood evaluation took 3.699e-05 s\n"
     ]
    },
    {
     "data": {
      "application/vnd.jupyter.widget-view+json": {
       "model_id": "b3219bf5c236460fa6a4c1e01ac7d945",
       "version_major": 2,
       "version_minor": 0
      },
      "text/plain": [
       "0it [00:00, ?it/s]"
      ]
     },
     "metadata": {},
     "output_type": "display_data"
    },
    {
     "name": "stderr",
     "output_type": "stream",
     "text": [
      "14:14 bilby INFO    : Checkpoint every check_point_delta_t = 600s\n",
      "14:14 bilby WARNING : Using cached result\n",
      "14:14 bilby INFO    : Summary of results:\n",
      "nsamples: 2561\n",
      "ln_noise_evidence:    nan\n",
      "ln_evidence: 292.325 +/-  0.280\n",
      "ln_bayes_factor:    nan +/-  0.280\n",
      "\n",
      "/Users/myue/Research/Projects/JWST/dependencies/msa_spec_utils/LAE_spec_utils.py:464: RuntimeWarning: divide by zero encountered in power\n",
      "  self.err_fnu = (self.ivar_fnu)**-0.5\n",
      "/Users/myue/Research/Projects/JWST/dependencies/msa_spec_utils/LAE_spec_utils.py:470: RuntimeWarning: invalid value encountered in divide\n",
      "  self.flam = self.fnu * speed_of_light_angstrom / (self.wave)**2 * 1e-29 * 1e18\n",
      "/Users/myue/Research/Projects/JWST/dependencies/msa_spec_utils/LAE_spec_utils.py:471: RuntimeWarning: divide by zero encountered in divide\n",
      "  self.err_flam = self.err_fnu * (speed_of_light_angstrom / (self.wave)**2 * 1e-29 * 1e18)\n",
      "14:14 bilby INFO    : Running for label '4713_2007', output will be saved to '../../data/civ_saves/J0100/bilby_fit_civ_msaexp_pypeit_v2/'\n",
      "14:14 bilby INFO    : Search parameters:\n",
      "14:14 bilby INFO    :   center = Uniform(minimum=12011.103312398072, maximum=12059.244007036943, name='center', latex_label='center', unit=None, boundary=None)\n",
      "14:14 bilby INFO    :   fwhm = Uniform(minimum=300, maximum=1000, name='fwhm', latex_label='fwhm', unit=None, boundary=None)\n",
      "14:14 bilby INFO    :   flux = Uniform(minimum=-9.118109693301683, maximum=9.118109693301683, name='flux', latex_label='flux', unit=None, boundary=None)\n",
      "14:14 bilby INFO    :   A = Uniform(minimum=-0.04270755206433182, maximum=0.08541510412866364, name='A', latex_label='A', unit=None, boundary=None)\n",
      "14:14 bilby INFO    :   beta = Uniform(minimum=-4, maximum=2, name='beta', latex_label='beta', unit=None, boundary=None)\n",
      "14:14 bilby INFO    :   wave0 = 12035.173659717508\n",
      "14:14 bilby INFO    : Single likelihood evaluation took 3.555e-05 s\n"
     ]
    },
    {
     "data": {
      "application/vnd.jupyter.widget-view+json": {
       "model_id": "0f9e3cb445174916a5d375bdda72f175",
       "version_major": 2,
       "version_minor": 0
      },
      "text/plain": [
       "0it [00:00, ?it/s]"
      ]
     },
     "metadata": {},
     "output_type": "display_data"
    },
    {
     "name": "stderr",
     "output_type": "stream",
     "text": [
      "14:14 bilby INFO    : Checkpoint every check_point_delta_t = 600s\n",
      "14:14 bilby WARNING : Using cached result\n",
      "14:14 bilby INFO    : Summary of results:\n",
      "nsamples: 2369\n",
      "ln_noise_evidence:    nan\n",
      "ln_evidence: 338.389 +/-  0.257\n",
      "ln_bayes_factor:    nan +/-  0.257\n",
      "\n",
      "14:14 bilby INFO    : Running for label '4713_2084', output will be saved to '../../data/civ_saves/J0100/bilby_fit_civ_msaexp_pypeit_v2/'\n",
      "14:14 bilby INFO    : Search parameters:\n",
      "14:14 bilby INFO    :   center = Uniform(minimum=12008.041788874192, maximum=12056.170212877694, name='center', latex_label='center', unit=None, boundary=None)\n",
      "14:14 bilby INFO    :   fwhm = Uniform(minimum=300, maximum=1000, name='fwhm', latex_label='fwhm', unit=None, boundary=None)\n",
      "14:14 bilby INFO    :   flux = Uniform(minimum=-7.6198450237763735, maximum=7.6198450237763735, name='flux', latex_label='flux', unit=None, boundary=None)\n",
      "14:14 bilby INFO    :   A = Uniform(minimum=-0.03569905474873373, maximum=0.07139810949746746, name='A', latex_label='A', unit=None, boundary=None)\n",
      "14:14 bilby INFO    :   beta = Uniform(minimum=-4, maximum=2, name='beta', latex_label='beta', unit=None, boundary=None)\n",
      "14:14 bilby INFO    :   wave0 = 12032.106000875943\n",
      "14:14 bilby INFO    : Single likelihood evaluation took 3.727e-05 s\n"
     ]
    },
    {
     "data": {
      "application/vnd.jupyter.widget-view+json": {
       "model_id": "7dffc30e2add4fa7aa7557068754063d",
       "version_major": 2,
       "version_minor": 0
      },
      "text/plain": [
       "0it [00:00, ?it/s]"
      ]
     },
     "metadata": {},
     "output_type": "display_data"
    },
    {
     "name": "stderr",
     "output_type": "stream",
     "text": [
      "14:14 bilby INFO    : Checkpoint every check_point_delta_t = 600s\n",
      "14:14 bilby WARNING : Using cached result\n",
      "14:14 bilby INFO    : Summary of results:\n",
      "nsamples: 2860\n",
      "ln_noise_evidence:    nan\n",
      "ln_evidence: 373.928 +/-  0.294\n",
      "ln_bayes_factor:    nan +/-  0.294\n",
      "\n",
      "/Users/myue/Research/Projects/JWST/dependencies/msa_spec_utils/LAE_spec_utils.py:464: RuntimeWarning: divide by zero encountered in power\n",
      "  self.err_fnu = (self.ivar_fnu)**-0.5\n",
      "/Users/myue/Research/Projects/JWST/dependencies/msa_spec_utils/LAE_spec_utils.py:470: RuntimeWarning: invalid value encountered in divide\n",
      "  self.flam = self.fnu * speed_of_light_angstrom / (self.wave)**2 * 1e-29 * 1e18\n",
      "/Users/myue/Research/Projects/JWST/dependencies/msa_spec_utils/LAE_spec_utils.py:471: RuntimeWarning: divide by zero encountered in divide\n",
      "  self.err_flam = self.err_fnu * (speed_of_light_angstrom / (self.wave)**2 * 1e-29 * 1e18)\n",
      "14:14 bilby INFO    : Running for label '4713_2159', output will be saved to '../../data/civ_saves/J0100/bilby_fit_civ_msaexp_pypeit_v2/'\n",
      "14:14 bilby INFO    : Search parameters:\n",
      "14:14 bilby INFO    :   center = Uniform(minimum=10833.576460870463, maximum=10876.997609010225, name='center', latex_label='center', unit=None, boundary=None)\n",
      "14:14 bilby INFO    :   fwhm = Uniform(minimum=300, maximum=1000, name='fwhm', latex_label='fwhm', unit=None, boundary=None)\n",
      "14:14 bilby INFO    :   flux = Uniform(minimum=-19.84777576555484, maximum=19.84777576555484, name='flux', latex_label='flux', unit=None, boundary=None)\n",
      "14:14 bilby INFO    :   A = Uniform(minimum=-0.10306774181778612, maximum=0.20613548363557224, name='A', latex_label='A', unit=None, boundary=None)\n",
      "14:14 bilby INFO    :   beta = Uniform(minimum=-4, maximum=2, name='beta', latex_label='beta', unit=None, boundary=None)\n",
      "14:14 bilby INFO    :   wave0 = 10855.287034940344\n",
      "14:14 bilby INFO    : Single likelihood evaluation took 3.481e-05 s\n"
     ]
    },
    {
     "data": {
      "application/vnd.jupyter.widget-view+json": {
       "model_id": "3383403d49ee410dab1b877f54094ecd",
       "version_major": 2,
       "version_minor": 0
      },
      "text/plain": [
       "0it [00:00, ?it/s]"
      ]
     },
     "metadata": {},
     "output_type": "display_data"
    },
    {
     "name": "stderr",
     "output_type": "stream",
     "text": [
      "14:14 bilby INFO    : Checkpoint every check_point_delta_t = 600s\n",
      "14:14 bilby WARNING : Using cached result\n",
      "14:14 bilby INFO    : Summary of results:\n",
      "nsamples: 1432\n",
      "ln_noise_evidence:    nan\n",
      "ln_evidence: 88.975 +/-  0.170\n",
      "ln_bayes_factor:    nan +/-  0.170\n",
      "\n",
      "/Users/myue/Research/Projects/JWST/dependencies/msa_spec_utils/LAE_spec_utils.py:464: RuntimeWarning: divide by zero encountered in power\n",
      "  self.err_fnu = (self.ivar_fnu)**-0.5\n",
      "/Users/myue/Research/Projects/JWST/dependencies/msa_spec_utils/LAE_spec_utils.py:470: RuntimeWarning: invalid value encountered in divide\n",
      "  self.flam = self.fnu * speed_of_light_angstrom / (self.wave)**2 * 1e-29 * 1e18\n",
      "/Users/myue/Research/Projects/JWST/dependencies/msa_spec_utils/LAE_spec_utils.py:471: RuntimeWarning: divide by zero encountered in divide\n",
      "  self.err_flam = self.err_fnu * (speed_of_light_angstrom / (self.wave)**2 * 1e-29 * 1e18)\n",
      "14:14 bilby INFO    : Running for label '4713_2355', output will be saved to '../../data/civ_saves/J0100/bilby_fit_civ_msaexp_pypeit_v2/'\n",
      "14:14 bilby INFO    : Search parameters:\n",
      "14:14 bilby INFO    :   center = Uniform(minimum=11103.356134929933, maximum=11147.858564328448, name='center', latex_label='center', unit=None, boundary=None)\n",
      "14:14 bilby INFO    :   fwhm = Uniform(minimum=300, maximum=1000, name='fwhm', latex_label='fwhm', unit=None, boundary=None)\n",
      "14:14 bilby INFO    :   flux = Uniform(minimum=-13.171375655904914, maximum=13.171375655904914, name='flux', latex_label='flux', unit=None, boundary=None)\n",
      "14:14 bilby INFO    :   A = Uniform(minimum=-0.06673591746734449, maximum=0.13347183493468898, name='A', latex_label='A', unit=None, boundary=None)\n",
      "14:14 bilby INFO    :   beta = Uniform(minimum=-4, maximum=2, name='beta', latex_label='beta', unit=None, boundary=None)\n",
      "14:14 bilby INFO    :   wave0 = 11125.60734962919\n",
      "14:14 bilby INFO    : Single likelihood evaluation took 3.238e-05 s\n"
     ]
    },
    {
     "data": {
      "application/vnd.jupyter.widget-view+json": {
       "model_id": "09d2b686426649208ed413990b57eb86",
       "version_major": 2,
       "version_minor": 0
      },
      "text/plain": [
       "0it [00:00, ?it/s]"
      ]
     },
     "metadata": {},
     "output_type": "display_data"
    },
    {
     "name": "stderr",
     "output_type": "stream",
     "text": [
      "14:14 bilby INFO    : Checkpoint every check_point_delta_t = 600s\n",
      "14:14 bilby WARNING : Using cached result\n",
      "14:14 bilby INFO    : Summary of results:\n",
      "nsamples: 2624\n",
      "ln_noise_evidence:    nan\n",
      "ln_evidence: 300.138 +/-  0.276\n",
      "ln_bayes_factor:    nan +/-  0.276\n",
      "\n",
      "14:14 bilby INFO    : Running for label '4713_3783', output will be saved to '../../data/civ_saves/J0100/bilby_fit_civ_msaexp_pypeit_v2/'\n",
      "14:14 bilby INFO    : Search parameters:\n",
      "14:14 bilby INFO    :   center = Uniform(minimum=11103.656796882598, maximum=11148.160431339042, name='center', latex_label='center', unit=None, boundary=None)\n",
      "14:14 bilby INFO    :   fwhm = Uniform(minimum=300, maximum=1000, name='fwhm', latex_label='fwhm', unit=None, boundary=None)\n",
      "14:14 bilby INFO    :   flux = Uniform(minimum=-12.682236464102818, maximum=12.682236464102818, name='flux', latex_label='flux', unit=None, boundary=None)\n",
      "14:14 bilby INFO    :   A = Uniform(minimum=-0.06425583709277137, maximum=0.12851167418554274, name='A', latex_label='A', unit=None, boundary=None)\n",
      "14:14 bilby INFO    :   beta = Uniform(minimum=-4, maximum=2, name='beta', latex_label='beta', unit=None, boundary=None)\n",
      "14:14 bilby INFO    :   wave0 = 11125.90861411082\n",
      "14:14 bilby INFO    : Single likelihood evaluation took 3.749e-05 s\n"
     ]
    },
    {
     "data": {
      "application/vnd.jupyter.widget-view+json": {
       "model_id": "df40e0824fb447b8972a1e5cea797884",
       "version_major": 2,
       "version_minor": 0
      },
      "text/plain": [
       "0it [00:00, ?it/s]"
      ]
     },
     "metadata": {},
     "output_type": "display_data"
    },
    {
     "name": "stderr",
     "output_type": "stream",
     "text": [
      "14:14 bilby INFO    : Checkpoint every check_point_delta_t = 600s\n",
      "14:14 bilby WARNING : Using cached result\n",
      "14:14 bilby INFO    : Summary of results:\n",
      "nsamples: 2175\n",
      "ln_noise_evidence:    nan\n",
      "ln_evidence: 288.366 +/-  0.249\n",
      "ln_bayes_factor:    nan +/-  0.249\n",
      "\n",
      "/Users/myue/Research/Projects/JWST/dependencies/msa_spec_utils/LAE_spec_utils.py:464: RuntimeWarning: divide by zero encountered in power\n",
      "  self.err_fnu = (self.ivar_fnu)**-0.5\n",
      "/Users/myue/Research/Projects/JWST/dependencies/msa_spec_utils/LAE_spec_utils.py:470: RuntimeWarning: invalid value encountered in divide\n",
      "  self.flam = self.fnu * speed_of_light_angstrom / (self.wave)**2 * 1e-29 * 1e18\n",
      "/Users/myue/Research/Projects/JWST/dependencies/msa_spec_utils/LAE_spec_utils.py:471: RuntimeWarning: divide by zero encountered in divide\n",
      "  self.err_flam = self.err_fnu * (speed_of_light_angstrom / (self.wave)**2 * 1e-29 * 1e18)\n",
      "14:14 bilby INFO    : Running for label '4713_4184', output will be saved to '../../data/civ_saves/J0100/bilby_fit_civ_msaexp_pypeit_v2/'\n",
      "14:14 bilby INFO    : Search parameters:\n",
      "14:14 bilby INFO    :   center = Uniform(minimum=11109.84370472653, maximum=11154.3721364088, name='center', latex_label='center', unit=None, boundary=None)\n",
      "14:14 bilby INFO    :   fwhm = Uniform(minimum=300, maximum=1000, name='fwhm', latex_label='fwhm', unit=None, boundary=None)\n",
      "14:14 bilby INFO    :   flux = Uniform(minimum=-9.142863599793042, maximum=9.142863599793042, name='flux', latex_label='flux', unit=None, boundary=None)\n",
      "14:14 bilby INFO    :   A = Uniform(minimum=-0.04629744883302261, maximum=0.09259489766604521, name='A', latex_label='A', unit=None, boundary=None)\n",
      "14:14 bilby INFO    :   beta = Uniform(minimum=-4, maximum=2, name='beta', latex_label='beta', unit=None, boundary=None)\n",
      "14:14 bilby INFO    :   wave0 = 11132.107920567665\n",
      "14:14 bilby INFO    : Single likelihood evaluation took 3.553e-05 s\n"
     ]
    },
    {
     "name": "stdout",
     "output_type": "stream",
     "text": [
      "4713_4080 has no CIV\n"
     ]
    },
    {
     "data": {
      "application/vnd.jupyter.widget-view+json": {
       "model_id": "36ee252d7dc8446c86029ef0413f0c40",
       "version_major": 2,
       "version_minor": 0
      },
      "text/plain": [
       "0it [00:00, ?it/s]"
      ]
     },
     "metadata": {},
     "output_type": "display_data"
    },
    {
     "name": "stderr",
     "output_type": "stream",
     "text": [
      "14:14 bilby INFO    : Checkpoint every check_point_delta_t = 600s\n",
      "14:14 bilby WARNING : Using cached result\n",
      "14:14 bilby INFO    : Summary of results:\n",
      "nsamples: 2177\n",
      "ln_noise_evidence:    nan\n",
      "ln_evidence: 290.702 +/-  0.243\n",
      "ln_bayes_factor:    nan +/-  0.243\n",
      "\n",
      "/Users/myue/Research/Projects/JWST/dependencies/msa_spec_utils/LAE_spec_utils.py:464: RuntimeWarning: divide by zero encountered in power\n",
      "  self.err_fnu = (self.ivar_fnu)**-0.5\n",
      "/Users/myue/Research/Projects/JWST/dependencies/msa_spec_utils/LAE_spec_utils.py:470: RuntimeWarning: invalid value encountered in divide\n",
      "  self.flam = self.fnu * speed_of_light_angstrom / (self.wave)**2 * 1e-29 * 1e18\n",
      "/Users/myue/Research/Projects/JWST/dependencies/msa_spec_utils/LAE_spec_utils.py:471: RuntimeWarning: divide by zero encountered in divide\n",
      "  self.err_flam = self.err_fnu * (speed_of_light_angstrom / (self.wave)**2 * 1e-29 * 1e18)\n",
      "14:14 bilby INFO    : Running for label '4713_4222', output will be saved to '../../data/civ_saves/J0100/bilby_fit_civ_msaexp_pypeit_v2/'\n",
      "14:14 bilby INFO    : Search parameters:\n",
      "14:14 bilby INFO    :   center = Uniform(minimum=11331.508698517113, maximum=11376.925567048243, name='center', latex_label='center', unit=None, boundary=None)\n",
      "14:14 bilby INFO    :   fwhm = Uniform(minimum=300, maximum=1000, name='fwhm', latex_label='fwhm', unit=None, boundary=None)\n",
      "14:14 bilby INFO    :   flux = Uniform(minimum=-10.99736131054957, maximum=10.99736131054957, name='flux', latex_label='flux', unit=None, boundary=None)\n",
      "14:14 bilby INFO    :   A = Uniform(minimum=-0.05459885387233788, maximum=0.10919770774467576, name='A', latex_label='A', unit=None, boundary=None)\n",
      "14:14 bilby INFO    :   beta = Uniform(minimum=-4, maximum=2, name='beta', latex_label='beta', unit=None, boundary=None)\n",
      "14:14 bilby INFO    :   wave0 = 11354.217132782678\n",
      "14:14 bilby INFO    : Single likelihood evaluation took 3.143e-05 s\n"
     ]
    },
    {
     "data": {
      "application/vnd.jupyter.widget-view+json": {
       "model_id": "37c464f678204a3d9a2ede85a0459654",
       "version_major": 2,
       "version_minor": 0
      },
      "text/plain": [
       "0it [00:00, ?it/s]"
      ]
     },
     "metadata": {},
     "output_type": "display_data"
    },
    {
     "name": "stderr",
     "output_type": "stream",
     "text": [
      "14:14 bilby INFO    : Checkpoint every check_point_delta_t = 600s\n",
      "14:14 bilby WARNING : Using cached result\n",
      "14:14 bilby INFO    : Summary of results:\n",
      "nsamples: 2319\n",
      "ln_noise_evidence:    nan\n",
      "ln_evidence: 226.377 +/-  0.257\n",
      "ln_bayes_factor:    nan +/-  0.257\n",
      "\n",
      "/Users/myue/Research/Projects/JWST/dependencies/msa_spec_utils/LAE_spec_utils.py:464: RuntimeWarning: divide by zero encountered in power\n",
      "  self.err_fnu = (self.ivar_fnu)**-0.5\n",
      "/Users/myue/Research/Projects/JWST/dependencies/msa_spec_utils/LAE_spec_utils.py:470: RuntimeWarning: invalid value encountered in divide\n",
      "  self.flam = self.fnu * speed_of_light_angstrom / (self.wave)**2 * 1e-29 * 1e18\n",
      "/Users/myue/Research/Projects/JWST/dependencies/msa_spec_utils/LAE_spec_utils.py:471: RuntimeWarning: divide by zero encountered in divide\n",
      "  self.err_flam = self.err_fnu * (speed_of_light_angstrom / (self.wave)**2 * 1e-29 * 1e18)\n",
      "14:14 bilby INFO    : Running for label '4713_5378', output will be saved to '../../data/civ_saves/J0100/bilby_fit_civ_msaexp_pypeit_v2/'\n",
      "14:14 bilby INFO    : Search parameters:\n",
      "14:14 bilby INFO    :   center = Uniform(minimum=10153.718033123501, maximum=10194.41429778532, name='center', latex_label='center', unit=None, boundary=None)\n",
      "14:14 bilby INFO    :   fwhm = Uniform(minimum=300, maximum=1000, name='fwhm', latex_label='fwhm', unit=None, boundary=None)\n",
      "14:14 bilby INFO    :   flux = Uniform(minimum=-6.244521864855152, maximum=6.244521864855152, name='flux', latex_label='flux', unit=None, boundary=None)\n",
      "14:14 bilby INFO    :   A = Uniform(minimum=-0.03629038196340013, maximum=0.07258076392680025, name='A', latex_label='A', unit=None, boundary=None)\n",
      "14:14 bilby INFO    :   beta = Uniform(minimum=-4, maximum=2, name='beta', latex_label='beta', unit=None, boundary=None)\n",
      "14:14 bilby INFO    :   wave0 = 10174.066165454411\n",
      "14:14 bilby INFO    : Single likelihood evaluation took 3.351e-05 s\n"
     ]
    },
    {
     "data": {
      "application/vnd.jupyter.widget-view+json": {
       "model_id": "2a67aaf55b15456d91ea9de5c16e32fc",
       "version_major": 2,
       "version_minor": 0
      },
      "text/plain": [
       "0it [00:00, ?it/s]"
      ]
     },
     "metadata": {},
     "output_type": "display_data"
    },
    {
     "name": "stderr",
     "output_type": "stream",
     "text": [
      "14:14 bilby INFO    : Checkpoint every check_point_delta_t = 600s\n",
      "14:14 bilby WARNING : Using cached result\n",
      "14:14 bilby INFO    : Summary of results:\n",
      "nsamples: 2197\n",
      "ln_noise_evidence:    nan\n",
      "ln_evidence: 277.707 +/-  0.237\n",
      "ln_bayes_factor:    nan +/-  0.237\n",
      "\n",
      "/Users/myue/Research/Projects/JWST/dependencies/msa_spec_utils/LAE_spec_utils.py:464: RuntimeWarning: divide by zero encountered in power\n",
      "  self.err_fnu = (self.ivar_fnu)**-0.5\n",
      "/Users/myue/Research/Projects/JWST/dependencies/msa_spec_utils/LAE_spec_utils.py:470: RuntimeWarning: invalid value encountered in divide\n",
      "  self.flam = self.fnu * speed_of_light_angstrom / (self.wave)**2 * 1e-29 * 1e18\n",
      "/Users/myue/Research/Projects/JWST/dependencies/msa_spec_utils/LAE_spec_utils.py:471: RuntimeWarning: divide by zero encountered in divide\n",
      "  self.err_flam = self.err_fnu * (speed_of_light_angstrom / (self.wave)**2 * 1e-29 * 1e18)\n",
      "14:14 bilby INFO    : Running for label '4713_5581', output will be saved to '../../data/civ_saves/J0100/bilby_fit_civ_msaexp_pypeit_v2/'\n",
      "14:14 bilby INFO    : Search parameters:\n",
      "14:14 bilby INFO    :   center = Uniform(minimum=10063.088579751504, maximum=10103.421600111229, name='center', latex_label='center', unit=None, boundary=None)\n",
      "14:14 bilby INFO    :   fwhm = Uniform(minimum=300, maximum=1000, name='fwhm', latex_label='fwhm', unit=None, boundary=None)\n",
      "14:14 bilby INFO    :   flux = Uniform(minimum=-9.500179668811157, maximum=9.500179668811157, name='flux', latex_label='flux', unit=None, boundary=None)\n",
      "14:14 bilby INFO    :   A = Uniform(minimum=-0.053110854912346836, maximum=0.10622170982469367, name='A', latex_label='A', unit=None, boundary=None)\n",
      "14:14 bilby INFO    :   beta = Uniform(minimum=-4, maximum=2, name='beta', latex_label='beta', unit=None, boundary=None)\n",
      "14:14 bilby INFO    :   wave0 = 10083.255089931366\n",
      "14:14 bilby INFO    : Single likelihood evaluation took 3.438e-05 s\n"
     ]
    },
    {
     "data": {
      "application/vnd.jupyter.widget-view+json": {
       "model_id": "9d5016878dfa46969a9ebd0bdc788269",
       "version_major": 2,
       "version_minor": 0
      },
      "text/plain": [
       "0it [00:00, ?it/s]"
      ]
     },
     "metadata": {},
     "output_type": "display_data"
    },
    {
     "name": "stderr",
     "output_type": "stream",
     "text": [
      "14:14 bilby INFO    : Checkpoint every check_point_delta_t = 600s\n",
      "14:14 bilby WARNING : Using cached result\n",
      "14:14 bilby INFO    : Summary of results:\n",
      "nsamples: 2134\n",
      "ln_noise_evidence:    nan\n",
      "ln_evidence: 240.743 +/-  0.240\n",
      "ln_bayes_factor:    nan +/-  0.240\n",
      "\n",
      "/Users/myue/Research/Projects/JWST/dependencies/msa_spec_utils/LAE_spec_utils.py:464: RuntimeWarning: divide by zero encountered in power\n",
      "  self.err_fnu = (self.ivar_fnu)**-0.5\n",
      "/Users/myue/Research/Projects/JWST/dependencies/msa_spec_utils/LAE_spec_utils.py:470: RuntimeWarning: invalid value encountered in divide\n",
      "  self.flam = self.fnu * speed_of_light_angstrom / (self.wave)**2 * 1e-29 * 1e18\n",
      "/Users/myue/Research/Projects/JWST/dependencies/msa_spec_utils/LAE_spec_utils.py:471: RuntimeWarning: divide by zero encountered in divide\n",
      "  self.err_flam = self.err_fnu * (speed_of_light_angstrom / (self.wave)**2 * 1e-29 * 1e18)\n",
      "14:14 bilby INFO    : Running for label '4713_5595', output will be saved to '../../data/civ_saves/J0100/bilby_fit_civ_msaexp_pypeit_v2/'\n",
      "14:14 bilby INFO    : Search parameters:\n",
      "14:14 bilby INFO    :   center = Uniform(minimum=10805.382079003715, maximum=10848.690223608939, name='center', latex_label='center', unit=None, boundary=None)\n",
      "14:14 bilby INFO    :   fwhm = Uniform(minimum=300, maximum=1000, name='fwhm', latex_label='fwhm', unit=None, boundary=None)\n",
      "14:14 bilby INFO    :   flux = Uniform(minimum=-5.1876964895629385, maximum=5.1876964895629385, name='flux', latex_label='flux', unit=None, boundary=None)\n",
      "14:14 bilby INFO    :   A = Uniform(minimum=-0.0386004431332103, maximum=0.0772008862664206, name='A', latex_label='A', unit=None, boundary=None)\n",
      "14:14 bilby INFO    :   beta = Uniform(minimum=-4, maximum=2, name='beta', latex_label='beta', unit=None, boundary=None)\n",
      "14:14 bilby INFO    :   wave0 = 10827.036151306327\n",
      "14:14 bilby INFO    : Single likelihood evaluation took 3.401e-05 s\n"
     ]
    },
    {
     "data": {
      "application/vnd.jupyter.widget-view+json": {
       "model_id": "bf6d41e1a0654312a32e648750696743",
       "version_major": 2,
       "version_minor": 0
      },
      "text/plain": [
       "0it [00:00, ?it/s]"
      ]
     },
     "metadata": {},
     "output_type": "display_data"
    },
    {
     "name": "stderr",
     "output_type": "stream",
     "text": [
      "14:14 bilby INFO    : Checkpoint every check_point_delta_t = 600s\n",
      "14:14 bilby WARNING : Using cached result\n",
      "14:14 bilby INFO    : Summary of results:\n",
      "nsamples: 2057\n",
      "ln_noise_evidence:    nan\n",
      "ln_evidence: 305.847 +/-  0.232\n",
      "ln_bayes_factor:    nan +/-  0.232\n",
      "\n",
      "/Users/myue/Research/Projects/JWST/dependencies/msa_spec_utils/LAE_spec_utils.py:464: RuntimeWarning: divide by zero encountered in power\n",
      "  self.err_fnu = (self.ivar_fnu)**-0.5\n",
      "/Users/myue/Research/Projects/JWST/dependencies/msa_spec_utils/LAE_spec_utils.py:470: RuntimeWarning: invalid value encountered in divide\n",
      "  self.flam = self.fnu * speed_of_light_angstrom / (self.wave)**2 * 1e-29 * 1e18\n",
      "/Users/myue/Research/Projects/JWST/dependencies/msa_spec_utils/LAE_spec_utils.py:471: RuntimeWarning: divide by zero encountered in divide\n",
      "  self.err_flam = self.err_fnu * (speed_of_light_angstrom / (self.wave)**2 * 1e-29 * 1e18)\n",
      "14:14 bilby INFO    : Running for label '4713_5671', output will be saved to '../../data/civ_saves/J0100/bilby_fit_civ_msaexp_pypeit_v2/'\n",
      "14:14 bilby INFO    : Search parameters:\n",
      "14:14 bilby INFO    :   center = Uniform(minimum=10800.2117502139, maximum=10843.499172058444, name='center', latex_label='center', unit=None, boundary=None)\n",
      "14:14 bilby INFO    :   fwhm = Uniform(minimum=300, maximum=1000, name='fwhm', latex_label='fwhm', unit=None, boundary=None)\n",
      "14:14 bilby INFO    :   flux = Uniform(minimum=-16.52927520928224, maximum=16.52927520928224, name='flux', latex_label='flux', unit=None, boundary=None)\n",
      "14:14 bilby INFO    :   A = Uniform(minimum=-0.0861002295278772, maximum=0.1722004590557544, name='A', latex_label='A', unit=None, boundary=None)\n",
      "14:14 bilby INFO    :   beta = Uniform(minimum=-4, maximum=2, name='beta', latex_label='beta', unit=None, boundary=None)\n",
      "14:14 bilby INFO    :   wave0 = 10821.855461136172\n",
      "14:14 bilby INFO    : Single likelihood evaluation took 3.223e-05 s\n"
     ]
    },
    {
     "data": {
      "application/vnd.jupyter.widget-view+json": {
       "model_id": "c80ec52a8c7a4a8aa9aa7d0b9dabe727",
       "version_major": 2,
       "version_minor": 0
      },
      "text/plain": [
       "0it [00:00, ?it/s]"
      ]
     },
     "metadata": {},
     "output_type": "display_data"
    },
    {
     "name": "stderr",
     "output_type": "stream",
     "text": [
      "14:14 bilby INFO    : Checkpoint every check_point_delta_t = 600s\n",
      "14:14 bilby WARNING : Using cached result\n",
      "14:14 bilby INFO    : Summary of results:\n",
      "nsamples: 2581\n",
      "ln_noise_evidence:    nan\n",
      "ln_evidence: 239.627 +/-  0.275\n",
      "ln_bayes_factor:    nan +/-  0.275\n",
      "\n",
      "/Users/myue/Research/Projects/JWST/dependencies/msa_spec_utils/LAE_spec_utils.py:464: RuntimeWarning: divide by zero encountered in power\n",
      "  self.err_fnu = (self.ivar_fnu)**-0.5\n",
      "/Users/myue/Research/Projects/JWST/dependencies/msa_spec_utils/LAE_spec_utils.py:470: RuntimeWarning: invalid value encountered in divide\n",
      "  self.flam = self.fnu * speed_of_light_angstrom / (self.wave)**2 * 1e-29 * 1e18\n",
      "/Users/myue/Research/Projects/JWST/dependencies/msa_spec_utils/LAE_spec_utils.py:471: RuntimeWarning: divide by zero encountered in divide\n",
      "  self.err_flam = self.err_fnu * (speed_of_light_angstrom / (self.wave)**2 * 1e-29 * 1e18)\n",
      "14:14 bilby INFO    : Running for label '4713_6733', output will be saved to '../../data/civ_saves/J0100/bilby_fit_civ_msaexp_pypeit_v2/'\n",
      "14:14 bilby INFO    : Search parameters:\n",
      "14:14 bilby INFO    :   center = Uniform(minimum=12008.673582573636, maximum=12056.804538816417, name='center', latex_label='center', unit=None, boundary=None)\n",
      "14:14 bilby INFO    :   fwhm = Uniform(minimum=300, maximum=1000, name='fwhm', latex_label='fwhm', unit=None, boundary=None)\n",
      "14:14 bilby INFO    :   flux = Uniform(minimum=-33.44278364648425, maximum=33.44278364648425, name='flux', latex_label='flux', unit=None, boundary=None)\n",
      "14:14 bilby INFO    :   A = Uniform(minimum=-0.15667155291068888, maximum=0.31334310582137775, name='A', latex_label='A', unit=None, boundary=None)\n",
      "14:14 bilby INFO    :   beta = Uniform(minimum=-4, maximum=2, name='beta', latex_label='beta', unit=None, boundary=None)\n",
      "14:14 bilby INFO    :   wave0 = 12032.739060695027\n",
      "14:14 bilby INFO    : Single likelihood evaluation took 3.222e-05 s\n"
     ]
    },
    {
     "data": {
      "application/vnd.jupyter.widget-view+json": {
       "model_id": "c55b9c776da24a13abe8111a698fc956",
       "version_major": 2,
       "version_minor": 0
      },
      "text/plain": [
       "0it [00:00, ?it/s]"
      ]
     },
     "metadata": {},
     "output_type": "display_data"
    },
    {
     "name": "stderr",
     "output_type": "stream",
     "text": [
      "14:14 bilby INFO    : Checkpoint every check_point_delta_t = 600s\n",
      "14:14 bilby WARNING : Using cached result\n",
      "14:14 bilby INFO    : Summary of results:\n",
      "nsamples: 3471\n",
      "ln_noise_evidence:    nan\n",
      "ln_evidence: 312.713 +/-  0.348\n",
      "ln_bayes_factor:    nan +/-  0.348\n",
      "\n",
      "/Users/myue/Research/Projects/JWST/dependencies/msa_spec_utils/LAE_spec_utils.py:464: RuntimeWarning: divide by zero encountered in power\n",
      "  self.err_fnu = (self.ivar_fnu)**-0.5\n",
      "/Users/myue/Research/Projects/JWST/dependencies/msa_spec_utils/LAE_spec_utils.py:470: RuntimeWarning: invalid value encountered in divide\n",
      "  self.flam = self.fnu * speed_of_light_angstrom / (self.wave)**2 * 1e-29 * 1e18\n",
      "/Users/myue/Research/Projects/JWST/dependencies/msa_spec_utils/LAE_spec_utils.py:471: RuntimeWarning: divide by zero encountered in divide\n",
      "  self.err_flam = self.err_fnu * (speed_of_light_angstrom / (self.wave)**2 * 1e-29 * 1e18)\n",
      "14:14 bilby INFO    : Running for label '4713_7194', output will be saved to '../../data/civ_saves/J0100/bilby_fit_civ_msaexp_pypeit_v2/'\n",
      "14:14 bilby INFO    : Search parameters:\n",
      "14:14 bilby INFO    :   center = Uniform(minimum=11112.558033925088, maximum=11157.097344682305, name='center', latex_label='center', unit=None, boundary=None)\n",
      "14:14 bilby INFO    :   fwhm = Uniform(minimum=300, maximum=1000, name='fwhm', latex_label='fwhm', unit=None, boundary=None)\n",
      "14:14 bilby INFO    :   flux = Uniform(minimum=-6.417382027933073, maximum=6.417382027933073, name='flux', latex_label='flux', unit=None, boundary=None)\n",
      "14:14 bilby INFO    :   A = Uniform(minimum=-0.03479766736415353, maximum=0.06959533472830706, name='A', latex_label='A', unit=None, boundary=None)\n",
      "14:14 bilby INFO    :   beta = Uniform(minimum=-4, maximum=2, name='beta', latex_label='beta', unit=None, boundary=None)\n",
      "14:14 bilby INFO    :   wave0 = 11134.827689303696\n",
      "14:14 bilby INFO    : Single likelihood evaluation took 3.340e-05 s\n"
     ]
    },
    {
     "data": {
      "application/vnd.jupyter.widget-view+json": {
       "model_id": "bcd75bdc79fb44e6ac01b88bebdd3917",
       "version_major": 2,
       "version_minor": 0
      },
      "text/plain": [
       "0it [00:00, ?it/s]"
      ]
     },
     "metadata": {},
     "output_type": "display_data"
    },
    {
     "name": "stderr",
     "output_type": "stream",
     "text": [
      "14:14 bilby INFO    : Checkpoint every check_point_delta_t = 600s\n",
      "14:14 bilby WARNING : Using cached result\n",
      "14:14 bilby INFO    : Summary of results:\n",
      "nsamples: 2217\n",
      "ln_noise_evidence:    nan\n",
      "ln_evidence: 320.842 +/-  0.241\n",
      "ln_bayes_factor:    nan +/-  0.241\n",
      "\n",
      "/Users/myue/Research/Projects/JWST/dependencies/msa_spec_utils/LAE_spec_utils.py:464: RuntimeWarning: divide by zero encountered in power\n",
      "  self.err_fnu = (self.ivar_fnu)**-0.5\n",
      "/Users/myue/Research/Projects/JWST/dependencies/msa_spec_utils/LAE_spec_utils.py:470: RuntimeWarning: invalid value encountered in divide\n",
      "  self.flam = self.fnu * speed_of_light_angstrom / (self.wave)**2 * 1e-29 * 1e18\n",
      "/Users/myue/Research/Projects/JWST/dependencies/msa_spec_utils/LAE_spec_utils.py:471: RuntimeWarning: divide by zero encountered in divide\n",
      "  self.err_flam = self.err_fnu * (speed_of_light_angstrom / (self.wave)**2 * 1e-29 * 1e18)\n",
      "14:14 bilby INFO    : Running for label '4713_7230', output will be saved to '../../data/civ_saves/J0100/bilby_fit_civ_msaexp_pypeit_v2/'\n",
      "14:14 bilby INFO    : Search parameters:\n",
      "14:14 bilby INFO    :   center = Uniform(minimum=12104.417208510113, maximum=12152.931906740614, name='center', latex_label='center', unit=None, boundary=None)\n",
      "14:14 bilby INFO    :   fwhm = Uniform(minimum=300, maximum=1000, name='fwhm', latex_label='fwhm', unit=None, boundary=None)\n",
      "14:14 bilby INFO    :   flux = Uniform(minimum=-7.559541818564293, maximum=7.559541818564293, name='flux', latex_label='flux', unit=None, boundary=None)\n",
      "14:14 bilby INFO    :   A = Uniform(minimum=-0.03513454700652886, maximum=0.07026909401305773, name='A', latex_label='A', unit=None, boundary=None)\n",
      "14:14 bilby INFO    :   beta = Uniform(minimum=-4, maximum=2, name='beta', latex_label='beta', unit=None, boundary=None)\n",
      "14:14 bilby INFO    :   wave0 = 12128.674557625363\n",
      "14:14 bilby INFO    : Single likelihood evaluation took 3.556e-05 s\n"
     ]
    },
    {
     "data": {
      "application/vnd.jupyter.widget-view+json": {
       "model_id": "a6e0e5cd6eea4cf485ada70624c8d02d",
       "version_major": 2,
       "version_minor": 0
      },
      "text/plain": [
       "0it [00:00, ?it/s]"
      ]
     },
     "metadata": {},
     "output_type": "display_data"
    },
    {
     "name": "stderr",
     "output_type": "stream",
     "text": [
      "14:14 bilby INFO    : Checkpoint every check_point_delta_t = 600s\n",
      "14:14 bilby WARNING : Using cached result\n",
      "14:14 bilby INFO    : Summary of results:\n",
      "nsamples: 2518\n",
      "ln_noise_evidence:    nan\n",
      "ln_evidence: 370.406 +/-  0.278\n",
      "ln_bayes_factor:    nan +/-  0.278\n",
      "\n",
      "/Users/myue/Research/Projects/JWST/dependencies/msa_spec_utils/LAE_spec_utils.py:464: RuntimeWarning: divide by zero encountered in power\n",
      "  self.err_fnu = (self.ivar_fnu)**-0.5\n",
      "/Users/myue/Research/Projects/JWST/dependencies/msa_spec_utils/LAE_spec_utils.py:470: RuntimeWarning: invalid value encountered in divide\n",
      "  self.flam = self.fnu * speed_of_light_angstrom / (self.wave)**2 * 1e-29 * 1e18\n",
      "/Users/myue/Research/Projects/JWST/dependencies/msa_spec_utils/LAE_spec_utils.py:471: RuntimeWarning: divide by zero encountered in divide\n",
      "  self.err_flam = self.err_fnu * (speed_of_light_angstrom / (self.wave)**2 * 1e-29 * 1e18)\n",
      "14:14 bilby INFO    : Running for label '4713_7430', output will be saved to '../../data/civ_saves/J0100/bilby_fit_civ_msaexp_pypeit_v2/'\n",
      "14:14 bilby INFO    : Search parameters:\n",
      "14:14 bilby INFO    :   center = Uniform(minimum=11846.322826330714, maximum=11893.803078139656, name='center', latex_label='center', unit=None, boundary=None)\n",
      "14:14 bilby INFO    :   fwhm = Uniform(minimum=300, maximum=1000, name='fwhm', latex_label='fwhm', unit=None, boundary=None)\n",
      "14:14 bilby INFO    :   flux = Uniform(minimum=-8.805770119762624, maximum=8.805770119762624, name='flux', latex_label='flux', unit=None, boundary=None)\n",
      "14:14 bilby INFO    :   A = Uniform(minimum=-0.04181831688096681, maximum=0.08363663376193362, name='A', latex_label='A', unit=None, boundary=None)\n",
      "14:14 bilby INFO    :   beta = Uniform(minimum=-4, maximum=2, name='beta', latex_label='beta', unit=None, boundary=None)\n",
      "14:14 bilby INFO    :   wave0 = 11870.062952235185\n",
      "14:14 bilby INFO    : Single likelihood evaluation took 3.757e-05 s\n"
     ]
    },
    {
     "data": {
      "application/vnd.jupyter.widget-view+json": {
       "model_id": "e148af34b2e741c6af4fe99b74e4741d",
       "version_major": 2,
       "version_minor": 0
      },
      "text/plain": [
       "0it [00:00, ?it/s]"
      ]
     },
     "metadata": {},
     "output_type": "display_data"
    },
    {
     "name": "stderr",
     "output_type": "stream",
     "text": [
      "14:14 bilby INFO    : Checkpoint every check_point_delta_t = 600s\n",
      "14:14 bilby WARNING : Using cached result\n",
      "14:14 bilby INFO    : Summary of results:\n",
      "nsamples: 2194\n",
      "ln_noise_evidence:    nan\n",
      "ln_evidence: 339.641 +/-  0.249\n",
      "ln_bayes_factor:    nan +/-  0.249\n",
      "\n",
      "/Users/myue/Research/Projects/JWST/dependencies/msa_spec_utils/LAE_spec_utils.py:464: RuntimeWarning: divide by zero encountered in power\n",
      "  self.err_fnu = (self.ivar_fnu)**-0.5\n",
      "/Users/myue/Research/Projects/JWST/dependencies/msa_spec_utils/LAE_spec_utils.py:470: RuntimeWarning: invalid value encountered in divide\n",
      "  self.flam = self.fnu * speed_of_light_angstrom / (self.wave)**2 * 1e-29 * 1e18\n",
      "/Users/myue/Research/Projects/JWST/dependencies/msa_spec_utils/LAE_spec_utils.py:471: RuntimeWarning: divide by zero encountered in divide\n",
      "  self.err_flam = self.err_fnu * (speed_of_light_angstrom / (self.wave)**2 * 1e-29 * 1e18)\n",
      "14:14 bilby INFO    : Running for label '4713_8514', output will be saved to '../../data/civ_saves/J0100/bilby_fit_civ_msaexp_pypeit_v2/'\n",
      "14:14 bilby INFO    : Search parameters:\n",
      "14:14 bilby INFO    :   center = Uniform(minimum=11102.555482880885, maximum=11147.054703253154, name='center', latex_label='center', unit=None, boundary=None)\n",
      "14:14 bilby INFO    :   fwhm = Uniform(minimum=300, maximum=1000, name='fwhm', latex_label='fwhm', unit=None, boundary=None)\n",
      "14:14 bilby INFO    :   flux = Uniform(minimum=-9.276300022460246, maximum=9.276300022460246, name='flux', latex_label='flux', unit=None, boundary=None)\n",
      "14:14 bilby INFO    :   A = Uniform(minimum=-0.04700397681094309, maximum=0.09400795362188619, name='A', latex_label='A', unit=None, boundary=None)\n",
      "14:14 bilby INFO    :   beta = Uniform(minimum=-4, maximum=2, name='beta', latex_label='beta', unit=None, boundary=None)\n",
      "14:14 bilby INFO    :   wave0 = 11124.80509306702\n",
      "14:14 bilby INFO    : Single likelihood evaluation took 3.810e-05 s\n"
     ]
    },
    {
     "data": {
      "application/vnd.jupyter.widget-view+json": {
       "model_id": "4bf3ee6a2ec246b08a77355ee0520bff",
       "version_major": 2,
       "version_minor": 0
      },
      "text/plain": [
       "0it [00:00, ?it/s]"
      ]
     },
     "metadata": {},
     "output_type": "display_data"
    },
    {
     "name": "stderr",
     "output_type": "stream",
     "text": [
      "14:14 bilby INFO    : Checkpoint every check_point_delta_t = 600s\n",
      "14:14 bilby WARNING : Using cached result\n",
      "14:14 bilby INFO    : Summary of results:\n",
      "nsamples: 2519\n",
      "ln_noise_evidence:    nan\n",
      "ln_evidence: 312.182 +/-  0.267\n",
      "ln_bayes_factor:    nan +/-  0.267\n",
      "\n",
      "/Users/myue/Research/Projects/JWST/dependencies/msa_spec_utils/LAE_spec_utils.py:464: RuntimeWarning: divide by zero encountered in power\n",
      "  self.err_fnu = (self.ivar_fnu)**-0.5\n",
      "/Users/myue/Research/Projects/JWST/dependencies/msa_spec_utils/LAE_spec_utils.py:470: RuntimeWarning: invalid value encountered in divide\n",
      "  self.flam = self.fnu * speed_of_light_angstrom / (self.wave)**2 * 1e-29 * 1e18\n",
      "/Users/myue/Research/Projects/JWST/dependencies/msa_spec_utils/LAE_spec_utils.py:471: RuntimeWarning: divide by zero encountered in divide\n",
      "  self.err_flam = self.err_fnu * (speed_of_light_angstrom / (self.wave)**2 * 1e-29 * 1e18)\n",
      "14:14 bilby INFO    : Running for label '4713_9273', output will be saved to '../../data/civ_saves/J0100/bilby_fit_civ_msaexp_pypeit_v2/'\n",
      "14:14 bilby INFO    : Search parameters:\n",
      "14:14 bilby INFO    :   center = Uniform(minimum=11109.80120907925, maximum=11154.329470438286, name='center', latex_label='center', unit=None, boundary=None)\n",
      "14:14 bilby INFO    :   fwhm = Uniform(minimum=300, maximum=1000, name='fwhm', latex_label='fwhm', unit=None, boundary=None)\n",
      "14:14 bilby INFO    :   flux = Uniform(minimum=-8.441423825770654, maximum=8.441423825770654, name='flux', latex_label='flux', unit=None, boundary=None)\n",
      "14:14 bilby INFO    :   A = Uniform(minimum=-0.04274567571544422, maximum=0.08549135143088844, name='A', latex_label='A', unit=None, boundary=None)\n",
      "14:14 bilby INFO    :   beta = Uniform(minimum=-4, maximum=2, name='beta', latex_label='beta', unit=None, boundary=None)\n",
      "14:14 bilby INFO    :   wave0 = 11132.065339758768\n",
      "14:14 bilby INFO    : Single likelihood evaluation took 3.530e-05 s\n"
     ]
    },
    {
     "data": {
      "application/vnd.jupyter.widget-view+json": {
       "model_id": "ca69ad9a84914e6bbd09ac0136443b3f",
       "version_major": 2,
       "version_minor": 0
      },
      "text/plain": [
       "0it [00:00, ?it/s]"
      ]
     },
     "metadata": {},
     "output_type": "display_data"
    },
    {
     "name": "stderr",
     "output_type": "stream",
     "text": [
      "14:14 bilby INFO    : Checkpoint every check_point_delta_t = 600s\n",
      "14:14 bilby WARNING : Using cached result\n",
      "14:14 bilby INFO    : Summary of results:\n",
      "nsamples: 2509\n",
      "ln_noise_evidence:    nan\n",
      "ln_evidence: 261.671 +/-  0.267\n",
      "ln_bayes_factor:    nan +/-  0.267\n",
      "\n",
      "/Users/myue/Research/Projects/JWST/dependencies/msa_spec_utils/LAE_spec_utils.py:464: RuntimeWarning: divide by zero encountered in power\n",
      "  self.err_fnu = (self.ivar_fnu)**-0.5\n",
      "/Users/myue/Research/Projects/JWST/dependencies/msa_spec_utils/LAE_spec_utils.py:470: RuntimeWarning: invalid value encountered in divide\n",
      "  self.flam = self.fnu * speed_of_light_angstrom / (self.wave)**2 * 1e-29 * 1e18\n",
      "/Users/myue/Research/Projects/JWST/dependencies/msa_spec_utils/LAE_spec_utils.py:471: RuntimeWarning: divide by zero encountered in divide\n",
      "  self.err_flam = self.err_fnu * (speed_of_light_angstrom / (self.wave)**2 * 1e-29 * 1e18)\n",
      "14:14 bilby INFO    : Running for label '4713_9970', output will be saved to '../../data/civ_saves/J0100/bilby_fit_civ_msaexp_pypeit_v2/'\n",
      "14:14 bilby INFO    : Search parameters:\n",
      "14:14 bilby INFO    :   center = Uniform(minimum=11322.865889053968, maximum=11368.248117066209, name='center', latex_label='center', unit=None, boundary=None)\n",
      "14:14 bilby INFO    :   fwhm = Uniform(minimum=300, maximum=1000, name='fwhm', latex_label='fwhm', unit=None, boundary=None)\n",
      "14:14 bilby INFO    :   flux = Uniform(minimum=-15.422894813068718, maximum=15.422894813068718, name='flux', latex_label='flux', unit=None, boundary=None)\n",
      "14:14 bilby INFO    :   A = Uniform(minimum=-0.07662884897031938, maximum=0.15325769794063876, name='A', latex_label='A', unit=None, boundary=None)\n",
      "14:14 bilby INFO    :   beta = Uniform(minimum=-4, maximum=2, name='beta', latex_label='beta', unit=None, boundary=None)\n",
      "14:14 bilby INFO    :   wave0 = 11345.557003060088\n",
      "14:14 bilby INFO    : Single likelihood evaluation took 3.356e-05 s\n"
     ]
    },
    {
     "data": {
      "application/vnd.jupyter.widget-view+json": {
       "model_id": "7f1fae6b7d254031957b9368194e3ef1",
       "version_major": 2,
       "version_minor": 0
      },
      "text/plain": [
       "0it [00:00, ?it/s]"
      ]
     },
     "metadata": {},
     "output_type": "display_data"
    },
    {
     "name": "stderr",
     "output_type": "stream",
     "text": [
      "14:14 bilby INFO    : Checkpoint every check_point_delta_t = 600s\n",
      "14:14 bilby WARNING : Using cached result\n",
      "14:14 bilby INFO    : Summary of results:\n",
      "nsamples: 2644\n",
      "ln_noise_evidence:    nan\n",
      "ln_evidence: 324.353 +/-  0.287\n",
      "ln_bayes_factor:    nan +/-  0.287\n",
      "\n",
      "/Users/myue/Research/Projects/JWST/dependencies/msa_spec_utils/LAE_spec_utils.py:464: RuntimeWarning: divide by zero encountered in power\n",
      "  self.err_fnu = (self.ivar_fnu)**-0.5\n",
      "/Users/myue/Research/Projects/JWST/dependencies/msa_spec_utils/LAE_spec_utils.py:470: RuntimeWarning: invalid value encountered in divide\n",
      "  self.flam = self.fnu * speed_of_light_angstrom / (self.wave)**2 * 1e-29 * 1e18\n",
      "/Users/myue/Research/Projects/JWST/dependencies/msa_spec_utils/LAE_spec_utils.py:471: RuntimeWarning: divide by zero encountered in divide\n",
      "  self.err_flam = self.err_fnu * (speed_of_light_angstrom / (self.wave)**2 * 1e-29 * 1e18)\n",
      "14:14 bilby INFO    : Running for label '4713_10116', output will be saved to '../../data/civ_saves/J0100/bilby_fit_civ_msaexp_pypeit_v2/'\n",
      "14:14 bilby INFO    : Search parameters:\n",
      "14:14 bilby INFO    :   center = Uniform(minimum=10482.450384425796, maximum=10524.46421362189, name='center', latex_label='center', unit=None, boundary=None)\n",
      "14:14 bilby INFO    :   fwhm = Uniform(minimum=300, maximum=1000, name='fwhm', latex_label='fwhm', unit=None, boundary=None)\n",
      "14:14 bilby INFO    :   flux = Uniform(minimum=-10.978094222512668, maximum=10.978094222512668, name='flux', latex_label='flux', unit=None, boundary=None)\n",
      "14:14 bilby INFO    :   A = Uniform(minimum=-0.05891785230439515, maximum=0.1178357046087903, name='A', latex_label='A', unit=None, boundary=None)\n",
      "14:14 bilby INFO    :   beta = Uniform(minimum=-4, maximum=2, name='beta', latex_label='beta', unit=None, boundary=None)\n",
      "14:14 bilby INFO    :   wave0 = 10503.457299023843\n",
      "14:14 bilby INFO    : Single likelihood evaluation took 3.533e-05 s\n"
     ]
    },
    {
     "data": {
      "application/vnd.jupyter.widget-view+json": {
       "model_id": "a75d31e0c1b74bc49cdf6639d9a51a7f",
       "version_major": 2,
       "version_minor": 0
      },
      "text/plain": [
       "0it [00:00, ?it/s]"
      ]
     },
     "metadata": {},
     "output_type": "display_data"
    },
    {
     "name": "stderr",
     "output_type": "stream",
     "text": [
      "14:14 bilby INFO    : Checkpoint every check_point_delta_t = 600s\n",
      "14:14 bilby WARNING : Using cached result\n",
      "14:14 bilby INFO    : Summary of results:\n",
      "nsamples: 2772\n",
      "ln_noise_evidence:    nan\n",
      "ln_evidence: 273.153 +/-  0.288\n",
      "ln_bayes_factor:    nan +/-  0.288\n",
      "\n",
      "/Users/myue/Research/Projects/JWST/dependencies/msa_spec_utils/LAE_spec_utils.py:464: RuntimeWarning: divide by zero encountered in power\n",
      "  self.err_fnu = (self.ivar_fnu)**-0.5\n",
      "/Users/myue/Research/Projects/JWST/dependencies/msa_spec_utils/LAE_spec_utils.py:470: RuntimeWarning: invalid value encountered in divide\n",
      "  self.flam = self.fnu * speed_of_light_angstrom / (self.wave)**2 * 1e-29 * 1e18\n",
      "/Users/myue/Research/Projects/JWST/dependencies/msa_spec_utils/LAE_spec_utils.py:471: RuntimeWarning: divide by zero encountered in divide\n",
      "  self.err_flam = self.err_fnu * (speed_of_light_angstrom / (self.wave)**2 * 1e-29 * 1e18)\n",
      "14:14 bilby INFO    : Running for label '4713_10235', output will be saved to '../../data/civ_saves/J0100/bilby_fit_civ_msaexp_pypeit_v2/'\n",
      "14:14 bilby INFO    : Search parameters:\n",
      "14:14 bilby INFO    :   center = Uniform(minimum=11353.198030094665, maximum=11398.701829814485, name='center', latex_label='center', unit=None, boundary=None)\n",
      "14:14 bilby INFO    :   fwhm = Uniform(minimum=300, maximum=1000, name='fwhm', latex_label='fwhm', unit=None, boundary=None)\n",
      "14:14 bilby INFO    :   flux = Uniform(minimum=-10.304361926786603, maximum=10.304361926786603, name='flux', latex_label='flux', unit=None, boundary=None)\n",
      "14:14 bilby INFO    :   A = Uniform(minimum=-0.05106057017100218, maximum=0.10212114034200435, name='A', latex_label='A', unit=None, boundary=None)\n",
      "14:14 bilby INFO    :   beta = Uniform(minimum=-4, maximum=2, name='beta', latex_label='beta', unit=None, boundary=None)\n",
      "14:14 bilby INFO    :   wave0 = 11375.949929954575\n",
      "14:14 bilby INFO    : Single likelihood evaluation took 3.487e-05 s\n"
     ]
    },
    {
     "data": {
      "application/vnd.jupyter.widget-view+json": {
       "model_id": "eb1018b59ac14a5eae0ed8250b24f24b",
       "version_major": 2,
       "version_minor": 0
      },
      "text/plain": [
       "0it [00:00, ?it/s]"
      ]
     },
     "metadata": {},
     "output_type": "display_data"
    },
    {
     "name": "stderr",
     "output_type": "stream",
     "text": [
      "14:14 bilby INFO    : Checkpoint every check_point_delta_t = 600s\n",
      "14:14 bilby WARNING : Using cached result\n",
      "14:14 bilby INFO    : Summary of results:\n",
      "nsamples: 2158\n",
      "ln_noise_evidence:    nan\n",
      "ln_evidence: 313.798 +/-  0.248\n",
      "ln_bayes_factor:    nan +/-  0.248\n",
      "\n",
      "/Users/myue/Research/Projects/JWST/dependencies/msa_spec_utils/LAE_spec_utils.py:464: RuntimeWarning: divide by zero encountered in power\n",
      "  self.err_fnu = (self.ivar_fnu)**-0.5\n",
      "/Users/myue/Research/Projects/JWST/dependencies/msa_spec_utils/LAE_spec_utils.py:470: RuntimeWarning: invalid value encountered in divide\n",
      "  self.flam = self.fnu * speed_of_light_angstrom / (self.wave)**2 * 1e-29 * 1e18\n",
      "/Users/myue/Research/Projects/JWST/dependencies/msa_spec_utils/LAE_spec_utils.py:471: RuntimeWarning: divide by zero encountered in divide\n",
      "  self.err_flam = self.err_fnu * (speed_of_light_angstrom / (self.wave)**2 * 1e-29 * 1e18)\n",
      "14:14 bilby INFO    : Running for label '4713_10287', output will be saved to '../../data/civ_saves/J0100/bilby_fit_civ_msaexp_pypeit_v2/'\n",
      "14:14 bilby INFO    : Search parameters:\n",
      "14:14 bilby INFO    :   center = Uniform(minimum=12011.086008713708, maximum=12059.226633999133, name='center', latex_label='center', unit=None, boundary=None)\n",
      "14:14 bilby INFO    :   fwhm = Uniform(minimum=300, maximum=1000, name='fwhm', latex_label='fwhm', unit=None, boundary=None)\n",
      "14:14 bilby INFO    :   flux = Uniform(minimum=-14.549831005690471, maximum=14.549831005690471, name='flux', latex_label='flux', unit=None, boundary=None)\n",
      "14:14 bilby INFO    :   A = Uniform(minimum=-0.06814883581153806, maximum=0.13629767162307613, name='A', latex_label='A', unit=None, boundary=None)\n",
      "14:14 bilby INFO    :   beta = Uniform(minimum=-4, maximum=2, name='beta', latex_label='beta', unit=None, boundary=None)\n",
      "14:14 bilby INFO    :   wave0 = 12035.15632135642\n",
      "14:14 bilby INFO    : Single likelihood evaluation took 3.291e-05 s\n"
     ]
    },
    {
     "data": {
      "application/vnd.jupyter.widget-view+json": {
       "model_id": "b2029637f32642438fd518302db277ef",
       "version_major": 2,
       "version_minor": 0
      },
      "text/plain": [
       "0it [00:00, ?it/s]"
      ]
     },
     "metadata": {},
     "output_type": "display_data"
    },
    {
     "name": "stderr",
     "output_type": "stream",
     "text": [
      "14:14 bilby INFO    : Checkpoint every check_point_delta_t = 600s\n",
      "14:14 bilby WARNING : Using cached result\n",
      "14:14 bilby INFO    : Summary of results:\n",
      "nsamples: 3026\n",
      "ln_noise_evidence:    nan\n",
      "ln_evidence: 370.799 +/-  0.315\n",
      "ln_bayes_factor:    nan +/-  0.315\n",
      "\n",
      "/Users/myue/Research/Projects/JWST/dependencies/msa_spec_utils/LAE_spec_utils.py:464: RuntimeWarning: divide by zero encountered in power\n",
      "  self.err_fnu = (self.ivar_fnu)**-0.5\n",
      "/Users/myue/Research/Projects/JWST/dependencies/msa_spec_utils/LAE_spec_utils.py:470: RuntimeWarning: invalid value encountered in divide\n",
      "  self.flam = self.fnu * speed_of_light_angstrom / (self.wave)**2 * 1e-29 * 1e18\n",
      "/Users/myue/Research/Projects/JWST/dependencies/msa_spec_utils/LAE_spec_utils.py:471: RuntimeWarning: divide by zero encountered in divide\n",
      "  self.err_flam = self.err_fnu * (speed_of_light_angstrom / (self.wave)**2 * 1e-29 * 1e18)\n",
      "14:14 bilby INFO    : Running for label '4713_10683', output will be saved to '../../data/civ_saves/J0100/bilby_fit_civ_msaexp_pypeit_v2/'\n",
      "14:14 bilby INFO    : Search parameters:\n",
      "14:14 bilby INFO    :   center = Uniform(minimum=11328.125321910586, maximum=11373.528629814035, name='center', latex_label='center', unit=None, boundary=None)\n",
      "14:14 bilby INFO    :   fwhm = Uniform(minimum=300, maximum=1000, name='fwhm', latex_label='fwhm', unit=None, boundary=None)\n",
      "14:14 bilby INFO    :   flux = Uniform(minimum=-9.525639481205932, maximum=9.525639481205932, name='flux', latex_label='flux', unit=None, boundary=None)\n",
      "14:14 bilby INFO    :   A = Uniform(minimum=-0.04730628726416525, maximum=0.0946125745283305, name='A', latex_label='A', unit=None, boundary=None)\n",
      "14:14 bilby INFO    :   beta = Uniform(minimum=-4, maximum=2, name='beta', latex_label='beta', unit=None, boundary=None)\n",
      "14:14 bilby INFO    :   wave0 = 11350.82697586231\n",
      "14:14 bilby INFO    : Single likelihood evaluation took 3.227e-05 s\n"
     ]
    },
    {
     "data": {
      "application/vnd.jupyter.widget-view+json": {
       "model_id": "7867a964969a4d2e90ac3bd6163b91c1",
       "version_major": 2,
       "version_minor": 0
      },
      "text/plain": [
       "0it [00:00, ?it/s]"
      ]
     },
     "metadata": {},
     "output_type": "display_data"
    },
    {
     "name": "stderr",
     "output_type": "stream",
     "text": [
      "14:14 bilby INFO    : Checkpoint every check_point_delta_t = 600s\n",
      "14:14 bilby WARNING : Using cached result\n",
      "14:14 bilby INFO    : Summary of results:\n",
      "nsamples: 2380\n",
      "ln_noise_evidence:    nan\n",
      "ln_evidence: 321.854 +/-  0.260\n",
      "ln_bayes_factor:    nan +/-  0.260\n",
      "\n",
      "/Users/myue/Research/Projects/JWST/dependencies/msa_spec_utils/LAE_spec_utils.py:464: RuntimeWarning: divide by zero encountered in power\n",
      "  self.err_fnu = (self.ivar_fnu)**-0.5\n",
      "/Users/myue/Research/Projects/JWST/dependencies/msa_spec_utils/LAE_spec_utils.py:470: RuntimeWarning: invalid value encountered in divide\n",
      "  self.flam = self.fnu * speed_of_light_angstrom / (self.wave)**2 * 1e-29 * 1e18\n",
      "/Users/myue/Research/Projects/JWST/dependencies/msa_spec_utils/LAE_spec_utils.py:471: RuntimeWarning: divide by zero encountered in divide\n",
      "  self.err_flam = self.err_fnu * (speed_of_light_angstrom / (self.wave)**2 * 1e-29 * 1e18)\n",
      "14:14 bilby INFO    : Running for label '4713_10998', output will be saved to '../../data/civ_saves/J0100/bilby_fit_civ_msaexp_pypeit_v2/'\n",
      "14:14 bilby INFO    : Search parameters:\n",
      "14:14 bilby INFO    :   center = Uniform(minimum=11325.188502385712, maximum=11370.580039469422, name='center', latex_label='center', unit=None, boundary=None)\n",
      "14:14 bilby INFO    :   fwhm = Uniform(minimum=300, maximum=1000, name='fwhm', latex_label='fwhm', unit=None, boundary=None)\n",
      "14:14 bilby INFO    :   flux = Uniform(minimum=-13.540115896254964, maximum=13.540115896254964, name='flux', latex_label='flux', unit=None, boundary=None)\n",
      "14:14 bilby INFO    :   A = Uniform(minimum=-0.06726044112372313, maximum=0.13452088224744627, name='A', latex_label='A', unit=None, boundary=None)\n",
      "14:14 bilby INFO    :   beta = Uniform(minimum=-4, maximum=2, name='beta', latex_label='beta', unit=None, boundary=None)\n",
      "14:14 bilby INFO    :   wave0 = 11347.884270927567\n",
      "14:14 bilby INFO    : Single likelihood evaluation took 3.488e-05 s\n"
     ]
    },
    {
     "data": {
      "application/vnd.jupyter.widget-view+json": {
       "model_id": "ee000bc4f4bd40e4bc54051c7bbca0c3",
       "version_major": 2,
       "version_minor": 0
      },
      "text/plain": [
       "0it [00:00, ?it/s]"
      ]
     },
     "metadata": {},
     "output_type": "display_data"
    },
    {
     "name": "stderr",
     "output_type": "stream",
     "text": [
      "14:14 bilby INFO    : Checkpoint every check_point_delta_t = 600s\n",
      "14:14 bilby WARNING : Using cached result\n",
      "14:14 bilby INFO    : Summary of results:\n",
      "nsamples: 2767\n",
      "ln_noise_evidence:    nan\n",
      "ln_evidence: 294.832 +/-  0.279\n",
      "ln_bayes_factor:    nan +/-  0.279\n",
      "\n",
      "/Users/myue/Research/Projects/JWST/dependencies/msa_spec_utils/LAE_spec_utils.py:464: RuntimeWarning: divide by zero encountered in power\n",
      "  self.err_fnu = (self.ivar_fnu)**-0.5\n",
      "/Users/myue/Research/Projects/JWST/dependencies/msa_spec_utils/LAE_spec_utils.py:470: RuntimeWarning: invalid value encountered in divide\n",
      "  self.flam = self.fnu * speed_of_light_angstrom / (self.wave)**2 * 1e-29 * 1e18\n",
      "/Users/myue/Research/Projects/JWST/dependencies/msa_spec_utils/LAE_spec_utils.py:471: RuntimeWarning: divide by zero encountered in divide\n",
      "  self.err_flam = self.err_fnu * (speed_of_light_angstrom / (self.wave)**2 * 1e-29 * 1e18)\n",
      "14:14 bilby INFO    : Running for label '4713_11362', output will be saved to '../../data/civ_saves/J0100/bilby_fit_civ_msaexp_pypeit_v2/'\n",
      "14:14 bilby INFO    : Search parameters:\n",
      "14:14 bilby INFO    :   center = Uniform(minimum=11328.653778905109, maximum=11374.059204872663, name='center', latex_label='center', unit=None, boundary=None)\n",
      "14:14 bilby INFO    :   fwhm = Uniform(minimum=300, maximum=1000, name='fwhm', latex_label='fwhm', unit=None, boundary=None)\n",
      "14:14 bilby INFO    :   flux = Uniform(minimum=-8.378302001619266, maximum=8.378302001619266, name='flux', latex_label='flux', unit=None, boundary=None)\n",
      "14:14 bilby INFO    :   A = Uniform(minimum=-0.04160643213120129, maximum=0.08321286426240258, name='A', latex_label='A', unit=None, boundary=None)\n",
      "14:14 bilby INFO    :   beta = Uniform(minimum=-4, maximum=2, name='beta', latex_label='beta', unit=None, boundary=None)\n",
      "14:14 bilby INFO    :   wave0 = 11351.356491888886\n",
      "14:14 bilby INFO    : Single likelihood evaluation took 3.157e-05 s\n"
     ]
    },
    {
     "data": {
      "application/vnd.jupyter.widget-view+json": {
       "model_id": "e761033228cd439cb9c9742a291782e4",
       "version_major": 2,
       "version_minor": 0
      },
      "text/plain": [
       "0it [00:00, ?it/s]"
      ]
     },
     "metadata": {},
     "output_type": "display_data"
    },
    {
     "name": "stderr",
     "output_type": "stream",
     "text": [
      "14:14 bilby INFO    : Checkpoint every check_point_delta_t = 600s\n",
      "14:14 bilby WARNING : Using cached result\n",
      "14:14 bilby INFO    : Summary of results:\n",
      "nsamples: 2446\n",
      "ln_noise_evidence:    nan\n",
      "ln_evidence: 306.627 +/-  0.256\n",
      "ln_bayes_factor:    nan +/-  0.256\n",
      "\n",
      "/Users/myue/Research/Projects/JWST/dependencies/msa_spec_utils/LAE_spec_utils.py:464: RuntimeWarning: divide by zero encountered in power\n",
      "  self.err_fnu = (self.ivar_fnu)**-0.5\n",
      "/Users/myue/Research/Projects/JWST/dependencies/msa_spec_utils/LAE_spec_utils.py:470: RuntimeWarning: invalid value encountered in divide\n",
      "  self.flam = self.fnu * speed_of_light_angstrom / (self.wave)**2 * 1e-29 * 1e18\n",
      "/Users/myue/Research/Projects/JWST/dependencies/msa_spec_utils/LAE_spec_utils.py:471: RuntimeWarning: divide by zero encountered in divide\n",
      "  self.err_flam = self.err_fnu * (speed_of_light_angstrom / (self.wave)**2 * 1e-29 * 1e18)\n",
      "14:14 bilby INFO    : Running for label '4713_11743', output will be saved to '../../data/civ_saves/J0100/bilby_fit_civ_msaexp_pypeit_v2/'\n",
      "14:14 bilby INFO    : Search parameters:\n",
      "14:14 bilby INFO    :   center = Uniform(minimum=12075.333120127561, maximum=12123.731248865548, name='center', latex_label='center', unit=None, boundary=None)\n",
      "14:14 bilby INFO    :   fwhm = Uniform(minimum=300, maximum=1000, name='fwhm', latex_label='fwhm', unit=None, boundary=None)\n",
      "14:14 bilby INFO    :   flux = Uniform(minimum=-13.563106420953478, maximum=13.563106420953478, name='flux', latex_label='flux', unit=None, boundary=None)\n",
      "14:14 bilby INFO    :   A = Uniform(minimum=-0.06318919431053481, maximum=0.12637838862106962, name='A', latex_label='A', unit=None, boundary=None)\n",
      "14:14 bilby INFO    :   beta = Uniform(minimum=-4, maximum=2, name='beta', latex_label='beta', unit=None, boundary=None)\n",
      "14:14 bilby INFO    :   wave0 = 12099.532184496555\n",
      "14:14 bilby INFO    : Single likelihood evaluation took 3.275e-05 s\n"
     ]
    },
    {
     "data": {
      "application/vnd.jupyter.widget-view+json": {
       "model_id": "73fe008f601443d2b2404b7396aa254f",
       "version_major": 2,
       "version_minor": 0
      },
      "text/plain": [
       "0it [00:00, ?it/s]"
      ]
     },
     "metadata": {},
     "output_type": "display_data"
    },
    {
     "name": "stderr",
     "output_type": "stream",
     "text": [
      "14:14 bilby INFO    : Checkpoint every check_point_delta_t = 600s\n",
      "14:14 bilby WARNING : Using cached result\n",
      "14:14 bilby INFO    : Summary of results:\n",
      "nsamples: 1698\n",
      "ln_noise_evidence:    nan\n",
      "ln_evidence: 163.815 +/-  0.199\n",
      "ln_bayes_factor:    nan +/-  0.199\n",
      "\n",
      "/Users/myue/Research/Projects/JWST/dependencies/msa_spec_utils/LAE_spec_utils.py:464: RuntimeWarning: divide by zero encountered in power\n",
      "  self.err_fnu = (self.ivar_fnu)**-0.5\n",
      "/Users/myue/Research/Projects/JWST/dependencies/msa_spec_utils/LAE_spec_utils.py:470: RuntimeWarning: invalid value encountered in divide\n",
      "  self.flam = self.fnu * speed_of_light_angstrom / (self.wave)**2 * 1e-29 * 1e18\n",
      "/Users/myue/Research/Projects/JWST/dependencies/msa_spec_utils/LAE_spec_utils.py:471: RuntimeWarning: divide by zero encountered in divide\n",
      "  self.err_flam = self.err_fnu * (speed_of_light_angstrom / (self.wave)**2 * 1e-29 * 1e18)\n",
      "14:14 bilby INFO    : Running for label '4713_11981', output will be saved to '../../data/civ_saves/J0100/bilby_fit_civ_msaexp_pypeit_v2/'\n",
      "14:14 bilby INFO    : Search parameters:\n",
      "14:14 bilby INFO    :   center = Uniform(minimum=12091.71655705124, maximum=12140.180350867078, name='center', latex_label='center', unit=None, boundary=None)\n",
      "14:14 bilby INFO    :   fwhm = Uniform(minimum=300, maximum=1000, name='fwhm', latex_label='fwhm', unit=None, boundary=None)\n",
      "14:14 bilby INFO    :   flux = Uniform(minimum=-14.97226902973539, maximum=14.97226902973539, name='flux', latex_label='flux', unit=None, boundary=None)\n",
      "14:14 bilby INFO    :   A = Uniform(minimum=-0.06965983361785082, maximum=0.13931966723570163, name='A', latex_label='A', unit=None, boundary=None)\n",
      "14:14 bilby INFO    :   beta = Uniform(minimum=-4, maximum=2, name='beta', latex_label='beta', unit=None, boundary=None)\n",
      "14:14 bilby INFO    :   wave0 = 12115.94845395916\n",
      "14:14 bilby INFO    : Single likelihood evaluation took 3.207e-05 s\n"
     ]
    },
    {
     "data": {
      "application/vnd.jupyter.widget-view+json": {
       "model_id": "3c0499e2cb42404fa826540d678bd3d2",
       "version_major": 2,
       "version_minor": 0
      },
      "text/plain": [
       "0it [00:00, ?it/s]"
      ]
     },
     "metadata": {},
     "output_type": "display_data"
    },
    {
     "name": "stderr",
     "output_type": "stream",
     "text": [
      "14:14 bilby INFO    : Checkpoint every check_point_delta_t = 600s\n",
      "14:14 bilby WARNING : Using cached result\n",
      "14:14 bilby INFO    : Summary of results:\n",
      "nsamples: 3258\n",
      "ln_noise_evidence:    nan\n",
      "ln_evidence: 186.836 +/-  0.306\n",
      "ln_bayes_factor:    nan +/-  0.306\n",
      "\n",
      "14:14 bilby INFO    : Running for label '4713_12217', output will be saved to '../../data/civ_saves/J0100/bilby_fit_civ_msaexp_pypeit_v2/'\n",
      "14:14 bilby INFO    : Search parameters:\n",
      "14:14 bilby INFO    :   center = Uniform(minimum=12016.514105159486, maximum=12064.676486342489, name='center', latex_label='center', unit=None, boundary=None)\n",
      "14:14 bilby INFO    :   fwhm = Uniform(minimum=300, maximum=1000, name='fwhm', latex_label='fwhm', unit=None, boundary=None)\n",
      "14:14 bilby INFO    :   flux = Uniform(minimum=-8.073193178907001, maximum=8.073193178907001, name='flux', latex_label='flux', unit=None, boundary=None)\n",
      "14:14 bilby INFO    :   A = Uniform(minimum=-0.03779632833059417, maximum=0.07559265666118833, name='A', latex_label='A', unit=None, boundary=None)\n",
      "14:14 bilby INFO    :   beta = Uniform(minimum=-4, maximum=2, name='beta', latex_label='beta', unit=None, boundary=None)\n",
      "14:14 bilby INFO    :   wave0 = 12040.595295750987\n",
      "14:14 bilby INFO    : Single likelihood evaluation took 3.477e-05 s\n"
     ]
    },
    {
     "data": {
      "application/vnd.jupyter.widget-view+json": {
       "model_id": "4d0525342b1f48ff85d57977cfd734e4",
       "version_major": 2,
       "version_minor": 0
      },
      "text/plain": [
       "0it [00:00, ?it/s]"
      ]
     },
     "metadata": {},
     "output_type": "display_data"
    },
    {
     "name": "stderr",
     "output_type": "stream",
     "text": [
      "14:14 bilby INFO    : Checkpoint every check_point_delta_t = 600s\n",
      "14:14 bilby WARNING : Using cached result\n",
      "14:14 bilby INFO    : Summary of results:\n",
      "nsamples: 2304\n",
      "ln_noise_evidence:    nan\n",
      "ln_evidence: 388.461 +/-  0.257\n",
      "ln_bayes_factor:    nan +/-  0.257\n",
      "\n",
      "/Users/myue/Research/Projects/JWST/dependencies/msa_spec_utils/LAE_spec_utils.py:464: RuntimeWarning: divide by zero encountered in power\n",
      "  self.err_fnu = (self.ivar_fnu)**-0.5\n",
      "/Users/myue/Research/Projects/JWST/dependencies/msa_spec_utils/LAE_spec_utils.py:470: RuntimeWarning: invalid value encountered in divide\n",
      "  self.flam = self.fnu * speed_of_light_angstrom / (self.wave)**2 * 1e-29 * 1e18\n",
      "/Users/myue/Research/Projects/JWST/dependencies/msa_spec_utils/LAE_spec_utils.py:471: RuntimeWarning: divide by zero encountered in divide\n",
      "  self.err_flam = self.err_fnu * (speed_of_light_angstrom / (self.wave)**2 * 1e-29 * 1e18)\n",
      "14:14 bilby INFO    : Running for label '4713_12285', output will be saved to '../../data/civ_saves/J0100/bilby_fit_civ_msaexp_pypeit_v2/'\n",
      "14:14 bilby INFO    : Search parameters:\n",
      "14:14 bilby INFO    :   center = Uniform(minimum=11134.864406885576, maximum=11179.493121943233, name='center', latex_label='center', unit=None, boundary=None)\n",
      "14:14 bilby INFO    :   fwhm = Uniform(minimum=300, maximum=1000, name='fwhm', latex_label='fwhm', unit=None, boundary=None)\n",
      "14:14 bilby INFO    :   flux = Uniform(minimum=-10.082595456514607, maximum=10.082595456514607, name='flux', latex_label='flux', unit=None, boundary=None)\n",
      "14:14 bilby INFO    :   A = Uniform(minimum=-0.050941318145218656, maximum=0.10188263629043731, name='A', latex_label='A', unit=None, boundary=None)\n",
      "14:14 bilby INFO    :   beta = Uniform(minimum=-4, maximum=2, name='beta', latex_label='beta', unit=None, boundary=None)\n",
      "14:14 bilby INFO    :   wave0 = 11157.178764414404\n",
      "14:14 bilby INFO    : Single likelihood evaluation took 3.367e-05 s\n"
     ]
    },
    {
     "data": {
      "application/vnd.jupyter.widget-view+json": {
       "model_id": "de7ca889ed924cec9fad6d730b966b05",
       "version_major": 2,
       "version_minor": 0
      },
      "text/plain": [
       "0it [00:00, ?it/s]"
      ]
     },
     "metadata": {},
     "output_type": "display_data"
    },
    {
     "name": "stderr",
     "output_type": "stream",
     "text": [
      "14:14 bilby INFO    : Checkpoint every check_point_delta_t = 600s\n",
      "14:14 bilby WARNING : Using cached result\n",
      "14:14 bilby INFO    : Summary of results:\n",
      "nsamples: 2414\n",
      "ln_noise_evidence:    nan\n",
      "ln_evidence: 321.629 +/-  0.264\n",
      "ln_bayes_factor:    nan +/-  0.264\n",
      "\n",
      "/Users/myue/Research/Projects/JWST/dependencies/msa_spec_utils/LAE_spec_utils.py:464: RuntimeWarning: divide by zero encountered in power\n",
      "  self.err_fnu = (self.ivar_fnu)**-0.5\n",
      "/Users/myue/Research/Projects/JWST/dependencies/msa_spec_utils/LAE_spec_utils.py:470: RuntimeWarning: invalid value encountered in divide\n",
      "  self.flam = self.fnu * speed_of_light_angstrom / (self.wave)**2 * 1e-29 * 1e18\n",
      "/Users/myue/Research/Projects/JWST/dependencies/msa_spec_utils/LAE_spec_utils.py:471: RuntimeWarning: divide by zero encountered in divide\n",
      "  self.err_flam = self.err_fnu * (speed_of_light_angstrom / (self.wave)**2 * 1e-29 * 1e18)\n",
      "14:14 bilby INFO    : Running for label '4713_12643', output will be saved to '../../data/civ_saves/J0100/bilby_fit_civ_msaexp_pypeit_v2/'\n",
      "14:14 bilby INFO    : Search parameters:\n",
      "14:14 bilby INFO    :   center = Uniform(minimum=11731.897844666879, maximum=11778.919479314844, name='center', latex_label='center', unit=None, boundary=None)\n",
      "14:14 bilby INFO    :   fwhm = Uniform(minimum=300, maximum=1000, name='fwhm', latex_label='fwhm', unit=None, boundary=None)\n",
      "14:14 bilby INFO    :   flux = Uniform(minimum=-7.240388677963418, maximum=7.240388677963418, name='flux', latex_label='flux', unit=None, boundary=None)\n",
      "14:14 bilby INFO    :   A = Uniform(minimum=-0.03645389247377658, maximum=0.07290778494755316, name='A', latex_label='A', unit=None, boundary=None)\n",
      "14:14 bilby INFO    :   beta = Uniform(minimum=-4, maximum=2, name='beta', latex_label='beta', unit=None, boundary=None)\n",
      "14:14 bilby INFO    :   wave0 = 11755.408661990861\n",
      "14:14 bilby INFO    : Single likelihood evaluation took 3.453e-05 s\n"
     ]
    },
    {
     "data": {
      "application/vnd.jupyter.widget-view+json": {
       "model_id": "31e30284aad645a6b610bf4dfb24604a",
       "version_major": 2,
       "version_minor": 0
      },
      "text/plain": [
       "0it [00:00, ?it/s]"
      ]
     },
     "metadata": {},
     "output_type": "display_data"
    },
    {
     "name": "stderr",
     "output_type": "stream",
     "text": [
      "14:14 bilby INFO    : Checkpoint every check_point_delta_t = 600s\n",
      "14:14 bilby WARNING : Using cached result\n",
      "14:14 bilby INFO    : Summary of results:\n",
      "nsamples: 2100\n",
      "ln_noise_evidence:    nan\n",
      "ln_evidence: 291.567 +/-  0.239\n",
      "ln_bayes_factor:    nan +/-  0.239\n",
      "\n",
      "/Users/myue/Research/Projects/JWST/dependencies/msa_spec_utils/LAE_spec_utils.py:464: RuntimeWarning: divide by zero encountered in power\n",
      "  self.err_fnu = (self.ivar_fnu)**-0.5\n",
      "/Users/myue/Research/Projects/JWST/dependencies/msa_spec_utils/LAE_spec_utils.py:470: RuntimeWarning: invalid value encountered in divide\n",
      "  self.flam = self.fnu * speed_of_light_angstrom / (self.wave)**2 * 1e-29 * 1e18\n",
      "/Users/myue/Research/Projects/JWST/dependencies/msa_spec_utils/LAE_spec_utils.py:471: RuntimeWarning: divide by zero encountered in divide\n",
      "  self.err_flam = self.err_fnu * (speed_of_light_angstrom / (self.wave)**2 * 1e-29 * 1e18)\n",
      "14:14 bilby INFO    : Running for label '4713_12754', output will be saved to '../../data/civ_saves/J0100/bilby_fit_civ_msaexp_pypeit_v2/'\n",
      "14:14 bilby INFO    : Search parameters:\n",
      "14:14 bilby INFO    :   center = Uniform(minimum=11327.146651291176, maximum=11372.546036667092, name='center', latex_label='center', unit=None, boundary=None)\n",
      "14:14 bilby INFO    :   fwhm = Uniform(minimum=300, maximum=1000, name='fwhm', latex_label='fwhm', unit=None, boundary=None)\n",
      "14:14 bilby INFO    :   flux = Uniform(minimum=-11.157654021066428, maximum=11.157654021066428, name='flux', latex_label='flux', unit=None, boundary=None)\n",
      "14:14 bilby INFO    :   A = Uniform(minimum=-0.05541599510091155, maximum=0.1108319902018231, name='A', latex_label='A', unit=None, boundary=None)\n",
      "14:14 bilby INFO    :   beta = Uniform(minimum=-4, maximum=2, name='beta', latex_label='beta', unit=None, boundary=None)\n",
      "14:14 bilby INFO    :   wave0 = 11349.846343979134\n",
      "14:14 bilby INFO    : Single likelihood evaluation took 3.441e-05 s\n"
     ]
    },
    {
     "data": {
      "application/vnd.jupyter.widget-view+json": {
       "model_id": "bf22943426734941a10aa39042255f36",
       "version_major": 2,
       "version_minor": 0
      },
      "text/plain": [
       "0it [00:00, ?it/s]"
      ]
     },
     "metadata": {},
     "output_type": "display_data"
    },
    {
     "name": "stderr",
     "output_type": "stream",
     "text": [
      "14:14 bilby INFO    : Checkpoint every check_point_delta_t = 600s\n",
      "14:14 bilby WARNING : Using cached result\n",
      "14:14 bilby INFO    : Summary of results:\n",
      "nsamples: 2259\n",
      "ln_noise_evidence:    nan\n",
      "ln_evidence: 322.770 +/-  0.251\n",
      "ln_bayes_factor:    nan +/-  0.251\n",
      "\n",
      "/Users/myue/Research/Projects/JWST/dependencies/msa_spec_utils/LAE_spec_utils.py:464: RuntimeWarning: divide by zero encountered in power\n",
      "  self.err_fnu = (self.ivar_fnu)**-0.5\n",
      "/Users/myue/Research/Projects/JWST/dependencies/msa_spec_utils/LAE_spec_utils.py:470: RuntimeWarning: invalid value encountered in divide\n",
      "  self.flam = self.fnu * speed_of_light_angstrom / (self.wave)**2 * 1e-29 * 1e18\n",
      "/Users/myue/Research/Projects/JWST/dependencies/msa_spec_utils/LAE_spec_utils.py:471: RuntimeWarning: divide by zero encountered in divide\n",
      "  self.err_flam = self.err_fnu * (speed_of_light_angstrom / (self.wave)**2 * 1e-29 * 1e18)\n",
      "14:14 bilby INFO    : Running for label '4713_12817', output will be saved to '../../data/civ_saves/J0100/bilby_fit_civ_msaexp_pypeit_v2/'\n",
      "14:14 bilby INFO    : Search parameters:\n",
      "14:14 bilby INFO    :   center = Uniform(minimum=10676.77891721344, maximum=10719.571618284437, name='center', latex_label='center', unit=None, boundary=None)\n",
      "14:14 bilby INFO    :   fwhm = Uniform(minimum=300, maximum=1000, name='fwhm', latex_label='fwhm', unit=None, boundary=None)\n",
      "14:14 bilby INFO    :   flux = Uniform(minimum=-5.181964337578221, maximum=5.181964337578221, name='flux', latex_label='flux', unit=None, boundary=None)\n",
      "14:14 bilby INFO    :   A = Uniform(minimum=-0.03264175032454797, maximum=0.06528350064909594, name='A', latex_label='A', unit=None, boundary=None)\n",
      "14:14 bilby INFO    :   beta = Uniform(minimum=-4, maximum=2, name='beta', latex_label='beta', unit=None, boundary=None)\n",
      "14:14 bilby INFO    :   wave0 = 10698.175267748938\n",
      "14:14 bilby INFO    : Single likelihood evaluation took 3.219e-05 s\n"
     ]
    },
    {
     "data": {
      "application/vnd.jupyter.widget-view+json": {
       "model_id": "5df11fca318945dc976fb05bc4766412",
       "version_major": 2,
       "version_minor": 0
      },
      "text/plain": [
       "0it [00:00, ?it/s]"
      ]
     },
     "metadata": {},
     "output_type": "display_data"
    },
    {
     "name": "stderr",
     "output_type": "stream",
     "text": [
      "14:14 bilby INFO    : Checkpoint every check_point_delta_t = 600s\n",
      "14:14 bilby WARNING : Using cached result\n",
      "14:14 bilby INFO    : Summary of results:\n",
      "nsamples: 2078\n",
      "ln_noise_evidence:    nan\n",
      "ln_evidence: 308.389 +/-  0.233\n",
      "ln_bayes_factor:    nan +/-  0.233\n",
      "\n",
      "/Users/myue/Research/Projects/JWST/dependencies/msa_spec_utils/LAE_spec_utils.py:464: RuntimeWarning: divide by zero encountered in power\n",
      "  self.err_fnu = (self.ivar_fnu)**-0.5\n",
      "/Users/myue/Research/Projects/JWST/dependencies/msa_spec_utils/LAE_spec_utils.py:470: RuntimeWarning: invalid value encountered in divide\n",
      "  self.flam = self.fnu * speed_of_light_angstrom / (self.wave)**2 * 1e-29 * 1e18\n",
      "/Users/myue/Research/Projects/JWST/dependencies/msa_spec_utils/LAE_spec_utils.py:471: RuntimeWarning: divide by zero encountered in divide\n",
      "  self.err_flam = self.err_fnu * (speed_of_light_angstrom / (self.wave)**2 * 1e-29 * 1e18)\n",
      "14:14 bilby INFO    : Running for label '4713_13590', output will be saved to '../../data/civ_saves/J0100/bilby_fit_civ_msaexp_pypeit_v2/'\n",
      "14:14 bilby INFO    : Search parameters:\n",
      "14:14 bilby INFO    :   center = Uniform(minimum=11111.67899336657, maximum=11156.214780915134, name='center', latex_label='center', unit=None, boundary=None)\n",
      "14:14 bilby INFO    :   fwhm = Uniform(minimum=300, maximum=1000, name='fwhm', latex_label='fwhm', unit=None, boundary=None)\n",
      "14:14 bilby INFO    :   flux = Uniform(minimum=-7.899347871121031, maximum=7.899347871121031, name='flux', latex_label='flux', unit=None, boundary=None)\n",
      "14:14 bilby INFO    :   A = Uniform(minimum=-0.04204023483874618, maximum=0.08408046967749236, name='A', latex_label='A', unit=None, boundary=None)\n",
      "14:14 bilby INFO    :   beta = Uniform(minimum=-4, maximum=2, name='beta', latex_label='beta', unit=None, boundary=None)\n",
      "14:14 bilby INFO    :   wave0 = 11133.946887140852\n",
      "14:14 bilby INFO    : Single likelihood evaluation took 3.520e-05 s\n"
     ]
    },
    {
     "data": {
      "application/vnd.jupyter.widget-view+json": {
       "model_id": "28eb0bde5cb040f49ff47a89130c54cf",
       "version_major": 2,
       "version_minor": 0
      },
      "text/plain": [
       "0it [00:00, ?it/s]"
      ]
     },
     "metadata": {},
     "output_type": "display_data"
    },
    {
     "name": "stderr",
     "output_type": "stream",
     "text": [
      "14:14 bilby INFO    : Checkpoint every check_point_delta_t = 600s\n",
      "14:14 bilby WARNING : Using cached result\n",
      "14:14 bilby INFO    : Summary of results:\n",
      "nsamples: 2332\n",
      "ln_noise_evidence:    nan\n",
      "ln_evidence: 262.958 +/-  0.249\n",
      "ln_bayes_factor:    nan +/-  0.249\n",
      "\n",
      "/Users/myue/Research/Projects/JWST/dependencies/msa_spec_utils/LAE_spec_utils.py:464: RuntimeWarning: divide by zero encountered in power\n",
      "  self.err_fnu = (self.ivar_fnu)**-0.5\n",
      "/Users/myue/Research/Projects/JWST/dependencies/msa_spec_utils/LAE_spec_utils.py:470: RuntimeWarning: invalid value encountered in divide\n",
      "  self.flam = self.fnu * speed_of_light_angstrom / (self.wave)**2 * 1e-29 * 1e18\n",
      "/Users/myue/Research/Projects/JWST/dependencies/msa_spec_utils/LAE_spec_utils.py:471: RuntimeWarning: divide by zero encountered in divide\n",
      "  self.err_flam = self.err_fnu * (speed_of_light_angstrom / (self.wave)**2 * 1e-29 * 1e18)\n",
      "14:14 bilby INFO    : Running for label '4713_13753', output will be saved to '../../data/civ_saves/J0100/bilby_fit_civ_msaexp_pypeit_v2/'\n",
      "14:14 bilby INFO    : Search parameters:\n",
      "14:14 bilby INFO    :   center = Uniform(minimum=11100.178111432055, maximum=11144.66780326144, name='center', latex_label='center', unit=None, boundary=None)\n",
      "14:14 bilby INFO    :   fwhm = Uniform(minimum=300, maximum=1000, name='fwhm', latex_label='fwhm', unit=None, boundary=None)\n",
      "14:14 bilby INFO    :   flux = Uniform(minimum=-12.243031838567477, maximum=12.243031838567477, name='flux', latex_label='flux', unit=None, boundary=None)\n",
      "14:14 bilby INFO    :   A = Uniform(minimum=-0.06205000208122954, maximum=0.12410000416245907, name='A', latex_label='A', unit=None, boundary=None)\n",
      "14:14 bilby INFO    :   beta = Uniform(minimum=-4, maximum=2, name='beta', latex_label='beta', unit=None, boundary=None)\n",
      "14:14 bilby INFO    :   wave0 = 11122.422957346747\n",
      "14:14 bilby INFO    : Single likelihood evaluation took 3.566e-05 s\n"
     ]
    },
    {
     "data": {
      "application/vnd.jupyter.widget-view+json": {
       "model_id": "29dcf3ecbe3042a29902b57b60059948",
       "version_major": 2,
       "version_minor": 0
      },
      "text/plain": [
       "0it [00:00, ?it/s]"
      ]
     },
     "metadata": {},
     "output_type": "display_data"
    },
    {
     "name": "stderr",
     "output_type": "stream",
     "text": [
      "14:14 bilby INFO    : Checkpoint every check_point_delta_t = 600s\n",
      "14:14 bilby WARNING : Using cached result\n",
      "14:14 bilby INFO    : Summary of results:\n",
      "nsamples: 2249\n",
      "ln_noise_evidence:    nan\n",
      "ln_evidence: 305.234 +/-  0.257\n",
      "ln_bayes_factor:    nan +/-  0.257\n",
      "\n",
      "/Users/myue/Research/Projects/JWST/dependencies/msa_spec_utils/LAE_spec_utils.py:464: RuntimeWarning: divide by zero encountered in power\n",
      "  self.err_fnu = (self.ivar_fnu)**-0.5\n",
      "/Users/myue/Research/Projects/JWST/dependencies/msa_spec_utils/LAE_spec_utils.py:470: RuntimeWarning: invalid value encountered in divide\n",
      "  self.flam = self.fnu * speed_of_light_angstrom / (self.wave)**2 * 1e-29 * 1e18\n",
      "/Users/myue/Research/Projects/JWST/dependencies/msa_spec_utils/LAE_spec_utils.py:471: RuntimeWarning: divide by zero encountered in divide\n",
      "  self.err_flam = self.err_fnu * (speed_of_light_angstrom / (self.wave)**2 * 1e-29 * 1e18)\n",
      "14:14 bilby INFO    : Running for label '4713_13864', output will be saved to '../../data/civ_saves/J0100/bilby_fit_civ_msaexp_pypeit_v2/'\n",
      "14:14 bilby INFO    : Search parameters:\n",
      "14:14 bilby INFO    :   center = Uniform(minimum=11248.370695601068, maximum=11293.454345683636, name='center', latex_label='center', unit=None, boundary=None)\n",
      "14:14 bilby INFO    :   fwhm = Uniform(minimum=300, maximum=1000, name='fwhm', latex_label='fwhm', unit=None, boundary=None)\n",
      "14:14 bilby INFO    :   flux = Uniform(minimum=-5.221472639059873, maximum=5.221472639059873, name='flux', latex_label='flux', unit=None, boundary=None)\n",
      "14:14 bilby INFO    :   A = Uniform(minimum=-0.026114766994983475, maximum=0.05222953398996695, name='A', latex_label='A', unit=None, boundary=None)\n",
      "14:14 bilby INFO    :   beta = Uniform(minimum=-4, maximum=2, name='beta', latex_label='beta', unit=None, boundary=None)\n",
      "14:14 bilby INFO    :   wave0 = 11270.912520642352\n",
      "14:14 bilby INFO    : Single likelihood evaluation took 3.233e-05 s\n"
     ]
    },
    {
     "data": {
      "application/vnd.jupyter.widget-view+json": {
       "model_id": "d6766b8778784fa49323cf03da968603",
       "version_major": 2,
       "version_minor": 0
      },
      "text/plain": [
       "0it [00:00, ?it/s]"
      ]
     },
     "metadata": {},
     "output_type": "display_data"
    },
    {
     "name": "stderr",
     "output_type": "stream",
     "text": [
      "14:14 bilby INFO    : Checkpoint every check_point_delta_t = 600s\n",
      "14:14 bilby WARNING : Using cached result\n",
      "14:14 bilby INFO    : Summary of results:\n",
      "nsamples: 2099\n",
      "ln_noise_evidence:    nan\n",
      "ln_evidence: 368.720 +/-  0.243\n",
      "ln_bayes_factor:    nan +/-  0.243\n",
      "\n",
      "/Users/myue/Research/Projects/JWST/dependencies/msa_spec_utils/LAE_spec_utils.py:464: RuntimeWarning: divide by zero encountered in power\n",
      "  self.err_fnu = (self.ivar_fnu)**-0.5\n",
      "/Users/myue/Research/Projects/JWST/dependencies/msa_spec_utils/LAE_spec_utils.py:470: RuntimeWarning: invalid value encountered in divide\n",
      "  self.flam = self.fnu * speed_of_light_angstrom / (self.wave)**2 * 1e-29 * 1e18\n",
      "/Users/myue/Research/Projects/JWST/dependencies/msa_spec_utils/LAE_spec_utils.py:471: RuntimeWarning: divide by zero encountered in divide\n",
      "  self.err_flam = self.err_fnu * (speed_of_light_angstrom / (self.wave)**2 * 1e-29 * 1e18)\n",
      "14:14 bilby INFO    : Running for label '4713_15437', output will be saved to '../../data/civ_saves/J0100/bilby_fit_civ_msaexp_pypeit_v2/'\n",
      "14:14 bilby INFO    : Search parameters:\n",
      "14:14 bilby INFO    :   center = Uniform(minimum=12008.38638407024, maximum=12056.516189216814, name='center', latex_label='center', unit=None, boundary=None)\n",
      "14:14 bilby INFO    :   fwhm = Uniform(minimum=300, maximum=1000, name='fwhm', latex_label='fwhm', unit=None, boundary=None)\n",
      "14:14 bilby INFO    :   flux = Uniform(minimum=-9.451653852337756, maximum=9.451653852337756, name='flux', latex_label='flux', unit=None, boundary=None)\n",
      "14:14 bilby INFO    :   A = Uniform(minimum=-0.04427982783803907, maximum=0.08855965567607814, name='A', latex_label='A', unit=None, boundary=None)\n",
      "14:14 bilby INFO    :   beta = Uniform(minimum=-4, maximum=2, name='beta', latex_label='beta', unit=None, boundary=None)\n",
      "14:14 bilby INFO    :   wave0 = 12032.451286643527\n",
      "14:14 bilby INFO    : Single likelihood evaluation took 3.525e-05 s\n"
     ]
    },
    {
     "name": "stdout",
     "output_type": "stream",
     "text": [
      "4713_15162 has no CIV\n"
     ]
    },
    {
     "data": {
      "application/vnd.jupyter.widget-view+json": {
       "model_id": "3a367355c2064855a173bf34aa69089d",
       "version_major": 2,
       "version_minor": 0
      },
      "text/plain": [
       "0it [00:00, ?it/s]"
      ]
     },
     "metadata": {},
     "output_type": "display_data"
    },
    {
     "name": "stderr",
     "output_type": "stream",
     "text": [
      "14:14 bilby INFO    : Checkpoint every check_point_delta_t = 600s\n",
      "14:14 bilby WARNING : Using cached result\n",
      "14:14 bilby INFO    : Summary of results:\n",
      "nsamples: 2214\n",
      "ln_noise_evidence:    nan\n",
      "ln_evidence: 336.669 +/-  0.250\n",
      "ln_bayes_factor:    nan +/-  0.250\n",
      "\n",
      "/Users/myue/Research/Projects/JWST/dependencies/msa_spec_utils/LAE_spec_utils.py:464: RuntimeWarning: divide by zero encountered in power\n",
      "  self.err_fnu = (self.ivar_fnu)**-0.5\n",
      "/Users/myue/Research/Projects/JWST/dependencies/msa_spec_utils/LAE_spec_utils.py:470: RuntimeWarning: invalid value encountered in divide\n",
      "  self.flam = self.fnu * speed_of_light_angstrom / (self.wave)**2 * 1e-29 * 1e18\n",
      "/Users/myue/Research/Projects/JWST/dependencies/msa_spec_utils/LAE_spec_utils.py:471: RuntimeWarning: divide by zero encountered in divide\n",
      "  self.err_flam = self.err_fnu * (speed_of_light_angstrom / (self.wave)**2 * 1e-29 * 1e18)\n",
      "14:14 bilby INFO    : Running for label '4713_15612', output will be saved to '../../data/civ_saves/J0100/bilby_fit_civ_msaexp_pypeit_v2/'\n",
      "14:14 bilby INFO    : Search parameters:\n",
      "14:14 bilby INFO    :   center = Uniform(minimum=12002.191294095759, maximum=12050.296269222395, name='center', latex_label='center', unit=None, boundary=None)\n",
      "14:14 bilby INFO    :   fwhm = Uniform(minimum=300, maximum=1000, name='fwhm', latex_label='fwhm', unit=None, boundary=None)\n",
      "14:14 bilby INFO    :   flux = Uniform(minimum=-10.686553309816462, maximum=10.686553309816462, name='flux', latex_label='flux', unit=None, boundary=None)\n",
      "14:14 bilby INFO    :   A = Uniform(minimum=-0.05009102067570194, maximum=0.10018204135140388, name='A', latex_label='A', unit=None, boundary=None)\n",
      "14:14 bilby INFO    :   beta = Uniform(minimum=-4, maximum=2, name='beta', latex_label='beta', unit=None, boundary=None)\n",
      "14:14 bilby INFO    :   wave0 = 12026.243781659077\n",
      "14:14 bilby INFO    : Single likelihood evaluation took 3.207e-05 s\n"
     ]
    },
    {
     "data": {
      "application/vnd.jupyter.widget-view+json": {
       "model_id": "c9b7d92020b246c1a16dc24ee84b7d0c",
       "version_major": 2,
       "version_minor": 0
      },
      "text/plain": [
       "0it [00:00, ?it/s]"
      ]
     },
     "metadata": {},
     "output_type": "display_data"
    },
    {
     "name": "stderr",
     "output_type": "stream",
     "text": [
      "14:14 bilby INFO    : Checkpoint every check_point_delta_t = 600s\n",
      "14:14 bilby WARNING : Using cached result\n",
      "14:14 bilby INFO    : Summary of results:\n",
      "nsamples: 2409\n",
      "ln_noise_evidence:    nan\n",
      "ln_evidence: 192.448 +/-  0.269\n",
      "ln_bayes_factor:    nan +/-  0.269\n",
      "\n",
      "/Users/myue/Research/Projects/JWST/dependencies/msa_spec_utils/LAE_spec_utils.py:464: RuntimeWarning: divide by zero encountered in power\n",
      "  self.err_fnu = (self.ivar_fnu)**-0.5\n",
      "/Users/myue/Research/Projects/JWST/dependencies/msa_spec_utils/LAE_spec_utils.py:470: RuntimeWarning: invalid value encountered in divide\n",
      "  self.flam = self.fnu * speed_of_light_angstrom / (self.wave)**2 * 1e-29 * 1e18\n",
      "/Users/myue/Research/Projects/JWST/dependencies/msa_spec_utils/LAE_spec_utils.py:471: RuntimeWarning: divide by zero encountered in divide\n",
      "  self.err_flam = self.err_fnu * (speed_of_light_angstrom / (self.wave)**2 * 1e-29 * 1e18)\n",
      "14:14 bilby INFO    : Running for label '4713_15627', output will be saved to '../../data/civ_saves/J0100/bilby_fit_civ_msaexp_pypeit_v2/'\n",
      "14:14 bilby INFO    : Search parameters:\n",
      "14:14 bilby INFO    :   center = Uniform(minimum=11136.727755409363, maximum=11181.363938797778, name='center', latex_label='center', unit=None, boundary=None)\n",
      "14:14 bilby INFO    :   fwhm = Uniform(minimum=300, maximum=1000, name='fwhm', latex_label='fwhm', unit=None, boundary=None)\n",
      "14:14 bilby INFO    :   flux = Uniform(minimum=-5.718521451431072, maximum=5.718521451431072, name='flux', latex_label='flux', unit=None, boundary=None)\n",
      "14:14 bilby INFO    :   A = Uniform(minimum=-0.030817185448848497, maximum=0.061634370897696994, name='A', latex_label='A', unit=None, boundary=None)\n",
      "14:14 bilby INFO    :   beta = Uniform(minimum=-4, maximum=2, name='beta', latex_label='beta', unit=None, boundary=None)\n",
      "14:14 bilby INFO    :   wave0 = 11159.04584710357\n",
      "14:14 bilby INFO    : Single likelihood evaluation took 3.682e-05 s\n"
     ]
    },
    {
     "data": {
      "application/vnd.jupyter.widget-view+json": {
       "model_id": "4a882ad324924fbd8f464d73db977b9a",
       "version_major": 2,
       "version_minor": 0
      },
      "text/plain": [
       "0it [00:00, ?it/s]"
      ]
     },
     "metadata": {},
     "output_type": "display_data"
    },
    {
     "name": "stderr",
     "output_type": "stream",
     "text": [
      "14:14 bilby INFO    : Checkpoint every check_point_delta_t = 600s\n",
      "14:14 bilby WARNING : Using cached result\n",
      "14:14 bilby INFO    : Summary of results:\n",
      "nsamples: 2142\n",
      "ln_noise_evidence:    nan\n",
      "ln_evidence: 189.983 +/-  0.243\n",
      "ln_bayes_factor:    nan +/-  0.243\n",
      "\n",
      "/Users/myue/Research/Projects/JWST/dependencies/msa_spec_utils/LAE_spec_utils.py:464: RuntimeWarning: divide by zero encountered in power\n",
      "  self.err_fnu = (self.ivar_fnu)**-0.5\n",
      "/Users/myue/Research/Projects/JWST/dependencies/msa_spec_utils/LAE_spec_utils.py:470: RuntimeWarning: invalid value encountered in divide\n",
      "  self.flam = self.fnu * speed_of_light_angstrom / (self.wave)**2 * 1e-29 * 1e18\n",
      "/Users/myue/Research/Projects/JWST/dependencies/msa_spec_utils/LAE_spec_utils.py:471: RuntimeWarning: divide by zero encountered in divide\n",
      "  self.err_flam = self.err_fnu * (speed_of_light_angstrom / (self.wave)**2 * 1e-29 * 1e18)\n",
      "14:14 bilby INFO    : Running for label '4713_16184', output will be saved to '../../data/civ_saves/J0100/bilby_fit_civ_msaexp_pypeit_v2/'\n",
      "14:14 bilby INFO    : Search parameters:\n",
      "14:14 bilby INFO    :   center = Uniform(minimum=10464.227458110698, maximum=10506.16824952597, name='center', latex_label='center', unit=None, boundary=None)\n",
      "14:14 bilby INFO    :   fwhm = Uniform(minimum=300, maximum=1000, name='fwhm', latex_label='fwhm', unit=None, boundary=None)\n",
      "14:14 bilby INFO    :   flux = Uniform(minimum=-7.729050618450113, maximum=7.729050618450113, name='flux', latex_label='flux', unit=None, boundary=None)\n",
      "14:14 bilby INFO    :   A = Uniform(minimum=-0.04155293927170685, maximum=0.0831058785434137, name='A', latex_label='A', unit=None, boundary=None)\n",
      "14:14 bilby INFO    :   beta = Uniform(minimum=-4, maximum=2, name='beta', latex_label='beta', unit=None, boundary=None)\n",
      "14:14 bilby INFO    :   wave0 = 10485.197853818334\n",
      "14:14 bilby INFO    : Single likelihood evaluation took 3.879e-05 s\n"
     ]
    },
    {
     "data": {
      "application/vnd.jupyter.widget-view+json": {
       "model_id": "deb80273ed5e4c53bf1483a05fb32005",
       "version_major": 2,
       "version_minor": 0
      },
      "text/plain": [
       "0it [00:00, ?it/s]"
      ]
     },
     "metadata": {},
     "output_type": "display_data"
    },
    {
     "name": "stderr",
     "output_type": "stream",
     "text": [
      "14:14 bilby INFO    : Checkpoint every check_point_delta_t = 600s\n",
      "14:14 bilby WARNING : Using cached result\n",
      "14:14 bilby INFO    : Summary of results:\n",
      "nsamples: 2051\n",
      "ln_noise_evidence:    nan\n",
      "ln_evidence: 263.226 +/-  0.232\n",
      "ln_bayes_factor:    nan +/-  0.232\n",
      "\n",
      "/Users/myue/Research/Projects/JWST/dependencies/msa_spec_utils/LAE_spec_utils.py:464: RuntimeWarning: divide by zero encountered in power\n",
      "  self.err_fnu = (self.ivar_fnu)**-0.5\n",
      "/Users/myue/Research/Projects/JWST/dependencies/msa_spec_utils/LAE_spec_utils.py:470: RuntimeWarning: invalid value encountered in divide\n",
      "  self.flam = self.fnu * speed_of_light_angstrom / (self.wave)**2 * 1e-29 * 1e18\n",
      "/Users/myue/Research/Projects/JWST/dependencies/msa_spec_utils/LAE_spec_utils.py:471: RuntimeWarning: divide by zero encountered in divide\n",
      "  self.err_flam = self.err_fnu * (speed_of_light_angstrom / (self.wave)**2 * 1e-29 * 1e18)\n",
      "14:14 bilby INFO    : Running for label '4713_16322', output will be saved to '../../data/civ_saves/J0100/bilby_fit_civ_msaexp_pypeit_v2/'\n",
      "14:14 bilby INFO    : Search parameters:\n",
      "14:14 bilby INFO    :   center = Uniform(minimum=11320.695045732913, maximum=11366.06857297032, name='center', latex_label='center', unit=None, boundary=None)\n",
      "14:14 bilby INFO    :   fwhm = Uniform(minimum=300, maximum=1000, name='fwhm', latex_label='fwhm', unit=None, boundary=None)\n",
      "14:14 bilby INFO    :   flux = Uniform(minimum=-7.474228118406905, maximum=7.474228118406905, name='flux', latex_label='flux', unit=None, boundary=None)\n",
      "14:14 bilby INFO    :   A = Uniform(minimum=-0.03714291855336098, maximum=0.07428583710672196, name='A', latex_label='A', unit=None, boundary=None)\n",
      "14:14 bilby INFO    :   beta = Uniform(minimum=-4, maximum=2, name='beta', latex_label='beta', unit=None, boundary=None)\n",
      "14:14 bilby INFO    :   wave0 = 11343.381809351617\n",
      "14:14 bilby INFO    : Single likelihood evaluation took 3.962e-05 s\n"
     ]
    },
    {
     "data": {
      "application/vnd.jupyter.widget-view+json": {
       "model_id": "4b47376039484a2e855b79470e2f33e5",
       "version_major": 2,
       "version_minor": 0
      },
      "text/plain": [
       "0it [00:00, ?it/s]"
      ]
     },
     "metadata": {},
     "output_type": "display_data"
    },
    {
     "name": "stderr",
     "output_type": "stream",
     "text": [
      "14:14 bilby INFO    : Checkpoint every check_point_delta_t = 600s\n",
      "14:14 bilby WARNING : Using cached result\n",
      "14:14 bilby INFO    : Summary of results:\n",
      "nsamples: 2217\n",
      "ln_noise_evidence:    nan\n",
      "ln_evidence: 265.643 +/-  0.244\n",
      "ln_bayes_factor:    nan +/-  0.244\n",
      "\n",
      "/Users/myue/Research/Projects/JWST/dependencies/msa_spec_utils/LAE_spec_utils.py:464: RuntimeWarning: divide by zero encountered in power\n",
      "  self.err_fnu = (self.ivar_fnu)**-0.5\n",
      "/Users/myue/Research/Projects/JWST/dependencies/msa_spec_utils/LAE_spec_utils.py:470: RuntimeWarning: invalid value encountered in divide\n",
      "  self.flam = self.fnu * speed_of_light_angstrom / (self.wave)**2 * 1e-29 * 1e18\n",
      "/Users/myue/Research/Projects/JWST/dependencies/msa_spec_utils/LAE_spec_utils.py:471: RuntimeWarning: divide by zero encountered in divide\n",
      "  self.err_flam = self.err_fnu * (speed_of_light_angstrom / (self.wave)**2 * 1e-29 * 1e18)\n",
      "14:14 bilby INFO    : Running for label '4713_16479', output will be saved to '../../data/civ_saves/J0100/bilby_fit_civ_msaexp_pypeit_v2/'\n",
      "14:14 bilby INFO    : Search parameters:\n",
      "14:14 bilby INFO    :   center = Uniform(minimum=11337.285003457579, maximum=11382.725023511517, name='center', latex_label='center', unit=None, boundary=None)\n",
      "14:14 bilby INFO    :   fwhm = Uniform(minimum=300, maximum=1000, name='fwhm', latex_label='fwhm', unit=None, boundary=None)\n",
      "14:14 bilby INFO    :   flux = Uniform(minimum=-14.820339349829654, maximum=14.820339349829654, name='flux', latex_label='flux', unit=None, boundary=None)\n",
      "14:14 bilby INFO    :   A = Uniform(minimum=-0.0735413931326626, maximum=0.1470827862653252, name='A', latex_label='A', unit=None, boundary=None)\n",
      "14:14 bilby INFO    :   beta = Uniform(minimum=-4, maximum=2, name='beta', latex_label='beta', unit=None, boundary=None)\n",
      "14:14 bilby INFO    :   wave0 = 11360.005013484548\n",
      "14:14 bilby INFO    : Single likelihood evaluation took 3.749e-05 s\n"
     ]
    },
    {
     "data": {
      "application/vnd.jupyter.widget-view+json": {
       "model_id": "995170c642264e1c8d2c41d252f75a17",
       "version_major": 2,
       "version_minor": 0
      },
      "text/plain": [
       "0it [00:00, ?it/s]"
      ]
     },
     "metadata": {},
     "output_type": "display_data"
    },
    {
     "name": "stderr",
     "output_type": "stream",
     "text": [
      "14:14 bilby INFO    : Checkpoint every check_point_delta_t = 600s\n",
      "14:14 bilby WARNING : Using cached result\n",
      "14:14 bilby INFO    : Summary of results:\n",
      "nsamples: 2947\n",
      "ln_noise_evidence:    nan\n",
      "ln_evidence: 300.553 +/-  0.293\n",
      "ln_bayes_factor:    nan +/-  0.293\n",
      "\n",
      "/Users/myue/Research/Projects/JWST/dependencies/msa_spec_utils/LAE_spec_utils.py:464: RuntimeWarning: divide by zero encountered in power\n",
      "  self.err_fnu = (self.ivar_fnu)**-0.5\n",
      "/Users/myue/Research/Projects/JWST/dependencies/msa_spec_utils/LAE_spec_utils.py:470: RuntimeWarning: invalid value encountered in divide\n",
      "  self.flam = self.fnu * speed_of_light_angstrom / (self.wave)**2 * 1e-29 * 1e18\n",
      "/Users/myue/Research/Projects/JWST/dependencies/msa_spec_utils/LAE_spec_utils.py:471: RuntimeWarning: divide by zero encountered in divide\n",
      "  self.err_flam = self.err_fnu * (speed_of_light_angstrom / (self.wave)**2 * 1e-29 * 1e18)\n",
      "14:14 bilby INFO    : Running for label '4713_16759', output will be saved to '../../data/civ_saves/J0100/bilby_fit_civ_msaexp_pypeit_v2/'\n",
      "14:14 bilby INFO    : Search parameters:\n",
      "14:14 bilby INFO    :   center = Uniform(minimum=11406.384354774236, maximum=11452.101326136057, name='center', latex_label='center', unit=None, boundary=None)\n",
      "14:14 bilby INFO    :   fwhm = Uniform(minimum=300, maximum=1000, name='fwhm', latex_label='fwhm', unit=None, boundary=None)\n",
      "14:14 bilby INFO    :   flux = Uniform(minimum=-10.58734876999052, maximum=10.58734876999052, name='flux', latex_label='flux', unit=None, boundary=None)\n",
      "14:14 bilby INFO    :   A = Uniform(minimum=-0.052218210808021914, maximum=0.10443642161604383, name='A', latex_label='A', unit=None, boundary=None)\n",
      "14:14 bilby INFO    :   beta = Uniform(minimum=-4, maximum=2, name='beta', latex_label='beta', unit=None, boundary=None)\n",
      "14:14 bilby INFO    :   wave0 = 11429.242840455147\n",
      "14:14 bilby INFO    : Single likelihood evaluation took 3.768e-05 s\n"
     ]
    },
    {
     "data": {
      "application/vnd.jupyter.widget-view+json": {
       "model_id": "251ab8aec35740b18a2318cd772661c5",
       "version_major": 2,
       "version_minor": 0
      },
      "text/plain": [
       "0it [00:00, ?it/s]"
      ]
     },
     "metadata": {},
     "output_type": "display_data"
    },
    {
     "name": "stderr",
     "output_type": "stream",
     "text": [
      "14:14 bilby INFO    : Checkpoint every check_point_delta_t = 600s\n",
      "14:14 bilby WARNING : Using cached result\n",
      "14:14 bilby INFO    : Summary of results:\n",
      "nsamples: 2422\n",
      "ln_noise_evidence:    nan\n",
      "ln_evidence: 317.386 +/-  0.266\n",
      "ln_bayes_factor:    nan +/-  0.266\n",
      "\n",
      "/Users/myue/Research/Projects/JWST/dependencies/msa_spec_utils/LAE_spec_utils.py:464: RuntimeWarning: divide by zero encountered in power\n",
      "  self.err_fnu = (self.ivar_fnu)**-0.5\n",
      "/Users/myue/Research/Projects/JWST/dependencies/msa_spec_utils/LAE_spec_utils.py:470: RuntimeWarning: invalid value encountered in divide\n",
      "  self.flam = self.fnu * speed_of_light_angstrom / (self.wave)**2 * 1e-29 * 1e18\n",
      "/Users/myue/Research/Projects/JWST/dependencies/msa_spec_utils/LAE_spec_utils.py:471: RuntimeWarning: divide by zero encountered in divide\n",
      "  self.err_flam = self.err_fnu * (speed_of_light_angstrom / (self.wave)**2 * 1e-29 * 1e18)\n",
      "14:14 bilby INFO    : Running for label '4713_17352', output will be saved to '../../data/civ_saves/J0100/bilby_fit_civ_msaexp_pypeit_v2/'\n",
      "14:14 bilby INFO    : Search parameters:\n",
      "14:14 bilby INFO    :   center = Uniform(minimum=11106.12900673014, maximum=11150.642549843285, name='center', latex_label='center', unit=None, boundary=None)\n",
      "14:14 bilby INFO    :   fwhm = Uniform(minimum=300, maximum=1000, name='fwhm', latex_label='fwhm', unit=None, boundary=None)\n",
      "14:14 bilby INFO    :   flux = Uniform(minimum=-9.176902413162505, maximum=9.176902413162505, name='flux', latex_label='flux', unit=None, boundary=None)\n",
      "14:14 bilby INFO    :   A = Uniform(minimum=-0.04748318453888145, maximum=0.0949663690777629, name='A', latex_label='A', unit=None, boundary=None)\n",
      "14:14 bilby INFO    :   beta = Uniform(minimum=-4, maximum=2, name='beta', latex_label='beta', unit=None, boundary=None)\n",
      "14:14 bilby INFO    :   wave0 = 11128.385778286713\n",
      "14:14 bilby INFO    : Single likelihood evaluation took 3.907e-05 s\n"
     ]
    },
    {
     "data": {
      "application/vnd.jupyter.widget-view+json": {
       "model_id": "5fcb29e7e9924a198cea0fb496c1c957",
       "version_major": 2,
       "version_minor": 0
      },
      "text/plain": [
       "0it [00:00, ?it/s]"
      ]
     },
     "metadata": {},
     "output_type": "display_data"
    },
    {
     "name": "stderr",
     "output_type": "stream",
     "text": [
      "14:14 bilby INFO    : Checkpoint every check_point_delta_t = 600s\n",
      "14:14 bilby WARNING : Using cached result\n",
      "14:14 bilby INFO    : Summary of results:\n",
      "nsamples: 2334\n",
      "ln_noise_evidence:    nan\n",
      "ln_evidence: 280.294 +/-  0.254\n",
      "ln_bayes_factor:    nan +/-  0.254\n",
      "\n",
      "/Users/myue/Research/Projects/JWST/dependencies/msa_spec_utils/LAE_spec_utils.py:464: RuntimeWarning: divide by zero encountered in power\n",
      "  self.err_fnu = (self.ivar_fnu)**-0.5\n",
      "/Users/myue/Research/Projects/JWST/dependencies/msa_spec_utils/LAE_spec_utils.py:470: RuntimeWarning: invalid value encountered in divide\n",
      "  self.flam = self.fnu * speed_of_light_angstrom / (self.wave)**2 * 1e-29 * 1e18\n",
      "/Users/myue/Research/Projects/JWST/dependencies/msa_spec_utils/LAE_spec_utils.py:471: RuntimeWarning: divide by zero encountered in divide\n",
      "  self.err_flam = self.err_fnu * (speed_of_light_angstrom / (self.wave)**2 * 1e-29 * 1e18)\n",
      "14:14 bilby INFO    : Running for label '4713_17385', output will be saved to '../../data/civ_saves/J0100/bilby_fit_civ_msaexp_pypeit_v2/'\n",
      "14:14 bilby INFO    : Search parameters:\n",
      "14:14 bilby INFO    :   center = Uniform(minimum=12012.672763305729, maximum=12060.819748328997, name='center', latex_label='center', unit=None, boundary=None)\n",
      "14:14 bilby INFO    :   fwhm = Uniform(minimum=300, maximum=1000, name='fwhm', latex_label='fwhm', unit=None, boundary=None)\n",
      "14:14 bilby INFO    :   flux = Uniform(minimum=-12.748487571801267, maximum=12.748487571801267, name='flux', latex_label='flux', unit=None, boundary=None)\n",
      "14:14 bilby INFO    :   A = Uniform(minimum=-0.05970377435398999, maximum=0.11940754870797998, name='A', latex_label='A', unit=None, boundary=None)\n",
      "14:14 bilby INFO    :   beta = Uniform(minimum=-4, maximum=2, name='beta', latex_label='beta', unit=None, boundary=None)\n",
      "14:14 bilby INFO    :   wave0 = 12036.746255817363\n",
      "14:14 bilby INFO    : Single likelihood evaluation took 3.672e-05 s\n"
     ]
    },
    {
     "data": {
      "application/vnd.jupyter.widget-view+json": {
       "model_id": "b522e074f6d1471b8ea522f03d3a9a9b",
       "version_major": 2,
       "version_minor": 0
      },
      "text/plain": [
       "0it [00:00, ?it/s]"
      ]
     },
     "metadata": {},
     "output_type": "display_data"
    },
    {
     "name": "stderr",
     "output_type": "stream",
     "text": [
      "14:14 bilby INFO    : Checkpoint every check_point_delta_t = 600s\n",
      "14:14 bilby WARNING : Using cached result\n",
      "14:14 bilby INFO    : Summary of results:\n",
      "nsamples: 2781\n",
      "ln_noise_evidence:    nan\n",
      "ln_evidence: 382.297 +/-  0.295\n",
      "ln_bayes_factor:    nan +/-  0.295\n",
      "\n",
      "/Users/myue/Research/Projects/JWST/dependencies/msa_spec_utils/LAE_spec_utils.py:464: RuntimeWarning: divide by zero encountered in power\n",
      "  self.err_fnu = (self.ivar_fnu)**-0.5\n",
      "/Users/myue/Research/Projects/JWST/dependencies/msa_spec_utils/LAE_spec_utils.py:470: RuntimeWarning: invalid value encountered in divide\n",
      "  self.flam = self.fnu * speed_of_light_angstrom / (self.wave)**2 * 1e-29 * 1e18\n",
      "/Users/myue/Research/Projects/JWST/dependencies/msa_spec_utils/LAE_spec_utils.py:471: RuntimeWarning: divide by zero encountered in divide\n",
      "  self.err_flam = self.err_fnu * (speed_of_light_angstrom / (self.wave)**2 * 1e-29 * 1e18)\n",
      "14:14 bilby INFO    : Running for label '4713_17492', output will be saved to '../../data/civ_saves/J0100/bilby_fit_civ_msaexp_pypeit_v2/'\n",
      "14:14 bilby INFO    : Search parameters:\n",
      "14:14 bilby INFO    :   center = Uniform(minimum=11946.318400436516, maximum=11994.19943610961, name='center', latex_label='center', unit=None, boundary=None)\n",
      "14:14 bilby INFO    :   fwhm = Uniform(minimum=300, maximum=1000, name='fwhm', latex_label='fwhm', unit=None, boundary=None)\n",
      "14:14 bilby INFO    :   flux = Uniform(minimum=-6.9431585080581035, maximum=6.9431585080581035, name='flux', latex_label='flux', unit=None, boundary=None)\n",
      "14:14 bilby INFO    :   A = Uniform(minimum=-0.03269683858821994, maximum=0.06539367717643987, name='A', latex_label='A', unit=None, boundary=None)\n",
      "14:14 bilby INFO    :   beta = Uniform(minimum=-4, maximum=2, name='beta', latex_label='beta', unit=None, boundary=None)\n",
      "14:14 bilby INFO    :   wave0 = 11970.258918273063\n",
      "14:14 bilby INFO    : Single likelihood evaluation took 3.666e-05 s\n"
     ]
    },
    {
     "name": "stdout",
     "output_type": "stream",
     "text": [
      "4713_17435 has no CIV\n"
     ]
    },
    {
     "data": {
      "application/vnd.jupyter.widget-view+json": {
       "model_id": "29118246ee9b491aae17692c904b74e0",
       "version_major": 2,
       "version_minor": 0
      },
      "text/plain": [
       "0it [00:00, ?it/s]"
      ]
     },
     "metadata": {},
     "output_type": "display_data"
    },
    {
     "name": "stderr",
     "output_type": "stream",
     "text": [
      "14:14 bilby INFO    : Checkpoint every check_point_delta_t = 600s\n",
      "14:14 bilby WARNING : Using cached result\n",
      "14:14 bilby INFO    : Summary of results:\n",
      "nsamples: 2368\n",
      "ln_noise_evidence:    nan\n",
      "ln_evidence: 378.670 +/-  0.264\n",
      "ln_bayes_factor:    nan +/-  0.264\n",
      "\n",
      "/Users/myue/Research/Projects/JWST/dependencies/msa_spec_utils/LAE_spec_utils.py:464: RuntimeWarning: divide by zero encountered in power\n",
      "  self.err_fnu = (self.ivar_fnu)**-0.5\n",
      "/Users/myue/Research/Projects/JWST/dependencies/msa_spec_utils/LAE_spec_utils.py:470: RuntimeWarning: invalid value encountered in divide\n",
      "  self.flam = self.fnu * speed_of_light_angstrom / (self.wave)**2 * 1e-29 * 1e18\n",
      "/Users/myue/Research/Projects/JWST/dependencies/msa_spec_utils/LAE_spec_utils.py:471: RuntimeWarning: divide by zero encountered in divide\n",
      "  self.err_flam = self.err_fnu * (speed_of_light_angstrom / (self.wave)**2 * 1e-29 * 1e18)\n",
      "14:14 bilby INFO    : Running for label '4713_18061', output will be saved to '../../data/civ_saves/J0100/bilby_fit_civ_msaexp_pypeit_v2/'\n",
      "14:14 bilby INFO    : Search parameters:\n",
      "14:14 bilby INFO    :   center = Uniform(minimum=11332.903588974339, maximum=11378.326048248786, name='center', latex_label='center', unit=None, boundary=None)\n",
      "14:14 bilby INFO    :   fwhm = Uniform(minimum=300, maximum=1000, name='fwhm', latex_label='fwhm', unit=None, boundary=None)\n",
      "14:14 bilby INFO    :   flux = Uniform(minimum=-9.80026750759935, maximum=9.80026750759935, name='flux', latex_label='flux', unit=None, boundary=None)\n",
      "14:14 bilby INFO    :   A = Uniform(minimum=-0.04864962591075148, maximum=0.09729925182150297, name='A', latex_label='A', unit=None, boundary=None)\n",
      "14:14 bilby INFO    :   beta = Uniform(minimum=-4, maximum=2, name='beta', latex_label='beta', unit=None, boundary=None)\n",
      "14:14 bilby INFO    :   wave0 = 11355.614818611562\n",
      "14:14 bilby INFO    : Single likelihood evaluation took 4.019e-05 s\n"
     ]
    },
    {
     "name": "stdout",
     "output_type": "stream",
     "text": [
      "4713_18057 has no CIV\n"
     ]
    },
    {
     "data": {
      "application/vnd.jupyter.widget-view+json": {
       "model_id": "b5f28281a9334a70a54457852621ad63",
       "version_major": 2,
       "version_minor": 0
      },
      "text/plain": [
       "0it [00:00, ?it/s]"
      ]
     },
     "metadata": {},
     "output_type": "display_data"
    },
    {
     "name": "stderr",
     "output_type": "stream",
     "text": [
      "14:14 bilby INFO    : Checkpoint every check_point_delta_t = 600s\n",
      "14:14 bilby WARNING : Using cached result\n",
      "14:14 bilby INFO    : Summary of results:\n",
      "nsamples: 2482\n",
      "ln_noise_evidence:    nan\n",
      "ln_evidence: 335.254 +/-  0.264\n",
      "ln_bayes_factor:    nan +/-  0.264\n",
      "\n",
      "/Users/myue/Research/Projects/JWST/dependencies/msa_spec_utils/LAE_spec_utils.py:464: RuntimeWarning: divide by zero encountered in power\n",
      "  self.err_fnu = (self.ivar_fnu)**-0.5\n",
      "/Users/myue/Research/Projects/JWST/dependencies/msa_spec_utils/LAE_spec_utils.py:470: RuntimeWarning: invalid value encountered in divide\n",
      "  self.flam = self.fnu * speed_of_light_angstrom / (self.wave)**2 * 1e-29 * 1e18\n",
      "/Users/myue/Research/Projects/JWST/dependencies/msa_spec_utils/LAE_spec_utils.py:471: RuntimeWarning: divide by zero encountered in divide\n",
      "  self.err_flam = self.err_fnu * (speed_of_light_angstrom / (self.wave)**2 * 1e-29 * 1e18)\n",
      "14:14 bilby INFO    : Running for label '4713_18268', output will be saved to '../../data/civ_saves/J0100/bilby_fit_civ_msaexp_pypeit_v2/'\n",
      "14:14 bilby INFO    : Search parameters:\n",
      "14:14 bilby INFO    :   center = Uniform(minimum=11804.045375653399, maximum=11851.35617876223, name='center', latex_label='center', unit=None, boundary=None)\n",
      "14:14 bilby INFO    :   fwhm = Uniform(minimum=300, maximum=1000, name='fwhm', latex_label='fwhm', unit=None, boundary=None)\n",
      "14:14 bilby INFO    :   flux = Uniform(minimum=-10.040293667220796, maximum=10.040293667220796, name='flux', latex_label='flux', unit=None, boundary=None)\n",
      "14:14 bilby INFO    :   A = Uniform(minimum=-0.04785180389816393, maximum=0.09570360779632786, name='A', latex_label='A', unit=None, boundary=None)\n",
      "14:14 bilby INFO    :   beta = Uniform(minimum=-4, maximum=2, name='beta', latex_label='beta', unit=None, boundary=None)\n",
      "14:14 bilby INFO    :   wave0 = 11827.700777207814\n",
      "14:14 bilby INFO    : Single likelihood evaluation took 3.617e-05 s\n"
     ]
    },
    {
     "data": {
      "application/vnd.jupyter.widget-view+json": {
       "model_id": "65260475a5f44656a34040e732666407",
       "version_major": 2,
       "version_minor": 0
      },
      "text/plain": [
       "0it [00:00, ?it/s]"
      ]
     },
     "metadata": {},
     "output_type": "display_data"
    },
    {
     "name": "stderr",
     "output_type": "stream",
     "text": [
      "14:14 bilby INFO    : Checkpoint every check_point_delta_t = 600s\n",
      "14:14 bilby WARNING : Using cached result\n",
      "14:14 bilby INFO    : Summary of results:\n",
      "nsamples: 2491\n",
      "ln_noise_evidence:    nan\n",
      "ln_evidence: 318.315 +/-  0.269\n",
      "ln_bayes_factor:    nan +/-  0.269\n",
      "\n"
     ]
    }
   ],
   "source": [
    "# summarize the fitting results\n",
    "\n",
    "# I want to compile a table that contain all information I needed for Lya analysis.\n",
    "\n",
    "#outdir_pypeit = './bilby_fit_civ_pypeit_v1/'\n",
    "\n",
    "\n",
    "zcivlist = []\n",
    "fwhmlist = []\n",
    "fluxlist = []\n",
    "ewcivlist = []\n",
    "\n",
    "#hb_masked = np.ma.is_masked(allinfo['f_Hb'])\n",
    "\n",
    "#spec1ddir = os.path.abspath(f'../pypeit-reduc/data-release-2/reduced_spec_2/')\n",
    "\n",
    "for index in range(len(lyainfo)):\n",
    "    \n",
    "    z = lyainfo['z_O3doublet_combined_n'][index]\n",
    "        \n",
    "    isource = '4713_%d'%(lyainfo['NUMBER'][index])\n",
    "    label = isource\n",
    "\n",
    "    #if not lyainfo['NUMBER'][index]==10287:\n",
    "    #    continue\n",
    "    #else:\n",
    "    #    print(lyainfo['NUMBER'][index])\n",
    "    \n",
    "    if not os.path.exists(outdir_msaexp+f'{isource}_result.json'):\n",
    "        print(label, 'has no CIV')\n",
    "        zcivlist.append(-np.ones(7))\n",
    "        fwhmlist.append(-np.ones(7))\n",
    "        fluxlist.append(-np.ones(7))\n",
    "        ewcivlist.append(-np.ones(7))\n",
    "        continue\n",
    "\n",
    "    #else:\n",
    "    #    continue\n",
    "    # find the spec1d file\n",
    "    spec1dfile = os.path.join(spec1ddir,'spec1d_%s_stack.fits'%isource)\n",
    "    if not os.path.exists(spec1dfile):\n",
    "        spec1dfile = os.path.join(spec1ddir,'manu1d_%s_stack.fits'%isource)\n",
    "    if not os.path.exists(spec1dfile):\n",
    "        print(label, 'has no spec')\n",
    "        continue\n",
    "\n",
    "\n",
    "    msaspec = LAE.PypeItSpecStacked(filename=spec1dfile, zO3=z, outdir=outdir_msaexp, label=label)\n",
    "\n",
    "    # gather necessary info\n",
    "    msaspec.fit_civ_profile_bilby()\n",
    "    #selectidx_pypeit.append(index)\n",
    "\n",
    "    # generate a uniform sample\n",
    "    samples = msaspec.civ_result.nested_samples\n",
    "    weights = np.array(samples['weights'])\n",
    "    \n",
    "    center_sample = dyfunc.resample_equal(np.array(samples['center']), weights)\n",
    "    fwhm_sample = dyfunc.resample_equal(np.array(samples['fwhm']), weights)\n",
    "    flux_sample = dyfunc.resample_equal(np.array(samples['flux']), weights)\n",
    "    A_sample = dyfunc.resample_equal(np.array(samples['A']), weights)\n",
    "    beta_sample = dyfunc.resample_equal(np.array(samples['beta']), weights)\n",
    "    EW_sample = flux_sample / A_sample / (1+z)\n",
    "    \n",
    "    zciv_quantile = np.percentile(center_sample, [0.135,2.5,16,50,84,97.5, 99.865]) / 1549 - 1\n",
    "    fwhm_quantile = np.percentile(fwhm_sample, [0.135,2.5,16,50,84,97.5, 99.865])\n",
    "    flam_quantile = np.percentile(flux_sample, [0.135,2.5,16,50,84,97.5, 99.865])\n",
    "    EW_quantile = np.percentile(EW_sample, [0.135,2.5,16,50,84,97.5, 99.865])\n",
    "\n",
    "    zcivlist.append(zciv_quantile)\n",
    "    fwhmlist.append(fwhm_quantile)\n",
    "    fluxlist.append(flam_quantile)\n",
    "    ewcivlist.append(EW_quantile)\n"
   ]
  },
  {
   "cell_type": "code",
   "execution_count": 47,
   "id": "5ff38fed-8bca-46c8-9d14-5198e61468ee",
   "metadata": {},
   "outputs": [],
   "source": [
    "lyainfo['zcivquantile'] = np.array(zcivlist)\n",
    "lyainfo['fwhmcivquantile'] = np.array(fwhmlist)\n",
    "lyainfo['fcivquantile'] = np.array(fluxlist)\n",
    "lyainfo['ewcivquantile'] = np.array(ewcivlist)"
   ]
  },
  {
   "cell_type": "code",
   "execution_count": 48,
   "id": "34f4e2e8-bf5c-4c82-93ba-441b9b64e82e",
   "metadata": {},
   "outputs": [
    {
     "data": {
      "text/html": [
       "<div><i>Table length=1</i>\n",
       "<table id=\"table15193813888\" class=\"table-striped table-bordered table-condensed\">\n",
       "<thead><tr><th>NUMBERv4</th><th>NUMBER</th><th>ID_1</th><th>RA</th><th>DEC</th><th>zguess</th><th>DK_JM_ave_score</th><th>Nclumps_Y</th><th>Nclumps_spec</th><th>Module_ignore</th><th>REDO_1D</th><th>comments_fitting</th><th>MANUAL_CHANGE_zspec</th><th>comments_zspec</th><th>z_O3doublet_combined_n</th><th>f_Hb</th><th>f_O3_4960</th><th>f_O3_5008</th><th>f_Hb_err</th><th>f_O3_4960_err</th><th>f_O3_5008_err</th><th>id_1a</th><th>ID_PARENT_det</th><th>ALPHA_J2000_det</th><th>DELTA_J2000_det</th><th>X_IMAGE_det</th><th>Y_IMAGE_det</th><th>A_IMAGE_det</th><th>B_IMAGE_det</th><th>THETA_IMAGE_det</th><th>ELONGATION_det</th><th>ELLIPTICITY_det</th><th>FWHM_WORLD_det</th><th>CLASS_STAR_det</th><th>BACKGROUND_det</th><th>ap_corr</th><th>MAG_AUTO_F356W_apcor</th><th>MAG_AUTO_F200W_apcor</th><th>MAG_AUTO_F115W_apcor</th><th>MAG_AUTO_F850LP_apcor</th><th>MAG_AUTO_F775W_apcor</th><th>MAG_AUTO_F606W_apcor</th><th>fnu_F356W_AUTO_apcor</th><th>enu_F356W_aper_model</th><th>fnu_F200W_AUTO_apcor</th><th>enu_F200W_aper_model</th><th>fnu_F115W_AUTO_apcor</th><th>enu_F115W_aper_model</th><th>fnu_F850LP_AUTO_apcor</th><th>enu_F850LP_aper_model</th><th>fnu_F775W_AUTO_apcor</th><th>enu_F775W_aper_model</th><th>fnu_F606W_AUTO_apcor</th><th>enu_F606W_aper_model</th><th>good_mag</th><th>good_nrc</th><th>CHECK_PHOTOMETRY</th><th>BACKWARD_ONLY</th><th>CATALOG_MISSED</th><th>BACKWARD</th><th>BACKWARD_INFO</th><th>CONFID</th><th>EWquantile</th><th>FWHMquantile</th><th>zlyaquantile</th><th>fluxquantile</th><th>Muv</th><th>EWfromHb</th><th>fesc</th><th>zcivquantile</th><th>fwhmcivquantile</th><th>fcivquantile</th><th>ewcivquantile</th></tr></thead>\n",
       "<thead><tr><th></th><th></th><th></th><th></th><th></th><th></th><th></th><th></th><th></th><th></th><th></th><th></th><th></th><th></th><th></th><th></th><th></th><th></th><th></th><th></th><th></th><th></th><th></th><th>deg</th><th>deg</th><th>pix</th><th>pix</th><th>pix</th><th>pix</th><th>deg</th><th></th><th></th><th>deg</th><th></th><th>ct</th><th>mag</th><th>mag</th><th>mag</th><th>mag</th><th>mag</th><th>mag</th><th>mag</th><th>ct</th><th>ct</th><th>ct</th><th>ct</th><th>ct</th><th>ct</th><th>ct</th><th>ct</th><th>ct</th><th>ct</th><th>ct</th><th>ct</th><th></th><th></th><th></th><th></th><th></th><th></th><th></th><th></th><th></th><th></th><th></th><th></th><th></th><th></th><th></th><th></th><th></th><th></th><th></th></tr></thead>\n",
       "<thead><tr><th>float64</th><th>float64</th><th>bytes7</th><th>float64</th><th>float64</th><th>float64</th><th>float64</th><th>float64</th><th>float64</th><th>bytes5</th><th>bool</th><th>bytes17</th><th>bool</th><th>bytes51</th><th>float64</th><th>float64</th><th>float64</th><th>float64</th><th>float64</th><th>float64</th><th>float64</th><th>bytes7</th><th>int32</th><th>float64</th><th>float64</th><th>float32</th><th>float32</th><th>float32</th><th>float32</th><th>float32</th><th>float32</th><th>float32</th><th>float32</th><th>float32</th><th>float32</th><th>float32</th><th>float32</th><th>float32</th><th>float32</th><th>float32</th><th>float32</th><th>float32</th><th>float32</th><th>float64</th><th>float32</th><th>float64</th><th>float32</th><th>float64</th><th>float32</th><th>float32</th><th>float32</th><th>float32</th><th>float32</th><th>float32</th><th>bool</th><th>bool</th><th>bool</th><th>bool</th><th>bool</th><th>bool</th><th>bytes32</th><th>float64</th><th>float64[7]</th><th>float64[7]</th><th>float64[7]</th><th>float64[7]</th><th>float64</th><th>float64[2]</th><th>float64[7]</th><th>float64[7]</th><th>float64[7]</th><th>float64[7]</th><th>float64[7]</th></tr></thead>\n",
       "<tr><td>10287.0</td><td>10287.0</td><td>10287_2</td><td>15.03756850963396</td><td>28.011260915386156</td><td>6.770385096803718</td><td>7.0</td><td>1.0</td><td>1.0</td><td>--</td><td>False</td><td>--</td><td>False</td><td>--</td><td>6.769629645807889</td><td>0.8626619191980156</td><td>2.8105595372797887</td><td>5.681304048153379</td><td>0.2519418224717149</td><td>0.4283884085339823</td><td>0.5177531077029968</td><td>10287_2</td><td>17092</td><td>15.03756850963396</td><td>28.011260915386156</td><td>9276.824</td><td>7094.5293</td><td>2.3043547</td><td>2.0956156</td><td>27.337143</td><td>1.0996075</td><td>0.090584576</td><td>0.0018249748</td><td>0.0009586867</td><td>0.0003301064</td><td>-0.42320287</td><td>26.615221</td><td>27.284912</td><td>27.192863</td><td>28.636532</td><td>98.5768</td><td>29.19872</td><td>82.01853</td><td>4.0068346751732715</td><td>44.262493</td><td>4.393121031086886</td><td>48.17868</td><td>9.139473796957189</td><td>12.746399</td><td>11.01746</td><td>-5.6016707</td><td>8.178412</td><td>7.594722</td><td>5.468461</td><td>False</td><td>True</td><td>False</td><td>False</td><td>False</td><td>True</td><td>1b_2576,4b_2742,</td><td>2.0</td><td>79.64873274517761 .. 340.3696435488925</td><td>300.63370574076026 .. 501.64551246162404</td><td>7.774840092233195 .. 7.778854341426231</td><td>14.347281124530255 .. 59.218457654338465</td><td>-19.688694399569485</td><td>156.12247162062357 .. 45.59582282878053</td><td>0.5101682795460952 .. 2.1801451131006186</td><td>6.7664398735422155 .. 6.780237629470421</td><td>596.9061882624103 .. 999.5602992855879</td><td>0.6992447168300867 .. 2.134068393686429</td><td>6.903705520414742 .. 22.84935363305002</td></tr>\n",
       "</table></div>"
      ],
      "text/plain": [
       "<Table length=1>\n",
       "NUMBERv4  NUMBER ...             ewcivquantile             \n",
       "                 ...                                       \n",
       "float64  float64 ...               float64[7]              \n",
       "-------- ------- ... --------------------------------------\n",
       " 10287.0 10287.0 ... 6.903705520414742 .. 22.84935363305002"
      ]
     },
     "execution_count": 48,
     "metadata": {},
     "output_type": "execute_result"
    }
   ],
   "source": [
    "lyainfo[lyainfo['NUMBER']==10287]"
   ]
  },
  {
   "cell_type": "code",
   "execution_count": 56,
   "id": "64ea5683-88a5-40a9-aabf-7b3535e6a0d5",
   "metadata": {},
   "outputs": [
    {
     "data": {
      "text/html": [
       "<div><i>Table length=5</i>\n",
       "<table id=\"table28232346624\" class=\"table-striped table-bordered table-condensed\">\n",
       "<thead><tr><th>NUMBERv4</th><th>NUMBER</th><th>ID_1</th><th>RA</th><th>DEC</th><th>zguess</th><th>DK_JM_ave_score</th><th>Nclumps_Y</th><th>Nclumps_spec</th><th>Module_ignore</th><th>REDO_1D</th><th>comments_fitting</th><th>MANUAL_CHANGE_zspec</th><th>comments_zspec</th><th>z_O3doublet_combined_n</th><th>f_Hb</th><th>f_O3_4960</th><th>f_O3_5008</th><th>f_Hb_err</th><th>f_O3_4960_err</th><th>f_O3_5008_err</th><th>id_1a</th><th>ID_PARENT_det</th><th>ALPHA_J2000_det</th><th>DELTA_J2000_det</th><th>X_IMAGE_det</th><th>Y_IMAGE_det</th><th>A_IMAGE_det</th><th>B_IMAGE_det</th><th>THETA_IMAGE_det</th><th>ELONGATION_det</th><th>ELLIPTICITY_det</th><th>FWHM_WORLD_det</th><th>CLASS_STAR_det</th><th>BACKGROUND_det</th><th>ap_corr</th><th>MAG_AUTO_F356W_apcor</th><th>MAG_AUTO_F200W_apcor</th><th>MAG_AUTO_F115W_apcor</th><th>MAG_AUTO_F850LP_apcor</th><th>MAG_AUTO_F775W_apcor</th><th>MAG_AUTO_F606W_apcor</th><th>fnu_F356W_AUTO_apcor</th><th>enu_F356W_aper_model</th><th>fnu_F200W_AUTO_apcor</th><th>enu_F200W_aper_model</th><th>fnu_F115W_AUTO_apcor</th><th>enu_F115W_aper_model</th><th>fnu_F850LP_AUTO_apcor</th><th>enu_F850LP_aper_model</th><th>fnu_F775W_AUTO_apcor</th><th>enu_F775W_aper_model</th><th>fnu_F606W_AUTO_apcor</th><th>enu_F606W_aper_model</th><th>good_mag</th><th>good_nrc</th><th>CHECK_PHOTOMETRY</th><th>BACKWARD_ONLY</th><th>CATALOG_MISSED</th><th>BACKWARD</th><th>BACKWARD_INFO</th><th>CONFID</th><th>EWquantile</th><th>FWHMquantile</th><th>zlyaquantile</th><th>fluxquantile</th><th>Muv</th><th>EWfromHb</th><th>fesc</th><th>zcivquantile</th><th>fwhmcivquantile</th><th>fcivquantile</th><th>ewcivquantile</th></tr></thead>\n",
       "<thead><tr><th></th><th></th><th></th><th></th><th></th><th></th><th></th><th></th><th></th><th></th><th></th><th></th><th></th><th></th><th></th><th></th><th></th><th></th><th></th><th></th><th></th><th></th><th></th><th>deg</th><th>deg</th><th>pix</th><th>pix</th><th>pix</th><th>pix</th><th>deg</th><th></th><th></th><th>deg</th><th></th><th>ct</th><th>mag</th><th>mag</th><th>mag</th><th>mag</th><th>mag</th><th>mag</th><th>mag</th><th>ct</th><th>ct</th><th>ct</th><th>ct</th><th>ct</th><th>ct</th><th>ct</th><th>ct</th><th>ct</th><th>ct</th><th>ct</th><th>ct</th><th></th><th></th><th></th><th></th><th></th><th></th><th></th><th></th><th></th><th></th><th></th><th></th><th></th><th></th><th></th><th></th><th></th><th></th><th></th></tr></thead>\n",
       "<thead><tr><th>float64</th><th>float64</th><th>bytes7</th><th>float64</th><th>float64</th><th>float64</th><th>float64</th><th>float64</th><th>float64</th><th>bytes5</th><th>bool</th><th>bytes17</th><th>bool</th><th>bytes51</th><th>float64</th><th>float64</th><th>float64</th><th>float64</th><th>float64</th><th>float64</th><th>float64</th><th>bytes7</th><th>int32</th><th>float64</th><th>float64</th><th>float32</th><th>float32</th><th>float32</th><th>float32</th><th>float32</th><th>float32</th><th>float32</th><th>float32</th><th>float32</th><th>float32</th><th>float32</th><th>float32</th><th>float32</th><th>float32</th><th>float32</th><th>float32</th><th>float32</th><th>float32</th><th>float64</th><th>float32</th><th>float64</th><th>float32</th><th>float64</th><th>float32</th><th>float32</th><th>float32</th><th>float32</th><th>float32</th><th>float32</th><th>bool</th><th>bool</th><th>bool</th><th>bool</th><th>bool</th><th>bool</th><th>bytes32</th><th>float64</th><th>float64[7]</th><th>float64[7]</th><th>float64[7]</th><th>float64[7]</th><th>float64</th><th>float64[2]</th><th>float64[7]</th><th>float64[7]</th><th>float64[7]</th><th>float64[7]</th><th>float64[7]</th></tr></thead>\n",
       "<tr><td>7230.0</td><td>7230.0</td><td>7230_1</td><td>15.033697624210424</td><td>28.07535750430549</td><td>6.8330530555642355</td><td>3.5</td><td>1.0</td><td>1.0</td><td>--</td><td>False</td><td>--</td><td>False</td><td>--</td><td>6.83000294230172</td><td>0.3580956072666397</td><td>0.33867824200135566</td><td>0.8451903522185167</td><td>0.08303257058802076</td><td>0.06707470128295491</td><td>0.11857032306969274</td><td>7230_1</td><td>6951</td><td>15.033697624210424</td><td>28.07535750430549</td><td>2612.9512</td><td>3231.6995</td><td>2.105536</td><td>1.6702152</td><td>-85.156746</td><td>1.2606375</td><td>0.20675057</td><td>0.0018020408</td><td>0.00032154183</td><td>0.0016363012</td><td>-0.6571506</td><td>27.516563</td><td>27.502377</td><td>27.614328</td><td>98.34285</td><td>98.34285</td><td>98.34285</td><td>35.75812</td><td>4.193910021748695</td><td>36.228466</td><td>4.1916092871919055</td><td>32.679024</td><td>7.0266507714220126</td><td>-99.0</td><td>-99.0</td><td>-99.0</td><td>-99.0</td><td>-99.0</td><td>-99.0</td><td>False</td><td>True</td><td>False</td><td>False</td><td>False</td><td>False</td><td>--</td><td>1.0</td><td>17.099330700381195 .. 165.3064949829252</td><td>305.2722984256641 .. 971.5413745311205</td><td>7.828921928843347 .. 7.837101811432505</td><td>0.876832946514732 .. 2.665819199713174</td><td>-19.289986536107225</td><td>102.69935464328914 .. 23.813169557853712</td><td>0.1664989109208443 .. 1.6096157133323046</td><td>6.81435782738118 .. 6.844597170680678</td><td>302.9125292957645 .. 999.5715586386019</td><td>0.10967999318483616 .. 1.3805683219446345</td><td>-46316.11581229538 .. 32953.528967775965</td></tr>\n",
       "<tr><td>9970.0</td><td>9970.0</td><td>9970_3</td><td>15.061164993060032</td><td>28.033206983705938</td><td>6.325641670505484</td><td>7.5</td><td>1.0</td><td>1.0</td><td>--</td><td>False</td><td>--</td><td>False</td><td>--</td><td>6.324439640451962</td><td>0.7334724017741601</td><td>1.4556714193569409</td><td>3.533152625346686</td><td>0.12289573304414254</td><td>0.13446685941847056</td><td>0.21181664621951576</td><td>9970_3</td><td>7989</td><td>15.061164993060032</td><td>28.033206983705938</td><td>8438.431</td><td>3561.7307</td><td>3.1424482</td><td>2.107724</td><td>42.44622</td><td>1.4909202</td><td>0.32927328</td><td>0.00230404</td><td>0.00056684494</td><td>-0.00021081888</td><td>-0.51778257</td><td>26.688564</td><td>27.260859</td><td>27.602295</td><td>27.924433</td><td>28.964605</td><td>28.289377</td><td>76.661</td><td>4.368475813483983</td><td>45.25398</td><td>4.7174667692793495</td><td>33.043224</td><td>7.391764443553072</td><td>24.559938</td><td>19.342379</td><td>9.422321</td><td>14.44464</td><td>17.548853</td><td>9.321066</td><td>True</td><td>True</td><td>False</td><td>False</td><td>False</td><td>True</td><td>3b_2106,4b_723,</td><td>3.0</td><td>-16.838064951002238 .. 23.708652455071892</td><td>302.7688615709633 .. 993.9662652794626</td><td>7.3099788622810395 .. 7.338871068481186</td><td>-1.6545855743872198 .. 2.126863315112348</td><td>-19.149953355206428</td><td>217.30522498811968 .. 36.410211010857054</td><td>-0.07748578043589516 .. 0.1091030022695868</td><td>6.31659059552933 .. 6.335126321593368</td><td>304.27241074242033 .. 997.4060384592358</td><td>0.2514268331108947 .. 2.1971930641233266</td><td>3.134862184507709 .. 34.087270618065816</td></tr>\n",
       "<tr><td>10287.0</td><td>10287.0</td><td>10287_2</td><td>15.03756850963396</td><td>28.011260915386156</td><td>6.770385096803718</td><td>7.0</td><td>1.0</td><td>1.0</td><td>--</td><td>False</td><td>--</td><td>False</td><td>--</td><td>6.769629645807889</td><td>0.8626619191980156</td><td>2.8105595372797887</td><td>5.681304048153379</td><td>0.2519418224717149</td><td>0.4283884085339823</td><td>0.5177531077029968</td><td>10287_2</td><td>17092</td><td>15.03756850963396</td><td>28.011260915386156</td><td>9276.824</td><td>7094.5293</td><td>2.3043547</td><td>2.0956156</td><td>27.337143</td><td>1.0996075</td><td>0.090584576</td><td>0.0018249748</td><td>0.0009586867</td><td>0.0003301064</td><td>-0.42320287</td><td>26.615221</td><td>27.284912</td><td>27.192863</td><td>28.636532</td><td>98.5768</td><td>29.19872</td><td>82.01853</td><td>4.0068346751732715</td><td>44.262493</td><td>4.393121031086886</td><td>48.17868</td><td>9.139473796957189</td><td>12.746399</td><td>11.01746</td><td>-5.6016707</td><td>8.178412</td><td>7.594722</td><td>5.468461</td><td>False</td><td>True</td><td>False</td><td>False</td><td>False</td><td>True</td><td>1b_2576,4b_2742,</td><td>2.0</td><td>79.64873274517761 .. 340.3696435488925</td><td>300.63370574076026 .. 501.64551246162404</td><td>7.774840092233195 .. 7.778854341426231</td><td>14.347281124530255 .. 59.218457654338465</td><td>-19.688694399569485</td><td>156.12247162062357 .. 45.59582282878053</td><td>0.5101682795460952 .. 2.1801451131006186</td><td>6.7664398735422155 .. 6.780237629470421</td><td>596.9061882624103 .. 999.5602992855879</td><td>0.6992447168300867 .. 2.134068393686429</td><td>6.903705520414742 .. 22.84935363305002</td></tr>\n",
       "<tr><td>16759.0</td><td>16759.0</td><td>16759_1</td><td>15.041281550475585</td><td>28.044663585118947</td><td>6.376725451812845</td><td>8.5</td><td>2.0</td><td>2.0</td><td>--</td><td>False</td><td>--</td><td>False</td><td>--</td><td>6.378465358589507</td><td>1.5960395425375593</td><td>4.489146132478073</td><td>12.173530849605804</td><td>0.7629230480594963</td><td>0.3347533772122959</td><td>0.5584565258315973</td><td>16759_1</td><td>10989</td><td>15.041281550475585</td><td>28.044663585118947</td><td>6135.908</td><td>4573.4233</td><td>4.5717115</td><td>3.7808442</td><td>-86.50589</td><td>1.2091775</td><td>0.17299151</td><td>0.003044992</td><td>0.009560979</td><td>-0.00019817351</td><td>-0.48056257</td><td>26.107313</td><td>26.752636</td><td>26.553905</td><td>26.944202</td><td>28.146051</td><td>29.375065</td><td>130.94075</td><td>3.863302590409654</td><td>72.26795</td><td>3.5179294349523853</td><td>86.783646</td><td>6.084923595894503</td><td>60.57853</td><td>19.27541</td><td>20.025331</td><td>14.40023</td><td>6.456158</td><td>9.271037</td><td>True</td><td>True</td><td>False</td><td>False</td><td>False</td><td>True</td><td>1a_1266,2a_2601,3b_2871,4b_1313,</td><td>3.0</td><td>13.864423331597214 .. 34.89335746957643</td><td>375.6658994037271 .. 822.2497354450326</td><td>7.377887350938841 .. 7.381894906470324</td><td>4.441981755937263 .. 8.611750518175276</td><td>-20.24886693845097</td><td>144.62035466925587 .. 69.12999261928852</td><td>0.09586771767573726 .. 0.2412755628305359</td><td>6.364940160974449 .. 6.393190706162338</td><td>312.50543270002953 .. 999.654651386628</td><td>-0.33883517909270033 .. 1.6394975896300223</td><td>-2.039324064456964 .. 12.012548161046608</td></tr>\n",
       "<tr><td>17492.0</td><td>17492.0</td><td>17492_1</td><td>15.029261552780975</td><td>28.065109192767657</td><td>6.731724184247106</td><td>7.0</td><td>1.0</td><td>1.0</td><td>--</td><td>False</td><td>--</td><td>False</td><td>--</td><td>6.727733323610757</td><td>0.36271583635967275</td><td>1.0109700476208072</td><td>1.6095704545596279</td><td>0.1038992189830268</td><td>0.1048911148742519</td><td>0.14268093198089105</td><td>17492_1</td><td>10256</td><td>15.029261552780975</td><td>28.065109192767657</td><td>3385.6897</td><td>4297.4883</td><td>2.9860792</td><td>2.2749627</td><td>-34.99638</td><td>1.3125838</td><td>0.23814392</td><td>0.0025653604</td><td>0.01089811</td><td>0.0003360098</td><td>-0.3250717</td><td>27.477715</td><td>27.966146</td><td>27.667862</td><td>98.67493</td><td>98.67493</td><td>98.67493</td><td>37.060753</td><td>2.877789703047733</td><td>23.634243</td><td>2.3545430226341386</td><td>31.106808</td><td>4.024447841018307</td><td>-99.0</td><td>-99.0</td><td>-99.0</td><td>-99.0</td><td>-99.0</td><td>-99.0</td><td>False</td><td>True</td><td>False</td><td>False</td><td>False</td><td>True</td><td>3a_2835,</td><td>2.0</td><td>21.452409311781704 .. 89.70360578647737</td><td>300.32560731546374 .. 926.2808150180615</td><td>7.731185196813408 .. 7.736591780399056</td><td>1.7332939465297628 .. 4.5726012822687165</td><td>-19.198939505522258</td><td>94.39960722169384 .. 27.0405768909211</td><td>0.22725104418497788 .. 0.9502540151021169</td><td>6.712901526532084 .. 6.742879033168435</td><td>302.16238122708023 .. 998.1908018883811</td><td>-0.10766283532108167 .. 1.2338559517430892</td><td>-2.239046211797947 .. 22.306403690190884</td></tr>\n",
       "</table></div>"
      ],
      "text/plain": [
       "<Table length=5>\n",
       "NUMBERv4  NUMBER ...              ewcivquantile              \n",
       "                 ...                                         \n",
       "float64  float64 ...                float64[7]               \n",
       "-------- ------- ... ----------------------------------------\n",
       "  7230.0  7230.0 ... -46316.11581229538 .. 32953.528967775965\n",
       "  9970.0  9970.0 ...  3.134862184507709 .. 34.087270618065816\n",
       " 10287.0 10287.0 ...   6.903705520414742 .. 22.84935363305002\n",
       " 16759.0 16759.0 ... -2.039324064456964 .. 12.012548161046608\n",
       " 17492.0 17492.0 ... -2.239046211797947 .. 22.306403690190884"
      ]
     },
     "execution_count": 56,
     "metadata": {},
     "output_type": "execute_result"
    }
   ],
   "source": [
    "lyainfo[(lyainfo['fcivquantile'][:,1]>0)&(lyainfo['ewcivquantile'][:,3]>0)]"
   ]
  },
  {
   "cell_type": "code",
   "execution_count": 44,
   "id": "4fd7388d-cba3-4d8e-9574-73a6ba0ada47",
   "metadata": {},
   "outputs": [
    {
     "name": "stdout",
     "output_type": "stream",
     "text": [
      "../../data/civ_saves/J0100/bilby_fit_civ_msaexp_pypeit_v2/4713_1228_result.json\n",
      "../../data/civ_saves/J0100/bilby_fit_civ_msaexp_pypeit_v2/4713_2007_result.json\n",
      "../../data/civ_saves/J0100/bilby_fit_civ_msaexp_pypeit_v2/4713_2084_result.json\n",
      "../../data/civ_saves/J0100/bilby_fit_civ_msaexp_pypeit_v2/4713_2159_result.json\n",
      "../../data/civ_saves/J0100/bilby_fit_civ_msaexp_pypeit_v2/4713_2355_result.json\n",
      "../../data/civ_saves/J0100/bilby_fit_civ_msaexp_pypeit_v2/4713_30_result.json\n",
      "../../data/civ_saves/J0100/bilby_fit_civ_msaexp_pypeit_v2/4713_3783_result.json\n",
      "../../data/civ_saves/J0100/bilby_fit_civ_msaexp_pypeit_v2/4713_4184_result.json\n",
      "../../data/civ_saves/J0100/bilby_fit_civ_msaexp_pypeit_v2/4713_4222_result.json\n",
      "../../data/civ_saves/J0100/bilby_fit_civ_msaexp_pypeit_v2/4713_452_result.json\n",
      "../../data/civ_saves/J0100/bilby_fit_civ_msaexp_pypeit_v2/4713_5378_result.json\n",
      "../../data/civ_saves/J0100/bilby_fit_civ_msaexp_pypeit_v2/4713_812_result.json\n"
     ]
    }
   ],
   "source": [
    "ls ../../data/civ_saves/J0100/bilby_fit_civ_msaexp_pypeit_v2/*.json"
   ]
  },
  {
   "cell_type": "code",
   "execution_count": 57,
   "id": "148e78a2-0990-4ffa-ac6b-8d682b7a972b",
   "metadata": {},
   "outputs": [],
   "source": [
    "lyainfo.write('../../data/lineinfo_J0100_msaexp_pypeit.fits', overwrite=True)"
   ]
  },
  {
   "cell_type": "markdown",
   "id": "579e6c32-f861-4bb7-b5d6-110934d6b692",
   "metadata": {},
   "source": [
    "# Read the CIV lines"
   ]
  },
  {
   "cell_type": "code",
   "execution_count": 2,
   "id": "33b982e9-b60a-444a-8a41-5a2d917228c6",
   "metadata": {},
   "outputs": [],
   "source": [
    "lyacivinfo = Table.read('../../data/lineinfo_J0100_msaexp_pypeit.fits')"
   ]
  },
  {
   "cell_type": "code",
   "execution_count": 8,
   "id": "bfdcec10-604d-4883-89b0-b4ced031fa7c",
   "metadata": {},
   "outputs": [
    {
     "data": {
      "text/html": [
       "<div><i>Table length=3</i>\n",
       "<table id=\"table6119188448\" class=\"table-striped table-bordered table-condensed\">\n",
       "<thead><tr><th>NUMBERv4</th><th>NUMBER</th><th>ID_1</th><th>RA</th><th>DEC</th><th>zguess</th><th>DK_JM_ave_score</th><th>Nclumps_Y</th><th>Nclumps_spec</th><th>Module_ignore</th><th>REDO_1D</th><th>comments_fitting</th><th>MANUAL_CHANGE_zspec</th><th>comments_zspec</th><th>z_O3doublet_combined_n</th><th>f_Hb</th><th>f_O3_4960</th><th>f_O3_5008</th><th>f_Hb_err</th><th>f_O3_4960_err</th><th>f_O3_5008_err</th><th>id_1a</th><th>ID_PARENT_det</th><th>ALPHA_J2000_det</th><th>DELTA_J2000_det</th><th>X_IMAGE_det</th><th>Y_IMAGE_det</th><th>A_IMAGE_det</th><th>B_IMAGE_det</th><th>THETA_IMAGE_det</th><th>ELONGATION_det</th><th>ELLIPTICITY_det</th><th>FWHM_WORLD_det</th><th>CLASS_STAR_det</th><th>BACKGROUND_det</th><th>ap_corr</th><th>MAG_AUTO_F356W_apcor</th><th>MAG_AUTO_F200W_apcor</th><th>MAG_AUTO_F115W_apcor</th><th>MAG_AUTO_F850LP_apcor</th><th>MAG_AUTO_F775W_apcor</th><th>MAG_AUTO_F606W_apcor</th><th>fnu_F356W_AUTO_apcor</th><th>enu_F356W_aper_model</th><th>fnu_F200W_AUTO_apcor</th><th>enu_F200W_aper_model</th><th>fnu_F115W_AUTO_apcor</th><th>enu_F115W_aper_model</th><th>fnu_F850LP_AUTO_apcor</th><th>enu_F850LP_aper_model</th><th>fnu_F775W_AUTO_apcor</th><th>enu_F775W_aper_model</th><th>fnu_F606W_AUTO_apcor</th><th>enu_F606W_aper_model</th><th>good_mag</th><th>good_nrc</th><th>CHECK_PHOTOMETRY</th><th>BACKWARD_ONLY</th><th>CATALOG_MISSED</th><th>BACKWARD</th><th>BACKWARD_INFO</th><th>CONFID</th><th>EWquantile</th><th>FWHMquantile</th><th>zlyaquantile</th><th>fluxquantile</th><th>Muv</th><th>EWfromHb</th><th>fesc</th><th>zcivquantile</th><th>fwhmcivquantile</th><th>fcivquantile</th><th>ewcivquantile</th></tr></thead>\n",
       "<thead><tr><th></th><th></th><th></th><th></th><th></th><th></th><th></th><th></th><th></th><th></th><th></th><th></th><th></th><th></th><th></th><th></th><th></th><th></th><th></th><th></th><th></th><th></th><th></th><th>deg</th><th>deg</th><th>pix</th><th>pix</th><th>pix</th><th>pix</th><th>deg</th><th></th><th></th><th>deg</th><th></th><th>ct</th><th>mag</th><th>mag</th><th>mag</th><th>mag</th><th>mag</th><th>mag</th><th>mag</th><th>ct</th><th>ct</th><th>ct</th><th>ct</th><th>ct</th><th>ct</th><th>ct</th><th>ct</th><th>ct</th><th>ct</th><th>ct</th><th>ct</th><th></th><th></th><th></th><th></th><th></th><th></th><th></th><th></th><th></th><th></th><th></th><th></th><th></th><th></th><th></th><th></th><th></th><th></th><th></th></tr></thead>\n",
       "<thead><tr><th>float64</th><th>float64</th><th>bytes7</th><th>float64</th><th>float64</th><th>float64</th><th>float64</th><th>float64</th><th>float64</th><th>bytes5</th><th>bool</th><th>bytes17</th><th>bool</th><th>bytes51</th><th>float64</th><th>float64</th><th>float64</th><th>float64</th><th>float64</th><th>float64</th><th>float64</th><th>bytes7</th><th>int32</th><th>float64</th><th>float64</th><th>float32</th><th>float32</th><th>float32</th><th>float32</th><th>float32</th><th>float32</th><th>float32</th><th>float32</th><th>float32</th><th>float32</th><th>float32</th><th>float32</th><th>float32</th><th>float32</th><th>float32</th><th>float32</th><th>float32</th><th>float32</th><th>float64</th><th>float32</th><th>float64</th><th>float32</th><th>float64</th><th>float32</th><th>float32</th><th>float32</th><th>float32</th><th>float32</th><th>float32</th><th>bool</th><th>bool</th><th>bool</th><th>bool</th><th>bool</th><th>bool</th><th>bytes32</th><th>float64</th><th>float64[7]</th><th>float64[7]</th><th>float64[7]</th><th>float64[7]</th><th>float64</th><th>float64[2]</th><th>float64[7]</th><th>float64[7]</th><th>float64[7]</th><th>float64[7]</th><th>float64[7]</th></tr></thead>\n",
       "<tr><td>7230.0</td><td>7230.0</td><td>7230_1</td><td>15.033697624210424</td><td>28.07535750430549</td><td>6.8330530555642355</td><td>3.5</td><td>1.0</td><td>1.0</td><td>--</td><td>False</td><td>--</td><td>False</td><td>--</td><td>6.83000294230172</td><td>0.3580956072666397</td><td>0.33867824200135566</td><td>0.8451903522185167</td><td>0.08303257058802076</td><td>0.06707470128295491</td><td>0.11857032306969274</td><td>7230_1</td><td>6951</td><td>15.033697624210424</td><td>28.07535750430549</td><td>2612.9512</td><td>3231.6995</td><td>2.105536</td><td>1.6702152</td><td>-85.156746</td><td>1.2606375</td><td>0.20675057</td><td>0.0018020408</td><td>0.00032154183</td><td>0.0016363012</td><td>-0.6571506</td><td>27.516563</td><td>27.502377</td><td>27.614328</td><td>98.34285</td><td>98.34285</td><td>98.34285</td><td>35.75812</td><td>4.193910021748695</td><td>36.228466</td><td>4.1916092871919055</td><td>32.679024</td><td>7.0266507714220126</td><td>-99.0</td><td>-99.0</td><td>-99.0</td><td>-99.0</td><td>-99.0</td><td>-99.0</td><td>False</td><td>True</td><td>False</td><td>False</td><td>False</td><td>False</td><td>--</td><td>1.0</td><td>17.099330700381195 .. 165.3064949829252</td><td>305.2722984256641 .. 971.5413745311205</td><td>7.828921928843347 .. 7.837101811432505</td><td>0.876832946514732 .. 2.665819199713174</td><td>-19.289986536107225</td><td>102.69935464328914 .. 23.813169557853712</td><td>0.1664989109208443 .. 1.6096157133323046</td><td>6.81435782738118 .. 6.844597170680678</td><td>302.9125292957645 .. 999.5715586386019</td><td>0.10967999318483616 .. 1.3805683219446345</td><td>-46316.11581229538 .. 32953.528967775965</td></tr>\n",
       "<tr><td>9970.0</td><td>9970.0</td><td>9970_3</td><td>15.061164993060032</td><td>28.033206983705938</td><td>6.325641670505484</td><td>7.5</td><td>1.0</td><td>1.0</td><td>--</td><td>False</td><td>--</td><td>False</td><td>--</td><td>6.324439640451962</td><td>0.7334724017741601</td><td>1.4556714193569409</td><td>3.533152625346686</td><td>0.12289573304414254</td><td>0.13446685941847056</td><td>0.21181664621951576</td><td>9970_3</td><td>7989</td><td>15.061164993060032</td><td>28.033206983705938</td><td>8438.431</td><td>3561.7307</td><td>3.1424482</td><td>2.107724</td><td>42.44622</td><td>1.4909202</td><td>0.32927328</td><td>0.00230404</td><td>0.00056684494</td><td>-0.00021081888</td><td>-0.51778257</td><td>26.688564</td><td>27.260859</td><td>27.602295</td><td>27.924433</td><td>28.964605</td><td>28.289377</td><td>76.661</td><td>4.368475813483983</td><td>45.25398</td><td>4.7174667692793495</td><td>33.043224</td><td>7.391764443553072</td><td>24.559938</td><td>19.342379</td><td>9.422321</td><td>14.44464</td><td>17.548853</td><td>9.321066</td><td>True</td><td>True</td><td>False</td><td>False</td><td>False</td><td>True</td><td>3b_2106,4b_723,</td><td>3.0</td><td>-16.838064951002238 .. 23.708652455071892</td><td>302.7688615709633 .. 993.9662652794626</td><td>7.3099788622810395 .. 7.338871068481186</td><td>-1.6545855743872198 .. 2.126863315112348</td><td>-19.149953355206428</td><td>217.30522498811968 .. 36.410211010857054</td><td>-0.07748578043589516 .. 0.1091030022695868</td><td>6.31659059552933 .. 6.335126321593368</td><td>304.27241074242033 .. 997.4060384592358</td><td>0.2514268331108947 .. 2.1971930641233266</td><td>3.134862184507709 .. 34.087270618065816</td></tr>\n",
       "<tr><td>10287.0</td><td>10287.0</td><td>10287_2</td><td>15.03756850963396</td><td>28.011260915386156</td><td>6.770385096803718</td><td>7.0</td><td>1.0</td><td>1.0</td><td>--</td><td>False</td><td>--</td><td>False</td><td>--</td><td>6.769629645807889</td><td>0.8626619191980156</td><td>2.8105595372797887</td><td>5.681304048153379</td><td>0.2519418224717149</td><td>0.4283884085339823</td><td>0.5177531077029968</td><td>10287_2</td><td>17092</td><td>15.03756850963396</td><td>28.011260915386156</td><td>9276.824</td><td>7094.5293</td><td>2.3043547</td><td>2.0956156</td><td>27.337143</td><td>1.0996075</td><td>0.090584576</td><td>0.0018249748</td><td>0.0009586867</td><td>0.0003301064</td><td>-0.42320287</td><td>26.615221</td><td>27.284912</td><td>27.192863</td><td>28.636532</td><td>98.5768</td><td>29.19872</td><td>82.01853</td><td>4.0068346751732715</td><td>44.262493</td><td>4.393121031086886</td><td>48.17868</td><td>9.139473796957189</td><td>12.746399</td><td>11.01746</td><td>-5.6016707</td><td>8.178412</td><td>7.594722</td><td>5.468461</td><td>False</td><td>True</td><td>False</td><td>False</td><td>False</td><td>True</td><td>1b_2576,4b_2742,</td><td>2.0</td><td>79.64873274517761 .. 340.3696435488925</td><td>300.63370574076026 .. 501.64551246162404</td><td>7.774840092233195 .. 7.778854341426231</td><td>14.347281124530255 .. 59.218457654338465</td><td>-19.688694399569485</td><td>156.12247162062357 .. 45.59582282878053</td><td>0.5101682795460952 .. 2.1801451131006186</td><td>6.7664398735422155 .. 6.780237629470421</td><td>596.9061882624103 .. 999.5602992855879</td><td>0.6992447168300867 .. 2.134068393686429</td><td>6.903705520414742 .. 22.84935363305002</td></tr>\n",
       "</table></div>"
      ],
      "text/plain": [
       "<Table length=3>\n",
       "NUMBERv4  NUMBER ...              ewcivquantile              \n",
       "                 ...                                         \n",
       "float64  float64 ...                float64[7]               \n",
       "-------- ------- ... ----------------------------------------\n",
       "  7230.0  7230.0 ... -46316.11581229538 .. 32953.528967775965\n",
       "  9970.0  9970.0 ...  3.134862184507709 .. 34.087270618065816\n",
       " 10287.0 10287.0 ...   6.903705520414742 .. 22.84935363305002"
      ]
     },
     "execution_count": 8,
     "metadata": {},
     "output_type": "execute_result"
    }
   ],
   "source": [
    "lyacivinfo[(lyacivinfo['fcivquantile'][:,0]>0)&(lyacivinfo['ewcivquantile'][:,3]>10)]"
   ]
  },
  {
   "cell_type": "code",
   "execution_count": 16,
   "id": "ed746988-b673-4071-abbb-b3e4e75fbd8b",
   "metadata": {},
   "outputs": [
    {
     "data": {
      "text/html": [
       "&lt;Column name=&apos;ewcivquantile&apos; dtype=&apos;float64&apos; length=3&gt;\n",
       "<table>\n",
       "<tr><td>46.012669266863426</td></tr>\n",
       "<tr><td>14.493400051503457</td></tr>\n",
       "<tr><td>14.02679015701301</td></tr>\n",
       "</table>"
      ],
      "text/plain": [
       "<Column name='ewcivquantile' dtype='float64' length=3>\n",
       "46.012669266863426\n",
       "14.493400051503457\n",
       " 14.02679015701301"
      ]
     },
     "execution_count": 16,
     "metadata": {},
     "output_type": "execute_result"
    }
   ],
   "source": [
    "lyacivinfo['ewcivquantile'][:,3][(lyacivinfo['fcivquantile'][:,0]>0)&(lyacivinfo['ewcivquantile'][:,3]>10)]"
   ]
  },
  {
   "cell_type": "code",
   "execution_count": 17,
   "id": "ee031d98-d473-4632-be0d-de570a27eda7",
   "metadata": {},
   "outputs": [
    {
     "data": {
      "text/plain": [
       "'0.9.5.dev8+ge2b237b'"
      ]
     },
     "execution_count": 17,
     "metadata": {},
     "output_type": "execute_result"
    }
   ],
   "source": [
    "# check versions\n",
    "import msaexp\n",
    "msaexp.__version__"
   ]
  },
  {
   "cell_type": "code",
   "execution_count": 18,
   "id": "8edac392-758e-40ef-a180-abdf825ad32f",
   "metadata": {},
   "outputs": [
    {
     "data": {
      "text/plain": [
       "'1.17.1'"
      ]
     },
     "execution_count": 18,
     "metadata": {},
     "output_type": "execute_result"
    }
   ],
   "source": [
    "\n",
    "import pypeit\n",
    "pypeit.__version__"
   ]
  },
  {
   "cell_type": "code",
   "execution_count": 19,
   "id": "1fb276c7-421d-44ef-b449-2231e8a9c015",
   "metadata": {},
   "outputs": [],
   "source": [
    "import jwst\n"
   ]
  },
  {
   "cell_type": "code",
   "execution_count": 24,
   "id": "880d8e76-6c2f-418f-a659-8a7689964117",
   "metadata": {},
   "outputs": [
    {
     "ename": "KeyError",
     "evalue": "'CRDS_CONTEXT'",
     "output_type": "error",
     "traceback": [
      "\u001b[0;31m---------------------------------------------------------------------------\u001b[0m",
      "\u001b[0;31mKeyError\u001b[0m                                  Traceback (most recent call last)",
      "Cell \u001b[0;32mIn[24], line 1\u001b[0m\n\u001b[0;32m----> 1\u001b[0m \u001b[43mos\u001b[49m\u001b[38;5;241;43m.\u001b[39;49m\u001b[43menviron\u001b[49m\u001b[43m[\u001b[49m\u001b[38;5;124;43m'\u001b[39;49m\u001b[38;5;124;43mCRDS_CONTEXT\u001b[39;49m\u001b[38;5;124;43m'\u001b[39;49m\u001b[43m]\u001b[49m\n",
      "File \u001b[0;32m<frozen os>:714\u001b[0m, in \u001b[0;36m__getitem__\u001b[0;34m(self, key)\u001b[0m\n",
      "\u001b[0;31mKeyError\u001b[0m: 'CRDS_CONTEXT'"
     ]
    }
   ],
   "source": [
    "os.environ['CRDS_CONTEXT']"
   ]
  },
  {
   "cell_type": "code",
   "execution_count": null,
   "id": "cd893e11-da67-46ff-b1ef-74cba96f11a5",
   "metadata": {},
   "outputs": [],
   "source": []
  }
 ],
 "metadata": {
  "kernelspec": {
   "display_name": "Python 3 (ipykernel)",
   "language": "python",
   "name": "python3"
  },
  "language_info": {
   "codemirror_mode": {
    "name": "ipython",
    "version": 3
   },
   "file_extension": ".py",
   "mimetype": "text/x-python",
   "name": "python",
   "nbconvert_exporter": "python",
   "pygments_lexer": "ipython3",
   "version": "3.12.9"
  }
 },
 "nbformat": 4,
 "nbformat_minor": 5
}
