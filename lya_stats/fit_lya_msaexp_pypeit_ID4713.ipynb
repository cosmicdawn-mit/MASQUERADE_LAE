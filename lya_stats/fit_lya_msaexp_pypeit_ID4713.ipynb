{
 "cells": [
  {
   "cell_type": "code",
   "execution_count": 69,
   "id": "e67b4304-726d-47a6-ba9f-74cde0036b29",
   "metadata": {},
   "outputs": [],
   "source": [
    "import os, sys\n",
    "sys.path.append('/Users/myue/Research/Projects/JWST/dependencies/msa_spec_utils/')\n",
    "\n",
    "import LAE_spec_utils as LAE\n",
    "\n",
    "import numpy as np\n",
    "from astropy.io import fits\n",
    "\n",
    "import matplotlib.pyplot as plt\n",
    "from astropy.table import Table, vstack, hstack\n",
    "from astropy import units\n",
    "\n",
    "import bilby\n",
    "from dynesty import utils as dyfunc\n",
    "\n",
    "#from mylib.spectrum.spec_measurement import Spectrum, read_filter, instru_filter_dict\n"
   ]
  },
  {
   "cell_type": "code",
   "execution_count": 70,
   "id": "781c89a0-ba61-4788-b592-8eab84ddaf75",
   "metadata": {},
   "outputs": [],
   "source": [
    "from astropy.cosmology import FlatLambdaCDM\n",
    "cosmo = FlatLambdaCDM(H0=70, Om0=0.3)\n",
    "RAq, Decq = 15.0542500, 28.0405000\n"
   ]
  },
  {
   "cell_type": "code",
   "execution_count": 71,
   "id": "9ebe6af2-62ca-424d-b040-6ba0a655b759",
   "metadata": {},
   "outputs": [],
   "source": [
    "allinfo = Table.read('../../J0100_photcat_v4_O3CANDIDATES_all_CLUMPS.fits')"
   ]
  },
  {
   "cell_type": "code",
   "execution_count": 72,
   "id": "d4ab6375-ff10-4826-8fa4-b419c7371419",
   "metadata": {},
   "outputs": [],
   "source": [
    "if not os.path.isdir('../../data/lya_saves/J0100/plotfit_msaexp_pypeit/'):\n",
    "    os.system('mkdir -p ../../data/lya_saves/J0100/plotfit_msaexp_pypeit/corner/')\n",
    "    os.system('mkdir -p ../../data/lya_saves/J0100/plotfit_msaexp_pypeit/bestfit/')"
   ]
  },
  {
   "cell_type": "markdown",
   "id": "5976f40b-57e2-4733-afa0-1c353d2a98f7",
   "metadata": {},
   "source": [
    "# Fit MSAExp+PypeIt spectra"
   ]
  },
  {
   "cell_type": "code",
   "execution_count": 5,
   "id": "c0ca8bdb-e9c9-448e-b212-dfef64366d17",
   "metadata": {
    "scrolled": true
   },
   "outputs": [
    {
     "name": "stderr",
     "output_type": "stream",
     "text": [
      "/Users/myue/Research/Projects/JWST/dependencies/msa_spec_utils/LAE_spec_utils.py:465: RuntimeWarning: divide by zero encountered in power\n",
      "  self.err_fnu = (self.ivar_fnu)**-0.5\n",
      "/Users/myue/Research/Projects/JWST/dependencies/msa_spec_utils/LAE_spec_utils.py:471: RuntimeWarning: invalid value encountered in divide\n",
      "  self.flam = self.fnu * speed_of_light_angstrom / (self.wave)**2 * 1e-29 * 1e18\n",
      "/Users/myue/Research/Projects/JWST/dependencies/msa_spec_utils/LAE_spec_utils.py:472: RuntimeWarning: divide by zero encountered in divide\n",
      "  self.err_flam = self.err_fnu * (speed_of_light_angstrom / (self.wave)**2 * 1e-29 * 1e18)\n",
      "11:14 bilby INFO    : Running for label '4713_30', output will be saved to '../../data/lya_saves/J0100/bilby_fit_lya_msaexp_pypeit_v2/'\n",
      "11:14 bilby INFO    : Search parameters:\n",
      "11:14 bilby INFO    :   center = Uniform(minimum=8424.204044578446, maximum=8457.968389446496, name='center', latex_label='center', unit=None, boundary=None)\n",
      "11:14 bilby INFO    :   fwhm = Uniform(minimum=300, maximum=1000, name='fwhm', latex_label='fwhm', unit=None, boundary=None)\n",
      "11:14 bilby INFO    :   flux = Uniform(minimum=-20.090133927726754, maximum=20.090133927726754, name='flux', latex_label='flux', unit=None, boundary=None)\n",
      "11:14 bilby INFO    :   A = Uniform(minimum=-0.1341642241126139, maximum=0.2683284482252278, name='A', latex_label='A', unit=None, boundary=None)\n",
      "11:14 bilby INFO    :   beta = Uniform(minimum=-4, maximum=0, name='beta', latex_label='beta', unit=None, boundary=None)\n",
      "11:14 bilby INFO    :   wave0 = 8441.086217012471\n",
      "11:14 bilby INFO    : Single likelihood evaluation took 9.686e-05 s\n"
     ]
    },
    {
     "data": {
      "application/vnd.jupyter.widget-view+json": {
       "model_id": "f7cd1c6968bf4836bd410a2cd7e4ff46",
       "version_major": 2,
       "version_minor": 0
      },
      "text/plain": [
       "0it [00:00, ?it/s]"
      ]
     },
     "metadata": {},
     "output_type": "display_data"
    },
    {
     "name": "stderr",
     "output_type": "stream",
     "text": [
      "11:14 bilby INFO    : Checkpoint every check_point_delta_t = 600s\n",
      "11:14 bilby WARNING : Using cached result\n",
      "11:14 bilby INFO    : Summary of results:\n",
      "nsamples: 2741\n",
      "ln_noise_evidence:    nan\n",
      "ln_evidence: 341.450 +/-  0.278\n",
      "ln_bayes_factor:    nan +/-  0.278\n",
      "\n",
      "/Users/myue/Research/Projects/JWST/dependencies/msa_spec_utils/LAE_spec_utils.py:465: RuntimeWarning: divide by zero encountered in power\n",
      "  self.err_fnu = (self.ivar_fnu)**-0.5\n",
      "/Users/myue/Research/Projects/JWST/dependencies/msa_spec_utils/LAE_spec_utils.py:471: RuntimeWarning: invalid value encountered in divide\n",
      "  self.flam = self.fnu * speed_of_light_angstrom / (self.wave)**2 * 1e-29 * 1e18\n",
      "/Users/myue/Research/Projects/JWST/dependencies/msa_spec_utils/LAE_spec_utils.py:472: RuntimeWarning: divide by zero encountered in divide\n",
      "  self.err_flam = self.err_fnu * (speed_of_light_angstrom / (self.wave)**2 * 1e-29 * 1e18)\n",
      "11:14 bilby INFO    : Running for label '4713_1228', output will be saved to '../../data/lya_saves/J0100/bilby_fit_lya_msaexp_pypeit_v2/'\n",
      "11:14 bilby INFO    : Search parameters:\n",
      "11:14 bilby INFO    :   center = Uniform(minimum=8896.441449591633, maximum=8932.098529549918, name='center', latex_label='center', unit=None, boundary=None)\n",
      "11:14 bilby INFO    :   fwhm = Uniform(minimum=300, maximum=1000, name='fwhm', latex_label='fwhm', unit=None, boundary=None)\n",
      "11:14 bilby INFO    :   flux = Uniform(minimum=-26.50447361791777, maximum=26.50447361791777, name='flux', latex_label='flux', unit=None, boundary=None)\n",
      "11:14 bilby INFO    :   A = Uniform(minimum=-0.16760448178861417, maximum=0.33520896357722835, name='A', latex_label='A', unit=None, boundary=None)\n",
      "11:14 bilby INFO    :   beta = Uniform(minimum=-4, maximum=0, name='beta', latex_label='beta', unit=None, boundary=None)\n",
      "11:14 bilby INFO    :   wave0 = 8914.269989570776\n",
      "11:14 bilby INFO    : Single likelihood evaluation took 3.809e-05 s\n"
     ]
    },
    {
     "data": {
      "application/vnd.jupyter.widget-view+json": {
       "model_id": "f36c63dc76f1402e92ba6ef8c15d9297",
       "version_major": 2,
       "version_minor": 0
      },
      "text/plain": [
       "0it [00:00, ?it/s]"
      ]
     },
     "metadata": {},
     "output_type": "display_data"
    },
    {
     "name": "stderr",
     "output_type": "stream",
     "text": [
      "11:14 bilby INFO    : Checkpoint every check_point_delta_t = 600s\n",
      "11:14 bilby WARNING : Using cached result\n",
      "11:14 bilby INFO    : Summary of results:\n",
      "nsamples: 2464\n",
      "ln_noise_evidence:    nan\n",
      "ln_evidence: 671.389 +/-  0.267\n",
      "ln_bayes_factor:    nan +/-  0.267\n",
      "\n",
      "/Users/myue/Research/Projects/JWST/dependencies/msa_spec_utils/LAE_spec_utils.py:465: RuntimeWarning: divide by zero encountered in power\n",
      "  self.err_fnu = (self.ivar_fnu)**-0.5\n",
      "/Users/myue/Research/Projects/JWST/dependencies/msa_spec_utils/LAE_spec_utils.py:471: RuntimeWarning: invalid value encountered in divide\n",
      "  self.flam = self.fnu * speed_of_light_angstrom / (self.wave)**2 * 1e-29 * 1e18\n",
      "/Users/myue/Research/Projects/JWST/dependencies/msa_spec_utils/LAE_spec_utils.py:472: RuntimeWarning: divide by zero encountered in divide\n",
      "  self.err_flam = self.err_fnu * (speed_of_light_angstrom / (self.wave)**2 * 1e-29 * 1e18)\n",
      "11:14 bilby INFO    : Running for label '4713_2007', output will be saved to '../../data/lya_saves/J0100/bilby_fit_lya_msaexp_pypeit_v2/'\n",
      "11:14 bilby INFO    : Search parameters:\n",
      "11:14 bilby INFO    :   center = Uniform(minimum=9426.428640273058, maximum=9464.20991738838, name='center', latex_label='center', unit=None, boundary=None)\n",
      "11:14 bilby INFO    :   fwhm = Uniform(minimum=300, maximum=1000, name='fwhm', latex_label='fwhm', unit=None, boundary=None)\n",
      "11:14 bilby INFO    :   flux = Uniform(minimum=-12.85473011877919, maximum=12.85473011877919, name='flux', latex_label='flux', unit=None, boundary=None)\n",
      "11:14 bilby INFO    :   A = Uniform(minimum=-0.09785014704103494, maximum=0.19570029408206988, name='A', latex_label='A', unit=None, boundary=None)\n",
      "11:14 bilby INFO    :   beta = Uniform(minimum=-4, maximum=0, name='beta', latex_label='beta', unit=None, boundary=None)\n",
      "11:14 bilby INFO    :   wave0 = 9445.319278830719\n",
      "11:14 bilby INFO    : Single likelihood evaluation took 3.963e-05 s\n"
     ]
    },
    {
     "data": {
      "application/vnd.jupyter.widget-view+json": {
       "model_id": "9068108c3cb04cfd9c8f8fbbf3349810",
       "version_major": 2,
       "version_minor": 0
      },
      "text/plain": [
       "0it [00:00, ?it/s]"
      ]
     },
     "metadata": {},
     "output_type": "display_data"
    },
    {
     "name": "stderr",
     "output_type": "stream",
     "text": [
      "11:14 bilby INFO    : Checkpoint every check_point_delta_t = 600s\n",
      "11:14 bilby WARNING : Using cached result\n",
      "11:14 bilby INFO    : Summary of results:\n",
      "nsamples: 2333\n",
      "ln_noise_evidence:    nan\n",
      "ln_evidence: 852.384 +/-  0.262\n",
      "ln_bayes_factor:    nan +/-  0.262\n",
      "\n",
      "11:14 bilby INFO    : Running for label '4713_2084', output will be saved to '../../data/lya_saves/J0100/bilby_fit_lya_msaexp_pypeit_v2/'\n",
      "11:14 bilby INFO    : Search parameters:\n",
      "11:14 bilby INFO    :   center = Uniform(minimum=9424.025927360033, maximum=9461.79757436348, name='center', latex_label='center', unit=None, boundary=None)\n",
      "11:14 bilby INFO    :   fwhm = Uniform(minimum=300, maximum=1000, name='fwhm', latex_label='fwhm', unit=None, boundary=None)\n",
      "11:14 bilby INFO    :   flux = Uniform(minimum=-10.035781260216453, maximum=10.035781260216453, name='flux', latex_label='flux', unit=None, boundary=None)\n",
      "11:14 bilby INFO    :   A = Uniform(minimum=-0.059909746722656976, maximum=0.11981949344531395, name='A', latex_label='A', unit=None, boundary=None)\n",
      "11:14 bilby INFO    :   beta = Uniform(minimum=-4, maximum=0, name='beta', latex_label='beta', unit=None, boundary=None)\n",
      "11:14 bilby INFO    :   wave0 = 9442.911750861756\n",
      "11:14 bilby INFO    : Single likelihood evaluation took 3.853e-05 s\n"
     ]
    },
    {
     "data": {
      "application/vnd.jupyter.widget-view+json": {
       "model_id": "622bd45903274c6fa5c146b51d00ee7b",
       "version_major": 2,
       "version_minor": 0
      },
      "text/plain": [
       "0it [00:00, ?it/s]"
      ]
     },
     "metadata": {},
     "output_type": "display_data"
    },
    {
     "name": "stderr",
     "output_type": "stream",
     "text": [
      "11:14 bilby INFO    : Checkpoint every check_point_delta_t = 600s\n",
      "11:14 bilby WARNING : Using cached result\n",
      "11:14 bilby INFO    : Summary of results:\n",
      "nsamples: 2772\n",
      "ln_noise_evidence:    nan\n",
      "ln_evidence: 999.053 +/-  0.287\n",
      "ln_bayes_factor:    nan +/-  0.287\n",
      "\n",
      "/Users/myue/Research/Projects/JWST/dependencies/msa_spec_utils/LAE_spec_utils.py:465: RuntimeWarning: divide by zero encountered in power\n",
      "  self.err_fnu = (self.ivar_fnu)**-0.5\n",
      "/Users/myue/Research/Projects/JWST/dependencies/msa_spec_utils/LAE_spec_utils.py:471: RuntimeWarning: invalid value encountered in divide\n",
      "  self.flam = self.fnu * speed_of_light_angstrom / (self.wave)**2 * 1e-29 * 1e18\n",
      "/Users/myue/Research/Projects/JWST/dependencies/msa_spec_utils/LAE_spec_utils.py:472: RuntimeWarning: divide by zero encountered in divide\n",
      "  self.err_flam = self.err_fnu * (speed_of_light_angstrom / (self.wave)**2 * 1e-29 * 1e18)\n",
      "11:14 bilby INFO    : Running for label '4713_2159', output will be saved to '../../data/lya_saves/J0100/bilby_fit_lya_msaexp_pypeit_v2/'\n",
      "11:14 bilby INFO    : Search parameters:\n",
      "11:14 bilby INFO    :   center = Uniform(minimum=8502.29431645345, maximum=8536.371648383125, name='center', latex_label='center', unit=None, boundary=None)\n",
      "11:14 bilby INFO    :   fwhm = Uniform(minimum=300, maximum=1000, name='fwhm', latex_label='fwhm', unit=None, boundary=None)\n",
      "11:14 bilby INFO    :   flux = Uniform(minimum=-70.17230408479124, maximum=70.17230408479124, name='flux', latex_label='flux', unit=None, boundary=None)\n",
      "11:14 bilby INFO    :   A = Uniform(minimum=-0.46431463339267914, maximum=0.9286292667853583, name='A', latex_label='A', unit=None, boundary=None)\n",
      "11:14 bilby INFO    :   beta = Uniform(minimum=-4, maximum=0, name='beta', latex_label='beta', unit=None, boundary=None)\n",
      "11:14 bilby INFO    :   wave0 = 8519.332982418287\n",
      "11:14 bilby INFO    : Single likelihood evaluation took 4.093e-05 s\n"
     ]
    },
    {
     "data": {
      "application/vnd.jupyter.widget-view+json": {
       "model_id": "e5be12a1fbf04e25aa904d6a73570982",
       "version_major": 2,
       "version_minor": 0
      },
      "text/plain": [
       "0it [00:00, ?it/s]"
      ]
     },
     "metadata": {},
     "output_type": "display_data"
    },
    {
     "name": "stderr",
     "output_type": "stream",
     "text": [
      "11:14 bilby INFO    : Checkpoint every check_point_delta_t = 600s\n",
      "11:14 bilby WARNING : Using cached result\n",
      "11:14 bilby INFO    : Summary of results:\n",
      "nsamples: 3218\n",
      "ln_noise_evidence:    nan\n",
      "ln_evidence: 561.245 +/-  0.329\n",
      "ln_bayes_factor:    nan +/-  0.329\n",
      "\n",
      "/Users/myue/Research/Projects/JWST/dependencies/msa_spec_utils/LAE_spec_utils.py:465: RuntimeWarning: divide by zero encountered in power\n",
      "  self.err_fnu = (self.ivar_fnu)**-0.5\n",
      "/Users/myue/Research/Projects/JWST/dependencies/msa_spec_utils/LAE_spec_utils.py:471: RuntimeWarning: invalid value encountered in divide\n",
      "  self.flam = self.fnu * speed_of_light_angstrom / (self.wave)**2 * 1e-29 * 1e18\n",
      "/Users/myue/Research/Projects/JWST/dependencies/msa_spec_utils/LAE_spec_utils.py:472: RuntimeWarning: divide by zero encountered in divide\n",
      "  self.err_flam = self.err_fnu * (speed_of_light_angstrom / (self.wave)**2 * 1e-29 * 1e18)\n",
      "11:14 bilby INFO    : Running for label '4713_2355', output will be saved to '../../data/lya_saves/J0100/bilby_fit_lya_msaexp_pypeit_v2/'\n",
      "11:14 bilby INFO    : Search parameters:\n",
      "11:14 bilby INFO    :   center = Uniform(minimum=8714.019982279064, maximum=8748.945914071766, name='center', latex_label='center', unit=None, boundary=None)\n",
      "11:14 bilby INFO    :   fwhm = Uniform(minimum=300, maximum=1000, name='fwhm', latex_label='fwhm', unit=None, boundary=None)\n",
      "11:14 bilby INFO    :   flux = Uniform(minimum=-18.43943904291135, maximum=18.43943904291135, name='flux', latex_label='flux', unit=None, boundary=None)\n",
      "11:14 bilby INFO    :   A = Uniform(minimum=-0.11904520917503, maximum=0.23809041835006, name='A', latex_label='A', unit=None, boundary=None)\n",
      "11:14 bilby INFO    :   beta = Uniform(minimum=-4, maximum=0, name='beta', latex_label='beta', unit=None, boundary=None)\n",
      "11:14 bilby INFO    :   wave0 = 8731.482948175415\n",
      "11:14 bilby INFO    : Single likelihood evaluation took 3.845e-05 s\n"
     ]
    },
    {
     "data": {
      "application/vnd.jupyter.widget-view+json": {
       "model_id": "1fe4dde2eb7648e48ecef6859cf993d6",
       "version_major": 2,
       "version_minor": 0
      },
      "text/plain": [
       "0it [00:00, ?it/s]"
      ]
     },
     "metadata": {},
     "output_type": "display_data"
    },
    {
     "name": "stderr",
     "output_type": "stream",
     "text": [
      "11:14 bilby INFO    : Checkpoint every check_point_delta_t = 600s\n",
      "11:14 bilby WARNING : Using cached result\n",
      "11:14 bilby INFO    : Summary of results:\n",
      "nsamples: 2347\n",
      "ln_noise_evidence:    nan\n",
      "ln_evidence: 758.699 +/-  0.263\n",
      "ln_bayes_factor:    nan +/-  0.263\n",
      "\n",
      "11:14 bilby INFO    : Running for label '4713_3783', output will be saved to '../../data/lya_saves/J0100/bilby_fit_lya_msaexp_pypeit_v2/'\n",
      "11:14 bilby INFO    : Search parameters:\n",
      "11:14 bilby INFO    :   center = Uniform(minimum=8714.255944652208, maximum=8749.182822185883, name='center', latex_label='center', unit=None, boundary=None)\n",
      "11:14 bilby INFO    :   fwhm = Uniform(minimum=300, maximum=1000, name='fwhm', latex_label='fwhm', unit=None, boundary=None)\n",
      "11:14 bilby INFO    :   flux = Uniform(minimum=-21.64091614985224, maximum=21.64091614985224, name='flux', latex_label='flux', unit=None, boundary=None)\n",
      "11:14 bilby INFO    :   A = Uniform(minimum=-0.139710195350382, maximum=0.279420390700764, name='A', latex_label='A', unit=None, boundary=None)\n",
      "11:14 bilby INFO    :   beta = Uniform(minimum=-4, maximum=0, name='beta', latex_label='beta', unit=None, boundary=None)\n",
      "11:14 bilby INFO    :   wave0 = 8731.719383419046\n",
      "11:14 bilby INFO    : Single likelihood evaluation took 4.031e-05 s\n"
     ]
    },
    {
     "data": {
      "application/vnd.jupyter.widget-view+json": {
       "model_id": "c9b3b2cd44774766a9aa9684236b048e",
       "version_major": 2,
       "version_minor": 0
      },
      "text/plain": [
       "0it [00:00, ?it/s]"
      ]
     },
     "metadata": {},
     "output_type": "display_data"
    },
    {
     "name": "stderr",
     "output_type": "stream",
     "text": [
      "11:14 bilby INFO    : Checkpoint every check_point_delta_t = 600s\n",
      "11:14 bilby WARNING : Using cached result\n",
      "11:14 bilby INFO    : Summary of results:\n",
      "nsamples: 2314\n",
      "ln_noise_evidence:    nan\n",
      "ln_evidence: 678.049 +/-  0.259\n",
      "ln_bayes_factor:    nan +/-  0.259\n",
      "\n",
      "/Users/myue/Research/Projects/JWST/dependencies/msa_spec_utils/LAE_spec_utils.py:465: RuntimeWarning: divide by zero encountered in power\n",
      "  self.err_fnu = (self.ivar_fnu)**-0.5\n",
      "/Users/myue/Research/Projects/JWST/dependencies/msa_spec_utils/LAE_spec_utils.py:471: RuntimeWarning: invalid value encountered in divide\n",
      "  self.flam = self.fnu * speed_of_light_angstrom / (self.wave)**2 * 1e-29 * 1e18\n",
      "/Users/myue/Research/Projects/JWST/dependencies/msa_spec_utils/LAE_spec_utils.py:472: RuntimeWarning: divide by zero encountered in divide\n",
      "  self.err_flam = self.err_fnu * (speed_of_light_angstrom / (self.wave)**2 * 1e-29 * 1e18)\n",
      "11:14 bilby INFO    : Running for label '4713_4080', output will be saved to '../../data/lya_saves/J0100/bilby_fit_lya_msaexp_pypeit_v2/'\n",
      "11:14 bilby INFO    : Search parameters:\n",
      "11:14 bilby INFO    :   center = Uniform(minimum=8422.392507461718, maximum=8456.149591659963, name='center', latex_label='center', unit=None, boundary=None)\n",
      "11:14 bilby INFO    :   fwhm = Uniform(minimum=300, maximum=1000, name='fwhm', latex_label='fwhm', unit=None, boundary=None)\n",
      "11:14 bilby INFO    :   flux = Uniform(minimum=-19.803023948587693, maximum=19.803023948587693, name='flux', latex_label='flux', unit=None, boundary=None)\n",
      "11:14 bilby INFO    :   A = Uniform(minimum=-0.13227531508849666, maximum=0.2645506301769933, name='A', latex_label='A', unit=None, boundary=None)\n",
      "11:14 bilby INFO    :   beta = Uniform(minimum=-4, maximum=0, name='beta', latex_label='beta', unit=None, boundary=None)\n",
      "11:14 bilby INFO    :   wave0 = 8439.27104956084\n",
      "11:14 bilby INFO    : Single likelihood evaluation took 3.869e-05 s\n"
     ]
    },
    {
     "data": {
      "application/vnd.jupyter.widget-view+json": {
       "model_id": "f1ca865b81d1461ba90c08acaca92ee1",
       "version_major": 2,
       "version_minor": 0
      },
      "text/plain": [
       "0it [00:00, ?it/s]"
      ]
     },
     "metadata": {},
     "output_type": "display_data"
    },
    {
     "name": "stderr",
     "output_type": "stream",
     "text": [
      "11:14 bilby INFO    : Checkpoint every check_point_delta_t = 600s\n",
      "11:14 bilby WARNING : Using cached result\n",
      "11:14 bilby INFO    : Summary of results:\n",
      "nsamples: 2522\n",
      "ln_noise_evidence:    nan\n",
      "ln_evidence: 558.770 +/-  0.271\n",
      "ln_bayes_factor:    nan +/-  0.271\n",
      "\n",
      "/Users/myue/Research/Projects/JWST/dependencies/msa_spec_utils/LAE_spec_utils.py:465: RuntimeWarning: divide by zero encountered in power\n",
      "  self.err_fnu = (self.ivar_fnu)**-0.5\n",
      "/Users/myue/Research/Projects/JWST/dependencies/msa_spec_utils/LAE_spec_utils.py:471: RuntimeWarning: invalid value encountered in divide\n",
      "  self.flam = self.fnu * speed_of_light_angstrom / (self.wave)**2 * 1e-29 * 1e18\n",
      "/Users/myue/Research/Projects/JWST/dependencies/msa_spec_utils/LAE_spec_utils.py:472: RuntimeWarning: divide by zero encountered in divide\n",
      "  self.err_flam = self.err_fnu * (speed_of_light_angstrom / (self.wave)**2 * 1e-29 * 1e18)\n",
      "11:14 bilby INFO    : Running for label '4713_4184', output will be saved to '../../data/lya_saves/J0100/bilby_fit_lya_msaexp_pypeit_v2/'\n",
      "11:14 bilby INFO    : Search parameters:\n",
      "11:14 bilby INFO    :   center = Uniform(minimum=8719.111489041254, maximum=8754.057827674686, name='center', latex_label='center', unit=None, boundary=None)\n",
      "11:14 bilby INFO    :   fwhm = Uniform(minimum=300, maximum=1000, name='fwhm', latex_label='fwhm', unit=None, boundary=None)\n",
      "11:14 bilby INFO    :   flux = Uniform(minimum=-37.56840202967619, maximum=37.56840202967619, name='flux', latex_label='flux', unit=None, boundary=None)\n",
      "11:14 bilby INFO    :   A = Uniform(minimum=-0.24240036017847838, maximum=0.48480072035695676, name='A', latex_label='A', unit=None, boundary=None)\n",
      "11:14 bilby INFO    :   beta = Uniform(minimum=-4, maximum=0, name='beta', latex_label='beta', unit=None, boundary=None)\n",
      "11:14 bilby INFO    :   wave0 = 8736.58465835797\n",
      "11:14 bilby INFO    : Single likelihood evaluation took 4.061e-05 s\n"
     ]
    },
    {
     "data": {
      "application/vnd.jupyter.widget-view+json": {
       "model_id": "9cac05df6e454c4381aafe2e7d6874b0",
       "version_major": 2,
       "version_minor": 0
      },
      "text/plain": [
       "0it [00:00, ?it/s]"
      ]
     },
     "metadata": {},
     "output_type": "display_data"
    },
    {
     "name": "stderr",
     "output_type": "stream",
     "text": [
      "11:14 bilby INFO    : Checkpoint every check_point_delta_t = 600s\n",
      "11:14 bilby WARNING : Using cached result\n",
      "11:14 bilby INFO    : Summary of results:\n",
      "nsamples: 3130\n",
      "ln_noise_evidence:    nan\n",
      "ln_evidence: 678.189 +/-  0.318\n",
      "ln_bayes_factor:    nan +/-  0.318\n",
      "\n",
      "/Users/myue/Research/Projects/JWST/dependencies/msa_spec_utils/LAE_spec_utils.py:465: RuntimeWarning: divide by zero encountered in power\n",
      "  self.err_fnu = (self.ivar_fnu)**-0.5\n",
      "/Users/myue/Research/Projects/JWST/dependencies/msa_spec_utils/LAE_spec_utils.py:471: RuntimeWarning: invalid value encountered in divide\n",
      "  self.flam = self.fnu * speed_of_light_angstrom / (self.wave)**2 * 1e-29 * 1e18\n",
      "/Users/myue/Research/Projects/JWST/dependencies/msa_spec_utils/LAE_spec_utils.py:472: RuntimeWarning: divide by zero encountered in divide\n",
      "  self.err_flam = self.err_fnu * (speed_of_light_angstrom / (self.wave)**2 * 1e-29 * 1e18)\n",
      "11:14 bilby INFO    : Running for label '4713_4222', output will be saved to '../../data/lya_saves/J0100/bilby_fit_lya_msaexp_pypeit_v2/'\n",
      "11:14 bilby INFO    : Search parameters:\n",
      "11:14 bilby INFO    :   center = Uniform(minimum=8893.076294077662, maximum=8928.719886438696, name='center', latex_label='center', unit=None, boundary=None)\n",
      "11:14 bilby INFO    :   fwhm = Uniform(minimum=300, maximum=1000, name='fwhm', latex_label='fwhm', unit=None, boundary=None)\n",
      "11:14 bilby INFO    :   flux = Uniform(minimum=-14.749259738236214, maximum=14.749259738236214, name='flux', latex_label='flux', unit=None, boundary=None)\n",
      "11:14 bilby INFO    :   A = Uniform(minimum=-0.10970800235701207, maximum=0.21941600471402414, name='A', latex_label='A', unit=None, boundary=None)\n",
      "11:14 bilby INFO    :   beta = Uniform(minimum=-4, maximum=0, name='beta', latex_label='beta', unit=None, boundary=None)\n",
      "11:14 bilby INFO    :   wave0 = 8910.898090258179\n",
      "11:14 bilby INFO    : Single likelihood evaluation took 4.495e-05 s\n"
     ]
    },
    {
     "data": {
      "application/vnd.jupyter.widget-view+json": {
       "model_id": "06c6e794ea684b59973c7b5fd281b682",
       "version_major": 2,
       "version_minor": 0
      },
      "text/plain": [
       "0it [00:00, ?it/s]"
      ]
     },
     "metadata": {},
     "output_type": "display_data"
    },
    {
     "name": "stderr",
     "output_type": "stream",
     "text": [
      "11:14 bilby INFO    : Checkpoint every check_point_delta_t = 600s\n",
      "11:14 bilby WARNING : Using cached result\n",
      "11:14 bilby INFO    : Summary of results:\n",
      "nsamples: 2683\n",
      "ln_noise_evidence:    nan\n",
      "ln_evidence: 812.302 +/-  0.284\n",
      "ln_bayes_factor:    nan +/-  0.284\n",
      "\n",
      "/Users/myue/Research/Projects/JWST/dependencies/msa_spec_utils/LAE_spec_utils.py:465: RuntimeWarning: divide by zero encountered in power\n",
      "  self.err_fnu = (self.ivar_fnu)**-0.5\n",
      "/Users/myue/Research/Projects/JWST/dependencies/msa_spec_utils/LAE_spec_utils.py:471: RuntimeWarning: invalid value encountered in divide\n",
      "  self.flam = self.fnu * speed_of_light_angstrom / (self.wave)**2 * 1e-29 * 1e18\n",
      "/Users/myue/Research/Projects/JWST/dependencies/msa_spec_utils/LAE_spec_utils.py:472: RuntimeWarning: divide by zero encountered in divide\n",
      "  self.err_flam = self.err_fnu * (speed_of_light_angstrom / (self.wave)**2 * 1e-29 * 1e18)\n",
      "11:14 bilby INFO    : Running for label '4713_5378', output will be saved to '../../data/lya_saves/J0100/bilby_fit_lya_msaexp_pypeit_v2/'\n",
      "11:14 bilby INFO    : Search parameters:\n",
      "11:14 bilby INFO    :   center = Uniform(minimum=7968.734926615395, maximum=8000.6737439565395, name='center', latex_label='center', unit=None, boundary=None)\n",
      "11:14 bilby INFO    :   fwhm = Uniform(minimum=300, maximum=1000, name='fwhm', latex_label='fwhm', unit=None, boundary=None)\n",
      "11:14 bilby INFO    :   flux = Uniform(minimum=-15.968936900469782, maximum=15.968936900469782, name='flux', latex_label='flux', unit=None, boundary=None)\n",
      "11:14 bilby INFO    :   A = Uniform(minimum=-0.11273775783128216, maximum=0.22547551566256432, name='A', latex_label='A', unit=None, boundary=None)\n",
      "11:14 bilby INFO    :   beta = Uniform(minimum=-4, maximum=0, name='beta', latex_label='beta', unit=None, boundary=None)\n",
      "11:14 bilby INFO    :   wave0 = 7984.704335285967\n",
      "11:14 bilby INFO    : Single likelihood evaluation took 3.828e-05 s\n"
     ]
    },
    {
     "data": {
      "application/vnd.jupyter.widget-view+json": {
       "model_id": "cb9760ae014645b4a382fd5431fe7f51",
       "version_major": 2,
       "version_minor": 0
      },
      "text/plain": [
       "0it [00:00, ?it/s]"
      ]
     },
     "metadata": {},
     "output_type": "display_data"
    },
    {
     "name": "stderr",
     "output_type": "stream",
     "text": [
      "11:14 bilby INFO    : Checkpoint every check_point_delta_t = 600s\n",
      "11:14 bilby WARNING : Using cached result\n",
      "11:14 bilby INFO    : Summary of results:\n",
      "nsamples: 2191\n",
      "ln_noise_evidence:    nan\n",
      "ln_evidence: 656.415 +/-  0.245\n",
      "ln_bayes_factor:    nan +/-  0.245\n",
      "\n",
      "/Users/myue/Research/Projects/JWST/dependencies/msa_spec_utils/LAE_spec_utils.py:465: RuntimeWarning: divide by zero encountered in power\n",
      "  self.err_fnu = (self.ivar_fnu)**-0.5\n",
      "/Users/myue/Research/Projects/JWST/dependencies/msa_spec_utils/LAE_spec_utils.py:471: RuntimeWarning: invalid value encountered in divide\n",
      "  self.flam = self.fnu * speed_of_light_angstrom / (self.wave)**2 * 1e-29 * 1e18\n",
      "/Users/myue/Research/Projects/JWST/dependencies/msa_spec_utils/LAE_spec_utils.py:472: RuntimeWarning: divide by zero encountered in divide\n",
      "  self.err_flam = self.err_fnu * (speed_of_light_angstrom / (self.wave)**2 * 1e-29 * 1e18)\n",
      "11:14 bilby INFO    : Running for label '4713_5581', output will be saved to '../../data/lya_saves/J0100/bilby_fit_lya_msaexp_pypeit_v2/'\n",
      "11:14 bilby INFO    : Search parameters:\n",
      "11:14 bilby INFO    :   center = Uniform(minimum=7897.608065685289, maximum=7929.261805427514, name='center', latex_label='center', unit=None, boundary=None)\n",
      "11:14 bilby INFO    :   fwhm = Uniform(minimum=300, maximum=1000, name='fwhm', latex_label='fwhm', unit=None, boundary=None)\n",
      "11:14 bilby INFO    :   flux = Uniform(minimum=-23.797556557589154, maximum=23.797556557589154, name='flux', latex_label='flux', unit=None, boundary=None)\n",
      "11:14 bilby INFO    :   A = Uniform(minimum=-0.1695194596530036, maximum=0.3390389193060072, name='A', latex_label='A', unit=None, boundary=None)\n",
      "11:14 bilby INFO    :   beta = Uniform(minimum=-4, maximum=0, name='beta', latex_label='beta', unit=None, boundary=None)\n",
      "11:14 bilby INFO    :   wave0 = 7913.434935556402\n",
      "11:14 bilby INFO    : Single likelihood evaluation took 4.087e-05 s\n"
     ]
    },
    {
     "data": {
      "application/vnd.jupyter.widget-view+json": {
       "model_id": "d87e1143fa5248ec890f5048ba854e42",
       "version_major": 2,
       "version_minor": 0
      },
      "text/plain": [
       "0it [00:00, ?it/s]"
      ]
     },
     "metadata": {},
     "output_type": "display_data"
    },
    {
     "name": "stderr",
     "output_type": "stream",
     "text": [
      "11:14 bilby INFO    : Checkpoint every check_point_delta_t = 600s\n",
      "11:14 bilby WARNING : Using cached result\n",
      "11:14 bilby INFO    : Summary of results:\n",
      "nsamples: 2109\n",
      "ln_noise_evidence:    nan\n",
      "ln_evidence: 549.828 +/-  0.245\n",
      "ln_bayes_factor:    nan +/-  0.245\n",
      "\n",
      "/Users/myue/Research/Projects/JWST/dependencies/msa_spec_utils/LAE_spec_utils.py:465: RuntimeWarning: divide by zero encountered in power\n",
      "  self.err_fnu = (self.ivar_fnu)**-0.5\n",
      "/Users/myue/Research/Projects/JWST/dependencies/msa_spec_utils/LAE_spec_utils.py:471: RuntimeWarning: invalid value encountered in divide\n",
      "  self.flam = self.fnu * speed_of_light_angstrom / (self.wave)**2 * 1e-29 * 1e18\n",
      "/Users/myue/Research/Projects/JWST/dependencies/msa_spec_utils/LAE_spec_utils.py:472: RuntimeWarning: divide by zero encountered in divide\n",
      "  self.err_flam = self.err_fnu * (speed_of_light_angstrom / (self.wave)**2 * 1e-29 * 1e18)\n",
      "11:14 bilby INFO    : Running for label '4713_5595', output will be saved to '../../data/lya_saves/J0100/bilby_fit_lya_msaexp_pypeit_v2/'\n",
      "11:14 bilby INFO    : Search parameters:\n",
      "11:14 bilby INFO    :   center = Uniform(minimum=8480.167096179757, maximum=8514.15574185583, name='center', latex_label='center', unit=None, boundary=None)\n",
      "11:14 bilby INFO    :   fwhm = Uniform(minimum=300, maximum=1000, name='fwhm', latex_label='fwhm', unit=None, boundary=None)\n",
      "11:14 bilby INFO    :   flux = Uniform(minimum=-12.988771144091782, maximum=12.988771144091782, name='flux', latex_label='flux', unit=None, boundary=None)\n",
      "11:14 bilby INFO    :   A = Uniform(minimum=-0.08616808155628805, maximum=0.1723361631125761, name='A', latex_label='A', unit=None, boundary=None)\n",
      "11:14 bilby INFO    :   beta = Uniform(minimum=-4, maximum=0, name='beta', latex_label='beta', unit=None, boundary=None)\n",
      "11:14 bilby INFO    :   wave0 = 8497.161419017793\n",
      "11:14 bilby INFO    : Single likelihood evaluation took 4.107e-05 s\n"
     ]
    },
    {
     "data": {
      "application/vnd.jupyter.widget-view+json": {
       "model_id": "d0d18d53053b45da8a5d54f386185f5e",
       "version_major": 2,
       "version_minor": 0
      },
      "text/plain": [
       "0it [00:00, ?it/s]"
      ]
     },
     "metadata": {},
     "output_type": "display_data"
    },
    {
     "name": "stderr",
     "output_type": "stream",
     "text": [
      "11:14 bilby INFO    : Checkpoint every check_point_delta_t = 600s\n",
      "11:14 bilby WARNING : Using cached result\n",
      "11:14 bilby INFO    : Summary of results:\n",
      "nsamples: 2352\n",
      "ln_noise_evidence:    nan\n",
      "ln_evidence: 733.030 +/-  0.256\n",
      "ln_bayes_factor:    nan +/-  0.256\n",
      "\n",
      "/Users/myue/Research/Projects/JWST/dependencies/msa_spec_utils/LAE_spec_utils.py:465: RuntimeWarning: divide by zero encountered in power\n",
      "  self.err_fnu = (self.ivar_fnu)**-0.5\n",
      "/Users/myue/Research/Projects/JWST/dependencies/msa_spec_utils/LAE_spec_utils.py:471: RuntimeWarning: invalid value encountered in divide\n",
      "  self.flam = self.fnu * speed_of_light_angstrom / (self.wave)**2 * 1e-29 * 1e18\n",
      "/Users/myue/Research/Projects/JWST/dependencies/msa_spec_utils/LAE_spec_utils.py:472: RuntimeWarning: divide by zero encountered in divide\n",
      "  self.err_flam = self.err_fnu * (speed_of_light_angstrom / (self.wave)**2 * 1e-29 * 1e18)\n",
      "11:14 bilby INFO    : Running for label '4713_5671', output will be saved to '../../data/lya_saves/J0100/bilby_fit_lya_msaexp_pypeit_v2/'\n",
      "11:14 bilby INFO    : Search parameters:\n",
      "11:14 bilby INFO    :   center = Uniform(minimum=8476.10937274534, maximum=8510.081755000832, name='center', latex_label='center', unit=None, boundary=None)\n",
      "11:14 bilby INFO    :   fwhm = Uniform(minimum=300, maximum=1000, name='fwhm', latex_label='fwhm', unit=None, boundary=None)\n",
      "11:14 bilby INFO    :   flux = Uniform(minimum=-18.332293025207232, maximum=18.332293025207232, name='flux', latex_label='flux', unit=None, boundary=None)\n",
      "11:14 bilby INFO    :   A = Uniform(minimum=-0.12167546295374856, maximum=0.24335092590749713, name='A', latex_label='A', unit=None, boundary=None)\n",
      "11:14 bilby INFO    :   beta = Uniform(minimum=-4, maximum=0, name='beta', latex_label='beta', unit=None, boundary=None)\n",
      "11:14 bilby INFO    :   wave0 = 8493.095563873087\n",
      "11:14 bilby INFO    : Single likelihood evaluation took 3.781e-05 s\n"
     ]
    },
    {
     "data": {
      "application/vnd.jupyter.widget-view+json": {
       "model_id": "e81d15772ec54fc88a2fb11f37cb09f1",
       "version_major": 2,
       "version_minor": 0
      },
      "text/plain": [
       "0it [00:00, ?it/s]"
      ]
     },
     "metadata": {},
     "output_type": "display_data"
    },
    {
     "name": "stderr",
     "output_type": "stream",
     "text": [
      "11:14 bilby INFO    : Checkpoint every check_point_delta_t = 600s\n",
      "11:14 bilby WARNING : Using cached result\n",
      "11:14 bilby INFO    : Summary of results:\n",
      "nsamples: 2592\n",
      "ln_noise_evidence:    nan\n",
      "ln_evidence: 604.135 +/-  0.277\n",
      "ln_bayes_factor:    nan +/-  0.277\n",
      "\n",
      "/Users/myue/Research/Projects/JWST/dependencies/msa_spec_utils/LAE_spec_utils.py:465: RuntimeWarning: divide by zero encountered in power\n",
      "  self.err_fnu = (self.ivar_fnu)**-0.5\n",
      "/Users/myue/Research/Projects/JWST/dependencies/msa_spec_utils/LAE_spec_utils.py:471: RuntimeWarning: invalid value encountered in divide\n",
      "  self.flam = self.fnu * speed_of_light_angstrom / (self.wave)**2 * 1e-29 * 1e18\n",
      "/Users/myue/Research/Projects/JWST/dependencies/msa_spec_utils/LAE_spec_utils.py:472: RuntimeWarning: divide by zero encountered in divide\n",
      "  self.err_flam = self.err_fnu * (speed_of_light_angstrom / (self.wave)**2 * 1e-29 * 1e18)\n",
      "11:14 bilby INFO    : Running for label '4713_6733', output will be saved to '../../data/lya_saves/J0100/bilby_fit_lya_msaexp_pypeit_v2/'\n",
      "11:14 bilby INFO    : Search parameters:\n",
      "11:14 bilby INFO    :   center = Uniform(minimum=9424.521765091862, maximum=9462.29539942089, name='center', latex_label='center', unit=None, boundary=None)\n",
      "11:14 bilby INFO    :   fwhm = Uniform(minimum=300, maximum=1000, name='fwhm', latex_label='fwhm', unit=None, boundary=None)\n",
      "11:14 bilby INFO    :   flux = Uniform(minimum=-174.96718862659677, maximum=174.96718862659677, name='flux', latex_label='flux', unit=None, boundary=None)\n",
      "11:14 bilby INFO    :   A = Uniform(minimum=-1.04443173857616, maximum=2.08886347715232, name='A', latex_label='A', unit=None, boundary=None)\n",
      "11:14 bilby INFO    :   beta = Uniform(minimum=-4, maximum=0, name='beta', latex_label='beta', unit=None, boundary=None)\n",
      "11:14 bilby INFO    :   wave0 = 9443.408582256376\n",
      "11:14 bilby INFO    : Single likelihood evaluation took 3.918e-05 s\n"
     ]
    },
    {
     "data": {
      "application/vnd.jupyter.widget-view+json": {
       "model_id": "efb798b808f24d06bf20379159c4c04e",
       "version_major": 2,
       "version_minor": 0
      },
      "text/plain": [
       "0it [00:00, ?it/s]"
      ]
     },
     "metadata": {},
     "output_type": "display_data"
    },
    {
     "name": "stderr",
     "output_type": "stream",
     "text": [
      "11:14 bilby INFO    : Checkpoint every check_point_delta_t = 600s\n",
      "11:14 bilby WARNING : Using cached result\n",
      "11:14 bilby INFO    : Summary of results:\n",
      "nsamples: 4567\n",
      "ln_noise_evidence:    nan\n",
      "ln_evidence: 773.336 +/-  0.418\n",
      "ln_bayes_factor:    nan +/-  0.418\n",
      "\n",
      "/Users/myue/Research/Projects/JWST/dependencies/msa_spec_utils/LAE_spec_utils.py:465: RuntimeWarning: divide by zero encountered in power\n",
      "  self.err_fnu = (self.ivar_fnu)**-0.5\n",
      "/Users/myue/Research/Projects/JWST/dependencies/msa_spec_utils/LAE_spec_utils.py:471: RuntimeWarning: invalid value encountered in divide\n",
      "  self.flam = self.fnu * speed_of_light_angstrom / (self.wave)**2 * 1e-29 * 1e18\n",
      "/Users/myue/Research/Projects/JWST/dependencies/msa_spec_utils/LAE_spec_utils.py:472: RuntimeWarning: divide by zero encountered in divide\n",
      "  self.err_flam = self.err_fnu * (speed_of_light_angstrom / (self.wave)**2 * 1e-29 * 1e18)\n",
      "11:14 bilby INFO    : Running for label '4713_7194', output will be saved to '../../data/lya_saves/J0100/bilby_fit_lya_msaexp_pypeit_v2/'\n",
      "11:14 bilby INFO    : Search parameters:\n",
      "11:14 bilby INFO    :   center = Uniform(minimum=8721.241720530481, maximum=8756.196597165872, name='center', latex_label='center', unit=None, boundary=None)\n",
      "11:14 bilby INFO    :   fwhm = Uniform(minimum=300, maximum=1000, name='fwhm', latex_label='fwhm', unit=None, boundary=None)\n",
      "11:14 bilby INFO    :   flux = Uniform(minimum=-13.067857598236998, maximum=13.067857598236998, name='flux', latex_label='flux', unit=None, boundary=None)\n",
      "11:14 bilby INFO    :   A = Uniform(minimum=-0.08429636325658244, maximum=0.16859272651316487, name='A', latex_label='A', unit=None, boundary=None)\n",
      "11:14 bilby INFO    :   beta = Uniform(minimum=-4, maximum=0, name='beta', latex_label='beta', unit=None, boundary=None)\n",
      "11:14 bilby INFO    :   wave0 = 8738.719158848176\n",
      "11:14 bilby INFO    : Single likelihood evaluation took 3.896e-05 s\n"
     ]
    },
    {
     "data": {
      "application/vnd.jupyter.widget-view+json": {
       "model_id": "d5322b9c51d84562b8abf8ec976f7416",
       "version_major": 2,
       "version_minor": 0
      },
      "text/plain": [
       "0it [00:00, ?it/s]"
      ]
     },
     "metadata": {},
     "output_type": "display_data"
    },
    {
     "name": "stderr",
     "output_type": "stream",
     "text": [
      "11:14 bilby INFO    : Checkpoint every check_point_delta_t = 600s\n",
      "11:14 bilby WARNING : Using cached result\n",
      "11:14 bilby INFO    : Summary of results:\n",
      "nsamples: 2517\n",
      "ln_noise_evidence:    nan\n",
      "ln_evidence: 752.840 +/-  0.274\n",
      "ln_bayes_factor:    nan +/-  0.274\n",
      "\n",
      "/Users/myue/Research/Projects/JWST/dependencies/msa_spec_utils/LAE_spec_utils.py:465: RuntimeWarning: divide by zero encountered in power\n",
      "  self.err_fnu = (self.ivar_fnu)**-0.5\n",
      "/Users/myue/Research/Projects/JWST/dependencies/msa_spec_utils/LAE_spec_utils.py:471: RuntimeWarning: invalid value encountered in divide\n",
      "  self.flam = self.fnu * speed_of_light_angstrom / (self.wave)**2 * 1e-29 * 1e18\n",
      "/Users/myue/Research/Projects/JWST/dependencies/msa_spec_utils/LAE_spec_utils.py:472: RuntimeWarning: divide by zero encountered in divide\n",
      "  self.err_flam = self.err_fnu * (speed_of_light_angstrom / (self.wave)**2 * 1e-29 * 1e18)\n",
      "11:14 bilby INFO    : Running for label '4713_7230', output will be saved to '../../data/lya_saves/J0100/bilby_fit_lya_msaexp_pypeit_v2/'\n",
      "11:14 bilby INFO    : Search parameters:\n",
      "11:14 bilby INFO    :   center = Uniform(minimum=9499.662277514197, maximum=9537.737076221669, name='center', latex_label='center', unit=None, boundary=None)\n",
      "11:14 bilby INFO    :   fwhm = Uniform(minimum=300, maximum=1000, name='fwhm', latex_label='fwhm', unit=None, boundary=None)\n",
      "11:14 bilby INFO    :   flux = Uniform(minimum=-30.01326031166091, maximum=30.01326031166091, name='flux', latex_label='flux', unit=None, boundary=None)\n",
      "11:14 bilby INFO    :   A = Uniform(minimum=-0.1777410649605905, maximum=0.355482129921181, name='A', latex_label='A', unit=None, boundary=None)\n",
      "11:14 bilby INFO    :   beta = Uniform(minimum=-4, maximum=0, name='beta', latex_label='beta', unit=None, boundary=None)\n",
      "11:14 bilby INFO    :   wave0 = 9518.699676867933\n",
      "11:14 bilby INFO    : Single likelihood evaluation took 4.099e-05 s\n"
     ]
    },
    {
     "data": {
      "application/vnd.jupyter.widget-view+json": {
       "model_id": "73538955362347628532ea94be776ff4",
       "version_major": 2,
       "version_minor": 0
      },
      "text/plain": [
       "0it [00:00, ?it/s]"
      ]
     },
     "metadata": {},
     "output_type": "display_data"
    },
    {
     "name": "stderr",
     "output_type": "stream",
     "text": [
      "11:14 bilby INFO    : Checkpoint every check_point_delta_t = 600s\n",
      "11:14 bilby WARNING : Using cached result\n",
      "11:14 bilby INFO    : Summary of results:\n",
      "nsamples: 3367\n",
      "ln_noise_evidence:    nan\n",
      "ln_evidence: 757.719 +/-  0.340\n",
      "ln_bayes_factor:    nan +/-  0.340\n",
      "\n",
      "/Users/myue/Research/Projects/JWST/dependencies/msa_spec_utils/LAE_spec_utils.py:465: RuntimeWarning: divide by zero encountered in power\n",
      "  self.err_fnu = (self.ivar_fnu)**-0.5\n",
      "/Users/myue/Research/Projects/JWST/dependencies/msa_spec_utils/LAE_spec_utils.py:471: RuntimeWarning: invalid value encountered in divide\n",
      "  self.flam = self.fnu * speed_of_light_angstrom / (self.wave)**2 * 1e-29 * 1e18\n",
      "/Users/myue/Research/Projects/JWST/dependencies/msa_spec_utils/LAE_spec_utils.py:472: RuntimeWarning: divide by zero encountered in divide\n",
      "  self.err_flam = self.err_fnu * (speed_of_light_angstrom / (self.wave)**2 * 1e-29 * 1e18)\n",
      "11:14 bilby INFO    : Running for label '4713_7430', output will be saved to '../../data/lya_saves/J0100/bilby_fit_lya_msaexp_pypeit_v2/'\n",
      "11:14 bilby INFO    : Search parameters:\n",
      "11:14 bilby INFO    :   center = Uniform(minimum=9297.107340403783, maximum=9334.370295675943, name='center', latex_label='center', unit=None, boundary=None)\n",
      "11:14 bilby INFO    :   fwhm = Uniform(minimum=300, maximum=1000, name='fwhm', latex_label='fwhm', unit=None, boundary=None)\n",
      "11:14 bilby INFO    :   flux = Uniform(minimum=-13.426918687229609, maximum=13.426918687229609, name='flux', latex_label='flux', unit=None, boundary=None)\n",
      "11:14 bilby INFO    :   A = Uniform(minimum=-0.08124773873445477, maximum=0.16249547746890955, name='A', latex_label='A', unit=None, boundary=None)\n",
      "11:14 bilby INFO    :   beta = Uniform(minimum=-4, maximum=0, name='beta', latex_label='beta', unit=None, boundary=None)\n",
      "11:14 bilby INFO    :   wave0 = 9315.738818039863\n",
      "11:14 bilby INFO    : Single likelihood evaluation took 3.997e-05 s\n"
     ]
    },
    {
     "data": {
      "application/vnd.jupyter.widget-view+json": {
       "model_id": "3694998dde794f4dad1546bea8b5854f",
       "version_major": 2,
       "version_minor": 0
      },
      "text/plain": [
       "0it [00:00, ?it/s]"
      ]
     },
     "metadata": {},
     "output_type": "display_data"
    },
    {
     "name": "stderr",
     "output_type": "stream",
     "text": [
      "11:14 bilby INFO    : Checkpoint every check_point_delta_t = 600s\n",
      "11:14 bilby WARNING : Using cached result\n",
      "11:14 bilby INFO    : Summary of results:\n",
      "nsamples: 2490\n",
      "ln_noise_evidence:    nan\n",
      "ln_evidence: 832.812 +/-  0.262\n",
      "ln_bayes_factor:    nan +/-  0.262\n",
      "\n",
      "/Users/myue/Research/Projects/JWST/dependencies/msa_spec_utils/LAE_spec_utils.py:465: RuntimeWarning: divide by zero encountered in power\n",
      "  self.err_fnu = (self.ivar_fnu)**-0.5\n",
      "/Users/myue/Research/Projects/JWST/dependencies/msa_spec_utils/LAE_spec_utils.py:471: RuntimeWarning: invalid value encountered in divide\n",
      "  self.flam = self.fnu * speed_of_light_angstrom / (self.wave)**2 * 1e-29 * 1e18\n",
      "/Users/myue/Research/Projects/JWST/dependencies/msa_spec_utils/LAE_spec_utils.py:472: RuntimeWarning: divide by zero encountered in divide\n",
      "  self.err_flam = self.err_fnu * (speed_of_light_angstrom / (self.wave)**2 * 1e-29 * 1e18)\n",
      "11:14 bilby INFO    : Running for label '4713_8514', output will be saved to '../../data/lya_saves/J0100/bilby_fit_lya_msaexp_pypeit_v2/'\n",
      "11:14 bilby INFO    : Search parameters:\n",
      "11:14 bilby INFO    :   center = Uniform(minimum=8713.391622901101, maximum=8748.315036219341, name='center', latex_label='center', unit=None, boundary=None)\n",
      "11:14 bilby INFO    :   fwhm = Uniform(minimum=300, maximum=1000, name='fwhm', latex_label='fwhm', unit=None, boundary=None)\n",
      "11:14 bilby INFO    :   flux = Uniform(minimum=-12.186979173823396, maximum=12.186979173823396, name='flux', latex_label='flux', unit=None, boundary=None)\n",
      "11:14 bilby INFO    :   A = Uniform(minimum=-0.08062443955329192, maximum=0.16124887910658384, name='A', latex_label='A', unit=None, boundary=None)\n",
      "11:14 bilby INFO    :   beta = Uniform(minimum=-4, maximum=0, name='beta', latex_label='beta', unit=None, boundary=None)\n",
      "11:14 bilby INFO    :   wave0 = 8730.853329560221\n",
      "11:14 bilby INFO    : Single likelihood evaluation took 4.131e-05 s\n"
     ]
    },
    {
     "data": {
      "application/vnd.jupyter.widget-view+json": {
       "model_id": "2fef1a1568694e9480005efeb8c4f344",
       "version_major": 2,
       "version_minor": 0
      },
      "text/plain": [
       "0it [00:00, ?it/s]"
      ]
     },
     "metadata": {},
     "output_type": "display_data"
    },
    {
     "name": "stderr",
     "output_type": "stream",
     "text": [
      "11:14 bilby INFO    : Checkpoint every check_point_delta_t = 600s\n",
      "11:14 bilby WARNING : Using cached result\n",
      "11:14 bilby INFO    : Summary of results:\n",
      "nsamples: 2294\n",
      "ln_noise_evidence:    nan\n",
      "ln_evidence: 781.231 +/-  0.255\n",
      "ln_bayes_factor:    nan +/-  0.255\n",
      "\n",
      "/Users/myue/Research/Projects/JWST/dependencies/msa_spec_utils/LAE_spec_utils.py:465: RuntimeWarning: divide by zero encountered in power\n",
      "  self.err_fnu = (self.ivar_fnu)**-0.5\n",
      "/Users/myue/Research/Projects/JWST/dependencies/msa_spec_utils/LAE_spec_utils.py:471: RuntimeWarning: invalid value encountered in divide\n",
      "  self.flam = self.fnu * speed_of_light_angstrom / (self.wave)**2 * 1e-29 * 1e18\n",
      "/Users/myue/Research/Projects/JWST/dependencies/msa_spec_utils/LAE_spec_utils.py:472: RuntimeWarning: divide by zero encountered in divide\n",
      "  self.err_flam = self.err_fnu * (speed_of_light_angstrom / (self.wave)**2 * 1e-29 * 1e18)\n",
      "11:14 bilby INFO    : Running for label '4713_9273', output will be saved to '../../data/lya_saves/J0100/bilby_fit_lya_msaexp_pypeit_v2/'\n",
      "11:14 bilby INFO    : Search parameters:\n",
      "11:14 bilby INFO    :   center = Uniform(minimum=8719.078138051242, maximum=8754.02434301337, name='center', latex_label='center', unit=None, boundary=None)\n",
      "11:14 bilby INFO    :   fwhm = Uniform(minimum=300, maximum=1000, name='fwhm', latex_label='fwhm', unit=None, boundary=None)\n",
      "11:14 bilby INFO    :   flux = Uniform(minimum=-18.9671919814957, maximum=18.9671919814957, name='flux', latex_label='flux', unit=None, boundary=None)\n",
      "11:14 bilby INFO    :   A = Uniform(minimum=-0.12238134990560544, maximum=0.24476269981121088, name='A', latex_label='A', unit=None, boundary=None)\n",
      "11:14 bilby INFO    :   beta = Uniform(minimum=-4, maximum=0, name='beta', latex_label='beta', unit=None, boundary=None)\n",
      "11:14 bilby INFO    :   wave0 = 8736.551240532306\n",
      "11:14 bilby INFO    : Single likelihood evaluation took 3.773e-05 s\n"
     ]
    },
    {
     "data": {
      "application/vnd.jupyter.widget-view+json": {
       "model_id": "df9c411f2bc7413d83f71d851fbaa5dc",
       "version_major": 2,
       "version_minor": 0
      },
      "text/plain": [
       "0it [00:00, ?it/s]"
      ]
     },
     "metadata": {},
     "output_type": "display_data"
    },
    {
     "name": "stderr",
     "output_type": "stream",
     "text": [
      "11:14 bilby INFO    : Checkpoint every check_point_delta_t = 600s\n",
      "11:14 bilby WARNING : Using cached result\n",
      "11:14 bilby INFO    : Summary of results:\n",
      "nsamples: 2338\n",
      "ln_noise_evidence:    nan\n",
      "ln_evidence: 665.562 +/-  0.259\n",
      "ln_bayes_factor:    nan +/-  0.259\n",
      "\n",
      "/Users/myue/Research/Projects/JWST/dependencies/msa_spec_utils/LAE_spec_utils.py:465: RuntimeWarning: divide by zero encountered in power\n",
      "  self.err_fnu = (self.ivar_fnu)**-0.5\n",
      "/Users/myue/Research/Projects/JWST/dependencies/msa_spec_utils/LAE_spec_utils.py:471: RuntimeWarning: invalid value encountered in divide\n",
      "  self.flam = self.fnu * speed_of_light_angstrom / (self.wave)**2 * 1e-29 * 1e18\n",
      "/Users/myue/Research/Projects/JWST/dependencies/msa_spec_utils/LAE_spec_utils.py:472: RuntimeWarning: divide by zero encountered in divide\n",
      "  self.err_flam = self.err_fnu * (speed_of_light_angstrom / (self.wave)**2 * 1e-29 * 1e18)\n",
      "11:14 bilby INFO    : Running for label '4713_9970', output will be saved to '../../data/lya_saves/J0100/bilby_fit_lya_msaexp_pypeit_v2/'\n",
      "11:14 bilby INFO    : Search parameters:\n",
      "11:14 bilby INFO    :   center = Uniform(minimum=8886.293334632821, maximum=8921.909740783653, name='center', latex_label='center', unit=None, boundary=None)\n",
      "11:14 bilby INFO    :   fwhm = Uniform(minimum=300, maximum=1000, name='fwhm', latex_label='fwhm', unit=None, boundary=None)\n",
      "11:14 bilby INFO    :   flux = Uniform(minimum=-14.492423612812628, maximum=14.492423612812628, name='flux', latex_label='flux', unit=None, boundary=None)\n",
      "11:14 bilby INFO    :   A = Uniform(minimum=-0.09174938118930798, maximum=0.18349876237861595, name='A', latex_label='A', unit=None, boundary=None)\n",
      "11:14 bilby INFO    :   beta = Uniform(minimum=-4, maximum=0, name='beta', latex_label='beta', unit=None, boundary=None)\n",
      "11:14 bilby INFO    :   wave0 = 8904.101537708237\n",
      "11:14 bilby INFO    : Single likelihood evaluation took 3.784e-05 s\n"
     ]
    },
    {
     "data": {
      "application/vnd.jupyter.widget-view+json": {
       "model_id": "14492ab6740b44198482529c4c7e7bf9",
       "version_major": 2,
       "version_minor": 0
      },
      "text/plain": [
       "0it [00:00, ?it/s]"
      ]
     },
     "metadata": {},
     "output_type": "display_data"
    },
    {
     "name": "stderr",
     "output_type": "stream",
     "text": [
      "11:14 bilby INFO    : Checkpoint every check_point_delta_t = 600s\n",
      "11:14 bilby WARNING : Using cached result\n",
      "11:14 bilby INFO    : Summary of results:\n",
      "nsamples: 2620\n",
      "ln_noise_evidence:    nan\n",
      "ln_evidence: 843.640 +/-  0.271\n",
      "ln_bayes_factor:    nan +/-  0.271\n",
      "\n",
      "/Users/myue/Research/Projects/JWST/dependencies/msa_spec_utils/LAE_spec_utils.py:465: RuntimeWarning: divide by zero encountered in power\n",
      "  self.err_fnu = (self.ivar_fnu)**-0.5\n",
      "/Users/myue/Research/Projects/JWST/dependencies/msa_spec_utils/LAE_spec_utils.py:471: RuntimeWarning: invalid value encountered in divide\n",
      "  self.flam = self.fnu * speed_of_light_angstrom / (self.wave)**2 * 1e-29 * 1e18\n",
      "/Users/myue/Research/Projects/JWST/dependencies/msa_spec_utils/LAE_spec_utils.py:472: RuntimeWarning: divide by zero encountered in divide\n",
      "  self.err_flam = self.err_fnu * (speed_of_light_angstrom / (self.wave)**2 * 1e-29 * 1e18)\n",
      "11:14 bilby INFO    : Running for label '4713_10116', output will be saved to '../../data/lya_saves/J0100/bilby_fit_lya_msaexp_pypeit_v2/'\n",
      "11:14 bilby INFO    : Search parameters:\n",
      "11:14 bilby INFO    :   center = Uniform(minimum=8226.727216807558, maximum=8259.70007138394, name='center', latex_label='center', unit=None, boundary=None)\n",
      "11:14 bilby INFO    :   fwhm = Uniform(minimum=300, maximum=1000, name='fwhm', latex_label='fwhm', unit=None, boundary=None)\n",
      "11:14 bilby INFO    :   flux = Uniform(minimum=-12.583711931496067, maximum=12.583711931496067, name='flux', latex_label='flux', unit=None, boundary=None)\n",
      "11:14 bilby INFO    :   A = Uniform(minimum=-0.08894932377967171, maximum=0.17789864755934343, name='A', latex_label='A', unit=None, boundary=None)\n",
      "11:14 bilby INFO    :   beta = Uniform(minimum=-4, maximum=0, name='beta', latex_label='beta', unit=None, boundary=None)\n",
      "11:14 bilby INFO    :   wave0 = 8243.21364409575\n",
      "11:14 bilby INFO    : Single likelihood evaluation took 3.957e-05 s\n"
     ]
    },
    {
     "data": {
      "application/vnd.jupyter.widget-view+json": {
       "model_id": "6cccf1f31aae4c05b87814c9720850ca",
       "version_major": 2,
       "version_minor": 0
      },
      "text/plain": [
       "0it [00:00, ?it/s]"
      ]
     },
     "metadata": {},
     "output_type": "display_data"
    },
    {
     "name": "stderr",
     "output_type": "stream",
     "text": [
      "11:14 bilby INFO    : Checkpoint every check_point_delta_t = 600s\n",
      "11:14 bilby WARNING : Using cached result\n",
      "11:14 bilby INFO    : Summary of results:\n",
      "nsamples: 2646\n",
      "ln_noise_evidence:    nan\n",
      "ln_evidence: 652.356 +/-  0.279\n",
      "ln_bayes_factor:    nan +/-  0.279\n",
      "\n",
      "/Users/myue/Research/Projects/JWST/dependencies/msa_spec_utils/LAE_spec_utils.py:465: RuntimeWarning: divide by zero encountered in power\n",
      "  self.err_fnu = (self.ivar_fnu)**-0.5\n",
      "/Users/myue/Research/Projects/JWST/dependencies/msa_spec_utils/LAE_spec_utils.py:471: RuntimeWarning: invalid value encountered in divide\n",
      "  self.flam = self.fnu * speed_of_light_angstrom / (self.wave)**2 * 1e-29 * 1e18\n",
      "/Users/myue/Research/Projects/JWST/dependencies/msa_spec_utils/LAE_spec_utils.py:472: RuntimeWarning: divide by zero encountered in divide\n",
      "  self.err_flam = self.err_fnu * (speed_of_light_angstrom / (self.wave)**2 * 1e-29 * 1e18)\n",
      "11:14 bilby INFO    : Running for label '4713_10235', output will be saved to '../../data/lya_saves/J0100/bilby_fit_lya_msaexp_pypeit_v2/'\n",
      "11:14 bilby INFO    : Search parameters:\n",
      "11:14 bilby INFO    :   center = Uniform(minimum=8910.098288731559, maximum=8945.81010552006, name='center', latex_label='center', unit=None, boundary=None)\n",
      "11:14 bilby INFO    :   fwhm = Uniform(minimum=300, maximum=1000, name='fwhm', latex_label='fwhm', unit=None, boundary=None)\n",
      "11:14 bilby INFO    :   flux = Uniform(minimum=-15.418852163082224, maximum=15.418852163082224, name='flux', latex_label='flux', unit=None, boundary=None)\n",
      "11:14 bilby INFO    :   A = Uniform(minimum=-0.10931780787341173, maximum=0.21863561574682347, name='A', latex_label='A', unit=None, boundary=None)\n",
      "11:14 bilby INFO    :   beta = Uniform(minimum=-4, maximum=0, name='beta', latex_label='beta', unit=None, boundary=None)\n",
      "11:14 bilby INFO    :   wave0 = 8927.95419712581\n",
      "11:14 bilby INFO    : Single likelihood evaluation took 3.890e-05 s\n"
     ]
    },
    {
     "data": {
      "application/vnd.jupyter.widget-view+json": {
       "model_id": "95fcb635a5ff407cade7bcc9ea05a0f7",
       "version_major": 2,
       "version_minor": 0
      },
      "text/plain": [
       "0it [00:00, ?it/s]"
      ]
     },
     "metadata": {},
     "output_type": "display_data"
    },
    {
     "name": "stderr",
     "output_type": "stream",
     "text": [
      "11:14 bilby INFO    : Checkpoint every check_point_delta_t = 600s\n",
      "11:14 bilby WARNING : Using cached result\n",
      "11:14 bilby INFO    : Summary of results:\n",
      "nsamples: 2185\n",
      "ln_noise_evidence:    nan\n",
      "ln_evidence: 752.691 +/-  0.249\n",
      "ln_bayes_factor:    nan +/-  0.249\n",
      "\n",
      "/Users/myue/Research/Projects/JWST/dependencies/msa_spec_utils/LAE_spec_utils.py:465: RuntimeWarning: divide by zero encountered in power\n",
      "  self.err_fnu = (self.ivar_fnu)**-0.5\n",
      "/Users/myue/Research/Projects/JWST/dependencies/msa_spec_utils/LAE_spec_utils.py:471: RuntimeWarning: invalid value encountered in divide\n",
      "  self.flam = self.fnu * speed_of_light_angstrom / (self.wave)**2 * 1e-29 * 1e18\n",
      "/Users/myue/Research/Projects/JWST/dependencies/msa_spec_utils/LAE_spec_utils.py:472: RuntimeWarning: divide by zero encountered in divide\n",
      "  self.err_flam = self.err_fnu * (speed_of_light_angstrom / (self.wave)**2 * 1e-29 * 1e18)\n",
      "11:14 bilby INFO    : Running for label '4713_10287', output will be saved to '../../data/lya_saves/J0100/bilby_fit_lya_msaexp_pypeit_v2/'\n",
      "11:14 bilby INFO    : Search parameters:\n",
      "11:14 bilby INFO    :   center = Uniform(minimum=9426.41506017624, maximum=9464.196282862316, name='center', latex_label='center', unit=None, boundary=None)\n",
      "11:14 bilby INFO    :   fwhm = Uniform(minimum=300, maximum=1000, name='fwhm', latex_label='fwhm', unit=None, boundary=None)\n",
      "11:14 bilby INFO    :   flux = Uniform(minimum=-181.25774550011477, maximum=181.25774550011477, name='flux', latex_label='flux', unit=None, boundary=None)\n",
      "11:14 bilby INFO    :   A = Uniform(minimum=-1.081764647265161, maximum=2.163529294530322, name='A', latex_label='A', unit=None, boundary=None)\n",
      "11:14 bilby INFO    :   beta = Uniform(minimum=-4, maximum=0, name='beta', latex_label='beta', unit=None, boundary=None)\n",
      "11:14 bilby INFO    :   wave0 = 9445.305671519278\n",
      "11:14 bilby INFO    : Single likelihood evaluation took 3.922e-05 s\n"
     ]
    },
    {
     "data": {
      "application/vnd.jupyter.widget-view+json": {
       "model_id": "db8b1335dee8460b8649d777a586dfcf",
       "version_major": 2,
       "version_minor": 0
      },
      "text/plain": [
       "0it [00:00, ?it/s]"
      ]
     },
     "metadata": {},
     "output_type": "display_data"
    },
    {
     "name": "stderr",
     "output_type": "stream",
     "text": [
      "11:14 bilby INFO    : Checkpoint every check_point_delta_t = 600s\n",
      "11:14 bilby WARNING : Using cached result\n",
      "11:14 bilby INFO    : Summary of results:\n",
      "nsamples: 4245\n",
      "ln_noise_evidence:    nan\n",
      "ln_evidence: 969.974 +/-  0.402\n",
      "ln_bayes_factor:    nan +/-  0.402\n",
      "\n",
      "/Users/myue/Research/Projects/JWST/dependencies/msa_spec_utils/LAE_spec_utils.py:465: RuntimeWarning: divide by zero encountered in power\n",
      "  self.err_fnu = (self.ivar_fnu)**-0.5\n",
      "/Users/myue/Research/Projects/JWST/dependencies/msa_spec_utils/LAE_spec_utils.py:471: RuntimeWarning: invalid value encountered in divide\n",
      "  self.flam = self.fnu * speed_of_light_angstrom / (self.wave)**2 * 1e-29 * 1e18\n",
      "/Users/myue/Research/Projects/JWST/dependencies/msa_spec_utils/LAE_spec_utils.py:472: RuntimeWarning: divide by zero encountered in divide\n",
      "  self.err_flam = self.err_fnu * (speed_of_light_angstrom / (self.wave)**2 * 1e-29 * 1e18)\n",
      "11:14 bilby INFO    : Running for label '4713_10683', output will be saved to '../../data/lya_saves/J0100/bilby_fit_lya_msaexp_pypeit_v2/'\n",
      "11:14 bilby INFO    : Search parameters:\n",
      "11:14 bilby INFO    :   center = Uniform(minimum=8890.420987790214, maximum=8926.053937641078, name='center', latex_label='center', unit=None, boundary=None)\n",
      "11:14 bilby INFO    :   fwhm = Uniform(minimum=300, maximum=1000, name='fwhm', latex_label='fwhm', unit=None, boundary=None)\n",
      "11:14 bilby INFO    :   flux = Uniform(minimum=-13.914784152552999, maximum=13.914784152552999, name='flux', latex_label='flux', unit=None, boundary=None)\n",
      "11:14 bilby INFO    :   A = Uniform(minimum=-0.08805153193055766, maximum=0.17610306386111532, name='A', latex_label='A', unit=None, boundary=None)\n",
      "11:14 bilby INFO    :   beta = Uniform(minimum=-4, maximum=0, name='beta', latex_label='beta', unit=None, boundary=None)\n",
      "11:14 bilby INFO    :   wave0 = 8908.237462715646\n",
      "11:14 bilby INFO    : Single likelihood evaluation took 3.950e-05 s\n"
     ]
    },
    {
     "data": {
      "application/vnd.jupyter.widget-view+json": {
       "model_id": "6782cc45dbfe4c20912c372b97205368",
       "version_major": 2,
       "version_minor": 0
      },
      "text/plain": [
       "0it [00:00, ?it/s]"
      ]
     },
     "metadata": {},
     "output_type": "display_data"
    },
    {
     "name": "stderr",
     "output_type": "stream",
     "text": [
      "11:14 bilby INFO    : Checkpoint every check_point_delta_t = 600s\n",
      "11:14 bilby WARNING : Using cached result\n",
      "11:14 bilby INFO    : Summary of results:\n",
      "nsamples: 2192\n",
      "ln_noise_evidence:    nan\n",
      "ln_evidence: 768.458 +/-  0.249\n",
      "ln_bayes_factor:    nan +/-  0.249\n",
      "\n",
      "/Users/myue/Research/Projects/JWST/dependencies/msa_spec_utils/LAE_spec_utils.py:465: RuntimeWarning: divide by zero encountered in power\n",
      "  self.err_fnu = (self.ivar_fnu)**-0.5\n",
      "/Users/myue/Research/Projects/JWST/dependencies/msa_spec_utils/LAE_spec_utils.py:471: RuntimeWarning: invalid value encountered in divide\n",
      "  self.flam = self.fnu * speed_of_light_angstrom / (self.wave)**2 * 1e-29 * 1e18\n",
      "/Users/myue/Research/Projects/JWST/dependencies/msa_spec_utils/LAE_spec_utils.py:472: RuntimeWarning: divide by zero encountered in divide\n",
      "  self.err_flam = self.err_fnu * (speed_of_light_angstrom / (self.wave)**2 * 1e-29 * 1e18)\n",
      "11:14 bilby INFO    : Running for label '4713_10998', output will be saved to '../../data/lya_saves/J0100/bilby_fit_lya_msaexp_pypeit_v2/'\n",
      "11:14 bilby INFO    : Search parameters:\n",
      "11:14 bilby INFO    :   center = Uniform(minimum=8888.116143767102, maximum=8923.739855766167, name='center', latex_label='center', unit=None, boundary=None)\n",
      "11:14 bilby INFO    :   fwhm = Uniform(minimum=300, maximum=1000, name='fwhm', latex_label='fwhm', unit=None, boundary=None)\n",
      "11:14 bilby INFO    :   flux = Uniform(minimum=-36.09144869923074, maximum=36.09144869923074, name='flux', latex_label='flux', unit=None, boundary=None)\n",
      "11:14 bilby INFO    :   A = Uniform(minimum=-0.2284427411655734, maximum=0.4568854823311468, name='A', latex_label='A', unit=None, boundary=None)\n",
      "11:14 bilby INFO    :   beta = Uniform(minimum=-4, maximum=0, name='beta', latex_label='beta', unit=None, boundary=None)\n",
      "11:14 bilby INFO    :   wave0 = 8905.927999766634\n",
      "11:14 bilby INFO    : Single likelihood evaluation took 3.774e-05 s\n"
     ]
    },
    {
     "data": {
      "application/vnd.jupyter.widget-view+json": {
       "model_id": "36fad2ce65844cf6974ada2008a15b98",
       "version_major": 2,
       "version_minor": 0
      },
      "text/plain": [
       "0it [00:00, ?it/s]"
      ]
     },
     "metadata": {},
     "output_type": "display_data"
    },
    {
     "name": "stderr",
     "output_type": "stream",
     "text": [
      "11:14 bilby INFO    : Checkpoint every check_point_delta_t = 600s\n",
      "11:14 bilby WARNING : Using cached result\n",
      "11:14 bilby INFO    : Summary of results:\n",
      "nsamples: 2972\n",
      "ln_noise_evidence:    nan\n",
      "ln_evidence: 673.562 +/-  0.310\n",
      "ln_bayes_factor:    nan +/-  0.310\n",
      "\n",
      "/Users/myue/Research/Projects/JWST/dependencies/msa_spec_utils/LAE_spec_utils.py:465: RuntimeWarning: divide by zero encountered in power\n",
      "  self.err_fnu = (self.ivar_fnu)**-0.5\n",
      "/Users/myue/Research/Projects/JWST/dependencies/msa_spec_utils/LAE_spec_utils.py:471: RuntimeWarning: invalid value encountered in divide\n",
      "  self.flam = self.fnu * speed_of_light_angstrom / (self.wave)**2 * 1e-29 * 1e18\n",
      "/Users/myue/Research/Projects/JWST/dependencies/msa_spec_utils/LAE_spec_utils.py:472: RuntimeWarning: divide by zero encountered in divide\n",
      "  self.err_flam = self.err_fnu * (speed_of_light_angstrom / (self.wave)**2 * 1e-29 * 1e18)\n",
      "11:14 bilby INFO    : Running for label '4713_11362', output will be saved to '../../data/lya_saves/J0100/bilby_fit_lya_msaexp_pypeit_v2/'\n",
      "11:14 bilby INFO    : Search parameters:\n",
      "11:14 bilby INFO    :   center = Uniform(minimum=8890.835725888684, maximum=8926.470338016496, name='center', latex_label='center', unit=None, boundary=None)\n",
      "11:14 bilby INFO    :   fwhm = Uniform(minimum=300, maximum=1000, name='fwhm', latex_label='fwhm', unit=None, boundary=None)\n",
      "11:14 bilby INFO    :   flux = Uniform(minimum=-29.42694485095959, maximum=29.42694485095959, name='flux', latex_label='flux', unit=None, boundary=None)\n",
      "11:14 bilby INFO    :   A = Uniform(minimum=-0.18620243599701639, maximum=0.37240487199403277, name='A', latex_label='A', unit=None, boundary=None)\n",
      "11:14 bilby INFO    :   beta = Uniform(minimum=-4, maximum=0, name='beta', latex_label='beta', unit=None, boundary=None)\n",
      "11:14 bilby INFO    :   wave0 = 8908.65303195259\n",
      "11:14 bilby INFO    : Single likelihood evaluation took 4.010e-05 s\n"
     ]
    },
    {
     "data": {
      "application/vnd.jupyter.widget-view+json": {
       "model_id": "564f364457434a3c88b5ea5650473f5a",
       "version_major": 2,
       "version_minor": 0
      },
      "text/plain": [
       "0it [00:00, ?it/s]"
      ]
     },
     "metadata": {},
     "output_type": "display_data"
    },
    {
     "name": "stderr",
     "output_type": "stream",
     "text": [
      "11:14 bilby INFO    : Checkpoint every check_point_delta_t = 600s\n",
      "11:14 bilby WARNING : Using cached result\n",
      "11:14 bilby INFO    : Summary of results:\n",
      "nsamples: 2622\n",
      "ln_noise_evidence:    nan\n",
      "ln_evidence: 694.397 +/-  0.274\n",
      "ln_bayes_factor:    nan +/-  0.274\n",
      "\n",
      "/Users/myue/Research/Projects/JWST/dependencies/msa_spec_utils/LAE_spec_utils.py:465: RuntimeWarning: divide by zero encountered in power\n",
      "  self.err_fnu = (self.ivar_fnu)**-0.5\n",
      "/Users/myue/Research/Projects/JWST/dependencies/msa_spec_utils/LAE_spec_utils.py:471: RuntimeWarning: invalid value encountered in divide\n",
      "  self.flam = self.fnu * speed_of_light_angstrom / (self.wave)**2 * 1e-29 * 1e18\n",
      "/Users/myue/Research/Projects/JWST/dependencies/msa_spec_utils/LAE_spec_utils.py:472: RuntimeWarning: divide by zero encountered in divide\n",
      "  self.err_flam = self.err_fnu * (speed_of_light_angstrom / (self.wave)**2 * 1e-29 * 1e18)\n",
      "11:14 bilby INFO    : Running for label '4713_11743', output will be saved to '../../data/lya_saves/J0100/bilby_fit_lya_msaexp_pypeit_v2/'\n",
      "11:14 bilby INFO    : Search parameters:\n",
      "11:14 bilby INFO    :   center = Uniform(minimum=9476.836807066155, maximum=9514.820120922132, name='center', latex_label='center', unit=None, boundary=None)\n",
      "11:14 bilby INFO    :   fwhm = Uniform(minimum=300, maximum=1000, name='fwhm', latex_label='fwhm', unit=None, boundary=None)\n",
      "11:14 bilby INFO    :   flux = Uniform(minimum=-19.231548146815264, maximum=19.231548146815264, name='flux', latex_label='flux', unit=None, boundary=None)\n",
      "11:14 bilby INFO    :   A = Uniform(minimum=-0.11416516624680166, maximum=0.22833033249360332, name='A', latex_label='A', unit=None, boundary=None)\n",
      "11:14 bilby INFO    :   beta = Uniform(minimum=-4, maximum=0, name='beta', latex_label='beta', unit=None, boundary=None)\n",
      "11:14 bilby INFO    :   wave0 = 9495.828463994143\n",
      "11:14 bilby INFO    : Single likelihood evaluation took 3.896e-05 s\n"
     ]
    },
    {
     "data": {
      "application/vnd.jupyter.widget-view+json": {
       "model_id": "f4d2c32bcaf94629bed5cdddf92832e9",
       "version_major": 2,
       "version_minor": 0
      },
      "text/plain": [
       "0it [00:00, ?it/s]"
      ]
     },
     "metadata": {},
     "output_type": "display_data"
    },
    {
     "name": "stderr",
     "output_type": "stream",
     "text": [
      "11:14 bilby INFO    : Checkpoint every check_point_delta_t = 600s\n",
      "11:14 bilby WARNING : Using cached result\n",
      "11:14 bilby INFO    : Summary of results:\n",
      "nsamples: 2998\n",
      "ln_noise_evidence:    nan\n",
      "ln_evidence: 619.841 +/-  0.306\n",
      "ln_bayes_factor:    nan +/-  0.306\n",
      "\n",
      "/Users/myue/Research/Projects/JWST/dependencies/msa_spec_utils/LAE_spec_utils.py:465: RuntimeWarning: divide by zero encountered in power\n",
      "  self.err_fnu = (self.ivar_fnu)**-0.5\n",
      "/Users/myue/Research/Projects/JWST/dependencies/msa_spec_utils/LAE_spec_utils.py:471: RuntimeWarning: invalid value encountered in divide\n",
      "  self.flam = self.fnu * speed_of_light_angstrom / (self.wave)**2 * 1e-29 * 1e18\n",
      "/Users/myue/Research/Projects/JWST/dependencies/msa_spec_utils/LAE_spec_utils.py:472: RuntimeWarning: divide by zero encountered in divide\n",
      "  self.err_flam = self.err_fnu * (speed_of_light_angstrom / (self.wave)**2 * 1e-29 * 1e18)\n",
      "11:14 bilby INFO    : Running for label '4713_11981', output will be saved to '../../data/lya_saves/J0100/bilby_fit_lya_msaexp_pypeit_v2/'\n",
      "11:14 bilby INFO    : Search parameters:\n",
      "11:14 bilby INFO    :   center = Uniform(minimum=9489.694684900249, maximum=9527.729533336722, name='center', latex_label='center', unit=None, boundary=None)\n",
      "11:14 bilby INFO    :   fwhm = Uniform(minimum=300, maximum=1000, name='fwhm', latex_label='fwhm', unit=None, boundary=None)\n",
      "11:14 bilby INFO    :   flux = Uniform(minimum=-21.78897315214655, maximum=21.78897315214655, name='flux', latex_label='flux', unit=None, boundary=None)\n",
      "11:14 bilby INFO    :   A = Uniform(minimum=-0.1291716754595358, maximum=0.2583433509190716, name='A', latex_label='A', unit=None, boundary=None)\n",
      "11:14 bilby INFO    :   beta = Uniform(minimum=-4, maximum=0, name='beta', latex_label='beta', unit=None, boundary=None)\n",
      "11:14 bilby INFO    :   wave0 = 9508.712109118485\n",
      "11:14 bilby INFO    : Single likelihood evaluation took 3.861e-05 s\n"
     ]
    },
    {
     "data": {
      "application/vnd.jupyter.widget-view+json": {
       "model_id": "d11362b3be9a4ceab2454d430e3ef89a",
       "version_major": 2,
       "version_minor": 0
      },
      "text/plain": [
       "0it [00:00, ?it/s]"
      ]
     },
     "metadata": {},
     "output_type": "display_data"
    },
    {
     "name": "stderr",
     "output_type": "stream",
     "text": [
      "11:14 bilby INFO    : Checkpoint every check_point_delta_t = 600s\n",
      "11:14 bilby WARNING : Using cached result\n",
      "11:14 bilby INFO    : Summary of results:\n",
      "nsamples: 3356\n",
      "ln_noise_evidence:    nan\n",
      "ln_evidence: 705.318 +/-  0.335\n",
      "ln_bayes_factor:    nan +/-  0.335\n",
      "\n",
      "11:14 bilby INFO    : Running for label '4713_12217', output will be saved to '../../data/lya_saves/J0100/bilby_fit_lya_msaexp_pypeit_v2/'\n",
      "11:14 bilby INFO    : Search parameters:\n",
      "11:14 bilby INFO    :   center = Uniform(minimum=9430.675082129912, maximum=9468.473379052275, name='center', latex_label='center', unit=None, boundary=None)\n",
      "11:14 bilby INFO    :   fwhm = Uniform(minimum=300, maximum=1000, name='fwhm', latex_label='fwhm', unit=None, boundary=None)\n",
      "11:14 bilby INFO    :   flux = Uniform(minimum=-11.74985044904849, maximum=11.74985044904849, name='flux', latex_label='flux', unit=None, boundary=None)\n",
      "11:14 bilby INFO    :   A = Uniform(minimum=-0.0700926251450307, maximum=0.1401852502900614, name='A', latex_label='A', unit=None, boundary=None)\n",
      "11:14 bilby INFO    :   beta = Uniform(minimum=-4, maximum=0, name='beta', latex_label='beta', unit=None, boundary=None)\n",
      "11:14 bilby INFO    :   wave0 = 9449.574230591094\n",
      "11:14 bilby INFO    : Single likelihood evaluation took 4.586e-05 s\n"
     ]
    },
    {
     "data": {
      "application/vnd.jupyter.widget-view+json": {
       "model_id": "90b0a061d8a84b74a1fe77d57a0fbd0e",
       "version_major": 2,
       "version_minor": 0
      },
      "text/plain": [
       "0it [00:00, ?it/s]"
      ]
     },
     "metadata": {},
     "output_type": "display_data"
    },
    {
     "name": "stderr",
     "output_type": "stream",
     "text": [
      "11:14 bilby INFO    : Checkpoint every check_point_delta_t = 600s\n",
      "11:14 bilby WARNING : Using cached result\n",
      "11:14 bilby INFO    : Summary of results:\n",
      "nsamples: 2763\n",
      "ln_noise_evidence:    nan\n",
      "ln_evidence: 1078.776 +/-  0.287\n",
      "ln_bayes_factor:    nan +/-  0.287\n",
      "\n",
      "/Users/myue/Research/Projects/JWST/dependencies/msa_spec_utils/LAE_spec_utils.py:465: RuntimeWarning: divide by zero encountered in power\n",
      "  self.err_fnu = (self.ivar_fnu)**-0.5\n",
      "/Users/myue/Research/Projects/JWST/dependencies/msa_spec_utils/LAE_spec_utils.py:471: RuntimeWarning: invalid value encountered in divide\n",
      "  self.flam = self.fnu * speed_of_light_angstrom / (self.wave)**2 * 1e-29 * 1e18\n",
      "/Users/myue/Research/Projects/JWST/dependencies/msa_spec_utils/LAE_spec_utils.py:472: RuntimeWarning: divide by zero encountered in divide\n",
      "  self.err_flam = self.err_fnu * (speed_of_light_angstrom / (self.wave)**2 * 1e-29 * 1e18)\n",
      "11:14 bilby INFO    : Running for label '4713_12285', output will be saved to '../../data/lya_saves/J0100/bilby_fit_lya_msaexp_pypeit_v2/'\n",
      "11:14 bilby INFO    : Search parameters:\n",
      "11:14 bilby INFO    :   center = Uniform(minimum=8738.747975157255, maximum=8773.773017141853, name='center', latex_label='center', unit=None, boundary=None)\n",
      "11:14 bilby INFO    :   fwhm = Uniform(minimum=300, maximum=1000, name='fwhm', latex_label='fwhm', unit=None, boundary=None)\n",
      "11:14 bilby INFO    :   flux = Uniform(minimum=-15.33090967573781, maximum=15.33090967573781, name='flux', latex_label='flux', unit=None, boundary=None)\n",
      "11:14 bilby INFO    :   A = Uniform(minimum=-0.0986964380742333, maximum=0.1973928761484666, name='A', latex_label='A', unit=None, boundary=None)\n",
      "11:14 bilby INFO    :   beta = Uniform(minimum=-4, maximum=0, name='beta', latex_label='beta', unit=None, boundary=None)\n",
      "11:14 bilby INFO    :   wave0 = 8756.260496149554\n",
      "11:14 bilby INFO    : Single likelihood evaluation took 4.049e-05 s\n"
     ]
    },
    {
     "data": {
      "application/vnd.jupyter.widget-view+json": {
       "model_id": "711b1aeec0354fd49845b23aebe9bb7f",
       "version_major": 2,
       "version_minor": 0
      },
      "text/plain": [
       "0it [00:00, ?it/s]"
      ]
     },
     "metadata": {},
     "output_type": "display_data"
    },
    {
     "name": "stderr",
     "output_type": "stream",
     "text": [
      "11:14 bilby INFO    : Checkpoint every check_point_delta_t = 600s\n",
      "11:14 bilby WARNING : Using cached result\n",
      "11:14 bilby INFO    : Summary of results:\n",
      "nsamples: 2430\n",
      "ln_noise_evidence:    nan\n",
      "ln_evidence: 786.928 +/-  0.271\n",
      "ln_bayes_factor:    nan +/-  0.271\n",
      "\n",
      "/Users/myue/Research/Projects/JWST/dependencies/msa_spec_utils/LAE_spec_utils.py:465: RuntimeWarning: divide by zero encountered in power\n",
      "  self.err_fnu = (self.ivar_fnu)**-0.5\n",
      "/Users/myue/Research/Projects/JWST/dependencies/msa_spec_utils/LAE_spec_utils.py:471: RuntimeWarning: invalid value encountered in divide\n",
      "  self.flam = self.fnu * speed_of_light_angstrom / (self.wave)**2 * 1e-29 * 1e18\n",
      "/Users/myue/Research/Projects/JWST/dependencies/msa_spec_utils/LAE_spec_utils.py:472: RuntimeWarning: divide by zero encountered in divide\n",
      "  self.err_flam = self.err_fnu * (speed_of_light_angstrom / (self.wave)**2 * 1e-29 * 1e18)\n",
      "11:14 bilby INFO    : Running for label '4713_12643', output will be saved to '../../data/lya_saves/J0100/bilby_fit_lya_msaexp_pypeit_v2/'\n",
      "11:14 bilby INFO    : Search parameters:\n",
      "11:14 bilby INFO    :   center = Uniform(minimum=9207.305521514645, maximum=9244.208549656989, name='center', latex_label='center', unit=None, boundary=None)\n",
      "11:14 bilby INFO    :   fwhm = Uniform(minimum=300, maximum=1000, name='fwhm', latex_label='fwhm', unit=None, boundary=None)\n",
      "11:14 bilby INFO    :   flux = Uniform(minimum=-15.349296399417545, maximum=15.349296399417545, name='flux', latex_label='flux', unit=None, boundary=None)\n",
      "11:14 bilby INFO    :   A = Uniform(minimum=-0.0937861454732534, maximum=0.1875722909465068, name='A', latex_label='A', unit=None, boundary=None)\n",
      "11:14 bilby INFO    :   beta = Uniform(minimum=-4, maximum=0, name='beta', latex_label='beta', unit=None, boundary=None)\n",
      "11:14 bilby INFO    :   wave0 = 9225.757035585817\n",
      "11:14 bilby INFO    : Single likelihood evaluation took 3.977e-05 s\n"
     ]
    },
    {
     "data": {
      "application/vnd.jupyter.widget-view+json": {
       "model_id": "bed0f6b09b4147bbafe19235e3c098ca",
       "version_major": 2,
       "version_minor": 0
      },
      "text/plain": [
       "0it [00:00, ?it/s]"
      ]
     },
     "metadata": {},
     "output_type": "display_data"
    },
    {
     "name": "stderr",
     "output_type": "stream",
     "text": [
      "11:14 bilby INFO    : Checkpoint every check_point_delta_t = 600s\n",
      "11:14 bilby WARNING : Using cached result\n",
      "11:14 bilby INFO    : Summary of results:\n",
      "nsamples: 2408\n",
      "ln_noise_evidence:    nan\n",
      "ln_evidence: 815.702 +/-  0.266\n",
      "ln_bayes_factor:    nan +/-  0.266\n",
      "\n",
      "/Users/myue/Research/Projects/JWST/dependencies/msa_spec_utils/LAE_spec_utils.py:465: RuntimeWarning: divide by zero encountered in power\n",
      "  self.err_fnu = (self.ivar_fnu)**-0.5\n",
      "/Users/myue/Research/Projects/JWST/dependencies/msa_spec_utils/LAE_spec_utils.py:471: RuntimeWarning: invalid value encountered in divide\n",
      "  self.flam = self.fnu * speed_of_light_angstrom / (self.wave)**2 * 1e-29 * 1e18\n",
      "/Users/myue/Research/Projects/JWST/dependencies/msa_spec_utils/LAE_spec_utils.py:472: RuntimeWarning: divide by zero encountered in divide\n",
      "  self.err_flam = self.err_fnu * (speed_of_light_angstrom / (self.wave)**2 * 1e-29 * 1e18)\n",
      "11:14 bilby INFO    : Running for label '4713_12754', output will be saved to '../../data/lya_saves/J0100/bilby_fit_lya_msaexp_pypeit_v2/'\n",
      "11:14 bilby INFO    : Search parameters:\n",
      "11:14 bilby INFO    :   center = Uniform(minimum=8889.652917737343, maximum=8925.28278915112, name='center', latex_label='center', unit=None, boundary=None)\n",
      "11:14 bilby INFO    :   fwhm = Uniform(minimum=300, maximum=1000, name='fwhm', latex_label='fwhm', unit=None, boundary=None)\n",
      "11:14 bilby INFO    :   flux = Uniform(minimum=-10.844900535426522, maximum=10.844900535426522, name='flux', latex_label='flux', unit=None, boundary=None)\n",
      "11:14 bilby INFO    :   A = Uniform(minimum=-0.11074033439876126, maximum=0.2214806687975225, name='A', latex_label='A', unit=None, boundary=None)\n",
      "11:14 bilby INFO    :   beta = Uniform(minimum=-4, maximum=0, name='beta', latex_label='beta', unit=None, boundary=None)\n",
      "11:14 bilby INFO    :   wave0 = 8907.467853444232\n",
      "11:14 bilby INFO    : Single likelihood evaluation took 4.005e-05 s\n"
     ]
    },
    {
     "data": {
      "application/vnd.jupyter.widget-view+json": {
       "model_id": "72703a9784234123802195c540c3ddf5",
       "version_major": 2,
       "version_minor": 0
      },
      "text/plain": [
       "0it [00:00, ?it/s]"
      ]
     },
     "metadata": {},
     "output_type": "display_data"
    },
    {
     "name": "stderr",
     "output_type": "stream",
     "text": [
      "11:14 bilby INFO    : Checkpoint every check_point_delta_t = 600s\n",
      "11:14 bilby WARNING : Using cached result\n",
      "11:14 bilby INFO    : Summary of results:\n",
      "nsamples: 2415\n",
      "ln_noise_evidence:    nan\n",
      "ln_evidence: 774.489 +/-  0.258\n",
      "ln_bayes_factor:    nan +/-  0.258\n",
      "\n",
      "/Users/myue/Research/Projects/JWST/dependencies/msa_spec_utils/LAE_spec_utils.py:465: RuntimeWarning: divide by zero encountered in power\n",
      "  self.err_fnu = (self.ivar_fnu)**-0.5\n",
      "/Users/myue/Research/Projects/JWST/dependencies/msa_spec_utils/LAE_spec_utils.py:471: RuntimeWarning: invalid value encountered in divide\n",
      "  self.flam = self.fnu * speed_of_light_angstrom / (self.wave)**2 * 1e-29 * 1e18\n",
      "/Users/myue/Research/Projects/JWST/dependencies/msa_spec_utils/LAE_spec_utils.py:472: RuntimeWarning: divide by zero encountered in divide\n",
      "  self.err_flam = self.err_fnu * (speed_of_light_angstrom / (self.wave)**2 * 1e-29 * 1e18)\n",
      "11:14 bilby INFO    : Running for label '4713_12817', output will be saved to '../../data/lya_saves/J0100/bilby_fit_lya_msaexp_pypeit_v2/'\n",
      "11:14 bilby INFO    : Search parameters:\n",
      "11:14 bilby INFO    :   center = Uniform(minimum=8379.238106061242, maximum=8412.822226726817, name='center', latex_label='center', unit=None, boundary=None)\n",
      "11:14 bilby INFO    :   fwhm = Uniform(minimum=300, maximum=1000, name='fwhm', latex_label='fwhm', unit=None, boundary=None)\n",
      "11:14 bilby INFO    :   flux = Uniform(minimum=-22.57637582575848, maximum=22.57637582575848, name='flux', latex_label='flux', unit=None, boundary=None)\n",
      "11:14 bilby INFO    :   A = Uniform(minimum=-0.1515767054915369, maximum=0.3031534109830738, name='A', latex_label='A', unit=None, boundary=None)\n",
      "11:14 bilby INFO    :   beta = Uniform(minimum=-4, maximum=0, name='beta', latex_label='beta', unit=None, boundary=None)\n",
      "11:14 bilby INFO    :   wave0 = 8396.03016639403\n",
      "11:14 bilby INFO    : Single likelihood evaluation took 4.023e-05 s\n"
     ]
    },
    {
     "data": {
      "application/vnd.jupyter.widget-view+json": {
       "model_id": "7e9817d10be744a8aa5c19e25dea459d",
       "version_major": 2,
       "version_minor": 0
      },
      "text/plain": [
       "0it [00:00, ?it/s]"
      ]
     },
     "metadata": {},
     "output_type": "display_data"
    },
    {
     "name": "stderr",
     "output_type": "stream",
     "text": [
      "11:14 bilby INFO    : Checkpoint every check_point_delta_t = 600s\n",
      "11:14 bilby WARNING : Using cached result\n",
      "11:14 bilby INFO    : Summary of results:\n",
      "nsamples: 2556\n",
      "ln_noise_evidence:    nan\n",
      "ln_evidence: 753.963 +/-  0.282\n",
      "ln_bayes_factor:    nan +/-  0.282\n",
      "\n",
      "/Users/myue/Research/Projects/JWST/dependencies/msa_spec_utils/LAE_spec_utils.py:465: RuntimeWarning: divide by zero encountered in power\n",
      "  self.err_fnu = (self.ivar_fnu)**-0.5\n",
      "/Users/myue/Research/Projects/JWST/dependencies/msa_spec_utils/LAE_spec_utils.py:471: RuntimeWarning: invalid value encountered in divide\n",
      "  self.flam = self.fnu * speed_of_light_angstrom / (self.wave)**2 * 1e-29 * 1e18\n",
      "/Users/myue/Research/Projects/JWST/dependencies/msa_spec_utils/LAE_spec_utils.py:472: RuntimeWarning: divide by zero encountered in divide\n",
      "  self.err_flam = self.err_fnu * (speed_of_light_angstrom / (self.wave)**2 * 1e-29 * 1e18)\n",
      "11:14 bilby INFO    : Running for label '4713_13590', output will be saved to '../../data/lya_saves/J0100/bilby_fit_lya_msaexp_pypeit_v2/'\n",
      "11:14 bilby INFO    : Search parameters:\n",
      "11:14 bilby INFO    :   center = Uniform(minimum=8720.551841101316, maximum=8755.503952688896, name='center', latex_label='center', unit=None, boundary=None)\n",
      "11:14 bilby INFO    :   fwhm = Uniform(minimum=300, maximum=1000, name='fwhm', latex_label='fwhm', unit=None, boundary=None)\n",
      "11:14 bilby INFO    :   flux = Uniform(minimum=-13.448981322639689, maximum=13.448981322639689, name='flux', latex_label='flux', unit=None, boundary=None)\n",
      "11:14 bilby INFO    :   A = Uniform(minimum=-0.09035610174608735, maximum=0.1807122034921747, name='A', latex_label='A', unit=None, boundary=None)\n",
      "11:14 bilby INFO    :   beta = Uniform(minimum=-4, maximum=0, name='beta', latex_label='beta', unit=None, boundary=None)\n",
      "11:14 bilby INFO    :   wave0 = 8738.027896895106\n",
      "11:14 bilby INFO    : Single likelihood evaluation took 3.959e-05 s\n"
     ]
    },
    {
     "data": {
      "application/vnd.jupyter.widget-view+json": {
       "model_id": "e1923a15863246fbbd7f41e474f2a665",
       "version_major": 2,
       "version_minor": 0
      },
      "text/plain": [
       "0it [00:00, ?it/s]"
      ]
     },
     "metadata": {},
     "output_type": "display_data"
    },
    {
     "name": "stderr",
     "output_type": "stream",
     "text": [
      "11:14 bilby INFO    : Checkpoint every check_point_delta_t = 600s\n",
      "11:14 bilby WARNING : Using cached result\n",
      "11:14 bilby INFO    : Summary of results:\n",
      "nsamples: 2036\n",
      "ln_noise_evidence:    nan\n",
      "ln_evidence: 705.133 +/-  0.238\n",
      "ln_bayes_factor:    nan +/-  0.238\n",
      "\n",
      "/Users/myue/Research/Projects/JWST/dependencies/msa_spec_utils/LAE_spec_utils.py:465: RuntimeWarning: divide by zero encountered in power\n",
      "  self.err_fnu = (self.ivar_fnu)**-0.5\n",
      "/Users/myue/Research/Projects/JWST/dependencies/msa_spec_utils/LAE_spec_utils.py:471: RuntimeWarning: invalid value encountered in divide\n",
      "  self.flam = self.fnu * speed_of_light_angstrom / (self.wave)**2 * 1e-29 * 1e18\n",
      "/Users/myue/Research/Projects/JWST/dependencies/msa_spec_utils/LAE_spec_utils.py:472: RuntimeWarning: divide by zero encountered in divide\n",
      "  self.err_flam = self.err_fnu * (speed_of_light_angstrom / (self.wave)**2 * 1e-29 * 1e18)\n",
      "11:14 bilby INFO    : Running for label '4713_13753', output will be saved to '../../data/lya_saves/J0100/bilby_fit_lya_msaexp_pypeit_v2/'\n",
      "11:14 bilby INFO    : Search parameters:\n",
      "11:14 bilby INFO    :   center = Uniform(minimum=8711.525839073342, maximum=8746.441774300087, name='center', latex_label='center', unit=None, boundary=None)\n",
      "11:14 bilby INFO    :   fwhm = Uniform(minimum=300, maximum=1000, name='fwhm', latex_label='fwhm', unit=None, boundary=None)\n",
      "11:14 bilby INFO    :   flux = Uniform(minimum=-17.666144767333243, maximum=17.666144767333243, name='flux', latex_label='flux', unit=None, boundary=None)\n",
      "11:14 bilby INFO    :   A = Uniform(minimum=-0.1405594813765328, maximum=0.2811189627530656, name='A', latex_label='A', unit=None, boundary=None)\n",
      "11:14 bilby INFO    :   beta = Uniform(minimum=-4, maximum=0, name='beta', latex_label='beta', unit=None, boundary=None)\n",
      "11:14 bilby INFO    :   wave0 = 8728.983806686714\n",
      "11:14 bilby INFO    : Single likelihood evaluation took 4.007e-05 s\n"
     ]
    },
    {
     "data": {
      "application/vnd.jupyter.widget-view+json": {
       "model_id": "d7816228e43e4c37bfa4cc1cc63907ff",
       "version_major": 2,
       "version_minor": 0
      },
      "text/plain": [
       "0it [00:00, ?it/s]"
      ]
     },
     "metadata": {},
     "output_type": "display_data"
    },
    {
     "name": "stderr",
     "output_type": "stream",
     "text": [
      "11:14 bilby INFO    : Checkpoint every check_point_delta_t = 600s\n",
      "11:14 bilby WARNING : Using cached result\n",
      "11:14 bilby INFO    : Summary of results:\n",
      "nsamples: 2469\n",
      "ln_noise_evidence:    nan\n",
      "ln_evidence: 704.125 +/-  0.266\n",
      "ln_bayes_factor:    nan +/-  0.266\n",
      "\n",
      "/Users/myue/Research/Projects/JWST/dependencies/msa_spec_utils/LAE_spec_utils.py:465: RuntimeWarning: divide by zero encountered in power\n",
      "  self.err_fnu = (self.ivar_fnu)**-0.5\n",
      "/Users/myue/Research/Projects/JWST/dependencies/msa_spec_utils/LAE_spec_utils.py:471: RuntimeWarning: invalid value encountered in divide\n",
      "  self.flam = self.fnu * speed_of_light_angstrom / (self.wave)**2 * 1e-29 * 1e18\n",
      "/Users/myue/Research/Projects/JWST/dependencies/msa_spec_utils/LAE_spec_utils.py:472: RuntimeWarning: divide by zero encountered in divide\n",
      "  self.err_flam = self.err_fnu * (speed_of_light_angstrom / (self.wave)**2 * 1e-29 * 1e18)\n",
      "11:14 bilby INFO    : Running for label '4713_13864', output will be saved to '../../data/lya_saves/J0100/bilby_fit_lya_msaexp_pypeit_v2/'\n",
      "11:14 bilby INFO    : Search parameters:\n",
      "11:14 bilby INFO    :   center = Uniform(minimum=8827.828795042835, maximum=8863.210874381683, name='center', latex_label='center', unit=None, boundary=None)\n",
      "11:14 bilby INFO    :   fwhm = Uniform(minimum=300, maximum=1000, name='fwhm', latex_label='fwhm', unit=None, boundary=None)\n",
      "11:14 bilby INFO    :   flux = Uniform(minimum=-9.099089154401778, maximum=9.099089154401778, name='flux', latex_label='flux', unit=None, boundary=None)\n",
      "11:14 bilby INFO    :   A = Uniform(minimum=-0.06758065546583406, maximum=0.1351613109316681, name='A', latex_label='A', unit=None, boundary=None)\n",
      "11:14 bilby INFO    :   beta = Uniform(minimum=-4, maximum=0, name='beta', latex_label='beta', unit=None, boundary=None)\n",
      "11:14 bilby INFO    :   wave0 = 8845.519834712259\n",
      "11:14 bilby INFO    : Single likelihood evaluation took 4.174e-05 s\n"
     ]
    },
    {
     "data": {
      "application/vnd.jupyter.widget-view+json": {
       "model_id": "b57bbb37f93749a49ee014d050843ea2",
       "version_major": 2,
       "version_minor": 0
      },
      "text/plain": [
       "0it [00:00, ?it/s]"
      ]
     },
     "metadata": {},
     "output_type": "display_data"
    },
    {
     "name": "stderr",
     "output_type": "stream",
     "text": [
      "11:14 bilby INFO    : Checkpoint every check_point_delta_t = 600s\n",
      "11:14 bilby WARNING : Using cached result\n",
      "11:14 bilby INFO    : Summary of results:\n",
      "nsamples: 2317\n",
      "ln_noise_evidence:    nan\n",
      "ln_evidence: 924.305 +/-  0.253\n",
      "ln_bayes_factor:    nan +/-  0.253\n",
      "\n",
      "/Users/myue/Research/Projects/JWST/dependencies/msa_spec_utils/LAE_spec_utils.py:465: RuntimeWarning: divide by zero encountered in power\n",
      "  self.err_fnu = (self.ivar_fnu)**-0.5\n",
      "/Users/myue/Research/Projects/JWST/dependencies/msa_spec_utils/LAE_spec_utils.py:471: RuntimeWarning: invalid value encountered in divide\n",
      "  self.flam = self.fnu * speed_of_light_angstrom / (self.wave)**2 * 1e-29 * 1e18\n",
      "/Users/myue/Research/Projects/JWST/dependencies/msa_spec_utils/LAE_spec_utils.py:472: RuntimeWarning: divide by zero encountered in divide\n",
      "  self.err_flam = self.err_fnu * (speed_of_light_angstrom / (self.wave)**2 * 1e-29 * 1e18)\n",
      "11:14 bilby INFO    : Running for label '4713_15162', output will be saved to '../../data/lya_saves/J0100/bilby_fit_lya_msaexp_pypeit_v2/'\n",
      "11:14 bilby INFO    : Search parameters:\n",
      "11:14 bilby INFO    :   center = Uniform(minimum=8727.415517506612, maximum=8762.395138819262, name='center', latex_label='center', unit=None, boundary=None)\n",
      "11:14 bilby INFO    :   fwhm = Uniform(minimum=300, maximum=1000, name='fwhm', latex_label='fwhm', unit=None, boundary=None)\n",
      "11:14 bilby INFO    :   flux = Uniform(minimum=-10.916794154814136, maximum=10.916794154814136, name='flux', latex_label='flux', unit=None, boundary=None)\n",
      "11:14 bilby INFO    :   A = Uniform(minimum=-0.07037075926604114, maximum=0.14074151853208228, name='A', latex_label='A', unit=None, boundary=None)\n",
      "11:14 bilby INFO    :   beta = Uniform(minimum=-4, maximum=0, name='beta', latex_label='beta', unit=None, boundary=None)\n",
      "11:14 bilby INFO    :   wave0 = 8744.905328162937\n",
      "11:14 bilby INFO    : Single likelihood evaluation took 3.917e-05 s\n"
     ]
    },
    {
     "data": {
      "application/vnd.jupyter.widget-view+json": {
       "model_id": "64410d1d77fb4a66b03d14caf3bebe3a",
       "version_major": 2,
       "version_minor": 0
      },
      "text/plain": [
       "0it [00:00, ?it/s]"
      ]
     },
     "metadata": {},
     "output_type": "display_data"
    },
    {
     "name": "stderr",
     "output_type": "stream",
     "text": [
      "11:14 bilby INFO    : Checkpoint every check_point_delta_t = 600s\n",
      "11:14 bilby WARNING : Using cached result\n",
      "11:14 bilby INFO    : Summary of results:\n",
      "nsamples: 2126\n",
      "ln_noise_evidence:    nan\n",
      "ln_evidence: 639.167 +/-  0.240\n",
      "ln_bayes_factor:    nan +/-  0.240\n",
      "\n",
      "/Users/myue/Research/Projects/JWST/dependencies/msa_spec_utils/LAE_spec_utils.py:465: RuntimeWarning: divide by zero encountered in power\n",
      "  self.err_fnu = (self.ivar_fnu)**-0.5\n",
      "/Users/myue/Research/Projects/JWST/dependencies/msa_spec_utils/LAE_spec_utils.py:471: RuntimeWarning: invalid value encountered in divide\n",
      "  self.flam = self.fnu * speed_of_light_angstrom / (self.wave)**2 * 1e-29 * 1e18\n",
      "/Users/myue/Research/Projects/JWST/dependencies/msa_spec_utils/LAE_spec_utils.py:472: RuntimeWarning: divide by zero encountered in divide\n",
      "  self.err_flam = self.err_fnu * (speed_of_light_angstrom / (self.wave)**2 * 1e-29 * 1e18)\n",
      "11:14 bilby INFO    : Running for label '4713_15437', output will be saved to '../../data/lya_saves/J0100/bilby_fit_lya_msaexp_pypeit_v2/'\n",
      "11:14 bilby INFO    : Search parameters:\n",
      "11:14 bilby INFO    :   center = Uniform(minimum=9424.296368962343, maximum=9462.069099900069, name='center', latex_label='center', unit=None, boundary=None)\n",
      "11:14 bilby INFO    :   fwhm = Uniform(minimum=300, maximum=1000, name='fwhm', latex_label='fwhm', unit=None, boundary=None)\n",
      "11:14 bilby INFO    :   flux = Uniform(minimum=-11.92592890563806, maximum=11.92592890563806, name='flux', latex_label='flux', unit=None, boundary=None)\n",
      "11:14 bilby INFO    :   A = Uniform(minimum=-0.0736532482062429, maximum=0.1473064964124858, name='A', latex_label='A', unit=None, boundary=None)\n",
      "11:14 bilby INFO    :   beta = Uniform(minimum=-4, maximum=0, name='beta', latex_label='beta', unit=None, boundary=None)\n",
      "11:14 bilby INFO    :   wave0 = 9443.182734431206\n",
      "11:14 bilby INFO    : Single likelihood evaluation took 4.039e-05 s\n"
     ]
    },
    {
     "data": {
      "application/vnd.jupyter.widget-view+json": {
       "model_id": "fd6449d104794f22b5d81761bb98b5ab",
       "version_major": 2,
       "version_minor": 0
      },
      "text/plain": [
       "0it [00:00, ?it/s]"
      ]
     },
     "metadata": {},
     "output_type": "display_data"
    },
    {
     "name": "stderr",
     "output_type": "stream",
     "text": [
      "11:14 bilby INFO    : Checkpoint every check_point_delta_t = 600s\n",
      "11:14 bilby WARNING : Using cached result\n",
      "11:14 bilby INFO    : Summary of results:\n",
      "nsamples: 2260\n",
      "ln_noise_evidence:    nan\n",
      "ln_evidence: 902.985 +/-  0.249\n",
      "ln_bayes_factor:    nan +/-  0.249\n",
      "\n",
      "/Users/myue/Research/Projects/JWST/dependencies/msa_spec_utils/LAE_spec_utils.py:465: RuntimeWarning: divide by zero encountered in power\n",
      "  self.err_fnu = (self.ivar_fnu)**-0.5\n",
      "/Users/myue/Research/Projects/JWST/dependencies/msa_spec_utils/LAE_spec_utils.py:471: RuntimeWarning: invalid value encountered in divide\n",
      "  self.flam = self.fnu * speed_of_light_angstrom / (self.wave)**2 * 1e-29 * 1e18\n",
      "/Users/myue/Research/Projects/JWST/dependencies/msa_spec_utils/LAE_spec_utils.py:472: RuntimeWarning: divide by zero encountered in divide\n",
      "  self.err_flam = self.err_fnu * (speed_of_light_angstrom / (self.wave)**2 * 1e-29 * 1e18)\n",
      "11:14 bilby INFO    : Running for label '4713_15612', output will be saved to '../../data/lya_saves/J0100/bilby_fit_lya_msaexp_pypeit_v2/'\n",
      "11:14 bilby INFO    : Search parameters:\n",
      "11:14 bilby INFO    :   center = Uniform(minimum=9419.434403159066, maximum=9457.187647259903, name='center', latex_label='center', unit=None, boundary=None)\n",
      "11:14 bilby INFO    :   fwhm = Uniform(minimum=300, maximum=1000, name='fwhm', latex_label='fwhm', unit=None, boundary=None)\n",
      "11:14 bilby INFO    :   flux = Uniform(minimum=-10.160031135050957, maximum=10.160031135050957, name='flux', latex_label='flux', unit=None, boundary=None)\n",
      "11:14 bilby INFO    :   A = Uniform(minimum=-0.08516120137034387, maximum=0.17032240274068774, name='A', latex_label='A', unit=None, boundary=None)\n",
      "11:14 bilby INFO    :   beta = Uniform(minimum=-4, maximum=0, name='beta', latex_label='beta', unit=None, boundary=None)\n",
      "11:14 bilby INFO    :   wave0 = 9438.311025209485\n",
      "11:14 bilby INFO    : Single likelihood evaluation took 3.943e-05 s\n"
     ]
    },
    {
     "data": {
      "application/vnd.jupyter.widget-view+json": {
       "model_id": "3960696fe3e545c8bbe70d1f950a561b",
       "version_major": 2,
       "version_minor": 0
      },
      "text/plain": [
       "0it [00:00, ?it/s]"
      ]
     },
     "metadata": {},
     "output_type": "display_data"
    },
    {
     "name": "stderr",
     "output_type": "stream",
     "text": [
      "11:14 bilby INFO    : Checkpoint every check_point_delta_t = 600s\n",
      "11:14 bilby WARNING : Using cached result\n",
      "11:14 bilby INFO    : Summary of results:\n",
      "nsamples: 2176\n",
      "ln_noise_evidence:    nan\n",
      "ln_evidence: 555.978 +/-  0.243\n",
      "ln_bayes_factor:    nan +/-  0.243\n",
      "\n",
      "/Users/myue/Research/Projects/JWST/dependencies/msa_spec_utils/LAE_spec_utils.py:465: RuntimeWarning: divide by zero encountered in power\n",
      "  self.err_fnu = (self.ivar_fnu)**-0.5\n",
      "/Users/myue/Research/Projects/JWST/dependencies/msa_spec_utils/LAE_spec_utils.py:471: RuntimeWarning: invalid value encountered in divide\n",
      "  self.flam = self.fnu * speed_of_light_angstrom / (self.wave)**2 * 1e-29 * 1e18\n",
      "/Users/myue/Research/Projects/JWST/dependencies/msa_spec_utils/LAE_spec_utils.py:472: RuntimeWarning: divide by zero encountered in divide\n",
      "  self.err_flam = self.err_fnu * (speed_of_light_angstrom / (self.wave)**2 * 1e-29 * 1e18)\n",
      "11:14 bilby INFO    : Running for label '4713_15627', output will be saved to '../../data/lya_saves/J0100/bilby_fit_lya_msaexp_pypeit_v2/'\n",
      "11:14 bilby INFO    : Search parameters:\n",
      "11:14 bilby INFO    :   center = Uniform(minimum=8740.210348882183, maximum=8775.241252084115, name='center', latex_label='center', unit=None, boundary=None)\n",
      "11:14 bilby INFO    :   fwhm = Uniform(minimum=300, maximum=1000, name='fwhm', latex_label='fwhm', unit=None, boundary=None)\n",
      "11:14 bilby INFO    :   flux = Uniform(minimum=-12.336486078086576, maximum=12.336486078086576, name='flux', latex_label='flux', unit=None, boundary=None)\n",
      "11:14 bilby INFO    :   A = Uniform(minimum=-0.07940582405020505, maximum=0.1588116481004101, name='A', latex_label='A', unit=None, boundary=None)\n",
      "11:14 bilby INFO    :   beta = Uniform(minimum=-4, maximum=0, name='beta', latex_label='beta', unit=None, boundary=None)\n",
      "11:14 bilby INFO    :   wave0 = 8757.72580048315\n",
      "11:14 bilby INFO    : Single likelihood evaluation took 4.118e-05 s\n"
     ]
    },
    {
     "data": {
      "application/vnd.jupyter.widget-view+json": {
       "model_id": "e9f643842e6941ba9b00fd094f506c04",
       "version_major": 2,
       "version_minor": 0
      },
      "text/plain": [
       "0it [00:00, ?it/s]"
      ]
     },
     "metadata": {},
     "output_type": "display_data"
    },
    {
     "name": "stderr",
     "output_type": "stream",
     "text": [
      "11:14 bilby INFO    : Checkpoint every check_point_delta_t = 600s\n",
      "11:14 bilby WARNING : Using cached result\n",
      "11:14 bilby INFO    : Summary of results:\n",
      "nsamples: 2058\n",
      "ln_noise_evidence:    nan\n",
      "ln_evidence: 518.922 +/-  0.235\n",
      "ln_bayes_factor:    nan +/-  0.235\n",
      "\n",
      "/Users/myue/Research/Projects/JWST/dependencies/msa_spec_utils/LAE_spec_utils.py:465: RuntimeWarning: divide by zero encountered in power\n",
      "  self.err_fnu = (self.ivar_fnu)**-0.5\n",
      "/Users/myue/Research/Projects/JWST/dependencies/msa_spec_utils/LAE_spec_utils.py:471: RuntimeWarning: invalid value encountered in divide\n",
      "  self.flam = self.fnu * speed_of_light_angstrom / (self.wave)**2 * 1e-29 * 1e18\n",
      "/Users/myue/Research/Projects/JWST/dependencies/msa_spec_utils/LAE_spec_utils.py:472: RuntimeWarning: divide by zero encountered in divide\n",
      "  self.err_flam = self.err_fnu * (speed_of_light_angstrom / (self.wave)**2 * 1e-29 * 1e18)\n",
      "11:14 bilby INFO    : Running for label '4713_16184', output will be saved to '../../data/lya_saves/J0100/bilby_fit_lya_msaexp_pypeit_v2/'\n",
      "11:14 bilby INFO    : Search parameters:\n",
      "11:14 bilby INFO    :   center = Uniform(minimum=8212.425690123584, maximum=8245.341223951733, name='center', latex_label='center', unit=None, boundary=None)\n",
      "11:14 bilby INFO    :   fwhm = Uniform(minimum=300, maximum=1000, name='fwhm', latex_label='fwhm', unit=None, boundary=None)\n",
      "11:14 bilby INFO    :   flux = Uniform(minimum=-18.398483654120696, maximum=18.398483654120696, name='flux', latex_label='flux', unit=None, boundary=None)\n",
      "11:14 bilby INFO    :   A = Uniform(minimum=-0.14241384533353374, maximum=0.2848276906670675, name='A', latex_label='A', unit=None, boundary=None)\n",
      "11:14 bilby INFO    :   beta = Uniform(minimum=-4, maximum=0, name='beta', latex_label='beta', unit=None, boundary=None)\n",
      "11:14 bilby INFO    :   wave0 = 8228.883457037658\n",
      "11:14 bilby INFO    : Single likelihood evaluation took 3.878e-05 s\n"
     ]
    },
    {
     "data": {
      "application/vnd.jupyter.widget-view+json": {
       "model_id": "b8664822401947cab786c193456ac9b5",
       "version_major": 2,
       "version_minor": 0
      },
      "text/plain": [
       "0it [00:00, ?it/s]"
      ]
     },
     "metadata": {},
     "output_type": "display_data"
    },
    {
     "name": "stderr",
     "output_type": "stream",
     "text": [
      "11:14 bilby INFO    : Checkpoint every check_point_delta_t = 600s\n",
      "11:14 bilby WARNING : Using cached result\n",
      "11:14 bilby INFO    : Summary of results:\n",
      "nsamples: 2399\n",
      "ln_noise_evidence:    nan\n",
      "ln_evidence: 612.062 +/-  0.259\n",
      "ln_bayes_factor:    nan +/-  0.259\n",
      "\n",
      "/Users/myue/Research/Projects/JWST/dependencies/msa_spec_utils/LAE_spec_utils.py:465: RuntimeWarning: divide by zero encountered in power\n",
      "  self.err_fnu = (self.ivar_fnu)**-0.5\n",
      "/Users/myue/Research/Projects/JWST/dependencies/msa_spec_utils/LAE_spec_utils.py:471: RuntimeWarning: invalid value encountered in divide\n",
      "  self.flam = self.fnu * speed_of_light_angstrom / (self.wave)**2 * 1e-29 * 1e18\n",
      "/Users/myue/Research/Projects/JWST/dependencies/msa_spec_utils/LAE_spec_utils.py:472: RuntimeWarning: divide by zero encountered in divide\n",
      "  self.err_flam = self.err_fnu * (speed_of_light_angstrom / (self.wave)**2 * 1e-29 * 1e18)\n",
      "11:14 bilby INFO    : Running for label '4713_16322', output will be saved to '../../data/lya_saves/J0100/bilby_fit_lya_msaexp_pypeit_v2/'\n",
      "11:14 bilby INFO    : Search parameters:\n",
      "11:14 bilby INFO    :   center = Uniform(minimum=8884.589636053022, maximum=8920.199213752634, name='center', latex_label='center', unit=None, boundary=None)\n",
      "11:14 bilby INFO    :   fwhm = Uniform(minimum=300, maximum=1000, name='fwhm', latex_label='fwhm', unit=None, boundary=None)\n",
      "11:14 bilby INFO    :   flux = Uniform(minimum=-12.58037397564723, maximum=12.58037397564723, name='flux', latex_label='flux', unit=None, boundary=None)\n",
      "11:14 bilby INFO    :   A = Uniform(minimum=-0.08461063743536523, maximum=0.16922127487073046, name='A', latex_label='A', unit=None, boundary=None)\n",
      "11:14 bilby INFO    :   beta = Uniform(minimum=-4, maximum=0, name='beta', latex_label='beta', unit=None, boundary=None)\n",
      "11:14 bilby INFO    :   wave0 = 8902.394424902828\n",
      "11:14 bilby INFO    : Single likelihood evaluation took 3.900e-05 s\n"
     ]
    },
    {
     "data": {
      "application/vnd.jupyter.widget-view+json": {
       "model_id": "0e396aecff064554a6f85b99f57a6ab2",
       "version_major": 2,
       "version_minor": 0
      },
      "text/plain": [
       "0it [00:00, ?it/s]"
      ]
     },
     "metadata": {},
     "output_type": "display_data"
    },
    {
     "name": "stderr",
     "output_type": "stream",
     "text": [
      "11:14 bilby INFO    : Checkpoint every check_point_delta_t = 600s\n",
      "11:14 bilby WARNING : Using cached result\n",
      "11:14 bilby INFO    : Summary of results:\n",
      "nsamples: 2265\n",
      "ln_noise_evidence:    nan\n",
      "ln_evidence: 845.172 +/-  0.255\n",
      "ln_bayes_factor:    nan +/-  0.255\n",
      "\n",
      "/Users/myue/Research/Projects/JWST/dependencies/msa_spec_utils/LAE_spec_utils.py:465: RuntimeWarning: divide by zero encountered in power\n",
      "  self.err_fnu = (self.ivar_fnu)**-0.5\n",
      "/Users/myue/Research/Projects/JWST/dependencies/msa_spec_utils/LAE_spec_utils.py:471: RuntimeWarning: invalid value encountered in divide\n",
      "  self.flam = self.fnu * speed_of_light_angstrom / (self.wave)**2 * 1e-29 * 1e18\n",
      "/Users/myue/Research/Projects/JWST/dependencies/msa_spec_utils/LAE_spec_utils.py:472: RuntimeWarning: divide by zero encountered in divide\n",
      "  self.err_flam = self.err_fnu * (speed_of_light_angstrom / (self.wave)**2 * 1e-29 * 1e18)\n",
      "11:14 bilby INFO    : Running for label '4713_16479', output will be saved to '../../data/lya_saves/J0100/bilby_fit_lya_msaexp_pypeit_v2/'\n",
      "11:14 bilby INFO    : Search parameters:\n",
      "11:14 bilby INFO    :   center = Uniform(minimum=8897.609593384941, maximum=8933.271355282277, name='center', latex_label='center', unit=None, boundary=None)\n",
      "11:14 bilby INFO    :   fwhm = Uniform(minimum=300, maximum=1000, name='fwhm', latex_label='fwhm', unit=None, boundary=None)\n",
      "11:14 bilby INFO    :   flux = Uniform(minimum=-101.76606318928272, maximum=101.76606318928272, name='flux', latex_label='flux', unit=None, boundary=None)\n",
      "11:14 bilby INFO    :   A = Uniform(minimum=-0.6434464322537112, maximum=1.2868928645074225, name='A', latex_label='A', unit=None, boundary=None)\n",
      "11:14 bilby INFO    :   beta = Uniform(minimum=-4, maximum=0, name='beta', latex_label='beta', unit=None, boundary=None)\n",
      "11:14 bilby INFO    :   wave0 = 8915.440474333609\n",
      "11:14 bilby INFO    : Single likelihood evaluation took 3.916e-05 s\n"
     ]
    },
    {
     "data": {
      "application/vnd.jupyter.widget-view+json": {
       "model_id": "101cf70f482c466792e9f2d45d55370a",
       "version_major": 2,
       "version_minor": 0
      },
      "text/plain": [
       "0it [00:00, ?it/s]"
      ]
     },
     "metadata": {},
     "output_type": "display_data"
    },
    {
     "name": "stderr",
     "output_type": "stream",
     "text": [
      "11:14 bilby INFO    : Checkpoint every check_point_delta_t = 600s\n",
      "11:14 bilby WARNING : Using cached result\n",
      "11:14 bilby INFO    : Summary of results:\n",
      "nsamples: 4152\n",
      "ln_noise_evidence:    nan\n",
      "ln_evidence: 764.521 +/-  0.392\n",
      "ln_bayes_factor:    nan +/-  0.392\n",
      "\n",
      "/Users/myue/Research/Projects/JWST/dependencies/msa_spec_utils/LAE_spec_utils.py:465: RuntimeWarning: divide by zero encountered in power\n",
      "  self.err_fnu = (self.ivar_fnu)**-0.5\n",
      "/Users/myue/Research/Projects/JWST/dependencies/msa_spec_utils/LAE_spec_utils.py:471: RuntimeWarning: invalid value encountered in divide\n",
      "  self.flam = self.fnu * speed_of_light_angstrom / (self.wave)**2 * 1e-29 * 1e18\n",
      "/Users/myue/Research/Projects/JWST/dependencies/msa_spec_utils/LAE_spec_utils.py:472: RuntimeWarning: divide by zero encountered in divide\n",
      "  self.err_flam = self.err_fnu * (speed_of_light_angstrom / (self.wave)**2 * 1e-29 * 1e18)\n",
      "11:14 bilby INFO    : Running for label '4713_16759', output will be saved to '../../data/lya_saves/J0100/bilby_fit_lya_msaexp_pypeit_v2/'\n",
      "11:14 bilby INFO    : Search parameters:\n",
      "11:14 bilby INFO    :   center = Uniform(minimum=8951.839424511552, maximum=8987.71854044146, name='center', latex_label='center', unit=None, boundary=None)\n",
      "11:14 bilby INFO    :   fwhm = Uniform(minimum=300, maximum=1000, name='fwhm', latex_label='fwhm', unit=None, boundary=None)\n",
      "11:14 bilby INFO    :   flux = Uniform(minimum=-71.25195868976347, maximum=71.25195868976347, name='flux', latex_label='flux', unit=None, boundary=None)\n",
      "11:14 bilby INFO    :   A = Uniform(minimum=-0.4477826818231661, maximum=0.8955653636463322, name='A', latex_label='A', unit=None, boundary=None)\n",
      "11:14 bilby INFO    :   beta = Uniform(minimum=-4, maximum=0, name='beta', latex_label='beta', unit=None, boundary=None)\n",
      "11:14 bilby INFO    :   wave0 = 8969.778982476506\n",
      "11:14 bilby INFO    : Single likelihood evaluation took 4.116e-05 s\n"
     ]
    },
    {
     "data": {
      "application/vnd.jupyter.widget-view+json": {
       "model_id": "be08e792c9f843cdaeee67a7794e85d0",
       "version_major": 2,
       "version_minor": 0
      },
      "text/plain": [
       "0it [00:00, ?it/s]"
      ]
     },
     "metadata": {},
     "output_type": "display_data"
    },
    {
     "name": "stderr",
     "output_type": "stream",
     "text": [
      "11:14 bilby INFO    : Checkpoint every check_point_delta_t = 600s\n",
      "11:14 bilby WARNING : Using cached result\n",
      "11:14 bilby INFO    : Summary of results:\n",
      "nsamples: 3722\n",
      "ln_noise_evidence:    nan\n",
      "ln_evidence: 774.866 +/-  0.365\n",
      "ln_bayes_factor:    nan +/-  0.365\n",
      "\n",
      "/Users/myue/Research/Projects/JWST/dependencies/msa_spec_utils/LAE_spec_utils.py:465: RuntimeWarning: divide by zero encountered in power\n",
      "  self.err_fnu = (self.ivar_fnu)**-0.5\n",
      "/Users/myue/Research/Projects/JWST/dependencies/msa_spec_utils/LAE_spec_utils.py:471: RuntimeWarning: invalid value encountered in divide\n",
      "  self.flam = self.fnu * speed_of_light_angstrom / (self.wave)**2 * 1e-29 * 1e18\n",
      "/Users/myue/Research/Projects/JWST/dependencies/msa_spec_utils/LAE_spec_utils.py:472: RuntimeWarning: divide by zero encountered in divide\n",
      "  self.err_flam = self.err_fnu * (speed_of_light_angstrom / (self.wave)**2 * 1e-29 * 1e18)\n",
      "11:14 bilby INFO    : Running for label '4713_17352', output will be saved to '../../data/lya_saves/J0100/bilby_fit_lya_msaexp_pypeit_v2/'\n",
      "11:14 bilby INFO    : Search parameters:\n",
      "11:14 bilby INFO    :   center = Uniform(minimum=8716.196158561412, maximum=8751.130812503543, name='center', latex_label='center', unit=None, boundary=None)\n",
      "11:14 bilby INFO    :   fwhm = Uniform(minimum=300, maximum=1000, name='fwhm', latex_label='fwhm', unit=None, boundary=None)\n",
      "11:14 bilby INFO    :   flux = Uniform(minimum=-13.457176284416985, maximum=13.457176284416985, name='flux', latex_label='flux', unit=None, boundary=None)\n",
      "11:14 bilby INFO    :   A = Uniform(minimum=-0.099185547542521, maximum=0.198371095085042, name='A', latex_label='A', unit=None, boundary=None)\n",
      "11:14 bilby INFO    :   beta = Uniform(minimum=-4, maximum=0, name='beta', latex_label='beta', unit=None, boundary=None)\n",
      "11:14 bilby INFO    :   wave0 = 8733.663485532477\n",
      "11:14 bilby INFO    : Single likelihood evaluation took 3.942e-05 s\n"
     ]
    },
    {
     "data": {
      "application/vnd.jupyter.widget-view+json": {
       "model_id": "b80b1d07a2844d38bb7072ec243a4a03",
       "version_major": 2,
       "version_minor": 0
      },
      "text/plain": [
       "0it [00:00, ?it/s]"
      ]
     },
     "metadata": {},
     "output_type": "display_data"
    },
    {
     "name": "stderr",
     "output_type": "stream",
     "text": [
      "11:14 bilby INFO    : Checkpoint every check_point_delta_t = 600s\n",
      "11:14 bilby WARNING : Using cached result\n",
      "11:14 bilby INFO    : Summary of results:\n",
      "nsamples: 2252\n",
      "ln_noise_evidence:    nan\n",
      "ln_evidence: 686.331 +/-  0.253\n",
      "ln_bayes_factor:    nan +/-  0.253\n",
      "\n",
      "/Users/myue/Research/Projects/JWST/dependencies/msa_spec_utils/LAE_spec_utils.py:465: RuntimeWarning: divide by zero encountered in power\n",
      "  self.err_fnu = (self.ivar_fnu)**-0.5\n",
      "/Users/myue/Research/Projects/JWST/dependencies/msa_spec_utils/LAE_spec_utils.py:471: RuntimeWarning: invalid value encountered in divide\n",
      "  self.flam = self.fnu * speed_of_light_angstrom / (self.wave)**2 * 1e-29 * 1e18\n",
      "/Users/myue/Research/Projects/JWST/dependencies/msa_spec_utils/LAE_spec_utils.py:472: RuntimeWarning: divide by zero encountered in divide\n",
      "  self.err_flam = self.err_fnu * (speed_of_light_angstrom / (self.wave)**2 * 1e-29 * 1e18)\n",
      "11:14 bilby INFO    : Running for label '4713_17385', output will be saved to '../../data/lya_saves/J0100/bilby_fit_lya_msaexp_pypeit_v2/'\n",
      "11:14 bilby INFO    : Search parameters:\n",
      "11:14 bilby INFO    :   center = Uniform(minimum=9427.660360340786, maximum=9465.446574209887, name='center', latex_label='center', unit=None, boundary=None)\n",
      "11:14 bilby INFO    :   fwhm = Uniform(minimum=300, maximum=1000, name='fwhm', latex_label='fwhm', unit=None, boundary=None)\n",
      "11:14 bilby INFO    :   flux = Uniform(minimum=-12.152551739109603, maximum=12.152551739109603, name='flux', latex_label='flux', unit=None, boundary=None)\n",
      "11:14 bilby INFO    :   A = Uniform(minimum=-0.0725180837198694, maximum=0.1450361674397388, name='A', latex_label='A', unit=None, boundary=None)\n",
      "11:14 bilby INFO    :   beta = Uniform(minimum=-4, maximum=0, name='beta', latex_label='beta', unit=None, boundary=None)\n",
      "11:14 bilby INFO    :   wave0 = 9446.553467275337\n",
      "11:14 bilby INFO    : Single likelihood evaluation took 3.867e-05 s\n"
     ]
    },
    {
     "data": {
      "application/vnd.jupyter.widget-view+json": {
       "model_id": "c8a9f1e644f64016852a9ad34c22df2c",
       "version_major": 2,
       "version_minor": 0
      },
      "text/plain": [
       "0it [00:00, ?it/s]"
      ]
     },
     "metadata": {},
     "output_type": "display_data"
    },
    {
     "name": "stderr",
     "output_type": "stream",
     "text": [
      "11:14 bilby INFO    : Checkpoint every check_point_delta_t = 600s\n",
      "11:14 bilby WARNING : Using cached result\n",
      "11:14 bilby INFO    : Summary of results:\n",
      "nsamples: 2943\n",
      "ln_noise_evidence:    nan\n",
      "ln_evidence: 1042.017 +/-  0.305\n",
      "ln_bayes_factor:    nan +/-  0.305\n",
      "\n",
      "/Users/myue/Research/Projects/JWST/dependencies/msa_spec_utils/LAE_spec_utils.py:465: RuntimeWarning: divide by zero encountered in power\n",
      "  self.err_fnu = (self.ivar_fnu)**-0.5\n",
      "/Users/myue/Research/Projects/JWST/dependencies/msa_spec_utils/LAE_spec_utils.py:471: RuntimeWarning: invalid value encountered in divide\n",
      "  self.flam = self.fnu * speed_of_light_angstrom / (self.wave)**2 * 1e-29 * 1e18\n",
      "/Users/myue/Research/Projects/JWST/dependencies/msa_spec_utils/LAE_spec_utils.py:472: RuntimeWarning: divide by zero encountered in divide\n",
      "  self.err_flam = self.err_fnu * (speed_of_light_angstrom / (self.wave)**2 * 1e-29 * 1e18)\n",
      "11:14 bilby INFO    : Running for label '4713_17435', output will be saved to '../../data/lya_saves/J0100/bilby_fit_lya_msaexp_pypeit_v2/'\n",
      "11:14 bilby INFO    : Search parameters:\n",
      "11:14 bilby INFO    :   center = Uniform(minimum=9406.538158977133, maximum=9444.239714724537, name='center', latex_label='center', unit=None, boundary=None)\n",
      "11:14 bilby INFO    :   fwhm = Uniform(minimum=300, maximum=1000, name='fwhm', latex_label='fwhm', unit=None, boundary=None)\n",
      "11:14 bilby INFO    :   flux = Uniform(minimum=-43.5582786948823, maximum=43.5582786948823, name='flux', latex_label='flux', unit=None, boundary=None)\n",
      "11:14 bilby INFO    :   A = Uniform(minimum=-0.2605095547567719, maximum=0.5210191095135438, name='A', latex_label='A', unit=None, boundary=None)\n",
      "11:14 bilby INFO    :   beta = Uniform(minimum=-4, maximum=0, name='beta', latex_label='beta', unit=None, boundary=None)\n",
      "11:14 bilby INFO    :   wave0 = 9425.388936850835\n",
      "11:14 bilby INFO    : Single likelihood evaluation took 3.955e-05 s\n"
     ]
    },
    {
     "data": {
      "application/vnd.jupyter.widget-view+json": {
       "model_id": "657c98556f1e4f9cabd0782aa9a129e0",
       "version_major": 2,
       "version_minor": 0
      },
      "text/plain": [
       "0it [00:00, ?it/s]"
      ]
     },
     "metadata": {},
     "output_type": "display_data"
    },
    {
     "name": "stderr",
     "output_type": "stream",
     "text": [
      "11:14 bilby INFO    : Checkpoint every check_point_delta_t = 600s\n",
      "11:14 bilby WARNING : Using cached result\n",
      "11:14 bilby INFO    : Summary of results:\n",
      "nsamples: 3980\n",
      "ln_noise_evidence:    nan\n",
      "ln_evidence: 984.797 +/-  0.376\n",
      "ln_bayes_factor:    nan +/-  0.376\n",
      "\n",
      "/Users/myue/Research/Projects/JWST/dependencies/msa_spec_utils/LAE_spec_utils.py:465: RuntimeWarning: divide by zero encountered in power\n",
      "  self.err_fnu = (self.ivar_fnu)**-0.5\n",
      "/Users/myue/Research/Projects/JWST/dependencies/msa_spec_utils/LAE_spec_utils.py:471: RuntimeWarning: invalid value encountered in divide\n",
      "  self.flam = self.fnu * speed_of_light_angstrom / (self.wave)**2 * 1e-29 * 1e18\n",
      "/Users/myue/Research/Projects/JWST/dependencies/msa_spec_utils/LAE_spec_utils.py:472: RuntimeWarning: divide by zero encountered in divide\n",
      "  self.err_flam = self.err_fnu * (speed_of_light_angstrom / (self.wave)**2 * 1e-29 * 1e18)\n",
      "11:14 bilby INFO    : Running for label '4713_17492', output will be saved to '../../data/lya_saves/J0100/bilby_fit_lya_msaexp_pypeit_v2/'\n",
      "11:14 bilby INFO    : Search parameters:\n",
      "11:14 bilby INFO    :   center = Uniform(minimum=9375.584822374862, maximum=9413.162316652917, name='center', latex_label='center', unit=None, boundary=None)\n",
      "11:14 bilby INFO    :   fwhm = Uniform(minimum=300, maximum=1000, name='fwhm', latex_label='fwhm', unit=None, boundary=None)\n",
      "11:14 bilby INFO    :   flux = Uniform(minimum=-34.38572677993686, maximum=34.38572677993686, name='flux', latex_label='flux', unit=None, boundary=None)\n",
      "11:14 bilby INFO    :   A = Uniform(minimum=-0.20633011000332296, maximum=0.41266022000664593, name='A', latex_label='A', unit=None, boundary=None)\n",
      "11:14 bilby INFO    :   beta = Uniform(minimum=-4, maximum=0, name='beta', latex_label='beta', unit=None, boundary=None)\n",
      "11:14 bilby INFO    :   wave0 = 9394.37356951389\n",
      "11:14 bilby INFO    : Single likelihood evaluation took 4.451e-05 s\n"
     ]
    },
    {
     "data": {
      "application/vnd.jupyter.widget-view+json": {
       "model_id": "590418bfe88a46a693f8aacc79cedfe1",
       "version_major": 2,
       "version_minor": 0
      },
      "text/plain": [
       "0it [00:00, ?it/s]"
      ]
     },
     "metadata": {},
     "output_type": "display_data"
    },
    {
     "name": "stderr",
     "output_type": "stream",
     "text": [
      "11:14 bilby INFO    : Checkpoint every check_point_delta_t = 600s\n",
      "11:14 bilby WARNING : Using cached result\n",
      "11:14 bilby INFO    : Summary of results:\n",
      "nsamples: 3405\n",
      "ln_noise_evidence:    nan\n",
      "ln_evidence: 901.939 +/-  0.341\n",
      "ln_bayes_factor:    nan +/-  0.341\n",
      "\n",
      "/Users/myue/Research/Projects/JWST/dependencies/msa_spec_utils/LAE_spec_utils.py:465: RuntimeWarning: divide by zero encountered in power\n",
      "  self.err_fnu = (self.ivar_fnu)**-0.5\n",
      "/Users/myue/Research/Projects/JWST/dependencies/msa_spec_utils/LAE_spec_utils.py:471: RuntimeWarning: invalid value encountered in divide\n",
      "  self.flam = self.fnu * speed_of_light_angstrom / (self.wave)**2 * 1e-29 * 1e18\n",
      "/Users/myue/Research/Projects/JWST/dependencies/msa_spec_utils/LAE_spec_utils.py:472: RuntimeWarning: divide by zero encountered in divide\n",
      "  self.err_flam = self.err_fnu * (speed_of_light_angstrom / (self.wave)**2 * 1e-29 * 1e18)\n",
      "11:14 bilby INFO    : Running for label '4713_18057', output will be saved to '../../data/lya_saves/J0100/bilby_fit_lya_msaexp_pypeit_v2/'\n",
      "11:14 bilby INFO    : Search parameters:\n",
      "11:14 bilby INFO    :   center = Uniform(minimum=8727.076464916394, maximum=8762.054727300827, name='center', latex_label='center', unit=None, boundary=None)\n",
      "11:14 bilby INFO    :   fwhm = Uniform(minimum=300, maximum=1000, name='fwhm', latex_label='fwhm', unit=None, boundary=None)\n",
      "11:14 bilby INFO    :   flux = Uniform(minimum=-17.256776517585834, maximum=17.256776517585834, name='flux', latex_label='flux', unit=None, boundary=None)\n",
      "11:14 bilby INFO    :   A = Uniform(minimum=-0.1137857625423348, maximum=0.2275715250846696, name='A', latex_label='A', unit=None, boundary=None)\n",
      "11:14 bilby INFO    :   beta = Uniform(minimum=-4, maximum=0, name='beta', latex_label='beta', unit=None, boundary=None)\n",
      "11:14 bilby INFO    :   wave0 = 8744.56559610861\n",
      "11:14 bilby INFO    : Single likelihood evaluation took 4.305e-05 s\n"
     ]
    },
    {
     "data": {
      "application/vnd.jupyter.widget-view+json": {
       "model_id": "b0c672b6ff65438a9360d5705134d992",
       "version_major": 2,
       "version_minor": 0
      },
      "text/plain": [
       "0it [00:00, ?it/s]"
      ]
     },
     "metadata": {},
     "output_type": "display_data"
    },
    {
     "name": "stderr",
     "output_type": "stream",
     "text": [
      "11:14 bilby INFO    : Checkpoint every check_point_delta_t = 600s\n",
      "11:14 bilby WARNING : Using cached result\n",
      "11:14 bilby INFO    : Summary of results:\n",
      "nsamples: 2145\n",
      "ln_noise_evidence:    nan\n",
      "ln_evidence: 563.130 +/-  0.246\n",
      "ln_bayes_factor:    nan +/-  0.246\n",
      "\n",
      "/Users/myue/Research/Projects/JWST/dependencies/msa_spec_utils/LAE_spec_utils.py:465: RuntimeWarning: divide by zero encountered in power\n",
      "  self.err_fnu = (self.ivar_fnu)**-0.5\n",
      "/Users/myue/Research/Projects/JWST/dependencies/msa_spec_utils/LAE_spec_utils.py:471: RuntimeWarning: invalid value encountered in divide\n",
      "  self.flam = self.fnu * speed_of_light_angstrom / (self.wave)**2 * 1e-29 * 1e18\n",
      "/Users/myue/Research/Projects/JWST/dependencies/msa_spec_utils/LAE_spec_utils.py:472: RuntimeWarning: divide by zero encountered in divide\n",
      "  self.err_flam = self.err_fnu * (speed_of_light_angstrom / (self.wave)**2 * 1e-29 * 1e18)\n",
      "11:14 bilby INFO    : Running for label '4713_18061', output will be saved to '../../data/lya_saves/J0100/bilby_fit_lya_msaexp_pypeit_v2/'\n",
      "11:14 bilby INFO    : Search parameters:\n",
      "11:14 bilby INFO    :   center = Uniform(minimum=8894.171017436045, maximum=8929.818997465849, name='center', latex_label='center', unit=None, boundary=None)\n",
      "11:14 bilby INFO    :   fwhm = Uniform(minimum=300, maximum=1000, name='fwhm', latex_label='fwhm', unit=None, boundary=None)\n",
      "11:14 bilby INFO    :   flux = Uniform(minimum=-22.19343956303419, maximum=22.19343956303419, name='flux', latex_label='flux', unit=None, boundary=None)\n",
      "11:14 bilby INFO    :   A = Uniform(minimum=-0.14037892360262702, maximum=0.28075784720525404, name='A', latex_label='A', unit=None, boundary=None)\n",
      "11:14 bilby INFO    :   beta = Uniform(minimum=-4, maximum=0, name='beta', latex_label='beta', unit=None, boundary=None)\n",
      "11:14 bilby INFO    :   wave0 = 8911.995007450947\n",
      "11:14 bilby INFO    : Single likelihood evaluation took 3.940e-05 s\n"
     ]
    },
    {
     "data": {
      "application/vnd.jupyter.widget-view+json": {
       "model_id": "d71d5a1fb0c049cba5562c6ecdb298d1",
       "version_major": 2,
       "version_minor": 0
      },
      "text/plain": [
       "0it [00:00, ?it/s]"
      ]
     },
     "metadata": {},
     "output_type": "display_data"
    },
    {
     "name": "stderr",
     "output_type": "stream",
     "text": [
      "11:14 bilby INFO    : Checkpoint every check_point_delta_t = 600s\n",
      "11:14 bilby WARNING : Using cached result\n",
      "11:14 bilby INFO    : Summary of results:\n",
      "nsamples: 3052\n",
      "ln_noise_evidence:    nan\n",
      "ln_evidence: 802.757 +/-  0.304\n",
      "ln_bayes_factor:    nan +/-  0.304\n",
      "\n",
      "/Users/myue/Research/Projects/JWST/dependencies/msa_spec_utils/LAE_spec_utils.py:465: RuntimeWarning: divide by zero encountered in power\n",
      "  self.err_fnu = (self.ivar_fnu)**-0.5\n",
      "/Users/myue/Research/Projects/JWST/dependencies/msa_spec_utils/LAE_spec_utils.py:471: RuntimeWarning: invalid value encountered in divide\n",
      "  self.flam = self.fnu * speed_of_light_angstrom / (self.wave)**2 * 1e-29 * 1e18\n",
      "/Users/myue/Research/Projects/JWST/dependencies/msa_spec_utils/LAE_spec_utils.py:472: RuntimeWarning: divide by zero encountered in divide\n",
      "  self.err_flam = self.err_fnu * (speed_of_light_angstrom / (self.wave)**2 * 1e-29 * 1e18)\n",
      "11:14 bilby INFO    : Running for label '4713_18268', output will be saved to '../../data/lya_saves/J0100/bilby_fit_lya_msaexp_pypeit_v2/'\n",
      "11:14 bilby INFO    : Search parameters:\n",
      "11:14 bilby INFO    :   center = Uniform(minimum=9263.927593170154, maximum=9301.057563483462, name='center', latex_label='center', unit=None, boundary=None)\n",
      "11:14 bilby INFO    :   fwhm = Uniform(minimum=300, maximum=1000, name='fwhm', latex_label='fwhm', unit=None, boundary=None)\n",
      "11:14 bilby INFO    :   flux = Uniform(minimum=-13.508010789786145, maximum=13.508010789786145, name='flux', latex_label='flux', unit=None, boundary=None)\n",
      "11:14 bilby INFO    :   A = Uniform(minimum=-0.08203119077493404, maximum=0.16406238154986807, name='A', latex_label='A', unit=None, boundary=None)\n",
      "11:14 bilby INFO    :   beta = Uniform(minimum=-4, maximum=0, name='beta', latex_label='beta', unit=None, boundary=None)\n",
      "11:14 bilby INFO    :   wave0 = 9282.492578326808\n",
      "11:14 bilby INFO    : Single likelihood evaluation took 4.054e-05 s\n"
     ]
    },
    {
     "data": {
      "application/vnd.jupyter.widget-view+json": {
       "model_id": "fc8ebe03016545ae818878cc7a110193",
       "version_major": 2,
       "version_minor": 0
      },
      "text/plain": [
       "0it [00:00, ?it/s]"
      ]
     },
     "metadata": {},
     "output_type": "display_data"
    },
    {
     "name": "stderr",
     "output_type": "stream",
     "text": [
      "11:14 bilby INFO    : Checkpoint every check_point_delta_t = 600s\n",
      "11:14 bilby WARNING : Using cached result\n",
      "11:14 bilby INFO    : Summary of results:\n",
      "nsamples: 2672\n",
      "ln_noise_evidence:    nan\n",
      "ln_evidence: 918.421 +/-  0.286\n",
      "ln_bayes_factor:    nan +/-  0.286\n",
      "\n"
     ]
    },
    {
     "data": {
      "image/png": "[encoded data removed]",
      "text/plain": [
       "<Figure size 640x480 with 1 Axes>"
      ]
     },
     "metadata": {},
     "output_type": "display_data"
    }
   ],
   "source": [
    "# fit msaexp\n",
    "\n",
    "outdir_msaexp = '../../data/lya_saves/J0100/bilby_fit_lya_msaexp_pypeit_v2/'\n",
    "outdir_plot = '../../data/lya_saves/J0100/plotfit_msaexp_pypeit/'\n",
    "selectidx_msaexp = []\n",
    "\n",
    "spec1ddir = os.path.abspath(f'../../../ID4713/pypeit-reduc/data-release-2/reduced_spec_msaexp_pypeit/')\n",
    "\n",
    "for index in range(len(allinfo)):\n",
    "    \n",
    "    z = allinfo['z_O3doublet_combined_n'][index]\n",
    "    isource = '4713_%d'%(allinfo['NUMBER'][index])\n",
    "\n",
    "    # update the problematic ones\n",
    "    #if not int(allinfo['NUMBER'][index]) in [5595, 17549, 16184, 17577]:\n",
    "    #    continue\n",
    "\n",
    "    # find the spec1d file\n",
    "    spec1dfile = os.path.join(spec1ddir,'spec1d_%s_stack.fits'%isource)\n",
    "    if not os.path.exists(spec1dfile):\n",
    "        spec1dfile = os.path.join(spec1ddir,'manu1d_%s_stack.fits'%isource)\n",
    "    if not os.path.exists(spec1dfile):\n",
    "        continue\n",
    "\n",
    "    label = isource\n",
    "    msaexp_spec = LAE.PypeItSpecStacked(filename=spec1dfile, zO3=z, outdir=outdir_msaexp, label=label)\n",
    "    \n",
    "    plot_info = dict(title=isource, bestfit=f'{outdir_plot}/bestfit/%s.pdf'%isource, \\\n",
    "                    corner=f'{outdir_plot}/corner/%s.pdf'%isource)\n",
    "\n",
    "    try:\n",
    "        msaexp_spec.fit_lya_profile_bilby()\n",
    "        msaexp_spec.plot_best_fit(plot_info, linename='lya')\n",
    "        msaexp_spec.plot_contour_fit(plot_info)\n",
    "\n",
    "        selectidx_msaexp.append(index)\n",
    "\n",
    "    except:\n",
    "        pass"
   ]
  },
  {
   "cell_type": "code",
   "execution_count": 77,
   "id": "2652b930-bcb8-4afa-8174-6f09de99d264",
   "metadata": {},
   "outputs": [
    {
     "name": "stdout",
     "output_type": "stream",
     "text": [
      "4713_30\n",
      "2741\n",
      "4713_1228\n",
      "2464\n",
      "4713_2007\n",
      "2333\n",
      "4713_2084\n",
      "2772\n",
      "4713_2159\n",
      "3218\n",
      "4713_2355\n",
      "2347\n",
      "4713_3783\n",
      "2314\n",
      "4713_4080\n",
      "2522\n",
      "4713_4184\n",
      "3130\n",
      "4713_4222\n"
     ]
    },
    {
     "name": "stderr",
     "output_type": "stream",
     "text": [
      "/Users/myue/Research/Projects/JWST/dependencies/msa_spec_utils/LAE_spec_utils.py:519: RuntimeWarning: divide by zero encountered in power\n",
      "  self.err_fnu = (self.ivar_fnu)**-0.5\n",
      "/Users/myue/Research/Projects/JWST/dependencies/msa_spec_utils/LAE_spec_utils.py:525: RuntimeWarning: invalid value encountered in divide\n",
      "  self.flam = self.fnu * speed_of_light_angstrom / (self.wave)**2 * 1e-29 * 1e18\n",
      "/Users/myue/Research/Projects/JWST/dependencies/msa_spec_utils/LAE_spec_utils.py:526: RuntimeWarning: divide by zero encountered in divide\n",
      "  self.err_flam = self.err_fnu * (speed_of_light_angstrom / (self.wave)**2 * 1e-29 * 1e18)\n",
      "/Users/myue/Research/Projects/JWST/dependencies/msa_spec_utils/LAE_spec_utils.py:85: RuntimeWarning: invalid value encountered in log10\n",
      "  return -2.5 * np.log10(intflux/zpflux)\n",
      "/Users/myue/Research/Projects/JWST/dependencies/msa_spec_utils/LAE_spec_utils.py:63: RuntimeWarning: invalid value encountered in log10\n",
      "  return -2.5 * np.log10(intflux/zpflux)\n"
     ]
    },
    {
     "name": "stdout",
     "output_type": "stream",
     "text": [
      "2683\n",
      "4713_5378\n",
      "2191\n",
      "4713_5581\n",
      "2109\n",
      "4713_5595\n",
      "2352\n",
      "4713_5671\n",
      "2592\n",
      "4713_6733\n",
      "4567\n",
      "4713_7194\n",
      "2517\n",
      "4713_7230\n",
      "3367\n",
      "4713_7430\n",
      "2490\n",
      "4713_8514\n",
      "2294\n",
      "4713_9273\n",
      "2338\n",
      "4713_9970\n",
      "2620\n",
      "4713_10116\n"
     ]
    },
    {
     "name": "stderr",
     "output_type": "stream",
     "text": [
      "/var/folders/26/2d71k7kx5850kmtprc1hb3dr0000gn/T/ipykernel_14891/1657338942.py:70: RuntimeWarning: divide by zero encountered in divide\n",
      "  fesc = msaexp_spec.EW_quantile / EW_from_Hb[0]\n"
     ]
    },
    {
     "name": "stdout",
     "output_type": "stream",
     "text": [
      "2646\n",
      "4713_10235\n",
      "2185\n",
      "4713_10287\n",
      "4245\n",
      "4713_10683\n",
      "2192\n",
      "4713_10998\n",
      "2972\n",
      "4713_11362\n",
      "2622\n",
      "4713_11743\n",
      "2998\n",
      "4713_11981\n",
      "3356\n",
      "4713_12217\n",
      "2763\n",
      "4713_12285\n",
      "2430\n",
      "4713_12643\n",
      "2408\n",
      "4713_12754\n",
      "2415\n",
      "4713_12817\n",
      "2556\n",
      "4713_13590\n",
      "2036\n",
      "4713_13753\n",
      "2469\n",
      "4713_13864\n",
      "2317\n",
      "4713_15162\n",
      "2126\n",
      "4713_15437\n",
      "2260\n",
      "4713_15612\n",
      "2176\n",
      "4713_15627\n",
      "2058\n",
      "4713_16184\n",
      "2399\n",
      "4713_16322\n",
      "2265\n",
      "4713_16479\n",
      "4152\n",
      "4713_16759\n",
      "3722\n",
      "4713_17352\n",
      "2252\n",
      "4713_17385\n",
      "2943\n",
      "4713_17435\n",
      "3980\n",
      "4713_17492\n",
      "3405\n",
      "4713_18057\n",
      "2145\n",
      "4713_18061\n",
      "3052\n",
      "4713_18268\n",
      "2672\n"
     ]
    }
   ],
   "source": [
    "\n",
    "selectidx_msaexp = []\n",
    "zlyalist_msaexp = []\n",
    "fwhmlist_msaexp = []\n",
    "fluxlist_msaexp = []\n",
    "EWlist_msaexp = []\n",
    "Muvlist_msaexp = []\n",
    "EWfromHb_msaexp = []\n",
    "fesclist_msaexp = []\n",
    "\n",
    "\n",
    "hb_masked = np.ma.is_masked(allinfo['f_Hb'])\n",
    "\n",
    "\n",
    "for index in range(len(allinfo)):\n",
    "    \n",
    "    z = allinfo['z_O3doublet_combined_n'][index]\n",
    "        \n",
    "    isource = '4713_%d'%(allinfo['NUMBER'][index])\n",
    "    label = isource\n",
    "    \n",
    "    if not os.path.exists(outdir_msaexp+f'{isource}_result.json'):\n",
    "        continue\n",
    "    else:\n",
    "        print(isource)\n",
    "        \n",
    "    # find the spec1d file\n",
    "    spec1dfile = os.path.join(spec1ddir,'spec1d_%s_stack.fits'%isource)\n",
    "\n",
    "    if not os.path.exists(spec1dfile):\n",
    "        \n",
    "        spec1dfile = os.path.join(spec1ddir,'manu1d_%s_stack.fits'%isource)\n",
    "    \n",
    "    if not os.path.exists(spec1dfile):\n",
    "        continue\n",
    "        \n",
    "\n",
    "    label = isource\n",
    "    msaexp_spec = LAE.PypeItSpecStacked(filename=spec1dfile, zO3=z, outdir=outdir_msaexp, label=label)\n",
    "    \n",
    "    # read info for fitting\n",
    "    mag_F115W = allinfo['MAG_AUTO_F115W_apcor'][index]\n",
    "    mag_F200W = allinfo['MAG_AUTO_F200W_apcor'][index]\n",
    "    emag_F115W = allinfo['enu_F115W_aper_model'][index]/\\\n",
    "                allinfo['fnu_F115W_AUTO_apcor'][index]*2.5/np.log(10)\n",
    "    emag_F200W = allinfo['enu_F200W_aper_model'][index]/\\\n",
    "                allinfo['fnu_F200W_AUTO_apcor'][index]*2.5/np.log(10)\n",
    "    fHb = allinfo['f_Hb'][index]\n",
    "    fHb_err = allinfo['f_Hb_err'][index]\n",
    "    \n",
    "    mags = [mag_F115W,mag_F200W]\n",
    "    magerrs = [emag_F115W,emag_F200W]\n",
    "    Muv = LAE.get_Muv_from_mag(mags, magerrs, z, cosmo)\n",
    "    \n",
    "    # only include objects with Hb\n",
    "    fHb = allinfo['f_Hb'][index]\n",
    "    fHb_err = allinfo['f_Hb_err'][index]\n",
    "        \n",
    "    EW_from_Hb = LAE.EW_Lya_from_NIRCam(fHb, fHb_err, mags, magerrs, z)\n",
    "\n",
    "    # gather necessary info\n",
    "    msaexp_spec.get_line_properties()\n",
    "    selectidx_msaexp.append(index)\n",
    "    zlyalist_msaexp.append(msaexp_spec.zlya_quantile)\n",
    "    fwhmlist_msaexp.append(msaexp_spec.fwhm_quantile)\n",
    "    fluxlist_msaexp.append(msaexp_spec.flam_quantile)\n",
    "    EWlist_msaexp.append(msaexp_spec.EW_quantile)\n",
    "    Muvlist_msaexp.append(Muv)\n",
    "    EWfromHb_msaexp.append(EW_from_Hb)\n",
    "        \n",
    "    fesc = msaexp_spec.EW_quantile / EW_from_Hb[0]\n",
    "    fesclist_msaexp.append(fesc)\n",
    "\n",
    "    print(len(msaexp_spec.EW_sample))"
   ]
  },
  {
   "cell_type": "code",
   "execution_count": 76,
   "id": "275fc80a-4f9e-4747-8ee6-0e62b3506301",
   "metadata": {},
   "outputs": [
    {
     "data": {
      "text/plain": [
       "3.7003500000000003"
      ]
     },
     "execution_count": 76,
     "metadata": {},
     "output_type": "execute_result"
    }
   ],
   "source": [
    "len(msaexp_spec.EW_sample) * 0.135 / 100"
   ]
  },
  {
   "cell_type": "markdown",
   "id": "df5901b6-5202-4f5b-bbea-873a50d5a94b",
   "metadata": {},
   "source": [
    "# save the fitting results into tables"
   ]
  },
  {
   "cell_type": "code",
   "execution_count": 7,
   "id": "38787d68-68cd-4704-a23c-d943983634a9",
   "metadata": {},
   "outputs": [
    {
     "name": "stderr",
     "output_type": "stream",
     "text": [
      "/var/folders/26/2d71k7kx5850kmtprc1hb3dr0000gn/T/ipykernel_14891/3427884800.py:9: UserWarning: Warning: converting a masked element to nan.\n",
      "  selectedinfo_msaexp['EWfromHb'] = np.array(EWfromHb_msaexp)\n"
     ]
    }
   ],
   "source": [
    "# selected tbl\n",
    "selectedinfo_msaexp = allinfo[selectidx_msaexp][:]\n",
    "\n",
    "selectedinfo_msaexp['EWquantile'] = np.array(EWlist_msaexp)\n",
    "selectedinfo_msaexp['FWHMquantile'] = np.array(fwhmlist_msaexp)\n",
    "selectedinfo_msaexp['zlyaquantile'] = np.array(zlyalist_msaexp)\n",
    "selectedinfo_msaexp['fluxquantile'] = np.array(fluxlist_msaexp)\n",
    "selectedinfo_msaexp['Muv'] = np.array(Muvlist_msaexp)\n",
    "selectedinfo_msaexp['EWfromHb'] = np.array(EWfromHb_msaexp)\n",
    "selectedinfo_msaexp['fesc'] = np.array(fesclist_msaexp)\n",
    "\n",
    "\n",
    "selectedinfo_msaexp.write('../../data/lya_saves/lyainfo_J0100_msaexp_pypeit.fits', overwrite=True)\n"
   ]
  },
  {
   "cell_type": "code",
   "execution_count": 8,
   "id": "274877f4-ce31-42d8-89d2-f374516eb6cf",
   "metadata": {},
   "outputs": [
    {
     "data": {
      "text/plain": [
       "5.509525558380482"
      ]
     },
     "execution_count": 8,
     "metadata": {},
     "output_type": "execute_result"
    }
   ],
   "source": [
    "np.min(selectedinfo_msaexp['z_O3doublet_combined_n'])"
   ]
  },
  {
   "cell_type": "code",
   "execution_count": 24,
   "id": "edbb340e-cf93-432b-ad40-42c52ec1811c",
   "metadata": {
    "scrolled": true
   },
   "outputs": [
    {
     "name": "stdout",
     "output_type": "stream",
     "text": [
      "total 441456\n",
      "-rw-r--r--  1 myue  staff    98K May  5 17:07 4713_10116_checkpoint_run.png\n",
      "-rw-r--r--  1 myue  staff    68K May  5 17:07 4713_10116_checkpoint_stats.png\n",
      "-rw-r--r--  1 myue  staff   566K May  5 17:07 4713_10116_checkpoint_trace.png\n",
      "-rw-r--r--  1 myue  staff   570K May  5 17:07 4713_10116_checkpoint_trace_unit.png\n",
      "-rw-r--r--  1 myue  staff   394K May  5 17:07 4713_10116_dynesty.pickle\n",
      "-rw-r--r--  1 myue  staff   1.6M May  5 17:07 4713_10116_result.json\n",
      "-rw-r--r--  1 myue  staff   866K May  5 17:07 4713_10116_resume.pickle\n",
      "-rw-r--r--  1 myue  staff    65K May  5 17:07 4713_10235_checkpoint_stats.png\n",
      "-rw-r--r--  1 myue  staff   556K May  5 17:07 4713_10235_checkpoint_trace.png\n",
      "-rw-r--r--  1 myue  staff   556K May  5 17:07 4713_10235_checkpoint_trace_unit.png\n",
      "-rw-r--r--  1 myue  staff   325K May  5 17:07 4713_10235_dynesty.pickle\n",
      "-rw-r--r--  1 myue  staff   1.4M May  5 17:07 4713_10235_result.json\n",
      "-rw-r--r--  1 myue  staff   720K May  5 17:07 4713_10235_resume.pickle\n",
      "-rw-r--r--  1 myue  staff    63K May  5 17:08 4713_10287_checkpoint_stats.png\n",
      "-rw-r--r--  1 myue  staff   551K May  5 17:08 4713_10287_checkpoint_trace.png\n",
      "-rw-r--r--  1 myue  staff   558K May  5 17:08 4713_10287_checkpoint_trace_unit.png\n",
      "-rw-r--r--  1 myue  staff   631K May  5 17:08 4713_10287_dynesty.pickle\n",
      "-rw-r--r--  1 myue  staff   2.5M May  5 17:08 4713_10287_result.json\n",
      "-rw-r--r--  1 myue  staff   1.4M May  5 17:08 4713_10287_resume.pickle\n",
      "-rw-r--r--  1 myue  staff    67K May  5 17:08 4713_10683_checkpoint_stats.png\n",
      "-rw-r--r--  1 myue  staff   568K May  5 17:08 4713_10683_checkpoint_trace.png\n",
      "-rw-r--r--  1 myue  staff   568K May  5 17:08 4713_10683_checkpoint_trace_unit.png\n",
      "-rw-r--r--  1 myue  staff   326K May  5 17:08 4713_10683_dynesty.pickle\n",
      "-rw-r--r--  1 myue  staff   1.4M May  5 17:08 4713_10683_result.json\n",
      "-rw-r--r--  1 myue  staff   728K May  5 17:08 4713_10683_resume.pickle\n",
      "-rw-r--r--  1 myue  staff    95K May  5 17:08 4713_10998_checkpoint_run.png\n",
      "-rw-r--r--  1 myue  staff    68K May  5 17:08 4713_10998_checkpoint_stats.png\n",
      "-rw-r--r--  1 myue  staff   572K May  5 17:08 4713_10998_checkpoint_trace.png\n",
      "-rw-r--r--  1 myue  staff   578K May  5 17:08 4713_10998_checkpoint_trace_unit.png\n",
      "-rw-r--r--  1 myue  staff   442K May  5 17:08 4713_10998_dynesty.pickle\n",
      "-rw-r--r--  1 myue  staff   1.8M May  5 17:08 4713_10998_result.json\n",
      "-rw-r--r--  1 myue  staff   970K May  5 17:08 4713_10998_resume.pickle\n",
      "-rw-r--r--  1 myue  staff    97K May  5 17:09 4713_11362_checkpoint_run.png\n",
      "-rw-r--r--  1 myue  staff    67K May  5 17:09 4713_11362_checkpoint_stats.png\n",
      "-rw-r--r--  1 myue  staff   576K May  5 17:09 4713_11362_checkpoint_trace.png\n",
      "-rw-r--r--  1 myue  staff   580K May  5 17:09 4713_11362_checkpoint_trace_unit.png\n",
      "-rw-r--r--  1 myue  staff   390K May  5 17:09 4713_11362_dynesty.pickle\n",
      "-rw-r--r--  1 myue  staff   1.6M May  5 17:09 4713_11362_result.json\n",
      "-rw-r--r--  1 myue  staff   858K May  5 17:09 4713_11362_resume.pickle\n",
      "-rw-r--r--  1 myue  staff    97K May  5 17:09 4713_11743_checkpoint_run.png\n",
      "-rw-r--r--  1 myue  staff    67K May  5 17:09 4713_11743_checkpoint_stats.png\n",
      "-rw-r--r--  1 myue  staff   553K May  5 17:09 4713_11743_checkpoint_trace.png\n",
      "-rw-r--r--  1 myue  staff   553K May  5 17:09 4713_11743_checkpoint_trace_unit.png\n",
      "-rw-r--r--  1 myue  staff   446K May  5 17:09 4713_11743_dynesty.pickle\n",
      "-rw-r--r--  1 myue  staff   1.8M May  5 17:09 4713_11743_result.json\n",
      "-rw-r--r--  1 myue  staff   978K May  5 17:09 4713_11743_resume.pickle\n",
      "-rw-r--r--  1 myue  staff    92K May  5 17:09 4713_11981_checkpoint_run.png\n",
      "-rw-r--r--  1 myue  staff    67K May  5 17:09 4713_11981_checkpoint_stats.png\n",
      "-rw-r--r--  1 myue  staff   519K May  5 17:09 4713_11981_checkpoint_trace.png\n",
      "-rw-r--r--  1 myue  staff   523K May  5 17:09 4713_11981_checkpoint_trace_unit.png\n",
      "-rw-r--r--  1 myue  staff   499K May  5 17:09 4713_11981_dynesty.pickle\n",
      "-rw-r--r--  1 myue  staff   2.0M May  5 17:09 4713_11981_result.json\n",
      "-rw-r--r--  1 myue  staff   1.1M May  5 17:09 4713_11981_resume.pickle\n",
      "-rw-r--r--  1 myue  staff    67K May  5 17:10 4713_12217_checkpoint_stats.png\n",
      "-rw-r--r--  1 myue  staff   576K May  5 17:10 4713_12217_checkpoint_trace.png\n",
      "-rw-r--r--  1 myue  staff   581K May  5 17:10 4713_12217_checkpoint_trace_unit.png\n",
      "-rw-r--r--  1 myue  staff   411K May  5 17:10 4713_12217_dynesty.pickle\n",
      "-rw-r--r--  1 myue  staff   1.7M May  5 17:10 4713_12217_result.json\n",
      "-rw-r--r--  1 myue  staff   903K May  5 17:10 4713_12217_resume.pickle\n",
      "-rw-r--r--  1 myue  staff    67K May  5 17:10 4713_12285_checkpoint_stats.png\n",
      "-rw-r--r--  1 myue  staff   576K May  5 17:10 4713_12285_checkpoint_trace.png\n",
      "-rw-r--r--  1 myue  staff   578K May  5 17:10 4713_12285_checkpoint_trace_unit.png\n",
      "-rw-r--r--  1 myue  staff   362K May  5 17:10 4713_12285_dynesty.pickle\n",
      "-rw-r--r--  1 myue  staff   1.5M May  5 17:10 4713_12285_result.json\n",
      "-rw-r--r--  1 myue  staff   797K May  5 17:10 4713_12285_resume.pickle\n",
      "-rw-r--r--  1 myue  staff    97K May  5 16:59 4713_1228_checkpoint_run.png\n",
      "-rw-r--r--  1 myue  staff    68K May  5 16:59 4713_1228_checkpoint_stats.png\n",
      "-rw-r--r--  1 myue  staff   588K May  5 16:59 4713_1228_checkpoint_trace.png\n",
      "-rw-r--r--  1 myue  staff   590K May  5 16:59 4713_1228_checkpoint_trace_unit.png\n",
      "-rw-r--r--  1 myue  staff   367K May  5 16:59 4713_1228_dynesty.pickle\n",
      "-rw-r--r--  1 myue  staff   1.5M May  5 16:59 4713_1228_result.json\n",
      "-rw-r--r--  1 myue  staff   812K May  5 16:59 4713_1228_resume.pickle\n",
      "-rw-r--r--  1 myue  staff    68K May  5 17:10 4713_12643_checkpoint_stats.png\n",
      "-rw-r--r--  1 myue  staff   553K May  5 17:10 4713_12643_checkpoint_trace.png\n",
      "-rw-r--r--  1 myue  staff   556K May  5 17:10 4713_12643_checkpoint_trace_unit.png\n",
      "-rw-r--r--  1 myue  staff   358K May  5 17:10 4713_12643_dynesty.pickle\n",
      "-rw-r--r--  1 myue  staff   1.5M May  5 17:10 4713_12643_result.json\n",
      "-rw-r--r--  1 myue  staff   791K May  5 17:10 4713_12643_resume.pickle\n",
      "-rw-r--r--  1 myue  staff    67K May  5 17:10 4713_12754_checkpoint_stats.png\n",
      "-rw-r--r--  1 myue  staff   560K May  5 17:10 4713_12754_checkpoint_trace.png\n",
      "-rw-r--r--  1 myue  staff   563K May  5 17:10 4713_12754_checkpoint_trace_unit.png\n",
      "-rw-r--r--  1 myue  staff   359K May  5 17:10 4713_12754_dynesty.pickle\n",
      "-rw-r--r--  1 myue  staff   1.5M May  5 17:10 4713_12754_result.json\n",
      "-rw-r--r--  1 myue  staff   793K May  5 17:10 4713_12754_resume.pickle\n",
      "-rw-r--r--  1 myue  staff    68K May  5 17:11 4713_12817_checkpoint_stats.png\n",
      "-rw-r--r--  1 myue  staff   570K May  5 17:11 4713_12817_checkpoint_trace.png\n",
      "-rw-r--r--  1 myue  staff   571K May  5 17:11 4713_12817_checkpoint_trace_unit.png\n",
      "-rw-r--r--  1 myue  staff   380K May  5 17:11 4713_12817_dynesty.pickle\n",
      "-rw-r--r--  1 myue  staff   1.6M May  5 17:11 4713_12817_result.json\n",
      "-rw-r--r--  1 myue  staff   837K May  5 17:11 4713_12817_resume.pickle\n",
      "-rw-r--r--  1 myue  staff    96K May  5 17:11 4713_13590_checkpoint_run.png\n",
      "-rw-r--r--  1 myue  staff    66K May  5 17:11 4713_13590_checkpoint_stats.png\n",
      "-rw-r--r--  1 myue  staff   550K May  5 17:11 4713_13590_checkpoint_trace.png\n",
      "-rw-r--r--  1 myue  staff   552K May  5 17:11 4713_13590_checkpoint_trace_unit.png\n",
      "-rw-r--r--  1 myue  staff   303K May  5 17:11 4713_13590_dynesty.pickle\n",
      "-rw-r--r--  1 myue  staff   1.3M May  5 17:11 4713_13590_result.json\n",
      "-rw-r--r--  1 myue  staff   672K May  5 17:11 4713_13590_resume.pickle\n",
      "-rw-r--r--  1 myue  staff    98K May  5 17:11 4713_13753_checkpoint_run.png\n",
      "-rw-r--r--  1 myue  staff    68K May  5 17:11 4713_13753_checkpoint_stats.png\n",
      "-rw-r--r--  1 myue  staff   575K May  5 17:11 4713_13753_checkpoint_trace.png\n",
      "-rw-r--r--  1 myue  staff   579K May  5 17:11 4713_13753_checkpoint_trace_unit.png\n",
      "-rw-r--r--  1 myue  staff   367K May  5 17:11 4713_13753_dynesty.pickle\n",
      "-rw-r--r--  1 myue  staff   1.5M May  5 17:11 4713_13753_result.json\n",
      "-rw-r--r--  1 myue  staff   816K May  5 17:11 4713_13753_resume.pickle\n",
      "-rw-r--r--  1 myue  staff    68K May  5 17:12 4713_13864_checkpoint_stats.png\n",
      "-rw-r--r--  1 myue  staff   568K May  5 17:12 4713_13864_checkpoint_trace.png\n",
      "-rw-r--r--  1 myue  staff   571K May  5 17:12 4713_13864_checkpoint_trace_unit.png\n",
      "-rw-r--r--  1 myue  staff   345K May  5 17:12 4713_13864_dynesty.pickle\n",
      "-rw-r--r--  1 myue  staff   1.5M May  5 17:12 4713_13864_result.json\n",
      "-rw-r--r--  1 myue  staff   765K May  5 17:12 4713_13864_resume.pickle\n",
      "-rw-r--r--  1 myue  staff    97K May  5 17:12 4713_15162_checkpoint_run.png\n",
      "-rw-r--r--  1 myue  staff    67K May  5 17:12 4713_15162_checkpoint_stats.png\n",
      "-rw-r--r--  1 myue  staff   551K May  5 17:12 4713_15162_checkpoint_trace.png\n",
      "-rw-r--r--  1 myue  staff   553K May  5 17:12 4713_15162_checkpoint_trace_unit.png\n",
      "-rw-r--r--  1 myue  staff   316K May  5 17:12 4713_15162_dynesty.pickle\n",
      "-rw-r--r--  1 myue  staff   1.4M May  5 17:12 4713_15162_result.json\n",
      "-rw-r--r--  1 myue  staff   701K May  5 17:12 4713_15162_resume.pickle\n",
      "-rw-r--r--  1 myue  staff    65K May  5 17:12 4713_15437_checkpoint_stats.png\n",
      "-rw-r--r--  1 myue  staff   559K May  5 17:12 4713_15437_checkpoint_trace.png\n",
      "-rw-r--r--  1 myue  staff   558K May  5 17:12 4713_15437_checkpoint_trace_unit.png\n",
      "-rw-r--r--  1 myue  staff   336K May  5 17:12 4713_15437_dynesty.pickle\n",
      "-rw-r--r--  1 myue  staff   1.4M May  5 17:12 4713_15437_result.json\n",
      "-rw-r--r--  1 myue  staff   750K May  5 17:12 4713_15437_resume.pickle\n",
      "-rw-r--r--  1 myue  staff    98K May  5 17:12 4713_15612_checkpoint_run.png\n",
      "-rw-r--r--  1 myue  staff    67K May  5 17:12 4713_15612_checkpoint_stats.png\n",
      "-rw-r--r--  1 myue  staff   546K May  5 17:12 4713_15612_checkpoint_trace.png\n",
      "-rw-r--r--  1 myue  staff   553K May  5 17:12 4713_15612_checkpoint_trace_unit.png\n",
      "-rw-r--r--  1 myue  staff   324K May  5 17:12 4713_15612_dynesty.pickle\n",
      "-rw-r--r--  1 myue  staff   1.4M May  5 17:12 4713_15612_result.json\n",
      "-rw-r--r--  1 myue  staff   723K May  5 17:12 4713_15612_resume.pickle\n",
      "-rw-r--r--  1 myue  staff    97K May  5 17:13 4713_15627_checkpoint_run.png\n",
      "-rw-r--r--  1 myue  staff    65K May  5 17:13 4713_15627_checkpoint_stats.png\n",
      "-rw-r--r--  1 myue  staff   545K May  5 17:13 4713_15627_checkpoint_trace.png\n",
      "-rw-r--r--  1 myue  staff   548K May  5 17:13 4713_15627_checkpoint_trace_unit.png\n",
      "-rw-r--r--  1 myue  staff   306K May  5 17:13 4713_15627_dynesty.pickle\n",
      "-rw-r--r--  1 myue  staff   1.3M May  5 17:13 4713_15627_result.json\n",
      "-rw-r--r--  1 myue  staff   692K May  5 17:13 4713_15627_resume.pickle\n",
      "-rw-r--r--  1 myue  staff    99K May  5 17:13 4713_16184_checkpoint_run.png\n",
      "-rw-r--r--  1 myue  staff    66K May  5 17:13 4713_16184_checkpoint_stats.png\n",
      "-rw-r--r--  1 myue  staff   564K May  5 17:13 4713_16184_checkpoint_trace.png\n",
      "-rw-r--r--  1 myue  staff   564K May  5 17:13 4713_16184_checkpoint_trace_unit.png\n",
      "-rw-r--r--  1 myue  staff   357K May  5 17:13 4713_16184_dynesty.pickle\n",
      "-rw-r--r--  1 myue  staff   1.5M May  5 17:13 4713_16184_result.json\n",
      "-rw-r--r--  1 myue  staff   788K May  5 17:13 4713_16184_resume.pickle\n",
      "-rw-r--r--  1 myue  staff    66K May  5 17:13 4713_16322_checkpoint_stats.png\n",
      "-rw-r--r--  1 myue  staff   571K May  5 17:13 4713_16322_checkpoint_trace.png\n",
      "-rw-r--r--  1 myue  staff   576K May  5 17:13 4713_16322_checkpoint_trace_unit.png\n",
      "-rw-r--r--  1 myue  staff   337K May  5 17:13 4713_16322_dynesty.pickle\n",
      "-rw-r--r--  1 myue  staff   1.4M May  5 17:13 4713_16322_result.json\n",
      "-rw-r--r--  1 myue  staff   745K May  5 17:13 4713_16322_resume.pickle\n",
      "-rw-r--r--  1 myue  staff    67K May  5 17:14 4713_16479_checkpoint_stats.png\n",
      "-rw-r--r--  1 myue  staff   535K May  5 17:14 4713_16479_checkpoint_trace.png\n",
      "-rw-r--r--  1 myue  staff   540K May  5 17:14 4713_16479_checkpoint_trace_unit.png\n",
      "-rw-r--r--  1 myue  staff   617K May  5 17:14 4713_16479_dynesty.pickle\n",
      "-rw-r--r--  1 myue  staff   2.5M May  5 17:14 4713_16479_result.json\n",
      "-rw-r--r--  1 myue  staff   1.3M May  5 17:14 4713_16479_resume.pickle\n",
      "-rw-r--r--  1 myue  staff    68K May  5 17:14 4713_16759_checkpoint_stats.png\n",
      "-rw-r--r--  1 myue  staff   548K May  5 17:14 4713_16759_checkpoint_trace.png\n",
      "-rw-r--r--  1 myue  staff   544K May  5 17:14 4713_16759_checkpoint_trace_unit.png\n",
      "-rw-r--r--  1 myue  staff   553K May  5 17:14 4713_16759_dynesty.pickle\n",
      "-rw-r--r--  1 myue  staff   2.2M May  5 17:14 4713_16759_result.json\n",
      "-rw-r--r--  1 myue  staff   1.2M May  5 17:14 4713_16759_resume.pickle\n",
      "-rw-r--r--  1 myue  staff    96K May  5 17:14 4713_17352_checkpoint_run.png\n",
      "-rw-r--r--  1 myue  staff    67K May  5 17:14 4713_17352_checkpoint_stats.png\n",
      "-rw-r--r--  1 myue  staff   562K May  5 17:14 4713_17352_checkpoint_trace.png\n",
      "-rw-r--r--  1 myue  staff   565K May  5 17:14 4713_17352_checkpoint_trace_unit.png\n",
      "-rw-r--r--  1 myue  staff   335K May  5 17:14 4713_17352_dynesty.pickle\n",
      "-rw-r--r--  1 myue  staff   1.4M May  5 17:14 4713_17352_result.json\n",
      "-rw-r--r--  1 myue  staff   741K May  5 17:14 4713_17352_resume.pickle\n",
      "-rw-r--r--  1 myue  staff    69K May  5 17:15 4713_17385_checkpoint_stats.png\n",
      "-rw-r--r--  1 myue  staff   576K May  5 17:15 4713_17385_checkpoint_trace.png\n",
      "-rw-r--r--  1 myue  staff   578K May  5 17:15 4713_17385_checkpoint_trace_unit.png\n",
      "-rw-r--r--  1 myue  staff   438K May  5 17:15 4713_17385_dynesty.pickle\n",
      "-rw-r--r--  1 myue  staff   1.8M May  5 17:15 4713_17385_result.json\n",
      "-rw-r--r--  1 myue  staff   962K May  5 17:15 4713_17385_resume.pickle\n",
      "-rw-r--r--  1 myue  staff    69K May  5 17:15 4713_17435_checkpoint_stats.png\n",
      "-rw-r--r--  1 myue  staff   523K May  5 17:15 4713_17435_checkpoint_trace.png\n",
      "-rw-r--r--  1 myue  staff   524K May  5 17:15 4713_17435_checkpoint_trace_unit.png\n",
      "-rw-r--r--  1 myue  staff   592K May  5 17:15 4713_17435_dynesty.pickle\n",
      "-rw-r--r--  1 myue  staff   2.4M May  5 17:15 4713_17435_result.json\n",
      "-rw-r--r--  1 myue  staff   1.3M May  5 17:15 4713_17435_resume.pickle\n",
      "-rw-r--r--  1 myue  staff    69K May  5 17:16 4713_17492_checkpoint_stats.png\n",
      "-rw-r--r--  1 myue  staff   553K May  5 17:16 4713_17492_checkpoint_trace.png\n",
      "-rw-r--r--  1 myue  staff   556K May  5 17:16 4713_17492_checkpoint_trace_unit.png\n",
      "-rw-r--r--  1 myue  staff   506K May  5 17:16 4713_17492_dynesty.pickle\n",
      "-rw-r--r--  1 myue  staff   2.1M May  5 17:16 4713_17492_result.json\n",
      "-rw-r--r--  1 myue  staff   1.1M May  5 17:16 4713_17492_resume.pickle\n",
      "-rw-r--r--  1 myue  staff    96K May  5 17:16 4713_18057_checkpoint_run.png\n",
      "-rw-r--r--  1 myue  staff    65K May  5 17:16 4713_18057_checkpoint_stats.png\n",
      "-rw-r--r--  1 myue  staff   558K May  5 17:16 4713_18057_checkpoint_trace.png\n",
      "-rw-r--r--  1 myue  staff   559K May  5 17:16 4713_18057_checkpoint_trace_unit.png\n",
      "-rw-r--r--  1 myue  staff   319K May  5 17:16 4713_18057_dynesty.pickle\n",
      "-rw-r--r--  1 myue  staff   1.4M May  5 17:16 4713_18057_result.json\n",
      "-rw-r--r--  1 myue  staff   713K May  5 17:16 4713_18057_resume.pickle\n",
      "-rw-r--r--  1 myue  staff    67K May  5 17:16 4713_18061_checkpoint_stats.png\n",
      "-rw-r--r--  1 myue  staff   594K May  5 17:16 4713_18061_checkpoint_trace.png\n",
      "-rw-r--r--  1 myue  staff   592K May  5 17:16 4713_18061_checkpoint_trace_unit.png\n",
      "-rw-r--r--  1 myue  staff   454K May  5 17:16 4713_18061_dynesty.pickle\n",
      "-rw-r--r--  1 myue  staff   1.9M May  5 17:16 4713_18061_result.json\n",
      "-rw-r--r--  1 myue  staff   995K May  5 17:16 4713_18061_resume.pickle\n",
      "-rw-r--r--  1 myue  staff    67K May  5 17:17 4713_18268_checkpoint_stats.png\n",
      "-rw-r--r--  1 myue  staff   572K May  5 17:17 4713_18268_checkpoint_trace.png\n",
      "-rw-r--r--  1 myue  staff   572K May  5 17:17 4713_18268_checkpoint_trace_unit.png\n",
      "-rw-r--r--  1 myue  staff   397K May  5 17:17 4713_18268_dynesty.pickle\n",
      "-rw-r--r--  1 myue  staff   1.7M May  5 17:17 4713_18268_result.json\n",
      "-rw-r--r--  1 myue  staff   874K May  5 17:17 4713_18268_resume.pickle\n",
      "-rw-r--r--  1 myue  staff    65K May  5 17:00 4713_2007_checkpoint_stats.png\n",
      "-rw-r--r--  1 myue  staff   572K May  5 17:00 4713_2007_checkpoint_trace.png\n",
      "-rw-r--r--  1 myue  staff   577K May  5 17:00 4713_2007_checkpoint_trace_unit.png\n",
      "-rw-r--r--  1 myue  staff   347K May  5 17:00 4713_2007_dynesty.pickle\n",
      "-rw-r--r--  1 myue  staff   1.5M May  5 17:00 4713_2007_result.json\n",
      "-rw-r--r--  1 myue  staff   768K May  5 17:00 4713_2007_resume.pickle\n",
      "-rw-r--r--  1 myue  staff    67K May  5 17:00 4713_2084_checkpoint_stats.png\n",
      "-rw-r--r--  1 myue  staff   565K May  5 17:00 4713_2084_checkpoint_trace.png\n",
      "-rw-r--r--  1 myue  staff   566K May  5 17:00 4713_2084_checkpoint_trace_unit.png\n",
      "-rw-r--r--  1 myue  staff   412K May  5 17:00 4713_2084_dynesty.pickle\n",
      "-rw-r--r--  1 myue  staff   1.7M May  5 17:00 4713_2084_result.json\n",
      "-rw-r--r--  1 myue  staff   906K May  5 17:00 4713_2084_resume.pickle\n",
      "-rw-r--r--  1 myue  staff    91K May  5 17:00 4713_2159_checkpoint_run.png\n",
      "-rw-r--r--  1 myue  staff    68K May  5 17:00 4713_2159_checkpoint_stats.png\n",
      "-rw-r--r--  1 myue  staff   558K May  5 17:00 4713_2159_checkpoint_trace.png\n",
      "-rw-r--r--  1 myue  staff   560K May  5 17:00 4713_2159_checkpoint_trace_unit.png\n",
      "-rw-r--r--  1 myue  staff   478K May  5 17:00 4713_2159_dynesty.pickle\n",
      "-rw-r--r--  1 myue  staff   1.9M May  5 17:00 4713_2159_result.json\n",
      "-rw-r--r--  1 myue  staff   1.0M May  5 17:00 4713_2159_resume.pickle\n",
      "-rw-r--r--  1 myue  staff    66K May  5 17:01 4713_2355_checkpoint_stats.png\n",
      "-rw-r--r--  1 myue  staff   559K May  5 17:01 4713_2355_checkpoint_trace.png\n",
      "-rw-r--r--  1 myue  staff   559K May  5 17:01 4713_2355_checkpoint_trace_unit.png\n",
      "-rw-r--r--  1 myue  staff   349K May  5 17:01 4713_2355_dynesty.pickle\n",
      "-rw-r--r--  1 myue  staff   1.5M May  5 17:01 4713_2355_result.json\n",
      "-rw-r--r--  1 myue  staff   779K May  5 17:01 4713_2355_resume.pickle\n",
      "-rw-r--r--  1 myue  staff    98K May  5 16:59 4713_30_checkpoint_run.png\n",
      "-rw-r--r--  1 myue  staff    66K May  5 16:59 4713_30_checkpoint_stats.png\n",
      "-rw-r--r--  1 myue  staff   581K May  5 16:59 4713_30_checkpoint_trace.png\n",
      "-rw-r--r--  1 myue  staff   587K May  5 16:59 4713_30_checkpoint_trace_unit.png\n",
      "-rw-r--r--  1 myue  staff   408K May  5 16:59 4713_30_dynesty.pickle\n",
      "-rw-r--r--  1 myue  staff   1.7M May  5 16:59 4713_30_result.json\n",
      "-rw-r--r--  1 myue  staff   896K May  5 16:59 4713_30_resume.pickle\n",
      "-rw-r--r--  1 myue  staff    97K May  5 17:01 4713_3783_checkpoint_run.png\n",
      "-rw-r--r--  1 myue  staff    65K May  5 17:01 4713_3783_checkpoint_stats.png\n",
      "-rw-r--r--  1 myue  staff   568K May  5 17:01 4713_3783_checkpoint_trace.png\n",
      "-rw-r--r--  1 myue  staff   569K May  5 17:01 4713_3783_checkpoint_trace_unit.png\n",
      "-rw-r--r--  1 myue  staff   344K May  5 17:01 4713_3783_dynesty.pickle\n",
      "-rw-r--r--  1 myue  staff   1.5M May  5 17:01 4713_3783_result.json\n",
      "-rw-r--r--  1 myue  staff   766K May  5 17:01 4713_3783_resume.pickle\n",
      "-rw-r--r--  1 myue  staff    98K May  5 17:01 4713_4080_checkpoint_run.png\n",
      "-rw-r--r--  1 myue  staff    67K May  5 17:01 4713_4080_checkpoint_stats.png\n",
      "-rw-r--r--  1 myue  staff   556K May  5 17:01 4713_4080_checkpoint_trace.png\n",
      "-rw-r--r--  1 myue  staff   560K May  5 17:01 4713_4080_checkpoint_trace_unit.png\n",
      "-rw-r--r--  1 myue  staff   375K May  5 17:01 4713_4080_dynesty.pickle\n",
      "-rw-r--r--  1 myue  staff   1.6M May  5 17:01 4713_4080_result.json\n",
      "-rw-r--r--  1 myue  staff   827K May  5 17:01 4713_4080_resume.pickle\n",
      "-rw-r--r--  1 myue  staff    95K May  5 17:01 4713_4184_checkpoint_run.png\n",
      "-rw-r--r--  1 myue  staff    67K May  5 17:01 4713_4184_checkpoint_stats.png\n",
      "-rw-r--r--  1 myue  staff   565K May  5 17:01 4713_4184_checkpoint_trace.png\n",
      "-rw-r--r--  1 myue  staff   565K May  5 17:01 4713_4184_checkpoint_trace_unit.png\n",
      "-rw-r--r--  1 myue  staff   465K May  5 17:01 4713_4184_dynesty.pickle\n",
      "-rw-r--r--  1 myue  staff   1.9M May  5 17:01 4713_4184_result.json\n",
      "-rw-r--r--  1 myue  staff   1.0M May  5 17:01 4713_4184_resume.pickle\n",
      "-rw-r--r--  1 myue  staff    69K May  5 17:02 4713_4222_checkpoint_stats.png\n",
      "-rw-r--r--  1 myue  staff   576K May  5 17:02 4713_4222_checkpoint_trace.png\n",
      "-rw-r--r--  1 myue  staff   577K May  5 17:02 4713_4222_checkpoint_trace_unit.png\n",
      "-rw-r--r--  1 myue  staff   399K May  5 17:02 4713_4222_dynesty.pickle\n",
      "-rw-r--r--  1 myue  staff   1.7M May  5 17:02 4713_4222_result.json\n",
      "-rw-r--r--  1 myue  staff   889K May  5 17:02 4713_4222_resume.pickle\n",
      "-rw-r--r--  1 myue  staff    96K May  5 17:02 4713_5378_checkpoint_run.png\n",
      "-rw-r--r--  1 myue  staff    64K May  5 17:02 4713_5378_checkpoint_stats.png\n",
      "-rw-r--r--  1 myue  staff   563K May  5 17:02 4713_5378_checkpoint_trace.png\n",
      "-rw-r--r--  1 myue  staff   564K May  5 17:02 4713_5378_checkpoint_trace_unit.png\n",
      "-rw-r--r--  1 myue  staff   326K May  5 17:02 4713_5378_dynesty.pickle\n",
      "-rw-r--r--  1 myue  staff   1.4M May  5 17:02 4713_5378_result.json\n",
      "-rw-r--r--  1 myue  staff   723K May  5 17:02 4713_5378_resume.pickle\n",
      "-rw-r--r--  1 myue  staff    96K May  5 17:02 4713_5581_checkpoint_run.png\n",
      "-rw-r--r--  1 myue  staff    63K May  5 17:02 4713_5581_checkpoint_stats.png\n",
      "-rw-r--r--  1 myue  staff   554K May  5 17:02 4713_5581_checkpoint_trace.png\n",
      "-rw-r--r--  1 myue  staff   555K May  5 17:02 4713_5581_checkpoint_trace_unit.png\n",
      "-rw-r--r--  1 myue  staff   314K May  5 17:02 4713_5581_dynesty.pickle\n",
      "-rw-r--r--  1 myue  staff   1.3M May  5 17:02 4713_5581_result.json\n",
      "-rw-r--r--  1 myue  staff   696K May  5 17:02 4713_5581_resume.pickle\n",
      "-rw-r--r--  1 myue  staff    66K May  5 17:03 4713_5595_checkpoint_stats.png\n",
      "-rw-r--r--  1 myue  staff   563K May  5 17:03 4713_5595_checkpoint_trace.png\n",
      "-rw-r--r--  1 myue  staff   562K May  5 17:03 4713_5595_checkpoint_trace_unit.png\n",
      "-rw-r--r--  1 myue  staff   350K May  5 17:03 4713_5595_dynesty.pickle\n",
      "-rw-r--r--  1 myue  staff   1.5M May  5 17:03 4713_5595_result.json\n",
      "-rw-r--r--  1 myue  staff   776K May  5 17:03 4713_5595_resume.pickle\n",
      "-rw-r--r--  1 myue  staff    97K May  5 17:03 4713_5671_checkpoint_run.png\n",
      "-rw-r--r--  1 myue  staff    68K May  5 17:03 4713_5671_checkpoint_stats.png\n",
      "-rw-r--r--  1 myue  staff   559K May  5 17:03 4713_5671_checkpoint_trace.png\n",
      "-rw-r--r--  1 myue  staff   563K May  5 17:03 4713_5671_checkpoint_trace_unit.png\n",
      "-rw-r--r--  1 myue  staff   386K May  5 17:03 4713_5671_dynesty.pickle\n",
      "-rw-r--r--  1 myue  staff   1.6M May  5 17:03 4713_5671_result.json\n",
      "-rw-r--r--  1 myue  staff   849K May  5 17:03 4713_5671_resume.pickle\n",
      "-rw-r--r--  1 myue  staff    66K May  5 17:03 4713_6733_checkpoint_stats.png\n",
      "-rw-r--r--  1 myue  staff   513K May  5 17:03 4713_6733_checkpoint_trace.png\n",
      "-rw-r--r--  1 myue  staff   515K May  5 17:03 4713_6733_checkpoint_trace_unit.png\n",
      "-rw-r--r--  1 myue  staff   679K May  5 17:03 4713_6733_dynesty.pickle\n",
      "-rw-r--r--  1 myue  staff   2.7M May  5 17:03 4713_6733_result.json\n",
      "-rw-r--r--  1 myue  staff   1.4M May  5 17:03 4713_6733_resume.pickle\n",
      "-rw-r--r--  1 myue  staff    64K May  5 17:04 4713_7194_checkpoint_stats.png\n",
      "-rw-r--r--  1 myue  staff   562K May  5 17:04 4713_7194_checkpoint_trace.png\n",
      "-rw-r--r--  1 myue  staff   563K May  5 17:04 4713_7194_checkpoint_trace_unit.png\n",
      "-rw-r--r--  1 myue  staff   374K May  5 17:04 4713_7194_dynesty.pickle\n",
      "-rw-r--r--  1 myue  staff   1.6M May  5 17:04 4713_7194_result.json\n",
      "-rw-r--r--  1 myue  staff   825K May  5 17:04 4713_7194_resume.pickle\n",
      "-rw-r--r--  1 myue  staff    68K May  5 17:04 4713_7230_checkpoint_stats.png\n",
      "-rw-r--r--  1 myue  staff   564K May  5 17:04 4713_7230_checkpoint_trace.png\n",
      "-rw-r--r--  1 myue  staff   569K May  5 17:04 4713_7230_checkpoint_trace_unit.png\n",
      "-rw-r--r--  1 myue  staff   501K May  5 17:04 4713_7230_dynesty.pickle\n",
      "-rw-r--r--  1 myue  staff   2.0M May  5 17:04 4713_7230_result.json\n",
      "-rw-r--r--  1 myue  staff   1.1M May  5 17:04 4713_7230_resume.pickle\n",
      "-rw-r--r--  1 myue  staff    66K May  5 17:06 4713_7430_checkpoint_stats.png\n",
      "-rw-r--r--  1 myue  staff   567K May  5 17:06 4713_7430_checkpoint_trace.png\n",
      "-rw-r--r--  1 myue  staff   566K May  5 17:06 4713_7430_checkpoint_trace_unit.png\n",
      "-rw-r--r--  1 myue  staff   370K May  5 17:06 4713_7430_dynesty.pickle\n",
      "-rw-r--r--  1 myue  staff   1.6M May  5 17:06 4713_7430_result.json\n",
      "-rw-r--r--  1 myue  staff   817K May  5 17:06 4713_7430_resume.pickle\n",
      "-rw-r--r--  1 myue  staff    68K May  5 17:06 4713_8514_checkpoint_stats.png\n",
      "-rw-r--r--  1 myue  staff   561K May  5 17:06 4713_8514_checkpoint_trace.png\n",
      "-rw-r--r--  1 myue  staff   565K May  5 17:06 4713_8514_checkpoint_trace_unit.png\n",
      "-rw-r--r--  1 myue  staff   341K May  5 17:06 4713_8514_dynesty.pickle\n",
      "-rw-r--r--  1 myue  staff   1.5M May  5 17:06 4713_8514_result.json\n",
      "-rw-r--r--  1 myue  staff   764K May  5 17:06 4713_8514_resume.pickle\n",
      "-rw-r--r--  1 myue  staff    96K May  5 17:06 4713_9273_checkpoint_run.png\n",
      "-rw-r--r--  1 myue  staff    67K May  5 17:06 4713_9273_checkpoint_stats.png\n",
      "-rw-r--r--  1 myue  staff   557K May  5 17:06 4713_9273_checkpoint_trace.png\n",
      "-rw-r--r--  1 myue  staff   561K May  5 17:06 4713_9273_checkpoint_trace_unit.png\n",
      "-rw-r--r--  1 myue  staff   348K May  5 17:06 4713_9273_dynesty.pickle\n",
      "-rw-r--r--  1 myue  staff   1.5M May  5 17:06 4713_9273_result.json\n",
      "-rw-r--r--  1 myue  staff   768K May  5 17:06 4713_9273_resume.pickle\n",
      "-rw-r--r--  1 myue  staff    66K May  5 17:07 4713_9970_checkpoint_stats.png\n",
      "-rw-r--r--  1 myue  staff   571K May  5 17:07 4713_9970_checkpoint_trace.png\n",
      "-rw-r--r--  1 myue  staff   576K May  5 17:07 4713_9970_checkpoint_trace_unit.png\n",
      "-rw-r--r--  1 myue  staff   390K May  5 17:07 4713_9970_dynesty.pickle\n",
      "-rw-r--r--  1 myue  staff   1.6M May  5 17:07 4713_9970_result.json\n",
      "-rw-r--r--  1 myue  staff   858K May  5 17:07 4713_9970_resume.pickle\n"
     ]
    }
   ],
   "source": [
    "ls -lh ../../data/lya_saves/J0100/bilby_fit_lya_msaexp_pypeit_v2/"
   ]
  },
  {
   "cell_type": "code",
   "execution_count": 31,
   "id": "461fd579-a2fa-42e9-b5d7-3fd435af6d45",
   "metadata": {},
   "outputs": [
    {
     "data": {
      "text/html": [
       "<div><i>Table length=2</i>\n",
       "<table id=\"table18445634304\" class=\"table-striped table-bordered table-condensed\">\n",
       "<thead><tr><th>NUMBERv4</th><th>NUMBER</th><th>ID_1</th><th>RA</th><th>DEC</th><th>zguess</th><th>DK_JM_ave_score</th><th>Nclumps_Y</th><th>Nclumps_spec</th><th>Module_ignore</th><th>REDO_1D</th><th>comments_fitting</th><th>MANUAL_CHANGE_zspec</th><th>comments_zspec</th><th>z_O3doublet_combined_n</th><th>f_Hb</th><th>f_O3_4960</th><th>f_O3_5008</th><th>f_Hb_err</th><th>f_O3_4960_err</th><th>f_O3_5008_err</th><th>id_1a</th><th>ID_PARENT_det</th><th>ALPHA_J2000_det</th><th>DELTA_J2000_det</th><th>X_IMAGE_det</th><th>Y_IMAGE_det</th><th>A_IMAGE_det</th><th>B_IMAGE_det</th><th>THETA_IMAGE_det</th><th>ELONGATION_det</th><th>ELLIPTICITY_det</th><th>FWHM_WORLD_det</th><th>CLASS_STAR_det</th><th>BACKGROUND_det</th><th>ap_corr</th><th>MAG_AUTO_F356W_apcor</th><th>MAG_AUTO_F200W_apcor</th><th>MAG_AUTO_F115W_apcor</th><th>MAG_AUTO_F850LP_apcor</th><th>MAG_AUTO_F775W_apcor</th><th>MAG_AUTO_F606W_apcor</th><th>fnu_F356W_AUTO_apcor</th><th>enu_F356W_aper_model</th><th>fnu_F200W_AUTO_apcor</th><th>enu_F200W_aper_model</th><th>fnu_F115W_AUTO_apcor</th><th>enu_F115W_aper_model</th><th>fnu_F850LP_AUTO_apcor</th><th>enu_F850LP_aper_model</th><th>fnu_F775W_AUTO_apcor</th><th>enu_F775W_aper_model</th><th>fnu_F606W_AUTO_apcor</th><th>enu_F606W_aper_model</th><th>good_mag</th><th>good_nrc</th><th>CHECK_PHOTOMETRY</th><th>BACKWARD_ONLY</th><th>CATALOG_MISSED</th><th>BACKWARD</th><th>BACKWARD_INFO</th><th>CONFID</th><th>EWquantile</th><th>FWHMquantile</th><th>zlyaquantile</th><th>fluxquantile</th><th>Muv</th><th>EWfromHb</th><th>fesc</th></tr></thead>\n",
       "<thead><tr><th></th><th></th><th></th><th></th><th></th><th></th><th></th><th></th><th></th><th></th><th></th><th></th><th></th><th></th><th></th><th></th><th></th><th></th><th></th><th></th><th></th><th></th><th></th><th>deg</th><th>deg</th><th>pix</th><th>pix</th><th>pix</th><th>pix</th><th>deg</th><th></th><th></th><th>deg</th><th></th><th>ct</th><th>mag</th><th>mag</th><th>mag</th><th>mag</th><th>mag</th><th>mag</th><th>mag</th><th>ct</th><th>ct</th><th>ct</th><th>ct</th><th>ct</th><th>ct</th><th>ct</th><th>ct</th><th>ct</th><th>ct</th><th>ct</th><th>ct</th><th></th><th></th><th></th><th></th><th></th><th></th><th></th><th></th><th></th><th></th><th></th><th></th><th></th><th></th><th></th></tr></thead>\n",
       "<thead><tr><th>float64</th><th>float64</th><th>bytes7</th><th>float64</th><th>float64</th><th>float64</th><th>float64</th><th>float64</th><th>float64</th><th>bytes5</th><th>bool</th><th>bytes17</th><th>bool</th><th>bytes51</th><th>float64</th><th>float64</th><th>float64</th><th>float64</th><th>float64</th><th>float64</th><th>float64</th><th>bytes7</th><th>int32</th><th>float64</th><th>float64</th><th>float32</th><th>float32</th><th>float32</th><th>float32</th><th>float32</th><th>float32</th><th>float32</th><th>float32</th><th>float32</th><th>float32</th><th>float32</th><th>float32</th><th>float32</th><th>float32</th><th>float32</th><th>float32</th><th>float32</th><th>float32</th><th>float64</th><th>float32</th><th>float64</th><th>float32</th><th>float64</th><th>float32</th><th>float32</th><th>float32</th><th>float32</th><th>float32</th><th>float32</th><th>bool</th><th>bool</th><th>bool</th><th>bool</th><th>bool</th><th>bool</th><th>bytes32</th><th>float64</th><th>float64[7]</th><th>float64[7]</th><th>float64[7]</th><th>float64[7]</th><th>float64</th><th>float64[2]</th><th>float64[7]</th></tr></thead>\n",
       "<tr><td>7430.0</td><td>7430.0</td><td>7430_0</td><td>15.069165392971382</td><td>28.026542306054257</td><td>6.661</td><td>2.0</td><td>1.0</td><td>1.0</td><td>--</td><td>False</td><td>--</td><td>False</td><td>--</td><td>6.663049033076297</td><td>0.2612965213322771</td><td>0.21165384299824952</td><td>1.601774012794921</td><td>0.11003465942975832</td><td>0.11451283654653548</td><td>0.11879219557043877</td><td>7430_0</td><td>7120</td><td>15.069165392971382</td><td>28.026542306054257</td><td>9571.367</td><td>3289.2922</td><td>2.846437</td><td>2.3656785</td><td>27.524794</td><td>1.2032222</td><td>0.16889834</td><td>0.0022904638</td><td>0.006099707</td><td>0.00015193119</td><td>-0.44273603</td><td>27.340971</td><td>27.680538</td><td>27.836979</td><td>28.045517</td><td>27.79116</td><td>29.183474</td><td>42.0351</td><td>1.9994058032493585</td><td>30.74573</td><td>1.6790401748340475</td><td>26.62007</td><td>2.733579709609048</td><td>21.968157</td><td>11.866006</td><td>27.767452</td><td>8.814555</td><td>7.702119</td><td>5.869114</td><td>True</td><td>True</td><td>False</td><td>True</td><td>False</td><td>True</td><td>2b_2249,</td><td>1.0</td><td>-11.298549385845083 .. 22.464070162268168</td><td>301.13813820040735 .. 998.3485167504479</td><td>7.647741205225259 .. 7.678309816113104</td><td>-1.1827907869921983 .. 2.2142306873077175</td><td>-19.02451849910381</td><td>91.81237303086543 .. 38.663136984676235</td><td>-0.12306129351483752 .. 0.24467366892604125</td></tr>\n",
       "<tr><td>17492.0</td><td>17492.0</td><td>17492_1</td><td>15.029261552780975</td><td>28.065109192767657</td><td>6.731724184247106</td><td>7.0</td><td>1.0</td><td>1.0</td><td>--</td><td>False</td><td>--</td><td>False</td><td>--</td><td>6.727733323610757</td><td>0.36271583635967275</td><td>1.0109700476208072</td><td>1.6095704545596279</td><td>0.1038992189830268</td><td>0.1048911148742519</td><td>0.14268093198089105</td><td>17492_1</td><td>10256</td><td>15.029261552780975</td><td>28.065109192767657</td><td>3385.6897</td><td>4297.4883</td><td>2.9860792</td><td>2.2749627</td><td>-34.99638</td><td>1.3125838</td><td>0.23814392</td><td>0.0025653604</td><td>0.01089811</td><td>0.0003360098</td><td>-0.3250717</td><td>27.477715</td><td>27.966146</td><td>27.667862</td><td>98.67493</td><td>98.67493</td><td>98.67493</td><td>37.060753</td><td>2.877789703047733</td><td>23.634243</td><td>2.3545430226341386</td><td>31.106808</td><td>4.024447841018307</td><td>-99.0</td><td>-99.0</td><td>-99.0</td><td>-99.0</td><td>-99.0</td><td>-99.0</td><td>False</td><td>True</td><td>False</td><td>False</td><td>False</td><td>True</td><td>3a_2835,</td><td>2.0</td><td>21.452409311781704 .. 89.70360578647737</td><td>300.32560731546374 .. 926.2808150180615</td><td>7.731185196813408 .. 7.736591780399056</td><td>1.7332939465297628 .. 4.5726012822687165</td><td>-19.198939505522258</td><td>94.39960722169384 .. 27.0405768909211</td><td>0.22725104418497788 .. 0.9502540151021169</td></tr>\n",
       "</table></div>"
      ],
      "text/plain": [
       "<Table length=2>\n",
       "NUMBERv4  NUMBER ...                     fesc                   \n",
       "                 ...                                            \n",
       "float64  float64 ...                  float64[7]                \n",
       "-------- ------- ... -------------------------------------------\n",
       "  7430.0  7430.0 ... -0.12306129351483752 .. 0.24467366892604125\n",
       " 17492.0 17492.0 ...   0.22725104418497788 .. 0.9502540151021169"
      ]
     },
     "execution_count": 31,
     "metadata": {},
     "output_type": "execute_result"
    }
   ],
   "source": [
    "selectedinfo_msaexp[(selectedinfo_msaexp['z_O3doublet_combined_n']>6.6)\\\n",
    "                    &(selectedinfo_msaexp['Muv']<-19)\\\n",
    "                    &(selectedinfo_msaexp['Muv']>-19.2)]"
   ]
  },
  {
   "cell_type": "markdown",
   "id": "6aa5d5ab-441c-47d6-9a6d-0efc8b20d2ba",
   "metadata": {},
   "source": [
    "# lya luminosity"
   ]
  },
  {
   "cell_type": "code",
   "execution_count": 9,
   "id": "fdeaccff-3358-4020-b8df-f1a282399e3e",
   "metadata": {},
   "outputs": [],
   "source": [
    "from astropy.cosmology import FlatLambdaCDM\n",
    "defaultcosmo = FlatLambdaCDM(H0=70, Om0=0.3)\n"
   ]
  },
  {
   "cell_type": "code",
   "execution_count": 10,
   "id": "c73f4f77-7cf3-4735-a0bf-15560ab680f7",
   "metadata": {},
   "outputs": [],
   "source": [
    "lumdist = defaultcosmo.luminosity_distance(selectedinfo_msaexp['z_O3doublet_combined_n']).to('cm').value"
   ]
  },
  {
   "cell_type": "code",
   "execution_count": 17,
   "id": "7ee29b64-5012-42f1-84bc-47fe587c5557",
   "metadata": {},
   "outputs": [],
   "source": [
    "mask = selectedinfo_msaexp['fluxquantile'][:,0]>0"
   ]
  },
  {
   "cell_type": "code",
   "execution_count": 18,
   "id": "98193a5b-b909-4eb8-a85f-11ebfa7efad0",
   "metadata": {},
   "outputs": [
    {
     "name": "stderr",
     "output_type": "stream",
     "text": [
      "/var/folders/26/2d71k7kx5850kmtprc1hb3dr0000gn/T/ipykernel_14891/1488053461.py:1: RuntimeWarning: invalid value encountered in log10\n",
      "  plt.hist(np.log10(4*np.pi*lumdist**2*1e-18*selectedinfo_msaexp['fluxquantile'][:,3])[mask])\n"
     ]
    },
    {
     "data": {
      "text/plain": [
       "(array([2., 1., 2., 1., 2., 2., 0., 0., 0., 1.]),\n",
       " array([41.94803818, 42.06741772, 42.18679725, 42.30617678, 42.42555632,\n",
       "        42.54493585, 42.66431539, 42.78369492, 42.90307445, 43.02245399,\n",
       "        43.14183352]),\n",
       " <BarContainer object of 10 artists>)"
      ]
     },
     "execution_count": 18,
     "metadata": {},
     "output_type": "execute_result"
    },
    {
     "data": {
      "image/png": "[encoded data removed]",
      "text/plain": [
       "<Figure size 640x480 with 1 Axes>"
      ]
     },
     "metadata": {},
     "output_type": "display_data"
    }
   ],
   "source": [
    "plt.hist(np.log10(4*np.pi*lumdist**2*1e-18*selectedinfo_msaexp['fluxquantile'][:,3])[mask])"
   ]
  },
  {
   "cell_type": "code",
   "execution_count": 21,
   "id": "880ea0e2-66d4-4b7b-8b47-356adaae3085",
   "metadata": {},
   "outputs": [
    {
     "name": "stderr",
     "output_type": "stream",
     "text": [
      "/var/folders/26/2d71k7kx5850kmtprc1hb3dr0000gn/T/ipykernel_14891/217309236.py:1: RuntimeWarning: invalid value encountered in log10\n",
      "  logLlya = np.log10(4*np.pi*lumdist**2*1e-18*selectedinfo_msaexp['fluxquantile'][:,3])\n"
     ]
    }
   ],
   "source": [
    "logLlya = np.log10(4*np.pi*lumdist**2*1e-18*selectedinfo_msaexp['fluxquantile'][:,3])\n",
    "# 1 sigma error\n"
   ]
  },
  {
   "cell_type": "code",
   "execution_count": 26,
   "id": "916545fb-864e-4bda-9d10-70b858c0d151",
   "metadata": {},
   "outputs": [
    {
     "data": {
      "text/plain": [
       "(0.0, 3.0)"
      ]
     },
     "execution_count": 26,
     "metadata": {},
     "output_type": "execute_result"
    },
    {
     "data": {
      "image/png": "[encoded data removed]",
      "text/plain": [
       "<Figure size 640x480 with 1 Axes>"
      ]
     },
     "metadata": {},
     "output_type": "display_data"
    }
   ],
   "source": [
    "\n",
    "plt.errorbar(logLlya, \\\n",
    "            (selectedinfo_msaexp['fluxquantile'][:,4]-selectedinfo_msaexp['fluxquantile'][:,2])/2/selectedinfo_msaexp['fluxquantile'][:,3],\\\n",
    "            fmt='.')\n",
    "plt.xlim([41,45])\n",
    "plt.ylim([0,3])"
   ]
  },
  {
   "cell_type": "code",
   "execution_count": 34,
   "id": "5811c923-3fb0-437e-b58a-bf239864b82c",
   "metadata": {},
   "outputs": [
    {
     "data": {
      "text/plain": [
       "(array([ 0.,  0.,  0.,  0.,  0.,  0.,  0.,  0.,  2., 16., 14.,  5.,  3.,\n",
       "         1.,  3.,  0.,  0.,  1.,  0.,  1.,  0.,  0.,  0.,  0.,  0.,  0.,\n",
       "         0.,  0.,  0.]),\n",
       " array([-1.00000000e+00, -9.00000000e-01, -8.00000000e-01, -7.00000000e-01,\n",
       "        -6.00000000e-01, -5.00000000e-01, -4.00000000e-01, -3.00000000e-01,\n",
       "        -2.00000000e-01, -1.00000000e-01, -2.22044605e-16,  1.00000000e-01,\n",
       "         2.00000000e-01,  3.00000000e-01,  4.00000000e-01,  5.00000000e-01,\n",
       "         6.00000000e-01,  7.00000000e-01,  8.00000000e-01,  9.00000000e-01,\n",
       "         1.00000000e+00,  1.10000000e+00,  1.20000000e+00,  1.30000000e+00,\n",
       "         1.40000000e+00,  1.50000000e+00,  1.60000000e+00,  1.70000000e+00,\n",
       "         1.80000000e+00,  1.90000000e+00]),\n",
       " <BarContainer object of 29 artists>)"
      ]
     },
     "execution_count": 34,
     "metadata": {},
     "output_type": "execute_result"
    },
    {
     "data": {
      "image/png": "[encoded data removed]",
      "text/plain": [
       "<Figure size 640x480 with 1 Axes>"
      ]
     },
     "metadata": {},
     "output_type": "display_data"
    }
   ],
   "source": [
    "plt.hist(selectedinfo_msaexp['fesc'][:,3],bins=np.arange(-1,2,0.1))"
   ]
  },
  {
   "cell_type": "code",
   "execution_count": 37,
   "id": "2281c0e9-5a7c-425e-aca3-fc7b8979c206",
   "metadata": {},
   "outputs": [
    {
     "data": {
      "text/plain": [
       "0.017584035091244926"
      ]
     },
     "execution_count": 37,
     "metadata": {},
     "output_type": "execute_result"
    }
   ],
   "source": [
    "np.nanmedian(selectedinfo_msaexp['fesc'][:,3])"
   ]
  },
  {
   "cell_type": "markdown",
   "id": "1640dcbb-3f71-4819-95b3-2937dc12c1cd",
   "metadata": {},
   "source": [
    "# Estimate the lya escape fraction distribution"
   ]
  },
  {
   "cell_type": "code",
   "execution_count": 60,
   "id": "3cb68396-d524-4086-aece-df136dcf75a7",
   "metadata": {},
   "outputs": [
    {
     "data": {
      "text/plain": [
       "<module 'LAE_spec_utils' from '/Users/myue/Research/Projects/JWST/dependencies/msa_spec_utils/LAE_spec_utils.py'>"
      ]
     },
     "execution_count": 60,
     "metadata": {},
     "output_type": "execute_result"
    }
   ],
   "source": [
    "import importlib\n",
    "importlib.reload(LAE)"
   ]
  },
  {
   "cell_type": "code",
   "execution_count": 61,
   "id": "505d1aea-1e91-43c5-b682-8d6fe7c6a488",
   "metadata": {},
   "outputs": [
    {
     "data": {
      "text/plain": [
       "(106.60092054509668, 39.27604438956014)"
      ]
     },
     "execution_count": 61,
     "metadata": {},
     "output_type": "execute_result"
    }
   ],
   "source": [
    "\n",
    "LAE.EW_Lya_from_NIRCam(fHb, fHb_err, mags, magerrs, z)"
   ]
  },
  {
   "cell_type": "code",
   "execution_count": 62,
   "id": "a618a310-7fbd-4772-8258-566c1d61ecee",
   "metadata": {},
   "outputs": [
    {
     "name": "stderr",
     "output_type": "stream",
     "text": [
      "/Users/myue/Research/Projects/JWST/dependencies/msa_spec_utils/LAE_spec_utils.py:85: RuntimeWarning: invalid value encountered in log10\n",
      "  return -2.5 * np.log10(intflux/zpflux)\n"
     ]
    }
   ],
   "source": [
    "res = LAE.fit_UV_params([27, 27], [0.1, 0.1], 6.5)"
   ]
  },
  {
   "cell_type": "code",
   "execution_count": 68,
   "id": "f2f9a2bb-8857-437b-bd10-6f9a026ccf6c",
   "metadata": {},
   "outputs": [
    {
     "data": {
      "text/plain": [
       "-3.2188758248682006"
      ]
     },
     "execution_count": 68,
     "metadata": {},
     "output_type": "execute_result"
    }
   ],
   "source": [
    "np.log(0.04)"
   ]
  },
  {
   "cell_type": "code",
   "execution_count": 64,
   "id": "f6cccbf6-d79f-4268-be81-f9b325abc116",
   "metadata": {},
   "outputs": [
    {
     "data": {
      "text/plain": [
       "array([0.00129258, 0.23955911])"
      ]
     },
     "execution_count": 64,
     "metadata": {},
     "output_type": "execute_result"
    }
   ],
   "source": [
    "np.sqrt(np.diag(res[1]))"
   ]
  },
  {
   "cell_type": "code",
   "execution_count": 65,
   "id": "1534e69a-c8d4-42e6-80b4-658e7d2723b9",
   "metadata": {},
   "outputs": [
    {
     "data": {
      "text/plain": [
       "-0.050283055823088285"
      ]
     },
     "execution_count": 65,
     "metadata": {},
     "output_type": "execute_result"
    }
   ],
   "source": [
    "0.23955911 * np.log(1216/1500)"
   ]
  },
  {
   "cell_type": "code",
   "execution_count": 66,
   "id": "339a726e-5d99-47e1-8493-ff51e5fa5530",
   "metadata": {},
   "outputs": [
    {
     "data": {
      "text/plain": [
       "0.62495245449247"
      ]
     },
     "execution_count": 66,
     "metadata": {},
     "output_type": "execute_result"
    }
   ],
   "source": [
    "(1216/1500)**(2+0.23955911)"
   ]
  },
  {
   "cell_type": "code",
   "execution_count": 67,
   "id": "26dd97b4-4b08-4df7-b7b6-765cfce63145",
   "metadata": {},
   "outputs": [
    {
     "data": {
      "text/plain": [
       "0.6910703901642188"
      ]
     },
     "execution_count": 67,
     "metadata": {},
     "output_type": "execute_result"
    }
   ],
   "source": [
    "(1216/1500)**(2-0.23955911)"
   ]
  },
  {
   "cell_type": "code",
   "execution_count": null,
   "id": "bbd86656-d633-4420-a7e0-83db022b971a",
   "metadata": {},
   "outputs": [],
   "source": []
  }
 ],
 "metadata": {
  "kernelspec": {
   "display_name": "Python 3 (ipykernel)",
   "language": "python",
   "name": "python3"
  },
  "language_info": {
   "codemirror_mode": {
    "name": "ipython",
    "version": 3
   },
   "file_extension": ".py",
   "mimetype": "text/x-python",
   "name": "python",
   "nbconvert_exporter": "python",
   "pygments_lexer": "ipython3",
   "version": "3.12.9"
  }
 },
 "nbformat": 4,
 "nbformat_minor": 5
}
