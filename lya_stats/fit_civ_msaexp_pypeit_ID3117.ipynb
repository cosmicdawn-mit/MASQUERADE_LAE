{
 "cells": [
  {
   "cell_type": "code",
   "execution_count": 2,
   "id": "039cc179-1dc9-4f67-bd6c-4bd73eaa790e",
   "metadata": {},
   "outputs": [
    {
     "data": {
      "text/plain": [
       "<module 'LAE_spec_utils' from '/Users/myue/Research/Projects/JWST/dependencies/msa_spec_utils/LAE_spec_utils.py'>"
      ]
     },
     "execution_count": 2,
     "metadata": {},
     "output_type": "execute_result"
    }
   ],
   "source": [
    "import os, sys\n",
    "sys.path.append('/Users/myue/Research/Projects/JWST/dependencies/msa_spec_utils/')\n",
    "\n",
    "import LAE_spec_utils as LAE\n",
    "\n",
    "import numpy as np\n",
    "from astropy.io import fits\n",
    "\n",
    "import matplotlib.pyplot as plt\n",
    "from astropy.table import Table, vstack, hstack\n",
    "from astropy import units\n",
    "\n",
    "import bilby\n",
    "from dynesty import utils as dyfunc\n",
    "\n",
    "import importlib\n",
    "importlib.reload(LAE)"
   ]
  },
  {
   "cell_type": "code",
   "execution_count": 10,
   "id": "1eb33a3b-daa1-41be-9d3b-ff89336d09a9",
   "metadata": {},
   "outputs": [],
   "source": [
    "allinfo = Table.read('../../J1148_photcat_v2_O3CANDIDATES_all_CLUMPS.fits')\n",
    "lyainfo = Table.read('../../data/lya_saves/lyainfo_J1148_msaexp_pypeit.fits')"
   ]
  },
  {
   "cell_type": "code",
   "execution_count": 7,
   "id": "58045735-085d-4ba5-8aa3-a5ec6be41d71",
   "metadata": {},
   "outputs": [],
   "source": [
    "if not os.path.isdir('../../data/civ_saves/J1148/plotfit_msaexp_pypeit/'):\n",
    "\n",
    "    os.system('mkdir -p ../../data/civ_saves/J1148/plotfit_msaexp_pypeit/corner/')\n",
    "    os.system('mkdir -p ../../data/civ_saves/J1148/plotfit_msaexp_pypeit/bestfit/')"
   ]
  },
  {
   "cell_type": "code",
   "execution_count": 11,
   "id": "0327f140-09ab-4b18-b597-d664f110d289",
   "metadata": {},
   "outputs": [
    {
     "name": "stderr",
     "output_type": "stream",
     "text": [
      "/Users/myue/Research/Projects/JWST/dependencies/msa_spec_utils/LAE_spec_utils.py:464: RuntimeWarning: divide by zero encountered in power\n",
      "  self.err_fnu = (self.ivar_fnu)**-0.5\n",
      "/Users/myue/Research/Projects/JWST/dependencies/msa_spec_utils/LAE_spec_utils.py:470: RuntimeWarning: invalid value encountered in divide\n",
      "  self.flam = self.fnu * speed_of_light_angstrom / (self.wave)**2 * 1e-29 * 1e18\n",
      "/Users/myue/Research/Projects/JWST/dependencies/msa_spec_utils/LAE_spec_utils.py:471: RuntimeWarning: divide by zero encountered in divide\n",
      "  self.err_flam = self.err_fnu * (speed_of_light_angstrom / (self.wave)**2 * 1e-29 * 1e18)\n",
      "17:14 bilby INFO    : Running for label '3117_2429', output will be saved to '../../data/civ_saves/J1148/bilby_fit_civ_msaexp_pypeit_v2/'\n",
      "17:14 bilby INFO    : Search parameters:\n",
      "17:14 bilby INFO    :   center = Uniform(minimum=10172.416810211875, maximum=10213.188019872043, name='center', latex_label='center', unit=None, boundary=None)\n",
      "17:14 bilby INFO    :   fwhm = Uniform(minimum=300, maximum=1000, name='fwhm', latex_label='fwhm', unit=None, boundary=None)\n",
      "17:14 bilby INFO    :   flux = Uniform(minimum=-13.938826570391639, maximum=13.938826570391639, name='flux', latex_label='flux', unit=None, boundary=None)\n",
      "17:14 bilby INFO    :   A = Uniform(minimum=-0.07708765534507894, maximum=0.15417531069015789, name='A', latex_label='A', unit=None, boundary=None)\n",
      "17:14 bilby INFO    :   beta = Uniform(minimum=-4, maximum=2, name='beta', latex_label='beta', unit=None, boundary=None)\n",
      "17:14 bilby INFO    :   wave0 = 10192.802415041959\n",
      "17:14 bilby INFO    : Single likelihood evaluation took 7.214e-05 s\n"
     ]
    },
    {
     "data": {
      "application/vnd.jupyter.widget-view+json": {
       "model_id": "f35723e818bf46b3a0af0e463e8e39cc",
       "version_major": 2,
       "version_minor": 0
      },
      "text/plain": [
       "0it [00:00, ?it/s]"
      ]
     },
     "metadata": {},
     "output_type": "display_data"
    },
    {
     "name": "stderr",
     "output_type": "stream",
     "text": [
      "17:14 bilby INFO    : Checkpoint every check_point_delta_t = 600s\n",
      "17:14 bilby WARNING : Using cached result\n",
      "17:14 bilby INFO    : Summary of results:\n",
      "nsamples: 2602\n",
      "ln_noise_evidence:    nan\n",
      "ln_evidence: 232.726 +/-  0.274\n",
      "ln_bayes_factor:    nan +/-  0.274\n",
      "\n",
      "/Users/myue/Research/Projects/JWST/dependencies/msa_spec_utils/LAE_spec_utils.py:464: RuntimeWarning: divide by zero encountered in power\n",
      "  self.err_fnu = (self.ivar_fnu)**-0.5\n",
      "/Users/myue/Research/Projects/JWST/dependencies/msa_spec_utils/LAE_spec_utils.py:470: RuntimeWarning: invalid value encountered in divide\n",
      "  self.flam = self.fnu * speed_of_light_angstrom / (self.wave)**2 * 1e-29 * 1e18\n",
      "/Users/myue/Research/Projects/JWST/dependencies/msa_spec_utils/LAE_spec_utils.py:471: RuntimeWarning: divide by zero encountered in divide\n",
      "  self.err_flam = self.err_fnu * (speed_of_light_angstrom / (self.wave)**2 * 1e-29 * 1e18)\n",
      "17:14 bilby INFO    : Running for label '3117_2637', output will be saved to '../../data/civ_saves/J1148/bilby_fit_civ_msaexp_pypeit_v2/'\n",
      "17:14 bilby INFO    : Search parameters:\n",
      "17:14 bilby INFO    :   center = Uniform(minimum=10878.779960718217, maximum=10922.382285210075, name='center', latex_label='center', unit=None, boundary=None)\n",
      "17:14 bilby INFO    :   fwhm = Uniform(minimum=300, maximum=1000, name='fwhm', latex_label='fwhm', unit=None, boundary=None)\n",
      "17:14 bilby INFO    :   flux = Uniform(minimum=-12.395414847475848, maximum=12.395414847475848, name='flux', latex_label='flux', unit=None, boundary=None)\n",
      "17:14 bilby INFO    :   A = Uniform(minimum=-0.06410082847067813, maximum=0.12820165694135627, name='A', latex_label='A', unit=None, boundary=None)\n",
      "17:14 bilby INFO    :   beta = Uniform(minimum=-4, maximum=2, name='beta', latex_label='beta', unit=None, boundary=None)\n",
      "17:14 bilby INFO    :   wave0 = 10900.581122964146\n",
      "17:14 bilby INFO    : Single likelihood evaluation took 3.437e-05 s\n"
     ]
    },
    {
     "data": {
      "application/vnd.jupyter.widget-view+json": {
       "model_id": "dd83e6f0170347a7a7f258a0a982cef0",
       "version_major": 2,
       "version_minor": 0
      },
      "text/plain": [
       "0it [00:00, ?it/s]"
      ]
     },
     "metadata": {},
     "output_type": "display_data"
    },
    {
     "name": "stderr",
     "output_type": "stream",
     "text": [
      "17:14 bilby INFO    : Checkpoint every check_point_delta_t = 600s\n",
      "17:14 bilby WARNING : Using cached result\n",
      "17:14 bilby INFO    : Summary of results:\n",
      "nsamples: 2760\n",
      "ln_noise_evidence:    nan\n",
      "ln_evidence: 306.944 +/-  0.296\n",
      "ln_bayes_factor:    nan +/-  0.296\n",
      "\n",
      "/Users/myue/Research/Projects/JWST/dependencies/msa_spec_utils/LAE_spec_utils.py:464: RuntimeWarning: divide by zero encountered in power\n",
      "  self.err_fnu = (self.ivar_fnu)**-0.5\n",
      "/Users/myue/Research/Projects/JWST/dependencies/msa_spec_utils/LAE_spec_utils.py:470: RuntimeWarning: invalid value encountered in divide\n",
      "  self.flam = self.fnu * speed_of_light_angstrom / (self.wave)**2 * 1e-29 * 1e18\n",
      "/Users/myue/Research/Projects/JWST/dependencies/msa_spec_utils/LAE_spec_utils.py:471: RuntimeWarning: divide by zero encountered in divide\n",
      "  self.err_flam = self.err_fnu * (speed_of_light_angstrom / (self.wave)**2 * 1e-29 * 1e18)\n",
      "17:14 bilby INFO    : Running for label '3117_3052', output will be saved to '../../data/civ_saves/J1148/bilby_fit_civ_msaexp_pypeit_v2/'\n",
      "17:14 bilby INFO    : Search parameters:\n",
      "17:14 bilby INFO    :   center = Uniform(minimum=11578.471856941555, maximum=11624.87855777098, name='center', latex_label='center', unit=None, boundary=None)\n",
      "17:14 bilby INFO    :   fwhm = Uniform(minimum=300, maximum=1000, name='fwhm', latex_label='fwhm', unit=None, boundary=None)\n",
      "17:14 bilby INFO    :   flux = Uniform(minimum=-7.771743940613046, maximum=7.771743940613046, name='flux', latex_label='flux', unit=None, boundary=None)\n",
      "17:14 bilby INFO    :   A = Uniform(minimum=-0.14586054587626504, maximum=0.2917210917525301, name='A', latex_label='A', unit=None, boundary=None)\n",
      "17:14 bilby INFO    :   beta = Uniform(minimum=-4, maximum=2, name='beta', latex_label='beta', unit=None, boundary=None)\n",
      "17:14 bilby INFO    :   wave0 = 11601.675207356267\n",
      "17:14 bilby INFO    : Single likelihood evaluation took 3.210e-05 s\n"
     ]
    },
    {
     "data": {
      "application/vnd.jupyter.widget-view+json": {
       "model_id": "f1a5ce6e13a54c82b71f5471c4bd4a3b",
       "version_major": 2,
       "version_minor": 0
      },
      "text/plain": [
       "0it [00:00, ?it/s]"
      ]
     },
     "metadata": {},
     "output_type": "display_data"
    },
    {
     "name": "stderr",
     "output_type": "stream",
     "text": [
      "17:14 bilby INFO    : Checkpoint every check_point_delta_t = 600s\n",
      "17:14 bilby WARNING : Using cached result\n",
      "17:14 bilby INFO    : Summary of results:\n",
      "nsamples: 2535\n",
      "ln_noise_evidence:    nan\n",
      "ln_evidence: 209.472 +/-  0.277\n",
      "ln_bayes_factor:    nan +/-  0.277\n",
      "\n",
      "/Users/myue/Research/Projects/JWST/dependencies/msa_spec_utils/LAE_spec_utils.py:464: RuntimeWarning: divide by zero encountered in power\n",
      "  self.err_fnu = (self.ivar_fnu)**-0.5\n",
      "/Users/myue/Research/Projects/JWST/dependencies/msa_spec_utils/LAE_spec_utils.py:470: RuntimeWarning: invalid value encountered in divide\n",
      "  self.flam = self.fnu * speed_of_light_angstrom / (self.wave)**2 * 1e-29 * 1e18\n",
      "/Users/myue/Research/Projects/JWST/dependencies/msa_spec_utils/LAE_spec_utils.py:471: RuntimeWarning: divide by zero encountered in divide\n",
      "  self.err_flam = self.err_fnu * (speed_of_light_angstrom / (self.wave)**2 * 1e-29 * 1e18)\n",
      "17:14 bilby INFO    : Running for label '3117_3391', output will be saved to '../../data/civ_saves/J1148/bilby_fit_civ_msaexp_pypeit_v2/'\n",
      "17:14 bilby INFO    : Search parameters:\n",
      "17:14 bilby INFO    :   center = Uniform(minimum=10937.429722055585, maximum=10981.26711573116, name='center', latex_label='center', unit=None, boundary=None)\n",
      "17:14 bilby INFO    :   fwhm = Uniform(minimum=300, maximum=1000, name='fwhm', latex_label='fwhm', unit=None, boundary=None)\n",
      "17:14 bilby INFO    :   flux = Uniform(minimum=-13.597893086565255, maximum=13.597893086565255, name='flux', latex_label='flux', unit=None, boundary=None)\n",
      "17:14 bilby INFO    :   A = Uniform(minimum=-0.06994217212981742, maximum=0.13988434425963484, name='A', latex_label='A', unit=None, boundary=None)\n",
      "17:14 bilby INFO    :   beta = Uniform(minimum=-4, maximum=2, name='beta', latex_label='beta', unit=None, boundary=None)\n",
      "17:14 bilby INFO    :   wave0 = 10959.348418893373\n",
      "17:14 bilby INFO    : Single likelihood evaluation took 3.430e-05 s\n"
     ]
    },
    {
     "data": {
      "application/vnd.jupyter.widget-view+json": {
       "model_id": "321994391e5f4943a7119de29e48394d",
       "version_major": 2,
       "version_minor": 0
      },
      "text/plain": [
       "0it [00:00, ?it/s]"
      ]
     },
     "metadata": {},
     "output_type": "display_data"
    },
    {
     "name": "stderr",
     "output_type": "stream",
     "text": [
      "17:14 bilby INFO    : Checkpoint every check_point_delta_t = 600s\n",
      "17:14 bilby WARNING : Using cached result\n",
      "17:14 bilby INFO    : Summary of results:\n",
      "nsamples: 2733\n",
      "ln_noise_evidence:    nan\n",
      "ln_evidence: 262.836 +/-  0.289\n",
      "ln_bayes_factor:    nan +/-  0.289\n",
      "\n",
      "/Users/myue/Research/Projects/JWST/dependencies/msa_spec_utils/LAE_spec_utils.py:464: RuntimeWarning: divide by zero encountered in power\n",
      "  self.err_fnu = (self.ivar_fnu)**-0.5\n",
      "/Users/myue/Research/Projects/JWST/dependencies/msa_spec_utils/LAE_spec_utils.py:470: RuntimeWarning: invalid value encountered in divide\n",
      "  self.flam = self.fnu * speed_of_light_angstrom / (self.wave)**2 * 1e-29 * 1e18\n",
      "/Users/myue/Research/Projects/JWST/dependencies/msa_spec_utils/LAE_spec_utils.py:471: RuntimeWarning: divide by zero encountered in divide\n",
      "  self.err_flam = self.err_fnu * (speed_of_light_angstrom / (self.wave)**2 * 1e-29 * 1e18)\n",
      "17:14 bilby INFO    : Running for label '3117_3461', output will be saved to '../../data/civ_saves/J1148/bilby_fit_civ_msaexp_pypeit_v2/'\n",
      "17:14 bilby INFO    : Search parameters:\n",
      "17:14 bilby INFO    :   center = Uniform(minimum=10881.011623506209, maximum=10924.622892538297, name='center', latex_label='center', unit=None, boundary=None)\n",
      "17:14 bilby INFO    :   fwhm = Uniform(minimum=300, maximum=1000, name='fwhm', latex_label='fwhm', unit=None, boundary=None)\n",
      "17:14 bilby INFO    :   flux = Uniform(minimum=-11.098210187949649, maximum=11.098210187949649, name='flux', latex_label='flux', unit=None, boundary=None)\n",
      "17:14 bilby INFO    :   A = Uniform(minimum=-0.057380779056015525, maximum=0.11476155811203105, name='A', latex_label='A', unit=None, boundary=None)\n",
      "17:14 bilby INFO    :   beta = Uniform(minimum=-4, maximum=2, name='beta', latex_label='beta', unit=None, boundary=None)\n",
      "17:14 bilby INFO    :   wave0 = 10902.817258022253\n",
      "17:14 bilby INFO    : Single likelihood evaluation took 3.330e-05 s\n"
     ]
    },
    {
     "data": {
      "application/vnd.jupyter.widget-view+json": {
       "model_id": "300ac04f63104ea3804b8b99c8202100",
       "version_major": 2,
       "version_minor": 0
      },
      "text/plain": [
       "0it [00:00, ?it/s]"
      ]
     },
     "metadata": {},
     "output_type": "display_data"
    },
    {
     "name": "stderr",
     "output_type": "stream",
     "text": [
      "17:14 bilby INFO    : Checkpoint every check_point_delta_t = 600s\n",
      "17:14 bilby WARNING : Using cached result\n",
      "17:14 bilby INFO    : Summary of results:\n",
      "nsamples: 2337\n",
      "ln_noise_evidence:    nan\n",
      "ln_evidence: 298.258 +/-  0.264\n",
      "ln_bayes_factor:    nan +/-  0.264\n",
      "\n",
      "/Users/myue/Research/Projects/JWST/dependencies/msa_spec_utils/LAE_spec_utils.py:464: RuntimeWarning: divide by zero encountered in power\n",
      "  self.err_fnu = (self.ivar_fnu)**-0.5\n",
      "/Users/myue/Research/Projects/JWST/dependencies/msa_spec_utils/LAE_spec_utils.py:470: RuntimeWarning: invalid value encountered in divide\n",
      "  self.flam = self.fnu * speed_of_light_angstrom / (self.wave)**2 * 1e-29 * 1e18\n",
      "/Users/myue/Research/Projects/JWST/dependencies/msa_spec_utils/LAE_spec_utils.py:471: RuntimeWarning: divide by zero encountered in divide\n",
      "  self.err_flam = self.err_fnu * (speed_of_light_angstrom / (self.wave)**2 * 1e-29 * 1e18)\n",
      "17:14 bilby INFO    : Running for label '3117_3607', output will be saved to '../../data/civ_saves/J1148/bilby_fit_civ_msaexp_pypeit_v2/'\n",
      "17:14 bilby INFO    : Search parameters:\n",
      "17:14 bilby INFO    :   center = Uniform(minimum=9969.879490498133, maximum=10009.838927333796, name='center', latex_label='center', unit=None, boundary=None)\n",
      "17:14 bilby INFO    :   fwhm = Uniform(minimum=300, maximum=1000, name='fwhm', latex_label='fwhm', unit=None, boundary=None)\n",
      "17:14 bilby INFO    :   flux = Uniform(minimum=-30.964327801179238, maximum=30.964327801179238, name='flux', latex_label='flux', unit=None, boundary=None)\n",
      "17:14 bilby INFO    :   A = Uniform(minimum=-0.17472478571304384, maximum=0.3494495714260877, name='A', latex_label='A', unit=None, boundary=None)\n",
      "17:14 bilby INFO    :   beta = Uniform(minimum=-4, maximum=2, name='beta', latex_label='beta', unit=None, boundary=None)\n",
      "17:14 bilby INFO    :   wave0 = 9989.859208915965\n",
      "17:14 bilby INFO    : Single likelihood evaluation took 3.275e-05 s\n"
     ]
    },
    {
     "data": {
      "application/vnd.jupyter.widget-view+json": {
       "model_id": "090ba54aceef4f2eb83a9d017b40638b",
       "version_major": 2,
       "version_minor": 0
      },
      "text/plain": [
       "0it [00:00, ?it/s]"
      ]
     },
     "metadata": {},
     "output_type": "display_data"
    },
    {
     "name": "stderr",
     "output_type": "stream",
     "text": [
      "17:14 bilby INFO    : Checkpoint every check_point_delta_t = 600s\n",
      "17:14 bilby WARNING : Using cached result\n",
      "17:14 bilby INFO    : Summary of results:\n",
      "nsamples: 3196\n",
      "ln_noise_evidence:    nan\n",
      "ln_evidence: 213.522 +/-  0.330\n",
      "ln_bayes_factor:    nan +/-  0.330\n",
      "\n",
      "/Users/myue/Research/Projects/JWST/dependencies/msa_spec_utils/LAE_spec_utils.py:464: RuntimeWarning: divide by zero encountered in power\n",
      "  self.err_fnu = (self.ivar_fnu)**-0.5\n",
      "/Users/myue/Research/Projects/JWST/dependencies/msa_spec_utils/LAE_spec_utils.py:470: RuntimeWarning: invalid value encountered in divide\n",
      "  self.flam = self.fnu * speed_of_light_angstrom / (self.wave)**2 * 1e-29 * 1e18\n",
      "/Users/myue/Research/Projects/JWST/dependencies/msa_spec_utils/LAE_spec_utils.py:471: RuntimeWarning: divide by zero encountered in divide\n",
      "  self.err_flam = self.err_fnu * (speed_of_light_angstrom / (self.wave)**2 * 1e-29 * 1e18)\n",
      "17:14 bilby INFO    : Running for label '3117_3608', output will be saved to '../../data/civ_saves/J1148/bilby_fit_civ_msaexp_pypeit_v2/'\n",
      "17:14 bilby INFO    : Search parameters:\n",
      "17:14 bilby INFO    :   center = Uniform(minimum=10885.920124299006, maximum=10929.551066680964, name='center', latex_label='center', unit=None, boundary=None)\n",
      "17:14 bilby INFO    :   fwhm = Uniform(minimum=300, maximum=1000, name='fwhm', latex_label='fwhm', unit=None, boundary=None)\n",
      "17:14 bilby INFO    :   flux = Uniform(minimum=-10.167602005935535, maximum=10.167602005935535, name='flux', latex_label='flux', unit=None, boundary=None)\n",
      "17:14 bilby INFO    :   A = Uniform(minimum=-0.05254557680434394, maximum=0.10509115360868788, name='A', latex_label='A', unit=None, boundary=None)\n",
      "17:14 bilby INFO    :   beta = Uniform(minimum=-4, maximum=2, name='beta', latex_label='beta', unit=None, boundary=None)\n",
      "17:14 bilby INFO    :   wave0 = 10907.735595489985\n",
      "17:14 bilby INFO    : Single likelihood evaluation took 4.378e-05 s\n"
     ]
    },
    {
     "data": {
      "application/vnd.jupyter.widget-view+json": {
       "model_id": "a66cde26d7e742478e3aad849554ea8c",
       "version_major": 2,
       "version_minor": 0
      },
      "text/plain": [
       "0it [00:00, ?it/s]"
      ]
     },
     "metadata": {},
     "output_type": "display_data"
    },
    {
     "name": "stderr",
     "output_type": "stream",
     "text": [
      "17:14 bilby INFO    : Checkpoint every check_point_delta_t = 600s\n",
      "17:14 bilby WARNING : Using cached result\n",
      "17:14 bilby INFO    : Summary of results:\n",
      "nsamples: 2368\n",
      "ln_noise_evidence:    nan\n",
      "ln_evidence: 282.873 +/-  0.259\n",
      "ln_bayes_factor:    nan +/-  0.259\n",
      "\n",
      "/Users/myue/Research/Projects/JWST/dependencies/msa_spec_utils/LAE_spec_utils.py:464: RuntimeWarning: divide by zero encountered in power\n",
      "  self.err_fnu = (self.ivar_fnu)**-0.5\n",
      "/Users/myue/Research/Projects/JWST/dependencies/msa_spec_utils/LAE_spec_utils.py:470: RuntimeWarning: invalid value encountered in divide\n",
      "  self.flam = self.fnu * speed_of_light_angstrom / (self.wave)**2 * 1e-29 * 1e18\n",
      "/Users/myue/Research/Projects/JWST/dependencies/msa_spec_utils/LAE_spec_utils.py:471: RuntimeWarning: divide by zero encountered in divide\n",
      "  self.err_flam = self.err_fnu * (speed_of_light_angstrom / (self.wave)**2 * 1e-29 * 1e18)\n",
      "17:14 bilby INFO    : Running for label '3117_3609', output will be saved to '../../data/civ_saves/J1148/bilby_fit_civ_msaexp_pypeit_v2/'\n",
      "17:14 bilby INFO    : Search parameters:\n",
      "17:14 bilby INFO    :   center = Uniform(minimum=12225.170084154133, maximum=12274.168761846135, name='center', latex_label='center', unit=None, boundary=None)\n",
      "17:14 bilby INFO    :   fwhm = Uniform(minimum=300, maximum=1000, name='fwhm', latex_label='fwhm', unit=None, boundary=None)\n",
      "17:14 bilby INFO    :   flux = Uniform(minimum=-7.895756244832754, maximum=7.895756244832754, name='flux', latex_label='flux', unit=None, boundary=None)\n",
      "17:14 bilby INFO    :   A = Uniform(minimum=-0.03633470105892712, maximum=0.07266940211785423, name='A', latex_label='A', unit=None, boundary=None)\n",
      "17:14 bilby INFO    :   beta = Uniform(minimum=-4, maximum=2, name='beta', latex_label='beta', unit=None, boundary=None)\n",
      "17:14 bilby INFO    :   wave0 = 12249.669423000134\n",
      "17:14 bilby INFO    : Single likelihood evaluation took 3.685e-05 s\n"
     ]
    },
    {
     "data": {
      "application/vnd.jupyter.widget-view+json": {
       "model_id": "6ccaa44c28b149ddb10b30adae3cba57",
       "version_major": 2,
       "version_minor": 0
      },
      "text/plain": [
       "0it [00:00, ?it/s]"
      ]
     },
     "metadata": {},
     "output_type": "display_data"
    },
    {
     "name": "stderr",
     "output_type": "stream",
     "text": [
      "17:14 bilby INFO    : Checkpoint every check_point_delta_t = 600s\n",
      "17:14 bilby WARNING : Using cached result\n",
      "17:14 bilby INFO    : Summary of results:\n",
      "nsamples: 2412\n",
      "ln_noise_evidence:    nan\n",
      "ln_evidence: 372.317 +/-  0.259\n",
      "ln_bayes_factor:    nan +/-  0.259\n",
      "\n",
      "/Users/myue/Research/Projects/JWST/dependencies/msa_spec_utils/LAE_spec_utils.py:464: RuntimeWarning: divide by zero encountered in power\n",
      "  self.err_fnu = (self.ivar_fnu)**-0.5\n",
      "/Users/myue/Research/Projects/JWST/dependencies/msa_spec_utils/LAE_spec_utils.py:470: RuntimeWarning: invalid value encountered in divide\n",
      "  self.flam = self.fnu * speed_of_light_angstrom / (self.wave)**2 * 1e-29 * 1e18\n",
      "/Users/myue/Research/Projects/JWST/dependencies/msa_spec_utils/LAE_spec_utils.py:471: RuntimeWarning: divide by zero encountered in divide\n",
      "  self.err_flam = self.err_fnu * (speed_of_light_angstrom / (self.wave)**2 * 1e-29 * 1e18)\n",
      "17:14 bilby INFO    : Running for label '3117_3781', output will be saved to '../../data/civ_saves/J1148/bilby_fit_civ_msaexp_pypeit_v2/'\n",
      "17:14 bilby INFO    : Search parameters:\n",
      "17:14 bilby INFO    :   center = Uniform(minimum=10703.237761914308, maximum=10746.136510459055, name='center', latex_label='center', unit=None, boundary=None)\n",
      "17:14 bilby INFO    :   fwhm = Uniform(minimum=300, maximum=1000, name='fwhm', latex_label='fwhm', unit=None, boundary=None)\n",
      "17:14 bilby INFO    :   flux = Uniform(minimum=-16.221881655020276, maximum=16.221881655020276, name='flux', latex_label='flux', unit=None, boundary=None)\n",
      "17:14 bilby INFO    :   A = Uniform(minimum=-0.08526461290345741, maximum=0.17052922580691482, name='A', latex_label='A', unit=None, boundary=None)\n",
      "17:14 bilby INFO    :   beta = Uniform(minimum=-4, maximum=2, name='beta', latex_label='beta', unit=None, boundary=None)\n",
      "17:14 bilby INFO    :   wave0 = 10724.687136186682\n",
      "17:14 bilby INFO    : Single likelihood evaluation took 4.840e-05 s\n"
     ]
    },
    {
     "data": {
      "application/vnd.jupyter.widget-view+json": {
       "model_id": "f178e21cb44f42f880370db8e6b7d5e8",
       "version_major": 2,
       "version_minor": 0
      },
      "text/plain": [
       "0it [00:00, ?it/s]"
      ]
     },
     "metadata": {},
     "output_type": "display_data"
    },
    {
     "name": "stderr",
     "output_type": "stream",
     "text": [
      "17:14 bilby INFO    : Checkpoint every check_point_delta_t = 600s\n",
      "17:14 bilby WARNING : Using cached result\n",
      "17:14 bilby INFO    : Summary of results:\n",
      "nsamples: 2520\n",
      "ln_noise_evidence:    nan\n",
      "ln_evidence: 268.869 +/-  0.278\n",
      "ln_bayes_factor:    nan +/-  0.278\n",
      "\n",
      "/Users/myue/Research/Projects/JWST/dependencies/msa_spec_utils/LAE_spec_utils.py:464: RuntimeWarning: divide by zero encountered in power\n",
      "  self.err_fnu = (self.ivar_fnu)**-0.5\n",
      "/Users/myue/Research/Projects/JWST/dependencies/msa_spec_utils/LAE_spec_utils.py:470: RuntimeWarning: invalid value encountered in divide\n",
      "  self.flam = self.fnu * speed_of_light_angstrom / (self.wave)**2 * 1e-29 * 1e18\n",
      "/Users/myue/Research/Projects/JWST/dependencies/msa_spec_utils/LAE_spec_utils.py:471: RuntimeWarning: divide by zero encountered in divide\n",
      "  self.err_flam = self.err_fnu * (speed_of_light_angstrom / (self.wave)**2 * 1e-29 * 1e18)\n",
      "17:14 bilby INFO    : Running for label '3117_3822', output will be saved to '../../data/civ_saves/J1148/bilby_fit_civ_msaexp_pypeit_v2/'\n",
      "17:14 bilby INFO    : Search parameters:\n",
      "17:14 bilby INFO    :   center = Uniform(minimum=11400.93418626831, maximum=11446.629313267382, name='center', latex_label='center', unit=None, boundary=None)\n",
      "17:14 bilby INFO    :   fwhm = Uniform(minimum=300, maximum=1000, name='fwhm', latex_label='fwhm', unit=None, boundary=None)\n",
      "17:14 bilby INFO    :   flux = Uniform(minimum=-5.950261345525599, maximum=5.950261345525599, name='flux', latex_label='flux', unit=None, boundary=None)\n",
      "17:14 bilby INFO    :   A = Uniform(minimum=-0.02936150896874606, maximum=0.05872301793749212, name='A', latex_label='A', unit=None, boundary=None)\n",
      "17:14 bilby INFO    :   beta = Uniform(minimum=-4, maximum=2, name='beta', latex_label='beta', unit=None, boundary=None)\n",
      "17:14 bilby INFO    :   wave0 = 11423.781749767846\n",
      "17:14 bilby INFO    : Single likelihood evaluation took 3.379e-05 s\n"
     ]
    },
    {
     "data": {
      "application/vnd.jupyter.widget-view+json": {
       "model_id": "21ff5327953a4559a50ea162a969ade4",
       "version_major": 2,
       "version_minor": 0
      },
      "text/plain": [
       "0it [00:00, ?it/s]"
      ]
     },
     "metadata": {},
     "output_type": "display_data"
    },
    {
     "name": "stderr",
     "output_type": "stream",
     "text": [
      "17:14 bilby INFO    : Checkpoint every check_point_delta_t = 600s\n",
      "17:14 bilby WARNING : Using cached result\n",
      "17:14 bilby INFO    : Summary of results:\n",
      "nsamples: 2263\n",
      "ln_noise_evidence:    nan\n",
      "ln_evidence: 348.229 +/-  0.254\n",
      "ln_bayes_factor:    nan +/-  0.254\n",
      "\n",
      "/Users/myue/Research/Projects/JWST/dependencies/msa_spec_utils/LAE_spec_utils.py:464: RuntimeWarning: divide by zero encountered in power\n",
      "  self.err_fnu = (self.ivar_fnu)**-0.5\n",
      "/Users/myue/Research/Projects/JWST/dependencies/msa_spec_utils/LAE_spec_utils.py:470: RuntimeWarning: invalid value encountered in divide\n",
      "  self.flam = self.fnu * speed_of_light_angstrom / (self.wave)**2 * 1e-29 * 1e18\n",
      "/Users/myue/Research/Projects/JWST/dependencies/msa_spec_utils/LAE_spec_utils.py:471: RuntimeWarning: divide by zero encountered in divide\n",
      "  self.err_flam = self.err_fnu * (speed_of_light_angstrom / (self.wave)**2 * 1e-29 * 1e18)\n",
      "17:14 bilby INFO    : Running for label '3117_4246', output will be saved to '../../data/civ_saves/J1148/bilby_fit_civ_msaexp_pypeit_v2/'\n",
      "17:14 bilby INFO    : Search parameters:\n",
      "17:14 bilby INFO    :   center = Uniform(minimum=11570.525877901031, maximum=11616.90073111907, name='center', latex_label='center', unit=None, boundary=None)\n",
      "17:14 bilby INFO    :   fwhm = Uniform(minimum=300, maximum=1000, name='fwhm', latex_label='fwhm', unit=None, boundary=None)\n",
      "17:14 bilby INFO    :   flux = Uniform(minimum=-10.535716558575526, maximum=10.535716558575526, name='flux', latex_label='flux', unit=None, boundary=None)\n",
      "17:14 bilby INFO    :   A = Uniform(minimum=-0.051226389730643564, maximum=0.10245277946128713, name='A', latex_label='A', unit=None, boundary=None)\n",
      "17:14 bilby INFO    :   beta = Uniform(minimum=-4, maximum=2, name='beta', latex_label='beta', unit=None, boundary=None)\n",
      "17:14 bilby INFO    :   wave0 = 11593.71330451005\n",
      "17:14 bilby INFO    : Single likelihood evaluation took 3.410e-05 s\n"
     ]
    },
    {
     "data": {
      "application/vnd.jupyter.widget-view+json": {
       "model_id": "068f83795f2c4b2889e6f09ae98b94e7",
       "version_major": 2,
       "version_minor": 0
      },
      "text/plain": [
       "0it [00:00, ?it/s]"
      ]
     },
     "metadata": {},
     "output_type": "display_data"
    },
    {
     "name": "stderr",
     "output_type": "stream",
     "text": [
      "17:14 bilby INFO    : Checkpoint every check_point_delta_t = 600s\n",
      "17:14 bilby WARNING : Using cached result\n",
      "17:14 bilby INFO    : Summary of results:\n",
      "nsamples: 2260\n",
      "ln_noise_evidence:    nan\n",
      "ln_evidence: 317.505 +/-  0.255\n",
      "ln_bayes_factor:    nan +/-  0.255\n",
      "\n",
      "/Users/myue/Research/Projects/JWST/dependencies/msa_spec_utils/LAE_spec_utils.py:464: RuntimeWarning: divide by zero encountered in power\n",
      "  self.err_fnu = (self.ivar_fnu)**-0.5\n",
      "/Users/myue/Research/Projects/JWST/dependencies/msa_spec_utils/LAE_spec_utils.py:470: RuntimeWarning: invalid value encountered in divide\n",
      "  self.flam = self.fnu * speed_of_light_angstrom / (self.wave)**2 * 1e-29 * 1e18\n",
      "/Users/myue/Research/Projects/JWST/dependencies/msa_spec_utils/LAE_spec_utils.py:471: RuntimeWarning: divide by zero encountered in divide\n",
      "  self.err_flam = self.err_fnu * (speed_of_light_angstrom / (self.wave)**2 * 1e-29 * 1e18)\n",
      "17:14 bilby INFO    : Running for label '3117_4376', output will be saved to '../../data/civ_saves/J1148/bilby_fit_civ_msaexp_pypeit_v2/'\n",
      "17:14 bilby INFO    : Search parameters:\n",
      "17:14 bilby INFO    :   center = Uniform(minimum=11575.935458877004, maximum=11622.331993782322, name='center', latex_label='center', unit=None, boundary=None)\n",
      "17:14 bilby INFO    :   fwhm = Uniform(minimum=300, maximum=1000, name='fwhm', latex_label='fwhm', unit=None, boundary=None)\n",
      "17:14 bilby INFO    :   flux = Uniform(minimum=-9.214973756232084, maximum=9.214973756232084, name='flux', latex_label='flux', unit=None, boundary=None)\n",
      "17:14 bilby INFO    :   A = Uniform(minimum=-0.04478378281296435, maximum=0.0895675656259287, name='A', latex_label='A', unit=None, boundary=None)\n",
      "17:14 bilby INFO    :   beta = Uniform(minimum=-4, maximum=2, name='beta', latex_label='beta', unit=None, boundary=None)\n",
      "17:14 bilby INFO    :   wave0 = 11599.133726329663\n",
      "17:14 bilby INFO    : Single likelihood evaluation took 4.435e-05 s\n"
     ]
    },
    {
     "data": {
      "application/vnd.jupyter.widget-view+json": {
       "model_id": "4c9e56b9a07e4d2780cb2ef6f9e347bb",
       "version_major": 2,
       "version_minor": 0
      },
      "text/plain": [
       "0it [00:00, ?it/s]"
      ]
     },
     "metadata": {},
     "output_type": "display_data"
    },
    {
     "name": "stderr",
     "output_type": "stream",
     "text": [
      "17:14 bilby INFO    : Checkpoint every check_point_delta_t = 600s\n",
      "17:14 bilby WARNING : Using cached result\n",
      "17:14 bilby INFO    : Summary of results:\n",
      "nsamples: 2401\n",
      "ln_noise_evidence:    nan\n",
      "ln_evidence: 338.092 +/-  0.266\n",
      "ln_bayes_factor:    nan +/-  0.266\n",
      "\n",
      "/Users/myue/Research/Projects/JWST/dependencies/msa_spec_utils/LAE_spec_utils.py:464: RuntimeWarning: divide by zero encountered in power\n",
      "  self.err_fnu = (self.ivar_fnu)**-0.5\n",
      "/Users/myue/Research/Projects/JWST/dependencies/msa_spec_utils/LAE_spec_utils.py:470: RuntimeWarning: invalid value encountered in divide\n",
      "  self.flam = self.fnu * speed_of_light_angstrom / (self.wave)**2 * 1e-29 * 1e18\n",
      "/Users/myue/Research/Projects/JWST/dependencies/msa_spec_utils/LAE_spec_utils.py:471: RuntimeWarning: divide by zero encountered in divide\n",
      "  self.err_flam = self.err_fnu * (speed_of_light_angstrom / (self.wave)**2 * 1e-29 * 1e18)\n",
      "17:14 bilby INFO    : Running for label '3117_5123', output will be saved to '../../data/civ_saves/J1148/bilby_fit_civ_msaexp_pypeit_v2/'\n",
      "17:14 bilby INFO    : Search parameters:\n",
      "17:14 bilby INFO    :   center = Uniform(minimum=11562.168126192964, maximum=11608.509481408166, name='center', latex_label='center', unit=None, boundary=None)\n",
      "17:14 bilby INFO    :   fwhm = Uniform(minimum=300, maximum=1000, name='fwhm', latex_label='fwhm', unit=None, boundary=None)\n",
      "17:14 bilby INFO    :   flux = Uniform(minimum=-9.060885520578465, maximum=9.060885520578465, name='flux', latex_label='flux', unit=None, boundary=None)\n",
      "17:14 bilby INFO    :   A = Uniform(minimum=-0.04408736391456374, maximum=0.08817472782912748, name='A', latex_label='A', unit=None, boundary=None)\n",
      "17:14 bilby INFO    :   beta = Uniform(minimum=-4, maximum=2, name='beta', latex_label='beta', unit=None, boundary=None)\n",
      "17:14 bilby INFO    :   wave0 = 11585.338803800565\n",
      "17:14 bilby INFO    : Single likelihood evaluation took 3.290e-05 s\n"
     ]
    },
    {
     "data": {
      "application/vnd.jupyter.widget-view+json": {
       "model_id": "2807811b8d3b42ed86105a9969b9c0cf",
       "version_major": 2,
       "version_minor": 0
      },
      "text/plain": [
       "0it [00:00, ?it/s]"
      ]
     },
     "metadata": {},
     "output_type": "display_data"
    },
    {
     "name": "stderr",
     "output_type": "stream",
     "text": [
      "17:14 bilby INFO    : Checkpoint every check_point_delta_t = 600s\n",
      "17:14 bilby WARNING : Using cached result\n",
      "17:14 bilby INFO    : Summary of results:\n",
      "nsamples: 2399\n",
      "ln_noise_evidence:    nan\n",
      "ln_evidence: 315.247 +/-  0.268\n",
      "ln_bayes_factor:    nan +/-  0.268\n",
      "\n",
      "/Users/myue/Research/Projects/JWST/dependencies/msa_spec_utils/LAE_spec_utils.py:464: RuntimeWarning: divide by zero encountered in power\n",
      "  self.err_fnu = (self.ivar_fnu)**-0.5\n",
      "/Users/myue/Research/Projects/JWST/dependencies/msa_spec_utils/LAE_spec_utils.py:470: RuntimeWarning: invalid value encountered in divide\n",
      "  self.flam = self.fnu * speed_of_light_angstrom / (self.wave)**2 * 1e-29 * 1e18\n",
      "/Users/myue/Research/Projects/JWST/dependencies/msa_spec_utils/LAE_spec_utils.py:471: RuntimeWarning: divide by zero encountered in divide\n",
      "  self.err_flam = self.err_fnu * (speed_of_light_angstrom / (self.wave)**2 * 1e-29 * 1e18)\n",
      "17:14 bilby INFO    : Running for label '3117_6406', output will be saved to '../../data/civ_saves/J1148/bilby_fit_civ_msaexp_pypeit_v2/'\n",
      "17:14 bilby INFO    : Search parameters:\n",
      "17:14 bilby INFO    :   center = Uniform(minimum=11571.258892584347, maximum=11617.636683736988, name='center', latex_label='center', unit=None, boundary=None)\n",
      "17:14 bilby INFO    :   fwhm = Uniform(minimum=300, maximum=1000, name='fwhm', latex_label='fwhm', unit=None, boundary=None)\n",
      "17:14 bilby INFO    :   flux = Uniform(minimum=-1.2912285880219474, maximum=1.2912285880219474, name='flux', latex_label='flux', unit=None, boundary=None)\n",
      "17:14 bilby INFO    :   A = Uniform(minimum=-0.07876873145399542, maximum=0.15753746290799084, name='A', latex_label='A', unit=None, boundary=None)\n",
      "17:14 bilby INFO    :   beta = Uniform(minimum=-4, maximum=2, name='beta', latex_label='beta', unit=None, boundary=None)\n",
      "17:14 bilby INFO    :   wave0 = 11594.447788160667\n",
      "17:14 bilby INFO    : Single likelihood evaluation took 3.568e-05 s\n"
     ]
    },
    {
     "data": {
      "application/vnd.jupyter.widget-view+json": {
       "model_id": "92b78e8d97344d4589f99d70825578b6",
       "version_major": 2,
       "version_minor": 0
      },
      "text/plain": [
       "0it [00:00, ?it/s]"
      ]
     },
     "metadata": {},
     "output_type": "display_data"
    },
    {
     "name": "stderr",
     "output_type": "stream",
     "text": [
      "17:14 bilby INFO    : Checkpoint every check_point_delta_t = 600s\n",
      "17:14 bilby WARNING : Using cached result\n",
      "17:14 bilby INFO    : Summary of results:\n",
      "nsamples: 2520\n",
      "ln_noise_evidence:    nan\n",
      "ln_evidence: 302.659 +/-  0.272\n",
      "ln_bayes_factor:    nan +/-  0.272\n",
      "\n",
      "/Users/myue/Research/Projects/JWST/dependencies/msa_spec_utils/LAE_spec_utils.py:464: RuntimeWarning: divide by zero encountered in power\n",
      "  self.err_fnu = (self.ivar_fnu)**-0.5\n",
      "/Users/myue/Research/Projects/JWST/dependencies/msa_spec_utils/LAE_spec_utils.py:470: RuntimeWarning: invalid value encountered in divide\n",
      "  self.flam = self.fnu * speed_of_light_angstrom / (self.wave)**2 * 1e-29 * 1e18\n",
      "/Users/myue/Research/Projects/JWST/dependencies/msa_spec_utils/LAE_spec_utils.py:471: RuntimeWarning: divide by zero encountered in divide\n",
      "  self.err_flam = self.err_fnu * (speed_of_light_angstrom / (self.wave)**2 * 1e-29 * 1e18)\n",
      "17:14 bilby INFO    : Running for label '3117_6584', output will be saved to '../../data/civ_saves/J1148/bilby_fit_civ_msaexp_pypeit_v2/'\n",
      "17:14 bilby INFO    : Search parameters:\n",
      "17:14 bilby INFO    :   center = Uniform(minimum=11718.672605714795, maximum=11765.641233393011, name='center', latex_label='center', unit=None, boundary=None)\n",
      "17:14 bilby INFO    :   fwhm = Uniform(minimum=300, maximum=1000, name='fwhm', latex_label='fwhm', unit=None, boundary=None)\n",
      "17:14 bilby INFO    :   flux = Uniform(minimum=-7.287763943050045, maximum=7.287763943050045, name='flux', latex_label='flux', unit=None, boundary=None)\n",
      "17:14 bilby INFO    :   A = Uniform(minimum=-0.03498635067103978, maximum=0.06997270134207956, name='A', latex_label='A', unit=None, boundary=None)\n",
      "17:14 bilby INFO    :   beta = Uniform(minimum=-4, maximum=2, name='beta', latex_label='beta', unit=None, boundary=None)\n",
      "17:14 bilby INFO    :   wave0 = 11742.156919553903\n",
      "17:14 bilby INFO    : Single likelihood evaluation took 3.317e-05 s\n"
     ]
    },
    {
     "data": {
      "application/vnd.jupyter.widget-view+json": {
       "model_id": "aef1d912078f4130b5831d03cd64b375",
       "version_major": 2,
       "version_minor": 0
      },
      "text/plain": [
       "0it [00:00, ?it/s]"
      ]
     },
     "metadata": {},
     "output_type": "display_data"
    },
    {
     "name": "stderr",
     "output_type": "stream",
     "text": [
      "17:14 bilby INFO    : Checkpoint every check_point_delta_t = 600s\n",
      "17:14 bilby WARNING : Using cached result\n",
      "17:14 bilby INFO    : Summary of results:\n",
      "nsamples: 2401\n",
      "ln_noise_evidence:    nan\n",
      "ln_evidence: 346.993 +/-  0.255\n",
      "ln_bayes_factor:    nan +/-  0.255\n",
      "\n",
      "/Users/myue/Research/Projects/JWST/dependencies/msa_spec_utils/LAE_spec_utils.py:464: RuntimeWarning: divide by zero encountered in power\n",
      "  self.err_fnu = (self.ivar_fnu)**-0.5\n",
      "/Users/myue/Research/Projects/JWST/dependencies/msa_spec_utils/LAE_spec_utils.py:470: RuntimeWarning: invalid value encountered in divide\n",
      "  self.flam = self.fnu * speed_of_light_angstrom / (self.wave)**2 * 1e-29 * 1e18\n",
      "/Users/myue/Research/Projects/JWST/dependencies/msa_spec_utils/LAE_spec_utils.py:471: RuntimeWarning: divide by zero encountered in divide\n",
      "  self.err_flam = self.err_fnu * (speed_of_light_angstrom / (self.wave)**2 * 1e-29 * 1e18)\n",
      "17:14 bilby INFO    : Running for label '3117_7217', output will be saved to '../../data/civ_saves/J1148/bilby_fit_civ_msaexp_pypeit_v2/'\n",
      "17:14 bilby INFO    : Search parameters:\n",
      "17:14 bilby INFO    :   center = Uniform(minimum=11474.142390285588, maximum=11520.130936940039, name='center', latex_label='center', unit=None, boundary=None)\n",
      "17:14 bilby INFO    :   fwhm = Uniform(minimum=300, maximum=1000, name='fwhm', latex_label='fwhm', unit=None, boundary=None)\n",
      "17:14 bilby INFO    :   flux = Uniform(minimum=-6.907678455230743, maximum=6.907678455230743, name='flux', latex_label='flux', unit=None, boundary=None)\n",
      "17:14 bilby INFO    :   A = Uniform(minimum=-0.03386839742937839, maximum=0.06773679485875678, name='A', latex_label='A', unit=None, boundary=None)\n",
      "17:14 bilby INFO    :   beta = Uniform(minimum=-4, maximum=2, name='beta', latex_label='beta', unit=None, boundary=None)\n",
      "17:14 bilby INFO    :   wave0 = 11497.136663612813\n",
      "17:14 bilby INFO    : Single likelihood evaluation took 3.270e-05 s\n"
     ]
    },
    {
     "data": {
      "application/vnd.jupyter.widget-view+json": {
       "model_id": "3790948454064865b76a1a32f5d6708a",
       "version_major": 2,
       "version_minor": 0
      },
      "text/plain": [
       "0it [00:00, ?it/s]"
      ]
     },
     "metadata": {},
     "output_type": "display_data"
    },
    {
     "name": "stderr",
     "output_type": "stream",
     "text": [
      "17:14 bilby INFO    : Checkpoint every check_point_delta_t = 600s\n",
      "17:14 bilby WARNING : Using cached result\n",
      "17:14 bilby INFO    : Summary of results:\n",
      "nsamples: 2403\n",
      "ln_noise_evidence:    nan\n",
      "ln_evidence: 326.256 +/-  0.261\n",
      "ln_bayes_factor:    nan +/-  0.261\n",
      "\n",
      "/Users/myue/Research/Projects/JWST/dependencies/msa_spec_utils/LAE_spec_utils.py:464: RuntimeWarning: divide by zero encountered in power\n",
      "  self.err_fnu = (self.ivar_fnu)**-0.5\n",
      "/Users/myue/Research/Projects/JWST/dependencies/msa_spec_utils/LAE_spec_utils.py:470: RuntimeWarning: invalid value encountered in divide\n",
      "  self.flam = self.fnu * speed_of_light_angstrom / (self.wave)**2 * 1e-29 * 1e18\n",
      "/Users/myue/Research/Projects/JWST/dependencies/msa_spec_utils/LAE_spec_utils.py:471: RuntimeWarning: divide by zero encountered in divide\n",
      "  self.err_flam = self.err_fnu * (speed_of_light_angstrom / (self.wave)**2 * 1e-29 * 1e18)\n",
      "17:14 bilby INFO    : Running for label '3117_8234', output will be saved to '../../data/civ_saves/J1148/bilby_fit_civ_msaexp_pypeit_v2/'\n",
      "17:14 bilby INFO    : Search parameters:\n",
      "17:14 bilby INFO    :   center = Uniform(minimum=11217.609369710792, maximum=11262.569727906024, name='center', latex_label='center', unit=None, boundary=None)\n",
      "17:14 bilby INFO    :   fwhm = Uniform(minimum=300, maximum=1000, name='fwhm', latex_label='fwhm', unit=None, boundary=None)\n",
      "17:14 bilby INFO    :   flux = Uniform(minimum=-8.001960517751245, maximum=8.001960517751245, name='flux', latex_label='flux', unit=None, boundary=None)\n",
      "17:14 bilby INFO    :   A = Uniform(minimum=-0.052994349053290174, maximum=0.10598869810658035, name='A', latex_label='A', unit=None, boundary=None)\n",
      "17:14 bilby INFO    :   beta = Uniform(minimum=-4, maximum=2, name='beta', latex_label='beta', unit=None, boundary=None)\n",
      "17:14 bilby INFO    :   wave0 = 11240.089548808408\n",
      "17:14 bilby INFO    : Single likelihood evaluation took 3.351e-05 s\n"
     ]
    },
    {
     "data": {
      "application/vnd.jupyter.widget-view+json": {
       "model_id": "1a2fa5b3b29743b3b23c4e5437d0bb9f",
       "version_major": 2,
       "version_minor": 0
      },
      "text/plain": [
       "0it [00:00, ?it/s]"
      ]
     },
     "metadata": {},
     "output_type": "display_data"
    },
    {
     "name": "stderr",
     "output_type": "stream",
     "text": [
      "17:14 bilby INFO    : Checkpoint every check_point_delta_t = 600s\n",
      "17:14 bilby WARNING : Using cached result\n",
      "17:14 bilby INFO    : Summary of results:\n",
      "nsamples: 2324\n",
      "ln_noise_evidence:    nan\n",
      "ln_evidence: 291.167 +/-  0.261\n",
      "ln_bayes_factor:    nan +/-  0.261\n",
      "\n",
      "17:14 bilby INFO    : Running for label '3117_8871', output will be saved to '../../data/civ_saves/J1148/bilby_fit_civ_msaexp_pypeit_v2/'\n",
      "17:14 bilby INFO    : Search parameters:\n",
      "17:14 bilby INFO    :   center = Uniform(minimum=11421.308221210827, maximum=11467.085007668586, name='center', latex_label='center', unit=None, boundary=None)\n",
      "17:14 bilby INFO    :   fwhm = Uniform(minimum=300, maximum=1000, name='fwhm', latex_label='fwhm', unit=None, boundary=None)\n",
      "17:14 bilby INFO    :   flux = Uniform(minimum=-5.465504947042639, maximum=5.465504947042639, name='flux', latex_label='flux', unit=None, boundary=None)\n",
      "17:14 bilby INFO    :   A = Uniform(minimum=-0.026921373223971673, maximum=0.053842746447943346, name='A', latex_label='A', unit=None, boundary=None)\n",
      "17:14 bilby INFO    :   beta = Uniform(minimum=-4, maximum=2, name='beta', latex_label='beta', unit=None, boundary=None)\n",
      "17:14 bilby INFO    :   wave0 = 11444.196614439707\n",
      "17:14 bilby INFO    : Single likelihood evaluation took 3.443e-05 s\n"
     ]
    },
    {
     "data": {
      "application/vnd.jupyter.widget-view+json": {
       "model_id": "807c86ef2ed94a30806c68b44de00ccb",
       "version_major": 2,
       "version_minor": 0
      },
      "text/plain": [
       "0it [00:00, ?it/s]"
      ]
     },
     "metadata": {},
     "output_type": "display_data"
    },
    {
     "name": "stderr",
     "output_type": "stream",
     "text": [
      "17:14 bilby INFO    : Checkpoint every check_point_delta_t = 600s\n",
      "17:14 bilby WARNING : Using cached result\n",
      "17:14 bilby INFO    : Summary of results:\n",
      "nsamples: 2610\n",
      "ln_noise_evidence:    nan\n",
      "ln_evidence: 372.742 +/-  0.275\n",
      "ln_bayes_factor:    nan +/-  0.275\n",
      "\n",
      "17:14 bilby INFO    : Running for label '3117_9192', output will be saved to '../../data/civ_saves/J1148/bilby_fit_civ_msaexp_pypeit_v2/'\n",
      "17:14 bilby INFO    : Search parameters:\n",
      "17:14 bilby INFO    :   center = Uniform(minimum=11560.227016532426, maximum=11606.560591748988, name='center', latex_label='center', unit=None, boundary=None)\n",
      "17:14 bilby INFO    :   fwhm = Uniform(minimum=300, maximum=1000, name='fwhm', latex_label='fwhm', unit=None, boundary=None)\n",
      "17:14 bilby INFO    :   flux = Uniform(minimum=-14.59337793718033, maximum=14.59337793718033, name='flux', latex_label='flux', unit=None, boundary=None)\n",
      "17:14 bilby INFO    :   A = Uniform(minimum=-0.07101862116122408, maximum=0.14203724232244816, name='A', latex_label='A', unit=None, boundary=None)\n",
      "17:14 bilby INFO    :   beta = Uniform(minimum=-4, maximum=2, name='beta', latex_label='beta', unit=None, boundary=None)\n",
      "17:14 bilby INFO    :   wave0 = 11583.393804140707\n",
      "17:14 bilby INFO    : Single likelihood evaluation took 3.270e-05 s\n"
     ]
    },
    {
     "data": {
      "application/vnd.jupyter.widget-view+json": {
       "model_id": "d6940aa583e045f09771456c3664ddc6",
       "version_major": 2,
       "version_minor": 0
      },
      "text/plain": [
       "0it [00:00, ?it/s]"
      ]
     },
     "metadata": {},
     "output_type": "display_data"
    },
    {
     "name": "stderr",
     "output_type": "stream",
     "text": [
      "17:14 bilby INFO    : Checkpoint every check_point_delta_t = 600s\n",
      "17:14 bilby WARNING : Using cached result\n",
      "17:14 bilby INFO    : Summary of results:\n",
      "nsamples: 2826\n",
      "ln_noise_evidence:    nan\n",
      "ln_evidence: 325.952 +/-  0.298\n",
      "ln_bayes_factor:    nan +/-  0.298\n",
      "\n",
      "/Users/myue/Research/Projects/JWST/dependencies/msa_spec_utils/LAE_spec_utils.py:464: RuntimeWarning: divide by zero encountered in power\n",
      "  self.err_fnu = (self.ivar_fnu)**-0.5\n",
      "/Users/myue/Research/Projects/JWST/dependencies/msa_spec_utils/LAE_spec_utils.py:470: RuntimeWarning: invalid value encountered in divide\n",
      "  self.flam = self.fnu * speed_of_light_angstrom / (self.wave)**2 * 1e-29 * 1e18\n",
      "/Users/myue/Research/Projects/JWST/dependencies/msa_spec_utils/LAE_spec_utils.py:471: RuntimeWarning: divide by zero encountered in divide\n",
      "  self.err_flam = self.err_fnu * (speed_of_light_angstrom / (self.wave)**2 * 1e-29 * 1e18)\n",
      "17:14 bilby INFO    : Running for label '3117_9232', output will be saved to '../../data/civ_saves/J1148/bilby_fit_civ_msaexp_pypeit_v2/'\n",
      "17:14 bilby INFO    : Search parameters:\n",
      "17:14 bilby INFO    :   center = Uniform(minimum=10923.668304078567, maximum=10967.450541770266, name='center', latex_label='center', unit=None, boundary=None)\n",
      "17:14 bilby INFO    :   fwhm = Uniform(minimum=300, maximum=1000, name='fwhm', latex_label='fwhm', unit=None, boundary=None)\n",
      "17:14 bilby INFO    :   flux = Uniform(minimum=-7.679652772457168, maximum=7.679652772457168, name='flux', latex_label='flux', unit=None, boundary=None)\n",
      "17:14 bilby INFO    :   A = Uniform(minimum=-0.03955085249484008, maximum=0.07910170498968017, name='A', latex_label='A', unit=None, boundary=None)\n",
      "17:14 bilby INFO    :   beta = Uniform(minimum=-4, maximum=2, name='beta', latex_label='beta', unit=None, boundary=None)\n",
      "17:14 bilby INFO    :   wave0 = 10945.559422924416\n",
      "17:14 bilby INFO    : Single likelihood evaluation took 3.324e-05 s\n"
     ]
    },
    {
     "data": {
      "application/vnd.jupyter.widget-view+json": {
       "model_id": "4c99feda08244657bf07489556e8d8fc",
       "version_major": 2,
       "version_minor": 0
      },
      "text/plain": [
       "0it [00:00, ?it/s]"
      ]
     },
     "metadata": {},
     "output_type": "display_data"
    },
    {
     "name": "stderr",
     "output_type": "stream",
     "text": [
      "17:14 bilby INFO    : Checkpoint every check_point_delta_t = 600s\n",
      "17:14 bilby WARNING : Using cached result\n",
      "17:14 bilby INFO    : Summary of results:\n",
      "nsamples: 2384\n",
      "ln_noise_evidence:    nan\n",
      "ln_evidence: 309.441 +/-  0.264\n",
      "ln_bayes_factor:    nan +/-  0.264\n",
      "\n",
      "/Users/myue/Research/Projects/JWST/dependencies/msa_spec_utils/LAE_spec_utils.py:464: RuntimeWarning: divide by zero encountered in power\n",
      "  self.err_fnu = (self.ivar_fnu)**-0.5\n",
      "/Users/myue/Research/Projects/JWST/dependencies/msa_spec_utils/LAE_spec_utils.py:470: RuntimeWarning: invalid value encountered in divide\n",
      "  self.flam = self.fnu * speed_of_light_angstrom / (self.wave)**2 * 1e-29 * 1e18\n",
      "/Users/myue/Research/Projects/JWST/dependencies/msa_spec_utils/LAE_spec_utils.py:471: RuntimeWarning: divide by zero encountered in divide\n",
      "  self.err_flam = self.err_fnu * (speed_of_light_angstrom / (self.wave)**2 * 1e-29 * 1e18)\n",
      "17:14 bilby INFO    : Running for label '3117_9314', output will be saved to '../../data/civ_saves/J1148/bilby_fit_civ_msaexp_pypeit_v2/'\n",
      "17:14 bilby INFO    : Search parameters:\n",
      "17:14 bilby INFO    :   center = Uniform(minimum=11062.601726255267, maximum=11106.940811330438, name='center', latex_label='center', unit=None, boundary=None)\n",
      "17:14 bilby INFO    :   fwhm = Uniform(minimum=300, maximum=1000, name='fwhm', latex_label='fwhm', unit=None, boundary=None)\n",
      "17:14 bilby INFO    :   flux = Uniform(minimum=-41.11338706233284, maximum=41.11338706233284, name='flux', latex_label='flux', unit=None, boundary=None)\n",
      "17:14 bilby INFO    :   A = Uniform(minimum=-0.20907819812084397, maximum=0.41815639624168793, name='A', latex_label='A', unit=None, boundary=None)\n",
      "17:14 bilby INFO    :   beta = Uniform(minimum=-4, maximum=2, name='beta', latex_label='beta', unit=None, boundary=None)\n",
      "17:14 bilby INFO    :   wave0 = 11084.771268792852\n",
      "17:14 bilby INFO    : Single likelihood evaluation took 3.765e-05 s\n"
     ]
    },
    {
     "data": {
      "application/vnd.jupyter.widget-view+json": {
       "model_id": "317ce0cf60264bb3898e8535b7621733",
       "version_major": 2,
       "version_minor": 0
      },
      "text/plain": [
       "0it [00:00, ?it/s]"
      ]
     },
     "metadata": {},
     "output_type": "display_data"
    },
    {
     "name": "stderr",
     "output_type": "stream",
     "text": [
      "17:14 bilby INFO    : Checkpoint every check_point_delta_t = 600s\n",
      "17:14 bilby WARNING : Using cached result\n",
      "17:14 bilby INFO    : Summary of results:\n",
      "nsamples: 3853\n",
      "ln_noise_evidence:    nan\n",
      "ln_evidence: 252.740 +/-  0.368\n",
      "ln_bayes_factor:    nan +/-  0.368\n",
      "\n",
      "/Users/myue/Research/Projects/JWST/dependencies/msa_spec_utils/LAE_spec_utils.py:464: RuntimeWarning: divide by zero encountered in power\n",
      "  self.err_fnu = (self.ivar_fnu)**-0.5\n",
      "/Users/myue/Research/Projects/JWST/dependencies/msa_spec_utils/LAE_spec_utils.py:470: RuntimeWarning: invalid value encountered in divide\n",
      "  self.flam = self.fnu * speed_of_light_angstrom / (self.wave)**2 * 1e-29 * 1e18\n",
      "/Users/myue/Research/Projects/JWST/dependencies/msa_spec_utils/LAE_spec_utils.py:471: RuntimeWarning: divide by zero encountered in divide\n",
      "  self.err_flam = self.err_fnu * (speed_of_light_angstrom / (self.wave)**2 * 1e-29 * 1e18)\n",
      "17:14 bilby INFO    : Running for label '3117_9428', output will be saved to '../../data/civ_saves/J1148/bilby_fit_civ_msaexp_pypeit_v2/'\n",
      "17:14 bilby INFO    : Search parameters:\n",
      "17:14 bilby INFO    :   center = Uniform(minimum=12009.69800697084, maximum=12057.83306912303, name='center', latex_label='center', unit=None, boundary=None)\n",
      "17:14 bilby INFO    :   fwhm = Uniform(minimum=300, maximum=1000, name='fwhm', latex_label='fwhm', unit=None, boundary=None)\n",
      "17:14 bilby INFO    :   flux = Uniform(minimum=-8.184083173096946, maximum=8.184083173096946, name='flux', latex_label='flux', unit=None, boundary=None)\n",
      "17:14 bilby INFO    :   A = Uniform(minimum=-0.03833722877153604, maximum=0.07667445754307207, name='A', latex_label='A', unit=None, boundary=None)\n",
      "17:14 bilby INFO    :   beta = Uniform(minimum=-4, maximum=2, name='beta', latex_label='beta', unit=None, boundary=None)\n",
      "17:14 bilby INFO    :   wave0 = 12033.765538046935\n",
      "17:14 bilby INFO    : Single likelihood evaluation took 3.292e-05 s\n"
     ]
    },
    {
     "data": {
      "application/vnd.jupyter.widget-view+json": {
       "model_id": "2425b27c81ef4bfa865bca046335a8ec",
       "version_major": 2,
       "version_minor": 0
      },
      "text/plain": [
       "0it [00:00, ?it/s]"
      ]
     },
     "metadata": {},
     "output_type": "display_data"
    },
    {
     "name": "stderr",
     "output_type": "stream",
     "text": [
      "17:14 bilby INFO    : Checkpoint every check_point_delta_t = 600s\n",
      "17:14 bilby WARNING : Using cached result\n",
      "17:14 bilby INFO    : Summary of results:\n",
      "nsamples: 2474\n",
      "ln_noise_evidence:    nan\n",
      "ln_evidence: 234.022 +/-  0.273\n",
      "ln_bayes_factor:    nan +/-  0.273\n",
      "\n",
      "/Users/myue/Research/Projects/JWST/dependencies/msa_spec_utils/LAE_spec_utils.py:464: RuntimeWarning: divide by zero encountered in power\n",
      "  self.err_fnu = (self.ivar_fnu)**-0.5\n",
      "/Users/myue/Research/Projects/JWST/dependencies/msa_spec_utils/LAE_spec_utils.py:470: RuntimeWarning: invalid value encountered in divide\n",
      "  self.flam = self.fnu * speed_of_light_angstrom / (self.wave)**2 * 1e-29 * 1e18\n",
      "/Users/myue/Research/Projects/JWST/dependencies/msa_spec_utils/LAE_spec_utils.py:471: RuntimeWarning: divide by zero encountered in divide\n",
      "  self.err_flam = self.err_fnu * (speed_of_light_angstrom / (self.wave)**2 * 1e-29 * 1e18)\n",
      "17:14 bilby INFO    : Running for label '3117_9799', output will be saved to '../../data/civ_saves/J1148/bilby_fit_civ_msaexp_pypeit_v2/'\n",
      "17:14 bilby INFO    : Search parameters:\n",
      "17:14 bilby INFO    :   center = Uniform(minimum=11558.948635106408, maximum=11605.277086549719, name='center', latex_label='center', unit=None, boundary=None)\n",
      "17:14 bilby INFO    :   fwhm = Uniform(minimum=300, maximum=1000, name='fwhm', latex_label='fwhm', unit=None, boundary=None)\n",
      "17:14 bilby INFO    :   flux = Uniform(minimum=-7.6924979325578, maximum=7.6924979325578, name='flux', latex_label='flux', unit=None, boundary=None)\n",
      "17:14 bilby INFO    :   A = Uniform(minimum=-0.037439653721701265, maximum=0.07487930744340253, name='A', latex_label='A', unit=None, boundary=None)\n",
      "17:14 bilby INFO    :   beta = Uniform(minimum=-4, maximum=2, name='beta', latex_label='beta', unit=None, boundary=None)\n",
      "17:14 bilby INFO    :   wave0 = 11582.112860828063\n",
      "17:14 bilby INFO    : Single likelihood evaluation took 3.268e-05 s\n"
     ]
    },
    {
     "data": {
      "application/vnd.jupyter.widget-view+json": {
       "model_id": "e2e3f33a918141ae86a83e6db5c97107",
       "version_major": 2,
       "version_minor": 0
      },
      "text/plain": [
       "0it [00:00, ?it/s]"
      ]
     },
     "metadata": {},
     "output_type": "display_data"
    },
    {
     "name": "stderr",
     "output_type": "stream",
     "text": [
      "17:14 bilby INFO    : Checkpoint every check_point_delta_t = 600s\n",
      "17:14 bilby WARNING : Using cached result\n",
      "17:14 bilby INFO    : Summary of results:\n",
      "nsamples: 2299\n",
      "ln_noise_evidence:    nan\n",
      "ln_evidence: 332.662 +/-  0.256\n",
      "ln_bayes_factor:    nan +/-  0.256\n",
      "\n",
      "17:14 bilby INFO    : Running for label '3117_10290', output will be saved to '../../data/civ_saves/J1148/bilby_fit_civ_msaexp_pypeit_v2/'\n",
      "17:14 bilby INFO    : Search parameters:\n",
      "17:14 bilby INFO    :   center = Uniform(minimum=11472.337256050385, maximum=11518.318567697883, name='center', latex_label='center', unit=None, boundary=None)\n",
      "17:14 bilby INFO    :   fwhm = Uniform(minimum=300, maximum=1000, name='fwhm', latex_label='fwhm', unit=None, boundary=None)\n",
      "17:14 bilby INFO    :   flux = Uniform(minimum=-10.012031901258517, maximum=10.012031901258517, name='flux', latex_label='flux', unit=None, boundary=None)\n",
      "17:14 bilby INFO    :   A = Uniform(minimum=-0.04909678883072098, maximum=0.09819357766144196, name='A', latex_label='A', unit=None, boundary=None)\n",
      "17:14 bilby INFO    :   beta = Uniform(minimum=-4, maximum=2, name='beta', latex_label='beta', unit=None, boundary=None)\n",
      "17:14 bilby INFO    :   wave0 = 11495.327911874134\n",
      "17:14 bilby INFO    : Single likelihood evaluation took 3.696e-05 s\n"
     ]
    },
    {
     "data": {
      "application/vnd.jupyter.widget-view+json": {
       "model_id": "8735c321182849eba4326f4d2ebdf802",
       "version_major": 2,
       "version_minor": 0
      },
      "text/plain": [
       "0it [00:00, ?it/s]"
      ]
     },
     "metadata": {},
     "output_type": "display_data"
    },
    {
     "name": "stderr",
     "output_type": "stream",
     "text": [
      "17:14 bilby INFO    : Checkpoint every check_point_delta_t = 600s\n",
      "17:14 bilby WARNING : Using cached result\n",
      "17:14 bilby INFO    : Summary of results:\n",
      "nsamples: 2914\n",
      "ln_noise_evidence:    nan\n",
      "ln_evidence: 342.238 +/-  0.307\n",
      "ln_bayes_factor:    nan +/-  0.307\n",
      "\n",
      "/Users/myue/Research/Projects/JWST/dependencies/msa_spec_utils/LAE_spec_utils.py:464: RuntimeWarning: divide by zero encountered in power\n",
      "  self.err_fnu = (self.ivar_fnu)**-0.5\n",
      "/Users/myue/Research/Projects/JWST/dependencies/msa_spec_utils/LAE_spec_utils.py:470: RuntimeWarning: invalid value encountered in divide\n",
      "  self.flam = self.fnu * speed_of_light_angstrom / (self.wave)**2 * 1e-29 * 1e18\n",
      "/Users/myue/Research/Projects/JWST/dependencies/msa_spec_utils/LAE_spec_utils.py:471: RuntimeWarning: divide by zero encountered in divide\n",
      "  self.err_flam = self.err_fnu * (speed_of_light_angstrom / (self.wave)**2 * 1e-29 * 1e18)\n",
      "17:14 bilby INFO    : Running for label '3117_10586', output will be saved to '../../data/civ_saves/J1148/bilby_fit_civ_msaexp_pypeit_v2/'\n",
      "17:14 bilby INFO    : Search parameters:\n",
      "17:14 bilby INFO    :   center = Uniform(minimum=10538.711082590497, maximum=10580.950405566811, name='center', latex_label='center', unit=None, boundary=None)\n",
      "17:14 bilby INFO    :   fwhm = Uniform(minimum=300, maximum=1000, name='fwhm', latex_label='fwhm', unit=None, boundary=None)\n",
      "17:14 bilby INFO    :   flux = Uniform(minimum=-10.046216043425584, maximum=10.046216043425584, name='flux', latex_label='flux', unit=None, boundary=None)\n",
      "17:14 bilby INFO    :   A = Uniform(minimum=-0.05362876351445384, maximum=0.10725752702890767, name='A', latex_label='A', unit=None, boundary=None)\n",
      "17:14 bilby INFO    :   beta = Uniform(minimum=-4, maximum=2, name='beta', latex_label='beta', unit=None, boundary=None)\n",
      "17:14 bilby INFO    :   wave0 = 10559.830744078654\n",
      "17:14 bilby INFO    : Single likelihood evaluation took 3.438e-05 s\n"
     ]
    },
    {
     "data": {
      "application/vnd.jupyter.widget-view+json": {
       "model_id": "1f36406fc9624297bfe242ad5f47e462",
       "version_major": 2,
       "version_minor": 0
      },
      "text/plain": [
       "0it [00:00, ?it/s]"
      ]
     },
     "metadata": {},
     "output_type": "display_data"
    },
    {
     "name": "stderr",
     "output_type": "stream",
     "text": [
      "17:14 bilby INFO    : Checkpoint every check_point_delta_t = 600s\n",
      "17:14 bilby WARNING : Using cached result\n",
      "17:14 bilby INFO    : Summary of results:\n",
      "nsamples: 2394\n",
      "ln_noise_evidence:    nan\n",
      "ln_evidence: 239.009 +/-  0.259\n",
      "ln_bayes_factor:    nan +/-  0.259\n",
      "\n",
      "/Users/myue/Research/Projects/JWST/dependencies/msa_spec_utils/LAE_spec_utils.py:464: RuntimeWarning: divide by zero encountered in power\n",
      "  self.err_fnu = (self.ivar_fnu)**-0.5\n",
      "/Users/myue/Research/Projects/JWST/dependencies/msa_spec_utils/LAE_spec_utils.py:470: RuntimeWarning: invalid value encountered in divide\n",
      "  self.flam = self.fnu * speed_of_light_angstrom / (self.wave)**2 * 1e-29 * 1e18\n",
      "/Users/myue/Research/Projects/JWST/dependencies/msa_spec_utils/LAE_spec_utils.py:471: RuntimeWarning: divide by zero encountered in divide\n",
      "  self.err_flam = self.err_fnu * (speed_of_light_angstrom / (self.wave)**2 * 1e-29 * 1e18)\n",
      "17:14 bilby INFO    : Running for label '3117_10727', output will be saved to '../../data/civ_saves/J1148/bilby_fit_civ_msaexp_pypeit_v2/'\n",
      "17:14 bilby INFO    : Search parameters:\n",
      "17:14 bilby INFO    :   center = Uniform(minimum=10362.247696923992, maximum=10403.779751821485, name='center', latex_label='center', unit=None, boundary=None)\n",
      "17:14 bilby INFO    :   fwhm = Uniform(minimum=300, maximum=1000, name='fwhm', latex_label='fwhm', unit=None, boundary=None)\n",
      "17:14 bilby INFO    :   flux = Uniform(minimum=-11.563511560513142, maximum=11.563511560513142, name='flux', latex_label='flux', unit=None, boundary=None)\n",
      "17:14 bilby INFO    :   A = Uniform(minimum=-0.06277959916768967, maximum=0.12555919833537935, name='A', latex_label='A', unit=None, boundary=None)\n",
      "17:14 bilby INFO    :   beta = Uniform(minimum=-4, maximum=2, name='beta', latex_label='beta', unit=None, boundary=None)\n",
      "17:14 bilby INFO    :   wave0 = 10383.013724372739\n",
      "17:14 bilby INFO    : Single likelihood evaluation took 3.274e-05 s\n"
     ]
    },
    {
     "data": {
      "application/vnd.jupyter.widget-view+json": {
       "model_id": "6b3be5bef18f4d3791a9737cc0145b0a",
       "version_major": 2,
       "version_minor": 0
      },
      "text/plain": [
       "0it [00:00, ?it/s]"
      ]
     },
     "metadata": {},
     "output_type": "display_data"
    },
    {
     "name": "stderr",
     "output_type": "stream",
     "text": [
      "17:14 bilby INFO    : Checkpoint every check_point_delta_t = 600s\n",
      "17:14 bilby WARNING : Using cached result\n",
      "17:14 bilby INFO    : Summary of results:\n",
      "nsamples: 2674\n",
      "ln_noise_evidence:    nan\n",
      "ln_evidence: 250.580 +/-  0.273\n",
      "ln_bayes_factor:    nan +/-  0.273\n",
      "\n",
      "/Users/myue/Research/Projects/JWST/dependencies/msa_spec_utils/LAE_spec_utils.py:464: RuntimeWarning: divide by zero encountered in power\n",
      "  self.err_fnu = (self.ivar_fnu)**-0.5\n",
      "/Users/myue/Research/Projects/JWST/dependencies/msa_spec_utils/LAE_spec_utils.py:470: RuntimeWarning: invalid value encountered in divide\n",
      "  self.flam = self.fnu * speed_of_light_angstrom / (self.wave)**2 * 1e-29 * 1e18\n",
      "/Users/myue/Research/Projects/JWST/dependencies/msa_spec_utils/LAE_spec_utils.py:471: RuntimeWarning: divide by zero encountered in divide\n",
      "  self.err_flam = self.err_fnu * (speed_of_light_angstrom / (self.wave)**2 * 1e-29 * 1e18)\n",
      "17:14 bilby INFO    : Running for label '3117_11709', output will be saved to '../../data/civ_saves/J1148/bilby_fit_civ_msaexp_pypeit_v2/'\n",
      "17:14 bilby INFO    : Search parameters:\n",
      "17:14 bilby INFO    :   center = Uniform(minimum=11599.122790897349, maximum=11645.612261001144, name='center', latex_label='center', unit=None, boundary=None)\n",
      "17:14 bilby INFO    :   fwhm = Uniform(minimum=300, maximum=1000, name='fwhm', latex_label='fwhm', unit=None, boundary=None)\n",
      "17:14 bilby INFO    :   flux = Uniform(minimum=-26.92368954568913, maximum=26.92368954568913, name='flux', latex_label='flux', unit=None, boundary=None)\n",
      "17:14 bilby INFO    :   A = Uniform(minimum=-0.13058467035495977, maximum=0.26116934070991954, name='A', latex_label='A', unit=None, boundary=None)\n",
      "17:14 bilby INFO    :   beta = Uniform(minimum=-4, maximum=2, name='beta', latex_label='beta', unit=None, boundary=None)\n",
      "17:14 bilby INFO    :   wave0 = 11622.367525949247\n",
      "17:14 bilby INFO    : Single likelihood evaluation took 3.405e-05 s\n"
     ]
    },
    {
     "data": {
      "application/vnd.jupyter.widget-view+json": {
       "model_id": "6f371d063d9140eeaf311fce32450a90",
       "version_major": 2,
       "version_minor": 0
      },
      "text/plain": [
       "0it [00:00, ?it/s]"
      ]
     },
     "metadata": {},
     "output_type": "display_data"
    },
    {
     "name": "stderr",
     "output_type": "stream",
     "text": [
      "17:14 bilby INFO    : Checkpoint every check_point_delta_t = 600s\n",
      "17:14 bilby WARNING : Using cached result\n",
      "17:14 bilby INFO    : Summary of results:\n",
      "nsamples: 3773\n",
      "ln_noise_evidence:    nan\n",
      "ln_evidence: 313.242 +/-  0.368\n",
      "ln_bayes_factor:    nan +/-  0.368\n",
      "\n",
      "/Users/myue/Research/Projects/JWST/dependencies/msa_spec_utils/LAE_spec_utils.py:464: RuntimeWarning: divide by zero encountered in power\n",
      "  self.err_fnu = (self.ivar_fnu)**-0.5\n",
      "/Users/myue/Research/Projects/JWST/dependencies/msa_spec_utils/LAE_spec_utils.py:470: RuntimeWarning: invalid value encountered in divide\n",
      "  self.flam = self.fnu * speed_of_light_angstrom / (self.wave)**2 * 1e-29 * 1e18\n",
      "/Users/myue/Research/Projects/JWST/dependencies/msa_spec_utils/LAE_spec_utils.py:471: RuntimeWarning: divide by zero encountered in divide\n",
      "  self.err_flam = self.err_fnu * (speed_of_light_angstrom / (self.wave)**2 * 1e-29 * 1e18)\n",
      "17:14 bilby INFO    : Running for label '3117_12115', output will be saved to '../../data/civ_saves/J1148/bilby_fit_civ_msaexp_pypeit_v2/'\n",
      "17:14 bilby INFO    : Search parameters:\n",
      "17:14 bilby INFO    :   center = Uniform(minimum=12218.295851466479, maximum=12267.266977123658, name='center', latex_label='center', unit=None, boundary=None)\n",
      "17:14 bilby INFO    :   fwhm = Uniform(minimum=300, maximum=1000, name='fwhm', latex_label='fwhm', unit=None, boundary=None)\n",
      "17:14 bilby INFO    :   flux = Uniform(minimum=-7.85554522638513, maximum=7.85554522638513, name='flux', latex_label='flux', unit=None, boundary=None)\n",
      "17:14 bilby INFO    :   A = Uniform(minimum=-0.03616999639026271, maximum=0.07233999278052541, name='A', latex_label='A', unit=None, boundary=None)\n",
      "17:14 bilby INFO    :   beta = Uniform(minimum=-4, maximum=2, name='beta', latex_label='beta', unit=None, boundary=None)\n",
      "17:14 bilby INFO    :   wave0 = 12242.781414295068\n",
      "17:14 bilby INFO    : Single likelihood evaluation took 3.259e-05 s\n"
     ]
    },
    {
     "data": {
      "application/vnd.jupyter.widget-view+json": {
       "model_id": "34183950acea4e65813cc28722d6cb8a",
       "version_major": 2,
       "version_minor": 0
      },
      "text/plain": [
       "0it [00:00, ?it/s]"
      ]
     },
     "metadata": {},
     "output_type": "display_data"
    },
    {
     "name": "stderr",
     "output_type": "stream",
     "text": [
      "17:14 bilby INFO    : Checkpoint every check_point_delta_t = 600s\n",
      "17:14 bilby WARNING : Using cached result\n",
      "17:14 bilby INFO    : Summary of results:\n",
      "nsamples: 2426\n",
      "ln_noise_evidence:    nan\n",
      "ln_evidence: 392.419 +/-  0.271\n",
      "ln_bayes_factor:    nan +/-  0.271\n",
      "\n",
      "17:14 bilby INFO    : Running for label '3117_12277', output will be saved to '../../data/civ_saves/J1148/bilby_fit_civ_msaexp_pypeit_v2/'\n",
      "17:14 bilby INFO    : Search parameters:\n",
      "17:14 bilby INFO    :   center = Uniform(minimum=11461.509639175698, maximum=11507.447553561173, name='center', latex_label='center', unit=None, boundary=None)\n",
      "17:14 bilby INFO    :   fwhm = Uniform(minimum=300, maximum=1000, name='fwhm', latex_label='fwhm', unit=None, boundary=None)\n",
      "17:14 bilby INFO    :   flux = Uniform(minimum=-10.741028101199477, maximum=10.741028101199477, name='flux', latex_label='flux', unit=None, boundary=None)\n",
      "17:14 bilby INFO    :   A = Uniform(minimum=-0.05272138342842561, maximum=0.10544276685685122, name='A', latex_label='A', unit=None, boundary=None)\n",
      "17:14 bilby INFO    :   beta = Uniform(minimum=-4, maximum=2, name='beta', latex_label='beta', unit=None, boundary=None)\n",
      "17:14 bilby INFO    :   wave0 = 11484.478596368435\n",
      "17:14 bilby INFO    : Single likelihood evaluation took 4.083e-05 s\n"
     ]
    },
    {
     "data": {
      "application/vnd.jupyter.widget-view+json": {
       "model_id": "2b609796030d4efe8cc3752730c48a82",
       "version_major": 2,
       "version_minor": 0
      },
      "text/plain": [
       "0it [00:00, ?it/s]"
      ]
     },
     "metadata": {},
     "output_type": "display_data"
    },
    {
     "name": "stderr",
     "output_type": "stream",
     "text": [
      "17:14 bilby INFO    : Checkpoint every check_point_delta_t = 600s\n",
      "17:14 bilby WARNING : Using cached result\n",
      "17:14 bilby INFO    : Summary of results:\n",
      "nsamples: 2615\n",
      "ln_noise_evidence:    nan\n",
      "ln_evidence: 328.644 +/-  0.276\n",
      "ln_bayes_factor:    nan +/-  0.276\n",
      "\n",
      "/Users/myue/Research/Projects/JWST/dependencies/msa_spec_utils/LAE_spec_utils.py:464: RuntimeWarning: divide by zero encountered in power\n",
      "  self.err_fnu = (self.ivar_fnu)**-0.5\n",
      "/Users/myue/Research/Projects/JWST/dependencies/msa_spec_utils/LAE_spec_utils.py:470: RuntimeWarning: invalid value encountered in divide\n",
      "  self.flam = self.fnu * speed_of_light_angstrom / (self.wave)**2 * 1e-29 * 1e18\n",
      "/Users/myue/Research/Projects/JWST/dependencies/msa_spec_utils/LAE_spec_utils.py:471: RuntimeWarning: divide by zero encountered in divide\n",
      "  self.err_flam = self.err_fnu * (speed_of_light_angstrom / (self.wave)**2 * 1e-29 * 1e18)\n",
      "17:14 bilby INFO    : Running for label '3117_13418', output will be saved to '../../data/civ_saves/J1148/bilby_fit_civ_msaexp_pypeit_v2/'\n",
      "17:14 bilby INFO    : Search parameters:\n",
      "17:14 bilby INFO    :   center = Uniform(minimum=9937.446278664023, maximum=9977.275722666685, name='center', latex_label='center', unit=None, boundary=None)\n",
      "17:14 bilby INFO    :   fwhm = Uniform(minimum=300, maximum=1000, name='fwhm', latex_label='fwhm', unit=None, boundary=None)\n",
      "17:14 bilby INFO    :   flux = Uniform(minimum=-12.44513218080006, maximum=12.44513218080006, name='flux', latex_label='flux', unit=None, boundary=None)\n",
      "17:14 bilby INFO    :   A = Uniform(minimum=-0.07045429746733584, maximum=0.14090859493467167, name='A', latex_label='A', unit=None, boundary=None)\n",
      "17:14 bilby INFO    :   beta = Uniform(minimum=-4, maximum=2, name='beta', latex_label='beta', unit=None, boundary=None)\n",
      "17:14 bilby INFO    :   wave0 = 9957.361000665354\n",
      "17:14 bilby INFO    : Single likelihood evaluation took 3.718e-05 s\n"
     ]
    },
    {
     "data": {
      "application/vnd.jupyter.widget-view+json": {
       "model_id": "804b70a448524a31850866b18fe603bc",
       "version_major": 2,
       "version_minor": 0
      },
      "text/plain": [
       "0it [00:00, ?it/s]"
      ]
     },
     "metadata": {},
     "output_type": "display_data"
    },
    {
     "name": "stderr",
     "output_type": "stream",
     "text": [
      "17:14 bilby INFO    : Checkpoint every check_point_delta_t = 600s\n",
      "17:14 bilby WARNING : Using cached result\n",
      "17:14 bilby INFO    : Summary of results:\n",
      "nsamples: 2455\n",
      "ln_noise_evidence:    nan\n",
      "ln_evidence: 234.512 +/-  0.261\n",
      "ln_bayes_factor:    nan +/-  0.261\n",
      "\n",
      "/Users/myue/Research/Projects/JWST/dependencies/msa_spec_utils/LAE_spec_utils.py:464: RuntimeWarning: divide by zero encountered in power\n",
      "  self.err_fnu = (self.ivar_fnu)**-0.5\n",
      "/Users/myue/Research/Projects/JWST/dependencies/msa_spec_utils/LAE_spec_utils.py:470: RuntimeWarning: invalid value encountered in divide\n",
      "  self.flam = self.fnu * speed_of_light_angstrom / (self.wave)**2 * 1e-29 * 1e18\n",
      "/Users/myue/Research/Projects/JWST/dependencies/msa_spec_utils/LAE_spec_utils.py:471: RuntimeWarning: divide by zero encountered in divide\n",
      "  self.err_flam = self.err_fnu * (speed_of_light_angstrom / (self.wave)**2 * 1e-29 * 1e18)\n",
      "17:14 bilby INFO    : Running for label '3117_14101', output will be saved to '../../data/civ_saves/J1148/bilby_fit_civ_msaexp_pypeit_v2/'\n",
      "17:14 bilby INFO    : Search parameters:\n",
      "17:14 bilby INFO    :   center = Uniform(minimum=12196.335625975627, maximum=12245.218734696971, name='center', latex_label='center', unit=None, boundary=None)\n",
      "17:14 bilby INFO    :   fwhm = Uniform(minimum=300, maximum=1000, name='fwhm', latex_label='fwhm', unit=None, boundary=None)\n",
      "17:14 bilby INFO    :   flux = Uniform(minimum=-12.357499494856011, maximum=12.357499494856011, name='flux', latex_label='flux', unit=None, boundary=None)\n",
      "17:14 bilby INFO    :   A = Uniform(minimum=-0.05700120061539052, maximum=0.11400240123078104, name='A', latex_label='A', unit=None, boundary=None)\n",
      "17:14 bilby INFO    :   beta = Uniform(minimum=-4, maximum=2, name='beta', latex_label='beta', unit=None, boundary=None)\n",
      "17:14 bilby INFO    :   wave0 = 12220.7771803363\n",
      "17:14 bilby INFO    : Single likelihood evaluation took 3.336e-05 s\n"
     ]
    },
    {
     "data": {
      "application/vnd.jupyter.widget-view+json": {
       "model_id": "64343ca1eb834d1bba53f3e4c1b0099e",
       "version_major": 2,
       "version_minor": 0
      },
      "text/plain": [
       "0it [00:00, ?it/s]"
      ]
     },
     "metadata": {},
     "output_type": "display_data"
    },
    {
     "name": "stderr",
     "output_type": "stream",
     "text": [
      "17:14 bilby INFO    : Checkpoint every check_point_delta_t = 600s\n",
      "17:14 bilby WARNING : Using cached result\n",
      "17:14 bilby INFO    : Summary of results:\n",
      "nsamples: 3152\n",
      "ln_noise_evidence:    nan\n",
      "ln_evidence: 344.594 +/-  0.314\n",
      "ln_bayes_factor:    nan +/-  0.314\n",
      "\n",
      "17:14 bilby INFO    : Running for label '3117_14236', output will be saved to '../../data/civ_saves/J1148/bilby_fit_civ_msaexp_pypeit_v2/'\n",
      "17:14 bilby INFO    : Search parameters:\n",
      "17:14 bilby INFO    :   center = Uniform(minimum=11470.297753212059, maximum=11516.270890499482, name='center', latex_label='center', unit=None, boundary=None)\n",
      "17:14 bilby INFO    :   fwhm = Uniform(minimum=300, maximum=1000, name='fwhm', latex_label='fwhm', unit=None, boundary=None)\n",
      "17:14 bilby INFO    :   flux = Uniform(minimum=-10.595952717077779, maximum=10.595952717077779, name='flux', latex_label='flux', unit=None, boundary=None)\n",
      "17:14 bilby INFO    :   A = Uniform(minimum=-0.05196944619762733, maximum=0.10393889239525465, name='A', latex_label='A', unit=None, boundary=None)\n",
      "17:14 bilby INFO    :   beta = Uniform(minimum=-4, maximum=2, name='beta', latex_label='beta', unit=None, boundary=None)\n",
      "17:14 bilby INFO    :   wave0 = 11493.28432185577\n",
      "17:14 bilby INFO    : Single likelihood evaluation took 3.909e-05 s\n"
     ]
    },
    {
     "data": {
      "application/vnd.jupyter.widget-view+json": {
       "model_id": "b52b1f3d65e24a17b666123d2466b29c",
       "version_major": 2,
       "version_minor": 0
      },
      "text/plain": [
       "0it [00:00, ?it/s]"
      ]
     },
     "metadata": {},
     "output_type": "display_data"
    },
    {
     "name": "stderr",
     "output_type": "stream",
     "text": [
      "17:14 bilby INFO    : Checkpoint every check_point_delta_t = 600s\n",
      "17:14 bilby WARNING : Using cached result\n",
      "17:14 bilby INFO    : Summary of results:\n",
      "nsamples: 2542\n",
      "ln_noise_evidence:    nan\n",
      "ln_evidence: 313.988 +/-  0.276\n",
      "ln_bayes_factor:    nan +/-  0.276\n",
      "\n",
      "/Users/myue/Research/Projects/JWST/dependencies/msa_spec_utils/LAE_spec_utils.py:464: RuntimeWarning: divide by zero encountered in power\n",
      "  self.err_fnu = (self.ivar_fnu)**-0.5\n",
      "/Users/myue/Research/Projects/JWST/dependencies/msa_spec_utils/LAE_spec_utils.py:470: RuntimeWarning: invalid value encountered in divide\n",
      "  self.flam = self.fnu * speed_of_light_angstrom / (self.wave)**2 * 1e-29 * 1e18\n",
      "/Users/myue/Research/Projects/JWST/dependencies/msa_spec_utils/LAE_spec_utils.py:471: RuntimeWarning: divide by zero encountered in divide\n",
      "  self.err_flam = self.err_fnu * (speed_of_light_angstrom / (self.wave)**2 * 1e-29 * 1e18)\n",
      "17:14 bilby INFO    : Running for label '3117_14780', output will be saved to '../../data/civ_saves/J1148/bilby_fit_civ_msaexp_pypeit_v2/'\n",
      "17:14 bilby INFO    : Search parameters:\n",
      "17:14 bilby INFO    :   center = Uniform(minimum=12192.963675224211, maximum=12241.833269112885, name='center', latex_label='center', unit=None, boundary=None)\n",
      "17:14 bilby INFO    :   fwhm = Uniform(minimum=300, maximum=1000, name='fwhm', latex_label='fwhm', unit=None, boundary=None)\n",
      "17:14 bilby INFO    :   flux = Uniform(minimum=-10.679955745589051, maximum=10.679955745589051, name='flux', latex_label='flux', unit=None, boundary=None)\n",
      "17:14 bilby INFO    :   A = Uniform(minimum=-0.049276850468905675, maximum=0.09855370093781135, name='A', latex_label='A', unit=None, boundary=None)\n",
      "17:14 bilby INFO    :   beta = Uniform(minimum=-4, maximum=2, name='beta', latex_label='beta', unit=None, boundary=None)\n",
      "17:14 bilby INFO    :   wave0 = 12217.398472168548\n",
      "17:14 bilby INFO    : Single likelihood evaluation took 4.723e-05 s\n"
     ]
    },
    {
     "data": {
      "application/vnd.jupyter.widget-view+json": {
       "model_id": "e4c8dece89c1454ca46a5556e6b0321e",
       "version_major": 2,
       "version_minor": 0
      },
      "text/plain": [
       "0it [00:00, ?it/s]"
      ]
     },
     "metadata": {},
     "output_type": "display_data"
    },
    {
     "name": "stderr",
     "output_type": "stream",
     "text": [
      "17:14 bilby INFO    : Checkpoint every check_point_delta_t = 600s\n",
      "17:14 bilby WARNING : Using cached result\n",
      "17:14 bilby INFO    : Summary of results:\n",
      "nsamples: 2759\n",
      "ln_noise_evidence:    nan\n",
      "ln_evidence: 338.156 +/-  0.282\n",
      "ln_bayes_factor:    nan +/-  0.282\n",
      "\n",
      "/Users/myue/Research/Projects/JWST/dependencies/msa_spec_utils/LAE_spec_utils.py:464: RuntimeWarning: divide by zero encountered in power\n",
      "  self.err_fnu = (self.ivar_fnu)**-0.5\n",
      "/Users/myue/Research/Projects/JWST/dependencies/msa_spec_utils/LAE_spec_utils.py:470: RuntimeWarning: invalid value encountered in divide\n",
      "  self.flam = self.fnu * speed_of_light_angstrom / (self.wave)**2 * 1e-29 * 1e18\n",
      "/Users/myue/Research/Projects/JWST/dependencies/msa_spec_utils/LAE_spec_utils.py:471: RuntimeWarning: divide by zero encountered in divide\n",
      "  self.err_flam = self.err_fnu * (speed_of_light_angstrom / (self.wave)**2 * 1e-29 * 1e18)\n",
      "17:15 bilby INFO    : Running for label '3117_15411', output will be saved to '../../data/civ_saves/J1148/bilby_fit_civ_msaexp_pypeit_v2/'\n",
      "17:15 bilby INFO    : Search parameters:\n",
      "17:15 bilby INFO    :   center = Uniform(minimum=12229.999840250175, maximum=12279.01787568204, name='center', latex_label='center', unit=None, boundary=None)\n",
      "17:15 bilby INFO    :   fwhm = Uniform(minimum=300, maximum=1000, name='fwhm', latex_label='fwhm', unit=None, boundary=None)\n",
      "17:15 bilby INFO    :   flux = Uniform(minimum=-14.154884230369708, maximum=14.154884230369708, name='flux', latex_label='flux', unit=None, boundary=None)\n",
      "17:15 bilby INFO    :   A = Uniform(minimum=-0.06511224045740285, maximum=0.1302244809148057, name='A', latex_label='A', unit=None, boundary=None)\n",
      "17:15 bilby INFO    :   beta = Uniform(minimum=-4, maximum=2, name='beta', latex_label='beta', unit=None, boundary=None)\n",
      "17:15 bilby INFO    :   wave0 = 12254.508857966108\n",
      "17:15 bilby INFO    : Single likelihood evaluation took 3.394e-05 s\n"
     ]
    },
    {
     "data": {
      "application/vnd.jupyter.widget-view+json": {
       "model_id": "1abf5f6095f24a3eb58408a0e6a9cafd",
       "version_major": 2,
       "version_minor": 0
      },
      "text/plain": [
       "0it [00:00, ?it/s]"
      ]
     },
     "metadata": {},
     "output_type": "display_data"
    },
    {
     "name": "stderr",
     "output_type": "stream",
     "text": [
      "17:15 bilby INFO    : Checkpoint every check_point_delta_t = 600s\n",
      "17:15 bilby WARNING : Using cached result\n",
      "17:15 bilby INFO    : Summary of results:\n",
      "nsamples: 3291\n",
      "ln_noise_evidence:    nan\n",
      "ln_evidence: 321.267 +/-  0.335\n",
      "ln_bayes_factor:    nan +/-  0.335\n",
      "\n",
      "/Users/myue/Research/Projects/JWST/dependencies/msa_spec_utils/LAE_spec_utils.py:464: RuntimeWarning: divide by zero encountered in power\n",
      "  self.err_fnu = (self.ivar_fnu)**-0.5\n",
      "/Users/myue/Research/Projects/JWST/dependencies/msa_spec_utils/LAE_spec_utils.py:470: RuntimeWarning: invalid value encountered in divide\n",
      "  self.flam = self.fnu * speed_of_light_angstrom / (self.wave)**2 * 1e-29 * 1e18\n",
      "/Users/myue/Research/Projects/JWST/dependencies/msa_spec_utils/LAE_spec_utils.py:471: RuntimeWarning: divide by zero encountered in divide\n",
      "  self.err_flam = self.err_fnu * (speed_of_light_angstrom / (self.wave)**2 * 1e-29 * 1e18)\n",
      "17:15 bilby INFO    : Running for label '3117_16651', output will be saved to '../../data/civ_saves/J1148/bilby_fit_civ_msaexp_pypeit_v2/'\n",
      "17:15 bilby INFO    : Search parameters:\n",
      "17:15 bilby INFO    :   center = Uniform(minimum=12217.784448548367, maximum=12266.753524494454, name='center', latex_label='center', unit=None, boundary=None)\n",
      "17:15 bilby INFO    :   fwhm = Uniform(minimum=300, maximum=1000, name='fwhm', latex_label='fwhm', unit=None, boundary=None)\n",
      "17:15 bilby INFO    :   flux = Uniform(minimum=-9.462947119942312, maximum=9.462947119942312, name='flux', latex_label='flux', unit=None, boundary=None)\n",
      "17:15 bilby INFO    :   A = Uniform(minimum=-0.043572925874310366, maximum=0.08714585174862073, name='A', latex_label='A', unit=None, boundary=None)\n",
      "17:15 bilby INFO    :   beta = Uniform(minimum=-4, maximum=2, name='beta', latex_label='beta', unit=None, boundary=None)\n",
      "17:15 bilby INFO    :   wave0 = 12242.26898652141\n",
      "17:15 bilby INFO    : Single likelihood evaluation took 3.367e-05 s\n"
     ]
    },
    {
     "data": {
      "application/vnd.jupyter.widget-view+json": {
       "model_id": "de54c69b22f5471cb8476beda6fbaab6",
       "version_major": 2,
       "version_minor": 0
      },
      "text/plain": [
       "0it [00:00, ?it/s]"
      ]
     },
     "metadata": {},
     "output_type": "display_data"
    },
    {
     "name": "stderr",
     "output_type": "stream",
     "text": [
      "17:15 bilby INFO    : Checkpoint every check_point_delta_t = 600s\n",
      "17:15 bilby WARNING : Using cached result\n",
      "17:15 bilby INFO    : Summary of results:\n",
      "nsamples: 2490\n",
      "ln_noise_evidence:    nan\n",
      "ln_evidence: 323.278 +/-  0.273\n",
      "ln_bayes_factor:    nan +/-  0.273\n",
      "\n",
      "/Users/myue/Research/Projects/JWST/dependencies/msa_spec_utils/LAE_spec_utils.py:464: RuntimeWarning: divide by zero encountered in power\n",
      "  self.err_fnu = (self.ivar_fnu)**-0.5\n",
      "/Users/myue/Research/Projects/JWST/dependencies/msa_spec_utils/LAE_spec_utils.py:470: RuntimeWarning: invalid value encountered in divide\n",
      "  self.flam = self.fnu * speed_of_light_angstrom / (self.wave)**2 * 1e-29 * 1e18\n",
      "/Users/myue/Research/Projects/JWST/dependencies/msa_spec_utils/LAE_spec_utils.py:471: RuntimeWarning: divide by zero encountered in divide\n",
      "  self.err_flam = self.err_fnu * (speed_of_light_angstrom / (self.wave)**2 * 1e-29 * 1e18)\n",
      "17:15 bilby INFO    : Running for label '3117_16736', output will be saved to '../../data/civ_saves/J1148/bilby_fit_civ_msaexp_pypeit_v2/'\n",
      "17:15 bilby INFO    : Search parameters:\n",
      "17:15 bilby INFO    :   center = Uniform(minimum=12223.721243501657, maximum=12272.714114217093, name='center', latex_label='center', unit=None, boundary=None)\n",
      "17:15 bilby INFO    :   fwhm = Uniform(minimum=300, maximum=1000, name='fwhm', latex_label='fwhm', unit=None, boundary=None)\n",
      "17:15 bilby INFO    :   flux = Uniform(minimum=-11.509406790651763, maximum=11.509406790651763, name='flux', latex_label='flux', unit=None, boundary=None)\n",
      "17:15 bilby INFO    :   A = Uniform(minimum=-0.05297028036712175, maximum=0.1059405607342435, name='A', latex_label='A', unit=None, boundary=None)\n",
      "17:15 bilby INFO    :   beta = Uniform(minimum=-4, maximum=2, name='beta', latex_label='beta', unit=None, boundary=None)\n",
      "17:15 bilby INFO    :   wave0 = 12248.217678859375\n",
      "17:15 bilby INFO    : Single likelihood evaluation took 3.460e-05 s\n"
     ]
    },
    {
     "data": {
      "application/vnd.jupyter.widget-view+json": {
       "model_id": "3f12c3cb08c2420e9cd5ced9c2b1aee0",
       "version_major": 2,
       "version_minor": 0
      },
      "text/plain": [
       "0it [00:00, ?it/s]"
      ]
     },
     "metadata": {},
     "output_type": "display_data"
    },
    {
     "name": "stderr",
     "output_type": "stream",
     "text": [
      "17:15 bilby INFO    : Checkpoint every check_point_delta_t = 600s\n",
      "17:15 bilby WARNING : Using cached result\n",
      "17:15 bilby INFO    : Summary of results:\n",
      "nsamples: 3008\n",
      "ln_noise_evidence:    nan\n",
      "ln_evidence: 359.000 +/-  0.294\n",
      "ln_bayes_factor:    nan +/-  0.294\n",
      "\n",
      "/Users/myue/Research/Projects/JWST/dependencies/msa_spec_utils/LAE_spec_utils.py:464: RuntimeWarning: divide by zero encountered in power\n",
      "  self.err_fnu = (self.ivar_fnu)**-0.5\n",
      "/Users/myue/Research/Projects/JWST/dependencies/msa_spec_utils/LAE_spec_utils.py:470: RuntimeWarning: invalid value encountered in divide\n",
      "  self.flam = self.fnu * speed_of_light_angstrom / (self.wave)**2 * 1e-29 * 1e18\n",
      "/Users/myue/Research/Projects/JWST/dependencies/msa_spec_utils/LAE_spec_utils.py:471: RuntimeWarning: divide by zero encountered in divide\n",
      "  self.err_flam = self.err_fnu * (speed_of_light_angstrom / (self.wave)**2 * 1e-29 * 1e18)\n",
      "17:15 bilby INFO    : Running for label '3117_16802', output will be saved to '../../data/civ_saves/J1148/bilby_fit_civ_msaexp_pypeit_v2/'\n",
      "17:15 bilby INFO    : Search parameters:\n",
      "17:15 bilby INFO    :   center = Uniform(minimum=11431.841946711818, maximum=11477.660952510261, name='center', latex_label='center', unit=None, boundary=None)\n",
      "17:15 bilby INFO    :   fwhm = Uniform(minimum=300, maximum=1000, name='fwhm', latex_label='fwhm', unit=None, boundary=None)\n",
      "17:15 bilby INFO    :   flux = Uniform(minimum=-13.068974858155826, maximum=13.068974858155826, name='flux', latex_label='flux', unit=None, boundary=None)\n",
      "17:15 bilby INFO    :   A = Uniform(minimum=-0.06431437891969263, maximum=0.12862875783938527, name='A', latex_label='A', unit=None, boundary=None)\n",
      "17:15 bilby INFO    :   beta = Uniform(minimum=-4, maximum=2, name='beta', latex_label='beta', unit=None, boundary=None)\n",
      "17:15 bilby INFO    :   wave0 = 11454.75144961104\n",
      "17:15 bilby INFO    : Single likelihood evaluation took 3.240e-05 s\n"
     ]
    },
    {
     "data": {
      "application/vnd.jupyter.widget-view+json": {
       "model_id": "692d8a8eab4c45cf9937106e107ecaf8",
       "version_major": 2,
       "version_minor": 0
      },
      "text/plain": [
       "0it [00:00, ?it/s]"
      ]
     },
     "metadata": {},
     "output_type": "display_data"
    },
    {
     "name": "stderr",
     "output_type": "stream",
     "text": [
      "17:15 bilby INFO    : Checkpoint every check_point_delta_t = 600s\n",
      "17:15 bilby WARNING : Using cached result\n",
      "17:15 bilby INFO    : Summary of results:\n",
      "nsamples: 2395\n",
      "ln_noise_evidence:    nan\n",
      "ln_evidence: 297.781 +/-  0.271\n",
      "ln_bayes_factor:    nan +/-  0.271\n",
      "\n",
      "/Users/myue/Research/Projects/JWST/dependencies/msa_spec_utils/LAE_spec_utils.py:464: RuntimeWarning: divide by zero encountered in power\n",
      "  self.err_fnu = (self.ivar_fnu)**-0.5\n",
      "/Users/myue/Research/Projects/JWST/dependencies/msa_spec_utils/LAE_spec_utils.py:470: RuntimeWarning: invalid value encountered in divide\n",
      "  self.flam = self.fnu * speed_of_light_angstrom / (self.wave)**2 * 1e-29 * 1e18\n",
      "/Users/myue/Research/Projects/JWST/dependencies/msa_spec_utils/LAE_spec_utils.py:471: RuntimeWarning: divide by zero encountered in divide\n",
      "  self.err_flam = self.err_fnu * (speed_of_light_angstrom / (self.wave)**2 * 1e-29 * 1e18)\n",
      "17:15 bilby INFO    : Running for label '3117_16972', output will be saved to '../../data/civ_saves/J1148/bilby_fit_civ_msaexp_pypeit_v2/'\n",
      "17:15 bilby INFO    : Search parameters:\n",
      "17:15 bilby INFO    :   center = Uniform(minimum=12220.127690541434, maximum=12269.106158238996, name='center', latex_label='center', unit=None, boundary=None)\n",
      "17:15 bilby INFO    :   fwhm = Uniform(minimum=300, maximum=1000, name='fwhm', latex_label='fwhm', unit=None, boundary=None)\n",
      "17:15 bilby INFO    :   flux = Uniform(minimum=-8.76993128542982, maximum=8.76993128542982, name='flux', latex_label='flux', unit=None, boundary=None)\n",
      "17:15 bilby INFO    :   A = Uniform(minimum=-0.04037413357973536, maximum=0.08074826715947073, name='A', latex_label='A', unit=None, boundary=None)\n",
      "17:15 bilby INFO    :   beta = Uniform(minimum=-4, maximum=2, name='beta', latex_label='beta', unit=None, boundary=None)\n",
      "17:15 bilby INFO    :   wave0 = 12244.616924390215\n",
      "17:15 bilby INFO    : Single likelihood evaluation took 3.341e-05 s\n"
     ]
    },
    {
     "data": {
      "application/vnd.jupyter.widget-view+json": {
       "model_id": "707142fa3db241dfb1b570c1603d139d",
       "version_major": 2,
       "version_minor": 0
      },
      "text/plain": [
       "0it [00:00, ?it/s]"
      ]
     },
     "metadata": {},
     "output_type": "display_data"
    },
    {
     "name": "stderr",
     "output_type": "stream",
     "text": [
      "17:15 bilby INFO    : Checkpoint every check_point_delta_t = 600s\n",
      "17:15 bilby WARNING : Using cached result\n",
      "17:15 bilby INFO    : Summary of results:\n",
      "nsamples: 2682\n",
      "ln_noise_evidence:    nan\n",
      "ln_evidence: 342.868 +/-  0.279\n",
      "ln_bayes_factor:    nan +/-  0.279\n",
      "\n",
      "/Users/myue/Research/Projects/JWST/dependencies/msa_spec_utils/LAE_spec_utils.py:464: RuntimeWarning: divide by zero encountered in power\n",
      "  self.err_fnu = (self.ivar_fnu)**-0.5\n",
      "/Users/myue/Research/Projects/JWST/dependencies/msa_spec_utils/LAE_spec_utils.py:470: RuntimeWarning: invalid value encountered in divide\n",
      "  self.flam = self.fnu * speed_of_light_angstrom / (self.wave)**2 * 1e-29 * 1e18\n",
      "/Users/myue/Research/Projects/JWST/dependencies/msa_spec_utils/LAE_spec_utils.py:471: RuntimeWarning: divide by zero encountered in divide\n",
      "  self.err_flam = self.err_fnu * (speed_of_light_angstrom / (self.wave)**2 * 1e-29 * 1e18)\n",
      "17:15 bilby INFO    : Running for label '3117_17076', output will be saved to '../../data/civ_saves/J1148/bilby_fit_civ_msaexp_pypeit_v2/'\n",
      "17:15 bilby INFO    : Search parameters:\n",
      "17:15 bilby INFO    :   center = Uniform(minimum=11521.971981277562, maximum=11568.152229699517, name='center', latex_label='center', unit=None, boundary=None)\n",
      "17:15 bilby INFO    :   fwhm = Uniform(minimum=300, maximum=1000, name='fwhm', latex_label='fwhm', unit=None, boundary=None)\n",
      "17:15 bilby INFO    :   flux = Uniform(minimum=-10.99729486505309, maximum=10.99729486505309, name='flux', latex_label='flux', unit=None, boundary=None)\n",
      "17:15 bilby INFO    :   A = Uniform(minimum=-0.05369598628699334, maximum=0.10739197257398668, name='A', latex_label='A', unit=None, boundary=None)\n",
      "17:15 bilby INFO    :   beta = Uniform(minimum=-4, maximum=2, name='beta', latex_label='beta', unit=None, boundary=None)\n",
      "17:15 bilby INFO    :   wave0 = 11545.06210548854\n",
      "17:15 bilby INFO    : Single likelihood evaluation took 4.447e-05 s\n"
     ]
    },
    {
     "data": {
      "application/vnd.jupyter.widget-view+json": {
       "model_id": "2487c94cda5e456499d34ffb8818a62a",
       "version_major": 2,
       "version_minor": 0
      },
      "text/plain": [
       "0it [00:00, ?it/s]"
      ]
     },
     "metadata": {},
     "output_type": "display_data"
    },
    {
     "name": "stderr",
     "output_type": "stream",
     "text": [
      "17:15 bilby INFO    : Checkpoint every check_point_delta_t = 600s\n",
      "17:15 bilby WARNING : Using cached result\n",
      "17:15 bilby INFO    : Summary of results:\n",
      "nsamples: 3745\n",
      "ln_noise_evidence:    nan\n",
      "ln_evidence: 318.293 +/-  0.358\n",
      "ln_bayes_factor:    nan +/-  0.358\n",
      "\n",
      "/Users/myue/Research/Projects/JWST/dependencies/msa_spec_utils/LAE_spec_utils.py:464: RuntimeWarning: divide by zero encountered in power\n",
      "  self.err_fnu = (self.ivar_fnu)**-0.5\n",
      "/Users/myue/Research/Projects/JWST/dependencies/msa_spec_utils/LAE_spec_utils.py:470: RuntimeWarning: invalid value encountered in divide\n",
      "  self.flam = self.fnu * speed_of_light_angstrom / (self.wave)**2 * 1e-29 * 1e18\n",
      "/Users/myue/Research/Projects/JWST/dependencies/msa_spec_utils/LAE_spec_utils.py:471: RuntimeWarning: divide by zero encountered in divide\n",
      "  self.err_flam = self.err_fnu * (speed_of_light_angstrom / (self.wave)**2 * 1e-29 * 1e18)\n",
      "17:15 bilby INFO    : Running for label '3117_17242', output will be saved to '../../data/civ_saves/J1148/bilby_fit_civ_msaexp_pypeit_v2/'\n",
      "17:15 bilby INFO    : Search parameters:\n",
      "17:15 bilby INFO    :   center = Uniform(minimum=12049.514598008405, maximum=12097.809245695815, name='center', latex_label='center', unit=None, boundary=None)\n",
      "17:15 bilby INFO    :   fwhm = Uniform(minimum=300, maximum=1000, name='fwhm', latex_label='fwhm', unit=None, boundary=None)\n",
      "17:15 bilby INFO    :   flux = Uniform(minimum=-10.995494678810715, maximum=10.995494678810715, name='flux', latex_label='flux', unit=None, boundary=None)\n",
      "17:15 bilby INFO    :   A = Uniform(minimum=-0.051336704889740396, maximum=0.10267340977948079, name='A', latex_label='A', unit=None, boundary=None)\n",
      "17:15 bilby INFO    :   beta = Uniform(minimum=-4, maximum=2, name='beta', latex_label='beta', unit=None, boundary=None)\n",
      "17:15 bilby INFO    :   wave0 = 12073.66192185211\n",
      "17:15 bilby INFO    : Single likelihood evaluation took 3.477e-05 s\n"
     ]
    },
    {
     "data": {
      "application/vnd.jupyter.widget-view+json": {
       "model_id": "bad140d366db485e82ce2a6a5e964e63",
       "version_major": 2,
       "version_minor": 0
      },
      "text/plain": [
       "0it [00:00, ?it/s]"
      ]
     },
     "metadata": {},
     "output_type": "display_data"
    },
    {
     "name": "stderr",
     "output_type": "stream",
     "text": [
      "17:15 bilby INFO    : Checkpoint every check_point_delta_t = 600s\n",
      "17:15 bilby WARNING : Using cached result\n",
      "17:15 bilby INFO    : Summary of results:\n",
      "nsamples: 2396\n",
      "ln_noise_evidence:    nan\n",
      "ln_evidence: 338.161 +/-  0.266\n",
      "ln_bayes_factor:    nan +/-  0.266\n",
      "\n",
      "/Users/myue/Research/Projects/JWST/dependencies/msa_spec_utils/LAE_spec_utils.py:464: RuntimeWarning: divide by zero encountered in power\n",
      "  self.err_fnu = (self.ivar_fnu)**-0.5\n",
      "/Users/myue/Research/Projects/JWST/dependencies/msa_spec_utils/LAE_spec_utils.py:470: RuntimeWarning: invalid value encountered in divide\n",
      "  self.flam = self.fnu * speed_of_light_angstrom / (self.wave)**2 * 1e-29 * 1e18\n",
      "/Users/myue/Research/Projects/JWST/dependencies/msa_spec_utils/LAE_spec_utils.py:471: RuntimeWarning: divide by zero encountered in divide\n",
      "  self.err_flam = self.err_fnu * (speed_of_light_angstrom / (self.wave)**2 * 1e-29 * 1e18)\n",
      "17:15 bilby INFO    : Running for label '3117_17783', output will be saved to '../../data/civ_saves/J1148/bilby_fit_civ_msaexp_pypeit_v2/'\n",
      "17:15 bilby INFO    : Search parameters:\n",
      "17:15 bilby INFO    :   center = Uniform(minimum=10706.579550090071, maximum=10749.4916925754, name='center', latex_label='center', unit=None, boundary=None)\n",
      "17:15 bilby INFO    :   fwhm = Uniform(minimum=300, maximum=1000, name='fwhm', latex_label='fwhm', unit=None, boundary=None)\n",
      "17:15 bilby INFO    :   flux = Uniform(minimum=-9.621178253610333, maximum=9.621178253610333, name='flux', latex_label='flux', unit=None, boundary=None)\n",
      "17:15 bilby INFO    :   A = Uniform(minimum=-0.050554553819911585, maximum=0.10110910763982317, name='A', latex_label='A', unit=None, boundary=None)\n",
      "17:15 bilby INFO    :   beta = Uniform(minimum=-4, maximum=2, name='beta', latex_label='beta', unit=None, boundary=None)\n",
      "17:15 bilby INFO    :   wave0 = 10728.035621332736\n",
      "17:15 bilby INFO    : Single likelihood evaluation took 3.351e-05 s\n"
     ]
    },
    {
     "data": {
      "application/vnd.jupyter.widget-view+json": {
       "model_id": "90e74376b7be4b93b3566b467fcfc370",
       "version_major": 2,
       "version_minor": 0
      },
      "text/plain": [
       "0it [00:00, ?it/s]"
      ]
     },
     "metadata": {},
     "output_type": "display_data"
    },
    {
     "name": "stderr",
     "output_type": "stream",
     "text": [
      "17:15 bilby INFO    : Checkpoint every check_point_delta_t = 600s\n",
      "17:15 bilby WARNING : Using cached result\n",
      "17:15 bilby INFO    : Summary of results:\n",
      "nsamples: 2320\n",
      "ln_noise_evidence:    nan\n",
      "ln_evidence: 276.270 +/-  0.254\n",
      "ln_bayes_factor:    nan +/-  0.254\n",
      "\n",
      "/Users/myue/Research/Projects/JWST/dependencies/msa_spec_utils/LAE_spec_utils.py:464: RuntimeWarning: divide by zero encountered in power\n",
      "  self.err_fnu = (self.ivar_fnu)**-0.5\n",
      "/Users/myue/Research/Projects/JWST/dependencies/msa_spec_utils/LAE_spec_utils.py:470: RuntimeWarning: invalid value encountered in divide\n",
      "  self.flam = self.fnu * speed_of_light_angstrom / (self.wave)**2 * 1e-29 * 1e18\n",
      "/Users/myue/Research/Projects/JWST/dependencies/msa_spec_utils/LAE_spec_utils.py:471: RuntimeWarning: divide by zero encountered in divide\n",
      "  self.err_flam = self.err_fnu * (speed_of_light_angstrom / (self.wave)**2 * 1e-29 * 1e18)\n",
      "17:15 bilby INFO    : Running for label '3117_18178', output will be saved to '../../data/civ_saves/J1148/bilby_fit_civ_msaexp_pypeit_v2/'\n",
      "17:15 bilby INFO    : Search parameters:\n",
      "17:15 bilby INFO    :   center = Uniform(minimum=10402.900312682508, maximum=10444.595303915703, name='center', latex_label='center', unit=None, boundary=None)\n",
      "17:15 bilby INFO    :   fwhm = Uniform(minimum=300, maximum=1000, name='fwhm', latex_label='fwhm', unit=None, boundary=None)\n",
      "17:15 bilby INFO    :   flux = Uniform(minimum=-14.308463482801576, maximum=14.308463482801576, name='flux', latex_label='flux', unit=None, boundary=None)\n",
      "17:15 bilby INFO    :   A = Uniform(minimum=-0.07737868263137418, maximum=0.15475736526274836, name='A', latex_label='A', unit=None, boundary=None)\n",
      "17:15 bilby INFO    :   beta = Uniform(minimum=-4, maximum=2, name='beta', latex_label='beta', unit=None, boundary=None)\n",
      "17:15 bilby INFO    :   wave0 = 10423.747808299106\n",
      "17:15 bilby INFO    : Single likelihood evaluation took 3.386e-05 s\n"
     ]
    },
    {
     "data": {
      "application/vnd.jupyter.widget-view+json": {
       "model_id": "ce4499be85314e7bbfab32dce48ba159",
       "version_major": 2,
       "version_minor": 0
      },
      "text/plain": [
       "0it [00:00, ?it/s]"
      ]
     },
     "metadata": {},
     "output_type": "display_data"
    },
    {
     "name": "stderr",
     "output_type": "stream",
     "text": [
      "17:15 bilby INFO    : Checkpoint every check_point_delta_t = 600s\n",
      "17:15 bilby WARNING : Using cached result\n",
      "17:15 bilby INFO    : Summary of results:\n",
      "nsamples: 3321\n",
      "ln_noise_evidence:    nan\n",
      "ln_evidence: 238.659 +/-  0.320\n",
      "ln_bayes_factor:    nan +/-  0.320\n",
      "\n",
      "/Users/myue/Research/Projects/JWST/dependencies/msa_spec_utils/LAE_spec_utils.py:464: RuntimeWarning: divide by zero encountered in power\n",
      "  self.err_fnu = (self.ivar_fnu)**-0.5\n",
      "/Users/myue/Research/Projects/JWST/dependencies/msa_spec_utils/LAE_spec_utils.py:470: RuntimeWarning: invalid value encountered in divide\n",
      "  self.flam = self.fnu * speed_of_light_angstrom / (self.wave)**2 * 1e-29 * 1e18\n",
      "/Users/myue/Research/Projects/JWST/dependencies/msa_spec_utils/LAE_spec_utils.py:471: RuntimeWarning: divide by zero encountered in divide\n",
      "  self.err_flam = self.err_fnu * (speed_of_light_angstrom / (self.wave)**2 * 1e-29 * 1e18)\n",
      "17:15 bilby INFO    : Running for label '3117_18852', output will be saved to '../../data/civ_saves/J1148/bilby_fit_civ_msaexp_pypeit_v2/'\n",
      "17:15 bilby INFO    : Search parameters:\n",
      "17:15 bilby INFO    :   center = Uniform(minimum=9953.668947395821, maximum=9993.563412114843, name='center', latex_label='center', unit=None, boundary=None)\n",
      "17:15 bilby INFO    :   fwhm = Uniform(minimum=300, maximum=1000, name='fwhm', latex_label='fwhm', unit=None, boundary=None)\n",
      "17:15 bilby INFO    :   flux = Uniform(minimum=-8.010040748403464, maximum=8.010040748403464, name='flux', latex_label='flux', unit=None, boundary=None)\n",
      "17:15 bilby INFO    :   A = Uniform(minimum=-0.05750890284157109, maximum=0.11501780568314218, name='A', latex_label='A', unit=None, boundary=None)\n",
      "17:15 bilby INFO    :   beta = Uniform(minimum=-4, maximum=2, name='beta', latex_label='beta', unit=None, boundary=None)\n",
      "17:15 bilby INFO    :   wave0 = 9973.616179755332\n",
      "17:15 bilby INFO    : Single likelihood evaluation took 3.420e-05 s\n"
     ]
    },
    {
     "data": {
      "application/vnd.jupyter.widget-view+json": {
       "model_id": "0444726cec864d3b8058cccef0bb44bc",
       "version_major": 2,
       "version_minor": 0
      },
      "text/plain": [
       "0it [00:00, ?it/s]"
      ]
     },
     "metadata": {},
     "output_type": "display_data"
    },
    {
     "name": "stderr",
     "output_type": "stream",
     "text": [
      "17:15 bilby INFO    : Checkpoint every check_point_delta_t = 600s\n",
      "17:15 bilby WARNING : Using cached result\n",
      "17:15 bilby INFO    : Summary of results:\n",
      "nsamples: 2132\n",
      "ln_noise_evidence:    nan\n",
      "ln_evidence: 244.668 +/-  0.243\n",
      "ln_bayes_factor:    nan +/-  0.243\n",
      "\n",
      "/Users/myue/Research/Projects/JWST/dependencies/msa_spec_utils/LAE_spec_utils.py:464: RuntimeWarning: divide by zero encountered in power\n",
      "  self.err_fnu = (self.ivar_fnu)**-0.5\n",
      "/Users/myue/Research/Projects/JWST/dependencies/msa_spec_utils/LAE_spec_utils.py:470: RuntimeWarning: invalid value encountered in divide\n",
      "  self.flam = self.fnu * speed_of_light_angstrom / (self.wave)**2 * 1e-29 * 1e18\n",
      "/Users/myue/Research/Projects/JWST/dependencies/msa_spec_utils/LAE_spec_utils.py:471: RuntimeWarning: divide by zero encountered in divide\n",
      "  self.err_flam = self.err_fnu * (speed_of_light_angstrom / (self.wave)**2 * 1e-29 * 1e18)\n",
      "17:15 bilby INFO    : Running for label '3117_19229', output will be saved to '../../data/civ_saves/J1148/bilby_fit_civ_msaexp_pypeit_v2/'\n",
      "17:15 bilby INFO    : Search parameters:\n",
      "17:15 bilby INFO    :   center = Uniform(minimum=11979.832221151648, maximum=12027.847580755462, name='center', latex_label='center', unit=None, boundary=None)\n",
      "17:15 bilby INFO    :   fwhm = Uniform(minimum=300, maximum=1000, name='fwhm', latex_label='fwhm', unit=None, boundary=None)\n",
      "17:15 bilby INFO    :   flux = Uniform(minimum=-6.2327697986577775, maximum=6.2327697986577775, name='flux', latex_label='flux', unit=None, boundary=None)\n",
      "17:15 bilby INFO    :   A = Uniform(minimum=-0.02926935284474359, maximum=0.05853870568948718, name='A', latex_label='A', unit=None, boundary=None)\n",
      "17:15 bilby INFO    :   beta = Uniform(minimum=-4, maximum=2, name='beta', latex_label='beta', unit=None, boundary=None)\n",
      "17:15 bilby INFO    :   wave0 = 12003.839900953555\n",
      "17:15 bilby INFO    : Single likelihood evaluation took 3.570e-05 s\n"
     ]
    },
    {
     "data": {
      "application/vnd.jupyter.widget-view+json": {
       "model_id": "27e064a335cd48e2b94fb320e6eadcf6",
       "version_major": 2,
       "version_minor": 0
      },
      "text/plain": [
       "0it [00:00, ?it/s]"
      ]
     },
     "metadata": {},
     "output_type": "display_data"
    },
    {
     "name": "stderr",
     "output_type": "stream",
     "text": [
      "17:15 bilby INFO    : Checkpoint every check_point_delta_t = 600s\n",
      "17:15 bilby WARNING : Using cached result\n",
      "17:15 bilby INFO    : Summary of results:\n",
      "nsamples: 2520\n",
      "ln_noise_evidence:    nan\n",
      "ln_evidence: 382.750 +/-  0.274\n",
      "ln_bayes_factor:    nan +/-  0.274\n",
      "\n",
      "/Users/myue/Research/Projects/JWST/dependencies/msa_spec_utils/LAE_spec_utils.py:464: RuntimeWarning: divide by zero encountered in power\n",
      "  self.err_fnu = (self.ivar_fnu)**-0.5\n",
      "/Users/myue/Research/Projects/JWST/dependencies/msa_spec_utils/LAE_spec_utils.py:470: RuntimeWarning: invalid value encountered in divide\n",
      "  self.flam = self.fnu * speed_of_light_angstrom / (self.wave)**2 * 1e-29 * 1e18\n",
      "/Users/myue/Research/Projects/JWST/dependencies/msa_spec_utils/LAE_spec_utils.py:471: RuntimeWarning: divide by zero encountered in divide\n",
      "  self.err_flam = self.err_fnu * (speed_of_light_angstrom / (self.wave)**2 * 1e-29 * 1e18)\n",
      "17:15 bilby INFO    : Running for label '3117_19514', output will be saved to '../../data/civ_saves/J1148/bilby_fit_civ_msaexp_pypeit_v2/'\n",
      "17:15 bilby INFO    : Search parameters:\n",
      "17:15 bilby INFO    :   center = Uniform(minimum=10336.441582404117, maximum=10377.870205980886, name='center', latex_label='center', unit=None, boundary=None)\n",
      "17:15 bilby INFO    :   fwhm = Uniform(minimum=300, maximum=1000, name='fwhm', latex_label='fwhm', unit=None, boundary=None)\n",
      "17:15 bilby INFO    :   flux = Uniform(minimum=-9.069254759536605, maximum=9.069254759536605, name='flux', latex_label='flux', unit=None, boundary=None)\n",
      "17:15 bilby INFO    :   A = Uniform(minimum=-0.04936092800902218, maximum=0.09872185601804435, name='A', latex_label='A', unit=None, boundary=None)\n",
      "17:15 bilby INFO    :   beta = Uniform(minimum=-4, maximum=2, name='beta', latex_label='beta', unit=None, boundary=None)\n",
      "17:15 bilby INFO    :   wave0 = 10357.155894192501\n",
      "17:15 bilby INFO    : Single likelihood evaluation took 3.902e-05 s\n"
     ]
    },
    {
     "data": {
      "application/vnd.jupyter.widget-view+json": {
       "model_id": "c4370182f7af4806a730aa2572cba48d",
       "version_major": 2,
       "version_minor": 0
      },
      "text/plain": [
       "0it [00:00, ?it/s]"
      ]
     },
     "metadata": {},
     "output_type": "display_data"
    },
    {
     "name": "stderr",
     "output_type": "stream",
     "text": [
      "17:15 bilby INFO    : Checkpoint every check_point_delta_t = 600s\n",
      "17:15 bilby WARNING : Using cached result\n",
      "17:15 bilby INFO    : Summary of results:\n",
      "nsamples: 2156\n",
      "ln_noise_evidence:    nan\n",
      "ln_evidence: 223.966 +/-  0.244\n",
      "ln_bayes_factor:    nan +/-  0.244\n",
      "\n",
      "/Users/myue/Research/Projects/JWST/dependencies/msa_spec_utils/LAE_spec_utils.py:464: RuntimeWarning: divide by zero encountered in power\n",
      "  self.err_fnu = (self.ivar_fnu)**-0.5\n",
      "/Users/myue/Research/Projects/JWST/dependencies/msa_spec_utils/LAE_spec_utils.py:470: RuntimeWarning: invalid value encountered in divide\n",
      "  self.flam = self.fnu * speed_of_light_angstrom / (self.wave)**2 * 1e-29 * 1e18\n",
      "/Users/myue/Research/Projects/JWST/dependencies/msa_spec_utils/LAE_spec_utils.py:471: RuntimeWarning: divide by zero encountered in divide\n",
      "  self.err_flam = self.err_fnu * (speed_of_light_angstrom / (self.wave)**2 * 1e-29 * 1e18)\n",
      "17:15 bilby INFO    : Running for label '3117_19692', output will be saved to '../../data/civ_saves/J1148/bilby_fit_civ_msaexp_pypeit_v2/'\n",
      "17:15 bilby INFO    : Search parameters:\n",
      "17:15 bilby INFO    :   center = Uniform(minimum=12215.049629426745, maximum=12264.007744173947, name='center', latex_label='center', unit=None, boundary=None)\n",
      "17:15 bilby INFO    :   fwhm = Uniform(minimum=300, maximum=1000, name='fwhm', latex_label='fwhm', unit=None, boundary=None)\n",
      "17:15 bilby INFO    :   flux = Uniform(minimum=-10.700603423987067, maximum=10.700603423987067, name='flux', latex_label='flux', unit=None, boundary=None)\n",
      "17:15 bilby INFO    :   A = Uniform(minimum=-0.04928284854226401, maximum=0.09856569708452802, name='A', latex_label='A', unit=None, boundary=None)\n",
      "17:15 bilby INFO    :   beta = Uniform(minimum=-4, maximum=2, name='beta', latex_label='beta', unit=None, boundary=None)\n",
      "17:15 bilby INFO    :   wave0 = 12239.528686800346\n",
      "17:15 bilby INFO    : Single likelihood evaluation took 3.536e-05 s\n"
     ]
    },
    {
     "data": {
      "application/vnd.jupyter.widget-view+json": {
       "model_id": "f5eaddb4b2b44950a860f311202924c1",
       "version_major": 2,
       "version_minor": 0
      },
      "text/plain": [
       "0it [00:00, ?it/s]"
      ]
     },
     "metadata": {},
     "output_type": "display_data"
    },
    {
     "name": "stderr",
     "output_type": "stream",
     "text": [
      "17:15 bilby INFO    : Checkpoint every check_point_delta_t = 600s\n",
      "17:15 bilby WARNING : Using cached result\n",
      "17:15 bilby INFO    : Summary of results:\n",
      "nsamples: 1544\n",
      "ln_noise_evidence:    nan\n",
      "ln_evidence: 130.400 +/-  0.183\n",
      "ln_bayes_factor:    nan +/-  0.183\n",
      "\n"
     ]
    },
    {
     "data": {
      "image/png": "[encoded data removed]",
      "text/plain": [
       "<Figure size 640x480 with 1 Axes>"
      ]
     },
     "metadata": {},
     "output_type": "display_data"
    }
   ],
   "source": [
    "\n",
    "outdir_msaexp = '../../data/civ_saves/J1148/bilby_fit_civ_msaexp_pypeit_v2/'\n",
    "outdir_plot = '../../data/civ_saves/J1148/plotfit_msaexp_pypeit/'\n",
    "selectidx_msaexp = []\n",
    "\n",
    "spec1ddir = os.path.abspath(f'../../../ID3117/pypeit-reduc/data-release-2/reduced_spec_msaexp_pypeit/')\n",
    "\n",
    "for index in range(len(lyainfo)):\n",
    "    \n",
    "    z = lyainfo['z_O3doublet_combined_n'][index]\n",
    "    isource = '3117_%d'%(lyainfo['NUMBER'][index])\n",
    "\n",
    "    # find the spec1d file\n",
    "    spec1dfile = os.path.join(spec1ddir,'spec1d_%s_stack.fits'%isource)\n",
    "    if not os.path.exists(spec1dfile):\n",
    "        spec1dfile = os.path.join(spec1ddir,'manu1d_%s_stack.fits'%isource)\n",
    "    if not os.path.exists(spec1dfile):\n",
    "        continue\n",
    "\n",
    "    label = isource\n",
    "    msaexp_spec = LAE.PypeItSpecStacked(filename=spec1dfile, zO3=z, outdir=outdir_msaexp, label=label)\n",
    "    \n",
    "    plot_info = dict(title=isource, bestfit=f'{outdir_plot}/bestfit/%s.pdf'%isource, \\\n",
    "                    corner=f'{outdir_plot}/corner/%s.pdf'%isource)\n",
    "\n",
    "    try:\n",
    "        msaexp_spec.fit_civ_profile_bilby()\n",
    "        msaexp_spec.plot_best_fit(plot_info, linename='civ')\n",
    "        msaexp_spec.plot_contour_fit(plot_info)\n",
    "    except LAE.LineNotCoveredError:\n",
    "        #print(isource)\n",
    "        pass\n",
    "        \n"
   ]
  },
  {
   "cell_type": "code",
   "execution_count": 12,
   "id": "b15d567a-eaa0-4f82-bb50-68a7790fabd8",
   "metadata": {},
   "outputs": [
    {
     "name": "stderr",
     "output_type": "stream",
     "text": [
      "/Users/myue/Research/Projects/JWST/dependencies/msa_spec_utils/LAE_spec_utils.py:464: RuntimeWarning: divide by zero encountered in power\n",
      "  self.err_fnu = (self.ivar_fnu)**-0.5\n",
      "/Users/myue/Research/Projects/JWST/dependencies/msa_spec_utils/LAE_spec_utils.py:470: RuntimeWarning: invalid value encountered in divide\n",
      "  self.flam = self.fnu * speed_of_light_angstrom / (self.wave)**2 * 1e-29 * 1e18\n",
      "/Users/myue/Research/Projects/JWST/dependencies/msa_spec_utils/LAE_spec_utils.py:471: RuntimeWarning: divide by zero encountered in divide\n",
      "  self.err_flam = self.err_fnu * (speed_of_light_angstrom / (self.wave)**2 * 1e-29 * 1e18)\n",
      "17:15 bilby INFO    : Running for label '3117_2429', output will be saved to '../../data/civ_saves/J1148/bilby_fit_civ_msaexp_pypeit_v2/'\n",
      "17:15 bilby INFO    : Search parameters:\n",
      "17:15 bilby INFO    :   center = Uniform(minimum=10172.416810211875, maximum=10213.188019872043, name='center', latex_label='center', unit=None, boundary=None)\n",
      "17:15 bilby INFO    :   fwhm = Uniform(minimum=300, maximum=1000, name='fwhm', latex_label='fwhm', unit=None, boundary=None)\n",
      "17:15 bilby INFO    :   flux = Uniform(minimum=-13.938826570391639, maximum=13.938826570391639, name='flux', latex_label='flux', unit=None, boundary=None)\n",
      "17:15 bilby INFO    :   A = Uniform(minimum=-0.07708765534507894, maximum=0.15417531069015789, name='A', latex_label='A', unit=None, boundary=None)\n",
      "17:15 bilby INFO    :   beta = Uniform(minimum=-4, maximum=2, name='beta', latex_label='beta', unit=None, boundary=None)\n",
      "17:15 bilby INFO    :   wave0 = 10192.802415041959\n",
      "17:15 bilby INFO    : Single likelihood evaluation took 9.421e-05 s\n"
     ]
    },
    {
     "data": {
      "application/vnd.jupyter.widget-view+json": {
       "model_id": "877775677f1f4599ad7036f2cd765b46",
       "version_major": 2,
       "version_minor": 0
      },
      "text/plain": [
       "0it [00:00, ?it/s]"
      ]
     },
     "metadata": {},
     "output_type": "display_data"
    },
    {
     "name": "stderr",
     "output_type": "stream",
     "text": [
      "17:15 bilby INFO    : Checkpoint every check_point_delta_t = 600s\n",
      "17:15 bilby WARNING : Using cached result\n",
      "17:15 bilby INFO    : Summary of results:\n",
      "nsamples: 2602\n",
      "ln_noise_evidence:    nan\n",
      "ln_evidence: 232.726 +/-  0.274\n",
      "ln_bayes_factor:    nan +/-  0.274\n",
      "\n",
      "/Users/myue/Research/Projects/JWST/dependencies/msa_spec_utils/LAE_spec_utils.py:464: RuntimeWarning: divide by zero encountered in power\n",
      "  self.err_fnu = (self.ivar_fnu)**-0.5\n",
      "/Users/myue/Research/Projects/JWST/dependencies/msa_spec_utils/LAE_spec_utils.py:470: RuntimeWarning: invalid value encountered in divide\n",
      "  self.flam = self.fnu * speed_of_light_angstrom / (self.wave)**2 * 1e-29 * 1e18\n",
      "/Users/myue/Research/Projects/JWST/dependencies/msa_spec_utils/LAE_spec_utils.py:471: RuntimeWarning: divide by zero encountered in divide\n",
      "  self.err_flam = self.err_fnu * (speed_of_light_angstrom / (self.wave)**2 * 1e-29 * 1e18)\n",
      "17:15 bilby INFO    : Running for label '3117_2637', output will be saved to '../../data/civ_saves/J1148/bilby_fit_civ_msaexp_pypeit_v2/'\n",
      "17:15 bilby INFO    : Search parameters:\n",
      "17:15 bilby INFO    :   center = Uniform(minimum=10878.779960718217, maximum=10922.382285210075, name='center', latex_label='center', unit=None, boundary=None)\n",
      "17:15 bilby INFO    :   fwhm = Uniform(minimum=300, maximum=1000, name='fwhm', latex_label='fwhm', unit=None, boundary=None)\n",
      "17:15 bilby INFO    :   flux = Uniform(minimum=-12.395414847475848, maximum=12.395414847475848, name='flux', latex_label='flux', unit=None, boundary=None)\n",
      "17:15 bilby INFO    :   A = Uniform(minimum=-0.06410082847067813, maximum=0.12820165694135627, name='A', latex_label='A', unit=None, boundary=None)\n",
      "17:15 bilby INFO    :   beta = Uniform(minimum=-4, maximum=2, name='beta', latex_label='beta', unit=None, boundary=None)\n",
      "17:15 bilby INFO    :   wave0 = 10900.581122964146\n",
      "17:15 bilby INFO    : Single likelihood evaluation took 3.966e-05 s\n"
     ]
    },
    {
     "data": {
      "application/vnd.jupyter.widget-view+json": {
       "model_id": "c196410f2647412ba52582f7f3171341",
       "version_major": 2,
       "version_minor": 0
      },
      "text/plain": [
       "0it [00:00, ?it/s]"
      ]
     },
     "metadata": {},
     "output_type": "display_data"
    },
    {
     "name": "stderr",
     "output_type": "stream",
     "text": [
      "17:15 bilby INFO    : Checkpoint every check_point_delta_t = 600s\n",
      "17:15 bilby WARNING : Using cached result\n",
      "17:15 bilby INFO    : Summary of results:\n",
      "nsamples: 2760\n",
      "ln_noise_evidence:    nan\n",
      "ln_evidence: 306.944 +/-  0.296\n",
      "ln_bayes_factor:    nan +/-  0.296\n",
      "\n",
      "/Users/myue/Research/Projects/JWST/dependencies/msa_spec_utils/LAE_spec_utils.py:464: RuntimeWarning: divide by zero encountered in power\n",
      "  self.err_fnu = (self.ivar_fnu)**-0.5\n",
      "/Users/myue/Research/Projects/JWST/dependencies/msa_spec_utils/LAE_spec_utils.py:470: RuntimeWarning: invalid value encountered in divide\n",
      "  self.flam = self.fnu * speed_of_light_angstrom / (self.wave)**2 * 1e-29 * 1e18\n",
      "/Users/myue/Research/Projects/JWST/dependencies/msa_spec_utils/LAE_spec_utils.py:471: RuntimeWarning: divide by zero encountered in divide\n",
      "  self.err_flam = self.err_fnu * (speed_of_light_angstrom / (self.wave)**2 * 1e-29 * 1e18)\n",
      "17:15 bilby INFO    : Running for label '3117_3052', output will be saved to '../../data/civ_saves/J1148/bilby_fit_civ_msaexp_pypeit_v2/'\n",
      "17:15 bilby INFO    : Search parameters:\n",
      "17:15 bilby INFO    :   center = Uniform(minimum=11578.471856941555, maximum=11624.87855777098, name='center', latex_label='center', unit=None, boundary=None)\n",
      "17:15 bilby INFO    :   fwhm = Uniform(minimum=300, maximum=1000, name='fwhm', latex_label='fwhm', unit=None, boundary=None)\n",
      "17:15 bilby INFO    :   flux = Uniform(minimum=-7.771743940613046, maximum=7.771743940613046, name='flux', latex_label='flux', unit=None, boundary=None)\n",
      "17:15 bilby INFO    :   A = Uniform(minimum=-0.14586054587626504, maximum=0.2917210917525301, name='A', latex_label='A', unit=None, boundary=None)\n",
      "17:15 bilby INFO    :   beta = Uniform(minimum=-4, maximum=2, name='beta', latex_label='beta', unit=None, boundary=None)\n",
      "17:15 bilby INFO    :   wave0 = 11601.675207356267\n",
      "17:15 bilby INFO    : Single likelihood evaluation took 4.163e-05 s\n"
     ]
    },
    {
     "data": {
      "application/vnd.jupyter.widget-view+json": {
       "model_id": "87af09983cb741e3b245d58baeba1e66",
       "version_major": 2,
       "version_minor": 0
      },
      "text/plain": [
       "0it [00:00, ?it/s]"
      ]
     },
     "metadata": {},
     "output_type": "display_data"
    },
    {
     "name": "stderr",
     "output_type": "stream",
     "text": [
      "17:15 bilby INFO    : Checkpoint every check_point_delta_t = 600s\n",
      "17:15 bilby WARNING : Using cached result\n",
      "17:15 bilby INFO    : Summary of results:\n",
      "nsamples: 2535\n",
      "ln_noise_evidence:    nan\n",
      "ln_evidence: 209.472 +/-  0.277\n",
      "ln_bayes_factor:    nan +/-  0.277\n",
      "\n",
      "/Users/myue/Research/Projects/JWST/dependencies/msa_spec_utils/LAE_spec_utils.py:464: RuntimeWarning: divide by zero encountered in power\n",
      "  self.err_fnu = (self.ivar_fnu)**-0.5\n",
      "/Users/myue/Research/Projects/JWST/dependencies/msa_spec_utils/LAE_spec_utils.py:470: RuntimeWarning: invalid value encountered in divide\n",
      "  self.flam = self.fnu * speed_of_light_angstrom / (self.wave)**2 * 1e-29 * 1e18\n",
      "/Users/myue/Research/Projects/JWST/dependencies/msa_spec_utils/LAE_spec_utils.py:471: RuntimeWarning: divide by zero encountered in divide\n",
      "  self.err_flam = self.err_fnu * (speed_of_light_angstrom / (self.wave)**2 * 1e-29 * 1e18)\n",
      "17:15 bilby INFO    : Running for label '3117_3391', output will be saved to '../../data/civ_saves/J1148/bilby_fit_civ_msaexp_pypeit_v2/'\n",
      "17:15 bilby INFO    : Search parameters:\n",
      "17:15 bilby INFO    :   center = Uniform(minimum=10937.429722055585, maximum=10981.26711573116, name='center', latex_label='center', unit=None, boundary=None)\n",
      "17:15 bilby INFO    :   fwhm = Uniform(minimum=300, maximum=1000, name='fwhm', latex_label='fwhm', unit=None, boundary=None)\n",
      "17:15 bilby INFO    :   flux = Uniform(minimum=-13.597893086565255, maximum=13.597893086565255, name='flux', latex_label='flux', unit=None, boundary=None)\n",
      "17:15 bilby INFO    :   A = Uniform(minimum=-0.06994217212981742, maximum=0.13988434425963484, name='A', latex_label='A', unit=None, boundary=None)\n",
      "17:15 bilby INFO    :   beta = Uniform(minimum=-4, maximum=2, name='beta', latex_label='beta', unit=None, boundary=None)\n",
      "17:15 bilby INFO    :   wave0 = 10959.348418893373\n",
      "17:15 bilby INFO    : Single likelihood evaluation took 3.803e-05 s\n"
     ]
    },
    {
     "data": {
      "application/vnd.jupyter.widget-view+json": {
       "model_id": "d07742a0bf8a4ef9b6f43627160fd011",
       "version_major": 2,
       "version_minor": 0
      },
      "text/plain": [
       "0it [00:00, ?it/s]"
      ]
     },
     "metadata": {},
     "output_type": "display_data"
    },
    {
     "name": "stderr",
     "output_type": "stream",
     "text": [
      "17:15 bilby INFO    : Checkpoint every check_point_delta_t = 600s\n",
      "17:15 bilby WARNING : Using cached result\n",
      "17:15 bilby INFO    : Summary of results:\n",
      "nsamples: 2733\n",
      "ln_noise_evidence:    nan\n",
      "ln_evidence: 262.836 +/-  0.289\n",
      "ln_bayes_factor:    nan +/-  0.289\n",
      "\n",
      "/Users/myue/Research/Projects/JWST/dependencies/msa_spec_utils/LAE_spec_utils.py:464: RuntimeWarning: divide by zero encountered in power\n",
      "  self.err_fnu = (self.ivar_fnu)**-0.5\n",
      "/Users/myue/Research/Projects/JWST/dependencies/msa_spec_utils/LAE_spec_utils.py:470: RuntimeWarning: invalid value encountered in divide\n",
      "  self.flam = self.fnu * speed_of_light_angstrom / (self.wave)**2 * 1e-29 * 1e18\n",
      "/Users/myue/Research/Projects/JWST/dependencies/msa_spec_utils/LAE_spec_utils.py:471: RuntimeWarning: divide by zero encountered in divide\n",
      "  self.err_flam = self.err_fnu * (speed_of_light_angstrom / (self.wave)**2 * 1e-29 * 1e18)\n",
      "17:15 bilby INFO    : Running for label '3117_3461', output will be saved to '../../data/civ_saves/J1148/bilby_fit_civ_msaexp_pypeit_v2/'\n",
      "17:15 bilby INFO    : Search parameters:\n",
      "17:15 bilby INFO    :   center = Uniform(minimum=10881.011623506209, maximum=10924.622892538297, name='center', latex_label='center', unit=None, boundary=None)\n",
      "17:15 bilby INFO    :   fwhm = Uniform(minimum=300, maximum=1000, name='fwhm', latex_label='fwhm', unit=None, boundary=None)\n",
      "17:15 bilby INFO    :   flux = Uniform(minimum=-11.098210187949649, maximum=11.098210187949649, name='flux', latex_label='flux', unit=None, boundary=None)\n",
      "17:15 bilby INFO    :   A = Uniform(minimum=-0.057380779056015525, maximum=0.11476155811203105, name='A', latex_label='A', unit=None, boundary=None)\n",
      "17:15 bilby INFO    :   beta = Uniform(minimum=-4, maximum=2, name='beta', latex_label='beta', unit=None, boundary=None)\n",
      "17:15 bilby INFO    :   wave0 = 10902.817258022253\n",
      "17:15 bilby INFO    : Single likelihood evaluation took 3.776e-05 s\n"
     ]
    },
    {
     "data": {
      "application/vnd.jupyter.widget-view+json": {
       "model_id": "155ab75e2c864a81a04331d13b8cb24c",
       "version_major": 2,
       "version_minor": 0
      },
      "text/plain": [
       "0it [00:00, ?it/s]"
      ]
     },
     "metadata": {},
     "output_type": "display_data"
    },
    {
     "name": "stderr",
     "output_type": "stream",
     "text": [
      "17:15 bilby INFO    : Checkpoint every check_point_delta_t = 600s\n",
      "17:15 bilby WARNING : Using cached result\n",
      "17:15 bilby INFO    : Summary of results:\n",
      "nsamples: 2337\n",
      "ln_noise_evidence:    nan\n",
      "ln_evidence: 298.258 +/-  0.264\n",
      "ln_bayes_factor:    nan +/-  0.264\n",
      "\n",
      "/Users/myue/Research/Projects/JWST/dependencies/msa_spec_utils/LAE_spec_utils.py:464: RuntimeWarning: divide by zero encountered in power\n",
      "  self.err_fnu = (self.ivar_fnu)**-0.5\n",
      "/Users/myue/Research/Projects/JWST/dependencies/msa_spec_utils/LAE_spec_utils.py:470: RuntimeWarning: invalid value encountered in divide\n",
      "  self.flam = self.fnu * speed_of_light_angstrom / (self.wave)**2 * 1e-29 * 1e18\n",
      "/Users/myue/Research/Projects/JWST/dependencies/msa_spec_utils/LAE_spec_utils.py:471: RuntimeWarning: divide by zero encountered in divide\n",
      "  self.err_flam = self.err_fnu * (speed_of_light_angstrom / (self.wave)**2 * 1e-29 * 1e18)\n",
      "17:15 bilby INFO    : Running for label '3117_3607', output will be saved to '../../data/civ_saves/J1148/bilby_fit_civ_msaexp_pypeit_v2/'\n",
      "17:15 bilby INFO    : Search parameters:\n",
      "17:15 bilby INFO    :   center = Uniform(minimum=9969.879490498133, maximum=10009.838927333796, name='center', latex_label='center', unit=None, boundary=None)\n",
      "17:15 bilby INFO    :   fwhm = Uniform(minimum=300, maximum=1000, name='fwhm', latex_label='fwhm', unit=None, boundary=None)\n",
      "17:15 bilby INFO    :   flux = Uniform(minimum=-30.964327801179238, maximum=30.964327801179238, name='flux', latex_label='flux', unit=None, boundary=None)\n",
      "17:15 bilby INFO    :   A = Uniform(minimum=-0.17472478571304384, maximum=0.3494495714260877, name='A', latex_label='A', unit=None, boundary=None)\n",
      "17:15 bilby INFO    :   beta = Uniform(minimum=-4, maximum=2, name='beta', latex_label='beta', unit=None, boundary=None)\n",
      "17:15 bilby INFO    :   wave0 = 9989.859208915965\n",
      "17:15 bilby INFO    : Single likelihood evaluation took 4.001e-05 s\n"
     ]
    },
    {
     "data": {
      "application/vnd.jupyter.widget-view+json": {
       "model_id": "8e5cdf6c578a484894b550d1a58068a8",
       "version_major": 2,
       "version_minor": 0
      },
      "text/plain": [
       "0it [00:00, ?it/s]"
      ]
     },
     "metadata": {},
     "output_type": "display_data"
    },
    {
     "name": "stderr",
     "output_type": "stream",
     "text": [
      "17:15 bilby INFO    : Checkpoint every check_point_delta_t = 600s\n",
      "17:15 bilby WARNING : Using cached result\n",
      "17:15 bilby INFO    : Summary of results:\n",
      "nsamples: 3196\n",
      "ln_noise_evidence:    nan\n",
      "ln_evidence: 213.522 +/-  0.330\n",
      "ln_bayes_factor:    nan +/-  0.330\n",
      "\n",
      "/Users/myue/Research/Projects/JWST/dependencies/msa_spec_utils/LAE_spec_utils.py:464: RuntimeWarning: divide by zero encountered in power\n",
      "  self.err_fnu = (self.ivar_fnu)**-0.5\n",
      "/Users/myue/Research/Projects/JWST/dependencies/msa_spec_utils/LAE_spec_utils.py:470: RuntimeWarning: invalid value encountered in divide\n",
      "  self.flam = self.fnu * speed_of_light_angstrom / (self.wave)**2 * 1e-29 * 1e18\n",
      "/Users/myue/Research/Projects/JWST/dependencies/msa_spec_utils/LAE_spec_utils.py:471: RuntimeWarning: divide by zero encountered in divide\n",
      "  self.err_flam = self.err_fnu * (speed_of_light_angstrom / (self.wave)**2 * 1e-29 * 1e18)\n",
      "17:15 bilby INFO    : Running for label '3117_3608', output will be saved to '../../data/civ_saves/J1148/bilby_fit_civ_msaexp_pypeit_v2/'\n",
      "17:15 bilby INFO    : Search parameters:\n",
      "17:15 bilby INFO    :   center = Uniform(minimum=10885.920124299006, maximum=10929.551066680964, name='center', latex_label='center', unit=None, boundary=None)\n",
      "17:15 bilby INFO    :   fwhm = Uniform(minimum=300, maximum=1000, name='fwhm', latex_label='fwhm', unit=None, boundary=None)\n",
      "17:15 bilby INFO    :   flux = Uniform(minimum=-10.167602005935535, maximum=10.167602005935535, name='flux', latex_label='flux', unit=None, boundary=None)\n",
      "17:15 bilby INFO    :   A = Uniform(minimum=-0.05254557680434394, maximum=0.10509115360868788, name='A', latex_label='A', unit=None, boundary=None)\n",
      "17:15 bilby INFO    :   beta = Uniform(minimum=-4, maximum=2, name='beta', latex_label='beta', unit=None, boundary=None)\n",
      "17:15 bilby INFO    :   wave0 = 10907.735595489985\n",
      "17:15 bilby INFO    : Single likelihood evaluation took 4.178e-05 s\n"
     ]
    },
    {
     "data": {
      "application/vnd.jupyter.widget-view+json": {
       "model_id": "f1275eab696b49cfacc31c9f82dbeaad",
       "version_major": 2,
       "version_minor": 0
      },
      "text/plain": [
       "0it [00:00, ?it/s]"
      ]
     },
     "metadata": {},
     "output_type": "display_data"
    },
    {
     "name": "stderr",
     "output_type": "stream",
     "text": [
      "17:15 bilby INFO    : Checkpoint every check_point_delta_t = 600s\n",
      "17:15 bilby WARNING : Using cached result\n",
      "17:15 bilby INFO    : Summary of results:\n",
      "nsamples: 2368\n",
      "ln_noise_evidence:    nan\n",
      "ln_evidence: 282.873 +/-  0.259\n",
      "ln_bayes_factor:    nan +/-  0.259\n",
      "\n",
      "/Users/myue/Research/Projects/JWST/dependencies/msa_spec_utils/LAE_spec_utils.py:464: RuntimeWarning: divide by zero encountered in power\n",
      "  self.err_fnu = (self.ivar_fnu)**-0.5\n",
      "/Users/myue/Research/Projects/JWST/dependencies/msa_spec_utils/LAE_spec_utils.py:470: RuntimeWarning: invalid value encountered in divide\n",
      "  self.flam = self.fnu * speed_of_light_angstrom / (self.wave)**2 * 1e-29 * 1e18\n",
      "/Users/myue/Research/Projects/JWST/dependencies/msa_spec_utils/LAE_spec_utils.py:471: RuntimeWarning: divide by zero encountered in divide\n",
      "  self.err_flam = self.err_fnu * (speed_of_light_angstrom / (self.wave)**2 * 1e-29 * 1e18)\n",
      "17:15 bilby INFO    : Running for label '3117_3609', output will be saved to '../../data/civ_saves/J1148/bilby_fit_civ_msaexp_pypeit_v2/'\n",
      "17:15 bilby INFO    : Search parameters:\n",
      "17:15 bilby INFO    :   center = Uniform(minimum=12225.170084154133, maximum=12274.168761846135, name='center', latex_label='center', unit=None, boundary=None)\n",
      "17:15 bilby INFO    :   fwhm = Uniform(minimum=300, maximum=1000, name='fwhm', latex_label='fwhm', unit=None, boundary=None)\n",
      "17:15 bilby INFO    :   flux = Uniform(minimum=-7.895756244832754, maximum=7.895756244832754, name='flux', latex_label='flux', unit=None, boundary=None)\n",
      "17:15 bilby INFO    :   A = Uniform(minimum=-0.03633470105892712, maximum=0.07266940211785423, name='A', latex_label='A', unit=None, boundary=None)\n",
      "17:15 bilby INFO    :   beta = Uniform(minimum=-4, maximum=2, name='beta', latex_label='beta', unit=None, boundary=None)\n",
      "17:15 bilby INFO    :   wave0 = 12249.669423000134\n",
      "17:15 bilby INFO    : Single likelihood evaluation took 4.035e-05 s\n"
     ]
    },
    {
     "data": {
      "application/vnd.jupyter.widget-view+json": {
       "model_id": "7ead9df369c342c798f1107157f4a7e1",
       "version_major": 2,
       "version_minor": 0
      },
      "text/plain": [
       "0it [00:00, ?it/s]"
      ]
     },
     "metadata": {},
     "output_type": "display_data"
    },
    {
     "name": "stderr",
     "output_type": "stream",
     "text": [
      "17:15 bilby INFO    : Checkpoint every check_point_delta_t = 600s\n",
      "17:15 bilby WARNING : Using cached result\n",
      "17:15 bilby INFO    : Summary of results:\n",
      "nsamples: 2412\n",
      "ln_noise_evidence:    nan\n",
      "ln_evidence: 372.317 +/-  0.259\n",
      "ln_bayes_factor:    nan +/-  0.259\n",
      "\n",
      "/Users/myue/Research/Projects/JWST/dependencies/msa_spec_utils/LAE_spec_utils.py:464: RuntimeWarning: divide by zero encountered in power\n",
      "  self.err_fnu = (self.ivar_fnu)**-0.5\n",
      "/Users/myue/Research/Projects/JWST/dependencies/msa_spec_utils/LAE_spec_utils.py:470: RuntimeWarning: invalid value encountered in divide\n",
      "  self.flam = self.fnu * speed_of_light_angstrom / (self.wave)**2 * 1e-29 * 1e18\n",
      "/Users/myue/Research/Projects/JWST/dependencies/msa_spec_utils/LAE_spec_utils.py:471: RuntimeWarning: divide by zero encountered in divide\n",
      "  self.err_flam = self.err_fnu * (speed_of_light_angstrom / (self.wave)**2 * 1e-29 * 1e18)\n",
      "17:15 bilby INFO    : Running for label '3117_3781', output will be saved to '../../data/civ_saves/J1148/bilby_fit_civ_msaexp_pypeit_v2/'\n",
      "17:15 bilby INFO    : Search parameters:\n",
      "17:15 bilby INFO    :   center = Uniform(minimum=10703.237761914308, maximum=10746.136510459055, name='center', latex_label='center', unit=None, boundary=None)\n",
      "17:15 bilby INFO    :   fwhm = Uniform(minimum=300, maximum=1000, name='fwhm', latex_label='fwhm', unit=None, boundary=None)\n",
      "17:15 bilby INFO    :   flux = Uniform(minimum=-16.221881655020276, maximum=16.221881655020276, name='flux', latex_label='flux', unit=None, boundary=None)\n",
      "17:15 bilby INFO    :   A = Uniform(minimum=-0.08526461290345741, maximum=0.17052922580691482, name='A', latex_label='A', unit=None, boundary=None)\n",
      "17:15 bilby INFO    :   beta = Uniform(minimum=-4, maximum=2, name='beta', latex_label='beta', unit=None, boundary=None)\n",
      "17:15 bilby INFO    :   wave0 = 10724.687136186682\n",
      "17:15 bilby INFO    : Single likelihood evaluation took 3.630e-05 s\n"
     ]
    },
    {
     "data": {
      "application/vnd.jupyter.widget-view+json": {
       "model_id": "23c6efac159d419b96f68e86a8520360",
       "version_major": 2,
       "version_minor": 0
      },
      "text/plain": [
       "0it [00:00, ?it/s]"
      ]
     },
     "metadata": {},
     "output_type": "display_data"
    },
    {
     "name": "stderr",
     "output_type": "stream",
     "text": [
      "17:15 bilby INFO    : Checkpoint every check_point_delta_t = 600s\n",
      "17:15 bilby WARNING : Using cached result\n",
      "17:15 bilby INFO    : Summary of results:\n",
      "nsamples: 2520\n",
      "ln_noise_evidence:    nan\n",
      "ln_evidence: 268.869 +/-  0.278\n",
      "ln_bayes_factor:    nan +/-  0.278\n",
      "\n",
      "/Users/myue/Research/Projects/JWST/dependencies/msa_spec_utils/LAE_spec_utils.py:464: RuntimeWarning: divide by zero encountered in power\n",
      "  self.err_fnu = (self.ivar_fnu)**-0.5\n",
      "/Users/myue/Research/Projects/JWST/dependencies/msa_spec_utils/LAE_spec_utils.py:470: RuntimeWarning: invalid value encountered in divide\n",
      "  self.flam = self.fnu * speed_of_light_angstrom / (self.wave)**2 * 1e-29 * 1e18\n",
      "/Users/myue/Research/Projects/JWST/dependencies/msa_spec_utils/LAE_spec_utils.py:471: RuntimeWarning: divide by zero encountered in divide\n",
      "  self.err_flam = self.err_fnu * (speed_of_light_angstrom / (self.wave)**2 * 1e-29 * 1e18)\n",
      "17:15 bilby INFO    : Running for label '3117_3822', output will be saved to '../../data/civ_saves/J1148/bilby_fit_civ_msaexp_pypeit_v2/'\n",
      "17:15 bilby INFO    : Search parameters:\n",
      "17:15 bilby INFO    :   center = Uniform(minimum=11400.93418626831, maximum=11446.629313267382, name='center', latex_label='center', unit=None, boundary=None)\n",
      "17:15 bilby INFO    :   fwhm = Uniform(minimum=300, maximum=1000, name='fwhm', latex_label='fwhm', unit=None, boundary=None)\n",
      "17:15 bilby INFO    :   flux = Uniform(minimum=-5.950261345525599, maximum=5.950261345525599, name='flux', latex_label='flux', unit=None, boundary=None)\n",
      "17:15 bilby INFO    :   A = Uniform(minimum=-0.02936150896874606, maximum=0.05872301793749212, name='A', latex_label='A', unit=None, boundary=None)\n",
      "17:15 bilby INFO    :   beta = Uniform(minimum=-4, maximum=2, name='beta', latex_label='beta', unit=None, boundary=None)\n",
      "17:15 bilby INFO    :   wave0 = 11423.781749767846\n",
      "17:15 bilby INFO    : Single likelihood evaluation took 3.731e-05 s\n"
     ]
    },
    {
     "data": {
      "application/vnd.jupyter.widget-view+json": {
       "model_id": "e20601a4c3b447129df9b5d456ccfdef",
       "version_major": 2,
       "version_minor": 0
      },
      "text/plain": [
       "0it [00:00, ?it/s]"
      ]
     },
     "metadata": {},
     "output_type": "display_data"
    },
    {
     "name": "stderr",
     "output_type": "stream",
     "text": [
      "17:15 bilby INFO    : Checkpoint every check_point_delta_t = 600s\n",
      "17:15 bilby WARNING : Using cached result\n",
      "17:15 bilby INFO    : Summary of results:\n",
      "nsamples: 2263\n",
      "ln_noise_evidence:    nan\n",
      "ln_evidence: 348.229 +/-  0.254\n",
      "ln_bayes_factor:    nan +/-  0.254\n",
      "\n",
      "/Users/myue/Research/Projects/JWST/dependencies/msa_spec_utils/LAE_spec_utils.py:464: RuntimeWarning: divide by zero encountered in power\n",
      "  self.err_fnu = (self.ivar_fnu)**-0.5\n",
      "/Users/myue/Research/Projects/JWST/dependencies/msa_spec_utils/LAE_spec_utils.py:470: RuntimeWarning: invalid value encountered in divide\n",
      "  self.flam = self.fnu * speed_of_light_angstrom / (self.wave)**2 * 1e-29 * 1e18\n",
      "/Users/myue/Research/Projects/JWST/dependencies/msa_spec_utils/LAE_spec_utils.py:471: RuntimeWarning: divide by zero encountered in divide\n",
      "  self.err_flam = self.err_fnu * (speed_of_light_angstrom / (self.wave)**2 * 1e-29 * 1e18)\n",
      "17:15 bilby INFO    : Running for label '3117_4246', output will be saved to '../../data/civ_saves/J1148/bilby_fit_civ_msaexp_pypeit_v2/'\n",
      "17:15 bilby INFO    : Search parameters:\n",
      "17:15 bilby INFO    :   center = Uniform(minimum=11570.525877901031, maximum=11616.90073111907, name='center', latex_label='center', unit=None, boundary=None)\n",
      "17:15 bilby INFO    :   fwhm = Uniform(minimum=300, maximum=1000, name='fwhm', latex_label='fwhm', unit=None, boundary=None)\n",
      "17:15 bilby INFO    :   flux = Uniform(minimum=-10.535716558575526, maximum=10.535716558575526, name='flux', latex_label='flux', unit=None, boundary=None)\n",
      "17:15 bilby INFO    :   A = Uniform(minimum=-0.051226389730643564, maximum=0.10245277946128713, name='A', latex_label='A', unit=None, boundary=None)\n",
      "17:15 bilby INFO    :   beta = Uniform(minimum=-4, maximum=2, name='beta', latex_label='beta', unit=None, boundary=None)\n",
      "17:15 bilby INFO    :   wave0 = 11593.71330451005\n",
      "17:15 bilby INFO    : Single likelihood evaluation took 3.997e-05 s\n"
     ]
    },
    {
     "data": {
      "application/vnd.jupyter.widget-view+json": {
       "model_id": "9f912b0564804babbcf155d6948ca2a0",
       "version_major": 2,
       "version_minor": 0
      },
      "text/plain": [
       "0it [00:00, ?it/s]"
      ]
     },
     "metadata": {},
     "output_type": "display_data"
    },
    {
     "name": "stderr",
     "output_type": "stream",
     "text": [
      "17:15 bilby INFO    : Checkpoint every check_point_delta_t = 600s\n",
      "17:15 bilby WARNING : Using cached result\n",
      "17:15 bilby INFO    : Summary of results:\n",
      "nsamples: 2260\n",
      "ln_noise_evidence:    nan\n",
      "ln_evidence: 317.505 +/-  0.255\n",
      "ln_bayes_factor:    nan +/-  0.255\n",
      "\n",
      "/Users/myue/Research/Projects/JWST/dependencies/msa_spec_utils/LAE_spec_utils.py:464: RuntimeWarning: divide by zero encountered in power\n",
      "  self.err_fnu = (self.ivar_fnu)**-0.5\n",
      "/Users/myue/Research/Projects/JWST/dependencies/msa_spec_utils/LAE_spec_utils.py:470: RuntimeWarning: invalid value encountered in divide\n",
      "  self.flam = self.fnu * speed_of_light_angstrom / (self.wave)**2 * 1e-29 * 1e18\n",
      "/Users/myue/Research/Projects/JWST/dependencies/msa_spec_utils/LAE_spec_utils.py:471: RuntimeWarning: divide by zero encountered in divide\n",
      "  self.err_flam = self.err_fnu * (speed_of_light_angstrom / (self.wave)**2 * 1e-29 * 1e18)\n",
      "17:15 bilby INFO    : Running for label '3117_4376', output will be saved to '../../data/civ_saves/J1148/bilby_fit_civ_msaexp_pypeit_v2/'\n",
      "17:15 bilby INFO    : Search parameters:\n",
      "17:15 bilby INFO    :   center = Uniform(minimum=11575.935458877004, maximum=11622.331993782322, name='center', latex_label='center', unit=None, boundary=None)\n",
      "17:15 bilby INFO    :   fwhm = Uniform(minimum=300, maximum=1000, name='fwhm', latex_label='fwhm', unit=None, boundary=None)\n",
      "17:15 bilby INFO    :   flux = Uniform(minimum=-9.214973756232084, maximum=9.214973756232084, name='flux', latex_label='flux', unit=None, boundary=None)\n",
      "17:15 bilby INFO    :   A = Uniform(minimum=-0.04478378281296435, maximum=0.0895675656259287, name='A', latex_label='A', unit=None, boundary=None)\n",
      "17:15 bilby INFO    :   beta = Uniform(minimum=-4, maximum=2, name='beta', latex_label='beta', unit=None, boundary=None)\n",
      "17:15 bilby INFO    :   wave0 = 11599.133726329663\n",
      "17:15 bilby INFO    : Single likelihood evaluation took 4.448e-05 s\n"
     ]
    },
    {
     "data": {
      "application/vnd.jupyter.widget-view+json": {
       "model_id": "7d5a920788224e30996523f38d1f120d",
       "version_major": 2,
       "version_minor": 0
      },
      "text/plain": [
       "0it [00:00, ?it/s]"
      ]
     },
     "metadata": {},
     "output_type": "display_data"
    },
    {
     "name": "stderr",
     "output_type": "stream",
     "text": [
      "17:15 bilby INFO    : Checkpoint every check_point_delta_t = 600s\n",
      "17:15 bilby WARNING : Using cached result\n",
      "17:15 bilby INFO    : Summary of results:\n",
      "nsamples: 2401\n",
      "ln_noise_evidence:    nan\n",
      "ln_evidence: 338.092 +/-  0.266\n",
      "ln_bayes_factor:    nan +/-  0.266\n",
      "\n",
      "/Users/myue/Research/Projects/JWST/dependencies/msa_spec_utils/LAE_spec_utils.py:464: RuntimeWarning: divide by zero encountered in power\n",
      "  self.err_fnu = (self.ivar_fnu)**-0.5\n",
      "/Users/myue/Research/Projects/JWST/dependencies/msa_spec_utils/LAE_spec_utils.py:470: RuntimeWarning: invalid value encountered in divide\n",
      "  self.flam = self.fnu * speed_of_light_angstrom / (self.wave)**2 * 1e-29 * 1e18\n",
      "/Users/myue/Research/Projects/JWST/dependencies/msa_spec_utils/LAE_spec_utils.py:471: RuntimeWarning: divide by zero encountered in divide\n",
      "  self.err_flam = self.err_fnu * (speed_of_light_angstrom / (self.wave)**2 * 1e-29 * 1e18)\n",
      "17:15 bilby INFO    : Running for label '3117_5123', output will be saved to '../../data/civ_saves/J1148/bilby_fit_civ_msaexp_pypeit_v2/'\n",
      "17:15 bilby INFO    : Search parameters:\n",
      "17:15 bilby INFO    :   center = Uniform(minimum=11562.168126192964, maximum=11608.509481408166, name='center', latex_label='center', unit=None, boundary=None)\n",
      "17:15 bilby INFO    :   fwhm = Uniform(minimum=300, maximum=1000, name='fwhm', latex_label='fwhm', unit=None, boundary=None)\n",
      "17:15 bilby INFO    :   flux = Uniform(minimum=-9.060885520578465, maximum=9.060885520578465, name='flux', latex_label='flux', unit=None, boundary=None)\n",
      "17:15 bilby INFO    :   A = Uniform(minimum=-0.04408736391456374, maximum=0.08817472782912748, name='A', latex_label='A', unit=None, boundary=None)\n",
      "17:15 bilby INFO    :   beta = Uniform(minimum=-4, maximum=2, name='beta', latex_label='beta', unit=None, boundary=None)\n",
      "17:15 bilby INFO    :   wave0 = 11585.338803800565\n",
      "17:15 bilby INFO    : Single likelihood evaluation took 4.195e-05 s\n"
     ]
    },
    {
     "data": {
      "application/vnd.jupyter.widget-view+json": {
       "model_id": "1dbd1c51dc224bd39c3b40da9c3aea59",
       "version_major": 2,
       "version_minor": 0
      },
      "text/plain": [
       "0it [00:00, ?it/s]"
      ]
     },
     "metadata": {},
     "output_type": "display_data"
    },
    {
     "name": "stderr",
     "output_type": "stream",
     "text": [
      "17:15 bilby INFO    : Checkpoint every check_point_delta_t = 600s\n",
      "17:15 bilby WARNING : Using cached result\n",
      "17:15 bilby INFO    : Summary of results:\n",
      "nsamples: 2399\n",
      "ln_noise_evidence:    nan\n",
      "ln_evidence: 315.247 +/-  0.268\n",
      "ln_bayes_factor:    nan +/-  0.268\n",
      "\n",
      "/Users/myue/Research/Projects/JWST/dependencies/msa_spec_utils/LAE_spec_utils.py:464: RuntimeWarning: divide by zero encountered in power\n",
      "  self.err_fnu = (self.ivar_fnu)**-0.5\n",
      "/Users/myue/Research/Projects/JWST/dependencies/msa_spec_utils/LAE_spec_utils.py:470: RuntimeWarning: invalid value encountered in divide\n",
      "  self.flam = self.fnu * speed_of_light_angstrom / (self.wave)**2 * 1e-29 * 1e18\n",
      "/Users/myue/Research/Projects/JWST/dependencies/msa_spec_utils/LAE_spec_utils.py:471: RuntimeWarning: divide by zero encountered in divide\n",
      "  self.err_flam = self.err_fnu * (speed_of_light_angstrom / (self.wave)**2 * 1e-29 * 1e18)\n",
      "17:15 bilby INFO    : Running for label '3117_6406', output will be saved to '../../data/civ_saves/J1148/bilby_fit_civ_msaexp_pypeit_v2/'\n",
      "17:15 bilby INFO    : Search parameters:\n",
      "17:15 bilby INFO    :   center = Uniform(minimum=11571.258892584347, maximum=11617.636683736988, name='center', latex_label='center', unit=None, boundary=None)\n",
      "17:15 bilby INFO    :   fwhm = Uniform(minimum=300, maximum=1000, name='fwhm', latex_label='fwhm', unit=None, boundary=None)\n",
      "17:15 bilby INFO    :   flux = Uniform(minimum=-1.2912285880219474, maximum=1.2912285880219474, name='flux', latex_label='flux', unit=None, boundary=None)\n",
      "17:15 bilby INFO    :   A = Uniform(minimum=-0.07876873145399542, maximum=0.15753746290799084, name='A', latex_label='A', unit=None, boundary=None)\n",
      "17:15 bilby INFO    :   beta = Uniform(minimum=-4, maximum=2, name='beta', latex_label='beta', unit=None, boundary=None)\n",
      "17:15 bilby INFO    :   wave0 = 11594.447788160667\n",
      "17:15 bilby INFO    : Single likelihood evaluation took 3.817e-05 s\n"
     ]
    },
    {
     "data": {
      "application/vnd.jupyter.widget-view+json": {
       "model_id": "fb11dd6e5718490788a6050c8631b2a3",
       "version_major": 2,
       "version_minor": 0
      },
      "text/plain": [
       "0it [00:00, ?it/s]"
      ]
     },
     "metadata": {},
     "output_type": "display_data"
    },
    {
     "name": "stderr",
     "output_type": "stream",
     "text": [
      "17:15 bilby INFO    : Checkpoint every check_point_delta_t = 600s\n",
      "17:15 bilby WARNING : Using cached result\n",
      "17:15 bilby INFO    : Summary of results:\n",
      "nsamples: 2520\n",
      "ln_noise_evidence:    nan\n",
      "ln_evidence: 302.659 +/-  0.272\n",
      "ln_bayes_factor:    nan +/-  0.272\n",
      "\n",
      "/Users/myue/Research/Projects/JWST/dependencies/msa_spec_utils/LAE_spec_utils.py:464: RuntimeWarning: divide by zero encountered in power\n",
      "  self.err_fnu = (self.ivar_fnu)**-0.5\n",
      "/Users/myue/Research/Projects/JWST/dependencies/msa_spec_utils/LAE_spec_utils.py:470: RuntimeWarning: invalid value encountered in divide\n",
      "  self.flam = self.fnu * speed_of_light_angstrom / (self.wave)**2 * 1e-29 * 1e18\n",
      "/Users/myue/Research/Projects/JWST/dependencies/msa_spec_utils/LAE_spec_utils.py:471: RuntimeWarning: divide by zero encountered in divide\n",
      "  self.err_flam = self.err_fnu * (speed_of_light_angstrom / (self.wave)**2 * 1e-29 * 1e18)\n",
      "17:15 bilby INFO    : Running for label '3117_6584', output will be saved to '../../data/civ_saves/J1148/bilby_fit_civ_msaexp_pypeit_v2/'\n",
      "17:15 bilby INFO    : Search parameters:\n",
      "17:15 bilby INFO    :   center = Uniform(minimum=11718.672605714795, maximum=11765.641233393011, name='center', latex_label='center', unit=None, boundary=None)\n",
      "17:15 bilby INFO    :   fwhm = Uniform(minimum=300, maximum=1000, name='fwhm', latex_label='fwhm', unit=None, boundary=None)\n",
      "17:15 bilby INFO    :   flux = Uniform(minimum=-7.287763943050045, maximum=7.287763943050045, name='flux', latex_label='flux', unit=None, boundary=None)\n",
      "17:15 bilby INFO    :   A = Uniform(minimum=-0.03498635067103978, maximum=0.06997270134207956, name='A', latex_label='A', unit=None, boundary=None)\n",
      "17:15 bilby INFO    :   beta = Uniform(minimum=-4, maximum=2, name='beta', latex_label='beta', unit=None, boundary=None)\n",
      "17:15 bilby INFO    :   wave0 = 11742.156919553903\n",
      "17:15 bilby INFO    : Single likelihood evaluation took 4.028e-05 s\n"
     ]
    },
    {
     "data": {
      "application/vnd.jupyter.widget-view+json": {
       "model_id": "4cfae3f7e3aa49b5a7f91bd2d5036a5e",
       "version_major": 2,
       "version_minor": 0
      },
      "text/plain": [
       "0it [00:00, ?it/s]"
      ]
     },
     "metadata": {},
     "output_type": "display_data"
    },
    {
     "name": "stderr",
     "output_type": "stream",
     "text": [
      "17:15 bilby INFO    : Checkpoint every check_point_delta_t = 600s\n",
      "17:15 bilby WARNING : Using cached result\n",
      "17:15 bilby INFO    : Summary of results:\n",
      "nsamples: 2401\n",
      "ln_noise_evidence:    nan\n",
      "ln_evidence: 346.993 +/-  0.255\n",
      "ln_bayes_factor:    nan +/-  0.255\n",
      "\n",
      "/Users/myue/Research/Projects/JWST/dependencies/msa_spec_utils/LAE_spec_utils.py:464: RuntimeWarning: divide by zero encountered in power\n",
      "  self.err_fnu = (self.ivar_fnu)**-0.5\n",
      "/Users/myue/Research/Projects/JWST/dependencies/msa_spec_utils/LAE_spec_utils.py:470: RuntimeWarning: invalid value encountered in divide\n",
      "  self.flam = self.fnu * speed_of_light_angstrom / (self.wave)**2 * 1e-29 * 1e18\n",
      "/Users/myue/Research/Projects/JWST/dependencies/msa_spec_utils/LAE_spec_utils.py:471: RuntimeWarning: divide by zero encountered in divide\n",
      "  self.err_flam = self.err_fnu * (speed_of_light_angstrom / (self.wave)**2 * 1e-29 * 1e18)\n",
      "17:15 bilby INFO    : Running for label '3117_7217', output will be saved to '../../data/civ_saves/J1148/bilby_fit_civ_msaexp_pypeit_v2/'\n",
      "17:15 bilby INFO    : Search parameters:\n",
      "17:15 bilby INFO    :   center = Uniform(minimum=11474.142390285588, maximum=11520.130936940039, name='center', latex_label='center', unit=None, boundary=None)\n",
      "17:15 bilby INFO    :   fwhm = Uniform(minimum=300, maximum=1000, name='fwhm', latex_label='fwhm', unit=None, boundary=None)\n",
      "17:15 bilby INFO    :   flux = Uniform(minimum=-6.907678455230743, maximum=6.907678455230743, name='flux', latex_label='flux', unit=None, boundary=None)\n",
      "17:15 bilby INFO    :   A = Uniform(minimum=-0.03386839742937839, maximum=0.06773679485875678, name='A', latex_label='A', unit=None, boundary=None)\n",
      "17:15 bilby INFO    :   beta = Uniform(minimum=-4, maximum=2, name='beta', latex_label='beta', unit=None, boundary=None)\n",
      "17:15 bilby INFO    :   wave0 = 11497.136663612813\n",
      "17:15 bilby INFO    : Single likelihood evaluation took 3.908e-05 s\n"
     ]
    },
    {
     "data": {
      "application/vnd.jupyter.widget-view+json": {
       "model_id": "d04b58ff4c3645eaae86d91411565e9d",
       "version_major": 2,
       "version_minor": 0
      },
      "text/plain": [
       "0it [00:00, ?it/s]"
      ]
     },
     "metadata": {},
     "output_type": "display_data"
    },
    {
     "name": "stderr",
     "output_type": "stream",
     "text": [
      "17:15 bilby INFO    : Checkpoint every check_point_delta_t = 600s\n",
      "17:15 bilby WARNING : Using cached result\n",
      "17:15 bilby INFO    : Summary of results:\n",
      "nsamples: 2403\n",
      "ln_noise_evidence:    nan\n",
      "ln_evidence: 326.256 +/-  0.261\n",
      "ln_bayes_factor:    nan +/-  0.261\n",
      "\n",
      "/Users/myue/Research/Projects/JWST/dependencies/msa_spec_utils/LAE_spec_utils.py:464: RuntimeWarning: divide by zero encountered in power\n",
      "  self.err_fnu = (self.ivar_fnu)**-0.5\n",
      "/Users/myue/Research/Projects/JWST/dependencies/msa_spec_utils/LAE_spec_utils.py:470: RuntimeWarning: invalid value encountered in divide\n",
      "  self.flam = self.fnu * speed_of_light_angstrom / (self.wave)**2 * 1e-29 * 1e18\n",
      "/Users/myue/Research/Projects/JWST/dependencies/msa_spec_utils/LAE_spec_utils.py:471: RuntimeWarning: divide by zero encountered in divide\n",
      "  self.err_flam = self.err_fnu * (speed_of_light_angstrom / (self.wave)**2 * 1e-29 * 1e18)\n",
      "17:15 bilby INFO    : Running for label '3117_8234', output will be saved to '../../data/civ_saves/J1148/bilby_fit_civ_msaexp_pypeit_v2/'\n",
      "17:15 bilby INFO    : Search parameters:\n",
      "17:15 bilby INFO    :   center = Uniform(minimum=11217.609369710792, maximum=11262.569727906024, name='center', latex_label='center', unit=None, boundary=None)\n",
      "17:15 bilby INFO    :   fwhm = Uniform(minimum=300, maximum=1000, name='fwhm', latex_label='fwhm', unit=None, boundary=None)\n",
      "17:15 bilby INFO    :   flux = Uniform(minimum=-8.001960517751245, maximum=8.001960517751245, name='flux', latex_label='flux', unit=None, boundary=None)\n",
      "17:15 bilby INFO    :   A = Uniform(minimum=-0.052994349053290174, maximum=0.10598869810658035, name='A', latex_label='A', unit=None, boundary=None)\n",
      "17:15 bilby INFO    :   beta = Uniform(minimum=-4, maximum=2, name='beta', latex_label='beta', unit=None, boundary=None)\n",
      "17:15 bilby INFO    :   wave0 = 11240.089548808408\n",
      "17:15 bilby INFO    : Single likelihood evaluation took 3.598e-05 s\n"
     ]
    },
    {
     "data": {
      "application/vnd.jupyter.widget-view+json": {
       "model_id": "e6b5a8b7cfb648229124dca58186bc38",
       "version_major": 2,
       "version_minor": 0
      },
      "text/plain": [
       "0it [00:00, ?it/s]"
      ]
     },
     "metadata": {},
     "output_type": "display_data"
    },
    {
     "name": "stderr",
     "output_type": "stream",
     "text": [
      "17:15 bilby INFO    : Checkpoint every check_point_delta_t = 600s\n",
      "17:15 bilby WARNING : Using cached result\n",
      "17:15 bilby INFO    : Summary of results:\n",
      "nsamples: 2324\n",
      "ln_noise_evidence:    nan\n",
      "ln_evidence: 291.167 +/-  0.261\n",
      "ln_bayes_factor:    nan +/-  0.261\n",
      "\n",
      "17:15 bilby INFO    : Running for label '3117_8871', output will be saved to '../../data/civ_saves/J1148/bilby_fit_civ_msaexp_pypeit_v2/'\n",
      "17:15 bilby INFO    : Search parameters:\n",
      "17:15 bilby INFO    :   center = Uniform(minimum=11421.308221210827, maximum=11467.085007668586, name='center', latex_label='center', unit=None, boundary=None)\n",
      "17:15 bilby INFO    :   fwhm = Uniform(minimum=300, maximum=1000, name='fwhm', latex_label='fwhm', unit=None, boundary=None)\n",
      "17:15 bilby INFO    :   flux = Uniform(minimum=-5.465504947042639, maximum=5.465504947042639, name='flux', latex_label='flux', unit=None, boundary=None)\n",
      "17:15 bilby INFO    :   A = Uniform(minimum=-0.026921373223971673, maximum=0.053842746447943346, name='A', latex_label='A', unit=None, boundary=None)\n",
      "17:15 bilby INFO    :   beta = Uniform(minimum=-4, maximum=2, name='beta', latex_label='beta', unit=None, boundary=None)\n",
      "17:15 bilby INFO    :   wave0 = 11444.196614439707\n",
      "17:15 bilby INFO    : Single likelihood evaluation took 3.719e-05 s\n"
     ]
    },
    {
     "data": {
      "application/vnd.jupyter.widget-view+json": {
       "model_id": "33a6930d9f60419888cd1935dac470bb",
       "version_major": 2,
       "version_minor": 0
      },
      "text/plain": [
       "0it [00:00, ?it/s]"
      ]
     },
     "metadata": {},
     "output_type": "display_data"
    },
    {
     "name": "stderr",
     "output_type": "stream",
     "text": [
      "17:15 bilby INFO    : Checkpoint every check_point_delta_t = 600s\n",
      "17:15 bilby WARNING : Using cached result\n",
      "17:15 bilby INFO    : Summary of results:\n",
      "nsamples: 2610\n",
      "ln_noise_evidence:    nan\n",
      "ln_evidence: 372.742 +/-  0.275\n",
      "ln_bayes_factor:    nan +/-  0.275\n",
      "\n",
      "17:15 bilby INFO    : Running for label '3117_9192', output will be saved to '../../data/civ_saves/J1148/bilby_fit_civ_msaexp_pypeit_v2/'\n",
      "17:15 bilby INFO    : Search parameters:\n",
      "17:15 bilby INFO    :   center = Uniform(minimum=11560.227016532426, maximum=11606.560591748988, name='center', latex_label='center', unit=None, boundary=None)\n",
      "17:15 bilby INFO    :   fwhm = Uniform(minimum=300, maximum=1000, name='fwhm', latex_label='fwhm', unit=None, boundary=None)\n",
      "17:15 bilby INFO    :   flux = Uniform(minimum=-14.59337793718033, maximum=14.59337793718033, name='flux', latex_label='flux', unit=None, boundary=None)\n",
      "17:15 bilby INFO    :   A = Uniform(minimum=-0.07101862116122408, maximum=0.14203724232244816, name='A', latex_label='A', unit=None, boundary=None)\n",
      "17:15 bilby INFO    :   beta = Uniform(minimum=-4, maximum=2, name='beta', latex_label='beta', unit=None, boundary=None)\n",
      "17:15 bilby INFO    :   wave0 = 11583.393804140707\n",
      "17:15 bilby INFO    : Single likelihood evaluation took 4.026e-05 s\n"
     ]
    },
    {
     "data": {
      "application/vnd.jupyter.widget-view+json": {
       "model_id": "7e02712f57ff4c23aa3e2ec010349bea",
       "version_major": 2,
       "version_minor": 0
      },
      "text/plain": [
       "0it [00:00, ?it/s]"
      ]
     },
     "metadata": {},
     "output_type": "display_data"
    },
    {
     "name": "stderr",
     "output_type": "stream",
     "text": [
      "17:15 bilby INFO    : Checkpoint every check_point_delta_t = 600s\n",
      "17:15 bilby WARNING : Using cached result\n",
      "17:15 bilby INFO    : Summary of results:\n",
      "nsamples: 2826\n",
      "ln_noise_evidence:    nan\n",
      "ln_evidence: 325.952 +/-  0.298\n",
      "ln_bayes_factor:    nan +/-  0.298\n",
      "\n",
      "/Users/myue/Research/Projects/JWST/dependencies/msa_spec_utils/LAE_spec_utils.py:464: RuntimeWarning: divide by zero encountered in power\n",
      "  self.err_fnu = (self.ivar_fnu)**-0.5\n",
      "/Users/myue/Research/Projects/JWST/dependencies/msa_spec_utils/LAE_spec_utils.py:470: RuntimeWarning: invalid value encountered in divide\n",
      "  self.flam = self.fnu * speed_of_light_angstrom / (self.wave)**2 * 1e-29 * 1e18\n",
      "/Users/myue/Research/Projects/JWST/dependencies/msa_spec_utils/LAE_spec_utils.py:471: RuntimeWarning: divide by zero encountered in divide\n",
      "  self.err_flam = self.err_fnu * (speed_of_light_angstrom / (self.wave)**2 * 1e-29 * 1e18)\n",
      "17:15 bilby INFO    : Running for label '3117_9232', output will be saved to '../../data/civ_saves/J1148/bilby_fit_civ_msaexp_pypeit_v2/'\n",
      "17:15 bilby INFO    : Search parameters:\n",
      "17:15 bilby INFO    :   center = Uniform(minimum=10923.668304078567, maximum=10967.450541770266, name='center', latex_label='center', unit=None, boundary=None)\n",
      "17:15 bilby INFO    :   fwhm = Uniform(minimum=300, maximum=1000, name='fwhm', latex_label='fwhm', unit=None, boundary=None)\n",
      "17:15 bilby INFO    :   flux = Uniform(minimum=-7.679652772457168, maximum=7.679652772457168, name='flux', latex_label='flux', unit=None, boundary=None)\n",
      "17:15 bilby INFO    :   A = Uniform(minimum=-0.03955085249484008, maximum=0.07910170498968017, name='A', latex_label='A', unit=None, boundary=None)\n",
      "17:15 bilby INFO    :   beta = Uniform(minimum=-4, maximum=2, name='beta', latex_label='beta', unit=None, boundary=None)\n",
      "17:15 bilby INFO    :   wave0 = 10945.559422924416\n",
      "17:15 bilby INFO    : Single likelihood evaluation took 4.306e-05 s\n"
     ]
    },
    {
     "data": {
      "application/vnd.jupyter.widget-view+json": {
       "model_id": "bab33b31ba3d4e64a9b856e6baa53526",
       "version_major": 2,
       "version_minor": 0
      },
      "text/plain": [
       "0it [00:00, ?it/s]"
      ]
     },
     "metadata": {},
     "output_type": "display_data"
    },
    {
     "name": "stderr",
     "output_type": "stream",
     "text": [
      "17:15 bilby INFO    : Checkpoint every check_point_delta_t = 600s\n",
      "17:15 bilby WARNING : Using cached result\n",
      "17:15 bilby INFO    : Summary of results:\n",
      "nsamples: 2384\n",
      "ln_noise_evidence:    nan\n",
      "ln_evidence: 309.441 +/-  0.264\n",
      "ln_bayes_factor:    nan +/-  0.264\n",
      "\n",
      "/Users/myue/Research/Projects/JWST/dependencies/msa_spec_utils/LAE_spec_utils.py:464: RuntimeWarning: divide by zero encountered in power\n",
      "  self.err_fnu = (self.ivar_fnu)**-0.5\n",
      "/Users/myue/Research/Projects/JWST/dependencies/msa_spec_utils/LAE_spec_utils.py:470: RuntimeWarning: invalid value encountered in divide\n",
      "  self.flam = self.fnu * speed_of_light_angstrom / (self.wave)**2 * 1e-29 * 1e18\n",
      "/Users/myue/Research/Projects/JWST/dependencies/msa_spec_utils/LAE_spec_utils.py:471: RuntimeWarning: divide by zero encountered in divide\n",
      "  self.err_flam = self.err_fnu * (speed_of_light_angstrom / (self.wave)**2 * 1e-29 * 1e18)\n",
      "17:15 bilby INFO    : Running for label '3117_9314', output will be saved to '../../data/civ_saves/J1148/bilby_fit_civ_msaexp_pypeit_v2/'\n",
      "17:15 bilby INFO    : Search parameters:\n",
      "17:15 bilby INFO    :   center = Uniform(minimum=11062.601726255267, maximum=11106.940811330438, name='center', latex_label='center', unit=None, boundary=None)\n",
      "17:15 bilby INFO    :   fwhm = Uniform(minimum=300, maximum=1000, name='fwhm', latex_label='fwhm', unit=None, boundary=None)\n",
      "17:15 bilby INFO    :   flux = Uniform(minimum=-41.11338706233284, maximum=41.11338706233284, name='flux', latex_label='flux', unit=None, boundary=None)\n",
      "17:15 bilby INFO    :   A = Uniform(minimum=-0.20907819812084397, maximum=0.41815639624168793, name='A', latex_label='A', unit=None, boundary=None)\n",
      "17:15 bilby INFO    :   beta = Uniform(minimum=-4, maximum=2, name='beta', latex_label='beta', unit=None, boundary=None)\n",
      "17:15 bilby INFO    :   wave0 = 11084.771268792852\n",
      "17:15 bilby INFO    : Single likelihood evaluation took 3.888e-05 s\n"
     ]
    },
    {
     "data": {
      "application/vnd.jupyter.widget-view+json": {
       "model_id": "5f9c969ded8a47bfade441dcee13d84a",
       "version_major": 2,
       "version_minor": 0
      },
      "text/plain": [
       "0it [00:00, ?it/s]"
      ]
     },
     "metadata": {},
     "output_type": "display_data"
    },
    {
     "name": "stderr",
     "output_type": "stream",
     "text": [
      "17:15 bilby INFO    : Checkpoint every check_point_delta_t = 600s\n",
      "17:15 bilby WARNING : Using cached result\n",
      "17:15 bilby INFO    : Summary of results:\n",
      "nsamples: 3853\n",
      "ln_noise_evidence:    nan\n",
      "ln_evidence: 252.740 +/-  0.368\n",
      "ln_bayes_factor:    nan +/-  0.368\n",
      "\n",
      "/Users/myue/Research/Projects/JWST/dependencies/msa_spec_utils/LAE_spec_utils.py:464: RuntimeWarning: divide by zero encountered in power\n",
      "  self.err_fnu = (self.ivar_fnu)**-0.5\n",
      "/Users/myue/Research/Projects/JWST/dependencies/msa_spec_utils/LAE_spec_utils.py:470: RuntimeWarning: invalid value encountered in divide\n",
      "  self.flam = self.fnu * speed_of_light_angstrom / (self.wave)**2 * 1e-29 * 1e18\n",
      "/Users/myue/Research/Projects/JWST/dependencies/msa_spec_utils/LAE_spec_utils.py:471: RuntimeWarning: divide by zero encountered in divide\n",
      "  self.err_flam = self.err_fnu * (speed_of_light_angstrom / (self.wave)**2 * 1e-29 * 1e18)\n",
      "17:15 bilby INFO    : Running for label '3117_9428', output will be saved to '../../data/civ_saves/J1148/bilby_fit_civ_msaexp_pypeit_v2/'\n",
      "17:15 bilby INFO    : Search parameters:\n",
      "17:15 bilby INFO    :   center = Uniform(minimum=12009.69800697084, maximum=12057.83306912303, name='center', latex_label='center', unit=None, boundary=None)\n",
      "17:15 bilby INFO    :   fwhm = Uniform(minimum=300, maximum=1000, name='fwhm', latex_label='fwhm', unit=None, boundary=None)\n",
      "17:15 bilby INFO    :   flux = Uniform(minimum=-8.184083173096946, maximum=8.184083173096946, name='flux', latex_label='flux', unit=None, boundary=None)\n",
      "17:15 bilby INFO    :   A = Uniform(minimum=-0.03833722877153604, maximum=0.07667445754307207, name='A', latex_label='A', unit=None, boundary=None)\n",
      "17:15 bilby INFO    :   beta = Uniform(minimum=-4, maximum=2, name='beta', latex_label='beta', unit=None, boundary=None)\n",
      "17:15 bilby INFO    :   wave0 = 12033.765538046935\n",
      "17:15 bilby INFO    : Single likelihood evaluation took 4.274e-05 s\n"
     ]
    },
    {
     "data": {
      "application/vnd.jupyter.widget-view+json": {
       "model_id": "6b911abf20a94113aab4cca7ea173cfb",
       "version_major": 2,
       "version_minor": 0
      },
      "text/plain": [
       "0it [00:00, ?it/s]"
      ]
     },
     "metadata": {},
     "output_type": "display_data"
    },
    {
     "name": "stderr",
     "output_type": "stream",
     "text": [
      "17:15 bilby INFO    : Checkpoint every check_point_delta_t = 600s\n",
      "17:15 bilby WARNING : Using cached result\n",
      "17:15 bilby INFO    : Summary of results:\n",
      "nsamples: 2474\n",
      "ln_noise_evidence:    nan\n",
      "ln_evidence: 234.022 +/-  0.273\n",
      "ln_bayes_factor:    nan +/-  0.273\n",
      "\n",
      "/Users/myue/Research/Projects/JWST/dependencies/msa_spec_utils/LAE_spec_utils.py:464: RuntimeWarning: divide by zero encountered in power\n",
      "  self.err_fnu = (self.ivar_fnu)**-0.5\n",
      "/Users/myue/Research/Projects/JWST/dependencies/msa_spec_utils/LAE_spec_utils.py:470: RuntimeWarning: invalid value encountered in divide\n",
      "  self.flam = self.fnu * speed_of_light_angstrom / (self.wave)**2 * 1e-29 * 1e18\n",
      "/Users/myue/Research/Projects/JWST/dependencies/msa_spec_utils/LAE_spec_utils.py:471: RuntimeWarning: divide by zero encountered in divide\n",
      "  self.err_flam = self.err_fnu * (speed_of_light_angstrom / (self.wave)**2 * 1e-29 * 1e18)\n",
      "17:15 bilby INFO    : Running for label '3117_9799', output will be saved to '../../data/civ_saves/J1148/bilby_fit_civ_msaexp_pypeit_v2/'\n",
      "17:15 bilby INFO    : Search parameters:\n",
      "17:15 bilby INFO    :   center = Uniform(minimum=11558.948635106408, maximum=11605.277086549719, name='center', latex_label='center', unit=None, boundary=None)\n",
      "17:15 bilby INFO    :   fwhm = Uniform(minimum=300, maximum=1000, name='fwhm', latex_label='fwhm', unit=None, boundary=None)\n",
      "17:15 bilby INFO    :   flux = Uniform(minimum=-7.6924979325578, maximum=7.6924979325578, name='flux', latex_label='flux', unit=None, boundary=None)\n",
      "17:15 bilby INFO    :   A = Uniform(minimum=-0.037439653721701265, maximum=0.07487930744340253, name='A', latex_label='A', unit=None, boundary=None)\n",
      "17:15 bilby INFO    :   beta = Uniform(minimum=-4, maximum=2, name='beta', latex_label='beta', unit=None, boundary=None)\n",
      "17:15 bilby INFO    :   wave0 = 11582.112860828063\n",
      "17:15 bilby INFO    : Single likelihood evaluation took 3.688e-05 s\n"
     ]
    },
    {
     "data": {
      "application/vnd.jupyter.widget-view+json": {
       "model_id": "fea82571bd9946659920ef34613c7cd1",
       "version_major": 2,
       "version_minor": 0
      },
      "text/plain": [
       "0it [00:00, ?it/s]"
      ]
     },
     "metadata": {},
     "output_type": "display_data"
    },
    {
     "name": "stderr",
     "output_type": "stream",
     "text": [
      "17:15 bilby INFO    : Checkpoint every check_point_delta_t = 600s\n",
      "17:15 bilby WARNING : Using cached result\n",
      "17:15 bilby INFO    : Summary of results:\n",
      "nsamples: 2299\n",
      "ln_noise_evidence:    nan\n",
      "ln_evidence: 332.662 +/-  0.256\n",
      "ln_bayes_factor:    nan +/-  0.256\n",
      "\n",
      "17:15 bilby INFO    : Running for label '3117_10290', output will be saved to '../../data/civ_saves/J1148/bilby_fit_civ_msaexp_pypeit_v2/'\n",
      "17:15 bilby INFO    : Search parameters:\n",
      "17:15 bilby INFO    :   center = Uniform(minimum=11472.337256050385, maximum=11518.318567697883, name='center', latex_label='center', unit=None, boundary=None)\n",
      "17:15 bilby INFO    :   fwhm = Uniform(minimum=300, maximum=1000, name='fwhm', latex_label='fwhm', unit=None, boundary=None)\n",
      "17:15 bilby INFO    :   flux = Uniform(minimum=-10.012031901258517, maximum=10.012031901258517, name='flux', latex_label='flux', unit=None, boundary=None)\n",
      "17:15 bilby INFO    :   A = Uniform(minimum=-0.04909678883072098, maximum=0.09819357766144196, name='A', latex_label='A', unit=None, boundary=None)\n",
      "17:15 bilby INFO    :   beta = Uniform(minimum=-4, maximum=2, name='beta', latex_label='beta', unit=None, boundary=None)\n",
      "17:15 bilby INFO    :   wave0 = 11495.327911874134\n",
      "17:15 bilby INFO    : Single likelihood evaluation took 4.346e-05 s\n"
     ]
    },
    {
     "data": {
      "application/vnd.jupyter.widget-view+json": {
       "model_id": "8f131f6548924870bc64d5fd8bc965de",
       "version_major": 2,
       "version_minor": 0
      },
      "text/plain": [
       "0it [00:00, ?it/s]"
      ]
     },
     "metadata": {},
     "output_type": "display_data"
    },
    {
     "name": "stderr",
     "output_type": "stream",
     "text": [
      "17:15 bilby INFO    : Checkpoint every check_point_delta_t = 600s\n",
      "17:15 bilby WARNING : Using cached result\n",
      "17:15 bilby INFO    : Summary of results:\n",
      "nsamples: 2914\n",
      "ln_noise_evidence:    nan\n",
      "ln_evidence: 342.238 +/-  0.307\n",
      "ln_bayes_factor:    nan +/-  0.307\n",
      "\n",
      "/Users/myue/Research/Projects/JWST/dependencies/msa_spec_utils/LAE_spec_utils.py:464: RuntimeWarning: divide by zero encountered in power\n",
      "  self.err_fnu = (self.ivar_fnu)**-0.5\n",
      "/Users/myue/Research/Projects/JWST/dependencies/msa_spec_utils/LAE_spec_utils.py:470: RuntimeWarning: invalid value encountered in divide\n",
      "  self.flam = self.fnu * speed_of_light_angstrom / (self.wave)**2 * 1e-29 * 1e18\n",
      "/Users/myue/Research/Projects/JWST/dependencies/msa_spec_utils/LAE_spec_utils.py:471: RuntimeWarning: divide by zero encountered in divide\n",
      "  self.err_flam = self.err_fnu * (speed_of_light_angstrom / (self.wave)**2 * 1e-29 * 1e18)\n",
      "17:15 bilby INFO    : Running for label '3117_10586', output will be saved to '../../data/civ_saves/J1148/bilby_fit_civ_msaexp_pypeit_v2/'\n",
      "17:15 bilby INFO    : Search parameters:\n",
      "17:15 bilby INFO    :   center = Uniform(minimum=10538.711082590497, maximum=10580.950405566811, name='center', latex_label='center', unit=None, boundary=None)\n",
      "17:15 bilby INFO    :   fwhm = Uniform(minimum=300, maximum=1000, name='fwhm', latex_label='fwhm', unit=None, boundary=None)\n",
      "17:15 bilby INFO    :   flux = Uniform(minimum=-10.046216043425584, maximum=10.046216043425584, name='flux', latex_label='flux', unit=None, boundary=None)\n",
      "17:15 bilby INFO    :   A = Uniform(minimum=-0.05362876351445384, maximum=0.10725752702890767, name='A', latex_label='A', unit=None, boundary=None)\n",
      "17:15 bilby INFO    :   beta = Uniform(minimum=-4, maximum=2, name='beta', latex_label='beta', unit=None, boundary=None)\n",
      "17:15 bilby INFO    :   wave0 = 10559.830744078654\n",
      "17:15 bilby INFO    : Single likelihood evaluation took 3.857e-05 s\n"
     ]
    },
    {
     "data": {
      "application/vnd.jupyter.widget-view+json": {
       "model_id": "e36f634a68eb4d56b9621d72d9ce4d01",
       "version_major": 2,
       "version_minor": 0
      },
      "text/plain": [
       "0it [00:00, ?it/s]"
      ]
     },
     "metadata": {},
     "output_type": "display_data"
    },
    {
     "name": "stderr",
     "output_type": "stream",
     "text": [
      "17:15 bilby INFO    : Checkpoint every check_point_delta_t = 600s\n",
      "17:15 bilby WARNING : Using cached result\n",
      "17:15 bilby INFO    : Summary of results:\n",
      "nsamples: 2394\n",
      "ln_noise_evidence:    nan\n",
      "ln_evidence: 239.009 +/-  0.259\n",
      "ln_bayes_factor:    nan +/-  0.259\n",
      "\n",
      "/Users/myue/Research/Projects/JWST/dependencies/msa_spec_utils/LAE_spec_utils.py:464: RuntimeWarning: divide by zero encountered in power\n",
      "  self.err_fnu = (self.ivar_fnu)**-0.5\n",
      "/Users/myue/Research/Projects/JWST/dependencies/msa_spec_utils/LAE_spec_utils.py:470: RuntimeWarning: invalid value encountered in divide\n",
      "  self.flam = self.fnu * speed_of_light_angstrom / (self.wave)**2 * 1e-29 * 1e18\n",
      "/Users/myue/Research/Projects/JWST/dependencies/msa_spec_utils/LAE_spec_utils.py:471: RuntimeWarning: divide by zero encountered in divide\n",
      "  self.err_flam = self.err_fnu * (speed_of_light_angstrom / (self.wave)**2 * 1e-29 * 1e18)\n",
      "17:15 bilby INFO    : Running for label '3117_10727', output will be saved to '../../data/civ_saves/J1148/bilby_fit_civ_msaexp_pypeit_v2/'\n",
      "17:15 bilby INFO    : Search parameters:\n",
      "17:15 bilby INFO    :   center = Uniform(minimum=10362.247696923992, maximum=10403.779751821485, name='center', latex_label='center', unit=None, boundary=None)\n",
      "17:15 bilby INFO    :   fwhm = Uniform(minimum=300, maximum=1000, name='fwhm', latex_label='fwhm', unit=None, boundary=None)\n",
      "17:15 bilby INFO    :   flux = Uniform(minimum=-11.563511560513142, maximum=11.563511560513142, name='flux', latex_label='flux', unit=None, boundary=None)\n",
      "17:15 bilby INFO    :   A = Uniform(minimum=-0.06277959916768967, maximum=0.12555919833537935, name='A', latex_label='A', unit=None, boundary=None)\n",
      "17:15 bilby INFO    :   beta = Uniform(minimum=-4, maximum=2, name='beta', latex_label='beta', unit=None, boundary=None)\n",
      "17:15 bilby INFO    :   wave0 = 10383.013724372739\n",
      "17:15 bilby INFO    : Single likelihood evaluation took 4.091e-05 s\n"
     ]
    },
    {
     "data": {
      "application/vnd.jupyter.widget-view+json": {
       "model_id": "f2ba12fdd2c04e5e8c74350026d012f9",
       "version_major": 2,
       "version_minor": 0
      },
      "text/plain": [
       "0it [00:00, ?it/s]"
      ]
     },
     "metadata": {},
     "output_type": "display_data"
    },
    {
     "name": "stderr",
     "output_type": "stream",
     "text": [
      "17:15 bilby INFO    : Checkpoint every check_point_delta_t = 600s\n",
      "17:15 bilby WARNING : Using cached result\n",
      "17:15 bilby INFO    : Summary of results:\n",
      "nsamples: 2674\n",
      "ln_noise_evidence:    nan\n",
      "ln_evidence: 250.580 +/-  0.273\n",
      "ln_bayes_factor:    nan +/-  0.273\n",
      "\n",
      "/Users/myue/Research/Projects/JWST/dependencies/msa_spec_utils/LAE_spec_utils.py:464: RuntimeWarning: divide by zero encountered in power\n",
      "  self.err_fnu = (self.ivar_fnu)**-0.5\n",
      "/Users/myue/Research/Projects/JWST/dependencies/msa_spec_utils/LAE_spec_utils.py:470: RuntimeWarning: invalid value encountered in divide\n",
      "  self.flam = self.fnu * speed_of_light_angstrom / (self.wave)**2 * 1e-29 * 1e18\n",
      "/Users/myue/Research/Projects/JWST/dependencies/msa_spec_utils/LAE_spec_utils.py:471: RuntimeWarning: divide by zero encountered in divide\n",
      "  self.err_flam = self.err_fnu * (speed_of_light_angstrom / (self.wave)**2 * 1e-29 * 1e18)\n",
      "17:15 bilby INFO    : Running for label '3117_11709', output will be saved to '../../data/civ_saves/J1148/bilby_fit_civ_msaexp_pypeit_v2/'\n",
      "17:15 bilby INFO    : Search parameters:\n",
      "17:15 bilby INFO    :   center = Uniform(minimum=11599.122790897349, maximum=11645.612261001144, name='center', latex_label='center', unit=None, boundary=None)\n",
      "17:15 bilby INFO    :   fwhm = Uniform(minimum=300, maximum=1000, name='fwhm', latex_label='fwhm', unit=None, boundary=None)\n",
      "17:15 bilby INFO    :   flux = Uniform(minimum=-26.92368954568913, maximum=26.92368954568913, name='flux', latex_label='flux', unit=None, boundary=None)\n",
      "17:15 bilby INFO    :   A = Uniform(minimum=-0.13058467035495977, maximum=0.26116934070991954, name='A', latex_label='A', unit=None, boundary=None)\n",
      "17:15 bilby INFO    :   beta = Uniform(minimum=-4, maximum=2, name='beta', latex_label='beta', unit=None, boundary=None)\n",
      "17:15 bilby INFO    :   wave0 = 11622.367525949247\n",
      "17:15 bilby INFO    : Single likelihood evaluation took 3.793e-05 s\n"
     ]
    },
    {
     "data": {
      "application/vnd.jupyter.widget-view+json": {
       "model_id": "f81377e1aa9842efb1d63afba4486bf8",
       "version_major": 2,
       "version_minor": 0
      },
      "text/plain": [
       "0it [00:00, ?it/s]"
      ]
     },
     "metadata": {},
     "output_type": "display_data"
    },
    {
     "name": "stderr",
     "output_type": "stream",
     "text": [
      "17:15 bilby INFO    : Checkpoint every check_point_delta_t = 600s\n",
      "17:15 bilby WARNING : Using cached result\n",
      "17:15 bilby INFO    : Summary of results:\n",
      "nsamples: 3773\n",
      "ln_noise_evidence:    nan\n",
      "ln_evidence: 313.242 +/-  0.368\n",
      "ln_bayes_factor:    nan +/-  0.368\n",
      "\n",
      "/Users/myue/Research/Projects/JWST/dependencies/msa_spec_utils/LAE_spec_utils.py:464: RuntimeWarning: divide by zero encountered in power\n",
      "  self.err_fnu = (self.ivar_fnu)**-0.5\n",
      "/Users/myue/Research/Projects/JWST/dependencies/msa_spec_utils/LAE_spec_utils.py:470: RuntimeWarning: invalid value encountered in divide\n",
      "  self.flam = self.fnu * speed_of_light_angstrom / (self.wave)**2 * 1e-29 * 1e18\n",
      "/Users/myue/Research/Projects/JWST/dependencies/msa_spec_utils/LAE_spec_utils.py:471: RuntimeWarning: divide by zero encountered in divide\n",
      "  self.err_flam = self.err_fnu * (speed_of_light_angstrom / (self.wave)**2 * 1e-29 * 1e18)\n",
      "17:15 bilby INFO    : Running for label '3117_12115', output will be saved to '../../data/civ_saves/J1148/bilby_fit_civ_msaexp_pypeit_v2/'\n",
      "17:15 bilby INFO    : Search parameters:\n",
      "17:15 bilby INFO    :   center = Uniform(minimum=12218.295851466479, maximum=12267.266977123658, name='center', latex_label='center', unit=None, boundary=None)\n",
      "17:15 bilby INFO    :   fwhm = Uniform(minimum=300, maximum=1000, name='fwhm', latex_label='fwhm', unit=None, boundary=None)\n",
      "17:15 bilby INFO    :   flux = Uniform(minimum=-7.85554522638513, maximum=7.85554522638513, name='flux', latex_label='flux', unit=None, boundary=None)\n",
      "17:15 bilby INFO    :   A = Uniform(minimum=-0.03616999639026271, maximum=0.07233999278052541, name='A', latex_label='A', unit=None, boundary=None)\n",
      "17:15 bilby INFO    :   beta = Uniform(minimum=-4, maximum=2, name='beta', latex_label='beta', unit=None, boundary=None)\n",
      "17:15 bilby INFO    :   wave0 = 12242.781414295068\n",
      "17:15 bilby INFO    : Single likelihood evaluation took 3.649e-05 s\n"
     ]
    },
    {
     "name": "stdout",
     "output_type": "stream",
     "text": [
      "3117_11725 has no CIV\n"
     ]
    },
    {
     "data": {
      "application/vnd.jupyter.widget-view+json": {
       "model_id": "a23f6ead2e934eb8a8d033242d0a45c8",
       "version_major": 2,
       "version_minor": 0
      },
      "text/plain": [
       "0it [00:00, ?it/s]"
      ]
     },
     "metadata": {},
     "output_type": "display_data"
    },
    {
     "name": "stderr",
     "output_type": "stream",
     "text": [
      "17:15 bilby INFO    : Checkpoint every check_point_delta_t = 600s\n",
      "17:15 bilby WARNING : Using cached result\n",
      "17:15 bilby INFO    : Summary of results:\n",
      "nsamples: 2426\n",
      "ln_noise_evidence:    nan\n",
      "ln_evidence: 392.419 +/-  0.271\n",
      "ln_bayes_factor:    nan +/-  0.271\n",
      "\n",
      "17:15 bilby INFO    : Running for label '3117_12277', output will be saved to '../../data/civ_saves/J1148/bilby_fit_civ_msaexp_pypeit_v2/'\n",
      "17:15 bilby INFO    : Search parameters:\n",
      "17:15 bilby INFO    :   center = Uniform(minimum=11461.509639175698, maximum=11507.447553561173, name='center', latex_label='center', unit=None, boundary=None)\n",
      "17:15 bilby INFO    :   fwhm = Uniform(minimum=300, maximum=1000, name='fwhm', latex_label='fwhm', unit=None, boundary=None)\n",
      "17:15 bilby INFO    :   flux = Uniform(minimum=-10.741028101199477, maximum=10.741028101199477, name='flux', latex_label='flux', unit=None, boundary=None)\n",
      "17:15 bilby INFO    :   A = Uniform(minimum=-0.05272138342842561, maximum=0.10544276685685122, name='A', latex_label='A', unit=None, boundary=None)\n",
      "17:15 bilby INFO    :   beta = Uniform(minimum=-4, maximum=2, name='beta', latex_label='beta', unit=None, boundary=None)\n",
      "17:15 bilby INFO    :   wave0 = 11484.478596368435\n",
      "17:15 bilby INFO    : Single likelihood evaluation took 4.209e-05 s\n"
     ]
    },
    {
     "data": {
      "application/vnd.jupyter.widget-view+json": {
       "model_id": "ffe1c34b8ac049be94b43ae296a8860d",
       "version_major": 2,
       "version_minor": 0
      },
      "text/plain": [
       "0it [00:00, ?it/s]"
      ]
     },
     "metadata": {},
     "output_type": "display_data"
    },
    {
     "name": "stderr",
     "output_type": "stream",
     "text": [
      "17:15 bilby INFO    : Checkpoint every check_point_delta_t = 600s\n",
      "17:15 bilby WARNING : Using cached result\n",
      "17:15 bilby INFO    : Summary of results:\n",
      "nsamples: 2615\n",
      "ln_noise_evidence:    nan\n",
      "ln_evidence: 328.644 +/-  0.276\n",
      "ln_bayes_factor:    nan +/-  0.276\n",
      "\n",
      "/Users/myue/Research/Projects/JWST/dependencies/msa_spec_utils/LAE_spec_utils.py:464: RuntimeWarning: divide by zero encountered in power\n",
      "  self.err_fnu = (self.ivar_fnu)**-0.5\n",
      "/Users/myue/Research/Projects/JWST/dependencies/msa_spec_utils/LAE_spec_utils.py:470: RuntimeWarning: invalid value encountered in divide\n",
      "  self.flam = self.fnu * speed_of_light_angstrom / (self.wave)**2 * 1e-29 * 1e18\n",
      "/Users/myue/Research/Projects/JWST/dependencies/msa_spec_utils/LAE_spec_utils.py:471: RuntimeWarning: divide by zero encountered in divide\n",
      "  self.err_flam = self.err_fnu * (speed_of_light_angstrom / (self.wave)**2 * 1e-29 * 1e18)\n",
      "17:15 bilby INFO    : Running for label '3117_13418', output will be saved to '../../data/civ_saves/J1148/bilby_fit_civ_msaexp_pypeit_v2/'\n",
      "17:15 bilby INFO    : Search parameters:\n",
      "17:15 bilby INFO    :   center = Uniform(minimum=9937.446278664023, maximum=9977.275722666685, name='center', latex_label='center', unit=None, boundary=None)\n",
      "17:15 bilby INFO    :   fwhm = Uniform(minimum=300, maximum=1000, name='fwhm', latex_label='fwhm', unit=None, boundary=None)\n",
      "17:15 bilby INFO    :   flux = Uniform(minimum=-12.44513218080006, maximum=12.44513218080006, name='flux', latex_label='flux', unit=None, boundary=None)\n",
      "17:15 bilby INFO    :   A = Uniform(minimum=-0.07045429746733584, maximum=0.14090859493467167, name='A', latex_label='A', unit=None, boundary=None)\n",
      "17:15 bilby INFO    :   beta = Uniform(minimum=-4, maximum=2, name='beta', latex_label='beta', unit=None, boundary=None)\n",
      "17:15 bilby INFO    :   wave0 = 9957.361000665354\n",
      "17:15 bilby INFO    : Single likelihood evaluation took 3.944e-05 s\n"
     ]
    },
    {
     "data": {
      "application/vnd.jupyter.widget-view+json": {
       "model_id": "389a2de51dc144ad856019da718c928a",
       "version_major": 2,
       "version_minor": 0
      },
      "text/plain": [
       "0it [00:00, ?it/s]"
      ]
     },
     "metadata": {},
     "output_type": "display_data"
    },
    {
     "name": "stderr",
     "output_type": "stream",
     "text": [
      "17:15 bilby INFO    : Checkpoint every check_point_delta_t = 600s\n",
      "17:15 bilby WARNING : Using cached result\n",
      "17:15 bilby INFO    : Summary of results:\n",
      "nsamples: 2455\n",
      "ln_noise_evidence:    nan\n",
      "ln_evidence: 234.512 +/-  0.261\n",
      "ln_bayes_factor:    nan +/-  0.261\n",
      "\n",
      "/Users/myue/Research/Projects/JWST/dependencies/msa_spec_utils/LAE_spec_utils.py:464: RuntimeWarning: divide by zero encountered in power\n",
      "  self.err_fnu = (self.ivar_fnu)**-0.5\n",
      "/Users/myue/Research/Projects/JWST/dependencies/msa_spec_utils/LAE_spec_utils.py:470: RuntimeWarning: invalid value encountered in divide\n",
      "  self.flam = self.fnu * speed_of_light_angstrom / (self.wave)**2 * 1e-29 * 1e18\n",
      "/Users/myue/Research/Projects/JWST/dependencies/msa_spec_utils/LAE_spec_utils.py:471: RuntimeWarning: divide by zero encountered in divide\n",
      "  self.err_flam = self.err_fnu * (speed_of_light_angstrom / (self.wave)**2 * 1e-29 * 1e18)\n",
      "17:15 bilby INFO    : Running for label '3117_14101', output will be saved to '../../data/civ_saves/J1148/bilby_fit_civ_msaexp_pypeit_v2/'\n",
      "17:15 bilby INFO    : Search parameters:\n",
      "17:15 bilby INFO    :   center = Uniform(minimum=12196.335625975627, maximum=12245.218734696971, name='center', latex_label='center', unit=None, boundary=None)\n",
      "17:15 bilby INFO    :   fwhm = Uniform(minimum=300, maximum=1000, name='fwhm', latex_label='fwhm', unit=None, boundary=None)\n",
      "17:15 bilby INFO    :   flux = Uniform(minimum=-12.357499494856011, maximum=12.357499494856011, name='flux', latex_label='flux', unit=None, boundary=None)\n",
      "17:15 bilby INFO    :   A = Uniform(minimum=-0.05700120061539052, maximum=0.11400240123078104, name='A', latex_label='A', unit=None, boundary=None)\n",
      "17:15 bilby INFO    :   beta = Uniform(minimum=-4, maximum=2, name='beta', latex_label='beta', unit=None, boundary=None)\n",
      "17:15 bilby INFO    :   wave0 = 12220.7771803363\n",
      "17:15 bilby INFO    : Single likelihood evaluation took 3.916e-05 s\n"
     ]
    },
    {
     "data": {
      "application/vnd.jupyter.widget-view+json": {
       "model_id": "693c8c74cbaf4ac6b88c4f86f8b0c003",
       "version_major": 2,
       "version_minor": 0
      },
      "text/plain": [
       "0it [00:00, ?it/s]"
      ]
     },
     "metadata": {},
     "output_type": "display_data"
    },
    {
     "name": "stderr",
     "output_type": "stream",
     "text": [
      "17:15 bilby INFO    : Checkpoint every check_point_delta_t = 600s\n",
      "17:15 bilby WARNING : Using cached result\n",
      "17:15 bilby INFO    : Summary of results:\n",
      "nsamples: 3152\n",
      "ln_noise_evidence:    nan\n",
      "ln_evidence: 344.594 +/-  0.314\n",
      "ln_bayes_factor:    nan +/-  0.314\n",
      "\n",
      "17:15 bilby INFO    : Running for label '3117_14236', output will be saved to '../../data/civ_saves/J1148/bilby_fit_civ_msaexp_pypeit_v2/'\n",
      "17:15 bilby INFO    : Search parameters:\n",
      "17:15 bilby INFO    :   center = Uniform(minimum=11470.297753212059, maximum=11516.270890499482, name='center', latex_label='center', unit=None, boundary=None)\n",
      "17:15 bilby INFO    :   fwhm = Uniform(minimum=300, maximum=1000, name='fwhm', latex_label='fwhm', unit=None, boundary=None)\n",
      "17:15 bilby INFO    :   flux = Uniform(minimum=-10.595952717077779, maximum=10.595952717077779, name='flux', latex_label='flux', unit=None, boundary=None)\n",
      "17:15 bilby INFO    :   A = Uniform(minimum=-0.05196944619762733, maximum=0.10393889239525465, name='A', latex_label='A', unit=None, boundary=None)\n",
      "17:15 bilby INFO    :   beta = Uniform(minimum=-4, maximum=2, name='beta', latex_label='beta', unit=None, boundary=None)\n",
      "17:15 bilby INFO    :   wave0 = 11493.28432185577\n",
      "17:15 bilby INFO    : Single likelihood evaluation took 3.938e-05 s\n"
     ]
    },
    {
     "data": {
      "application/vnd.jupyter.widget-view+json": {
       "model_id": "87c9a9b7316c414ea935c350f62f9ee1",
       "version_major": 2,
       "version_minor": 0
      },
      "text/plain": [
       "0it [00:00, ?it/s]"
      ]
     },
     "metadata": {},
     "output_type": "display_data"
    },
    {
     "name": "stderr",
     "output_type": "stream",
     "text": [
      "17:15 bilby INFO    : Checkpoint every check_point_delta_t = 600s\n",
      "17:15 bilby WARNING : Using cached result\n",
      "17:15 bilby INFO    : Summary of results:\n",
      "nsamples: 2542\n",
      "ln_noise_evidence:    nan\n",
      "ln_evidence: 313.988 +/-  0.276\n",
      "ln_bayes_factor:    nan +/-  0.276\n",
      "\n",
      "/Users/myue/Research/Projects/JWST/dependencies/msa_spec_utils/LAE_spec_utils.py:464: RuntimeWarning: divide by zero encountered in power\n",
      "  self.err_fnu = (self.ivar_fnu)**-0.5\n",
      "/Users/myue/Research/Projects/JWST/dependencies/msa_spec_utils/LAE_spec_utils.py:470: RuntimeWarning: invalid value encountered in divide\n",
      "  self.flam = self.fnu * speed_of_light_angstrom / (self.wave)**2 * 1e-29 * 1e18\n",
      "/Users/myue/Research/Projects/JWST/dependencies/msa_spec_utils/LAE_spec_utils.py:471: RuntimeWarning: divide by zero encountered in divide\n",
      "  self.err_flam = self.err_fnu * (speed_of_light_angstrom / (self.wave)**2 * 1e-29 * 1e18)\n",
      "17:15 bilby INFO    : Running for label '3117_14780', output will be saved to '../../data/civ_saves/J1148/bilby_fit_civ_msaexp_pypeit_v2/'\n",
      "17:15 bilby INFO    : Search parameters:\n",
      "17:15 bilby INFO    :   center = Uniform(minimum=12192.963675224211, maximum=12241.833269112885, name='center', latex_label='center', unit=None, boundary=None)\n",
      "17:15 bilby INFO    :   fwhm = Uniform(minimum=300, maximum=1000, name='fwhm', latex_label='fwhm', unit=None, boundary=None)\n",
      "17:15 bilby INFO    :   flux = Uniform(minimum=-10.679955745589051, maximum=10.679955745589051, name='flux', latex_label='flux', unit=None, boundary=None)\n",
      "17:15 bilby INFO    :   A = Uniform(minimum=-0.049276850468905675, maximum=0.09855370093781135, name='A', latex_label='A', unit=None, boundary=None)\n",
      "17:15 bilby INFO    :   beta = Uniform(minimum=-4, maximum=2, name='beta', latex_label='beta', unit=None, boundary=None)\n",
      "17:15 bilby INFO    :   wave0 = 12217.398472168548\n",
      "17:15 bilby INFO    : Single likelihood evaluation took 3.592e-05 s\n"
     ]
    },
    {
     "data": {
      "application/vnd.jupyter.widget-view+json": {
       "model_id": "151a2d857ef34b13b996428b355f1896",
       "version_major": 2,
       "version_minor": 0
      },
      "text/plain": [
       "0it [00:00, ?it/s]"
      ]
     },
     "metadata": {},
     "output_type": "display_data"
    },
    {
     "name": "stderr",
     "output_type": "stream",
     "text": [
      "17:15 bilby INFO    : Checkpoint every check_point_delta_t = 600s\n",
      "17:15 bilby WARNING : Using cached result\n",
      "17:15 bilby INFO    : Summary of results:\n",
      "nsamples: 2759\n",
      "ln_noise_evidence:    nan\n",
      "ln_evidence: 338.156 +/-  0.282\n",
      "ln_bayes_factor:    nan +/-  0.282\n",
      "\n",
      "/Users/myue/Research/Projects/JWST/dependencies/msa_spec_utils/LAE_spec_utils.py:464: RuntimeWarning: divide by zero encountered in power\n",
      "  self.err_fnu = (self.ivar_fnu)**-0.5\n",
      "/Users/myue/Research/Projects/JWST/dependencies/msa_spec_utils/LAE_spec_utils.py:470: RuntimeWarning: invalid value encountered in divide\n",
      "  self.flam = self.fnu * speed_of_light_angstrom / (self.wave)**2 * 1e-29 * 1e18\n",
      "/Users/myue/Research/Projects/JWST/dependencies/msa_spec_utils/LAE_spec_utils.py:471: RuntimeWarning: divide by zero encountered in divide\n",
      "  self.err_flam = self.err_fnu * (speed_of_light_angstrom / (self.wave)**2 * 1e-29 * 1e18)\n",
      "17:15 bilby INFO    : Running for label '3117_15411', output will be saved to '../../data/civ_saves/J1148/bilby_fit_civ_msaexp_pypeit_v2/'\n",
      "17:15 bilby INFO    : Search parameters:\n",
      "17:15 bilby INFO    :   center = Uniform(minimum=12229.999840250175, maximum=12279.01787568204, name='center', latex_label='center', unit=None, boundary=None)\n",
      "17:15 bilby INFO    :   fwhm = Uniform(minimum=300, maximum=1000, name='fwhm', latex_label='fwhm', unit=None, boundary=None)\n",
      "17:15 bilby INFO    :   flux = Uniform(minimum=-14.154884230369708, maximum=14.154884230369708, name='flux', latex_label='flux', unit=None, boundary=None)\n",
      "17:15 bilby INFO    :   A = Uniform(minimum=-0.06511224045740285, maximum=0.1302244809148057, name='A', latex_label='A', unit=None, boundary=None)\n",
      "17:15 bilby INFO    :   beta = Uniform(minimum=-4, maximum=2, name='beta', latex_label='beta', unit=None, boundary=None)\n",
      "17:15 bilby INFO    :   wave0 = 12254.508857966108\n",
      "17:15 bilby INFO    : Single likelihood evaluation took 4.296e-05 s\n"
     ]
    },
    {
     "data": {
      "application/vnd.jupyter.widget-view+json": {
       "model_id": "1a0b12f9058b4c9d94e7ece05388a9b4",
       "version_major": 2,
       "version_minor": 0
      },
      "text/plain": [
       "0it [00:00, ?it/s]"
      ]
     },
     "metadata": {},
     "output_type": "display_data"
    },
    {
     "name": "stderr",
     "output_type": "stream",
     "text": [
      "17:15 bilby INFO    : Checkpoint every check_point_delta_t = 600s\n",
      "17:15 bilby WARNING : Using cached result\n",
      "17:15 bilby INFO    : Summary of results:\n",
      "nsamples: 3291\n",
      "ln_noise_evidence:    nan\n",
      "ln_evidence: 321.267 +/-  0.335\n",
      "ln_bayes_factor:    nan +/-  0.335\n",
      "\n",
      "/Users/myue/Research/Projects/JWST/dependencies/msa_spec_utils/LAE_spec_utils.py:464: RuntimeWarning: divide by zero encountered in power\n",
      "  self.err_fnu = (self.ivar_fnu)**-0.5\n",
      "/Users/myue/Research/Projects/JWST/dependencies/msa_spec_utils/LAE_spec_utils.py:470: RuntimeWarning: invalid value encountered in divide\n",
      "  self.flam = self.fnu * speed_of_light_angstrom / (self.wave)**2 * 1e-29 * 1e18\n",
      "/Users/myue/Research/Projects/JWST/dependencies/msa_spec_utils/LAE_spec_utils.py:471: RuntimeWarning: divide by zero encountered in divide\n",
      "  self.err_flam = self.err_fnu * (speed_of_light_angstrom / (self.wave)**2 * 1e-29 * 1e18)\n",
      "17:15 bilby INFO    : Running for label '3117_16651', output will be saved to '../../data/civ_saves/J1148/bilby_fit_civ_msaexp_pypeit_v2/'\n",
      "17:15 bilby INFO    : Search parameters:\n",
      "17:15 bilby INFO    :   center = Uniform(minimum=12217.784448548367, maximum=12266.753524494454, name='center', latex_label='center', unit=None, boundary=None)\n",
      "17:15 bilby INFO    :   fwhm = Uniform(minimum=300, maximum=1000, name='fwhm', latex_label='fwhm', unit=None, boundary=None)\n",
      "17:15 bilby INFO    :   flux = Uniform(minimum=-9.462947119942312, maximum=9.462947119942312, name='flux', latex_label='flux', unit=None, boundary=None)\n",
      "17:15 bilby INFO    :   A = Uniform(minimum=-0.043572925874310366, maximum=0.08714585174862073, name='A', latex_label='A', unit=None, boundary=None)\n",
      "17:15 bilby INFO    :   beta = Uniform(minimum=-4, maximum=2, name='beta', latex_label='beta', unit=None, boundary=None)\n",
      "17:15 bilby INFO    :   wave0 = 12242.26898652141\n",
      "17:15 bilby INFO    : Single likelihood evaluation took 3.753e-05 s\n"
     ]
    },
    {
     "data": {
      "application/vnd.jupyter.widget-view+json": {
       "model_id": "418b2b2926f44417b9bade5f187a1930",
       "version_major": 2,
       "version_minor": 0
      },
      "text/plain": [
       "0it [00:00, ?it/s]"
      ]
     },
     "metadata": {},
     "output_type": "display_data"
    },
    {
     "name": "stderr",
     "output_type": "stream",
     "text": [
      "17:15 bilby INFO    : Checkpoint every check_point_delta_t = 600s\n",
      "17:15 bilby WARNING : Using cached result\n",
      "17:15 bilby INFO    : Summary of results:\n",
      "nsamples: 2490\n",
      "ln_noise_evidence:    nan\n",
      "ln_evidence: 323.278 +/-  0.273\n",
      "ln_bayes_factor:    nan +/-  0.273\n",
      "\n",
      "/Users/myue/Research/Projects/JWST/dependencies/msa_spec_utils/LAE_spec_utils.py:464: RuntimeWarning: divide by zero encountered in power\n",
      "  self.err_fnu = (self.ivar_fnu)**-0.5\n",
      "/Users/myue/Research/Projects/JWST/dependencies/msa_spec_utils/LAE_spec_utils.py:470: RuntimeWarning: invalid value encountered in divide\n",
      "  self.flam = self.fnu * speed_of_light_angstrom / (self.wave)**2 * 1e-29 * 1e18\n",
      "/Users/myue/Research/Projects/JWST/dependencies/msa_spec_utils/LAE_spec_utils.py:471: RuntimeWarning: divide by zero encountered in divide\n",
      "  self.err_flam = self.err_fnu * (speed_of_light_angstrom / (self.wave)**2 * 1e-29 * 1e18)\n",
      "17:15 bilby INFO    : Running for label '3117_16736', output will be saved to '../../data/civ_saves/J1148/bilby_fit_civ_msaexp_pypeit_v2/'\n",
      "17:15 bilby INFO    : Search parameters:\n",
      "17:15 bilby INFO    :   center = Uniform(minimum=12223.721243501657, maximum=12272.714114217093, name='center', latex_label='center', unit=None, boundary=None)\n",
      "17:15 bilby INFO    :   fwhm = Uniform(minimum=300, maximum=1000, name='fwhm', latex_label='fwhm', unit=None, boundary=None)\n",
      "17:15 bilby INFO    :   flux = Uniform(minimum=-11.509406790651763, maximum=11.509406790651763, name='flux', latex_label='flux', unit=None, boundary=None)\n",
      "17:15 bilby INFO    :   A = Uniform(minimum=-0.05297028036712175, maximum=0.1059405607342435, name='A', latex_label='A', unit=None, boundary=None)\n",
      "17:15 bilby INFO    :   beta = Uniform(minimum=-4, maximum=2, name='beta', latex_label='beta', unit=None, boundary=None)\n",
      "17:15 bilby INFO    :   wave0 = 12248.217678859375\n",
      "17:15 bilby INFO    : Single likelihood evaluation took 3.881e-05 s\n"
     ]
    },
    {
     "data": {
      "application/vnd.jupyter.widget-view+json": {
       "model_id": "123bd486713d421293526564edf01275",
       "version_major": 2,
       "version_minor": 0
      },
      "text/plain": [
       "0it [00:00, ?it/s]"
      ]
     },
     "metadata": {},
     "output_type": "display_data"
    },
    {
     "name": "stderr",
     "output_type": "stream",
     "text": [
      "17:15 bilby INFO    : Checkpoint every check_point_delta_t = 600s\n",
      "17:15 bilby WARNING : Using cached result\n",
      "17:15 bilby INFO    : Summary of results:\n",
      "nsamples: 3008\n",
      "ln_noise_evidence:    nan\n",
      "ln_evidence: 359.000 +/-  0.294\n",
      "ln_bayes_factor:    nan +/-  0.294\n",
      "\n",
      "/Users/myue/Research/Projects/JWST/dependencies/msa_spec_utils/LAE_spec_utils.py:464: RuntimeWarning: divide by zero encountered in power\n",
      "  self.err_fnu = (self.ivar_fnu)**-0.5\n",
      "/Users/myue/Research/Projects/JWST/dependencies/msa_spec_utils/LAE_spec_utils.py:470: RuntimeWarning: invalid value encountered in divide\n",
      "  self.flam = self.fnu * speed_of_light_angstrom / (self.wave)**2 * 1e-29 * 1e18\n",
      "/Users/myue/Research/Projects/JWST/dependencies/msa_spec_utils/LAE_spec_utils.py:471: RuntimeWarning: divide by zero encountered in divide\n",
      "  self.err_flam = self.err_fnu * (speed_of_light_angstrom / (self.wave)**2 * 1e-29 * 1e18)\n",
      "17:15 bilby INFO    : Running for label '3117_16802', output will be saved to '../../data/civ_saves/J1148/bilby_fit_civ_msaexp_pypeit_v2/'\n",
      "17:15 bilby INFO    : Search parameters:\n",
      "17:15 bilby INFO    :   center = Uniform(minimum=11431.841946711818, maximum=11477.660952510261, name='center', latex_label='center', unit=None, boundary=None)\n",
      "17:15 bilby INFO    :   fwhm = Uniform(minimum=300, maximum=1000, name='fwhm', latex_label='fwhm', unit=None, boundary=None)\n",
      "17:15 bilby INFO    :   flux = Uniform(minimum=-13.068974858155826, maximum=13.068974858155826, name='flux', latex_label='flux', unit=None, boundary=None)\n",
      "17:15 bilby INFO    :   A = Uniform(minimum=-0.06431437891969263, maximum=0.12862875783938527, name='A', latex_label='A', unit=None, boundary=None)\n",
      "17:15 bilby INFO    :   beta = Uniform(minimum=-4, maximum=2, name='beta', latex_label='beta', unit=None, boundary=None)\n",
      "17:15 bilby INFO    :   wave0 = 11454.75144961104\n",
      "17:15 bilby INFO    : Single likelihood evaluation took 3.546e-05 s\n"
     ]
    },
    {
     "data": {
      "application/vnd.jupyter.widget-view+json": {
       "model_id": "396c88eb4c1949299e61d9aed88aa407",
       "version_major": 2,
       "version_minor": 0
      },
      "text/plain": [
       "0it [00:00, ?it/s]"
      ]
     },
     "metadata": {},
     "output_type": "display_data"
    },
    {
     "name": "stderr",
     "output_type": "stream",
     "text": [
      "17:15 bilby INFO    : Checkpoint every check_point_delta_t = 600s\n",
      "17:15 bilby WARNING : Using cached result\n",
      "17:15 bilby INFO    : Summary of results:\n",
      "nsamples: 2395\n",
      "ln_noise_evidence:    nan\n",
      "ln_evidence: 297.781 +/-  0.271\n",
      "ln_bayes_factor:    nan +/-  0.271\n",
      "\n",
      "/Users/myue/Research/Projects/JWST/dependencies/msa_spec_utils/LAE_spec_utils.py:464: RuntimeWarning: divide by zero encountered in power\n",
      "  self.err_fnu = (self.ivar_fnu)**-0.5\n",
      "/Users/myue/Research/Projects/JWST/dependencies/msa_spec_utils/LAE_spec_utils.py:470: RuntimeWarning: invalid value encountered in divide\n",
      "  self.flam = self.fnu * speed_of_light_angstrom / (self.wave)**2 * 1e-29 * 1e18\n",
      "/Users/myue/Research/Projects/JWST/dependencies/msa_spec_utils/LAE_spec_utils.py:471: RuntimeWarning: divide by zero encountered in divide\n",
      "  self.err_flam = self.err_fnu * (speed_of_light_angstrom / (self.wave)**2 * 1e-29 * 1e18)\n",
      "17:15 bilby INFO    : Running for label '3117_16972', output will be saved to '../../data/civ_saves/J1148/bilby_fit_civ_msaexp_pypeit_v2/'\n",
      "17:15 bilby INFO    : Search parameters:\n",
      "17:15 bilby INFO    :   center = Uniform(minimum=12220.127690541434, maximum=12269.106158238996, name='center', latex_label='center', unit=None, boundary=None)\n",
      "17:15 bilby INFO    :   fwhm = Uniform(minimum=300, maximum=1000, name='fwhm', latex_label='fwhm', unit=None, boundary=None)\n",
      "17:15 bilby INFO    :   flux = Uniform(minimum=-8.76993128542982, maximum=8.76993128542982, name='flux', latex_label='flux', unit=None, boundary=None)\n",
      "17:15 bilby INFO    :   A = Uniform(minimum=-0.04037413357973536, maximum=0.08074826715947073, name='A', latex_label='A', unit=None, boundary=None)\n",
      "17:15 bilby INFO    :   beta = Uniform(minimum=-4, maximum=2, name='beta', latex_label='beta', unit=None, boundary=None)\n",
      "17:15 bilby INFO    :   wave0 = 12244.616924390215\n",
      "17:15 bilby INFO    : Single likelihood evaluation took 3.976e-05 s\n"
     ]
    },
    {
     "data": {
      "application/vnd.jupyter.widget-view+json": {
       "model_id": "bdbf6030ed9c4e71840a30e596ea3bc7",
       "version_major": 2,
       "version_minor": 0
      },
      "text/plain": [
       "0it [00:00, ?it/s]"
      ]
     },
     "metadata": {},
     "output_type": "display_data"
    },
    {
     "name": "stderr",
     "output_type": "stream",
     "text": [
      "17:15 bilby INFO    : Checkpoint every check_point_delta_t = 600s\n",
      "17:15 bilby WARNING : Using cached result\n",
      "17:15 bilby INFO    : Summary of results:\n",
      "nsamples: 2682\n",
      "ln_noise_evidence:    nan\n",
      "ln_evidence: 342.868 +/-  0.279\n",
      "ln_bayes_factor:    nan +/-  0.279\n",
      "\n",
      "/Users/myue/Research/Projects/JWST/dependencies/msa_spec_utils/LAE_spec_utils.py:464: RuntimeWarning: divide by zero encountered in power\n",
      "  self.err_fnu = (self.ivar_fnu)**-0.5\n",
      "/Users/myue/Research/Projects/JWST/dependencies/msa_spec_utils/LAE_spec_utils.py:470: RuntimeWarning: invalid value encountered in divide\n",
      "  self.flam = self.fnu * speed_of_light_angstrom / (self.wave)**2 * 1e-29 * 1e18\n",
      "/Users/myue/Research/Projects/JWST/dependencies/msa_spec_utils/LAE_spec_utils.py:471: RuntimeWarning: divide by zero encountered in divide\n",
      "  self.err_flam = self.err_fnu * (speed_of_light_angstrom / (self.wave)**2 * 1e-29 * 1e18)\n",
      "17:15 bilby INFO    : Running for label '3117_17076', output will be saved to '../../data/civ_saves/J1148/bilby_fit_civ_msaexp_pypeit_v2/'\n",
      "17:15 bilby INFO    : Search parameters:\n",
      "17:15 bilby INFO    :   center = Uniform(minimum=11521.971981277562, maximum=11568.152229699517, name='center', latex_label='center', unit=None, boundary=None)\n",
      "17:15 bilby INFO    :   fwhm = Uniform(minimum=300, maximum=1000, name='fwhm', latex_label='fwhm', unit=None, boundary=None)\n",
      "17:15 bilby INFO    :   flux = Uniform(minimum=-10.99729486505309, maximum=10.99729486505309, name='flux', latex_label='flux', unit=None, boundary=None)\n",
      "17:15 bilby INFO    :   A = Uniform(minimum=-0.05369598628699334, maximum=0.10739197257398668, name='A', latex_label='A', unit=None, boundary=None)\n",
      "17:15 bilby INFO    :   beta = Uniform(minimum=-4, maximum=2, name='beta', latex_label='beta', unit=None, boundary=None)\n",
      "17:15 bilby INFO    :   wave0 = 11545.06210548854\n",
      "17:15 bilby INFO    : Single likelihood evaluation took 4.188e-05 s\n"
     ]
    },
    {
     "data": {
      "application/vnd.jupyter.widget-view+json": {
       "model_id": "90b6ee5e27cf457b9452d536206aacf3",
       "version_major": 2,
       "version_minor": 0
      },
      "text/plain": [
       "0it [00:00, ?it/s]"
      ]
     },
     "metadata": {},
     "output_type": "display_data"
    },
    {
     "name": "stderr",
     "output_type": "stream",
     "text": [
      "17:15 bilby INFO    : Checkpoint every check_point_delta_t = 600s\n",
      "17:15 bilby WARNING : Using cached result\n",
      "17:15 bilby INFO    : Summary of results:\n",
      "nsamples: 3745\n",
      "ln_noise_evidence:    nan\n",
      "ln_evidence: 318.293 +/-  0.358\n",
      "ln_bayes_factor:    nan +/-  0.358\n",
      "\n",
      "/Users/myue/Research/Projects/JWST/dependencies/msa_spec_utils/LAE_spec_utils.py:464: RuntimeWarning: divide by zero encountered in power\n",
      "  self.err_fnu = (self.ivar_fnu)**-0.5\n",
      "/Users/myue/Research/Projects/JWST/dependencies/msa_spec_utils/LAE_spec_utils.py:470: RuntimeWarning: invalid value encountered in divide\n",
      "  self.flam = self.fnu * speed_of_light_angstrom / (self.wave)**2 * 1e-29 * 1e18\n",
      "/Users/myue/Research/Projects/JWST/dependencies/msa_spec_utils/LAE_spec_utils.py:471: RuntimeWarning: divide by zero encountered in divide\n",
      "  self.err_flam = self.err_fnu * (speed_of_light_angstrom / (self.wave)**2 * 1e-29 * 1e18)\n",
      "17:15 bilby INFO    : Running for label '3117_17242', output will be saved to '../../data/civ_saves/J1148/bilby_fit_civ_msaexp_pypeit_v2/'\n",
      "17:15 bilby INFO    : Search parameters:\n",
      "17:15 bilby INFO    :   center = Uniform(minimum=12049.514598008405, maximum=12097.809245695815, name='center', latex_label='center', unit=None, boundary=None)\n",
      "17:15 bilby INFO    :   fwhm = Uniform(minimum=300, maximum=1000, name='fwhm', latex_label='fwhm', unit=None, boundary=None)\n",
      "17:15 bilby INFO    :   flux = Uniform(minimum=-10.995494678810715, maximum=10.995494678810715, name='flux', latex_label='flux', unit=None, boundary=None)\n",
      "17:15 bilby INFO    :   A = Uniform(minimum=-0.051336704889740396, maximum=0.10267340977948079, name='A', latex_label='A', unit=None, boundary=None)\n",
      "17:15 bilby INFO    :   beta = Uniform(minimum=-4, maximum=2, name='beta', latex_label='beta', unit=None, boundary=None)\n",
      "17:15 bilby INFO    :   wave0 = 12073.66192185211\n",
      "17:15 bilby INFO    : Single likelihood evaluation took 4.158e-05 s\n"
     ]
    },
    {
     "data": {
      "application/vnd.jupyter.widget-view+json": {
       "model_id": "08b948b335804f52b2fa307bc3af6dcb",
       "version_major": 2,
       "version_minor": 0
      },
      "text/plain": [
       "0it [00:00, ?it/s]"
      ]
     },
     "metadata": {},
     "output_type": "display_data"
    },
    {
     "name": "stderr",
     "output_type": "stream",
     "text": [
      "17:15 bilby INFO    : Checkpoint every check_point_delta_t = 600s\n",
      "17:15 bilby WARNING : Using cached result\n",
      "17:15 bilby INFO    : Summary of results:\n",
      "nsamples: 2396\n",
      "ln_noise_evidence:    nan\n",
      "ln_evidence: 338.161 +/-  0.266\n",
      "ln_bayes_factor:    nan +/-  0.266\n",
      "\n",
      "/Users/myue/Research/Projects/JWST/dependencies/msa_spec_utils/LAE_spec_utils.py:464: RuntimeWarning: divide by zero encountered in power\n",
      "  self.err_fnu = (self.ivar_fnu)**-0.5\n",
      "/Users/myue/Research/Projects/JWST/dependencies/msa_spec_utils/LAE_spec_utils.py:470: RuntimeWarning: invalid value encountered in divide\n",
      "  self.flam = self.fnu * speed_of_light_angstrom / (self.wave)**2 * 1e-29 * 1e18\n",
      "/Users/myue/Research/Projects/JWST/dependencies/msa_spec_utils/LAE_spec_utils.py:471: RuntimeWarning: divide by zero encountered in divide\n",
      "  self.err_flam = self.err_fnu * (speed_of_light_angstrom / (self.wave)**2 * 1e-29 * 1e18)\n",
      "17:15 bilby INFO    : Running for label '3117_17783', output will be saved to '../../data/civ_saves/J1148/bilby_fit_civ_msaexp_pypeit_v2/'\n",
      "17:15 bilby INFO    : Search parameters:\n",
      "17:15 bilby INFO    :   center = Uniform(minimum=10706.579550090071, maximum=10749.4916925754, name='center', latex_label='center', unit=None, boundary=None)\n",
      "17:15 bilby INFO    :   fwhm = Uniform(minimum=300, maximum=1000, name='fwhm', latex_label='fwhm', unit=None, boundary=None)\n",
      "17:15 bilby INFO    :   flux = Uniform(minimum=-9.621178253610333, maximum=9.621178253610333, name='flux', latex_label='flux', unit=None, boundary=None)\n",
      "17:15 bilby INFO    :   A = Uniform(minimum=-0.050554553819911585, maximum=0.10110910763982317, name='A', latex_label='A', unit=None, boundary=None)\n",
      "17:15 bilby INFO    :   beta = Uniform(minimum=-4, maximum=2, name='beta', latex_label='beta', unit=None, boundary=None)\n",
      "17:15 bilby INFO    :   wave0 = 10728.035621332736\n",
      "17:15 bilby INFO    : Single likelihood evaluation took 4.222e-05 s\n"
     ]
    },
    {
     "name": "stdout",
     "output_type": "stream",
     "text": [
      "3117_17433 has no CIV\n"
     ]
    },
    {
     "data": {
      "application/vnd.jupyter.widget-view+json": {
       "model_id": "8287e86523814a82981b271e4164dc75",
       "version_major": 2,
       "version_minor": 0
      },
      "text/plain": [
       "0it [00:00, ?it/s]"
      ]
     },
     "metadata": {},
     "output_type": "display_data"
    },
    {
     "name": "stderr",
     "output_type": "stream",
     "text": [
      "17:15 bilby INFO    : Checkpoint every check_point_delta_t = 600s\n",
      "17:15 bilby WARNING : Using cached result\n",
      "17:15 bilby INFO    : Summary of results:\n",
      "nsamples: 2320\n",
      "ln_noise_evidence:    nan\n",
      "ln_evidence: 276.270 +/-  0.254\n",
      "ln_bayes_factor:    nan +/-  0.254\n",
      "\n",
      "/Users/myue/Research/Projects/JWST/dependencies/msa_spec_utils/LAE_spec_utils.py:464: RuntimeWarning: divide by zero encountered in power\n",
      "  self.err_fnu = (self.ivar_fnu)**-0.5\n",
      "/Users/myue/Research/Projects/JWST/dependencies/msa_spec_utils/LAE_spec_utils.py:470: RuntimeWarning: invalid value encountered in divide\n",
      "  self.flam = self.fnu * speed_of_light_angstrom / (self.wave)**2 * 1e-29 * 1e18\n",
      "/Users/myue/Research/Projects/JWST/dependencies/msa_spec_utils/LAE_spec_utils.py:471: RuntimeWarning: divide by zero encountered in divide\n",
      "  self.err_flam = self.err_fnu * (speed_of_light_angstrom / (self.wave)**2 * 1e-29 * 1e18)\n",
      "17:15 bilby INFO    : Running for label '3117_18178', output will be saved to '../../data/civ_saves/J1148/bilby_fit_civ_msaexp_pypeit_v2/'\n",
      "17:15 bilby INFO    : Search parameters:\n",
      "17:15 bilby INFO    :   center = Uniform(minimum=10402.900312682508, maximum=10444.595303915703, name='center', latex_label='center', unit=None, boundary=None)\n",
      "17:15 bilby INFO    :   fwhm = Uniform(minimum=300, maximum=1000, name='fwhm', latex_label='fwhm', unit=None, boundary=None)\n",
      "17:15 bilby INFO    :   flux = Uniform(minimum=-14.308463482801576, maximum=14.308463482801576, name='flux', latex_label='flux', unit=None, boundary=None)\n",
      "17:15 bilby INFO    :   A = Uniform(minimum=-0.07737868263137418, maximum=0.15475736526274836, name='A', latex_label='A', unit=None, boundary=None)\n",
      "17:15 bilby INFO    :   beta = Uniform(minimum=-4, maximum=2, name='beta', latex_label='beta', unit=None, boundary=None)\n",
      "17:15 bilby INFO    :   wave0 = 10423.747808299106\n",
      "17:15 bilby INFO    : Single likelihood evaluation took 3.920e-05 s\n"
     ]
    },
    {
     "data": {
      "application/vnd.jupyter.widget-view+json": {
       "model_id": "ae490abad14f49bea47dfadbe17c6fbf",
       "version_major": 2,
       "version_minor": 0
      },
      "text/plain": [
       "0it [00:00, ?it/s]"
      ]
     },
     "metadata": {},
     "output_type": "display_data"
    },
    {
     "name": "stderr",
     "output_type": "stream",
     "text": [
      "17:15 bilby INFO    : Checkpoint every check_point_delta_t = 600s\n",
      "17:15 bilby WARNING : Using cached result\n",
      "17:15 bilby INFO    : Summary of results:\n",
      "nsamples: 3321\n",
      "ln_noise_evidence:    nan\n",
      "ln_evidence: 238.659 +/-  0.320\n",
      "ln_bayes_factor:    nan +/-  0.320\n",
      "\n",
      "/Users/myue/Research/Projects/JWST/dependencies/msa_spec_utils/LAE_spec_utils.py:464: RuntimeWarning: divide by zero encountered in power\n",
      "  self.err_fnu = (self.ivar_fnu)**-0.5\n",
      "/Users/myue/Research/Projects/JWST/dependencies/msa_spec_utils/LAE_spec_utils.py:470: RuntimeWarning: invalid value encountered in divide\n",
      "  self.flam = self.fnu * speed_of_light_angstrom / (self.wave)**2 * 1e-29 * 1e18\n",
      "/Users/myue/Research/Projects/JWST/dependencies/msa_spec_utils/LAE_spec_utils.py:471: RuntimeWarning: divide by zero encountered in divide\n",
      "  self.err_flam = self.err_fnu * (speed_of_light_angstrom / (self.wave)**2 * 1e-29 * 1e18)\n",
      "17:15 bilby INFO    : Running for label '3117_18852', output will be saved to '../../data/civ_saves/J1148/bilby_fit_civ_msaexp_pypeit_v2/'\n",
      "17:15 bilby INFO    : Search parameters:\n",
      "17:15 bilby INFO    :   center = Uniform(minimum=9953.668947395821, maximum=9993.563412114843, name='center', latex_label='center', unit=None, boundary=None)\n",
      "17:15 bilby INFO    :   fwhm = Uniform(minimum=300, maximum=1000, name='fwhm', latex_label='fwhm', unit=None, boundary=None)\n",
      "17:15 bilby INFO    :   flux = Uniform(minimum=-8.010040748403464, maximum=8.010040748403464, name='flux', latex_label='flux', unit=None, boundary=None)\n",
      "17:15 bilby INFO    :   A = Uniform(minimum=-0.05750890284157109, maximum=0.11501780568314218, name='A', latex_label='A', unit=None, boundary=None)\n",
      "17:15 bilby INFO    :   beta = Uniform(minimum=-4, maximum=2, name='beta', latex_label='beta', unit=None, boundary=None)\n",
      "17:15 bilby INFO    :   wave0 = 9973.616179755332\n",
      "17:15 bilby INFO    : Single likelihood evaluation took 3.565e-05 s\n"
     ]
    },
    {
     "data": {
      "application/vnd.jupyter.widget-view+json": {
       "model_id": "191d17d93e6540daa9665ab5db6c1b51",
       "version_major": 2,
       "version_minor": 0
      },
      "text/plain": [
       "0it [00:00, ?it/s]"
      ]
     },
     "metadata": {},
     "output_type": "display_data"
    },
    {
     "name": "stderr",
     "output_type": "stream",
     "text": [
      "17:15 bilby INFO    : Checkpoint every check_point_delta_t = 600s\n",
      "17:15 bilby WARNING : Using cached result\n",
      "17:15 bilby INFO    : Summary of results:\n",
      "nsamples: 2132\n",
      "ln_noise_evidence:    nan\n",
      "ln_evidence: 244.668 +/-  0.243\n",
      "ln_bayes_factor:    nan +/-  0.243\n",
      "\n",
      "/Users/myue/Research/Projects/JWST/dependencies/msa_spec_utils/LAE_spec_utils.py:464: RuntimeWarning: divide by zero encountered in power\n",
      "  self.err_fnu = (self.ivar_fnu)**-0.5\n",
      "/Users/myue/Research/Projects/JWST/dependencies/msa_spec_utils/LAE_spec_utils.py:470: RuntimeWarning: invalid value encountered in divide\n",
      "  self.flam = self.fnu * speed_of_light_angstrom / (self.wave)**2 * 1e-29 * 1e18\n",
      "/Users/myue/Research/Projects/JWST/dependencies/msa_spec_utils/LAE_spec_utils.py:471: RuntimeWarning: divide by zero encountered in divide\n",
      "  self.err_flam = self.err_fnu * (speed_of_light_angstrom / (self.wave)**2 * 1e-29 * 1e18)\n",
      "17:15 bilby INFO    : Running for label '3117_19229', output will be saved to '../../data/civ_saves/J1148/bilby_fit_civ_msaexp_pypeit_v2/'\n",
      "17:15 bilby INFO    : Search parameters:\n"
     ]
    },
    {
     "name": "stdout",
     "output_type": "stream",
     "text": [
      "3117_18887 has no CIV\n"
     ]
    },
    {
     "name": "stderr",
     "output_type": "stream",
     "text": [
      "17:15 bilby INFO    :   center = Uniform(minimum=11979.832221151648, maximum=12027.847580755462, name='center', latex_label='center', unit=None, boundary=None)\n",
      "17:15 bilby INFO    :   fwhm = Uniform(minimum=300, maximum=1000, name='fwhm', latex_label='fwhm', unit=None, boundary=None)\n",
      "17:15 bilby INFO    :   flux = Uniform(minimum=-6.2327697986577775, maximum=6.2327697986577775, name='flux', latex_label='flux', unit=None, boundary=None)\n",
      "17:15 bilby INFO    :   A = Uniform(minimum=-0.02926935284474359, maximum=0.05853870568948718, name='A', latex_label='A', unit=None, boundary=None)\n",
      "17:15 bilby INFO    :   beta = Uniform(minimum=-4, maximum=2, name='beta', latex_label='beta', unit=None, boundary=None)\n",
      "17:15 bilby INFO    :   wave0 = 12003.839900953555\n",
      "17:15 bilby INFO    : Single likelihood evaluation took 3.917e-05 s\n"
     ]
    },
    {
     "data": {
      "application/vnd.jupyter.widget-view+json": {
       "model_id": "3b01e805922142d2b1b84e13e0519d30",
       "version_major": 2,
       "version_minor": 0
      },
      "text/plain": [
       "0it [00:00, ?it/s]"
      ]
     },
     "metadata": {},
     "output_type": "display_data"
    },
    {
     "name": "stderr",
     "output_type": "stream",
     "text": [
      "17:15 bilby INFO    : Checkpoint every check_point_delta_t = 600s\n",
      "17:15 bilby WARNING : Using cached result\n",
      "17:15 bilby INFO    : Summary of results:\n",
      "nsamples: 2520\n",
      "ln_noise_evidence:    nan\n",
      "ln_evidence: 382.750 +/-  0.274\n",
      "ln_bayes_factor:    nan +/-  0.274\n",
      "\n",
      "/Users/myue/Research/Projects/JWST/dependencies/msa_spec_utils/LAE_spec_utils.py:464: RuntimeWarning: divide by zero encountered in power\n",
      "  self.err_fnu = (self.ivar_fnu)**-0.5\n",
      "/Users/myue/Research/Projects/JWST/dependencies/msa_spec_utils/LAE_spec_utils.py:470: RuntimeWarning: invalid value encountered in divide\n",
      "  self.flam = self.fnu * speed_of_light_angstrom / (self.wave)**2 * 1e-29 * 1e18\n",
      "/Users/myue/Research/Projects/JWST/dependencies/msa_spec_utils/LAE_spec_utils.py:471: RuntimeWarning: divide by zero encountered in divide\n",
      "  self.err_flam = self.err_fnu * (speed_of_light_angstrom / (self.wave)**2 * 1e-29 * 1e18)\n",
      "17:15 bilby INFO    : Running for label '3117_19514', output will be saved to '../../data/civ_saves/J1148/bilby_fit_civ_msaexp_pypeit_v2/'\n",
      "17:15 bilby INFO    : Search parameters:\n",
      "17:15 bilby INFO    :   center = Uniform(minimum=10336.441582404117, maximum=10377.870205980886, name='center', latex_label='center', unit=None, boundary=None)\n",
      "17:15 bilby INFO    :   fwhm = Uniform(minimum=300, maximum=1000, name='fwhm', latex_label='fwhm', unit=None, boundary=None)\n",
      "17:15 bilby INFO    :   flux = Uniform(minimum=-9.069254759536605, maximum=9.069254759536605, name='flux', latex_label='flux', unit=None, boundary=None)\n",
      "17:15 bilby INFO    :   A = Uniform(minimum=-0.04936092800902218, maximum=0.09872185601804435, name='A', latex_label='A', unit=None, boundary=None)\n",
      "17:15 bilby INFO    :   beta = Uniform(minimum=-4, maximum=2, name='beta', latex_label='beta', unit=None, boundary=None)\n",
      "17:15 bilby INFO    :   wave0 = 10357.155894192501\n",
      "17:15 bilby INFO    : Single likelihood evaluation took 3.669e-05 s\n"
     ]
    },
    {
     "data": {
      "application/vnd.jupyter.widget-view+json": {
       "model_id": "0ffd726fc1514b7880120cdf9045de80",
       "version_major": 2,
       "version_minor": 0
      },
      "text/plain": [
       "0it [00:00, ?it/s]"
      ]
     },
     "metadata": {},
     "output_type": "display_data"
    },
    {
     "name": "stderr",
     "output_type": "stream",
     "text": [
      "17:15 bilby INFO    : Checkpoint every check_point_delta_t = 600s\n",
      "17:15 bilby WARNING : Using cached result\n",
      "17:15 bilby INFO    : Summary of results:\n",
      "nsamples: 2156\n",
      "ln_noise_evidence:    nan\n",
      "ln_evidence: 223.966 +/-  0.244\n",
      "ln_bayes_factor:    nan +/-  0.244\n",
      "\n",
      "/Users/myue/Research/Projects/JWST/dependencies/msa_spec_utils/LAE_spec_utils.py:464: RuntimeWarning: divide by zero encountered in power\n",
      "  self.err_fnu = (self.ivar_fnu)**-0.5\n",
      "/Users/myue/Research/Projects/JWST/dependencies/msa_spec_utils/LAE_spec_utils.py:470: RuntimeWarning: invalid value encountered in divide\n",
      "  self.flam = self.fnu * speed_of_light_angstrom / (self.wave)**2 * 1e-29 * 1e18\n",
      "/Users/myue/Research/Projects/JWST/dependencies/msa_spec_utils/LAE_spec_utils.py:471: RuntimeWarning: divide by zero encountered in divide\n",
      "  self.err_flam = self.err_fnu * (speed_of_light_angstrom / (self.wave)**2 * 1e-29 * 1e18)\n",
      "17:15 bilby INFO    : Running for label '3117_19692', output will be saved to '../../data/civ_saves/J1148/bilby_fit_civ_msaexp_pypeit_v2/'\n",
      "17:15 bilby INFO    : Search parameters:\n",
      "17:15 bilby INFO    :   center = Uniform(minimum=12215.049629426745, maximum=12264.007744173947, name='center', latex_label='center', unit=None, boundary=None)\n",
      "17:15 bilby INFO    :   fwhm = Uniform(minimum=300, maximum=1000, name='fwhm', latex_label='fwhm', unit=None, boundary=None)\n",
      "17:15 bilby INFO    :   flux = Uniform(minimum=-10.700603423987067, maximum=10.700603423987067, name='flux', latex_label='flux', unit=None, boundary=None)\n",
      "17:15 bilby INFO    :   A = Uniform(minimum=-0.04928284854226401, maximum=0.09856569708452802, name='A', latex_label='A', unit=None, boundary=None)\n",
      "17:15 bilby INFO    :   beta = Uniform(minimum=-4, maximum=2, name='beta', latex_label='beta', unit=None, boundary=None)\n",
      "17:15 bilby INFO    :   wave0 = 12239.528686800346\n",
      "17:15 bilby INFO    : Single likelihood evaluation took 3.620e-05 s\n"
     ]
    },
    {
     "data": {
      "application/vnd.jupyter.widget-view+json": {
       "model_id": "a00beb8757ec4509875d761a9fbfb6ed",
       "version_major": 2,
       "version_minor": 0
      },
      "text/plain": [
       "0it [00:00, ?it/s]"
      ]
     },
     "metadata": {},
     "output_type": "display_data"
    },
    {
     "name": "stderr",
     "output_type": "stream",
     "text": [
      "17:15 bilby INFO    : Checkpoint every check_point_delta_t = 600s\n",
      "17:15 bilby WARNING : Using cached result\n",
      "17:15 bilby INFO    : Summary of results:\n",
      "nsamples: 1544\n",
      "ln_noise_evidence:    nan\n",
      "ln_evidence: 130.400 +/-  0.183\n",
      "ln_bayes_factor:    nan +/-  0.183\n",
      "\n"
     ]
    }
   ],
   "source": [
    "# summarize the fitting results\n",
    "\n",
    "zcivlist = []\n",
    "fwhmlist = []\n",
    "fluxlist = []\n",
    "ewcivlist = []\n",
    "\n",
    "for index in range(len(lyainfo)):\n",
    "    \n",
    "    z = lyainfo['z_O3doublet_combined_n'][index]\n",
    "        \n",
    "    isource = '3117_%d'%(lyainfo['NUMBER'][index])\n",
    "    label = isource\n",
    "    \n",
    "    if not os.path.exists(outdir_msaexp+f'{isource}_result.json'):\n",
    "        print(label, 'has no CIV')\n",
    "        zcivlist.append(-np.ones(7))\n",
    "        fwhmlist.append(-np.ones(7))\n",
    "        fluxlist.append(-np.ones(7))\n",
    "        ewcivlist.append(-np.ones(7))\n",
    "        continue\n",
    "\n",
    "    # find the spec1d file\n",
    "    spec1dfile = os.path.join(spec1ddir,'spec1d_%s_stack.fits'%isource)\n",
    "    if not os.path.exists(spec1dfile):\n",
    "        spec1dfile = os.path.join(spec1ddir,'manu1d_%s_stack.fits'%isource)\n",
    "    if not os.path.exists(spec1dfile):\n",
    "        print(label, 'has no spec')\n",
    "        continue\n",
    "\n",
    "\n",
    "    msaspec = LAE.PypeItSpecStacked(filename=spec1dfile, zO3=z, outdir=outdir_msaexp, label=label)\n",
    "\n",
    "    # gather necessary info\n",
    "    msaspec.fit_civ_profile_bilby()\n",
    "    #selectidx_pypeit.append(index)\n",
    "\n",
    "    # generate a uniform sample\n",
    "    samples = msaspec.civ_result.nested_samples\n",
    "    weights = np.array(samples['weights'])\n",
    "    \n",
    "    center_sample = dyfunc.resample_equal(np.array(samples['center']), weights)\n",
    "    fwhm_sample = dyfunc.resample_equal(np.array(samples['fwhm']), weights)\n",
    "    flux_sample = dyfunc.resample_equal(np.array(samples['flux']), weights)\n",
    "    A_sample = dyfunc.resample_equal(np.array(samples['A']), weights)\n",
    "    beta_sample = dyfunc.resample_equal(np.array(samples['beta']), weights)\n",
    "    EW_sample = flux_sample / A_sample / (1+z)\n",
    "    \n",
    "    zciv_quantile = np.percentile(center_sample, [0.135,2.5,16,50,84,97.5, 99.865]) / 1549 - 1\n",
    "    fwhm_quantile = np.percentile(fwhm_sample, [0.135,2.5,16,50,84,97.5, 99.865])\n",
    "    flam_quantile = np.percentile(flux_sample, [0.135,2.5,16,50,84,97.5, 99.865])\n",
    "    EW_quantile = np.percentile(EW_sample, [0.135,2.5,16,50,84,97.5, 99.865])\n",
    "\n",
    "    zcivlist.append(zciv_quantile)\n",
    "    fwhmlist.append(fwhm_quantile)\n",
    "    fluxlist.append(flam_quantile)\n",
    "    ewcivlist.append(EW_quantile)\n"
   ]
  },
  {
   "cell_type": "code",
   "execution_count": 13,
   "id": "bb3a56b4-a588-4b3c-828b-07583397aa17",
   "metadata": {},
   "outputs": [],
   "source": [
    "lyainfo['zcivquantile'] = np.array(zcivlist)\n",
    "lyainfo['fwhmcivquantile'] = np.array(fwhmlist)\n",
    "lyainfo['fcivquantile'] = np.array(fluxlist)\n",
    "lyainfo['ewcivquantile'] = np.array(ewcivlist)"
   ]
  },
  {
   "cell_type": "code",
   "execution_count": 15,
   "id": "982067ad-e63d-46fd-bd33-7c925866f6f3",
   "metadata": {},
   "outputs": [
    {
     "data": {
      "text/html": [
       "<div><i>Table length=4</i>\n",
       "<table id=\"table35289001728\" class=\"table-striped table-bordered table-condensed\">\n",
       "<thead><tr><th>NUMBER</th><th>ID</th><th>RA</th><th>DEC</th><th>zguess</th><th>DK_JM_ave_score</th><th>Nclumps_Y</th><th>Nclumps_spec</th><th>Module_ignore</th><th>REDO_1D</th><th>comments_fitting</th><th>MANUAL_CHANGE_zspec</th><th>comments_zspec</th><th>z_O3doublet_combined_n</th><th>f_Hb</th><th>f_O3_4960</th><th>f_O3_5008</th><th>f_Hb_err</th><th>f_O3_4960_err</th><th>f_O3_5008_err</th><th>ALPHA_J2000_det</th><th>DELTA_J2000_det</th><th>X_IMAGE_det</th><th>Y_IMAGE_det</th><th>A_IMAGE_det</th><th>B_IMAGE_det</th><th>THETA_IMAGE_det</th><th>ELONGATION_det</th><th>ELLIPTICITY_det</th><th>FWHM_WORLD_det</th><th>CLASS_STAR_det</th><th>BACKGROUND_det</th><th>ap_corr</th><th>good_mag</th><th>good_nrc</th><th>MAG_AUTO_F356W_apcor</th><th>MAG_AUTO_F200W_apcor</th><th>MAG_AUTO_F115W_apcor</th><th>F850LP_AUTO_mag</th><th>F775W_AUTO_mag</th><th>F606W_AUTO_mag</th><th>fnu_F356W_AUTO_apcor</th><th>enu_F356W_aper_model</th><th>fnu_F200W_AUTO_apcor</th><th>enu_F200W_aper_model</th><th>fnu_F115W_AUTO_apcor</th><th>enu_F115W_aper_model</th><th>F850LP_AUTO_fnu</th><th>F850LP_AUTO_enu</th><th>F775W_AUTO_fnu</th><th>F775W_AUTO_enu</th><th>F606W_AUTO_fnu</th><th>F606W_AUTO_enu</th><th>CHECK_PHOTOMETRY</th><th>BACKWARD_ONLY</th><th>BACKWARD</th><th>BACKWARD_INFO</th><th>CONFID</th><th>EWquantile</th><th>FWHMquantile</th><th>zlyaquantile</th><th>fluxquantile</th><th>Muv</th><th>EWfromHb</th><th>fesc</th><th>zcivquantile</th><th>fwhmcivquantile</th><th>fcivquantile</th><th>ewcivquantile</th></tr></thead>\n",
       "<thead><tr><th></th><th></th><th></th><th></th><th></th><th></th><th></th><th></th><th></th><th></th><th></th><th></th><th></th><th></th><th></th><th></th><th></th><th></th><th></th><th></th><th>deg</th><th>deg</th><th>pix</th><th>pix</th><th>pix</th><th>pix</th><th>deg</th><th></th><th></th><th>deg</th><th></th><th>ct</th><th>mag</th><th></th><th></th><th>mag</th><th>mag</th><th>mag</th><th>mag</th><th>mag</th><th>mag</th><th>ct</th><th>ct</th><th>ct</th><th>ct</th><th>ct</th><th>ct</th><th>ct</th><th>ct</th><th>ct</th><th>ct</th><th>ct</th><th>ct</th><th></th><th></th><th></th><th></th><th></th><th></th><th></th><th></th><th></th><th></th><th></th><th></th><th></th><th></th><th></th><th></th></tr></thead>\n",
       "<thead><tr><th>float64</th><th>bytes16</th><th>float64</th><th>float64</th><th>float64</th><th>float64</th><th>float64</th><th>float64</th><th>bytes1</th><th>bool</th><th>bytes32</th><th>bool</th><th>bytes9</th><th>float64</th><th>float64</th><th>float64</th><th>float64</th><th>float64</th><th>float64</th><th>float64</th><th>float64</th><th>float64</th><th>float32</th><th>float32</th><th>float32</th><th>float32</th><th>float32</th><th>float32</th><th>float32</th><th>float32</th><th>float32</th><th>float32</th><th>float32</th><th>bool</th><th>bool</th><th>float32</th><th>float32</th><th>float32</th><th>float32</th><th>float32</th><th>float32</th><th>float32</th><th>float64</th><th>float32</th><th>float64</th><th>float32</th><th>float64</th><th>float32</th><th>float32</th><th>float32</th><th>float32</th><th>float32</th><th>float32</th><th>bool</th><th>bool</th><th>bool</th><th>bytes31</th><th>float64</th><th>float64[7]</th><th>float64[7]</th><th>float64[7]</th><th>float64[7]</th><th>float64</th><th>float64[2]</th><th>float64[7]</th><th>float64[7]</th><th>float64[7]</th><th>float64[7]</th><th>float64[7]</th></tr></thead>\n",
       "<tr><td>3607.0</td><td>3607_0</td><td>177.09877404486716</td><td>52.839513868554405</td><td>5.4508645970148955</td><td>6.0</td><td>1.0</td><td>1.0</td><td></td><td>False</td><td>--</td><td>False</td><td>--</td><td>5.449231251721088</td><td>1.4198599817561552</td><td>1.649393061811899</td><td>4.058861835029203</td><td>0.3733368742678631</td><td>0.21409173821823532</td><td>0.2975728742071325</td><td>177.09877404486716</td><td>52.839513868554405</td><td>9875.36</td><td>1578.325</td><td>2.7492359</td><td>2.0215812</td><td>23.784586</td><td>1.3599434</td><td>0.26467526</td><td>0.001446041</td><td>0.022941893</td><td>-8.94379e-05</td><td>-0.509518</td><td>False</td><td>True</td><td>27.129108</td><td>27.700151</td><td>27.725073</td><td>28.011208</td><td>27.635386</td><td>98.49048</td><td>51.092506</td><td>2.2185395036316407</td><td>30.195332</td><td>1.342044071315567</td><td>29.510126</td><td>2.118700166321312</td><td>22.673431</td><td>6.30895</td><td>32.051315</td><td>5.1225553</td><td>-99.0</td><td>-99.0</td><td>False</td><td>True</td><td>False</td><td>--</td><td>2.0</td><td>62.389839596096444 .. 170.26303167367973</td><td>361.2687174025922 .. 542.5782887310575</td><td>6.454906219559213 .. 6.45668291597775</td><td>12.26840807647547 .. 18.046221175291038</td><td>-18.80663139695369</td><td>364.487793741884 .. 95.83813571256366</td><td>0.17117127285825787 .. 0.4671295845760293</td><td>5.447850404497997 .. 5.453766127509828</td><td>449.38528762155545 .. 996.5741450932454</td><td>2.194306250695192 .. 4.70355318724599</td><td>18.4047405640374 .. 60.721729733656524</td></tr>\n",
       "<tr><td>9314.0</td><td>9314_1</td><td>177.08212797013329</td><td>52.875876740380434</td><td>6.157606522142332</td><td>8.0</td><td>1.0</td><td>1.0</td><td>B</td><td>False</td><td>--</td><td>False</td><td>--</td><td>6.156082161906296</td><td>1.0535878211638594</td><td>1.826981537892447</td><td>6.718282236681661</td><td>0.1414461599844973</td><td>0.12154760767711317</td><td>0.1761067066082999</td><td>177.08212797013329</td><td>52.875876740380434</td><td>5769.3955</td><td>3485.2234</td><td>2.7816513</td><td>2.513885</td><td>-4.9714303</td><td>1.1065149</td><td>0.09626162</td><td>0.0014150712</td><td>0.0025733563</td><td>0.0016609484</td><td>-0.3731693</td><td>False</td><td>True</td><td>26.211275</td><td>27.124037</td><td>26.96251</td><td>27.042698</td><td>98.62683</td><td>98.62683</td><td>118.98446</td><td>2.374468564909201</td><td>51.331738</td><td>2.182439389257191</td><td>59.56576</td><td>3.3388090403898665</td><td>55.324924</td><td>7.5011363</td><td>-7.9232</td><td>6.0814314</td><td>-1.8213075</td><td>4.705786</td><td>False</td><td>False</td><td>True</td><td>1a_213,2a_1710,</td><td>3.0</td><td>80.86403978978184 .. 142.91335721444935</td><td>456.4858385486375 .. 573.9263848652181</td><td>7.16354839291906 .. 7.164744269744561</td><td>15.977733251254051 .. 19.584640570520556</td><td>-19.791030684296103</td><td>135.81912070507659 .. 18.233974131346958</td><td>0.5953803806856728 .. 1.0522329733291198</td><td>6.157099203305729 .. 6.162044334932502</td><td>300.238815352767 .. 964.6211722083852</td><td>1.9469840460194447 .. 4.266970497921243</td><td>14.187694057645906 .. 39.6199935145078</td></tr>\n",
       "<tr><td>11709.0</td><td>11709_1</td><td>177.0827163112276</td><td>52.91159729595587</td><td>6.505548435123314</td><td>9.0</td><td>1.0</td><td>1.0</td><td></td><td>False</td><td>--</td><td>False</td><td>--</td><td>6.50314236665542</td><td>1.3960140726482329</td><td>2.7112808898710483</td><td>7.495865987972272</td><td>0.10565099453020939</td><td>0.12470912240356258</td><td>0.15228575493325172</td><td>177.0827163112276</td><td>52.91159729595587</td><td>1534.1483</td><td>4147.2676</td><td>4.8742323</td><td>2.883055</td><td>-73.46349</td><td>1.6906484</td><td>0.40851098</td><td>0.0023553586</td><td>0.056109488</td><td>0.0007261005</td><td>-0.47978628</td><td>False</td><td>True</td><td>25.524256</td><td>25.990469</td><td>26.10211</td><td>98.52021</td><td>98.52021</td><td>98.52021</td><td>224.02591</td><td>3.985970642210495</td><td>145.8186</td><td>3.7776076425074896</td><td>131.56976</td><td>5.805306347955889</td><td>-99.0</td><td>-99.0</td><td>-99.0</td><td>-99.0</td><td>-99.0</td><td>-99.0</td><td>False</td><td>False</td><td>True</td><td>3a_1354,4a_498,</td><td>3.0</td><td>-2.162583081985863 .. 10.939165716279438</td><td>301.98130609192754 .. 998.3126203791804</td><td>7.489344999680273 .. 7.517953498932611</td><td>-0.6703487498413437 .. 3.0814383733720305</td><td>-20.716526997661084</td><td>96.0469461908652 .. 7.268877574711502</td><td>-0.022515896316873646 .. 0.11389394613901672</td><td>6.50397557270411 .. 6.509871926421905</td><td>712.8841358754993 .. 999.2068294376159</td><td>1.9537918400479741 .. 3.2345844452954684</td><td>10.237640936178153 .. 19.097325372875698</td></tr>\n",
       "<tr><td>14101.0</td><td>14101_1</td><td>177.04512661197705</td><td>52.87542909721438</td><td>6.892908051587657</td><td>7.0</td><td>1.0</td><td>1.0</td><td>B</td><td>False</td><td>--</td><td>False</td><td>--</td><td>6.8894623501202705</td><td>1.3662870581483078</td><td>1.648306930910648</td><td>4.7510212548842805</td><td>0.3551593399660745</td><td>0.19377717000682773</td><td>0.3917216558723263</td><td>177.04512661197705</td><td>52.87542909721438</td><td>6261.8633</td><td>6119.9795</td><td>3.622869</td><td>2.6559362</td><td>-23.727716</td><td>1.3640648</td><td>0.26689696</td><td>0.0023882461</td><td>0.01393402</td><td>0.0005748167</td><td>-0.46965253</td><td>False</td><td>True</td><td>26.471104</td><td>27.079489</td><td>27.20116</td><td>28.092232</td><td>98.53035</td><td>30.815725</td><td>93.661095</td><td>5.120848115106</td><td>53.481632</td><td>4.119094721613525</td><td>47.81192</td><td>6.283106316413595</td><td>21.04299</td><td>12.474399</td><td>-3.004653</td><td>10.092148</td><td>1.7128122</td><td>7.857324</td><td>False</td><td>False</td><td>True</td><td>1a_1685,</td><td>2.0</td><td>27.55873935036699 .. 60.11056198296838</td><td>303.87464237801333 .. 556.7151384876926</td><td>7.89511998066447 .. 7.898565924579745</td><td>3.843311328850575 .. 7.098691058002485</td><td>-19.71885284469036</td><td>270.2531486741445 .. 70.25092518767296</td><td>0.10197379562669116 .. 0.22242316982380914</td><td>6.884256150597942 .. 6.901812089493274</td><td>300.9420085545202 .. 999.4216849747133</td><td>0.28852660086907067 .. 1.4291267884414978</td><td>2.5428046553038586 .. 15.04105374452066</td></tr>\n",
       "</table></div>"
      ],
      "text/plain": [
       "<Table length=4>\n",
       " NUMBER    ID   ...              ewcivquantile              \n",
       "                ...                                         \n",
       "float64 bytes16 ...                float64[7]               \n",
       "------- ------- ... ----------------------------------------\n",
       " 3607.0  3607_0 ...   18.4047405640374 .. 60.721729733656524\n",
       " 9314.0  9314_1 ...   14.187694057645906 .. 39.6199935145078\n",
       "11709.0 11709_1 ... 10.237640936178153 .. 19.097325372875698\n",
       "14101.0 14101_1 ...  2.5428046553038586 .. 15.04105374452066"
      ]
     },
     "execution_count": 15,
     "metadata": {},
     "output_type": "execute_result"
    }
   ],
   "source": [
    "lyainfo[(lyainfo['fcivquantile'][:,0]>0)&(lyainfo['ewcivquantile'][:,3]>0)]"
   ]
  },
  {
   "cell_type": "code",
   "execution_count": 16,
   "id": "cc1c2e1d-d9bc-4cd0-8271-36edc6bcaf6d",
   "metadata": {},
   "outputs": [],
   "source": [
    "lyainfo.write('../../data/lineinfo_J1148_msaexp_pypeit.fits', overwrite=True)"
   ]
  },
  {
   "cell_type": "code",
   "execution_count": null,
   "id": "15802aeb-b179-4d7d-825f-3bee76c6980a",
   "metadata": {},
   "outputs": [],
   "source": []
  }
 ],
 "metadata": {
  "kernelspec": {
   "display_name": "Python 3 (ipykernel)",
   "language": "python",
   "name": "python3"
  },
  "language_info": {
   "codemirror_mode": {
    "name": "ipython",
    "version": 3
   },
   "file_extension": ".py",
   "mimetype": "text/x-python",
   "name": "python",
   "nbconvert_exporter": "python",
   "pygments_lexer": "ipython3",
   "version": "3.12.9"
  }
 },
 "nbformat": 4,
 "nbformat_minor": 5
}
