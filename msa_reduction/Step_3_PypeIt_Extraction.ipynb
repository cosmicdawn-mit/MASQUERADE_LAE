{
 "cells": [
  {
   "cell_type": "markdown",
   "id": "2afcd2c1-2e23-4b72-9dea-895858d10b5f",
   "metadata": {},
   "source": [
    "# PypeIt Reduction for the J0100 field\n",
    "\n",
    "This is the real code I use to reduce the J0100 field."
   ]
  },
  {
   "cell_type": "code",
   "execution_count": null,
   "id": "2b1390db-fb88-4fd9-8886-35e9c6ebe956",
   "metadata": {},
   "outputs": [],
   "source": [
    "import os, sys\n",
    "sys.path.append('/Users/myue/Research/Projects/JWST/dependencies/PypeIt-development-suite/dev_algorithms/jwst/')\n",
    "\n",
    "from pathlib import Path\n",
    "import numpy as np\n",
    "from astropy.io import fits\n",
    "from matplotlib import pyplot as plt\n",
    "from astropy.table import Table\n",
    "\n",
    "import glob\n",
    "\n",
    "import utils_myue\n",
    "import importlib\n",
    "importlib.reload(utils_myue)"
   ]
  },
  {
   "cell_type": "code",
   "execution_count": null,
   "id": "dbe2ba6e-9311-41f6-ba15-956aa2c17c76",
   "metadata": {},
   "outputs": [],
   "source": [
    "from astropy.table import Table, vstack, hstack\n",
    "\n",
    "tbl_info = Table.read('../../MASQUERADE_LAE/J0100_photcat_v4_O3CANDIDATES_all_CLUMPS.fits')\n",
    "tbl_info['redshift'] = tbl_info['z_O3doublet_combined_n']"
   ]
  },
  {
   "cell_type": "code",
   "execution_count": null,
   "id": "21219c89-77ab-44c4-8c21-0beb38f6b585",
   "metadata": {},
   "outputs": [],
   "source": [
    "def reduce_pointing(prefix, suffix, spec2dir, outdir=None, fix_persistence=True,\\\n",
    "                    bad_bkg_sources = {}, coadd2d_kwargs = {},\\\n",
    "                    ibkg_list_default=[[1,2], [0,2], [0,1], [4,5], [3,5], [3,4]],\\\n",
    "                   coadd2d_command='pypeit_coadd_2dspec', objids=None):\n",
    "\n",
    "    if outdir is None:\n",
    "        outdir = prefix\n",
    "\n",
    "    outdir = os.path.abspath(outdir)\n",
    "    \n",
    "    scipath = os.path.join(outdir, 'Science')\n",
    "    if not os.path.isdir(scipath):\n",
    "        #msgs.info('Creating directory for Science output: {0}'.format(scipath))\n",
    "        os.makedirs(scipath)\n",
    "\n",
    "    coaddpath = outdir + '/Science_coadd/'\n",
    "    if not os.path.isdir(coaddpath):\n",
    "        os.system('mkdir -p %s'%coaddpath)\n",
    "\n",
    "    nscleanfiles_1 = glob.glob(f'{spec2dir}/{prefix}*nrs1*{suffix}')\n",
    "    scifiles_1 = [f.replace('_nsclean', '') for f in nscleanfiles_1]\n",
    "    scifiles_1.sort()\n",
    "    #print(scifiles_1)\n",
    "\n",
    "    msareducer = utils_myue.MSAreducer(scifiles_1, outdir, from_msaexp=True)\n",
    "    \n",
    "    for ii, (islit, isource) in enumerate(msareducer.slits_sources):\n",
    "\n",
    "        if isource in bad_bkg_sources.keys():\n",
    "            ibkg_list = bad_bkg_sources[isource]['bkg_indice']\n",
    "        else:\n",
    "            ibkg_list = ibkg_list_default\n",
    "\n",
    "        if objids is not None:\n",
    "            if not isource in objids:\n",
    "                continue\n",
    "\n",
    "        msareducer.reduce_slit(islit, isource, ibkg_list=ibkg_list)\n",
    "        \n",
    "        # step 2: coadd slits\n",
    "        if isource in coadd2d_kwargs.keys():\n",
    "            msareducer.coadd2d_source(islit, isource, outdir=coaddpath,\\\n",
    "                coadd2d_command=coadd2d_command,\n",
    "                **coadd2d_kwargs[isource])\n",
    "        else:\n",
    "            msareducer.coadd2d_source(islit, isource, outdir=coaddpath,\\\n",
    "                coadd2d_command=coadd2d_command,\\\n",
    "                find_trim_edge='5,5', find_min_max='400,800')\n",
    "            \n",
    "        # construct manual extraction for each object\n",
    "        msareducer.manual_extraction(islit, isource)\n",
    "    \n",
    "    return msareducer"
   ]
  },
  {
   "cell_type": "code",
   "execution_count": null,
   "id": "9f1cda2e-6a9e-4cb5-b6a5-24bed3db4f04",
   "metadata": {},
   "outputs": [],
   "source": [
    "# this dict stores objects that need specific background treatment\n",
    "bad_bkg_sources_1 = {}\n",
    "\n",
    "coadd2d_kwargs_1 = {}\n",
    "\n",
    "bad_bkg_sources_2 = {'4713_11981': {'bkg_indice':[[2],[0,2],[1], [5],[3,5],[4]]},\n",
    "                   '4713_11743': {'bkg_indice':[[1],[2],[0], [4],[5],[3]]},}\n",
    "\n",
    "# this dict stores objects that need specific coadd2d and auto extaction treatment\n",
    "coadd2d_kwargs_2 = {'4713_6733':{'offsets':[0,0], 'stack_indices':[0,3],\\\n",
    "                               'find_trim_edge':'5,5', 'find_min_max':'400,800'},\n",
    "                 '4713_11743':{'offsets':[0,-5.28973998,0,-5.28973998], 'stack_indices':[0,1,3,4]}}"
   ]
  },
  {
   "cell_type": "code",
   "execution_count": null,
   "id": "ea27a5cd-5d45-4e43-b38b-999d6eff3c4f",
   "metadata": {
    "scrolled": true
   },
   "outputs": [],
   "source": [
    "reducer_pointing_1 = reduce_pointing(prefix='jw04713001001', suffix='_nsclean.fits',\\\n",
    "                                    spec2dir='../msaexp_pypeit/pypeit/',\\\n",
    "                                    outdir='./data-release-2/jw04713001001_msaexp/',\n",
    "                                    objids=None)"
   ]
  },
  {
   "cell_type": "code",
   "execution_count": null,
   "id": "e68a4bed-dae2-400e-bbb7-088a26d281f6",
   "metadata": {},
   "outputs": [],
   "source": [
    "reducer_pointing_1.find_islit_by_isource('4713_16184')"
   ]
  },
  {
   "cell_type": "code",
   "execution_count": null,
   "id": "83a1f29e-4eb5-477f-9038-4c352d433b5b",
   "metadata": {
    "scrolled": true
   },
   "outputs": [],
   "source": [
    "reducer_pointing_1.coadd2d_source('30', '4713_16184', outdir='./data-release-2/jw04713001001_msaexp/Science_coadd/',\\\n",
    "                coadd2d_command='pypeit_coadd_2dspec',\\\n",
    "                find_trim_edge='5,5', find_min_max='100,800')"
   ]
  },
  {
   "cell_type": "code",
   "execution_count": null,
   "id": "b72a3581-b6f4-4928-8430-78ddb3ee3190",
   "metadata": {
    "scrolled": true
   },
   "outputs": [],
   "source": [
    "reducer_pointing_2 = reduce_pointing(prefix='jw04713001002', suffix='_nsclean.fits',\\\n",
    "                                    spec2dir='../msaexp_pypeit/pypeit/',\\\n",
    "                                    outdir='./data-release-2/jw04713001002_msaexp/',\n",
    "                                    bad_bkg_sources=bad_bkg_sources_2,\\\n",
    "                                    coadd2d_kwargs=coadd2d_kwargs_2)"
   ]
  },
  {
   "cell_type": "code",
   "execution_count": null,
   "id": "3ec61595-326e-4f4d-bd5d-94582916d0b6",
   "metadata": {
    "scrolled": true
   },
   "outputs": [],
   "source": [
    "#reducer_pointing_2.reduce_slit('25', '4713_13864', \\\n",
    "#                               ibkg_list=[[1,2], [0,2], [0,1], [4,5], [3,5], [3,4]])"
   ]
  },
  {
   "cell_type": "code",
   "execution_count": null,
   "id": "94e6e4c0-e073-46bd-a188-4c1879af2c33",
   "metadata": {},
   "outputs": [],
   "source": [
    "#reducer_pointing_1.coadd2d_source('25', '4713_13864', outdir='./data-release-2/jw04713001001_msaexp/Science_coadd/',\n",
    "#                find_trim_edge='5,5', find_min_max='400,800')\n",
    "#                coadd2d_command=coadd2d_command)"
   ]
  },
  {
   "cell_type": "code",
   "execution_count": null,
   "id": "91e74c4f-eaf9-42f2-ad56-ad3e048bc6f1",
   "metadata": {},
   "outputs": [],
   "source": [
    "def get_ypos_ra_dec(slit_dm, spec2dfile, ra_src, dec_src):\n",
    "    center = fits.open(spec2dfile)[-2].data['center']\n",
    "    \n",
    "    # get the slit-frame y position\n",
    "    transformer = slit_dm.meta.wcs.get_transform('world', 'slit_frame')\n",
    "    \n",
    "    transformer1 = slit_dm.meta.wcs.get_transform('world', 'detector')\n",
    "    transformer2 = slit_dm.meta.wcs.get_transform('detector', 'slit_frame')\n",
    "\n",
    "    result = transformer(ra_src, dec_src, 1)\n",
    "\n",
    "    dx, dy, w = result\n",
    "    \n",
    "    detx, dety = transformer1(ra_src, dec_src, 1)\n",
    "    dxtest, dytest, _ = transformer2(detx, dety+1)\n",
    "    #print(detx, dety)\n",
    "    factor = dytest - dy\n",
    "    dy_pix = dy / factor\n",
    "    ypos = center + dy_pix\n",
    "    \n",
    "    return np.median(ypos)\n"
   ]
  },
  {
   "cell_type": "code",
   "execution_count": null,
   "id": "cdeb03b1-a8da-44d8-8add-7e91c422b3a6",
   "metadata": {
    "scrolled": true
   },
   "outputs": [],
   "source": [
    "# special treatment for 11743\n",
    "\n",
    "islit = '7'\n",
    "isource = '4713_11743'\n",
    "ra, dec = 15.061265, 27.9884172\n",
    "ibkg_list = bad_bkg_sources_2[isource]['bkg_indice']\n",
    "outdir='./data-release-2/jw04713001002_msaexp/Science_coadd/'\n",
    "\n",
    "reducer_pointing_2.reduce_slit(islit, isource, ibkg_list=ibkg_list)\n",
    "\n",
    "# step 2: coadd slits\n",
    "\n",
    "if isource in coadd2d_kwargs_2.keys():\n",
    "    reducer_pointing_2.coadd2d_source(islit, isource, outdir=outdir,\\\n",
    "            **coadd2d_kwargs_2[isource])\n",
    "else:\n",
    "    reducer_pointing_2.coadd2d_source(islit, isource, outdir=outdir)\n",
    "        \n",
    "# construct manual extraction for each object\n",
    "\n",
    "scifile1name = os.path.basename(reducer_pointing_2.scifiles_1[0])[:-5]\n",
    "scifile2name = os.path.basename(reducer_pointing_2.scifiles_1[-2])[:-5]\n",
    "\n",
    "reducer_pointing_2.Coadd2dSpecHolder[isource] =\\\n",
    "    outdir+f'/spec2d_{scifile1name}-{scifile2name}-{isource}.fits'\n",
    "\n",
    "slit_dm = reducer_pointing_2.find_slit_by_islit(islit)\n",
    "ypos = get_ypos_ra_dec(slit_dm, reducer_pointing_2.Coadd2dSpecHolder[isource], ra, dec)\n",
    "\n",
    "reducer_pointing_2.manual_extraction(islit, isource,\\\n",
    "                  manual_info={'ypos': ypos, 'xpos': 400.0, 'fwhm':3.0,'boxcar_rad':3.0})\n"
   ]
  },
  {
   "cell_type": "code",
   "execution_count": null,
   "id": "8027d120-abad-4b67-9adb-9aa2133fb2c5",
   "metadata": {},
   "outputs": [],
   "source": [
    "reducer_pointing_2.slits_sources.append(('7', '4713_11981'))"
   ]
  },
  {
   "cell_type": "code",
   "execution_count": null,
   "id": "2cb52c8c-1a25-4604-a59c-68dd2483b0eb",
   "metadata": {
    "scrolled": true
   },
   "outputs": [],
   "source": [
    "# special treatment for 11981\n",
    "\n",
    "islit = '7'\n",
    "isource = '4713_11981'\n",
    "ra, dec = 15.0612418, 27.9882913\n",
    "ibkg_list = bad_bkg_sources_2[isource]['bkg_indice']\n",
    "outdir='./data-release-2/jw04713001002_msaexp/Science_coadd/'\n",
    "\n",
    "reducer_pointing_2.reduce_slit(islit, isource, ibkg_list=ibkg_list)\n",
    "\n",
    "# step 2: coadd slits\n",
    "\n",
    "if isource in coadd2d_kwargs_2.keys():\n",
    "    reducer_pointing_2.coadd2d_source(islit, isource, outdir=outdir,\\\n",
    "            **coadd2d_kwargs_2[isource])\n",
    "else:\n",
    "    reducer_pointing_2.coadd2d_source(islit, isource, outdir=outdir)\n",
    "        \n",
    "# construct manual extraction for each object\n",
    "\n",
    "scifile1name = os.path.basename(reducer_pointing_2.scifiles_1[0])[:-5]\n",
    "scifile2name = os.path.basename(reducer_pointing_2.scifiles_1[-1])[:-5]\n",
    "\n",
    "reducer_pointing_2.Coadd2dSpecHolder[isource] =\\\n",
    "    outdir+f'/spec2d_{scifile1name}-{scifile2name}-{isource}.fits'\n",
    "\n",
    "slit_dm = reducer_pointing_2.find_slit_by_islit(islit)\n",
    "ypos = get_ypos_ra_dec(slit_dm, reducer_pointing_2.Coadd2dSpecHolder[isource], ra, dec)\n",
    "\n",
    "reducer_pointing_2.manual_extraction(islit, isource,\\\n",
    "                  manual_info={'ypos': ypos, 'xpos': 400.0, 'fwhm':3.0,'boxcar_rad':3.0})\n"
   ]
  },
  {
   "cell_type": "markdown",
   "id": "fcc015ca-9ef8-44c4-a42a-cbbb325e6f4e",
   "metadata": {},
   "source": [
    "# after getting the two pointing reducers, we can save the info to a master table"
   ]
  },
  {
   "cell_type": "code",
   "execution_count": null,
   "id": "27a8ee56-43e4-4132-b746-352f4f47942c",
   "metadata": {},
   "outputs": [],
   "source": [
    "\n",
    "reducer_pointing_1.saveinfo(tbl_info)\n",
    "reducer_pointing_2.saveinfo(tbl_info)"
   ]
  },
  {
   "cell_type": "code",
   "execution_count": null,
   "id": "090674bb-c07e-4f65-ace7-0542f528e220",
   "metadata": {},
   "outputs": [],
   "source": [
    "reducer_pointing_1.tbl_extraction_info['pointing'] = 1\n",
    "reducer_pointing_2.tbl_extraction_info['pointing'] = 2"
   ]
  },
  {
   "cell_type": "code",
   "execution_count": null,
   "id": "d1bb593e-14bb-40f7-b443-ce60025c8c4c",
   "metadata": {},
   "outputs": [],
   "source": [
    "masterinfo = vstack([reducer_pointing_1.tbl_extraction_info, reducer_pointing_2.tbl_extraction_info])"
   ]
  },
  {
   "cell_type": "code",
   "execution_count": null,
   "id": "0ab783c3-efc9-4846-bbe4-b3499fc7e59e",
   "metadata": {},
   "outputs": [],
   "source": [
    "masterinfo.write('./data-release-2/masterinfo_J0100_pypeit_msaexp.fits', overwrite=True)"
   ]
  },
  {
   "cell_type": "markdown",
   "id": "fec054d1-648c-439e-abd8-bdcc51cbff82",
   "metadata": {},
   "source": [
    "# Post-PypeIt clean up"
   ]
  },
  {
   "cell_type": "markdown",
   "id": "bdeb3ac6-0c1a-4b06-ab73-78981cb1ef57",
   "metadata": {},
   "source": [
    "### rename and coadd 1d specs"
   ]
  },
  {
   "cell_type": "code",
   "execution_count": null,
   "id": "84fff222-683c-4910-9ca1-27816ebf1f92",
   "metadata": {},
   "outputs": [],
   "source": [
    "masterinfo = Table.read('./data-release-2/masterinfo_J0100_pypeit_msaexp.fits')"
   ]
  },
  {
   "cell_type": "code",
   "execution_count": null,
   "id": "0ac82cfb-3454-467f-a6da-30340f84cdce",
   "metadata": {},
   "outputs": [],
   "source": [
    "#masterinfo[masterinfo['isource']=='4713_15437']"
   ]
  },
  {
   "cell_type": "code",
   "execution_count": null,
   "id": "9e8ecac1-b30c-4014-b522-5775c5988ee9",
   "metadata": {},
   "outputs": [],
   "source": [
    "def stack_1dspec(filelist, outfile):\n",
    "\n",
    "    script_string =\\\n",
    "f'''\n",
    "[coadd1d]\n",
    "  coaddfile='{outfile}'\n",
    "  ex_value = 'OPT'\n",
    "  flux_value = False\n",
    "\n",
    "coadd1d read\n",
    "  filename | obj_id\n",
    "'''\n",
    "    for fname in filelist:\n",
    "        with fits.open(fname) as hdulist:\n",
    "            header = hdulist[1].header\n",
    "            objid = header['NAME']\n",
    "            script_string += f'{fname} | {objid}\\n'\n",
    "\n",
    "    script_string +=\\\n",
    "'''\n",
    "coadd1d end\n",
    "'''\n",
    "    with open('coadd1dscript.txt', 'w') as script:\n",
    "        script.write(script_string)\n",
    "    os.system('pypeit_coadd_1dspec coadd1dscript.txt')"
   ]
  },
  {
   "cell_type": "code",
   "execution_count": null,
   "id": "f112c078-a0a9-4533-9306-ff2a19bf4019",
   "metadata": {},
   "outputs": [],
   "source": [
    "!mkdir ./data-release-2/reduced_spec_msaexp_pypeit"
   ]
  },
  {
   "cell_type": "code",
   "execution_count": null,
   "id": "62abedb3-88e8-4770-ad65-53093c5ab10c",
   "metadata": {
    "scrolled": true
   },
   "outputs": [],
   "source": [
    "from collections import Counter\n",
    "\n",
    "isources_counter = Counter(masterinfo['isource'])\n",
    "\n",
    "for isource, count in isources_counter.items():\n",
    "    #if not isource=='4713_15612':\n",
    "    #    continue\n",
    "    #else:\n",
    "    #    print(isource)\n",
    "    if count == 1:\n",
    "        #continue\n",
    "        subtbl = masterinfo[masterinfo['isource']==isource]\n",
    "        assert len(subtbl)==1\n",
    "\n",
    "        pointing = subtbl['pointing'][0]\n",
    "        datadir = f'./data-release-2/jw0471300100{pointing}_msaexp/Science_coadd'\n",
    "        spec2dfile = datadir + '/' + subtbl['spec2dlist'][0]\n",
    "        spec1dfile = datadir + '/' + subtbl['spec1dlist'][0]\n",
    "        manu1dfile = datadir + '/' + subtbl['manual1dlist'][0]\n",
    "\n",
    "        spec1dlist = [spec1dfile]\n",
    "        manu1dlist = [manu1dfile]\n",
    "\n",
    "        os.system(f'cp {spec2dfile} ./data-release-2/reduced_spec_msaexp_pypeit/spec2d_{isource}_pointing{pointing}.fits')\n",
    "        os.system(f'cp {spec1dfile} ./data-release-2/reduced_spec_msaexp_pypeit/spec1d_{isource}_pointing{pointing}.fits')\n",
    "        os.system(f'cp {manu1dfile} ./data-release-2/reduced_spec_msaexp_pypeit/manu1d_{isource}_pointing{pointing}.fits')\n",
    "\n",
    "        if os.path.exists(spec1dfile):\n",
    "            stack_1dspec(spec1dlist, f'spec1d_{isource}_stack.fits')\n",
    "            os.system(f'mv spec1d_{isource}_stack.fits ./data-release-2/reduced_spec_msaexp_pypeit/')\n",
    "\n",
    "        \n",
    "        stack_1dspec(manu1dlist, f'manu1d_{isource}_stack.fits')\n",
    "        os.system(f'mv manu1d_{isource}_stack.fits ./data-release-2/reduced_spec_msaexp_pypeit/')\n",
    "    else:\n",
    "        print(isource)\n",
    "        #continue\n",
    "        subtbl = masterinfo[masterinfo['isource']==isource]\n",
    "        # perform pypeit stacking\n",
    "        spec1dlist = []\n",
    "        manu1dlist = []\n",
    "        for idx in range(len(subtbl)):\n",
    "            pointing = subtbl['pointing'][idx]\n",
    "            direct = f'./data-release-2/jw0471300100{pointing}_msaexp/Science_coadd/'\n",
    "            \n",
    "            spec2dfile = os.path.abspath(os.path.join(direct, subtbl['spec2dlist'][idx]))\n",
    "            spec1dfile = os.path.abspath(os.path.join(direct, subtbl['spec1dlist'][idx]))\n",
    "            spec1dlist.append(spec1dfile)\n",
    "            manu1dlist.append(spec1dfile.replace('spec1d', 'manual1d'))\n",
    "\n",
    "            os.system(f'cp {spec2dfile} ./data-release-2/reduced_spec_msaexp_pypeit/spec2d_{isource}_pointing{pointing}.fits')\n",
    "            os.system(f'cp {spec1dfile} ./data-release-2/reduced_spec_msaexp_pypeit/spec1d_{isource}_pointing{pointing}.fits')\n",
    "            os.system(f'cp {manu1dfile} ./data-release-2/reduced_spec_msaexp_pypeit/manu1d_{isource}_pointing{pointing}.fits')\n",
    "\n",
    "        if os.path.exists(spec1dlist[0]) and os.path.exists(spec1dlist[1]):\n",
    "            stack_1dspec(spec1dlist, f'spec1d_{isource}_stack.fits')\n",
    "            os.system(f'mv spec1d_{isource}_stack.fits ./data-release-2/reduced_spec_msaexp_pypeit/')\n",
    "        else:\n",
    "            \n",
    "            stack_1dspec(manu1dlist, f'manu1d_{isource}_stack.fits')\n",
    "            os.system(f'mv manu1d_{isource}_stack.fits ./data-release-2/reduced_spec_msaexp_pypeit/')\n",
    "\n",
    "        # copy spec2d \n",
    "        "
   ]
  },
  {
   "cell_type": "markdown",
   "id": "ea574301-1e2d-4443-be40-e1bf6177de01",
   "metadata": {},
   "source": [
    "# plot some info"
   ]
  },
  {
   "cell_type": "code",
   "execution_count": null,
   "id": "32aae82b-3a9f-4121-8d44-8cd09fdc123d",
   "metadata": {},
   "outputs": [],
   "source": [
    "from astropy.coordinates import SkyCoord\n",
    "from msaexp import msa\n",
    "from astropy.wcs import WCS\n",
    "from astropy.nddata import Cutout2D"
   ]
  },
  {
   "cell_type": "code",
   "execution_count": null,
   "id": "c7446f7e-0027-4714-86a3-d22305d69bd2",
   "metadata": {},
   "outputs": [],
   "source": [
    "masterF115Wimage = '../stack_F115W_pipe4_v4_pipeup_1.8.2_pub0988_20221028.fits'\n",
    "os.path.exists(masterF115Wimage)"
   ]
  },
  {
   "cell_type": "code",
   "execution_count": null,
   "id": "995768e3-6c99-486b-be4d-6e4fae831b33",
   "metadata": {},
   "outputs": [],
   "source": [
    "msafile1 = os.path.abspath('../pre-reduction/ratefiles_per/jw04713001001_01_msa.fits')\n",
    "msafile2 = os.path.abspath('../pre-reduction/ratefiles_per/jw04713001002_01_msa.fits')"
   ]
  },
  {
   "cell_type": "code",
   "execution_count": null,
   "id": "81e92292-003b-458d-aedd-0ba17a7e744b",
   "metadata": {},
   "outputs": [],
   "source": [
    "def plot_infotable(tbl_extraction_info, masterimage, msafilelist, outdir, plotdir):\n",
    "    for index in range(len(tbl_extraction_info)):\n",
    "    \n",
    "        isource=tbl_extraction_info['isource'][index]\n",
    "        pointing=tbl_extraction_info['pointing'][index]\n",
    "        msafile = msafilelist[pointing-1]\n",
    "    \n",
    "        if int(isource.split('_')[-1])<0:\n",
    "            continue\n",
    "\n",
    "        #if not isource=='4713_11743':\n",
    "        #    continue\n",
    "            \n",
    "        spec2dfile=f'{outdir}/spec2d_{isource}.fits'\n",
    "        spec1dfile=f'{outdir}/spec1d_{isource}.fits'\n",
    "        manu1dfile=f'{outdir}/manu1d_{isource}.fits'\n",
    "        if not os.path.exists(spec2dfile):\n",
    "            #continue\n",
    "            spec2dfile=f'{outdir}/spec2d_{isource}_pointing{pointing}.fits'\n",
    "            spec1dfile=f'{outdir}/spec1d_{isource}_pointing{pointing}.fits'\n",
    "            manu1dfile=f'{outdir}/manu1d_{isource}_pointing{pointing}.fits'\n",
    "\n",
    "        if not os.path.exists(spec1dfile):\n",
    "            spec1dfile = manu1dfile\n",
    "\n",
    "        \n",
    "        if isource=='4713_11743':\n",
    "            spec1dfile = manu1dfile\n",
    "        source_id = tbl_extraction_info['isource'][index]\n",
    "        imagefile = '../nircam_images/F115W/cutout_%s.fits'%source_id\n",
    "        \n",
    "        plt.close('all')\n",
    "        plotter = utils_myue.MSAPlotter(ra=tbl_extraction_info['RA'][index],\\\n",
    "                             dec=tbl_extraction_info['Dec'][index],\\\n",
    "                             isource=tbl_extraction_info['isource'][index],\\\n",
    "                             redshift=tbl_extraction_info['redshift'][index],\\\n",
    "                             mag=tbl_extraction_info['F115W'][index], \\\n",
    "                             imagefile=imagefile, \\\n",
    "                             spec2dfile=spec2dfile,\\\n",
    "                             spec1dfile=spec1dfile, \n",
    "                            msafile = msafile,\n",
    "                                       zqso=6.327)\n",
    "    \n",
    "        plotter.make_cutout(masterimage, imagefile, overwrite=False)\n",
    "        \n",
    "        plotter.plot(output=f'{plotdir}/plot_%s_pointing%d.pdf'%(plotter.isource, pointing))\n",
    "        plt.show()"
   ]
  },
  {
   "cell_type": "code",
   "execution_count": null,
   "id": "68eb1023-b657-4039-a543-aaf14f064cf9",
   "metadata": {},
   "outputs": [],
   "source": [
    "\n",
    "plotdir = './data-release-2/plots_msaexp_pypeit/'\n",
    "os.system(f'mkdir -p {plotdir}')"
   ]
  },
  {
   "cell_type": "code",
   "execution_count": null,
   "id": "d11fe439-212f-41f0-b2d4-3703d291f14d",
   "metadata": {
    "scrolled": true
   },
   "outputs": [],
   "source": [
    "plot_infotable(masterinfo, masterF115Wimage, [msafile1, msafile2], \\\n",
    "               outdir='./data-release-2/reduced_spec_msaexp_pypeit/', plotdir=plotdir)"
   ]
  },
  {
   "cell_type": "code",
   "execution_count": null,
   "id": "97fe4629-154c-433d-aecd-34bcf027b7b0",
   "metadata": {},
   "outputs": [],
   "source": [
    "for index in range(len(tbl_extraction_info)):\n",
    "    #print(index)\n",
    "    #try:\n",
    "    \n",
    "    isource=tbl_extraction_info['isource'][index]\n",
    "\n",
    "    if int(isource.split('_')[-1])<0:\n",
    "        continue\n",
    "        \n",
    "    spec2dfile=tbl_extraction_info['spec2dlist'][index]\n",
    "    \n",
    "    spec1dfile = tbl_extraction_info['spec1dlist'][index]\n",
    "    if not os.path.exists(outdir+'/'+spec1dfile):\n",
    "        \n",
    "        spec1dfile = tbl_extraction_info['manual1dlist'][index]\n",
    "\n",
    "    source_id = tbl_extraction_info['isource'][index]\n",
    "    imagefile = '../nircam_images/F115W/cutout_%s.fits'%source_id\n",
    "    \n",
    "    print(source_id)\n",
    "    \n",
    "    plt.close('all')\n",
    "    plotter = utils_myue.MSAPlotter(ra=tbl_extraction_info['RA'][index],\\\n",
    "                         dec=tbl_extraction_info['Dec'][index],\\\n",
    "                         isource=tbl_extraction_info['isource'][index],\\\n",
    "                         redshift=tbl_extraction_info['z_'][index],\\\n",
    "                         mag=tbl_extraction_info['F115W'][index], \\\n",
    "                         imagefile=imagefile, \\\n",
    "                         spec2dfile=outdir+'/'+spec2dfile,\\\n",
    "                         spec1dfile=outdir+'/'+spec1dfile, \n",
    "                        msafile = f'./ratefiles/jw0{proj_id}00100{pointing}_01_msa.fits',\n",
    "                                   zqso=6.327)\n",
    "\n",
    "    filename = masterimages[0]\n",
    "    plotter.make_cutout(filename, imagefile, overwrite=False)\n",
    "\n",
    "    plotter.plot(output=f'./{file_prefix}/plots_v2/plot_%s.pdf'%plotter.isource,\\\n",
    "                    estimated_flux=mag_to_flux(plotter.mag))\n",
    "    plt.show()"
   ]
  },
  {
   "cell_type": "markdown",
   "id": "d4bba35b-bfec-4f97-a1fd-5d022fc9174f",
   "metadata": {},
   "source": [
    "# Update the table: add a column indicating if I need to use manual subtraction"
   ]
  },
  {
   "cell_type": "code",
   "execution_count": null,
   "id": "90f5ed92-de22-4499-8bd7-d293f4ae5623",
   "metadata": {},
   "outputs": [],
   "source": [
    "need_manual = [5595, 17549, 16184, 17577]"
   ]
  },
  {
   "cell_type": "code",
   "execution_count": null,
   "id": "fcd7b06a-60da-4552-9cb4-78aa5b07d99c",
   "metadata": {},
   "outputs": [],
   "source": [
    "auto_problematic_id = []"
   ]
  },
  {
   "cell_type": "code",
   "execution_count": null,
   "id": "aad9ce4b-a9c4-4b9d-9dfd-a469538511fc",
   "metadata": {},
   "outputs": [],
   "source": [
    "for index in range(len(masterinfo)):\n",
    "    isource = masterinfo['isource'][index]\n",
    "    objid = int(isource.split('_')[-1])\n",
    "    #print(isource)\n",
    "    spec1dfile = './data-release-2/reduced_spec_msaexp_pypeit/spec1d_%s_stack.fits'%isource\n",
    "\n",
    "    if not os.path.exists(spec1dfile):\n",
    "        auto_problematic_id.append(True)\n",
    "    elif objid in need_manual:\n",
    "        auto_problematic_id.append(True)\n",
    "        os.system('rm %s'%spec1dfile)\n",
    "    else:\n",
    "        auto_problematic_id.append(False)"
   ]
  },
  {
   "cell_type": "code",
   "execution_count": null,
   "id": "f0430277-a04f-4752-b405-2e7cadbcf829",
   "metadata": {},
   "outputs": [],
   "source": [
    "masterinfo['MANUAL'] = auto_problematic_id"
   ]
  },
  {
   "cell_type": "code",
   "execution_count": null,
   "id": "ac6d29f8-3bb2-405a-a013-62868caea82a",
   "metadata": {},
   "outputs": [],
   "source": [
    "masterinfo.write('./data-release-2/masterinfo_J0100_pypeit_msaexp_update.fits')"
   ]
  },
  {
   "cell_type": "code",
   "execution_count": null,
   "id": "77cc9643-0190-40df-b8fe-accde0e82739",
   "metadata": {},
   "outputs": [],
   "source": []
  }
 ],
 "metadata": {
  "kernelspec": {
   "display_name": "Python 3 (ipykernel)",
   "language": "python",
   "name": "python3"
  },
  "language_info": {
   "codemirror_mode": {
    "name": "ipython",
    "version": 3
   },
   "file_extension": ".py",
   "mimetype": "text/x-python",
   "name": "python",
   "nbconvert_exporter": "python",
   "pygments_lexer": "ipython3",
   "version": "3.12.9"
  }
 },
 "nbformat": 4,
 "nbformat_minor": 5
}
