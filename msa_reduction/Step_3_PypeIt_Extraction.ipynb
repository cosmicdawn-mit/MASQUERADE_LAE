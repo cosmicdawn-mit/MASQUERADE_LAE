{
 "cells": [
  {
   "cell_type": "markdown",
   "id": "2afcd2c1-2e23-4b72-9dea-895858d10b5f",
   "metadata": {},
   "source": [
    "## Step 3: run for PypeIt extraction.\n",
    "\n",
    "###  prior to running this notebook:\n",
    "\n",
    "- Run through Step_2_combine_msaexp_and_pypeit.ipynb\n",
    "- Install PypeIt\n",
    "- Download the PypeIt-development-suite: https://github.com/pypeit/PypeIt-development-suite\n",
    "- Don't forget to put utils_myue.py into this directory."
   ]
  },
  {
   "cell_type": "code",
   "execution_count": 4,
   "id": "2b1390db-fb88-4fd9-8886-35e9c6ebe956",
   "metadata": {},
   "outputs": [
    {
     "data": {
      "text/plain": [
       "<module 'utils_myue' from '/Users/minghao/Research/Projects/JWST/ID4713_add/reduction_hack_code/utils_myue.py'>"
      ]
     },
     "execution_count": 4,
     "metadata": {},
     "output_type": "execute_result"
    }
   ],
   "source": [
    "import os, sys\n",
    "\n",
    "# note: the PypeIt-development-suite is constantly changing. \n",
    "# If your version doesn't work, please contact me at yuemh@arizona.edu, I will share my version (which works) with you.\n",
    "sys.path.append('/Users/minghao/Research/Projects/JWST/dependencies/PypeIt-development-suite/dev_algorithms/jwst/')\n",
    "\n",
    "from pathlib import Path\n",
    "import numpy as np\n",
    "from astropy.io import fits\n",
    "from matplotlib import pyplot as plt\n",
    "from astropy.table import Table\n",
    "\n",
    "import glob\n",
    "\n",
    "import utils_myue\n",
    "import importlib\n",
    "importlib.reload(utils_myue)"
   ]
  },
  {
   "cell_type": "code",
   "execution_count": 5,
   "id": "7565e3a8-af1e-4051-92c4-f7c0193fb098",
   "metadata": {},
   "outputs": [
    {
     "data": {
      "text/plain": [
       "'1.17.1'"
      ]
     },
     "execution_count": 5,
     "metadata": {},
     "output_type": "execute_result"
    }
   ],
   "source": [
    "import pypeit\n",
    "pypeit.__version__"
   ]
  },
  {
   "cell_type": "code",
   "execution_count": 13,
   "id": "21219c89-77ab-44c4-8c21-0beb38f6b585",
   "metadata": {},
   "outputs": [],
   "source": [
    "def reduce_pointing(prefix, suffix, spec2dir, outdir=None, fix_persistence=True,\\\n",
    "                    bad_bkg_sources = {}, coadd2d_kwargs = {},\\\n",
    "                    ibkg_list_default=[[1,2], [0,2], [0,1], [4,5], [3,5], [3,4]],\\\n",
    "                   coadd2d_command='pypeit_coadd_2dspec', objids=None, **kwargs):\n",
    "\n",
    "    if outdir is None:\n",
    "        outdir = prefix\n",
    "\n",
    "    outdir = os.path.abspath(outdir)\n",
    "    \n",
    "    scipath = os.path.join(outdir, 'Science')\n",
    "    if not os.path.isdir(scipath):\n",
    "        #msgs.info('Creating directory for Science output: {0}'.format(scipath))\n",
    "        os.makedirs(scipath)\n",
    "\n",
    "    coaddpath = outdir + '/Science_coadd/'\n",
    "    if not os.path.isdir(coaddpath):\n",
    "        os.system('mkdir -p %s'%coaddpath)\n",
    "\n",
    "    nscleanfiles_1 = glob.glob(f'{spec2dir}/{prefix}*nrs1*{suffix}')\n",
    "    scifiles_1 = [f.replace('_nsclean', '') for f in nscleanfiles_1]\n",
    "    scifiles_1.sort()\n",
    "    print(scifiles_1)\n",
    "\n",
    "    msareducer = utils_myue.MSAreducer(scifiles_1, outdir)#, from_msaexp=True)\n",
    "    \n",
    "    for ii, (islit, isource) in enumerate(msareducer.slits_sources):\n",
    "\n",
    "        if isource in bad_bkg_sources.keys():\n",
    "            ibkg_list = bad_bkg_sources[isource]['bkg_indice']\n",
    "        else:\n",
    "            ibkg_list = ibkg_list_default\n",
    "\n",
    "        if objids is not None:\n",
    "            if not isource in objids:\n",
    "                continue\n",
    "\n",
    "        msareducer.reduce_slit(islit, isource, ibkg_list=ibkg_list)\n",
    "        \n",
    "        # step 2: coadd slits\n",
    "        if isource in coadd2d_kwargs.keys():\n",
    "            msareducer.coadd2d_source(islit, isource, outdir=coaddpath,\\\n",
    "                coadd2d_command=coadd2d_command,\n",
    "                **coadd2d_kwargs[isource], **kwargs)\n",
    "        else:\n",
    "            msareducer.coadd2d_source(islit, isource, outdir=coaddpath,\\\n",
    "                coadd2d_command=coadd2d_command,\\\n",
    "                find_trim_edge='3,3', find_min_max='400,800', **kwargs)\n",
    "            \n",
    "        # construct manual extraction for each object\n",
    "        msareducer.manual_extraction(islit, isource)\n",
    "    \n",
    "    return msareducer"
   ]
  },
  {
   "cell_type": "code",
   "execution_count": 36,
   "id": "29c08a1d-f5f3-44bf-ac2f-855729fb5a65",
   "metadata": {},
   "outputs": [
    {
     "name": "stdout",
     "output_type": "stream",
     "text": [
      "10 4713_11362\n"
     ]
    },
    {
     "name": "stderr",
     "output_type": "stream",
     "text": [
      "\u001b[1;32m[INFO]    ::\u001b[0m Loading the reduction file\n",
      "\u001b[1;32m[INFO]    ::\u001b[0m Coadd2D input file loaded successfully.\n",
      "\u001b[1;32m[INFO]    ::\u001b[0m .coadd2d file successfully vetted.\n",
      "\u001b[1;32m[INFO]    ::\u001b[0m Reducing target jw04713002001_03101_00002_nrs1_nsclean-jw04713002001_03101_00003_nrs1_nsclean-4713_11362\n",
      "             Coadding frame sky-subtracted with DIFF\n",
      "             Searching for objects that are POS_NEG\n",
      "             Combining frames in 2d coadd:\n",
      "             Exp 0: spec2d_jw04713002001_03101_00002_source_4713_11362.fits\n",
      "             Exp 1: spec2d_jw04713002001_03101_00003_source_4713_11362.fits\n",
      "             \n",
      "\u001b[1;32m[INFO]    ::\u001b[0m Detectors to work on: [1]\n",
      "\u001b[1;32m[INFO]    ::\u001b[0m Working on detector 1\n",
      "\u001b[1;32m[INFO]    ::\u001b[0m iref for the list is set to 0\n",
      "\u001b[1;32m[INFO]    ::\u001b[0m The shape of the list is: (6, 769)\n",
      "\u001b[1;32m[INFO]    ::\u001b[0m shape of the first wave_grid in the list is: (769,)\n",
      "\u001b[1;32m[INFO]    ::\u001b[0m Get Weights\n",
      "\u001b[1;32m[INFO]    ::\u001b[0m Using uniform weights\n",
      "\u001b[1;32m[INFO]    ::\u001b[0m Get Offsets\n",
      "\u001b[1;32m[INFO]    ::\u001b[0m Using user input offsets\n",
      "\u001b[1;32m[INFO]    ::\u001b[0m \n",
      "             ---------------------------------------------------------------------------------\n",
      "              Summary of offsets from user input     \n",
      "             ---------------------------------------------------------------------------------\n",
      "                        exp#      offset (pixels)    offset (arcsec)\n",
      "                          0              0.00               0.000\n",
      "                          1              0.53               0.053\n",
      "             ---------------------------------------------------------------------------------\n",
      "\u001b[1;32m[INFO]    ::\u001b[0m Performing 2D coadd for slit 11 (1/1)\n",
      "\u001b[1;31m[WARNING] ::\u001b[0m Your wave grid does not extend blue enough. Taking bluest point\n",
      "\u001b[1;31m[WARNING] ::\u001b[0m Your wave grid does not extend red enough. Taking reddest point\n",
      "\u001b[1;31m[WARNING] ::\u001b[0m Sigma clipping requested, but you cannot sigma clip with less than 3 images.  Proceeding without sigma clipping\n",
      "\u001b[1;32m[INFO]    ::\u001b[0m Running the extraction\n",
      "\u001b[1;32m[INFO]    ::\u001b[0m Initializing slits\n",
      "\u001b[1;32m[INFO]    ::\u001b[0m Using user input tilts image\n",
      "\u001b[1;32m[INFO]    ::\u001b[0m Skipping global sky sub as per user request\n",
      "\u001b[1;32m[INFO]    ::\u001b[0m Finding objects on slit # 18\n",
      "\u001b[1;32m[INFO]    ::\u001b[0m No objects found automatically.  Consider manual extraction.\n",
      "\u001b[1;32m[INFO]    ::\u001b[0m Finding objects in the negative image\n",
      "\u001b[1;32m[INFO]    ::\u001b[0m Finding objects on slit # 18\n",
      "\u001b[1;32m[INFO]    ::\u001b[0m No objects found automatically.  Consider manual extraction.\n",
      "\u001b[1;31m[WARNING] ::\u001b[0m No negative objects found...\n",
      "\u001b[1;32m[INFO]    ::\u001b[0m Initializing slits\n",
      "\u001b[1;32m[INFO]    ::\u001b[0m Using user input tilts image\n",
      "\u001b[1;32m[INFO]    ::\u001b[0m Generating wavelength image\n",
      "\u001b[1;32m[INFO]    ::\u001b[0m Generating spectral FWHM image\n",
      "\u001b[1;31m[WARNING] ::\u001b[0m Spectral FWHM image could not be generated\n",
      "WARNING: VerifyWarning: Keyword name 'ALLSPEC2D_BKG_REDUX' is greater than 8 characters or contains characters not allowed by the FITS standard; a HIERARCH card will be created. [astropy.io.fits.card]\n",
      "WARNING: VerifyWarning: Keyword name 'ALLSPEC2D_FIND_NEGATIVE' is greater than 8 characters or contains characters not allowed by the FITS standard; a HIERARCH card will be created. [astropy.io.fits.card]\n",
      "WARNING: VerifyWarning: Keyword name 'ALLSPEC2D_DETS' is greater than 8 characters or contains characters not allowed by the FITS standard; a HIERARCH card will be created. [astropy.io.fits.card]\n",
      "WARNING: VerifyWarning: Keyword name 'ALLSPEC2D_EFFECTIVE_EXPTIME' is greater than 8 characters or contains characters not allowed by the FITS standard; a HIERARCH card will be created. [astropy.io.fits.card]\n",
      "\u001b[1;32m[INFO]    ::\u001b[0m Wrote: /Users/minghao/Research/Projects/JWST/ID4713_add/reduction/Science_coadd/spec2d_jw04713002001_03101_00002_nrs1_nsclean-jw04713002001_03101_00003_nrs1_nsclean-4713_11362.fits\n"
     ]
    },
    {
     "name": "stdout",
     "output_type": "stream",
     "text": [
      "Writing full parameter set to /Users/minghao/Research/Projects/JWST/ID4713_add/reduction/jw04713002001_03101_00002_nrs1_nsclean-jw04713002001_03101_00003_nrs1_nsclean-4713_11362_coadd2d.par.\n",
      "copying: \n",
      "./msaexp_pypeit/jw04713002001_msaexp//Science_coadd//spec2d_jw04713002001_03101_00002_nrs1_nsclean-jw04713002001_03101_00003_nrs1_nsclean-4713_11362.fits\n"
     ]
    },
    {
     "name": "stderr",
     "output_type": "stream",
     "text": [
      "cp: Science_coadd/spec1d_jw04713002001_03101_00002_nrs1_nsclean-jw04713002001_03101_00003_nrs1_nsclean-4713_11362.fits: No such file or directory\n"
     ]
    }
   ],
   "source": [
    "# something is wrong with coadd2d\n",
    "# test it\n",
    "outdir = './msaexp_pypeit/jw04713002001_msaexp/'\n",
    "\n",
    "for ii, (islit, isource) in enumerate(reducer_pointing_1.slits_sources):\n",
    "    print(islit, isource)\n",
    "    reducer_pointing_1.coadd2d_source(islit, isource, outdir=outdir + '/Science_coadd/',\\\n",
    "                coadd2d_command='pypeit_coadd_2dspec',\\\n",
    "                find_trim_edge='3,3', find_min_max='400,800', offsets=[0, 0.529])\n",
    "    break"
   ]
  },
  {
   "cell_type": "code",
   "execution_count": null,
   "id": "9f1cda2e-6a9e-4cb5-b6a5-24bed3db4f04",
   "metadata": {},
   "outputs": [],
   "source": [
    "# J0100 field has two objects that requires special treatment\n",
    "\n",
    "bad_bkg_sources_1 = {}\n",
    "\n",
    "coadd2d_kwargs_1 = {}\n",
    "\n",
    "bad_bkg_sources_2 = {'4713_11981': {'bkg_indice':[[2],[0,2],[1], [5],[3,5],[4]]},\n",
    "                   '4713_11743': {'bkg_indice':[[1],[2],[0], [4],[5],[3]]},}\n",
    "\n",
    "# this dict stores objects that need specific coadd2d and auto extaction treatment\n",
    "coadd2d_kwargs_2 = {'4713_6733':{'offsets':[0,0], 'stack_indices':[0,3],\\\n",
    "                               'find_trim_edge':'5,5', 'find_min_max':'400,800'},\n",
    "                 '4713_11743':{'offsets':[0,-5.28973998,0,-5.28973998], 'stack_indices':[0,1,3,4]}}"
   ]
  },
  {
   "cell_type": "code",
   "execution_count": 35,
   "id": "ea27a5cd-5d45-4e43-b38b-999d6eff3c4f",
   "metadata": {
    "scrolled": true
   },
   "outputs": [
    {
     "name": "stdout",
     "output_type": "stream",
     "text": [
      "['./spec2pipe/jw04713002001_03101_00002_nrs1.fits', './spec2pipe/jw04713002001_03101_00003_nrs1.fits']\n"
     ]
    },
    {
     "ename": "KeyboardInterrupt",
     "evalue": "",
     "output_type": "error",
     "traceback": [
      "\u001b[0;31m---------------------------------------------------------------------------\u001b[0m",
      "\u001b[0;31mKeyboardInterrupt\u001b[0m                         Traceback (most recent call last)",
      "Cell \u001b[0;32mIn[35], line 1\u001b[0m\n\u001b[0;32m----> 1\u001b[0m reducer_pointing_1 \u001b[38;5;241m=\u001b[39m \u001b[43mreduce_pointing\u001b[49m\u001b[43m(\u001b[49m\u001b[43mprefix\u001b[49m\u001b[38;5;241;43m=\u001b[39;49m\u001b[38;5;124;43m'\u001b[39;49m\u001b[38;5;124;43mjw04713002001\u001b[39;49m\u001b[38;5;124;43m'\u001b[39;49m\u001b[43m,\u001b[49m\u001b[43m \u001b[49m\u001b[43msuffix\u001b[49m\u001b[38;5;241;43m=\u001b[39;49m\u001b[38;5;124;43m'\u001b[39;49m\u001b[38;5;124;43m_nsclean.fits\u001b[39;49m\u001b[38;5;124;43m'\u001b[39;49m\u001b[43m,\u001b[49m\u001b[43m\\\u001b[49m\n\u001b[1;32m      2\u001b[0m \u001b[43m                                    \u001b[49m\u001b[43mspec2dir\u001b[49m\u001b[38;5;241;43m=\u001b[39;49m\u001b[38;5;124;43m'\u001b[39;49m\u001b[38;5;124;43m./spec2pipe/\u001b[39;49m\u001b[38;5;124;43m'\u001b[39;49m\u001b[43m,\u001b[49m\u001b[43m\\\u001b[49m\n\u001b[1;32m      3\u001b[0m \u001b[43m                                    \u001b[49m\u001b[43moutdir\u001b[49m\u001b[38;5;241;43m=\u001b[39;49m\u001b[38;5;124;43m'\u001b[39;49m\u001b[38;5;124;43m./msaexp_pypeit/jw04713002001_msaexp/\u001b[39;49m\u001b[38;5;124;43m'\u001b[39;49m\u001b[43m,\u001b[49m\n\u001b[1;32m      4\u001b[0m \u001b[43m                                    \u001b[49m\u001b[43mobjids\u001b[49m\u001b[38;5;241;43m=\u001b[39;49m\u001b[38;5;28;43;01mNone\u001b[39;49;00m\u001b[43m,\u001b[49m\u001b[43m\\\u001b[49m\n\u001b[1;32m      5\u001b[0m \u001b[43m                                    \u001b[49m\u001b[43mibkg_list_default\u001b[49m\u001b[38;5;241;43m=\u001b[39;49m\u001b[43m[\u001b[49m\u001b[43m[\u001b[49m\u001b[38;5;241;43m1\u001b[39;49m\u001b[43m]\u001b[49m\u001b[43m,\u001b[49m\u001b[43m \u001b[49m\u001b[43m[\u001b[49m\u001b[38;5;241;43m0\u001b[39;49m\u001b[43m]\u001b[49m\u001b[43m]\u001b[49m\u001b[43m,\u001b[49m\u001b[43m \u001b[49m\n\u001b[1;32m      6\u001b[0m \u001b[43m                                    \u001b[49m\u001b[43moffsets\u001b[49m\u001b[38;5;241;43m=\u001b[39;49m\u001b[43m[\u001b[49m\u001b[38;5;241;43m0\u001b[39;49m\u001b[43m,\u001b[49m\u001b[43m \u001b[49m\u001b[38;5;241;43m0.529\u001b[39;49m\u001b[43m]\u001b[49m\u001b[43m)\u001b[49m\n",
      "Cell \u001b[0;32mIn[13], line 25\u001b[0m, in \u001b[0;36mreduce_pointing\u001b[0;34m(prefix, suffix, spec2dir, outdir, fix_persistence, bad_bkg_sources, coadd2d_kwargs, ibkg_list_default, coadd2d_command, objids, **kwargs)\u001b[0m\n\u001b[1;32m     22\u001b[0m scifiles_1\u001b[38;5;241m.\u001b[39msort()\n\u001b[1;32m     23\u001b[0m \u001b[38;5;28mprint\u001b[39m(scifiles_1)\n\u001b[0;32m---> 25\u001b[0m msareducer \u001b[38;5;241m=\u001b[39m \u001b[43mutils_myue\u001b[49m\u001b[38;5;241;43m.\u001b[39;49m\u001b[43mMSAreducer\u001b[49m\u001b[43m(\u001b[49m\u001b[43mscifiles_1\u001b[49m\u001b[43m,\u001b[49m\u001b[43m \u001b[49m\u001b[43moutdir\u001b[49m\u001b[43m)\u001b[49m\u001b[38;5;66;03m#, from_msaexp=True)\u001b[39;00m\n\u001b[1;32m     27\u001b[0m \u001b[38;5;28;01mfor\u001b[39;00m ii, (islit, isource) \u001b[38;5;129;01min\u001b[39;00m \u001b[38;5;28menumerate\u001b[39m(msareducer\u001b[38;5;241m.\u001b[39mslits_sources):\n\u001b[1;32m     29\u001b[0m     \u001b[38;5;28;01mif\u001b[39;00m isource \u001b[38;5;129;01min\u001b[39;00m bad_bkg_sources\u001b[38;5;241m.\u001b[39mkeys():\n",
      "File \u001b[0;32m~/Research/Projects/JWST/ID4713_add/reduction/utils_myue.py:417\u001b[0m, in \u001b[0;36mMSAreducer.__init__\u001b[0;34m(self, filelist, pypeit_output_dir)\u001b[0m\n\u001b[1;32m    414\u001b[0m \u001b[38;5;28mself\u001b[39m\u001b[38;5;241m.\u001b[39mbkg_redux \u001b[38;5;241m=\u001b[39m \u001b[38;5;28;01mTrue\u001b[39;00m\n\u001b[1;32m    416\u001b[0m \u001b[38;5;28mself\u001b[39m\u001b[38;5;241m.\u001b[39minitiate_spectrograph()\n\u001b[0;32m--> 417\u001b[0m \u001b[38;5;28;43mself\u001b[39;49m\u001b[38;5;241;43m.\u001b[39;49m\u001b[43mload_data\u001b[49m\u001b[43m(\u001b[49m\u001b[43m)\u001b[49m\n\u001b[1;32m    418\u001b[0m \u001b[38;5;28mself\u001b[39m\u001b[38;5;241m.\u001b[39mget_slit_sources()\n\u001b[1;32m    420\u001b[0m \u001b[38;5;66;03m# initial soem holders\u001b[39;00m\n",
      "File \u001b[0;32m~/Research/Projects/JWST/ID4713_add/reduction/utils_myue.py:505\u001b[0m, in \u001b[0;36mMSAreducer.load_data\u001b[0;34m(self)\u001b[0m\n\u001b[1;32m    503\u001b[0m msa_data[\u001b[38;5;241m0\u001b[39m, iexp] \u001b[38;5;241m=\u001b[39m datamodels\u001b[38;5;241m.\u001b[39mopen(\u001b[38;5;28mself\u001b[39m\u001b[38;5;241m.\u001b[39mscifiles_1[iexp])\n\u001b[1;32m    504\u001b[0m flat_data[\u001b[38;5;241m0\u001b[39m, iexp] \u001b[38;5;241m=\u001b[39m datamodels\u001b[38;5;241m.\u001b[39mopen(\u001b[38;5;28mself\u001b[39m\u001b[38;5;241m.\u001b[39mintflat_output_files_1[iexp])\n\u001b[0;32m--> 505\u001b[0m cal_data[\u001b[38;5;241m0\u001b[39m, iexp] \u001b[38;5;241m=\u001b[39m \u001b[43mdatamodels\u001b[49m\u001b[38;5;241;43m.\u001b[39;49m\u001b[43mopen\u001b[49m\u001b[43m(\u001b[49m\u001b[38;5;28;43mself\u001b[39;49m\u001b[38;5;241;43m.\u001b[39;49m\u001b[43mcal_output_files_1\u001b[49m\u001b[43m[\u001b[49m\u001b[43miexp\u001b[49m\u001b[43m]\u001b[49m\u001b[43m)\u001b[49m\n\u001b[1;32m    507\u001b[0m msa_data[\u001b[38;5;241m1\u001b[39m, iexp] \u001b[38;5;241m=\u001b[39m datamodels\u001b[38;5;241m.\u001b[39mopen(\u001b[38;5;28mself\u001b[39m\u001b[38;5;241m.\u001b[39mscifiles_2[iexp])\n\u001b[1;32m    508\u001b[0m flat_data[\u001b[38;5;241m1\u001b[39m, iexp] \u001b[38;5;241m=\u001b[39m datamodels\u001b[38;5;241m.\u001b[39mopen(\u001b[38;5;28mself\u001b[39m\u001b[38;5;241m.\u001b[39mintflat_output_files_2[iexp])\n",
      "File \u001b[0;32m~/anaconda3/envs/jwst_pypeit/lib/python3.12/site-packages/stdatamodels/jwst/datamodels/util.py:215\u001b[0m, in \u001b[0;36mopen\u001b[0;34m(init, guess, memmap, **kwargs)\u001b[0m\n\u001b[1;32m    213\u001b[0m \u001b[38;5;66;03m# Actually open the model\u001b[39;00m\n\u001b[1;32m    214\u001b[0m \u001b[38;5;28;01mtry\u001b[39;00m:\n\u001b[0;32m--> 215\u001b[0m     model \u001b[38;5;241m=\u001b[39m \u001b[43mnew_class\u001b[49m\u001b[43m(\u001b[49m\u001b[43minit\u001b[49m\u001b[43m,\u001b[49m\u001b[43m \u001b[49m\u001b[38;5;241;43m*\u001b[39;49m\u001b[38;5;241;43m*\u001b[39;49m\u001b[43mkwargs\u001b[49m\u001b[43m)\u001b[49m\n\u001b[1;32m    216\u001b[0m \u001b[38;5;28;01mexcept\u001b[39;00m \u001b[38;5;167;01mException\u001b[39;00m:\n\u001b[1;32m    217\u001b[0m     \u001b[38;5;28;01mif\u001b[39;00m file_to_close \u001b[38;5;129;01mis\u001b[39;00m \u001b[38;5;129;01mnot\u001b[39;00m \u001b[38;5;28;01mNone\u001b[39;00m:\n",
      "File \u001b[0;32m~/anaconda3/envs/jwst_pypeit/lib/python3.12/site-packages/stdatamodels/jwst/datamodels/multislit.py:82\u001b[0m, in \u001b[0;36mMultiSlitModel.__init__\u001b[0;34m(self, init, **kwargs)\u001b[0m\n\u001b[1;32m     79\u001b[0m     \u001b[38;5;28mself\u001b[39m\u001b[38;5;241m.\u001b[39mslits\u001b[38;5;241m.\u001b[39mappend(slitdata)\n\u001b[1;32m     80\u001b[0m     \u001b[38;5;28;01mreturn\u001b[39;00m\n\u001b[0;32m---> 82\u001b[0m \u001b[38;5;28;43msuper\u001b[39;49m\u001b[43m(\u001b[49m\u001b[43mMultiSlitModel\u001b[49m\u001b[43m,\u001b[49m\u001b[43m \u001b[49m\u001b[38;5;28;43mself\u001b[39;49m\u001b[43m)\u001b[49m\u001b[38;5;241;43m.\u001b[39;49m\u001b[38;5;21;43m__init__\u001b[39;49m\u001b[43m(\u001b[49m\u001b[43minit\u001b[49m\u001b[38;5;241;43m=\u001b[39;49m\u001b[43minit\u001b[49m\u001b[43m,\u001b[49m\u001b[43m \u001b[49m\u001b[38;5;241;43m*\u001b[39;49m\u001b[38;5;241;43m*\u001b[39;49m\u001b[43mkwargs\u001b[49m\u001b[43m)\u001b[49m\n",
      "File \u001b[0;32m~/anaconda3/envs/jwst_pypeit/lib/python3.12/site-packages/stdatamodels/model_base.py:218\u001b[0m, in \u001b[0;36mDataModel.__init__\u001b[0;34m(self, init, schema, memmap, pass_invalid_values, strict_validation, validate_on_assignment, validate_arrays, ignore_missing_extensions, **kwargs)\u001b[0m\n\u001b[1;32m    216\u001b[0m \u001b[38;5;28;01melif\u001b[39;00m \u001b[38;5;28misinstance\u001b[39m(init, fits\u001b[38;5;241m.\u001b[39mHDUList):\n\u001b[1;32m    217\u001b[0m     init \u001b[38;5;241m=\u001b[39m \u001b[38;5;28mself\u001b[39m\u001b[38;5;241m.\u001b[39m_migrate_hdulist(init)\n\u001b[0;32m--> 218\u001b[0m     asdffile \u001b[38;5;241m=\u001b[39m \u001b[43mfits_support\u001b[49m\u001b[38;5;241;43m.\u001b[39;49m\u001b[43mfrom_fits\u001b[49m\u001b[43m(\u001b[49m\u001b[43minit\u001b[49m\u001b[43m,\u001b[49m\u001b[43m \u001b[49m\u001b[38;5;28;43mself\u001b[39;49m\u001b[38;5;241;43m.\u001b[39;49m\u001b[43m_schema\u001b[49m\u001b[43m,\u001b[49m\u001b[43m \u001b[49m\u001b[38;5;28;43mself\u001b[39;49m\u001b[38;5;241;43m.\u001b[39;49m\u001b[43m_ctx\u001b[49m\u001b[43m,\u001b[49m\n\u001b[1;32m    219\u001b[0m \u001b[43m                                      \u001b[49m\u001b[38;5;241;43m*\u001b[39;49m\u001b[38;5;241;43m*\u001b[39;49m\u001b[43mkwargs\u001b[49m\u001b[43m)\u001b[49m\n\u001b[1;32m    221\u001b[0m \u001b[38;5;28;01melif\u001b[39;00m \u001b[38;5;28misinstance\u001b[39m(init, (\u001b[38;5;28mstr\u001b[39m, \u001b[38;5;28mbytes\u001b[39m, PurePath)):\n\u001b[1;32m    222\u001b[0m     \u001b[38;5;28;01mif\u001b[39;00m \u001b[38;5;28misinstance\u001b[39m(init, PurePath):\n",
      "File \u001b[0;32m~/anaconda3/envs/jwst_pypeit/lib/python3.12/site-packages/stdatamodels/fits_support.py:711\u001b[0m, in \u001b[0;36mfrom_fits\u001b[0;34m(hdulist, schema, context, skip_fits_update, **kwargs)\u001b[0m\n\u001b[1;32m    687\u001b[0m \u001b[38;5;250m\u001b[39m\u001b[38;5;124;03m\"\"\"Read model information from a FITS HDU list\u001b[39;00m\n\u001b[1;32m    688\u001b[0m \n\u001b[1;32m    689\u001b[0m \u001b[38;5;124;03mParameters\u001b[39;00m\n\u001b[0;32m   (...)\u001b[0m\n\u001b[1;32m    708\u001b[0m \u001b[38;5;124;03m    Otherwise, the default is `False`\u001b[39;00m\n\u001b[1;32m    709\u001b[0m \u001b[38;5;124;03m\"\"\"\u001b[39;00m\n\u001b[1;32m    710\u001b[0m \u001b[38;5;28;01mtry\u001b[39;00m:\n\u001b[0;32m--> 711\u001b[0m     ff \u001b[38;5;241m=\u001b[39m \u001b[43mfrom_fits_asdf\u001b[49m\u001b[43m(\u001b[49m\u001b[43mhdulist\u001b[49m\u001b[43m,\u001b[49m\u001b[43m \u001b[49m\u001b[38;5;241;43m*\u001b[39;49m\u001b[38;5;241;43m*\u001b[39;49m\u001b[43mkwargs\u001b[49m\u001b[43m)\u001b[49m\n\u001b[1;32m    712\u001b[0m \u001b[38;5;28;01mexcept\u001b[39;00m \u001b[38;5;167;01mException\u001b[39;00m \u001b[38;5;28;01mas\u001b[39;00m exc:\n\u001b[1;32m    713\u001b[0m     \u001b[38;5;28;01mraise\u001b[39;00m exc\u001b[38;5;241m.\u001b[39m\u001b[38;5;18m__class__\u001b[39m(\u001b[38;5;124m\"\u001b[39m\u001b[38;5;124mERROR loading embedded ASDF: \u001b[39m\u001b[38;5;124m\"\u001b[39m \u001b[38;5;241m+\u001b[39m \u001b[38;5;28mstr\u001b[39m(exc)) \u001b[38;5;28;01mfrom\u001b[39;00m\u001b[38;5;250m \u001b[39m\u001b[38;5;21;01mexc\u001b[39;00m\n",
      "File \u001b[0;32m~/anaconda3/envs/jwst_pypeit/lib/python3.12/site-packages/stdatamodels/fits_support.py:753\u001b[0m, in \u001b[0;36mfrom_fits_asdf\u001b[0;34m(hdulist, ignore_unrecognized_tag, **kwargs)\u001b[0m\n\u001b[1;32m    748\u001b[0m \u001b[38;5;66;03m# get kwargs supported by asdf, this will not pass along arbitrary kwargs\u001b[39;00m\n\u001b[1;32m    749\u001b[0m akwargs \u001b[38;5;241m=\u001b[39m {\n\u001b[1;32m    750\u001b[0m     k: kwargs[k] \u001b[38;5;28;01mfor\u001b[39;00m k \u001b[38;5;129;01min\u001b[39;00m inspect\u001b[38;5;241m.\u001b[39mgetfullargspec(asdf\u001b[38;5;241m.\u001b[39mopen)\u001b[38;5;241m.\u001b[39margs\n\u001b[1;32m    751\u001b[0m     \u001b[38;5;28;01mif\u001b[39;00m k[\u001b[38;5;241m0\u001b[39m] \u001b[38;5;241m!=\u001b[39m \u001b[38;5;124m'\u001b[39m\u001b[38;5;124m_\u001b[39m\u001b[38;5;124m'\u001b[39m \u001b[38;5;129;01mand\u001b[39;00m k \u001b[38;5;129;01min\u001b[39;00m kwargs\n\u001b[1;32m    752\u001b[0m }\n\u001b[0;32m--> 753\u001b[0m af \u001b[38;5;241m=\u001b[39m \u001b[43masdf\u001b[49m\u001b[38;5;241;43m.\u001b[39;49m\u001b[43mopen\u001b[49m\u001b[43m(\u001b[49m\n\u001b[1;32m    754\u001b[0m \u001b[43m    \u001b[49m\u001b[43mgeneric_file\u001b[49m\u001b[43m,\u001b[49m\n\u001b[1;32m    755\u001b[0m \u001b[43m    \u001b[49m\u001b[43mignore_unrecognized_tag\u001b[49m\u001b[38;5;241;43m=\u001b[39;49m\u001b[43mignore_unrecognized_tag\u001b[49m\u001b[43m,\u001b[49m\n\u001b[1;32m    756\u001b[0m \u001b[43m    \u001b[49m\u001b[43mignore_missing_extensions\u001b[49m\u001b[38;5;241;43m=\u001b[39;49m\u001b[43mignore_missing_extensions\u001b[49m\u001b[43m,\u001b[49m\n\u001b[1;32m    757\u001b[0m \u001b[43m    \u001b[49m\u001b[38;5;241;43m*\u001b[39;49m\u001b[38;5;241;43m*\u001b[39;49m\u001b[43makwargs\u001b[49m\n\u001b[1;32m    758\u001b[0m \u001b[43m\u001b[49m\u001b[43m)\u001b[49m\n\u001b[1;32m    759\u001b[0m \u001b[38;5;66;03m# map hdulist to blocks here\u001b[39;00m\n\u001b[1;32m    760\u001b[0m _map_hdulist_to_arrays(hdulist, af)\n",
      "File \u001b[0;32m~/anaconda3/envs/jwst_pypeit/lib/python3.12/site-packages/asdf/_asdf.py:1750\u001b[0m, in \u001b[0;36mopen_asdf\u001b[0;34m(fd, uri, mode, validate_checksums, extensions, ignore_version_mismatch, ignore_unrecognized_tag, _force_raw_types, copy_arrays, memmap, lazy_tree, lazy_load, custom_schema, strict_extension_check, ignore_missing_extensions, _get_yaml_content)\u001b[0m\n\u001b[1;32m   1739\u001b[0m         mode \u001b[38;5;241m=\u001b[39m \u001b[38;5;124m\"\u001b[39m\u001b[38;5;124mr\u001b[39m\u001b[38;5;124m\"\u001b[39m\n\u001b[1;32m   1741\u001b[0m instance \u001b[38;5;241m=\u001b[39m AsdfFile(\n\u001b[1;32m   1742\u001b[0m     ignore_version_mismatch\u001b[38;5;241m=\u001b[39mignore_version_mismatch,\n\u001b[1;32m   1743\u001b[0m     ignore_unrecognized_tag\u001b[38;5;241m=\u001b[39mignore_unrecognized_tag,\n\u001b[0;32m   (...)\u001b[0m\n\u001b[1;32m   1747\u001b[0m     custom_schema\u001b[38;5;241m=\u001b[39mcustom_schema,\n\u001b[1;32m   1748\u001b[0m )\n\u001b[0;32m-> 1750\u001b[0m \u001b[38;5;28;01mreturn\u001b[39;00m \u001b[43mAsdfFile\u001b[49m\u001b[38;5;241;43m.\u001b[39;49m\u001b[43m_open_impl\u001b[49m\u001b[43m(\u001b[49m\n\u001b[1;32m   1751\u001b[0m \u001b[43m    \u001b[49m\u001b[43minstance\u001b[49m\u001b[43m,\u001b[49m\n\u001b[1;32m   1752\u001b[0m \u001b[43m    \u001b[49m\u001b[43mfd\u001b[49m\u001b[43m,\u001b[49m\n\u001b[1;32m   1753\u001b[0m \u001b[43m    \u001b[49m\u001b[43muri\u001b[49m\u001b[38;5;241;43m=\u001b[39;49m\u001b[43muri\u001b[49m\u001b[43m,\u001b[49m\n\u001b[1;32m   1754\u001b[0m \u001b[43m    \u001b[49m\u001b[43mmode\u001b[49m\u001b[38;5;241;43m=\u001b[39;49m\u001b[43mmode\u001b[49m\u001b[43m,\u001b[49m\n\u001b[1;32m   1755\u001b[0m \u001b[43m    \u001b[49m\u001b[43mvalidate_checksums\u001b[49m\u001b[38;5;241;43m=\u001b[39;49m\u001b[43mvalidate_checksums\u001b[49m\u001b[43m,\u001b[49m\n\u001b[1;32m   1756\u001b[0m \u001b[43m    \u001b[49m\u001b[43mextensions\u001b[49m\u001b[38;5;241;43m=\u001b[39;49m\u001b[43mextensions\u001b[49m\u001b[43m,\u001b[49m\n\u001b[1;32m   1757\u001b[0m \u001b[43m    \u001b[49m\u001b[43mlazy_tree\u001b[49m\u001b[38;5;241;43m=\u001b[39;49m\u001b[43mlazy_tree\u001b[49m\u001b[43m,\u001b[49m\n\u001b[1;32m   1758\u001b[0m \u001b[43m    \u001b[49m\u001b[43m_get_yaml_content\u001b[49m\u001b[38;5;241;43m=\u001b[39;49m\u001b[43m_get_yaml_content\u001b[49m\u001b[43m,\u001b[49m\n\u001b[1;32m   1759\u001b[0m \u001b[43m    \u001b[49m\u001b[43m_force_raw_types\u001b[49m\u001b[38;5;241;43m=\u001b[39;49m\u001b[43m_force_raw_types\u001b[49m\u001b[43m,\u001b[49m\n\u001b[1;32m   1760\u001b[0m \u001b[43m    \u001b[49m\u001b[43mstrict_extension_check\u001b[49m\u001b[38;5;241;43m=\u001b[39;49m\u001b[43mstrict_extension_check\u001b[49m\u001b[43m,\u001b[49m\n\u001b[1;32m   1761\u001b[0m \u001b[43m    \u001b[49m\u001b[43mignore_missing_extensions\u001b[49m\u001b[38;5;241;43m=\u001b[39;49m\u001b[43mignore_missing_extensions\u001b[49m\u001b[43m,\u001b[49m\n\u001b[1;32m   1762\u001b[0m \u001b[43m\u001b[49m\u001b[43m)\u001b[49m\n",
      "File \u001b[0;32m~/anaconda3/envs/jwst_pypeit/lib/python3.12/site-packages/asdf/_asdf.py:1025\u001b[0m, in \u001b[0;36mAsdfFile._open_impl\u001b[0;34m(cls, self, fd, uri, mode, validate_checksums, extensions, lazy_tree, _get_yaml_content, _force_raw_types, strict_extension_check, ignore_missing_extensions)\u001b[0m\n\u001b[1;32m   1023\u001b[0m generic_file \u001b[38;5;241m=\u001b[39m generic_io\u001b[38;5;241m.\u001b[39mget_file(fd, mode\u001b[38;5;241m=\u001b[39mmode, uri\u001b[38;5;241m=\u001b[39muri)\n\u001b[1;32m   1024\u001b[0m \u001b[38;5;28;01mtry\u001b[39;00m:\n\u001b[0;32m-> 1025\u001b[0m     \u001b[38;5;28;01mreturn\u001b[39;00m \u001b[38;5;28;43mcls\u001b[39;49m\u001b[38;5;241;43m.\u001b[39;49m\u001b[43m_open_asdf\u001b[49m\u001b[43m(\u001b[49m\n\u001b[1;32m   1026\u001b[0m \u001b[43m        \u001b[49m\u001b[38;5;28;43mself\u001b[39;49m\u001b[43m,\u001b[49m\n\u001b[1;32m   1027\u001b[0m \u001b[43m        \u001b[49m\u001b[43mgeneric_file\u001b[49m\u001b[43m,\u001b[49m\n\u001b[1;32m   1028\u001b[0m \u001b[43m        \u001b[49m\u001b[43mvalidate_checksums\u001b[49m\u001b[38;5;241;43m=\u001b[39;49m\u001b[43mvalidate_checksums\u001b[49m\u001b[43m,\u001b[49m\n\u001b[1;32m   1029\u001b[0m \u001b[43m        \u001b[49m\u001b[43mextensions\u001b[49m\u001b[38;5;241;43m=\u001b[39;49m\u001b[43mextensions\u001b[49m\u001b[43m,\u001b[49m\n\u001b[1;32m   1030\u001b[0m \u001b[43m        \u001b[49m\u001b[43mlazy_tree\u001b[49m\u001b[38;5;241;43m=\u001b[39;49m\u001b[43mlazy_tree\u001b[49m\u001b[43m,\u001b[49m\n\u001b[1;32m   1031\u001b[0m \u001b[43m        \u001b[49m\u001b[43m_get_yaml_content\u001b[49m\u001b[38;5;241;43m=\u001b[39;49m\u001b[43m_get_yaml_content\u001b[49m\u001b[43m,\u001b[49m\n\u001b[1;32m   1032\u001b[0m \u001b[43m        \u001b[49m\u001b[43m_force_raw_types\u001b[49m\u001b[38;5;241;43m=\u001b[39;49m\u001b[43m_force_raw_types\u001b[49m\u001b[43m,\u001b[49m\n\u001b[1;32m   1033\u001b[0m \u001b[43m        \u001b[49m\u001b[43mstrict_extension_check\u001b[49m\u001b[38;5;241;43m=\u001b[39;49m\u001b[43mstrict_extension_check\u001b[49m\u001b[43m,\u001b[49m\n\u001b[1;32m   1034\u001b[0m \u001b[43m        \u001b[49m\u001b[43mignore_missing_extensions\u001b[49m\u001b[38;5;241;43m=\u001b[39;49m\u001b[43mignore_missing_extensions\u001b[49m\u001b[43m,\u001b[49m\n\u001b[1;32m   1035\u001b[0m \u001b[43m    \u001b[49m\u001b[43m)\u001b[49m\n\u001b[1;32m   1036\u001b[0m \u001b[38;5;28;01mexcept\u001b[39;00m \u001b[38;5;167;01mException\u001b[39;00m:\n\u001b[1;32m   1037\u001b[0m     \u001b[38;5;28;01mif\u001b[39;00m close_on_fail:\n",
      "File \u001b[0;32m~/anaconda3/envs/jwst_pypeit/lib/python3.12/site-packages/asdf/_asdf.py:997\u001b[0m, in \u001b[0;36mAsdfFile._open_asdf\u001b[0;34m(cls, self, fd, validate_checksums, extensions, lazy_tree, _get_yaml_content, _force_raw_types, strict_extension_check, ignore_missing_extensions)\u001b[0m\n\u001b[1;32m    995\u001b[0m     tree \u001b[38;5;241m=\u001b[39m obj\n\u001b[1;32m    996\u001b[0m \u001b[38;5;28;01melse\u001b[39;00m:\n\u001b[0;32m--> 997\u001b[0m     tree \u001b[38;5;241m=\u001b[39m \u001b[43myamlutil\u001b[49m\u001b[38;5;241;43m.\u001b[39;49m\u001b[43mtagged_tree_to_custom_tree\u001b[49m\u001b[43m(\u001b[49m\u001b[43mtree\u001b[49m\u001b[43m,\u001b[49m\u001b[43m \u001b[49m\u001b[38;5;28;43mself\u001b[39;49m\u001b[43m,\u001b[49m\u001b[43m \u001b[49m\u001b[43m_force_raw_types\u001b[49m\u001b[43m)\u001b[49m\n\u001b[1;32m    999\u001b[0m \u001b[38;5;28;01mif\u001b[39;00m \u001b[38;5;129;01mnot\u001b[39;00m (ignore_missing_extensions \u001b[38;5;129;01mor\u001b[39;00m _force_raw_types):\n\u001b[1;32m   1000\u001b[0m     \u001b[38;5;28mself\u001b[39m\u001b[38;5;241m.\u001b[39m_check_extensions(tree, strict\u001b[38;5;241m=\u001b[39mstrict_extension_check)\n",
      "File \u001b[0;32m~/anaconda3/envs/jwst_pypeit/lib/python3.12/site-packages/asdf/yamlutil.py:362\u001b[0m, in \u001b[0;36mtagged_tree_to_custom_tree\u001b[0;34m(tree, ctx, force_raw_types, _serialization_context)\u001b[0m\n\u001b[1;32m    356\u001b[0m         warnings\u001b[38;5;241m.\u001b[39mwarn(\n\u001b[1;32m    357\u001b[0m             \u001b[38;5;124mf\u001b[39m\u001b[38;5;124m\"\u001b[39m\u001b[38;5;132;01m{\u001b[39;00mtag\u001b[38;5;132;01m}\u001b[39;00m\u001b[38;5;124m is not recognized, converting to raw Python data structure\u001b[39m\u001b[38;5;124m\"\u001b[39m,\n\u001b[1;32m    358\u001b[0m             AsdfConversionWarning,\n\u001b[1;32m    359\u001b[0m         )\n\u001b[1;32m    360\u001b[0m     \u001b[38;5;28;01mreturn\u001b[39;00m node\n\u001b[0;32m--> 362\u001b[0m \u001b[38;5;28;01mreturn\u001b[39;00m \u001b[43mtreeutil\u001b[49m\u001b[38;5;241;43m.\u001b[39;49m\u001b[43mwalk_and_modify\u001b[49m\u001b[43m(\u001b[49m\n\u001b[1;32m    363\u001b[0m \u001b[43m    \u001b[49m\u001b[43mtree\u001b[49m\u001b[43m,\u001b[49m\n\u001b[1;32m    364\u001b[0m \u001b[43m    \u001b[49m\u001b[43m_walker\u001b[49m\u001b[43m,\u001b[49m\n\u001b[1;32m    365\u001b[0m \u001b[43m    \u001b[49m\u001b[43mignore_implicit_conversion\u001b[49m\u001b[38;5;241;43m=\u001b[39;49m\u001b[43mctx\u001b[49m\u001b[38;5;241;43m.\u001b[39;49m\u001b[43m_ignore_implicit_conversion\u001b[49m\u001b[43m,\u001b[49m\n\u001b[1;32m    366\u001b[0m \u001b[43m    \u001b[49m\u001b[38;5;66;43;03m# Walk the tree in postorder, so that extensions receive\u001b[39;49;00m\n\u001b[1;32m    367\u001b[0m \u001b[43m    \u001b[49m\u001b[38;5;66;43;03m# container nodes with children already deserialized.\u001b[39;49;00m\n\u001b[1;32m    368\u001b[0m \u001b[43m    \u001b[49m\u001b[43mpostorder\u001b[49m\u001b[38;5;241;43m=\u001b[39;49m\u001b[38;5;28;43;01mTrue\u001b[39;49;00m\u001b[43m,\u001b[49m\n\u001b[1;32m    369\u001b[0m \u001b[43m    \u001b[49m\u001b[43m_context\u001b[49m\u001b[38;5;241;43m=\u001b[39;49m\u001b[43mctx\u001b[49m\u001b[38;5;241;43m.\u001b[39;49m\u001b[43m_tree_modification_context\u001b[49m\u001b[43m,\u001b[49m\n\u001b[1;32m    370\u001b[0m \u001b[43m\u001b[49m\u001b[43m)\u001b[49m\n",
      "File \u001b[0;32m~/anaconda3/envs/jwst_pypeit/lib/python3.12/site-packages/asdf/treeutil.py:431\u001b[0m, in \u001b[0;36mwalk_and_modify\u001b[0;34m(top, callback, ignore_implicit_conversion, postorder, _context)\u001b[0m\n\u001b[1;32m    428\u001b[0m     _context \u001b[38;5;241m=\u001b[39m _TreeModificationContext()\n\u001b[1;32m    430\u001b[0m \u001b[38;5;28;01mwith\u001b[39;00m _context:\n\u001b[0;32m--> 431\u001b[0m     \u001b[38;5;28;01mreturn\u001b[39;00m \u001b[43m_recurse\u001b[49m\u001b[43m(\u001b[49m\u001b[43mtop\u001b[49m\u001b[43m)\u001b[49m\n",
      "File \u001b[0;32m~/anaconda3/envs/jwst_pypeit/lib/python3.12/site-packages/asdf/treeutil.py:412\u001b[0m, in \u001b[0;36mwalk_and_modify.<locals>._recurse\u001b[0;34m(node, json_id)\u001b[0m\n\u001b[1;32m    407\u001b[0m     json_id \u001b[38;5;241m=\u001b[39m node[\u001b[38;5;124m\"\u001b[39m\u001b[38;5;124mid\u001b[39m\u001b[38;5;124m\"\u001b[39m]\n\u001b[1;32m    409\u001b[0m \u001b[38;5;28;01mif\u001b[39;00m postorder:\n\u001b[1;32m    410\u001b[0m     \u001b[38;5;66;03m# If this is a postorder modification, invoke the\u001b[39;00m\n\u001b[1;32m    411\u001b[0m     \u001b[38;5;66;03m# callback on this node's children first.\u001b[39;00m\n\u001b[0;32m--> 412\u001b[0m     result \u001b[38;5;241m=\u001b[39m \u001b[43m_handle_children\u001b[49m\u001b[43m(\u001b[49m\u001b[43mnode\u001b[49m\u001b[43m,\u001b[49m\u001b[43m \u001b[49m\u001b[43mjson_id\u001b[49m\u001b[43m)\u001b[49m\n\u001b[1;32m    413\u001b[0m     result \u001b[38;5;241m=\u001b[39m _handle_callback(result, json_id)\n\u001b[1;32m    414\u001b[0m \u001b[38;5;28;01melse\u001b[39;00m:\n\u001b[1;32m    415\u001b[0m     \u001b[38;5;66;03m# Otherwise, invoke the callback on the node first,\u001b[39;00m\n\u001b[1;32m    416\u001b[0m     \u001b[38;5;66;03m# then its children.\u001b[39;00m\n",
      "File \u001b[0;32m~/anaconda3/envs/jwst_pypeit/lib/python3.12/site-packages/asdf/treeutil.py:388\u001b[0m, in \u001b[0;36mwalk_and_modify.<locals>._handle_children\u001b[0;34m(node, json_id)\u001b[0m\n\u001b[1;32m    385\u001b[0m \u001b[38;5;28;01melse\u001b[39;00m:\n\u001b[1;32m    386\u001b[0m     result \u001b[38;5;241m=\u001b[39m node\n\u001b[0;32m--> 388\u001b[0m \u001b[38;5;28;01mreturn\u001b[39;00m \u001b[43m_handle_generator\u001b[49m\u001b[43m(\u001b[49m\u001b[43mresult\u001b[49m\u001b[43m)\u001b[49m\n",
      "File \u001b[0;32m~/anaconda3/envs/jwst_pypeit/lib/python3.12/site-packages/asdf/treeutil.py:285\u001b[0m, in \u001b[0;36mwalk_and_modify.<locals>._handle_generator\u001b[0;34m(result)\u001b[0m\n\u001b[1;32m    283\u001b[0m \u001b[38;5;28;01mif\u001b[39;00m \u001b[38;5;28misinstance\u001b[39m(result, types\u001b[38;5;241m.\u001b[39mGeneratorType):\n\u001b[1;32m    284\u001b[0m     generator \u001b[38;5;241m=\u001b[39m result\n\u001b[0;32m--> 285\u001b[0m     result \u001b[38;5;241m=\u001b[39m \u001b[38;5;28;43mnext\u001b[39;49m\u001b[43m(\u001b[49m\u001b[43mgenerator\u001b[49m\u001b[43m)\u001b[49m\n\u001b[1;32m    286\u001b[0m     _context\u001b[38;5;241m.\u001b[39madd_generator(generator)\n\u001b[1;32m    288\u001b[0m \u001b[38;5;28;01mreturn\u001b[39;00m result\n",
      "File \u001b[0;32m~/anaconda3/envs/jwst_pypeit/lib/python3.12/site-packages/asdf/treeutil.py:313\u001b[0m, in \u001b[0;36mwalk_and_modify.<locals>._handle_mapping\u001b[0;34m(node, json_id)\u001b[0m\n\u001b[1;32m    310\u001b[0m         pending_items[key] \u001b[38;5;241m=\u001b[39m value\n\u001b[1;32m    311\u001b[0m         result[key] \u001b[38;5;241m=\u001b[39m PendingValue\n\u001b[0;32m--> 313\u001b[0m     \u001b[38;5;28;01melif\u001b[39;00m (val \u001b[38;5;241m:=\u001b[39m \u001b[43m_recurse\u001b[49m\u001b[43m(\u001b[49m\u001b[43mvalue\u001b[49m\u001b[43m,\u001b[49m\u001b[43m \u001b[49m\u001b[43mjson_id\u001b[49m\u001b[43m)\u001b[49m) \u001b[38;5;129;01mis\u001b[39;00m \u001b[38;5;129;01mnot\u001b[39;00m RemoveNode:\n\u001b[1;32m    314\u001b[0m         result[key] \u001b[38;5;241m=\u001b[39m val\n\u001b[1;32m    316\u001b[0m \u001b[38;5;28;01myield\u001b[39;00m result\n",
      "File \u001b[0;32m~/anaconda3/envs/jwst_pypeit/lib/python3.12/site-packages/asdf/treeutil.py:412\u001b[0m, in \u001b[0;36mwalk_and_modify.<locals>._recurse\u001b[0;34m(node, json_id)\u001b[0m\n\u001b[1;32m    407\u001b[0m     json_id \u001b[38;5;241m=\u001b[39m node[\u001b[38;5;124m\"\u001b[39m\u001b[38;5;124mid\u001b[39m\u001b[38;5;124m\"\u001b[39m]\n\u001b[1;32m    409\u001b[0m \u001b[38;5;28;01mif\u001b[39;00m postorder:\n\u001b[1;32m    410\u001b[0m     \u001b[38;5;66;03m# If this is a postorder modification, invoke the\u001b[39;00m\n\u001b[1;32m    411\u001b[0m     \u001b[38;5;66;03m# callback on this node's children first.\u001b[39;00m\n\u001b[0;32m--> 412\u001b[0m     result \u001b[38;5;241m=\u001b[39m \u001b[43m_handle_children\u001b[49m\u001b[43m(\u001b[49m\u001b[43mnode\u001b[49m\u001b[43m,\u001b[49m\u001b[43m \u001b[49m\u001b[43mjson_id\u001b[49m\u001b[43m)\u001b[49m\n\u001b[1;32m    413\u001b[0m     result \u001b[38;5;241m=\u001b[39m _handle_callback(result, json_id)\n\u001b[1;32m    414\u001b[0m \u001b[38;5;28;01melse\u001b[39;00m:\n\u001b[1;32m    415\u001b[0m     \u001b[38;5;66;03m# Otherwise, invoke the callback on the node first,\u001b[39;00m\n\u001b[1;32m    416\u001b[0m     \u001b[38;5;66;03m# then its children.\u001b[39;00m\n",
      "File \u001b[0;32m~/anaconda3/envs/jwst_pypeit/lib/python3.12/site-packages/asdf/treeutil.py:388\u001b[0m, in \u001b[0;36mwalk_and_modify.<locals>._handle_children\u001b[0;34m(node, json_id)\u001b[0m\n\u001b[1;32m    385\u001b[0m \u001b[38;5;28;01melse\u001b[39;00m:\n\u001b[1;32m    386\u001b[0m     result \u001b[38;5;241m=\u001b[39m node\n\u001b[0;32m--> 388\u001b[0m \u001b[38;5;28;01mreturn\u001b[39;00m \u001b[43m_handle_generator\u001b[49m\u001b[43m(\u001b[49m\u001b[43mresult\u001b[49m\u001b[43m)\u001b[49m\n",
      "File \u001b[0;32m~/anaconda3/envs/jwst_pypeit/lib/python3.12/site-packages/asdf/treeutil.py:285\u001b[0m, in \u001b[0;36mwalk_and_modify.<locals>._handle_generator\u001b[0;34m(result)\u001b[0m\n\u001b[1;32m    283\u001b[0m \u001b[38;5;28;01mif\u001b[39;00m \u001b[38;5;28misinstance\u001b[39m(result, types\u001b[38;5;241m.\u001b[39mGeneratorType):\n\u001b[1;32m    284\u001b[0m     generator \u001b[38;5;241m=\u001b[39m result\n\u001b[0;32m--> 285\u001b[0m     result \u001b[38;5;241m=\u001b[39m \u001b[38;5;28;43mnext\u001b[39;49m\u001b[43m(\u001b[49m\u001b[43mgenerator\u001b[49m\u001b[43m)\u001b[49m\n\u001b[1;32m    286\u001b[0m     _context\u001b[38;5;241m.\u001b[39madd_generator(generator)\n\u001b[1;32m    288\u001b[0m \u001b[38;5;28;01mreturn\u001b[39;00m result\n",
      "File \u001b[0;32m~/anaconda3/envs/jwst_pypeit/lib/python3.12/site-packages/asdf/treeutil.py:347\u001b[0m, in \u001b[0;36mwalk_and_modify.<locals>._handle_mutable_sequence\u001b[0;34m(node, json_id)\u001b[0m\n\u001b[1;32m    345\u001b[0m         result\u001b[38;5;241m.\u001b[39mappend(PendingValue)\n\u001b[1;32m    346\u001b[0m     \u001b[38;5;28;01melse\u001b[39;00m:\n\u001b[0;32m--> 347\u001b[0m         result\u001b[38;5;241m.\u001b[39mappend(\u001b[43m_recurse\u001b[49m\u001b[43m(\u001b[49m\u001b[43mvalue\u001b[49m\u001b[43m,\u001b[49m\u001b[43m \u001b[49m\u001b[43mjson_id\u001b[49m\u001b[43m)\u001b[49m)\n\u001b[1;32m    349\u001b[0m \u001b[38;5;28;01myield\u001b[39;00m result\n\u001b[1;32m    351\u001b[0m \u001b[38;5;28;01mfor\u001b[39;00m i, value \u001b[38;5;129;01min\u001b[39;00m pending_items\u001b[38;5;241m.\u001b[39mitems():\n\u001b[1;32m    352\u001b[0m     \u001b[38;5;66;03m# Now that we've yielded, the pending children should\u001b[39;00m\n\u001b[1;32m    353\u001b[0m     \u001b[38;5;66;03m# be available.\u001b[39;00m\n",
      "    \u001b[0;31m[... skipping similar frames: walk_and_modify.<locals>._handle_children at line 388 (1 times), walk_and_modify.<locals>._handle_generator at line 285 (1 times), walk_and_modify.<locals>._recurse at line 412 (1 times)]\u001b[0m\n",
      "File \u001b[0;32m~/anaconda3/envs/jwst_pypeit/lib/python3.12/site-packages/asdf/treeutil.py:313\u001b[0m, in \u001b[0;36mwalk_and_modify.<locals>._handle_mapping\u001b[0;34m(node, json_id)\u001b[0m\n\u001b[1;32m    310\u001b[0m         pending_items[key] \u001b[38;5;241m=\u001b[39m value\n\u001b[1;32m    311\u001b[0m         result[key] \u001b[38;5;241m=\u001b[39m PendingValue\n\u001b[0;32m--> 313\u001b[0m     \u001b[38;5;28;01melif\u001b[39;00m (val \u001b[38;5;241m:=\u001b[39m \u001b[43m_recurse\u001b[49m\u001b[43m(\u001b[49m\u001b[43mvalue\u001b[49m\u001b[43m,\u001b[49m\u001b[43m \u001b[49m\u001b[43mjson_id\u001b[49m\u001b[43m)\u001b[49m) \u001b[38;5;129;01mis\u001b[39;00m \u001b[38;5;129;01mnot\u001b[39;00m RemoveNode:\n\u001b[1;32m    314\u001b[0m         result[key] \u001b[38;5;241m=\u001b[39m val\n\u001b[1;32m    316\u001b[0m \u001b[38;5;28;01myield\u001b[39;00m result\n",
      "    \u001b[0;31m[... skipping similar frames: walk_and_modify.<locals>._handle_children at line 388 (3 times), walk_and_modify.<locals>._handle_generator at line 285 (3 times), walk_and_modify.<locals>._recurse at line 412 (3 times), walk_and_modify.<locals>._handle_mapping at line 313 (2 times)]\u001b[0m\n",
      "File \u001b[0;32m~/anaconda3/envs/jwst_pypeit/lib/python3.12/site-packages/asdf/treeutil.py:347\u001b[0m, in \u001b[0;36mwalk_and_modify.<locals>._handle_mutable_sequence\u001b[0;34m(node, json_id)\u001b[0m\n\u001b[1;32m    345\u001b[0m         result\u001b[38;5;241m.\u001b[39mappend(PendingValue)\n\u001b[1;32m    346\u001b[0m     \u001b[38;5;28;01melse\u001b[39;00m:\n\u001b[0;32m--> 347\u001b[0m         result\u001b[38;5;241m.\u001b[39mappend(\u001b[43m_recurse\u001b[49m\u001b[43m(\u001b[49m\u001b[43mvalue\u001b[49m\u001b[43m,\u001b[49m\u001b[43m \u001b[49m\u001b[43mjson_id\u001b[49m\u001b[43m)\u001b[49m)\n\u001b[1;32m    349\u001b[0m \u001b[38;5;28;01myield\u001b[39;00m result\n\u001b[1;32m    351\u001b[0m \u001b[38;5;28;01mfor\u001b[39;00m i, value \u001b[38;5;129;01min\u001b[39;00m pending_items\u001b[38;5;241m.\u001b[39mitems():\n\u001b[1;32m    352\u001b[0m     \u001b[38;5;66;03m# Now that we've yielded, the pending children should\u001b[39;00m\n\u001b[1;32m    353\u001b[0m     \u001b[38;5;66;03m# be available.\u001b[39;00m\n",
      "    \u001b[0;31m[... skipping similar frames: walk_and_modify.<locals>._handle_children at line 388 (7 times), walk_and_modify.<locals>._handle_generator at line 285 (7 times), walk_and_modify.<locals>._recurse at line 412 (7 times), walk_and_modify.<locals>._handle_mapping at line 313 (4 times), walk_and_modify.<locals>._handle_mutable_sequence at line 347 (2 times)]\u001b[0m\n",
      "File \u001b[0;32m~/anaconda3/envs/jwst_pypeit/lib/python3.12/site-packages/asdf/treeutil.py:347\u001b[0m, in \u001b[0;36mwalk_and_modify.<locals>._handle_mutable_sequence\u001b[0;34m(node, json_id)\u001b[0m\n\u001b[1;32m    345\u001b[0m         result\u001b[38;5;241m.\u001b[39mappend(PendingValue)\n\u001b[1;32m    346\u001b[0m     \u001b[38;5;28;01melse\u001b[39;00m:\n\u001b[0;32m--> 347\u001b[0m         result\u001b[38;5;241m.\u001b[39mappend(\u001b[43m_recurse\u001b[49m\u001b[43m(\u001b[49m\u001b[43mvalue\u001b[49m\u001b[43m,\u001b[49m\u001b[43m \u001b[49m\u001b[43mjson_id\u001b[49m\u001b[43m)\u001b[49m)\n\u001b[1;32m    349\u001b[0m \u001b[38;5;28;01myield\u001b[39;00m result\n\u001b[1;32m    351\u001b[0m \u001b[38;5;28;01mfor\u001b[39;00m i, value \u001b[38;5;129;01min\u001b[39;00m pending_items\u001b[38;5;241m.\u001b[39mitems():\n\u001b[1;32m    352\u001b[0m     \u001b[38;5;66;03m# Now that we've yielded, the pending children should\u001b[39;00m\n\u001b[1;32m    353\u001b[0m     \u001b[38;5;66;03m# be available.\u001b[39;00m\n",
      "    \u001b[0;31m[... skipping similar frames: walk_and_modify.<locals>._handle_children at line 388 (1 times), walk_and_modify.<locals>._recurse at line 412 (1 times)]\u001b[0m\n",
      "File \u001b[0;32m~/anaconda3/envs/jwst_pypeit/lib/python3.12/site-packages/asdf/treeutil.py:285\u001b[0m, in \u001b[0;36mwalk_and_modify.<locals>._handle_generator\u001b[0;34m(result)\u001b[0m\n\u001b[1;32m    283\u001b[0m \u001b[38;5;28;01mif\u001b[39;00m \u001b[38;5;28misinstance\u001b[39m(result, types\u001b[38;5;241m.\u001b[39mGeneratorType):\n\u001b[1;32m    284\u001b[0m     generator \u001b[38;5;241m=\u001b[39m result\n\u001b[0;32m--> 285\u001b[0m     result \u001b[38;5;241m=\u001b[39m \u001b[38;5;28;43mnext\u001b[39;49m\u001b[43m(\u001b[49m\u001b[43mgenerator\u001b[49m\u001b[43m)\u001b[49m\n\u001b[1;32m    286\u001b[0m     _context\u001b[38;5;241m.\u001b[39madd_generator(generator)\n\u001b[1;32m    288\u001b[0m \u001b[38;5;28;01mreturn\u001b[39;00m result\n",
      "File \u001b[0;32m~/anaconda3/envs/jwst_pypeit/lib/python3.12/site-packages/asdf/treeutil.py:313\u001b[0m, in \u001b[0;36mwalk_and_modify.<locals>._handle_mapping\u001b[0;34m(node, json_id)\u001b[0m\n\u001b[1;32m    310\u001b[0m         pending_items[key] \u001b[38;5;241m=\u001b[39m value\n\u001b[1;32m    311\u001b[0m         result[key] \u001b[38;5;241m=\u001b[39m PendingValue\n\u001b[0;32m--> 313\u001b[0m     \u001b[38;5;28;01melif\u001b[39;00m (val \u001b[38;5;241m:=\u001b[39m \u001b[43m_recurse\u001b[49m\u001b[43m(\u001b[49m\u001b[43mvalue\u001b[49m\u001b[43m,\u001b[49m\u001b[43m \u001b[49m\u001b[43mjson_id\u001b[49m\u001b[43m)\u001b[49m) \u001b[38;5;129;01mis\u001b[39;00m \u001b[38;5;129;01mnot\u001b[39;00m RemoveNode:\n\u001b[1;32m    314\u001b[0m         result[key] \u001b[38;5;241m=\u001b[39m val\n\u001b[1;32m    316\u001b[0m \u001b[38;5;28;01myield\u001b[39;00m result\n",
      "File \u001b[0;32m~/anaconda3/envs/jwst_pypeit/lib/python3.12/site-packages/asdf/treeutil.py:412\u001b[0m, in \u001b[0;36mwalk_and_modify.<locals>._recurse\u001b[0;34m(node, json_id)\u001b[0m\n\u001b[1;32m    407\u001b[0m     json_id \u001b[38;5;241m=\u001b[39m node[\u001b[38;5;124m\"\u001b[39m\u001b[38;5;124mid\u001b[39m\u001b[38;5;124m\"\u001b[39m]\n\u001b[1;32m    409\u001b[0m \u001b[38;5;28;01mif\u001b[39;00m postorder:\n\u001b[1;32m    410\u001b[0m     \u001b[38;5;66;03m# If this is a postorder modification, invoke the\u001b[39;00m\n\u001b[1;32m    411\u001b[0m     \u001b[38;5;66;03m# callback on this node's children first.\u001b[39;00m\n\u001b[0;32m--> 412\u001b[0m     result \u001b[38;5;241m=\u001b[39m \u001b[43m_handle_children\u001b[49m\u001b[43m(\u001b[49m\u001b[43mnode\u001b[49m\u001b[43m,\u001b[49m\u001b[43m \u001b[49m\u001b[43mjson_id\u001b[49m\u001b[43m)\u001b[49m\n\u001b[1;32m    413\u001b[0m     result \u001b[38;5;241m=\u001b[39m _handle_callback(result, json_id)\n\u001b[1;32m    414\u001b[0m \u001b[38;5;28;01melse\u001b[39;00m:\n\u001b[1;32m    415\u001b[0m     \u001b[38;5;66;03m# Otherwise, invoke the callback on the node first,\u001b[39;00m\n\u001b[1;32m    416\u001b[0m     \u001b[38;5;66;03m# then its children.\u001b[39;00m\n",
      "File \u001b[0;32m~/anaconda3/envs/jwst_pypeit/lib/python3.12/site-packages/asdf/treeutil.py:388\u001b[0m, in \u001b[0;36mwalk_and_modify.<locals>._handle_children\u001b[0;34m(node, json_id)\u001b[0m\n\u001b[1;32m    385\u001b[0m \u001b[38;5;28;01melse\u001b[39;00m:\n\u001b[1;32m    386\u001b[0m     result \u001b[38;5;241m=\u001b[39m node\n\u001b[0;32m--> 388\u001b[0m \u001b[38;5;28;01mreturn\u001b[39;00m \u001b[43m_handle_generator\u001b[49m\u001b[43m(\u001b[49m\u001b[43mresult\u001b[49m\u001b[43m)\u001b[49m\n",
      "File \u001b[0;32m~/anaconda3/envs/jwst_pypeit/lib/python3.12/site-packages/asdf/treeutil.py:279\u001b[0m, in \u001b[0;36mwalk_and_modify.<locals>._handle_generator\u001b[0;34m(result)\u001b[0m\n\u001b[1;32m    276\u001b[0m     msg \u001b[38;5;241m=\u001b[39m \u001b[38;5;124m\"\u001b[39m\u001b[38;5;124mExpected callback to accept one or two arguments\u001b[39m\u001b[38;5;124m\"\u001b[39m\n\u001b[1;32m    277\u001b[0m     \u001b[38;5;28;01mraise\u001b[39;00m \u001b[38;5;167;01mValueError\u001b[39;00m(msg)\n\u001b[0;32m--> 279\u001b[0m \u001b[38;5;28;01mdef\u001b[39;00m\u001b[38;5;250m \u001b[39m\u001b[38;5;21m_handle_generator\u001b[39m(result):\n\u001b[1;32m    280\u001b[0m     \u001b[38;5;66;03m# If the result is a generator, generate one value to\u001b[39;00m\n\u001b[1;32m    281\u001b[0m     \u001b[38;5;66;03m# extract the true result, then register the generator\u001b[39;00m\n\u001b[1;32m    282\u001b[0m     \u001b[38;5;66;03m# to be drained later.\u001b[39;00m\n\u001b[1;32m    283\u001b[0m     \u001b[38;5;28;01mif\u001b[39;00m \u001b[38;5;28misinstance\u001b[39m(result, types\u001b[38;5;241m.\u001b[39mGeneratorType):\n\u001b[1;32m    284\u001b[0m         generator \u001b[38;5;241m=\u001b[39m result\n",
      "\u001b[0;31mKeyboardInterrupt\u001b[0m: "
     ]
    }
   ],
   "source": [
    "reducer_pointing_1 = reduce_pointing(prefix='jw04713002001', suffix='_nsclean.fits',\\\n",
    "                                    spec2dir='./spec2pipe/',\\\n",
    "                                    outdir='./msaexp_pypeit/jw04713002001_msaexp/',\n",
    "                                    objids=None,\\\n",
    "                                    ibkg_list_default=[[1], [0]], \n",
    "                                    offsets=[0, 0.529])"
   ]
  },
  {
   "cell_type": "code",
   "execution_count": null,
   "id": "e68a4bed-dae2-400e-bbb7-088a26d281f6",
   "metadata": {},
   "outputs": [],
   "source": [
    "reducer_pointing_1.find_islit_by_isource('4713_16184')"
   ]
  },
  {
   "cell_type": "markdown",
   "id": "fcc015ca-9ef8-44c4-a42a-cbbb325e6f4e",
   "metadata": {},
   "source": [
    "### after getting the two pointing reducers, we can save the info to a master table"
   ]
  },
  {
   "cell_type": "code",
   "execution_count": 17,
   "id": "27a8ee56-43e4-4132-b746-352f4f47942c",
   "metadata": {},
   "outputs": [],
   "source": [
    "\n",
    "reducer_pointing_1.saveinfo(tbl_info)\n",
    "reducer_pointing_1.tbl_extraction_info['pointing'] = 1\n",
    "#reducer_pointing_2.saveinfo(tbl_info)"
   ]
  },
  {
   "cell_type": "code",
   "execution_count": 19,
   "id": "7ae8f9bf-f64d-40aa-8daf-ad5c673a3e24",
   "metadata": {},
   "outputs": [],
   "source": [
    "reducer_pointing_1.tbl_extraction_info.write('./msaexp_pypeit/masterinfo_J0100_add_pypeit_msaexp.fits', overwrite=True)"
   ]
  },
  {
   "cell_type": "code",
   "execution_count": null,
   "id": "0ab783c3-efc9-4846-bbe4-b3499fc7e59e",
   "metadata": {},
   "outputs": [],
   "source": [
    "masterinfo.write('./data-release-2/masterinfo_J0100_pypeit_msaexp.fits', overwrite=True)"
   ]
  },
  {
   "cell_type": "markdown",
   "id": "bdeb3ac6-0c1a-4b06-ab73-78981cb1ef57",
   "metadata": {},
   "source": [
    "### rename and coadd 1d specs\n",
    "\n",
    "Since we have two visits, and the two visits have overlapped objects, we coadd the spectra to improve the S/N."
   ]
  },
  {
   "cell_type": "code",
   "execution_count": 20,
   "id": "84fff222-683c-4910-9ca1-27816ebf1f92",
   "metadata": {},
   "outputs": [],
   "source": [
    "masterinfo = Table.read('./msaexp_pypeit/masterinfo_J0100_add_pypeit_msaexp.fits')"
   ]
  },
  {
   "cell_type": "code",
   "execution_count": 22,
   "id": "9e8ecac1-b30c-4014-b522-5775c5988ee9",
   "metadata": {},
   "outputs": [],
   "source": [
    "def stack_1dspec(filelist, outfile):\n",
    "\n",
    "    script_string =\\\n",
    "f'''\n",
    "[coadd1d]\n",
    "  coaddfile='{outfile}'\n",
    "  ex_value = 'OPT'\n",
    "  flux_value = False\n",
    "\n",
    "coadd1d read\n",
    "  filename | obj_id\n",
    "'''\n",
    "    for fname in filelist:\n",
    "        with fits.open(fname) as hdulist:\n",
    "            header = hdulist[1].header\n",
    "            objid = header['NAME']\n",
    "            script_string += f'{fname} | {objid}\\n'\n",
    "\n",
    "    script_string +=\\\n",
    "'''\n",
    "coadd1d end\n",
    "'''\n",
    "    with open('coadd1dscript.txt', 'w') as script:\n",
    "        script.write(script_string)\n",
    "    os.system('pypeit_coadd_1dspec coadd1dscript.txt')"
   ]
  },
  {
   "cell_type": "code",
   "execution_count": 23,
   "id": "f112c078-a0a9-4533-9306-ff2a19bf4019",
   "metadata": {},
   "outputs": [],
   "source": [
    "!mkdir ./msaexp_pypeit/reduced_spec_msaexp_pypeit"
   ]
  },
  {
   "cell_type": "code",
   "execution_count": 27,
   "id": "62abedb3-88e8-4770-ad65-53093c5ab10c",
   "metadata": {
    "scrolled": true
   },
   "outputs": [
    {
     "name": "stderr",
     "output_type": "stream",
     "text": [
      "cp: /Users/minghao/Research/Projects/JWST/ID4713_add/reduction/msaexp_pypeit/jw04713002001_msaexp/Science_coadd//spec1d_jw04713002001_03101_00002_nrs1_nsclean-jw04713002001_03101_00003_nrs1_nsclean-4713_11362.fits: No such file or directory\n",
      "\u001b[1;32m[INFO]    ::\u001b[0m Loading the reduction file\n",
      "\u001b[1;32m[INFO]    ::\u001b[0m Coadd1D input file loaded successfully.\n",
      "\u001b[1;32m[INFO]    ::\u001b[0m Using a sn_smooth_npix=77 to decide how to scale and weight your spectra\n",
      "\u001b[1;32m[INFO]    ::\u001b[0m Computing weights with weight_method=auto\n",
      "\u001b[1;32m[INFO]    ::\u001b[0m Using constant weights for coadding, S/N = 0.01, weight = 0.01 for 0th exposure\n",
      "\u001b[1;31m[WARNING] ::\u001b[0m Error renormalization found correction factor sigma_corr = 0.087536 < 1.\n",
      "              Errors are overestimated so not applying correction\n",
      "\u001b[1;32m[INFO]    ::\u001b[0m File written to: manu1d_4713_11362_stack.fits\n",
      "\u001b[1;32m[INFO]    ::\u001b[0m Coadding complete\n"
     ]
    },
    {
     "name": "stdout",
     "output_type": "stream",
     "text": [
      "Writing the parameters to coadd1d.par\n"
     ]
    },
    {
     "name": "stderr",
     "output_type": "stream",
     "text": [
      "mv: rename manu1d_4713_11362_stack.fits to ./data-release-2/reduced_spec_msaexp_pypeit/: No such file or directory\n",
      "cp: /Users/minghao/Research/Projects/JWST/ID4713_add/reduction/msaexp_pypeit/jw04713002001_msaexp/Science_coadd//spec1d_jw04713002001_03101_00002_nrs1_nsclean-jw04713002001_03101_00003_nrs1_nsclean-4713_12133.fits: No such file or directory\n",
      "\u001b[1;32m[INFO]    ::\u001b[0m Loading the reduction file\n",
      "\u001b[1;32m[INFO]    ::\u001b[0m Coadd1D input file loaded successfully.\n",
      "\u001b[1;31m[WARNING] ::\u001b[0m Selected configuration file already exists and will be overwritten!\n",
      "\u001b[1;32m[INFO]    ::\u001b[0m Using a sn_smooth_npix=84 to decide how to scale and weight your spectra\n",
      "\u001b[1;32m[INFO]    ::\u001b[0m Computing weights with weight_method=auto\n",
      "\u001b[1;32m[INFO]    ::\u001b[0m Using constant weights for coadding, S/N = 0.24, weight = 0.06 for 0th exposure\n",
      "\u001b[1;31m[WARNING] ::\u001b[0m Error renormalization found correction factor sigma_corr = 0.120789 < 1.\n",
      "              Errors are overestimated so not applying correction\n",
      "\u001b[1;32m[INFO]    ::\u001b[0m File written to: manu1d_4713_12133_stack.fits\n",
      "\u001b[1;32m[INFO]    ::\u001b[0m Coadding complete\n"
     ]
    },
    {
     "name": "stdout",
     "output_type": "stream",
     "text": [
      "Writing the parameters to coadd1d.par\n"
     ]
    },
    {
     "name": "stderr",
     "output_type": "stream",
     "text": [
      "mv: rename manu1d_4713_12133_stack.fits to ./data-release-2/reduced_spec_msaexp_pypeit/: No such file or directory\n",
      "\u001b[1;32m[INFO]    ::\u001b[0m Loading the reduction file\n",
      "\u001b[1;32m[INFO]    ::\u001b[0m Coadd1D input file loaded successfully.\n",
      "\u001b[1;31m[WARNING] ::\u001b[0m Selected configuration file already exists and will be overwritten!\n",
      "\u001b[1;32m[INFO]    ::\u001b[0m Using a sn_smooth_npix=87 to decide how to scale and weight your spectra\n",
      "\u001b[1;32m[INFO]    ::\u001b[0m Computing weights with weight_method=auto\n",
      "\u001b[1;32m[INFO]    ::\u001b[0m Using constant weights for coadding, S/N = 0.47, weight = 0.22 for 0th exposure\n",
      "\u001b[1;31m[WARNING] ::\u001b[0m Error renormalization found correction factor sigma_corr = 0.176569 < 1.\n",
      "              Errors are overestimated so not applying correction\n",
      "\u001b[1;32m[INFO]    ::\u001b[0m File written to: spec1d_4713_10348_stack.fits\n",
      "\u001b[1;32m[INFO]    ::\u001b[0m Coadding complete\n"
     ]
    },
    {
     "name": "stdout",
     "output_type": "stream",
     "text": [
      "Writing the parameters to coadd1d.par\n"
     ]
    },
    {
     "name": "stderr",
     "output_type": "stream",
     "text": [
      "mv: rename spec1d_4713_10348_stack.fits to ./data-release-2/reduced_spec_msaexp_pypeit/: No such file or directory\n",
      "\u001b[1;32m[INFO]    ::\u001b[0m Loading the reduction file\n",
      "\u001b[1;32m[INFO]    ::\u001b[0m Coadd1D input file loaded successfully.\n",
      "\u001b[1;31m[WARNING] ::\u001b[0m Selected configuration file already exists and will be overwritten!\n",
      "\u001b[1;32m[INFO]    ::\u001b[0m Using a sn_smooth_npix=87 to decide how to scale and weight your spectra\n",
      "\u001b[1;32m[INFO]    ::\u001b[0m Computing weights with weight_method=auto\n",
      "\u001b[1;32m[INFO]    ::\u001b[0m Using constant weights for coadding, S/N = 0.27, weight = 0.07 for 0th exposure\n",
      "\u001b[1;31m[WARNING] ::\u001b[0m Error renormalization found correction factor sigma_corr = 0.108695 < 1.\n",
      "              Errors are overestimated so not applying correction\n",
      "\u001b[1;32m[INFO]    ::\u001b[0m File written to: manu1d_4713_10348_stack.fits\n",
      "\u001b[1;32m[INFO]    ::\u001b[0m Coadding complete\n"
     ]
    },
    {
     "name": "stdout",
     "output_type": "stream",
     "text": [
      "Writing the parameters to coadd1d.par\n"
     ]
    },
    {
     "name": "stderr",
     "output_type": "stream",
     "text": [
      "mv: rename manu1d_4713_10348_stack.fits to ./data-release-2/reduced_spec_msaexp_pypeit/: No such file or directory\n",
      "cp: /Users/minghao/Research/Projects/JWST/ID4713_add/reduction/msaexp_pypeit/jw04713002001_msaexp/Science_coadd//spec1d_jw04713002001_03101_00002_nrs1_nsclean-jw04713002001_03101_00003_nrs1_nsclean-4713_11327.fits: No such file or directory\n",
      "\u001b[1;32m[INFO]    ::\u001b[0m Loading the reduction file\n",
      "\u001b[1;32m[INFO]    ::\u001b[0m Coadd1D input file loaded successfully.\n",
      "\u001b[1;31m[WARNING] ::\u001b[0m Selected configuration file already exists and will be overwritten!\n",
      "\u001b[1;32m[INFO]    ::\u001b[0m Using a sn_smooth_npix=91 to decide how to scale and weight your spectra\n",
      "\u001b[1;32m[INFO]    ::\u001b[0m Computing weights with weight_method=auto\n",
      "\u001b[1;32m[INFO]    ::\u001b[0m Using constant weights for coadding, S/N = 0.10, weight = 0.01 for 0th exposure\n",
      "\u001b[1;31m[WARNING] ::\u001b[0m Error renormalization found correction factor sigma_corr = 0.149114 < 1.\n",
      "              Errors are overestimated so not applying correction\n",
      "\u001b[1;32m[INFO]    ::\u001b[0m File written to: manu1d_4713_11327_stack.fits\n",
      "\u001b[1;32m[INFO]    ::\u001b[0m Coadding complete\n"
     ]
    },
    {
     "name": "stdout",
     "output_type": "stream",
     "text": [
      "Writing the parameters to coadd1d.par\n"
     ]
    },
    {
     "name": "stderr",
     "output_type": "stream",
     "text": [
      "mv: rename manu1d_4713_11327_stack.fits to ./data-release-2/reduced_spec_msaexp_pypeit/: No such file or directory\n",
      "\u001b[1;32m[INFO]    ::\u001b[0m Loading the reduction file\n",
      "\u001b[1;32m[INFO]    ::\u001b[0m Coadd1D input file loaded successfully.\n",
      "\u001b[1;31m[WARNING] ::\u001b[0m Selected configuration file already exists and will be overwritten!\n",
      "\u001b[1;32m[INFO]    ::\u001b[0m Using a sn_smooth_npix=90 to decide how to scale and weight your spectra\n",
      "\u001b[1;32m[INFO]    ::\u001b[0m Computing weights with weight_method=auto\n",
      "\u001b[1;32m[INFO]    ::\u001b[0m Using wavelength dependent weights for coadding, S/N = 10.86, weight = 231.09 for 0th exposure\n",
      "\u001b[1;31m[WARNING] ::\u001b[0m Error renormalization found correction factor sigma_corr = 0.254747 < 1.\n",
      "              Errors are overestimated so not applying correction\n",
      "\u001b[1;31m[WARNING] ::\u001b[0m Error renormalization found correction factor sigma_corr = 0.248150 < 1.\n",
      "              Errors are overestimated so not applying correction\n",
      "\u001b[1;31m[WARNING] ::\u001b[0m Error renormalization found correction factor sigma_corr = 0.227083 < 1.\n",
      "              Errors are overestimated so not applying correction\n",
      "\u001b[1;31m[WARNING] ::\u001b[0m Error renormalization found correction factor sigma_corr = 0.218426 < 1.\n",
      "              Errors are overestimated so not applying correction\n",
      "\u001b[1;31m[WARNING] ::\u001b[0m Error renormalization found correction factor sigma_corr = 0.226493 < 1.\n",
      "              Errors are overestimated so not applying correction\n",
      "\u001b[1;31m[WARNING] ::\u001b[0m Error renormalization found correction factor sigma_corr = 0.218546 < 1.\n",
      "              Errors are overestimated so not applying correction\n",
      "\u001b[1;31m[WARNING] ::\u001b[0m Error renormalization found correction factor sigma_corr = 0.226866 < 1.\n",
      "              Errors are overestimated so not applying correction\n",
      "\u001b[1;31m[WARNING] ::\u001b[0m Maximum number of iterations maxiter=5 reached in spec_reject_comb\n",
      "\u001b[1;32m[INFO]    ::\u001b[0m File written to: spec1d_4713_6724_stack.fits\n",
      "\u001b[1;32m[INFO]    ::\u001b[0m Coadding complete\n"
     ]
    },
    {
     "name": "stdout",
     "output_type": "stream",
     "text": [
      "Writing the parameters to coadd1d.par\n"
     ]
    },
    {
     "name": "stderr",
     "output_type": "stream",
     "text": [
      "mv: rename spec1d_4713_6724_stack.fits to ./data-release-2/reduced_spec_msaexp_pypeit/: No such file or directory\n",
      "\u001b[1;32m[INFO]    ::\u001b[0m Loading the reduction file\n",
      "\u001b[1;32m[INFO]    ::\u001b[0m Coadd1D input file loaded successfully.\n",
      "\u001b[1;31m[WARNING] ::\u001b[0m Selected configuration file already exists and will be overwritten!\n",
      "\u001b[1;32m[INFO]    ::\u001b[0m Using a sn_smooth_npix=90 to decide how to scale and weight your spectra\n",
      "\u001b[1;32m[INFO]    ::\u001b[0m Computing weights with weight_method=auto\n",
      "\u001b[1;32m[INFO]    ::\u001b[0m Using wavelength dependent weights for coadding, S/N = 6.61, weight = 96.23 for 0th exposure\n",
      "\u001b[1;31m[WARNING] ::\u001b[0m Error renormalization found correction factor sigma_corr = 0.433989 < 1.\n",
      "              Errors are overestimated so not applying correction\n",
      "\u001b[1;31m[WARNING] ::\u001b[0m Error renormalization found correction factor sigma_corr = 0.416015 < 1.\n",
      "              Errors are overestimated so not applying correction\n",
      "\u001b[1;31m[WARNING] ::\u001b[0m Error renormalization found correction factor sigma_corr = 0.419083 < 1.\n",
      "              Errors are overestimated so not applying correction\n",
      "\u001b[1;31m[WARNING] ::\u001b[0m Error renormalization found correction factor sigma_corr = 0.402742 < 1.\n",
      "              Errors are overestimated so not applying correction\n",
      "\u001b[1;31m[WARNING] ::\u001b[0m Error renormalization found correction factor sigma_corr = 0.412013 < 1.\n",
      "              Errors are overestimated so not applying correction\n",
      "\u001b[1;31m[WARNING] ::\u001b[0m Error renormalization found correction factor sigma_corr = 0.405279 < 1.\n",
      "              Errors are overestimated so not applying correction\n",
      "\u001b[1;31m[WARNING] ::\u001b[0m Error renormalization found correction factor sigma_corr = 0.411146 < 1.\n",
      "              Errors are overestimated so not applying correction\n",
      "\u001b[1;31m[WARNING] ::\u001b[0m Maximum number of iterations maxiter=5 reached in spec_reject_comb\n",
      "\u001b[1;32m[INFO]    ::\u001b[0m File written to: manu1d_4713_6724_stack.fits\n",
      "\u001b[1;32m[INFO]    ::\u001b[0m Coadding complete\n"
     ]
    },
    {
     "name": "stdout",
     "output_type": "stream",
     "text": [
      "Writing the parameters to coadd1d.par\n"
     ]
    },
    {
     "name": "stderr",
     "output_type": "stream",
     "text": [
      "mv: rename manu1d_4713_6724_stack.fits to ./data-release-2/reduced_spec_msaexp_pypeit/: No such file or directory\n",
      "\u001b[1;32m[INFO]    ::\u001b[0m Loading the reduction file\n",
      "\u001b[1;32m[INFO]    ::\u001b[0m Coadd1D input file loaded successfully.\n",
      "\u001b[1;31m[WARNING] ::\u001b[0m Selected configuration file already exists and will be overwritten!\n",
      "\u001b[1;32m[INFO]    ::\u001b[0m Using a sn_smooth_npix=91 to decide how to scale and weight your spectra\n",
      "\u001b[1;32m[INFO]    ::\u001b[0m Computing weights with weight_method=auto\n",
      "\u001b[1;32m[INFO]    ::\u001b[0m Using constant weights for coadding, S/N = 1.40, weight = 1.95 for 0th exposure\n",
      "\u001b[1;31m[WARNING] ::\u001b[0m Error renormalization found correction factor sigma_corr = 0.114132 < 1.\n",
      "              Errors are overestimated so not applying correction\n",
      "\u001b[1;32m[INFO]    ::\u001b[0m File written to: spec1d_4713_10515_stack.fits\n",
      "\u001b[1;32m[INFO]    ::\u001b[0m Coadding complete\n"
     ]
    },
    {
     "name": "stdout",
     "output_type": "stream",
     "text": [
      "Writing the parameters to coadd1d.par\n"
     ]
    },
    {
     "name": "stderr",
     "output_type": "stream",
     "text": [
      "mv: rename spec1d_4713_10515_stack.fits to ./data-release-2/reduced_spec_msaexp_pypeit/: No such file or directory\n",
      "\u001b[1;32m[INFO]    ::\u001b[0m Loading the reduction file\n",
      "\u001b[1;32m[INFO]    ::\u001b[0m Coadd1D input file loaded successfully.\n",
      "\u001b[1;31m[WARNING] ::\u001b[0m Selected configuration file already exists and will be overwritten!\n",
      "\u001b[1;32m[INFO]    ::\u001b[0m Using a sn_smooth_npix=91 to decide how to scale and weight your spectra\n",
      "\u001b[1;32m[INFO]    ::\u001b[0m Computing weights with weight_method=auto\n",
      "\u001b[1;32m[INFO]    ::\u001b[0m Using constant weights for coadding, S/N = 1.41, weight = 2.00 for 0th exposure\n",
      "\u001b[1;31m[WARNING] ::\u001b[0m Error renormalization found correction factor sigma_corr = 0.023048 < 1.\n",
      "              Errors are overestimated so not applying correction\n",
      "\u001b[1;32m[INFO]    ::\u001b[0m File written to: manu1d_4713_10515_stack.fits\n",
      "\u001b[1;32m[INFO]    ::\u001b[0m Coadding complete\n"
     ]
    },
    {
     "name": "stdout",
     "output_type": "stream",
     "text": [
      "Writing the parameters to coadd1d.par\n"
     ]
    },
    {
     "name": "stderr",
     "output_type": "stream",
     "text": [
      "mv: rename manu1d_4713_10515_stack.fits to ./data-release-2/reduced_spec_msaexp_pypeit/: No such file or directory\n",
      "cp: /Users/minghao/Research/Projects/JWST/ID4713_add/reduction/msaexp_pypeit/jw04713002001_msaexp/Science_coadd//spec1d_jw04713002001_03101_00002_nrs1_nsclean-jw04713002001_03101_00003_nrs1_nsclean-4713_5278.fits: No such file or directory\n",
      "\u001b[1;32m[INFO]    ::\u001b[0m Loading the reduction file\n",
      "\u001b[1;32m[INFO]    ::\u001b[0m Coadd1D input file loaded successfully.\n",
      "\u001b[1;31m[WARNING] ::\u001b[0m Selected configuration file already exists and will be overwritten!\n",
      "\u001b[1;32m[INFO]    ::\u001b[0m Using a sn_smooth_npix=92 to decide how to scale and weight your spectra\n",
      "\u001b[1;32m[INFO]    ::\u001b[0m Computing weights with weight_method=auto\n",
      "\u001b[1;32m[INFO]    ::\u001b[0m Using constant weights for coadding, S/N = 0.08, weight = 0.01 for 0th exposure\n",
      "\u001b[1;31m[WARNING] ::\u001b[0m Error renormalization found correction factor sigma_corr = 0.125655 < 1.\n",
      "              Errors are overestimated so not applying correction\n",
      "\u001b[1;32m[INFO]    ::\u001b[0m File written to: manu1d_4713_5278_stack.fits\n",
      "\u001b[1;32m[INFO]    ::\u001b[0m Coadding complete\n"
     ]
    },
    {
     "name": "stdout",
     "output_type": "stream",
     "text": [
      "Writing the parameters to coadd1d.par\n"
     ]
    },
    {
     "name": "stderr",
     "output_type": "stream",
     "text": [
      "mv: rename manu1d_4713_5278_stack.fits to ./data-release-2/reduced_spec_msaexp_pypeit/: No such file or directory\n",
      "cp: /Users/minghao/Research/Projects/JWST/ID4713_add/reduction/msaexp_pypeit/jw04713002001_msaexp/Science_coadd//spec1d_jw04713002001_03101_00002_nrs1_nsclean-jw04713002001_03101_00003_nrs1_nsclean-4713_5959.fits: No such file or directory\n",
      "\u001b[1;32m[INFO]    ::\u001b[0m Loading the reduction file\n",
      "\u001b[1;32m[INFO]    ::\u001b[0m Coadd1D input file loaded successfully.\n",
      "\u001b[1;31m[WARNING] ::\u001b[0m Selected configuration file already exists and will be overwritten!\n",
      "\u001b[1;32m[INFO]    ::\u001b[0m Using a sn_smooth_npix=92 to decide how to scale and weight your spectra\n",
      "\u001b[1;32m[INFO]    ::\u001b[0m Computing weights with weight_method=auto\n",
      "\u001b[1;32m[INFO]    ::\u001b[0m Using constant weights for coadding, S/N = 0.01, weight = 0.01 for 0th exposure\n",
      "\u001b[1;31m[WARNING] ::\u001b[0m Error renormalization found correction factor sigma_corr = 0.201020 < 1.\n",
      "              Errors are overestimated so not applying correction\n",
      "\u001b[1;32m[INFO]    ::\u001b[0m File written to: manu1d_4713_5959_stack.fits\n",
      "\u001b[1;32m[INFO]    ::\u001b[0m Coadding complete\n"
     ]
    },
    {
     "name": "stdout",
     "output_type": "stream",
     "text": [
      "Writing the parameters to coadd1d.par\n"
     ]
    },
    {
     "name": "stderr",
     "output_type": "stream",
     "text": [
      "mv: rename manu1d_4713_5959_stack.fits to ./data-release-2/reduced_spec_msaexp_pypeit/: No such file or directory\n",
      "cp: /Users/minghao/Research/Projects/JWST/ID4713_add/reduction/msaexp_pypeit/jw04713002001_msaexp/Science_coadd//spec1d_jw04713002001_03101_00002_nrs1_nsclean-jw04713002001_03101_00003_nrs1_nsclean-4713_7584.fits: No such file or directory\n",
      "\u001b[1;32m[INFO]    ::\u001b[0m Loading the reduction file\n",
      "\u001b[1;32m[INFO]    ::\u001b[0m Coadd1D input file loaded successfully.\n",
      "\u001b[1;31m[WARNING] ::\u001b[0m Selected configuration file already exists and will be overwritten!\n",
      "\u001b[1;32m[INFO]    ::\u001b[0m Using a sn_smooth_npix=92 to decide how to scale and weight your spectra\n",
      "\u001b[1;32m[INFO]    ::\u001b[0m Computing weights with weight_method=auto\n",
      "\u001b[1;32m[INFO]    ::\u001b[0m Using constant weights for coadding, S/N = 0.22, weight = 0.05 for 0th exposure\n",
      "\u001b[1;31m[WARNING] ::\u001b[0m Error renormalization found correction factor sigma_corr = 0.064548 < 1.\n",
      "              Errors are overestimated so not applying correction\n",
      "\u001b[1;32m[INFO]    ::\u001b[0m File written to: manu1d_4713_7584_stack.fits\n",
      "\u001b[1;32m[INFO]    ::\u001b[0m Coadding complete\n"
     ]
    },
    {
     "name": "stdout",
     "output_type": "stream",
     "text": [
      "Writing the parameters to coadd1d.par\n"
     ]
    },
    {
     "name": "stderr",
     "output_type": "stream",
     "text": [
      "mv: rename manu1d_4713_7584_stack.fits to ./data-release-2/reduced_spec_msaexp_pypeit/: No such file or directory\n",
      "cp: /Users/minghao/Research/Projects/JWST/ID4713_add/reduction/msaexp_pypeit/jw04713002001_msaexp/Science_coadd//spec1d_jw04713002001_03101_00002_nrs1_nsclean-jw04713002001_03101_00003_nrs1_nsclean-4713_3538.fits: No such file or directory\n",
      "\u001b[1;32m[INFO]    ::\u001b[0m Loading the reduction file\n",
      "\u001b[1;32m[INFO]    ::\u001b[0m Coadd1D input file loaded successfully.\n",
      "\u001b[1;31m[WARNING] ::\u001b[0m Selected configuration file already exists and will be overwritten!\n",
      "\u001b[1;32m[INFO]    ::\u001b[0m Using a sn_smooth_npix=92 to decide how to scale and weight your spectra\n",
      "\u001b[1;32m[INFO]    ::\u001b[0m Computing weights with weight_method=auto\n",
      "\u001b[1;32m[INFO]    ::\u001b[0m Using constant weights for coadding, S/N = 0.08, weight = 0.01 for 0th exposure\n",
      "\u001b[1;31m[WARNING] ::\u001b[0m Error renormalization found correction factor sigma_corr = 0.040407 < 1.\n",
      "              Errors are overestimated so not applying correction\n",
      "\u001b[1;32m[INFO]    ::\u001b[0m File written to: manu1d_4713_3538_stack.fits\n",
      "\u001b[1;32m[INFO]    ::\u001b[0m Coadding complete\n"
     ]
    },
    {
     "name": "stdout",
     "output_type": "stream",
     "text": [
      "Writing the parameters to coadd1d.par\n"
     ]
    },
    {
     "name": "stderr",
     "output_type": "stream",
     "text": [
      "mv: rename manu1d_4713_3538_stack.fits to ./data-release-2/reduced_spec_msaexp_pypeit/: No such file or directory\n",
      "\u001b[1;32m[INFO]    ::\u001b[0m Loading the reduction file\n",
      "\u001b[1;32m[INFO]    ::\u001b[0m Coadd1D input file loaded successfully.\n",
      "\u001b[1;31m[WARNING] ::\u001b[0m Selected configuration file already exists and will be overwritten!\n",
      "\u001b[1;32m[INFO]    ::\u001b[0m Using a sn_smooth_npix=77 to decide how to scale and weight your spectra\n",
      "\u001b[1;32m[INFO]    ::\u001b[0m Computing weights with weight_method=auto\n",
      "\u001b[1;32m[INFO]    ::\u001b[0m Using constant weights for coadding, S/N = 0.63, weight = 0.39 for 0th exposure\n",
      "\u001b[1;31m[WARNING] ::\u001b[0m Error renormalization found correction factor sigma_corr = 0.056418 < 1.\n",
      "              Errors are overestimated so not applying correction\n",
      "\u001b[1;31m[WARNING] ::\u001b[0m Error renormalization found correction factor sigma_corr = 0.054881 < 1.\n",
      "              Errors are overestimated so not applying correction\n",
      "\u001b[1;31m[WARNING] ::\u001b[0m Error renormalization found correction factor sigma_corr = 0.054568 < 1.\n",
      "              Errors are overestimated so not applying correction\n",
      "\u001b[1;31m[WARNING] ::\u001b[0m Error renormalization found correction factor sigma_corr = 0.054568 < 1.\n",
      "              Errors are overestimated so not applying correction\n",
      "\u001b[1;31m[WARNING] ::\u001b[0m Error renormalization found correction factor sigma_corr = 0.054568 < 1.\n",
      "              Errors are overestimated so not applying correction\n",
      "\u001b[1;31m[WARNING] ::\u001b[0m Maximum number of iterations maxiter=5 reached in spec_reject_comb\n",
      "\u001b[1;32m[INFO]    ::\u001b[0m File written to: spec1d_4713_18107_stack.fits\n",
      "\u001b[1;32m[INFO]    ::\u001b[0m Coadding complete\n"
     ]
    },
    {
     "name": "stdout",
     "output_type": "stream",
     "text": [
      "Writing the parameters to coadd1d.par\n"
     ]
    },
    {
     "name": "stderr",
     "output_type": "stream",
     "text": [
      "mv: rename spec1d_4713_18107_stack.fits to ./data-release-2/reduced_spec_msaexp_pypeit/: No such file or directory\n",
      "\u001b[1;32m[INFO]    ::\u001b[0m Loading the reduction file\n",
      "\u001b[1;32m[INFO]    ::\u001b[0m Coadd1D input file loaded successfully.\n",
      "\u001b[1;31m[WARNING] ::\u001b[0m Selected configuration file already exists and will be overwritten!\n",
      "\u001b[1;32m[INFO]    ::\u001b[0m Using a sn_smooth_npix=77 to decide how to scale and weight your spectra\n",
      "\u001b[1;32m[INFO]    ::\u001b[0m Computing weights with weight_method=auto\n",
      "\u001b[1;32m[INFO]    ::\u001b[0m Using constant weights for coadding, S/N = 0.44, weight = 0.19 for 0th exposure\n",
      "\u001b[1;31m[WARNING] ::\u001b[0m Error renormalization found correction factor sigma_corr = 0.079200 < 1.\n",
      "              Errors are overestimated so not applying correction\n",
      "\u001b[1;32m[INFO]    ::\u001b[0m File written to: manu1d_4713_18107_stack.fits\n",
      "\u001b[1;32m[INFO]    ::\u001b[0m Coadding complete\n"
     ]
    },
    {
     "name": "stdout",
     "output_type": "stream",
     "text": [
      "Writing the parameters to coadd1d.par\n"
     ]
    },
    {
     "name": "stderr",
     "output_type": "stream",
     "text": [
      "mv: rename manu1d_4713_18107_stack.fits to ./data-release-2/reduced_spec_msaexp_pypeit/: No such file or directory\n",
      "cp: /Users/minghao/Research/Projects/JWST/ID4713_add/reduction/msaexp_pypeit/jw04713002001_msaexp/Science_coadd//spec1d_jw04713002001_03101_00002_nrs1_nsclean-jw04713002001_03101_00003_nrs1_nsclean-4713_12570.fits: No such file or directory\n",
      "\u001b[1;32m[INFO]    ::\u001b[0m Loading the reduction file\n",
      "\u001b[1;32m[INFO]    ::\u001b[0m Coadd1D input file loaded successfully.\n",
      "\u001b[1;31m[WARNING] ::\u001b[0m Selected configuration file already exists and will be overwritten!\n",
      "\u001b[1;32m[INFO]    ::\u001b[0m Using a sn_smooth_npix=91 to decide how to scale and weight your spectra\n",
      "\u001b[1;32m[INFO]    ::\u001b[0m Computing weights with weight_method=auto\n",
      "\u001b[1;32m[INFO]    ::\u001b[0m Using constant weights for coadding, S/N = 0.02, weight = 0.01 for 0th exposure\n",
      "\u001b[1;31m[WARNING] ::\u001b[0m Error renormalization found correction factor sigma_corr = 0.058998 < 1.\n",
      "              Errors are overestimated so not applying correction\n",
      "\u001b[1;32m[INFO]    ::\u001b[0m File written to: manu1d_4713_12570_stack.fits\n",
      "\u001b[1;32m[INFO]    ::\u001b[0m Coadding complete\n"
     ]
    },
    {
     "name": "stdout",
     "output_type": "stream",
     "text": [
      "Writing the parameters to coadd1d.par\n"
     ]
    },
    {
     "name": "stderr",
     "output_type": "stream",
     "text": [
      "mv: rename manu1d_4713_12570_stack.fits to ./data-release-2/reduced_spec_msaexp_pypeit/: No such file or directory\n",
      "cp: /Users/minghao/Research/Projects/JWST/ID4713_add/reduction/msaexp_pypeit/jw04713002001_msaexp/Science_coadd//spec1d_jw04713002001_03101_00002_nrs1_nsclean-jw04713002001_03101_00003_nrs1_nsclean-4713_14461.fits: No such file or directory\n",
      "\u001b[1;32m[INFO]    ::\u001b[0m Loading the reduction file\n",
      "\u001b[1;32m[INFO]    ::\u001b[0m Coadd1D input file loaded successfully.\n",
      "\u001b[1;31m[WARNING] ::\u001b[0m Selected configuration file already exists and will be overwritten!\n",
      "\u001b[1;32m[INFO]    ::\u001b[0m Using a sn_smooth_npix=91 to decide how to scale and weight your spectra\n",
      "\u001b[1;32m[INFO]    ::\u001b[0m Computing weights with weight_method=auto\n",
      "\u001b[1;32m[INFO]    ::\u001b[0m Using constant weights for coadding, S/N = 0.08, weight = 0.01 for 0th exposure\n",
      "\u001b[1;31m[WARNING] ::\u001b[0m Error renormalization found correction factor sigma_corr = 0.242702 < 1.\n",
      "              Errors are overestimated so not applying correction\n",
      "\u001b[1;32m[INFO]    ::\u001b[0m File written to: manu1d_4713_14461_stack.fits\n",
      "\u001b[1;32m[INFO]    ::\u001b[0m Coadding complete\n"
     ]
    },
    {
     "name": "stdout",
     "output_type": "stream",
     "text": [
      "Writing the parameters to coadd1d.par\n"
     ]
    },
    {
     "name": "stderr",
     "output_type": "stream",
     "text": [
      "mv: rename manu1d_4713_14461_stack.fits to ./data-release-2/reduced_spec_msaexp_pypeit/: No such file or directory\n",
      "cp: /Users/minghao/Research/Projects/JWST/ID4713_add/reduction/msaexp_pypeit/jw04713002001_msaexp/Science_coadd//spec1d_jw04713002001_03101_00002_nrs1_nsclean-jw04713002001_03101_00003_nrs1_nsclean-4713_3097.fits: No such file or directory\n",
      "\u001b[1;32m[INFO]    ::\u001b[0m Loading the reduction file\n",
      "\u001b[1;32m[INFO]    ::\u001b[0m Coadd1D input file loaded successfully.\n",
      "\u001b[1;31m[WARNING] ::\u001b[0m Selected configuration file already exists and will be overwritten!\n",
      "\u001b[1;32m[INFO]    ::\u001b[0m Using a sn_smooth_npix=92 to decide how to scale and weight your spectra\n",
      "\u001b[1;32m[INFO]    ::\u001b[0m Computing weights with weight_method=auto\n",
      "\u001b[1;32m[INFO]    ::\u001b[0m Using constant weights for coadding, S/N = 0.59, weight = 0.34 for 0th exposure\n",
      "\u001b[1;31m[WARNING] ::\u001b[0m Error renormalization found correction factor sigma_corr = 0.104989 < 1.\n",
      "              Errors are overestimated so not applying correction\n",
      "\u001b[1;32m[INFO]    ::\u001b[0m File written to: manu1d_4713_3097_stack.fits\n",
      "\u001b[1;32m[INFO]    ::\u001b[0m Coadding complete\n"
     ]
    },
    {
     "name": "stdout",
     "output_type": "stream",
     "text": [
      "Writing the parameters to coadd1d.par\n"
     ]
    },
    {
     "name": "stderr",
     "output_type": "stream",
     "text": [
      "mv: rename manu1d_4713_3097_stack.fits to ./data-release-2/reduced_spec_msaexp_pypeit/: No such file or directory\n",
      "cp: /Users/minghao/Research/Projects/JWST/ID4713_add/reduction/msaexp_pypeit/jw04713002001_msaexp/Science_coadd//spec1d_jw04713002001_03101_00002_nrs1_nsclean-jw04713002001_03101_00003_nrs1_nsclean-4713_17159.fits: No such file or directory\n",
      "\u001b[1;32m[INFO]    ::\u001b[0m Loading the reduction file\n",
      "\u001b[1;32m[INFO]    ::\u001b[0m Coadd1D input file loaded successfully.\n",
      "\u001b[1;31m[WARNING] ::\u001b[0m Selected configuration file already exists and will be overwritten!\n",
      "\u001b[1;32m[INFO]    ::\u001b[0m Using a sn_smooth_npix=91 to decide how to scale and weight your spectra\n",
      "\u001b[1;32m[INFO]    ::\u001b[0m Computing weights with weight_method=auto\n",
      "\u001b[1;32m[INFO]    ::\u001b[0m Using constant weights for coadding, S/N = 0.33, weight = 0.11 for 0th exposure\n",
      "\u001b[1;31m[WARNING] ::\u001b[0m Error renormalization found correction factor sigma_corr = 0.135222 < 1.\n",
      "              Errors are overestimated so not applying correction\n",
      "\u001b[1;32m[INFO]    ::\u001b[0m File written to: manu1d_4713_17159_stack.fits\n",
      "\u001b[1;32m[INFO]    ::\u001b[0m Coadding complete\n"
     ]
    },
    {
     "name": "stdout",
     "output_type": "stream",
     "text": [
      "Writing the parameters to coadd1d.par\n"
     ]
    },
    {
     "name": "stderr",
     "output_type": "stream",
     "text": [
      "mv: rename manu1d_4713_17159_stack.fits to ./data-release-2/reduced_spec_msaexp_pypeit/: No such file or directory\n",
      "cp: /Users/minghao/Research/Projects/JWST/ID4713_add/reduction/msaexp_pypeit/jw04713002001_msaexp/Science_coadd//spec1d_jw04713002001_03101_00002_nrs1_nsclean-jw04713002001_03101_00003_nrs1_nsclean-4713_4537.fits: No such file or directory\n",
      "\u001b[1;32m[INFO]    ::\u001b[0m Loading the reduction file\n",
      "\u001b[1;32m[INFO]    ::\u001b[0m Coadd1D input file loaded successfully.\n",
      "\u001b[1;31m[WARNING] ::\u001b[0m Selected configuration file already exists and will be overwritten!\n",
      "\u001b[1;32m[INFO]    ::\u001b[0m Using a sn_smooth_npix=92 to decide how to scale and weight your spectra\n",
      "\u001b[1;32m[INFO]    ::\u001b[0m Computing weights with weight_method=auto\n",
      "\u001b[1;32m[INFO]    ::\u001b[0m Using constant weights for coadding, S/N = 0.00, weight = 0.01 for 0th exposure\n",
      "\u001b[1;31m[WARNING] ::\u001b[0m Error renormalization found correction factor sigma_corr = 0.087605 < 1.\n",
      "              Errors are overestimated so not applying correction\n",
      "\u001b[1;32m[INFO]    ::\u001b[0m File written to: manu1d_4713_4537_stack.fits\n",
      "\u001b[1;32m[INFO]    ::\u001b[0m Coadding complete\n"
     ]
    },
    {
     "name": "stdout",
     "output_type": "stream",
     "text": [
      "Writing the parameters to coadd1d.par\n"
     ]
    },
    {
     "name": "stderr",
     "output_type": "stream",
     "text": [
      "mv: rename manu1d_4713_4537_stack.fits to ./data-release-2/reduced_spec_msaexp_pypeit/: No such file or directory\n",
      "cp: /Users/minghao/Research/Projects/JWST/ID4713_add/reduction/msaexp_pypeit/jw04713002001_msaexp/Science_coadd//spec1d_jw04713002001_03101_00002_nrs1_nsclean-jw04713002001_03101_00003_nrs1_nsclean-4713_2558.fits: No such file or directory\n",
      "\u001b[1;32m[INFO]    ::\u001b[0m Loading the reduction file\n",
      "\u001b[1;32m[INFO]    ::\u001b[0m Coadd1D input file loaded successfully.\n",
      "\u001b[1;31m[WARNING] ::\u001b[0m Selected configuration file already exists and will be overwritten!\n",
      "\u001b[1;32m[INFO]    ::\u001b[0m Using a sn_smooth_npix=92 to decide how to scale and weight your spectra\n",
      "\u001b[1;32m[INFO]    ::\u001b[0m Computing weights with weight_method=auto\n",
      "\u001b[1;32m[INFO]    ::\u001b[0m Using constant weights for coadding, S/N = 0.13, weight = 0.02 for 0th exposure\n",
      "\u001b[1;31m[WARNING] ::\u001b[0m Error renormalization found correction factor sigma_corr = 0.149704 < 1.\n",
      "              Errors are overestimated so not applying correction\n",
      "\u001b[1;32m[INFO]    ::\u001b[0m File written to: manu1d_4713_2558_stack.fits\n",
      "\u001b[1;32m[INFO]    ::\u001b[0m Coadding complete\n"
     ]
    },
    {
     "name": "stdout",
     "output_type": "stream",
     "text": [
      "Writing the parameters to coadd1d.par\n"
     ]
    },
    {
     "name": "stderr",
     "output_type": "stream",
     "text": [
      "mv: rename manu1d_4713_2558_stack.fits to ./data-release-2/reduced_spec_msaexp_pypeit/: No such file or directory\n",
      "cp: /Users/minghao/Research/Projects/JWST/ID4713_add/reduction/msaexp_pypeit/jw04713002001_msaexp/Science_coadd//spec1d_jw04713002001_03101_00002_nrs1_nsclean-jw04713002001_03101_00003_nrs1_nsclean-4713_5595.fits: No such file or directory\n",
      "\u001b[1;32m[INFO]    ::\u001b[0m Loading the reduction file\n",
      "\u001b[1;32m[INFO]    ::\u001b[0m Coadd1D input file loaded successfully.\n",
      "\u001b[1;31m[WARNING] ::\u001b[0m Selected configuration file already exists and will be overwritten!\n",
      "\u001b[1;32m[INFO]    ::\u001b[0m Using a sn_smooth_npix=92 to decide how to scale and weight your spectra\n",
      "\u001b[1;32m[INFO]    ::\u001b[0m Computing weights with weight_method=auto\n",
      "\u001b[1;32m[INFO]    ::\u001b[0m Using constant weights for coadding, S/N = 0.02, weight = 0.01 for 0th exposure\n",
      "\u001b[1;31m[WARNING] ::\u001b[0m Error renormalization found correction factor sigma_corr = 0.153333 < 1.\n",
      "              Errors are overestimated so not applying correction\n",
      "\u001b[1;32m[INFO]    ::\u001b[0m File written to: manu1d_4713_5595_stack.fits\n",
      "\u001b[1;32m[INFO]    ::\u001b[0m Coadding complete\n"
     ]
    },
    {
     "name": "stdout",
     "output_type": "stream",
     "text": [
      "Writing the parameters to coadd1d.par\n"
     ]
    },
    {
     "name": "stderr",
     "output_type": "stream",
     "text": [
      "mv: rename manu1d_4713_5595_stack.fits to ./data-release-2/reduced_spec_msaexp_pypeit/: No such file or directory\n",
      "cp: /Users/minghao/Research/Projects/JWST/ID4713_add/reduction/msaexp_pypeit/jw04713002001_msaexp/Science_coadd//spec1d_jw04713002001_03101_00002_nrs1_nsclean-jw04713002001_03101_00003_nrs1_nsclean-4713_7194.fits: No such file or directory\n",
      "\u001b[1;32m[INFO]    ::\u001b[0m Loading the reduction file\n",
      "\u001b[1;32m[INFO]    ::\u001b[0m Coadd1D input file loaded successfully.\n",
      "\u001b[1;31m[WARNING] ::\u001b[0m Selected configuration file already exists and will be overwritten!\n",
      "\u001b[1;32m[INFO]    ::\u001b[0m Using a sn_smooth_npix=92 to decide how to scale and weight your spectra\n",
      "\u001b[1;32m[INFO]    ::\u001b[0m Computing weights with weight_method=auto\n",
      "\u001b[1;32m[INFO]    ::\u001b[0m Using constant weights for coadding, S/N = 0.01, weight = 0.01 for 0th exposure\n",
      "\u001b[1;31m[WARNING] ::\u001b[0m Error renormalization found correction factor sigma_corr = 0.166525 < 1.\n",
      "              Errors are overestimated so not applying correction\n",
      "\u001b[1;31m[WARNING] ::\u001b[0m Error renormalization found correction factor sigma_corr = 0.166550 < 1.\n",
      "              Errors are overestimated so not applying correction\n",
      "\u001b[1;31m[WARNING] ::\u001b[0m Error renormalization found correction factor sigma_corr = 0.166525 < 1.\n",
      "              Errors are overestimated so not applying correction\n",
      "\u001b[1;31m[WARNING] ::\u001b[0m Error renormalization found correction factor sigma_corr = 0.166550 < 1.\n",
      "              Errors are overestimated so not applying correction\n",
      "\u001b[1;31m[WARNING] ::\u001b[0m Error renormalization found correction factor sigma_corr = 0.166525 < 1.\n",
      "              Errors are overestimated so not applying correction\n",
      "\u001b[1;31m[WARNING] ::\u001b[0m Maximum number of iterations maxiter=5 reached in spec_reject_comb\n",
      "\u001b[1;32m[INFO]    ::\u001b[0m File written to: manu1d_4713_7194_stack.fits\n",
      "\u001b[1;32m[INFO]    ::\u001b[0m Coadding complete\n"
     ]
    },
    {
     "name": "stdout",
     "output_type": "stream",
     "text": [
      "Writing the parameters to coadd1d.par\n"
     ]
    },
    {
     "name": "stderr",
     "output_type": "stream",
     "text": [
      "mv: rename manu1d_4713_7194_stack.fits to ./data-release-2/reduced_spec_msaexp_pypeit/: No such file or directory\n",
      "cp: /Users/minghao/Research/Projects/JWST/ID4713_add/reduction/msaexp_pypeit/jw04713002001_msaexp/Science_coadd//spec1d_jw04713002001_03101_00002_nrs1_nsclean-jw04713002001_03101_00003_nrs1_nsclean-4713_17385.fits: No such file or directory\n",
      "\u001b[1;32m[INFO]    ::\u001b[0m Loading the reduction file\n",
      "\u001b[1;32m[INFO]    ::\u001b[0m Coadd1D input file loaded successfully.\n",
      "\u001b[1;31m[WARNING] ::\u001b[0m Selected configuration file already exists and will be overwritten!\n",
      "\u001b[1;32m[INFO]    ::\u001b[0m Using a sn_smooth_npix=91 to decide how to scale and weight your spectra\n",
      "\u001b[1;32m[INFO]    ::\u001b[0m Computing weights with weight_method=auto\n",
      "\u001b[1;32m[INFO]    ::\u001b[0m Using constant weights for coadding, S/N = 0.09, weight = 0.01 for 0th exposure\n",
      "\u001b[1;31m[WARNING] ::\u001b[0m Error renormalization found correction factor sigma_corr = 0.128844 < 1.\n",
      "              Errors are overestimated so not applying correction\n",
      "\u001b[1;32m[INFO]    ::\u001b[0m File written to: manu1d_4713_17385_stack.fits\n",
      "\u001b[1;32m[INFO]    ::\u001b[0m Coadding complete\n"
     ]
    },
    {
     "name": "stdout",
     "output_type": "stream",
     "text": [
      "Writing the parameters to coadd1d.par\n"
     ]
    },
    {
     "name": "stderr",
     "output_type": "stream",
     "text": [
      "mv: rename manu1d_4713_17385_stack.fits to ./data-release-2/reduced_spec_msaexp_pypeit/: No such file or directory\n",
      "cp: /Users/minghao/Research/Projects/JWST/ID4713_add/reduction/msaexp_pypeit/jw04713002001_msaexp/Science_coadd//spec1d_jw04713002001_03101_00002_nrs1_nsclean-jw04713002001_03101_00003_nrs1_nsclean-4713_7143.fits: No such file or directory\n",
      "\u001b[1;32m[INFO]    ::\u001b[0m Loading the reduction file\n",
      "\u001b[1;32m[INFO]    ::\u001b[0m Coadd1D input file loaded successfully.\n",
      "\u001b[1;31m[WARNING] ::\u001b[0m Selected configuration file already exists and will be overwritten!\n",
      "\u001b[1;32m[INFO]    ::\u001b[0m Using a sn_smooth_npix=92 to decide how to scale and weight your spectra\n",
      "\u001b[1;32m[INFO]    ::\u001b[0m Computing weights with weight_method=auto\n",
      "\u001b[1;32m[INFO]    ::\u001b[0m Using constant weights for coadding, S/N = 0.09, weight = 0.01 for 0th exposure\n",
      "\u001b[1;31m[WARNING] ::\u001b[0m Error renormalization found correction factor sigma_corr = 0.145204 < 1.\n",
      "              Errors are overestimated so not applying correction\n",
      "\u001b[1;32m[INFO]    ::\u001b[0m File written to: manu1d_4713_7143_stack.fits\n",
      "\u001b[1;32m[INFO]    ::\u001b[0m Coadding complete\n"
     ]
    },
    {
     "name": "stdout",
     "output_type": "stream",
     "text": [
      "Writing the parameters to coadd1d.par\n"
     ]
    },
    {
     "name": "stderr",
     "output_type": "stream",
     "text": [
      "mv: rename manu1d_4713_7143_stack.fits to ./data-release-2/reduced_spec_msaexp_pypeit/: No such file or directory\n",
      "\u001b[1;32m[INFO]    ::\u001b[0m Loading the reduction file\n",
      "\u001b[1;32m[INFO]    ::\u001b[0m Coadd1D input file loaded successfully.\n",
      "\u001b[1;31m[WARNING] ::\u001b[0m Selected configuration file already exists and will be overwritten!\n",
      "\u001b[1;32m[INFO]    ::\u001b[0m Using a sn_smooth_npix=77 to decide how to scale and weight your spectra\n",
      "\u001b[1;32m[INFO]    ::\u001b[0m Computing weights with weight_method=auto\n",
      "\u001b[1;32m[INFO]    ::\u001b[0m Using constant weights for coadding, S/N = 0.40, weight = 0.16 for 0th exposure\n",
      "\u001b[1;31m[WARNING] ::\u001b[0m Error renormalization found correction factor sigma_corr = 0.102918 < 1.\n",
      "              Errors are overestimated so not applying correction\n",
      "\u001b[1;31m[WARNING] ::\u001b[0m Error renormalization found correction factor sigma_corr = 0.100883 < 1.\n",
      "              Errors are overestimated so not applying correction\n",
      "\u001b[1;31m[WARNING] ::\u001b[0m Error renormalization found correction factor sigma_corr = 0.102918 < 1.\n",
      "              Errors are overestimated so not applying correction\n",
      "\u001b[1;31m[WARNING] ::\u001b[0m Error renormalization found correction factor sigma_corr = 0.100883 < 1.\n",
      "              Errors are overestimated so not applying correction\n",
      "\u001b[1;31m[WARNING] ::\u001b[0m Error renormalization found correction factor sigma_corr = 0.102918 < 1.\n",
      "              Errors are overestimated so not applying correction\n",
      "\u001b[1;31m[WARNING] ::\u001b[0m Maximum number of iterations maxiter=5 reached in spec_reject_comb\n",
      "\u001b[1;32m[INFO]    ::\u001b[0m File written to: spec1d_4713_15434_stack.fits\n",
      "\u001b[1;32m[INFO]    ::\u001b[0m Coadding complete\n"
     ]
    },
    {
     "name": "stdout",
     "output_type": "stream",
     "text": [
      "Writing the parameters to coadd1d.par\n"
     ]
    },
    {
     "name": "stderr",
     "output_type": "stream",
     "text": [
      "mv: rename spec1d_4713_15434_stack.fits to ./data-release-2/reduced_spec_msaexp_pypeit/: No such file or directory\n",
      "\u001b[1;32m[INFO]    ::\u001b[0m Loading the reduction file\n",
      "\u001b[1;32m[INFO]    ::\u001b[0m Coadd1D input file loaded successfully.\n",
      "\u001b[1;31m[WARNING] ::\u001b[0m Selected configuration file already exists and will be overwritten!\n",
      "\u001b[1;32m[INFO]    ::\u001b[0m Using a sn_smooth_npix=77 to decide how to scale and weight your spectra\n",
      "\u001b[1;32m[INFO]    ::\u001b[0m Computing weights with weight_method=auto\n",
      "\u001b[1;32m[INFO]    ::\u001b[0m Using wavelength dependent weights for coadding, S/N = 20.88, weight = 786.34 for 0th exposure\n",
      "\u001b[1;31m[WARNING] ::\u001b[0m Error renormalization found correction factor sigma_corr = 0.081460 < 1.\n",
      "              Errors are overestimated so not applying correction\n",
      "\u001b[1;31m[WARNING] ::\u001b[0m Error renormalization found correction factor sigma_corr = 0.080557 < 1.\n",
      "              Errors are overestimated so not applying correction\n",
      "\u001b[1;31m[WARNING] ::\u001b[0m Error renormalization found correction factor sigma_corr = 0.057745 < 1.\n",
      "              Errors are overestimated so not applying correction\n",
      "\u001b[1;31m[WARNING] ::\u001b[0m Error renormalization found correction factor sigma_corr = 0.056029 < 1.\n",
      "              Errors are overestimated so not applying correction\n",
      "\u001b[1;31m[WARNING] ::\u001b[0m Error renormalization found correction factor sigma_corr = 0.057745 < 1.\n",
      "              Errors are overestimated so not applying correction\n",
      "\u001b[1;31m[WARNING] ::\u001b[0m Error renormalization found correction factor sigma_corr = 0.056029 < 1.\n",
      "              Errors are overestimated so not applying correction\n",
      "\u001b[1;31m[WARNING] ::\u001b[0m Error renormalization found correction factor sigma_corr = 0.057745 < 1.\n",
      "              Errors are overestimated so not applying correction\n",
      "\u001b[1;31m[WARNING] ::\u001b[0m Maximum number of iterations maxiter=5 reached in spec_reject_comb\n",
      "\u001b[1;32m[INFO]    ::\u001b[0m File written to: manu1d_4713_15434_stack.fits\n",
      "\u001b[1;32m[INFO]    ::\u001b[0m Coadding complete\n"
     ]
    },
    {
     "name": "stdout",
     "output_type": "stream",
     "text": [
      "Writing the parameters to coadd1d.par\n"
     ]
    },
    {
     "name": "stderr",
     "output_type": "stream",
     "text": [
      "mv: rename manu1d_4713_15434_stack.fits to ./data-release-2/reduced_spec_msaexp_pypeit/: No such file or directory\n",
      "cp: /Users/minghao/Research/Projects/JWST/ID4713_add/reduction/msaexp_pypeit/jw04713002001_msaexp/Science_coadd//spec1d_jw04713002001_03101_00002_nrs1_nsclean-jw04713002001_03101_00003_nrs1_nsclean-4713_12754.fits: No such file or directory\n",
      "\u001b[1;32m[INFO]    ::\u001b[0m Loading the reduction file\n",
      "\u001b[1;32m[INFO]    ::\u001b[0m Coadd1D input file loaded successfully.\n",
      "\u001b[1;31m[WARNING] ::\u001b[0m Selected configuration file already exists and will be overwritten!\n",
      "\u001b[1;32m[INFO]    ::\u001b[0m Using a sn_smooth_npix=91 to decide how to scale and weight your spectra\n",
      "\u001b[1;32m[INFO]    ::\u001b[0m Computing weights with weight_method=auto\n",
      "\u001b[1;32m[INFO]    ::\u001b[0m Using constant weights for coadding, S/N = 0.03, weight = 0.01 for 0th exposure\n",
      "\u001b[1;31m[WARNING] ::\u001b[0m Error renormalization found correction factor sigma_corr = 0.167190 < 1.\n",
      "              Errors are overestimated so not applying correction\n",
      "\u001b[1;32m[INFO]    ::\u001b[0m File written to: manu1d_4713_12754_stack.fits\n",
      "\u001b[1;32m[INFO]    ::\u001b[0m Coadding complete\n"
     ]
    },
    {
     "name": "stdout",
     "output_type": "stream",
     "text": [
      "Writing the parameters to coadd1d.par\n"
     ]
    },
    {
     "name": "stderr",
     "output_type": "stream",
     "text": [
      "mv: rename manu1d_4713_12754_stack.fits to ./data-release-2/reduced_spec_msaexp_pypeit/: No such file or directory\n",
      "cp: /Users/minghao/Research/Projects/JWST/ID4713_add/reduction/msaexp_pypeit/jw04713002001_msaexp/Science_coadd//spec1d_jw04713002001_03101_00002_nrs1_nsclean-jw04713002001_03101_00003_nrs1_nsclean-4713_15627.fits: No such file or directory\n",
      "\u001b[1;32m[INFO]    ::\u001b[0m Loading the reduction file\n",
      "\u001b[1;32m[INFO]    ::\u001b[0m Coadd1D input file loaded successfully.\n",
      "\u001b[1;31m[WARNING] ::\u001b[0m Selected configuration file already exists and will be overwritten!\n",
      "\u001b[1;32m[INFO]    ::\u001b[0m Using a sn_smooth_npix=91 to decide how to scale and weight your spectra\n",
      "\u001b[1;32m[INFO]    ::\u001b[0m Computing weights with weight_method=auto\n",
      "\u001b[1;32m[INFO]    ::\u001b[0m Using constant weights for coadding, S/N = 0.02, weight = 0.01 for 0th exposure\n",
      "\u001b[1;31m[WARNING] ::\u001b[0m Error renormalization found correction factor sigma_corr = 0.119731 < 1.\n",
      "              Errors are overestimated so not applying correction\n",
      "\u001b[1;32m[INFO]    ::\u001b[0m File written to: manu1d_4713_15627_stack.fits\n",
      "\u001b[1;32m[INFO]    ::\u001b[0m Coadding complete\n"
     ]
    },
    {
     "name": "stdout",
     "output_type": "stream",
     "text": [
      "Writing the parameters to coadd1d.par\n"
     ]
    },
    {
     "name": "stderr",
     "output_type": "stream",
     "text": [
      "mv: rename manu1d_4713_15627_stack.fits to ./data-release-2/reduced_spec_msaexp_pypeit/: No such file or directory\n",
      "cp: /Users/minghao/Research/Projects/JWST/ID4713_add/reduction/msaexp_pypeit/jw04713002001_msaexp/Science_coadd//spec1d_jw04713002001_03101_00002_nrs1_nsclean-jw04713002001_03101_00003_nrs1_nsclean-4713_1659.fits: No such file or directory\n",
      "\u001b[1;32m[INFO]    ::\u001b[0m Loading the reduction file\n",
      "\u001b[1;32m[INFO]    ::\u001b[0m Coadd1D input file loaded successfully.\n",
      "\u001b[1;31m[WARNING] ::\u001b[0m Selected configuration file already exists and will be overwritten!\n",
      "\u001b[1;32m[INFO]    ::\u001b[0m Using a sn_smooth_npix=92 to decide how to scale and weight your spectra\n",
      "\u001b[1;32m[INFO]    ::\u001b[0m Computing weights with weight_method=auto\n",
      "\u001b[1;32m[INFO]    ::\u001b[0m Using constant weights for coadding, S/N = 0.01, weight = 0.01 for 0th exposure\n",
      "\u001b[1;31m[WARNING] ::\u001b[0m Error renormalization found correction factor sigma_corr = 0.076878 < 1.\n",
      "              Errors are overestimated so not applying correction\n",
      "\u001b[1;32m[INFO]    ::\u001b[0m File written to: manu1d_4713_1659_stack.fits\n",
      "\u001b[1;32m[INFO]    ::\u001b[0m Coadding complete\n"
     ]
    },
    {
     "name": "stdout",
     "output_type": "stream",
     "text": [
      "Writing the parameters to coadd1d.par\n"
     ]
    },
    {
     "name": "stderr",
     "output_type": "stream",
     "text": [
      "mv: rename manu1d_4713_1659_stack.fits to ./data-release-2/reduced_spec_msaexp_pypeit/: No such file or directory\n",
      "cp: /Users/minghao/Research/Projects/JWST/ID4713_add/reduction/msaexp_pypeit/jw04713002001_msaexp/Science_coadd//spec1d_jw04713002001_03101_00002_nrs1_nsclean-jw04713002001_03101_00003_nrs1_nsclean-4713_4733.fits: No such file or directory\n",
      "\u001b[1;32m[INFO]    ::\u001b[0m Loading the reduction file\n",
      "\u001b[1;32m[INFO]    ::\u001b[0m Coadd1D input file loaded successfully.\n",
      "\u001b[1;31m[WARNING] ::\u001b[0m Selected configuration file already exists and will be overwritten!\n",
      "\u001b[1;32m[INFO]    ::\u001b[0m Using a sn_smooth_npix=92 to decide how to scale and weight your spectra\n",
      "\u001b[1;32m[INFO]    ::\u001b[0m Computing weights with weight_method=auto\n",
      "\u001b[1;32m[INFO]    ::\u001b[0m Using constant weights for coadding, S/N = 0.05, weight = 0.01 for 0th exposure\n",
      "\u001b[1;31m[WARNING] ::\u001b[0m Error renormalization found correction factor sigma_corr = 0.137399 < 1.\n",
      "              Errors are overestimated so not applying correction\n",
      "\u001b[1;32m[INFO]    ::\u001b[0m File written to: manu1d_4713_4733_stack.fits\n",
      "\u001b[1;32m[INFO]    ::\u001b[0m Coadding complete\n"
     ]
    },
    {
     "name": "stdout",
     "output_type": "stream",
     "text": [
      "Writing the parameters to coadd1d.par\n"
     ]
    },
    {
     "name": "stderr",
     "output_type": "stream",
     "text": [
      "mv: rename manu1d_4713_4733_stack.fits to ./data-release-2/reduced_spec_msaexp_pypeit/: No such file or directory\n",
      "cp: /Users/minghao/Research/Projects/JWST/ID4713_add/reduction/msaexp_pypeit/jw04713002001_msaexp/Science_coadd//spec1d_jw04713002001_03101_00002_nrs1_nsclean-jw04713002001_03101_00003_nrs1_nsclean-4713_3165.fits: No such file or directory\n",
      "\u001b[1;32m[INFO]    ::\u001b[0m Loading the reduction file\n",
      "\u001b[1;32m[INFO]    ::\u001b[0m Coadd1D input file loaded successfully.\n",
      "\u001b[1;31m[WARNING] ::\u001b[0m Selected configuration file already exists and will be overwritten!\n",
      "\u001b[1;32m[INFO]    ::\u001b[0m Using a sn_smooth_npix=92 to decide how to scale and weight your spectra\n",
      "\u001b[1;32m[INFO]    ::\u001b[0m Computing weights with weight_method=auto\n",
      "\u001b[1;32m[INFO]    ::\u001b[0m Using constant weights for coadding, S/N = 0.07, weight = 0.01 for 0th exposure\n",
      "\u001b[1;31m[WARNING] ::\u001b[0m Error renormalization found correction factor sigma_corr = 0.140225 < 1.\n",
      "              Errors are overestimated so not applying correction\n",
      "\u001b[1;32m[INFO]    ::\u001b[0m File written to: manu1d_4713_3165_stack.fits\n",
      "\u001b[1;32m[INFO]    ::\u001b[0m Coadding complete\n"
     ]
    },
    {
     "name": "stdout",
     "output_type": "stream",
     "text": [
      "Writing the parameters to coadd1d.par\n"
     ]
    },
    {
     "name": "stderr",
     "output_type": "stream",
     "text": [
      "mv: rename manu1d_4713_3165_stack.fits to ./data-release-2/reduced_spec_msaexp_pypeit/: No such file or directory\n",
      "cp: /Users/minghao/Research/Projects/JWST/ID4713_add/reduction/msaexp_pypeit/jw04713002001_msaexp/Science_coadd//spec1d_jw04713002001_03101_00002_nrs1_nsclean-jw04713002001_03101_00003_nrs1_nsclean-4713_5394.fits: No such file or directory\n",
      "\u001b[1;32m[INFO]    ::\u001b[0m Loading the reduction file\n",
      "\u001b[1;32m[INFO]    ::\u001b[0m Coadd1D input file loaded successfully.\n",
      "\u001b[1;31m[WARNING] ::\u001b[0m Selected configuration file already exists and will be overwritten!\n",
      "\u001b[1;32m[INFO]    ::\u001b[0m Using a sn_smooth_npix=92 to decide how to scale and weight your spectra\n",
      "\u001b[1;32m[INFO]    ::\u001b[0m Computing weights with weight_method=auto\n",
      "\u001b[1;32m[INFO]    ::\u001b[0m Using constant weights for coadding, S/N = 0.03, weight = 0.01 for 0th exposure\n",
      "\u001b[1;31m[WARNING] ::\u001b[0m Error renormalization found correction factor sigma_corr = 0.096523 < 1.\n",
      "              Errors are overestimated so not applying correction\n",
      "\u001b[1;32m[INFO]    ::\u001b[0m File written to: manu1d_4713_5394_stack.fits\n",
      "\u001b[1;32m[INFO]    ::\u001b[0m Coadding complete\n"
     ]
    },
    {
     "name": "stdout",
     "output_type": "stream",
     "text": [
      "Writing the parameters to coadd1d.par\n"
     ]
    },
    {
     "name": "stderr",
     "output_type": "stream",
     "text": [
      "mv: rename manu1d_4713_5394_stack.fits to ./data-release-2/reduced_spec_msaexp_pypeit/: No such file or directory\n",
      "cp: /Users/minghao/Research/Projects/JWST/ID4713_add/reduction/msaexp_pypeit/jw04713002001_msaexp/Science_coadd//spec1d_jw04713002001_03101_00002_nrs1_nsclean-jw04713002001_03101_00003_nrs1_nsclean-4713_16890.fits: No such file or directory\n",
      "\u001b[1;32m[INFO]    ::\u001b[0m Loading the reduction file\n",
      "\u001b[1;32m[INFO]    ::\u001b[0m Coadd1D input file loaded successfully.\n",
      "\u001b[1;31m[WARNING] ::\u001b[0m Selected configuration file already exists and will be overwritten!\n",
      "\u001b[1;32m[INFO]    ::\u001b[0m Using a sn_smooth_npix=91 to decide how to scale and weight your spectra\n",
      "\u001b[1;32m[INFO]    ::\u001b[0m Computing weights with weight_method=auto\n",
      "\u001b[1;32m[INFO]    ::\u001b[0m Using constant weights for coadding, S/N = 0.02, weight = 0.01 for 0th exposure\n",
      "\u001b[1;31m[WARNING] ::\u001b[0m Error renormalization found correction factor sigma_corr = 0.058516 < 1.\n",
      "              Errors are overestimated so not applying correction\n",
      "\u001b[1;32m[INFO]    ::\u001b[0m File written to: manu1d_4713_16890_stack.fits\n",
      "\u001b[1;32m[INFO]    ::\u001b[0m Coadding complete\n"
     ]
    },
    {
     "name": "stdout",
     "output_type": "stream",
     "text": [
      "Writing the parameters to coadd1d.par\n"
     ]
    },
    {
     "name": "stderr",
     "output_type": "stream",
     "text": [
      "mv: rename manu1d_4713_16890_stack.fits to ./data-release-2/reduced_spec_msaexp_pypeit/: No such file or directory\n",
      "cp: /Users/minghao/Research/Projects/JWST/ID4713_add/reduction/msaexp_pypeit/jw04713002001_msaexp/Science_coadd//spec1d_jw04713002001_03101_00002_nrs1_nsclean-jw04713002001_03101_00003_nrs1_nsclean-4713_3851.fits: No such file or directory\n",
      "\u001b[1;32m[INFO]    ::\u001b[0m Loading the reduction file\n",
      "\u001b[1;32m[INFO]    ::\u001b[0m Coadd1D input file loaded successfully.\n",
      "\u001b[1;31m[WARNING] ::\u001b[0m Selected configuration file already exists and will be overwritten!\n",
      "\u001b[1;32m[INFO]    ::\u001b[0m Using a sn_smooth_npix=92 to decide how to scale and weight your spectra\n",
      "\u001b[1;32m[INFO]    ::\u001b[0m Computing weights with weight_method=auto\n",
      "\u001b[1;32m[INFO]    ::\u001b[0m Using constant weights for coadding, S/N = 0.21, weight = 0.04 for 0th exposure\n",
      "\u001b[1;31m[WARNING] ::\u001b[0m Error renormalization found correction factor sigma_corr = 0.206158 < 1.\n",
      "              Errors are overestimated so not applying correction\n",
      "\u001b[1;32m[INFO]    ::\u001b[0m File written to: manu1d_4713_3851_stack.fits\n",
      "\u001b[1;32m[INFO]    ::\u001b[0m Coadding complete\n"
     ]
    },
    {
     "name": "stdout",
     "output_type": "stream",
     "text": [
      "Writing the parameters to coadd1d.par\n"
     ]
    },
    {
     "name": "stderr",
     "output_type": "stream",
     "text": [
      "mv: rename manu1d_4713_3851_stack.fits to ./data-release-2/reduced_spec_msaexp_pypeit/: No such file or directory\n",
      "cp: /Users/minghao/Research/Projects/JWST/ID4713_add/reduction/msaexp_pypeit/jw04713002001_msaexp/Science_coadd//spec1d_jw04713002001_03101_00002_nrs1_nsclean-jw04713002001_03101_00003_nrs1_nsclean-4713_4080.fits: No such file or directory\n",
      "\u001b[1;32m[INFO]    ::\u001b[0m Loading the reduction file\n",
      "\u001b[1;32m[INFO]    ::\u001b[0m Coadd1D input file loaded successfully.\n",
      "\u001b[1;31m[WARNING] ::\u001b[0m Selected configuration file already exists and will be overwritten!\n",
      "\u001b[1;32m[INFO]    ::\u001b[0m Using a sn_smooth_npix=92 to decide how to scale and weight your spectra\n",
      "\u001b[1;32m[INFO]    ::\u001b[0m Computing weights with weight_method=auto\n",
      "\u001b[1;32m[INFO]    ::\u001b[0m Using constant weights for coadding, S/N = 0.07, weight = 0.01 for 0th exposure\n",
      "\u001b[1;31m[WARNING] ::\u001b[0m Error renormalization found correction factor sigma_corr = 0.160030 < 1.\n",
      "              Errors are overestimated so not applying correction\n",
      "\u001b[1;32m[INFO]    ::\u001b[0m File written to: manu1d_4713_4080_stack.fits\n",
      "\u001b[1;32m[INFO]    ::\u001b[0m Coadding complete\n"
     ]
    },
    {
     "name": "stdout",
     "output_type": "stream",
     "text": [
      "Writing the parameters to coadd1d.par\n"
     ]
    },
    {
     "name": "stderr",
     "output_type": "stream",
     "text": [
      "mv: rename manu1d_4713_4080_stack.fits to ./data-release-2/reduced_spec_msaexp_pypeit/: No such file or directory\n",
      "cp: /Users/minghao/Research/Projects/JWST/ID4713_add/reduction/msaexp_pypeit/jw04713002001_msaexp/Science_coadd//spec1d_jw04713002001_03101_00002_nrs1_nsclean-jw04713002001_03101_00003_nrs1_nsclean-4713_4032.fits: No such file or directory\n",
      "\u001b[1;32m[INFO]    ::\u001b[0m Loading the reduction file\n",
      "\u001b[1;32m[INFO]    ::\u001b[0m Coadd1D input file loaded successfully.\n",
      "\u001b[1;31m[WARNING] ::\u001b[0m Selected configuration file already exists and will be overwritten!\n",
      "\u001b[1;32m[INFO]    ::\u001b[0m Using a sn_smooth_npix=92 to decide how to scale and weight your spectra\n",
      "\u001b[1;32m[INFO]    ::\u001b[0m Computing weights with weight_method=auto\n",
      "\u001b[1;32m[INFO]    ::\u001b[0m Using constant weights for coadding, S/N = 0.03, weight = 0.01 for 0th exposure\n",
      "\u001b[1;31m[WARNING] ::\u001b[0m Error renormalization found correction factor sigma_corr = 0.097784 < 1.\n",
      "              Errors are overestimated so not applying correction\n",
      "\u001b[1;32m[INFO]    ::\u001b[0m File written to: manu1d_4713_4032_stack.fits\n",
      "\u001b[1;32m[INFO]    ::\u001b[0m Coadding complete\n"
     ]
    },
    {
     "name": "stdout",
     "output_type": "stream",
     "text": [
      "Writing the parameters to coadd1d.par\n"
     ]
    },
    {
     "name": "stderr",
     "output_type": "stream",
     "text": [
      "mv: rename manu1d_4713_4032_stack.fits to ./data-release-2/reduced_spec_msaexp_pypeit/: No such file or directory\n",
      "cp: /Users/minghao/Research/Projects/JWST/ID4713_add/reduction/msaexp_pypeit/jw04713002001_msaexp/Science_coadd//spec1d_jw04713002001_03101_00002_nrs1_nsclean-jw04713002001_03101_00003_nrs1_nsclean-4713_18268.fits: No such file or directory\n",
      "\u001b[1;32m[INFO]    ::\u001b[0m Loading the reduction file\n",
      "\u001b[1;32m[INFO]    ::\u001b[0m Coadd1D input file loaded successfully.\n",
      "\u001b[1;31m[WARNING] ::\u001b[0m Selected configuration file already exists and will be overwritten!\n",
      "\u001b[1;32m[INFO]    ::\u001b[0m Using a sn_smooth_npix=77 to decide how to scale and weight your spectra\n",
      "\u001b[1;32m[INFO]    ::\u001b[0m Computing weights with weight_method=auto\n",
      "\u001b[1;32m[INFO]    ::\u001b[0m Using constant weights for coadding, S/N = 0.09, weight = 0.01 for 0th exposure\n",
      "\u001b[1;31m[WARNING] ::\u001b[0m Error renormalization found correction factor sigma_corr = 0.046407 < 1.\n",
      "              Errors are overestimated so not applying correction\n",
      "\u001b[1;32m[INFO]    ::\u001b[0m File written to: manu1d_4713_18268_stack.fits\n",
      "\u001b[1;32m[INFO]    ::\u001b[0m Coadding complete\n"
     ]
    },
    {
     "name": "stdout",
     "output_type": "stream",
     "text": [
      "Writing the parameters to coadd1d.par\n"
     ]
    },
    {
     "name": "stderr",
     "output_type": "stream",
     "text": [
      "mv: rename manu1d_4713_18268_stack.fits to ./data-release-2/reduced_spec_msaexp_pypeit/: No such file or directory\n",
      "cp: /Users/minghao/Research/Projects/JWST/ID4713_add/reduction/msaexp_pypeit/jw04713002001_msaexp/Science_coadd//spec1d_jw04713002001_03101_00002_nrs1_nsclean-jw04713002001_03101_00003_nrs1_nsclean-4713_16019.fits: No such file or directory\n",
      "\u001b[1;32m[INFO]    ::\u001b[0m Loading the reduction file\n",
      "\u001b[1;32m[INFO]    ::\u001b[0m Coadd1D input file loaded successfully.\n",
      "\u001b[1;31m[WARNING] ::\u001b[0m Selected configuration file already exists and will be overwritten!\n",
      "\u001b[1;32m[INFO]    ::\u001b[0m Using a sn_smooth_npix=91 to decide how to scale and weight your spectra\n",
      "\u001b[1;32m[INFO]    ::\u001b[0m Computing weights with weight_method=auto\n",
      "\u001b[1;32m[INFO]    ::\u001b[0m Using constant weights for coadding, S/N = 0.04, weight = 0.01 for 0th exposure\n",
      "\u001b[1;31m[WARNING] ::\u001b[0m Error renormalization found correction factor sigma_corr = 0.176880 < 1.\n",
      "              Errors are overestimated so not applying correction\n",
      "\u001b[1;32m[INFO]    ::\u001b[0m File written to: manu1d_4713_16019_stack.fits\n",
      "\u001b[1;32m[INFO]    ::\u001b[0m Coadding complete\n"
     ]
    },
    {
     "name": "stdout",
     "output_type": "stream",
     "text": [
      "Writing the parameters to coadd1d.par\n"
     ]
    },
    {
     "name": "stderr",
     "output_type": "stream",
     "text": [
      "mv: rename manu1d_4713_16019_stack.fits to ./data-release-2/reduced_spec_msaexp_pypeit/: No such file or directory\n",
      "cp: /Users/minghao/Research/Projects/JWST/ID4713_add/reduction/msaexp_pypeit/jw04713002001_msaexp/Science_coadd//spec1d_jw04713002001_03101_00002_nrs1_nsclean-jw04713002001_03101_00003_nrs1_nsclean-4713_3241.fits: No such file or directory\n",
      "\u001b[1;32m[INFO]    ::\u001b[0m Loading the reduction file\n",
      "\u001b[1;32m[INFO]    ::\u001b[0m Coadd1D input file loaded successfully.\n",
      "\u001b[1;31m[WARNING] ::\u001b[0m Selected configuration file already exists and will be overwritten!\n",
      "\u001b[1;32m[INFO]    ::\u001b[0m Using a sn_smooth_npix=92 to decide how to scale and weight your spectra\n",
      "\u001b[1;32m[INFO]    ::\u001b[0m Computing weights with weight_method=auto\n",
      "\u001b[1;32m[INFO]    ::\u001b[0m Using constant weights for coadding, S/N = 0.02, weight = 0.01 for 0th exposure\n",
      "\u001b[1;31m[WARNING] ::\u001b[0m Error renormalization found correction factor sigma_corr = 0.072480 < 1.\n",
      "              Errors are overestimated so not applying correction\n",
      "\u001b[1;32m[INFO]    ::\u001b[0m File written to: manu1d_4713_3241_stack.fits\n",
      "\u001b[1;32m[INFO]    ::\u001b[0m Coadding complete\n"
     ]
    },
    {
     "name": "stdout",
     "output_type": "stream",
     "text": [
      "Writing the parameters to coadd1d.par\n"
     ]
    },
    {
     "name": "stderr",
     "output_type": "stream",
     "text": [
      "mv: rename manu1d_4713_3241_stack.fits to ./data-release-2/reduced_spec_msaexp_pypeit/: No such file or directory\n",
      "cp: /Users/minghao/Research/Projects/JWST/ID4713_add/reduction/msaexp_pypeit/jw04713002001_msaexp/Science_coadd//spec1d_jw04713002001_03101_00002_nrs1_nsclean-jw04713002001_03101_00003_nrs1_nsclean-4713_17651.fits: No such file or directory\n",
      "\u001b[1;32m[INFO]    ::\u001b[0m Loading the reduction file\n",
      "\u001b[1;32m[INFO]    ::\u001b[0m Coadd1D input file loaded successfully.\n",
      "\u001b[1;31m[WARNING] ::\u001b[0m Selected configuration file already exists and will be overwritten!\n",
      "\u001b[1;32m[INFO]    ::\u001b[0m Using a sn_smooth_npix=91 to decide how to scale and weight your spectra\n",
      "\u001b[1;32m[INFO]    ::\u001b[0m Computing weights with weight_method=auto\n",
      "\u001b[1;32m[INFO]    ::\u001b[0m Using constant weights for coadding, S/N = 0.03, weight = 0.01 for 0th exposure\n",
      "\u001b[1;31m[WARNING] ::\u001b[0m Error renormalization found correction factor sigma_corr = 0.169904 < 1.\n",
      "              Errors are overestimated so not applying correction\n",
      "\u001b[1;32m[INFO]    ::\u001b[0m File written to: manu1d_4713_17651_stack.fits\n",
      "\u001b[1;32m[INFO]    ::\u001b[0m Coadding complete\n"
     ]
    },
    {
     "name": "stdout",
     "output_type": "stream",
     "text": [
      "Writing the parameters to coadd1d.par\n"
     ]
    },
    {
     "name": "stderr",
     "output_type": "stream",
     "text": [
      "mv: rename manu1d_4713_17651_stack.fits to ./data-release-2/reduced_spec_msaexp_pypeit/: No such file or directory\n",
      "cp: /Users/minghao/Research/Projects/JWST/ID4713_add/reduction/msaexp_pypeit/jw04713002001_msaexp/Science_coadd//spec1d_jw04713002001_03101_00002_nrs1_nsclean-jw04713002001_03101_00003_nrs1_nsclean-4713_7744.fits: No such file or directory\n",
      "\u001b[1;32m[INFO]    ::\u001b[0m Loading the reduction file\n",
      "\u001b[1;32m[INFO]    ::\u001b[0m Coadd1D input file loaded successfully.\n",
      "\u001b[1;31m[WARNING] ::\u001b[0m Selected configuration file already exists and will be overwritten!\n",
      "\u001b[1;32m[INFO]    ::\u001b[0m Using a sn_smooth_npix=91 to decide how to scale and weight your spectra\n",
      "\u001b[1;32m[INFO]    ::\u001b[0m Computing weights with weight_method=auto\n",
      "\u001b[1;32m[INFO]    ::\u001b[0m Using constant weights for coadding, S/N = 0.04, weight = 0.01 for 0th exposure\n",
      "\u001b[1;31m[WARNING] ::\u001b[0m Error renormalization found correction factor sigma_corr = 0.098194 < 1.\n",
      "              Errors are overestimated so not applying correction\n",
      "\u001b[1;32m[INFO]    ::\u001b[0m File written to: manu1d_4713_7744_stack.fits\n",
      "\u001b[1;32m[INFO]    ::\u001b[0m Coadding complete\n"
     ]
    },
    {
     "name": "stdout",
     "output_type": "stream",
     "text": [
      "Writing the parameters to coadd1d.par\n"
     ]
    },
    {
     "name": "stderr",
     "output_type": "stream",
     "text": [
      "mv: rename manu1d_4713_7744_stack.fits to ./data-release-2/reduced_spec_msaexp_pypeit/: No such file or directory\n",
      "cp: /Users/minghao/Research/Projects/JWST/ID4713_add/reduction/msaexp_pypeit/jw04713002001_msaexp/Science_coadd//spec1d_jw04713002001_03101_00002_nrs1_nsclean-jw04713002001_03101_00003_nrs1_nsclean-4713_8514.fits: No such file or directory\n",
      "\u001b[1;32m[INFO]    ::\u001b[0m Loading the reduction file\n",
      "\u001b[1;32m[INFO]    ::\u001b[0m Coadd1D input file loaded successfully.\n",
      "\u001b[1;31m[WARNING] ::\u001b[0m Selected configuration file already exists and will be overwritten!\n",
      "\u001b[1;32m[INFO]    ::\u001b[0m Using a sn_smooth_npix=91 to decide how to scale and weight your spectra\n",
      "\u001b[1;32m[INFO]    ::\u001b[0m Computing weights with weight_method=auto\n",
      "\u001b[1;32m[INFO]    ::\u001b[0m Using constant weights for coadding, S/N = 0.01, weight = 0.01 for 0th exposure\n",
      "\u001b[1;31m[WARNING] ::\u001b[0m Error renormalization found correction factor sigma_corr = 0.139100 < 1.\n",
      "              Errors are overestimated so not applying correction\n",
      "\u001b[1;32m[INFO]    ::\u001b[0m File written to: manu1d_4713_8514_stack.fits\n",
      "\u001b[1;32m[INFO]    ::\u001b[0m Coadding complete\n"
     ]
    },
    {
     "name": "stdout",
     "output_type": "stream",
     "text": [
      "Writing the parameters to coadd1d.par\n"
     ]
    },
    {
     "name": "stderr",
     "output_type": "stream",
     "text": [
      "mv: rename manu1d_4713_8514_stack.fits to ./data-release-2/reduced_spec_msaexp_pypeit/: No such file or directory\n",
      "cp: /Users/minghao/Research/Projects/JWST/ID4713_add/reduction/msaexp_pypeit/jw04713002001_msaexp/Science_coadd//spec1d_jw04713002001_03101_00002_nrs1_nsclean-jw04713002001_03101_00003_nrs1_nsclean-4713_9589.fits: No such file or directory\n",
      "\u001b[1;32m[INFO]    ::\u001b[0m Loading the reduction file\n",
      "\u001b[1;32m[INFO]    ::\u001b[0m Coadd1D input file loaded successfully.\n",
      "\u001b[1;31m[WARNING] ::\u001b[0m Selected configuration file already exists and will be overwritten!\n",
      "\u001b[1;32m[INFO]    ::\u001b[0m Using a sn_smooth_npix=88 to decide how to scale and weight your spectra\n",
      "\u001b[1;32m[INFO]    ::\u001b[0m Computing weights with weight_method=auto\n",
      "\u001b[1;32m[INFO]    ::\u001b[0m Using constant weights for coadding, S/N = 0.07, weight = 0.01 for 0th exposure\n",
      "\u001b[1;31m[WARNING] ::\u001b[0m Error renormalization found correction factor sigma_corr = 0.197880 < 1.\n",
      "              Errors are overestimated so not applying correction\n",
      "\u001b[1;31m[WARNING] ::\u001b[0m Error renormalization found correction factor sigma_corr = 0.197584 < 1.\n",
      "              Errors are overestimated so not applying correction\n",
      "\u001b[1;31m[WARNING] ::\u001b[0m Error renormalization found correction factor sigma_corr = 0.197880 < 1.\n",
      "              Errors are overestimated so not applying correction\n",
      "\u001b[1;31m[WARNING] ::\u001b[0m Error renormalization found correction factor sigma_corr = 0.197584 < 1.\n",
      "              Errors are overestimated so not applying correction\n",
      "\u001b[1;31m[WARNING] ::\u001b[0m Error renormalization found correction factor sigma_corr = 0.197880 < 1.\n",
      "              Errors are overestimated so not applying correction\n",
      "\u001b[1;31m[WARNING] ::\u001b[0m Maximum number of iterations maxiter=5 reached in spec_reject_comb\n",
      "\u001b[1;32m[INFO]    ::\u001b[0m File written to: manu1d_4713_9589_stack.fits\n",
      "\u001b[1;32m[INFO]    ::\u001b[0m Coadding complete\n"
     ]
    },
    {
     "name": "stdout",
     "output_type": "stream",
     "text": [
      "Writing the parameters to coadd1d.par\n"
     ]
    },
    {
     "name": "stderr",
     "output_type": "stream",
     "text": [
      "mv: rename manu1d_4713_9589_stack.fits to ./data-release-2/reduced_spec_msaexp_pypeit/: No such file or directory\n",
      "cp: /Users/minghao/Research/Projects/JWST/ID4713_add/reduction/msaexp_pypeit/jw04713002001_msaexp/Science_coadd//spec1d_jw04713002001_03101_00002_nrs1_nsclean-jw04713002001_03101_00003_nrs1_nsclean-4713_812.fits: No such file or directory\n",
      "\u001b[1;32m[INFO]    ::\u001b[0m Loading the reduction file\n",
      "\u001b[1;32m[INFO]    ::\u001b[0m Coadd1D input file loaded successfully.\n",
      "\u001b[1;31m[WARNING] ::\u001b[0m Selected configuration file already exists and will be overwritten!\n",
      "\u001b[1;32m[INFO]    ::\u001b[0m Using a sn_smooth_npix=89 to decide how to scale and weight your spectra\n",
      "\u001b[1;32m[INFO]    ::\u001b[0m Computing weights with weight_method=auto\n",
      "\u001b[1;32m[INFO]    ::\u001b[0m Using constant weights for coadding, S/N = 0.02, weight = 0.01 for 0th exposure\n",
      "\u001b[1;31m[WARNING] ::\u001b[0m Error renormalization found correction factor sigma_corr = 0.161768 < 1.\n",
      "              Errors are overestimated so not applying correction\n",
      "\u001b[1;32m[INFO]    ::\u001b[0m File written to: manu1d_4713_812_stack.fits\n",
      "\u001b[1;32m[INFO]    ::\u001b[0m Coadding complete\n"
     ]
    },
    {
     "name": "stdout",
     "output_type": "stream",
     "text": [
      "Writing the parameters to coadd1d.par\n"
     ]
    },
    {
     "name": "stderr",
     "output_type": "stream",
     "text": [
      "mv: rename manu1d_4713_812_stack.fits to ./data-release-2/reduced_spec_msaexp_pypeit/: No such file or directory\n",
      "cp: /Users/minghao/Research/Projects/JWST/ID4713_add/reduction/msaexp_pypeit/jw04713002001_msaexp/Science_coadd//spec1d_jw04713002001_03101_00002_nrs1_nsclean-jw04713002001_03101_00003_nrs1_nsclean-4713_9463.fits: No such file or directory\n",
      "\u001b[1;32m[INFO]    ::\u001b[0m Loading the reduction file\n",
      "\u001b[1;32m[INFO]    ::\u001b[0m Coadd1D input file loaded successfully.\n",
      "\u001b[1;31m[WARNING] ::\u001b[0m Selected configuration file already exists and will be overwritten!\n",
      "\u001b[1;32m[INFO]    ::\u001b[0m Using a sn_smooth_npix=84 to decide how to scale and weight your spectra\n",
      "\u001b[1;32m[INFO]    ::\u001b[0m Computing weights with weight_method=auto\n",
      "\u001b[1;32m[INFO]    ::\u001b[0m Using constant weights for coadding, S/N = 0.04, weight = 0.01 for 0th exposure\n",
      "\u001b[1;31m[WARNING] ::\u001b[0m Error renormalization found correction factor sigma_corr = 0.186314 < 1.\n",
      "              Errors are overestimated so not applying correction\n",
      "\u001b[1;32m[INFO]    ::\u001b[0m File written to: manu1d_4713_9463_stack.fits\n",
      "\u001b[1;32m[INFO]    ::\u001b[0m Coadding complete\n"
     ]
    },
    {
     "name": "stdout",
     "output_type": "stream",
     "text": [
      "Writing the parameters to coadd1d.par\n"
     ]
    },
    {
     "name": "stderr",
     "output_type": "stream",
     "text": [
      "mv: rename manu1d_4713_9463_stack.fits to ./data-release-2/reduced_spec_msaexp_pypeit/: No such file or directory\n",
      "cp: /Users/minghao/Research/Projects/JWST/ID4713_add/reduction/msaexp_pypeit/jw04713002001_msaexp/Science_coadd//spec1d_jw04713002001_03101_00002_nrs1_nsclean-jw04713002001_03101_00003_nrs1_nsclean-4713_7248.fits: No such file or directory\n",
      "\u001b[1;32m[INFO]    ::\u001b[0m Loading the reduction file\n",
      "\u001b[1;32m[INFO]    ::\u001b[0m Coadd1D input file loaded successfully.\n",
      "\u001b[1;31m[WARNING] ::\u001b[0m Selected configuration file already exists and will be overwritten!\n",
      "\u001b[1;32m[INFO]    ::\u001b[0m Using a sn_smooth_npix=77 to decide how to scale and weight your spectra\n",
      "\u001b[1;32m[INFO]    ::\u001b[0m Computing weights with weight_method=auto\n",
      "\u001b[1;32m[INFO]    ::\u001b[0m Using constant weights for coadding, S/N = 0.03, weight = 0.01 for 0th exposure\n",
      "\u001b[1;31m[WARNING] ::\u001b[0m Error renormalization found correction factor sigma_corr = 0.056574 < 1.\n",
      "              Errors are overestimated so not applying correction\n",
      "\u001b[1;32m[INFO]    ::\u001b[0m File written to: manu1d_4713_7248_stack.fits\n",
      "\u001b[1;32m[INFO]    ::\u001b[0m Coadding complete\n"
     ]
    },
    {
     "name": "stdout",
     "output_type": "stream",
     "text": [
      "Writing the parameters to coadd1d.par\n"
     ]
    },
    {
     "name": "stderr",
     "output_type": "stream",
     "text": [
      "mv: rename manu1d_4713_7248_stack.fits to ./data-release-2/reduced_spec_msaexp_pypeit/: No such file or directory\n",
      "cp: /Users/minghao/Research/Projects/JWST/ID4713_add/reduction/msaexp_pypeit/jw04713002001_msaexp/Science_coadd//spec1d_jw04713002001_03101_00002_nrs1_nsclean-jw04713002001_03101_00003_nrs1_nsclean-4713_999999.fits: No such file or directory\n",
      "\u001b[1;32m[INFO]    ::\u001b[0m Loading the reduction file\n",
      "\u001b[1;32m[INFO]    ::\u001b[0m Coadd1D input file loaded successfully.\n",
      "\u001b[1;31m[WARNING] ::\u001b[0m Selected configuration file already exists and will be overwritten!\n",
      "\u001b[1;32m[INFO]    ::\u001b[0m Using a sn_smooth_npix=77 to decide how to scale and weight your spectra\n",
      "\u001b[1;32m[INFO]    ::\u001b[0m Computing weights with weight_method=auto\n",
      "\u001b[1;32m[INFO]    ::\u001b[0m Using constant weights for coadding, S/N = 0.03, weight = 0.01 for 0th exposure\n",
      "\u001b[1;31m[WARNING] ::\u001b[0m Error renormalization found correction factor sigma_corr = 0.079275 < 1.\n",
      "              Errors are overestimated so not applying correction\n",
      "\u001b[1;32m[INFO]    ::\u001b[0m File written to: manu1d_4713_999999_stack.fits\n",
      "\u001b[1;32m[INFO]    ::\u001b[0m Coadding complete\n"
     ]
    },
    {
     "name": "stdout",
     "output_type": "stream",
     "text": [
      "Writing the parameters to coadd1d.par\n"
     ]
    },
    {
     "name": "stderr",
     "output_type": "stream",
     "text": [
      "mv: rename manu1d_4713_999999_stack.fits to ./data-release-2/reduced_spec_msaexp_pypeit/: No such file or directory\n",
      "cp: /Users/minghao/Research/Projects/JWST/ID4713_add/reduction/msaexp_pypeit/jw04713002001_msaexp/Science_coadd//spec1d_jw04713002001_03101_00002_nrs1_nsclean-jw04713002001_03101_00003_nrs1_nsclean-4713_12102.fits: No such file or directory\n",
      "\u001b[1;32m[INFO]    ::\u001b[0m Loading the reduction file\n",
      "\u001b[1;32m[INFO]    ::\u001b[0m Coadd1D input file loaded successfully.\n",
      "\u001b[1;31m[WARNING] ::\u001b[0m Selected configuration file already exists and will be overwritten!\n",
      "\u001b[1;32m[INFO]    ::\u001b[0m Using a sn_smooth_npix=77 to decide how to scale and weight your spectra\n",
      "\u001b[1;32m[INFO]    ::\u001b[0m Computing weights with weight_method=auto\n",
      "\u001b[1;32m[INFO]    ::\u001b[0m Using constant weights for coadding, S/N = 0.05, weight = 0.01 for 0th exposure\n",
      "\u001b[1;31m[WARNING] ::\u001b[0m Error renormalization found correction factor sigma_corr = 0.164489 < 1.\n",
      "              Errors are overestimated so not applying correction\n",
      "\u001b[1;32m[INFO]    ::\u001b[0m File written to: manu1d_4713_12102_stack.fits\n",
      "\u001b[1;32m[INFO]    ::\u001b[0m Coadding complete\n"
     ]
    },
    {
     "name": "stdout",
     "output_type": "stream",
     "text": [
      "Writing the parameters to coadd1d.par\n"
     ]
    },
    {
     "name": "stderr",
     "output_type": "stream",
     "text": [
      "mv: rename manu1d_4713_12102_stack.fits to ./data-release-2/reduced_spec_msaexp_pypeit/: No such file or directory\n",
      "\u001b[1;32m[INFO]    ::\u001b[0m Loading the reduction file\n",
      "\u001b[1;32m[INFO]    ::\u001b[0m Coadd1D input file loaded successfully.\n",
      "\u001b[1;31m[WARNING] ::\u001b[0m Selected configuration file already exists and will be overwritten!\n",
      "\u001b[1;32m[INFO]    ::\u001b[0m Using a sn_smooth_npix=77 to decide how to scale and weight your spectra\n",
      "\u001b[1;32m[INFO]    ::\u001b[0m Computing weights with weight_method=auto\n",
      "\u001b[1;32m[INFO]    ::\u001b[0m Using constant weights for coadding, S/N = 0.64, weight = 0.41 for 0th exposure\n",
      "\u001b[1;31m[WARNING] ::\u001b[0m Error renormalization found correction factor sigma_corr = 0.023474 < 1.\n",
      "              Errors are overestimated so not applying correction\n",
      "\u001b[1;32m[INFO]    ::\u001b[0m File written to: spec1d_4713_10086_stack.fits\n",
      "\u001b[1;32m[INFO]    ::\u001b[0m Coadding complete\n"
     ]
    },
    {
     "name": "stdout",
     "output_type": "stream",
     "text": [
      "Writing the parameters to coadd1d.par\n"
     ]
    },
    {
     "name": "stderr",
     "output_type": "stream",
     "text": [
      "mv: rename spec1d_4713_10086_stack.fits to ./data-release-2/reduced_spec_msaexp_pypeit/: No such file or directory\n",
      "\u001b[1;32m[INFO]    ::\u001b[0m Loading the reduction file\n",
      "\u001b[1;32m[INFO]    ::\u001b[0m Coadd1D input file loaded successfully.\n",
      "\u001b[1;31m[WARNING] ::\u001b[0m Selected configuration file already exists and will be overwritten!\n",
      "\u001b[1;32m[INFO]    ::\u001b[0m Using a sn_smooth_npix=77 to decide how to scale and weight your spectra\n",
      "\u001b[1;32m[INFO]    ::\u001b[0m Computing weights with weight_method=auto\n",
      "\u001b[1;32m[INFO]    ::\u001b[0m Using constant weights for coadding, S/N = 0.39, weight = 0.15 for 0th exposure\n",
      "\u001b[1;31m[WARNING] ::\u001b[0m Error renormalization found correction factor sigma_corr = 0.082251 < 1.\n",
      "              Errors are overestimated so not applying correction\n",
      "\u001b[1;32m[INFO]    ::\u001b[0m File written to: manu1d_4713_10086_stack.fits\n",
      "\u001b[1;32m[INFO]    ::\u001b[0m Coadding complete\n"
     ]
    },
    {
     "name": "stdout",
     "output_type": "stream",
     "text": [
      "Writing the parameters to coadd1d.par\n"
     ]
    },
    {
     "name": "stderr",
     "output_type": "stream",
     "text": [
      "mv: rename manu1d_4713_10086_stack.fits to ./data-release-2/reduced_spec_msaexp_pypeit/: No such file or directory\n",
      "cp: /Users/minghao/Research/Projects/JWST/ID4713_add/reduction/msaexp_pypeit/jw04713002001_msaexp/Science_coadd//spec1d_jw04713002001_03101_00002_nrs1_nsclean-jw04713002001_03101_00003_nrs1_nsclean-4713_9172.fits: No such file or directory\n",
      "\u001b[1;32m[INFO]    ::\u001b[0m Loading the reduction file\n",
      "\u001b[1;32m[INFO]    ::\u001b[0m Coadd1D input file loaded successfully.\n",
      "\u001b[1;31m[WARNING] ::\u001b[0m Selected configuration file already exists and will be overwritten!\n",
      "\u001b[1;32m[INFO]    ::\u001b[0m Using a sn_smooth_npix=77 to decide how to scale and weight your spectra\n",
      "\u001b[1;32m[INFO]    ::\u001b[0m Computing weights with weight_method=auto\n",
      "\u001b[1;32m[INFO]    ::\u001b[0m Using constant weights for coadding, S/N = 0.01, weight = 0.01 for 0th exposure\n",
      "\u001b[1;31m[WARNING] ::\u001b[0m Error renormalization found correction factor sigma_corr = 0.090173 < 1.\n",
      "              Errors are overestimated so not applying correction\n",
      "\u001b[1;32m[INFO]    ::\u001b[0m File written to: manu1d_4713_9172_stack.fits\n",
      "\u001b[1;32m[INFO]    ::\u001b[0m Coadding complete\n"
     ]
    },
    {
     "name": "stdout",
     "output_type": "stream",
     "text": [
      "Writing the parameters to coadd1d.par\n"
     ]
    },
    {
     "name": "stderr",
     "output_type": "stream",
     "text": [
      "mv: rename manu1d_4713_9172_stack.fits to ./data-release-2/reduced_spec_msaexp_pypeit/: No such file or directory\n"
     ]
    }
   ],
   "source": [
    "from collections import Counter\n",
    "\n",
    "isources_counter = Counter(masterinfo['isource'])\n",
    "savedir = './msaexp_pypeit/reduced_spec_msaexp_pypeit/'\n",
    "\n",
    "for isource, count in isources_counter.items():\n",
    "    #if not isource=='4713_15612':\n",
    "    #    continue\n",
    "    #else:\n",
    "    #    print(isource)\n",
    "    if count == 1:\n",
    "        #continue\n",
    "        subtbl = masterinfo[masterinfo['isource']==isource]\n",
    "        assert len(subtbl)==1\n",
    "\n",
    "        pointing = subtbl['pointing'][0]\n",
    "        #datadir = f'./msaexp_pypeit/jw0471300100{pointing}_msaexp/Science_coadd'\n",
    "        spec2dfile = subtbl['spec2dlist'][0]\n",
    "        spec1dfile = subtbl['spec1dlist'][0]\n",
    "        manu1dfile = subtbl['manual1dlist'][0]\n",
    "\n",
    "        spec1dlist = [spec1dfile]\n",
    "        manu1dlist = [manu1dfile]\n",
    "\n",
    "        os.system(f'cp {spec2dfile} {savedir}spec2d_{isource}_pointing{pointing}.fits')\n",
    "        os.system(f'cp {spec1dfile} {savedir}spec1d_{isource}_pointing{pointing}.fits')\n",
    "        os.system(f'cp {manu1dfile} {savedir}manu1d_{isource}_pointing{pointing}.fits')\n",
    "\n",
    "        if os.path.exists(spec1dfile):\n",
    "            stack_1dspec(spec1dlist, f'spec1d_{isource}_stack.fits')\n",
    "            os.system(f'mv spec1d_{isource}_stack.fits ./data-release-2/reduced_spec_msaexp_pypeit/')\n",
    "\n",
    "        \n",
    "        stack_1dspec(manu1dlist, f'manu1d_{isource}_stack.fits')\n",
    "        os.system(f'mv manu1d_{isource}_stack.fits ./data-release-2/reduced_spec_msaexp_pypeit/')\n",
    "    else:\n",
    "        print(isource)\n",
    "        #continue\n",
    "        subtbl = masterinfo[masterinfo['isource']==isource]\n",
    "        # perform pypeit stacking\n",
    "        spec1dlist = []\n",
    "        manu1dlist = []\n",
    "        for idx in range(len(subtbl)):\n",
    "            pointing = subtbl['pointing'][idx]\n",
    "            direct = f'./data-release-2/jw0471300100{pointing}_msaexp/Science_coadd/'\n",
    "            \n",
    "            spec2dfile = os.path.abspath(os.path.join(direct, subtbl['spec2dlist'][idx]))\n",
    "            spec1dfile = os.path.abspath(os.path.join(direct, subtbl['spec1dlist'][idx]))\n",
    "            spec1dlist.append(spec1dfile)\n",
    "            manu1dlist.append(spec1dfile.replace('spec1d', 'manual1d'))\n",
    "\n",
    "            os.system(f'cp {spec2dfile} ./data-release-2/reduced_spec_msaexp_pypeit/spec2d_{isource}_pointing{pointing}.fits')\n",
    "            os.system(f'cp {spec1dfile} ./data-release-2/reduced_spec_msaexp_pypeit/spec1d_{isource}_pointing{pointing}.fits')\n",
    "            os.system(f'cp {manu1dfile} ./data-release-2/reduced_spec_msaexp_pypeit/manu1d_{isource}_pointing{pointing}.fits')\n",
    "\n",
    "        if os.path.exists(spec1dlist[0]) and os.path.exists(spec1dlist[1]):\n",
    "            stack_1dspec(spec1dlist, f'spec1d_{isource}_stack.fits')\n",
    "            os.system(f'mv spec1d_{isource}_stack.fits ./data-release-2/reduced_spec_msaexp_pypeit/')\n",
    "        else:\n",
    "            \n",
    "            stack_1dspec(manu1dlist, f'manu1d_{isource}_stack.fits')\n",
    "            os.system(f'mv manu1d_{isource}_stack.fits ./data-release-2/reduced_spec_msaexp_pypeit/')\n",
    "\n",
    "        # copy spec2d \n",
    "        "
   ]
  },
  {
   "cell_type": "markdown",
   "id": "58576107-3469-485e-8b6d-31cd1ebeea7d",
   "metadata": {},
   "source": [
    "At this time, you should have stacked 1d spec (spec1d_{isource}\\_stack.fits), force-extracted 1d spec \"manu1d_{isource}_stack.fits\", and 2d spec for each object in each visit."
   ]
  },
  {
   "cell_type": "code",
   "execution_count": null,
   "id": "702723e0-32cc-448e-968b-50d746104769",
   "metadata": {},
   "outputs": [],
   "source": []
  }
 ],
 "metadata": {
  "kernelspec": {
   "display_name": "Python 3 (ipykernel)",
   "language": "python",
   "name": "python3"
  },
  "language_info": {
   "codemirror_mode": {
    "name": "ipython",
    "version": 3
   },
   "file_extension": ".py",
   "mimetype": "text/x-python",
   "name": "python",
   "nbconvert_exporter": "python",
   "pygments_lexer": "ipython3",
   "version": "3.12.9"
  }
 },
 "nbformat": 4,
 "nbformat_minor": 5
}
