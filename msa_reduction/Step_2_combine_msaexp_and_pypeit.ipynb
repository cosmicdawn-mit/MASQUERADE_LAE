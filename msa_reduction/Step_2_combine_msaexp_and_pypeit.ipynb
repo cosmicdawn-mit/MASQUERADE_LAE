{
 "cells": [
  {
   "cell_type": "markdown",
   "id": "2564f019-33ea-4291-946c-70fb0d1089bb",
   "metadata": {},
   "source": [
    "# Combining msaexp and PypeIt reduction"
   ]
  },
  {
   "cell_type": "code",
   "execution_count": null,
   "id": "f732e5c7-c968-4824-91e8-389595c0c122",
   "metadata": {},
   "outputs": [],
   "source": [
    "import os, sys\n",
    "import numpy as np\n",
    "\n",
    "os.environ[\"CRDS_PATH\"] = \"/Users/myue/Research/Projects/JWST/dependencies/crds_cache/\"\n",
    "os.environ[\"CRDS_SERVER_URL\"] = \"https://jwst-crds.stsci.edu\"\n",
    "\n",
    "from astropy.io import fits"
   ]
  },
  {
   "cell_type": "code",
   "execution_count": null,
   "id": "b4dc8065-0c1d-4f38-88b3-9a7f1a292cd1",
   "metadata": {},
   "outputs": [],
   "source": [
    "DO_NOT_USE = 4"
   ]
  },
  {
   "cell_type": "code",
   "execution_count": null,
   "id": "5cf9335b-1f85-4731-b8d6-c815a43333d3",
   "metadata": {},
   "outputs": [],
   "source": [
    "import os\n",
    "import glob\n",
    "import yaml\n",
    "import warnings\n",
    "import time\n",
    "\n",
    "import numpy as np\n",
    "import matplotlib.pyplot as plt\n",
    "\n",
    "import grizli\n",
    "from grizli import utils, jwst_utils\n",
    "jwst_utils.set_quiet_logging()\n",
    "utils.set_warnings()\n",
    "\n",
    "import astropy.io.fits as pyfits\n",
    "import jwst.datamodels\n",
    "import jwst\n",
    "\n",
    "import mastquery.jwst\n",
    "\n",
    "import msaexp\n",
    "from msaexp import pipeline\n",
    "import msaexp.slit_combine\n",
    "\n",
    "print(f'jwst version = {jwst.__version__}')\n",
    "print(f'grizli version = {grizli.__version__}')\n",
    "print(f'msaexp version = {msaexp.__version__}')\n",
    "\n",
    "plt.rcParams['scatter.marker'] = '.'\n",
    "plt.rcParams['image.origin'] = 'lower'\n",
    "plt.rcParams['image.interpolation'] = 'nearest'\n",
    "plt.rcParams['grid.linestyle'] = ':'"
   ]
  },
  {
   "cell_type": "code",
   "execution_count": null,
   "id": "77a4ce55-c78e-4838-b0e5-7d66db236890",
   "metadata": {},
   "outputs": [],
   "source": [
    "from copy import deepcopy\n",
    "\n",
    "def safe_replace_slice(orig_arr, new_arr, slitslice):\n",
    "    copy_arr = deepcopy(orig_arr)\n",
    "    copy_arr[slitslice] = new_arr\n",
    "    return copy_arr"
   ]
  },
  {
   "cell_type": "markdown",
   "id": "28fe15c3-74b7-4c45-874a-212116444822",
   "metadata": {},
   "source": [
    "# Reduce the spectra with msaexp"
   ]
  },
  {
   "cell_type": "code",
   "execution_count": null,
   "id": "66b9f2a0-c819-4afd-9d27-3604f7390082",
   "metadata": {},
   "outputs": [],
   "source": [
    "group_kws = dict(\n",
    "    diffs=True, # For nod differences\n",
    "    #undo_barshadow=2, # For msaexp barshadow correction\n",
    "    min_bar=0.35, # minimum allowed value for the (inverse) bar shadow correction\n",
    "    position_key=\"y_index\",\n",
    "    trace_with_ypos=True, # Include expected y shutter offset in the trace\n",
    "    trace_from_yoffset=True,\n",
    "    #flag_profile_kwargs=None, # Turn off profile flag\n",
    "    #bad_shutter_names=[-1]\n",
    ")\n",
    "\n",
    "flag_profile_kwargs = dict(require_multiple=True, make_plot=True, grow=2, nfilt=-32)\n",
    "\n",
    "group_kws['diffs'] = True\n",
    "group_kws['flag_profile_kwargs'] = flag_profile_kwargs"
   ]
  },
  {
   "cell_type": "code",
   "execution_count": null,
   "id": "eb49810d-3824-40fd-9c24-f8df4b64f50a",
   "metadata": {},
   "outputs": [],
   "source": [
    "all_reduced_2d = glob.glob('jw04713*_phot.*.4713_*.fits')"
   ]
  },
  {
   "cell_type": "code",
   "execution_count": null,
   "id": "d2469a74-87ff-492a-8b87-b0996e98b7a9",
   "metadata": {},
   "outputs": [],
   "source": [
    "all_objid = []\n",
    "for f in all_reduced_2d:\n",
    "    try:\n",
    "        objid = int(f.split('.')[-2].split('_')[-1])\n",
    "    except ValueError:\n",
    "        continue\n",
    "    if not objid in all_objid:\n",
    "        all_objid.append(objid)"
   ]
  },
  {
   "cell_type": "code",
   "execution_count": null,
   "id": "54af484d-8186-4642-a9ac-ac0f4593c81c",
   "metadata": {},
   "outputs": [],
   "source": [
    "!mkdir xobj_saves"
   ]
  },
  {
   "cell_type": "code",
   "execution_count": null,
   "id": "60ec82ce-9bc2-48ef-a903-57f9b1fa285b",
   "metadata": {},
   "outputs": [],
   "source": [
    "import pickle"
   ]
  },
  {
   "cell_type": "code",
   "execution_count": null,
   "id": "36893626-c970-404d-a519-973b518f62de",
   "metadata": {},
   "outputs": [],
   "source": [
    "def save_xobj(xobj, outdir):\n",
    "    for key in xobj.keys():\n",
    "        slits = xobj[key]['obj'].slits\n",
    "        for index in range(len(xobj[key]['obj'].files)):\n",
    "            filename = xobj[key]['obj'].files[index]\n",
    "\n",
    "            shape = xobj[key]['obj'].shapes[index]\n",
    "            sh = xobj[key]['obj'].sh\n",
    "            hotpix = xobj[key]['obj'].flagged_hot_pixels[index][0].reshape(shape)\n",
    "\n",
    "            # other data need special treatment\n",
    "            slit = slits[index]\n",
    "\n",
    "            data = safe_replace_slice(slit.data, \\\n",
    "                                      xobj[key]['obj'].data[index].reshape(sh),\\\n",
    "                                     slit.slice)\n",
    "            dq = safe_replace_slice(slit.dq, \\\n",
    "                                    xobj[key]['obj'].dq[index].reshape(sh),\\\n",
    "                                     slit.slice)\n",
    "            var_poisson = safe_replace_slice(slit.var_poisson, \\\n",
    "                                             xobj[key]['obj'].var_poisson[index].reshape(sh),\\\n",
    "                                     slit.slice)\n",
    "            var_rnoise = safe_replace_slice(slit.var_rnoise, \\\n",
    "                                            xobj[key]['obj'].var_rnoise[index].reshape(sh),\\\n",
    "                                     slit.slice)\n",
    "            \n",
    "            hotpix[hotpix>0] = DO_NOT_USE\n",
    "            dqall = np.bitwise_or(dq, hotpix)\n",
    "            \n",
    "            # save it\n",
    "            outfile = filename.replace('.fits', 'tmp.fits')\n",
    "            hdu0 = fits.PrimaryHDU()\n",
    "            #SCI, DQ, ERR, WAVELENGTH, BARSHADOW, VAR_POISSON, VAR_RNOISE, VAR_FLAT, PATHLOSS_PS, PATHLOSS_UN\n",
    "            hdu1 = fits.ImageHDU(data=data, name='DATA')\n",
    "            hdu2 = fits.ImageHDU(data=dqall, name='DQ')\n",
    "            hdu3 = fits.ImageHDU(data=var_poisson, name='VAR_POISSON')\n",
    "            hdu4 = fits.ImageHDU(data=var_rnoise, name='VAR_RNOISE')\n",
    "            #hdu5 = fits.ImageHDU(data=WAVELENGTH, name='WAVELENGTH')\n",
    "\n",
    "            hdulist = fits.HDUList([hdu0, hdu1, hdu2, hdu3, hdu4])\n",
    "            \n",
    "            hdulist.writeto(outdir+'/'+outfile, overwrite=True)"
   ]
  },
  {
   "cell_type": "code",
   "execution_count": null,
   "id": "33d83a82-f7f3-4afe-988f-bd8136adf2c7",
   "metadata": {
    "scrolled": true
   },
   "outputs": [],
   "source": [
    "DRIZZLE_KWS = dict(\n",
    "    step=1,\n",
    "    with_pathloss=True,\n",
    "    wave_sample=1.05,\n",
    "    ny=13,\n",
    "    dkws=dict(oversample=16, pixfrac=0.8),\n",
    ")\n",
    "\n",
    "for objid in all_objid:\n",
    "    \n",
    "    files = glob.glob(f'jw*_phot*{objid}.fits')\n",
    "    files.sort()\n",
    "    print(files)\n",
    "    \n",
    "    outroot = 'original%d'%objid\n",
    "    hdul, xobj = msaexp.slit_combine.extract_spectra(\n",
    "                target=str(objid),\n",
    "                root=outroot,\n",
    "                **group_kws,\n",
    "                get_xobj=True,\n",
    "                files=files,\n",
    "                drizzle_kws=DRIZZLE_KWS,\n",
    "                undo_barshadow=2\n",
    "                )\n",
    "\n",
    "    for key in xobj.keys():\n",
    "        save_xobj(xobj, './xobj_saves/')"
   ]
  },
  {
   "cell_type": "markdown",
   "id": "7b69aec4-51b1-4dcc-811c-f401d3069288",
   "metadata": {},
   "source": [
    "# we can now update the cal files, so that PypeIt can read them properly"
   ]
  },
  {
   "cell_type": "code",
   "execution_count": null,
   "id": "420656de-bfd5-4b58-be6b-9c2fb10cdc43",
   "metadata": {},
   "outputs": [],
   "source": [
    "\n",
    "\n",
    "def update_cal_file(calfile, msaexp_out_dir):\n",
    "    # make a backup\n",
    "    calfile_old = calfile.replace('cal', 'calold')\n",
    "    calfile_new = calfile.replace('cal', 'calnew')\n",
    "    os.system('cp %s %s'%(calfile, calfile_old))\n",
    "\n",
    "    hdulist = fits.open(calfile)\n",
    "    for index in range(1, len(hdulist)):\n",
    "        if hdulist[index].header['EXTNAME']=='SCI':\n",
    "            #print(hdulist[index].header.keys)\n",
    "            srcname = hdulist[index].header['SRCNAME']\n",
    "            sltid = hdulist[index].header['SLITID']\n",
    "            #print(srcname, sltid)\n",
    "            \n",
    "            msaexp_tmpfile_root = os.path.basename(calfile).replace('cal.fits', 'phot')+\\\n",
    "                                '.%03d.'%hdulist[index].header['SLITID  ']+\\\n",
    "                                srcname+'tmp.fits'\n",
    "            msaexp_tmpfile = os.path.join(msaexp_out_dir, msaexp_tmpfile_root)\n",
    "            if not os.path.exists(msaexp_tmpfile):\n",
    "                #print(msaexp_tmpfile_root)\n",
    "                continue\n",
    "\n",
    "            else:\n",
    "                msaexp_hdus = fits.open(msaexp_tmpfile)\n",
    "                hdulist[index].data = msaexp_hdus[1].data\n",
    "                hdulist[index+1].data = msaexp_hdus[2].data\n",
    "                hdulist[index+5].data = msaexp_hdus[3].data\n",
    "                hdulist[index+6].data = msaexp_hdus[4].data\n",
    "\n",
    "        else:\n",
    "            continue\n",
    "\n",
    "    hdulist.writeto(calfile_new, overwrite=True)\n",
    "    hdulist.close()"
   ]
  },
  {
   "cell_type": "code",
   "execution_count": null,
   "id": "ef2af744-a5ca-4cb5-87ab-1595dac99a8f",
   "metadata": {},
   "outputs": [],
   "source": [
    "calfiles = glob.glob('./pypeit/jw04713*_cal.fits')\n",
    "calfiles.sort()\n",
    "#len(calfiles)\n",
    "\n",
    "for f in calfiles:\n",
    "    update_cal_file(f, './xobj_saves/')"
   ]
  },
  {
   "cell_type": "markdown",
   "id": "aa9deee8-8289-4604-99ed-e62832b4a828",
   "metadata": {},
   "source": [
    "# OK, now you should be able to run PypeIt reduction for the files (please go to step 3)."
   ]
  },
  {
   "cell_type": "code",
   "execution_count": null,
   "id": "4919ff3b-bdbd-4ede-8627-b47e7f303e25",
   "metadata": {},
   "outputs": [],
   "source": []
  }
 ],
 "metadata": {
  "kernelspec": {
   "display_name": "Python 3 (ipykernel)",
   "language": "python",
   "name": "python3"
  },
  "language_info": {
   "codemirror_mode": {
    "name": "ipython",
    "version": 3
   },
   "file_extension": ".py",
   "mimetype": "text/x-python",
   "name": "python",
   "nbconvert_exporter": "python",
   "pygments_lexer": "ipython3",
   "version": "3.12.9"
  }
 },
 "nbformat": 4,
 "nbformat_minor": 5
}
